{
  "nbformat": 4,
  "nbformat_minor": 0,
  "metadata": {
    "colab": {
      "provenance": [],
      "authorship_tag": "ABX9TyODK5qz4CuimO+d7CmS9tnc",
      "include_colab_link": true
    },
    "kernelspec": {
      "name": "ir",
      "display_name": "R"
    },
    "language_info": {
      "name": "R"
    }
  },
  "cells": [
    {
      "cell_type": "markdown",
      "metadata": {
        "id": "view-in-github",
        "colab_type": "text"
      },
      "source": [
        "<a href=\"https://colab.research.google.com/github/ednavivianasegura/ERAP_Curso_R/blob/main/ERAP_R_Course_moduloIII.ipynb\" target=\"_parent\"><img src=\"https://colab.research.google.com/assets/colab-badge.svg\" alt=\"Open In Colab\"/></a>"
      ]
    },
    {
      "cell_type": "markdown",
      "source": [
        "Título: Manipulación de datos con R - Módulo III (Visualización de Datos con ggplot2)\n",
        "\n",
        "Autor(es): Edna Viviana Segura Alvarado - Hans Mauricio Carrillo Hernández\n",
        "\n",
        "Fecha: 2025-06\n",
        "\n",
        "Institución: Universidad de La Rioja"
      ],
      "metadata": {
        "id": "Xw_P5Z7q8v5W"
      }
    },
    {
      "cell_type": "markdown",
      "source": [
        "# ¿Qué es ggplot2?\n",
        "ggplot2 es un paquete del lenguaje R para crear gráficos de manera declarativa y elegante. Es parte del ecosistema **tidyverse** y está diseñado para generar gráficos a partir de datos organizados en data frames (tibbles o similares) (tidy data).\n",
        "\n",
        "Se basa en la Gramática de los Gráficos (Grammar of Graphics) propuesta por Leland Wilkinson, la cual establece un sistema coherente para construir visualizaciones a partir de componentes independientes que se pueden combinar.\n",
        "\n",
        "A grandes rasgos, se compone de tres elementos:\n",
        "\n",
        "```\n",
        "ggplot(data = <datos>) +\n",
        "  aes(x = <var_x>, y = <var_y>) +\n",
        "  geom_<tipo>() +\n",
        "  otros_componentes()\n",
        "\n",
        "```\n",
        "\n",
        "- El conjunto de datos.\n",
        "- La estética o atributos-propiedades visuales de la geometría (**aes()**):\n",
        "\n",
        "Define cómo se *mapean* las variables de los datos a propiedades visuales del gráfico: posición en los ejes, color, forma, tamaño, etc. No dibuja nada por sí misma, solo establece qué variable va en qué parte del gráfico, lo que crea es el **lienzo**.\n",
        "\n",
        "Por ejemplo:\n",
        "```\n",
        "aes(x = displ, y = hwy)\n",
        "```\n",
        "\n",
        "Nos está diciendo que la variable **displ** (cilindrada del motor) irá en el eje **x** y **hwy** (rendimiento en autopista) irá en el eje **y**.\n",
        "\n",
        "\n",
        "Valores estéticos comunes:\n",
        "| Estética        | ¿Dónde se aplica?        | Tipo de variable    | Descripción                                                                                                                                                                                    |\n",
        "| --------------- | ------------------------ | ------------------- | ---------------------------------------------------------------------------------------------------------------------------------------------------------------------------------------------- |\n",
        "| **`color`**     | Bordes (líneas, puntos)  | Discreta o continua | Define el **color del contorno** de los elementos gráficos, como puntos o líneas. En variables categóricas, genera una paleta automática; en variables continuas, crea un gradiente.           |\n",
        "| **`fill`**      | Áreas (barras, cajas...) | Discreta o continua | Controla el **color de relleno** de formas cerradas: barras, cajas, polígonos. Muy útil en `geom_bar()`, `geom_boxplot()`, `geom_col()`...                                                     |\n",
        "| **`size`**      | Puntos, líneas           | Continua            | Controla el **tamaño de los puntos o el grosor de líneas**. Suele usarse para representar una tercera variable en gráficos de dispersión.                                                      |\n",
        "| **`linewidth`** | Líneas                   | Continua            | Define el **grosor de las líneas** (equivalente a `size`, pero específico para líneas desde `ggplot2` v3.4+). Mejora la claridad al usar líneas múltiples con distintos anchos.                |\n",
        "| **`shape`**     | Puntos (`geom_point`)    | Discreta            | Determina la **forma del punto** (círculo, triángulo, cruz, etc.). Ideal para variables categóricas. Hay 25 formas disponibles, algunas con relleno (`fill`) y otras solo con borde (`color`). |\n",
        "\n",
        "\n",
        "\n",
        "Es importante nota que los valores dentro de aes() deben ser columnas del conjunto de datos.\n",
        "\n",
        "\n",
        "- La geometría de los elementos (**geom_*()**):\n",
        "Es la capa que define qué tipo de gráfico se dibuja: puntos, líneas, barras, cajas, etc. Utiliza las variables mapeadas con aes() para dibujar elementos gráficos.\n",
        "\n",
        "Ejemplo:\n",
        "```\n",
        "geom_point()\n",
        "```\n",
        "Crea un gráfico de dispersión (scatter plot), colocando puntos según los valores de **x** e **y** definidos en aes().\n",
        "\n",
        "Geometrías, que iremos viendo que podemos usar según el o los tipos de variables.\n",
        "\n",
        "| Geometría (`geom_*`)           | Tipo de variable X  | Tipo de variable Y  | Uso común                                           |\n",
        "| ------------------------------ | ------------------- | ------------------- | --------------------------------------------------- |\n",
        "| `geom_point()`                 | Continua o discreta | Continua            | Diagrama de dispersión                              |\n",
        "| `geom_line()`                  | Continua            | Continua            | Serie temporal o curvas                             |\n",
        "| `geom_smooth()`                | Continua            | Continua            | Tendencia o regresión                               |\n",
        "| `geom_bar(stat = \"count\")`     | Discreta            | -                   | Conteo de categorías                                |\n",
        "| `geom_col()`                   | Discreta            | Continua            | Altura basada en valor numérico                     |\n",
        "| `geom_boxplot()`               | Discreta            | Continua            | Comparar distribuciones                             |\n",
        "| `geom_violin()`                | Discreta            | Continua            | Distribuciones suavizadas                           |\n",
        "| `geom_histogram()`             | Continua            | -                   | Distribución de frecuencias                         |\n",
        "| `geom_density()`               | Continua            | -                   | Distribución suavizada                              |\n",
        "| `geom_area()`                  | Continua            | Continua            | Área bajo curva (acumulada)                         |\n",
        "| `geom_jitter()`                | Discreta o continua | Continua            | Puntos dispersos con ruido para evitar solapamiento |\n",
        "| `geom_boxplot()`               | Discreta (x)        | Continua (y)        | Comparación de rangos y medianas                    |\n",
        "| `geom_dotplot()`               | Discreta            | Discreta o continua | Distribución por acumulación de puntos              |\n",
        "| `geom_tile()`                  | Discreta            | Discreta            | Mapa de calor con categorías                        |\n",
        "| `geom_rug()`                   | Continua            | -                   | Indicadores marginales en los ejes                  |\n",
        "| `geom_text()` / `geom_label()` | Discreta o continua | Discreta o continua | Añadir etiquetas a los puntos                       |\n",
        "\n"
      ],
      "metadata": {
        "id": "8_bF7vzz8_dg"
      }
    },
    {
      "cell_type": "code",
      "source": [
        "library(tidyverse)"
      ],
      "metadata": {
        "id": "F53-YILUDZEA",
        "outputId": "7bd8b038-e75f-4bb7-d8fa-92e95e14e524",
        "colab": {
          "base_uri": "https://localhost:8080/",
          "height": 225
        }
      },
      "execution_count": 1,
      "outputs": [
        {
          "output_type": "stream",
          "name": "stderr",
          "text": [
            "── \u001b[1mAttaching core tidyverse packages\u001b[22m ──────────────────────── tidyverse 2.0.0 ──\n",
            "\u001b[32m✔\u001b[39m \u001b[34mdplyr    \u001b[39m 1.1.4     \u001b[32m✔\u001b[39m \u001b[34mreadr    \u001b[39m 2.1.5\n",
            "\u001b[32m✔\u001b[39m \u001b[34mforcats  \u001b[39m 1.0.0     \u001b[32m✔\u001b[39m \u001b[34mstringr  \u001b[39m 1.5.1\n",
            "\u001b[32m✔\u001b[39m \u001b[34mggplot2  \u001b[39m 3.5.2     \u001b[32m✔\u001b[39m \u001b[34mtibble   \u001b[39m 3.2.1\n",
            "\u001b[32m✔\u001b[39m \u001b[34mlubridate\u001b[39m 1.9.4     \u001b[32m✔\u001b[39m \u001b[34mtidyr    \u001b[39m 1.3.1\n",
            "\u001b[32m✔\u001b[39m \u001b[34mpurrr    \u001b[39m 1.0.4     \n",
            "── \u001b[1mConflicts\u001b[22m ────────────────────────────────────────── tidyverse_conflicts() ──\n",
            "\u001b[31m✖\u001b[39m \u001b[34mdplyr\u001b[39m::\u001b[32mfilter()\u001b[39m masks \u001b[34mstats\u001b[39m::filter()\n",
            "\u001b[31m✖\u001b[39m \u001b[34mdplyr\u001b[39m::\u001b[32mlag()\u001b[39m    masks \u001b[34mstats\u001b[39m::lag()\n",
            "\u001b[36mℹ\u001b[39m Use the conflicted package (\u001b[3m\u001b[34m<http://conflicted.r-lib.org/>\u001b[39m\u001b[23m) to force all conflicts to become errors\n"
          ]
        },
        {
          "output_type": "display_data",
          "data": {
            "text/plain": [
              "No vignettes or demos or help files found with alias or concept or\n",
              "title matching ‘ggplot2’ using fuzzy matching."
            ]
          },
          "metadata": {}
        }
      ]
    },
    {
      "cell_type": "code",
      "source": [
        "library(ggplot2)\n",
        "?ggplot2"
      ],
      "metadata": {
        "id": "whxVhOuwDyu5"
      },
      "execution_count": 4,
      "outputs": []
    },
    {
      "cell_type": "markdown",
      "source": [
        "Veremos un ejemplo con datos de laboratorio (datos incluídos en la librería ggplo2).\n",
        "\n",
        "**Conjunto de datos: mpg**\n",
        "\n",
        "El dataset mpg proviene del paquete ggplot2 y contiene información sobre el rendimiento de modelos de automóviles en EE.UU., recogida por la Agencia de Protección Ambiental (EPA). Es ideal para aprender a visualizar relaciones entre variables cuantitativas y cualitativas.\n"
      ],
      "metadata": {
        "id": "1nDJ5fzrH5Rz"
      }
    },
    {
      "cell_type": "code",
      "source": [
        "data(mpg)\n",
        "glimpse(mpg)\n",
        "summary(mpg)\n"
      ],
      "metadata": {
        "id": "jLmXORPUIp_w",
        "outputId": "7f052b48-c137-4d59-fe53-c02c20251207",
        "colab": {
          "base_uri": "https://localhost:8080/",
          "height": 607
        }
      },
      "execution_count": 7,
      "outputs": [
        {
          "output_type": "stream",
          "name": "stdout",
          "text": [
            "Rows: 234\n",
            "Columns: 11\n",
            "$ manufacturer \u001b[3m\u001b[90m<chr>\u001b[39m\u001b[23m \"audi\"\u001b[90m, \u001b[39m\"audi\"\u001b[90m, \u001b[39m\"audi\"\u001b[90m, \u001b[39m\"audi\"\u001b[90m, \u001b[39m\"audi\"\u001b[90m, \u001b[39m\"audi\"\u001b[90m, \u001b[39m\"audi\"\u001b[90m, \u001b[39m\"…\n",
            "$ model        \u001b[3m\u001b[90m<chr>\u001b[39m\u001b[23m \"a4\"\u001b[90m, \u001b[39m\"a4\"\u001b[90m, \u001b[39m\"a4\"\u001b[90m, \u001b[39m\"a4\"\u001b[90m, \u001b[39m\"a4\"\u001b[90m, \u001b[39m\"a4\"\u001b[90m, \u001b[39m\"a4\"\u001b[90m, \u001b[39m\"a4 quattro\"\u001b[90m, \u001b[39m\"…\n",
            "$ displ        \u001b[3m\u001b[90m<dbl>\u001b[39m\u001b[23m 1.8\u001b[90m, \u001b[39m1.8\u001b[90m, \u001b[39m2.0\u001b[90m, \u001b[39m2.0\u001b[90m, \u001b[39m2.8\u001b[90m, \u001b[39m2.8\u001b[90m, \u001b[39m3.1\u001b[90m, \u001b[39m1.8\u001b[90m, \u001b[39m1.8\u001b[90m, \u001b[39m2.0\u001b[90m, \u001b[39m2.0\u001b[90m, \u001b[39m2.…\n",
            "$ year         \u001b[3m\u001b[90m<int>\u001b[39m\u001b[23m 1999\u001b[90m, \u001b[39m1999\u001b[90m, \u001b[39m2008\u001b[90m, \u001b[39m2008\u001b[90m, \u001b[39m1999\u001b[90m, \u001b[39m1999\u001b[90m, \u001b[39m2008\u001b[90m, \u001b[39m1999\u001b[90m, \u001b[39m1999\u001b[90m, \u001b[39m200…\n",
            "$ cyl          \u001b[3m\u001b[90m<int>\u001b[39m\u001b[23m 4\u001b[90m, \u001b[39m4\u001b[90m, \u001b[39m4\u001b[90m, \u001b[39m4\u001b[90m, \u001b[39m6\u001b[90m, \u001b[39m6\u001b[90m, \u001b[39m6\u001b[90m, \u001b[39m4\u001b[90m, \u001b[39m4\u001b[90m, \u001b[39m4\u001b[90m, \u001b[39m4\u001b[90m, \u001b[39m6\u001b[90m, \u001b[39m6\u001b[90m, \u001b[39m6\u001b[90m, \u001b[39m6\u001b[90m, \u001b[39m6\u001b[90m, \u001b[39m6\u001b[90m, \u001b[39m8\u001b[90m, \u001b[39m8\u001b[90m, \u001b[39m…\n",
            "$ trans        \u001b[3m\u001b[90m<chr>\u001b[39m\u001b[23m \"auto(l5)\"\u001b[90m, \u001b[39m\"manual(m5)\"\u001b[90m, \u001b[39m\"manual(m6)\"\u001b[90m, \u001b[39m\"auto(av)\"\u001b[90m, \u001b[39m\"auto…\n",
            "$ drv          \u001b[3m\u001b[90m<chr>\u001b[39m\u001b[23m \"f\"\u001b[90m, \u001b[39m\"f\"\u001b[90m, \u001b[39m\"f\"\u001b[90m, \u001b[39m\"f\"\u001b[90m, \u001b[39m\"f\"\u001b[90m, \u001b[39m\"f\"\u001b[90m, \u001b[39m\"f\"\u001b[90m, \u001b[39m\"4\"\u001b[90m, \u001b[39m\"4\"\u001b[90m, \u001b[39m\"4\"\u001b[90m, \u001b[39m\"4\"\u001b[90m, \u001b[39m\"4…\n",
            "$ cty          \u001b[3m\u001b[90m<int>\u001b[39m\u001b[23m 18\u001b[90m, \u001b[39m21\u001b[90m, \u001b[39m20\u001b[90m, \u001b[39m21\u001b[90m, \u001b[39m16\u001b[90m, \u001b[39m18\u001b[90m, \u001b[39m18\u001b[90m, \u001b[39m18\u001b[90m, \u001b[39m16\u001b[90m, \u001b[39m20\u001b[90m, \u001b[39m19\u001b[90m, \u001b[39m15\u001b[90m, \u001b[39m17\u001b[90m, \u001b[39m17\u001b[90m, \u001b[39m1…\n",
            "$ hwy          \u001b[3m\u001b[90m<int>\u001b[39m\u001b[23m 29\u001b[90m, \u001b[39m29\u001b[90m, \u001b[39m31\u001b[90m, \u001b[39m30\u001b[90m, \u001b[39m26\u001b[90m, \u001b[39m26\u001b[90m, \u001b[39m27\u001b[90m, \u001b[39m26\u001b[90m, \u001b[39m25\u001b[90m, \u001b[39m28\u001b[90m, \u001b[39m27\u001b[90m, \u001b[39m25\u001b[90m, \u001b[39m25\u001b[90m, \u001b[39m25\u001b[90m, \u001b[39m2…\n",
            "$ fl           \u001b[3m\u001b[90m<chr>\u001b[39m\u001b[23m \"p\"\u001b[90m, \u001b[39m\"p\"\u001b[90m, \u001b[39m\"p\"\u001b[90m, \u001b[39m\"p\"\u001b[90m, \u001b[39m\"p\"\u001b[90m, \u001b[39m\"p\"\u001b[90m, \u001b[39m\"p\"\u001b[90m, \u001b[39m\"p\"\u001b[90m, \u001b[39m\"p\"\u001b[90m, \u001b[39m\"p\"\u001b[90m, \u001b[39m\"p\"\u001b[90m, \u001b[39m\"p…\n",
            "$ class        \u001b[3m\u001b[90m<chr>\u001b[39m\u001b[23m \"compact\"\u001b[90m, \u001b[39m\"compact\"\u001b[90m, \u001b[39m\"compact\"\u001b[90m, \u001b[39m\"compact\"\u001b[90m, \u001b[39m\"compact\"\u001b[90m, \u001b[39m\"c…\n"
          ]
        },
        {
          "output_type": "display_data",
          "data": {
            "text/plain": [
              " manufacturer          model               displ            year     \n",
              " Length:234         Length:234         Min.   :1.600   Min.   :1999  \n",
              " Class :character   Class :character   1st Qu.:2.400   1st Qu.:1999  \n",
              " Mode  :character   Mode  :character   Median :3.300   Median :2004  \n",
              "                                       Mean   :3.472   Mean   :2004  \n",
              "                                       3rd Qu.:4.600   3rd Qu.:2008  \n",
              "                                       Max.   :7.000   Max.   :2008  \n",
              "      cyl           trans               drv                 cty       \n",
              " Min.   :4.000   Length:234         Length:234         Min.   : 9.00  \n",
              " 1st Qu.:4.000   Class :character   Class :character   1st Qu.:14.00  \n",
              " Median :6.000   Mode  :character   Mode  :character   Median :17.00  \n",
              " Mean   :5.889                                         Mean   :16.86  \n",
              " 3rd Qu.:8.000                                         3rd Qu.:19.00  \n",
              " Max.   :8.000                                         Max.   :35.00  \n",
              "      hwy             fl               class          \n",
              " Min.   :12.00   Length:234         Length:234        \n",
              " 1st Qu.:18.00   Class :character   Class :character  \n",
              " Median :24.00   Mode  :character   Mode  :character  \n",
              " Mean   :23.44                                        \n",
              " 3rd Qu.:27.00                                        \n",
              " Max.   :44.00                                        "
            ]
          },
          "metadata": {}
        }
      ]
    },
    {
      "cell_type": "markdown",
      "source": [
        "| Variable       | Tipo              | Descripción                                                             |\n",
        "| -------------- | ----------------- | ----------------------------------------------------------------------- |\n",
        "| `manufacturer` | Categórica        | Marca del automóvil (ej. \"audi\", \"ford\")                                |\n",
        "| `model`        | Categórica        | Modelo del vehículo                                                     |\n",
        "| `displ`        | Numérica continua | Cilindrada del motor (en litros)                                        |\n",
        "| `year`         | Numérica discreta | Año de fabricación (1999 o 2008)                                        |\n",
        "| `cyl`          | Numérica discreta | Número de cilindros del motor                                           |\n",
        "| `trans`        | Categórica        | Tipo de transmisión (automática/manual)                                 |\n",
        "| `drv`          | Categórica        | Tipo de tracción (`f` = delantera, `r` = trasera, `4` = tracción total) |\n",
        "| `cty`          | Numérica continua | Consumo de combustible en ciudad (millas por galón)                     |\n",
        "| `hwy`          | Numérica continua | Consumo de combustible en autopista (mpg)                               |\n",
        "| `fl`           | Categórica        | Tipo de combustible (`p` = gasolina, `d` = diésel, etc.)                |\n",
        "| `class`        | Categórica        | Clase del vehículo (compacto, SUV, minivan...)                          |\n"
      ],
      "metadata": {
        "id": "9djalpr8I_c1"
      }
    },
    {
      "cell_type": "markdown",
      "source": [
        "Comenzamos conla creación de diferentes gráficos:"
      ],
      "metadata": {
        "id": "lNzp_O5TJQIW"
      }
    },
    {
      "cell_type": "code",
      "execution_count": 10,
      "metadata": {
        "id": "9ExWs1mv8Phx",
        "outputId": "51e6892b-0731-4802-d38a-89704358accc",
        "colab": {
          "base_uri": "https://localhost:8080/",
          "height": 437
        }
      },
      "outputs": [
        {
          "output_type": "display_data",
          "data": {
            "text/plain": [
              "plot without title"
            ],
            "image/png": "[encoded data removed]"
          },
          "metadata": {
            "image/png": {
              "width": 420,
              "height": 420
            }
          }
        }
      ],
      "source": [
        "#digamos que comenzamos con ¿qué vemos?:\n",
        "ggplot(data = mpg, aes(x = displ, y = hwy))\n",
        "# usando la estructura de Dplyr:\n",
        "#mpg %>%\n",
        "  #ggplot(aes(x = displ, y = hwy))"
      ]
    },
    {
      "cell_type": "code",
      "source": [
        "#cuando ya añado la geometría vemos algo:\n",
        "mpg %>%\n",
        "  ggplot(aes(x = displ, y = hwy)) +\n",
        "  geom_point()\n",
        "\n",
        "#Ahora se genera correctamente el gráfico porque geom_point() indica cómo representar las variables ya mapeadas.\n",
        "# Es decir, siempre es necesario agregar 1 o más capas al lienzo (a la estética)"
      ],
      "metadata": {
        "id": "AqEoJBB5KCE0",
        "outputId": "3a288773-c5fe-499d-ea3f-fe10d73a8432",
        "colab": {
          "base_uri": "https://localhost:8080/",
          "height": 437
        }
      },
      "execution_count": 13,
      "outputs": [
        {
          "output_type": "display_data",
          "data": {
            "text/plain": [
              "plot without title"
            ],
            "image/png": "[encoded data removed]"
          },
          "metadata": {
            "image/png": {
              "width": 420,
              "height": 420
            }
          }
        }
      ]
    },
    {
      "cell_type": "markdown",
      "source": [
        "¿Qué tipo de relación vemos entre estas dos variables?:\n",
        "\n",
        "En general, motores más grandes (más cilindrada) consumen más combustible, lo que se traduce en menor rendimiento en autopista. Este patrón es esperable, y el gráfico lo representa de forma clara y visual."
      ],
      "metadata": {
        "id": "k-itIIscKyhQ"
      }
    },
    {
      "cell_type": "markdown",
      "source": [
        "## Ejercicios:\n",
        "\n",
        "1. Realiza un gráfico de dispersión del consumo de combutible en autopista en función del número de cilindros del motor"
      ],
      "metadata": {
        "id": "9gG9pk0CMezd"
      }
    },
    {
      "cell_type": "code",
      "source": [
        "#Estilo tidyverse con pipe (%>%)\n",
        "mpg%>%\n",
        "  ggplot(aes(hwy,cyl))+\n",
        "  geom_point()\n",
        "\n",
        "# Estilo clásico de ggplot:\n",
        "\n",
        "#ggplot(data = mpg, aes(x = hwy, y = cyl)) +\n",
        "  # geom_point()\n",
        "\n",
        "#asignando a un objeto:\n",
        "\n",
        "#g <- ggplot(mpg, aes(hwy, cyl))\n",
        "#g + geom_point()\n",
        "\n"
      ],
      "metadata": {
        "id": "aM5hvzP6Kf3z",
        "outputId": "8965d5a3-a835-4880-8381-9468ab457c6f",
        "colab": {
          "base_uri": "https://localhost:8080/",
          "height": 437
        }
      },
      "execution_count": 16,
      "outputs": [
        {
          "output_type": "display_data",
          "data": {
            "text/plain": [
              "plot without title"
            ],
            "image/png": "[encoded data removed]"
          },
          "metadata": {
            "image/png": {
              "width": 420,
              "height": 420
            }
          }
        }
      ]
    },
    {
      "cell_type": "markdown",
      "source": [
        "2. ¿Qué sucede si hacemos un gráfico de dispersión de la variable *clase* versus tipo de traccion?"
      ],
      "metadata": {
        "id": "y96NwsZzOB8o"
      }
    },
    {
      "cell_type": "code",
      "source": [
        "ggplot(data=mpg)+\n",
        "geom_point(mapping = aes(x=class, y=drv))\n"
      ],
      "metadata": {
        "id": "O1FkAZUhNPrt",
        "outputId": "3c968f1c-ea49-43b6-bb6a-0116e0fc0790",
        "colab": {
          "base_uri": "https://localhost:8080/",
          "height": 437
        }
      },
      "execution_count": 17,
      "outputs": [
        {
          "output_type": "display_data",
          "data": {
            "text/plain": [
              "plot without title"
            ],
            "image/png": "[encoded data removed]"
          },
          "metadata": {
            "image/png": {
              "width": 420,
              "height": 420
            }
          }
        }
      ]
    }
  ]
}