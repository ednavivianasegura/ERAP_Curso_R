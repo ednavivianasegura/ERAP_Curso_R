{
  "cells": [
    {
      "cell_type": "markdown",
      "metadata": {
        "id": "view-in-github",
        "colab_type": "text"
      },
      "source": [
        "<a href=\"https://colab.research.google.com/github/ednavivianasegura/ERAP_Curso_R/blob/main/ERAP_R_Course_moduloIII.ipynb\" target=\"_parent\"><img src=\"https://colab.research.google.com/assets/colab-badge.svg\" alt=\"Open In Colab\"/></a>"
      ]
    },
    {
      "cell_type": "markdown",
      "metadata": {
        "id": "Xw_P5Z7q8v5W"
      },
      "source": [
        "Título: Manipulación de datos con R - Módulo III (Visualización de Datos con ggplot2)\n",
        "\n",
        "Autor(es): Edna Viviana Segura Alvarado - Hans Mauricio Carrillo Hernández\n",
        "\n",
        "Fecha: 2025-06\n",
        "\n",
        "Institución: Universidad de La Rioja"
      ]
    },
    {
      "cell_type": "markdown",
      "metadata": {
        "id": "8_bF7vzz8_dg"
      },
      "source": [
        "# ¿Qué es ggplot2?\n",
        "ggplot2 es un paquete del lenguaje R para crear gráficos de manera declarativa y elegante. Es parte del ecosistema **tidyverse** y está diseñado para generar gráficos a partir de datos organizados en data frames (tibbles o similares) (tidy data).\n",
        "\n",
        "Se basa en la Gramática de los Gráficos (Grammar of Graphics), que  establece un sistema coherente para construir visualizaciones a partir de componentes independientes que se pueden combinar.\n",
        "\n",
        "A grandes rasgos, se compone de la siguiente manera:\n",
        "\n",
        "```\n",
        "ggplot(data = <datos>) +\n",
        "  aes(x = <var_x>, y = <var_y>) +\n",
        "  geom_<tipo>() +\n",
        "  otros_componentes()\n",
        "\n",
        "```\n",
        "- La estética o atributos-propiedades visuales de la geometría (**aes()**):\n",
        "\n",
        "Define cómo se *mapean* las variables de los datos a propiedades visuales del gráfico: posición en los ejes, color, forma, tamaño, etc. No dibuja nada por sí misma, solo establece qué variable va en qué parte del gráfico, lo que crea es el **lienzo**.\n",
        "\n",
        "Por ejemplo en\n",
        "```\n",
        "aes(x = displ, y = hwy)\n",
        "```\n",
        "nos está diciendo que la variable **displ** (cilindrada del motor) irá en el eje **x** y **hwy** (rendimiento en autopista) irá en el eje **y**.\n",
        "\n",
        "\n",
        "Valores estéticos comunes:\n",
        "\n",
        "| Estética        | ¿Dónde se aplica?        | Tipo de variable    | Descripción                                                                                                                                                                                    |\n",
        "| --------------- | ------------------------ | ------------------- | ---------------------------------------------------------------------------------------------------------------------------------------------------------------------------------------------- |\n",
        "| **`color`**     | Bordes (líneas, puntos)  | Discreta o continua | Define el **color del contorno** de los elementos gráficos, como puntos o líneas. En variables categóricas, genera una paleta automática; en variables continuas, crea un gradiente.           |\n",
        "| **`fill`**      | Áreas (barras, cajas...) | Discreta o continua | Controla el **color de relleno** de formas cerradas: barras, cajas, polígonos. Muy útil en `geom_bar()`, `geom_boxplot()`, `geom_col()`...                                                     |\n",
        "| **`size`**      | Puntos, líneas           | Continua            | Controla el **tamaño de los puntos o el grosor de líneas**. Suele usarse para representar una tercera variable en gráficos de dispersión.                                                      |\n",
        "| **`linewidth`** | Líneas                   | Continua            | Define el **grosor de las líneas** (equivalente a `size`, pero específico para líneas desde `ggplot2` v3.4+). Mejora la claridad al usar líneas múltiples con distintos anchos.                |\n",
        "| **`shape`**     | Puntos (`geom_point`)    | Discreta            | Determina la **forma del punto** (círculo, triángulo, cruz, etc.). Ideal para variables categóricas. Hay 25 formas disponibles, algunas con relleno (`fill`) y otras solo con borde (`color`). |\n",
        "\n",
        "\n",
        "\n",
        "Es importante nota que los valores dentro de aes() deben ser columnas del conjunto de datos.\n",
        "\n",
        "\n",
        "- La geometría de los elementos (**geom_*()**):\n",
        "\n",
        "Cada función geom_*() representa una capa geométrica: es decir, una forma gráfica que se dibuja sobre el gráfico (como puntos, líneas, barras, cajas, etiquetas, etc.).\n",
        "\n",
        "Estas capas se suman con el operador + para construir el gráfico de forma modular. Cada capa puede representar un aspecto distinto del gráfico (como datos individuales, promedios, tendencias...), y se pueden superponer unas a otras.\n",
        "\n",
        "```\n",
        "ggplot(mpg, aes(x = displ, y = hwy)) +\n",
        "  geom_point() +                          # Capa de puntos\n",
        "  geom_smooth(method = \"lm\", se = FALSE) # Capa de línea de tendencia\n",
        "```\n",
        "En este ejemplo, el gráfico se compone de dos capas geométricas superpuestas:\n",
        "Una que muestra cada observación como un punto (geom_point()), colocando puntos según los valores de **x** e **y** definidos en aes(). Y otra que añade una línea de regresión (geom_smooth()), calculada sobre los mismos datos.\n",
        "\n",
        "**Nota:**\n",
        "Podemos pensar en un gráfico como un \"lienzo\", donde cada geom_*() es una capa de pintura: podemos dibujar puntos, luego agregar líneas, cajas, etiquetas... todo sobre la misma base.\n",
        "\n",
        "**Geometrías comunes (que iremos viendo según el tipo de variable)**\n",
        "\n",
        "| Geometría (`geom_*`)           | Tipo de variable X  | Tipo de variable Y  | Uso común                                           |\n",
        "| ------------------------------ | ------------------- | ------------------- | --------------------------------------------------- |\n",
        "| `geom_point()`                 | Continua o discreta | Continua            | Diagrama de dispersión                              |\n",
        "| `geom_line()`                  | Continua            | Continua            | Serie temporal o curvas                             |\n",
        "| `geom_smooth()`                | Continua            | Continua            | Tendencia o regresión                               |\n",
        "| `geom_bar(stat = \"count\")`     | Discreta            | -                   | Conteo de categorías                                |\n",
        "| `geom_col()`                   | Discreta            | Continua            | Altura basada en valor numérico                     |\n",
        "| `geom_boxplot()`               | Discreta            | Continua            | Comparar distribuciones                             |\n",
        "| `geom_violin()`                | Discreta            | Continua            | Distribuciones suavizadas                           |\n",
        "| `geom_histogram()`             | Continua            | -                   | Distribución de frecuencias                         |\n",
        "| `geom_density()`               | Continua            | -                   | Distribución suavizada                              |\n",
        "| `geom_area()`                  | Continua            | Continua            | Área bajo curva (acumulada)                         |\n",
        "| `geom_jitter()`                | Discreta o continua | Continua            | Puntos dispersos con ruido para evitar solapamiento |\n",
        "| `geom_boxplot()`               | Discreta (x)        | Continua (y)        | Comparación de rangos y medianas                    |\n",
        "| `geom_dotplot()`               | Discreta            | Discreta o continua | Distribución por acumulación de puntos              |\n",
        "| `geom_tile()`                  | Discreta            | Discreta            | Mapa de calor con categorías                        |\n",
        "| `geom_rug()`                   | Continua            | -                   | Indicadores marginales en los ejes                  |\n",
        "| `geom_text()` / `geom_label()` | Discreta o continua | Discreta o continua | Añadir etiquetas a los puntos                       |\n",
        "\n"
      ]
    },
    {
      "cell_type": "code",
      "execution_count": null,
      "metadata": {
        "id": "F53-YILUDZEA"
      },
      "outputs": [],
      "source": []
    },
    {
      "cell_type": "code",
      "execution_count": null,
      "metadata": {
        "id": "whxVhOuwDyu5"
      },
      "outputs": [],
      "source": []
    },
    {
      "cell_type": "markdown",
      "metadata": {
        "id": "1nDJ5fzrH5Rz"
      },
      "source": [
        "Veremos un ejemplo con datos de laboratorio (datos incluídos en la librería ggplo2).\n",
        "\n",
        "**Conjunto de datos: mpg**\n",
        "\n",
        "El dataset mpg proviene del paquete ggplot2 y contiene información sobre el rendimiento de modelos de automóviles en EE.UU., recogida por la Agencia de Protección Ambiental (EPA). Es ideal para aprender a visualizar relaciones entre variables cuantitativas y cualitativas.\n"
      ]
    },
    {
      "cell_type": "code",
      "execution_count": null,
      "metadata": {
        "id": "jLmXORPUIp_w"
      },
      "outputs": [],
      "source": []
    },
    {
      "cell_type": "markdown",
      "metadata": {
        "id": "9djalpr8I_c1"
      },
      "source": [
        "| Variable       | Tipo              | Descripción                                                             |\n",
        "| -------------- | ----------------- | ----------------------------------------------------------------------- |\n",
        "| `manufacturer` | Categórica        | Marca del automóvil (ej. \"audi\", \"ford\")                                |\n",
        "| `model`        | Categórica        | Modelo del vehículo                                                     |\n",
        "| `displ`        | Numérica continua | Cilindrada del motor (en litros)                                        |\n",
        "| `year`         | Numérica discreta | Año de fabricación (1999 o 2008)                                        |\n",
        "| `cyl`          | Numérica discreta | Número de cilindros del motor                                           |\n",
        "| `trans`        | Categórica        | Tipo de transmisión (automática/manual)                                 |\n",
        "| `drv`          | Categórica        | Tipo de tracción (`f` = delantera, `r` = trasera, `4` = tracción total) |\n",
        "| `cty`          | Numérica continua | Consumo de combustible en ciudad (millas por galón)                     |\n",
        "| `hwy`          | Numérica continua | Consumo de combustible en autopista (mpg)                               |\n",
        "| `fl`           | Categórica        | Tipo de combustible (`p` = gasolina, `d` = diésel, etc.)                |\n",
        "| `class`        | Categórica        | Clase del vehículo (compacto, SUV, minivan...)                          |\n"
      ]
    },
    {
      "cell_type": "markdown",
      "metadata": {
        "id": "lNzp_O5TJQIW"
      },
      "source": [
        "Comenzamos conla creación de diferentes gráficos:"
      ]
    },
    {
      "cell_type": "code",
      "execution_count": null,
      "metadata": {
        "id": "9ExWs1mv8Phx"
      },
      "outputs": [],
      "source": []
    },
    {
      "cell_type": "code",
      "execution_count": null,
      "metadata": {
        "id": "AqEoJBB5KCE0"
      },
      "outputs": [],
      "source": []
    },
    {
      "cell_type": "markdown",
      "metadata": {
        "id": "k-itIIscKyhQ"
      },
      "source": [
        "¿Qué tipo de relación vemos entre estas dos variables?:\n",
        "\n",
        "En general, motores más grandes (más cilindrada) consumen más combustible, lo que se traduce en menor rendimiento en autopista. Este patrón es esperable, y el gráfico lo representa de forma clara y visual."
      ]
    },
    {
      "cell_type": "markdown",
      "metadata": {
        "id": "9gG9pk0CMezd"
      },
      "source": [
        "## Ejercicios:\n",
        "\n",
        "### Una variable continua:\n",
        "\n",
        "1. Realiza un gráfico de dispersión del consumo de combutible en autopista en función del número de cilindros del motor"
      ]
    },
    {
      "cell_type": "code",
      "execution_count": null,
      "metadata": {
        "id": "aM5hvzP6Kf3z"
      },
      "outputs": [],
      "source": []
    },
    {
      "cell_type": "markdown",
      "metadata": {
        "id": "y96NwsZzOB8o"
      },
      "source": [
        "2. ¿Qué sucede si hacemos un gráfico de dispersión de la variable *clase* versus tipo de traccion?"
      ]
    },
    {
      "cell_type": "code",
      "execution_count": null,
      "metadata": {
        "id": "O1FkAZUhNPrt"
      },
      "outputs": [],
      "source": []
    },
    {
      "cell_type": "markdown",
      "metadata": {
        "id": "qL-5F2mvRD-k"
      },
      "source": [
        "3. Crear un gráfico de densidad para la variable rendimiento en autopista"
      ]
    },
    {
      "cell_type": "code",
      "execution_count": null,
      "metadata": {
        "id": "B9jAQHrGRNIR"
      },
      "outputs": [],
      "source": []
    },
    {
      "cell_type": "markdown",
      "metadata": {
        "id": "-_PvGyi-Ri3r"
      },
      "source": [
        "4. Crear un diagrama de puntos agrupados para el rendimiento en la autopista, explorar opciones para cambiar el relleno de negro a rosa ( o al color deseado)."
      ]
    },
    {
      "cell_type": "code",
      "execution_count": null,
      "metadata": {
        "id": "lPDWe5H4RpD1"
      },
      "outputs": [],
      "source": []
    },
    {
      "cell_type": "markdown",
      "metadata": {
        "id": "pBW8k_esTK58"
      },
      "source": [
        "5. Crear un poligono de frecuencias para el rendimiento en la autopista, explorar opciones para cambiar el color y grosor de la línea."
      ]
    },
    {
      "cell_type": "code",
      "execution_count": null,
      "metadata": {
        "id": "H9ptWdFXS-Ol"
      },
      "outputs": [],
      "source": []
    },
    {
      "cell_type": "markdown",
      "metadata": {
        "id": "ZfPP2KCVTm1F"
      },
      "source": [
        "### Una variable discreta:\n",
        "\n",
        "1. Generar un gráfico para el conteo de las frecuencias de la variable clase. Explorar las opciones disponibles para cambiar el color del relleno y de los bordes de las barras."
      ]
    },
    {
      "cell_type": "code",
      "execution_count": null,
      "metadata": {
        "id": "b_aI1AlfT3Mj"
      },
      "outputs": [],
      "source": []
    },
    {
      "cell_type": "markdown",
      "metadata": {
        "id": "hzxNhCfhopzm"
      },
      "source": [
        "### Geometrías para representar dos variables continuas.\n",
        "\n",
        "Estas permiten analizar la relación entre variables numéricas.\n",
        "\n",
        "1. Crear un gráfico de dispersión clásico entre cilindrada y rendimiento en autopista, modificando la forma, el color del relleno, el color del borde, el grosor del borde y el tamaño de los puntos."
      ]
    },
    {
      "cell_type": "code",
      "execution_count": null,
      "metadata": {
        "id": "dgCwY79Ipiw_"
      },
      "outputs": [],
      "source": []
    },
    {
      "cell_type": "markdown",
      "metadata": {
        "id": "SicDiD7PpxeX"
      },
      "source": [
        "2. Generar un gráfico geom_jitter para la comparación entre cilindrada y rendimiento en autopista y compara el resultado con el gráfico geom_point().\n",
        "\n",
        "Modifica los parámetros ( width, height, size,   color, alpha, shape, fill, y stroke)\n",
        "\n",
        "¿Qué diferencias observas?\n",
        "¿Qué utilidad le ves?\n",
        "\n"
      ]
    },
    {
      "cell_type": "code",
      "execution_count": null,
      "metadata": {
        "id": "PlYqkkKPpUSK"
      },
      "outputs": [],
      "source": []
    },
    {
      "cell_type": "markdown",
      "metadata": {
        "id": "vyCKdmKfscE-"
      },
      "source": [
        "| Característica                | `geom_point()`                | `geom_jitter()`                                          |\n",
        "| ----------------------------- | ----------------------------- | -------------------------------------------------------- |\n",
        "| Precisión de ubicación        | Alta (usa valores exactos)    | Baja (introduce desplazamiento aleatorio)                |\n",
        "| Visualización de solapamiento | Baja (puntos se sobreponen)   | Alta (puntos se dispersan visualmente)                   |\n",
        "| Ideal para...                 | Datos únicos o sin repetición | Datos con muchas observaciones idénticas o discretizadas |\n"
      ]
    },
    {
      "cell_type": "markdown",
      "metadata": {
        "id": "rfxt50uPyCf4"
      },
      "source": [
        "3. Realiza un diagrama de manta o tapete:"
      ]
    },
    {
      "cell_type": "code",
      "execution_count": null,
      "metadata": {
        "id": "fD-WtElKyIZU"
      },
      "outputs": [],
      "source": []
    },
    {
      "cell_type": "code",
      "execution_count": null,
      "metadata": {
        "id": "1uM6nG63ySt3"
      },
      "outputs": [],
      "source": []
    },
    {
      "cell_type": "markdown",
      "metadata": {
        "id": "rRN2VZQqyzQd"
      },
      "source": [
        "**geom_rug()** añade pequeñas marcas (como alfileres o \"tapetes\") en los bordes del gráfico para mostrar dónde hay observaciones individuales en cada eje.\n",
        "\n",
        "Las rayitas negras a lo largo de la parte inferior indican los valores donde hay autos con esa cilindrada.\n",
        "\n",
        "Si se ven muchas rayas muy juntas o superpuestas, significa que muchos autos tienen la misma cilindrada o muy similares.\n",
        "\n",
        "Las marcas en el borde izquierdo indican las observaciones según su rendimiento en autopista.\n",
        "\n",
        "Si una raya es más gruesa o más intensa, puede ser que varias observaciones compartan ese mismo valor.\n",
        "\n",
        "Comparativa de los tres gráficos juntos:\n",
        "\n",
        "| Geometría       | ¿Qué muestra?                        | ¿Cuándo usar?                        |\n",
        "| --------------- | ------------------------------------ | --------------------------------------- |\n",
        "| `geom_point()`  | Relación precisa entre dos variables | No hay mucho solapamiento               |\n",
        "| `geom_jitter()` | Relación dispersa (con ruido visual) | Hay valores repetidos que se solapan    |\n",
        "| `geom_rug()`    | Densidad marginal en cada eje        | Cuando se quiere reforzar la idea de acumulación |\n"
      ]
    },
    {
      "cell_type": "markdown",
      "metadata": {
        "id": "ommlqjgC1U8h"
      },
      "source": [
        "### Geometrías para representar dos variables (una continua y una discreta).\n",
        "\n",
        "1. Diagrama de barras **geom_col()**: Generar un diagrama de barras que muestre el rendimiento promedio en autopista (hwy) de los automóviles agrupados por su clase (class), como SUV, compacto, minivan, etc. Modifica atributos de la función.\n"
      ]
    },
    {
      "cell_type": "code",
      "execution_count": null,
      "metadata": {
        "id": "G8rj8O5E1sCN"
      },
      "outputs": [],
      "source": []
    },
    {
      "cell_type": "markdown",
      "metadata": {
        "id": "gWGoPhW23qnw"
      },
      "source": [
        "Es ideal para mostrar comparación directa de valores agregados por grupo."
      ]
    },
    {
      "cell_type": "code",
      "execution_count": null,
      "metadata": {
        "id": "4-fbgez5247X"
      },
      "outputs": [],
      "source": []
    },
    {
      "cell_type": "markdown",
      "metadata": {
        "id": "iqIK0YKw3tb7"
      },
      "source": [
        "2. geom_boxplot() – Diagrama de caja y bigotes:\n",
        "   **geom_boxplot()** resume una variable continua mostrando su mediana, cuartiles y posibles valores atípicos por grupo.\n",
        "\n",
        "Escribe el código para generar un diagrama de caja que muestre la distribución del rendimiento en autopista (hwy) de los vehículos, agrupados por su clase (class).\n",
        "Modificar los parámetros necesarios para cambiar el color del relleno, color de los valores extremos, ancho de las cajas, etc.\n",
        "\n",
        "¿Cómo puedo agregar el valor de la media a cada caja?\n"
      ]
    },
    {
      "cell_type": "code",
      "execution_count": null,
      "metadata": {
        "id": "mpsXaHIB36lA"
      },
      "outputs": [],
      "source": []
    },
    {
      "cell_type": "markdown",
      "metadata": {
        "id": "Tik_V47S4pZV"
      },
      "source": [
        "Cada caja representa el rango intercuartílico (del primer al tercer cuartil), la línea dentro de la caja indica la mediana, y los bigotes se extienden hasta 1.5 veces el rango intercuartílico.\n",
        "Este tipo de gráfico facilita la comparación de la dispersión, la simetría y la presencia de valores extremos en distintos grupos."
      ]
    },
    {
      "cell_type": "markdown",
      "metadata": {
        "id": "HnVEZpuZ62SP"
      },
      "source": [
        "3. geom_violin() – Densidad suavizada por grupo:\n",
        "\n",
        "**geom_violin()** combina la funcionalidad de un boxplot con un gráfico de densidad. Muestra la forma de la distribución por categoría.\n",
        "\n",
        "Crea un gráfico de violín para visualizar la distribución del rendimiento en autopista (hwy) de los automóviles, agrupados por su clase (class). Modifica distintas opciones de relleno, transparencia, mostrar cuartiles."
      ]
    },
    {
      "cell_type": "code",
      "execution_count": null,
      "metadata": {
        "id": "0zNUF4uS7LuG"
      },
      "outputs": [],
      "source": []
    },
    {
      "cell_type": "markdown",
      "metadata": {
        "id": "ocwp8V1T7MDt"
      },
      "source": [
        "Este tipo de gráfico combina la información de un boxplot (mediana, cuartiles) con una estimación de densidad suavizada, permitiendo observar la forma de la distribución (asimetrías, concentración de valores, presencia de múltiples modas).\n",
        "Cada \"violín\" representa la densidad de valores a lo largo del eje vertical, mostrando con mayor grosor las zonas donde se concentran más observaciones.\n",
        "\n",
        "A continuación podemos ver un ejemplo de **suma de capas geométricas**, mezclando boxplot, violin y stat_summary.\n",
        "Modifica distintos parámetros de las geometrías, e iintercambia el orden."
      ]
    },
    {
      "cell_type": "code",
      "execution_count": null,
      "metadata": {
        "id": "ca3PMOf_D_5_"
      },
      "outputs": [],
      "source": []
    },
    {
      "cell_type": "markdown",
      "metadata": {
        "id": "F-Z1EMqiG5cj"
      },
      "source": [
        "**NOTA**\n",
        "\n",
        "Vemos que los límites son la creatividad."
      ]
    },
    {
      "cell_type": "markdown",
      "metadata": {
        "id": "5fJ-XCFg8DhW"
      },
      "source": [
        "### Diferencias entre Atributos y Mapeos:\n",
        "\n",
        "**Mapeos**: un mapeo estético es una asignación de una variable de los datos a una propiedad visual del gráfico: posición, color, tamaño, forma, etc, que se define dentro de la función aes().\n",
        "Por ejemplo,\n",
        "\n",
        "\n",
        "```\n",
        "ggplot(mpg, aes(x = displ, y = hwy, color = class))\n",
        "```\n",
        "Vemos que el eje **x** mostrará displ (cilindrada), y el eje **y** mostrará hwy (rendimiento en autopista).\n",
        "El color de los puntos dependerá de la variable class (clase del vehículo). En este caso, cada grupo de datos tendrá un color distinto automáticamente, y se generará una leyenda."
      ]
    },
    {
      "cell_type": "code",
      "execution_count": null,
      "metadata": {
        "id": "TJsayvJ59kzd"
      },
      "outputs": [],
      "source": []
    },
    {
      "cell_type": "markdown",
      "metadata": {
        "id": "Y56XZUmD9tFE"
      },
      "source": [
        "**Atributos fijos**: un atributo fijo es un valor visual que se asigna manualmente, igual para todos los datos, y se coloca fuera de aes().\n",
        "Por ejemplo:\n",
        "\n",
        "\n",
        "```\n",
        "ggplot(mpg, aes(x = displ, y = hwy)) +\n",
        "  geom_point(color = \"steelblue\", size = 3)\n",
        "```\n",
        "Todos los puntos tendrán el mismo color (steelblue), y todos los puntos tendrán el mismo tamaño (3). Así mismo, no se genera leyenda, porque no hay relación con ninguna variable.\n",
        "\n"
      ]
    },
    {
      "cell_type": "code",
      "execution_count": null,
      "metadata": {
        "id": "xQ4fpW7B-RjI"
      },
      "outputs": [],
      "source": []
    },
    {
      "cell_type": "markdown",
      "metadata": {
        "id": "TEC1AqlV-TuE"
      },
      "source": [
        "**Resumen comparativo:**\n",
        "\n",
        "\n",
        "| Característica         | **Mapeo (`aes()`)**                | **Atributo fijo (fuera de `aes()`)** |\n",
        "| ---------------------- | ---------------------------------- | ------------------------------------ |\n",
        "| Se relaciona con datos | Sí                               |  No                                 |\n",
        "| Se define en `aes()`   | Sí                               |  No                                 |\n",
        "| Genera leyenda         | Sí (si es visual)                |  No                                 |\n",
        "| Permite variación      | Cada punto puede verse diferente |  Todos los puntos se ven igual      |\n",
        "| Ejemplo                | `aes(color = class)`               | `color = \"red\"`                      |\n",
        "\n",
        "\n",
        "Es decir, cuando usamos aes(), le decimos a ggplot2 que tome una **variable del dataset** y la convierta en una **propiedad visual** del gráfico. En cambio, cuando usamos un **atributo fijo**, estamos asignando manualmente un valor constante a esa **propiedad** para todos los elementos del gráfico.\n",
        "\n",
        "Veamos un ejemplo paso a paso de un diagrama de puntos entre :"
      ]
    },
    {
      "cell_type": "markdown",
      "metadata": {
        "id": "w0Naea8S_8O7"
      },
      "source": [
        "## Etiquetas:\n",
        "\n",
        "Las etiquetas en ggplot2 se controlan principalmente mediante la función **labs()**, que permite personalizar los títulos y descripciones de los ejes y otros elementos del gráfico.\n",
        "\n",
        "| Parámetro  | Qué etiqueta modifica                    |\n",
        "| ---------- | ---------------------------------------- |\n",
        "| `title`    | Título principal del gráfico             |\n",
        "| `subtitle` | Subtítulo debajo del título              |\n",
        "| `caption`  | Texto explicativo en la esquina inferior |\n",
        "| `x`        | Etiqueta del eje X                       |\n",
        "| `y`        | Etiqueta del eje Y                       |\n",
        "| `fill`     | Etiqueta de la leyenda para `fill`       |\n",
        "| `color`    | Etiqueta de la leyenda para `color`      |\n",
        "| `size`     | Etiqueta de la leyenda para `size`       |\n",
        "| `shape`    | Etiqueta de la leyenda para `shape`      |\n",
        "| `linetype` | Etiqueta de la leyenda para `linetype`   |\n"
      ]
    },
    {
      "cell_type": "code",
      "execution_count": null,
      "metadata": {
        "id": "WTFqyJtUPbTf"
      },
      "outputs": [],
      "source": []
    },
    {
      "cell_type": "code",
      "execution_count": null,
      "metadata": {
        "id": "JIChWZNMQQvR"
      },
      "outputs": [],
      "source": []
    },
    {
      "cell_type": "markdown",
      "metadata": {
        "id": "N0x3qQOEbBX_"
      },
      "source": [
        "Usar **labs()** es equivalente a poner las etiquetas directamente en ggtitle(), xlab(), ylab(), pero más limpio y centralizado.\n",
        "\n",
        "Se puede usar al final de la cadena + para que se aplique a todo el gráfico.\n",
        "\n",
        "Si se necesita eliminar una etiqueta, debe pasarse como NULL (por ejemplo, x = NULL)."
      ]
    },
    {
      "cell_type": "markdown",
      "metadata": {
        "id": "-AN52eXmTlz7"
      },
      "source": [
        "## FACETS:\n",
        "\n",
        "Facets son una forma de dividir un gráfico en varios subgráficos más pequeños (también llamados paneles-rejillas), cada uno mostrando un subconjunto de los datos.\n",
        "\n",
        "Es como crear una cuadrícula de gráficos, donde cada uno representa un grupo diferente según una variable categórica.\n",
        "\n",
        "Por ejemplo, imaginemos que queremos conocer el consumo de combustible de coches, viendo un gráfico de dispersión por cada tipo de transmisión (auto, manual). En vez de hacer un gráfico nuevo para cada uno, ggplot2 los divide automáticamente en paneles pequeños usando facet_wrap() o facet_grid().\n",
        "\n",
        "### Tipos de facet\n",
        "1. facet_wrap(~ variable)\n",
        "\n",
        "Crea una fila o rejilla de paneles según una única variable categórica. Es el más común y fácil de usar.\n",
        "\n",
        "Por ejemplo, si queremos ver el consumo de combustible en función de la cilindrada del coche segmentado por las clases de coche, debemos hacer un código como el que sigue:"
      ]
    },
    {
      "cell_type": "code",
      "execution_count": null,
      "metadata": {
        "id": "8erJOC00TUV6"
      },
      "outputs": [],
      "source": []
    },
    {
      "cell_type": "markdown",
      "metadata": {
        "id": "XQh-yUNyVed-"
      },
      "source": [
        "Esto divide el gráfico en un panel por cada clase de vehículo (compact, suv, etc.).\n",
        "\n",
        "2. facet_grid(fila ~ columna)\n",
        "\n",
        "Permite dividir los paneles en dos dimensiones, por filas y columnas. Ideal para explorar la combinación de dos variables categóricas."
      ]
    },
    {
      "cell_type": "code",
      "execution_count": null,
      "metadata": {
        "id": "tLogXahRTU_N"
      },
      "outputs": [],
      "source": []
    },
    {
      "cell_type": "markdown",
      "metadata": {
        "id": "a1HLk7SpWAUU"
      },
      "source": [
        "Este código crea una matriz de gráficos donde las filas representan tipos de tracción (drv) y las columnas el número de cilindros (cyl).\n",
        "\n",
        "Se puede realizar **personalización de facets**:\n",
        "\n",
        "Modificando etiquetas, títulos, escalas, etc.\n",
        "\n",
        "- scales = \"free\": Permite que cada panel tenga sus propios ejes.\n",
        "- labeller = label_both: Muestra tanto el nombre de la variable como el valor.\n",
        "\n",
        "```\n",
        "facet_wrap(~ class, scales = \"free\", labeller = label_both)\n",
        "```\n",
        "\n"
      ]
    },
    {
      "cell_type": "code",
      "execution_count": null,
      "metadata": {
        "id": "LFRtN175TVCG"
      },
      "outputs": [],
      "source": []
    },
    {
      "cell_type": "markdown",
      "metadata": {
        "id": "CDhTvvgnWx5Z"
      },
      "source": [
        "Cuando usas facet_wrap() o facet_grid() para crear múltiples paneles (uno por grupo), por defecto todos los gráficos comparten los mismos ejes x e y. Esto ayuda a comparar, pero puede no ser útil si los rangos son muy diferentes entre grupos.\n",
        "\n",
        "Ahí es donde entra **scales = \"free\"**: que permite liberar los ejes para que cada panel tenga su propio rango.\n",
        "\n",
        "En el ejemplo a acontinuación, cada panel (class) ajusta sus propios ejes para adaptarse mejor a los datos.\n",
        "\n",
        "Esto es útil cuando algunos grupos tienen valores muy altos y otros muy bajos, y se perderían los detalles si todos usaran la misma escala."
      ]
    },
    {
      "cell_type": "code",
      "execution_count": null,
      "metadata": {
        "id": "UKLXFJ1RTVIW"
      },
      "outputs": [],
      "source": []
    },
    {
      "cell_type": "markdown",
      "metadata": {
        "id": "JJBk8hlZTTlx"
      },
      "source": [
        "**Otras opciones de scales**\n",
        "\n",
        "| Opción                  | ¿Qué hace?                                            |\n",
        "| ----------------------- | ----------------------------------------------------- |\n",
        "| `\"fixed\"` (por defecto) | Todos los paneles comparten los mismos ejes.          |\n",
        "| `\"free\"`                | Libera ambos ejes (`x` e `y`).                        |\n",
        "| `\"free_x\"`              | Solo libera el eje **x**; el eje y se mantiene común. |\n",
        "| `\"free_y\"`              | Solo libera el eje **y**; el eje x se mantiene común. |\n"
      ]
    },
    {
      "cell_type": "markdown",
      "metadata": {
        "id": "8vm5EBOlYwGv"
      },
      "source": [
        "## Temas (Themes):\n",
        "\n",
        "En ggplot2, los temas son plantillas que controlan el estilo visual de un gráfico, es decir:\n",
        "\n",
        "- Colores de fondo\n",
        "- Líneas de cuadrícula\n",
        "- Tipos de letra\n",
        "- Bordes de paneles\n",
        "- Posición de leyendas\n",
        "- Tamaños y estilos de texto\n",
        "- Márgenes, títulos, etc.\n",
        "\n",
        "**Importante**: Los temas no afectan los datos ni el tipo de gráfico, solo cambian su apariencia estética.\n",
        "\n",
        "Los **temas** se aplican con la función theme_*() al final de la cadena del gráfico:\n",
        "\n",
        "```\n",
        "ggplot(...) +\n",
        "  geom_point(...) +\n",
        "  theme_minimal()\n",
        "```\n",
        "\n",
        "Los temas predefinidos en ggplot2:\n",
        "\n",
        "| Tema              | Descripción breve                                                   |\n",
        "| ----------------- | ------------------------------------------------------------------- |\n",
        "| `theme_gray()`    | Tema por defecto (con fondo gris y cuadrícula blanca)               |\n",
        "| `theme_bw()`      | Fondo blanco con bordes y cuadrículas más marcados                  |\n",
        "| `theme_minimal()` | Muy simple, sin bordes ni cuadrícula de fondo                       |\n",
        "| `theme_classic()` | Estilo clásico: ejes visibles, sin fondo ni cuadrículas             |\n",
        "| `theme_light()`   | Fondo blanco con cuadrículas claras                                 |\n",
        "| `theme_dark()`    | Fondo oscuro (útil para pantallas o contrastes fuertes)             |\n",
        "| `theme_void()`    | Casi vacío, sin ejes, etiquetas ni cuadrícula (gráficos artísticos) |\n",
        "\n"
      ]
    },
    {
      "cell_type": "code",
      "execution_count": null,
      "metadata": {
        "id": "ImKqE0hZXV1x"
      },
      "outputs": [],
      "source": []
    },
    {
      "cell_type": "code",
      "execution_count": null,
      "metadata": {
        "id": "vAnaItZqXW1W"
      },
      "outputs": [],
      "source": []
    },
    {
      "cell_type": "markdown",
      "metadata": {
        "id": "mrge9tg1TBgC"
      },
      "source": [
        "**¿En qué consiste element_text()?**\n",
        "\n",
        "element_text() es una función que define el estilo visual de un texto en un gráfico ggplot2.\n",
        "\n",
        "Se usa dentro de theme() para controlar cómo se ve cada componente textual del gráfico: tamaño de letra, color, alineación, tipo de fuente, ángulo, etc.\n",
        "\n",
        "¿En dónde se usa?\n",
        "\n",
        "| Parte del gráfico    | Clave en `theme()` |\n",
        "| -------------------- | ------------------ |\n",
        "| Título               | `plot.title`       |\n",
        "| Subtítulo            | `plot.subtitle`    |\n",
        "| Etiqueta eje X       | `axis.title.x`     |\n",
        "| Etiqueta eje Y       | `axis.title.y`     |\n",
        "| Texto de ticks eje X | `axis.text.x`      |\n",
        "| Texto de ticks eje Y | `axis.text.y`      |\n",
        "| Título de leyenda    | `legend.title`     |\n",
        "| Texto de leyenda     | `legend.text`      |\n",
        "| Fuente o caption     | `plot.caption`     |\n",
        "\n",
        "¿Qué atributos tiene element_text()?:\n",
        "\n",
        "| Atributo     | Qué controla                                           | Ejemplo            |\n",
        "| ------------ | ------------------------------------------------------ | ------------------ |\n",
        "| `size`       | Tamaño del texto (en puntos)                           | `size = 14`        |\n",
        "| `face`       | Tipo de fuente: `\"plain\"`, `\"bold\"`, etc.              | `face = \"bold\"`    |\n",
        "| `color`      | Color del texto                                        | `color = \"blue\"`   |\n",
        "| `hjust`      | Alineación horizontal (0 = izq, 0.5 = centro, 1 = der) | `hjust = 0.5`      |\n",
        "| `vjust`      | Alineación vertical                                    | `vjust = 1`        |\n",
        "| `angle`      | Rotación del texto (en grados)                         | `angle = 45`       |\n",
        "| `family`     | Fuente del texto                                       | `family = \"Times\"` |\n",
        "| `lineheight` | Espaciado entre líneas                                 | `lineheight = 1.2` |\n",
        "\n",
        "\n",
        "Por ejemplo:"
      ]
    },
    {
      "cell_type": "code",
      "execution_count": null,
      "metadata": {
        "id": "BQEQmpmBTByY"
      },
      "outputs": [],
      "source": []
    },
    {
      "cell_type": "markdown",
      "metadata": {
        "id": "Aexrz8xAbc9f"
      },
      "source": [
        "Si quiero personalizar también el eje x, el eje y...:"
      ]
    },
    {
      "cell_type": "code",
      "execution_count": null,
      "metadata": {
        "id": "2kMjiXHibcY2"
      },
      "outputs": [],
      "source": []
    },
    {
      "cell_type": "markdown",
      "metadata": {
        "id": "yDznUilZcJwE"
      },
      "source": [
        "# Ejercicios:\n",
        "\n",
        "1. Clasifique el conjunto de datos entre variables continuas y discretas. Asigne una variable continua al color, al tamaño y a la forma. ¿Cómo se comportan estas estéticas de forma diferente para las variables categóricas y las continuas?"
      ]
    },
    {
      "cell_type": "code",
      "execution_count": null,
      "metadata": {
        "cellView": "form",
        "id": "6itUKenBcjlU"
      },
      "outputs": [],
      "source": []
    },
    {
      "cell_type": "markdown",
      "metadata": {
        "id": "TtimPgKUdV_N"
      },
      "source": [
        "2. ¿Qué ocurre si se asigna la misma variable a varias estéticas?"
      ]
    },
    {
      "cell_type": "code",
      "execution_count": null,
      "metadata": {
        "cellView": "form",
        "id": "L0rt_0eydXkE"
      },
      "outputs": [],
      "source": []
    },
    {
      "cell_type": "markdown",
      "metadata": {
        "id": "eVgghRk5e3rg"
      },
      "source": [
        "\n",
        "Cuando se asigna la misma variable a más de una estética dentro de aes(), ggplot2 utiliza esa variable en cada uno de los canales visuales correspondientes. Esto significa que la variable afectará a múltiples aspectos de la geometría, como el color, el tamaño, la forma o la posición.\n",
        "\n",
        "3. ¿Qué hace la estética stroke en ggplot2?\n",
        "4.  ¿Qué ocurre si asignas una estética a algo que no es una variable, como aes(color = displ < 5)?"
      ]
    },
    {
      "cell_type": "code",
      "execution_count": null,
      "metadata": {
        "cellView": "form",
        "id": "oHRLHxkLfib4"
      },
      "outputs": [],
      "source": []
    },
    {
      "cell_type": "markdown",
      "metadata": {
        "id": "8lZL66Pofhl3"
      },
      "source": [
        "La expresión **displ < 5** se evalúa para cada fila del dataset mpg.\n",
        "\n",
        "El resultado es una nueva variable lógica (TRUE o FALSE).\n",
        "\n",
        "ggplot2 mapea esos valores lógicos a colores, por lo general usando dos colores contrastantes.\n",
        "\n",
        "En este ejemplo:\n",
        "Puntos con displ < 5 se ven de un color (por ejemplo, azul)\n",
        "Puntos con displ >= 5 se ven de otro (por ejemplo, rojo)\n",
        "\n",
        "Esto permite crear agrupaciones visuales sin necesidad de modificar el dataset original.\n",
        "\n",
        "5. ¿Qué ocurre si se aplica una faceta a una variable continua?"
      ]
    },
    {
      "cell_type": "code",
      "execution_count": null,
      "metadata": {
        "cellView": "form",
        "collapsed": true,
        "id": "hebSb2m4gH6o"
      },
      "outputs": [],
      "source": []
    },
    {
      "cell_type": "markdown",
      "metadata": {
        "id": "HZsUMi59gBI4"
      },
      "source": [
        "Cuando se aplica una faceta (facet_wrap() o facet_grid()) a una variable continua, ggplot2 forzará a esa variable a comportarse como si fuera categórica, es decir, la convertirá internamente en factor.\n",
        "\n",
        "Esto significa que: cada valor único de la variable continua se tratará como una etiqueta de panel.\n",
        "\n",
        "El gráfico resultará en muchos paneles individuales, uno por cada valor diferente.\n",
        "\n",
        "Esto raramente es útil, y puede llevar a gráficos innecesariamente fragmentados y difíciles de leer.\n",
        "\n",
        "¿Qué opción tendríamos para arreglaro esto?: agrupar previamente la variable continua en intervalos o categorías:\n"
      ]
    },
    {
      "cell_type": "code",
      "execution_count": null,
      "metadata": {
        "id": "ET1tHZtbgsCk"
      },
      "outputs": [],
      "source": []
    },
    {
      "cell_type": "markdown",
      "metadata": {
        "id": "RRJd04GUgmzp"
      },
      "source": [
        "Aquí usamos cut() para transformar hwy en una variable categórica por rangos, lo cual sí tiene sentido para facetar.\n",
        "\n",
        "O bien, usar color, size o alpha como estética visual continua (que sería lo más lógico):"
      ]
    },
    {
      "cell_type": "code",
      "execution_count": null,
      "metadata": {
        "id": "B7rqVLD3g3fs"
      },
      "outputs": [],
      "source": []
    },
    {
      "cell_type": "markdown",
      "metadata": {
        "id": "G28KoJgE8Az0"
      },
      "source": [
        "6. ¿Qué significan las celdas vacías en el gráfico con facet_grid(drv ~ cyl)? ¿Qué relación tienen con este gráfico?"
      ]
    },
    {
      "cell_type": "code",
      "execution_count": null,
      "metadata": {
        "cellView": "form",
        "id": "gYvCBnhk8Ivb"
      },
      "outputs": [],
      "source": []
    },
    {
      "cell_type": "markdown",
      "metadata": {
        "id": "PWHqfk_i8e7K"
      },
      "source": [
        "Cuando se usa facet_grid(drv ~ cyl), se pide que: en el eje horizontal (columnas) haya una faceta por cada valor de cyl (número de cilindros), en el eje vertical (filas) haya una faceta por cada valor de drv (tipo de tracción: \"f\", \"r\", \"4\"), y se muestren todas las combinaciones posibles de esas dos variables, incluso si no existen datos reales para alguna combinación.\n",
        "Por lo tanto, las celdas vacías aparecen cuando no hay observaciones en el dataset para esa combinación de drv y cyl. En este caso, no hay autos con drv = \"4\" y cyl = 5 en el dataset.\n",
        "En ese caso, facet_grid() aún creará la celda correspondiente, pero estar vacía porque no hay datos para mostrar."
      ]
    },
    {
      "cell_type": "markdown",
      "metadata": {
        "id": "CMefcGm69OD7"
      },
      "source": [
        "Voy en What plots does the following code make? What does . do?\n",
        "\n",
        "https://rpubs.com/mukami_linda/550803"
      ]
    },
    {
      "cell_type": "markdown",
      "metadata": {
        "id": "XqAcln_zscg2"
      },
      "source": [
        "# Ayudas\n",
        "\n",
        "## Colores:\n",
        "\n",
        "Puedes usar colores de tres maneras principales:\n",
        "\n",
        "- Por nombre estándar en inglés (e.g., \"red\", \"steelblue\")\n",
        "- Por código hexadecimal (e.g., \"#FF5733\")\n",
        "- Funciones de paletas (scale_*_manual(), scale_*_brewer(), viridis, etc.)\n",
        "\n",
        "| Color (Inglés)   | Nombre descriptivo (Español) |\n",
        "|------------------|-------------------------------|\n",
        "| red              | Rojo                          |\n",
        "| blue             | Azul                          |\n",
        "| green            | Verde                         |\n",
        "| yellow           | Amarillo                      |\n",
        "| black            | Negro                         |\n",
        "| white            | Blanco                        |\n",
        "| gray             | Gris                          |\n",
        "| orange           | Naranja                       |\n",
        "| purple           | Morado                        |\n",
        "| brown            | Marrón                        |\n",
        "| pink             | Rosa                          |\n",
        "| cyan             | Cian                          |\n",
        "| magenta          | Magenta                       |\n",
        "| steelblue        | Azul acero                    |\n",
        "| darkgreen        | Verde oscuro                  |\n",
        "| gold             | Oro                           |\n",
        "| orchid           | Orquídea                      |\n",
        "| coral            | Coral                         |\n",
        "| salmon           | Salmón                        |\n",
        "| slategray        | Gris pizarra                  |\n",
        "| turquoise        | Turquesa                      |\n",
        "| firebrick        | Ladrillo                      |\n",
        "| midnightblue     | Azul medianoche               |\n",
        "| tomato           | Tomate                        |\n",
        "| deeppink         | Rosa intenso                  |\n",
        "\n",
        "\n",
        "## geom_point:\n",
        "\n",
        "### Shapes:\n",
        "\n",
        "| Número | Forma | Descripción               |\n",
        "| ------ | ----- | ------------------------- |\n",
        "| 0      | □     | Cuadrado abierto          |\n",
        "| 1      | ○     | Círculo abierto           |\n",
        "| 2      | △     | Triángulo hacia arriba    |\n",
        "| 3      | +     | Más                       |\n",
        "| 4      | ×     | Cruz diagonal             |\n",
        "| 5      | ◇     | Diamante abierto          |\n",
        "| 6      | ▲     | Triángulo hacia abajo     |\n",
        "| 7      | ┼     | Asterisco                 |\n",
        "| 8      | ✳     | Estrella                  |\n",
        "| 9      | ⬠     | Diamante más pequeño      |\n",
        "| 10     | ⧫     | Punto con cruz            |\n",
        "| 11     | ⬡     | Círculo con cruz          |\n",
        "| 12     | ✜     | Cuadrado con cruz         |\n",
        "| 13     | ◯     | Círculo con punto         |\n",
        "| 14     | ☒     | Cuadrado relleno con cruz |\n",
        "| 15     | ■     | Cuadrado relleno           |\n",
        "| 16     | ●     | Círculo sólido             |\n",
        "| 17     | ▲     | Triángulo hacia arriba     |\n",
        "| 18     | ◆     | Diamante sólido            |\n",
        "| 19     | 🔘    | Círculo grande relleno     |\n",
        "| 20     | ●     | Punto (más pequeño que 16) |\n",
        "| 21     | ◍     | Círculo con borde               |\n",
        "| 22     | ◼     | Cuadrado con borde              |\n",
        "| 23     | 🔺    | Triángulo con borde             |\n",
        "| 24     | 🔷    | Diamante con borde              |\n",
        "| 25     | ⬢     | Triángulo hacia abajo con borde |\n",
        "\n",
        "**Nota:**\n",
        "1. Formas 0–14: Solo contorno (color)\n",
        "Estas formas no se pueden rellenar con fill, solo se pueden colorear con color.\n",
        "2. Formas 15–20: Relleno sólido (color = borde, fill = interior)\n",
        "Se pueden personalizar tanto con color como con fill.\n",
        "3. Formas 21–25: Contorno y relleno separados (color + fill)\n",
        "Estas formas permiten usar dos colores distintos: uno para el borde (color) y otro para el centro (fill). Además, aceptan stroke (grosor del borde).\n",
        "\n",
        "### Size:\n",
        "Controla el diámetro del punto (aunque técnicamente es proporcional al área). Aplica a todos los geom_point() (independientemente del shape).\n",
        "\n",
        "| Valor típico | Interpretación visual                                      |\n",
        "| ------------ | ---------------------------------------------------------- |\n",
        "| `1`          | Muy pequeño                                                |\n",
        "| `2–3`        | Tamaño estándar legible                                    |\n",
        "| `4–6`        | Grande, para resaltar                                      |\n",
        "| `> 6`        | Muy grande (útil en gráficos de resumen o facetas grandes) |\n",
        "\n",
        "\n",
        "### Stroke:\n",
        "Controla el ancho del borde de los puntos, pero solo funciona con shapes 21–25 (formas que admiten borde y relleno), se mide en mm.\n",
        "\n",
        "| Valor típico | Resultado visual          |\n",
        "| ------------ | ------------------------- |\n",
        "| `0.2–0.5`    | Borde delgado (ligero)    |\n",
        "| `0.6–1.5`    | Grosor estándar a marcado |\n",
        "| `2–3`        | Borde grueso, muy visible |\n",
        "\n",
        "\n",
        "## Funciones frecuentes en stat_summary()\n",
        "\n",
        "| Función                             | ¿Qué calcula?                | Ejemplo de uso                            |\n",
        "| ----------------------------------- | ---------------------------- | ----------------------------------------- |\n",
        "| `mean`                              | Media                        | `fun = mean`                              |\n",
        "| `median`                            | Mediana                      | `fun = median`                            |\n",
        "| `min`                               | Valor mínimo                 | `fun = min`                               |\n",
        "| `max`                               | Valor máximo                 | `fun = max`                               |\n",
        "| `sd`                                | Desviación estándar          | `fun = sd`                                |\n",
        "| `IQR`                               | Rango intercuartílico        | `fun = IQR`                               |\n",
        "| `length`                            | Tamaño de muestra (n)        | `fun = length`                            |\n",
        "| `function(x) sum(x)`                | Suma total (función anónima) | `fun = function(x) sum(x)`                |\n",
        "| `function(x) quantile(x, 0.25)`     | Cuartil inferior (25%)       | `fun = function(x) quantile(x, 0.25)`     |\n",
        "| `function(x) quantile(x, 0.75)`     | Cuartil superior (75%)       | `fun = function(x) quantile(x, 0.75)`     |\n",
        "| `function(x) mean(x, na.rm = TRUE)` | Media sin NA                 | `fun = function(x) mean(x, na.rm = TRUE)` |\n"
      ]
    }
  ],
  "metadata": {
    "colab": {
      "provenance": [],
      "include_colab_link": true
    },
    "kernelspec": {
      "display_name": "R",
      "name": "ir"
    },
    "language_info": {
      "name": "R"
    }
  },
  "nbformat": 4,
  "nbformat_minor": 0
}