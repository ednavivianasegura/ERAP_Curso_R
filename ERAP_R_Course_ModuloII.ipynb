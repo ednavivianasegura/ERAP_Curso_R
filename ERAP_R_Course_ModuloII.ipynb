{
  "nbformat": 4,
  "nbformat_minor": 0,
  "metadata": {
    "colab": {
      "provenance": [],
      "authorship_tag": "ABX9TyN07ZsOGdh/Mtdn6C4sdWEk",
      "include_colab_link": true
    },
    "kernelspec": {
      "name": "ir",
      "display_name": "R"
    },
    "language_info": {
      "name": "R"
    }
  },
  "cells": [
    {
      "cell_type": "markdown",
      "metadata": {
        "id": "view-in-github",
        "colab_type": "text"
      },
      "source": [
        "<a href=\"https://colab.research.google.com/github/ednavivianasegura/ERAP_Curso_R/blob/main/ERAP_R_Course_ModuloII.ipynb\" target=\"_parent\"><img src=\"https://colab.research.google.com/assets/colab-badge.svg\" alt=\"Open In Colab\"/></a>"
      ]
    },
    {
      "cell_type": "markdown",
      "source": [
        "**Título**:  Manipulación de datos con R  - Módulo II (Manejo de datos desordenados y falta de información )                               \n",
        "                                          \n",
        "**Autor(es)**:  Edna Viviana Segura Alvarado - Hans Mauricio Carrillo Hernández\n",
        "\n",
        "**Fecha**: 2025-06\n",
        "\n",
        "**Institución**: Universidad de La Rioja    "
      ],
      "metadata": {
        "id": "EnK69cMRCL5d"
      }
    },
    {
      "cell_type": "markdown",
      "source": [
        "# ¿Qué son los datos faltantes (Missing Data)?\n",
        "\n",
        "En R, los valores no disponibles o faltantes se representan con NA (Not Available en inglés) y pueden surgir por múltiples motivos:\n",
        "\n",
        "- errores de registro\n",
        "- fallos de instrumentos\n",
        "- no respuesta en encuestas\n",
        "- entre otros.\n",
        "\n",
        "(Little & Rubin, 2002): los autores insisten en que el manejo de datos faltantes debe hacerse cuidadosamente porque puede comprometer la validez del análisis estadístico.\n",
        "\n",
        "Bibliografía:\n",
        "\n",
        "  Little, Roderick J. A, and Donald B Rubin. Statistical Analysis with Missing Data. Third edition. vol. 793. Newark: Wiley, 2020. Print.\n"
      ],
      "metadata": {
        "id": "YIhjnKFsqxls"
      }
    },
    {
      "cell_type": "markdown",
      "source": [
        "**¿Cómo afectan los datos faltantes a las operaciones básicas?**\n",
        "\n",
        "Los valores NA en R representan información que no está disponible o que no pudo ser medida. Su presencia puede tener efectos importantes y silenciosos en cálculos básicos si no se gestionan adecuadamente."
      ],
      "metadata": {
        "id": "vksU5wigx80W"
      }
    },
    {
      "cell_type": "code",
      "execution_count": 1,
      "metadata": {
        "id": "LYDAVKnKBxMq",
        "outputId": "8ad81831-1370-4f95-c5ba-6750e0826b6c",
        "colab": {
          "base_uri": "https://localhost:8080/",
          "height": 69
        }
      },
      "outputs": [
        {
          "output_type": "display_data",
          "data": {
            "text/html": [
              "&lt;NA&gt;"
            ],
            "text/markdown": "&lt;NA&gt;",
            "text/latex": "<NA>",
            "text/plain": [
              "[1] NA"
            ]
          },
          "metadata": {}
        },
        {
          "output_type": "display_data",
          "data": {
            "text/html": [
              "&lt;NA&gt;"
            ],
            "text/markdown": "&lt;NA&gt;",
            "text/latex": "<NA>",
            "text/plain": [
              "[1] NA"
            ]
          },
          "metadata": {}
        },
        {
          "output_type": "display_data",
          "data": {
            "text/html": [
              "&lt;NA&gt;"
            ],
            "text/markdown": "&lt;NA&gt;",
            "text/latex": "<NA>",
            "text/plain": [
              "[1] NA"
            ]
          },
          "metadata": {}
        }
      ],
      "source": [
        "x <- c(5, 8, NA, 10)\n",
        "mean(x)       # Resultado: NA\n",
        "sum(x)        # Resultado: NA\n",
        "sd(x)         # Resultado: NA"
      ]
    },
    {
      "cell_type": "markdown",
      "source": [
        "**¿Por qué?**\n",
        "R considera que si hay un NA, no puede estar seguro del resultado total. Prefiere devolver NA como advertencia de que el cálculo está incompleto."
      ],
      "metadata": {
        "id": "CDm6-AOGyVY1"
      }
    },
    {
      "cell_type": "code",
      "source": [
        "mean(x, na.rm = TRUE)  # Resultado: 7.666...\n",
        "sum(x, na.rm = TRUE)   # Resultado: 23\n",
        "sd(x, na.rm = TRUE)    # Resultado: Desviación estándar de los valores observados"
      ],
      "metadata": {
        "id": "RVwaTX8FyYJB",
        "outputId": "989fdb0a-48c1-4b01-d108-dce024821971",
        "colab": {
          "base_uri": "https://localhost:8080/",
          "height": 69
        }
      },
      "execution_count": 2,
      "outputs": [
        {
          "output_type": "display_data",
          "data": {
            "text/html": [
              "7.66666666666667"
            ],
            "text/markdown": "7.66666666666667",
            "text/latex": "7.66666666666667",
            "text/plain": [
              "[1] 7.666667"
            ]
          },
          "metadata": {}
        },
        {
          "output_type": "display_data",
          "data": {
            "text/html": [
              "23"
            ],
            "text/markdown": "23",
            "text/latex": "23",
            "text/plain": [
              "[1] 23"
            ]
          },
          "metadata": {}
        },
        {
          "output_type": "display_data",
          "data": {
            "text/html": [
              "2.51661147842358"
            ],
            "text/markdown": "2.51661147842358",
            "text/latex": "2.51661147842358",
            "text/plain": [
              "[1] 2.516611"
            ]
          },
          "metadata": {}
        }
      ]
    },
    {
      "cell_type": "markdown",
      "source": [
        "**Funciones lógicas y filtros**\n",
        "Las expresiones lógicas que involucran NA también pueden dar resultados inesperados:"
      ],
      "metadata": {
        "id": "w3wAjp6pyiMw"
      }
    },
    {
      "cell_type": "code",
      "source": [
        "x <- c(1, 2, NA, 4)\n",
        "x > 2"
      ],
      "metadata": {
        "id": "pp7XLusMyl4v",
        "outputId": "1b54e366-a068-4075-c0c0-37e824987de1",
        "colab": {
          "base_uri": "https://localhost:8080/",
          "height": 34
        }
      },
      "execution_count": 4,
      "outputs": [
        {
          "output_type": "display_data",
          "data": {
            "text/html": [
              "<style>\n",
              ".list-inline {list-style: none; margin:0; padding: 0}\n",
              ".list-inline>li {display: inline-block}\n",
              ".list-inline>li:not(:last-child)::after {content: \"\\00b7\"; padding: 0 .5ex}\n",
              "</style>\n",
              "<ol class=list-inline><li>FALSE</li><li>FALSE</li><li>&lt;NA&gt;</li><li>TRUE</li></ol>\n"
            ],
            "text/markdown": "1. FALSE\n2. FALSE\n3. &lt;NA&gt;\n4. TRUE\n\n\n",
            "text/latex": "\\begin{enumerate*}\n\\item FALSE\n\\item FALSE\n\\item <NA>\n\\item TRUE\n\\end{enumerate*}\n",
            "text/plain": [
              "[1] FALSE FALSE    NA  TRUE"
            ]
          },
          "metadata": {}
        }
      ]
    }
  ]
}