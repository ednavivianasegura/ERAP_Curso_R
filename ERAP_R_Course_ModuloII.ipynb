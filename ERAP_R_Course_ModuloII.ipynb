{
  "nbformat": 4,
  "nbformat_minor": 0,
  "metadata": {
    "colab": {
      "provenance": [],
      "include_colab_link": true
    },
    "kernelspec": {
      "name": "ir",
      "display_name": "R"
    },
    "language_info": {
      "name": "R"
    }
  },
  "cells": [
    {
      "cell_type": "markdown",
      "metadata": {
        "id": "view-in-github",
        "colab_type": "text"
      },
      "source": [
        "<a href=\"https://colab.research.google.com/github/ednavivianasegura/ERAP_Curso_R/blob/main/ERAP_R_Course_ModuloII.ipynb\" target=\"_parent\"><img src=\"https://colab.research.google.com/assets/colab-badge.svg\" alt=\"Open In Colab\"/></a>"
      ]
    },
    {
      "cell_type": "markdown",
      "source": [
        "**Título**:  Manipulación de datos con R  - Módulo II (Manejo de datos desordenados y falta de información )                               \n",
        "                                          \n",
        "**Autor(es)**:  Edna Viviana Segura Alvarado - Hans Mauricio Carrillo Hernández\n",
        "\n",
        "**Fecha**: 2025-06\n",
        "\n",
        "**Institución**: Universidad de La Rioja    "
      ],
      "metadata": {
        "id": "EnK69cMRCL5d"
      }
    },
    {
      "cell_type": "markdown",
      "source": [
        "# ¿Qué son los datos faltantes (Missing Data)?\n",
        "\n",
        "En R, los valores no disponibles o faltantes se representan con NA (Not Available en inglés) y pueden surgir por múltiples motivos:\n",
        "\n",
        "- errores de registro\n",
        "- fallos de instrumentos\n",
        "- no respuesta en encuestas\n",
        "- entre otros.\n",
        "    \n",
        "\n",
        "Bibliografía:\n",
        "\n",
        "  Little, Roderick J. A, and Donald B Rubin. Statistical Analysis with Missing Data. Third edition. vol. 793. Newark: Wiley, 2020. Print.\n"
      ],
      "metadata": {
        "id": "YIhjnKFsqxls"
      }
    },
    {
      "cell_type": "markdown",
      "source": [
        "**¿Cómo afectan los datos faltantes a las operaciones básicas?**\n",
        "\n",
        "Los valores NA en R representan información que no está disponible o que no pudo ser medida. Su presencia puede tener efectos importantes y silenciosos en cálculos básicos si no se gestionan adecuadamente."
      ],
      "metadata": {
        "id": "vksU5wigx80W"
      }
    },
    {
      "cell_type": "code",
      "execution_count": null,
      "metadata": {
        "id": "LYDAVKnKBxMq"
      },
      "outputs": [],
      "source": [
        "x <- c(5, 8, NA, 10)\n",
        "mean(x)       # Resultado: NA\n",
        "sum(x)        # Resultado: NA\n",
        "sd(x)         # Resultado: NA"
      ]
    },
    {
      "cell_type": "markdown",
      "source": [
        "**¿Por qué?**\n",
        "\n",
        "R considera que si hay un NA, no puede estar seguro del resultado total.\n",
        "\n",
        "Prefiere devolver NA como advertencia de que el cálculo está incompleto.\n",
        "\n",
        "Por lo tanto, existe el atributo que nos ayuda con esto:\n",
        "\n",
        "```\n",
        "na.rm=TRUE\n",
        "```\n",
        "\n",
        "\n",
        "\n"
      ],
      "metadata": {
        "id": "CDm6-AOGyVY1"
      }
    },
    {
      "cell_type": "code",
      "source": [
        "mean(x, na.rm = TRUE)  # Resultado: 7.666...\n",
        "sum(x, na.rm = TRUE)   # Resultado: 23\n",
        "sd(x, na.rm = TRUE)    # Resultado: Desviación estándar de los valores observados"
      ],
      "metadata": {
        "id": "RVwaTX8FyYJB"
      },
      "execution_count": null,
      "outputs": []
    },
    {
      "cell_type": "markdown",
      "source": [
        "**Funciones lógicas y filtros**\n",
        "\n",
        "Las expresiones lógicas que involucran NA también pueden dar resultados inesperados:"
      ],
      "metadata": {
        "id": "w3wAjp6pyiMw"
      }
    },
    {
      "cell_type": "code",
      "source": [
        "x <- c(1, 2, NA, 4)\n",
        "x > 2"
      ],
      "metadata": {
        "id": "pp7XLusMyl4v"
      },
      "execution_count": null,
      "outputs": []
    },
    {
      "cell_type": "markdown",
      "source": [
        "Funciones agregadas por grupo **(aggregate, group_by + summarise)**\n",
        "\n",
        "En dplyr, ocurre lo mismo:"
      ],
      "metadata": {
        "id": "xFospMWZzsQV"
      }
    },
    {
      "cell_type": "code",
      "source": [
        "library(dplyr)\n",
        "\n",
        "df <- data.frame(grupo = c(\"A\", \"A\", \"B\", \"B\"), valor = c(10, NA, 5, 8))\n",
        "\n",
        "df %>%\n",
        "  group_by(grupo) %>%\n",
        "  summarise(media = mean(valor))  # Resultado: NA para grupo A (el que contiene NAs)\n",
        "\n",
        "df %>%\n",
        "  group_by(grupo) %>%\n",
        "  summarise(media = mean(valor, na.rm = TRUE))  # Ignora los NA correctamente\n"
      ],
      "metadata": {
        "collapsed": true,
        "id": "GisZ9kG9zvmf"
      },
      "execution_count": null,
      "outputs": []
    },
    {
      "cell_type": "markdown",
      "source": [
        "**Modelado estadístico (regresiones, clustering, PCA...)**\n",
        "\n",
        "Los modelos no se ajustan correctamente, o no representan la veracidad si no se gestionan los NA:"
      ],
      "metadata": {
        "id": "_78wIAW60Lca"
      }
    },
    {
      "cell_type": "code",
      "source": [
        "set.seed(123)  # Para reproducibilidad\n",
        "\n",
        "# Generar 100 observaciones\n",
        "n <- 100\n",
        "x <- rnorm(n, mean = 50, sd = 10)          # Variable predictora\n",
        "y <- 6.5 * x + rnorm(n, mean = 0, sd = 12) # Variable respuesta con ruido\n",
        "\n",
        "plot(x,y)\n",
        "\n",
        "datos <- data.frame(x = x, y = y)\n",
        "head(datos)\n",
        "\n",
        "# Modelo con los datos originales\n",
        "modeloOriginal <- lm(y ~ x, data = datos)\n",
        "summary(modeloOriginal)\n",
        "\n",
        "# Introducir NA aleatoriamente en 15 valores de y\n",
        "na_indices <- sample(1:n, size = 20)\n",
        "datos$y[na_indices] <- NA\n",
        "\n",
        "set.seed(456)  # Para reproducibilidad\n",
        "\n",
        "# Introducir NA aleatoriamente en 5 valores de x\n",
        "na_indices2 <- sample(1:n, size = 5)\n",
        "datos$x[na_indices2] <- NA\n",
        "\n",
        "\n",
        "\n",
        "summary(datos)\n",
        "colSums(is.na(datos))\n",
        "\n",
        "#Intentamos ajustar el modelo\n",
        "modelo_con_na <- lm(y ~ x, data = datos)\n",
        "summary(modelo_con_na)\n",
        "\n",
        "#R ajusta el modelo usando solo las filas donde y no es NA (complete-case analysis).\n",
        "\n",
        "#Comprobémoslo:\n",
        "nrow(datos)                # 100 observaciones originales\n",
        "nrow(modelo_con_na$model)  # Solo usa filas sin NA\n",
        "\n",
        "#Miremos que pasa con el modelo al imputar, por ejemplo con la media\n",
        "datos_imputados <- datos\n",
        "datos_imputados$x[is.na(datos_imputados$x)] <- mean(datos$x, na.rm = TRUE)\n",
        "datos_imputados$y[is.na(datos_imputados$y)] <- mean(datos$y, na.rm = TRUE)\n",
        "\n",
        "modelo_imputado <- lm(y ~ x, data = datos_imputados)\n",
        "summary(modelo_imputado)\n",
        "\n",
        "nrow(datos_imputados)                # 100 observaciones originales\n",
        "nrow(modelo_imputado$model)  # Solo 85 filas usadas (15 con NA en x)\n",
        "\n",
        "\n"
      ],
      "metadata": {
        "id": "cwZ0All7zmo5"
      },
      "execution_count": null,
      "outputs": []
    },
    {
      "cell_type": "markdown",
      "source": [
        "## Detección y diagnóstico de valores faltantes\n",
        "\n",
        "**¿por qué es tan crítico?**\n",
        "\n",
        "Un solo NA sin tratar puede hacer que todo un análisis falle o se distorsione.\n",
        "\n",
        "Los datos faltantes deben ser detectados, visualizados y tratados adecuadamente.\n",
        "\n",
        "El primer paso siempre debe ser saber si alguna(s) de la(s) variables(s) contiene datos faltantes, para esto contamos con muchas herramientas, veremos algunas de ellas:"
      ],
      "metadata": {
        "id": "Nbx7eUkk0bfE"
      }
    },
    {
      "cell_type": "code",
      "source": [
        "# Función para instalar si no está instalado\n",
        "instalar_si_no <- function(paquete) {\n",
        "    if (!requireNamespace(paquete, quietly = TRUE)) {\n",
        "    install.packages(paquete, repos = \"https://cloud.r-project.org\")\n",
        "  }\n",
        "  library(paquete, character.only = TRUE)\n",
        "}\n",
        "\n",
        "# Lista de paquetes a verificar\n",
        "paquetes <- c(\"naniar\", \"visdat\", \"VIM\", \"remotes\",\"tidyr\", \"ggplot2\")\n",
        "\n",
        "# Instalar y cargar todos\n",
        "invisible(lapply(paquetes, instalar_si_no))\n",
        "remotes::install_github(\"davidbiol/empire\")"
      ],
      "metadata": {
        "id": "MgkAArvVX92Z"
      },
      "execution_count": null,
      "outputs": []
    },
    {
      "cell_type": "code",
      "source": [
        "library(naniar)\n",
        "library(VIM)"
      ],
      "metadata": {
        "id": "iKLVfYl8-sJM"
      },
      "execution_count": null,
      "outputs": []
    },
    {
      "cell_type": "markdown",
      "source": [
        "Métodos para detectar NAs."
      ],
      "metadata": {
        "id": "kV6Ko7tuBnKX"
      }
    },
    {
      "cell_type": "code",
      "source": [
        "cat(\"\\n----- Para ver si hay NA --------\")\n",
        "\n",
        "summary(datos)\n",
        "\n",
        "cat(\"\\n---- Número total de NA ---------\")\n",
        "\n",
        "sum(is.na(datos))\n",
        "\n",
        "cat(\"\\n----- Número de NA por columna --------\")\n",
        "\n",
        "colSums(is.na(datos))\n",
        "\n",
        "cat(\"\\n---- Número de NA por fila ---------\")\n",
        "\n",
        "rowSums(is.na(datos))\n",
        "\n",
        "cat(\"\\n--- Devuelve TRUE si hay al menos un NA en el data.frame. Es la forma más rápida y directa. ----------\")\n",
        "\n",
        "anyNA(datos)\n",
        "\n",
        "cat(\"\\n---- Devuelve una matriz lógica del mismo tamaño que datos, indicando con TRUE dónde hay NA. ---------\")\n",
        "\n",
        "is.na(datos)\n",
        "\n",
        "cat(\"\\n---- Devuelve un vector lógico que indica qué filas no tienen ningún NA. Puedes usarlo para filtrar: ---------\")\n",
        "\n",
        "complete.cases(datos)\n",
        "\n",
        "cat(\"\\n---- Muestra número y porcentaje de NA por fila ---------\")\n",
        "\n",
        "miss_case_summary(datos)"
      ],
      "metadata": {
        "id": "r9zx8z_Y0usH"
      },
      "execution_count": null,
      "outputs": []
    },
    {
      "cell_type": "markdown",
      "source": [
        "Métodos de visualización:"
      ],
      "metadata": {
        "id": "RYw5IjI_B0NH"
      }
    },
    {
      "cell_type": "code",
      "source": [
        "print(\" -------   Muestra número y porcentaje de NA por variable. -------------\")\n",
        "\n",
        "# La función miss_var_summary(df) pertenece al paquete naniar de R, que se utiliza para analizar y visualizar datos faltantes de manera eficiente y clara.\n",
        "# miss_var_summary(df) genera un resumen por variable (columna) del número y porcentaje de valores faltantes (NA) en el data frame df.\n",
        "# y devuelve una tabla resumen con tres columnas principales:\n",
        "# variable: el nombre de la columna del data frame.\n",
        "# n_miss: cuántos valores faltantes tiene esa columna.\n",
        "# pct_miss: el porcentaje de valores faltantes respecto al total de filas.\n",
        "\n",
        "miss_var_summary(df)\n",
        "\n",
        "print(\"---- Muestra un gráfico de barras con la cantidad de valores faltantes por variable y patrones comunes. ---------\")\n",
        "\n",
        "aggr(df, numbers=TRUE)"
      ],
      "metadata": {
        "id": "bbY46cS3B-yR"
      },
      "execution_count": null,
      "outputs": []
    },
    {
      "cell_type": "markdown",
      "source": [
        "## Patrones de pérdida de datos\n",
        "\n",
        "Los patrones describen *dónde* faltan los datos en el dataset. Los principales son:\n",
        "\n",
        "<center>\n",
        " <img src=\"https://github.com/ednavivianasegura/AccesoImages/blob/main/datossinNA.png?raw=true\" alt=\"descriptiva\" width=\"50%\" height=\"50%\">  \n",
        "</center>\n",
        "\n",
        "\n",
        "- **Univariado**: solo una variable tiene NA:\n",
        "\n",
        "<center>\n",
        " <img src=\"https://github.com/ednavivianasegura/AccesoImages/blob/main/UnivariadoNA.png?raw=true\" alt=\"descriptiva\" width=\"50%\" height=\"50%\">  \n",
        "</center>\n",
        "\n",
        "Solo una variable contiene valores faltantes; el resto de las variables están completamente observadas.\n",
        "Suele ser el patrón más simple y fácil de manejar.\n",
        "\n",
        "En este ejemplo vemos la variable Clase tiene valores faltantes. Generalmente es la variable dependiente la que tiene valores faltantes. Probablemente puede presentarse que la persona que clasificó por largo, ancho y forma, olvidó o pasó por alto clasificar esas dos.\n",
        "\n",
        "- **Multivariado (general)**:\n",
        "\n",
        "<center>\n",
        " <img src=\"https://github.com/ednavivianasegura/AccesoImages/blob/main/MultivariadoNA.png?raw=true\" alt=\"descriptiva\" width=\"50%\" height=\"50%\">  \n",
        "</center>\n",
        "\n",
        "\n",
        "Varias variables contienen valores faltantes, sin seguir un orden estructurado. Es el patrón más común en la práctica.\n",
        "\n",
        "Por ejemplo en un estudio poblacional, la edad, peso e ingresos tienen valores faltantes, pero distribuidos de forma irregular.\n",
        "\n",
        "Suele representar más dificultad en la aplicación de algunos métodos clásicos.\n",
        "\n",
        "Vemos en el ejemplo que, si se pierde en una variable, también se pierde en otra para el mismo inidviduo. Es decir, no es aleatorio, tiene un patrón, lo que es muy frecuente en las encuestas.\n",
        "\n",
        "- **Monótono**: si hay NA en una variable, también en todas las siguientes.\n",
        "\n",
        "<center>\n",
        " <img src=\"https://github.com/ednavivianasegura/AccesoImages/blob/main/MonotonoNA.png?raw=true\" alt=\"descriptiva\" width=\"50%\" height=\"50%\">  \n",
        "</center>\n",
        "\n",
        "Hay un orden específico:\n",
        "si una observación tiene un valor faltante en la variable Xj, entonces tendrá faltantes en todas las variables posteriores (Xj+1, Xj+2, ...).\n",
        "Suele observarse en estudios longitudinales, estudios que se realizan a través del tiempo, es decir, podemos verlo como una acumulación de la pérdida de información.\n",
        "\n",
        "\n",
        "- **Arbitrario**: los valores faltantes aparecen en cualquier lugar, sin estructura visible ni lógica aparente. Es el caso más difícil de manejar y el más común. Podemos pensarlo como que la probabilidad de que cada variable tenga un dato faltante, sea la misma para todas las variables.\n",
        "\n",
        "<center>\n",
        " <img src=\"https://github.com/ednavivianasegura/AccesoImages/blob/main/GeneraNA.png?raw=true\" alt=\"descriptiva\" width=\"50%\" height=\"50%\">  \n",
        "</center>\n",
        "\n",
        "\n",
        "\n",
        "Este patrón suele requerir de métodos de imputación más robustos.\n",
        "\n",
        "\n",
        "### Mecanismos de pérdida de datos\n",
        "\n",
        "Mientras que los patrones de pérdida describen dónde faltan los datos, los mecanismos de pérdida explican por qué faltan. Esta distinción es central en el enfoque de Little & Rubin (2002) y define si los métodos de tratamiento serán válidos o introducirán sesgos.\n",
        "\n",
        "Se clasifican en tres tipos principales:\n",
        "\n",
        "1. MCAR — Missing Completely At Random (pérdida completamente al azar)\n",
        "\n",
        "La probabilidad de que un dato esté ausente es completamente aleatoria y no depende de ninguna variable observada ni no observada.\n",
        "\n",
        "**Por ejemplo:**\n",
        "\n",
        "Un sensor de temperatura falla esporádicamente debido a una interferencia eléctrica aleatoria.\n",
        "El fallo no depende ni del valor real ni de ninguna otra variable.\n",
        "\n",
        "Qué consecuencias puede traer este tipo de mecanismo:\n",
        "\n",
        "- Es el caso más benigno.\n",
        "- El análisis en los datos completos no introduce sesgo.\n",
        "- Se pueden eliminar filas sin problema (listwise deletion, la veremos más adelante).\n",
        "- Es poco frecuente en la práctica.\n",
        "\n",
        "2. MAR — Missing At Random (pérdida al azar)\n",
        "\n",
        "La probabilidad de que un dato falte depende de otras variables observadas, pero no del valor faltante en sí mismo.\n",
        "\n",
        "**Por ejemplo:**\n",
        "\n",
        "Los individuos con más dinero tienden a no reportar su nivel de ingreso.\n",
        "→ El ingreso falta, pero depende de una variable observada (por ejemplo el estrato, cuyo valor si se tiene).\n",
        "\n",
        "Qué consecuencias puede traer este tipo de mecanismo:\n",
        "\n",
        "- Más realista y frecuente.\n",
        "- El sesgo se puede corregir si incluimos las variables relacionadas en el modelo de imputación (como el estrato en este ejemplo).\n",
        "- Métodos como imputación múltiple, regresión, o modelos con pesos son válidos.\n",
        "\n",
        "3. MNAR — Missing Not At Random (Pérdida no al azar)\n",
        "\n",
        "La probabilidad de que falte un dato depende del valor faltante en sí mismo.\n",
        "\n",
        "**Por ejemplo:**\n",
        "\n",
        "Personas con altos ingresos se niegan a declarar su salario por privacidad.\n",
        "→ El dato falta precisamente porque es alto (digamos que también se negaron a responder la pregunta relacionada con el estrato socioeconómico, por lo que estaría faltando, pero sabríamos porqué).\n",
        "\n",
        "En resumen, este mecanismo de pérdida de información depende tanto de los datos observados como de los no observados (de los perdidos)\n",
        "\n",
        "Qué consecuencias puede traer este tipo de mecanismo:\n",
        "\n",
        "- Este es el caso más problemático.\n",
        "- No se puede resolver solo con los datos disponibles.\n",
        "- Se necesitan suposiciones fuertes, modelos de sensibilidad o diseño adicional (como encuestas complementarias).\n",
        "\n",
        "\n",
        "\n"
      ],
      "metadata": {
        "id": "eKKRSgqGDgC7"
      }
    },
    {
      "cell_type": "markdown",
      "source": [
        "### Ejemplo práctico:\n",
        "\n",
        "<center>\n",
        " <img src=\"https://github.com/ednavivianasegura/AccesoImages/blob/main/collage-mamiferos-cabecera.jpg?raw=true\" alt=\"descriptiva\" width=\"50%\" height=\"50%\">  \n",
        "</center>\n",
        "\n",
        "Veamos esto de una manera práctica con el dataset `sleep`. Este conjunto se basa en una recopilación de datos de sueño en mamíferos que apareció en el estudio R. M. Siegel (2005). Clues to the functions of mammalian sleep. Nature, 437(7063), 1264–1271. Cada fila representa una especie de mamífero. Y las variables describen: características biológicas (peso corporal, peso cerebral), comportamientos relacionados con el sueño (horas REM y no REM), estrategias de supervivencia (depredador, exposición al peligro) y riesgos ecológicos.\n",
        "\n",
        "| Variable   | Tipo                | Descripción breve                                        |\n",
        "| ---------- | ------------------- | -------------------------------------------------------- |\n",
        "| `BodyWgt`  | numérico            | Peso corporal en kilogramos                              |\n",
        "| `BrainWgt` | numérico            | Peso del cerebro en gramos                               |\n",
        "| `NonD`     | numérico            | Horas de sueño no REM (sin movimientos oculares rápidos) |\n",
        "| `Dream`    | numérico            | Horas de sueño REM (con sueños)                          |\n",
        "| `Sleep`    | numérico            | Total de horas de sueño por día                          |\n",
        "| `Span`     | numérico            | Esperanza de vida en años                                |\n",
        "| `Gest`     | numérico            | Duración de la gestación en días                         |\n",
        "| `Pred`     | categórica (factor) | ¿Es el animal un depredador? (categoría: sí/no)          |\n",
        "| `Exp`      | categórica (factor) | ¿Está expuesto a peligro? (bajo, medio, alto)            |\n",
        "| `Danger`   | numérico            | Nivel de peligro general (valor numérico del riesgo)     |\n",
        "\n"
      ],
      "metadata": {
        "id": "VkkyaPKeHdgK"
      }
    },
    {
      "cell_type": "code",
      "source": [
        "data(sleep)\n",
        "# Ver dimensiones del dataset\n",
        "dim(sleep)\n",
        " #Ver variables del dataset\n",
        "str(sleep)\n",
        "glimpse(sleep)"
      ],
      "metadata": {
        "id": "OMiOH92WH3Za"
      },
      "execution_count": null,
      "outputs": []
    },
    {
      "cell_type": "code",
      "source": [
        "View(sleep)"
      ],
      "metadata": {
        "id": "HmTeRltnD49L"
      },
      "execution_count": null,
      "outputs": []
    },
    {
      "cell_type": "markdown",
      "source": [
        "Hacemos primero un análisis descriptivo"
      ],
      "metadata": {
        "id": "paXcWEP9qzfr"
      }
    },
    {
      "cell_type": "code",
      "source": [
        "summary(sleep)"
      ],
      "metadata": {
        "id": "1IM2rJ7iqyMQ"
      },
      "execution_count": null,
      "outputs": []
    },
    {
      "cell_type": "markdown",
      "source": [
        "Dentro del análisis inicial, es importante revisar la correlación entre las variables"
      ],
      "metadata": {
        "id": "CYxnqKgerG7d"
      }
    },
    {
      "cell_type": "code",
      "source": [
        "#Correlación (usa una función del paquete visdat para visualizar gráficamente una matriz de correlación entre las variables del dataset sleep:)\n",
        "visdat::vis_cor(sleep, na_action = \"complete.obs\")\n",
        "#El operador :: se utiliza para acceder a una función específica dentro de un paquete, sin necesidad de cargar todo el paquete con library().\n",
        "#na_action = \"complete.obs\", indica cómo manejar los valores faltantes (NA) al calcular las correlaciones,\n",
        "# significa que sólo se usan aquellas filas (observaciones) que no tienen ningún NA en ninguna de las variables consideradas.\n",
        "\n"
      ],
      "metadata": {
        "id": "7jrPDEWgqyEl"
      },
      "execution_count": null,
      "outputs": []
    },
    {
      "cell_type": "markdown",
      "source": [
        "Si existe algún tipo de correlación, nos facilita la tarea de estimar los datos faltantes de alguna manera más precisa.\n",
        "\n",
        "A continuación visualizamos los datos faltantes:"
      ],
      "metadata": {
        "id": "tKloi6zRsjNs"
      }
    },
    {
      "cell_type": "code",
      "source": [
        "?VIM::aggr"
      ],
      "metadata": {
        "id": "kn64OjDyt2zN"
      },
      "execution_count": null,
      "outputs": []
    },
    {
      "cell_type": "code",
      "source": [
        "# Visualizar patrón general\n",
        "\n",
        "#Gráficas\n",
        "visdat::vis_dat(sleep, sort_type = FALSE)\n",
        "#¿Qué hace?\n",
        "# Genera un mapa visual del dataset, donde:\n",
        "# Cada fila representa una observación.\n",
        "# Cada columna representa una variable.\n",
        "# Los colores indican el tipo de dato (numérico, carácter, lógico, NA, etc.).\n",
        "# Argumento:\n",
        "# sort_type = FALSE: mantiene el orden original de las variables.\n",
        "# (Si fuera TRUE, ordenaría las columnas por tipo de dato.)\n",
        "# ¿Para qué sirve?\n",
        "# Ver de forma rápida qué variables tienen NA y de qué tipo son las demás.\n",
        "# Identificar valores atípicos o inconsistencias de tipo (por ejemplo, una columna que debería ser numérica pero es carácter).\n",
        "\n",
        "\n",
        "visdat::vis_miss(sleep)\n",
        "#Este nos ayuda a identificar los patrones:\n",
        "# A qué patrón parece?\n",
        "# Vemos que cuando se pierde NonD, se pierde también Dream, si comprobamos\n",
        "# la correlación, vemos que no es tan alta.\n",
        "# Puede que sea una simple casualidad.\n",
        "\n",
        "VIM::aggr(sleep, numbers = TRUE, sortVars = TRUE, gap = 3,prop = TRUE,\n",
        "     ylab = c(\"Frecuencia de NA\", \"Patrón de pérdida\"))\n",
        "\n",
        "\n",
        "#Produce una visualización compuesta que incluye:\n",
        "# Un histograma con el porcentaje de valores faltantes por variable (izquierda).\n",
        "# Una matriz de combinaciones de ausencia/presencia entre variables (derecha).\n",
        "# Argumentos clave:\n",
        "#numbers = TRUE: muestra los valores numéricos sobre las barras.\n",
        "#sortVars = TRUE: ordena las variables de mayor a menor porcentaje de NA.\n",
        "#gap = 3: espacio entre los gráficos izquierdo y derecho.\n",
        "#prop = TRUE: muestra proporciones en lugar de conteo absoluto.\n",
        "#ylab: etiquetas personalizadas del eje y.\n",
        "#¿Para qué sirve?\n",
        "#Diagnóstico visual completo del patrón de pérdida de datos\n",
        "# Permite ver cómo esta la proporción de pérdida en cada una de las variables.\n",
        "#Permite detectar si hay correlaciones entre variables faltantes (por ejemplo, cuando dos columnas tienden a estar ausentes juntas).\n",
        "\n",
        "\n",
        "\n"
      ],
      "metadata": {
        "id": "KZ06blRSqxtX"
      },
      "execution_count": null,
      "outputs": []
    },
    {
      "cell_type": "markdown",
      "source": [
        "¿Qué podemos ver aquí?\n",
        "\n",
        "Gráfico aggr() — Frecuencia y patrón de pérdida\n",
        "Este gráfico tiene dos componentes:\n",
        "\n",
        "- A la izquierda: barras verticales rojas\n",
        "Representan el porcentaje de valores faltantes por variable.\n",
        "\n",
        "De acuerdo con la tabla y el gráfico de barras:\n",
        "\n",
        "| Variable | % NA   | Significado                                               |\n",
        "|----------|--------|------------------------------------------------------------|\n",
        "| NonD     | 22.6%  | Horas de sueño no REM faltantes en 22.6%                   |\n",
        "| Dream    | 19.4%  | Horas de sueño REM faltantes en 19.4%                      |\n",
        "| Sleep    | 6.5%   | Total de horas de sueño faltantes                          |\n",
        "| Span     | 6.5%   | Esperanza de vida faltante                                 |\n",
        "| Gest     | 6.5%   | Días de gestación faltantes                                |\n",
        "| Resto    | 0%     | Completas: sin valores faltantes                           |\n",
        "\n",
        "\n",
        "Vemos entonces que el mayor problema está en las variables NonD y Dream.\n",
        "\n",
        "- A la derecha: matriz de patrones de NA\n",
        "Cada columna representa una variable.\n",
        "\n",
        "Cada fila representa una combinación específica de presencia/ausencia de datos en una observación.\n",
        "\n",
        "Rojo = valor faltante | Azul = valor presente\n",
        "\n",
        "¿Qué observamos?\n",
        "\n",
        "Hay una gran cantidad de combinaciones diferentes de valores faltantes, lo que sugiere un patrón de pérdida general (arbitrario), no monótono.\n",
        "\n",
        "Concretamente:\n",
        "\n",
        "- Fila completamente azul con valor 0,67, indica que todas las variables están presentes (sin NA).\n",
        "Es decir, ese patrón representa las observaciones completas o casos completos: Valor 0,67: significa que el 67% de las observaciones del dataset están completas, es decir, no tienen ningún valor faltante en ninguna variable.\n",
        "Por lo tanto, en el dataset sleep con 62 observaciones, esto corresponde a aproximadamente 42 observaciones completas (62*0,67)\n",
        "\n",
        "- Algunas observaciones tienen múltiples NA; otras tienen uno solo, por ejemplo:\n",
        "\n",
        "Fila con rojo solo en Gest y valor 0,048, representa el patrón en el que solo falta la variable Gest, el resto de variables está presente. El valor 0,048: implica que el 4.8% de las observaciones tienen NA únicamente en Gest (0,048*65 aprox 3 observaciones).\n",
        "\n"
      ],
      "metadata": {
        "id": "nr6I4u8smG7Y"
      }
    },
    {
      "cell_type": "code",
      "source": [
        "#Información de número de datos faltantes totales y de la posición\n",
        "empire::count_miss(data = sleep) #Número de datos faltantes\n",
        "empire::pos_miss(data = sleep) #Posición fila-columna de los datos faltantes"
      ],
      "metadata": {
        "id": "PWfHeGa0l8eo"
      },
      "execution_count": null,
      "outputs": []
    },
    {
      "cell_type": "markdown",
      "source": [
        "## Técnicas de manejo de datos faltantes.\n",
        "\n",
        "| Estrategia                     | Descripción breve                              | Requiere suposiciones fuertes     | Mantiene tamaño de muestra |\n",
        "| ------------------------------ | ---------------------------------------------- | --------------------------------- | -------------------------- |\n",
        "| Eliminación de casos           | Omitir filas con NA                            | ❌ Solo válida si MCAR (resultados un poco decentes)             | ❌  (producir sesgos)                        |\n",
        "| Imputación con media/mediana   | Reemplaza NA por un valor fijo                 | ✅ Simplista, distorsiona varianza | ✅                          |\n",
        "| Imputación por regresión       | Predice el NA con otras variables observadas   | ✅ Supone relación lineal          | ✅                          |\n",
        "| Imputación con penalización    | Como la regresión, pero con regularización     | ✅ Menos riesgo de sobreajuste     | ✅                          |\n",
        "| Imputación múltiple / avanzada | Genera varios datasets imputados + combinación | ✅ Compleja, pero más rigurosa     | ✅                          |\n",
        "\n",
        "\n",
        "### Eliminación de casos\n",
        "Es fácil y sin sesgo si los datos faltan al azar.\n",
        "Puede eliminar mucha información.\n"
      ],
      "metadata": {
        "id": "CP4X-Zvh53NP"
      }
    },
    {
      "cell_type": "code",
      "source": [
        "# Eliminar filas con cualquier NA\n",
        "\n",
        "View(sleep)\n",
        "\n",
        "sleep_limpio <- sleep[complete.cases(sleep), ]\n",
        "print(dim(sleep_limpio))\n",
        "\n",
        "sleep_limpio2<- sleep %>%\n",
        "  filter(if_all(everything(), ~ !is.na(.))) ## Filtrar las filas que NO tengan ningún valor NA en ninguna de sus columnas.\n",
        "  # 'if_all(everything(), ~ !is.na(.))' verifica que todas las columnas de cada fila no tengan NA\n",
        "  # everything(): selecciona todas las columnas del data frame.\n",
        "  # if_all(...): evalúa si se cumple una condición en todas las columnas.\n",
        "print(dim(sleep_limpio2))\n",
        "\n",
        "# Ver resumen del nuevo dataset\n",
        "summary(sleep_limpio)\n",
        "View(sleep_limpio) #ver los elementos eliminados\n",
        "\n",
        "# Ver cuántas filas se eliminaron (cantidad y proporción)\n",
        "cat(\"\\nSe han eliminado\", nrow(sleep) - nrow(sleep_limpio),\"observaciones, que equivalen aproximadamente al\",round((abs(nrow(sleep) - nrow(sleep_limpio))/nrow(sleep)*100),2),\"% de la información total\")\n",
        "\n"
      ],
      "metadata": {
        "id": "TwQy7oDW5cDT"
      },
      "execution_count": null,
      "outputs": []
    },
    {
      "cell_type": "markdown",
      "source": [
        "### Imputación con la media\n",
        "\n",
        "- Sustiye el dato faltante por el valor medio de la variable, calculado con los datos existentes.\n",
        "- Es especialmente válida cuando los datos faltantes siguen un patrón MCAR, cuando la correlación entre las variables es baja y el porcentaje de datos faltantes es bajo.\n",
        "- Afecta la potencia de la prueba.\n",
        "- Afecta la distribución de las variables.\n",
        "- No tiene en cuenta las demás variables."
      ],
      "metadata": {
        "id": "zqtzHQMuAVld"
      }
    },
    {
      "cell_type": "code",
      "source": [
        "#defino función para calcular sd a todas las variables numércias:\n",
        "st_total<- function(x)\n",
        "    {if(is.numeric(x)) resultado <- sd(x, na.rm = TRUE) else resultado <-NA\n",
        "    return (resultado)}\n",
        "\n",
        "cat(\"\\nVista de datos originales\")\n",
        "View(sleep) #los nuevos datos\n",
        "\n",
        "# Imputación con la media\n",
        "new_sleep_mean <- empire::impute_mean(data = sleep)\n",
        "#tiene varios atributos (vario s objetos)\n",
        "\n",
        "#new_sleep_mean$positions #muestra las posiciones de los valores faltantes\n",
        "#new_sleep_mean$imp_values #cuales son los valores imputados\n",
        "\n",
        "\n",
        "cat(\"\\nVista de datos nuevos\")\n",
        "View(new_sleep_mean$new_data) #los nuevos datos\n",
        "\n",
        "# Revisar variables\n",
        "# Comparación de datasets (medias, cuartiles y desvest)\n",
        "\n",
        "cat(\"\\nResumen datos normales\")\n",
        "summary(sleep)\n",
        "sapply(sleep,st_total)\n",
        "\n",
        "\n",
        "\n",
        "cat(\"\\nResumen datos imputados con la media\")\n",
        "summary(new_sleep_mean$new_data)\n",
        "sapply(new_sleep_mean$new_data, st_total)\n",
        "\n",
        "\n"
      ],
      "metadata": {
        "id": "kofkq6t19a3c"
      },
      "execution_count": null,
      "outputs": []
    },
    {
      "cell_type": "markdown",
      "source": [
        "### Imputación con la mediana\n",
        "\n",
        "- Sustiye el dato faltante por la mediana de la variable, calculado con los datos existentes.\n",
        "- Es especialmente válida cuando los datos faltantes siguen un patrón MCAR, cuando la correlación entre las variables es baja y el porcentaje de datos faltantes es bajo.\n",
        "- Es mejor que la media, en datos no paramétricos, mientras que si los datos son paramétricos es mejor la media que la mediana.\n",
        "- Afecta la distribución de la variable (tanto media como mediana)\n",
        "- No tiene en cuenta las demás variables."
      ],
      "metadata": {
        "id": "pW8fgxU6HFe5"
      }
    },
    {
      "cell_type": "code",
      "source": [
        "#Imputación con la mediana\n",
        "new_sleep_mediana <- empire::impute_median(data = sleep)\n",
        "\n",
        "#new_sleep_mediana$imp_values\n",
        "#new_sleep_mediana$new_data\n",
        "\n",
        "\n",
        "# Revisar variables\n",
        "# Comparación de datasets (medias, cuartiles y desvest)\n",
        "\n",
        "cat(\"\\nResumen datos normales\")\n",
        "summary(sleep)\n",
        "sapply(sleep,st_total)\n",
        "\n",
        "cat(\"\\nResumen datos imputados con la mediana\")\n",
        "summary(new_sleep_mediana$new_data)\n",
        "sapply(new_sleep_mediana$new_data, st_total)\n"
      ],
      "metadata": {
        "id": "hY522CsABZuX"
      },
      "execution_count": null,
      "outputs": []
    },
    {
      "cell_type": "markdown",
      "source": [
        "Ahora veremos técnicas más avanzadas, más cercanas a la realidad (mejores estimación):\n",
        "\n",
        "### Estimación por regresión lineal múltiple\n",
        "\n",
        "- La imputación del dato faltante en la variable de interés depende de otras variables.\n",
        "- Reemplaza cada dato faltante por un valor estimado basado en un modelo de regresión con las variables existentes.\n",
        "- La técnica es relativamente efectiva cuando las correlaciones de las variables son estables, es decir, no varían mucho con un dato más o un dato menos (si tenemos un tamaño muestral relativamente grande).\n",
        "- Si se cumplen los supuestos de una regresión múltiple, homocedasticidad, linealidad, etc, estqa técnica es muy muy buena.\n",
        "- Esta técninca evita alterar significativamente las desviaciones estándar o en general, la forma de la distribución.\n",
        "\n",
        "(volver al ejemplo de patrón univariado (imagen arriba))\n"
      ],
      "metadata": {
        "id": "sdCzP0mvIswF"
      }
    },
    {
      "cell_type": "code",
      "source": [
        "cor(sleep[, 1:7], use = \"pairwise.complete.obs\")"
      ],
      "metadata": {
        "id": "t9-b38EKLSs9"
      },
      "execution_count": null,
      "outputs": []
    },
    {
      "cell_type": "code",
      "source": [
        "# Estimación por regresión lineal múltiple\n",
        "# Solo seleccionamos variables numéricas para imputar por regresión\n",
        "\n",
        "empire::estimate_mlr(data = sleep[,1:7])\n",
        "# En el momento de aplicar la regresión lineal múltiple, los parámetros se estiman calculando X*transpuesta de X y luego se calcula la inversa.\n",
        "# Lo que pasa es que en algún momento del cálculo debe estar dando \"indefinido\" al hacer este cálculo.\n",
        "# Este problema, con la estimación lineal múltiple, sucede cuando se viola alguno de los supuestos, en este caso, lo más probable es que se esté\n",
        "# violando el supuesto de multicolinealidad\n"
      ],
      "metadata": {
        "collapsed": true,
        "id": "OBF-GQIcQXDM"
      },
      "execution_count": null,
      "outputs": []
    },
    {
      "cell_type": "code",
      "source": [
        "#En este caso, sólo con fines de mostrar los resultados, escogemos variables que no\n",
        "# presenten multicolinealidad, pero veremos como solucionarlo de una manera más formal en la siguiente técnica.\n",
        "\n",
        "\n",
        "#Asumimos cumplidas las hipótesis de linealidad, normalidad multivariada, no multicolinealidad y homocedasticidad:\n",
        "imp_mlr <- empire::estimate_mlr(data = sleep[, c(\"BodyWgt\", \"NonD\", \"Span\", \"Gest\")], diff= 10e-08)\n",
        "\n",
        "# Esta función itera. Estima los datos faltantes, con base en la regresión lineal múltiple, luego vuelve a aplicar la\n",
        "# rlm con los datos nuevos, calcula la diferencia... varias veces hasta cuando la diferencia sea muy pequeña (menor a 10e-08)\n",
        "# Ver resultados\n",
        "imp_mlr$positions\n",
        "imp_mlr$est_values\n",
        "imp_mlr$new_data\n",
        "\n",
        "\n",
        "\n",
        "# Revisar variables\n",
        "# Comparación de datasets (medias, cuartiles y desvest)\n",
        "\n",
        "cat(\"\\nResumen datos normales\")\n",
        "summary(sleep[, c(\"BodyWgt\", \"NonD\", \"Span\", \"Gest\")])\n",
        "sapply(sleep[, c(\"BodyWgt\", \"NonD\", \"Span\", \"Gest\")],st_total)\n",
        "\n",
        "cat(\"\\nResumen datos imputados con la media\")\n",
        "summary(imp_mlr$new_data)\n",
        "sapply(imp_mlr$new_data, st_total)\n",
        "\n",
        "\n",
        "# empire::estimate_mlr() realiza una imputación secuencial:\n",
        "# Imputa primero las variables con menos NA.\n",
        "# Luego usa esas variables ya imputadas como predictores para las siguientes.\n",
        "# Si una variable explicativa tiene NA en el momento del modelo, solo se usan las filas completas para ajustar y predecir.\n",
        "# Pero: si muchas variables tienen NA simultáneamente, puede fallar o devolver resultados sesgados.\n",
        "\n",
        "\n",
        "\n"
      ],
      "metadata": {
        "id": "5d1EYWQ_H7EC"
      },
      "execution_count": null,
      "outputs": []
    },
    {
      "cell_type": "markdown",
      "source": [
        "### Regresión lineal múltiple penalizada (RIDGE - Estimation of Missin-Data using Penalized Iterative Regressions, de la librería empire)\n",
        "\n",
        "empire es un paquete de R que proporciona una serie de funciones para trabajar la imputación (estimación) de datos faltantes:\n",
        "\n",
        "- count_miss\n",
        "- pos_miss\n",
        "- impute_mean\n",
        "- impute median\n",
        "- estimate_mlr\n",
        "- estimate_ridge (la más importante)\n",
        "    - Aplica la penalización (regularización) de Ridge a la regresión.\n",
        "        La regresión penalizada ridge permite imputar valores faltantes de forma más robusta que la regresión clásica. Esto se logra añadiendo una penalización que estabiliza las estimaciones cuando hay muchas variables correlacionadas o faltan muchas observaciones al mismo tiempo. La función estimate_ridge() del paquete empire automatiza este proceso y devuelve un dataset limpio sin NA."
      ],
      "metadata": {
        "id": "vS72rciEScW0"
      }
    },
    {
      "cell_type": "code",
      "source": [
        "# Estimación por regresión lineal múltiple penalizada\n",
        "new_sleep_ridge <- empire::estimate_ridge(data = sleep[,1:7], diff = 10, ridge_alpha = 0)\n",
        "\n",
        "#vemos que ahora no sacó ningún error\n",
        "\n",
        "new_sleep_ridge$est_values #valores estimados que están teniendo en cuenta las otras variables\n",
        "new_sleep_ridge$new_dat\n",
        "\n",
        "# Revisar variables\n",
        "# Comparación de datasets (medias, cuartiles y desvest)\n",
        "\n",
        "cat(\"\\nResumen datos normales\")\n",
        "summary(sleep)\n",
        "sapply(sleep,st_total)\n",
        "\n",
        "cat(\"\\nResumen datos imputados con la media\")\n",
        "summary(new_sleep_ridge$new_data)\n",
        "sapply(new_sleep_ridge$new_data, st_total)"
      ],
      "metadata": {
        "id": "VLFXmhxRKxt1"
      },
      "execution_count": null,
      "outputs": []
    },
    {
      "cell_type": "markdown",
      "source": [
        "Finalmente creamos una comparación entre métodos:"
      ],
      "metadata": {
        "id": "-A140s-ztVo8"
      }
    },
    {
      "cell_type": "code",
      "source": [
        "# Comparación de métodos de imputación sobre el dataset `sleep`\n",
        "\n",
        "# Seleccionar solo las columnas numéricas para aplicar métodos de imputación numérica\n",
        "sleep_numericas <- dplyr::select_if(sleep, is.numeric)\n",
        "\n",
        "# Eliminar filas que tengan al menos un NA (eliminación de casos)\n",
        "sleep_limpio <- sleep[complete.cases(sleep), ]\n",
        "\n",
        "# Aplicar imputación por la media a columnas numéricas\n",
        "new_sleep_mean <- empire::impute_mean(data = sleep_numericas)\n",
        "\n",
        "# Aplicar imputación por la mediana a columnas numéricas\n",
        "new_sleep_median <- empire::impute_median(data = sleep_numericas)\n",
        "\n",
        "# Aplicar imputación por regresión lineal penalizada (ridge) a primeras 7 columnas numéricas\n",
        "new_sleep_ridge <- empire::estimate_ridge(data = sleep[,1:7], diff = 10, ridge_alpha = 0)\n",
        "\n",
        "# ------------------- Definir función para alinear datasets -------------------\n",
        "# Esta función unifica el número de columnas y añade el nombre del método como etiqueta\n",
        "alinear_datos <- function(df, nombre, columnas_ref) {\n",
        "  if (is.list(df) && !is.null(df$new_data)) {\n",
        "    df <- df$new_data  # Extraer los datos imputados si el objeto es una lista\n",
        "  }\n",
        "  faltantes <- setdiff(columnas_ref, colnames(df))  # Identificar columnas faltantes\n",
        "  df[faltantes] <- NA  # Añadirlas con NA si faltan\n",
        "  df <- df[, columnas_ref]  # Reordenar columnas según las de referencia\n",
        "  df$metodo <- nombre       # Añadir columna que indica el método\n",
        "  return(df)\n",
        "}\n",
        "\n",
        "\n",
        "# Definir las columnas de referencia (del dataset original)\n",
        "columnas_ref <- colnames(sleep)\n",
        "\n",
        "# Unir todos los datasets con imputaciones diferentes en un solo data frame\n",
        "# bind_rows() concatena por filas\n",
        "\n",
        "todos <- bind_rows(\n",
        "  alinear_datos(sleep, \"original (con NA)\", columnas_ref),\n",
        "  # 1. Usa el conjunto original 'sleep' (con valores faltantes)\n",
        "  #    y lo etiqueta como \"original (con NA)\" añadiendo una columna 'metodo'\n",
        "  #    Además, lo ajusta para que tenga las mismas columnas y orden que 'columnas_ref'\n",
        "\n",
        "  alinear_datos(sleep_limpio, \"eliminación\", columnas_ref),\n",
        "  # 2. Usa la versión sin valores faltantes ('sleep_limpio'),\n",
        "  #    resultado de eliminar filas con NA (complete.cases)\n",
        "  #    Se etiqueta con 'metodo = \"eliminación\"'\n",
        "\n",
        "  alinear_datos(new_sleep_mean$new_data, \"media\", columnas_ref),\n",
        "  # 3. Usa los datos imputados con la media y los etiqueta como \"media\"\n",
        "\n",
        "  alinear_datos(new_sleep_median$new_data, \"mediana\", columnas_ref),\n",
        "  # 4. Usa los datos imputados con la mediana y los etiqueta como \"mediana\"\n",
        "\n",
        "  alinear_datos(new_sleep_ridge$new_data, \"ridge\", columnas_ref)\n",
        "  # 5. Usa los datos imputados mediante regresión ridge y los etiqueta como \"ridge\"\n",
        ")\n",
        "\n",
        "cat(\"\\n todos: \")\n",
        "\n",
        "View(todos)\n",
        "\n",
        "# Convertir columnas categóricas en factores para asegurar que sean tratadas correctamente\n",
        "categoricas <- c(\"Pred\", \"Exp\", \"Danger\")\n",
        "todos[categoricas] <- lapply(todos[categoricas], as.factor)\n",
        "\n",
        "# Asegurar también que las variables categóricas del dataset original sean factores\n",
        "sleep$Pred <- as.factor(sleep$Pred)\n",
        "sleep$Exp <- as.factor(sleep$Exp)\n",
        "sleep$Danger <- as.factor(sleep$Danger)\n",
        "\n",
        "# ====================== ANÁLISIS NUMÉRICO ======================\n",
        "\n",
        "# Calcular estadísticas descriptivas (media, sd, min, max) para variables numéricas agrupadas por método\n",
        "# group_by() agrupa por el método de imputación\n",
        "# summarise(across(...)) aplica múltiples funciones a columnas numéricas\n",
        "resumen <- todos %>%                         # 1. Toma el data frame 'todos'\n",
        "  group_by(metodo) %>%                        # 2. Agrupa las observaciones por la columna 'metodo'\n",
        "  summarise(                                  # 3. Resume cada grupo con estadísticas numéricas\n",
        "    across(                                   # 4. Aplica funciones a todas las columnas numéricas\n",
        "                                              # across() aplica una o más funciones a una o más columnas, dentro de funciones como summarise() o mutate().\n",
        "      where(is.numeric),                      # 5. Selecciona solo las columnas numéricas\n",
        "      list(                                   # 6. Aplica una lista de funciones resumen:\n",
        "        media = ~mean(., na.rm = TRUE),       #   - Media, ignorando NA\n",
        "        sd = ~sd(., na.rm = TRUE),            #   - Desviación estándar, ignorando NA\n",
        "        min = ~if (all(is.na(.))) NA          #   - Mínimo (si toda la columna es NA, devuelve NA)\n",
        "               else min(., na.rm = TRUE),\n",
        "        max = ~if (all(is.na(.))) NA          #   - Máximo (si toda la columna es NA, devuelve NA)\n",
        "               else max(., na.rm = TRUE)\n",
        "      ),\n",
        "      .names = \"{.col}_{.fn}\"                 # 7. Nombra las columnas como: variable_función (ej: REM_media)\n",
        "    ),\n",
        "    .groups = \"drop\"                          # 8. Elimina el agrupamiento después del resumen\n",
        "  )\n",
        "\n",
        "\n",
        "# Mostrar resumen en consola\n",
        "cat(\"\\n Muestra el resumen realizado\")\n",
        "print(resumen)\n",
        "\n",
        "# Convertir a formato largo para graficar comparaciones\n",
        "# pivot_longer transforma de formato ancho a largo para graficar con ggplot\n",
        "long <- todos %>%\n",
        "  pivot_longer(cols = where(is.numeric), names_to = \"variable\", values_to = \"valor\")\n",
        "\n",
        "cat(\"\\n muestra a TODOS en el formato largo para utilizarlo en la visualización\")\n",
        "View(long)\n",
        "\n",
        "# Visualización numérica: boxplots por variable y método\n",
        "# geom_boxplot() permite comparar medianas y dispersión\n",
        "\n",
        "ggplot(long, aes(x = metodo, y = valor, fill = metodo)) +\n",
        "  # Crea un gráfico usando el data frame 'long'\n",
        "  # aes(...) define los mapeos estéticos:\n",
        "  #   - x = metodo: en el eje x se colocan los métodos de imputación\n",
        "  #   - y = valor: en el eje y los valores de las variables numéricas\n",
        "  #   - fill = metodo: se colorean los boxplots según el método\n",
        "\n",
        "  geom_boxplot(outliers = FALSE) +\n",
        "  # Dibuja un diagrama de caja (boxplot) para cada combinación de método y variable\n",
        "  # outliers = FALSE → no se muestran los puntos extremos (atípicos)\n",
        "\n",
        "  facet_wrap(~variable, scales = \"free\") +\n",
        "  # Divide el gráfico en paneles independientes, uno por cada variable numérica\n",
        "  # ~variable indica que cada panel se basa en la variable (columna 'variable')\n",
        "  # scales = \"free\" permite que cada gráfico tenga su propio eje y, según su rango\n",
        "\n",
        "  theme_minimal() +\n",
        "  # Aplica un tema visual limpio y sencillo al gráfico (fondo blanco sin recuadros)\n",
        "\n",
        "  theme(axis.text.x = element_text(angle = 45, hjust = 1)) +\n",
        "  # Rota las etiquetas del eje x 45 grados para que no se solapen\n",
        "  # hjust = 1 → alinea las etiquetas hacia la derecha\n",
        "\n",
        "  labs(title = \"Comparación de variables numéricas por método de imputación\")\n",
        "  # Añade un título al gráfico\n",
        "\n",
        "\n",
        "# Visualización numérica: curvas de densidad\n",
        "# geom_density() muestra la forma de la distribución\n",
        "long_filtrado <- long %>% filter(!is.na(valor))\n",
        "\n",
        "ggplot(long_filtrado, aes(x = valor, color = metodo, fill = metodo)) +\n",
        "  # Crea un gráfico de densidad a partir del data frame 'long_filtrado'\n",
        "  # aes(...) define el mapeo estético:\n",
        "  #   - x = valor: el eje x muestra los valores de la variable numérica\n",
        "  #   - color = metodo: las curvas de densidad tendrán un contorno coloreado según el método de imputación\n",
        "  #   - fill = metodo: las curvas también estarán sombreadas según el método (área bajo la curva)\n",
        "\n",
        "  geom_density(alpha = 0.2) +\n",
        "  # Dibuja curvas de densidad para comparar distribuciones suaves de los valores numéricos\n",
        "  # alpha = 0.2 → establece la transparencia del sombreado (para que se vean las superposiciones)\n",
        "\n",
        "  facet_wrap(~variable, scales = \"free\") +\n",
        "  # Divide el gráfico en varios paneles, uno por cada variable numérica\n",
        "  # ~variable indica que se crea un panel por variable\n",
        "  # scales = \"free\" permite que cada panel tenga su propio rango de valores\n",
        "\n",
        "  theme_minimal() +\n",
        "  # Aplica un diseño limpio y simple al gráfico (sin fondos ni líneas extra)\n",
        "\n",
        "  labs(title = \"Distribución de densidad por variable y método de imputación\")\n",
        "  # Añade un título general al gráfico\n",
        "\n",
        "\n",
        "# ====================== ANÁLISIS CATEGÓRICO ======================\n",
        "\n",
        "# Convertir datos categóricos a formato largo para graficar\n",
        "# Se elimina 'ridge' porque no contiene variables categóricas\n",
        "long_cat <- todos %>%\n",
        "  filter(metodo != \"ridge\") %>%\n",
        "  # Filtra el data frame 'todos' para excluir las filas del método \"ridge\"\n",
        "  # Esto es necesario porque el método ridge puede haber eliminado o no haber imputado variables categóricas\n",
        "\n",
        "  select(metodo, all_of(categoricas)) %>%\n",
        "  # Selecciona únicamente la columna 'metodo' y las variables categóricas definidas en el vector 'categoricas'\n",
        "  # 'all_of(categoricas)' permite seleccionar variables usando un vector de nombres (por ejemplo: c(\"Pred\", \"Exp\", \"Danger\"))\n",
        "\n",
        "  pivot_longer(cols = -metodo, names_to = \"variable\", values_to = \"valor\")\n",
        "  # Convierte el data frame de formato ancho a largo\n",
        "  # 'cols = -metodo' → convierte en largo todas las columnas excepto 'metodo'\n",
        "  # 'names_to = \"variable\"' → crea una columna llamada 'variable' con los nombres de las variables categóricas\n",
        "  # 'values_to = \"valor\"' → crea una columna llamada 'valor' con los valores de cada categoría\n",
        "\n",
        "\n",
        "# Gráfico de barras para variables categóricas\n",
        "# geom_bar() con position = \"dodge\" compara frecuencias absolutas entre métodos\n",
        "\n",
        "ggplot(long_cat, aes(x = valor, fill = metodo)) +\n",
        "  # Inicia un gráfico con ggplot usando el data frame 'long_cat'\n",
        "  # aes(...) define los mapeos estéticos:\n",
        "  #   - x = valor: en el eje x se colocan las categorías de las variables (por ejemplo, \"Sí\", \"No\", \"A\", \"B\", etc.)\n",
        "  #   - fill = metodo: cada barra se colorea según el método de imputación utilizado (media, mediana, etc.)\n",
        "\n",
        "  geom_bar(position = \"dodge\") +\n",
        "  # Dibuja un gráfico de barras con barras una al lado de la otra (posición \"dodge\")\n",
        "  # Cada barra representa la frecuencia absoluta de cada categoría según el método\n",
        "\n",
        "  facet_wrap(~variable, scales = \"free\") +\n",
        "  # Divide el gráfico en paneles independientes, uno para cada variable categórica (como \"Pred\", \"Exp\", etc.)\n",
        "  # scales = \"free\" permite que cada panel tenga su propia escala de conteo en el eje y\n",
        "\n",
        "  theme_minimal() +\n",
        "  # Aplica un tema visual limpio y sin bordes pesados\n",
        "\n",
        "  labs(\n",
        "    title = \"Distribución de variables categóricas por método de imputación\",\n",
        "    x = \"Categoría\",\n",
        "    y = \"Frecuencia\"\n",
        "  ) +\n",
        "  # Define el título principal y los nombres de los ejes\n",
        "\n",
        "  theme(axis.text.x = element_text(angle = 45, hjust = 1))\n",
        "  # Rota las etiquetas del eje x 45 grados para que no se solapen\n",
        "  # hjust = 1 → alinea las etiquetas a la derecha\n",
        "\n"
      ],
      "metadata": {
        "id": "CoOc8lQPkS8N"
      },
      "execution_count": null,
      "outputs": []
    },
    {
      "cell_type": "code",
      "source": [
        "# @title crea mapa\n",
        "install.packages(\"wordcloud\")\n",
        "install.packages(\"RColorBrewer\")\n",
        "\n",
        "library(wordcloud)\n",
        "library(RColorBrewer)\n",
        "paquetes <- c(\n",
        "  \"VIM\", \"naniar\", \"missForest\", \"Amelia\", \"mice\", \"Hmisc\", \"depmixS4\",\n",
        "  \"imputeTS\", \"zoo\", \"forecast\", \"softImpute\", \"MissMDA\", \"EMCluster\",\n",
        "  \"mi\", \"simputation\", \"BaylorEdPsych\", \"Rmagic\", \"Denoiser\", \"gapfill\",\n",
        "  \"DtImpute\", \"DrImpute\", \"Hot\", \"Circspacetime\", \"Fastlink\", \"Eigenmodel\",\n",
        "  \"Cassandra\", \"Experiment\", \"BootImpute\", \"Forimp\", \"FhdI\", \"ImputeMean\"\n",
        ")\n",
        "set.seed(123)\n",
        "frecuencias <- sample(10:100, length(paquetes), replace = TRUE)\n",
        "wordcloud(\n",
        "  words = paquetes,\n",
        "  freq = frecuencias,\n",
        "  min.freq = 1,\n",
        "  scale = c(4, 0.8),             # Tamaño de fuente\n",
        "  colors = brewer.pal(8, \"Dark2\"),\n",
        "  random.order = FALSE,\n",
        "  rot.per = 0.2,                 # Proporción de palabras giradas\n",
        "  main = \"Paquetes de R para datos faltantes\"\n",
        ")\n",
        "\n",
        "\n"
      ],
      "metadata": {
        "cellView": "form",
        "id": "ffvE6y8iY1ee"
      },
      "execution_count": null,
      "outputs": []
    },
    {
      "cell_type": "markdown",
      "source": [
        "# Ejercicio, repetir el análisis con los datos de mlbench\n",
        "\n",
        "Conjuntos de datos para Machine Learning:\n",
        "\n",
        "El paquete mlbench proporciona una colección de datasets clásicos de aprendizaje automático y estadística. Es muy utilizado para realizar pruebas, prácticas y comparaciones de algoritmos de clasificación, regresión y clustering.\n",
        "\n",
        "Este paquete incluye datos reales y simulados.\n",
        "\n",
        "Útil para probar algoritmos de aprendizaje supervisado (como árboles de decisión, k-NN, redes neuronales, etc.).\n",
        "\n",
        "Los conjuntos de datos suelen estar bien documentados y preparados para su uso inmediato.\n",
        "\n",
        "Ejemplos de datasets incluidos:\n",
        "\n",
        "**PimaIndiansDiabetes:** información médica para predecir diabetes en mujeres.\n",
        "\n",
        "BostonHousing: precios de viviendas en Boston en función de variables socioeconómicas.\n",
        "\n",
        "Sonar: señales sonar para distinguir entre minas y rocas.\n",
        "\n",
        "BreastCancer: datos para detección de cáncer de mama.\n",
        "\n",
        "Nosotros utilizaremos el de diabetes:\n",
        "\n",
        "Este conjunto de datos proviene de un estudio del Instituto Nacional de Diabetes en EE.UU. Su objetivo es predecir si una paciente padece diabetes tipo 2 basándose en mediciones médicas y demográficas.\n",
        "\n",
        "Es una versión modificada del dataset original (PimaIndiansDiabetes), en la cual:\n",
        "\n",
        "Se reemplazan los valores inválidos (0) por NA en variables donde el cero no tiene sentido (como presión sanguínea o nivel de glucosa).\n",
        "\n",
        "Es más adecuado para realizar análisis de datos reales y tratamiento de datos faltantes.\n",
        "\n",
        "**Descripción de las variables:**\n",
        "\n",
        "| Variable   | Tipo     | Descripción                                                           |\n",
        "| ---------- | -------- | --------------------------------------------------------------------- |\n",
        "| `pregnant` | numérico | Número de embarazos                                                   |\n",
        "| `glucose`  | numérico | Concentración de glucosa en plasma a 2 horas en una prueba oral       |\n",
        "| `pressure` | numérico | Presión arterial diastólica (mm Hg)                                   |\n",
        "| `triceps`  | numérico | Grosor del pliegue cutáneo del tríceps (mm)                           |\n",
        "| `insulin`  | numérico | Nivel de insulina sérica (mu U/ml)                                    |\n",
        "| `mass`     | numérico | Índice de masa corporal (BMI) = peso (kg) / (altura (m))²             |\n",
        "| `pedigree` | numérico | Función del pedigrí de diabetes (influencia genética/familiar)        |\n",
        "| `age`      | numérico | Edad en años                                                          |\n",
        "| `diabetes` | factor   | Variable respuesta: `\"pos\"` = positivo (diabetes), `\"neg\"` = negativo |\n",
        "\n",
        "\n"
      ],
      "metadata": {
        "id": "kqbTNofBstzQ"
      }
    },
    {
      "cell_type": "code",
      "source": [
        "if (!requireNamespace(\"mlbench\")) install.packages(\"mlbench\")\n",
        "library(mlbench)\n",
        "\n",
        "\n",
        "data(\"PimaIndiansDiabetes2\")\n",
        "heart <- PimaIndiansDiabetes2"
      ],
      "metadata": {
        "id": "zxtxtAD0swuv"
      },
      "execution_count": null,
      "outputs": []
    },
    {
      "cell_type": "code",
      "source": [],
      "metadata": {
        "id": "mjzRK-sKthcG"
      },
      "execution_count": null,
      "outputs": []
    },
    {
      "cell_type": "code",
      "source": [],
      "metadata": {
        "id": "GDv5qmrftDI1"
      },
      "execution_count": null,
      "outputs": []
    },
    {
      "cell_type": "code",
      "source": [],
      "metadata": {
        "id": "OsH7c8EEuV_4"
      },
      "execution_count": null,
      "outputs": []
    },
    {
      "cell_type": "code",
      "source": [],
      "metadata": {
        "id": "qa_IuqkBudan"
      },
      "execution_count": null,
      "outputs": []
    },
    {
      "cell_type": "code",
      "source": [],
      "metadata": {
        "id": "lpA-lopWVPBO"
      },
      "execution_count": null,
      "outputs": []
    },
    {
      "cell_type": "code",
      "source": [],
      "metadata": {
        "id": "Ks7u6NxeUcEh"
      },
      "execution_count": null,
      "outputs": []
    },
    {
      "cell_type": "markdown",
      "source": [
        "Realiza el análisis de las deferencias que hicimos antes, con las otras variables, pressure,\ttriceps,\tinsulin,\tmass,\tpedigree,\tage"
      ],
      "metadata": {
        "id": "YGSRi1T7W6FC"
      }
    },
    {
      "cell_type": "code",
      "source": [],
      "metadata": {
        "id": "ZBKDWloJXJqq"
      },
      "execution_count": null,
      "outputs": []
    }
  ]
}