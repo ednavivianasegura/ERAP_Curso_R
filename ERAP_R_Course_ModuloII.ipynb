{
  "nbformat": 4,
  "nbformat_minor": 0,
  "metadata": {
    "colab": {
      "provenance": [],
      "authorship_tag": "ABX9TyPDQeU97UR6EdYgRPW2H6Em",
      "include_colab_link": true
    },
    "kernelspec": {
      "name": "ir",
      "display_name": "R"
    },
    "language_info": {
      "name": "R"
    }
  },
  "cells": [
    {
      "cell_type": "markdown",
      "metadata": {
        "id": "view-in-github",
        "colab_type": "text"
      },
      "source": [
        "<a href=\"https://colab.research.google.com/github/ednavivianasegura/ERAP_Curso_R/blob/main/ERAP_R_Course_ModuloII.ipynb\" target=\"_parent\"><img src=\"https://colab.research.google.com/assets/colab-badge.svg\" alt=\"Open In Colab\"/></a>"
      ]
    },
    {
      "cell_type": "markdown",
      "source": [
        "**Título**:  Manipulación de datos con R  - Módulo II (Manejo de datos desordenados y falta de información )                               \n",
        "                                          \n",
        "**Autor(es)**:  Edna Viviana Segura Alvarado - Hans Mauricio Carrillo Hernández\n",
        "\n",
        "**Fecha**: 2025-06\n",
        "\n",
        "**Institución**: Universidad de La Rioja    "
      ],
      "metadata": {
        "id": "EnK69cMRCL5d"
      }
    },
    {
      "cell_type": "markdown",
      "source": [
        "# ¿Qué son los datos faltantes (Missing Data)?\n",
        "\n",
        "En R, los valores no disponibles o faltantes se representan con NA (Not Available en inglés) y pueden surgir por múltiples motivos:\n",
        "\n",
        "- errores de registro\n",
        "- fallos de instrumentos\n",
        "- no respuesta en encuestas\n",
        "- entre otros.\n",
        "\n",
        "(Little & Rubin, 2002): los autores insisten en que el manejo de datos faltantes debe hacerse cuidadosamente porque puede comprometer la validez del análisis estadístico.\n",
        "\n",
        "Bibliografía:\n",
        "\n",
        "  Little, Roderick J. A, and Donald B Rubin. Statistical Analysis with Missing Data. Third edition. vol. 793. Newark: Wiley, 2020. Print.\n"
      ],
      "metadata": {
        "id": "YIhjnKFsqxls"
      }
    },
    {
      "cell_type": "markdown",
      "source": [
        "**¿Cómo afectan los datos faltantes a las operaciones básicas?**\n",
        "\n",
        "Los valores NA en R representan información que no está disponible o que no pudo ser medida. Su presencia puede tener efectos importantes y silenciosos en cálculos básicos si no se gestionan adecuadamente."
      ],
      "metadata": {
        "id": "vksU5wigx80W"
      }
    },
    {
      "cell_type": "code",
      "execution_count": 1,
      "metadata": {
        "id": "LYDAVKnKBxMq",
        "outputId": "308d6cd3-9567-455a-ddaa-a361d9587c17",
        "colab": {
          "base_uri": "https://localhost:8080/",
          "height": 69
        }
      },
      "outputs": [
        {
          "output_type": "display_data",
          "data": {
            "text/html": [
              "&lt;NA&gt;"
            ],
            "text/markdown": "&lt;NA&gt;",
            "text/latex": "<NA>",
            "text/plain": [
              "[1] NA"
            ]
          },
          "metadata": {}
        },
        {
          "output_type": "display_data",
          "data": {
            "text/html": [
              "&lt;NA&gt;"
            ],
            "text/markdown": "&lt;NA&gt;",
            "text/latex": "<NA>",
            "text/plain": [
              "[1] NA"
            ]
          },
          "metadata": {}
        },
        {
          "output_type": "display_data",
          "data": {
            "text/html": [
              "&lt;NA&gt;"
            ],
            "text/markdown": "&lt;NA&gt;",
            "text/latex": "<NA>",
            "text/plain": [
              "[1] NA"
            ]
          },
          "metadata": {}
        }
      ],
      "source": [
        "x <- c(5, 8, NA, 10)\n",
        "mean(x)       # Resultado: NA\n",
        "sum(x)        # Resultado: NA\n",
        "sd(x)         # Resultado: NA"
      ]
    },
    {
      "cell_type": "markdown",
      "source": [
        "**¿Por qué?**\n",
        "R considera que si hay un NA, no puede estar seguro del resultado total. Prefiere devolver NA como advertencia de que el cálculo está incompleto.\n",
        "Por lo tanto, existe el atributo que nos ayuda con esto:\n",
        "\n",
        "```\n",
        "na.rm=TRUE\n",
        "```\n",
        "\n",
        "\n",
        "\n"
      ],
      "metadata": {
        "id": "CDm6-AOGyVY1"
      }
    },
    {
      "cell_type": "code",
      "source": [
        "mean(x, na.rm = TRUE)  # Resultado: 7.666...\n",
        "sum(x, na.rm = TRUE)   # Resultado: 23\n",
        "sd(x, na.rm = TRUE)    # Resultado: Desviación estándar de los valores observados"
      ],
      "metadata": {
        "id": "RVwaTX8FyYJB",
        "outputId": "c6249e23-71be-4fe7-82f5-b77e4cc9bef5",
        "colab": {
          "base_uri": "https://localhost:8080/",
          "height": 69
        }
      },
      "execution_count": 2,
      "outputs": [
        {
          "output_type": "display_data",
          "data": {
            "text/html": [
              "7.66666666666667"
            ],
            "text/markdown": "7.66666666666667",
            "text/latex": "7.66666666666667",
            "text/plain": [
              "[1] 7.666667"
            ]
          },
          "metadata": {}
        },
        {
          "output_type": "display_data",
          "data": {
            "text/html": [
              "23"
            ],
            "text/markdown": "23",
            "text/latex": "23",
            "text/plain": [
              "[1] 23"
            ]
          },
          "metadata": {}
        },
        {
          "output_type": "display_data",
          "data": {
            "text/html": [
              "2.51661147842358"
            ],
            "text/markdown": "2.51661147842358",
            "text/latex": "2.51661147842358",
            "text/plain": [
              "[1] 2.516611"
            ]
          },
          "metadata": {}
        }
      ]
    },
    {
      "cell_type": "markdown",
      "source": [
        "**Funciones lógicas y filtros**\n",
        "Las expresiones lógicas que involucran NA también pueden dar resultados inesperados:"
      ],
      "metadata": {
        "id": "w3wAjp6pyiMw"
      }
    },
    {
      "cell_type": "code",
      "source": [
        "x <- c(1, 2, NA, 4)\n",
        "x > 2"
      ],
      "metadata": {
        "id": "pp7XLusMyl4v",
        "outputId": "6f1af05d-5246-4ec4-9b88-ff7dddf86a90",
        "colab": {
          "base_uri": "https://localhost:8080/",
          "height": 34
        }
      },
      "execution_count": 3,
      "outputs": [
        {
          "output_type": "display_data",
          "data": {
            "text/html": [
              "<style>\n",
              ".list-inline {list-style: none; margin:0; padding: 0}\n",
              ".list-inline>li {display: inline-block}\n",
              ".list-inline>li:not(:last-child)::after {content: \"\\00b7\"; padding: 0 .5ex}\n",
              "</style>\n",
              "<ol class=list-inline><li>FALSE</li><li>FALSE</li><li>&lt;NA&gt;</li><li>TRUE</li></ol>\n"
            ],
            "text/markdown": "1. FALSE\n2. FALSE\n3. &lt;NA&gt;\n4. TRUE\n\n\n",
            "text/latex": "\\begin{enumerate*}\n\\item FALSE\n\\item FALSE\n\\item <NA>\n\\item TRUE\n\\end{enumerate*}\n",
            "text/plain": [
              "[1] FALSE FALSE    NA  TRUE"
            ]
          },
          "metadata": {}
        }
      ]
    },
    {
      "cell_type": "markdown",
      "source": [
        "Si luego ejecutamos la siguiente línea"
      ],
      "metadata": {
        "id": "uJ0V8OIPzL1R"
      }
    },
    {
      "cell_type": "code",
      "source": [
        "x[x > 2]\n",
        "\n"
      ],
      "metadata": {
        "id": "yUulzlkgzOqn",
        "outputId": "2185b983-3483-4602-a64d-ec890d6206f3",
        "colab": {
          "base_uri": "https://localhost:8080/",
          "height": 34
        }
      },
      "execution_count": 4,
      "outputs": [
        {
          "output_type": "display_data",
          "data": {
            "text/html": [
              "<style>\n",
              ".list-inline {list-style: none; margin:0; padding: 0}\n",
              ".list-inline>li {display: inline-block}\n",
              ".list-inline>li:not(:last-child)::after {content: \"\\00b7\"; padding: 0 .5ex}\n",
              "</style>\n",
              "<ol class=list-inline><li>&lt;NA&gt;</li><li>4</li></ol>\n"
            ],
            "text/markdown": "1. &lt;NA&gt;\n2. 4\n\n\n",
            "text/latex": "\\begin{enumerate*}\n\\item <NA>\n\\item 4\n\\end{enumerate*}\n",
            "text/plain": [
              "[1] NA  4"
            ]
          },
          "metadata": {}
        }
      ]
    },
    {
      "cell_type": "markdown",
      "source": [
        "Funciones agregadas por grupo **(aggregate, group_by + summarise)**\n",
        "\n",
        "En dplyr, ocurre lo mismo:"
      ],
      "metadata": {
        "id": "xFospMWZzsQV"
      }
    },
    {
      "cell_type": "code",
      "source": [
        "library(dplyr)\n",
        "\n",
        "df <- data.frame(grupo = c(\"A\", \"A\", \"B\", \"B\"), valor = c(10, NA, 5, 8))\n",
        "\n",
        "df %>%\n",
        "  group_by(grupo) %>%\n",
        "  summarise(media = mean(valor))  # Resultado: NA para grupo A (el que contiene NAs)\n",
        "\n",
        "df %>%\n",
        "  group_by(grupo) %>%\n",
        "  summarise(media = mean(valor, na.rm = TRUE))  # Ignora los NA correctamente\n"
      ],
      "metadata": {
        "collapsed": true,
        "id": "GisZ9kG9zvmf",
        "outputId": "0ec77a49-cca4-4ac0-c077-007dd41560a2",
        "colab": {
          "base_uri": "https://localhost:8080/",
          "height": 548
        }
      },
      "execution_count": 5,
      "outputs": [
        {
          "output_type": "stream",
          "name": "stderr",
          "text": [
            "\n",
            "Attaching package: ‘dplyr’\n",
            "\n",
            "\n",
            "The following objects are masked from ‘package:stats’:\n",
            "\n",
            "    filter, lag\n",
            "\n",
            "\n",
            "The following objects are masked from ‘package:base’:\n",
            "\n",
            "    intersect, setdiff, setequal, union\n",
            "\n",
            "\n"
          ]
        },
        {
          "output_type": "display_data",
          "data": {
            "text/html": [
              "<table class=\"dataframe\">\n",
              "<caption>A tibble: 2 × 2</caption>\n",
              "<thead>\n",
              "\t<tr><th scope=col>grupo</th><th scope=col>media</th></tr>\n",
              "\t<tr><th scope=col>&lt;chr&gt;</th><th scope=col>&lt;dbl&gt;</th></tr>\n",
              "</thead>\n",
              "<tbody>\n",
              "\t<tr><td>A</td><td> NA</td></tr>\n",
              "\t<tr><td>B</td><td>6.5</td></tr>\n",
              "</tbody>\n",
              "</table>\n"
            ],
            "text/markdown": "\nA tibble: 2 × 2\n\n| grupo &lt;chr&gt; | media &lt;dbl&gt; |\n|---|---|\n| A |  NA |\n| B | 6.5 |\n\n",
            "text/latex": "A tibble: 2 × 2\n\\begin{tabular}{ll}\n grupo & media\\\\\n <chr> & <dbl>\\\\\n\\hline\n\t A &  NA\\\\\n\t B & 6.5\\\\\n\\end{tabular}\n",
            "text/plain": [
              "  grupo media\n",
              "1 A      NA  \n",
              "2 B     6.5  "
            ]
          },
          "metadata": {}
        },
        {
          "output_type": "display_data",
          "data": {
            "text/html": [
              "<table class=\"dataframe\">\n",
              "<caption>A tibble: 2 × 2</caption>\n",
              "<thead>\n",
              "\t<tr><th scope=col>grupo</th><th scope=col>media</th></tr>\n",
              "\t<tr><th scope=col>&lt;chr&gt;</th><th scope=col>&lt;dbl&gt;</th></tr>\n",
              "</thead>\n",
              "<tbody>\n",
              "\t<tr><td>A</td><td>10.0</td></tr>\n",
              "\t<tr><td>B</td><td> 6.5</td></tr>\n",
              "</tbody>\n",
              "</table>\n"
            ],
            "text/markdown": "\nA tibble: 2 × 2\n\n| grupo &lt;chr&gt; | media &lt;dbl&gt; |\n|---|---|\n| A | 10.0 |\n| B |  6.5 |\n\n",
            "text/latex": "A tibble: 2 × 2\n\\begin{tabular}{ll}\n grupo & media\\\\\n <chr> & <dbl>\\\\\n\\hline\n\t A & 10.0\\\\\n\t B &  6.5\\\\\n\\end{tabular}\n",
            "text/plain": [
              "  grupo media\n",
              "1 A     10.0 \n",
              "2 B      6.5 "
            ]
          },
          "metadata": {}
        }
      ]
    },
    {
      "cell_type": "markdown",
      "source": [
        "**Modelado estadístico (regresiones, clustering, PCA...)**\n",
        "\n",
        "Los modelos no se ajustan correctamente, o no representan la veracidad si no se gestionan los NA:"
      ],
      "metadata": {
        "id": "_78wIAW60Lca"
      }
    },
    {
      "cell_type": "code",
      "source": [
        "set.seed(123)  # Para reproducibilidad\n",
        "\n",
        "# Generar 100 observaciones\n",
        "n <- 100\n",
        "x <- rnorm(n, mean = 50, sd = 10)          # Variable predictora\n",
        "y <- 6.5 * x + rnorm(n, mean = 0, sd = 12) # Variable respuesta con ruido\n",
        "\n",
        "plot(x,y)\n",
        "\n",
        "datos <- data.frame(x = x, y = y)\n",
        "head(datos)\n",
        "\n",
        "# Introducir NA aleatoriamente en 15 valores de x\n",
        "na_indices <- sample(1:n, size = 15)\n",
        "datos$x[na_indices] <- NA\n",
        "\n",
        "summary(datos)\n",
        "colSums(is.na(datos))\n",
        "\n",
        "#Intentamos ajustar el modelo\n",
        "modelo_con_na <- lm(y ~ x, data = datos)\n",
        "summary(modelo_con_na)\n",
        "\n",
        "#R ajusta el modelo usando solo las filas donde y no es NA (complete-case analysis).\n",
        "\n",
        "#Comprobémoslo:\n",
        "nrow(datos)                # 100 observaciones originales\n",
        "nrow(modelo_con_na$model)  # Solo 85 filas usadas (15 con NA en x)\n",
        "\n",
        "#Miremos que pasa con el modelo al imputar, por ejemplo con la media\n",
        "datos_imputados <- datos\n",
        "datos_imputados$x[is.na(datos_imputados$x)] <- mean(datos$x, na.rm = TRUE)\n",
        "\n",
        "modelo_imputado <- lm(y ~ x, data = datos_imputados)\n",
        "summary(modelo_imputado)\n",
        "\n",
        "nrow(datos_imputados)                # 100 observaciones originales\n",
        "nrow(modelo_imputado$model)  # Solo 85 filas usadas (15 con NA en x)\n",
        "\n",
        "\n"
      ],
      "metadata": {
        "id": "cwZ0All7zmo5",
        "outputId": "385971f5-5434-4354-ea53-bd6cd75f505f",
        "colab": {
          "base_uri": "https://localhost:8080/",
          "height": 1000
        }
      },
      "execution_count": 22,
      "outputs": [
        {
          "output_type": "display_data",
          "data": {
            "text/html": [
              "<table class=\"dataframe\">\n",
              "<caption>A data.frame: 6 × 2</caption>\n",
              "<thead>\n",
              "\t<tr><th></th><th scope=col>x</th><th scope=col>y</th></tr>\n",
              "\t<tr><th></th><th scope=col>&lt;dbl&gt;</th><th scope=col>&lt;dbl&gt;</th></tr>\n",
              "</thead>\n",
              "<tbody>\n",
              "\t<tr><th scope=row>1</th><td>44.39524</td><td>280.0442</td></tr>\n",
              "\t<tr><th scope=row>2</th><td>47.69823</td><td>313.1211</td></tr>\n",
              "\t<tr><th scope=row>3</th><td>65.58708</td><td>423.3557</td></tr>\n",
              "\t<tr><th scope=row>4</th><td>50.70508</td><td>325.4125</td></tr>\n",
              "\t<tr><th scope=row>5</th><td>51.29288</td><td>321.9843</td></tr>\n",
              "\t<tr><th scope=row>6</th><td>67.15065</td><td>435.9389</td></tr>\n",
              "</tbody>\n",
              "</table>\n"
            ],
            "text/markdown": "\nA data.frame: 6 × 2\n\n| <!--/--> | x &lt;dbl&gt; | y &lt;dbl&gt; |\n|---|---|---|\n| 1 | 44.39524 | 280.0442 |\n| 2 | 47.69823 | 313.1211 |\n| 3 | 65.58708 | 423.3557 |\n| 4 | 50.70508 | 325.4125 |\n| 5 | 51.29288 | 321.9843 |\n| 6 | 67.15065 | 435.9389 |\n\n",
            "text/latex": "A data.frame: 6 × 2\n\\begin{tabular}{r|ll}\n  & x & y\\\\\n  & <dbl> & <dbl>\\\\\n\\hline\n\t1 & 44.39524 & 280.0442\\\\\n\t2 & 47.69823 & 313.1211\\\\\n\t3 & 65.58708 & 423.3557\\\\\n\t4 & 50.70508 & 325.4125\\\\\n\t5 & 51.29288 & 321.9843\\\\\n\t6 & 67.15065 & 435.9389\\\\\n\\end{tabular}\n",
            "text/plain": [
              "  x        y       \n",
              "1 44.39524 280.0442\n",
              "2 47.69823 313.1211\n",
              "3 65.58708 423.3557\n",
              "4 50.70508 325.4125\n",
              "5 51.29288 321.9843\n",
              "6 67.15065 435.9389"
            ]
          },
          "metadata": {}
        },
        {
          "output_type": "display_data",
          "data": {
            "text/plain": [
              "       x               y        \n",
              " Min.   :26.91   Min.   :175.7  \n",
              " 1st Qu.:45.33   1st Qu.:294.0  \n",
              " Median :50.71   Median :328.9  \n",
              " Mean   :51.03   Mean   :329.6  \n",
              " 3rd Qu.:57.80   3rd Qu.:366.4  \n",
              " Max.   :71.87   Max.   :474.4  \n",
              " NA's   :15                     "
            ]
          },
          "metadata": {}
        },
        {
          "output_type": "display_data",
          "data": {
            "text/html": [
              "<style>\n",
              ".dl-inline {width: auto; margin:0; padding: 0}\n",
              ".dl-inline>dt, .dl-inline>dd {float: none; width: auto; display: inline-block}\n",
              ".dl-inline>dt::after {content: \":\\0020\"; padding-right: .5ex}\n",
              ".dl-inline>dt:not(:first-of-type) {padding-left: .5ex}\n",
              "</style><dl class=dl-inline><dt>x</dt><dd>15</dd><dt>y</dt><dd>0</dd></dl>\n"
            ],
            "text/markdown": "x\n:   15y\n:   0\n\n",
            "text/latex": "\\begin{description*}\n\\item[x] 15\n\\item[y] 0\n\\end{description*}\n",
            "text/plain": [
              " x  y \n",
              "15  0 "
            ]
          },
          "metadata": {}
        },
        {
          "output_type": "display_data",
          "data": {
            "text/plain": [
              "\n",
              "Call:\n",
              "lm(formula = y ~ x, data = datos)\n",
              "\n",
              "Residuals:\n",
              "    Min      1Q  Median      3Q     Max \n",
              "-22.505  -7.482  -0.851   6.275  40.020 \n",
              "\n",
              "Coefficients:\n",
              "            Estimate Std. Error t value Pr(>|t|)    \n",
              "(Intercept)   1.0486     6.7772   0.155    0.877    \n",
              "x             6.4453     0.1307  49.307   <2e-16 ***\n",
              "---\n",
              "Signif. codes:  0 ‘***’ 0.001 ‘**’ 0.01 ‘*’ 0.05 ‘.’ 0.1 ‘ ’ 1\n",
              "\n",
              "Residual standard error: 11 on 83 degrees of freedom\n",
              "  (15 observations deleted due to missingness)\n",
              "Multiple R-squared:  0.967,\tAdjusted R-squared:  0.9666 \n",
              "F-statistic:  2431 on 1 and 83 DF,  p-value: < 2.2e-16\n"
            ]
          },
          "metadata": {}
        },
        {
          "output_type": "display_data",
          "data": {
            "text/html": [
              "100"
            ],
            "text/markdown": "100",
            "text/latex": "100",
            "text/plain": [
              "[1] 100"
            ]
          },
          "metadata": {}
        },
        {
          "output_type": "display_data",
          "data": {
            "text/html": [
              "85"
            ],
            "text/markdown": "85",
            "text/latex": "85",
            "text/plain": [
              "[1] 85"
            ]
          },
          "metadata": {}
        },
        {
          "output_type": "display_data",
          "data": {
            "text/plain": [
              "\n",
              "Call:\n",
              "lm(formula = y ~ x, data = datos_imputados)\n",
              "\n",
              "Residuals:\n",
              "     Min       1Q   Median       3Q      Max \n",
              "-105.702   -8.280   -0.612    7.721  118.220 \n",
              "\n",
              "Coefficients:\n",
              "            Estimate Std. Error t value Pr(>|t|)    \n",
              "(Intercept)   0.6507    15.2899   0.043    0.966    \n",
              "x             6.4453     0.2956  21.804   <2e-16 ***\n",
              "---\n",
              "Signif. codes:  0 ‘***’ 0.001 ‘**’ 0.01 ‘*’ 0.05 ‘.’ 0.1 ‘ ’ 1\n",
              "\n",
              "Residual standard error: 24.89 on 98 degrees of freedom\n",
              "Multiple R-squared:  0.8291,\tAdjusted R-squared:  0.8273 \n",
              "F-statistic: 475.4 on 1 and 98 DF,  p-value: < 2.2e-16\n"
            ]
          },
          "metadata": {}
        },
        {
          "output_type": "display_data",
          "data": {
            "text/html": [
              "100"
            ],
            "text/markdown": "100",
            "text/latex": "100",
            "text/plain": [
              "[1] 100"
            ]
          },
          "metadata": {}
        },
        {
          "output_type": "display_data",
          "data": {
            "text/html": [
              "100"
            ],
            "text/markdown": "100",
            "text/latex": "100",
            "text/plain": [
              "[1] 100"
            ]
          },
          "metadata": {}
        },
        {
          "output_type": "display_data",
          "data": {
            "text/plain": [
              "plot without title"
            ],
            "image/png": "[encoded data removed]"
          },
          "metadata": {
            "image/png": {
              "width": 420,
              "height": 420
            }
          }
        }
      ]
    },
    {
      "cell_type": "markdown",
      "source": [
        "## Detección y diagnóstico de valores faltantes\n",
        "\n",
        "**¿por qué es tan crítico?**\n",
        "Un solo NA sin tratar puede hacer que todo un análisis falle o se distorsione.\n",
        "\n",
        "Los datos faltantes deben ser detectados, visualizados y tratados adecuadamente.\n",
        "\n",
        "El primer paso siempre debe ser saber si alguna(s) de la(s) variables(s) contiene datos faltantes, para esto contamos con muchas herramientas, veremos algunas de ellas:"
      ],
      "metadata": {
        "id": "Nbx7eUkk0bfE"
      }
    },
    {
      "cell_type": "code",
      "source": [
        "#install.packages(\"naniar\")\n",
        "## Instalar paquetes de visualización de datos faltantes\n",
        "#install.packages(\"visdat\")\n",
        "#install.packages(\"VIM\")\n",
        "## Instalar paquete en desarrollo de estimación de datos faltantes\n",
        "#install.packages(\"remotes\")\n",
        "#remotes::install_github(\"davidbiol/empire\")\n",
        "\n",
        "library(naniar)\n",
        "library(VIM)"
      ],
      "metadata": {
        "id": "iKLVfYl8-sJM"
      },
      "execution_count": null,
      "outputs": []
    },
    {
      "cell_type": "markdown",
      "source": [
        "Métodos para detectar NAs."
      ],
      "metadata": {
        "id": "kV6Ko7tuBnKX"
      }
    },
    {
      "cell_type": "code",
      "source": [
        "print(\"----- Para ver si hay NA --------\")\n",
        "\n",
        "summary(datos)\n",
        "\n",
        "print(\"---- Número total de NA ---------\")\n",
        "\n",
        "sum(is.na(datos))\n",
        "\n",
        "print(\"----- Número de NA por columna --------\")\n",
        "\n",
        "colSums(is.na(datos))\n",
        "\n",
        "print(\"---- Número de NA por fila ---------\")\n",
        "\n",
        "rowSums(is.na(datos))\n",
        "\n",
        "print(\"--- Devuelve TRUE si hay al menos un NA en el data.frame. Es la forma más rápida y directa. ----------\")\n",
        "\n",
        "anyNA(datos)\n",
        "\n",
        "print(\"---- Devuelve una matriz lógica del mismo tamaño que datos, indicando con TRUE dónde hay NA. ---------\")\n",
        "\n",
        "is.na(datos)\n",
        "\n",
        "print(\"---- Devuelve un vector lógico que indica qué filas no tienen ningún NA. Puedes usarlo para filtrar: ---------\")\n",
        "\n",
        "complete.cases(datos)\n",
        "\n",
        "print(\"---- Muestra número y porcentaje de NA por fila ---------\")\n",
        "\n",
        "miss_case_summary(datos)\n",
        "\n",
        "\n",
        "\n",
        "\n",
        "\n"
      ],
      "metadata": {
        "id": "r9zx8z_Y0usH",
        "outputId": "e76dcd2c-5f2a-45d1-9f76-0d605b08da83",
        "colab": {
          "base_uri": "https://localhost:8080/",
          "height": 1000
        }
      },
      "execution_count": 44,
      "outputs": [
        {
          "output_type": "stream",
          "name": "stdout",
          "text": [
            "[1] \"----- Para ver si hay NA --------\"\n"
          ]
        },
        {
          "output_type": "display_data",
          "data": {
            "text/plain": [
              "       x               y        \n",
              " Min.   :26.91   Min.   :175.7  \n",
              " 1st Qu.:45.33   1st Qu.:294.0  \n",
              " Median :50.71   Median :328.9  \n",
              " Mean   :51.03   Mean   :329.6  \n",
              " 3rd Qu.:57.80   3rd Qu.:366.4  \n",
              " Max.   :71.87   Max.   :474.4  \n",
              " NA's   :15                     "
            ]
          },
          "metadata": {}
        },
        {
          "output_type": "stream",
          "name": "stdout",
          "text": [
            "[1] \"---- Número total de NA ---------\"\n"
          ]
        },
        {
          "output_type": "display_data",
          "data": {
            "text/html": [
              "15"
            ],
            "text/markdown": "15",
            "text/latex": "15",
            "text/plain": [
              "[1] 15"
            ]
          },
          "metadata": {}
        },
        {
          "output_type": "stream",
          "name": "stdout",
          "text": [
            "[1] \"----- Número de NA por columna --------\"\n"
          ]
        },
        {
          "output_type": "display_data",
          "data": {
            "text/html": [
              "<style>\n",
              ".dl-inline {width: auto; margin:0; padding: 0}\n",
              ".dl-inline>dt, .dl-inline>dd {float: none; width: auto; display: inline-block}\n",
              ".dl-inline>dt::after {content: \":\\0020\"; padding-right: .5ex}\n",
              ".dl-inline>dt:not(:first-of-type) {padding-left: .5ex}\n",
              "</style><dl class=dl-inline><dt>x</dt><dd>15</dd><dt>y</dt><dd>0</dd></dl>\n"
            ],
            "text/markdown": "x\n:   15y\n:   0\n\n",
            "text/latex": "\\begin{description*}\n\\item[x] 15\n\\item[y] 0\n\\end{description*}\n",
            "text/plain": [
              " x  y \n",
              "15  0 "
            ]
          },
          "metadata": {}
        },
        {
          "output_type": "stream",
          "name": "stdout",
          "text": [
            "[1] \"---- Número de NA por fila ---------\"\n"
          ]
        },
        {
          "output_type": "display_data",
          "data": {
            "text/html": [
              "<style>\n",
              ".list-inline {list-style: none; margin:0; padding: 0}\n",
              ".list-inline>li {display: inline-block}\n",
              ".list-inline>li:not(:last-child)::after {content: \"\\00b7\"; padding: 0 .5ex}\n",
              "</style>\n",
              "<ol class=list-inline><li>0</li><li>0</li><li>0</li><li>0</li><li>0</li><li>0</li><li>0</li><li>0</li><li>1</li><li>0</li><li>0</li><li>0</li><li>0</li><li>0</li><li>0</li><li>0</li><li>0</li><li>0</li><li>0</li><li>0</li><li>0</li><li>1</li><li>1</li><li>0</li><li>0</li><li>0</li><li>0</li><li>0</li><li>0</li><li>0</li><li>1</li><li>0</li><li>0</li><li>0</li><li>0</li><li>1</li><li>1</li><li>0</li><li>1</li><li>0</li><li>1</li><li>0</li><li>1</li><li>1</li><li>0</li><li>0</li><li>0</li><li>0</li><li>0</li><li>0</li><li>0</li><li>0</li><li>0</li><li>0</li><li>0</li><li>0</li><li>0</li><li>0</li><li>0</li><li>0</li><li>1</li><li>0</li><li>0</li><li>0</li><li>0</li><li>0</li><li>1</li><li>0</li><li>0</li><li>0</li><li>0</li><li>0</li><li>1</li><li>0</li><li>0</li><li>0</li><li>0</li><li>0</li><li>0</li><li>0</li><li>0</li><li>0</li><li>0</li><li>0</li><li>0</li><li>0</li><li>0</li><li>0</li><li>0</li><li>0</li><li>0</li><li>0</li><li>0</li><li>1</li><li>0</li><li>1</li><li>0</li><li>0</li><li>0</li><li>0</li></ol>\n"
            ],
            "text/markdown": "1. 0\n2. 0\n3. 0\n4. 0\n5. 0\n6. 0\n7. 0\n8. 0\n9. 1\n10. 0\n11. 0\n12. 0\n13. 0\n14. 0\n15. 0\n16. 0\n17. 0\n18. 0\n19. 0\n20. 0\n21. 0\n22. 1\n23. 1\n24. 0\n25. 0\n26. 0\n27. 0\n28. 0\n29. 0\n30. 0\n31. 1\n32. 0\n33. 0\n34. 0\n35. 0\n36. 1\n37. 1\n38. 0\n39. 1\n40. 0\n41. 1\n42. 0\n43. 1\n44. 1\n45. 0\n46. 0\n47. 0\n48. 0\n49. 0\n50. 0\n51. 0\n52. 0\n53. 0\n54. 0\n55. 0\n56. 0\n57. 0\n58. 0\n59. 0\n60. 0\n61. 1\n62. 0\n63. 0\n64. 0\n65. 0\n66. 0\n67. 1\n68. 0\n69. 0\n70. 0\n71. 0\n72. 0\n73. 1\n74. 0\n75. 0\n76. 0\n77. 0\n78. 0\n79. 0\n80. 0\n81. 0\n82. 0\n83. 0\n84. 0\n85. 0\n86. 0\n87. 0\n88. 0\n89. 0\n90. 0\n91. 0\n92. 0\n93. 0\n94. 1\n95. 0\n96. 1\n97. 0\n98. 0\n99. 0\n100. 0\n\n\n",
            "text/latex": "\\begin{enumerate*}\n\\item 0\n\\item 0\n\\item 0\n\\item 0\n\\item 0\n\\item 0\n\\item 0\n\\item 0\n\\item 1\n\\item 0\n\\item 0\n\\item 0\n\\item 0\n\\item 0\n\\item 0\n\\item 0\n\\item 0\n\\item 0\n\\item 0\n\\item 0\n\\item 0\n\\item 1\n\\item 1\n\\item 0\n\\item 0\n\\item 0\n\\item 0\n\\item 0\n\\item 0\n\\item 0\n\\item 1\n\\item 0\n\\item 0\n\\item 0\n\\item 0\n\\item 1\n\\item 1\n\\item 0\n\\item 1\n\\item 0\n\\item 1\n\\item 0\n\\item 1\n\\item 1\n\\item 0\n\\item 0\n\\item 0\n\\item 0\n\\item 0\n\\item 0\n\\item 0\n\\item 0\n\\item 0\n\\item 0\n\\item 0\n\\item 0\n\\item 0\n\\item 0\n\\item 0\n\\item 0\n\\item 1\n\\item 0\n\\item 0\n\\item 0\n\\item 0\n\\item 0\n\\item 1\n\\item 0\n\\item 0\n\\item 0\n\\item 0\n\\item 0\n\\item 1\n\\item 0\n\\item 0\n\\item 0\n\\item 0\n\\item 0\n\\item 0\n\\item 0\n\\item 0\n\\item 0\n\\item 0\n\\item 0\n\\item 0\n\\item 0\n\\item 0\n\\item 0\n\\item 0\n\\item 0\n\\item 0\n\\item 0\n\\item 0\n\\item 1\n\\item 0\n\\item 1\n\\item 0\n\\item 0\n\\item 0\n\\item 0\n\\end{enumerate*}\n",
            "text/plain": [
              "  [1] 0 0 0 0 0 0 0 0 1 0 0 0 0 0 0 0 0 0 0 0 0 1 1 0 0 0 0 0 0 0 1 0 0 0 0 1 1\n",
              " [38] 0 1 0 1 0 1 1 0 0 0 0 0 0 0 0 0 0 0 0 0 0 0 0 1 0 0 0 0 0 1 0 0 0 0 0 1 0\n",
              " [75] 0 0 0 0 0 0 0 0 0 0 0 0 0 0 0 0 0 0 0 1 0 1 0 0 0 0"
            ]
          },
          "metadata": {}
        },
        {
          "output_type": "stream",
          "name": "stdout",
          "text": [
            "[1] \"--- Devuelve TRUE si hay al menos un NA en el data.frame. Es la forma más rápida y directa. ----------\"\n"
          ]
        },
        {
          "output_type": "display_data",
          "data": {
            "text/html": [
              "TRUE"
            ],
            "text/markdown": "TRUE",
            "text/latex": "TRUE",
            "text/plain": [
              "[1] TRUE"
            ]
          },
          "metadata": {}
        },
        {
          "output_type": "stream",
          "name": "stdout",
          "text": [
            "[1] \"---- Devuelve una matriz lógica del mismo tamaño que datos, indicando con TRUE dónde hay NA. ---------\"\n"
          ]
        },
        {
          "output_type": "display_data",
          "data": {
            "text/html": [
              "<table class=\"dataframe\">\n",
              "<caption>A matrix: 6 × 2 of type lgl</caption>\n",
              "<thead>\n",
              "\t<tr><th scope=col>x</th><th scope=col>y</th></tr>\n",
              "</thead>\n",
              "<tbody>\n",
              "\t<tr><td>FALSE</td><td>FALSE</td></tr>\n",
              "\t<tr><td>FALSE</td><td>FALSE</td></tr>\n",
              "\t<tr><td>FALSE</td><td>FALSE</td></tr>\n",
              "\t<tr><td>FALSE</td><td>FALSE</td></tr>\n",
              "\t<tr><td>FALSE</td><td>FALSE</td></tr>\n",
              "\t<tr><td>FALSE</td><td>FALSE</td></tr>\n",
              "</tbody>\n",
              "</table>\n"
            ],
            "text/markdown": "\nA matrix: 6 × 2 of type lgl\n\n| x | y |\n|---|---|\n| FALSE | FALSE |\n| FALSE | FALSE |\n| FALSE | FALSE |\n| FALSE | FALSE |\n| FALSE | FALSE |\n| FALSE | FALSE |\n\n",
            "text/latex": "A matrix: 6 × 2 of type lgl\n\\begin{tabular}{ll}\n x & y\\\\\n\\hline\n\t FALSE & FALSE\\\\\n\t FALSE & FALSE\\\\\n\t FALSE & FALSE\\\\\n\t FALSE & FALSE\\\\\n\t FALSE & FALSE\\\\\n\t FALSE & FALSE\\\\\n\\end{tabular}\n",
            "text/plain": [
              "     x     y    \n",
              "[1,] FALSE FALSE\n",
              "[2,] FALSE FALSE\n",
              "[3,] FALSE FALSE\n",
              "[4,] FALSE FALSE\n",
              "[5,] FALSE FALSE\n",
              "[6,] FALSE FALSE"
            ]
          },
          "metadata": {}
        },
        {
          "output_type": "stream",
          "name": "stdout",
          "text": [
            "[1] \"---- Devuelve un vector lógico que indica qué filas no tienen ningún NA. Puedes usarlo para filtrar: ---------\"\n"
          ]
        },
        {
          "output_type": "display_data",
          "data": {
            "text/html": [
              "<style>\n",
              ".list-inline {list-style: none; margin:0; padding: 0}\n",
              ".list-inline>li {display: inline-block}\n",
              ".list-inline>li:not(:last-child)::after {content: \"\\00b7\"; padding: 0 .5ex}\n",
              "</style>\n",
              "<ol class=list-inline><li>TRUE</li><li>TRUE</li><li>TRUE</li><li>TRUE</li><li>TRUE</li><li>TRUE</li><li>TRUE</li><li>TRUE</li><li>FALSE</li><li>TRUE</li><li>TRUE</li><li>TRUE</li><li>TRUE</li><li>TRUE</li><li>TRUE</li><li>TRUE</li><li>TRUE</li><li>TRUE</li><li>TRUE</li><li>TRUE</li><li>TRUE</li><li>FALSE</li><li>FALSE</li><li>TRUE</li><li>TRUE</li><li>TRUE</li><li>TRUE</li><li>TRUE</li><li>TRUE</li><li>TRUE</li><li>FALSE</li><li>TRUE</li><li>TRUE</li><li>TRUE</li><li>TRUE</li><li>FALSE</li><li>FALSE</li><li>TRUE</li><li>FALSE</li><li>TRUE</li><li>FALSE</li><li>TRUE</li><li>FALSE</li><li>FALSE</li><li>TRUE</li><li>TRUE</li><li>TRUE</li><li>TRUE</li><li>TRUE</li><li>TRUE</li><li>TRUE</li><li>TRUE</li><li>TRUE</li><li>TRUE</li><li>TRUE</li><li>TRUE</li><li>TRUE</li><li>TRUE</li><li>TRUE</li><li>TRUE</li><li>FALSE</li><li>TRUE</li><li>TRUE</li><li>TRUE</li><li>TRUE</li><li>TRUE</li><li>FALSE</li><li>TRUE</li><li>TRUE</li><li>TRUE</li><li>TRUE</li><li>TRUE</li><li>FALSE</li><li>TRUE</li><li>TRUE</li><li>TRUE</li><li>TRUE</li><li>TRUE</li><li>TRUE</li><li>TRUE</li><li>TRUE</li><li>TRUE</li><li>TRUE</li><li>TRUE</li><li>TRUE</li><li>TRUE</li><li>TRUE</li><li>TRUE</li><li>TRUE</li><li>TRUE</li><li>TRUE</li><li>TRUE</li><li>TRUE</li><li>FALSE</li><li>TRUE</li><li>FALSE</li><li>TRUE</li><li>TRUE</li><li>TRUE</li><li>TRUE</li></ol>\n"
            ],
            "text/markdown": "1. TRUE\n2. TRUE\n3. TRUE\n4. TRUE\n5. TRUE\n6. TRUE\n7. TRUE\n8. TRUE\n9. FALSE\n10. TRUE\n11. TRUE\n12. TRUE\n13. TRUE\n14. TRUE\n15. TRUE\n16. TRUE\n17. TRUE\n18. TRUE\n19. TRUE\n20. TRUE\n21. TRUE\n22. FALSE\n23. FALSE\n24. TRUE\n25. TRUE\n26. TRUE\n27. TRUE\n28. TRUE\n29. TRUE\n30. TRUE\n31. FALSE\n32. TRUE\n33. TRUE\n34. TRUE\n35. TRUE\n36. FALSE\n37. FALSE\n38. TRUE\n39. FALSE\n40. TRUE\n41. FALSE\n42. TRUE\n43. FALSE\n44. FALSE\n45. TRUE\n46. TRUE\n47. TRUE\n48. TRUE\n49. TRUE\n50. TRUE\n51. TRUE\n52. TRUE\n53. TRUE\n54. TRUE\n55. TRUE\n56. TRUE\n57. TRUE\n58. TRUE\n59. TRUE\n60. TRUE\n61. FALSE\n62. TRUE\n63. TRUE\n64. TRUE\n65. TRUE\n66. TRUE\n67. FALSE\n68. TRUE\n69. TRUE\n70. TRUE\n71. TRUE\n72. TRUE\n73. FALSE\n74. TRUE\n75. TRUE\n76. TRUE\n77. TRUE\n78. TRUE\n79. TRUE\n80. TRUE\n81. TRUE\n82. TRUE\n83. TRUE\n84. TRUE\n85. TRUE\n86. TRUE\n87. TRUE\n88. TRUE\n89. TRUE\n90. TRUE\n91. TRUE\n92. TRUE\n93. TRUE\n94. FALSE\n95. TRUE\n96. FALSE\n97. TRUE\n98. TRUE\n99. TRUE\n100. TRUE\n\n\n",
            "text/latex": "\\begin{enumerate*}\n\\item TRUE\n\\item TRUE\n\\item TRUE\n\\item TRUE\n\\item TRUE\n\\item TRUE\n\\item TRUE\n\\item TRUE\n\\item FALSE\n\\item TRUE\n\\item TRUE\n\\item TRUE\n\\item TRUE\n\\item TRUE\n\\item TRUE\n\\item TRUE\n\\item TRUE\n\\item TRUE\n\\item TRUE\n\\item TRUE\n\\item TRUE\n\\item FALSE\n\\item FALSE\n\\item TRUE\n\\item TRUE\n\\item TRUE\n\\item TRUE\n\\item TRUE\n\\item TRUE\n\\item TRUE\n\\item FALSE\n\\item TRUE\n\\item TRUE\n\\item TRUE\n\\item TRUE\n\\item FALSE\n\\item FALSE\n\\item TRUE\n\\item FALSE\n\\item TRUE\n\\item FALSE\n\\item TRUE\n\\item FALSE\n\\item FALSE\n\\item TRUE\n\\item TRUE\n\\item TRUE\n\\item TRUE\n\\item TRUE\n\\item TRUE\n\\item TRUE\n\\item TRUE\n\\item TRUE\n\\item TRUE\n\\item TRUE\n\\item TRUE\n\\item TRUE\n\\item TRUE\n\\item TRUE\n\\item TRUE\n\\item FALSE\n\\item TRUE\n\\item TRUE\n\\item TRUE\n\\item TRUE\n\\item TRUE\n\\item FALSE\n\\item TRUE\n\\item TRUE\n\\item TRUE\n\\item TRUE\n\\item TRUE\n\\item FALSE\n\\item TRUE\n\\item TRUE\n\\item TRUE\n\\item TRUE\n\\item TRUE\n\\item TRUE\n\\item TRUE\n\\item TRUE\n\\item TRUE\n\\item TRUE\n\\item TRUE\n\\item TRUE\n\\item TRUE\n\\item TRUE\n\\item TRUE\n\\item TRUE\n\\item TRUE\n\\item TRUE\n\\item TRUE\n\\item TRUE\n\\item FALSE\n\\item TRUE\n\\item FALSE\n\\item TRUE\n\\item TRUE\n\\item TRUE\n\\item TRUE\n\\end{enumerate*}\n",
            "text/plain": [
              "  [1]  TRUE  TRUE  TRUE  TRUE  TRUE  TRUE  TRUE  TRUE FALSE  TRUE  TRUE  TRUE\n",
              " [13]  TRUE  TRUE  TRUE  TRUE  TRUE  TRUE  TRUE  TRUE  TRUE FALSE FALSE  TRUE\n",
              " [25]  TRUE  TRUE  TRUE  TRUE  TRUE  TRUE FALSE  TRUE  TRUE  TRUE  TRUE FALSE\n",
              " [37] FALSE  TRUE FALSE  TRUE FALSE  TRUE FALSE FALSE  TRUE  TRUE  TRUE  TRUE\n",
              " [49]  TRUE  TRUE  TRUE  TRUE  TRUE  TRUE  TRUE  TRUE  TRUE  TRUE  TRUE  TRUE\n",
              " [61] FALSE  TRUE  TRUE  TRUE  TRUE  TRUE FALSE  TRUE  TRUE  TRUE  TRUE  TRUE\n",
              " [73] FALSE  TRUE  TRUE  TRUE  TRUE  TRUE  TRUE  TRUE  TRUE  TRUE  TRUE  TRUE\n",
              " [85]  TRUE  TRUE  TRUE  TRUE  TRUE  TRUE  TRUE  TRUE  TRUE FALSE  TRUE FALSE\n",
              " [97]  TRUE  TRUE  TRUE  TRUE"
            ]
          },
          "metadata": {}
        },
        {
          "output_type": "stream",
          "name": "stdout",
          "text": [
            "[1] \"---- Muestra número y porcentaje de NA por fila ---------\"\n"
          ]
        },
        {
          "output_type": "display_data",
          "data": {
            "text/html": [
              "<table class=\"dataframe\">\n",
              "<caption>A tibble: 100 × 3</caption>\n",
              "<thead>\n",
              "\t<tr><th scope=col>case</th><th scope=col>n_miss</th><th scope=col>pct_miss</th></tr>\n",
              "\t<tr><th scope=col>&lt;int&gt;</th><th scope=col>&lt;int&gt;</th><th scope=col>&lt;dbl&gt;</th></tr>\n",
              "</thead>\n",
              "<tbody>\n",
              "\t<tr><td> 9</td><td>1</td><td>50</td></tr>\n",
              "\t<tr><td>22</td><td>1</td><td>50</td></tr>\n",
              "\t<tr><td>23</td><td>1</td><td>50</td></tr>\n",
              "\t<tr><td>31</td><td>1</td><td>50</td></tr>\n",
              "\t<tr><td>36</td><td>1</td><td>50</td></tr>\n",
              "\t<tr><td>37</td><td>1</td><td>50</td></tr>\n",
              "\t<tr><td>39</td><td>1</td><td>50</td></tr>\n",
              "\t<tr><td>41</td><td>1</td><td>50</td></tr>\n",
              "\t<tr><td>43</td><td>1</td><td>50</td></tr>\n",
              "\t<tr><td>44</td><td>1</td><td>50</td></tr>\n",
              "\t<tr><td>61</td><td>1</td><td>50</td></tr>\n",
              "\t<tr><td>67</td><td>1</td><td>50</td></tr>\n",
              "\t<tr><td>73</td><td>1</td><td>50</td></tr>\n",
              "\t<tr><td>94</td><td>1</td><td>50</td></tr>\n",
              "\t<tr><td>96</td><td>1</td><td>50</td></tr>\n",
              "\t<tr><td> 1</td><td>0</td><td> 0</td></tr>\n",
              "\t<tr><td> 2</td><td>0</td><td> 0</td></tr>\n",
              "\t<tr><td> 3</td><td>0</td><td> 0</td></tr>\n",
              "\t<tr><td> 4</td><td>0</td><td> 0</td></tr>\n",
              "\t<tr><td> 5</td><td>0</td><td> 0</td></tr>\n",
              "\t<tr><td> 6</td><td>0</td><td> 0</td></tr>\n",
              "\t<tr><td> 7</td><td>0</td><td> 0</td></tr>\n",
              "\t<tr><td> 8</td><td>0</td><td> 0</td></tr>\n",
              "\t<tr><td>10</td><td>0</td><td> 0</td></tr>\n",
              "\t<tr><td>11</td><td>0</td><td> 0</td></tr>\n",
              "\t<tr><td>12</td><td>0</td><td> 0</td></tr>\n",
              "\t<tr><td>13</td><td>0</td><td> 0</td></tr>\n",
              "\t<tr><td>14</td><td>0</td><td> 0</td></tr>\n",
              "\t<tr><td>15</td><td>0</td><td> 0</td></tr>\n",
              "\t<tr><td>16</td><td>0</td><td> 0</td></tr>\n",
              "\t<tr><td>⋮</td><td>⋮</td><td>⋮</td></tr>\n",
              "\t<tr><td> 68</td><td>0</td><td>0</td></tr>\n",
              "\t<tr><td> 69</td><td>0</td><td>0</td></tr>\n",
              "\t<tr><td> 70</td><td>0</td><td>0</td></tr>\n",
              "\t<tr><td> 71</td><td>0</td><td>0</td></tr>\n",
              "\t<tr><td> 72</td><td>0</td><td>0</td></tr>\n",
              "\t<tr><td> 74</td><td>0</td><td>0</td></tr>\n",
              "\t<tr><td> 75</td><td>0</td><td>0</td></tr>\n",
              "\t<tr><td> 76</td><td>0</td><td>0</td></tr>\n",
              "\t<tr><td> 77</td><td>0</td><td>0</td></tr>\n",
              "\t<tr><td> 78</td><td>0</td><td>0</td></tr>\n",
              "\t<tr><td> 79</td><td>0</td><td>0</td></tr>\n",
              "\t<tr><td> 80</td><td>0</td><td>0</td></tr>\n",
              "\t<tr><td> 81</td><td>0</td><td>0</td></tr>\n",
              "\t<tr><td> 82</td><td>0</td><td>0</td></tr>\n",
              "\t<tr><td> 83</td><td>0</td><td>0</td></tr>\n",
              "\t<tr><td> 84</td><td>0</td><td>0</td></tr>\n",
              "\t<tr><td> 85</td><td>0</td><td>0</td></tr>\n",
              "\t<tr><td> 86</td><td>0</td><td>0</td></tr>\n",
              "\t<tr><td> 87</td><td>0</td><td>0</td></tr>\n",
              "\t<tr><td> 88</td><td>0</td><td>0</td></tr>\n",
              "\t<tr><td> 89</td><td>0</td><td>0</td></tr>\n",
              "\t<tr><td> 90</td><td>0</td><td>0</td></tr>\n",
              "\t<tr><td> 91</td><td>0</td><td>0</td></tr>\n",
              "\t<tr><td> 92</td><td>0</td><td>0</td></tr>\n",
              "\t<tr><td> 93</td><td>0</td><td>0</td></tr>\n",
              "\t<tr><td> 95</td><td>0</td><td>0</td></tr>\n",
              "\t<tr><td> 97</td><td>0</td><td>0</td></tr>\n",
              "\t<tr><td> 98</td><td>0</td><td>0</td></tr>\n",
              "\t<tr><td> 99</td><td>0</td><td>0</td></tr>\n",
              "\t<tr><td>100</td><td>0</td><td>0</td></tr>\n",
              "</tbody>\n",
              "</table>\n"
            ],
            "text/markdown": "\nA tibble: 100 × 3\n\n| case &lt;int&gt; | n_miss &lt;int&gt; | pct_miss &lt;dbl&gt; |\n|---|---|---|\n|  9 | 1 | 50 |\n| 22 | 1 | 50 |\n| 23 | 1 | 50 |\n| 31 | 1 | 50 |\n| 36 | 1 | 50 |\n| 37 | 1 | 50 |\n| 39 | 1 | 50 |\n| 41 | 1 | 50 |\n| 43 | 1 | 50 |\n| 44 | 1 | 50 |\n| 61 | 1 | 50 |\n| 67 | 1 | 50 |\n| 73 | 1 | 50 |\n| 94 | 1 | 50 |\n| 96 | 1 | 50 |\n|  1 | 0 |  0 |\n|  2 | 0 |  0 |\n|  3 | 0 |  0 |\n|  4 | 0 |  0 |\n|  5 | 0 |  0 |\n|  6 | 0 |  0 |\n|  7 | 0 |  0 |\n|  8 | 0 |  0 |\n| 10 | 0 |  0 |\n| 11 | 0 |  0 |\n| 12 | 0 |  0 |\n| 13 | 0 |  0 |\n| 14 | 0 |  0 |\n| 15 | 0 |  0 |\n| 16 | 0 |  0 |\n| ⋮ | ⋮ | ⋮ |\n|  68 | 0 | 0 |\n|  69 | 0 | 0 |\n|  70 | 0 | 0 |\n|  71 | 0 | 0 |\n|  72 | 0 | 0 |\n|  74 | 0 | 0 |\n|  75 | 0 | 0 |\n|  76 | 0 | 0 |\n|  77 | 0 | 0 |\n|  78 | 0 | 0 |\n|  79 | 0 | 0 |\n|  80 | 0 | 0 |\n|  81 | 0 | 0 |\n|  82 | 0 | 0 |\n|  83 | 0 | 0 |\n|  84 | 0 | 0 |\n|  85 | 0 | 0 |\n|  86 | 0 | 0 |\n|  87 | 0 | 0 |\n|  88 | 0 | 0 |\n|  89 | 0 | 0 |\n|  90 | 0 | 0 |\n|  91 | 0 | 0 |\n|  92 | 0 | 0 |\n|  93 | 0 | 0 |\n|  95 | 0 | 0 |\n|  97 | 0 | 0 |\n|  98 | 0 | 0 |\n|  99 | 0 | 0 |\n| 100 | 0 | 0 |\n\n",
            "text/latex": "A tibble: 100 × 3\n\\begin{tabular}{lll}\n case & n\\_miss & pct\\_miss\\\\\n <int> & <int> & <dbl>\\\\\n\\hline\n\t  9 & 1 & 50\\\\\n\t 22 & 1 & 50\\\\\n\t 23 & 1 & 50\\\\\n\t 31 & 1 & 50\\\\\n\t 36 & 1 & 50\\\\\n\t 37 & 1 & 50\\\\\n\t 39 & 1 & 50\\\\\n\t 41 & 1 & 50\\\\\n\t 43 & 1 & 50\\\\\n\t 44 & 1 & 50\\\\\n\t 61 & 1 & 50\\\\\n\t 67 & 1 & 50\\\\\n\t 73 & 1 & 50\\\\\n\t 94 & 1 & 50\\\\\n\t 96 & 1 & 50\\\\\n\t  1 & 0 &  0\\\\\n\t  2 & 0 &  0\\\\\n\t  3 & 0 &  0\\\\\n\t  4 & 0 &  0\\\\\n\t  5 & 0 &  0\\\\\n\t  6 & 0 &  0\\\\\n\t  7 & 0 &  0\\\\\n\t  8 & 0 &  0\\\\\n\t 10 & 0 &  0\\\\\n\t 11 & 0 &  0\\\\\n\t 12 & 0 &  0\\\\\n\t 13 & 0 &  0\\\\\n\t 14 & 0 &  0\\\\\n\t 15 & 0 &  0\\\\\n\t 16 & 0 &  0\\\\\n\t ⋮ & ⋮ & ⋮\\\\\n\t  68 & 0 & 0\\\\\n\t  69 & 0 & 0\\\\\n\t  70 & 0 & 0\\\\\n\t  71 & 0 & 0\\\\\n\t  72 & 0 & 0\\\\\n\t  74 & 0 & 0\\\\\n\t  75 & 0 & 0\\\\\n\t  76 & 0 & 0\\\\\n\t  77 & 0 & 0\\\\\n\t  78 & 0 & 0\\\\\n\t  79 & 0 & 0\\\\\n\t  80 & 0 & 0\\\\\n\t  81 & 0 & 0\\\\\n\t  82 & 0 & 0\\\\\n\t  83 & 0 & 0\\\\\n\t  84 & 0 & 0\\\\\n\t  85 & 0 & 0\\\\\n\t  86 & 0 & 0\\\\\n\t  87 & 0 & 0\\\\\n\t  88 & 0 & 0\\\\\n\t  89 & 0 & 0\\\\\n\t  90 & 0 & 0\\\\\n\t  91 & 0 & 0\\\\\n\t  92 & 0 & 0\\\\\n\t  93 & 0 & 0\\\\\n\t  95 & 0 & 0\\\\\n\t  97 & 0 & 0\\\\\n\t  98 & 0 & 0\\\\\n\t  99 & 0 & 0\\\\\n\t 100 & 0 & 0\\\\\n\\end{tabular}\n",
            "text/plain": [
              "    case n_miss pct_miss\n",
              "1    9   1      50      \n",
              "2   22   1      50      \n",
              "3   23   1      50      \n",
              "4   31   1      50      \n",
              "5   36   1      50      \n",
              "6   37   1      50      \n",
              "7   39   1      50      \n",
              "8   41   1      50      \n",
              "9   43   1      50      \n",
              "10  44   1      50      \n",
              "11  61   1      50      \n",
              "12  67   1      50      \n",
              "13  73   1      50      \n",
              "14  94   1      50      \n",
              "15  96   1      50      \n",
              "16   1   0       0      \n",
              "17   2   0       0      \n",
              "18   3   0       0      \n",
              "19   4   0       0      \n",
              "20   5   0       0      \n",
              "21   6   0       0      \n",
              "22   7   0       0      \n",
              "23   8   0       0      \n",
              "24  10   0       0      \n",
              "25  11   0       0      \n",
              "26  12   0       0      \n",
              "27  13   0       0      \n",
              "28  14   0       0      \n",
              "29  15   0       0      \n",
              "30  16   0       0      \n",
              "⋮   ⋮    ⋮      ⋮       \n",
              "71   68  0      0       \n",
              "72   69  0      0       \n",
              "73   70  0      0       \n",
              "74   71  0      0       \n",
              "75   72  0      0       \n",
              "76   74  0      0       \n",
              "77   75  0      0       \n",
              "78   76  0      0       \n",
              "79   77  0      0       \n",
              "80   78  0      0       \n",
              "81   79  0      0       \n",
              "82   80  0      0       \n",
              "83   81  0      0       \n",
              "84   82  0      0       \n",
              "85   83  0      0       \n",
              "86   84  0      0       \n",
              "87   85  0      0       \n",
              "88   86  0      0       \n",
              "89   87  0      0       \n",
              "90   88  0      0       \n",
              "91   89  0      0       \n",
              "92   90  0      0       \n",
              "93   91  0      0       \n",
              "94   92  0      0       \n",
              "95   93  0      0       \n",
              "96   95  0      0       \n",
              "97   97  0      0       \n",
              "98   98  0      0       \n",
              "99   99  0      0       \n",
              "100 100  0      0       "
            ]
          },
          "metadata": {}
        }
      ]
    },
    {
      "cell_type": "markdown",
      "source": [
        "Métodos de visualización:"
      ],
      "metadata": {
        "id": "RYw5IjI_B0NH"
      }
    },
    {
      "cell_type": "code",
      "source": [
        "print(\" -------   Muestra número y porcentaje de NA por variable. -------------\")\n",
        "\n",
        "miss_var_summary(df)\n",
        "\n",
        "print(\"---- Muestra un gráfico de barras con la cantidad de valores faltantes por variable y patrones comunes. ---------\")\n",
        "\n",
        "aggr(df)"
      ],
      "metadata": {
        "id": "bbY46cS3B-yR",
        "outputId": "f2f93151-504d-4d35-a50b-e7b4d89059d1",
        "colab": {
          "base_uri": "https://localhost:8080/",
          "height": 616
        }
      },
      "execution_count": 45,
      "outputs": [
        {
          "output_type": "stream",
          "name": "stdout",
          "text": [
            "[1] \" -------   Muestra número y porcentaje de NA por variable. -------------\"\n"
          ]
        },
        {
          "output_type": "display_data",
          "data": {
            "text/html": [
              "<table class=\"dataframe\">\n",
              "<caption>A tibble: 2 × 3</caption>\n",
              "<thead>\n",
              "\t<tr><th scope=col>variable</th><th scope=col>n_miss</th><th scope=col>pct_miss</th></tr>\n",
              "\t<tr><th scope=col>&lt;chr&gt;</th><th scope=col>&lt;int&gt;</th><th scope=col>&lt;num&gt;</th></tr>\n",
              "</thead>\n",
              "<tbody>\n",
              "\t<tr><td>x</td><td>1</td><td>10</td></tr>\n",
              "\t<tr><td>y</td><td>1</td><td>10</td></tr>\n",
              "</tbody>\n",
              "</table>\n"
            ],
            "text/markdown": "\nA tibble: 2 × 3\n\n| variable &lt;chr&gt; | n_miss &lt;int&gt; | pct_miss &lt;num&gt; |\n|---|---|---|\n| x | 1 | 10 |\n| y | 1 | 10 |\n\n",
            "text/latex": "A tibble: 2 × 3\n\\begin{tabular}{lll}\n variable & n\\_miss & pct\\_miss\\\\\n <chr> & <int> & <num>\\\\\n\\hline\n\t x & 1 & 10\\\\\n\t y & 1 & 10\\\\\n\\end{tabular}\n",
            "text/plain": [
              "  variable n_miss pct_miss\n",
              "1 x        1      10      \n",
              "2 y        1      10      "
            ]
          },
          "metadata": {}
        },
        {
          "output_type": "stream",
          "name": "stdout",
          "text": [
            "[1] \"---- Muestra un gráfico de barras con la cantidad de valores faltantes por variable y patrones comunes. ---------\"\n"
          ]
        },
        {
          "output_type": "display_data",
          "data": {
            "text/plain": [
              "plot without title"
            ],
            "image/png": "[encoded data removed]"
          },
          "metadata": {
            "image/png": {
              "width": 420,
              "height": 420
            }
          }
        }
      ]
    },
    {
      "cell_type": "markdown",
      "source": [
        "## Patrones de pérdida de datos\n",
        "\n",
        "Los patrones describen *dónde* faltan los datos en el dataset. Los principales son:\n",
        "\n",
        "<center>\n",
        " <img src=\"https://github.com/ednavivianasegura/AccesoImages/blob/main/datossinNA.png?raw=true\" alt=\"descriptiva\" width=\"50%\" height=\"50%\">  \n",
        "</center>\n",
        "\n",
        "\n",
        "- **Univariado**: solo una variable tiene NA:\n",
        "\n",
        "<center>\n",
        " <img src=\"https://github.com/ednavivianasegura/AccesoImages/blob/main/UnivariadoNA.png?raw=true\" alt=\"descriptiva\" width=\"50%\" height=\"50%\">  \n",
        "</center>\n",
        "\n",
        "Solo una variable contiene valores faltantes; el resto de las variables están completamente observadas.\n",
        "Suele ser el patrón más simple y fácil de manejar.\n",
        "\n",
        "- **Multivariado (general)**:\n",
        "\n",
        "<center>\n",
        " <img src=\"https://github.com/ednavivianasegura/AccesoImages/blob/main/MultivariadoNA.png?raw=true\" alt=\"descriptiva\" width=\"50%\" height=\"50%\">  \n",
        "</center>\n",
        "\n",
        "\n",
        "Varias variables contienen valores faltantes, sin seguir un orden estructurado. Es el patrón más común en la práctica.\n",
        "\n",
        "Por ejemplo en un estudio poblacional, la edad, peso y ingresos tienen valores faltantes, pero distribuidos de forma irregular.\n",
        "\n",
        "Suele representar más dificultad en la aplicación de algunos métodos clásicos (como imputación monótona).\n",
        "\n",
        "- **Monótono**: si hay NA en una variable, también en todas las siguientes.\n",
        "\n",
        "<center>\n",
        " <img src=\"https://github.com/ednavivianasegura/AccesoImages/blob/main/MonotonoNA.png?raw=true\" alt=\"descriptiva\" width=\"50%\" height=\"50%\">  \n",
        "</center>\n",
        "\n",
        "Hay un orden específico:\n",
        "si una observación tiene un valor faltante en la variable Xj, entonces tendrá faltantes en todas las variables posteriores (Xj+1, Xj+2, ...).\n",
        "\n",
        "Por ejemplo: si falta el peso, también faltan ingresos y presión, pero no edad.\n",
        "\n",
        "Habitualmente, este patrón permite el uso de métodos de imputación secuenciales como regresión por pasos.\n",
        "\n",
        "- **Arbitrario**: los valores faltantes aparecen en cualquier lugar, sin estructura visible ni lógica aparente. Es el caso más difícil de manejar.\n",
        "\n",
        "<center>\n",
        " <img src=\"https://github.com/ednavivianasegura/AccesoImages/blob/main/GeneraNA.png?raw=true\" alt=\"descriptiva\" width=\"50%\" height=\"50%\">  \n",
        "</center>\n",
        "\n",
        "Este patrón suele requerir de métodos de imputación más robustos, como imputación múltiple o modelos bayesianos.\n",
        "\n",
        "\n",
        "\n",
        "\n"
      ],
      "metadata": {
        "id": "eKKRSgqGDgC7"
      }
    },
    {
      "cell_type": "markdown",
      "source": [
        "### Ejemplo práctico:\n",
        "\n",
        "Veamos esto de una manera práctica con el dataset `sleep`. Este conjunto se basa en una recopilación de datos de sueño en mamíferos que apareció en el estudio R. M. Siegel (2005). Clues to the functions of mammalian sleep. Nature, 437(7063), 1264–1271. Cada fila representa una especie de mamífero. Y las variables describen: características biológicas (peso corporal, peso cerebral), comportamientos relacionados con el sueño (horas REM y no REM), estrategias de supervivencia (depredador, exposición al peligro) y riesgos ecológicos.\n",
        "\n",
        "| Variable   | Tipo                | Descripción breve                                        |\n",
        "| ---------- | ------------------- | -------------------------------------------------------- |\n",
        "| `BodyWgt`  | numérico            | Peso corporal en kilogramos                              |\n",
        "| `BrainWgt` | numérico            | Peso del cerebro en gramos                               |\n",
        "| `NonD`     | numérico            | Horas de sueño no REM (sin movimientos oculares rápidos) |\n",
        "| `Dream`    | numérico            | Horas de sueño REM (con sueños)                          |\n",
        "| `Sleep`    | numérico            | Total de horas de sueño por día                          |\n",
        "| `Span`     | numérico            | Esperanza de vida en años                                |\n",
        "| `Gest`     | numérico            | Duración de la gestación en días                         |\n",
        "| `Pred`     | categórica (factor) | ¿Es el animal un depredador? (categoría: sí/no)          |\n",
        "| `Exp`      | categórica (factor) | ¿Está expuesto a peligro? (bajo, medio, alto)            |\n",
        "| `Danger`   | numérico            | Nivel de peligro general (valor numérico del riesgo)     |\n",
        "\n"
      ],
      "metadata": {
        "id": "VkkyaPKeHdgK"
      }
    },
    {
      "cell_type": "code",
      "source": [
        "data(sleep)\n",
        "# Ver dimensiones del dataset\n",
        "dim(sleep)\n",
        " #Ver variables del dataset\n",
        "str(sleep)\n",
        "\n"
      ],
      "metadata": {
        "id": "OMiOH92WH3Za",
        "outputId": "4f360fa2-89f4-403d-81d4-beda9733d9a8",
        "colab": {
          "base_uri": "https://localhost:8080/",
          "height": 225
        }
      },
      "execution_count": 49,
      "outputs": [
        {
          "output_type": "display_data",
          "data": {
            "text/html": [
              "<style>\n",
              ".list-inline {list-style: none; margin:0; padding: 0}\n",
              ".list-inline>li {display: inline-block}\n",
              ".list-inline>li:not(:last-child)::after {content: \"\\00b7\"; padding: 0 .5ex}\n",
              "</style>\n",
              "<ol class=list-inline><li>62</li><li>10</li></ol>\n"
            ],
            "text/markdown": "1. 62\n2. 10\n\n\n",
            "text/latex": "\\begin{enumerate*}\n\\item 62\n\\item 10\n\\end{enumerate*}\n",
            "text/plain": [
              "[1] 62 10"
            ]
          },
          "metadata": {}
        },
        {
          "output_type": "stream",
          "name": "stdout",
          "text": [
            "'data.frame':\t62 obs. of  10 variables:\n",
            " $ BodyWgt : num  6654 1 3.38 0.92 2547 ...\n",
            " $ BrainWgt: num  5712 6.6 44.5 5.7 4603 ...\n",
            " $ NonD    : num  NA 6.3 NA NA 2.1 9.1 15.8 5.2 10.9 8.3 ...\n",
            " $ Dream   : num  NA 2 NA NA 1.8 0.7 3.9 1 3.6 1.4 ...\n",
            " $ Sleep   : num  3.3 8.3 12.5 16.5 3.9 9.8 19.7 6.2 14.5 9.7 ...\n",
            " $ Span    : num  38.6 4.5 14 NA 69 27 19 30.4 28 50 ...\n",
            " $ Gest    : num  645 42 60 25 624 180 35 392 63 230 ...\n",
            " $ Pred    : int  3 3 1 5 3 4 1 4 1 1 ...\n",
            " $ Exp     : int  5 1 1 2 5 4 1 5 2 1 ...\n",
            " $ Danger  : int  3 3 1 3 4 4 1 4 1 1 ...\n"
          ]
        }
      ]
    },
    {
      "cell_type": "code",
      "source": [
        "data(sleep, package = \"VIM\")\n",
        "\n",
        "# Visualizar patrón general\n",
        "aggr(sleep, numbers = TRUE, sortVars = TRUE, gap = 3,\n",
        "     ylab = c(\"Frecuencia de NA\", \"Patrón de pérdida\"))\n",
        "\n",
        "# También útil: matriz de patrones\n",
        "matrixplot(sleep, sortby = 2)\n",
        "\n",
        "\n",
        "\n",
        "\n",
        "# 4. Mecanismos de pérdida de datos: MCAR, MAR y MNAR\n",
        "\n",
        "## MCAR: Missing Completely At Random\n",
        "\n",
        "\n",
        "# La probabilidad de pérdida es completamente aleatoria. No depende de otras variables.\n",
        "\n",
        "\n",
        "## MAR: Missing At Random\n",
        "\n",
        "\n",
        "# La pérdida depende de variables observadas (ej. edad), pero no del valor faltante.\n",
        "\n",
        "\n",
        "## MNAR: Missing Not At Random\n",
        "\n",
        "# La pérdida depende del valor perdido en sí mismo (no observable directamente)."
      ],
      "metadata": {
        "id": "HmTeRltnD49L",
        "outputId": "a3271d61-490e-40e0-8461-c12f90fb800a",
        "colab": {
          "base_uri": "https://localhost:8080/",
          "height": 1000
        }
      },
      "execution_count": 53,
      "outputs": [
        {
          "output_type": "stream",
          "name": "stdout",
          "text": [
            "\n",
            " Variables sorted by number of missings: \n",
            " Variable      Count\n",
            "     NonD 0.22580645\n",
            "    Dream 0.19354839\n",
            "    Sleep 0.06451613\n",
            "     Span 0.06451613\n",
            "     Gest 0.06451613\n",
            "  BodyWgt 0.00000000\n",
            " BrainWgt 0.00000000\n",
            "     Pred 0.00000000\n",
            "      Exp 0.00000000\n",
            "   Danger 0.00000000\n"
          ]
        },
        {
          "output_type": "display_data",
          "data": {
            "text/plain": [
              "plot without title"
            ],
            "image/png": "[encoded data removed]"
          },
          "metadata": {
            "image/png": {
              "width": 420,
              "height": 420
            }
          }
        },
        {
          "output_type": "display_data",
          "data": {
            "text/plain": [
              "plot without title"
            ],
            "image/png": "[encoded data removed]"
          },
          "metadata": {
            "image/png": {
              "width": 420,
              "height": 420
            }
          }
        }
      ]
    }
  ]
}