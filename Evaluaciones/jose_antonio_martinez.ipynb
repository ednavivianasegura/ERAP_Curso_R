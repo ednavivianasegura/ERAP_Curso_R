{
  "cells": [
    {
      "cell_type": "markdown",
      "metadata": {
        "id": "Xw_P5Z7q8v5W"
      },
      "source": [
        "Título: Manipulación de datos con R - Módulo IV (Exploración de datos y Estadística descriptiva)\n",
        "\n",
        "Autor(es): Edna Viviana Segura Alvarado - Hans Mauricio Carrillo Hernández\n",
        "\n",
        "Fecha: 2025-06\n",
        "\n",
        "Institución: Universidad de La Rioja"
      ],
      "id": "Xw_P5Z7q8v5W"
    },
    {
      "cell_type": "markdown",
      "id": "ca0626f3",
      "metadata": {
        "id": "ca0626f3"
      },
      "source": [
        "# Estadística Descriptiva\n",
        "\n",
        "La estadística descriptiva se encarga de recolectar, organizar, representar y resumir la información contenida en un conjunto de datos. Su objetivo es **describir las características fundamentales** de una o más variables, sin llegar a realizar inferencias o generalizaciones.\n",
        "\n",
        "---\n",
        "\n",
        "## Clasificación de las variables\n",
        "\n",
        "| Tipo de variable     | Subtipo              | Ejemplo                            |\n",
        "|----------------------|----------------------|------------------------------------|\n",
        "| **Cualitativa**      | Nominal              | Sexo (masculino/femenino)         |\n",
        "|                      | Ordinal              | Nivel educativo (bajo/medio/alto) |\n",
        "| **Cuantitativa**     | Discreta             | Número de hijos (0, 1, 2…)         |\n",
        "|                      | Continua             | Edad, ingreso mensual, peso       |\n",
        "\n",
        "---\n",
        "\n",
        "### Enfoque de análisis:\n",
        "\n",
        "| Enfoque           | Descripción |\n",
        "|-------------------|-------------|\n",
        "| **Univariado**    | Análisis de una sola variable. Se explora su distribución, tendencia central, dispersión y forma. |\n",
        "| **Bivariado**     | Análisis conjunto de dos variables para identificar relaciones o asociaciones. |\n",
        "| *(Multivariado)*  | Análisis simultáneo de tres o más variables (fuera del alcance de esta sección). |\n",
        "\n",
        "---\n",
        "\n",
        "## Estadística Descriptiva Univariada\n",
        "\n",
        "1. Para Variables **Cualitativas**:\n",
        "\n",
        "Se resumen usando tablas de frecuencia:\n",
        "\n",
        "- **Frecuencia absoluta**: número de observaciones por categoría.\n",
        "- **Frecuencia relativa**: proporción (o porcentaje) respecto al total.\n",
        "- **Representaciones gráficas**: gráfico de barras, gráfico de torta.\n",
        "\n",
        "2. Para Variables **Cuantitativas**:\n",
        "\n",
        "Se utilizan:\n",
        "\n",
        "- **Medidas de tendencia central**: media, mediana, moda.\n",
        "- **Medidas de dispersión**: rango, varianza, desviación estándar, coeficiente de variación.\n",
        "- **Medidas de forma**: asimetría (skewness), curtosis (kurtosis).\n",
        "- **Visualizaciones**: histogramas, diagramas de caja (boxplots), Q-Q plots.\n",
        "\n",
        "---\n",
        "\n",
        "## Estadística Descriptiva Bivariada\n",
        "\n",
        "1. Dos Variables cualitativas:\n",
        "- Tablas de contingencia\n",
        "- Gráficos de mosaico o de barras agrupadas\n",
        "- Medidas de asociación (por ejemplo, prueba Chi²)\n",
        "\n",
        "2. Una Variable Cualitativa y una Cuantitativa:\n",
        "- Promedios o medianas por grupo\n",
        "- Boxplots por categoría\n",
        "- ANOVA exploratoria\n",
        "\n",
        "3. Dos Variables Cuantitativas:\n",
        "- Nube de puntos (scatterplot)\n",
        "- Coeficiente de correlación (Pearson, Spearman)\n",
        "- Covarianza\n",
        "- Recta de regresión simple\n",
        "\n",
        "---\n",
        "\n"
      ]
    },
    {
      "cell_type": "code",
      "source": [
        "# @title Librerías\n",
        "# Paquetes necesarios\n",
        "\n",
        "# Función para instalar si no está instalado\n",
        "instalar_si_no <- function(paquete) {\n",
        "    if (!requireNamespace(paquete, quietly = TRUE)) {\n",
        "    install.packages(paquete, repos = \"https://cloud.r-project.org\")\n",
        "  }\n",
        "  library(paquete, character.only = TRUE)\n",
        "}\n",
        "\n",
        "# Lista de paquetes a verificar\n",
        "paquetes <- c(\"mlbench\",\"forcats\",\"VIM\",\"knitr\",\"e1071\",\"tidyr\",\"dplyr\",\"ggplot2\",\"e1071\", \"visdat\",\"reshape2\", \"janitor\")\n",
        "\n",
        "\n",
        "# Instalar y cargar todos\n",
        "invisible(lapply(paquetes, instalar_si_no))\n",
        "\n",
        "# Instalar librería empire\n",
        "remotes::install_github(\"davidbiol/empire\")\n",
        "\n"
      ],
      "metadata": {
        "id": "kOrzjTjIrLjQ",
        "colab": {
          "base_uri": "https://localhost:8080/"
        },
        "outputId": "ac0bd80f-6d0f-4841-f17e-72b49a32c228"
      },
      "id": "kOrzjTjIrLjQ",
      "execution_count": 1,
      "outputs": [
        {
          "output_type": "stream",
          "name": "stderr",
          "text": [
            "Installing package into ‘/usr/local/lib/R/site-library’\n",
            "(as ‘lib’ is unspecified)\n",
            "\n",
            "Installing package into ‘/usr/local/lib/R/site-library’\n",
            "(as ‘lib’ is unspecified)\n",
            "\n",
            "also installing the dependencies ‘rbibutils’, ‘cowplot’, ‘Deriv’, ‘microbenchmark’, ‘Rdpack’, ‘numDeriv’, ‘doBy’, ‘SparseM’, ‘MatrixModels’, ‘minqa’, ‘nloptr’, ‘reformulas’, ‘zoo’, ‘carData’, ‘abind’, ‘Formula’, ‘pbkrtest’, ‘quantreg’, ‘lme4’, ‘DEoptimR’, ‘lmtest’, ‘proxy’, ‘RcppEigen’, ‘colorspace’, ‘car’, ‘robustbase’, ‘sp’, ‘vcd’, ‘e1071’, ‘laeken’, ‘ranger’\n",
            "\n",
            "\n",
            "Loading required package: colorspace\n",
            "\n",
            "Loading required package: grid\n",
            "\n",
            "VIM is ready to use.\n",
            "\n",
            "\n",
            "Suggestions and bug-reports can be submitted at: https://github.com/statistikat/VIM/issues\n",
            "\n",
            "\n",
            "Attaching package: ‘VIM’\n",
            "\n",
            "\n",
            "The following object is masked from ‘package:datasets’:\n",
            "\n",
            "    sleep\n",
            "\n",
            "\n",
            "\n",
            "Attaching package: ‘dplyr’\n",
            "\n",
            "\n",
            "The following objects are masked from ‘package:stats’:\n",
            "\n",
            "    filter, lag\n",
            "\n",
            "\n",
            "The following objects are masked from ‘package:base’:\n",
            "\n",
            "    intersect, setdiff, setequal, union\n",
            "\n",
            "\n",
            "Installing package into ‘/usr/local/lib/R/site-library’\n",
            "(as ‘lib’ is unspecified)\n",
            "\n",
            "Installing package into ‘/usr/local/lib/R/site-library’\n",
            "(as ‘lib’ is unspecified)\n",
            "\n",
            "also installing the dependency ‘plyr’\n",
            "\n",
            "\n",
            "\n",
            "Attaching package: ‘reshape2’\n",
            "\n",
            "\n",
            "The following object is masked from ‘package:tidyr’:\n",
            "\n",
            "    smiths\n",
            "\n",
            "\n",
            "Installing package into ‘/usr/local/lib/R/site-library’\n",
            "(as ‘lib’ is unspecified)\n",
            "\n",
            "also installing the dependency ‘snakecase’\n",
            "\n",
            "\n",
            "\n",
            "Attaching package: ‘janitor’\n",
            "\n",
            "\n",
            "The following objects are masked from ‘package:stats’:\n",
            "\n",
            "    chisq.test, fisher.test\n",
            "\n",
            "\n",
            "Downloading GitHub repo davidbiol/empire@HEAD\n",
            "\n"
          ]
        },
        {
          "output_type": "stream",
          "name": "stdout",
          "text": [
            "iterators (NA -> 1.0.14 ) [CRAN]\n",
            "shape     (NA -> 1.4.6.1) [CRAN]\n",
            "foreach   (NA -> 1.5.2  ) [CRAN]\n",
            "glmnet    (NA -> 4.1-9  ) [CRAN]\n"
          ]
        },
        {
          "output_type": "stream",
          "name": "stderr",
          "text": [
            "Installing 4 packages: iterators, shape, foreach, glmnet\n",
            "\n",
            "Installing packages into ‘/usr/local/lib/R/site-library’\n",
            "(as ‘lib’ is unspecified)\n",
            "\n"
          ]
        },
        {
          "output_type": "stream",
          "name": "stdout",
          "text": [
            "\u001b[36m──\u001b[39m \u001b[36mR CMD build\u001b[39m \u001b[36m─────────────────────────────────────────────────────────────────\u001b[39m\n",
            "* checking for file ‘/tmp/RtmpQt8JIg/remotes9f3f902039/davidbiol-empire-af6dc96/DESCRIPTION’ ... OK\n",
            "* preparing ‘empire’:\n",
            "* checking DESCRIPTION meta-information ... OK\n",
            "* checking for LF line-endings in source and make files and shell scripts\n",
            "* checking for empty or unneeded directories\n",
            "Omitted ‘LazyData’ from DESCRIPTION\n",
            "* building ‘empire_0.1.0.tar.gz’\n",
            "\n"
          ]
        },
        {
          "output_type": "stream",
          "name": "stderr",
          "text": [
            "Installing package into ‘/usr/local/lib/R/site-library’\n",
            "(as ‘lib’ is unspecified)\n",
            "\n"
          ]
        }
      ]
    },
    {
      "cell_type": "markdown",
      "source": [
        "# Datos\n",
        "\n",
        "Utilizaremos nuevamente el conjunto Sleep de la librería VIM trabajado durante el módulo II.\n",
        "\n"
      ],
      "metadata": {
        "id": "tFBkmKVCrPyI"
      },
      "id": "tFBkmKVCrPyI"
    },
    {
      "cell_type": "code",
      "source": [
        "# Cargar dataset 'sleep'\n",
        "data(\"sleep\")\n",
        "sleep"
      ],
      "metadata": {
        "id": "hXqd3SSjrX01",
        "colab": {
          "base_uri": "https://localhost:8080/",
          "height": 1000
        },
        "outputId": "5d4e70a3-034c-40f0-fddc-b9d48d03fa76"
      },
      "id": "hXqd3SSjrX01",
      "execution_count": 2,
      "outputs": [
        {
          "output_type": "display_data",
          "data": {
            "text/html": [
              "<table class=\"dataframe\">\n",
              "<caption>A data.frame: 62 × 10</caption>\n",
              "<thead>\n",
              "\t<tr><th scope=col>BodyWgt</th><th scope=col>BrainWgt</th><th scope=col>NonD</th><th scope=col>Dream</th><th scope=col>Sleep</th><th scope=col>Span</th><th scope=col>Gest</th><th scope=col>Pred</th><th scope=col>Exp</th><th scope=col>Danger</th></tr>\n",
              "\t<tr><th scope=col>&lt;dbl&gt;</th><th scope=col>&lt;dbl&gt;</th><th scope=col>&lt;dbl&gt;</th><th scope=col>&lt;dbl&gt;</th><th scope=col>&lt;dbl&gt;</th><th scope=col>&lt;dbl&gt;</th><th scope=col>&lt;dbl&gt;</th><th scope=col>&lt;int&gt;</th><th scope=col>&lt;int&gt;</th><th scope=col>&lt;int&gt;</th></tr>\n",
              "</thead>\n",
              "<tbody>\n",
              "\t<tr><td>6654.000</td><td>5712.0</td><td>  NA</td><td> NA</td><td> 3.3</td><td>38.6</td><td>645</td><td>3</td><td>5</td><td>3</td></tr>\n",
              "\t<tr><td>   1.000</td><td>   6.6</td><td> 6.3</td><td>2.0</td><td> 8.3</td><td> 4.5</td><td> 42</td><td>3</td><td>1</td><td>3</td></tr>\n",
              "\t<tr><td>   3.385</td><td>  44.5</td><td>  NA</td><td> NA</td><td>12.5</td><td>14.0</td><td> 60</td><td>1</td><td>1</td><td>1</td></tr>\n",
              "\t<tr><td>   0.920</td><td>   5.7</td><td>  NA</td><td> NA</td><td>16.5</td><td>  NA</td><td> 25</td><td>5</td><td>2</td><td>3</td></tr>\n",
              "\t<tr><td>2547.000</td><td>4603.0</td><td> 2.1</td><td>1.8</td><td> 3.9</td><td>69.0</td><td>624</td><td>3</td><td>5</td><td>4</td></tr>\n",
              "\t<tr><td>  10.550</td><td> 179.5</td><td> 9.1</td><td>0.7</td><td> 9.8</td><td>27.0</td><td>180</td><td>4</td><td>4</td><td>4</td></tr>\n",
              "\t<tr><td>   0.023</td><td>   0.3</td><td>15.8</td><td>3.9</td><td>19.7</td><td>19.0</td><td> 35</td><td>1</td><td>1</td><td>1</td></tr>\n",
              "\t<tr><td> 160.000</td><td> 169.0</td><td> 5.2</td><td>1.0</td><td> 6.2</td><td>30.4</td><td>392</td><td>4</td><td>5</td><td>4</td></tr>\n",
              "\t<tr><td>   3.300</td><td>  25.6</td><td>10.9</td><td>3.6</td><td>14.5</td><td>28.0</td><td> 63</td><td>1</td><td>2</td><td>1</td></tr>\n",
              "\t<tr><td>  52.160</td><td> 440.0</td><td> 8.3</td><td>1.4</td><td> 9.7</td><td>50.0</td><td>230</td><td>1</td><td>1</td><td>1</td></tr>\n",
              "\t<tr><td>   0.425</td><td>   6.4</td><td>11.0</td><td>1.5</td><td>12.5</td><td> 7.0</td><td>112</td><td>5</td><td>4</td><td>4</td></tr>\n",
              "\t<tr><td> 465.000</td><td> 423.0</td><td> 3.2</td><td>0.7</td><td> 3.9</td><td>30.0</td><td>281</td><td>5</td><td>5</td><td>5</td></tr>\n",
              "\t<tr><td>   0.550</td><td>   2.4</td><td> 7.6</td><td>2.7</td><td>10.3</td><td>  NA</td><td> NA</td><td>2</td><td>1</td><td>2</td></tr>\n",
              "\t<tr><td> 187.100</td><td> 419.0</td><td>  NA</td><td> NA</td><td> 3.1</td><td>40.0</td><td>365</td><td>5</td><td>5</td><td>5</td></tr>\n",
              "\t<tr><td>   0.075</td><td>   1.2</td><td> 6.3</td><td>2.1</td><td> 8.4</td><td> 3.5</td><td> 42</td><td>1</td><td>1</td><td>1</td></tr>\n",
              "\t<tr><td>   3.000</td><td>  25.0</td><td> 8.6</td><td>0.0</td><td> 8.6</td><td>50.0</td><td> 28</td><td>2</td><td>2</td><td>2</td></tr>\n",
              "\t<tr><td>   0.785</td><td>   3.5</td><td> 6.6</td><td>4.1</td><td>10.7</td><td> 6.0</td><td> 42</td><td>2</td><td>2</td><td>2</td></tr>\n",
              "\t<tr><td>   0.200</td><td>   5.0</td><td> 9.5</td><td>1.2</td><td>10.7</td><td>10.4</td><td>120</td><td>2</td><td>2</td><td>2</td></tr>\n",
              "\t<tr><td>   1.410</td><td>  17.5</td><td> 4.8</td><td>1.3</td><td> 6.1</td><td>34.0</td><td> NA</td><td>1</td><td>2</td><td>1</td></tr>\n",
              "\t<tr><td>  60.000</td><td>  81.0</td><td>12.0</td><td>6.1</td><td>18.1</td><td> 7.0</td><td> NA</td><td>1</td><td>1</td><td>1</td></tr>\n",
              "\t<tr><td> 529.000</td><td> 680.0</td><td>  NA</td><td>0.3</td><td>  NA</td><td>28.0</td><td>400</td><td>5</td><td>5</td><td>5</td></tr>\n",
              "\t<tr><td>  27.660</td><td> 115.0</td><td> 3.3</td><td>0.5</td><td> 3.8</td><td>20.0</td><td>148</td><td>5</td><td>5</td><td>5</td></tr>\n",
              "\t<tr><td>   0.120</td><td>   1.0</td><td>11.0</td><td>3.4</td><td>14.4</td><td> 3.9</td><td> 16</td><td>3</td><td>1</td><td>2</td></tr>\n",
              "\t<tr><td> 207.000</td><td> 406.0</td><td>  NA</td><td> NA</td><td>12.0</td><td>39.3</td><td>252</td><td>1</td><td>4</td><td>1</td></tr>\n",
              "\t<tr><td>  85.000</td><td> 325.0</td><td> 4.7</td><td>1.5</td><td> 6.2</td><td>41.0</td><td>310</td><td>1</td><td>3</td><td>1</td></tr>\n",
              "\t<tr><td>  36.330</td><td> 119.5</td><td>  NA</td><td> NA</td><td>13.0</td><td>16.2</td><td> 63</td><td>1</td><td>1</td><td>1</td></tr>\n",
              "\t<tr><td>   0.101</td><td>   4.0</td><td>10.4</td><td>3.4</td><td>13.8</td><td> 9.0</td><td> 28</td><td>5</td><td>1</td><td>3</td></tr>\n",
              "\t<tr><td>   1.040</td><td>   5.5</td><td> 7.4</td><td>0.8</td><td> 8.2</td><td> 7.6</td><td> 68</td><td>5</td><td>3</td><td>4</td></tr>\n",
              "\t<tr><td> 521.000</td><td> 655.0</td><td> 2.1</td><td>0.8</td><td> 2.9</td><td>46.0</td><td>336</td><td>5</td><td>5</td><td>5</td></tr>\n",
              "\t<tr><td> 100.000</td><td> 157.0</td><td>  NA</td><td> NA</td><td>10.8</td><td>22.4</td><td>100</td><td>1</td><td>1</td><td>1</td></tr>\n",
              "\t<tr><td>⋮</td><td>⋮</td><td>⋮</td><td>⋮</td><td>⋮</td><td>⋮</td><td>⋮</td><td>⋮</td><td>⋮</td><td>⋮</td></tr>\n",
              "\t<tr><td>  0.010</td><td>   0.25</td><td>17.9</td><td>2.0</td><td>19.9</td><td> 24.0</td><td> 50</td><td>1</td><td>1</td><td>1</td></tr>\n",
              "\t<tr><td> 62.000</td><td>1320.00</td><td> 6.1</td><td>1.9</td><td> 8.0</td><td>100.0</td><td>267</td><td>1</td><td>1</td><td>1</td></tr>\n",
              "\t<tr><td>  0.122</td><td>   3.00</td><td> 8.2</td><td>2.4</td><td>10.6</td><td>   NA</td><td> 30</td><td>2</td><td>1</td><td>1</td></tr>\n",
              "\t<tr><td>  1.350</td><td>   8.10</td><td> 8.4</td><td>2.8</td><td>11.2</td><td>   NA</td><td> 45</td><td>3</td><td>1</td><td>3</td></tr>\n",
              "\t<tr><td>  0.023</td><td>   0.40</td><td>11.9</td><td>1.3</td><td>13.2</td><td>  3.2</td><td> 19</td><td>4</td><td>1</td><td>3</td></tr>\n",
              "\t<tr><td>  0.048</td><td>   0.33</td><td>10.8</td><td>2.0</td><td>12.8</td><td>  2.0</td><td> 30</td><td>4</td><td>1</td><td>3</td></tr>\n",
              "\t<tr><td>  1.700</td><td>   6.30</td><td>13.8</td><td>5.6</td><td>19.4</td><td>  5.0</td><td> 12</td><td>2</td><td>1</td><td>1</td></tr>\n",
              "\t<tr><td>  3.500</td><td>  10.80</td><td>14.3</td><td>3.1</td><td>17.4</td><td>  6.5</td><td>120</td><td>2</td><td>1</td><td>1</td></tr>\n",
              "\t<tr><td>250.000</td><td> 490.00</td><td>  NA</td><td>1.0</td><td>  NA</td><td> 23.6</td><td>440</td><td>5</td><td>5</td><td>5</td></tr>\n",
              "\t<tr><td>  0.480</td><td>  15.50</td><td>15.2</td><td>1.8</td><td>17.0</td><td> 12.0</td><td>140</td><td>2</td><td>2</td><td>2</td></tr>\n",
              "\t<tr><td> 10.000</td><td> 115.00</td><td>10.0</td><td>0.9</td><td>10.9</td><td> 20.2</td><td>170</td><td>4</td><td>4</td><td>4</td></tr>\n",
              "\t<tr><td>  1.620</td><td>  11.40</td><td>11.9</td><td>1.8</td><td>13.7</td><td> 13.0</td><td> 17</td><td>2</td><td>1</td><td>2</td></tr>\n",
              "\t<tr><td>192.000</td><td> 180.00</td><td> 6.5</td><td>1.9</td><td> 8.4</td><td> 27.0</td><td>115</td><td>4</td><td>4</td><td>4</td></tr>\n",
              "\t<tr><td>  2.500</td><td>  12.10</td><td> 7.5</td><td>0.9</td><td> 8.4</td><td> 18.0</td><td> 31</td><td>5</td><td>5</td><td>5</td></tr>\n",
              "\t<tr><td>  4.288</td><td>  39.20</td><td>  NA</td><td> NA</td><td>12.5</td><td> 13.7</td><td> 63</td><td>2</td><td>2</td><td>2</td></tr>\n",
              "\t<tr><td>  0.280</td><td>   1.90</td><td>10.6</td><td>2.6</td><td>13.2</td><td>  4.7</td><td> 21</td><td>3</td><td>1</td><td>3</td></tr>\n",
              "\t<tr><td>  4.235</td><td>  50.40</td><td> 7.4</td><td>2.4</td><td> 9.8</td><td>  9.8</td><td> 52</td><td>1</td><td>1</td><td>1</td></tr>\n",
              "\t<tr><td>  6.800</td><td> 179.00</td><td> 8.4</td><td>1.2</td><td> 9.6</td><td> 29.0</td><td>164</td><td>2</td><td>3</td><td>2</td></tr>\n",
              "\t<tr><td>  0.750</td><td>  12.30</td><td> 5.7</td><td>0.9</td><td> 6.6</td><td>  7.0</td><td>225</td><td>2</td><td>2</td><td>2</td></tr>\n",
              "\t<tr><td>  3.600</td><td>  21.00</td><td> 4.9</td><td>0.5</td><td> 5.4</td><td>  6.0</td><td>225</td><td>3</td><td>2</td><td>3</td></tr>\n",
              "\t<tr><td> 14.830</td><td>  98.20</td><td>  NA</td><td> NA</td><td> 2.6</td><td> 17.0</td><td>150</td><td>5</td><td>5</td><td>5</td></tr>\n",
              "\t<tr><td> 55.500</td><td> 175.00</td><td> 3.2</td><td>0.6</td><td> 3.8</td><td> 20.0</td><td>151</td><td>5</td><td>5</td><td>5</td></tr>\n",
              "\t<tr><td>  1.400</td><td>  12.50</td><td>  NA</td><td> NA</td><td>11.0</td><td> 12.7</td><td> 90</td><td>2</td><td>2</td><td>2</td></tr>\n",
              "\t<tr><td>  0.060</td><td>   1.00</td><td> 8.1</td><td>2.2</td><td>10.3</td><td>  3.5</td><td> NA</td><td>3</td><td>1</td><td>2</td></tr>\n",
              "\t<tr><td>  0.900</td><td>   2.60</td><td>11.0</td><td>2.3</td><td>13.3</td><td>  4.5</td><td> 60</td><td>2</td><td>1</td><td>2</td></tr>\n",
              "\t<tr><td>  2.000</td><td>  12.30</td><td> 4.9</td><td>0.5</td><td> 5.4</td><td>  7.5</td><td>200</td><td>3</td><td>1</td><td>3</td></tr>\n",
              "\t<tr><td>  0.104</td><td>   2.50</td><td>13.2</td><td>2.6</td><td>15.8</td><td>  2.3</td><td> 46</td><td>3</td><td>2</td><td>2</td></tr>\n",
              "\t<tr><td>  4.190</td><td>  58.00</td><td> 9.7</td><td>0.6</td><td>10.3</td><td> 24.0</td><td>210</td><td>4</td><td>3</td><td>4</td></tr>\n",
              "\t<tr><td>  3.500</td><td>   3.90</td><td>12.8</td><td>6.6</td><td>19.4</td><td>  3.0</td><td> 14</td><td>2</td><td>1</td><td>1</td></tr>\n",
              "\t<tr><td>  4.050</td><td>  17.00</td><td>  NA</td><td> NA</td><td>  NA</td><td> 13.0</td><td> 38</td><td>3</td><td>1</td><td>1</td></tr>\n",
              "</tbody>\n",
              "</table>\n"
            ],
            "text/markdown": "\nA data.frame: 62 × 10\n\n| BodyWgt &lt;dbl&gt; | BrainWgt &lt;dbl&gt; | NonD &lt;dbl&gt; | Dream &lt;dbl&gt; | Sleep &lt;dbl&gt; | Span &lt;dbl&gt; | Gest &lt;dbl&gt; | Pred &lt;int&gt; | Exp &lt;int&gt; | Danger &lt;int&gt; |\n|---|---|---|---|---|---|---|---|---|---|\n| 6654.000 | 5712.0 |   NA |  NA |  3.3 | 38.6 | 645 | 3 | 5 | 3 |\n|    1.000 |    6.6 |  6.3 | 2.0 |  8.3 |  4.5 |  42 | 3 | 1 | 3 |\n|    3.385 |   44.5 |   NA |  NA | 12.5 | 14.0 |  60 | 1 | 1 | 1 |\n|    0.920 |    5.7 |   NA |  NA | 16.5 |   NA |  25 | 5 | 2 | 3 |\n| 2547.000 | 4603.0 |  2.1 | 1.8 |  3.9 | 69.0 | 624 | 3 | 5 | 4 |\n|   10.550 |  179.5 |  9.1 | 0.7 |  9.8 | 27.0 | 180 | 4 | 4 | 4 |\n|    0.023 |    0.3 | 15.8 | 3.9 | 19.7 | 19.0 |  35 | 1 | 1 | 1 |\n|  160.000 |  169.0 |  5.2 | 1.0 |  6.2 | 30.4 | 392 | 4 | 5 | 4 |\n|    3.300 |   25.6 | 10.9 | 3.6 | 14.5 | 28.0 |  63 | 1 | 2 | 1 |\n|   52.160 |  440.0 |  8.3 | 1.4 |  9.7 | 50.0 | 230 | 1 | 1 | 1 |\n|    0.425 |    6.4 | 11.0 | 1.5 | 12.5 |  7.0 | 112 | 5 | 4 | 4 |\n|  465.000 |  423.0 |  3.2 | 0.7 |  3.9 | 30.0 | 281 | 5 | 5 | 5 |\n|    0.550 |    2.4 |  7.6 | 2.7 | 10.3 |   NA |  NA | 2 | 1 | 2 |\n|  187.100 |  419.0 |   NA |  NA |  3.1 | 40.0 | 365 | 5 | 5 | 5 |\n|    0.075 |    1.2 |  6.3 | 2.1 |  8.4 |  3.5 |  42 | 1 | 1 | 1 |\n|    3.000 |   25.0 |  8.6 | 0.0 |  8.6 | 50.0 |  28 | 2 | 2 | 2 |\n|    0.785 |    3.5 |  6.6 | 4.1 | 10.7 |  6.0 |  42 | 2 | 2 | 2 |\n|    0.200 |    5.0 |  9.5 | 1.2 | 10.7 | 10.4 | 120 | 2 | 2 | 2 |\n|    1.410 |   17.5 |  4.8 | 1.3 |  6.1 | 34.0 |  NA | 1 | 2 | 1 |\n|   60.000 |   81.0 | 12.0 | 6.1 | 18.1 |  7.0 |  NA | 1 | 1 | 1 |\n|  529.000 |  680.0 |   NA | 0.3 |   NA | 28.0 | 400 | 5 | 5 | 5 |\n|   27.660 |  115.0 |  3.3 | 0.5 |  3.8 | 20.0 | 148 | 5 | 5 | 5 |\n|    0.120 |    1.0 | 11.0 | 3.4 | 14.4 |  3.9 |  16 | 3 | 1 | 2 |\n|  207.000 |  406.0 |   NA |  NA | 12.0 | 39.3 | 252 | 1 | 4 | 1 |\n|   85.000 |  325.0 |  4.7 | 1.5 |  6.2 | 41.0 | 310 | 1 | 3 | 1 |\n|   36.330 |  119.5 |   NA |  NA | 13.0 | 16.2 |  63 | 1 | 1 | 1 |\n|    0.101 |    4.0 | 10.4 | 3.4 | 13.8 |  9.0 |  28 | 5 | 1 | 3 |\n|    1.040 |    5.5 |  7.4 | 0.8 |  8.2 |  7.6 |  68 | 5 | 3 | 4 |\n|  521.000 |  655.0 |  2.1 | 0.8 |  2.9 | 46.0 | 336 | 5 | 5 | 5 |\n|  100.000 |  157.0 |   NA |  NA | 10.8 | 22.4 | 100 | 1 | 1 | 1 |\n| ⋮ | ⋮ | ⋮ | ⋮ | ⋮ | ⋮ | ⋮ | ⋮ | ⋮ | ⋮ |\n|   0.010 |    0.25 | 17.9 | 2.0 | 19.9 |  24.0 |  50 | 1 | 1 | 1 |\n|  62.000 | 1320.00 |  6.1 | 1.9 |  8.0 | 100.0 | 267 | 1 | 1 | 1 |\n|   0.122 |    3.00 |  8.2 | 2.4 | 10.6 |    NA |  30 | 2 | 1 | 1 |\n|   1.350 |    8.10 |  8.4 | 2.8 | 11.2 |    NA |  45 | 3 | 1 | 3 |\n|   0.023 |    0.40 | 11.9 | 1.3 | 13.2 |   3.2 |  19 | 4 | 1 | 3 |\n|   0.048 |    0.33 | 10.8 | 2.0 | 12.8 |   2.0 |  30 | 4 | 1 | 3 |\n|   1.700 |    6.30 | 13.8 | 5.6 | 19.4 |   5.0 |  12 | 2 | 1 | 1 |\n|   3.500 |   10.80 | 14.3 | 3.1 | 17.4 |   6.5 | 120 | 2 | 1 | 1 |\n| 250.000 |  490.00 |   NA | 1.0 |   NA |  23.6 | 440 | 5 | 5 | 5 |\n|   0.480 |   15.50 | 15.2 | 1.8 | 17.0 |  12.0 | 140 | 2 | 2 | 2 |\n|  10.000 |  115.00 | 10.0 | 0.9 | 10.9 |  20.2 | 170 | 4 | 4 | 4 |\n|   1.620 |   11.40 | 11.9 | 1.8 | 13.7 |  13.0 |  17 | 2 | 1 | 2 |\n| 192.000 |  180.00 |  6.5 | 1.9 |  8.4 |  27.0 | 115 | 4 | 4 | 4 |\n|   2.500 |   12.10 |  7.5 | 0.9 |  8.4 |  18.0 |  31 | 5 | 5 | 5 |\n|   4.288 |   39.20 |   NA |  NA | 12.5 |  13.7 |  63 | 2 | 2 | 2 |\n|   0.280 |    1.90 | 10.6 | 2.6 | 13.2 |   4.7 |  21 | 3 | 1 | 3 |\n|   4.235 |   50.40 |  7.4 | 2.4 |  9.8 |   9.8 |  52 | 1 | 1 | 1 |\n|   6.800 |  179.00 |  8.4 | 1.2 |  9.6 |  29.0 | 164 | 2 | 3 | 2 |\n|   0.750 |   12.30 |  5.7 | 0.9 |  6.6 |   7.0 | 225 | 2 | 2 | 2 |\n|   3.600 |   21.00 |  4.9 | 0.5 |  5.4 |   6.0 | 225 | 3 | 2 | 3 |\n|  14.830 |   98.20 |   NA |  NA |  2.6 |  17.0 | 150 | 5 | 5 | 5 |\n|  55.500 |  175.00 |  3.2 | 0.6 |  3.8 |  20.0 | 151 | 5 | 5 | 5 |\n|   1.400 |   12.50 |   NA |  NA | 11.0 |  12.7 |  90 | 2 | 2 | 2 |\n|   0.060 |    1.00 |  8.1 | 2.2 | 10.3 |   3.5 |  NA | 3 | 1 | 2 |\n|   0.900 |    2.60 | 11.0 | 2.3 | 13.3 |   4.5 |  60 | 2 | 1 | 2 |\n|   2.000 |   12.30 |  4.9 | 0.5 |  5.4 |   7.5 | 200 | 3 | 1 | 3 |\n|   0.104 |    2.50 | 13.2 | 2.6 | 15.8 |   2.3 |  46 | 3 | 2 | 2 |\n|   4.190 |   58.00 |  9.7 | 0.6 | 10.3 |  24.0 | 210 | 4 | 3 | 4 |\n|   3.500 |    3.90 | 12.8 | 6.6 | 19.4 |   3.0 |  14 | 2 | 1 | 1 |\n|   4.050 |   17.00 |   NA |  NA |   NA |  13.0 |  38 | 3 | 1 | 1 |\n\n",
            "text/latex": "A data.frame: 62 × 10\n\\begin{tabular}{llllllllll}\n BodyWgt & BrainWgt & NonD & Dream & Sleep & Span & Gest & Pred & Exp & Danger\\\\\n <dbl> & <dbl> & <dbl> & <dbl> & <dbl> & <dbl> & <dbl> & <int> & <int> & <int>\\\\\n\\hline\n\t 6654.000 & 5712.0 &   NA &  NA &  3.3 & 38.6 & 645 & 3 & 5 & 3\\\\\n\t    1.000 &    6.6 &  6.3 & 2.0 &  8.3 &  4.5 &  42 & 3 & 1 & 3\\\\\n\t    3.385 &   44.5 &   NA &  NA & 12.5 & 14.0 &  60 & 1 & 1 & 1\\\\\n\t    0.920 &    5.7 &   NA &  NA & 16.5 &   NA &  25 & 5 & 2 & 3\\\\\n\t 2547.000 & 4603.0 &  2.1 & 1.8 &  3.9 & 69.0 & 624 & 3 & 5 & 4\\\\\n\t   10.550 &  179.5 &  9.1 & 0.7 &  9.8 & 27.0 & 180 & 4 & 4 & 4\\\\\n\t    0.023 &    0.3 & 15.8 & 3.9 & 19.7 & 19.0 &  35 & 1 & 1 & 1\\\\\n\t  160.000 &  169.0 &  5.2 & 1.0 &  6.2 & 30.4 & 392 & 4 & 5 & 4\\\\\n\t    3.300 &   25.6 & 10.9 & 3.6 & 14.5 & 28.0 &  63 & 1 & 2 & 1\\\\\n\t   52.160 &  440.0 &  8.3 & 1.4 &  9.7 & 50.0 & 230 & 1 & 1 & 1\\\\\n\t    0.425 &    6.4 & 11.0 & 1.5 & 12.5 &  7.0 & 112 & 5 & 4 & 4\\\\\n\t  465.000 &  423.0 &  3.2 & 0.7 &  3.9 & 30.0 & 281 & 5 & 5 & 5\\\\\n\t    0.550 &    2.4 &  7.6 & 2.7 & 10.3 &   NA &  NA & 2 & 1 & 2\\\\\n\t  187.100 &  419.0 &   NA &  NA &  3.1 & 40.0 & 365 & 5 & 5 & 5\\\\\n\t    0.075 &    1.2 &  6.3 & 2.1 &  8.4 &  3.5 &  42 & 1 & 1 & 1\\\\\n\t    3.000 &   25.0 &  8.6 & 0.0 &  8.6 & 50.0 &  28 & 2 & 2 & 2\\\\\n\t    0.785 &    3.5 &  6.6 & 4.1 & 10.7 &  6.0 &  42 & 2 & 2 & 2\\\\\n\t    0.200 &    5.0 &  9.5 & 1.2 & 10.7 & 10.4 & 120 & 2 & 2 & 2\\\\\n\t    1.410 &   17.5 &  4.8 & 1.3 &  6.1 & 34.0 &  NA & 1 & 2 & 1\\\\\n\t   60.000 &   81.0 & 12.0 & 6.1 & 18.1 &  7.0 &  NA & 1 & 1 & 1\\\\\n\t  529.000 &  680.0 &   NA & 0.3 &   NA & 28.0 & 400 & 5 & 5 & 5\\\\\n\t   27.660 &  115.0 &  3.3 & 0.5 &  3.8 & 20.0 & 148 & 5 & 5 & 5\\\\\n\t    0.120 &    1.0 & 11.0 & 3.4 & 14.4 &  3.9 &  16 & 3 & 1 & 2\\\\\n\t  207.000 &  406.0 &   NA &  NA & 12.0 & 39.3 & 252 & 1 & 4 & 1\\\\\n\t   85.000 &  325.0 &  4.7 & 1.5 &  6.2 & 41.0 & 310 & 1 & 3 & 1\\\\\n\t   36.330 &  119.5 &   NA &  NA & 13.0 & 16.2 &  63 & 1 & 1 & 1\\\\\n\t    0.101 &    4.0 & 10.4 & 3.4 & 13.8 &  9.0 &  28 & 5 & 1 & 3\\\\\n\t    1.040 &    5.5 &  7.4 & 0.8 &  8.2 &  7.6 &  68 & 5 & 3 & 4\\\\\n\t  521.000 &  655.0 &  2.1 & 0.8 &  2.9 & 46.0 & 336 & 5 & 5 & 5\\\\\n\t  100.000 &  157.0 &   NA &  NA & 10.8 & 22.4 & 100 & 1 & 1 & 1\\\\\n\t ⋮ & ⋮ & ⋮ & ⋮ & ⋮ & ⋮ & ⋮ & ⋮ & ⋮ & ⋮\\\\\n\t   0.010 &    0.25 & 17.9 & 2.0 & 19.9 &  24.0 &  50 & 1 & 1 & 1\\\\\n\t  62.000 & 1320.00 &  6.1 & 1.9 &  8.0 & 100.0 & 267 & 1 & 1 & 1\\\\\n\t   0.122 &    3.00 &  8.2 & 2.4 & 10.6 &    NA &  30 & 2 & 1 & 1\\\\\n\t   1.350 &    8.10 &  8.4 & 2.8 & 11.2 &    NA &  45 & 3 & 1 & 3\\\\\n\t   0.023 &    0.40 & 11.9 & 1.3 & 13.2 &   3.2 &  19 & 4 & 1 & 3\\\\\n\t   0.048 &    0.33 & 10.8 & 2.0 & 12.8 &   2.0 &  30 & 4 & 1 & 3\\\\\n\t   1.700 &    6.30 & 13.8 & 5.6 & 19.4 &   5.0 &  12 & 2 & 1 & 1\\\\\n\t   3.500 &   10.80 & 14.3 & 3.1 & 17.4 &   6.5 & 120 & 2 & 1 & 1\\\\\n\t 250.000 &  490.00 &   NA & 1.0 &   NA &  23.6 & 440 & 5 & 5 & 5\\\\\n\t   0.480 &   15.50 & 15.2 & 1.8 & 17.0 &  12.0 & 140 & 2 & 2 & 2\\\\\n\t  10.000 &  115.00 & 10.0 & 0.9 & 10.9 &  20.2 & 170 & 4 & 4 & 4\\\\\n\t   1.620 &   11.40 & 11.9 & 1.8 & 13.7 &  13.0 &  17 & 2 & 1 & 2\\\\\n\t 192.000 &  180.00 &  6.5 & 1.9 &  8.4 &  27.0 & 115 & 4 & 4 & 4\\\\\n\t   2.500 &   12.10 &  7.5 & 0.9 &  8.4 &  18.0 &  31 & 5 & 5 & 5\\\\\n\t   4.288 &   39.20 &   NA &  NA & 12.5 &  13.7 &  63 & 2 & 2 & 2\\\\\n\t   0.280 &    1.90 & 10.6 & 2.6 & 13.2 &   4.7 &  21 & 3 & 1 & 3\\\\\n\t   4.235 &   50.40 &  7.4 & 2.4 &  9.8 &   9.8 &  52 & 1 & 1 & 1\\\\\n\t   6.800 &  179.00 &  8.4 & 1.2 &  9.6 &  29.0 & 164 & 2 & 3 & 2\\\\\n\t   0.750 &   12.30 &  5.7 & 0.9 &  6.6 &   7.0 & 225 & 2 & 2 & 2\\\\\n\t   3.600 &   21.00 &  4.9 & 0.5 &  5.4 &   6.0 & 225 & 3 & 2 & 3\\\\\n\t  14.830 &   98.20 &   NA &  NA &  2.6 &  17.0 & 150 & 5 & 5 & 5\\\\\n\t  55.500 &  175.00 &  3.2 & 0.6 &  3.8 &  20.0 & 151 & 5 & 5 & 5\\\\\n\t   1.400 &   12.50 &   NA &  NA & 11.0 &  12.7 &  90 & 2 & 2 & 2\\\\\n\t   0.060 &    1.00 &  8.1 & 2.2 & 10.3 &   3.5 &  NA & 3 & 1 & 2\\\\\n\t   0.900 &    2.60 & 11.0 & 2.3 & 13.3 &   4.5 &  60 & 2 & 1 & 2\\\\\n\t   2.000 &   12.30 &  4.9 & 0.5 &  5.4 &   7.5 & 200 & 3 & 1 & 3\\\\\n\t   0.104 &    2.50 & 13.2 & 2.6 & 15.8 &   2.3 &  46 & 3 & 2 & 2\\\\\n\t   4.190 &   58.00 &  9.7 & 0.6 & 10.3 &  24.0 & 210 & 4 & 3 & 4\\\\\n\t   3.500 &    3.90 & 12.8 & 6.6 & 19.4 &   3.0 &  14 & 2 & 1 & 1\\\\\n\t   4.050 &   17.00 &   NA &  NA &   NA &  13.0 &  38 & 3 & 1 & 1\\\\\n\\end{tabular}\n",
            "text/plain": [
              "   BodyWgt  BrainWgt NonD Dream Sleep Span  Gest Pred Exp Danger\n",
              "1  6654.000 5712.0     NA  NA    3.3  38.6  645  3    5   3     \n",
              "2     1.000    6.6    6.3 2.0    8.3   4.5   42  3    1   3     \n",
              "3     3.385   44.5     NA  NA   12.5  14.0   60  1    1   1     \n",
              "4     0.920    5.7     NA  NA   16.5    NA   25  5    2   3     \n",
              "5  2547.000 4603.0    2.1 1.8    3.9  69.0  624  3    5   4     \n",
              "6    10.550  179.5    9.1 0.7    9.8  27.0  180  4    4   4     \n",
              "7     0.023    0.3   15.8 3.9   19.7  19.0   35  1    1   1     \n",
              "8   160.000  169.0    5.2 1.0    6.2  30.4  392  4    5   4     \n",
              "9     3.300   25.6   10.9 3.6   14.5  28.0   63  1    2   1     \n",
              "10   52.160  440.0    8.3 1.4    9.7  50.0  230  1    1   1     \n",
              "11    0.425    6.4   11.0 1.5   12.5   7.0  112  5    4   4     \n",
              "12  465.000  423.0    3.2 0.7    3.9  30.0  281  5    5   5     \n",
              "13    0.550    2.4    7.6 2.7   10.3    NA   NA  2    1   2     \n",
              "14  187.100  419.0     NA  NA    3.1  40.0  365  5    5   5     \n",
              "15    0.075    1.2    6.3 2.1    8.4   3.5   42  1    1   1     \n",
              "16    3.000   25.0    8.6 0.0    8.6  50.0   28  2    2   2     \n",
              "17    0.785    3.5    6.6 4.1   10.7   6.0   42  2    2   2     \n",
              "18    0.200    5.0    9.5 1.2   10.7  10.4  120  2    2   2     \n",
              "19    1.410   17.5    4.8 1.3    6.1  34.0   NA  1    2   1     \n",
              "20   60.000   81.0   12.0 6.1   18.1   7.0   NA  1    1   1     \n",
              "21  529.000  680.0     NA 0.3     NA  28.0  400  5    5   5     \n",
              "22   27.660  115.0    3.3 0.5    3.8  20.0  148  5    5   5     \n",
              "23    0.120    1.0   11.0 3.4   14.4   3.9   16  3    1   2     \n",
              "24  207.000  406.0     NA  NA   12.0  39.3  252  1    4   1     \n",
              "25   85.000  325.0    4.7 1.5    6.2  41.0  310  1    3   1     \n",
              "26   36.330  119.5     NA  NA   13.0  16.2   63  1    1   1     \n",
              "27    0.101    4.0   10.4 3.4   13.8   9.0   28  5    1   3     \n",
              "28    1.040    5.5    7.4 0.8    8.2   7.6   68  5    3   4     \n",
              "29  521.000  655.0    2.1 0.8    2.9  46.0  336  5    5   5     \n",
              "30  100.000  157.0     NA  NA   10.8  22.4  100  1    1   1     \n",
              "⋮  ⋮        ⋮        ⋮    ⋮     ⋮     ⋮     ⋮    ⋮    ⋮   ⋮     \n",
              "33   0.010     0.25  17.9 2.0   19.9   24.0  50  1    1   1     \n",
              "34  62.000  1320.00   6.1 1.9    8.0  100.0 267  1    1   1     \n",
              "35   0.122     3.00   8.2 2.4   10.6     NA  30  2    1   1     \n",
              "36   1.350     8.10   8.4 2.8   11.2     NA  45  3    1   3     \n",
              "37   0.023     0.40  11.9 1.3   13.2    3.2  19  4    1   3     \n",
              "38   0.048     0.33  10.8 2.0   12.8    2.0  30  4    1   3     \n",
              "39   1.700     6.30  13.8 5.6   19.4    5.0  12  2    1   1     \n",
              "40   3.500    10.80  14.3 3.1   17.4    6.5 120  2    1   1     \n",
              "41 250.000   490.00    NA 1.0     NA   23.6 440  5    5   5     \n",
              "42   0.480    15.50  15.2 1.8   17.0   12.0 140  2    2   2     \n",
              "43  10.000   115.00  10.0 0.9   10.9   20.2 170  4    4   4     \n",
              "44   1.620    11.40  11.9 1.8   13.7   13.0  17  2    1   2     \n",
              "45 192.000   180.00   6.5 1.9    8.4   27.0 115  4    4   4     \n",
              "46   2.500    12.10   7.5 0.9    8.4   18.0  31  5    5   5     \n",
              "47   4.288    39.20    NA  NA   12.5   13.7  63  2    2   2     \n",
              "48   0.280     1.90  10.6 2.6   13.2    4.7  21  3    1   3     \n",
              "49   4.235    50.40   7.4 2.4    9.8    9.8  52  1    1   1     \n",
              "50   6.800   179.00   8.4 1.2    9.6   29.0 164  2    3   2     \n",
              "51   0.750    12.30   5.7 0.9    6.6    7.0 225  2    2   2     \n",
              "52   3.600    21.00   4.9 0.5    5.4    6.0 225  3    2   3     \n",
              "53  14.830    98.20    NA  NA    2.6   17.0 150  5    5   5     \n",
              "54  55.500   175.00   3.2 0.6    3.8   20.0 151  5    5   5     \n",
              "55   1.400    12.50    NA  NA   11.0   12.7  90  2    2   2     \n",
              "56   0.060     1.00   8.1 2.2   10.3    3.5  NA  3    1   2     \n",
              "57   0.900     2.60  11.0 2.3   13.3    4.5  60  2    1   2     \n",
              "58   2.000    12.30   4.9 0.5    5.4    7.5 200  3    1   3     \n",
              "59   0.104     2.50  13.2 2.6   15.8    2.3  46  3    2   2     \n",
              "60   4.190    58.00   9.7 0.6   10.3   24.0 210  4    3   4     \n",
              "61   3.500     3.90  12.8 6.6   19.4    3.0  14  2    1   1     \n",
              "62   4.050    17.00    NA  NA     NA   13.0  38  3    1   1     "
            ]
          },
          "metadata": {}
        }
      ]
    },
    {
      "cell_type": "markdown",
      "id": "3f4a0d8a",
      "metadata": {
        "id": "3f4a0d8a"
      },
      "source": [
        "## Análisis univariado:\n",
        "\n",
        "\n",
        "### Medidas de Tendencia Central, posición y coeficiente de variación:\n",
        "\n",
        "Utilizaremos la función summarise de dplyr para encontrar las medidas de tendencia central y de posición de la variable **BodyWgt**, que no tiene datos faltantes:\n",
        "\n"
      ]
    },
    {
      "cell_type": "code",
      "execution_count": 4,
      "id": "6dd67204",
      "metadata": {
        "id": "6dd67204"
      },
      "outputs": [],
      "source": [
        "# Solo seleccionamos variables numéricas y eliminamos NAs (aunque de antemanos sabemos que no tiene NAs)\n",
        "sleep_limpio_bodyweight<-sleep %>%\n",
        "  select_if(is.numeric)  %>%\n",
        "  filter(!is.na(BodyWgt))\n"
      ]
    },
    {
      "cell_type": "code",
      "source": [
        "View(sleep_limpio_bodyweight)"
      ],
      "metadata": {
        "collapsed": true,
        "id": "YrQ9j_we-XTq",
        "outputId": "cf37090a-7c16-48fa-c7e3-f28337a36655",
        "colab": {
          "base_uri": "https://localhost:8080/",
          "height": 1000
        }
      },
      "id": "YrQ9j_we-XTq",
      "execution_count": 5,
      "outputs": [
        {
          "output_type": "display_data",
          "data": {
            "text/plain": [
              "   BodyWgt  BrainWgt NonD Dream Sleep Span  Gest Pred Exp Danger\n",
              "1  6654.000 5712.0     NA  NA    3.3  38.6  645  3    5   3     \n",
              "2     1.000    6.6    6.3 2.0    8.3   4.5   42  3    1   3     \n",
              "3     3.385   44.5     NA  NA   12.5  14.0   60  1    1   1     \n",
              "4     0.920    5.7     NA  NA   16.5    NA   25  5    2   3     \n",
              "5  2547.000 4603.0    2.1 1.8    3.9  69.0  624  3    5   4     \n",
              "6    10.550  179.5    9.1 0.7    9.8  27.0  180  4    4   4     \n",
              "7     0.023    0.3   15.8 3.9   19.7  19.0   35  1    1   1     \n",
              "8   160.000  169.0    5.2 1.0    6.2  30.4  392  4    5   4     \n",
              "9     3.300   25.6   10.9 3.6   14.5  28.0   63  1    2   1     \n",
              "10   52.160  440.0    8.3 1.4    9.7  50.0  230  1    1   1     \n",
              "11    0.425    6.4   11.0 1.5   12.5   7.0  112  5    4   4     \n",
              "12  465.000  423.0    3.2 0.7    3.9  30.0  281  5    5   5     \n",
              "13    0.550    2.4    7.6 2.7   10.3    NA   NA  2    1   2     \n",
              "14  187.100  419.0     NA  NA    3.1  40.0  365  5    5   5     \n",
              "15    0.075    1.2    6.3 2.1    8.4   3.5   42  1    1   1     \n",
              "16    3.000   25.0    8.6 0.0    8.6  50.0   28  2    2   2     \n",
              "17    0.785    3.5    6.6 4.1   10.7   6.0   42  2    2   2     \n",
              "18    0.200    5.0    9.5 1.2   10.7  10.4  120  2    2   2     \n",
              "19    1.410   17.5    4.8 1.3    6.1  34.0   NA  1    2   1     \n",
              "20   60.000   81.0   12.0 6.1   18.1   7.0   NA  1    1   1     \n",
              "21  529.000  680.0     NA 0.3     NA  28.0  400  5    5   5     \n",
              "22   27.660  115.0    3.3 0.5    3.8  20.0  148  5    5   5     \n",
              "23    0.120    1.0   11.0 3.4   14.4   3.9   16  3    1   2     \n",
              "24  207.000  406.0     NA  NA   12.0  39.3  252  1    4   1     \n",
              "25   85.000  325.0    4.7 1.5    6.2  41.0  310  1    3   1     \n",
              "26   36.330  119.5     NA  NA   13.0  16.2   63  1    1   1     \n",
              "27    0.101    4.0   10.4 3.4   13.8   9.0   28  5    1   3     \n",
              "28    1.040    5.5    7.4 0.8    8.2   7.6   68  5    3   4     \n",
              "29  521.000  655.0    2.1 0.8    2.9  46.0  336  5    5   5     \n",
              "30  100.000  157.0     NA  NA   10.8  22.4  100  1    1   1     \n",
              "⋮  ⋮        ⋮        ⋮    ⋮     ⋮     ⋮     ⋮    ⋮    ⋮   ⋮     \n",
              "33   0.010     0.25  17.9 2.0   19.9   24.0  50  1    1   1     \n",
              "34  62.000  1320.00   6.1 1.9    8.0  100.0 267  1    1   1     \n",
              "35   0.122     3.00   8.2 2.4   10.6     NA  30  2    1   1     \n",
              "36   1.350     8.10   8.4 2.8   11.2     NA  45  3    1   3     \n",
              "37   0.023     0.40  11.9 1.3   13.2    3.2  19  4    1   3     \n",
              "38   0.048     0.33  10.8 2.0   12.8    2.0  30  4    1   3     \n",
              "39   1.700     6.30  13.8 5.6   19.4    5.0  12  2    1   1     \n",
              "40   3.500    10.80  14.3 3.1   17.4    6.5 120  2    1   1     \n",
              "41 250.000   490.00    NA 1.0     NA   23.6 440  5    5   5     \n",
              "42   0.480    15.50  15.2 1.8   17.0   12.0 140  2    2   2     \n",
              "43  10.000   115.00  10.0 0.9   10.9   20.2 170  4    4   4     \n",
              "44   1.620    11.40  11.9 1.8   13.7   13.0  17  2    1   2     \n",
              "45 192.000   180.00   6.5 1.9    8.4   27.0 115  4    4   4     \n",
              "46   2.500    12.10   7.5 0.9    8.4   18.0  31  5    5   5     \n",
              "47   4.288    39.20    NA  NA   12.5   13.7  63  2    2   2     \n",
              "48   0.280     1.90  10.6 2.6   13.2    4.7  21  3    1   3     \n",
              "49   4.235    50.40   7.4 2.4    9.8    9.8  52  1    1   1     \n",
              "50   6.800   179.00   8.4 1.2    9.6   29.0 164  2    3   2     \n",
              "51   0.750    12.30   5.7 0.9    6.6    7.0 225  2    2   2     \n",
              "52   3.600    21.00   4.9 0.5    5.4    6.0 225  3    2   3     \n",
              "53  14.830    98.20    NA  NA    2.6   17.0 150  5    5   5     \n",
              "54  55.500   175.00   3.2 0.6    3.8   20.0 151  5    5   5     \n",
              "55   1.400    12.50    NA  NA   11.0   12.7  90  2    2   2     \n",
              "56   0.060     1.00   8.1 2.2   10.3    3.5  NA  3    1   2     \n",
              "57   0.900     2.60  11.0 2.3   13.3    4.5  60  2    1   2     \n",
              "58   2.000    12.30   4.9 0.5    5.4    7.5 200  3    1   3     \n",
              "59   0.104     2.50  13.2 2.6   15.8    2.3  46  3    2   2     \n",
              "60   4.190    58.00   9.7 0.6   10.3   24.0 210  4    3   4     \n",
              "61   3.500     3.90  12.8 6.6   19.4    3.0  14  2    1   1     \n",
              "62   4.050    17.00    NA  NA     NA   13.0  38  3    1   1     "
            ],
            "text/html": [
              "<table class=\"dataframe\">\n",
              "<caption>A data.frame: 62 × 10</caption>\n",
              "<thead>\n",
              "\t<tr><th scope=col>BodyWgt</th><th scope=col>BrainWgt</th><th scope=col>NonD</th><th scope=col>Dream</th><th scope=col>Sleep</th><th scope=col>Span</th><th scope=col>Gest</th><th scope=col>Pred</th><th scope=col>Exp</th><th scope=col>Danger</th></tr>\n",
              "\t<tr><th scope=col>&lt;dbl&gt;</th><th scope=col>&lt;dbl&gt;</th><th scope=col>&lt;dbl&gt;</th><th scope=col>&lt;dbl&gt;</th><th scope=col>&lt;dbl&gt;</th><th scope=col>&lt;dbl&gt;</th><th scope=col>&lt;dbl&gt;</th><th scope=col>&lt;int&gt;</th><th scope=col>&lt;int&gt;</th><th scope=col>&lt;int&gt;</th></tr>\n",
              "</thead>\n",
              "<tbody>\n",
              "\t<tr><td>6654.000</td><td>5712.0</td><td>  NA</td><td> NA</td><td> 3.3</td><td>38.6</td><td>645</td><td>3</td><td>5</td><td>3</td></tr>\n",
              "\t<tr><td>   1.000</td><td>   6.6</td><td> 6.3</td><td>2.0</td><td> 8.3</td><td> 4.5</td><td> 42</td><td>3</td><td>1</td><td>3</td></tr>\n",
              "\t<tr><td>   3.385</td><td>  44.5</td><td>  NA</td><td> NA</td><td>12.5</td><td>14.0</td><td> 60</td><td>1</td><td>1</td><td>1</td></tr>\n",
              "\t<tr><td>   0.920</td><td>   5.7</td><td>  NA</td><td> NA</td><td>16.5</td><td>  NA</td><td> 25</td><td>5</td><td>2</td><td>3</td></tr>\n",
              "\t<tr><td>2547.000</td><td>4603.0</td><td> 2.1</td><td>1.8</td><td> 3.9</td><td>69.0</td><td>624</td><td>3</td><td>5</td><td>4</td></tr>\n",
              "\t<tr><td>  10.550</td><td> 179.5</td><td> 9.1</td><td>0.7</td><td> 9.8</td><td>27.0</td><td>180</td><td>4</td><td>4</td><td>4</td></tr>\n",
              "\t<tr><td>   0.023</td><td>   0.3</td><td>15.8</td><td>3.9</td><td>19.7</td><td>19.0</td><td> 35</td><td>1</td><td>1</td><td>1</td></tr>\n",
              "\t<tr><td> 160.000</td><td> 169.0</td><td> 5.2</td><td>1.0</td><td> 6.2</td><td>30.4</td><td>392</td><td>4</td><td>5</td><td>4</td></tr>\n",
              "\t<tr><td>   3.300</td><td>  25.6</td><td>10.9</td><td>3.6</td><td>14.5</td><td>28.0</td><td> 63</td><td>1</td><td>2</td><td>1</td></tr>\n",
              "\t<tr><td>  52.160</td><td> 440.0</td><td> 8.3</td><td>1.4</td><td> 9.7</td><td>50.0</td><td>230</td><td>1</td><td>1</td><td>1</td></tr>\n",
              "\t<tr><td>   0.425</td><td>   6.4</td><td>11.0</td><td>1.5</td><td>12.5</td><td> 7.0</td><td>112</td><td>5</td><td>4</td><td>4</td></tr>\n",
              "\t<tr><td> 465.000</td><td> 423.0</td><td> 3.2</td><td>0.7</td><td> 3.9</td><td>30.0</td><td>281</td><td>5</td><td>5</td><td>5</td></tr>\n",
              "\t<tr><td>   0.550</td><td>   2.4</td><td> 7.6</td><td>2.7</td><td>10.3</td><td>  NA</td><td> NA</td><td>2</td><td>1</td><td>2</td></tr>\n",
              "\t<tr><td> 187.100</td><td> 419.0</td><td>  NA</td><td> NA</td><td> 3.1</td><td>40.0</td><td>365</td><td>5</td><td>5</td><td>5</td></tr>\n",
              "\t<tr><td>   0.075</td><td>   1.2</td><td> 6.3</td><td>2.1</td><td> 8.4</td><td> 3.5</td><td> 42</td><td>1</td><td>1</td><td>1</td></tr>\n",
              "\t<tr><td>   3.000</td><td>  25.0</td><td> 8.6</td><td>0.0</td><td> 8.6</td><td>50.0</td><td> 28</td><td>2</td><td>2</td><td>2</td></tr>\n",
              "\t<tr><td>   0.785</td><td>   3.5</td><td> 6.6</td><td>4.1</td><td>10.7</td><td> 6.0</td><td> 42</td><td>2</td><td>2</td><td>2</td></tr>\n",
              "\t<tr><td>   0.200</td><td>   5.0</td><td> 9.5</td><td>1.2</td><td>10.7</td><td>10.4</td><td>120</td><td>2</td><td>2</td><td>2</td></tr>\n",
              "\t<tr><td>   1.410</td><td>  17.5</td><td> 4.8</td><td>1.3</td><td> 6.1</td><td>34.0</td><td> NA</td><td>1</td><td>2</td><td>1</td></tr>\n",
              "\t<tr><td>  60.000</td><td>  81.0</td><td>12.0</td><td>6.1</td><td>18.1</td><td> 7.0</td><td> NA</td><td>1</td><td>1</td><td>1</td></tr>\n",
              "\t<tr><td> 529.000</td><td> 680.0</td><td>  NA</td><td>0.3</td><td>  NA</td><td>28.0</td><td>400</td><td>5</td><td>5</td><td>5</td></tr>\n",
              "\t<tr><td>  27.660</td><td> 115.0</td><td> 3.3</td><td>0.5</td><td> 3.8</td><td>20.0</td><td>148</td><td>5</td><td>5</td><td>5</td></tr>\n",
              "\t<tr><td>   0.120</td><td>   1.0</td><td>11.0</td><td>3.4</td><td>14.4</td><td> 3.9</td><td> 16</td><td>3</td><td>1</td><td>2</td></tr>\n",
              "\t<tr><td> 207.000</td><td> 406.0</td><td>  NA</td><td> NA</td><td>12.0</td><td>39.3</td><td>252</td><td>1</td><td>4</td><td>1</td></tr>\n",
              "\t<tr><td>  85.000</td><td> 325.0</td><td> 4.7</td><td>1.5</td><td> 6.2</td><td>41.0</td><td>310</td><td>1</td><td>3</td><td>1</td></tr>\n",
              "\t<tr><td>  36.330</td><td> 119.5</td><td>  NA</td><td> NA</td><td>13.0</td><td>16.2</td><td> 63</td><td>1</td><td>1</td><td>1</td></tr>\n",
              "\t<tr><td>   0.101</td><td>   4.0</td><td>10.4</td><td>3.4</td><td>13.8</td><td> 9.0</td><td> 28</td><td>5</td><td>1</td><td>3</td></tr>\n",
              "\t<tr><td>   1.040</td><td>   5.5</td><td> 7.4</td><td>0.8</td><td> 8.2</td><td> 7.6</td><td> 68</td><td>5</td><td>3</td><td>4</td></tr>\n",
              "\t<tr><td> 521.000</td><td> 655.0</td><td> 2.1</td><td>0.8</td><td> 2.9</td><td>46.0</td><td>336</td><td>5</td><td>5</td><td>5</td></tr>\n",
              "\t<tr><td> 100.000</td><td> 157.0</td><td>  NA</td><td> NA</td><td>10.8</td><td>22.4</td><td>100</td><td>1</td><td>1</td><td>1</td></tr>\n",
              "\t<tr><td>⋮</td><td>⋮</td><td>⋮</td><td>⋮</td><td>⋮</td><td>⋮</td><td>⋮</td><td>⋮</td><td>⋮</td><td>⋮</td></tr>\n",
              "\t<tr><td>  0.010</td><td>   0.25</td><td>17.9</td><td>2.0</td><td>19.9</td><td> 24.0</td><td> 50</td><td>1</td><td>1</td><td>1</td></tr>\n",
              "\t<tr><td> 62.000</td><td>1320.00</td><td> 6.1</td><td>1.9</td><td> 8.0</td><td>100.0</td><td>267</td><td>1</td><td>1</td><td>1</td></tr>\n",
              "\t<tr><td>  0.122</td><td>   3.00</td><td> 8.2</td><td>2.4</td><td>10.6</td><td>   NA</td><td> 30</td><td>2</td><td>1</td><td>1</td></tr>\n",
              "\t<tr><td>  1.350</td><td>   8.10</td><td> 8.4</td><td>2.8</td><td>11.2</td><td>   NA</td><td> 45</td><td>3</td><td>1</td><td>3</td></tr>\n",
              "\t<tr><td>  0.023</td><td>   0.40</td><td>11.9</td><td>1.3</td><td>13.2</td><td>  3.2</td><td> 19</td><td>4</td><td>1</td><td>3</td></tr>\n",
              "\t<tr><td>  0.048</td><td>   0.33</td><td>10.8</td><td>2.0</td><td>12.8</td><td>  2.0</td><td> 30</td><td>4</td><td>1</td><td>3</td></tr>\n",
              "\t<tr><td>  1.700</td><td>   6.30</td><td>13.8</td><td>5.6</td><td>19.4</td><td>  5.0</td><td> 12</td><td>2</td><td>1</td><td>1</td></tr>\n",
              "\t<tr><td>  3.500</td><td>  10.80</td><td>14.3</td><td>3.1</td><td>17.4</td><td>  6.5</td><td>120</td><td>2</td><td>1</td><td>1</td></tr>\n",
              "\t<tr><td>250.000</td><td> 490.00</td><td>  NA</td><td>1.0</td><td>  NA</td><td> 23.6</td><td>440</td><td>5</td><td>5</td><td>5</td></tr>\n",
              "\t<tr><td>  0.480</td><td>  15.50</td><td>15.2</td><td>1.8</td><td>17.0</td><td> 12.0</td><td>140</td><td>2</td><td>2</td><td>2</td></tr>\n",
              "\t<tr><td> 10.000</td><td> 115.00</td><td>10.0</td><td>0.9</td><td>10.9</td><td> 20.2</td><td>170</td><td>4</td><td>4</td><td>4</td></tr>\n",
              "\t<tr><td>  1.620</td><td>  11.40</td><td>11.9</td><td>1.8</td><td>13.7</td><td> 13.0</td><td> 17</td><td>2</td><td>1</td><td>2</td></tr>\n",
              "\t<tr><td>192.000</td><td> 180.00</td><td> 6.5</td><td>1.9</td><td> 8.4</td><td> 27.0</td><td>115</td><td>4</td><td>4</td><td>4</td></tr>\n",
              "\t<tr><td>  2.500</td><td>  12.10</td><td> 7.5</td><td>0.9</td><td> 8.4</td><td> 18.0</td><td> 31</td><td>5</td><td>5</td><td>5</td></tr>\n",
              "\t<tr><td>  4.288</td><td>  39.20</td><td>  NA</td><td> NA</td><td>12.5</td><td> 13.7</td><td> 63</td><td>2</td><td>2</td><td>2</td></tr>\n",
              "\t<tr><td>  0.280</td><td>   1.90</td><td>10.6</td><td>2.6</td><td>13.2</td><td>  4.7</td><td> 21</td><td>3</td><td>1</td><td>3</td></tr>\n",
              "\t<tr><td>  4.235</td><td>  50.40</td><td> 7.4</td><td>2.4</td><td> 9.8</td><td>  9.8</td><td> 52</td><td>1</td><td>1</td><td>1</td></tr>\n",
              "\t<tr><td>  6.800</td><td> 179.00</td><td> 8.4</td><td>1.2</td><td> 9.6</td><td> 29.0</td><td>164</td><td>2</td><td>3</td><td>2</td></tr>\n",
              "\t<tr><td>  0.750</td><td>  12.30</td><td> 5.7</td><td>0.9</td><td> 6.6</td><td>  7.0</td><td>225</td><td>2</td><td>2</td><td>2</td></tr>\n",
              "\t<tr><td>  3.600</td><td>  21.00</td><td> 4.9</td><td>0.5</td><td> 5.4</td><td>  6.0</td><td>225</td><td>3</td><td>2</td><td>3</td></tr>\n",
              "\t<tr><td> 14.830</td><td>  98.20</td><td>  NA</td><td> NA</td><td> 2.6</td><td> 17.0</td><td>150</td><td>5</td><td>5</td><td>5</td></tr>\n",
              "\t<tr><td> 55.500</td><td> 175.00</td><td> 3.2</td><td>0.6</td><td> 3.8</td><td> 20.0</td><td>151</td><td>5</td><td>5</td><td>5</td></tr>\n",
              "\t<tr><td>  1.400</td><td>  12.50</td><td>  NA</td><td> NA</td><td>11.0</td><td> 12.7</td><td> 90</td><td>2</td><td>2</td><td>2</td></tr>\n",
              "\t<tr><td>  0.060</td><td>   1.00</td><td> 8.1</td><td>2.2</td><td>10.3</td><td>  3.5</td><td> NA</td><td>3</td><td>1</td><td>2</td></tr>\n",
              "\t<tr><td>  0.900</td><td>   2.60</td><td>11.0</td><td>2.3</td><td>13.3</td><td>  4.5</td><td> 60</td><td>2</td><td>1</td><td>2</td></tr>\n",
              "\t<tr><td>  2.000</td><td>  12.30</td><td> 4.9</td><td>0.5</td><td> 5.4</td><td>  7.5</td><td>200</td><td>3</td><td>1</td><td>3</td></tr>\n",
              "\t<tr><td>  0.104</td><td>   2.50</td><td>13.2</td><td>2.6</td><td>15.8</td><td>  2.3</td><td> 46</td><td>3</td><td>2</td><td>2</td></tr>\n",
              "\t<tr><td>  4.190</td><td>  58.00</td><td> 9.7</td><td>0.6</td><td>10.3</td><td> 24.0</td><td>210</td><td>4</td><td>3</td><td>4</td></tr>\n",
              "\t<tr><td>  3.500</td><td>   3.90</td><td>12.8</td><td>6.6</td><td>19.4</td><td>  3.0</td><td> 14</td><td>2</td><td>1</td><td>1</td></tr>\n",
              "\t<tr><td>  4.050</td><td>  17.00</td><td>  NA</td><td> NA</td><td>  NA</td><td> 13.0</td><td> 38</td><td>3</td><td>1</td><td>1</td></tr>\n",
              "</tbody>\n",
              "</table>\n"
            ],
            "text/markdown": "\nA data.frame: 62 × 10\n\n| BodyWgt &lt;dbl&gt; | BrainWgt &lt;dbl&gt; | NonD &lt;dbl&gt; | Dream &lt;dbl&gt; | Sleep &lt;dbl&gt; | Span &lt;dbl&gt; | Gest &lt;dbl&gt; | Pred &lt;int&gt; | Exp &lt;int&gt; | Danger &lt;int&gt; |\n|---|---|---|---|---|---|---|---|---|---|\n| 6654.000 | 5712.0 |   NA |  NA |  3.3 | 38.6 | 645 | 3 | 5 | 3 |\n|    1.000 |    6.6 |  6.3 | 2.0 |  8.3 |  4.5 |  42 | 3 | 1 | 3 |\n|    3.385 |   44.5 |   NA |  NA | 12.5 | 14.0 |  60 | 1 | 1 | 1 |\n|    0.920 |    5.7 |   NA |  NA | 16.5 |   NA |  25 | 5 | 2 | 3 |\n| 2547.000 | 4603.0 |  2.1 | 1.8 |  3.9 | 69.0 | 624 | 3 | 5 | 4 |\n|   10.550 |  179.5 |  9.1 | 0.7 |  9.8 | 27.0 | 180 | 4 | 4 | 4 |\n|    0.023 |    0.3 | 15.8 | 3.9 | 19.7 | 19.0 |  35 | 1 | 1 | 1 |\n|  160.000 |  169.0 |  5.2 | 1.0 |  6.2 | 30.4 | 392 | 4 | 5 | 4 |\n|    3.300 |   25.6 | 10.9 | 3.6 | 14.5 | 28.0 |  63 | 1 | 2 | 1 |\n|   52.160 |  440.0 |  8.3 | 1.4 |  9.7 | 50.0 | 230 | 1 | 1 | 1 |\n|    0.425 |    6.4 | 11.0 | 1.5 | 12.5 |  7.0 | 112 | 5 | 4 | 4 |\n|  465.000 |  423.0 |  3.2 | 0.7 |  3.9 | 30.0 | 281 | 5 | 5 | 5 |\n|    0.550 |    2.4 |  7.6 | 2.7 | 10.3 |   NA |  NA | 2 | 1 | 2 |\n|  187.100 |  419.0 |   NA |  NA |  3.1 | 40.0 | 365 | 5 | 5 | 5 |\n|    0.075 |    1.2 |  6.3 | 2.1 |  8.4 |  3.5 |  42 | 1 | 1 | 1 |\n|    3.000 |   25.0 |  8.6 | 0.0 |  8.6 | 50.0 |  28 | 2 | 2 | 2 |\n|    0.785 |    3.5 |  6.6 | 4.1 | 10.7 |  6.0 |  42 | 2 | 2 | 2 |\n|    0.200 |    5.0 |  9.5 | 1.2 | 10.7 | 10.4 | 120 | 2 | 2 | 2 |\n|    1.410 |   17.5 |  4.8 | 1.3 |  6.1 | 34.0 |  NA | 1 | 2 | 1 |\n|   60.000 |   81.0 | 12.0 | 6.1 | 18.1 |  7.0 |  NA | 1 | 1 | 1 |\n|  529.000 |  680.0 |   NA | 0.3 |   NA | 28.0 | 400 | 5 | 5 | 5 |\n|   27.660 |  115.0 |  3.3 | 0.5 |  3.8 | 20.0 | 148 | 5 | 5 | 5 |\n|    0.120 |    1.0 | 11.0 | 3.4 | 14.4 |  3.9 |  16 | 3 | 1 | 2 |\n|  207.000 |  406.0 |   NA |  NA | 12.0 | 39.3 | 252 | 1 | 4 | 1 |\n|   85.000 |  325.0 |  4.7 | 1.5 |  6.2 | 41.0 | 310 | 1 | 3 | 1 |\n|   36.330 |  119.5 |   NA |  NA | 13.0 | 16.2 |  63 | 1 | 1 | 1 |\n|    0.101 |    4.0 | 10.4 | 3.4 | 13.8 |  9.0 |  28 | 5 | 1 | 3 |\n|    1.040 |    5.5 |  7.4 | 0.8 |  8.2 |  7.6 |  68 | 5 | 3 | 4 |\n|  521.000 |  655.0 |  2.1 | 0.8 |  2.9 | 46.0 | 336 | 5 | 5 | 5 |\n|  100.000 |  157.0 |   NA |  NA | 10.8 | 22.4 | 100 | 1 | 1 | 1 |\n| ⋮ | ⋮ | ⋮ | ⋮ | ⋮ | ⋮ | ⋮ | ⋮ | ⋮ | ⋮ |\n|   0.010 |    0.25 | 17.9 | 2.0 | 19.9 |  24.0 |  50 | 1 | 1 | 1 |\n|  62.000 | 1320.00 |  6.1 | 1.9 |  8.0 | 100.0 | 267 | 1 | 1 | 1 |\n|   0.122 |    3.00 |  8.2 | 2.4 | 10.6 |    NA |  30 | 2 | 1 | 1 |\n|   1.350 |    8.10 |  8.4 | 2.8 | 11.2 |    NA |  45 | 3 | 1 | 3 |\n|   0.023 |    0.40 | 11.9 | 1.3 | 13.2 |   3.2 |  19 | 4 | 1 | 3 |\n|   0.048 |    0.33 | 10.8 | 2.0 | 12.8 |   2.0 |  30 | 4 | 1 | 3 |\n|   1.700 |    6.30 | 13.8 | 5.6 | 19.4 |   5.0 |  12 | 2 | 1 | 1 |\n|   3.500 |   10.80 | 14.3 | 3.1 | 17.4 |   6.5 | 120 | 2 | 1 | 1 |\n| 250.000 |  490.00 |   NA | 1.0 |   NA |  23.6 | 440 | 5 | 5 | 5 |\n|   0.480 |   15.50 | 15.2 | 1.8 | 17.0 |  12.0 | 140 | 2 | 2 | 2 |\n|  10.000 |  115.00 | 10.0 | 0.9 | 10.9 |  20.2 | 170 | 4 | 4 | 4 |\n|   1.620 |   11.40 | 11.9 | 1.8 | 13.7 |  13.0 |  17 | 2 | 1 | 2 |\n| 192.000 |  180.00 |  6.5 | 1.9 |  8.4 |  27.0 | 115 | 4 | 4 | 4 |\n|   2.500 |   12.10 |  7.5 | 0.9 |  8.4 |  18.0 |  31 | 5 | 5 | 5 |\n|   4.288 |   39.20 |   NA |  NA | 12.5 |  13.7 |  63 | 2 | 2 | 2 |\n|   0.280 |    1.90 | 10.6 | 2.6 | 13.2 |   4.7 |  21 | 3 | 1 | 3 |\n|   4.235 |   50.40 |  7.4 | 2.4 |  9.8 |   9.8 |  52 | 1 | 1 | 1 |\n|   6.800 |  179.00 |  8.4 | 1.2 |  9.6 |  29.0 | 164 | 2 | 3 | 2 |\n|   0.750 |   12.30 |  5.7 | 0.9 |  6.6 |   7.0 | 225 | 2 | 2 | 2 |\n|   3.600 |   21.00 |  4.9 | 0.5 |  5.4 |   6.0 | 225 | 3 | 2 | 3 |\n|  14.830 |   98.20 |   NA |  NA |  2.6 |  17.0 | 150 | 5 | 5 | 5 |\n|  55.500 |  175.00 |  3.2 | 0.6 |  3.8 |  20.0 | 151 | 5 | 5 | 5 |\n|   1.400 |   12.50 |   NA |  NA | 11.0 |  12.7 |  90 | 2 | 2 | 2 |\n|   0.060 |    1.00 |  8.1 | 2.2 | 10.3 |   3.5 |  NA | 3 | 1 | 2 |\n|   0.900 |    2.60 | 11.0 | 2.3 | 13.3 |   4.5 |  60 | 2 | 1 | 2 |\n|   2.000 |   12.30 |  4.9 | 0.5 |  5.4 |   7.5 | 200 | 3 | 1 | 3 |\n|   0.104 |    2.50 | 13.2 | 2.6 | 15.8 |   2.3 |  46 | 3 | 2 | 2 |\n|   4.190 |   58.00 |  9.7 | 0.6 | 10.3 |  24.0 | 210 | 4 | 3 | 4 |\n|   3.500 |    3.90 | 12.8 | 6.6 | 19.4 |   3.0 |  14 | 2 | 1 | 1 |\n|   4.050 |   17.00 |   NA |  NA |   NA |  13.0 |  38 | 3 | 1 | 1 |\n\n",
            "text/latex": "A data.frame: 62 × 10\n\\begin{tabular}{llllllllll}\n BodyWgt & BrainWgt & NonD & Dream & Sleep & Span & Gest & Pred & Exp & Danger\\\\\n <dbl> & <dbl> & <dbl> & <dbl> & <dbl> & <dbl> & <dbl> & <int> & <int> & <int>\\\\\n\\hline\n\t 6654.000 & 5712.0 &   NA &  NA &  3.3 & 38.6 & 645 & 3 & 5 & 3\\\\\n\t    1.000 &    6.6 &  6.3 & 2.0 &  8.3 &  4.5 &  42 & 3 & 1 & 3\\\\\n\t    3.385 &   44.5 &   NA &  NA & 12.5 & 14.0 &  60 & 1 & 1 & 1\\\\\n\t    0.920 &    5.7 &   NA &  NA & 16.5 &   NA &  25 & 5 & 2 & 3\\\\\n\t 2547.000 & 4603.0 &  2.1 & 1.8 &  3.9 & 69.0 & 624 & 3 & 5 & 4\\\\\n\t   10.550 &  179.5 &  9.1 & 0.7 &  9.8 & 27.0 & 180 & 4 & 4 & 4\\\\\n\t    0.023 &    0.3 & 15.8 & 3.9 & 19.7 & 19.0 &  35 & 1 & 1 & 1\\\\\n\t  160.000 &  169.0 &  5.2 & 1.0 &  6.2 & 30.4 & 392 & 4 & 5 & 4\\\\\n\t    3.300 &   25.6 & 10.9 & 3.6 & 14.5 & 28.0 &  63 & 1 & 2 & 1\\\\\n\t   52.160 &  440.0 &  8.3 & 1.4 &  9.7 & 50.0 & 230 & 1 & 1 & 1\\\\\n\t    0.425 &    6.4 & 11.0 & 1.5 & 12.5 &  7.0 & 112 & 5 & 4 & 4\\\\\n\t  465.000 &  423.0 &  3.2 & 0.7 &  3.9 & 30.0 & 281 & 5 & 5 & 5\\\\\n\t    0.550 &    2.4 &  7.6 & 2.7 & 10.3 &   NA &  NA & 2 & 1 & 2\\\\\n\t  187.100 &  419.0 &   NA &  NA &  3.1 & 40.0 & 365 & 5 & 5 & 5\\\\\n\t    0.075 &    1.2 &  6.3 & 2.1 &  8.4 &  3.5 &  42 & 1 & 1 & 1\\\\\n\t    3.000 &   25.0 &  8.6 & 0.0 &  8.6 & 50.0 &  28 & 2 & 2 & 2\\\\\n\t    0.785 &    3.5 &  6.6 & 4.1 & 10.7 &  6.0 &  42 & 2 & 2 & 2\\\\\n\t    0.200 &    5.0 &  9.5 & 1.2 & 10.7 & 10.4 & 120 & 2 & 2 & 2\\\\\n\t    1.410 &   17.5 &  4.8 & 1.3 &  6.1 & 34.0 &  NA & 1 & 2 & 1\\\\\n\t   60.000 &   81.0 & 12.0 & 6.1 & 18.1 &  7.0 &  NA & 1 & 1 & 1\\\\\n\t  529.000 &  680.0 &   NA & 0.3 &   NA & 28.0 & 400 & 5 & 5 & 5\\\\\n\t   27.660 &  115.0 &  3.3 & 0.5 &  3.8 & 20.0 & 148 & 5 & 5 & 5\\\\\n\t    0.120 &    1.0 & 11.0 & 3.4 & 14.4 &  3.9 &  16 & 3 & 1 & 2\\\\\n\t  207.000 &  406.0 &   NA &  NA & 12.0 & 39.3 & 252 & 1 & 4 & 1\\\\\n\t   85.000 &  325.0 &  4.7 & 1.5 &  6.2 & 41.0 & 310 & 1 & 3 & 1\\\\\n\t   36.330 &  119.5 &   NA &  NA & 13.0 & 16.2 &  63 & 1 & 1 & 1\\\\\n\t    0.101 &    4.0 & 10.4 & 3.4 & 13.8 &  9.0 &  28 & 5 & 1 & 3\\\\\n\t    1.040 &    5.5 &  7.4 & 0.8 &  8.2 &  7.6 &  68 & 5 & 3 & 4\\\\\n\t  521.000 &  655.0 &  2.1 & 0.8 &  2.9 & 46.0 & 336 & 5 & 5 & 5\\\\\n\t  100.000 &  157.0 &   NA &  NA & 10.8 & 22.4 & 100 & 1 & 1 & 1\\\\\n\t ⋮ & ⋮ & ⋮ & ⋮ & ⋮ & ⋮ & ⋮ & ⋮ & ⋮ & ⋮\\\\\n\t   0.010 &    0.25 & 17.9 & 2.0 & 19.9 &  24.0 &  50 & 1 & 1 & 1\\\\\n\t  62.000 & 1320.00 &  6.1 & 1.9 &  8.0 & 100.0 & 267 & 1 & 1 & 1\\\\\n\t   0.122 &    3.00 &  8.2 & 2.4 & 10.6 &    NA &  30 & 2 & 1 & 1\\\\\n\t   1.350 &    8.10 &  8.4 & 2.8 & 11.2 &    NA &  45 & 3 & 1 & 3\\\\\n\t   0.023 &    0.40 & 11.9 & 1.3 & 13.2 &   3.2 &  19 & 4 & 1 & 3\\\\\n\t   0.048 &    0.33 & 10.8 & 2.0 & 12.8 &   2.0 &  30 & 4 & 1 & 3\\\\\n\t   1.700 &    6.30 & 13.8 & 5.6 & 19.4 &   5.0 &  12 & 2 & 1 & 1\\\\\n\t   3.500 &   10.80 & 14.3 & 3.1 & 17.4 &   6.5 & 120 & 2 & 1 & 1\\\\\n\t 250.000 &  490.00 &   NA & 1.0 &   NA &  23.6 & 440 & 5 & 5 & 5\\\\\n\t   0.480 &   15.50 & 15.2 & 1.8 & 17.0 &  12.0 & 140 & 2 & 2 & 2\\\\\n\t  10.000 &  115.00 & 10.0 & 0.9 & 10.9 &  20.2 & 170 & 4 & 4 & 4\\\\\n\t   1.620 &   11.40 & 11.9 & 1.8 & 13.7 &  13.0 &  17 & 2 & 1 & 2\\\\\n\t 192.000 &  180.00 &  6.5 & 1.9 &  8.4 &  27.0 & 115 & 4 & 4 & 4\\\\\n\t   2.500 &   12.10 &  7.5 & 0.9 &  8.4 &  18.0 &  31 & 5 & 5 & 5\\\\\n\t   4.288 &   39.20 &   NA &  NA & 12.5 &  13.7 &  63 & 2 & 2 & 2\\\\\n\t   0.280 &    1.90 & 10.6 & 2.6 & 13.2 &   4.7 &  21 & 3 & 1 & 3\\\\\n\t   4.235 &   50.40 &  7.4 & 2.4 &  9.8 &   9.8 &  52 & 1 & 1 & 1\\\\\n\t   6.800 &  179.00 &  8.4 & 1.2 &  9.6 &  29.0 & 164 & 2 & 3 & 2\\\\\n\t   0.750 &   12.30 &  5.7 & 0.9 &  6.6 &   7.0 & 225 & 2 & 2 & 2\\\\\n\t   3.600 &   21.00 &  4.9 & 0.5 &  5.4 &   6.0 & 225 & 3 & 2 & 3\\\\\n\t  14.830 &   98.20 &   NA &  NA &  2.6 &  17.0 & 150 & 5 & 5 & 5\\\\\n\t  55.500 &  175.00 &  3.2 & 0.6 &  3.8 &  20.0 & 151 & 5 & 5 & 5\\\\\n\t   1.400 &   12.50 &   NA &  NA & 11.0 &  12.7 &  90 & 2 & 2 & 2\\\\\n\t   0.060 &    1.00 &  8.1 & 2.2 & 10.3 &   3.5 &  NA & 3 & 1 & 2\\\\\n\t   0.900 &    2.60 & 11.0 & 2.3 & 13.3 &   4.5 &  60 & 2 & 1 & 2\\\\\n\t   2.000 &   12.30 &  4.9 & 0.5 &  5.4 &   7.5 & 200 & 3 & 1 & 3\\\\\n\t   0.104 &    2.50 & 13.2 & 2.6 & 15.8 &   2.3 &  46 & 3 & 2 & 2\\\\\n\t   4.190 &   58.00 &  9.7 & 0.6 & 10.3 &  24.0 & 210 & 4 & 3 & 4\\\\\n\t   3.500 &    3.90 & 12.8 & 6.6 & 19.4 &   3.0 &  14 & 2 & 1 & 1\\\\\n\t   4.050 &   17.00 &   NA &  NA &   NA &  13.0 &  38 & 3 & 1 & 1\\\\\n\\end{tabular}\n"
          },
          "metadata": {}
        }
      ]
    },
    {
      "cell_type": "code",
      "source": [
        "# Calcular resumen estadístico de la variable BodyWgt\n",
        "tabla_resultados1<-sleep_limpio_bodyweight %>%\n",
        "  summarise(\n",
        "  media=mean(BodyWgt),\n",
        "  mediana=median(BodyWgt),\n",
        "  varianza=var(BodyWgt),\n",
        "  desviacion=sd(BodyWgt),\n",
        "  minimo=min(BodyWgt),\n",
        "  maximo=max(BodyWgt),\n",
        "  rango=maximo-minimo,\n",
        "  coef_variacion=(desviacion/media)*100,\n",
        "  iqr=IQR(BodyWgt),\n",
        "  q1=quantile(BodyWgt,0.25),\n",
        "  q3=quantile(BodyWgt,0.75),\n",
        "  p90=quantile(BodyWgt,0.9),\n",
        "  LI=q1-1.5-iqr,\n",
        "  LS=q3+1.5+iqr,\n",
        "  total=n(),\n",
        "  outliers=sum(BodyWgt<LI | BodyWgt>LS),\n",
        "  proporcion_outliers=outliers/total,\n",
        "  asimetria=skewness(BodyWgt),\n",
        "  curtosis=kurtosis(BodyWgt)\n",
        "  ) %>%\n",
        "pivot_longer(cols=everything(), names_to=\"Estadístico\", values_to=\"Valor\"\n",
        ") %>%\n",
        "mutate(Valor= format(round(Valor, 2), scientific=FALSE))\n"
      ],
      "metadata": {
        "id": "sBwO4xGwxJCU"
      },
      "id": "sBwO4xGwxJCU",
      "execution_count": 17,
      "outputs": []
    },
    {
      "cell_type": "code",
      "source": [
        "sleep_limpio_bodyweight %>%\n",
        "  count(BodyWgt) %>%\n",
        "  arrange(desc(n)) %>%\n",
        "  slice(1)"
      ],
      "metadata": {
        "id": "L_HSH1wcDBn5",
        "outputId": "27999c13-76c5-4ad5-9c8a-f5f3ee1efa3b",
        "colab": {
          "base_uri": "https://localhost:8080/",
          "height": 129
        }
      },
      "id": "L_HSH1wcDBn5",
      "execution_count": 19,
      "outputs": [
        {
          "output_type": "display_data",
          "data": {
            "text/html": [
              "<table class=\"dataframe\">\n",
              "<caption>A data.frame: 1 × 2</caption>\n",
              "<thead>\n",
              "\t<tr><th scope=col>BodyWgt</th><th scope=col>n</th></tr>\n",
              "\t<tr><th scope=col>&lt;dbl&gt;</th><th scope=col>&lt;int&gt;</th></tr>\n",
              "</thead>\n",
              "<tbody>\n",
              "\t<tr><td>0.023</td><td>2</td></tr>\n",
              "</tbody>\n",
              "</table>\n"
            ],
            "text/markdown": "\nA data.frame: 1 × 2\n\n| BodyWgt &lt;dbl&gt; | n &lt;int&gt; |\n|---|---|\n| 0.023 | 2 |\n\n",
            "text/latex": "A data.frame: 1 × 2\n\\begin{tabular}{ll}\n BodyWgt & n\\\\\n <dbl> & <int>\\\\\n\\hline\n\t 0.023 & 2\\\\\n\\end{tabular}\n",
            "text/plain": [
              "  BodyWgt n\n",
              "1 0.023   2"
            ]
          },
          "metadata": {}
        }
      ]
    },
    {
      "cell_type": "code",
      "source": [
        "# Calcular moda con count y slice_max\n",
        "View(tabla_resultados1)\n"
      ],
      "metadata": {
        "id": "UuOoIWQixT4F",
        "outputId": "e75b610c-c16b-4fcd-e277-278f61525d5e",
        "colab": {
          "base_uri": "https://localhost:8080/",
          "height": 694
        }
      },
      "id": "UuOoIWQixT4F",
      "execution_count": 18,
      "outputs": [
        {
          "output_type": "display_data",
          "data": {
            "text/plain": [
              "   Estadístico         Valor    \n",
              "1  media                  198.79\n",
              "2  mediana                  3.34\n",
              "3  varianza            808485.13\n",
              "4  desviacion             899.16\n",
              "5  minimo                   0.00\n",
              "6  maximo                6654.00\n",
              "7  rango                 6654.00\n",
              "8  coef_variacion         452.32\n",
              "9  iqr                     47.60\n",
              "10 q1                       0.60\n",
              "11 q3                      48.20\n",
              "12 p90                    205.50\n",
              "13 LI                     -48.50\n",
              "14 LS                      97.31\n",
              "15 total                   62.00\n",
              "16 outliers                11.00\n",
              "17 proporcion_outliers      0.18\n",
              "18 asimetria                6.25\n",
              "19 curtosis                40.60"
            ],
            "text/html": [
              "<table class=\"dataframe\">\n",
              "<caption>A tibble: 19 × 2</caption>\n",
              "<thead>\n",
              "\t<tr><th scope=col>Estadístico</th><th scope=col>Valor</th></tr>\n",
              "\t<tr><th scope=col>&lt;chr&gt;</th><th scope=col>&lt;chr&gt;</th></tr>\n",
              "</thead>\n",
              "<tbody>\n",
              "\t<tr><td>media              </td><td>   198.79</td></tr>\n",
              "\t<tr><td>mediana            </td><td>     3.34</td></tr>\n",
              "\t<tr><td>varianza           </td><td>808485.13</td></tr>\n",
              "\t<tr><td>desviacion         </td><td>   899.16</td></tr>\n",
              "\t<tr><td>minimo             </td><td>     0.00</td></tr>\n",
              "\t<tr><td>maximo             </td><td>  6654.00</td></tr>\n",
              "\t<tr><td>rango              </td><td>  6654.00</td></tr>\n",
              "\t<tr><td>coef_variacion     </td><td>   452.32</td></tr>\n",
              "\t<tr><td>iqr                </td><td>    47.60</td></tr>\n",
              "\t<tr><td>q1                 </td><td>     0.60</td></tr>\n",
              "\t<tr><td>q3                 </td><td>    48.20</td></tr>\n",
              "\t<tr><td>p90                </td><td>   205.50</td></tr>\n",
              "\t<tr><td>LI                 </td><td>   -48.50</td></tr>\n",
              "\t<tr><td>LS                 </td><td>    97.31</td></tr>\n",
              "\t<tr><td>total              </td><td>    62.00</td></tr>\n",
              "\t<tr><td>outliers           </td><td>    11.00</td></tr>\n",
              "\t<tr><td>proporcion_outliers</td><td>     0.18</td></tr>\n",
              "\t<tr><td>asimetria          </td><td>     6.25</td></tr>\n",
              "\t<tr><td>curtosis           </td><td>    40.60</td></tr>\n",
              "</tbody>\n",
              "</table>\n"
            ],
            "text/markdown": "\nA tibble: 19 × 2\n\n| Estadístico &lt;chr&gt; | Valor &lt;chr&gt; |\n|---|---|\n| media               |    198.79 |\n| mediana             |      3.34 |\n| varianza            | 808485.13 |\n| desviacion          |    899.16 |\n| minimo              |      0.00 |\n| maximo              |   6654.00 |\n| rango               |   6654.00 |\n| coef_variacion      |    452.32 |\n| iqr                 |     47.60 |\n| q1                  |      0.60 |\n| q3                  |     48.20 |\n| p90                 |    205.50 |\n| LI                  |    -48.50 |\n| LS                  |     97.31 |\n| total               |     62.00 |\n| outliers            |     11.00 |\n| proporcion_outliers |      0.18 |\n| asimetria           |      6.25 |\n| curtosis            |     40.60 |\n\n",
            "text/latex": "A tibble: 19 × 2\n\\begin{tabular}{ll}\n Estadístico & Valor\\\\\n <chr> & <chr>\\\\\n\\hline\n\t media               &    198.79\\\\\n\t mediana             &      3.34\\\\\n\t varianza            & 808485.13\\\\\n\t desviacion          &    899.16\\\\\n\t minimo              &      0.00\\\\\n\t maximo              &   6654.00\\\\\n\t rango               &   6654.00\\\\\n\t coef\\_variacion      &    452.32\\\\\n\t iqr                 &     47.60\\\\\n\t q1                  &      0.60\\\\\n\t q3                  &     48.20\\\\\n\t p90                 &    205.50\\\\\n\t LI                  &    -48.50\\\\\n\t LS                  &     97.31\\\\\n\t total               &     62.00\\\\\n\t outliers            &     11.00\\\\\n\t proporcion\\_outliers &      0.18\\\\\n\t asimetria           &      6.25\\\\\n\t curtosis            &     40.60\\\\\n\\end{tabular}\n"
          },
          "metadata": {}
        }
      ]
    },
    {
      "cell_type": "markdown",
      "source": [
        "¿Qué nos dicen estos valores?:\n",
        "\n",
        "| Estadístico                     | Valor      | Interpretación                                                                                                                          |\n",
        "| ------------------------------- | ---------- | --------------------------------------------------------------------------------------------------------------------------------------- |\n",
        "| **media**                       | 198.79     | El peso promedio es muy alto, pero está distorsionado por valores extremos (como elefantes o ballenas).                                 |\n",
        "| **mediana**                     | 3.34       | El valor central realista: la mitad de los animales pesa menos de 3.34 kg. Mucho menor que la media → **asimetría positiva**.           |\n",
        "| **varianza**                    | 808485.13  | Muestra una altísima dispersión de los pesos. Valores grandes como 6654 lo elevan fuertemente.                                          |\n",
        "| **desviación típica**           | 899.16     | Indica gran dispersión respecto a la media. Al igual que la varianza, está **muy afectada por los valores extremos**.                   |\n",
        "| **mínimo**                      | 0.00       | Existen animales extremadamente ligeros (posiblemente error de redondeo o especie muy pequeña).                                         |\n",
        "| **máximo**                      | 6654.00    | Hay especies con más de 6 toneladas de peso. Confirma la existencia de outliers muy altos.                                              |\n",
        "| **rango**                       | 6654.00    | Es la diferencia entre el máximo y el mínimo. Muy alto → **alta variabilidad global**.                                                  |\n",
        "| **IQR (rango intercuartílico)** | 47.60      | El 50% central de los datos está entre 0.6 y 48.2 kg. Mucho más representativo que el rango total.                                      |\n",
        "| **Q1**                          | 0.60       | El 25% de los animales pesa menos de 0.6 kg.                                                                                            |\n",
        "| **Q3**                          | 48.20      | El 75% pesa menos de 48.2 kg.                                                                                                           |\n",
        "| **P10**                         | 0.08       | El 10% de los animales pesa menos de 80 gramos.                                                                                         |\n",
        "| **P90**                         | 205.50     | El 90% pesa menos de 205.5 kg.                                                                                                          |\n",
        "| **P95**                         | 518.20     | El 95% pesa menos de 518.2 kg.                                                                                                          |\n",
        "| **LI (límite inferior)**        | -70.80     | No se usa aquí porque ningún peso puede ser negativo.                                                                                   |\n",
        "| **LS (límite superior)**        | 119.61     | Todo valor mayor que este es considerado outlier según el criterio de 1.5 \\* IQR.                                                       |\n",
        "| **total**                       | 62.00      | Se analizaron 62 observaciones con datos completos para `BodyWgt`.                                                                      |\n",
        "| **outliers**                    | 10.00      | Hay 10 valores considerados **atípicos**.                                                                                               |\n",
        "| **proporción de outliers**      | 0.16 (16%) | Es **una proporción elevada**: casi 1 de cada 6 observaciones es un outlier.                                                            |\n",
        "| **asimetría**                   | 6.25       | Muy por encima de 0 → **fuerte asimetría positiva**. Hay una larga cola hacia la derecha.                                               |\n",
        "| **curtosis**                    | 40.60      | Muy superior a 3 → distribución **leptocúrtica**: concentrada alrededor de la mediana, con colas muy pesadas (muchos valores extremos). |\n",
        "| **Coeficiente de variación**| 452.32%|La desviación típica es más de 4 veces la media.|\n"
      ],
      "metadata": {
        "id": "K939_8DZ0McV"
      },
      "id": "K939_8DZ0McV"
    },
    {
      "cell_type": "markdown",
      "source": [
        "Validación gráfica:"
      ],
      "metadata": {
        "id": "m9bsLK9N43XE"
      },
      "id": "m9bsLK9N43XE"
    },
    {
      "cell_type": "code",
      "source": [
        "#Diagrama de barras de la variable BodyWht\n",
        "ggplot(sleep_limpio_bodyweight,aes(BodyWgt))+\n",
        "  geom_histogram(bin=30,fill=\"skyblue\",color=\"black\")+\n",
        "  labs(title = \"Distribución del peso\")\n"
      ],
      "metadata": {
        "id": "v4nRHu1CxhOe",
        "outputId": "1317ed5c-402e-47b7-e8b5-cbf8dd905df3",
        "colab": {
          "base_uri": "https://localhost:8080/",
          "height": 489
        }
      },
      "id": "v4nRHu1CxhOe",
      "execution_count": 20,
      "outputs": [
        {
          "output_type": "stream",
          "name": "stderr",
          "text": [
            "Warning message in geom_histogram(bin = 30, fill = \"skyblue\", color = \"black\"):\n",
            "“\u001b[1m\u001b[22mIgnoring unknown parameters: `bin`”\n",
            "\u001b[1m\u001b[22m`stat_bin()` using `bins = 30`. Pick better value with `binwidth`.\n"
          ]
        },
        {
          "output_type": "display_data",
          "data": {
            "text/plain": [
              "plot without title"
            ],
            "image/png": "[encoded data removed]"
          },
          "metadata": {
            "image/png": {
              "width": 420,
              "height": 420
            }
          }
        }
      ]
    },
    {
      "cell_type": "code",
      "source": [
        "#Boxplot de la bariable BodyWgt\n",
        "ggplot(sleep_limpio_bodyweight,aes(y=BodyWgt))+\n",
        "  geom_boxplot(fill=\"skyblue\")+\n",
        "  labs(title = \"Distribución del peso\")"
      ],
      "metadata": {
        "id": "nJqSjoP8x0RK",
        "outputId": "e69f2451-1f40-4d30-ae93-6b92d017a180",
        "colab": {
          "base_uri": "https://localhost:8080/",
          "height": 437
        }
      },
      "id": "nJqSjoP8x0RK",
      "execution_count": 21,
      "outputs": [
        {
          "output_type": "display_data",
          "data": {
            "text/plain": [
              "plot without title"
            ],
            "image/png": "[encoded data removed]"
          },
          "metadata": {
            "image/png": {
              "width": 420,
              "height": 420
            }
          }
        }
      ]
    },
    {
      "cell_type": "code",
      "source": [
        "#Boxplot sin valores extremos y modificando los límites del eje\n",
        "#Boxplot de la bariable BodyWgt\n",
        "ggplot(sleep_limpio_bodyweight,aes(y=BodyWgt))+\n",
        "  geom_boxplot(fill=\"skyblue\",outlier.shape = NA)+\n",
        "  labs(title = \"Distribución del peso\")+\n",
        "  ylim(0,7.5)"
      ],
      "metadata": {
        "id": "XeeRghAP-bh3",
        "outputId": "e0201ade-81a4-4439-ece3-a33315ca83f7",
        "colab": {
          "base_uri": "https://localhost:8080/",
          "height": 489
        }
      },
      "id": "XeeRghAP-bh3",
      "execution_count": 23,
      "outputs": [
        {
          "output_type": "stream",
          "name": "stderr",
          "text": [
            "Warning message:\n",
            "“\u001b[1m\u001b[22mRemoved 22 rows containing non-finite outside the scale range\n",
            "(`stat_boxplot()`).”\n"
          ]
        },
        {
          "output_type": "display_data",
          "data": {
            "text/plain": [
              "plot without title"
            ],
            "image/png": "[encoded data removed]"
          },
          "metadata": {
            "image/png": {
              "width": 420,
              "height": 420
            }
          }
        }
      ]
    },
    {
      "cell_type": "markdown",
      "source": [
        "La variable **BodyWgt** tiene una distribución altamente asimétrica y con colas pesadas.\n",
        "\n",
        "Las medidas robustas (mediana, IQR) son mucho más representativas que la media o la desviación típica.\n",
        "\n",
        "Un 16% de los datos son outliers, todos por encima del límite superior.\n",
        "\n",
        "Se recomienda para el análisis:\n",
        "- Trabajar con logaritmos o escalas logarítmicas.\n",
        "- Reportar mediana en lugar de media."
      ],
      "metadata": {
        "id": "tkiCQUdg-91_"
      },
      "id": "tkiCQUdg-91_"
    },
    {
      "cell_type": "code",
      "source": [
        "# Filtrar valores mayores que 0 antes de aplicar el log\n",
        "# Crear una nueva columna con logaritmo base 10\n",
        "sleep_limpio_bodyweight<-sleep_limpio_bodyweight %>%\n",
        "  filter(BodyWgt>0)%>%\n",
        "  mutate(log_BodyWgt=log10(BodyWgt))\n"
      ],
      "metadata": {
        "id": "ZhUlA4FU7bfi"
      },
      "id": "ZhUlA4FU7bfi",
      "execution_count": 24,
      "outputs": []
    },
    {
      "cell_type": "code",
      "source": [
        "# Calcular resumen estadístico de la variable BodyWgt\n",
        "# Calcular resumen estadístico de la variable BodyWgt\n",
        "(tabla_resultados2<-sleep_limpio_bodyweight %>%\n",
        "  summarise(\n",
        "  media=mean(log_BodyWgt),\n",
        "  mediana=median(log_BodyWgt),\n",
        "  varianza=var(log_BodyWgt),\n",
        "  desviacion=sd(log_BodyWgt),\n",
        "  minimo=min(log_BodyWgt),\n",
        "  maximo=max(log_BodyWgt),\n",
        "  rango=maximo-minimo,\n",
        "  coef_variacion=(desviacion/media)*100,\n",
        "  iqr=IQR(log_BodyWgt),\n",
        "  q1=quantile(log_BodyWgt,0.25),\n",
        "  q3=quantile(log_BodyWgt,0.75),\n",
        "  p90=quantile(log_BodyWgt,0.9),\n",
        "  LI=q1-1.5-iqr,\n",
        "  LS=q3+1.5+iqr,\n",
        "  total=n(),\n",
        "  outliers=sum(log_BodyWgt<LI | log_BodyWgt>LS),\n",
        "  proporcion_outliers=outliers/total,\n",
        "  asimetria=skewness(log_BodyWgt),\n",
        "  curtosis=kurtosis(log_BodyWgt)\n",
        "  ) %>%\n",
        "pivot_longer(cols=everything(), names_to=\"Estadístico\", values_to=\"Valor\"\n",
        ") %>%\n",
        "mutate(Valor= format(round(Valor, 2), scientific=FALSE))  )\n"
      ],
      "metadata": {
        "id": "92QFiHpH77kJ",
        "outputId": "bae5577c-9b3d-4930-91ee-437c6d4c0bac",
        "colab": {
          "base_uri": "https://localhost:8080/",
          "height": 694
        }
      },
      "id": "92QFiHpH77kJ",
      "execution_count": 25,
      "outputs": [
        {
          "output_type": "display_data",
          "data": {
            "text/html": [
              "<table class=\"dataframe\">\n",
              "<caption>A tibble: 19 × 2</caption>\n",
              "<thead>\n",
              "\t<tr><th scope=col>Estadístico</th><th scope=col>Valor</th></tr>\n",
              "\t<tr><th scope=col>&lt;chr&gt;</th><th scope=col>&lt;chr&gt;</th></tr>\n",
              "</thead>\n",
              "<tbody>\n",
              "\t<tr><td>media              </td><td>  0.58</td></tr>\n",
              "\t<tr><td>mediana            </td><td>  0.52</td></tr>\n",
              "\t<tr><td>varianza           </td><td>  1.84</td></tr>\n",
              "\t<tr><td>desviacion         </td><td>  1.36</td></tr>\n",
              "\t<tr><td>minimo             </td><td> -2.30</td></tr>\n",
              "\t<tr><td>maximo             </td><td>  3.82</td></tr>\n",
              "\t<tr><td>rango              </td><td>  6.12</td></tr>\n",
              "\t<tr><td>coef_variacion     </td><td>233.50</td></tr>\n",
              "\t<tr><td>iqr                </td><td>  1.90</td></tr>\n",
              "\t<tr><td>q1                 </td><td> -0.23</td></tr>\n",
              "\t<tr><td>q3                 </td><td>  1.68</td></tr>\n",
              "\t<tr><td>p90                </td><td>  2.31</td></tr>\n",
              "\t<tr><td>LI                 </td><td> -3.63</td></tr>\n",
              "\t<tr><td>LS                 </td><td>  5.08</td></tr>\n",
              "\t<tr><td>total              </td><td> 62.00</td></tr>\n",
              "\t<tr><td>outliers           </td><td>  0.00</td></tr>\n",
              "\t<tr><td>proporcion_outliers</td><td>  0.00</td></tr>\n",
              "\t<tr><td>asimetria          </td><td>  0.15</td></tr>\n",
              "\t<tr><td>curtosis           </td><td> -0.52</td></tr>\n",
              "</tbody>\n",
              "</table>\n"
            ],
            "text/markdown": "\nA tibble: 19 × 2\n\n| Estadístico &lt;chr&gt; | Valor &lt;chr&gt; |\n|---|---|\n| media               |   0.58 |\n| mediana             |   0.52 |\n| varianza            |   1.84 |\n| desviacion          |   1.36 |\n| minimo              |  -2.30 |\n| maximo              |   3.82 |\n| rango               |   6.12 |\n| coef_variacion      | 233.50 |\n| iqr                 |   1.90 |\n| q1                  |  -0.23 |\n| q3                  |   1.68 |\n| p90                 |   2.31 |\n| LI                  |  -3.63 |\n| LS                  |   5.08 |\n| total               |  62.00 |\n| outliers            |   0.00 |\n| proporcion_outliers |   0.00 |\n| asimetria           |   0.15 |\n| curtosis            |  -0.52 |\n\n",
            "text/latex": "A tibble: 19 × 2\n\\begin{tabular}{ll}\n Estadístico & Valor\\\\\n <chr> & <chr>\\\\\n\\hline\n\t media               &   0.58\\\\\n\t mediana             &   0.52\\\\\n\t varianza            &   1.84\\\\\n\t desviacion          &   1.36\\\\\n\t minimo              &  -2.30\\\\\n\t maximo              &   3.82\\\\\n\t rango               &   6.12\\\\\n\t coef\\_variacion      & 233.50\\\\\n\t iqr                 &   1.90\\\\\n\t q1                  &  -0.23\\\\\n\t q3                  &   1.68\\\\\n\t p90                 &   2.31\\\\\n\t LI                  &  -3.63\\\\\n\t LS                  &   5.08\\\\\n\t total               &  62.00\\\\\n\t outliers            &   0.00\\\\\n\t proporcion\\_outliers &   0.00\\\\\n\t asimetria           &   0.15\\\\\n\t curtosis            &  -0.52\\\\\n\\end{tabular}\n",
            "text/plain": [
              "   Estadístico         Valor \n",
              "1  media                 0.58\n",
              "2  mediana               0.52\n",
              "3  varianza              1.84\n",
              "4  desviacion            1.36\n",
              "5  minimo               -2.30\n",
              "6  maximo                3.82\n",
              "7  rango                 6.12\n",
              "8  coef_variacion      233.50\n",
              "9  iqr                   1.90\n",
              "10 q1                   -0.23\n",
              "11 q3                    1.68\n",
              "12 p90                   2.31\n",
              "13 LI                   -3.63\n",
              "14 LS                    5.08\n",
              "15 total                62.00\n",
              "16 outliers              0.00\n",
              "17 proporcion_outliers   0.00\n",
              "18 asimetria             0.15\n",
              "19 curtosis             -0.52"
            ]
          },
          "metadata": {}
        }
      ]
    },
    {
      "cell_type": "markdown",
      "source": [
        "### Tablas para informes\n",
        "\n",
        "Usamos de la librería knitr de R, la función kable que permite crear tablas en documentos R Markdown."
      ],
      "metadata": {
        "id": "mK9PMhf09_AH"
      },
      "id": "mK9PMhf09_AH"
    },
    {
      "cell_type": "code",
      "source": [
        "# Mostrar tabla\n",
        "kable(tabla_resultados1, caption =  \"\\nResumen estadisticas descriptivas\\nPosición\\nForma de la distribución\\nVariable original\")\n",
        "kable(tabla_resultados2, caption =  \"\\nResumen estadisticas descriptivas\\nPosición\\nForma de la distribución\\nVariable original\")"
      ],
      "metadata": {
        "id": "4DNmC8IM-CsA",
        "outputId": "28ddbb90-2197-4e85-d3d7-2675b436843c",
        "colab": {
          "base_uri": "https://localhost:8080/",
          "height": 1000
        }
      },
      "id": "4DNmC8IM-CsA",
      "execution_count": 26,
      "outputs": [
        {
          "output_type": "display_data",
          "data": {
            "text/plain": [
              "\n",
              "\n",
              "Table: \n",
              "Resumen estadisticas descriptivas\n",
              "Posición\n",
              "Forma de la distribución\n",
              "Variable original\n",
              "\n",
              "|Estadístico         |Valor     |\n",
              "|:-------------------|:---------|\n",
              "|media               |198.79    |\n",
              "|mediana             |3.34      |\n",
              "|varianza            |808485.13 |\n",
              "|desviacion          |899.16    |\n",
              "|minimo              |0.00      |\n",
              "|maximo              |6654.00   |\n",
              "|rango               |6654.00   |\n",
              "|coef_variacion      |452.32    |\n",
              "|iqr                 |47.60     |\n",
              "|q1                  |0.60      |\n",
              "|q3                  |48.20     |\n",
              "|p90                 |205.50    |\n",
              "|LI                  |-48.50    |\n",
              "|LS                  |97.31     |\n",
              "|total               |62.00     |\n",
              "|outliers            |11.00     |\n",
              "|proporcion_outliers |0.18      |\n",
              "|asimetria           |6.25      |\n",
              "|curtosis            |40.60     |"
            ]
          },
          "metadata": {}
        },
        {
          "output_type": "display_data",
          "data": {
            "text/plain": [
              "\n",
              "\n",
              "Table: \n",
              "Resumen estadisticas descriptivas\n",
              "Posición\n",
              "Forma de la distribución\n",
              "Variable original\n",
              "\n",
              "|Estadístico         |Valor  |\n",
              "|:-------------------|:------|\n",
              "|media               |0.58   |\n",
              "|mediana             |0.52   |\n",
              "|varianza            |1.84   |\n",
              "|desviacion          |1.36   |\n",
              "|minimo              |-2.30  |\n",
              "|maximo              |3.82   |\n",
              "|rango               |6.12   |\n",
              "|coef_variacion      |233.50 |\n",
              "|iqr                 |1.90   |\n",
              "|q1                  |-0.23  |\n",
              "|q3                  |1.68   |\n",
              "|p90                 |2.31   |\n",
              "|LI                  |-3.63  |\n",
              "|LS                  |5.08   |\n",
              "|total               |62.00  |\n",
              "|outliers            |0.00   |\n",
              "|proporcion_outliers |0.00   |\n",
              "|asimetria           |0.15   |\n",
              "|curtosis            |-0.52  |"
            ]
          },
          "metadata": {}
        }
      ]
    },
    {
      "cell_type": "code",
      "source": [
        "#histograma\n",
        "#Diagrama de barras de la variable BodyWht\n",
        "ggplot(sleep_limpio_bodyweight,aes(log_BodyWgt))+\n",
        "  geom_histogram(bin=30,fill=\"skyblue\",color=\"black\")+\n",
        "  labs(title = \"Distribución del peso\")\n",
        "\n",
        "\n",
        "\n",
        "#boxplot\n",
        "#Boxplot sin valores extremos y modificando los límites del eje\n",
        "#Boxplot de la bariable BodyWgt\n",
        "ggplot(sleep_limpio_bodyweight,aes(y=log_BodyWgt))+\n",
        "  geom_boxplot(fill=\"skyblue\",outlier.shape = NA)+\n",
        "  labs(title = \"Distribución del peso\")+\n",
        "  ylim(0,7.5)\n",
        "\n",
        "\n"
      ],
      "metadata": {
        "id": "0nBymPch7lMp",
        "outputId": "fe827234-181f-4711-adac-85877d1f3760",
        "colab": {
          "base_uri": "https://localhost:8080/",
          "height": 961
        }
      },
      "id": "0nBymPch7lMp",
      "execution_count": 28,
      "outputs": [
        {
          "output_type": "stream",
          "name": "stderr",
          "text": [
            "Warning message in geom_histogram(bin = 30, fill = \"skyblue\", color = \"black\"):\n",
            "“\u001b[1m\u001b[22mIgnoring unknown parameters: `bin`”\n",
            "\u001b[1m\u001b[22m`stat_bin()` using `bins = 30`. Pick better value with `binwidth`.\n",
            "Warning message:\n",
            "“\u001b[1m\u001b[22mRemoved 20 rows containing non-finite outside the scale range\n",
            "(`stat_boxplot()`).”\n"
          ]
        },
        {
          "output_type": "display_data",
          "data": {
            "text/plain": [
              "plot without title"
            ],
            "image/png": "[encoded data removed]"
          },
          "metadata": {
            "image/png": {
              "width": 420,
              "height": 420
            }
          }
        },
        {
          "output_type": "display_data",
          "data": {
            "text/plain": [
              "plot without title"
            ],
            "image/png": "[encoded data removed]"
          },
          "metadata": {
            "image/png": {
              "width": 420,
              "height": 420
            }
          }
        }
      ]
    },
    {
      "cell_type": "markdown",
      "source": [
        "¿La variable **BodyWgt** sigue una distribución normal?"
      ],
      "metadata": {
        "id": "DWhfMKHmAKza"
      },
      "id": "DWhfMKHmAKza"
    },
    {
      "cell_type": "code",
      "source": [
        "# Crear gráfico: Histograma de la variable BodyWgt con curva normal superpuesta\n",
        "\n",
        "ggplot(sleep_limpio_bodyweight,aes(log_BodyWgt))+\n",
        "  geom_histogram(\n",
        "  aes(y=..density..),\n",
        "  bin=30, fill=\"skyblue\",color=\"black\")+\n",
        "    stat_function(fun=dnorm,\n",
        "                  args=list(\n",
        "                    mean=mean(sleep_limpio_bodyweight$log_BodyWgt),\n",
        "                    sd=sd(sleep_limpio_bodyweight$log_BodyWgt)\n",
        "                    )\n",
        "    )\n",
        "  labs(title = \"Distribución del peso\")+\n",
        "  ylim(0,7.5)\n",
        "\n",
        "\n",
        "\n",
        "\n"
      ],
      "metadata": {
        "id": "MDDb1jWW9VKK",
        "outputId": "1c615f23-4070-47db-f130-8b86ac8ac963",
        "colab": {
          "base_uri": "https://localhost:8080/",
          "height": 506
        }
      },
      "id": "MDDb1jWW9VKK",
      "execution_count": 30,
      "outputs": [
        {
          "output_type": "stream",
          "name": "stderr",
          "text": [
            "Warning message in geom_histogram(aes(y = ..density..), bin = 30, fill = \"skyblue\", :\n",
            "“\u001b[1m\u001b[22mIgnoring unknown parameters: `bin`”\n",
            "\u001b[1m\u001b[22m`stat_bin()` using `bins = 30`. Pick better value with `binwidth`.\n"
          ]
        },
        {
          "output_type": "display_data",
          "data": {
            "text/plain": [
              "NULL"
            ]
          },
          "metadata": {}
        },
        {
          "output_type": "display_data",
          "data": {
            "text/plain": [
              "plot without title"
            ],
            "image/png": "[encoded data removed]"
          },
          "metadata": {
            "image/png": {
              "width": 420,
              "height": 420
            }
          }
        }
      ]
    },
    {
      "cell_type": "code",
      "source": [
        "#Diagramas q-q plot:\n",
        "\n",
        "qqnorm(sleep_limpio_bodyweight$log_BodyWgt)\n",
        "qqline(sleep_limpio_bodyweight$log_BodyWgt, col=\"red\")\n"
      ],
      "metadata": {
        "id": "GxNEly8Z9R46",
        "outputId": "cd306be3-9634-46e1-b46c-160d8a956058",
        "colab": {
          "base_uri": "https://localhost:8080/",
          "height": 437
        }
      },
      "id": "GxNEly8Z9R46",
      "execution_count": 31,
      "outputs": [
        {
          "output_type": "display_data",
          "data": {
            "text/plain": [
              "Plot with title “Normal Q-Q Plot”"
            ],
            "image/png": "[encoded data removed]"
          },
          "metadata": {
            "image/png": {
              "width": 420,
              "height": 420
            }
          }
        }
      ]
    },
    {
      "cell_type": "code",
      "source": [
        "#Test de normalidad\n",
        "shapiro.test(sleep_limpio_bodyweight$BodyWgt)\n",
        "\n",
        "shapiro.test(sleep_limpio_bodyweight$log_BodyWgt)"
      ],
      "metadata": {
        "id": "Bd1zPO4H9PQU",
        "outputId": "bd27e463-6217-4ec6-8768-2d04d1a54a1c",
        "colab": {
          "base_uri": "https://localhost:8080/",
          "height": 191
        }
      },
      "id": "Bd1zPO4H9PQU",
      "execution_count": 32,
      "outputs": [
        {
          "output_type": "display_data",
          "data": {
            "text/plain": [
              "\n",
              "\tShapiro-Wilk normality test\n",
              "\n",
              "data:  sleep_limpio_bodyweight$BodyWgt\n",
              "W = 0.22239, p-value < 2.2e-16\n"
            ]
          },
          "metadata": {}
        },
        {
          "output_type": "display_data",
          "data": {
            "text/plain": [
              "\n",
              "\tShapiro-Wilk normality test\n",
              "\n",
              "data:  sleep_limpio_bodyweight$log_BodyWgt\n",
              "W = 0.98645, p-value = 0.7272\n"
            ]
          },
          "metadata": {}
        }
      ]
    },
    {
      "cell_type": "markdown",
      "source": [
        "¿y la variable **log_BodyWgt**?"
      ],
      "metadata": {
        "id": "j3dZfxR4AeHG"
      },
      "id": "j3dZfxR4AeHG"
    },
    {
      "cell_type": "code",
      "source": [
        "# Crear gráfico: Histograma del logaritmo de BodyWgt con una curva normal superpuesta\n",
        "\n",
        "\n",
        "\n"
      ],
      "metadata": {
        "id": "IBtJDnwvAd00"
      },
      "id": "IBtJDnwvAd00",
      "execution_count": null,
      "outputs": []
    },
    {
      "cell_type": "code",
      "source": [
        "#qqplot varaible log\n",
        "\n"
      ],
      "metadata": {
        "id": "822wDNcRAvJw"
      },
      "id": "822wDNcRAvJw",
      "execution_count": null,
      "outputs": []
    },
    {
      "cell_type": "code",
      "source": [
        "#test de normalidad\n",
        "\n",
        "\n",
        "\n",
        "\n"
      ],
      "metadata": {
        "id": "2jsnEKPzA0GE"
      },
      "id": "2jsnEKPzA0GE",
      "execution_count": null,
      "outputs": []
    },
    {
      "cell_type": "markdown",
      "source": [
        "Podemos así ver la importancia del análisis inicial y de la conveniencia de usar transformaciones de las variables."
      ],
      "metadata": {
        "id": "BvMNDRvPBKCM"
      },
      "id": "BvMNDRvPBKCM"
    },
    {
      "cell_type": "markdown",
      "source": [
        "## Análisis de Correlación y Covarianza\n",
        "\n",
        "Explorar relaciones entre variables cuantitativas, identificar patrones lineales y cuantificar la fuerza y dirección de esas relaciones mediante medidas como correlación y covarianza.\n",
        "\n",
        "- **Correlación de Pearson (cor())**\n",
        "\n",
        "Variante normalizada de la covarianza.\n",
        "\n",
        "Valores que oscilan entre -1 y 1:\n",
        "\n",
        "* +1: correlación perfecta positiva\n",
        "* 0: sin relación lineal\n",
        "* -1: correlación perfecta negativa\n",
        "\n",
        "Supone linealidad y normalidad de las variables.\n",
        "\n",
        "- **Correlación de Spearman**\n",
        "\n",
        "Se basa en rangos → no asume normalidad ni linealidad.\n",
        "Útil para datos ordinales o relaciones no lineales monótonas.\n",
        "\n",
        "- **Covarianza (cov())**\n",
        "\n",
        "Mide la tendencia conjunta de dos variables a aumentar o disminuir.\n",
        "\n",
        "* Valor positivo: las variables tienden a crecer juntas.\n",
        "* Valor negativo: una aumenta y la otra disminuye.\n",
        "\n",
        "Muy sensible a la escala de las variables\n",
        "\n"
      ],
      "metadata": {
        "id": "UsUYNtHdBTtz"
      },
      "id": "UsUYNtHdBTtz"
    },
    {
      "cell_type": "markdown",
      "source": [
        "\n",
        "### Correlación:\n",
        "\n",
        "Comenzamos con el análisis de correlación"
      ],
      "metadata": {
        "id": "Nf3IvYrdP96P"
      },
      "id": "Nf3IvYrdP96P"
    },
    {
      "cell_type": "code",
      "source": [
        "# Comenzamos seleccionando solo variables numéricas completas\n",
        "# recordemos que tenemos que convertir las trews variables pred, exp y danger en factores:\n",
        "\n",
        "# Conversión de variables numéricas a factores (categorías)\n",
        "sleep_limpio <- sleep %>%\n",
        "  mutate(\n",
        "  Pred=as.factor(Pred),\n",
        "  Exp=as.factor(Exp),\n",
        "  Danger=as.factor(Danger),\n",
        "  )\n",
        "(sleep_numerico<- sleep_limpio %>%\n",
        "  select_if(is.numeric))\n",
        "\n",
        "\n",
        "#Para no perder los datos, vamos a imputar con ridge, como hicimos en el módulo II:\n",
        "new_sleep_ridge<-empire::estimate_ridge(data=sleep_numerico, diff=10, ridge_alpha=0)$new_dat\n",
        "\n",
        "new_sleep_ridge\n",
        "# Aplicar imputación por regresión lineal penalizada (ridge)\n",
        "\n",
        "\n"
      ],
      "metadata": {
        "id": "kEgjeiaoDeqS",
        "outputId": "cfa1f89f-8689-467f-e811-9f80a216262b",
        "colab": {
          "base_uri": "https://localhost:8080/",
          "height": 1000
        }
      },
      "id": "kEgjeiaoDeqS",
      "execution_count": 37,
      "outputs": [
        {
          "output_type": "display_data",
          "data": {
            "text/html": [
              "<table class=\"dataframe\">\n",
              "<caption>A data.frame: 62 × 7</caption>\n",
              "<thead>\n",
              "\t<tr><th scope=col>BodyWgt</th><th scope=col>BrainWgt</th><th scope=col>NonD</th><th scope=col>Dream</th><th scope=col>Sleep</th><th scope=col>Span</th><th scope=col>Gest</th></tr>\n",
              "\t<tr><th scope=col>&lt;dbl&gt;</th><th scope=col>&lt;dbl&gt;</th><th scope=col>&lt;dbl&gt;</th><th scope=col>&lt;dbl&gt;</th><th scope=col>&lt;dbl&gt;</th><th scope=col>&lt;dbl&gt;</th><th scope=col>&lt;dbl&gt;</th></tr>\n",
              "</thead>\n",
              "<tbody>\n",
              "\t<tr><td>6654.000</td><td>5712.0</td><td>  NA</td><td> NA</td><td> 3.3</td><td>38.6</td><td>645</td></tr>\n",
              "\t<tr><td>   1.000</td><td>   6.6</td><td> 6.3</td><td>2.0</td><td> 8.3</td><td> 4.5</td><td> 42</td></tr>\n",
              "\t<tr><td>   3.385</td><td>  44.5</td><td>  NA</td><td> NA</td><td>12.5</td><td>14.0</td><td> 60</td></tr>\n",
              "\t<tr><td>   0.920</td><td>   5.7</td><td>  NA</td><td> NA</td><td>16.5</td><td>  NA</td><td> 25</td></tr>\n",
              "\t<tr><td>2547.000</td><td>4603.0</td><td> 2.1</td><td>1.8</td><td> 3.9</td><td>69.0</td><td>624</td></tr>\n",
              "\t<tr><td>  10.550</td><td> 179.5</td><td> 9.1</td><td>0.7</td><td> 9.8</td><td>27.0</td><td>180</td></tr>\n",
              "\t<tr><td>   0.023</td><td>   0.3</td><td>15.8</td><td>3.9</td><td>19.7</td><td>19.0</td><td> 35</td></tr>\n",
              "\t<tr><td> 160.000</td><td> 169.0</td><td> 5.2</td><td>1.0</td><td> 6.2</td><td>30.4</td><td>392</td></tr>\n",
              "\t<tr><td>   3.300</td><td>  25.6</td><td>10.9</td><td>3.6</td><td>14.5</td><td>28.0</td><td> 63</td></tr>\n",
              "\t<tr><td>  52.160</td><td> 440.0</td><td> 8.3</td><td>1.4</td><td> 9.7</td><td>50.0</td><td>230</td></tr>\n",
              "\t<tr><td>   0.425</td><td>   6.4</td><td>11.0</td><td>1.5</td><td>12.5</td><td> 7.0</td><td>112</td></tr>\n",
              "\t<tr><td> 465.000</td><td> 423.0</td><td> 3.2</td><td>0.7</td><td> 3.9</td><td>30.0</td><td>281</td></tr>\n",
              "\t<tr><td>   0.550</td><td>   2.4</td><td> 7.6</td><td>2.7</td><td>10.3</td><td>  NA</td><td> NA</td></tr>\n",
              "\t<tr><td> 187.100</td><td> 419.0</td><td>  NA</td><td> NA</td><td> 3.1</td><td>40.0</td><td>365</td></tr>\n",
              "\t<tr><td>   0.075</td><td>   1.2</td><td> 6.3</td><td>2.1</td><td> 8.4</td><td> 3.5</td><td> 42</td></tr>\n",
              "\t<tr><td>   3.000</td><td>  25.0</td><td> 8.6</td><td>0.0</td><td> 8.6</td><td>50.0</td><td> 28</td></tr>\n",
              "\t<tr><td>   0.785</td><td>   3.5</td><td> 6.6</td><td>4.1</td><td>10.7</td><td> 6.0</td><td> 42</td></tr>\n",
              "\t<tr><td>   0.200</td><td>   5.0</td><td> 9.5</td><td>1.2</td><td>10.7</td><td>10.4</td><td>120</td></tr>\n",
              "\t<tr><td>   1.410</td><td>  17.5</td><td> 4.8</td><td>1.3</td><td> 6.1</td><td>34.0</td><td> NA</td></tr>\n",
              "\t<tr><td>  60.000</td><td>  81.0</td><td>12.0</td><td>6.1</td><td>18.1</td><td> 7.0</td><td> NA</td></tr>\n",
              "\t<tr><td> 529.000</td><td> 680.0</td><td>  NA</td><td>0.3</td><td>  NA</td><td>28.0</td><td>400</td></tr>\n",
              "\t<tr><td>  27.660</td><td> 115.0</td><td> 3.3</td><td>0.5</td><td> 3.8</td><td>20.0</td><td>148</td></tr>\n",
              "\t<tr><td>   0.120</td><td>   1.0</td><td>11.0</td><td>3.4</td><td>14.4</td><td> 3.9</td><td> 16</td></tr>\n",
              "\t<tr><td> 207.000</td><td> 406.0</td><td>  NA</td><td> NA</td><td>12.0</td><td>39.3</td><td>252</td></tr>\n",
              "\t<tr><td>  85.000</td><td> 325.0</td><td> 4.7</td><td>1.5</td><td> 6.2</td><td>41.0</td><td>310</td></tr>\n",
              "\t<tr><td>  36.330</td><td> 119.5</td><td>  NA</td><td> NA</td><td>13.0</td><td>16.2</td><td> 63</td></tr>\n",
              "\t<tr><td>   0.101</td><td>   4.0</td><td>10.4</td><td>3.4</td><td>13.8</td><td> 9.0</td><td> 28</td></tr>\n",
              "\t<tr><td>   1.040</td><td>   5.5</td><td> 7.4</td><td>0.8</td><td> 8.2</td><td> 7.6</td><td> 68</td></tr>\n",
              "\t<tr><td> 521.000</td><td> 655.0</td><td> 2.1</td><td>0.8</td><td> 2.9</td><td>46.0</td><td>336</td></tr>\n",
              "\t<tr><td> 100.000</td><td> 157.0</td><td>  NA</td><td> NA</td><td>10.8</td><td>22.4</td><td>100</td></tr>\n",
              "\t<tr><td>⋮</td><td>⋮</td><td>⋮</td><td>⋮</td><td>⋮</td><td>⋮</td><td>⋮</td></tr>\n",
              "\t<tr><td>  0.010</td><td>   0.25</td><td>17.9</td><td>2.0</td><td>19.9</td><td> 24.0</td><td> 50</td></tr>\n",
              "\t<tr><td> 62.000</td><td>1320.00</td><td> 6.1</td><td>1.9</td><td> 8.0</td><td>100.0</td><td>267</td></tr>\n",
              "\t<tr><td>  0.122</td><td>   3.00</td><td> 8.2</td><td>2.4</td><td>10.6</td><td>   NA</td><td> 30</td></tr>\n",
              "\t<tr><td>  1.350</td><td>   8.10</td><td> 8.4</td><td>2.8</td><td>11.2</td><td>   NA</td><td> 45</td></tr>\n",
              "\t<tr><td>  0.023</td><td>   0.40</td><td>11.9</td><td>1.3</td><td>13.2</td><td>  3.2</td><td> 19</td></tr>\n",
              "\t<tr><td>  0.048</td><td>   0.33</td><td>10.8</td><td>2.0</td><td>12.8</td><td>  2.0</td><td> 30</td></tr>\n",
              "\t<tr><td>  1.700</td><td>   6.30</td><td>13.8</td><td>5.6</td><td>19.4</td><td>  5.0</td><td> 12</td></tr>\n",
              "\t<tr><td>  3.500</td><td>  10.80</td><td>14.3</td><td>3.1</td><td>17.4</td><td>  6.5</td><td>120</td></tr>\n",
              "\t<tr><td>250.000</td><td> 490.00</td><td>  NA</td><td>1.0</td><td>  NA</td><td> 23.6</td><td>440</td></tr>\n",
              "\t<tr><td>  0.480</td><td>  15.50</td><td>15.2</td><td>1.8</td><td>17.0</td><td> 12.0</td><td>140</td></tr>\n",
              "\t<tr><td> 10.000</td><td> 115.00</td><td>10.0</td><td>0.9</td><td>10.9</td><td> 20.2</td><td>170</td></tr>\n",
              "\t<tr><td>  1.620</td><td>  11.40</td><td>11.9</td><td>1.8</td><td>13.7</td><td> 13.0</td><td> 17</td></tr>\n",
              "\t<tr><td>192.000</td><td> 180.00</td><td> 6.5</td><td>1.9</td><td> 8.4</td><td> 27.0</td><td>115</td></tr>\n",
              "\t<tr><td>  2.500</td><td>  12.10</td><td> 7.5</td><td>0.9</td><td> 8.4</td><td> 18.0</td><td> 31</td></tr>\n",
              "\t<tr><td>  4.288</td><td>  39.20</td><td>  NA</td><td> NA</td><td>12.5</td><td> 13.7</td><td> 63</td></tr>\n",
              "\t<tr><td>  0.280</td><td>   1.90</td><td>10.6</td><td>2.6</td><td>13.2</td><td>  4.7</td><td> 21</td></tr>\n",
              "\t<tr><td>  4.235</td><td>  50.40</td><td> 7.4</td><td>2.4</td><td> 9.8</td><td>  9.8</td><td> 52</td></tr>\n",
              "\t<tr><td>  6.800</td><td> 179.00</td><td> 8.4</td><td>1.2</td><td> 9.6</td><td> 29.0</td><td>164</td></tr>\n",
              "\t<tr><td>  0.750</td><td>  12.30</td><td> 5.7</td><td>0.9</td><td> 6.6</td><td>  7.0</td><td>225</td></tr>\n",
              "\t<tr><td>  3.600</td><td>  21.00</td><td> 4.9</td><td>0.5</td><td> 5.4</td><td>  6.0</td><td>225</td></tr>\n",
              "\t<tr><td> 14.830</td><td>  98.20</td><td>  NA</td><td> NA</td><td> 2.6</td><td> 17.0</td><td>150</td></tr>\n",
              "\t<tr><td> 55.500</td><td> 175.00</td><td> 3.2</td><td>0.6</td><td> 3.8</td><td> 20.0</td><td>151</td></tr>\n",
              "\t<tr><td>  1.400</td><td>  12.50</td><td>  NA</td><td> NA</td><td>11.0</td><td> 12.7</td><td> 90</td></tr>\n",
              "\t<tr><td>  0.060</td><td>   1.00</td><td> 8.1</td><td>2.2</td><td>10.3</td><td>  3.5</td><td> NA</td></tr>\n",
              "\t<tr><td>  0.900</td><td>   2.60</td><td>11.0</td><td>2.3</td><td>13.3</td><td>  4.5</td><td> 60</td></tr>\n",
              "\t<tr><td>  2.000</td><td>  12.30</td><td> 4.9</td><td>0.5</td><td> 5.4</td><td>  7.5</td><td>200</td></tr>\n",
              "\t<tr><td>  0.104</td><td>   2.50</td><td>13.2</td><td>2.6</td><td>15.8</td><td>  2.3</td><td> 46</td></tr>\n",
              "\t<tr><td>  4.190</td><td>  58.00</td><td> 9.7</td><td>0.6</td><td>10.3</td><td> 24.0</td><td>210</td></tr>\n",
              "\t<tr><td>  3.500</td><td>   3.90</td><td>12.8</td><td>6.6</td><td>19.4</td><td>  3.0</td><td> 14</td></tr>\n",
              "\t<tr><td>  4.050</td><td>  17.00</td><td>  NA</td><td> NA</td><td>  NA</td><td> 13.0</td><td> 38</td></tr>\n",
              "</tbody>\n",
              "</table>\n"
            ],
            "text/markdown": "\nA data.frame: 62 × 7\n\n| BodyWgt &lt;dbl&gt; | BrainWgt &lt;dbl&gt; | NonD &lt;dbl&gt; | Dream &lt;dbl&gt; | Sleep &lt;dbl&gt; | Span &lt;dbl&gt; | Gest &lt;dbl&gt; |\n|---|---|---|---|---|---|---|\n| 6654.000 | 5712.0 |   NA |  NA |  3.3 | 38.6 | 645 |\n|    1.000 |    6.6 |  6.3 | 2.0 |  8.3 |  4.5 |  42 |\n|    3.385 |   44.5 |   NA |  NA | 12.5 | 14.0 |  60 |\n|    0.920 |    5.7 |   NA |  NA | 16.5 |   NA |  25 |\n| 2547.000 | 4603.0 |  2.1 | 1.8 |  3.9 | 69.0 | 624 |\n|   10.550 |  179.5 |  9.1 | 0.7 |  9.8 | 27.0 | 180 |\n|    0.023 |    0.3 | 15.8 | 3.9 | 19.7 | 19.0 |  35 |\n|  160.000 |  169.0 |  5.2 | 1.0 |  6.2 | 30.4 | 392 |\n|    3.300 |   25.6 | 10.9 | 3.6 | 14.5 | 28.0 |  63 |\n|   52.160 |  440.0 |  8.3 | 1.4 |  9.7 | 50.0 | 230 |\n|    0.425 |    6.4 | 11.0 | 1.5 | 12.5 |  7.0 | 112 |\n|  465.000 |  423.0 |  3.2 | 0.7 |  3.9 | 30.0 | 281 |\n|    0.550 |    2.4 |  7.6 | 2.7 | 10.3 |   NA |  NA |\n|  187.100 |  419.0 |   NA |  NA |  3.1 | 40.0 | 365 |\n|    0.075 |    1.2 |  6.3 | 2.1 |  8.4 |  3.5 |  42 |\n|    3.000 |   25.0 |  8.6 | 0.0 |  8.6 | 50.0 |  28 |\n|    0.785 |    3.5 |  6.6 | 4.1 | 10.7 |  6.0 |  42 |\n|    0.200 |    5.0 |  9.5 | 1.2 | 10.7 | 10.4 | 120 |\n|    1.410 |   17.5 |  4.8 | 1.3 |  6.1 | 34.0 |  NA |\n|   60.000 |   81.0 | 12.0 | 6.1 | 18.1 |  7.0 |  NA |\n|  529.000 |  680.0 |   NA | 0.3 |   NA | 28.0 | 400 |\n|   27.660 |  115.0 |  3.3 | 0.5 |  3.8 | 20.0 | 148 |\n|    0.120 |    1.0 | 11.0 | 3.4 | 14.4 |  3.9 |  16 |\n|  207.000 |  406.0 |   NA |  NA | 12.0 | 39.3 | 252 |\n|   85.000 |  325.0 |  4.7 | 1.5 |  6.2 | 41.0 | 310 |\n|   36.330 |  119.5 |   NA |  NA | 13.0 | 16.2 |  63 |\n|    0.101 |    4.0 | 10.4 | 3.4 | 13.8 |  9.0 |  28 |\n|    1.040 |    5.5 |  7.4 | 0.8 |  8.2 |  7.6 |  68 |\n|  521.000 |  655.0 |  2.1 | 0.8 |  2.9 | 46.0 | 336 |\n|  100.000 |  157.0 |   NA |  NA | 10.8 | 22.4 | 100 |\n| ⋮ | ⋮ | ⋮ | ⋮ | ⋮ | ⋮ | ⋮ |\n|   0.010 |    0.25 | 17.9 | 2.0 | 19.9 |  24.0 |  50 |\n|  62.000 | 1320.00 |  6.1 | 1.9 |  8.0 | 100.0 | 267 |\n|   0.122 |    3.00 |  8.2 | 2.4 | 10.6 |    NA |  30 |\n|   1.350 |    8.10 |  8.4 | 2.8 | 11.2 |    NA |  45 |\n|   0.023 |    0.40 | 11.9 | 1.3 | 13.2 |   3.2 |  19 |\n|   0.048 |    0.33 | 10.8 | 2.0 | 12.8 |   2.0 |  30 |\n|   1.700 |    6.30 | 13.8 | 5.6 | 19.4 |   5.0 |  12 |\n|   3.500 |   10.80 | 14.3 | 3.1 | 17.4 |   6.5 | 120 |\n| 250.000 |  490.00 |   NA | 1.0 |   NA |  23.6 | 440 |\n|   0.480 |   15.50 | 15.2 | 1.8 | 17.0 |  12.0 | 140 |\n|  10.000 |  115.00 | 10.0 | 0.9 | 10.9 |  20.2 | 170 |\n|   1.620 |   11.40 | 11.9 | 1.8 | 13.7 |  13.0 |  17 |\n| 192.000 |  180.00 |  6.5 | 1.9 |  8.4 |  27.0 | 115 |\n|   2.500 |   12.10 |  7.5 | 0.9 |  8.4 |  18.0 |  31 |\n|   4.288 |   39.20 |   NA |  NA | 12.5 |  13.7 |  63 |\n|   0.280 |    1.90 | 10.6 | 2.6 | 13.2 |   4.7 |  21 |\n|   4.235 |   50.40 |  7.4 | 2.4 |  9.8 |   9.8 |  52 |\n|   6.800 |  179.00 |  8.4 | 1.2 |  9.6 |  29.0 | 164 |\n|   0.750 |   12.30 |  5.7 | 0.9 |  6.6 |   7.0 | 225 |\n|   3.600 |   21.00 |  4.9 | 0.5 |  5.4 |   6.0 | 225 |\n|  14.830 |   98.20 |   NA |  NA |  2.6 |  17.0 | 150 |\n|  55.500 |  175.00 |  3.2 | 0.6 |  3.8 |  20.0 | 151 |\n|   1.400 |   12.50 |   NA |  NA | 11.0 |  12.7 |  90 |\n|   0.060 |    1.00 |  8.1 | 2.2 | 10.3 |   3.5 |  NA |\n|   0.900 |    2.60 | 11.0 | 2.3 | 13.3 |   4.5 |  60 |\n|   2.000 |   12.30 |  4.9 | 0.5 |  5.4 |   7.5 | 200 |\n|   0.104 |    2.50 | 13.2 | 2.6 | 15.8 |   2.3 |  46 |\n|   4.190 |   58.00 |  9.7 | 0.6 | 10.3 |  24.0 | 210 |\n|   3.500 |    3.90 | 12.8 | 6.6 | 19.4 |   3.0 |  14 |\n|   4.050 |   17.00 |   NA |  NA |   NA |  13.0 |  38 |\n\n",
            "text/latex": "A data.frame: 62 × 7\n\\begin{tabular}{lllllll}\n BodyWgt & BrainWgt & NonD & Dream & Sleep & Span & Gest\\\\\n <dbl> & <dbl> & <dbl> & <dbl> & <dbl> & <dbl> & <dbl>\\\\\n\\hline\n\t 6654.000 & 5712.0 &   NA &  NA &  3.3 & 38.6 & 645\\\\\n\t    1.000 &    6.6 &  6.3 & 2.0 &  8.3 &  4.5 &  42\\\\\n\t    3.385 &   44.5 &   NA &  NA & 12.5 & 14.0 &  60\\\\\n\t    0.920 &    5.7 &   NA &  NA & 16.5 &   NA &  25\\\\\n\t 2547.000 & 4603.0 &  2.1 & 1.8 &  3.9 & 69.0 & 624\\\\\n\t   10.550 &  179.5 &  9.1 & 0.7 &  9.8 & 27.0 & 180\\\\\n\t    0.023 &    0.3 & 15.8 & 3.9 & 19.7 & 19.0 &  35\\\\\n\t  160.000 &  169.0 &  5.2 & 1.0 &  6.2 & 30.4 & 392\\\\\n\t    3.300 &   25.6 & 10.9 & 3.6 & 14.5 & 28.0 &  63\\\\\n\t   52.160 &  440.0 &  8.3 & 1.4 &  9.7 & 50.0 & 230\\\\\n\t    0.425 &    6.4 & 11.0 & 1.5 & 12.5 &  7.0 & 112\\\\\n\t  465.000 &  423.0 &  3.2 & 0.7 &  3.9 & 30.0 & 281\\\\\n\t    0.550 &    2.4 &  7.6 & 2.7 & 10.3 &   NA &  NA\\\\\n\t  187.100 &  419.0 &   NA &  NA &  3.1 & 40.0 & 365\\\\\n\t    0.075 &    1.2 &  6.3 & 2.1 &  8.4 &  3.5 &  42\\\\\n\t    3.000 &   25.0 &  8.6 & 0.0 &  8.6 & 50.0 &  28\\\\\n\t    0.785 &    3.5 &  6.6 & 4.1 & 10.7 &  6.0 &  42\\\\\n\t    0.200 &    5.0 &  9.5 & 1.2 & 10.7 & 10.4 & 120\\\\\n\t    1.410 &   17.5 &  4.8 & 1.3 &  6.1 & 34.0 &  NA\\\\\n\t   60.000 &   81.0 & 12.0 & 6.1 & 18.1 &  7.0 &  NA\\\\\n\t  529.000 &  680.0 &   NA & 0.3 &   NA & 28.0 & 400\\\\\n\t   27.660 &  115.0 &  3.3 & 0.5 &  3.8 & 20.0 & 148\\\\\n\t    0.120 &    1.0 & 11.0 & 3.4 & 14.4 &  3.9 &  16\\\\\n\t  207.000 &  406.0 &   NA &  NA & 12.0 & 39.3 & 252\\\\\n\t   85.000 &  325.0 &  4.7 & 1.5 &  6.2 & 41.0 & 310\\\\\n\t   36.330 &  119.5 &   NA &  NA & 13.0 & 16.2 &  63\\\\\n\t    0.101 &    4.0 & 10.4 & 3.4 & 13.8 &  9.0 &  28\\\\\n\t    1.040 &    5.5 &  7.4 & 0.8 &  8.2 &  7.6 &  68\\\\\n\t  521.000 &  655.0 &  2.1 & 0.8 &  2.9 & 46.0 & 336\\\\\n\t  100.000 &  157.0 &   NA &  NA & 10.8 & 22.4 & 100\\\\\n\t ⋮ & ⋮ & ⋮ & ⋮ & ⋮ & ⋮ & ⋮\\\\\n\t   0.010 &    0.25 & 17.9 & 2.0 & 19.9 &  24.0 &  50\\\\\n\t  62.000 & 1320.00 &  6.1 & 1.9 &  8.0 & 100.0 & 267\\\\\n\t   0.122 &    3.00 &  8.2 & 2.4 & 10.6 &    NA &  30\\\\\n\t   1.350 &    8.10 &  8.4 & 2.8 & 11.2 &    NA &  45\\\\\n\t   0.023 &    0.40 & 11.9 & 1.3 & 13.2 &   3.2 &  19\\\\\n\t   0.048 &    0.33 & 10.8 & 2.0 & 12.8 &   2.0 &  30\\\\\n\t   1.700 &    6.30 & 13.8 & 5.6 & 19.4 &   5.0 &  12\\\\\n\t   3.500 &   10.80 & 14.3 & 3.1 & 17.4 &   6.5 & 120\\\\\n\t 250.000 &  490.00 &   NA & 1.0 &   NA &  23.6 & 440\\\\\n\t   0.480 &   15.50 & 15.2 & 1.8 & 17.0 &  12.0 & 140\\\\\n\t  10.000 &  115.00 & 10.0 & 0.9 & 10.9 &  20.2 & 170\\\\\n\t   1.620 &   11.40 & 11.9 & 1.8 & 13.7 &  13.0 &  17\\\\\n\t 192.000 &  180.00 &  6.5 & 1.9 &  8.4 &  27.0 & 115\\\\\n\t   2.500 &   12.10 &  7.5 & 0.9 &  8.4 &  18.0 &  31\\\\\n\t   4.288 &   39.20 &   NA &  NA & 12.5 &  13.7 &  63\\\\\n\t   0.280 &    1.90 & 10.6 & 2.6 & 13.2 &   4.7 &  21\\\\\n\t   4.235 &   50.40 &  7.4 & 2.4 &  9.8 &   9.8 &  52\\\\\n\t   6.800 &  179.00 &  8.4 & 1.2 &  9.6 &  29.0 & 164\\\\\n\t   0.750 &   12.30 &  5.7 & 0.9 &  6.6 &   7.0 & 225\\\\\n\t   3.600 &   21.00 &  4.9 & 0.5 &  5.4 &   6.0 & 225\\\\\n\t  14.830 &   98.20 &   NA &  NA &  2.6 &  17.0 & 150\\\\\n\t  55.500 &  175.00 &  3.2 & 0.6 &  3.8 &  20.0 & 151\\\\\n\t   1.400 &   12.50 &   NA &  NA & 11.0 &  12.7 &  90\\\\\n\t   0.060 &    1.00 &  8.1 & 2.2 & 10.3 &   3.5 &  NA\\\\\n\t   0.900 &    2.60 & 11.0 & 2.3 & 13.3 &   4.5 &  60\\\\\n\t   2.000 &   12.30 &  4.9 & 0.5 &  5.4 &   7.5 & 200\\\\\n\t   0.104 &    2.50 & 13.2 & 2.6 & 15.8 &   2.3 &  46\\\\\n\t   4.190 &   58.00 &  9.7 & 0.6 & 10.3 &  24.0 & 210\\\\\n\t   3.500 &    3.90 & 12.8 & 6.6 & 19.4 &   3.0 &  14\\\\\n\t   4.050 &   17.00 &   NA &  NA &   NA &  13.0 &  38\\\\\n\\end{tabular}\n",
            "text/plain": [
              "   BodyWgt  BrainWgt NonD Dream Sleep Span  Gest\n",
              "1  6654.000 5712.0     NA  NA    3.3  38.6  645 \n",
              "2     1.000    6.6    6.3 2.0    8.3   4.5   42 \n",
              "3     3.385   44.5     NA  NA   12.5  14.0   60 \n",
              "4     0.920    5.7     NA  NA   16.5    NA   25 \n",
              "5  2547.000 4603.0    2.1 1.8    3.9  69.0  624 \n",
              "6    10.550  179.5    9.1 0.7    9.8  27.0  180 \n",
              "7     0.023    0.3   15.8 3.9   19.7  19.0   35 \n",
              "8   160.000  169.0    5.2 1.0    6.2  30.4  392 \n",
              "9     3.300   25.6   10.9 3.6   14.5  28.0   63 \n",
              "10   52.160  440.0    8.3 1.4    9.7  50.0  230 \n",
              "11    0.425    6.4   11.0 1.5   12.5   7.0  112 \n",
              "12  465.000  423.0    3.2 0.7    3.9  30.0  281 \n",
              "13    0.550    2.4    7.6 2.7   10.3    NA   NA \n",
              "14  187.100  419.0     NA  NA    3.1  40.0  365 \n",
              "15    0.075    1.2    6.3 2.1    8.4   3.5   42 \n",
              "16    3.000   25.0    8.6 0.0    8.6  50.0   28 \n",
              "17    0.785    3.5    6.6 4.1   10.7   6.0   42 \n",
              "18    0.200    5.0    9.5 1.2   10.7  10.4  120 \n",
              "19    1.410   17.5    4.8 1.3    6.1  34.0   NA \n",
              "20   60.000   81.0   12.0 6.1   18.1   7.0   NA \n",
              "21  529.000  680.0     NA 0.3     NA  28.0  400 \n",
              "22   27.660  115.0    3.3 0.5    3.8  20.0  148 \n",
              "23    0.120    1.0   11.0 3.4   14.4   3.9   16 \n",
              "24  207.000  406.0     NA  NA   12.0  39.3  252 \n",
              "25   85.000  325.0    4.7 1.5    6.2  41.0  310 \n",
              "26   36.330  119.5     NA  NA   13.0  16.2   63 \n",
              "27    0.101    4.0   10.4 3.4   13.8   9.0   28 \n",
              "28    1.040    5.5    7.4 0.8    8.2   7.6   68 \n",
              "29  521.000  655.0    2.1 0.8    2.9  46.0  336 \n",
              "30  100.000  157.0     NA  NA   10.8  22.4  100 \n",
              "⋮  ⋮        ⋮        ⋮    ⋮     ⋮     ⋮     ⋮   \n",
              "33   0.010     0.25  17.9 2.0   19.9   24.0  50 \n",
              "34  62.000  1320.00   6.1 1.9    8.0  100.0 267 \n",
              "35   0.122     3.00   8.2 2.4   10.6     NA  30 \n",
              "36   1.350     8.10   8.4 2.8   11.2     NA  45 \n",
              "37   0.023     0.40  11.9 1.3   13.2    3.2  19 \n",
              "38   0.048     0.33  10.8 2.0   12.8    2.0  30 \n",
              "39   1.700     6.30  13.8 5.6   19.4    5.0  12 \n",
              "40   3.500    10.80  14.3 3.1   17.4    6.5 120 \n",
              "41 250.000   490.00    NA 1.0     NA   23.6 440 \n",
              "42   0.480    15.50  15.2 1.8   17.0   12.0 140 \n",
              "43  10.000   115.00  10.0 0.9   10.9   20.2 170 \n",
              "44   1.620    11.40  11.9 1.8   13.7   13.0  17 \n",
              "45 192.000   180.00   6.5 1.9    8.4   27.0 115 \n",
              "46   2.500    12.10   7.5 0.9    8.4   18.0  31 \n",
              "47   4.288    39.20    NA  NA   12.5   13.7  63 \n",
              "48   0.280     1.90  10.6 2.6   13.2    4.7  21 \n",
              "49   4.235    50.40   7.4 2.4    9.8    9.8  52 \n",
              "50   6.800   179.00   8.4 1.2    9.6   29.0 164 \n",
              "51   0.750    12.30   5.7 0.9    6.6    7.0 225 \n",
              "52   3.600    21.00   4.9 0.5    5.4    6.0 225 \n",
              "53  14.830    98.20    NA  NA    2.6   17.0 150 \n",
              "54  55.500   175.00   3.2 0.6    3.8   20.0 151 \n",
              "55   1.400    12.50    NA  NA   11.0   12.7  90 \n",
              "56   0.060     1.00   8.1 2.2   10.3    3.5  NA \n",
              "57   0.900     2.60  11.0 2.3   13.3    4.5  60 \n",
              "58   2.000    12.30   4.9 0.5    5.4    7.5 200 \n",
              "59   0.104     2.50  13.2 2.6   15.8    2.3  46 \n",
              "60   4.190    58.00   9.7 0.6   10.3   24.0 210 \n",
              "61   3.500     3.90  12.8 6.6   19.4    3.0  14 \n",
              "62   4.050    17.00    NA  NA     NA   13.0  38 "
            ]
          },
          "metadata": {}
        },
        {
          "output_type": "display_data",
          "data": {
            "text/html": [
              "<table class=\"dataframe\">\n",
              "<caption>A data.frame: 62 × 7</caption>\n",
              "<thead>\n",
              "\t<tr><th scope=col>BodyWgt</th><th scope=col>BrainWgt</th><th scope=col>NonD</th><th scope=col>Dream</th><th scope=col>Sleep</th><th scope=col>Span</th><th scope=col>Gest</th></tr>\n",
              "\t<tr><th scope=col>&lt;dbl&gt;</th><th scope=col>&lt;dbl&gt;</th><th scope=col>&lt;dbl&gt;</th><th scope=col>&lt;dbl&gt;</th><th scope=col>&lt;dbl&gt;</th><th scope=col>&lt;dbl&gt;</th><th scope=col>&lt;dbl&gt;</th></tr>\n",
              "</thead>\n",
              "<tbody>\n",
              "\t<tr><td>6654.000</td><td>5712.0</td><td> 0.9994382</td><td> 2.2621907</td><td> 3.300000</td><td>38.6000</td><td>645.00000</td></tr>\n",
              "\t<tr><td>   1.000</td><td>   6.6</td><td> 6.3000000</td><td> 2.0000000</td><td> 8.300000</td><td> 4.5000</td><td> 42.00000</td></tr>\n",
              "\t<tr><td>   3.385</td><td>  44.5</td><td>10.0076025</td><td> 2.2431678</td><td>12.500000</td><td>14.0000</td><td> 60.00000</td></tr>\n",
              "\t<tr><td>   0.920</td><td>   5.7</td><td>13.2198412</td><td> 3.2347369</td><td>16.500000</td><td>10.2575</td><td> 25.00000</td></tr>\n",
              "\t<tr><td>2547.000</td><td>4603.0</td><td> 2.1000000</td><td> 1.8000000</td><td> 3.900000</td><td>69.0000</td><td>624.00000</td></tr>\n",
              "\t<tr><td>  10.550</td><td> 179.5</td><td> 9.1000000</td><td> 0.7000000</td><td> 9.800000</td><td>27.0000</td><td>180.00000</td></tr>\n",
              "\t<tr><td>   0.023</td><td>   0.3</td><td>15.8000000</td><td> 3.9000000</td><td>19.700000</td><td>19.0000</td><td> 35.00000</td></tr>\n",
              "\t<tr><td> 160.000</td><td> 169.0</td><td> 5.2000000</td><td> 1.0000000</td><td> 6.200000</td><td>30.4000</td><td>392.00000</td></tr>\n",
              "\t<tr><td>   3.300</td><td>  25.6</td><td>10.9000000</td><td> 3.6000000</td><td>14.500000</td><td>28.0000</td><td> 63.00000</td></tr>\n",
              "\t<tr><td>  52.160</td><td> 440.0</td><td> 8.3000000</td><td> 1.4000000</td><td> 9.700000</td><td>50.0000</td><td>230.00000</td></tr>\n",
              "\t<tr><td>   0.425</td><td>   6.4</td><td>11.0000000</td><td> 1.5000000</td><td>12.500000</td><td> 7.0000</td><td>112.00000</td></tr>\n",
              "\t<tr><td> 465.000</td><td> 423.0</td><td> 3.2000000</td><td> 0.7000000</td><td> 3.900000</td><td>30.0000</td><td>281.00000</td></tr>\n",
              "\t<tr><td>   0.550</td><td>   2.4</td><td> 7.6000000</td><td> 2.7000000</td><td>10.300000</td><td>13.0873</td><td> 90.93273</td></tr>\n",
              "\t<tr><td> 187.100</td><td> 419.0</td><td> 3.1286162</td><td>-0.1813643</td><td> 3.100000</td><td>40.0000</td><td>365.00000</td></tr>\n",
              "\t<tr><td>   0.075</td><td>   1.2</td><td> 6.3000000</td><td> 2.1000000</td><td> 8.400000</td><td> 3.5000</td><td> 42.00000</td></tr>\n",
              "\t<tr><td>   3.000</td><td>  25.0</td><td> 8.6000000</td><td> 0.0000000</td><td> 8.600000</td><td>50.0000</td><td> 28.00000</td></tr>\n",
              "\t<tr><td>   0.785</td><td>   3.5</td><td> 6.6000000</td><td> 4.1000000</td><td>10.700000</td><td> 6.0000</td><td> 42.00000</td></tr>\n",
              "\t<tr><td>   0.200</td><td>   5.0</td><td> 9.5000000</td><td> 1.2000000</td><td>10.700000</td><td>10.4000</td><td>120.00000</td></tr>\n",
              "\t<tr><td>   1.410</td><td>  17.5</td><td> 4.8000000</td><td> 1.3000000</td><td> 6.100000</td><td>34.0000</td><td>183.16246</td></tr>\n",
              "\t<tr><td>  60.000</td><td>  81.0</td><td>12.0000000</td><td> 6.1000000</td><td>18.100000</td><td> 7.0000</td><td>-27.27755</td></tr>\n",
              "\t<tr><td> 529.000</td><td> 680.0</td><td> 5.3247619</td><td> 0.3000000</td><td> 5.376414</td><td>28.0000</td><td>400.00000</td></tr>\n",
              "\t<tr><td>  27.660</td><td> 115.0</td><td> 3.3000000</td><td> 0.5000000</td><td> 3.800000</td><td>20.0000</td><td>148.00000</td></tr>\n",
              "\t<tr><td>   0.120</td><td>   1.0</td><td>11.0000000</td><td> 3.4000000</td><td>14.400000</td><td> 3.9000</td><td> 16.00000</td></tr>\n",
              "\t<tr><td> 207.000</td><td> 406.0</td><td>10.2024887</td><td> 1.9922027</td><td>12.000000</td><td>39.3000</td><td>252.00000</td></tr>\n",
              "\t<tr><td>  85.000</td><td> 325.0</td><td> 4.7000000</td><td> 1.5000000</td><td> 6.200000</td><td>41.0000</td><td>310.00000</td></tr>\n",
              "\t<tr><td>  36.330</td><td> 119.5</td><td>10.3969620</td><td> 2.3876768</td><td>13.000000</td><td>16.2000</td><td> 63.00000</td></tr>\n",
              "\t<tr><td>   0.101</td><td>   4.0</td><td>10.4000000</td><td> 3.4000000</td><td>13.800000</td><td> 9.0000</td><td> 28.00000</td></tr>\n",
              "\t<tr><td>   1.040</td><td>   5.5</td><td> 7.4000000</td><td> 0.8000000</td><td> 8.200000</td><td> 7.6000</td><td> 68.00000</td></tr>\n",
              "\t<tr><td> 521.000</td><td> 655.0</td><td> 2.1000000</td><td> 0.8000000</td><td> 2.900000</td><td>46.0000</td><td>336.00000</td></tr>\n",
              "\t<tr><td> 100.000</td><td> 157.0</td><td> 8.7214186</td><td> 1.7983590</td><td>10.800000</td><td>22.4000</td><td>100.00000</td></tr>\n",
              "\t<tr><td>⋮</td><td>⋮</td><td>⋮</td><td>⋮</td><td>⋮</td><td>⋮</td><td>⋮</td></tr>\n",
              "\t<tr><td>  0.010</td><td>   0.25</td><td>17.900000</td><td> 2.0000000</td><td>19.900000</td><td> 24.00000</td><td> 50.00000</td></tr>\n",
              "\t<tr><td> 62.000</td><td>1320.00</td><td> 6.100000</td><td> 1.9000000</td><td> 8.000000</td><td>100.00000</td><td>267.00000</td></tr>\n",
              "\t<tr><td>  0.122</td><td>   3.00</td><td> 8.200000</td><td> 2.4000000</td><td>10.600000</td><td> 11.40739</td><td> 30.00000</td></tr>\n",
              "\t<tr><td>  1.350</td><td>   8.10</td><td> 8.400000</td><td> 2.8000000</td><td>11.200000</td><td> 11.42224</td><td> 45.00000</td></tr>\n",
              "\t<tr><td>  0.023</td><td>   0.40</td><td>11.900000</td><td> 1.3000000</td><td>13.200000</td><td>  3.20000</td><td> 19.00000</td></tr>\n",
              "\t<tr><td>  0.048</td><td>   0.33</td><td>10.800000</td><td> 2.0000000</td><td>12.800000</td><td>  2.00000</td><td> 30.00000</td></tr>\n",
              "\t<tr><td>  1.700</td><td>   6.30</td><td>13.800000</td><td> 5.6000000</td><td>19.400000</td><td>  5.00000</td><td> 12.00000</td></tr>\n",
              "\t<tr><td>  3.500</td><td>  10.80</td><td>14.300000</td><td> 3.1000000</td><td>17.400000</td><td>  6.50000</td><td>120.00000</td></tr>\n",
              "\t<tr><td>250.000</td><td> 490.00</td><td> 7.127136</td><td> 1.0000000</td><td> 7.304328</td><td> 23.60000</td><td>440.00000</td></tr>\n",
              "\t<tr><td>  0.480</td><td>  15.50</td><td>15.200000</td><td> 1.8000000</td><td>17.000000</td><td> 12.00000</td><td>140.00000</td></tr>\n",
              "\t<tr><td> 10.000</td><td> 115.00</td><td>10.000000</td><td> 0.9000000</td><td>10.900000</td><td> 20.20000</td><td>170.00000</td></tr>\n",
              "\t<tr><td>  1.620</td><td>  11.40</td><td>11.900000</td><td> 1.8000000</td><td>13.700000</td><td> 13.00000</td><td> 17.00000</td></tr>\n",
              "\t<tr><td>192.000</td><td> 180.00</td><td> 6.500000</td><td> 1.9000000</td><td> 8.400000</td><td> 27.00000</td><td>115.00000</td></tr>\n",
              "\t<tr><td>  2.500</td><td>  12.10</td><td> 7.500000</td><td> 0.9000000</td><td> 8.400000</td><td> 18.00000</td><td> 31.00000</td></tr>\n",
              "\t<tr><td>  4.288</td><td>  39.20</td><td>10.020028</td><td> 2.2400960</td><td>12.500000</td><td> 13.70000</td><td> 63.00000</td></tr>\n",
              "\t<tr><td>  0.280</td><td>   1.90</td><td>10.600000</td><td> 2.6000000</td><td>13.200000</td><td>  4.70000</td><td> 21.00000</td></tr>\n",
              "\t<tr><td>  4.235</td><td>  50.40</td><td> 7.400000</td><td> 2.4000000</td><td> 9.800000</td><td>  9.80000</td><td> 52.00000</td></tr>\n",
              "\t<tr><td>  6.800</td><td> 179.00</td><td> 8.400000</td><td> 1.2000000</td><td> 9.600000</td><td> 29.00000</td><td>164.00000</td></tr>\n",
              "\t<tr><td>  0.750</td><td>  12.30</td><td> 5.700000</td><td> 0.9000000</td><td> 6.600000</td><td>  7.00000</td><td>225.00000</td></tr>\n",
              "\t<tr><td>  3.600</td><td>  21.00</td><td> 4.900000</td><td> 0.5000000</td><td> 5.400000</td><td>  6.00000</td><td>225.00000</td></tr>\n",
              "\t<tr><td> 14.830</td><td>  98.20</td><td> 2.010081</td><td>-0.1523714</td><td> 2.600000</td><td> 17.00000</td><td>150.00000</td></tr>\n",
              "\t<tr><td> 55.500</td><td> 175.00</td><td> 3.200000</td><td> 0.6000000</td><td> 3.800000</td><td> 20.00000</td><td>151.00000</td></tr>\n",
              "\t<tr><td>  1.400</td><td>  12.50</td><td> 8.870798</td><td> 1.8581436</td><td>11.000000</td><td> 12.70000</td><td> 90.00000</td></tr>\n",
              "\t<tr><td>  0.060</td><td>   1.00</td><td> 8.100000</td><td> 2.2000000</td><td>10.300000</td><td>  3.50000</td><td> 87.22765</td></tr>\n",
              "\t<tr><td>  0.900</td><td>   2.60</td><td>11.000000</td><td> 2.3000000</td><td>13.300000</td><td>  4.50000</td><td> 60.00000</td></tr>\n",
              "\t<tr><td>  2.000</td><td>  12.30</td><td> 4.900000</td><td> 0.5000000</td><td> 5.400000</td><td>  7.50000</td><td>200.00000</td></tr>\n",
              "\t<tr><td>  0.104</td><td>   2.50</td><td>13.200000</td><td> 2.6000000</td><td>15.800000</td><td>  2.30000</td><td> 46.00000</td></tr>\n",
              "\t<tr><td>  4.190</td><td>  58.00</td><td> 9.700000</td><td> 0.6000000</td><td>10.300000</td><td> 24.00000</td><td>210.00000</td></tr>\n",
              "\t<tr><td>  3.500</td><td>   3.90</td><td>12.800000</td><td> 6.6000000</td><td>19.400000</td><td>  3.00000</td><td> 14.00000</td></tr>\n",
              "\t<tr><td>  4.050</td><td>  17.00</td><td> 6.865083</td><td> 2.9626745</td><td> 6.046639</td><td> 13.00000</td><td> 38.00000</td></tr>\n",
              "</tbody>\n",
              "</table>\n"
            ],
            "text/markdown": "\nA data.frame: 62 × 7\n\n| BodyWgt &lt;dbl&gt; | BrainWgt &lt;dbl&gt; | NonD &lt;dbl&gt; | Dream &lt;dbl&gt; | Sleep &lt;dbl&gt; | Span &lt;dbl&gt; | Gest &lt;dbl&gt; |\n|---|---|---|---|---|---|---|\n| 6654.000 | 5712.0 |  0.9994382 |  2.2621907 |  3.300000 | 38.6000 | 645.00000 |\n|    1.000 |    6.6 |  6.3000000 |  2.0000000 |  8.300000 |  4.5000 |  42.00000 |\n|    3.385 |   44.5 | 10.0076025 |  2.2431678 | 12.500000 | 14.0000 |  60.00000 |\n|    0.920 |    5.7 | 13.2198412 |  3.2347369 | 16.500000 | 10.2575 |  25.00000 |\n| 2547.000 | 4603.0 |  2.1000000 |  1.8000000 |  3.900000 | 69.0000 | 624.00000 |\n|   10.550 |  179.5 |  9.1000000 |  0.7000000 |  9.800000 | 27.0000 | 180.00000 |\n|    0.023 |    0.3 | 15.8000000 |  3.9000000 | 19.700000 | 19.0000 |  35.00000 |\n|  160.000 |  169.0 |  5.2000000 |  1.0000000 |  6.200000 | 30.4000 | 392.00000 |\n|    3.300 |   25.6 | 10.9000000 |  3.6000000 | 14.500000 | 28.0000 |  63.00000 |\n|   52.160 |  440.0 |  8.3000000 |  1.4000000 |  9.700000 | 50.0000 | 230.00000 |\n|    0.425 |    6.4 | 11.0000000 |  1.5000000 | 12.500000 |  7.0000 | 112.00000 |\n|  465.000 |  423.0 |  3.2000000 |  0.7000000 |  3.900000 | 30.0000 | 281.00000 |\n|    0.550 |    2.4 |  7.6000000 |  2.7000000 | 10.300000 | 13.0873 |  90.93273 |\n|  187.100 |  419.0 |  3.1286162 | -0.1813643 |  3.100000 | 40.0000 | 365.00000 |\n|    0.075 |    1.2 |  6.3000000 |  2.1000000 |  8.400000 |  3.5000 |  42.00000 |\n|    3.000 |   25.0 |  8.6000000 |  0.0000000 |  8.600000 | 50.0000 |  28.00000 |\n|    0.785 |    3.5 |  6.6000000 |  4.1000000 | 10.700000 |  6.0000 |  42.00000 |\n|    0.200 |    5.0 |  9.5000000 |  1.2000000 | 10.700000 | 10.4000 | 120.00000 |\n|    1.410 |   17.5 |  4.8000000 |  1.3000000 |  6.100000 | 34.0000 | 183.16246 |\n|   60.000 |   81.0 | 12.0000000 |  6.1000000 | 18.100000 |  7.0000 | -27.27755 |\n|  529.000 |  680.0 |  5.3247619 |  0.3000000 |  5.376414 | 28.0000 | 400.00000 |\n|   27.660 |  115.0 |  3.3000000 |  0.5000000 |  3.800000 | 20.0000 | 148.00000 |\n|    0.120 |    1.0 | 11.0000000 |  3.4000000 | 14.400000 |  3.9000 |  16.00000 |\n|  207.000 |  406.0 | 10.2024887 |  1.9922027 | 12.000000 | 39.3000 | 252.00000 |\n|   85.000 |  325.0 |  4.7000000 |  1.5000000 |  6.200000 | 41.0000 | 310.00000 |\n|   36.330 |  119.5 | 10.3969620 |  2.3876768 | 13.000000 | 16.2000 |  63.00000 |\n|    0.101 |    4.0 | 10.4000000 |  3.4000000 | 13.800000 |  9.0000 |  28.00000 |\n|    1.040 |    5.5 |  7.4000000 |  0.8000000 |  8.200000 |  7.6000 |  68.00000 |\n|  521.000 |  655.0 |  2.1000000 |  0.8000000 |  2.900000 | 46.0000 | 336.00000 |\n|  100.000 |  157.0 |  8.7214186 |  1.7983590 | 10.800000 | 22.4000 | 100.00000 |\n| ⋮ | ⋮ | ⋮ | ⋮ | ⋮ | ⋮ | ⋮ |\n|   0.010 |    0.25 | 17.900000 |  2.0000000 | 19.900000 |  24.00000 |  50.00000 |\n|  62.000 | 1320.00 |  6.100000 |  1.9000000 |  8.000000 | 100.00000 | 267.00000 |\n|   0.122 |    3.00 |  8.200000 |  2.4000000 | 10.600000 |  11.40739 |  30.00000 |\n|   1.350 |    8.10 |  8.400000 |  2.8000000 | 11.200000 |  11.42224 |  45.00000 |\n|   0.023 |    0.40 | 11.900000 |  1.3000000 | 13.200000 |   3.20000 |  19.00000 |\n|   0.048 |    0.33 | 10.800000 |  2.0000000 | 12.800000 |   2.00000 |  30.00000 |\n|   1.700 |    6.30 | 13.800000 |  5.6000000 | 19.400000 |   5.00000 |  12.00000 |\n|   3.500 |   10.80 | 14.300000 |  3.1000000 | 17.400000 |   6.50000 | 120.00000 |\n| 250.000 |  490.00 |  7.127136 |  1.0000000 |  7.304328 |  23.60000 | 440.00000 |\n|   0.480 |   15.50 | 15.200000 |  1.8000000 | 17.000000 |  12.00000 | 140.00000 |\n|  10.000 |  115.00 | 10.000000 |  0.9000000 | 10.900000 |  20.20000 | 170.00000 |\n|   1.620 |   11.40 | 11.900000 |  1.8000000 | 13.700000 |  13.00000 |  17.00000 |\n| 192.000 |  180.00 |  6.500000 |  1.9000000 |  8.400000 |  27.00000 | 115.00000 |\n|   2.500 |   12.10 |  7.500000 |  0.9000000 |  8.400000 |  18.00000 |  31.00000 |\n|   4.288 |   39.20 | 10.020028 |  2.2400960 | 12.500000 |  13.70000 |  63.00000 |\n|   0.280 |    1.90 | 10.600000 |  2.6000000 | 13.200000 |   4.70000 |  21.00000 |\n|   4.235 |   50.40 |  7.400000 |  2.4000000 |  9.800000 |   9.80000 |  52.00000 |\n|   6.800 |  179.00 |  8.400000 |  1.2000000 |  9.600000 |  29.00000 | 164.00000 |\n|   0.750 |   12.30 |  5.700000 |  0.9000000 |  6.600000 |   7.00000 | 225.00000 |\n|   3.600 |   21.00 |  4.900000 |  0.5000000 |  5.400000 |   6.00000 | 225.00000 |\n|  14.830 |   98.20 |  2.010081 | -0.1523714 |  2.600000 |  17.00000 | 150.00000 |\n|  55.500 |  175.00 |  3.200000 |  0.6000000 |  3.800000 |  20.00000 | 151.00000 |\n|   1.400 |   12.50 |  8.870798 |  1.8581436 | 11.000000 |  12.70000 |  90.00000 |\n|   0.060 |    1.00 |  8.100000 |  2.2000000 | 10.300000 |   3.50000 |  87.22765 |\n|   0.900 |    2.60 | 11.000000 |  2.3000000 | 13.300000 |   4.50000 |  60.00000 |\n|   2.000 |   12.30 |  4.900000 |  0.5000000 |  5.400000 |   7.50000 | 200.00000 |\n|   0.104 |    2.50 | 13.200000 |  2.6000000 | 15.800000 |   2.30000 |  46.00000 |\n|   4.190 |   58.00 |  9.700000 |  0.6000000 | 10.300000 |  24.00000 | 210.00000 |\n|   3.500 |    3.90 | 12.800000 |  6.6000000 | 19.400000 |   3.00000 |  14.00000 |\n|   4.050 |   17.00 |  6.865083 |  2.9626745 |  6.046639 |  13.00000 |  38.00000 |\n\n",
            "text/latex": "A data.frame: 62 × 7\n\\begin{tabular}{lllllll}\n BodyWgt & BrainWgt & NonD & Dream & Sleep & Span & Gest\\\\\n <dbl> & <dbl> & <dbl> & <dbl> & <dbl> & <dbl> & <dbl>\\\\\n\\hline\n\t 6654.000 & 5712.0 &  0.9994382 &  2.2621907 &  3.300000 & 38.6000 & 645.00000\\\\\n\t    1.000 &    6.6 &  6.3000000 &  2.0000000 &  8.300000 &  4.5000 &  42.00000\\\\\n\t    3.385 &   44.5 & 10.0076025 &  2.2431678 & 12.500000 & 14.0000 &  60.00000\\\\\n\t    0.920 &    5.7 & 13.2198412 &  3.2347369 & 16.500000 & 10.2575 &  25.00000\\\\\n\t 2547.000 & 4603.0 &  2.1000000 &  1.8000000 &  3.900000 & 69.0000 & 624.00000\\\\\n\t   10.550 &  179.5 &  9.1000000 &  0.7000000 &  9.800000 & 27.0000 & 180.00000\\\\\n\t    0.023 &    0.3 & 15.8000000 &  3.9000000 & 19.700000 & 19.0000 &  35.00000\\\\\n\t  160.000 &  169.0 &  5.2000000 &  1.0000000 &  6.200000 & 30.4000 & 392.00000\\\\\n\t    3.300 &   25.6 & 10.9000000 &  3.6000000 & 14.500000 & 28.0000 &  63.00000\\\\\n\t   52.160 &  440.0 &  8.3000000 &  1.4000000 &  9.700000 & 50.0000 & 230.00000\\\\\n\t    0.425 &    6.4 & 11.0000000 &  1.5000000 & 12.500000 &  7.0000 & 112.00000\\\\\n\t  465.000 &  423.0 &  3.2000000 &  0.7000000 &  3.900000 & 30.0000 & 281.00000\\\\\n\t    0.550 &    2.4 &  7.6000000 &  2.7000000 & 10.300000 & 13.0873 &  90.93273\\\\\n\t  187.100 &  419.0 &  3.1286162 & -0.1813643 &  3.100000 & 40.0000 & 365.00000\\\\\n\t    0.075 &    1.2 &  6.3000000 &  2.1000000 &  8.400000 &  3.5000 &  42.00000\\\\\n\t    3.000 &   25.0 &  8.6000000 &  0.0000000 &  8.600000 & 50.0000 &  28.00000\\\\\n\t    0.785 &    3.5 &  6.6000000 &  4.1000000 & 10.700000 &  6.0000 &  42.00000\\\\\n\t    0.200 &    5.0 &  9.5000000 &  1.2000000 & 10.700000 & 10.4000 & 120.00000\\\\\n\t    1.410 &   17.5 &  4.8000000 &  1.3000000 &  6.100000 & 34.0000 & 183.16246\\\\\n\t   60.000 &   81.0 & 12.0000000 &  6.1000000 & 18.100000 &  7.0000 & -27.27755\\\\\n\t  529.000 &  680.0 &  5.3247619 &  0.3000000 &  5.376414 & 28.0000 & 400.00000\\\\\n\t   27.660 &  115.0 &  3.3000000 &  0.5000000 &  3.800000 & 20.0000 & 148.00000\\\\\n\t    0.120 &    1.0 & 11.0000000 &  3.4000000 & 14.400000 &  3.9000 &  16.00000\\\\\n\t  207.000 &  406.0 & 10.2024887 &  1.9922027 & 12.000000 & 39.3000 & 252.00000\\\\\n\t   85.000 &  325.0 &  4.7000000 &  1.5000000 &  6.200000 & 41.0000 & 310.00000\\\\\n\t   36.330 &  119.5 & 10.3969620 &  2.3876768 & 13.000000 & 16.2000 &  63.00000\\\\\n\t    0.101 &    4.0 & 10.4000000 &  3.4000000 & 13.800000 &  9.0000 &  28.00000\\\\\n\t    1.040 &    5.5 &  7.4000000 &  0.8000000 &  8.200000 &  7.6000 &  68.00000\\\\\n\t  521.000 &  655.0 &  2.1000000 &  0.8000000 &  2.900000 & 46.0000 & 336.00000\\\\\n\t  100.000 &  157.0 &  8.7214186 &  1.7983590 & 10.800000 & 22.4000 & 100.00000\\\\\n\t ⋮ & ⋮ & ⋮ & ⋮ & ⋮ & ⋮ & ⋮\\\\\n\t   0.010 &    0.25 & 17.900000 &  2.0000000 & 19.900000 &  24.00000 &  50.00000\\\\\n\t  62.000 & 1320.00 &  6.100000 &  1.9000000 &  8.000000 & 100.00000 & 267.00000\\\\\n\t   0.122 &    3.00 &  8.200000 &  2.4000000 & 10.600000 &  11.40739 &  30.00000\\\\\n\t   1.350 &    8.10 &  8.400000 &  2.8000000 & 11.200000 &  11.42224 &  45.00000\\\\\n\t   0.023 &    0.40 & 11.900000 &  1.3000000 & 13.200000 &   3.20000 &  19.00000\\\\\n\t   0.048 &    0.33 & 10.800000 &  2.0000000 & 12.800000 &   2.00000 &  30.00000\\\\\n\t   1.700 &    6.30 & 13.800000 &  5.6000000 & 19.400000 &   5.00000 &  12.00000\\\\\n\t   3.500 &   10.80 & 14.300000 &  3.1000000 & 17.400000 &   6.50000 & 120.00000\\\\\n\t 250.000 &  490.00 &  7.127136 &  1.0000000 &  7.304328 &  23.60000 & 440.00000\\\\\n\t   0.480 &   15.50 & 15.200000 &  1.8000000 & 17.000000 &  12.00000 & 140.00000\\\\\n\t  10.000 &  115.00 & 10.000000 &  0.9000000 & 10.900000 &  20.20000 & 170.00000\\\\\n\t   1.620 &   11.40 & 11.900000 &  1.8000000 & 13.700000 &  13.00000 &  17.00000\\\\\n\t 192.000 &  180.00 &  6.500000 &  1.9000000 &  8.400000 &  27.00000 & 115.00000\\\\\n\t   2.500 &   12.10 &  7.500000 &  0.9000000 &  8.400000 &  18.00000 &  31.00000\\\\\n\t   4.288 &   39.20 & 10.020028 &  2.2400960 & 12.500000 &  13.70000 &  63.00000\\\\\n\t   0.280 &    1.90 & 10.600000 &  2.6000000 & 13.200000 &   4.70000 &  21.00000\\\\\n\t   4.235 &   50.40 &  7.400000 &  2.4000000 &  9.800000 &   9.80000 &  52.00000\\\\\n\t   6.800 &  179.00 &  8.400000 &  1.2000000 &  9.600000 &  29.00000 & 164.00000\\\\\n\t   0.750 &   12.30 &  5.700000 &  0.9000000 &  6.600000 &   7.00000 & 225.00000\\\\\n\t   3.600 &   21.00 &  4.900000 &  0.5000000 &  5.400000 &   6.00000 & 225.00000\\\\\n\t  14.830 &   98.20 &  2.010081 & -0.1523714 &  2.600000 &  17.00000 & 150.00000\\\\\n\t  55.500 &  175.00 &  3.200000 &  0.6000000 &  3.800000 &  20.00000 & 151.00000\\\\\n\t   1.400 &   12.50 &  8.870798 &  1.8581436 & 11.000000 &  12.70000 &  90.00000\\\\\n\t   0.060 &    1.00 &  8.100000 &  2.2000000 & 10.300000 &   3.50000 &  87.22765\\\\\n\t   0.900 &    2.60 & 11.000000 &  2.3000000 & 13.300000 &   4.50000 &  60.00000\\\\\n\t   2.000 &   12.30 &  4.900000 &  0.5000000 &  5.400000 &   7.50000 & 200.00000\\\\\n\t   0.104 &    2.50 & 13.200000 &  2.6000000 & 15.800000 &   2.30000 &  46.00000\\\\\n\t   4.190 &   58.00 &  9.700000 &  0.6000000 & 10.300000 &  24.00000 & 210.00000\\\\\n\t   3.500 &    3.90 & 12.800000 &  6.6000000 & 19.400000 &   3.00000 &  14.00000\\\\\n\t   4.050 &   17.00 &  6.865083 &  2.9626745 &  6.046639 &  13.00000 &  38.00000\\\\\n\\end{tabular}\n",
            "text/plain": [
              "   BodyWgt  BrainWgt NonD       Dream      Sleep     Span      Gest     \n",
              "1  6654.000 5712.0    0.9994382  2.2621907  3.300000 38.6000   645.00000\n",
              "2     1.000    6.6    6.3000000  2.0000000  8.300000  4.5000    42.00000\n",
              "3     3.385   44.5   10.0076025  2.2431678 12.500000 14.0000    60.00000\n",
              "4     0.920    5.7   13.2198412  3.2347369 16.500000 10.2575    25.00000\n",
              "5  2547.000 4603.0    2.1000000  1.8000000  3.900000 69.0000   624.00000\n",
              "6    10.550  179.5    9.1000000  0.7000000  9.800000 27.0000   180.00000\n",
              "7     0.023    0.3   15.8000000  3.9000000 19.700000 19.0000    35.00000\n",
              "8   160.000  169.0    5.2000000  1.0000000  6.200000 30.4000   392.00000\n",
              "9     3.300   25.6   10.9000000  3.6000000 14.500000 28.0000    63.00000\n",
              "10   52.160  440.0    8.3000000  1.4000000  9.700000 50.0000   230.00000\n",
              "11    0.425    6.4   11.0000000  1.5000000 12.500000  7.0000   112.00000\n",
              "12  465.000  423.0    3.2000000  0.7000000  3.900000 30.0000   281.00000\n",
              "13    0.550    2.4    7.6000000  2.7000000 10.300000 13.0873    90.93273\n",
              "14  187.100  419.0    3.1286162 -0.1813643  3.100000 40.0000   365.00000\n",
              "15    0.075    1.2    6.3000000  2.1000000  8.400000  3.5000    42.00000\n",
              "16    3.000   25.0    8.6000000  0.0000000  8.600000 50.0000    28.00000\n",
              "17    0.785    3.5    6.6000000  4.1000000 10.700000  6.0000    42.00000\n",
              "18    0.200    5.0    9.5000000  1.2000000 10.700000 10.4000   120.00000\n",
              "19    1.410   17.5    4.8000000  1.3000000  6.100000 34.0000   183.16246\n",
              "20   60.000   81.0   12.0000000  6.1000000 18.100000  7.0000   -27.27755\n",
              "21  529.000  680.0    5.3247619  0.3000000  5.376414 28.0000   400.00000\n",
              "22   27.660  115.0    3.3000000  0.5000000  3.800000 20.0000   148.00000\n",
              "23    0.120    1.0   11.0000000  3.4000000 14.400000  3.9000    16.00000\n",
              "24  207.000  406.0   10.2024887  1.9922027 12.000000 39.3000   252.00000\n",
              "25   85.000  325.0    4.7000000  1.5000000  6.200000 41.0000   310.00000\n",
              "26   36.330  119.5   10.3969620  2.3876768 13.000000 16.2000    63.00000\n",
              "27    0.101    4.0   10.4000000  3.4000000 13.800000  9.0000    28.00000\n",
              "28    1.040    5.5    7.4000000  0.8000000  8.200000  7.6000    68.00000\n",
              "29  521.000  655.0    2.1000000  0.8000000  2.900000 46.0000   336.00000\n",
              "30  100.000  157.0    8.7214186  1.7983590 10.800000 22.4000   100.00000\n",
              "⋮  ⋮        ⋮        ⋮          ⋮          ⋮         ⋮         ⋮        \n",
              "33   0.010     0.25  17.900000   2.0000000 19.900000  24.00000  50.00000\n",
              "34  62.000  1320.00   6.100000   1.9000000  8.000000 100.00000 267.00000\n",
              "35   0.122     3.00   8.200000   2.4000000 10.600000  11.40739  30.00000\n",
              "36   1.350     8.10   8.400000   2.8000000 11.200000  11.42224  45.00000\n",
              "37   0.023     0.40  11.900000   1.3000000 13.200000   3.20000  19.00000\n",
              "38   0.048     0.33  10.800000   2.0000000 12.800000   2.00000  30.00000\n",
              "39   1.700     6.30  13.800000   5.6000000 19.400000   5.00000  12.00000\n",
              "40   3.500    10.80  14.300000   3.1000000 17.400000   6.50000 120.00000\n",
              "41 250.000   490.00   7.127136   1.0000000  7.304328  23.60000 440.00000\n",
              "42   0.480    15.50  15.200000   1.8000000 17.000000  12.00000 140.00000\n",
              "43  10.000   115.00  10.000000   0.9000000 10.900000  20.20000 170.00000\n",
              "44   1.620    11.40  11.900000   1.8000000 13.700000  13.00000  17.00000\n",
              "45 192.000   180.00   6.500000   1.9000000  8.400000  27.00000 115.00000\n",
              "46   2.500    12.10   7.500000   0.9000000  8.400000  18.00000  31.00000\n",
              "47   4.288    39.20  10.020028   2.2400960 12.500000  13.70000  63.00000\n",
              "48   0.280     1.90  10.600000   2.6000000 13.200000   4.70000  21.00000\n",
              "49   4.235    50.40   7.400000   2.4000000  9.800000   9.80000  52.00000\n",
              "50   6.800   179.00   8.400000   1.2000000  9.600000  29.00000 164.00000\n",
              "51   0.750    12.30   5.700000   0.9000000  6.600000   7.00000 225.00000\n",
              "52   3.600    21.00   4.900000   0.5000000  5.400000   6.00000 225.00000\n",
              "53  14.830    98.20   2.010081  -0.1523714  2.600000  17.00000 150.00000\n",
              "54  55.500   175.00   3.200000   0.6000000  3.800000  20.00000 151.00000\n",
              "55   1.400    12.50   8.870798   1.8581436 11.000000  12.70000  90.00000\n",
              "56   0.060     1.00   8.100000   2.2000000 10.300000   3.50000  87.22765\n",
              "57   0.900     2.60  11.000000   2.3000000 13.300000   4.50000  60.00000\n",
              "58   2.000    12.30   4.900000   0.5000000  5.400000   7.50000 200.00000\n",
              "59   0.104     2.50  13.200000   2.6000000 15.800000   2.30000  46.00000\n",
              "60   4.190    58.00   9.700000   0.6000000 10.300000  24.00000 210.00000\n",
              "61   3.500     3.90  12.800000   6.6000000 19.400000   3.00000  14.00000\n",
              "62   4.050    17.00   6.865083   2.9626745  6.046639  13.00000  38.00000"
            ]
          },
          "metadata": {}
        }
      ]
    },
    {
      "cell_type": "code",
      "source": [
        "# Correlación de Pearson\n",
        "\n",
        "visdat::vis_cor(new_sleep_ridge,na_action=\"complete.obs\")\n"
      ],
      "metadata": {
        "id": "9jCwjxbhFjRC",
        "outputId": "ff6fd025-7922-4d45-d255-cb2f080253d6",
        "colab": {
          "base_uri": "https://localhost:8080/",
          "height": 437
        }
      },
      "id": "9jCwjxbhFjRC",
      "execution_count": 38,
      "outputs": [
        {
          "output_type": "display_data",
          "data": {
            "text/plain": [
              "plot without title"
            ],
            "image/png": "[encoded data removed]"
          },
          "metadata": {
            "image/png": {
              "width": 420,
              "height": 420
            }
          }
        }
      ]
    },
    {
      "cell_type": "code",
      "source": [
        "# Correlación de Spearman\n",
        "\n",
        "visdat::vis_cor(new_sleep_ridge,corr_method=\"spearman\",na_action=\"complete.obs\")\n"
      ],
      "metadata": {
        "id": "xxOZIf-eG_Af",
        "outputId": "9a02b05f-46ad-4eab-9fa5-54500e351bdf",
        "colab": {
          "base_uri": "https://localhost:8080/",
          "height": 437
        }
      },
      "id": "xxOZIf-eG_Af",
      "execution_count": 39,
      "outputs": [
        {
          "output_type": "display_data",
          "data": {
            "text/plain": [
              "plot without title"
            ],
            "image/png": "[encoded data removed]"
          },
          "metadata": {
            "image/png": {
              "width": 420,
              "height": 420
            }
          }
        }
      ]
    },
    {
      "cell_type": "markdown",
      "source": [
        "| Característica      | **Correlación de Pearson**            | **Correlación de Spearman**                                  |\n",
        "| ------------------- | ------------------------------------- | ------------------------------------------------------------ |\n",
        "| Tipo de relación    | Lineal                                | Monótona (creciente o decreciente, no necesariamente lineal) |\n",
        "| Datos esperados     | Cuantitativos, normales, sin outliers | Cuantitativos u ordinales, **no requiere normalidad**        |\n",
        "| Sensible a outliers |  Sí, mucho                           |  No, al trabajar con rangos                                 |\n",
        "| Escala utilizada    | Escala original                       | Rangos (datos convertidos a posiciones)                      |\n",
        "\n",
        "\n",
        "**Comparación visual entre ambas matrices**\n",
        "\n",
        "* Matriz de Pearson:\n",
        "\n",
        "Se observan correlaciones muy altas (casi 1) entre algunas variables como BodyWgt y BrainWgt.\n",
        "\n",
        "También aparecen correlaciones negativas marcadas entre variables como Gest y Sleep.\n",
        "\n",
        "Sin embargo, la intensidad puede estar amplificada por outliers o por relaciones no perfectamente lineales.\n",
        "\n",
        "* Matriz de Spearman:\n",
        "\n",
        "Las correlaciones siguen una tendencia similar, pero son más moderadas (es decir, no tan extremas).\n",
        "\n",
        "Las relaciones como BrainWgt ~ BodyWgt siguen siendo fuertes, pero no perfectas.\n",
        "\n",
        "Algunas correlaciones negativas están más suavizadas, lo cual puede reflejar que las relaciones no son lineales, pero sí monótonas.\n",
        "\n",
        "                                                                                             \n",
        "- **Lineal**:\n",
        "\n",
        "Cuando los datos siguen aproximadamente una **línea recta**. Es decir, por cada incremento en X, Y cambia siempre en proporción constante.                                          \n",
        "\n",
        "- **Monótona**:\n",
        "\n",
        "Cuando una variable **siempre aumenta o disminuye con la otra**, pero no necesariamente en línea recta. Puede crecer más rápido, más lento.\n"
      ],
      "metadata": {
        "id": "PDBOj4SKJ438"
      },
      "id": "PDBOj4SKJ438"
    },
    {
      "cell_type": "markdown",
      "source": [
        "**Podemos responder entonces:**\n",
        "\n",
        "- ¿Hay colinealidad?\n",
        "- ¿Qué variables parecen tener una relación no lineal?\n",
        "- ¿Conviene usar Spearman si hay outliers?"
      ],
      "metadata": {
        "id": "CGeIK17bMgoI"
      },
      "id": "CGeIK17bMgoI"
    },
    {
      "cell_type": "markdown",
      "source": [
        "### Covarianza:"
      ],
      "metadata": {
        "id": "VdIyymrdPOuT"
      },
      "id": "VdIyymrdPOuT"
    },
    {
      "cell_type": "code",
      "source": [
        "# Paso 1: Convertimos la matriz de covarianza en data frame y la reestructuramos en formato largo\n",
        "\n",
        "matriz_cov<-cov(new_sleep_ridge)\n",
        "matriz_cov\n",
        "\n",
        "(melted_cov<-as.data.frame(matriz_cov) %>%\n",
        "  mutate(var1=rownames(.)) %>%\n",
        "pivot_longer(\n",
        "   -var1,\n",
        "   names_to=\"var2\",\n",
        "   values_to=\"values\"\n",
        "))\n"
      ],
      "metadata": {
        "id": "h31Aokv5Ngwv",
        "outputId": "5cf4efa5-9734-4a1b-d084-218efdb75593",
        "colab": {
          "base_uri": "https://localhost:8080/",
          "height": 1000
        }
      },
      "id": "h31Aokv5Ngwv",
      "execution_count": 48,
      "outputs": [
        {
          "output_type": "display_data",
          "data": {
            "text/html": [
              "<table class=\"dataframe\">\n",
              "<caption>A matrix: 7 × 7 of type dbl</caption>\n",
              "<thead>\n",
              "\t<tr><th></th><th scope=col>BodyWgt</th><th scope=col>BrainWgt</th><th scope=col>NonD</th><th scope=col>Dream</th><th scope=col>Sleep</th><th scope=col>Span</th><th scope=col>Gest</th></tr>\n",
              "</thead>\n",
              "<tbody>\n",
              "\t<tr><th scope=row>BodyWgt</th><td>808485.12788</td><td>781397.93941</td><td>-1229.715043</td><td>-22.425846</td><td>-1232.878490</td><td>4886.200634</td><td>83557.71429</td></tr>\n",
              "\t<tr><th scope=row>BrainWgt</th><td>781397.93941</td><td>865418.91040</td><td>-1440.635785</td><td>-71.744016</td><td>-1488.319194</td><td>8463.396605</td><td>99254.39883</td></tr>\n",
              "\t<tr><th scope=row>NonD</th><td> -1229.71504</td><td> -1440.63578</td><td>   13.266108</td><td>  2.671611</td><td>   16.056282</td><td> -25.597499</td><td> -323.22174</td></tr>\n",
              "\t<tr><th scope=row>Dream</th><td>   -22.42585</td><td>   -71.74402</td><td>    2.671611</td><td>  1.891803</td><td>    4.418673</td><td>  -7.636914</td><td>  -87.70471</td></tr>\n",
              "\t<tr><th scope=row>Sleep</th><td> -1232.87849</td><td> -1488.31919</td><td>   16.056282</td><td>  4.418673</td><td>   20.976743</td><td> -32.834222</td><td> -403.38586</td></tr>\n",
              "\t<tr><th scope=row>Span</th><td>  4886.20063</td><td>  8463.39660</td><td>  -25.597499</td><td> -7.636914</td><td>  -32.834222</td><td> 314.059478</td><td> 1598.82341</td></tr>\n",
              "\t<tr><th scope=row>Gest</th><td> 83557.71429</td><td> 99254.39883</td><td> -323.221739</td><td>-87.704712</td><td> -403.385864</td><td>1598.823408</td><td>20716.02426</td></tr>\n",
              "</tbody>\n",
              "</table>\n"
            ],
            "text/markdown": "\nA matrix: 7 × 7 of type dbl\n\n| <!--/--> | BodyWgt | BrainWgt | NonD | Dream | Sleep | Span | Gest |\n|---|---|---|---|---|---|---|---|\n| BodyWgt | 808485.12788 | 781397.93941 | -1229.715043 | -22.425846 | -1232.878490 | 4886.200634 | 83557.71429 |\n| BrainWgt | 781397.93941 | 865418.91040 | -1440.635785 | -71.744016 | -1488.319194 | 8463.396605 | 99254.39883 |\n| NonD |  -1229.71504 |  -1440.63578 |    13.266108 |   2.671611 |    16.056282 |  -25.597499 |  -323.22174 |\n| Dream |    -22.42585 |    -71.74402 |     2.671611 |   1.891803 |     4.418673 |   -7.636914 |   -87.70471 |\n| Sleep |  -1232.87849 |  -1488.31919 |    16.056282 |   4.418673 |    20.976743 |  -32.834222 |  -403.38586 |\n| Span |   4886.20063 |   8463.39660 |   -25.597499 |  -7.636914 |   -32.834222 |  314.059478 |  1598.82341 |\n| Gest |  83557.71429 |  99254.39883 |  -323.221739 | -87.704712 |  -403.385864 | 1598.823408 | 20716.02426 |\n\n",
            "text/latex": "A matrix: 7 × 7 of type dbl\n\\begin{tabular}{r|lllllll}\n  & BodyWgt & BrainWgt & NonD & Dream & Sleep & Span & Gest\\\\\n\\hline\n\tBodyWgt & 808485.12788 & 781397.93941 & -1229.715043 & -22.425846 & -1232.878490 & 4886.200634 & 83557.71429\\\\\n\tBrainWgt & 781397.93941 & 865418.91040 & -1440.635785 & -71.744016 & -1488.319194 & 8463.396605 & 99254.39883\\\\\n\tNonD &  -1229.71504 &  -1440.63578 &    13.266108 &   2.671611 &    16.056282 &  -25.597499 &  -323.22174\\\\\n\tDream &    -22.42585 &    -71.74402 &     2.671611 &   1.891803 &     4.418673 &   -7.636914 &   -87.70471\\\\\n\tSleep &  -1232.87849 &  -1488.31919 &    16.056282 &   4.418673 &    20.976743 &  -32.834222 &  -403.38586\\\\\n\tSpan &   4886.20063 &   8463.39660 &   -25.597499 &  -7.636914 &   -32.834222 &  314.059478 &  1598.82341\\\\\n\tGest &  83557.71429 &  99254.39883 &  -323.221739 & -87.704712 &  -403.385864 & 1598.823408 & 20716.02426\\\\\n\\end{tabular}\n",
            "text/plain": [
              "         BodyWgt      BrainWgt     NonD         Dream      Sleep       \n",
              "BodyWgt  808485.12788 781397.93941 -1229.715043 -22.425846 -1232.878490\n",
              "BrainWgt 781397.93941 865418.91040 -1440.635785 -71.744016 -1488.319194\n",
              "NonD      -1229.71504  -1440.63578    13.266108   2.671611    16.056282\n",
              "Dream       -22.42585    -71.74402     2.671611   1.891803     4.418673\n",
              "Sleep     -1232.87849  -1488.31919    16.056282   4.418673    20.976743\n",
              "Span       4886.20063   8463.39660   -25.597499  -7.636914   -32.834222\n",
              "Gest      83557.71429  99254.39883  -323.221739 -87.704712  -403.385864\n",
              "         Span        Gest       \n",
              "BodyWgt  4886.200634 83557.71429\n",
              "BrainWgt 8463.396605 99254.39883\n",
              "NonD      -25.597499  -323.22174\n",
              "Dream      -7.636914   -87.70471\n",
              "Sleep     -32.834222  -403.38586\n",
              "Span      314.059478  1598.82341\n",
              "Gest     1598.823408 20716.02426"
            ]
          },
          "metadata": {}
        },
        {
          "output_type": "display_data",
          "data": {
            "text/html": [
              "<table class=\"dataframe\">\n",
              "<caption>A tibble: 49 × 3</caption>\n",
              "<thead>\n",
              "\t<tr><th scope=col>var1</th><th scope=col>var2</th><th scope=col>values</th></tr>\n",
              "\t<tr><th scope=col>&lt;chr&gt;</th><th scope=col>&lt;chr&gt;</th><th scope=col>&lt;dbl&gt;</th></tr>\n",
              "</thead>\n",
              "<tbody>\n",
              "\t<tr><td>BodyWgt </td><td>BodyWgt </td><td>808485.127878</td></tr>\n",
              "\t<tr><td>BodyWgt </td><td>BrainWgt</td><td>781397.939411</td></tr>\n",
              "\t<tr><td>BodyWgt </td><td>NonD    </td><td> -1229.715043</td></tr>\n",
              "\t<tr><td>BodyWgt </td><td>Dream   </td><td>   -22.425846</td></tr>\n",
              "\t<tr><td>BodyWgt </td><td>Sleep   </td><td> -1232.878490</td></tr>\n",
              "\t<tr><td>BodyWgt </td><td>Span    </td><td>  4886.200634</td></tr>\n",
              "\t<tr><td>BodyWgt </td><td>Gest    </td><td> 83557.714286</td></tr>\n",
              "\t<tr><td>BrainWgt</td><td>BodyWgt </td><td>781397.939411</td></tr>\n",
              "\t<tr><td>BrainWgt</td><td>BrainWgt</td><td>865418.910402</td></tr>\n",
              "\t<tr><td>BrainWgt</td><td>NonD    </td><td> -1440.635785</td></tr>\n",
              "\t<tr><td>BrainWgt</td><td>Dream   </td><td>   -71.744016</td></tr>\n",
              "\t<tr><td>BrainWgt</td><td>Sleep   </td><td> -1488.319194</td></tr>\n",
              "\t<tr><td>BrainWgt</td><td>Span    </td><td>  8463.396605</td></tr>\n",
              "\t<tr><td>BrainWgt</td><td>Gest    </td><td> 99254.398834</td></tr>\n",
              "\t<tr><td>NonD    </td><td>BodyWgt </td><td> -1229.715043</td></tr>\n",
              "\t<tr><td>NonD    </td><td>BrainWgt</td><td> -1440.635785</td></tr>\n",
              "\t<tr><td>NonD    </td><td>NonD    </td><td>    13.266108</td></tr>\n",
              "\t<tr><td>NonD    </td><td>Dream   </td><td>     2.671611</td></tr>\n",
              "\t<tr><td>NonD    </td><td>Sleep   </td><td>    16.056282</td></tr>\n",
              "\t<tr><td>NonD    </td><td>Span    </td><td>   -25.597499</td></tr>\n",
              "\t<tr><td>NonD    </td><td>Gest    </td><td>  -323.221739</td></tr>\n",
              "\t<tr><td>Dream   </td><td>BodyWgt </td><td>   -22.425846</td></tr>\n",
              "\t<tr><td>Dream   </td><td>BrainWgt</td><td>   -71.744016</td></tr>\n",
              "\t<tr><td>Dream   </td><td>NonD    </td><td>     2.671611</td></tr>\n",
              "\t<tr><td>Dream   </td><td>Dream   </td><td>     1.891803</td></tr>\n",
              "\t<tr><td>Dream   </td><td>Sleep   </td><td>     4.418673</td></tr>\n",
              "\t<tr><td>Dream   </td><td>Span    </td><td>    -7.636914</td></tr>\n",
              "\t<tr><td>Dream   </td><td>Gest    </td><td>   -87.704712</td></tr>\n",
              "\t<tr><td>Sleep   </td><td>BodyWgt </td><td> -1232.878490</td></tr>\n",
              "\t<tr><td>Sleep   </td><td>BrainWgt</td><td> -1488.319194</td></tr>\n",
              "\t<tr><td>Sleep   </td><td>NonD    </td><td>    16.056282</td></tr>\n",
              "\t<tr><td>Sleep   </td><td>Dream   </td><td>     4.418673</td></tr>\n",
              "\t<tr><td>Sleep   </td><td>Sleep   </td><td>    20.976743</td></tr>\n",
              "\t<tr><td>Sleep   </td><td>Span    </td><td>   -32.834222</td></tr>\n",
              "\t<tr><td>Sleep   </td><td>Gest    </td><td>  -403.385864</td></tr>\n",
              "\t<tr><td>Span    </td><td>BodyWgt </td><td>  4886.200634</td></tr>\n",
              "\t<tr><td>Span    </td><td>BrainWgt</td><td>  8463.396605</td></tr>\n",
              "\t<tr><td>Span    </td><td>NonD    </td><td>   -25.597499</td></tr>\n",
              "\t<tr><td>Span    </td><td>Dream   </td><td>    -7.636914</td></tr>\n",
              "\t<tr><td>Span    </td><td>Sleep   </td><td>   -32.834222</td></tr>\n",
              "\t<tr><td>Span    </td><td>Span    </td><td>   314.059478</td></tr>\n",
              "\t<tr><td>Span    </td><td>Gest    </td><td>  1598.823408</td></tr>\n",
              "\t<tr><td>Gest    </td><td>BodyWgt </td><td> 83557.714286</td></tr>\n",
              "\t<tr><td>Gest    </td><td>BrainWgt</td><td> 99254.398834</td></tr>\n",
              "\t<tr><td>Gest    </td><td>NonD    </td><td>  -323.221739</td></tr>\n",
              "\t<tr><td>Gest    </td><td>Dream   </td><td>   -87.704712</td></tr>\n",
              "\t<tr><td>Gest    </td><td>Sleep   </td><td>  -403.385864</td></tr>\n",
              "\t<tr><td>Gest    </td><td>Span    </td><td>  1598.823408</td></tr>\n",
              "\t<tr><td>Gest    </td><td>Gest    </td><td> 20716.024260</td></tr>\n",
              "</tbody>\n",
              "</table>\n"
            ],
            "text/markdown": "\nA tibble: 49 × 3\n\n| var1 &lt;chr&gt; | var2 &lt;chr&gt; | values &lt;dbl&gt; |\n|---|---|---|\n| BodyWgt  | BodyWgt  | 808485.127878 |\n| BodyWgt  | BrainWgt | 781397.939411 |\n| BodyWgt  | NonD     |  -1229.715043 |\n| BodyWgt  | Dream    |    -22.425846 |\n| BodyWgt  | Sleep    |  -1232.878490 |\n| BodyWgt  | Span     |   4886.200634 |\n| BodyWgt  | Gest     |  83557.714286 |\n| BrainWgt | BodyWgt  | 781397.939411 |\n| BrainWgt | BrainWgt | 865418.910402 |\n| BrainWgt | NonD     |  -1440.635785 |\n| BrainWgt | Dream    |    -71.744016 |\n| BrainWgt | Sleep    |  -1488.319194 |\n| BrainWgt | Span     |   8463.396605 |\n| BrainWgt | Gest     |  99254.398834 |\n| NonD     | BodyWgt  |  -1229.715043 |\n| NonD     | BrainWgt |  -1440.635785 |\n| NonD     | NonD     |     13.266108 |\n| NonD     | Dream    |      2.671611 |\n| NonD     | Sleep    |     16.056282 |\n| NonD     | Span     |    -25.597499 |\n| NonD     | Gest     |   -323.221739 |\n| Dream    | BodyWgt  |    -22.425846 |\n| Dream    | BrainWgt |    -71.744016 |\n| Dream    | NonD     |      2.671611 |\n| Dream    | Dream    |      1.891803 |\n| Dream    | Sleep    |      4.418673 |\n| Dream    | Span     |     -7.636914 |\n| Dream    | Gest     |    -87.704712 |\n| Sleep    | BodyWgt  |  -1232.878490 |\n| Sleep    | BrainWgt |  -1488.319194 |\n| Sleep    | NonD     |     16.056282 |\n| Sleep    | Dream    |      4.418673 |\n| Sleep    | Sleep    |     20.976743 |\n| Sleep    | Span     |    -32.834222 |\n| Sleep    | Gest     |   -403.385864 |\n| Span     | BodyWgt  |   4886.200634 |\n| Span     | BrainWgt |   8463.396605 |\n| Span     | NonD     |    -25.597499 |\n| Span     | Dream    |     -7.636914 |\n| Span     | Sleep    |    -32.834222 |\n| Span     | Span     |    314.059478 |\n| Span     | Gest     |   1598.823408 |\n| Gest     | BodyWgt  |  83557.714286 |\n| Gest     | BrainWgt |  99254.398834 |\n| Gest     | NonD     |   -323.221739 |\n| Gest     | Dream    |    -87.704712 |\n| Gest     | Sleep    |   -403.385864 |\n| Gest     | Span     |   1598.823408 |\n| Gest     | Gest     |  20716.024260 |\n\n",
            "text/latex": "A tibble: 49 × 3\n\\begin{tabular}{lll}\n var1 & var2 & values\\\\\n <chr> & <chr> & <dbl>\\\\\n\\hline\n\t BodyWgt  & BodyWgt  & 808485.127878\\\\\n\t BodyWgt  & BrainWgt & 781397.939411\\\\\n\t BodyWgt  & NonD     &  -1229.715043\\\\\n\t BodyWgt  & Dream    &    -22.425846\\\\\n\t BodyWgt  & Sleep    &  -1232.878490\\\\\n\t BodyWgt  & Span     &   4886.200634\\\\\n\t BodyWgt  & Gest     &  83557.714286\\\\\n\t BrainWgt & BodyWgt  & 781397.939411\\\\\n\t BrainWgt & BrainWgt & 865418.910402\\\\\n\t BrainWgt & NonD     &  -1440.635785\\\\\n\t BrainWgt & Dream    &    -71.744016\\\\\n\t BrainWgt & Sleep    &  -1488.319194\\\\\n\t BrainWgt & Span     &   8463.396605\\\\\n\t BrainWgt & Gest     &  99254.398834\\\\\n\t NonD     & BodyWgt  &  -1229.715043\\\\\n\t NonD     & BrainWgt &  -1440.635785\\\\\n\t NonD     & NonD     &     13.266108\\\\\n\t NonD     & Dream    &      2.671611\\\\\n\t NonD     & Sleep    &     16.056282\\\\\n\t NonD     & Span     &    -25.597499\\\\\n\t NonD     & Gest     &   -323.221739\\\\\n\t Dream    & BodyWgt  &    -22.425846\\\\\n\t Dream    & BrainWgt &    -71.744016\\\\\n\t Dream    & NonD     &      2.671611\\\\\n\t Dream    & Dream    &      1.891803\\\\\n\t Dream    & Sleep    &      4.418673\\\\\n\t Dream    & Span     &     -7.636914\\\\\n\t Dream    & Gest     &    -87.704712\\\\\n\t Sleep    & BodyWgt  &  -1232.878490\\\\\n\t Sleep    & BrainWgt &  -1488.319194\\\\\n\t Sleep    & NonD     &     16.056282\\\\\n\t Sleep    & Dream    &      4.418673\\\\\n\t Sleep    & Sleep    &     20.976743\\\\\n\t Sleep    & Span     &    -32.834222\\\\\n\t Sleep    & Gest     &   -403.385864\\\\\n\t Span     & BodyWgt  &   4886.200634\\\\\n\t Span     & BrainWgt &   8463.396605\\\\\n\t Span     & NonD     &    -25.597499\\\\\n\t Span     & Dream    &     -7.636914\\\\\n\t Span     & Sleep    &    -32.834222\\\\\n\t Span     & Span     &    314.059478\\\\\n\t Span     & Gest     &   1598.823408\\\\\n\t Gest     & BodyWgt  &  83557.714286\\\\\n\t Gest     & BrainWgt &  99254.398834\\\\\n\t Gest     & NonD     &   -323.221739\\\\\n\t Gest     & Dream    &    -87.704712\\\\\n\t Gest     & Sleep    &   -403.385864\\\\\n\t Gest     & Span     &   1598.823408\\\\\n\t Gest     & Gest     &  20716.024260\\\\\n\\end{tabular}\n",
            "text/plain": [
              "   var1     var2     values       \n",
              "1  BodyWgt  BodyWgt  808485.127878\n",
              "2  BodyWgt  BrainWgt 781397.939411\n",
              "3  BodyWgt  NonD      -1229.715043\n",
              "4  BodyWgt  Dream       -22.425846\n",
              "5  BodyWgt  Sleep     -1232.878490\n",
              "6  BodyWgt  Span       4886.200634\n",
              "7  BodyWgt  Gest      83557.714286\n",
              "8  BrainWgt BodyWgt  781397.939411\n",
              "9  BrainWgt BrainWgt 865418.910402\n",
              "10 BrainWgt NonD      -1440.635785\n",
              "11 BrainWgt Dream       -71.744016\n",
              "12 BrainWgt Sleep     -1488.319194\n",
              "13 BrainWgt Span       8463.396605\n",
              "14 BrainWgt Gest      99254.398834\n",
              "15 NonD     BodyWgt   -1229.715043\n",
              "16 NonD     BrainWgt  -1440.635785\n",
              "17 NonD     NonD         13.266108\n",
              "18 NonD     Dream         2.671611\n",
              "19 NonD     Sleep        16.056282\n",
              "20 NonD     Span        -25.597499\n",
              "21 NonD     Gest       -323.221739\n",
              "22 Dream    BodyWgt     -22.425846\n",
              "23 Dream    BrainWgt    -71.744016\n",
              "24 Dream    NonD          2.671611\n",
              "25 Dream    Dream         1.891803\n",
              "26 Dream    Sleep         4.418673\n",
              "27 Dream    Span         -7.636914\n",
              "28 Dream    Gest        -87.704712\n",
              "29 Sleep    BodyWgt   -1232.878490\n",
              "30 Sleep    BrainWgt  -1488.319194\n",
              "31 Sleep    NonD         16.056282\n",
              "32 Sleep    Dream         4.418673\n",
              "33 Sleep    Sleep        20.976743\n",
              "34 Sleep    Span        -32.834222\n",
              "35 Sleep    Gest       -403.385864\n",
              "36 Span     BodyWgt    4886.200634\n",
              "37 Span     BrainWgt   8463.396605\n",
              "38 Span     NonD        -25.597499\n",
              "39 Span     Dream        -7.636914\n",
              "40 Span     Sleep       -32.834222\n",
              "41 Span     Span        314.059478\n",
              "42 Span     Gest       1598.823408\n",
              "43 Gest     BodyWgt   83557.714286\n",
              "44 Gest     BrainWgt  99254.398834\n",
              "45 Gest     NonD       -323.221739\n",
              "46 Gest     Dream       -87.704712\n",
              "47 Gest     Sleep      -403.385864\n",
              "48 Gest     Span       1598.823408\n",
              "49 Gest     Gest      20716.024260"
            ]
          },
          "metadata": {}
        }
      ]
    },
    {
      "cell_type": "code",
      "source": [
        "# Paso 2: Visualizamos la matriz de covarianza como un mapa de calor con valores incluidos\n",
        "ggplot(melted_cov,aes(x=var1, y=var2, fill=values))+\n",
        "  #geom_title(color=\"white\")+\n",
        "  geom_text(aes(label=round(values,2)), size=3.3, color=\"black\")+\n",
        "  scale_fill_gradient(low=\"blue\", mid=\"white\",high=\"pink\",midpoint=0)+\n",
        "  labs(title=\"Matriz de covarianza\",\n",
        "       fill=\"Covarianza\")+\n",
        "  theme_minimal()+\n",
        "  theme(\n",
        "    legend.title=element_text(size=12),\n",
        "    axis.text.x= element_text(angle=45, hjust = 1,size=12),\n",
        "    axis.text.y= element_text(angle=45, hjust = 1,size=12)\n",
        "  )\n",
        "\n",
        "\n",
        "\n"
      ],
      "metadata": {
        "id": "wtew8Y1kIdpX",
        "outputId": "e6d5b41f-b324-44aa-8603-b4711c83e69a",
        "colab": {
          "base_uri": "https://localhost:8080/",
          "height": 263
        }
      },
      "id": "wtew8Y1kIdpX",
      "execution_count": 56,
      "outputs": [
        {
          "output_type": "error",
          "ename": "ERROR",
          "evalue": "Error in continuous_scale(aesthetics, name = name, palette = pal_seq_gradient(low, : unused arguments (mid = \"white\", midpoint = 0)\n",
          "traceback": [
            "Error in continuous_scale(aesthetics, name = name, palette = pal_seq_gradient(low, : unused arguments (mid = \"white\", midpoint = 0)\nTraceback:\n",
            "1. .handleSimpleError(function (cnd) \n . {\n .     watcher$capture_plot_and_output()\n .     cnd <- sanitize_call(cnd)\n .     watcher$push(cnd)\n .     switch(on_error, continue = invokeRestart(\"eval_continue\"), \n .         stop = invokeRestart(\"eval_stop\"), error = NULL)\n . }, \"unused arguments (mid = \\\"white\\\", midpoint = 0)\", base::quote(continuous_scale(aesthetics, \n .     name = name, palette = pal_seq_gradient(low, high, space), \n .     na.value = na.value, guide = guide, ...)))"
          ]
        }
      ]
    },
    {
      "cell_type": "markdown",
      "source": [
        "¿Qué vemos?:\n",
        "\n",
        "El valor numérico de la covarianza entre dos variables (p. ej. entre BodyWgt y BrainWgt) está asociado con un color rojo más intenso, indicando mayor covarianza positiva.\n",
        "\n",
        "Los valores más cercanos a 0 (blanco o rosa muy claro) indican poca o nula relación lineal conjunta.\n",
        "\n",
        "\n",
        "1. Covarianzas altas y positivas:\n",
        "\n",
        "* BodyWgt con BrainWgt\n",
        "\n",
        "* BodyWgt con Gest\n",
        "\n",
        "* BrainWgt con Gest\n",
        "\n",
        "\n",
        "Estas variables tienden a variar conjuntamente: cuando una aumenta, las otras también. Esto tiene sentido biológico, ya que animales más grandes (mayor BodyWgt) tienden a tener cerebros más grandes (BrainWgt) y gestaciones más largas (Gest).\n",
        "\n",
        "2. Covarianzas negativas\n",
        "\n",
        "* BodyWgt con Sleep\n",
        "* BodyWgt con NonD\n",
        "* Gest con Sleep\n",
        "\n",
        "\n",
        "Estas relaciones indican que cuando una variable aumenta, la otra tiende a disminuir.\n",
        "\n",
        "Por ejemplo:\n",
        "\n",
        "Los animales más grandes tienden a dormir menos.\n",
        "Los animales con mayor gestación también duermen menos (posiblemente especies más longevas, activas o expuestas).\n",
        "\n",
        "3. Covarianzas cercanas a cero\n",
        "\n",
        "* Dream con casi todas las demás variables.\n",
        "* NonD con Dream, Gest, etc.\n",
        "\n",
        "\n",
        "No hay una relación clara ni fuerte entre estas variables en términos de variación conjunta.\n",
        "\n",
        "Es **importante* tener en cuenta que la covarianza depende de las unidades de las variables, por eso hay números muy grandes (como BrainWgt en gramos, por ejemplo).\n",
        "\n",
        "Para comparar más fácilmente entre pares de variables, es mejor usar la correlación, que está normalizada entre -1 y 1.\n",
        "\n",
        "Esta matriz sí es muy útil para detectar agrupaciones de variables altamente relacionadas, como BodyWgt, BrainWgt, Gest."
      ],
      "metadata": {
        "id": "wt9NRS2mSuRP"
      },
      "id": "wt9NRS2mSuRP"
    },
    {
      "cell_type": "markdown",
      "source": [
        "## Tablas de frecuencias y análisis de variables categóricas\n",
        "\n",
        "\n",
        "En esta parte del módulo, nos enfocaremos en reconocer y analizar variables categóricas nominales y ordinales.\n",
        "\n",
        "Para ello, elaboraremos tablas de frecuencias (absolutas y relativas).\n",
        "\n",
        "Vamos a representar visualmente la distribución de variables categóricas.\n",
        "\n",
        "Y exploraremos asociaciones entre variables categóricas (introducción a tablas de contingencia)."
      ],
      "metadata": {
        "id": "G-PTjRpeTkKe"
      },
      "id": "G-PTjRpeTkKe"
    },
    {
      "cell_type": "code",
      "source": [
        "?adorn_pct_formatting"
      ],
      "metadata": {
        "collapsed": true,
        "id": "vx2nFwgDVUd7"
      },
      "id": "vx2nFwgDVUd7",
      "execution_count": 60,
      "outputs": []
    },
    {
      "cell_type": "code",
      "source": [
        "# Cargar el paquete janitor, que incluye funciones útiles para el manejo de tablas categóricas\n",
        "\n",
        "# Tabla de frecuencias absolutas y relativas para la variable 'Danger'\n",
        "sleep_limpio %>%\n",
        "  tabyl(Danger) %>%\n",
        "  arrange(desc(n))%>%\n",
        "  mutate(\n",
        "  freq_acumulada=cumsum(n),\n",
        "  pct= round(percent,2),\n",
        "  pct_acumulado=round(cumsum(percent),2)\n",
        "  )\n",
        "\n",
        "\n",
        "\n",
        "\n",
        "\n",
        "# Tabla de frecuencias para la variable 'Pred'\n",
        "sleep_limpio %>%\n",
        "  tabyl(Pred) %>%\n",
        "  arrange(desc(n))%>%\n",
        "   mutate(\n",
        "  freq_acumulada=cumsum(n)\n",
        "  )\n",
        "  adorn_pct_formatting()\n",
        "\n",
        "\n",
        "\n",
        "\n",
        "\n",
        "\n",
        "# Tabla de frecuencias para la variable 'Exp'\n",
        "\n",
        "sleep_limpio %>%\n",
        "  tabyl(Exp) %>%\n",
        "  arrange(desc(n))%>%\n",
        "   mutate(\n",
        "  freq_acumulada=cumsum(n)\n",
        "  )\n",
        "  adorn_pct_formatting()\n",
        "\n",
        "\n",
        "\n",
        "\n"
      ],
      "metadata": {
        "id": "ETdD0ueBUpTa",
        "outputId": "9fe17c04-89b4-4531-bcfb-606369b52d1f",
        "colab": {
          "base_uri": "https://localhost:8080/",
          "height": 547
        }
      },
      "id": "ETdD0ueBUpTa",
      "execution_count": 78,
      "outputs": [
        {
          "output_type": "display_data",
          "data": {
            "text/html": [
              "<table class=\"dataframe\">\n",
              "<caption>A tabyl: 5 × 6</caption>\n",
              "<thead>\n",
              "\t<tr><th scope=col>Danger</th><th scope=col>n</th><th scope=col>percent</th><th scope=col>freq_acumulada</th><th scope=col>pct</th><th scope=col>pct_acumulado</th></tr>\n",
              "\t<tr><th scope=col>&lt;fct&gt;</th><th scope=col>&lt;int&gt;</th><th scope=col>&lt;dbl&gt;</th><th scope=col>&lt;int&gt;</th><th scope=col>&lt;dbl&gt;</th><th scope=col>&lt;dbl&gt;</th></tr>\n",
              "</thead>\n",
              "<tbody>\n",
              "\t<tr><td>1</td><td>19</td><td>0.3064516</td><td>19</td><td>0.31</td><td>0.31</td></tr>\n",
              "\t<tr><td>2</td><td>14</td><td>0.2258065</td><td>33</td><td>0.23</td><td>0.53</td></tr>\n",
              "\t<tr><td>3</td><td>10</td><td>0.1612903</td><td>43</td><td>0.16</td><td>0.69</td></tr>\n",
              "\t<tr><td>4</td><td>10</td><td>0.1612903</td><td>53</td><td>0.16</td><td>0.85</td></tr>\n",
              "\t<tr><td>5</td><td> 9</td><td>0.1451613</td><td>62</td><td>0.15</td><td>1.00</td></tr>\n",
              "</tbody>\n",
              "</table>\n"
            ],
            "text/markdown": "\nA tabyl: 5 × 6\n\n| Danger &lt;fct&gt; | n &lt;int&gt; | percent &lt;dbl&gt; | freq_acumulada &lt;int&gt; | pct &lt;dbl&gt; | pct_acumulado &lt;dbl&gt; |\n|---|---|---|---|---|---|\n| 1 | 19 | 0.3064516 | 19 | 0.31 | 0.31 |\n| 2 | 14 | 0.2258065 | 33 | 0.23 | 0.53 |\n| 3 | 10 | 0.1612903 | 43 | 0.16 | 0.69 |\n| 4 | 10 | 0.1612903 | 53 | 0.16 | 0.85 |\n| 5 |  9 | 0.1451613 | 62 | 0.15 | 1.00 |\n\n",
            "text/latex": "A tabyl: 5 × 6\n\\begin{tabular}{llllll}\n Danger & n & percent & freq\\_acumulada & pct & pct\\_acumulado\\\\\n <fct> & <int> & <dbl> & <int> & <dbl> & <dbl>\\\\\n\\hline\n\t 1 & 19 & 0.3064516 & 19 & 0.31 & 0.31\\\\\n\t 2 & 14 & 0.2258065 & 33 & 0.23 & 0.53\\\\\n\t 3 & 10 & 0.1612903 & 43 & 0.16 & 0.69\\\\\n\t 4 & 10 & 0.1612903 & 53 & 0.16 & 0.85\\\\\n\t 5 &  9 & 0.1451613 & 62 & 0.15 & 1.00\\\\\n\\end{tabular}\n",
            "text/plain": [
              "  Danger n  percent   freq_acumulada pct  pct_acumulado\n",
              "1 1      19 0.3064516 19             0.31 0.31         \n",
              "2 2      14 0.2258065 33             0.23 0.53         \n",
              "3 3      10 0.1612903 43             0.16 0.69         \n",
              "4 4      10 0.1612903 53             0.16 0.85         \n",
              "5 5       9 0.1451613 62             0.15 1.00         "
            ]
          },
          "metadata": {}
        },
        {
          "output_type": "display_data",
          "data": {
            "text/html": [
              "<table class=\"dataframe\">\n",
              "<caption>A tabyl: 5 × 4</caption>\n",
              "<thead>\n",
              "\t<tr><th scope=col>Pred</th><th scope=col>n</th><th scope=col>percent</th><th scope=col>freq_acumulada</th></tr>\n",
              "\t<tr><th scope=col>&lt;fct&gt;</th><th scope=col>&lt;int&gt;</th><th scope=col>&lt;dbl&gt;</th><th scope=col>&lt;int&gt;</th></tr>\n",
              "</thead>\n",
              "<tbody>\n",
              "\t<tr><td>2</td><td>15</td><td>0.2419355</td><td>15</td></tr>\n",
              "\t<tr><td>1</td><td>14</td><td>0.2258065</td><td>29</td></tr>\n",
              "\t<tr><td>5</td><td>14</td><td>0.2258065</td><td>43</td></tr>\n",
              "\t<tr><td>3</td><td>12</td><td>0.1935484</td><td>55</td></tr>\n",
              "\t<tr><td>4</td><td> 7</td><td>0.1129032</td><td>62</td></tr>\n",
              "</tbody>\n",
              "</table>\n"
            ],
            "text/markdown": "\nA tabyl: 5 × 4\n\n| Pred &lt;fct&gt; | n &lt;int&gt; | percent &lt;dbl&gt; | freq_acumulada &lt;int&gt; |\n|---|---|---|---|\n| 2 | 15 | 0.2419355 | 15 |\n| 1 | 14 | 0.2258065 | 29 |\n| 5 | 14 | 0.2258065 | 43 |\n| 3 | 12 | 0.1935484 | 55 |\n| 4 |  7 | 0.1129032 | 62 |\n\n",
            "text/latex": "A tabyl: 5 × 4\n\\begin{tabular}{llll}\n Pred & n & percent & freq\\_acumulada\\\\\n <fct> & <int> & <dbl> & <int>\\\\\n\\hline\n\t 2 & 15 & 0.2419355 & 15\\\\\n\t 1 & 14 & 0.2258065 & 29\\\\\n\t 5 & 14 & 0.2258065 & 43\\\\\n\t 3 & 12 & 0.1935484 & 55\\\\\n\t 4 &  7 & 0.1129032 & 62\\\\\n\\end{tabular}\n",
            "text/plain": [
              "  Pred n  percent   freq_acumulada\n",
              "1 2    15 0.2419355 15            \n",
              "2 1    14 0.2258065 29            \n",
              "3 5    14 0.2258065 43            \n",
              "4 3    12 0.1935484 55            \n",
              "5 4     7 0.1129032 62            "
            ]
          },
          "metadata": {}
        },
        {
          "output_type": "error",
          "ename": "ERROR",
          "evalue": "Error in adorn_pct_formatting(): argument \"dat\" is missing, with no default\n",
          "traceback": [
            "Error in adorn_pct_formatting(): argument \"dat\" is missing, with no default\nTraceback:\n"
          ]
        }
      ]
    },
    {
      "cell_type": "code",
      "source": [
        "# Gráfico de barras de la variable Danger\n",
        "ggplot(sleep_limpio,aes(Danger))+\n",
        "  geom_bar(fill=\"lightblue\", color=\"pink\")\n",
        "\n"
      ],
      "metadata": {
        "id": "SKbtmegZVe8O",
        "outputId": "726830ca-f29f-4f3f-af41-f551c5a1c563",
        "colab": {
          "base_uri": "https://localhost:8080/",
          "height": 437
        }
      },
      "id": "SKbtmegZVe8O",
      "execution_count": 68,
      "outputs": [
        {
          "output_type": "display_data",
          "data": {
            "text/plain": [
              "plot without title"
            ],
            "image/png": "[encoded data removed]"
          },
          "metadata": {
            "image/png": {
              "width": 420,
              "height": 420
            }
          }
        }
      ]
    },
    {
      "cell_type": "code",
      "source": [
        "# Gráfico de barras de la variable Danger ordenado descendentemente\n",
        "\n",
        "\n",
        "\n"
      ],
      "metadata": {
        "id": "CoMw0ATwVkhh"
      },
      "id": "CoMw0ATwVkhh",
      "execution_count": null,
      "outputs": []
    },
    {
      "cell_type": "code",
      "source": [
        "# Para graficar un pie-chart\n",
        "# ggplo2 no ofrece directamente un pie-chart, por lo que se deben hacer algunos cálculos\n",
        "# Paso 1: Calcular la tabla de frecuencias\n",
        "\n",
        "(tabla_pie<-sleep_limpio %>%\n",
        "  count(Danger)%>%\n",
        "  mutate(\n",
        "  porcentaje=n/sum(n),\n",
        "  etiqueta=paste0(round(porcentaje*100,2),\"%\")\n",
        "  ))\n",
        "\n",
        "\n",
        "\n",
        "\n",
        "# Paso 2: Crear el gráfico de pastel\n",
        "ggplot(tabla_pie,aes(x=\"\", y=porcentaje, fill=Danger))+\n",
        "  geom_bar(stat=\"identity\", width=1)+\n",
        "  coord_polar(\"y\", start=0)+\n",
        "  geom_text(aes(label=etiqueta),\n",
        "  position=position_stack(vjust=0.5),\n",
        "  size=5)+\n",
        "  labs(title=\"Distribución de Danger\", x=\"\",y=\"\", fill=\"Danger\")+\n",
        "  theme_void()\n",
        "    theme(plot.title=element_text(size=16, face=\"bold\"),\n",
        "          legend.title=element_text(size=12))\n",
        "\n",
        "\n",
        "  # Agregar etiquetas de porcentaje centradas en cada porción\n",
        "\n",
        "\n",
        "\n",
        "\n",
        "  # Agregar títulos y leyenda\n",
        "\n",
        "\n",
        "\n",
        "\n",
        "  # Modificar el tamaño del título y leyenda\n",
        "\n",
        "\n",
        "\n"
      ],
      "metadata": {
        "id": "BeRCaAUTb-YA",
        "outputId": "71eb488b-da4d-45e6-fb08-2f2b47c1c46b",
        "colab": {
          "base_uri": "https://localhost:8080/",
          "height": 1000
        }
      },
      "id": "BeRCaAUTb-YA",
      "execution_count": 75,
      "outputs": [
        {
          "output_type": "display_data",
          "data": {
            "text/html": [
              "<table class=\"dataframe\">\n",
              "<caption>A data.frame: 5 × 4</caption>\n",
              "<thead>\n",
              "\t<tr><th scope=col>Danger</th><th scope=col>n</th><th scope=col>porcentaje</th><th scope=col>etiqueta</th></tr>\n",
              "\t<tr><th scope=col>&lt;fct&gt;</th><th scope=col>&lt;int&gt;</th><th scope=col>&lt;dbl&gt;</th><th scope=col>&lt;chr&gt;</th></tr>\n",
              "</thead>\n",
              "<tbody>\n",
              "\t<tr><td>1</td><td>19</td><td>0.3064516</td><td>30.65%</td></tr>\n",
              "\t<tr><td>2</td><td>14</td><td>0.2258065</td><td>22.58%</td></tr>\n",
              "\t<tr><td>3</td><td>10</td><td>0.1612903</td><td>16.13%</td></tr>\n",
              "\t<tr><td>4</td><td>10</td><td>0.1612903</td><td>16.13%</td></tr>\n",
              "\t<tr><td>5</td><td> 9</td><td>0.1451613</td><td>14.52%</td></tr>\n",
              "</tbody>\n",
              "</table>\n"
            ],
            "text/markdown": "\nA data.frame: 5 × 4\n\n| Danger &lt;fct&gt; | n &lt;int&gt; | porcentaje &lt;dbl&gt; | etiqueta &lt;chr&gt; |\n|---|---|---|---|\n| 1 | 19 | 0.3064516 | 30.65% |\n| 2 | 14 | 0.2258065 | 22.58% |\n| 3 | 10 | 0.1612903 | 16.13% |\n| 4 | 10 | 0.1612903 | 16.13% |\n| 5 |  9 | 0.1451613 | 14.52% |\n\n",
            "text/latex": "A data.frame: 5 × 4\n\\begin{tabular}{llll}\n Danger & n & porcentaje & etiqueta\\\\\n <fct> & <int> & <dbl> & <chr>\\\\\n\\hline\n\t 1 & 19 & 0.3064516 & 30.65\\%\\\\\n\t 2 & 14 & 0.2258065 & 22.58\\%\\\\\n\t 3 & 10 & 0.1612903 & 16.13\\%\\\\\n\t 4 & 10 & 0.1612903 & 16.13\\%\\\\\n\t 5 &  9 & 0.1451613 & 14.52\\%\\\\\n\\end{tabular}\n",
            "text/plain": [
              "  Danger n  porcentaje etiqueta\n",
              "1 1      19 0.3064516  30.65%  \n",
              "2 2      14 0.2258065  22.58%  \n",
              "3 3      10 0.1612903  16.13%  \n",
              "4 4      10 0.1612903  16.13%  \n",
              "5 5       9 0.1451613  14.52%  "
            ]
          },
          "metadata": {}
        },
        {
          "output_type": "display_data",
          "data": {
            "text/plain": [
              "List of 2\n",
              " $ legend.title:List of 11\n",
              "  ..$ family       : NULL\n",
              "  ..$ face         : NULL\n",
              "  ..$ colour       : NULL\n",
              "  ..$ size         : num 12\n",
              "  ..$ hjust        : NULL\n",
              "  ..$ vjust        : NULL\n",
              "  ..$ angle        : NULL\n",
              "  ..$ lineheight   : NULL\n",
              "  ..$ margin       : NULL\n",
              "  ..$ debug        : NULL\n",
              "  ..$ inherit.blank: logi FALSE\n",
              "  ..- attr(*, \"class\")= chr [1:2] \"element_text\" \"element\"\n",
              " $ plot.title  :List of 11\n",
              "  ..$ family       : NULL\n",
              "  ..$ face         : chr \"bold\"\n",
              "  ..$ colour       : NULL\n",
              "  ..$ size         : num 16\n",
              "  ..$ hjust        : NULL\n",
              "  ..$ vjust        : NULL\n",
              "  ..$ angle        : NULL\n",
              "  ..$ lineheight   : NULL\n",
              "  ..$ margin       : NULL\n",
              "  ..$ debug        : NULL\n",
              "  ..$ inherit.blank: logi FALSE\n",
              "  ..- attr(*, \"class\")= chr [1:2] \"element_text\" \"element\"\n",
              " - attr(*, \"class\")= chr [1:2] \"theme\" \"gg\"\n",
              " - attr(*, \"complete\")= logi FALSE\n",
              " - attr(*, \"validate\")= logi TRUE"
            ]
          },
          "metadata": {}
        },
        {
          "output_type": "display_data",
          "data": {
            "text/plain": [
              "plot without title"
            ],
            "image/png": "[encoded data removed]"
          },
          "metadata": {
            "image/png": {
              "width": 420,
              "height": 420
            }
          }
        }
      ]
    },
    {
      "cell_type": "code",
      "source": [
        "#Diagarama de barras de la bariable Exp ordenado por frecuencia descendente\n",
        "\n",
        "# Gráfico de barras de la variable Danger\n",
        "ggplot(sleep_limpio,aes(fct_infreq(Exp)))+\n",
        "  geom_bar(fill=\"lightblue\", color=\"pink\")\n"
      ],
      "metadata": {
        "id": "vpNqEZdiWAHI",
        "outputId": "c7c33ccb-a548-4a26-f27f-d713e17be266",
        "colab": {
          "base_uri": "https://localhost:8080/",
          "height": 437
        }
      },
      "id": "vpNqEZdiWAHI",
      "execution_count": 70,
      "outputs": [
        {
          "output_type": "display_data",
          "data": {
            "text/plain": [
              "plot without title"
            ],
            "image/png": "[encoded data removed]"
          },
          "metadata": {
            "image/png": {
              "width": 420,
              "height": 420
            }
          }
        }
      ]
    },
    {
      "cell_type": "code",
      "source": [
        "#Diagrama de frecuencias variable Pred\n",
        "\n",
        "\n",
        "\n"
      ],
      "metadata": {
        "id": "nYSs5OW4WIYX"
      },
      "id": "nYSs5OW4WIYX",
      "execution_count": null,
      "outputs": []
    },
    {
      "cell_type": "code",
      "source": [
        "#Para poder agregar la etiqueta de los porcentajes:\n",
        "\n",
        "# Paso 1: Calcular las frecuencias relativas\n",
        "(tabla_pred<-sleep_limpio %>%\n",
        "  count(Pred)%>%\n",
        "  mutate(\n",
        "  porcentaje=n/sum(n),\n",
        "  etiqueta=paste0(round(porcentaje*100,2),\"%\")\n",
        "  ))\n",
        "\n",
        "\n",
        "# Gráfico de barras de la variable Danger\n",
        "ggplot(tabla_pred,aes(x=fct_infreq(Pred),y=porcentaje))+\n",
        "  geom_col(fill=\"yellow\")+\n",
        "  geom_text(aes(label=etiqueta,vjust=-0.5))+\n",
        "  scale_y_continuous(labels=scales::percent_format(accuracy=1))+\n",
        "labs(title=\"Variable pred ordenada por frecuencia\")+\n",
        "theme_minimal()\n",
        "\n",
        "\n",
        "# Paso 2: Gráfico con etiquetas\n",
        "\n",
        "\n",
        "\n",
        "\n"
      ],
      "metadata": {
        "id": "iGtt-3GYW3Nu",
        "outputId": "368c6247-d5aa-4d1c-85ed-1f2a651d079f",
        "colab": {
          "base_uri": "https://localhost:8080/",
          "height": 675
        }
      },
      "id": "iGtt-3GYW3Nu",
      "execution_count": 77,
      "outputs": [
        {
          "output_type": "display_data",
          "data": {
            "text/html": [
              "<table class=\"dataframe\">\n",
              "<caption>A data.frame: 5 × 4</caption>\n",
              "<thead>\n",
              "\t<tr><th scope=col>Pred</th><th scope=col>n</th><th scope=col>porcentaje</th><th scope=col>etiqueta</th></tr>\n",
              "\t<tr><th scope=col>&lt;fct&gt;</th><th scope=col>&lt;int&gt;</th><th scope=col>&lt;dbl&gt;</th><th scope=col>&lt;chr&gt;</th></tr>\n",
              "</thead>\n",
              "<tbody>\n",
              "\t<tr><td>1</td><td>14</td><td>0.2258065</td><td>22.58%</td></tr>\n",
              "\t<tr><td>2</td><td>15</td><td>0.2419355</td><td>24.19%</td></tr>\n",
              "\t<tr><td>3</td><td>12</td><td>0.1935484</td><td>19.35%</td></tr>\n",
              "\t<tr><td>4</td><td> 7</td><td>0.1129032</td><td>11.29%</td></tr>\n",
              "\t<tr><td>5</td><td>14</td><td>0.2258065</td><td>22.58%</td></tr>\n",
              "</tbody>\n",
              "</table>\n"
            ],
            "text/markdown": "\nA data.frame: 5 × 4\n\n| Pred &lt;fct&gt; | n &lt;int&gt; | porcentaje &lt;dbl&gt; | etiqueta &lt;chr&gt; |\n|---|---|---|---|\n| 1 | 14 | 0.2258065 | 22.58% |\n| 2 | 15 | 0.2419355 | 24.19% |\n| 3 | 12 | 0.1935484 | 19.35% |\n| 4 |  7 | 0.1129032 | 11.29% |\n| 5 | 14 | 0.2258065 | 22.58% |\n\n",
            "text/latex": "A data.frame: 5 × 4\n\\begin{tabular}{llll}\n Pred & n & porcentaje & etiqueta\\\\\n <fct> & <int> & <dbl> & <chr>\\\\\n\\hline\n\t 1 & 14 & 0.2258065 & 22.58\\%\\\\\n\t 2 & 15 & 0.2419355 & 24.19\\%\\\\\n\t 3 & 12 & 0.1935484 & 19.35\\%\\\\\n\t 4 &  7 & 0.1129032 & 11.29\\%\\\\\n\t 5 & 14 & 0.2258065 & 22.58\\%\\\\\n\\end{tabular}\n",
            "text/plain": [
              "  Pred n  porcentaje etiqueta\n",
              "1 1    14 0.2258065  22.58%  \n",
              "2 2    15 0.2419355  24.19%  \n",
              "3 3    12 0.1935484  19.35%  \n",
              "4 4     7 0.1129032  11.29%  \n",
              "5 5    14 0.2258065  22.58%  "
            ]
          },
          "metadata": {}
        },
        {
          "output_type": "display_data",
          "data": {
            "text/plain": [
              "plot without title"
            ],
            "image/png": "[encoded data removed]"
          },
          "metadata": {
            "image/png": {
              "width": 420,
              "height": 420
            }
          }
        }
      ]
    },
    {
      "cell_type": "markdown",
      "source": [
        "### Tablas cruzadas"
      ],
      "metadata": {
        "id": "XcB5bBfd87Qu"
      },
      "id": "XcB5bBfd87Qu"
    },
    {
      "cell_type": "code",
      "source": [
        "# Tabla cruzada entre dos variables categóricas\n",
        "# Tabla cruzada con porcentajes por fila y renombrado\n",
        "sleep_limpio %>%\n",
        "  tabyl(Pred,Danger) %>%\n",
        "  adorn_percentages(\"row\")\n"
      ],
      "metadata": {
        "id": "55p4_f4RWa9H",
        "outputId": "81b1ac8d-ce42-4b24-dd58-fed2dbe78864",
        "colab": {
          "base_uri": "https://localhost:8080/",
          "height": 255
        }
      },
      "id": "55p4_f4RWa9H",
      "execution_count": 79,
      "outputs": [
        {
          "output_type": "display_data",
          "data": {
            "text/html": [
              "<table class=\"dataframe\">\n",
              "<caption>A tabyl: 5 × 6</caption>\n",
              "<thead>\n",
              "\t<tr><th scope=col>Pred</th><th scope=col>1</th><th scope=col>2</th><th scope=col>3</th><th scope=col>4</th><th scope=col>5</th></tr>\n",
              "\t<tr><th scope=col>&lt;fct&gt;</th><th scope=col>&lt;dbl&gt;</th><th scope=col>&lt;dbl&gt;</th><th scope=col>&lt;dbl&gt;</th><th scope=col>&lt;dbl&gt;</th><th scope=col>&lt;dbl&gt;</th></tr>\n",
              "</thead>\n",
              "<tbody>\n",
              "\t<tr><td>1</td><td>1.00000000</td><td>0.0000000</td><td>0.0000000</td><td>0.0000000</td><td>0.0000000</td></tr>\n",
              "\t<tr><td>2</td><td>0.26666667</td><td>0.7333333</td><td>0.0000000</td><td>0.0000000</td><td>0.0000000</td></tr>\n",
              "\t<tr><td>3</td><td>0.08333333</td><td>0.2500000</td><td>0.5000000</td><td>0.1666667</td><td>0.0000000</td></tr>\n",
              "\t<tr><td>4</td><td>0.00000000</td><td>0.0000000</td><td>0.2857143</td><td>0.7142857</td><td>0.0000000</td></tr>\n",
              "\t<tr><td>5</td><td>0.00000000</td><td>0.0000000</td><td>0.1428571</td><td>0.2142857</td><td>0.6428571</td></tr>\n",
              "</tbody>\n",
              "</table>\n"
            ],
            "text/markdown": "\nA tabyl: 5 × 6\n\n| Pred &lt;fct&gt; | 1 &lt;dbl&gt; | 2 &lt;dbl&gt; | 3 &lt;dbl&gt; | 4 &lt;dbl&gt; | 5 &lt;dbl&gt; |\n|---|---|---|---|---|---|\n| 1 | 1.00000000 | 0.0000000 | 0.0000000 | 0.0000000 | 0.0000000 |\n| 2 | 0.26666667 | 0.7333333 | 0.0000000 | 0.0000000 | 0.0000000 |\n| 3 | 0.08333333 | 0.2500000 | 0.5000000 | 0.1666667 | 0.0000000 |\n| 4 | 0.00000000 | 0.0000000 | 0.2857143 | 0.7142857 | 0.0000000 |\n| 5 | 0.00000000 | 0.0000000 | 0.1428571 | 0.2142857 | 0.6428571 |\n\n",
            "text/latex": "A tabyl: 5 × 6\n\\begin{tabular}{llllll}\n Pred & 1 & 2 & 3 & 4 & 5\\\\\n <fct> & <dbl> & <dbl> & <dbl> & <dbl> & <dbl>\\\\\n\\hline\n\t 1 & 1.00000000 & 0.0000000 & 0.0000000 & 0.0000000 & 0.0000000\\\\\n\t 2 & 0.26666667 & 0.7333333 & 0.0000000 & 0.0000000 & 0.0000000\\\\\n\t 3 & 0.08333333 & 0.2500000 & 0.5000000 & 0.1666667 & 0.0000000\\\\\n\t 4 & 0.00000000 & 0.0000000 & 0.2857143 & 0.7142857 & 0.0000000\\\\\n\t 5 & 0.00000000 & 0.0000000 & 0.1428571 & 0.2142857 & 0.6428571\\\\\n\\end{tabular}\n",
            "text/plain": [
              "  Pred 1          2         3         4         5        \n",
              "1 1    1.00000000 0.0000000 0.0000000 0.0000000 0.0000000\n",
              "2 2    0.26666667 0.7333333 0.0000000 0.0000000 0.0000000\n",
              "3 3    0.08333333 0.2500000 0.5000000 0.1666667 0.0000000\n",
              "4 4    0.00000000 0.0000000 0.2857143 0.7142857 0.0000000\n",
              "5 5    0.00000000 0.0000000 0.1428571 0.2142857 0.6428571"
            ]
          },
          "metadata": {}
        }
      ]
    },
    {
      "cell_type": "code",
      "source": [
        "#Diagrama de barras con dos variables categóricas e inclusión de la frecuencia\n",
        "\n",
        "# Paso 1: Calcular proporciones por grupo\n",
        "(tabla_proporciones<-sleep_limpio %>%\n",
        "  count(Pred,Danger) %>%\n",
        "  group_by(Pred) %>%\n",
        "  mutate(\n",
        "  prop=n/sum(n),\n",
        "  etiqueta=paste0(round(prop*100,1),\"%\")\n",
        "  )\n",
        ")\n",
        "\n",
        "\n",
        "\n",
        "\n",
        "# Paso 2: Gráfico de barras apiladas con etiquetas\n",
        "ggplot(tabla_proporciones,aes(x=Pred,y=prop,fill=Danger))+\n",
        "  geom_col(position = \"fill\")+\n",
        "  geom_text(aes(label=etiqueta),\n",
        "                position=position_fill(vjust=0.5),size=3)+\n",
        "  scale_y_continuous(labels=scales::percent_format(accuracy = 1))+\n",
        "  labs(title=\"Relación entre tipo de depredador y peligro representado\",\n",
        "   x=\"Tipo de depredador\", y=\"Proporción\")+\n",
        "theme_minimal()\n",
        "\n",
        "\n",
        "\n",
        "\n",
        "\n",
        "\n"
      ],
      "metadata": {
        "id": "VD0Llg4ZWjPp",
        "outputId": "a117b176-a66f-40d9-f745-fb3fb6801817",
        "colab": {
          "base_uri": "https://localhost:8080/",
          "height": 894
        }
      },
      "id": "VD0Llg4ZWjPp",
      "execution_count": 83,
      "outputs": [
        {
          "output_type": "display_data",
          "data": {
            "text/html": [
              "<table class=\"dataframe\">\n",
              "<caption>A grouped_df: 12 × 5</caption>\n",
              "<thead>\n",
              "\t<tr><th scope=col>Pred</th><th scope=col>Danger</th><th scope=col>n</th><th scope=col>prop</th><th scope=col>etiqueta</th></tr>\n",
              "\t<tr><th scope=col>&lt;fct&gt;</th><th scope=col>&lt;fct&gt;</th><th scope=col>&lt;int&gt;</th><th scope=col>&lt;dbl&gt;</th><th scope=col>&lt;chr&gt;</th></tr>\n",
              "</thead>\n",
              "<tbody>\n",
              "\t<tr><td>1</td><td>1</td><td>14</td><td>1.00000000</td><td>100% </td></tr>\n",
              "\t<tr><td>2</td><td>1</td><td> 4</td><td>0.26666667</td><td>26.7%</td></tr>\n",
              "\t<tr><td>2</td><td>2</td><td>11</td><td>0.73333333</td><td>73.3%</td></tr>\n",
              "\t<tr><td>3</td><td>1</td><td> 1</td><td>0.08333333</td><td>8.3% </td></tr>\n",
              "\t<tr><td>3</td><td>2</td><td> 3</td><td>0.25000000</td><td>25%  </td></tr>\n",
              "\t<tr><td>3</td><td>3</td><td> 6</td><td>0.50000000</td><td>50%  </td></tr>\n",
              "\t<tr><td>3</td><td>4</td><td> 2</td><td>0.16666667</td><td>16.7%</td></tr>\n",
              "\t<tr><td>4</td><td>3</td><td> 2</td><td>0.28571429</td><td>28.6%</td></tr>\n",
              "\t<tr><td>4</td><td>4</td><td> 5</td><td>0.71428571</td><td>71.4%</td></tr>\n",
              "\t<tr><td>5</td><td>3</td><td> 2</td><td>0.14285714</td><td>14.3%</td></tr>\n",
              "\t<tr><td>5</td><td>4</td><td> 3</td><td>0.21428571</td><td>21.4%</td></tr>\n",
              "\t<tr><td>5</td><td>5</td><td> 9</td><td>0.64285714</td><td>64.3%</td></tr>\n",
              "</tbody>\n",
              "</table>\n"
            ],
            "text/markdown": "\nA grouped_df: 12 × 5\n\n| Pred &lt;fct&gt; | Danger &lt;fct&gt; | n &lt;int&gt; | prop &lt;dbl&gt; | etiqueta &lt;chr&gt; |\n|---|---|---|---|---|\n| 1 | 1 | 14 | 1.00000000 | 100%  |\n| 2 | 1 |  4 | 0.26666667 | 26.7% |\n| 2 | 2 | 11 | 0.73333333 | 73.3% |\n| 3 | 1 |  1 | 0.08333333 | 8.3%  |\n| 3 | 2 |  3 | 0.25000000 | 25%   |\n| 3 | 3 |  6 | 0.50000000 | 50%   |\n| 3 | 4 |  2 | 0.16666667 | 16.7% |\n| 4 | 3 |  2 | 0.28571429 | 28.6% |\n| 4 | 4 |  5 | 0.71428571 | 71.4% |\n| 5 | 3 |  2 | 0.14285714 | 14.3% |\n| 5 | 4 |  3 | 0.21428571 | 21.4% |\n| 5 | 5 |  9 | 0.64285714 | 64.3% |\n\n",
            "text/latex": "A grouped\\_df: 12 × 5\n\\begin{tabular}{lllll}\n Pred & Danger & n & prop & etiqueta\\\\\n <fct> & <fct> & <int> & <dbl> & <chr>\\\\\n\\hline\n\t 1 & 1 & 14 & 1.00000000 & 100\\% \\\\\n\t 2 & 1 &  4 & 0.26666667 & 26.7\\%\\\\\n\t 2 & 2 & 11 & 0.73333333 & 73.3\\%\\\\\n\t 3 & 1 &  1 & 0.08333333 & 8.3\\% \\\\\n\t 3 & 2 &  3 & 0.25000000 & 25\\%  \\\\\n\t 3 & 3 &  6 & 0.50000000 & 50\\%  \\\\\n\t 3 & 4 &  2 & 0.16666667 & 16.7\\%\\\\\n\t 4 & 3 &  2 & 0.28571429 & 28.6\\%\\\\\n\t 4 & 4 &  5 & 0.71428571 & 71.4\\%\\\\\n\t 5 & 3 &  2 & 0.14285714 & 14.3\\%\\\\\n\t 5 & 4 &  3 & 0.21428571 & 21.4\\%\\\\\n\t 5 & 5 &  9 & 0.64285714 & 64.3\\%\\\\\n\\end{tabular}\n",
            "text/plain": [
              "   Pred Danger n  prop       etiqueta\n",
              "1  1    1      14 1.00000000 100%    \n",
              "2  2    1       4 0.26666667 26.7%   \n",
              "3  2    2      11 0.73333333 73.3%   \n",
              "4  3    1       1 0.08333333 8.3%    \n",
              "5  3    2       3 0.25000000 25%     \n",
              "6  3    3       6 0.50000000 50%     \n",
              "7  3    4       2 0.16666667 16.7%   \n",
              "8  4    3       2 0.28571429 28.6%   \n",
              "9  4    4       5 0.71428571 71.4%   \n",
              "10 5    3       2 0.14285714 14.3%   \n",
              "11 5    4       3 0.21428571 21.4%   \n",
              "12 5    5       9 0.64285714 64.3%   "
            ]
          },
          "metadata": {}
        },
        {
          "output_type": "display_data",
          "data": {
            "text/plain": [
              "plot without title"
            ],
            "image/png": "[encoded data removed]"
          },
          "metadata": {
            "image/png": {
              "width": 420,
              "height": 420
            }
          }
        }
      ]
    },
    {
      "cell_type": "code",
      "source": [
        "# Análisis de asociación o relación entre dos variables categóricas\n",
        "\n",
        "chisq.test(table(sleep_limpio$Pred, sleep_limpio$Danger))\n",
        "\n",
        "chisq.test(table(sleep_limpio$Pred, sleep_limpio$Exp))\n",
        "\n",
        "chisq.test(table(sleep_limpio$Exp, sleep_limpio$Danger))\n"
      ],
      "metadata": {
        "id": "lj4gvhVpWrzx",
        "outputId": "c371fffd-ed62-4e8c-d758-528ce524f291",
        "colab": {
          "base_uri": "https://localhost:8080/",
          "height": 382
        }
      },
      "id": "lj4gvhVpWrzx",
      "execution_count": 85,
      "outputs": [
        {
          "output_type": "stream",
          "name": "stderr",
          "text": [
            "Warning message in stats::chisq.test(x, y, ...):\n",
            "“Chi-squared approximation may be incorrect”\n"
          ]
        },
        {
          "output_type": "display_data",
          "data": {
            "text/plain": [
              "\n",
              "\tPearson's Chi-squared test\n",
              "\n",
              "data:  table(sleep_limpio$Pred, sleep_limpio$Danger)\n",
              "X-squared = 118.45, df = 16, p-value < 2.2e-16\n"
            ]
          },
          "metadata": {}
        },
        {
          "output_type": "stream",
          "name": "stderr",
          "text": [
            "Warning message in stats::chisq.test(x, y, ...):\n",
            "“Chi-squared approximation may be incorrect”\n"
          ]
        },
        {
          "output_type": "display_data",
          "data": {
            "text/plain": [
              "\n",
              "\tPearson's Chi-squared test\n",
              "\n",
              "data:  table(sleep_limpio$Pred, sleep_limpio$Exp)\n",
              "X-squared = 47.678, df = 16, p-value = 5.335e-05\n"
            ]
          },
          "metadata": {}
        },
        {
          "output_type": "stream",
          "name": "stderr",
          "text": [
            "Warning message in stats::chisq.test(x, y, ...):\n",
            "“Chi-squared approximation may be incorrect”\n"
          ]
        },
        {
          "output_type": "display_data",
          "data": {
            "text/plain": [
              "\n",
              "\tPearson's Chi-squared test\n",
              "\n",
              "data:  table(sleep_limpio$Exp, sleep_limpio$Danger)\n",
              "X-squared = 82.044, df = 16, p-value = 7.11e-11\n"
            ]
          },
          "metadata": {}
        }
      ]
    },
    {
      "cell_type": "markdown",
      "source": [
        "* Si el valor-p es bajo (generalmente < 0.05):\n",
        "\n",
        "Hay evidencia para rechazar la hipótesis nula, por lo que las variables sí están asociadas.\n",
        "\n",
        "* Si el valor-p es alto:\n",
        "\n",
        "No rechazamos la hipótesis nula, por lo que no hay suficiente evidencia para concluir que hay una relación, por lo que las variables parecen independientes.\n",
        "\n",
        "\n",
        "\n",
        "El test de Chi-cuadrado asume que:\n",
        "\n",
        "Al menos el 80% de las celdas deben tener frecuencias esperadas ≥ 5.\n",
        "\n",
        "Ninguna celda debería tener una frecuencia esperada menor que 1.\n",
        "\n",
        "Si esto no se cumple, la aproximación al valor-p usando la distribución Chi² puede no ser confiable, y por eso R nos advierte.\n",
        "\n"
      ],
      "metadata": {
        "id": "d50LNTGN916p"
      },
      "id": "d50LNTGN916p"
    },
    {
      "cell_type": "markdown",
      "source": [
        "## Distribuciones de probabilidad\n",
        "\n",
        "\n",
        "¿Qué es una distribución de probabilidad?\n",
        "\n",
        "Una distribución de probabilidad describe cómo se distribuyen los valores posibles de una variable aleatoria. Es un modelo matemático que asigna una probabilidad a cada valor (discreto) o rango de valores (continuo).\n",
        "\n",
        "Para variables discretas, usamos funciones de masa de probabilidad (como binomial o Poisson).\n",
        "Para variables continuas, usamos funciones de densidad (como la normal o exponencial).\n",
        "\n",
        "\n",
        "\n",
        "\n"
      ],
      "metadata": {
        "id": "PurkXu7Fn8ap"
      },
      "id": "PurkXu7Fn8ap"
    },
    {
      "cell_type": "markdown",
      "source": [
        "### Distribución normal:\n",
        "\n",
        "Es una de las más comunes y útiles en estadística:\n",
        "\n",
        "Tiene forma de campana simétrica.\n",
        "\n",
        "Se define por dos parámetros:\n",
        "\n",
        "* Media (μ)\n",
        "* Desviación estándar (σ)\n",
        "\n",
        "**Ejemplo:**\n",
        "\n",
        "Comparar la distribución empírica de una variable cuantitativa con la teórica normal, usando ggplot2.\n",
        "\n",
        "Usaremos la variable log_BodyWgt (peso logarítmico), ya que anteriormente mostramos que la transformación mejora la simetría y reduce outliers."
      ],
      "metadata": {
        "id": "zlFaEC_Zpc3M"
      },
      "id": "zlFaEC_Zpc3M"
    },
    {
      "cell_type": "code",
      "source": [
        "# Crear gráfico con histograma y curva de densidad normal teórica\n",
        "\n",
        "\n",
        "\n",
        "  # Histograma con densidad (no frecuencia)\n",
        "\n",
        "\n",
        "ggplot(sleep_limpio_bodyweight,aes(log_BodyWgt))+\n",
        "  geom_histogram(\n",
        "  aes(y=..density..),\n",
        "  bin=30, fill=\"skyblue\",color=\"black\")+\n",
        "    stat_function(fun=dnorm,\n",
        "                  args=list(\n",
        "                    mean=mean(sleep_limpio_bodyweight$log_BodyWgt, na.rm=T),\n",
        "                    sd=sd(sleep_limpio_bodyweight$log_BodyWgt, na.rm=T)\n",
        "                    )\n",
        "    )\n",
        "  labs(title = \"Distribución del peso\")+\n",
        "  theme_minimal()\n",
        "\n",
        "\n",
        "\n",
        "  # Curva de densidad normal teórica ajustada a los datos\n",
        "\n",
        "\n",
        "\n",
        "\n",
        "\n",
        "  # Etiquetas y estilo\n",
        "\n",
        "\n",
        "\n",
        "\n"
      ],
      "metadata": {
        "id": "isKnWMVUo0zI",
        "outputId": "2b5d0894-268c-4ae5-d6fb-a8063aa24dbb",
        "colab": {
          "base_uri": "https://localhost:8080/",
          "height": 506
        }
      },
      "id": "isKnWMVUo0zI",
      "execution_count": 88,
      "outputs": [
        {
          "output_type": "stream",
          "name": "stderr",
          "text": [
            "Warning message in geom_histogram(aes(y = ..density..), bin = 30, fill = \"skyblue\", :\n",
            "“\u001b[1m\u001b[22mIgnoring unknown parameters: `bin`”\n",
            "\u001b[1m\u001b[22m`stat_bin()` using `bins = 30`. Pick better value with `binwidth`.\n"
          ]
        },
        {
          "output_type": "display_data",
          "data": {
            "text/plain": [
              "NULL"
            ]
          },
          "metadata": {}
        },
        {
          "output_type": "display_data",
          "data": {
            "text/plain": [
              "plot without title"
            ],
            "image/png": "[encoded data removed]"
          },
          "metadata": {
            "image/png": {
              "width": 420,
              "height": 420
            }
          }
        }
      ]
    },
    {
      "cell_type": "markdown",
      "source": [
        "--------------\n",
        "| Función   | ¿Qué hace?                       | Ejemplo práctico                |\n",
        "| --------- | -------------------------------- | ------------------------------- |\n",
        "| `rnorm()` | Genera datos aleatorios          | Simulación de muestras          |\n",
        "| `dnorm()` | Densidad (altura de la curva)    | Dibujar curva normal            |\n",
        "| `pnorm()` | Probabilidad acumulada           | Calcular $P(X < x)$             |\n",
        "| `qnorm()` | Cuantil inverso (valor de corte) | Buscar z tal que $P(X < z) = p$ |\n",
        "\n",
        "-------------"
      ],
      "metadata": {
        "id": "PH47zSRTAmf0"
      },
      "id": "PH47zSRTAmf0"
    },
    {
      "cell_type": "markdown",
      "source": [
        "**Ejercicio**:\n",
        "\n",
        "Se sabe que el tiempo promedio que duerme un mamífero adulto es de 10 horas al día, con una desviación estándar de 2 horas.\n",
        "Se asume que los tiempos de sueño siguen una distribución normal.\n",
        "\n",
        "\n",
        "Grafica la distribución normal con μ=10 y σ=2.\n",
        "\n",
        "Calcula las siguientes probabilidades:\n",
        "* Que un mamífero duerma más de 12 horas al día.\n",
        "* Que un mamífero duerma entre 8 y 12 horas.\n",
        "* Que un mamífero duerma menos de 6 horas.\n",
        "\n",
        "Visualiza las áreas bajo la curva correspondientes a cada probabilidad.\n",
        "\n",
        "Interpreta los resultados."
      ],
      "metadata": {
        "id": "lndCe_ndytE7"
      },
      "id": "lndCe_ndytE7"
    },
    {
      "cell_type": "code",
      "source": [
        "# Parámetros de la distribución\n",
        "mu <- 10      # media\n",
        "sigma <- 2    # desviación estándar\n",
        "\n",
        "# Secuencia de valores x para graficar la curva\n",
        "x_vals <- seq(0, 20, by = 0.1)\n",
        "\n",
        "# Crear curva de densidad\n",
        "\n",
        "ggplot(data.frame(x=x_vals),aes(x))+\n",
        "      stat_function(fun=dnorm,\n",
        "                  args=list(\n",
        "                    mean=mean(),\n",
        "                    sd=sd(x)\n",
        "                    )\n",
        "    )\n",
        "  labs(title = \"Distribución del peso\")+\n",
        "  theme_minimal()\n",
        "\n",
        "\n",
        "# Cálculo de las probabilidades:\n",
        "# a) P(X > 12)\n",
        "p_mayor_12<-pnorm(12,mean=mu, sd=sigma, lower.tail=FALSE)\n",
        "\n",
        "\n",
        "\n",
        "# b) P(8 < X < 12)\n",
        "\n",
        "p_entre_8_12<-pnorm(12,mean=mu, sd=sigma)-pnorm(8,mean=mu, sd=sigma)\n",
        "\n",
        "\n",
        "# c) P(X < 6)\n",
        "\n",
        "p_menor_6<-pnorm(6,mean=mu, sd=sigma, lower.tail=TRUE)\n",
        "\n",
        "\n",
        "# Resultados\n",
        "cat(\"\")\n",
        "\n"
      ],
      "metadata": {
        "id": "nWc5K5Zq0KtN",
        "outputId": "19647adf-1918-48fb-b831-38f24a6ba9c0",
        "colab": {
          "base_uri": "https://localhost:8080/",
          "height": 228
        }
      },
      "id": "nWc5K5Zq0KtN",
      "execution_count": 89,
      "outputs": [
        {
          "output_type": "error",
          "ename": "ERROR",
          "evalue": "Error in mean.default(): argument \"x\" is missing, with no default\n",
          "traceback": [
            "Error in mean.default(): argument \"x\" is missing, with no default\nTraceback:\n",
            "1. layer(data = data, mapping = mapping, stat = StatFunction, geom = geom, \n .     position = position, show.legend = show.legend, inherit.aes = inherit.aes, \n .     params = list2(fun = fun, n = n, args = args, na.rm = na.rm, \n .         xlim = xlim, ...))",
            "2. list2(fun = fun, n = n, args = args, na.rm = na.rm, xlim = xlim, \n .     ...)",
            "3. mean()",
            "4. mean.default()"
          ]
        }
      ]
    },
    {
      "cell_type": "markdown",
      "source": [
        "### Distribución Binomial\n",
        "\n",
        "Modela el número de éxitos en un número fijo de ensayos independientes con dos posibles resultados: éxito o fracaso.\n",
        "\n",
        "**Ejemplo típico:**\n",
        "\n",
        "Lanzar una moneda 10 veces.\n",
        "Probabilidad de obtener 6 caras.\n",
        "\n",
        "Parámetros de esta distribución:\n",
        "* n = número de ensayos\n",
        "* p = probabilidad de éxito"
      ],
      "metadata": {
        "id": "mdHBLQh5qu-h"
      },
      "id": "mdHBLQh5qu-h"
    },
    {
      "cell_type": "code",
      "source": [
        "# Distribución binomial: 20 ensayos, probabilidad de éxito 0.3\n",
        "(binom_df<-data.frame(\n",
        "  x=0:20,\n",
        "  prob=dbinom(0:20,size=20,prob=0.3)\n",
        "))\n",
        "\n",
        "# Gráfico de barras de la distribución\n",
        "\n",
        "ggplot(binom_df, aes(x=factor(x),y=prob))+\n",
        "  geom_bar(stat=\"identity\", fill=\"skyblue\")+\n",
        "  labs(\n",
        "    title=\"Distribución binomial\",\n",
        "    x=\"número de éxitos\", y=\"Probabilidad\"\n",
        "  )+\n",
        "    theme_minimal()\n",
        "\n",
        "\n",
        "\n"
      ],
      "metadata": {
        "id": "bftgJROtq833",
        "outputId": "671b05e8-62d7-4340-89ec-b79c76670917",
        "colab": {
          "base_uri": "https://localhost:8080/",
          "height": 1000
        }
      },
      "id": "bftgJROtq833",
      "execution_count": 91,
      "outputs": [
        {
          "output_type": "display_data",
          "data": {
            "text/html": [
              "<table class=\"dataframe\">\n",
              "<caption>A data.frame: 21 × 2</caption>\n",
              "<thead>\n",
              "\t<tr><th scope=col>x</th><th scope=col>prob</th></tr>\n",
              "\t<tr><th scope=col>&lt;int&gt;</th><th scope=col>&lt;dbl&gt;</th></tr>\n",
              "</thead>\n",
              "<tbody>\n",
              "\t<tr><td> 0</td><td>7.979227e-04</td></tr>\n",
              "\t<tr><td> 1</td><td>6.839337e-03</td></tr>\n",
              "\t<tr><td> 2</td><td>2.784587e-02</td></tr>\n",
              "\t<tr><td> 3</td><td>7.160367e-02</td></tr>\n",
              "\t<tr><td> 4</td><td>1.304210e-01</td></tr>\n",
              "\t<tr><td> 5</td><td>1.788631e-01</td></tr>\n",
              "\t<tr><td> 6</td><td>1.916390e-01</td></tr>\n",
              "\t<tr><td> 7</td><td>1.642620e-01</td></tr>\n",
              "\t<tr><td> 8</td><td>1.143967e-01</td></tr>\n",
              "\t<tr><td> 9</td><td>6.536957e-02</td></tr>\n",
              "\t<tr><td>10</td><td>3.081708e-02</td></tr>\n",
              "\t<tr><td>11</td><td>1.200665e-02</td></tr>\n",
              "\t<tr><td>12</td><td>3.859282e-03</td></tr>\n",
              "\t<tr><td>13</td><td>1.017833e-03</td></tr>\n",
              "\t<tr><td>14</td><td>2.181070e-04</td></tr>\n",
              "\t<tr><td>15</td><td>3.738977e-05</td></tr>\n",
              "\t<tr><td>16</td><td>5.007558e-06</td></tr>\n",
              "\t<tr><td>17</td><td>5.049639e-07</td></tr>\n",
              "\t<tr><td>18</td><td>3.606885e-08</td></tr>\n",
              "\t<tr><td>19</td><td>1.627166e-09</td></tr>\n",
              "\t<tr><td>20</td><td>3.486784e-11</td></tr>\n",
              "</tbody>\n",
              "</table>\n"
            ],
            "text/markdown": "\nA data.frame: 21 × 2\n\n| x &lt;int&gt; | prob &lt;dbl&gt; |\n|---|---|\n|  0 | 7.979227e-04 |\n|  1 | 6.839337e-03 |\n|  2 | 2.784587e-02 |\n|  3 | 7.160367e-02 |\n|  4 | 1.304210e-01 |\n|  5 | 1.788631e-01 |\n|  6 | 1.916390e-01 |\n|  7 | 1.642620e-01 |\n|  8 | 1.143967e-01 |\n|  9 | 6.536957e-02 |\n| 10 | 3.081708e-02 |\n| 11 | 1.200665e-02 |\n| 12 | 3.859282e-03 |\n| 13 | 1.017833e-03 |\n| 14 | 2.181070e-04 |\n| 15 | 3.738977e-05 |\n| 16 | 5.007558e-06 |\n| 17 | 5.049639e-07 |\n| 18 | 3.606885e-08 |\n| 19 | 1.627166e-09 |\n| 20 | 3.486784e-11 |\n\n",
            "text/latex": "A data.frame: 21 × 2\n\\begin{tabular}{ll}\n x & prob\\\\\n <int> & <dbl>\\\\\n\\hline\n\t  0 & 7.979227e-04\\\\\n\t  1 & 6.839337e-03\\\\\n\t  2 & 2.784587e-02\\\\\n\t  3 & 7.160367e-02\\\\\n\t  4 & 1.304210e-01\\\\\n\t  5 & 1.788631e-01\\\\\n\t  6 & 1.916390e-01\\\\\n\t  7 & 1.642620e-01\\\\\n\t  8 & 1.143967e-01\\\\\n\t  9 & 6.536957e-02\\\\\n\t 10 & 3.081708e-02\\\\\n\t 11 & 1.200665e-02\\\\\n\t 12 & 3.859282e-03\\\\\n\t 13 & 1.017833e-03\\\\\n\t 14 & 2.181070e-04\\\\\n\t 15 & 3.738977e-05\\\\\n\t 16 & 5.007558e-06\\\\\n\t 17 & 5.049639e-07\\\\\n\t 18 & 3.606885e-08\\\\\n\t 19 & 1.627166e-09\\\\\n\t 20 & 3.486784e-11\\\\\n\\end{tabular}\n",
            "text/plain": [
              "   x  prob        \n",
              "1   0 7.979227e-04\n",
              "2   1 6.839337e-03\n",
              "3   2 2.784587e-02\n",
              "4   3 7.160367e-02\n",
              "5   4 1.304210e-01\n",
              "6   5 1.788631e-01\n",
              "7   6 1.916390e-01\n",
              "8   7 1.642620e-01\n",
              "9   8 1.143967e-01\n",
              "10  9 6.536957e-02\n",
              "11 10 3.081708e-02\n",
              "12 11 1.200665e-02\n",
              "13 12 3.859282e-03\n",
              "14 13 1.017833e-03\n",
              "15 14 2.181070e-04\n",
              "16 15 3.738977e-05\n",
              "17 16 5.007558e-06\n",
              "18 17 5.049639e-07\n",
              "19 18 3.606885e-08\n",
              "20 19 1.627166e-09\n",
              "21 20 3.486784e-11"
            ]
          },
          "metadata": {}
        },
        {
          "output_type": "display_data",
          "data": {
            "text/plain": [
              "plot without title"
            ],
            "image/png": "[encoded data removed]"
          },
          "metadata": {
            "image/png": {
              "width": 420,
              "height": 420
            }
          }
        }
      ]
    },
    {
      "cell_type": "markdown",
      "source": [
        "-------------------\n",
        "| Función                 | Qué hace                                              | Ejemplo                              |\n",
        "| ----------------------- | ----------------------------------------------------- | ------------------------------------ |\n",
        "| `rbinom(n, size, prob)` | Simula datos binomiales (n muestras de tamaño `size`) | `rbinom(10, size = 20, prob = 0.5)`  |\n",
        "| `dbinom(x, size, prob)` | Probabilidad exacta $P(X = x)$                        | `dbinom(5, size = 10, prob = 0.5)`   |\n",
        "| `pbinom(q, size, prob)` | Probabilidad acumulada $P(X \\leq q)$                  | `pbinom(6, 10, 0.5)` → $P(X \\leq 6)$ |\n",
        "| `qbinom(p, size, prob)` | Cuantil: valor $x$ tal que $P(X \\leq x) = p$          | `qbinom(0.95, 10, 0.5)`              |\n",
        "\n",
        "-------------\n"
      ],
      "metadata": {
        "id": "fOq775H6A--z"
      },
      "id": "fOq775H6A--z"
    },
    {
      "cell_type": "markdown",
      "source": [
        "**Ejercicio**\n",
        "\n",
        "Un grupo de biólogos está evaluando la peligrosidad de ciertas especies animales. De acuerdo con registros previos, aproximadamente el 40% de los animales evaluados son considerados peligrosos. Se eligen 20 animales al azar.\n",
        "\n",
        "Queremos modelar este proceso como un experimento binomial con: n=20 ensayos (animales seleccionados)\n",
        "y p=0.40 la probabilidad de éxito (que un animal sea peligroso)\n",
        "\n",
        "Para ello, simula la distribución binomial correspondiente al número de animales peligrosos esperados en una muestra de 20.\n",
        "\n",
        "Visualiza la distribución usando un gráfico de barras.\n",
        "\n",
        "Calcula la probabilidad de que:\n",
        "* Exactamente 8 animales sean peligrosos.\n",
        "* Menos de 5 animales sean peligrosos.\n",
        "* Al menos 10 animales sean peligrosos.\n",
        "Interpreta los resultados."
      ],
      "metadata": {
        "id": "xXZ85dh1xkLz"
      },
      "id": "xXZ85dh1xkLz"
    },
    {
      "cell_type": "code",
      "source": [
        "# Parámetros\n",
        "n <- 20      # número de ensayos\n",
        "p <- 0.40    # probabilidad de éxito\n",
        "\n",
        "# Crear distribución binomial\n",
        "binom_df <- data.frame(\n",
        "  x = 0:n,\n",
        "  prob = dbinom(0:n, size = n, prob = p)\n",
        ")\n",
        "\n",
        "# Visualización\n",
        "\n",
        "\n",
        "\n",
        "\n",
        "\n",
        "# Cálculos de probabilidades específicas\n",
        "\n",
        "\n",
        "\n",
        "\n",
        "\n",
        "# Mostrar resultados\n",
        "\n",
        "\n",
        "\n",
        "\n"
      ],
      "metadata": {
        "id": "g7J4ZE2Mx7b6"
      },
      "id": "g7J4ZE2Mx7b6",
      "execution_count": 92,
      "outputs": []
    },
    {
      "cell_type": "markdown",
      "source": [
        "### Distribución de Poisson\n",
        "\n",
        "Modela el número de eventos que ocurren en un intervalo de tiempo o espacio cuando son raros y aleatorios.\n",
        "\n",
        "**Ejemplo típico:**\n",
        "\n",
        "* Número de llamadas por minuto a un centro de atención.\n",
        "* Número de accidentes en una carretera por día.\n",
        "\n",
        "Parámetro:\n",
        "\n",
        "* λ = número medio de eventos en el intervalo.\n",
        "* Si, X∼Poisson(λ), entonces la esperanza y varianza son iguales a λ."
      ],
      "metadata": {
        "id": "420BnyrxrLa7"
      },
      "id": "420BnyrxrLa7"
    },
    {
      "cell_type": "code",
      "source": [
        "# Distribución de Poisson con media 5\n",
        "\n",
        "\n",
        "\n",
        "\n",
        "\n"
      ],
      "metadata": {
        "id": "_BZ1TBRQri2g"
      },
      "id": "_BZ1TBRQri2g",
      "execution_count": null,
      "outputs": []
    },
    {
      "cell_type": "markdown",
      "source": [
        "--------------------\n",
        "\n",
        "| Función            | Qué hace                                               | Ejemplo                  |\n",
        "| ------------------ | ------------------------------------------------------ | ------------------------ |\n",
        "| `rpois(n, lambda)` | Simula conteos con media $\\lambda$                     | `rpois(10, lambda = 4)`  |\n",
        "| `dpois(x, lambda)` | Probabilidad exacta $P(X = x)$                         | `dpois(2, lambda = 3)`   |\n",
        "| `ppois(q, lambda)` | Probabilidad acumulada $P(X \\leq q)$                   | `ppois(4, lambda = 2.5)` |\n",
        "| `qpois(p, lambda)` | Cuantil: valor mínimo $x$ tal que $P(X \\leq x) \\geq p$ | `qpois(0.9, lambda = 3)` |\n",
        "\n",
        "\n",
        "--------------------\n"
      ],
      "metadata": {
        "id": "rWKM-zkoBKmv"
      },
      "id": "rWKM-zkoBKmv"
    },
    {
      "cell_type": "markdown",
      "source": [
        "**Ejercicio**:\n",
        "\n",
        "Un investigador estudia el número de despertares breves que tienen ciertos animales durante el sueño. Se ha observado que, en promedio, ocurren 3 despertares por noche.\n",
        "\n",
        "Queremos modelar este proceso como una distribución de Poisson, con: λ=3 número medio de eventos por unidad de tiempo (noche)\n",
        "\n",
        "\n",
        "Crea la distribución de Poisson con λ=3 para los valores posibles de 0 a 10 despertares.\n",
        "\n",
        "Visualiza la distribución mediante un gráfico de barras.\n",
        "\n",
        "Calcula las siguientes probabilidades:\n",
        "\n",
        "* Que haya exactamente 2 despertares.\n",
        "* Que haya 4 o más despertares.\n",
        "* Que haya entre 1 y 3 despertares (inclusive).\n",
        "\n",
        "Interpreta los resultados."
      ],
      "metadata": {
        "id": "sGD0HXoK0iLU"
      },
      "id": "sGD0HXoK0iLU"
    },
    {
      "cell_type": "code",
      "source": [
        "# Parámetro de la distribución\n",
        "lambda <- 3\n",
        "\n",
        "# Valores posibles de X (número de despertares)\n",
        "x_vals <- 0:10\n",
        "\n",
        "# Crear tabla de probabilidades\n",
        "poisson_df <- data.frame(\n",
        "  x = x_vals,\n",
        "  prob = dpois(x_vals, lambda = lambda)\n",
        ")\n",
        "\n",
        "\n",
        "\n",
        "# Cálculo de las probabilidades:\n",
        "\n",
        "# a) P(X = 2)\n",
        "\n",
        "\n",
        "\n",
        "\n",
        "\n",
        "# b) P(X ≥ 4)\n",
        "\n",
        "\n",
        "\n",
        "\n",
        "\n",
        "# c) P(1 ≤ X ≤ 3)\n",
        "\n",
        "\n",
        "\n",
        "\n",
        "\n",
        "# Mostrar resultados\n",
        "\n",
        "\n",
        "\n",
        "\n"
      ],
      "metadata": {
        "id": "wrcYNJ7u02Ec"
      },
      "id": "wrcYNJ7u02Ec",
      "execution_count": null,
      "outputs": []
    },
    {
      "cell_type": "markdown",
      "source": [
        "### Distribución exponencial:\n",
        "\n",
        "La distribución exponencial es usada para modelar el tiempo entre eventos en un proceso que ocurre de manera aleatoria y continua a una tasa constante.\n",
        "\n",
        "Tiene un solo parámetro: λ (lambda) = tasa de ocurrencia de eventos por unidad de tiempo\n",
        "\n",
        "- **Media**: 1/λ\n",
        "\n",
        "- **Varianza**: 1/λ^2\n"
      ],
      "metadata": {
        "id": "rOKqyGHEtkLK"
      },
      "id": "rOKqyGHEtkLK"
    },
    {
      "cell_type": "code",
      "source": [
        "set.seed(123)  # reproducibilidad\n",
        "\n",
        "# Simular 200 tiempos entre eventos con tasa lambda = 0.5\n",
        "# (es decir, en promedio un evento cada 2 unidades de tiempo)\n",
        "exp_data <- rexp(n = 200, rate = 0.5)\n",
        "\n",
        "# Crear dataframe\n",
        "exp_df <- data.frame(tiempo = exp_data)\n",
        "\n",
        "\n",
        "#Crea el histograma para el tiempo\n",
        "\n",
        "\n",
        "\n"
      ],
      "metadata": {
        "id": "ACel9x89t5RB"
      },
      "id": "ACel9x89t5RB",
      "execution_count": null,
      "outputs": []
    },
    {
      "cell_type": "markdown",
      "source": [
        "--------------------\n",
        "| Función         | Qué hace                                     | Ejemplo                 |\n",
        "| --------------- | -------------------------------------------- | ----------------------- |\n",
        "| `rexp(n, rate)` | Simula datos de tiempos de espera            | `rexp(10, rate = 0.2)`  |\n",
        "| `dexp(x, rate)` | Densidad: valor de $f(x)$                    | `dexp(3, rate = 0.5)`   |\n",
        "| `pexp(q, rate)` | Probabilidad acumulada $P(X \\leq q)$         | `pexp(4, rate = 0.2)`   |\n",
        "| `qexp(p, rate)` | Cuantil: valor $x$ tal que $P(X \\leq x) = p$ | `qexp(0.9, rate = 0.2)` |\n",
        "\n",
        "--------------------"
      ],
      "metadata": {
        "id": "nLxFkWWjBj1V"
      },
      "id": "nLxFkWWjBj1V"
    },
    {
      "cell_type": "markdown",
      "source": [
        "Ejercicio:\n",
        "\n",
        "Simula una variable que represente los tiempos entre visitas a una estación de observación de animales. Supón que los eventos ocurren a una tasa constante de 0.25 visitas por hora.\n",
        "\n",
        "Simula 300 observaciones usando una distribución exponencial con rate = 0.25.\n",
        "\n",
        "Grafica el histograma junto con la curva teórica de densidad.\n",
        "\n",
        "Calcula la media y la varianza observadas.\n",
        "\n",
        "Compara tus resultados con los valores teóricos.\n",
        "\n",
        "Ajusta un nuevo valor de lambda y repite los pasos anteriores. ¿Cómo cambia la distribución?"
      ],
      "metadata": {
        "id": "bimKEtRUvKWa"
      },
      "id": "bimKEtRUvKWa"
    },
    {
      "cell_type": "code",
      "source": [
        "# Paso 1: Simular\n",
        "set.seed(456)\n",
        "tiempos <- rexp(n = 300, rate = 0.25)\n",
        "df_tiempos <- data.frame(tiempo = tiempos)\n",
        "\n",
        "# Paso 2: Visualizar\n",
        "\n",
        "\n",
        "\n",
        "# Paso 3: Estadísticos\n",
        "\n",
        "\n",
        "\n"
      ],
      "metadata": {
        "id": "hDJSzl4OvViu"
      },
      "id": "hDJSzl4OvViu",
      "execution_count": null,
      "outputs": []
    },
    {
      "cell_type": "code",
      "source": [
        "# valor distinto de la tasa:\n",
        "\n",
        "# Paso 1: Simular\n",
        "set.seed(456)\n",
        "tiempos <- rexp(n = 300, rate = 0.75)\n",
        "df_tiempos <- data.frame(tiempo = tiempos)\n",
        "\n",
        "# Paso 2: Visualizar\n",
        "\n",
        "\n",
        "\n",
        "\n",
        "# Paso 3: Estadísticos\n",
        "\n",
        "\n",
        "\n"
      ],
      "metadata": {
        "id": "YnulPdoxAGzY"
      },
      "id": "YnulPdoxAGzY",
      "execution_count": null,
      "outputs": []
    },
    {
      "cell_type": "markdown",
      "source": [
        "# Evaluación final\n",
        "\n"
      ],
      "metadata": {
        "id": "gbOMFFXb1esC"
      },
      "id": "gbOMFFXb1esC"
    },
    {
      "cell_type": "code",
      "source": [
        "# ================================\n",
        "# EJERCICIOS CON EL CONJUNTO DE DATOS DE DIABETES\n",
        "# ================================\n",
        "\n",
        "# Cargar librerías necesarias\n",
        "# (Ya deberían estar instaladas si vienes de la sección anterior)\n",
        "library(VIM)\n",
        "library(dplyr)\n",
        "library(ggplot2)\n",
        "library(tidyr)\n",
        "library(tibble)\n",
        "library(mlbench)\n",
        "library(forcats)\n",
        "library(janitor)\n",
        "\n",
        "# ===================================\n",
        "# EJERCICIO 1: Cargar y explorar el dataset\n",
        "# ===================================\n",
        "# Carga el dataset `PimaIndiansDiabetes` y explóralo con `glimpse()`\n",
        "\n",
        "# Código base:\n",
        "data(PimaIndiansDiabetes)\n",
        "df <- as.data.frame(PimaIndiansDiabetes)\n",
        "\n",
        "# TU CÓDIGO:\n",
        " glimpse(df)\n",
        "\n",
        "\n",
        "# ===================================\n",
        "# EJERCICIO 2: Limpieza de datos\n",
        "# ===================================\n",
        "# Reemplaza los valores 0 por NA en las variables: glucose, pressure y mass\n",
        "\n",
        "# TU CÓDIGO:\n",
        " df <- df %>%\n",
        "   mutate(\n",
        "     glucose = if_else(is.na(glucose), 0, glucose),\n",
        "     pressure = if_else(is.na(pressure), 0, pressure),\n",
        "     mass = if_else(is.na(mass), 0, mass)\n",
        "   )\n",
        " glimpse(df)\n",
        "\n",
        "# ===================================\n",
        "# EJERCICIO 3: Imputación de datos con ridge\n",
        "# ===================================\n",
        "# Imputa los valores faltantes de las variables numéricas usando ridge regression\n",
        "# Usa la función `empire::estimate_ridge`\n",
        "\n",
        "# Selección previa:\n",
        "df_numerico <- df %>% select_if(is.numeric)\n",
        "\n",
        "# TU CÓDIGO:\n",
        "df_imputado <- empire::estimate_ridge(data=df_numerico, diff=10, ridge_alpha=0)$new_dat\n",
        "\n",
        "# ===================================\n",
        "# EJERCICIO 4: Filtrado de mujeres embarazadas\n",
        "# ===================================\n",
        "# Filtra el dataset para quedarte solo con mujeres con al menos 1 embarazo\n",
        "\n",
        "# TU CÓDIGO:\n",
        " df_embarazadas <- df %>%\n",
        "  filter(pregnant > 0)\n",
        "\n",
        "\n",
        "# ===================================\n",
        "# EJERCICIO 5: Crear variable estandarizada de BMI\n",
        "# ===================================\n",
        "# Crea una nueva variable `mass_z` que estandarice la variable `mass` (z-score)\n",
        "\n",
        "# TU CÓDIGO:\n",
        "df_embarazadas <- df_embarazadas %>%\n",
        "  mutate(\n",
        "  mass_z = ((mass - mean(mass, na.rm = TRUE)) / sd(mass, na.rm = TRUE))\n",
        "  )\n",
        "\n",
        "# ===================================\n",
        "# EJERCICIO 6: Estadística descriptiva de glucosa\n",
        "# ===================================\n",
        "# Calcula la media, mediana, desviación típica, mínimo y máximo de `glucose`\n",
        "\n",
        "# TU CÓDIGO:\n",
        "df_embarazadas %>%\n",
        "   summarise(\n",
        "     media = mean(glucose, na.rm = TRUE),\n",
        "     mediana = median(glucose, na.rm = TRUE),\n",
        "     sd = sd(glucose, na.rm = TRUE),\n",
        "     min = min(glucose, na.rm = TRUE),\n",
        "     max = max(glucose, na.rm = TRUE)\n",
        "   )\n",
        "\n",
        "\n",
        "# ===================================\n",
        "# EJERCICIO 7: Histograma con curva normal\n",
        "# ===================================\n",
        "# Dibuja el histograma de glucosa con densidad y superpone la curva normal teórica\n",
        "\n",
        "# TU CÓDIGO:\n",
        "# ggplot(...) +\n",
        "#   geom_histogram(...) +\n",
        "#   stat_function(...) +\n",
        "#   labs(...)\n",
        "ggplot(df,aes(glucose))+\n",
        "  geom_histogram(\n",
        "  aes(y=..density..),\n",
        "  bin=30, fill=\"skyblue\",color=\"black\")+\n",
        "    stat_function(fun=dnorm,\n",
        "                  args=list(\n",
        "                    mean=mean(df$glucose, na.rm=T),\n",
        "                    sd=sd(df$glucose, na.rm=T)\n",
        "                    )\n",
        "    )+\n",
        "  labs(title = \"Distribución de la glucosa\")+\n",
        "  theme_minimal()\n",
        "\n",
        "# ===================================\n",
        "# EJERCICIO 8: Correlación entre glucosa y masa\n",
        "# ===================================\n",
        "# Calcula la correlación entre `glucose` y `mass`, ignorando los NA\n",
        "\n",
        "# TU CÓDIGO:\n",
        "cor(df$glucose, df$mass, use = \"complete.obs\")\n",
        "\n",
        "\n",
        "# ===================================\n",
        "# EJERCICIO 9: Crear grupos de edad\n",
        "# ===================================\n",
        "# Crea una variable `grupo_edad` con cortes: [20,30), [30,40), [40,50), [50,60)\n",
        "\n",
        "# TU CÓDIGO:\n",
        "df_embarazadas <- df_embarazadas %>%\n",
        "   mutate(grupo_edad = cut(age,breaks = c(20, 30, 40, 50, 60)))\n",
        "\n",
        "\n",
        "# ===================================\n",
        "# EJERCICIO 10: Tabla cruzada\n",
        "# ===================================\n",
        "# Crea una tabla cruzada entre `diabetes` y `grupo_edad`\n",
        "\n",
        "# TU CÓDIGO:\n",
        "# table(..., ...)\n",
        "df_embarazadas %>%\n",
        "  tabyl(diabetes,grupo_edad) %>%\n",
        "  adorn_percentages(\"row\")\n",
        "\n",
        "# ===================================\n",
        "# EJERCICIO 11: Unión con tabla externa\n",
        "# ===================================\n",
        "# Usa la tabla `recomendaciones` para añadir una columna con la recomendación\n",
        "# de salud según grupo de edad y diabetes. Usa `left_join`.\n",
        "\n",
        "recomendaciones <- tibble(\n",
        "  grupo_edad = c(\"[20,30)\", \"[30,40)\", \"[40,50)\", \"[50,60)\", \"[60,90)\"),\n",
        "  diabetes = c(\"pos\", \"neg\", \"pos\", \"neg\", \"pos\"),\n",
        "  recomendacion = c(\n",
        "    \"Revisión semestral\",\n",
        "    \"Promover actividad física\",\n",
        "    \"Controles nutricionales\",\n",
        "    \"Revisión anual\",\n",
        "    \"Seguimiento médico mensual\"\n",
        "  )\n",
        ")\n",
        "\n",
        "# TU CÓDIGO:\n",
        "# df_embarazadas <- df_embarazadas %>%\n",
        "#   left_join(...)\n",
        "\n",
        "# Visualizar resultado:\n",
        "# View(df_embarazadas)\n",
        "\n"
      ],
      "metadata": {
        "id": "47JYccbtF21L",
        "outputId": "dbbf6d17-deb5-430f-cb9c-cd2061573619",
        "colab": {
          "base_uri": "https://localhost:8080/",
          "height": 1000
        }
      },
      "id": "47JYccbtF21L",
      "execution_count": 109,
      "outputs": [
        {
          "output_type": "stream",
          "name": "stdout",
          "text": [
            "Rows: 768\n",
            "Columns: 9\n",
            "$ pregnant \u001b[3m\u001b[90m<dbl>\u001b[39m\u001b[23m 6\u001b[90m, \u001b[39m1\u001b[90m, \u001b[39m8\u001b[90m, \u001b[39m1\u001b[90m, \u001b[39m0\u001b[90m, \u001b[39m5\u001b[90m, \u001b[39m3\u001b[90m, \u001b[39m10\u001b[90m, \u001b[39m2\u001b[90m, \u001b[39m8\u001b[90m, \u001b[39m4\u001b[90m, \u001b[39m10\u001b[90m, \u001b[39m10\u001b[90m, \u001b[39m1\u001b[90m, \u001b[39m5\u001b[90m, \u001b[39m7\u001b[90m, \u001b[39m0\u001b[90m, \u001b[39m7\u001b[90m, \u001b[39m1\u001b[90m, \u001b[39m1…\n",
            "$ glucose  \u001b[3m\u001b[90m<dbl>\u001b[39m\u001b[23m 148\u001b[90m, \u001b[39m85\u001b[90m, \u001b[39m183\u001b[90m, \u001b[39m89\u001b[90m, \u001b[39m137\u001b[90m, \u001b[39m116\u001b[90m, \u001b[39m78\u001b[90m, \u001b[39m115\u001b[90m, \u001b[39m197\u001b[90m, \u001b[39m125\u001b[90m, \u001b[39m110\u001b[90m, \u001b[39m168\u001b[90m, \u001b[39m139\u001b[90m,\u001b[39m…\n",
            "$ pressure \u001b[3m\u001b[90m<dbl>\u001b[39m\u001b[23m 72\u001b[90m, \u001b[39m66\u001b[90m, \u001b[39m64\u001b[90m, \u001b[39m66\u001b[90m, \u001b[39m40\u001b[90m, \u001b[39m74\u001b[90m, \u001b[39m50\u001b[90m, \u001b[39m0\u001b[90m, \u001b[39m70\u001b[90m, \u001b[39m96\u001b[90m, \u001b[39m92\u001b[90m, \u001b[39m74\u001b[90m, \u001b[39m80\u001b[90m, \u001b[39m60\u001b[90m, \u001b[39m72\u001b[90m, \u001b[39m0\u001b[90m,\u001b[39m…\n",
            "$ triceps  \u001b[3m\u001b[90m<dbl>\u001b[39m\u001b[23m 35\u001b[90m, \u001b[39m29\u001b[90m, \u001b[39m0\u001b[90m, \u001b[39m23\u001b[90m, \u001b[39m35\u001b[90m, \u001b[39m0\u001b[90m, \u001b[39m32\u001b[90m, \u001b[39m0\u001b[90m, \u001b[39m45\u001b[90m, \u001b[39m0\u001b[90m, \u001b[39m0\u001b[90m, \u001b[39m0\u001b[90m, \u001b[39m0\u001b[90m, \u001b[39m23\u001b[90m, \u001b[39m19\u001b[90m, \u001b[39m0\u001b[90m, \u001b[39m47\u001b[90m, \u001b[39m0…\n",
            "$ insulin  \u001b[3m\u001b[90m<dbl>\u001b[39m\u001b[23m 0\u001b[90m, \u001b[39m0\u001b[90m, \u001b[39m0\u001b[90m, \u001b[39m94\u001b[90m, \u001b[39m168\u001b[90m, \u001b[39m0\u001b[90m, \u001b[39m88\u001b[90m, \u001b[39m0\u001b[90m, \u001b[39m543\u001b[90m, \u001b[39m0\u001b[90m, \u001b[39m0\u001b[90m, \u001b[39m0\u001b[90m, \u001b[39m0\u001b[90m, \u001b[39m846\u001b[90m, \u001b[39m175\u001b[90m, \u001b[39m0\u001b[90m, \u001b[39m230…\n",
            "$ mass     \u001b[3m\u001b[90m<dbl>\u001b[39m\u001b[23m 33.6\u001b[90m, \u001b[39m26.6\u001b[90m, \u001b[39m23.3\u001b[90m, \u001b[39m28.1\u001b[90m, \u001b[39m43.1\u001b[90m, \u001b[39m25.6\u001b[90m, \u001b[39m31.0\u001b[90m, \u001b[39m35.3\u001b[90m, \u001b[39m30.5\u001b[90m, \u001b[39m0.0\u001b[90m, \u001b[39m37…\n",
            "$ pedigree \u001b[3m\u001b[90m<dbl>\u001b[39m\u001b[23m 0.627\u001b[90m, \u001b[39m0.351\u001b[90m, \u001b[39m0.672\u001b[90m, \u001b[39m0.167\u001b[90m, \u001b[39m2.288\u001b[90m, \u001b[39m0.201\u001b[90m, \u001b[39m0.248\u001b[90m, \u001b[39m0.134\u001b[90m, \u001b[39m0.158…\n",
            "$ age      \u001b[3m\u001b[90m<dbl>\u001b[39m\u001b[23m 50\u001b[90m, \u001b[39m31\u001b[90m, \u001b[39m32\u001b[90m, \u001b[39m21\u001b[90m, \u001b[39m33\u001b[90m, \u001b[39m30\u001b[90m, \u001b[39m26\u001b[90m, \u001b[39m29\u001b[90m, \u001b[39m53\u001b[90m, \u001b[39m54\u001b[90m, \u001b[39m30\u001b[90m, \u001b[39m34\u001b[90m, \u001b[39m57\u001b[90m, \u001b[39m59\u001b[90m, \u001b[39m51\u001b[90m, \u001b[39m3…\n",
            "$ diabetes \u001b[3m\u001b[90m<fct>\u001b[39m\u001b[23m pos\u001b[90m, \u001b[39mneg\u001b[90m, \u001b[39mpos\u001b[90m, \u001b[39mneg\u001b[90m, \u001b[39mpos\u001b[90m, \u001b[39mneg\u001b[90m, \u001b[39mpos\u001b[90m, \u001b[39mneg\u001b[90m, \u001b[39mpos\u001b[90m, \u001b[39mpos\u001b[90m, \u001b[39mneg\u001b[90m, \u001b[39mpos\u001b[90m, \u001b[39mn…\n",
            "Rows: 768\n",
            "Columns: 9\n",
            "$ pregnant \u001b[3m\u001b[90m<dbl>\u001b[39m\u001b[23m 6\u001b[90m, \u001b[39m1\u001b[90m, \u001b[39m8\u001b[90m, \u001b[39m1\u001b[90m, \u001b[39m0\u001b[90m, \u001b[39m5\u001b[90m, \u001b[39m3\u001b[90m, \u001b[39m10\u001b[90m, \u001b[39m2\u001b[90m, \u001b[39m8\u001b[90m, \u001b[39m4\u001b[90m, \u001b[39m10\u001b[90m, \u001b[39m10\u001b[90m, \u001b[39m1\u001b[90m, \u001b[39m5\u001b[90m, \u001b[39m7\u001b[90m, \u001b[39m0\u001b[90m, \u001b[39m7\u001b[90m, \u001b[39m1\u001b[90m, \u001b[39m1…\n",
            "$ glucose  \u001b[3m\u001b[90m<dbl>\u001b[39m\u001b[23m 148\u001b[90m, \u001b[39m85\u001b[90m, \u001b[39m183\u001b[90m, \u001b[39m89\u001b[90m, \u001b[39m137\u001b[90m, \u001b[39m116\u001b[90m, \u001b[39m78\u001b[90m, \u001b[39m115\u001b[90m, \u001b[39m197\u001b[90m, \u001b[39m125\u001b[90m, \u001b[39m110\u001b[90m, \u001b[39m168\u001b[90m, \u001b[39m139\u001b[90m,\u001b[39m…\n",
            "$ pressure \u001b[3m\u001b[90m<dbl>\u001b[39m\u001b[23m 72\u001b[90m, \u001b[39m66\u001b[90m, \u001b[39m64\u001b[90m, \u001b[39m66\u001b[90m, \u001b[39m40\u001b[90m, \u001b[39m74\u001b[90m, \u001b[39m50\u001b[90m, \u001b[39m0\u001b[90m, \u001b[39m70\u001b[90m, \u001b[39m96\u001b[90m, \u001b[39m92\u001b[90m, \u001b[39m74\u001b[90m, \u001b[39m80\u001b[90m, \u001b[39m60\u001b[90m, \u001b[39m72\u001b[90m, \u001b[39m0\u001b[90m,\u001b[39m…\n",
            "$ triceps  \u001b[3m\u001b[90m<dbl>\u001b[39m\u001b[23m 35\u001b[90m, \u001b[39m29\u001b[90m, \u001b[39m0\u001b[90m, \u001b[39m23\u001b[90m, \u001b[39m35\u001b[90m, \u001b[39m0\u001b[90m, \u001b[39m32\u001b[90m, \u001b[39m0\u001b[90m, \u001b[39m45\u001b[90m, \u001b[39m0\u001b[90m, \u001b[39m0\u001b[90m, \u001b[39m0\u001b[90m, \u001b[39m0\u001b[90m, \u001b[39m23\u001b[90m, \u001b[39m19\u001b[90m, \u001b[39m0\u001b[90m, \u001b[39m47\u001b[90m, \u001b[39m0…\n",
            "$ insulin  \u001b[3m\u001b[90m<dbl>\u001b[39m\u001b[23m 0\u001b[90m, \u001b[39m0\u001b[90m, \u001b[39m0\u001b[90m, \u001b[39m94\u001b[90m, \u001b[39m168\u001b[90m, \u001b[39m0\u001b[90m, \u001b[39m88\u001b[90m, \u001b[39m0\u001b[90m, \u001b[39m543\u001b[90m, \u001b[39m0\u001b[90m, \u001b[39m0\u001b[90m, \u001b[39m0\u001b[90m, \u001b[39m0\u001b[90m, \u001b[39m846\u001b[90m, \u001b[39m175\u001b[90m, \u001b[39m0\u001b[90m, \u001b[39m230…\n",
            "$ mass     \u001b[3m\u001b[90m<dbl>\u001b[39m\u001b[23m 33.6\u001b[90m, \u001b[39m26.6\u001b[90m, \u001b[39m23.3\u001b[90m, \u001b[39m28.1\u001b[90m, \u001b[39m43.1\u001b[90m, \u001b[39m25.6\u001b[90m, \u001b[39m31.0\u001b[90m, \u001b[39m35.3\u001b[90m, \u001b[39m30.5\u001b[90m, \u001b[39m0.0\u001b[90m, \u001b[39m37…\n",
            "$ pedigree \u001b[3m\u001b[90m<dbl>\u001b[39m\u001b[23m 0.627\u001b[90m, \u001b[39m0.351\u001b[90m, \u001b[39m0.672\u001b[90m, \u001b[39m0.167\u001b[90m, \u001b[39m2.288\u001b[90m, \u001b[39m0.201\u001b[90m, \u001b[39m0.248\u001b[90m, \u001b[39m0.134\u001b[90m, \u001b[39m0.158…\n",
            "$ age      \u001b[3m\u001b[90m<dbl>\u001b[39m\u001b[23m 50\u001b[90m, \u001b[39m31\u001b[90m, \u001b[39m32\u001b[90m, \u001b[39m21\u001b[90m, \u001b[39m33\u001b[90m, \u001b[39m30\u001b[90m, \u001b[39m26\u001b[90m, \u001b[39m29\u001b[90m, \u001b[39m53\u001b[90m, \u001b[39m54\u001b[90m, \u001b[39m30\u001b[90m, \u001b[39m34\u001b[90m, \u001b[39m57\u001b[90m, \u001b[39m59\u001b[90m, \u001b[39m51\u001b[90m, \u001b[39m3…\n",
            "$ diabetes \u001b[3m\u001b[90m<fct>\u001b[39m\u001b[23m pos\u001b[90m, \u001b[39mneg\u001b[90m, \u001b[39mpos\u001b[90m, \u001b[39mneg\u001b[90m, \u001b[39mpos\u001b[90m, \u001b[39mneg\u001b[90m, \u001b[39mpos\u001b[90m, \u001b[39mneg\u001b[90m, \u001b[39mpos\u001b[90m, \u001b[39mpos\u001b[90m, \u001b[39mneg\u001b[90m, \u001b[39mpos\u001b[90m, \u001b[39mn…\n"
          ]
        },
        {
          "output_type": "display_data",
          "data": {
            "text/html": [
              "<table class=\"dataframe\">\n",
              "<caption>A data.frame: 1 × 5</caption>\n",
              "<thead>\n",
              "\t<tr><th scope=col>media</th><th scope=col>mediana</th><th scope=col>sd</th><th scope=col>min</th><th scope=col>max</th></tr>\n",
              "\t<tr><th scope=col>&lt;dbl&gt;</th><th scope=col>&lt;dbl&gt;</th><th scope=col>&lt;dbl&gt;</th><th scope=col>&lt;dbl&gt;</th><th scope=col>&lt;dbl&gt;</th></tr>\n",
              "</thead>\n",
              "<tbody>\n",
              "\t<tr><td>120.5388</td><td>116</td><td>32.39319</td><td>0</td><td>199</td></tr>\n",
              "</tbody>\n",
              "</table>\n"
            ],
            "text/markdown": "\nA data.frame: 1 × 5\n\n| media &lt;dbl&gt; | mediana &lt;dbl&gt; | sd &lt;dbl&gt; | min &lt;dbl&gt; | max &lt;dbl&gt; |\n|---|---|---|---|---|\n| 120.5388 | 116 | 32.39319 | 0 | 199 |\n\n",
            "text/latex": "A data.frame: 1 × 5\n\\begin{tabular}{lllll}\n media & mediana & sd & min & max\\\\\n <dbl> & <dbl> & <dbl> & <dbl> & <dbl>\\\\\n\\hline\n\t 120.5388 & 116 & 32.39319 & 0 & 199\\\\\n\\end{tabular}\n",
            "text/plain": [
              "  media    mediana sd       min max\n",
              "1 120.5388 116     32.39319 0   199"
            ]
          },
          "metadata": {}
        },
        {
          "output_type": "stream",
          "name": "stderr",
          "text": [
            "Warning message in geom_histogram(aes(y = ..density..), bin = 30, fill = \"skyblue\", :\n",
            "“\u001b[1m\u001b[22mIgnoring unknown parameters: `bin`”\n",
            "\u001b[1m\u001b[22m`stat_bin()` using `bins = 30`. Pick better value with `binwidth`.\n"
          ]
        },
        {
          "output_type": "display_data",
          "data": {
            "text/html": [
              "0.221071069458983"
            ],
            "text/markdown": "0.221071069458983",
            "text/latex": "0.221071069458983",
            "text/plain": [
              "[1] 0.2210711"
            ]
          },
          "metadata": {}
        },
        {
          "output_type": "error",
          "ename": "ERROR",
          "evalue": "Error: object 'df_embarazadas_cruz' not found\n",
          "traceback": [
            "Error: object 'df_embarazadas_cruz' not found\nTraceback:\n",
            "1. adorn_percentages(., \"row\")",
            "2. tabyl(., diabetes, grupo_edad)",
            "3. .handleSimpleError(function (cnd) \n . {\n .     watcher$capture_plot_and_output()\n .     cnd <- sanitize_call(cnd)\n .     watcher$push(cnd)\n .     switch(on_error, continue = invokeRestart(\"eval_continue\"), \n .         stop = invokeRestart(\"eval_stop\"), error = NULL)\n . }, \"object 'df_embarazadas_cruz' not found\", base::quote(eval(expr, \n .     envir)))"
          ]
        },
        {
          "output_type": "display_data",
          "data": {
            "text/plain": [
              "plot without title"
            ],
            "image/png": "[encoded data removed]"
          },
          "metadata": {
            "image/png": {
              "width": 420,
              "height": 420
            }
          }
        }
      ]
    },
    {
      "cell_type": "code",
      "source": [
        "df_embarazadas_cruz"
      ],
      "metadata": {
        "id": "UmUjYJ6-57zL",
        "outputId": "b5a53913-6807-4756-ac19-31834042bc56",
        "colab": {
          "base_uri": "https://localhost:8080/",
          "height": 72
        }
      },
      "id": "UmUjYJ6-57zL",
      "execution_count": 111,
      "outputs": [
        {
          "output_type": "error",
          "ename": "ERROR",
          "evalue": "Error: object 'df_embarazadas_cruz' not found\n",
          "traceback": [
            "Error: object 'df_embarazadas_cruz' not found\nTraceback:\n"
          ]
        }
      ]
    }
  ],
  "metadata": {
    "colab": {
      "provenance": []
    },
    "kernelspec": {
      "name": "ir",
      "display_name": "R"
    },
    "language_info": {
      "name": "R"
    }
  },
  "nbformat": 4,
  "nbformat_minor": 5
}