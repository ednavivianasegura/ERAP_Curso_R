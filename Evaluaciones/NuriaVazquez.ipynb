{
  "cells": [
    {
      "cell_type": "markdown",
      "metadata": {
        "id": "Xw_P5Z7q8v5W"
      },
      "source": [
        "Título: Manipulación de datos con R - Módulo IV (Exploración de datos y Estadística descriptiva)\n",
        "\n",
        "Autor(es): Edna Viviana Segura Alvarado - Hans Mauricio Carrillo Hernández\n",
        "\n",
        "Fecha: 2025-06\n",
        "\n",
        "Institución: Universidad de La Rioja"
      ],
      "id": "Xw_P5Z7q8v5W"
    },
    {
      "cell_type": "markdown",
      "id": "ca0626f3",
      "metadata": {
        "id": "ca0626f3"
      },
      "source": [
        "# Estadística Descriptiva\n",
        "\n",
        "La estadística descriptiva se encarga de recolectar, organizar, representar y resumir la información contenida en un conjunto de datos. Su objetivo es **describir las características fundamentales** de una o más variables, sin llegar a realizar inferencias o generalizaciones.\n",
        "\n",
        "---\n",
        "\n",
        "## Clasificación de las variables\n",
        "\n",
        "| Tipo de variable     | Subtipo              | Ejemplo                            |\n",
        "|----------------------|----------------------|------------------------------------|\n",
        "| **Cualitativa**      | Nominal              | Sexo (masculino/femenino)         |\n",
        "|                      | Ordinal              | Nivel educativo (bajo/medio/alto) |\n",
        "| **Cuantitativa**     | Discreta             | Número de hijos (0, 1, 2…)         |\n",
        "|                      | Continua             | Edad, ingreso mensual, peso       |\n",
        "\n",
        "---\n",
        "\n",
        "### Enfoque de análisis:\n",
        "\n",
        "| Enfoque           | Descripción |\n",
        "|-------------------|-------------|\n",
        "| **Univariado**    | Análisis de una sola variable. Se explora su distribución, tendencia central, dispersión y forma. |\n",
        "| **Bivariado**     | Análisis conjunto de dos variables para identificar relaciones o asociaciones. |\n",
        "| *(Multivariado)*  | Análisis simultáneo de tres o más variables (fuera del alcance de esta sección). |\n",
        "\n",
        "---\n",
        "\n",
        "## Estadística Descriptiva Univariada\n",
        "\n",
        "1. Para Variables **Cualitativas**:\n",
        "\n",
        "Se resumen usando tablas de frecuencia:\n",
        "\n",
        "- **Frecuencia absoluta**: número de observaciones por categoría.\n",
        "- **Frecuencia relativa**: proporción (o porcentaje) respecto al total.\n",
        "- **Representaciones gráficas**: gráfico de barras, gráfico de torta.\n",
        "\n",
        "2. Para Variables **Cuantitativas**:\n",
        "\n",
        "Se utilizan:\n",
        "\n",
        "- **Medidas de tendencia central**: media, mediana, moda.\n",
        "- **Medidas de dispersión**: rango, varianza, desviación estándar, coeficiente de variación.\n",
        "- **Medidas de forma**: asimetría (skewness), curtosis (kurtosis).\n",
        "- **Visualizaciones**: histogramas, diagramas de caja (boxplots), Q-Q plots.\n",
        "\n",
        "---\n",
        "\n",
        "## Estadística Descriptiva Bivariada\n",
        "\n",
        "1. Dos Variables cualitativas:\n",
        "- Tablas de contingencia\n",
        "- Gráficos de mosaico o de barras agrupadas\n",
        "- Medidas de asociación (por ejemplo, prueba Chi²)\n",
        "\n",
        "2. Una Variable Cualitativa y una Cuantitativa:\n",
        "- Promedios o medianas por grupo\n",
        "- Boxplots por categoría\n",
        "- ANOVA exploratoria\n",
        "\n",
        "3. Dos Variables Cuantitativas:\n",
        "- Nube de puntos (scatterplot)\n",
        "- Coeficiente de correlación (Pearson, Spearman)\n",
        "- Covarianza\n",
        "- Recta de regresión simple\n",
        "\n",
        "---\n",
        "\n"
      ]
    },
    {
      "cell_type": "code",
      "source": [
        "# @title Librerías\n",
        "# Paquetes necesarios\n",
        "\n",
        "# Función para instalar si no está instalado\n",
        "instalar_si_no <- function(paquete) {\n",
        "    if (!requireNamespace(paquete, quietly = TRUE)) {\n",
        "    install.packages(paquete, repos = \"https://cloud.r-project.org\")\n",
        "  }\n",
        "  library(paquete, character.only = TRUE)\n",
        "}\n",
        "\n",
        "# Lista de paquetes a verificar\n",
        "paquetes <- c(\"mlbench\",\"forcats\",\"VIM\",\"knitr\",\"e1071\",\"tidyr\",\"dplyr\",\"ggplot2\",\"e1071\", \"visdat\",\"reshape2\", \"janitor\")\n",
        "\n",
        "\n",
        "# Instalar y cargar todos\n",
        "invisible(lapply(paquetes, instalar_si_no))\n",
        "\n",
        "# Instalar librería empire\n",
        "remotes::install_github(\"davidbiol/empire\")\n",
        "\n"
      ],
      "metadata": {
        "id": "kOrzjTjIrLjQ",
        "colab": {
          "base_uri": "https://localhost:8080/"
        },
        "outputId": "89a722cf-026e-47c4-b801-165d5eb9461e"
      },
      "id": "kOrzjTjIrLjQ",
      "execution_count": 1,
      "outputs": [
        {
          "output_type": "stream",
          "name": "stderr",
          "text": [
            "Installing package into ‘/usr/local/lib/R/site-library’\n",
            "(as ‘lib’ is unspecified)\n",
            "\n",
            "Installing package into ‘/usr/local/lib/R/site-library’\n",
            "(as ‘lib’ is unspecified)\n",
            "\n",
            "also installing the dependencies ‘rbibutils’, ‘cowplot’, ‘Deriv’, ‘microbenchmark’, ‘Rdpack’, ‘numDeriv’, ‘doBy’, ‘SparseM’, ‘MatrixModels’, ‘minqa’, ‘nloptr’, ‘reformulas’, ‘zoo’, ‘carData’, ‘abind’, ‘Formula’, ‘pbkrtest’, ‘quantreg’, ‘lme4’, ‘DEoptimR’, ‘lmtest’, ‘proxy’, ‘RcppEigen’, ‘colorspace’, ‘car’, ‘robustbase’, ‘sp’, ‘vcd’, ‘e1071’, ‘laeken’, ‘ranger’\n",
            "\n",
            "\n",
            "Loading required package: colorspace\n",
            "\n",
            "Loading required package: grid\n",
            "\n",
            "VIM is ready to use.\n",
            "\n",
            "\n",
            "Suggestions and bug-reports can be submitted at: https://github.com/statistikat/VIM/issues\n",
            "\n",
            "\n",
            "Attaching package: ‘VIM’\n",
            "\n",
            "\n",
            "The following object is masked from ‘package:datasets’:\n",
            "\n",
            "    sleep\n",
            "\n",
            "\n",
            "\n",
            "Attaching package: ‘dplyr’\n",
            "\n",
            "\n",
            "The following objects are masked from ‘package:stats’:\n",
            "\n",
            "    filter, lag\n",
            "\n",
            "\n",
            "The following objects are masked from ‘package:base’:\n",
            "\n",
            "    intersect, setdiff, setequal, union\n",
            "\n",
            "\n",
            "Installing package into ‘/usr/local/lib/R/site-library’\n",
            "(as ‘lib’ is unspecified)\n",
            "\n",
            "Installing package into ‘/usr/local/lib/R/site-library’\n",
            "(as ‘lib’ is unspecified)\n",
            "\n",
            "also installing the dependency ‘plyr’\n",
            "\n",
            "\n",
            "\n",
            "Attaching package: ‘reshape2’\n",
            "\n",
            "\n",
            "The following object is masked from ‘package:tidyr’:\n",
            "\n",
            "    smiths\n",
            "\n",
            "\n",
            "Installing package into ‘/usr/local/lib/R/site-library’\n",
            "(as ‘lib’ is unspecified)\n",
            "\n",
            "also installing the dependency ‘snakecase’\n",
            "\n",
            "\n",
            "\n",
            "Attaching package: ‘janitor’\n",
            "\n",
            "\n",
            "The following objects are masked from ‘package:stats’:\n",
            "\n",
            "    chisq.test, fisher.test\n",
            "\n",
            "\n",
            "Downloading GitHub repo davidbiol/empire@HEAD\n",
            "\n"
          ]
        },
        {
          "output_type": "stream",
          "name": "stdout",
          "text": [
            "iterators (NA -> 1.0.14 ) [CRAN]\n",
            "shape     (NA -> 1.4.6.1) [CRAN]\n",
            "foreach   (NA -> 1.5.2  ) [CRAN]\n",
            "glmnet    (NA -> 4.1-9  ) [CRAN]\n"
          ]
        },
        {
          "output_type": "stream",
          "name": "stderr",
          "text": [
            "Installing 4 packages: iterators, shape, foreach, glmnet\n",
            "\n",
            "Installing packages into ‘/usr/local/lib/R/site-library’\n",
            "(as ‘lib’ is unspecified)\n",
            "\n"
          ]
        },
        {
          "output_type": "stream",
          "name": "stdout",
          "text": [
            "\u001b[36m──\u001b[39m \u001b[36mR CMD build\u001b[39m \u001b[36m─────────────────────────────────────────────────────────────────\u001b[39m\n",
            "* checking for file ‘/tmp/RtmprsgtsJ/remotescb37b23dd2/davidbiol-empire-af6dc96/DESCRIPTION’ ... OK\n",
            "* preparing ‘empire’:\n",
            "* checking DESCRIPTION meta-information ... OK\n",
            "* checking for LF line-endings in source and make files and shell scripts\n",
            "* checking for empty or unneeded directories\n",
            "Omitted ‘LazyData’ from DESCRIPTION\n",
            "* building ‘empire_0.1.0.tar.gz’\n",
            "\n"
          ]
        },
        {
          "output_type": "stream",
          "name": "stderr",
          "text": [
            "Installing package into ‘/usr/local/lib/R/site-library’\n",
            "(as ‘lib’ is unspecified)\n",
            "\n"
          ]
        }
      ]
    },
    {
      "cell_type": "markdown",
      "source": [
        "# Datos\n",
        "\n",
        "Utilizaremos nuevamente el conjunto Sleep de la librería VIM trabajado durante el módulo II.\n",
        "\n"
      ],
      "metadata": {
        "id": "tFBkmKVCrPyI"
      },
      "id": "tFBkmKVCrPyI"
    },
    {
      "cell_type": "code",
      "source": [
        "# Cargar dataset 'sleep'\n",
        "data(\"sleep\")\n",
        "sleep"
      ],
      "metadata": {
        "id": "hXqd3SSjrX01",
        "colab": {
          "base_uri": "https://localhost:8080/",
          "height": 1000
        },
        "outputId": "c396e35c-794a-49cb-b49f-3f9c426a3c18"
      },
      "id": "hXqd3SSjrX01",
      "execution_count": 27,
      "outputs": [
        {
          "output_type": "display_data",
          "data": {
            "text/html": [
              "<table class=\"dataframe\">\n",
              "<caption>A data.frame: 62 × 10</caption>\n",
              "<thead>\n",
              "\t<tr><th scope=col>BodyWgt</th><th scope=col>BrainWgt</th><th scope=col>NonD</th><th scope=col>Dream</th><th scope=col>Sleep</th><th scope=col>Span</th><th scope=col>Gest</th><th scope=col>Pred</th><th scope=col>Exp</th><th scope=col>Danger</th></tr>\n",
              "\t<tr><th scope=col>&lt;dbl&gt;</th><th scope=col>&lt;dbl&gt;</th><th scope=col>&lt;dbl&gt;</th><th scope=col>&lt;dbl&gt;</th><th scope=col>&lt;dbl&gt;</th><th scope=col>&lt;dbl&gt;</th><th scope=col>&lt;dbl&gt;</th><th scope=col>&lt;int&gt;</th><th scope=col>&lt;int&gt;</th><th scope=col>&lt;int&gt;</th></tr>\n",
              "</thead>\n",
              "<tbody>\n",
              "\t<tr><td>6654.000</td><td>5712.0</td><td>  NA</td><td> NA</td><td> 3.3</td><td>38.6</td><td>645</td><td>3</td><td>5</td><td>3</td></tr>\n",
              "\t<tr><td>   1.000</td><td>   6.6</td><td> 6.3</td><td>2.0</td><td> 8.3</td><td> 4.5</td><td> 42</td><td>3</td><td>1</td><td>3</td></tr>\n",
              "\t<tr><td>   3.385</td><td>  44.5</td><td>  NA</td><td> NA</td><td>12.5</td><td>14.0</td><td> 60</td><td>1</td><td>1</td><td>1</td></tr>\n",
              "\t<tr><td>   0.920</td><td>   5.7</td><td>  NA</td><td> NA</td><td>16.5</td><td>  NA</td><td> 25</td><td>5</td><td>2</td><td>3</td></tr>\n",
              "\t<tr><td>2547.000</td><td>4603.0</td><td> 2.1</td><td>1.8</td><td> 3.9</td><td>69.0</td><td>624</td><td>3</td><td>5</td><td>4</td></tr>\n",
              "\t<tr><td>  10.550</td><td> 179.5</td><td> 9.1</td><td>0.7</td><td> 9.8</td><td>27.0</td><td>180</td><td>4</td><td>4</td><td>4</td></tr>\n",
              "\t<tr><td>   0.023</td><td>   0.3</td><td>15.8</td><td>3.9</td><td>19.7</td><td>19.0</td><td> 35</td><td>1</td><td>1</td><td>1</td></tr>\n",
              "\t<tr><td> 160.000</td><td> 169.0</td><td> 5.2</td><td>1.0</td><td> 6.2</td><td>30.4</td><td>392</td><td>4</td><td>5</td><td>4</td></tr>\n",
              "\t<tr><td>   3.300</td><td>  25.6</td><td>10.9</td><td>3.6</td><td>14.5</td><td>28.0</td><td> 63</td><td>1</td><td>2</td><td>1</td></tr>\n",
              "\t<tr><td>  52.160</td><td> 440.0</td><td> 8.3</td><td>1.4</td><td> 9.7</td><td>50.0</td><td>230</td><td>1</td><td>1</td><td>1</td></tr>\n",
              "\t<tr><td>   0.425</td><td>   6.4</td><td>11.0</td><td>1.5</td><td>12.5</td><td> 7.0</td><td>112</td><td>5</td><td>4</td><td>4</td></tr>\n",
              "\t<tr><td> 465.000</td><td> 423.0</td><td> 3.2</td><td>0.7</td><td> 3.9</td><td>30.0</td><td>281</td><td>5</td><td>5</td><td>5</td></tr>\n",
              "\t<tr><td>   0.550</td><td>   2.4</td><td> 7.6</td><td>2.7</td><td>10.3</td><td>  NA</td><td> NA</td><td>2</td><td>1</td><td>2</td></tr>\n",
              "\t<tr><td> 187.100</td><td> 419.0</td><td>  NA</td><td> NA</td><td> 3.1</td><td>40.0</td><td>365</td><td>5</td><td>5</td><td>5</td></tr>\n",
              "\t<tr><td>   0.075</td><td>   1.2</td><td> 6.3</td><td>2.1</td><td> 8.4</td><td> 3.5</td><td> 42</td><td>1</td><td>1</td><td>1</td></tr>\n",
              "\t<tr><td>   3.000</td><td>  25.0</td><td> 8.6</td><td>0.0</td><td> 8.6</td><td>50.0</td><td> 28</td><td>2</td><td>2</td><td>2</td></tr>\n",
              "\t<tr><td>   0.785</td><td>   3.5</td><td> 6.6</td><td>4.1</td><td>10.7</td><td> 6.0</td><td> 42</td><td>2</td><td>2</td><td>2</td></tr>\n",
              "\t<tr><td>   0.200</td><td>   5.0</td><td> 9.5</td><td>1.2</td><td>10.7</td><td>10.4</td><td>120</td><td>2</td><td>2</td><td>2</td></tr>\n",
              "\t<tr><td>   1.410</td><td>  17.5</td><td> 4.8</td><td>1.3</td><td> 6.1</td><td>34.0</td><td> NA</td><td>1</td><td>2</td><td>1</td></tr>\n",
              "\t<tr><td>  60.000</td><td>  81.0</td><td>12.0</td><td>6.1</td><td>18.1</td><td> 7.0</td><td> NA</td><td>1</td><td>1</td><td>1</td></tr>\n",
              "\t<tr><td> 529.000</td><td> 680.0</td><td>  NA</td><td>0.3</td><td>  NA</td><td>28.0</td><td>400</td><td>5</td><td>5</td><td>5</td></tr>\n",
              "\t<tr><td>  27.660</td><td> 115.0</td><td> 3.3</td><td>0.5</td><td> 3.8</td><td>20.0</td><td>148</td><td>5</td><td>5</td><td>5</td></tr>\n",
              "\t<tr><td>   0.120</td><td>   1.0</td><td>11.0</td><td>3.4</td><td>14.4</td><td> 3.9</td><td> 16</td><td>3</td><td>1</td><td>2</td></tr>\n",
              "\t<tr><td> 207.000</td><td> 406.0</td><td>  NA</td><td> NA</td><td>12.0</td><td>39.3</td><td>252</td><td>1</td><td>4</td><td>1</td></tr>\n",
              "\t<tr><td>  85.000</td><td> 325.0</td><td> 4.7</td><td>1.5</td><td> 6.2</td><td>41.0</td><td>310</td><td>1</td><td>3</td><td>1</td></tr>\n",
              "\t<tr><td>  36.330</td><td> 119.5</td><td>  NA</td><td> NA</td><td>13.0</td><td>16.2</td><td> 63</td><td>1</td><td>1</td><td>1</td></tr>\n",
              "\t<tr><td>   0.101</td><td>   4.0</td><td>10.4</td><td>3.4</td><td>13.8</td><td> 9.0</td><td> 28</td><td>5</td><td>1</td><td>3</td></tr>\n",
              "\t<tr><td>   1.040</td><td>   5.5</td><td> 7.4</td><td>0.8</td><td> 8.2</td><td> 7.6</td><td> 68</td><td>5</td><td>3</td><td>4</td></tr>\n",
              "\t<tr><td> 521.000</td><td> 655.0</td><td> 2.1</td><td>0.8</td><td> 2.9</td><td>46.0</td><td>336</td><td>5</td><td>5</td><td>5</td></tr>\n",
              "\t<tr><td> 100.000</td><td> 157.0</td><td>  NA</td><td> NA</td><td>10.8</td><td>22.4</td><td>100</td><td>1</td><td>1</td><td>1</td></tr>\n",
              "\t<tr><td>⋮</td><td>⋮</td><td>⋮</td><td>⋮</td><td>⋮</td><td>⋮</td><td>⋮</td><td>⋮</td><td>⋮</td><td>⋮</td></tr>\n",
              "\t<tr><td>  0.010</td><td>   0.25</td><td>17.9</td><td>2.0</td><td>19.9</td><td> 24.0</td><td> 50</td><td>1</td><td>1</td><td>1</td></tr>\n",
              "\t<tr><td> 62.000</td><td>1320.00</td><td> 6.1</td><td>1.9</td><td> 8.0</td><td>100.0</td><td>267</td><td>1</td><td>1</td><td>1</td></tr>\n",
              "\t<tr><td>  0.122</td><td>   3.00</td><td> 8.2</td><td>2.4</td><td>10.6</td><td>   NA</td><td> 30</td><td>2</td><td>1</td><td>1</td></tr>\n",
              "\t<tr><td>  1.350</td><td>   8.10</td><td> 8.4</td><td>2.8</td><td>11.2</td><td>   NA</td><td> 45</td><td>3</td><td>1</td><td>3</td></tr>\n",
              "\t<tr><td>  0.023</td><td>   0.40</td><td>11.9</td><td>1.3</td><td>13.2</td><td>  3.2</td><td> 19</td><td>4</td><td>1</td><td>3</td></tr>\n",
              "\t<tr><td>  0.048</td><td>   0.33</td><td>10.8</td><td>2.0</td><td>12.8</td><td>  2.0</td><td> 30</td><td>4</td><td>1</td><td>3</td></tr>\n",
              "\t<tr><td>  1.700</td><td>   6.30</td><td>13.8</td><td>5.6</td><td>19.4</td><td>  5.0</td><td> 12</td><td>2</td><td>1</td><td>1</td></tr>\n",
              "\t<tr><td>  3.500</td><td>  10.80</td><td>14.3</td><td>3.1</td><td>17.4</td><td>  6.5</td><td>120</td><td>2</td><td>1</td><td>1</td></tr>\n",
              "\t<tr><td>250.000</td><td> 490.00</td><td>  NA</td><td>1.0</td><td>  NA</td><td> 23.6</td><td>440</td><td>5</td><td>5</td><td>5</td></tr>\n",
              "\t<tr><td>  0.480</td><td>  15.50</td><td>15.2</td><td>1.8</td><td>17.0</td><td> 12.0</td><td>140</td><td>2</td><td>2</td><td>2</td></tr>\n",
              "\t<tr><td> 10.000</td><td> 115.00</td><td>10.0</td><td>0.9</td><td>10.9</td><td> 20.2</td><td>170</td><td>4</td><td>4</td><td>4</td></tr>\n",
              "\t<tr><td>  1.620</td><td>  11.40</td><td>11.9</td><td>1.8</td><td>13.7</td><td> 13.0</td><td> 17</td><td>2</td><td>1</td><td>2</td></tr>\n",
              "\t<tr><td>192.000</td><td> 180.00</td><td> 6.5</td><td>1.9</td><td> 8.4</td><td> 27.0</td><td>115</td><td>4</td><td>4</td><td>4</td></tr>\n",
              "\t<tr><td>  2.500</td><td>  12.10</td><td> 7.5</td><td>0.9</td><td> 8.4</td><td> 18.0</td><td> 31</td><td>5</td><td>5</td><td>5</td></tr>\n",
              "\t<tr><td>  4.288</td><td>  39.20</td><td>  NA</td><td> NA</td><td>12.5</td><td> 13.7</td><td> 63</td><td>2</td><td>2</td><td>2</td></tr>\n",
              "\t<tr><td>  0.280</td><td>   1.90</td><td>10.6</td><td>2.6</td><td>13.2</td><td>  4.7</td><td> 21</td><td>3</td><td>1</td><td>3</td></tr>\n",
              "\t<tr><td>  4.235</td><td>  50.40</td><td> 7.4</td><td>2.4</td><td> 9.8</td><td>  9.8</td><td> 52</td><td>1</td><td>1</td><td>1</td></tr>\n",
              "\t<tr><td>  6.800</td><td> 179.00</td><td> 8.4</td><td>1.2</td><td> 9.6</td><td> 29.0</td><td>164</td><td>2</td><td>3</td><td>2</td></tr>\n",
              "\t<tr><td>  0.750</td><td>  12.30</td><td> 5.7</td><td>0.9</td><td> 6.6</td><td>  7.0</td><td>225</td><td>2</td><td>2</td><td>2</td></tr>\n",
              "\t<tr><td>  3.600</td><td>  21.00</td><td> 4.9</td><td>0.5</td><td> 5.4</td><td>  6.0</td><td>225</td><td>3</td><td>2</td><td>3</td></tr>\n",
              "\t<tr><td> 14.830</td><td>  98.20</td><td>  NA</td><td> NA</td><td> 2.6</td><td> 17.0</td><td>150</td><td>5</td><td>5</td><td>5</td></tr>\n",
              "\t<tr><td> 55.500</td><td> 175.00</td><td> 3.2</td><td>0.6</td><td> 3.8</td><td> 20.0</td><td>151</td><td>5</td><td>5</td><td>5</td></tr>\n",
              "\t<tr><td>  1.400</td><td>  12.50</td><td>  NA</td><td> NA</td><td>11.0</td><td> 12.7</td><td> 90</td><td>2</td><td>2</td><td>2</td></tr>\n",
              "\t<tr><td>  0.060</td><td>   1.00</td><td> 8.1</td><td>2.2</td><td>10.3</td><td>  3.5</td><td> NA</td><td>3</td><td>1</td><td>2</td></tr>\n",
              "\t<tr><td>  0.900</td><td>   2.60</td><td>11.0</td><td>2.3</td><td>13.3</td><td>  4.5</td><td> 60</td><td>2</td><td>1</td><td>2</td></tr>\n",
              "\t<tr><td>  2.000</td><td>  12.30</td><td> 4.9</td><td>0.5</td><td> 5.4</td><td>  7.5</td><td>200</td><td>3</td><td>1</td><td>3</td></tr>\n",
              "\t<tr><td>  0.104</td><td>   2.50</td><td>13.2</td><td>2.6</td><td>15.8</td><td>  2.3</td><td> 46</td><td>3</td><td>2</td><td>2</td></tr>\n",
              "\t<tr><td>  4.190</td><td>  58.00</td><td> 9.7</td><td>0.6</td><td>10.3</td><td> 24.0</td><td>210</td><td>4</td><td>3</td><td>4</td></tr>\n",
              "\t<tr><td>  3.500</td><td>   3.90</td><td>12.8</td><td>6.6</td><td>19.4</td><td>  3.0</td><td> 14</td><td>2</td><td>1</td><td>1</td></tr>\n",
              "\t<tr><td>  4.050</td><td>  17.00</td><td>  NA</td><td> NA</td><td>  NA</td><td> 13.0</td><td> 38</td><td>3</td><td>1</td><td>1</td></tr>\n",
              "</tbody>\n",
              "</table>\n"
            ],
            "text/markdown": "\nA data.frame: 62 × 10\n\n| BodyWgt &lt;dbl&gt; | BrainWgt &lt;dbl&gt; | NonD &lt;dbl&gt; | Dream &lt;dbl&gt; | Sleep &lt;dbl&gt; | Span &lt;dbl&gt; | Gest &lt;dbl&gt; | Pred &lt;int&gt; | Exp &lt;int&gt; | Danger &lt;int&gt; |\n|---|---|---|---|---|---|---|---|---|---|\n| 6654.000 | 5712.0 |   NA |  NA |  3.3 | 38.6 | 645 | 3 | 5 | 3 |\n|    1.000 |    6.6 |  6.3 | 2.0 |  8.3 |  4.5 |  42 | 3 | 1 | 3 |\n|    3.385 |   44.5 |   NA |  NA | 12.5 | 14.0 |  60 | 1 | 1 | 1 |\n|    0.920 |    5.7 |   NA |  NA | 16.5 |   NA |  25 | 5 | 2 | 3 |\n| 2547.000 | 4603.0 |  2.1 | 1.8 |  3.9 | 69.0 | 624 | 3 | 5 | 4 |\n|   10.550 |  179.5 |  9.1 | 0.7 |  9.8 | 27.0 | 180 | 4 | 4 | 4 |\n|    0.023 |    0.3 | 15.8 | 3.9 | 19.7 | 19.0 |  35 | 1 | 1 | 1 |\n|  160.000 |  169.0 |  5.2 | 1.0 |  6.2 | 30.4 | 392 | 4 | 5 | 4 |\n|    3.300 |   25.6 | 10.9 | 3.6 | 14.5 | 28.0 |  63 | 1 | 2 | 1 |\n|   52.160 |  440.0 |  8.3 | 1.4 |  9.7 | 50.0 | 230 | 1 | 1 | 1 |\n|    0.425 |    6.4 | 11.0 | 1.5 | 12.5 |  7.0 | 112 | 5 | 4 | 4 |\n|  465.000 |  423.0 |  3.2 | 0.7 |  3.9 | 30.0 | 281 | 5 | 5 | 5 |\n|    0.550 |    2.4 |  7.6 | 2.7 | 10.3 |   NA |  NA | 2 | 1 | 2 |\n|  187.100 |  419.0 |   NA |  NA |  3.1 | 40.0 | 365 | 5 | 5 | 5 |\n|    0.075 |    1.2 |  6.3 | 2.1 |  8.4 |  3.5 |  42 | 1 | 1 | 1 |\n|    3.000 |   25.0 |  8.6 | 0.0 |  8.6 | 50.0 |  28 | 2 | 2 | 2 |\n|    0.785 |    3.5 |  6.6 | 4.1 | 10.7 |  6.0 |  42 | 2 | 2 | 2 |\n|    0.200 |    5.0 |  9.5 | 1.2 | 10.7 | 10.4 | 120 | 2 | 2 | 2 |\n|    1.410 |   17.5 |  4.8 | 1.3 |  6.1 | 34.0 |  NA | 1 | 2 | 1 |\n|   60.000 |   81.0 | 12.0 | 6.1 | 18.1 |  7.0 |  NA | 1 | 1 | 1 |\n|  529.000 |  680.0 |   NA | 0.3 |   NA | 28.0 | 400 | 5 | 5 | 5 |\n|   27.660 |  115.0 |  3.3 | 0.5 |  3.8 | 20.0 | 148 | 5 | 5 | 5 |\n|    0.120 |    1.0 | 11.0 | 3.4 | 14.4 |  3.9 |  16 | 3 | 1 | 2 |\n|  207.000 |  406.0 |   NA |  NA | 12.0 | 39.3 | 252 | 1 | 4 | 1 |\n|   85.000 |  325.0 |  4.7 | 1.5 |  6.2 | 41.0 | 310 | 1 | 3 | 1 |\n|   36.330 |  119.5 |   NA |  NA | 13.0 | 16.2 |  63 | 1 | 1 | 1 |\n|    0.101 |    4.0 | 10.4 | 3.4 | 13.8 |  9.0 |  28 | 5 | 1 | 3 |\n|    1.040 |    5.5 |  7.4 | 0.8 |  8.2 |  7.6 |  68 | 5 | 3 | 4 |\n|  521.000 |  655.0 |  2.1 | 0.8 |  2.9 | 46.0 | 336 | 5 | 5 | 5 |\n|  100.000 |  157.0 |   NA |  NA | 10.8 | 22.4 | 100 | 1 | 1 | 1 |\n| ⋮ | ⋮ | ⋮ | ⋮ | ⋮ | ⋮ | ⋮ | ⋮ | ⋮ | ⋮ |\n|   0.010 |    0.25 | 17.9 | 2.0 | 19.9 |  24.0 |  50 | 1 | 1 | 1 |\n|  62.000 | 1320.00 |  6.1 | 1.9 |  8.0 | 100.0 | 267 | 1 | 1 | 1 |\n|   0.122 |    3.00 |  8.2 | 2.4 | 10.6 |    NA |  30 | 2 | 1 | 1 |\n|   1.350 |    8.10 |  8.4 | 2.8 | 11.2 |    NA |  45 | 3 | 1 | 3 |\n|   0.023 |    0.40 | 11.9 | 1.3 | 13.2 |   3.2 |  19 | 4 | 1 | 3 |\n|   0.048 |    0.33 | 10.8 | 2.0 | 12.8 |   2.0 |  30 | 4 | 1 | 3 |\n|   1.700 |    6.30 | 13.8 | 5.6 | 19.4 |   5.0 |  12 | 2 | 1 | 1 |\n|   3.500 |   10.80 | 14.3 | 3.1 | 17.4 |   6.5 | 120 | 2 | 1 | 1 |\n| 250.000 |  490.00 |   NA | 1.0 |   NA |  23.6 | 440 | 5 | 5 | 5 |\n|   0.480 |   15.50 | 15.2 | 1.8 | 17.0 |  12.0 | 140 | 2 | 2 | 2 |\n|  10.000 |  115.00 | 10.0 | 0.9 | 10.9 |  20.2 | 170 | 4 | 4 | 4 |\n|   1.620 |   11.40 | 11.9 | 1.8 | 13.7 |  13.0 |  17 | 2 | 1 | 2 |\n| 192.000 |  180.00 |  6.5 | 1.9 |  8.4 |  27.0 | 115 | 4 | 4 | 4 |\n|   2.500 |   12.10 |  7.5 | 0.9 |  8.4 |  18.0 |  31 | 5 | 5 | 5 |\n|   4.288 |   39.20 |   NA |  NA | 12.5 |  13.7 |  63 | 2 | 2 | 2 |\n|   0.280 |    1.90 | 10.6 | 2.6 | 13.2 |   4.7 |  21 | 3 | 1 | 3 |\n|   4.235 |   50.40 |  7.4 | 2.4 |  9.8 |   9.8 |  52 | 1 | 1 | 1 |\n|   6.800 |  179.00 |  8.4 | 1.2 |  9.6 |  29.0 | 164 | 2 | 3 | 2 |\n|   0.750 |   12.30 |  5.7 | 0.9 |  6.6 |   7.0 | 225 | 2 | 2 | 2 |\n|   3.600 |   21.00 |  4.9 | 0.5 |  5.4 |   6.0 | 225 | 3 | 2 | 3 |\n|  14.830 |   98.20 |   NA |  NA |  2.6 |  17.0 | 150 | 5 | 5 | 5 |\n|  55.500 |  175.00 |  3.2 | 0.6 |  3.8 |  20.0 | 151 | 5 | 5 | 5 |\n|   1.400 |   12.50 |   NA |  NA | 11.0 |  12.7 |  90 | 2 | 2 | 2 |\n|   0.060 |    1.00 |  8.1 | 2.2 | 10.3 |   3.5 |  NA | 3 | 1 | 2 |\n|   0.900 |    2.60 | 11.0 | 2.3 | 13.3 |   4.5 |  60 | 2 | 1 | 2 |\n|   2.000 |   12.30 |  4.9 | 0.5 |  5.4 |   7.5 | 200 | 3 | 1 | 3 |\n|   0.104 |    2.50 | 13.2 | 2.6 | 15.8 |   2.3 |  46 | 3 | 2 | 2 |\n|   4.190 |   58.00 |  9.7 | 0.6 | 10.3 |  24.0 | 210 | 4 | 3 | 4 |\n|   3.500 |    3.90 | 12.8 | 6.6 | 19.4 |   3.0 |  14 | 2 | 1 | 1 |\n|   4.050 |   17.00 |   NA |  NA |   NA |  13.0 |  38 | 3 | 1 | 1 |\n\n",
            "text/latex": "A data.frame: 62 × 10\n\\begin{tabular}{llllllllll}\n BodyWgt & BrainWgt & NonD & Dream & Sleep & Span & Gest & Pred & Exp & Danger\\\\\n <dbl> & <dbl> & <dbl> & <dbl> & <dbl> & <dbl> & <dbl> & <int> & <int> & <int>\\\\\n\\hline\n\t 6654.000 & 5712.0 &   NA &  NA &  3.3 & 38.6 & 645 & 3 & 5 & 3\\\\\n\t    1.000 &    6.6 &  6.3 & 2.0 &  8.3 &  4.5 &  42 & 3 & 1 & 3\\\\\n\t    3.385 &   44.5 &   NA &  NA & 12.5 & 14.0 &  60 & 1 & 1 & 1\\\\\n\t    0.920 &    5.7 &   NA &  NA & 16.5 &   NA &  25 & 5 & 2 & 3\\\\\n\t 2547.000 & 4603.0 &  2.1 & 1.8 &  3.9 & 69.0 & 624 & 3 & 5 & 4\\\\\n\t   10.550 &  179.5 &  9.1 & 0.7 &  9.8 & 27.0 & 180 & 4 & 4 & 4\\\\\n\t    0.023 &    0.3 & 15.8 & 3.9 & 19.7 & 19.0 &  35 & 1 & 1 & 1\\\\\n\t  160.000 &  169.0 &  5.2 & 1.0 &  6.2 & 30.4 & 392 & 4 & 5 & 4\\\\\n\t    3.300 &   25.6 & 10.9 & 3.6 & 14.5 & 28.0 &  63 & 1 & 2 & 1\\\\\n\t   52.160 &  440.0 &  8.3 & 1.4 &  9.7 & 50.0 & 230 & 1 & 1 & 1\\\\\n\t    0.425 &    6.4 & 11.0 & 1.5 & 12.5 &  7.0 & 112 & 5 & 4 & 4\\\\\n\t  465.000 &  423.0 &  3.2 & 0.7 &  3.9 & 30.0 & 281 & 5 & 5 & 5\\\\\n\t    0.550 &    2.4 &  7.6 & 2.7 & 10.3 &   NA &  NA & 2 & 1 & 2\\\\\n\t  187.100 &  419.0 &   NA &  NA &  3.1 & 40.0 & 365 & 5 & 5 & 5\\\\\n\t    0.075 &    1.2 &  6.3 & 2.1 &  8.4 &  3.5 &  42 & 1 & 1 & 1\\\\\n\t    3.000 &   25.0 &  8.6 & 0.0 &  8.6 & 50.0 &  28 & 2 & 2 & 2\\\\\n\t    0.785 &    3.5 &  6.6 & 4.1 & 10.7 &  6.0 &  42 & 2 & 2 & 2\\\\\n\t    0.200 &    5.0 &  9.5 & 1.2 & 10.7 & 10.4 & 120 & 2 & 2 & 2\\\\\n\t    1.410 &   17.5 &  4.8 & 1.3 &  6.1 & 34.0 &  NA & 1 & 2 & 1\\\\\n\t   60.000 &   81.0 & 12.0 & 6.1 & 18.1 &  7.0 &  NA & 1 & 1 & 1\\\\\n\t  529.000 &  680.0 &   NA & 0.3 &   NA & 28.0 & 400 & 5 & 5 & 5\\\\\n\t   27.660 &  115.0 &  3.3 & 0.5 &  3.8 & 20.0 & 148 & 5 & 5 & 5\\\\\n\t    0.120 &    1.0 & 11.0 & 3.4 & 14.4 &  3.9 &  16 & 3 & 1 & 2\\\\\n\t  207.000 &  406.0 &   NA &  NA & 12.0 & 39.3 & 252 & 1 & 4 & 1\\\\\n\t   85.000 &  325.0 &  4.7 & 1.5 &  6.2 & 41.0 & 310 & 1 & 3 & 1\\\\\n\t   36.330 &  119.5 &   NA &  NA & 13.0 & 16.2 &  63 & 1 & 1 & 1\\\\\n\t    0.101 &    4.0 & 10.4 & 3.4 & 13.8 &  9.0 &  28 & 5 & 1 & 3\\\\\n\t    1.040 &    5.5 &  7.4 & 0.8 &  8.2 &  7.6 &  68 & 5 & 3 & 4\\\\\n\t  521.000 &  655.0 &  2.1 & 0.8 &  2.9 & 46.0 & 336 & 5 & 5 & 5\\\\\n\t  100.000 &  157.0 &   NA &  NA & 10.8 & 22.4 & 100 & 1 & 1 & 1\\\\\n\t ⋮ & ⋮ & ⋮ & ⋮ & ⋮ & ⋮ & ⋮ & ⋮ & ⋮ & ⋮\\\\\n\t   0.010 &    0.25 & 17.9 & 2.0 & 19.9 &  24.0 &  50 & 1 & 1 & 1\\\\\n\t  62.000 & 1320.00 &  6.1 & 1.9 &  8.0 & 100.0 & 267 & 1 & 1 & 1\\\\\n\t   0.122 &    3.00 &  8.2 & 2.4 & 10.6 &    NA &  30 & 2 & 1 & 1\\\\\n\t   1.350 &    8.10 &  8.4 & 2.8 & 11.2 &    NA &  45 & 3 & 1 & 3\\\\\n\t   0.023 &    0.40 & 11.9 & 1.3 & 13.2 &   3.2 &  19 & 4 & 1 & 3\\\\\n\t   0.048 &    0.33 & 10.8 & 2.0 & 12.8 &   2.0 &  30 & 4 & 1 & 3\\\\\n\t   1.700 &    6.30 & 13.8 & 5.6 & 19.4 &   5.0 &  12 & 2 & 1 & 1\\\\\n\t   3.500 &   10.80 & 14.3 & 3.1 & 17.4 &   6.5 & 120 & 2 & 1 & 1\\\\\n\t 250.000 &  490.00 &   NA & 1.0 &   NA &  23.6 & 440 & 5 & 5 & 5\\\\\n\t   0.480 &   15.50 & 15.2 & 1.8 & 17.0 &  12.0 & 140 & 2 & 2 & 2\\\\\n\t  10.000 &  115.00 & 10.0 & 0.9 & 10.9 &  20.2 & 170 & 4 & 4 & 4\\\\\n\t   1.620 &   11.40 & 11.9 & 1.8 & 13.7 &  13.0 &  17 & 2 & 1 & 2\\\\\n\t 192.000 &  180.00 &  6.5 & 1.9 &  8.4 &  27.0 & 115 & 4 & 4 & 4\\\\\n\t   2.500 &   12.10 &  7.5 & 0.9 &  8.4 &  18.0 &  31 & 5 & 5 & 5\\\\\n\t   4.288 &   39.20 &   NA &  NA & 12.5 &  13.7 &  63 & 2 & 2 & 2\\\\\n\t   0.280 &    1.90 & 10.6 & 2.6 & 13.2 &   4.7 &  21 & 3 & 1 & 3\\\\\n\t   4.235 &   50.40 &  7.4 & 2.4 &  9.8 &   9.8 &  52 & 1 & 1 & 1\\\\\n\t   6.800 &  179.00 &  8.4 & 1.2 &  9.6 &  29.0 & 164 & 2 & 3 & 2\\\\\n\t   0.750 &   12.30 &  5.7 & 0.9 &  6.6 &   7.0 & 225 & 2 & 2 & 2\\\\\n\t   3.600 &   21.00 &  4.9 & 0.5 &  5.4 &   6.0 & 225 & 3 & 2 & 3\\\\\n\t  14.830 &   98.20 &   NA &  NA &  2.6 &  17.0 & 150 & 5 & 5 & 5\\\\\n\t  55.500 &  175.00 &  3.2 & 0.6 &  3.8 &  20.0 & 151 & 5 & 5 & 5\\\\\n\t   1.400 &   12.50 &   NA &  NA & 11.0 &  12.7 &  90 & 2 & 2 & 2\\\\\n\t   0.060 &    1.00 &  8.1 & 2.2 & 10.3 &   3.5 &  NA & 3 & 1 & 2\\\\\n\t   0.900 &    2.60 & 11.0 & 2.3 & 13.3 &   4.5 &  60 & 2 & 1 & 2\\\\\n\t   2.000 &   12.30 &  4.9 & 0.5 &  5.4 &   7.5 & 200 & 3 & 1 & 3\\\\\n\t   0.104 &    2.50 & 13.2 & 2.6 & 15.8 &   2.3 &  46 & 3 & 2 & 2\\\\\n\t   4.190 &   58.00 &  9.7 & 0.6 & 10.3 &  24.0 & 210 & 4 & 3 & 4\\\\\n\t   3.500 &    3.90 & 12.8 & 6.6 & 19.4 &   3.0 &  14 & 2 & 1 & 1\\\\\n\t   4.050 &   17.00 &   NA &  NA &   NA &  13.0 &  38 & 3 & 1 & 1\\\\\n\\end{tabular}\n",
            "text/plain": [
              "   BodyWgt  BrainWgt NonD Dream Sleep Span  Gest Pred Exp Danger\n",
              "1  6654.000 5712.0     NA  NA    3.3  38.6  645  3    5   3     \n",
              "2     1.000    6.6    6.3 2.0    8.3   4.5   42  3    1   3     \n",
              "3     3.385   44.5     NA  NA   12.5  14.0   60  1    1   1     \n",
              "4     0.920    5.7     NA  NA   16.5    NA   25  5    2   3     \n",
              "5  2547.000 4603.0    2.1 1.8    3.9  69.0  624  3    5   4     \n",
              "6    10.550  179.5    9.1 0.7    9.8  27.0  180  4    4   4     \n",
              "7     0.023    0.3   15.8 3.9   19.7  19.0   35  1    1   1     \n",
              "8   160.000  169.0    5.2 1.0    6.2  30.4  392  4    5   4     \n",
              "9     3.300   25.6   10.9 3.6   14.5  28.0   63  1    2   1     \n",
              "10   52.160  440.0    8.3 1.4    9.7  50.0  230  1    1   1     \n",
              "11    0.425    6.4   11.0 1.5   12.5   7.0  112  5    4   4     \n",
              "12  465.000  423.0    3.2 0.7    3.9  30.0  281  5    5   5     \n",
              "13    0.550    2.4    7.6 2.7   10.3    NA   NA  2    1   2     \n",
              "14  187.100  419.0     NA  NA    3.1  40.0  365  5    5   5     \n",
              "15    0.075    1.2    6.3 2.1    8.4   3.5   42  1    1   1     \n",
              "16    3.000   25.0    8.6 0.0    8.6  50.0   28  2    2   2     \n",
              "17    0.785    3.5    6.6 4.1   10.7   6.0   42  2    2   2     \n",
              "18    0.200    5.0    9.5 1.2   10.7  10.4  120  2    2   2     \n",
              "19    1.410   17.5    4.8 1.3    6.1  34.0   NA  1    2   1     \n",
              "20   60.000   81.0   12.0 6.1   18.1   7.0   NA  1    1   1     \n",
              "21  529.000  680.0     NA 0.3     NA  28.0  400  5    5   5     \n",
              "22   27.660  115.0    3.3 0.5    3.8  20.0  148  5    5   5     \n",
              "23    0.120    1.0   11.0 3.4   14.4   3.9   16  3    1   2     \n",
              "24  207.000  406.0     NA  NA   12.0  39.3  252  1    4   1     \n",
              "25   85.000  325.0    4.7 1.5    6.2  41.0  310  1    3   1     \n",
              "26   36.330  119.5     NA  NA   13.0  16.2   63  1    1   1     \n",
              "27    0.101    4.0   10.4 3.4   13.8   9.0   28  5    1   3     \n",
              "28    1.040    5.5    7.4 0.8    8.2   7.6   68  5    3   4     \n",
              "29  521.000  655.0    2.1 0.8    2.9  46.0  336  5    5   5     \n",
              "30  100.000  157.0     NA  NA   10.8  22.4  100  1    1   1     \n",
              "⋮  ⋮        ⋮        ⋮    ⋮     ⋮     ⋮     ⋮    ⋮    ⋮   ⋮     \n",
              "33   0.010     0.25  17.9 2.0   19.9   24.0  50  1    1   1     \n",
              "34  62.000  1320.00   6.1 1.9    8.0  100.0 267  1    1   1     \n",
              "35   0.122     3.00   8.2 2.4   10.6     NA  30  2    1   1     \n",
              "36   1.350     8.10   8.4 2.8   11.2     NA  45  3    1   3     \n",
              "37   0.023     0.40  11.9 1.3   13.2    3.2  19  4    1   3     \n",
              "38   0.048     0.33  10.8 2.0   12.8    2.0  30  4    1   3     \n",
              "39   1.700     6.30  13.8 5.6   19.4    5.0  12  2    1   1     \n",
              "40   3.500    10.80  14.3 3.1   17.4    6.5 120  2    1   1     \n",
              "41 250.000   490.00    NA 1.0     NA   23.6 440  5    5   5     \n",
              "42   0.480    15.50  15.2 1.8   17.0   12.0 140  2    2   2     \n",
              "43  10.000   115.00  10.0 0.9   10.9   20.2 170  4    4   4     \n",
              "44   1.620    11.40  11.9 1.8   13.7   13.0  17  2    1   2     \n",
              "45 192.000   180.00   6.5 1.9    8.4   27.0 115  4    4   4     \n",
              "46   2.500    12.10   7.5 0.9    8.4   18.0  31  5    5   5     \n",
              "47   4.288    39.20    NA  NA   12.5   13.7  63  2    2   2     \n",
              "48   0.280     1.90  10.6 2.6   13.2    4.7  21  3    1   3     \n",
              "49   4.235    50.40   7.4 2.4    9.8    9.8  52  1    1   1     \n",
              "50   6.800   179.00   8.4 1.2    9.6   29.0 164  2    3   2     \n",
              "51   0.750    12.30   5.7 0.9    6.6    7.0 225  2    2   2     \n",
              "52   3.600    21.00   4.9 0.5    5.4    6.0 225  3    2   3     \n",
              "53  14.830    98.20    NA  NA    2.6   17.0 150  5    5   5     \n",
              "54  55.500   175.00   3.2 0.6    3.8   20.0 151  5    5   5     \n",
              "55   1.400    12.50    NA  NA   11.0   12.7  90  2    2   2     \n",
              "56   0.060     1.00   8.1 2.2   10.3    3.5  NA  3    1   2     \n",
              "57   0.900     2.60  11.0 2.3   13.3    4.5  60  2    1   2     \n",
              "58   2.000    12.30   4.9 0.5    5.4    7.5 200  3    1   3     \n",
              "59   0.104     2.50  13.2 2.6   15.8    2.3  46  3    2   2     \n",
              "60   4.190    58.00   9.7 0.6   10.3   24.0 210  4    3   4     \n",
              "61   3.500     3.90  12.8 6.6   19.4    3.0  14  2    1   1     \n",
              "62   4.050    17.00    NA  NA     NA   13.0  38  3    1   1     "
            ]
          },
          "metadata": {}
        }
      ]
    },
    {
      "cell_type": "markdown",
      "id": "3f4a0d8a",
      "metadata": {
        "id": "3f4a0d8a"
      },
      "source": [
        "## Análisis univariado:\n",
        "\n",
        "\n",
        "### Medidas de Tendencia Central, posición y coeficiente de variación:\n",
        "\n",
        "Utilizaremos la función summarise de dplyr para encontrar las medidas de tendencia central y de posición de la variable **BodyWgt**, que no tiene datos faltantes:\n",
        "\n"
      ]
    },
    {
      "cell_type": "code",
      "execution_count": 28,
      "id": "6dd67204",
      "metadata": {
        "id": "6dd67204"
      },
      "outputs": [],
      "source": [
        "# Solo seleccionamos variables numéricas y eliminamos NAs (aunque de antemanos sabemos que no tiene NAs)\n",
        "\n",
        "sleep_limpio_BodyWgt <- sleep%>%\n",
        "  select_if(is.numeric)%>%\n",
        "  filter(!is.na(BodyWgt))"
      ]
    },
    {
      "cell_type": "code",
      "source": [
        "View(sleep_limpio_BodyWgt)\n",
        "names(sleep_limpio_BodyWgt)"
      ],
      "metadata": {
        "id": "xmewCXNx-b_p",
        "outputId": "48f16d59-7577-4ca7-e848-c1398bbb14e3",
        "colab": {
          "base_uri": "https://localhost:8080/",
          "height": 1000
        }
      },
      "id": "xmewCXNx-b_p",
      "execution_count": 29,
      "outputs": [
        {
          "output_type": "display_data",
          "data": {
            "text/plain": [
              "   BodyWgt  BrainWgt NonD Dream Sleep Span  Gest Pred Exp Danger\n",
              "1  6654.000 5712.0     NA  NA    3.3  38.6  645  3    5   3     \n",
              "2     1.000    6.6    6.3 2.0    8.3   4.5   42  3    1   3     \n",
              "3     3.385   44.5     NA  NA   12.5  14.0   60  1    1   1     \n",
              "4     0.920    5.7     NA  NA   16.5    NA   25  5    2   3     \n",
              "5  2547.000 4603.0    2.1 1.8    3.9  69.0  624  3    5   4     \n",
              "6    10.550  179.5    9.1 0.7    9.8  27.0  180  4    4   4     \n",
              "7     0.023    0.3   15.8 3.9   19.7  19.0   35  1    1   1     \n",
              "8   160.000  169.0    5.2 1.0    6.2  30.4  392  4    5   4     \n",
              "9     3.300   25.6   10.9 3.6   14.5  28.0   63  1    2   1     \n",
              "10   52.160  440.0    8.3 1.4    9.7  50.0  230  1    1   1     \n",
              "11    0.425    6.4   11.0 1.5   12.5   7.0  112  5    4   4     \n",
              "12  465.000  423.0    3.2 0.7    3.9  30.0  281  5    5   5     \n",
              "13    0.550    2.4    7.6 2.7   10.3    NA   NA  2    1   2     \n",
              "14  187.100  419.0     NA  NA    3.1  40.0  365  5    5   5     \n",
              "15    0.075    1.2    6.3 2.1    8.4   3.5   42  1    1   1     \n",
              "16    3.000   25.0    8.6 0.0    8.6  50.0   28  2    2   2     \n",
              "17    0.785    3.5    6.6 4.1   10.7   6.0   42  2    2   2     \n",
              "18    0.200    5.0    9.5 1.2   10.7  10.4  120  2    2   2     \n",
              "19    1.410   17.5    4.8 1.3    6.1  34.0   NA  1    2   1     \n",
              "20   60.000   81.0   12.0 6.1   18.1   7.0   NA  1    1   1     \n",
              "21  529.000  680.0     NA 0.3     NA  28.0  400  5    5   5     \n",
              "22   27.660  115.0    3.3 0.5    3.8  20.0  148  5    5   5     \n",
              "23    0.120    1.0   11.0 3.4   14.4   3.9   16  3    1   2     \n",
              "24  207.000  406.0     NA  NA   12.0  39.3  252  1    4   1     \n",
              "25   85.000  325.0    4.7 1.5    6.2  41.0  310  1    3   1     \n",
              "26   36.330  119.5     NA  NA   13.0  16.2   63  1    1   1     \n",
              "27    0.101    4.0   10.4 3.4   13.8   9.0   28  5    1   3     \n",
              "28    1.040    5.5    7.4 0.8    8.2   7.6   68  5    3   4     \n",
              "29  521.000  655.0    2.1 0.8    2.9  46.0  336  5    5   5     \n",
              "30  100.000  157.0     NA  NA   10.8  22.4  100  1    1   1     \n",
              "⋮  ⋮        ⋮        ⋮    ⋮     ⋮     ⋮     ⋮    ⋮    ⋮   ⋮     \n",
              "33   0.010     0.25  17.9 2.0   19.9   24.0  50  1    1   1     \n",
              "34  62.000  1320.00   6.1 1.9    8.0  100.0 267  1    1   1     \n",
              "35   0.122     3.00   8.2 2.4   10.6     NA  30  2    1   1     \n",
              "36   1.350     8.10   8.4 2.8   11.2     NA  45  3    1   3     \n",
              "37   0.023     0.40  11.9 1.3   13.2    3.2  19  4    1   3     \n",
              "38   0.048     0.33  10.8 2.0   12.8    2.0  30  4    1   3     \n",
              "39   1.700     6.30  13.8 5.6   19.4    5.0  12  2    1   1     \n",
              "40   3.500    10.80  14.3 3.1   17.4    6.5 120  2    1   1     \n",
              "41 250.000   490.00    NA 1.0     NA   23.6 440  5    5   5     \n",
              "42   0.480    15.50  15.2 1.8   17.0   12.0 140  2    2   2     \n",
              "43  10.000   115.00  10.0 0.9   10.9   20.2 170  4    4   4     \n",
              "44   1.620    11.40  11.9 1.8   13.7   13.0  17  2    1   2     \n",
              "45 192.000   180.00   6.5 1.9    8.4   27.0 115  4    4   4     \n",
              "46   2.500    12.10   7.5 0.9    8.4   18.0  31  5    5   5     \n",
              "47   4.288    39.20    NA  NA   12.5   13.7  63  2    2   2     \n",
              "48   0.280     1.90  10.6 2.6   13.2    4.7  21  3    1   3     \n",
              "49   4.235    50.40   7.4 2.4    9.8    9.8  52  1    1   1     \n",
              "50   6.800   179.00   8.4 1.2    9.6   29.0 164  2    3   2     \n",
              "51   0.750    12.30   5.7 0.9    6.6    7.0 225  2    2   2     \n",
              "52   3.600    21.00   4.9 0.5    5.4    6.0 225  3    2   3     \n",
              "53  14.830    98.20    NA  NA    2.6   17.0 150  5    5   5     \n",
              "54  55.500   175.00   3.2 0.6    3.8   20.0 151  5    5   5     \n",
              "55   1.400    12.50    NA  NA   11.0   12.7  90  2    2   2     \n",
              "56   0.060     1.00   8.1 2.2   10.3    3.5  NA  3    1   2     \n",
              "57   0.900     2.60  11.0 2.3   13.3    4.5  60  2    1   2     \n",
              "58   2.000    12.30   4.9 0.5    5.4    7.5 200  3    1   3     \n",
              "59   0.104     2.50  13.2 2.6   15.8    2.3  46  3    2   2     \n",
              "60   4.190    58.00   9.7 0.6   10.3   24.0 210  4    3   4     \n",
              "61   3.500     3.90  12.8 6.6   19.4    3.0  14  2    1   1     \n",
              "62   4.050    17.00    NA  NA     NA   13.0  38  3    1   1     "
            ],
            "text/html": [
              "<table class=\"dataframe\">\n",
              "<caption>A data.frame: 62 × 10</caption>\n",
              "<thead>\n",
              "\t<tr><th scope=col>BodyWgt</th><th scope=col>BrainWgt</th><th scope=col>NonD</th><th scope=col>Dream</th><th scope=col>Sleep</th><th scope=col>Span</th><th scope=col>Gest</th><th scope=col>Pred</th><th scope=col>Exp</th><th scope=col>Danger</th></tr>\n",
              "\t<tr><th scope=col>&lt;dbl&gt;</th><th scope=col>&lt;dbl&gt;</th><th scope=col>&lt;dbl&gt;</th><th scope=col>&lt;dbl&gt;</th><th scope=col>&lt;dbl&gt;</th><th scope=col>&lt;dbl&gt;</th><th scope=col>&lt;dbl&gt;</th><th scope=col>&lt;int&gt;</th><th scope=col>&lt;int&gt;</th><th scope=col>&lt;int&gt;</th></tr>\n",
              "</thead>\n",
              "<tbody>\n",
              "\t<tr><td>6654.000</td><td>5712.0</td><td>  NA</td><td> NA</td><td> 3.3</td><td>38.6</td><td>645</td><td>3</td><td>5</td><td>3</td></tr>\n",
              "\t<tr><td>   1.000</td><td>   6.6</td><td> 6.3</td><td>2.0</td><td> 8.3</td><td> 4.5</td><td> 42</td><td>3</td><td>1</td><td>3</td></tr>\n",
              "\t<tr><td>   3.385</td><td>  44.5</td><td>  NA</td><td> NA</td><td>12.5</td><td>14.0</td><td> 60</td><td>1</td><td>1</td><td>1</td></tr>\n",
              "\t<tr><td>   0.920</td><td>   5.7</td><td>  NA</td><td> NA</td><td>16.5</td><td>  NA</td><td> 25</td><td>5</td><td>2</td><td>3</td></tr>\n",
              "\t<tr><td>2547.000</td><td>4603.0</td><td> 2.1</td><td>1.8</td><td> 3.9</td><td>69.0</td><td>624</td><td>3</td><td>5</td><td>4</td></tr>\n",
              "\t<tr><td>  10.550</td><td> 179.5</td><td> 9.1</td><td>0.7</td><td> 9.8</td><td>27.0</td><td>180</td><td>4</td><td>4</td><td>4</td></tr>\n",
              "\t<tr><td>   0.023</td><td>   0.3</td><td>15.8</td><td>3.9</td><td>19.7</td><td>19.0</td><td> 35</td><td>1</td><td>1</td><td>1</td></tr>\n",
              "\t<tr><td> 160.000</td><td> 169.0</td><td> 5.2</td><td>1.0</td><td> 6.2</td><td>30.4</td><td>392</td><td>4</td><td>5</td><td>4</td></tr>\n",
              "\t<tr><td>   3.300</td><td>  25.6</td><td>10.9</td><td>3.6</td><td>14.5</td><td>28.0</td><td> 63</td><td>1</td><td>2</td><td>1</td></tr>\n",
              "\t<tr><td>  52.160</td><td> 440.0</td><td> 8.3</td><td>1.4</td><td> 9.7</td><td>50.0</td><td>230</td><td>1</td><td>1</td><td>1</td></tr>\n",
              "\t<tr><td>   0.425</td><td>   6.4</td><td>11.0</td><td>1.5</td><td>12.5</td><td> 7.0</td><td>112</td><td>5</td><td>4</td><td>4</td></tr>\n",
              "\t<tr><td> 465.000</td><td> 423.0</td><td> 3.2</td><td>0.7</td><td> 3.9</td><td>30.0</td><td>281</td><td>5</td><td>5</td><td>5</td></tr>\n",
              "\t<tr><td>   0.550</td><td>   2.4</td><td> 7.6</td><td>2.7</td><td>10.3</td><td>  NA</td><td> NA</td><td>2</td><td>1</td><td>2</td></tr>\n",
              "\t<tr><td> 187.100</td><td> 419.0</td><td>  NA</td><td> NA</td><td> 3.1</td><td>40.0</td><td>365</td><td>5</td><td>5</td><td>5</td></tr>\n",
              "\t<tr><td>   0.075</td><td>   1.2</td><td> 6.3</td><td>2.1</td><td> 8.4</td><td> 3.5</td><td> 42</td><td>1</td><td>1</td><td>1</td></tr>\n",
              "\t<tr><td>   3.000</td><td>  25.0</td><td> 8.6</td><td>0.0</td><td> 8.6</td><td>50.0</td><td> 28</td><td>2</td><td>2</td><td>2</td></tr>\n",
              "\t<tr><td>   0.785</td><td>   3.5</td><td> 6.6</td><td>4.1</td><td>10.7</td><td> 6.0</td><td> 42</td><td>2</td><td>2</td><td>2</td></tr>\n",
              "\t<tr><td>   0.200</td><td>   5.0</td><td> 9.5</td><td>1.2</td><td>10.7</td><td>10.4</td><td>120</td><td>2</td><td>2</td><td>2</td></tr>\n",
              "\t<tr><td>   1.410</td><td>  17.5</td><td> 4.8</td><td>1.3</td><td> 6.1</td><td>34.0</td><td> NA</td><td>1</td><td>2</td><td>1</td></tr>\n",
              "\t<tr><td>  60.000</td><td>  81.0</td><td>12.0</td><td>6.1</td><td>18.1</td><td> 7.0</td><td> NA</td><td>1</td><td>1</td><td>1</td></tr>\n",
              "\t<tr><td> 529.000</td><td> 680.0</td><td>  NA</td><td>0.3</td><td>  NA</td><td>28.0</td><td>400</td><td>5</td><td>5</td><td>5</td></tr>\n",
              "\t<tr><td>  27.660</td><td> 115.0</td><td> 3.3</td><td>0.5</td><td> 3.8</td><td>20.0</td><td>148</td><td>5</td><td>5</td><td>5</td></tr>\n",
              "\t<tr><td>   0.120</td><td>   1.0</td><td>11.0</td><td>3.4</td><td>14.4</td><td> 3.9</td><td> 16</td><td>3</td><td>1</td><td>2</td></tr>\n",
              "\t<tr><td> 207.000</td><td> 406.0</td><td>  NA</td><td> NA</td><td>12.0</td><td>39.3</td><td>252</td><td>1</td><td>4</td><td>1</td></tr>\n",
              "\t<tr><td>  85.000</td><td> 325.0</td><td> 4.7</td><td>1.5</td><td> 6.2</td><td>41.0</td><td>310</td><td>1</td><td>3</td><td>1</td></tr>\n",
              "\t<tr><td>  36.330</td><td> 119.5</td><td>  NA</td><td> NA</td><td>13.0</td><td>16.2</td><td> 63</td><td>1</td><td>1</td><td>1</td></tr>\n",
              "\t<tr><td>   0.101</td><td>   4.0</td><td>10.4</td><td>3.4</td><td>13.8</td><td> 9.0</td><td> 28</td><td>5</td><td>1</td><td>3</td></tr>\n",
              "\t<tr><td>   1.040</td><td>   5.5</td><td> 7.4</td><td>0.8</td><td> 8.2</td><td> 7.6</td><td> 68</td><td>5</td><td>3</td><td>4</td></tr>\n",
              "\t<tr><td> 521.000</td><td> 655.0</td><td> 2.1</td><td>0.8</td><td> 2.9</td><td>46.0</td><td>336</td><td>5</td><td>5</td><td>5</td></tr>\n",
              "\t<tr><td> 100.000</td><td> 157.0</td><td>  NA</td><td> NA</td><td>10.8</td><td>22.4</td><td>100</td><td>1</td><td>1</td><td>1</td></tr>\n",
              "\t<tr><td>⋮</td><td>⋮</td><td>⋮</td><td>⋮</td><td>⋮</td><td>⋮</td><td>⋮</td><td>⋮</td><td>⋮</td><td>⋮</td></tr>\n",
              "\t<tr><td>  0.010</td><td>   0.25</td><td>17.9</td><td>2.0</td><td>19.9</td><td> 24.0</td><td> 50</td><td>1</td><td>1</td><td>1</td></tr>\n",
              "\t<tr><td> 62.000</td><td>1320.00</td><td> 6.1</td><td>1.9</td><td> 8.0</td><td>100.0</td><td>267</td><td>1</td><td>1</td><td>1</td></tr>\n",
              "\t<tr><td>  0.122</td><td>   3.00</td><td> 8.2</td><td>2.4</td><td>10.6</td><td>   NA</td><td> 30</td><td>2</td><td>1</td><td>1</td></tr>\n",
              "\t<tr><td>  1.350</td><td>   8.10</td><td> 8.4</td><td>2.8</td><td>11.2</td><td>   NA</td><td> 45</td><td>3</td><td>1</td><td>3</td></tr>\n",
              "\t<tr><td>  0.023</td><td>   0.40</td><td>11.9</td><td>1.3</td><td>13.2</td><td>  3.2</td><td> 19</td><td>4</td><td>1</td><td>3</td></tr>\n",
              "\t<tr><td>  0.048</td><td>   0.33</td><td>10.8</td><td>2.0</td><td>12.8</td><td>  2.0</td><td> 30</td><td>4</td><td>1</td><td>3</td></tr>\n",
              "\t<tr><td>  1.700</td><td>   6.30</td><td>13.8</td><td>5.6</td><td>19.4</td><td>  5.0</td><td> 12</td><td>2</td><td>1</td><td>1</td></tr>\n",
              "\t<tr><td>  3.500</td><td>  10.80</td><td>14.3</td><td>3.1</td><td>17.4</td><td>  6.5</td><td>120</td><td>2</td><td>1</td><td>1</td></tr>\n",
              "\t<tr><td>250.000</td><td> 490.00</td><td>  NA</td><td>1.0</td><td>  NA</td><td> 23.6</td><td>440</td><td>5</td><td>5</td><td>5</td></tr>\n",
              "\t<tr><td>  0.480</td><td>  15.50</td><td>15.2</td><td>1.8</td><td>17.0</td><td> 12.0</td><td>140</td><td>2</td><td>2</td><td>2</td></tr>\n",
              "\t<tr><td> 10.000</td><td> 115.00</td><td>10.0</td><td>0.9</td><td>10.9</td><td> 20.2</td><td>170</td><td>4</td><td>4</td><td>4</td></tr>\n",
              "\t<tr><td>  1.620</td><td>  11.40</td><td>11.9</td><td>1.8</td><td>13.7</td><td> 13.0</td><td> 17</td><td>2</td><td>1</td><td>2</td></tr>\n",
              "\t<tr><td>192.000</td><td> 180.00</td><td> 6.5</td><td>1.9</td><td> 8.4</td><td> 27.0</td><td>115</td><td>4</td><td>4</td><td>4</td></tr>\n",
              "\t<tr><td>  2.500</td><td>  12.10</td><td> 7.5</td><td>0.9</td><td> 8.4</td><td> 18.0</td><td> 31</td><td>5</td><td>5</td><td>5</td></tr>\n",
              "\t<tr><td>  4.288</td><td>  39.20</td><td>  NA</td><td> NA</td><td>12.5</td><td> 13.7</td><td> 63</td><td>2</td><td>2</td><td>2</td></tr>\n",
              "\t<tr><td>  0.280</td><td>   1.90</td><td>10.6</td><td>2.6</td><td>13.2</td><td>  4.7</td><td> 21</td><td>3</td><td>1</td><td>3</td></tr>\n",
              "\t<tr><td>  4.235</td><td>  50.40</td><td> 7.4</td><td>2.4</td><td> 9.8</td><td>  9.8</td><td> 52</td><td>1</td><td>1</td><td>1</td></tr>\n",
              "\t<tr><td>  6.800</td><td> 179.00</td><td> 8.4</td><td>1.2</td><td> 9.6</td><td> 29.0</td><td>164</td><td>2</td><td>3</td><td>2</td></tr>\n",
              "\t<tr><td>  0.750</td><td>  12.30</td><td> 5.7</td><td>0.9</td><td> 6.6</td><td>  7.0</td><td>225</td><td>2</td><td>2</td><td>2</td></tr>\n",
              "\t<tr><td>  3.600</td><td>  21.00</td><td> 4.9</td><td>0.5</td><td> 5.4</td><td>  6.0</td><td>225</td><td>3</td><td>2</td><td>3</td></tr>\n",
              "\t<tr><td> 14.830</td><td>  98.20</td><td>  NA</td><td> NA</td><td> 2.6</td><td> 17.0</td><td>150</td><td>5</td><td>5</td><td>5</td></tr>\n",
              "\t<tr><td> 55.500</td><td> 175.00</td><td> 3.2</td><td>0.6</td><td> 3.8</td><td> 20.0</td><td>151</td><td>5</td><td>5</td><td>5</td></tr>\n",
              "\t<tr><td>  1.400</td><td>  12.50</td><td>  NA</td><td> NA</td><td>11.0</td><td> 12.7</td><td> 90</td><td>2</td><td>2</td><td>2</td></tr>\n",
              "\t<tr><td>  0.060</td><td>   1.00</td><td> 8.1</td><td>2.2</td><td>10.3</td><td>  3.5</td><td> NA</td><td>3</td><td>1</td><td>2</td></tr>\n",
              "\t<tr><td>  0.900</td><td>   2.60</td><td>11.0</td><td>2.3</td><td>13.3</td><td>  4.5</td><td> 60</td><td>2</td><td>1</td><td>2</td></tr>\n",
              "\t<tr><td>  2.000</td><td>  12.30</td><td> 4.9</td><td>0.5</td><td> 5.4</td><td>  7.5</td><td>200</td><td>3</td><td>1</td><td>3</td></tr>\n",
              "\t<tr><td>  0.104</td><td>   2.50</td><td>13.2</td><td>2.6</td><td>15.8</td><td>  2.3</td><td> 46</td><td>3</td><td>2</td><td>2</td></tr>\n",
              "\t<tr><td>  4.190</td><td>  58.00</td><td> 9.7</td><td>0.6</td><td>10.3</td><td> 24.0</td><td>210</td><td>4</td><td>3</td><td>4</td></tr>\n",
              "\t<tr><td>  3.500</td><td>   3.90</td><td>12.8</td><td>6.6</td><td>19.4</td><td>  3.0</td><td> 14</td><td>2</td><td>1</td><td>1</td></tr>\n",
              "\t<tr><td>  4.050</td><td>  17.00</td><td>  NA</td><td> NA</td><td>  NA</td><td> 13.0</td><td> 38</td><td>3</td><td>1</td><td>1</td></tr>\n",
              "</tbody>\n",
              "</table>\n"
            ],
            "text/markdown": "\nA data.frame: 62 × 10\n\n| BodyWgt &lt;dbl&gt; | BrainWgt &lt;dbl&gt; | NonD &lt;dbl&gt; | Dream &lt;dbl&gt; | Sleep &lt;dbl&gt; | Span &lt;dbl&gt; | Gest &lt;dbl&gt; | Pred &lt;int&gt; | Exp &lt;int&gt; | Danger &lt;int&gt; |\n|---|---|---|---|---|---|---|---|---|---|\n| 6654.000 | 5712.0 |   NA |  NA |  3.3 | 38.6 | 645 | 3 | 5 | 3 |\n|    1.000 |    6.6 |  6.3 | 2.0 |  8.3 |  4.5 |  42 | 3 | 1 | 3 |\n|    3.385 |   44.5 |   NA |  NA | 12.5 | 14.0 |  60 | 1 | 1 | 1 |\n|    0.920 |    5.7 |   NA |  NA | 16.5 |   NA |  25 | 5 | 2 | 3 |\n| 2547.000 | 4603.0 |  2.1 | 1.8 |  3.9 | 69.0 | 624 | 3 | 5 | 4 |\n|   10.550 |  179.5 |  9.1 | 0.7 |  9.8 | 27.0 | 180 | 4 | 4 | 4 |\n|    0.023 |    0.3 | 15.8 | 3.9 | 19.7 | 19.0 |  35 | 1 | 1 | 1 |\n|  160.000 |  169.0 |  5.2 | 1.0 |  6.2 | 30.4 | 392 | 4 | 5 | 4 |\n|    3.300 |   25.6 | 10.9 | 3.6 | 14.5 | 28.0 |  63 | 1 | 2 | 1 |\n|   52.160 |  440.0 |  8.3 | 1.4 |  9.7 | 50.0 | 230 | 1 | 1 | 1 |\n|    0.425 |    6.4 | 11.0 | 1.5 | 12.5 |  7.0 | 112 | 5 | 4 | 4 |\n|  465.000 |  423.0 |  3.2 | 0.7 |  3.9 | 30.0 | 281 | 5 | 5 | 5 |\n|    0.550 |    2.4 |  7.6 | 2.7 | 10.3 |   NA |  NA | 2 | 1 | 2 |\n|  187.100 |  419.0 |   NA |  NA |  3.1 | 40.0 | 365 | 5 | 5 | 5 |\n|    0.075 |    1.2 |  6.3 | 2.1 |  8.4 |  3.5 |  42 | 1 | 1 | 1 |\n|    3.000 |   25.0 |  8.6 | 0.0 |  8.6 | 50.0 |  28 | 2 | 2 | 2 |\n|    0.785 |    3.5 |  6.6 | 4.1 | 10.7 |  6.0 |  42 | 2 | 2 | 2 |\n|    0.200 |    5.0 |  9.5 | 1.2 | 10.7 | 10.4 | 120 | 2 | 2 | 2 |\n|    1.410 |   17.5 |  4.8 | 1.3 |  6.1 | 34.0 |  NA | 1 | 2 | 1 |\n|   60.000 |   81.0 | 12.0 | 6.1 | 18.1 |  7.0 |  NA | 1 | 1 | 1 |\n|  529.000 |  680.0 |   NA | 0.3 |   NA | 28.0 | 400 | 5 | 5 | 5 |\n|   27.660 |  115.0 |  3.3 | 0.5 |  3.8 | 20.0 | 148 | 5 | 5 | 5 |\n|    0.120 |    1.0 | 11.0 | 3.4 | 14.4 |  3.9 |  16 | 3 | 1 | 2 |\n|  207.000 |  406.0 |   NA |  NA | 12.0 | 39.3 | 252 | 1 | 4 | 1 |\n|   85.000 |  325.0 |  4.7 | 1.5 |  6.2 | 41.0 | 310 | 1 | 3 | 1 |\n|   36.330 |  119.5 |   NA |  NA | 13.0 | 16.2 |  63 | 1 | 1 | 1 |\n|    0.101 |    4.0 | 10.4 | 3.4 | 13.8 |  9.0 |  28 | 5 | 1 | 3 |\n|    1.040 |    5.5 |  7.4 | 0.8 |  8.2 |  7.6 |  68 | 5 | 3 | 4 |\n|  521.000 |  655.0 |  2.1 | 0.8 |  2.9 | 46.0 | 336 | 5 | 5 | 5 |\n|  100.000 |  157.0 |   NA |  NA | 10.8 | 22.4 | 100 | 1 | 1 | 1 |\n| ⋮ | ⋮ | ⋮ | ⋮ | ⋮ | ⋮ | ⋮ | ⋮ | ⋮ | ⋮ |\n|   0.010 |    0.25 | 17.9 | 2.0 | 19.9 |  24.0 |  50 | 1 | 1 | 1 |\n|  62.000 | 1320.00 |  6.1 | 1.9 |  8.0 | 100.0 | 267 | 1 | 1 | 1 |\n|   0.122 |    3.00 |  8.2 | 2.4 | 10.6 |    NA |  30 | 2 | 1 | 1 |\n|   1.350 |    8.10 |  8.4 | 2.8 | 11.2 |    NA |  45 | 3 | 1 | 3 |\n|   0.023 |    0.40 | 11.9 | 1.3 | 13.2 |   3.2 |  19 | 4 | 1 | 3 |\n|   0.048 |    0.33 | 10.8 | 2.0 | 12.8 |   2.0 |  30 | 4 | 1 | 3 |\n|   1.700 |    6.30 | 13.8 | 5.6 | 19.4 |   5.0 |  12 | 2 | 1 | 1 |\n|   3.500 |   10.80 | 14.3 | 3.1 | 17.4 |   6.5 | 120 | 2 | 1 | 1 |\n| 250.000 |  490.00 |   NA | 1.0 |   NA |  23.6 | 440 | 5 | 5 | 5 |\n|   0.480 |   15.50 | 15.2 | 1.8 | 17.0 |  12.0 | 140 | 2 | 2 | 2 |\n|  10.000 |  115.00 | 10.0 | 0.9 | 10.9 |  20.2 | 170 | 4 | 4 | 4 |\n|   1.620 |   11.40 | 11.9 | 1.8 | 13.7 |  13.0 |  17 | 2 | 1 | 2 |\n| 192.000 |  180.00 |  6.5 | 1.9 |  8.4 |  27.0 | 115 | 4 | 4 | 4 |\n|   2.500 |   12.10 |  7.5 | 0.9 |  8.4 |  18.0 |  31 | 5 | 5 | 5 |\n|   4.288 |   39.20 |   NA |  NA | 12.5 |  13.7 |  63 | 2 | 2 | 2 |\n|   0.280 |    1.90 | 10.6 | 2.6 | 13.2 |   4.7 |  21 | 3 | 1 | 3 |\n|   4.235 |   50.40 |  7.4 | 2.4 |  9.8 |   9.8 |  52 | 1 | 1 | 1 |\n|   6.800 |  179.00 |  8.4 | 1.2 |  9.6 |  29.0 | 164 | 2 | 3 | 2 |\n|   0.750 |   12.30 |  5.7 | 0.9 |  6.6 |   7.0 | 225 | 2 | 2 | 2 |\n|   3.600 |   21.00 |  4.9 | 0.5 |  5.4 |   6.0 | 225 | 3 | 2 | 3 |\n|  14.830 |   98.20 |   NA |  NA |  2.6 |  17.0 | 150 | 5 | 5 | 5 |\n|  55.500 |  175.00 |  3.2 | 0.6 |  3.8 |  20.0 | 151 | 5 | 5 | 5 |\n|   1.400 |   12.50 |   NA |  NA | 11.0 |  12.7 |  90 | 2 | 2 | 2 |\n|   0.060 |    1.00 |  8.1 | 2.2 | 10.3 |   3.5 |  NA | 3 | 1 | 2 |\n|   0.900 |    2.60 | 11.0 | 2.3 | 13.3 |   4.5 |  60 | 2 | 1 | 2 |\n|   2.000 |   12.30 |  4.9 | 0.5 |  5.4 |   7.5 | 200 | 3 | 1 | 3 |\n|   0.104 |    2.50 | 13.2 | 2.6 | 15.8 |   2.3 |  46 | 3 | 2 | 2 |\n|   4.190 |   58.00 |  9.7 | 0.6 | 10.3 |  24.0 | 210 | 4 | 3 | 4 |\n|   3.500 |    3.90 | 12.8 | 6.6 | 19.4 |   3.0 |  14 | 2 | 1 | 1 |\n|   4.050 |   17.00 |   NA |  NA |   NA |  13.0 |  38 | 3 | 1 | 1 |\n\n",
            "text/latex": "A data.frame: 62 × 10\n\\begin{tabular}{llllllllll}\n BodyWgt & BrainWgt & NonD & Dream & Sleep & Span & Gest & Pred & Exp & Danger\\\\\n <dbl> & <dbl> & <dbl> & <dbl> & <dbl> & <dbl> & <dbl> & <int> & <int> & <int>\\\\\n\\hline\n\t 6654.000 & 5712.0 &   NA &  NA &  3.3 & 38.6 & 645 & 3 & 5 & 3\\\\\n\t    1.000 &    6.6 &  6.3 & 2.0 &  8.3 &  4.5 &  42 & 3 & 1 & 3\\\\\n\t    3.385 &   44.5 &   NA &  NA & 12.5 & 14.0 &  60 & 1 & 1 & 1\\\\\n\t    0.920 &    5.7 &   NA &  NA & 16.5 &   NA &  25 & 5 & 2 & 3\\\\\n\t 2547.000 & 4603.0 &  2.1 & 1.8 &  3.9 & 69.0 & 624 & 3 & 5 & 4\\\\\n\t   10.550 &  179.5 &  9.1 & 0.7 &  9.8 & 27.0 & 180 & 4 & 4 & 4\\\\\n\t    0.023 &    0.3 & 15.8 & 3.9 & 19.7 & 19.0 &  35 & 1 & 1 & 1\\\\\n\t  160.000 &  169.0 &  5.2 & 1.0 &  6.2 & 30.4 & 392 & 4 & 5 & 4\\\\\n\t    3.300 &   25.6 & 10.9 & 3.6 & 14.5 & 28.0 &  63 & 1 & 2 & 1\\\\\n\t   52.160 &  440.0 &  8.3 & 1.4 &  9.7 & 50.0 & 230 & 1 & 1 & 1\\\\\n\t    0.425 &    6.4 & 11.0 & 1.5 & 12.5 &  7.0 & 112 & 5 & 4 & 4\\\\\n\t  465.000 &  423.0 &  3.2 & 0.7 &  3.9 & 30.0 & 281 & 5 & 5 & 5\\\\\n\t    0.550 &    2.4 &  7.6 & 2.7 & 10.3 &   NA &  NA & 2 & 1 & 2\\\\\n\t  187.100 &  419.0 &   NA &  NA &  3.1 & 40.0 & 365 & 5 & 5 & 5\\\\\n\t    0.075 &    1.2 &  6.3 & 2.1 &  8.4 &  3.5 &  42 & 1 & 1 & 1\\\\\n\t    3.000 &   25.0 &  8.6 & 0.0 &  8.6 & 50.0 &  28 & 2 & 2 & 2\\\\\n\t    0.785 &    3.5 &  6.6 & 4.1 & 10.7 &  6.0 &  42 & 2 & 2 & 2\\\\\n\t    0.200 &    5.0 &  9.5 & 1.2 & 10.7 & 10.4 & 120 & 2 & 2 & 2\\\\\n\t    1.410 &   17.5 &  4.8 & 1.3 &  6.1 & 34.0 &  NA & 1 & 2 & 1\\\\\n\t   60.000 &   81.0 & 12.0 & 6.1 & 18.1 &  7.0 &  NA & 1 & 1 & 1\\\\\n\t  529.000 &  680.0 &   NA & 0.3 &   NA & 28.0 & 400 & 5 & 5 & 5\\\\\n\t   27.660 &  115.0 &  3.3 & 0.5 &  3.8 & 20.0 & 148 & 5 & 5 & 5\\\\\n\t    0.120 &    1.0 & 11.0 & 3.4 & 14.4 &  3.9 &  16 & 3 & 1 & 2\\\\\n\t  207.000 &  406.0 &   NA &  NA & 12.0 & 39.3 & 252 & 1 & 4 & 1\\\\\n\t   85.000 &  325.0 &  4.7 & 1.5 &  6.2 & 41.0 & 310 & 1 & 3 & 1\\\\\n\t   36.330 &  119.5 &   NA &  NA & 13.0 & 16.2 &  63 & 1 & 1 & 1\\\\\n\t    0.101 &    4.0 & 10.4 & 3.4 & 13.8 &  9.0 &  28 & 5 & 1 & 3\\\\\n\t    1.040 &    5.5 &  7.4 & 0.8 &  8.2 &  7.6 &  68 & 5 & 3 & 4\\\\\n\t  521.000 &  655.0 &  2.1 & 0.8 &  2.9 & 46.0 & 336 & 5 & 5 & 5\\\\\n\t  100.000 &  157.0 &   NA &  NA & 10.8 & 22.4 & 100 & 1 & 1 & 1\\\\\n\t ⋮ & ⋮ & ⋮ & ⋮ & ⋮ & ⋮ & ⋮ & ⋮ & ⋮ & ⋮\\\\\n\t   0.010 &    0.25 & 17.9 & 2.0 & 19.9 &  24.0 &  50 & 1 & 1 & 1\\\\\n\t  62.000 & 1320.00 &  6.1 & 1.9 &  8.0 & 100.0 & 267 & 1 & 1 & 1\\\\\n\t   0.122 &    3.00 &  8.2 & 2.4 & 10.6 &    NA &  30 & 2 & 1 & 1\\\\\n\t   1.350 &    8.10 &  8.4 & 2.8 & 11.2 &    NA &  45 & 3 & 1 & 3\\\\\n\t   0.023 &    0.40 & 11.9 & 1.3 & 13.2 &   3.2 &  19 & 4 & 1 & 3\\\\\n\t   0.048 &    0.33 & 10.8 & 2.0 & 12.8 &   2.0 &  30 & 4 & 1 & 3\\\\\n\t   1.700 &    6.30 & 13.8 & 5.6 & 19.4 &   5.0 &  12 & 2 & 1 & 1\\\\\n\t   3.500 &   10.80 & 14.3 & 3.1 & 17.4 &   6.5 & 120 & 2 & 1 & 1\\\\\n\t 250.000 &  490.00 &   NA & 1.0 &   NA &  23.6 & 440 & 5 & 5 & 5\\\\\n\t   0.480 &   15.50 & 15.2 & 1.8 & 17.0 &  12.0 & 140 & 2 & 2 & 2\\\\\n\t  10.000 &  115.00 & 10.0 & 0.9 & 10.9 &  20.2 & 170 & 4 & 4 & 4\\\\\n\t   1.620 &   11.40 & 11.9 & 1.8 & 13.7 &  13.0 &  17 & 2 & 1 & 2\\\\\n\t 192.000 &  180.00 &  6.5 & 1.9 &  8.4 &  27.0 & 115 & 4 & 4 & 4\\\\\n\t   2.500 &   12.10 &  7.5 & 0.9 &  8.4 &  18.0 &  31 & 5 & 5 & 5\\\\\n\t   4.288 &   39.20 &   NA &  NA & 12.5 &  13.7 &  63 & 2 & 2 & 2\\\\\n\t   0.280 &    1.90 & 10.6 & 2.6 & 13.2 &   4.7 &  21 & 3 & 1 & 3\\\\\n\t   4.235 &   50.40 &  7.4 & 2.4 &  9.8 &   9.8 &  52 & 1 & 1 & 1\\\\\n\t   6.800 &  179.00 &  8.4 & 1.2 &  9.6 &  29.0 & 164 & 2 & 3 & 2\\\\\n\t   0.750 &   12.30 &  5.7 & 0.9 &  6.6 &   7.0 & 225 & 2 & 2 & 2\\\\\n\t   3.600 &   21.00 &  4.9 & 0.5 &  5.4 &   6.0 & 225 & 3 & 2 & 3\\\\\n\t  14.830 &   98.20 &   NA &  NA &  2.6 &  17.0 & 150 & 5 & 5 & 5\\\\\n\t  55.500 &  175.00 &  3.2 & 0.6 &  3.8 &  20.0 & 151 & 5 & 5 & 5\\\\\n\t   1.400 &   12.50 &   NA &  NA & 11.0 &  12.7 &  90 & 2 & 2 & 2\\\\\n\t   0.060 &    1.00 &  8.1 & 2.2 & 10.3 &   3.5 &  NA & 3 & 1 & 2\\\\\n\t   0.900 &    2.60 & 11.0 & 2.3 & 13.3 &   4.5 &  60 & 2 & 1 & 2\\\\\n\t   2.000 &   12.30 &  4.9 & 0.5 &  5.4 &   7.5 & 200 & 3 & 1 & 3\\\\\n\t   0.104 &    2.50 & 13.2 & 2.6 & 15.8 &   2.3 &  46 & 3 & 2 & 2\\\\\n\t   4.190 &   58.00 &  9.7 & 0.6 & 10.3 &  24.0 & 210 & 4 & 3 & 4\\\\\n\t   3.500 &    3.90 & 12.8 & 6.6 & 19.4 &   3.0 &  14 & 2 & 1 & 1\\\\\n\t   4.050 &   17.00 &   NA &  NA &   NA &  13.0 &  38 & 3 & 1 & 1\\\\\n\\end{tabular}\n"
          },
          "metadata": {}
        },
        {
          "output_type": "display_data",
          "data": {
            "text/html": [
              "<style>\n",
              ".list-inline {list-style: none; margin:0; padding: 0}\n",
              ".list-inline>li {display: inline-block}\n",
              ".list-inline>li:not(:last-child)::after {content: \"\\00b7\"; padding: 0 .5ex}\n",
              "</style>\n",
              "<ol class=list-inline><li>'BodyWgt'</li><li>'BrainWgt'</li><li>'NonD'</li><li>'Dream'</li><li>'Sleep'</li><li>'Span'</li><li>'Gest'</li><li>'Pred'</li><li>'Exp'</li><li>'Danger'</li></ol>\n"
            ],
            "text/markdown": "1. 'BodyWgt'\n2. 'BrainWgt'\n3. 'NonD'\n4. 'Dream'\n5. 'Sleep'\n6. 'Span'\n7. 'Gest'\n8. 'Pred'\n9. 'Exp'\n10. 'Danger'\n\n\n",
            "text/latex": "\\begin{enumerate*}\n\\item 'BodyWgt'\n\\item 'BrainWgt'\n\\item 'NonD'\n\\item 'Dream'\n\\item 'Sleep'\n\\item 'Span'\n\\item 'Gest'\n\\item 'Pred'\n\\item 'Exp'\n\\item 'Danger'\n\\end{enumerate*}\n",
            "text/plain": [
              " [1] \"BodyWgt\"  \"BrainWgt\" \"NonD\"     \"Dream\"    \"Sleep\"    \"Span\"    \n",
              " [7] \"Gest\"     \"Pred\"     \"Exp\"      \"Danger\"  "
            ]
          },
          "metadata": {}
        }
      ]
    },
    {
      "cell_type": "code",
      "source": [
        "sleep_limpio_BodyWgt$BodyWgt"
      ],
      "metadata": {
        "id": "ZtbKw_ELBrc9",
        "outputId": "11015e2b-e4f2-429e-af64-865dc3db6407",
        "colab": {
          "base_uri": "https://localhost:8080/",
          "height": 52
        }
      },
      "id": "ZtbKw_ELBrc9",
      "execution_count": 30,
      "outputs": [
        {
          "output_type": "display_data",
          "data": {
            "text/html": [
              "<style>\n",
              ".list-inline {list-style: none; margin:0; padding: 0}\n",
              ".list-inline>li {display: inline-block}\n",
              ".list-inline>li:not(:last-child)::after {content: \"\\00b7\"; padding: 0 .5ex}\n",
              "</style>\n",
              "<ol class=list-inline><li>6654</li><li>1</li><li>3.385</li><li>0.92</li><li>2547</li><li>10.55</li><li>0.023</li><li>160</li><li>3.3</li><li>52.16</li><li>0.425</li><li>465</li><li>0.55</li><li>187.1</li><li>0.075</li><li>3</li><li>0.785</li><li>0.2</li><li>1.41</li><li>60</li><li>529</li><li>27.66</li><li>0.12</li><li>207</li><li>85</li><li>36.33</li><li>0.101</li><li>1.04</li><li>521</li><li>100</li><li>35</li><li>0.005</li><li>0.01</li><li>62</li><li>0.122</li><li>1.35</li><li>0.023</li><li>0.048</li><li>1.7</li><li>3.5</li><li>250</li><li>0.48</li><li>10</li><li>1.62</li><li>192</li><li>2.5</li><li>4.288</li><li>0.28</li><li>4.235</li><li>6.8</li><li>0.75</li><li>3.6</li><li>14.83</li><li>55.5</li><li>1.4</li><li>0.06</li><li>0.9</li><li>2</li><li>0.104</li><li>4.19</li><li>3.5</li><li>4.05</li></ol>\n"
            ],
            "text/markdown": "1. 6654\n2. 1\n3. 3.385\n4. 0.92\n5. 2547\n6. 10.55\n7. 0.023\n8. 160\n9. 3.3\n10. 52.16\n11. 0.425\n12. 465\n13. 0.55\n14. 187.1\n15. 0.075\n16. 3\n17. 0.785\n18. 0.2\n19. 1.41\n20. 60\n21. 529\n22. 27.66\n23. 0.12\n24. 207\n25. 85\n26. 36.33\n27. 0.101\n28. 1.04\n29. 521\n30. 100\n31. 35\n32. 0.005\n33. 0.01\n34. 62\n35. 0.122\n36. 1.35\n37. 0.023\n38. 0.048\n39. 1.7\n40. 3.5\n41. 250\n42. 0.48\n43. 10\n44. 1.62\n45. 192\n46. 2.5\n47. 4.288\n48. 0.28\n49. 4.235\n50. 6.8\n51. 0.75\n52. 3.6\n53. 14.83\n54. 55.5\n55. 1.4\n56. 0.06\n57. 0.9\n58. 2\n59. 0.104\n60. 4.19\n61. 3.5\n62. 4.05\n\n\n",
            "text/latex": "\\begin{enumerate*}\n\\item 6654\n\\item 1\n\\item 3.385\n\\item 0.92\n\\item 2547\n\\item 10.55\n\\item 0.023\n\\item 160\n\\item 3.3\n\\item 52.16\n\\item 0.425\n\\item 465\n\\item 0.55\n\\item 187.1\n\\item 0.075\n\\item 3\n\\item 0.785\n\\item 0.2\n\\item 1.41\n\\item 60\n\\item 529\n\\item 27.66\n\\item 0.12\n\\item 207\n\\item 85\n\\item 36.33\n\\item 0.101\n\\item 1.04\n\\item 521\n\\item 100\n\\item 35\n\\item 0.005\n\\item 0.01\n\\item 62\n\\item 0.122\n\\item 1.35\n\\item 0.023\n\\item 0.048\n\\item 1.7\n\\item 3.5\n\\item 250\n\\item 0.48\n\\item 10\n\\item 1.62\n\\item 192\n\\item 2.5\n\\item 4.288\n\\item 0.28\n\\item 4.235\n\\item 6.8\n\\item 0.75\n\\item 3.6\n\\item 14.83\n\\item 55.5\n\\item 1.4\n\\item 0.06\n\\item 0.9\n\\item 2\n\\item 0.104\n\\item 4.19\n\\item 3.5\n\\item 4.05\n\\end{enumerate*}\n",
            "text/plain": [
              " [1] 6654.000    1.000    3.385    0.920 2547.000   10.550    0.023  160.000\n",
              " [9]    3.300   52.160    0.425  465.000    0.550  187.100    0.075    3.000\n",
              "[17]    0.785    0.200    1.410   60.000  529.000   27.660    0.120  207.000\n",
              "[25]   85.000   36.330    0.101    1.040  521.000  100.000   35.000    0.005\n",
              "[33]    0.010   62.000    0.122    1.350    0.023    0.048    1.700    3.500\n",
              "[41]  250.000    0.480   10.000    1.620  192.000    2.500    4.288    0.280\n",
              "[49]    4.235    6.800    0.750    3.600   14.830   55.500    1.400    0.060\n",
              "[57]    0.900    2.000    0.104    4.190    3.500    4.050"
            ]
          },
          "metadata": {}
        }
      ]
    },
    {
      "cell_type": "code",
      "source": [
        "# Calcular resumen estadístico de la variable BodyWgt\n",
        "tabla_resultados1<- sleep_limpio_BodyWgt%>%\n",
        "  summarise(\n",
        "  #medidas de tendencia central\n",
        "  media = mean(BodyWgt), #promedio\n",
        "  mediana = median(BodyWgt), #mediana\n",
        "\n",
        "  #medidas de dispersión\n",
        "  varianza = var(BodyWgt), #varianza\n",
        "  desviacion = sd(BodyWgt), #desviación\n",
        "  minimo = min(BodyWgt), #mínimo\n",
        "  maximo = max(BodyWgt), #máximo\n",
        "  rango = maximo - minimo, #rango\n",
        "\n",
        "  #Coeficiente de variación:\n",
        "  coef_variacion = (desviacion / media)*100, #cv\n",
        "\n",
        "  #Medidas de posición\n",
        "  iqr = IQR(BodyWgt), #rango intercuartílico\n",
        "  q1 = quantile(BodyWgt, 0.25), # primer cuartil (25%)\n",
        "  q3 = quantile(BodyWgt, 0.75), # tercer cuartil (75%)\n",
        "  p90 = quantile(BodyWgt, 0.90), # percentil (90%)\n",
        "  LI =q1 - 1.5*iqr, # limite inferior.\n",
        "  LS= q3 + 1.5*iqr, # límite superior.\n",
        "  #COnteo de valores atípicos:\n",
        "  total =n(), #cuenta el número de observaciones\n",
        "  outliers = sum(BodyWgt < LI |BodyWgt > LS), # contar el número de valores atípicos\n",
        "  proporcion_outliers = outliers / total, # proporción de datos atípicos\n",
        "\n",
        "  #forma de la distribución:\n",
        "  asimetria = skewness(BodyWgt), # asimetría\n",
        "  curtosis = kurtosis(BodyWgt)\n",
        "  )%>%\n",
        "    #tranformación de la tabla (convirtiendo filas a columnas)\n",
        "  pivot_longer(\n",
        "    cols = everything(),\n",
        "    names_to = \"Estadístico\",\n",
        "    values_to = \"Valor\"\n",
        "  )%>%\n",
        "\n",
        "  mutate(\n",
        "    Valor=format(round(Valor,2),scientific = F)\n",
        "  )\n",
        "\n",
        "tabla_resultados1"
      ],
      "metadata": {
        "id": "sBwO4xGwxJCU",
        "outputId": "cd810bc5-7905-4a83-9ab3-b7860d9baeb6",
        "colab": {
          "base_uri": "https://localhost:8080/",
          "height": 693
        }
      },
      "id": "sBwO4xGwxJCU",
      "execution_count": 32,
      "outputs": [
        {
          "output_type": "display_data",
          "data": {
            "text/html": [
              "<table class=\"dataframe\">\n",
              "<caption>A tibble: 19 × 2</caption>\n",
              "<thead>\n",
              "\t<tr><th scope=col>Estadístico</th><th scope=col>Valor</th></tr>\n",
              "\t<tr><th scope=col>&lt;chr&gt;</th><th scope=col>&lt;chr&gt;</th></tr>\n",
              "</thead>\n",
              "<tbody>\n",
              "\t<tr><td>media              </td><td>   198.79</td></tr>\n",
              "\t<tr><td>mediana            </td><td>     3.34</td></tr>\n",
              "\t<tr><td>varianza           </td><td>808485.13</td></tr>\n",
              "\t<tr><td>desviacion         </td><td>   899.16</td></tr>\n",
              "\t<tr><td>minimo             </td><td>     0.00</td></tr>\n",
              "\t<tr><td>maximo             </td><td>  6654.00</td></tr>\n",
              "\t<tr><td>rango              </td><td>  6654.00</td></tr>\n",
              "\t<tr><td>coef_variacion     </td><td>   452.32</td></tr>\n",
              "\t<tr><td>iqr                </td><td>    47.60</td></tr>\n",
              "\t<tr><td>q1                 </td><td>     0.60</td></tr>\n",
              "\t<tr><td>q3                 </td><td>    48.20</td></tr>\n",
              "\t<tr><td>p90                </td><td>   205.50</td></tr>\n",
              "\t<tr><td>LI                 </td><td>   -70.80</td></tr>\n",
              "\t<tr><td>LS                 </td><td>   119.61</td></tr>\n",
              "\t<tr><td>total              </td><td>    62.00</td></tr>\n",
              "\t<tr><td>outliers           </td><td>    10.00</td></tr>\n",
              "\t<tr><td>proporcion_outliers</td><td>     0.16</td></tr>\n",
              "\t<tr><td>asimetria          </td><td>     6.25</td></tr>\n",
              "\t<tr><td>curtosis           </td><td>    40.60</td></tr>\n",
              "</tbody>\n",
              "</table>\n"
            ],
            "text/markdown": "\nA tibble: 19 × 2\n\n| Estadístico &lt;chr&gt; | Valor &lt;chr&gt; |\n|---|---|\n| media               |    198.79 |\n| mediana             |      3.34 |\n| varianza            | 808485.13 |\n| desviacion          |    899.16 |\n| minimo              |      0.00 |\n| maximo              |   6654.00 |\n| rango               |   6654.00 |\n| coef_variacion      |    452.32 |\n| iqr                 |     47.60 |\n| q1                  |      0.60 |\n| q3                  |     48.20 |\n| p90                 |    205.50 |\n| LI                  |    -70.80 |\n| LS                  |    119.61 |\n| total               |     62.00 |\n| outliers            |     10.00 |\n| proporcion_outliers |      0.16 |\n| asimetria           |      6.25 |\n| curtosis            |     40.60 |\n\n",
            "text/latex": "A tibble: 19 × 2\n\\begin{tabular}{ll}\n Estadístico & Valor\\\\\n <chr> & <chr>\\\\\n\\hline\n\t media               &    198.79\\\\\n\t mediana             &      3.34\\\\\n\t varianza            & 808485.13\\\\\n\t desviacion          &    899.16\\\\\n\t minimo              &      0.00\\\\\n\t maximo              &   6654.00\\\\\n\t rango               &   6654.00\\\\\n\t coef\\_variacion      &    452.32\\\\\n\t iqr                 &     47.60\\\\\n\t q1                  &      0.60\\\\\n\t q3                  &     48.20\\\\\n\t p90                 &    205.50\\\\\n\t LI                  &    -70.80\\\\\n\t LS                  &    119.61\\\\\n\t total               &     62.00\\\\\n\t outliers            &     10.00\\\\\n\t proporcion\\_outliers &      0.16\\\\\n\t asimetria           &      6.25\\\\\n\t curtosis            &     40.60\\\\\n\\end{tabular}\n",
            "text/plain": [
              "   Estadístico         Valor    \n",
              "1  media                  198.79\n",
              "2  mediana                  3.34\n",
              "3  varianza            808485.13\n",
              "4  desviacion             899.16\n",
              "5  minimo                   0.00\n",
              "6  maximo                6654.00\n",
              "7  rango                 6654.00\n",
              "8  coef_variacion         452.32\n",
              "9  iqr                     47.60\n",
              "10 q1                       0.60\n",
              "11 q3                      48.20\n",
              "12 p90                    205.50\n",
              "13 LI                     -70.80\n",
              "14 LS                     119.61\n",
              "15 total                   62.00\n",
              "16 outliers                10.00\n",
              "17 proporcion_outliers      0.16\n",
              "18 asimetria                6.25\n",
              "19 curtosis                40.60"
            ]
          },
          "metadata": {}
        }
      ]
    },
    {
      "cell_type": "code",
      "source": [
        "# Calcular moda con count y slice_max\n",
        "sleep_limpio_BodyWgt %>%\n",
        "  count(BodyWgt) %>%\n",
        "  arrange(desc(n))%>%\n",
        "  slice(1)\n"
      ],
      "metadata": {
        "id": "UuOoIWQixT4F",
        "outputId": "ef276406-5803-4c76-884a-6a4dfc3c3109",
        "colab": {
          "base_uri": "https://localhost:8080/",
          "height": 129
        }
      },
      "id": "UuOoIWQixT4F",
      "execution_count": 33,
      "outputs": [
        {
          "output_type": "display_data",
          "data": {
            "text/html": [
              "<table class=\"dataframe\">\n",
              "<caption>A data.frame: 1 × 2</caption>\n",
              "<thead>\n",
              "\t<tr><th scope=col>BodyWgt</th><th scope=col>n</th></tr>\n",
              "\t<tr><th scope=col>&lt;dbl&gt;</th><th scope=col>&lt;int&gt;</th></tr>\n",
              "</thead>\n",
              "<tbody>\n",
              "\t<tr><td>0.023</td><td>2</td></tr>\n",
              "</tbody>\n",
              "</table>\n"
            ],
            "text/markdown": "\nA data.frame: 1 × 2\n\n| BodyWgt &lt;dbl&gt; | n &lt;int&gt; |\n|---|---|\n| 0.023 | 2 |\n\n",
            "text/latex": "A data.frame: 1 × 2\n\\begin{tabular}{ll}\n BodyWgt & n\\\\\n <dbl> & <int>\\\\\n\\hline\n\t 0.023 & 2\\\\\n\\end{tabular}\n",
            "text/plain": [
              "  BodyWgt n\n",
              "1 0.023   2"
            ]
          },
          "metadata": {}
        }
      ]
    },
    {
      "cell_type": "markdown",
      "source": [
        "¿Qué nos dicen estos valores?:\n",
        "\n",
        "| Estadístico                     | Valor      | Interpretación                                                                                                                          |\n",
        "| ------------------------------- | ---------- | --------------------------------------------------------------------------------------------------------------------------------------- |\n",
        "| **media**                       | 198.79     | El peso promedio es muy alto, pero está distorsionado por valores extremos (como elefantes o ballenas).                                 |\n",
        "| **mediana**                     | 3.34       | El valor central realista: la mitad de los animales pesa menos de 3.34 kg. Mucho menor que la media → **asimetría positiva**.           |\n",
        "| **varianza**                    | 808485.13  | Muestra una altísima dispersión de los pesos. Valores grandes como 6654 lo elevan fuertemente.                                          |\n",
        "| **desviación típica**           | 899.16     | Indica gran dispersión respecto a la media. Al igual que la varianza, está **muy afectada por los valores extremos**.                   |\n",
        "| **mínimo**                      | 0.00       | Existen animales extremadamente ligeros (posiblemente error de redondeo o especie muy pequeña).                                         |\n",
        "| **máximo**                      | 6654.00    | Hay especies con más de 6 toneladas de peso. Confirma la existencia de outliers muy altos.                                              |\n",
        "| **rango**                       | 6654.00    | Es la diferencia entre el máximo y el mínimo. Muy alto → **alta variabilidad global**.                                                  |\n",
        "| **IQR (rango intercuartílico)** | 47.60      | El 50% central de los datos está entre 0.6 y 48.2 kg. Mucho más representativo que el rango total.                                      |\n",
        "| **Q1**                          | 0.60       | El 25% de los animales pesa menos de 0.6 kg.                                                                                            |\n",
        "| **Q3**                          | 48.20      | El 75% pesa menos de 48.2 kg.                                                                                                           |\n",
        "| **P10**                         | 0.08       | El 10% de los animales pesa menos de 80 gramos.                                                                                         |\n",
        "| **P90**                         | 205.50     | El 90% pesa menos de 205.5 kg.                                                                                                          |\n",
        "| **P95**                         | 518.20     | El 95% pesa menos de 518.2 kg.                                                                                                          |\n",
        "| **LI (límite inferior)**        | -70.80     | No se usa aquí porque ningún peso puede ser negativo.                                                                                   |\n",
        "| **LS (límite superior)**        | 119.61     | Todo valor mayor que este es considerado outlier según el criterio de 1.5 \\* IQR.                                                       |\n",
        "| **total**                       | 62.00      | Se analizaron 62 observaciones con datos completos para `BodyWgt`.                                                                      |\n",
        "| **outliers**                    | 10.00      | Hay 10 valores considerados **atípicos**.                                                                                               |\n",
        "| **proporción de outliers**      | 0.16 (16%) | Es **una proporción elevada**: casi 1 de cada 6 observaciones es un outlier.                                                            |\n",
        "| **asimetría**                   | 6.25       | Muy por encima de 0 → **fuerte asimetría positiva**. Hay una larga cola hacia la derecha.                                               |\n",
        "| **curtosis**                    | 40.60      | Muy superior a 3 → distribución **leptocúrtica**: concentrada alrededor de la mediana, con colas muy pesadas (muchos valores extremos). |\n",
        "| **Coeficiente de variación**| 452.32%|La desviación típica es más de 4 veces la media.|\n"
      ],
      "metadata": {
        "id": "K939_8DZ0McV"
      },
      "id": "K939_8DZ0McV"
    },
    {
      "cell_type": "markdown",
      "source": [
        "Validación gráfica:"
      ],
      "metadata": {
        "id": "m9bsLK9N43XE"
      },
      "id": "m9bsLK9N43XE"
    },
    {
      "cell_type": "code",
      "source": [
        "#Diagrama de barras de la variable BodyWht\n",
        "\n",
        "ggplot(sleep_limpio_BodyWgt,aes(BodyWht))+\n",
        "  geom_histogram(bin=30, fill=\"skyblue\", color=\"black\")+\n",
        "  labs(title = \"Distribución del peso corporal del mamífero\",x=\"Peso(kg),y=\"frecuencia\")"
      ],
      "metadata": {
        "id": "v4nRHu1CxhOe",
        "outputId": "4b5ea04d-6f53-48de-ca98-44a779e85673",
        "colab": {
          "base_uri": "https://localhost:8080/",
          "height": 128
        }
      },
      "id": "v4nRHu1CxhOe",
      "execution_count": 35,
      "outputs": [
        {
          "output_type": "error",
          "ename": "ERROR",
          "evalue": "Error in parse(text = input): <text>:5:77: unexpected symbol\n4:   geom_histogram(bin=30, fill=\"skyblue\", color=\"black\")+\n5:   labs(title = \"Distribución del peso corporal del mamífero\",x=\"Peso(kg),y=\"frecuencia\n                                                                               ^\n",
          "traceback": [
            "Error in parse(text = input): <text>:5:77: unexpected symbol\n4:   geom_histogram(bin=30, fill=\"skyblue\", color=\"black\")+\n5:   labs(title = \"Distribución del peso corporal del mamífero\",x=\"Peso(kg),y=\"frecuencia\n                                                                               ^\nTraceback:\n"
          ]
        }
      ]
    },
    {
      "cell_type": "code",
      "source": [
        "#Boxplot de la bariable BodyWgt\n",
        "ggplot(sleep_limpio_BodyWgt. aes(y=b))"
      ],
      "metadata": {
        "id": "nJqSjoP8x0RK"
      },
      "id": "nJqSjoP8x0RK",
      "execution_count": null,
      "outputs": []
    },
    {
      "cell_type": "code",
      "source": [
        "#Boxplot sin valores extremos y modificando los límites del eje\n",
        "ggplot(sleep_limpio_BodyWgt, aes(y = BodyWht))+\n",
        "  geom_boxplot(fill=\"lightgreen\",outlier.shape = NA)+"
      ],
      "metadata": {
        "id": "XeeRghAP-bh3"
      },
      "id": "XeeRghAP-bh3",
      "execution_count": null,
      "outputs": []
    },
    {
      "cell_type": "markdown",
      "source": [
        "La variable **BodyWgt** tiene una distribución altamente asimétrica y con colas pesadas.\n",
        "\n",
        "Las medidas robustas (mediana, IQR) son mucho más representativas que la media o la desviación típica.\n",
        "\n",
        "Un 16% de los datos son outliers, todos por encima del límite superior.\n",
        "\n",
        "Se recomienda para el análisis:\n",
        "- Trabajar con logaritmos o escalas logarítmicas.\n",
        "- Reportar mediana en lugar de media."
      ],
      "metadata": {
        "id": "tkiCQUdg-91_"
      },
      "id": "tkiCQUdg-91_"
    },
    {
      "cell_type": "code",
      "source": [
        "# Filtrar valores mayores que 0 antes de aplicar el log\n",
        "# Crear una nueva columna con logaritmo base 10\n",
        "\n",
        "sleep_limpio_BodyWgt <- sleep_limpio_BodyWgt%>%\n",
        "  filter(BodyWgt>0)%>%\n",
        "  mutate(log_BodyWgt = log10(BodyWgt))"
      ],
      "metadata": {
        "id": "ZhUlA4FU7bfi"
      },
      "id": "ZhUlA4FU7bfi",
      "execution_count": 36,
      "outputs": []
    },
    {
      "cell_type": "code",
      "source": [
        "# Calcular resumen estadístico de la variable log_BodyWgt\n",
        "tabla_resultados2<- sleep_limpio_BodyWgt%>%\n",
        "  summarise(\n",
        "  #medidas de tendencia central\n",
        "  media = mean(log_BodyWgt), #promedio\n",
        "  mediana = median(log_BodyWgt), #mediana\n",
        "\n",
        "  #medidas de dispersión\n",
        "  varianza = var(log_BodyWgt), #varianza\n",
        "  desviacion = sd(log_BodyWgt), #desviación\n",
        "  minimo = min(log_BodyWgt), #mínimo\n",
        "  maximo = max(log_BodyWgt), #máximo\n",
        "  rango = maximo - minimo, #rango\n",
        "\n",
        "  #Coeficiente de variación:\n",
        "  coef_variacion = (desviacion / media)*100, #cv\n",
        "\n",
        "  #Medidas de posición\n",
        "  iqr = IQR(log_BodyWgt), #rango intercuartílico\n",
        "  q1 = quantile(log_BodyWgt, 0.25), # primer cuartil (25%)\n",
        "  q3 = quantile(log_BodyWgt, 0.75), # tercer cuartil (75%)\n",
        "  p90 = quantile(log_BodyWgt, 0.90), # percentil (90%)\n",
        "  LI =q1 - 1.5*iqr, # limite inferior.\n",
        "  LS= q3 + 1.5*iqr, # límite superior.\n",
        "  #COnteo de valores atípicos:\n",
        "  total =n(), #cuenta el número de observaciones\n",
        "  outliers = sum(log_BodyWgt < LI |log_BodyWgt > LS), # contar el número de valores atípicos\n",
        "  proporcion_outliers = outliers / total, # proporción de datos atípicos\n",
        "\n",
        "  #forma de la distribución:\n",
        "  asimetria = skewness(log_BodyWgt), # asimetría\n",
        "  curtosis = kurtosis(log_BodyWgt)\n",
        "  )%>%\n",
        "    #tranformación de la tabla (convirtiendo filas a columnas)\n",
        "  pivot_longer(\n",
        "    cols = everything(),\n",
        "    names_to = \"Estadístico\",\n",
        "    values_to = \"Valor\"\n",
        "  )%>%\n",
        "\n",
        "  mutate(\n",
        "    Valor=format(round(Valor,2),scientific = F)\n",
        "  )\n",
        "\n",
        "tabla_resultados2\n"
      ],
      "metadata": {
        "id": "92QFiHpH77kJ",
        "outputId": "f73cd8f1-aa1f-4416-fbdf-cff49198d204",
        "colab": {
          "base_uri": "https://localhost:8080/",
          "height": 693
        }
      },
      "id": "92QFiHpH77kJ",
      "execution_count": 37,
      "outputs": [
        {
          "output_type": "display_data",
          "data": {
            "text/html": [
              "<table class=\"dataframe\">\n",
              "<caption>A tibble: 19 × 2</caption>\n",
              "<thead>\n",
              "\t<tr><th scope=col>Estadístico</th><th scope=col>Valor</th></tr>\n",
              "\t<tr><th scope=col>&lt;chr&gt;</th><th scope=col>&lt;chr&gt;</th></tr>\n",
              "</thead>\n",
              "<tbody>\n",
              "\t<tr><td>media              </td><td>  0.58</td></tr>\n",
              "\t<tr><td>mediana            </td><td>  0.52</td></tr>\n",
              "\t<tr><td>varianza           </td><td>  1.84</td></tr>\n",
              "\t<tr><td>desviacion         </td><td>  1.36</td></tr>\n",
              "\t<tr><td>minimo             </td><td> -2.30</td></tr>\n",
              "\t<tr><td>maximo             </td><td>  3.82</td></tr>\n",
              "\t<tr><td>rango              </td><td>  6.12</td></tr>\n",
              "\t<tr><td>coef_variacion     </td><td>233.50</td></tr>\n",
              "\t<tr><td>iqr                </td><td>  1.90</td></tr>\n",
              "\t<tr><td>q1                 </td><td> -0.23</td></tr>\n",
              "\t<tr><td>q3                 </td><td>  1.68</td></tr>\n",
              "\t<tr><td>p90                </td><td>  2.31</td></tr>\n",
              "\t<tr><td>LI                 </td><td> -3.08</td></tr>\n",
              "\t<tr><td>LS                 </td><td>  4.53</td></tr>\n",
              "\t<tr><td>total              </td><td> 62.00</td></tr>\n",
              "\t<tr><td>outliers           </td><td>  0.00</td></tr>\n",
              "\t<tr><td>proporcion_outliers</td><td>  0.00</td></tr>\n",
              "\t<tr><td>asimetria          </td><td>  0.15</td></tr>\n",
              "\t<tr><td>curtosis           </td><td> -0.52</td></tr>\n",
              "</tbody>\n",
              "</table>\n"
            ],
            "text/markdown": "\nA tibble: 19 × 2\n\n| Estadístico &lt;chr&gt; | Valor &lt;chr&gt; |\n|---|---|\n| media               |   0.58 |\n| mediana             |   0.52 |\n| varianza            |   1.84 |\n| desviacion          |   1.36 |\n| minimo              |  -2.30 |\n| maximo              |   3.82 |\n| rango               |   6.12 |\n| coef_variacion      | 233.50 |\n| iqr                 |   1.90 |\n| q1                  |  -0.23 |\n| q3                  |   1.68 |\n| p90                 |   2.31 |\n| LI                  |  -3.08 |\n| LS                  |   4.53 |\n| total               |  62.00 |\n| outliers            |   0.00 |\n| proporcion_outliers |   0.00 |\n| asimetria           |   0.15 |\n| curtosis            |  -0.52 |\n\n",
            "text/latex": "A tibble: 19 × 2\n\\begin{tabular}{ll}\n Estadístico & Valor\\\\\n <chr> & <chr>\\\\\n\\hline\n\t media               &   0.58\\\\\n\t mediana             &   0.52\\\\\n\t varianza            &   1.84\\\\\n\t desviacion          &   1.36\\\\\n\t minimo              &  -2.30\\\\\n\t maximo              &   3.82\\\\\n\t rango               &   6.12\\\\\n\t coef\\_variacion      & 233.50\\\\\n\t iqr                 &   1.90\\\\\n\t q1                  &  -0.23\\\\\n\t q3                  &   1.68\\\\\n\t p90                 &   2.31\\\\\n\t LI                  &  -3.08\\\\\n\t LS                  &   4.53\\\\\n\t total               &  62.00\\\\\n\t outliers            &   0.00\\\\\n\t proporcion\\_outliers &   0.00\\\\\n\t asimetria           &   0.15\\\\\n\t curtosis            &  -0.52\\\\\n\\end{tabular}\n",
            "text/plain": [
              "   Estadístico         Valor \n",
              "1  media                 0.58\n",
              "2  mediana               0.52\n",
              "3  varianza              1.84\n",
              "4  desviacion            1.36\n",
              "5  minimo               -2.30\n",
              "6  maximo                3.82\n",
              "7  rango                 6.12\n",
              "8  coef_variacion      233.50\n",
              "9  iqr                   1.90\n",
              "10 q1                   -0.23\n",
              "11 q3                    1.68\n",
              "12 p90                   2.31\n",
              "13 LI                   -3.08\n",
              "14 LS                    4.53\n",
              "15 total                62.00\n",
              "16 outliers              0.00\n",
              "17 proporcion_outliers   0.00\n",
              "18 asimetria             0.15\n",
              "19 curtosis             -0.52"
            ]
          },
          "metadata": {}
        }
      ]
    },
    {
      "cell_type": "markdown",
      "source": [
        "### Tablas para informes\n",
        "\n",
        "Usamos de la librería knitr de R, la función kable que permite crear tablas en documentos R Markdown."
      ],
      "metadata": {
        "id": "mK9PMhf09_AH"
      },
      "id": "mK9PMhf09_AH"
    },
    {
      "cell_type": "code",
      "source": [
        "# Mostrar tabla\n",
        "kable(tabla_resultados1, caption = \"\\nResumen estadísticas descriptivas\\nPosición\\nForma de la distribución\\nVariable original\")"
      ],
      "metadata": {
        "id": "4DNmC8IM-CsA",
        "outputId": "2a4de739-bd8c-4efc-fc43-11e50b66db55",
        "colab": {
          "base_uri": "https://localhost:8080/",
          "height": 547
        }
      },
      "id": "4DNmC8IM-CsA",
      "execution_count": 39,
      "outputs": [
        {
          "output_type": "display_data",
          "data": {
            "text/plain": [
              "\n",
              "\n",
              "Table: \n",
              "Resumen estadísticas descriptivas\n",
              "Posición\n",
              "Forma de la distribución\n",
              "Variable original\n",
              "\n",
              "|Estadístico         |Valor     |\n",
              "|:-------------------|:---------|\n",
              "|media               |198.79    |\n",
              "|mediana             |3.34      |\n",
              "|varianza            |808485.13 |\n",
              "|desviacion          |899.16    |\n",
              "|minimo              |0.00      |\n",
              "|maximo              |6654.00   |\n",
              "|rango               |6654.00   |\n",
              "|coef_variacion      |452.32    |\n",
              "|iqr                 |47.60     |\n",
              "|q1                  |0.60      |\n",
              "|q3                  |48.20     |\n",
              "|p90                 |205.50    |\n",
              "|LI                  |-70.80    |\n",
              "|LS                  |119.61    |\n",
              "|total               |62.00     |\n",
              "|outliers            |10.00     |\n",
              "|proporcion_outliers |0.16      |\n",
              "|asimetria           |6.25      |\n",
              "|curtosis            |40.60     |"
            ]
          },
          "metadata": {}
        }
      ]
    },
    {
      "cell_type": "code",
      "source": [
        "#histograma\n",
        "ggplot(sleep_limpio_BodyWgt,aes(log_BodyWgt))+\n",
        "  geom_histogram(bin = 30, fill=\"skyblue\", color=\"black\")+\n",
        "  labs(title = \"Ses\", x=\"d\",y=\"Frecuencia\")\n",
        "\n",
        "\n",
        "#boxplot\n",
        "\n",
        "\n",
        "\n"
      ],
      "metadata": {
        "id": "0nBymPch7lMp",
        "outputId": "8337a0f7-1bdf-49c4-fa84-6680f7445512",
        "colab": {
          "base_uri": "https://localhost:8080/",
          "height": 492
        }
      },
      "id": "0nBymPch7lMp",
      "execution_count": 40,
      "outputs": [
        {
          "output_type": "stream",
          "name": "stderr",
          "text": [
            "Warning message in geom_histogram(bin = 30, fill = \"skyblue\", color = \"black\"):\n",
            "“\u001b[1m\u001b[22mIgnoring unknown parameters: `bin`”\n",
            "\u001b[1m\u001b[22m`stat_bin()` using `bins = 30`. Pick better value with `binwidth`.\n"
          ]
        },
        {
          "output_type": "display_data",
          "data": {
            "text/plain": [
              "plot without title"
            ],
            "image/png": "[encoded data removed]"
          },
          "metadata": {
            "image/png": {
              "width": 420,
              "height": 420
            }
          }
        }
      ]
    },
    {
      "cell_type": "markdown",
      "source": [
        "¿La variable **BodyWgt** sigue una distribución normal?"
      ],
      "metadata": {
        "id": "DWhfMKHmAKza"
      },
      "id": "DWhfMKHmAKza"
    },
    {
      "cell_type": "code",
      "source": [
        "# Crear gráfico: Histograma de la variable BodyWgt con curva normal superpuesta\n",
        "\n",
        "ggplot(sleep_limpio_BodyWgt,aes(log_BodyWgt))+\n",
        "  geom_histogram(\n",
        "  aes(y=..density..),\n",
        "  bin = 30, fill=\"skyblue\", color=\"black\")+\n",
        "    stat_function(\n",
        "    fun=dnorm,\n",
        "    args=list(\n",
        "      mean = mean (sleep_limpio_BodyWgt$log_BodyWht),\n",
        "      sd= sd(sleep_limpio_BodyWgt$log_BodyWht)\n",
        "    ),\n",
        "      color=\"red\"\n",
        "    )+\n",
        "  labs(title = \"Distribucion del logaritmo del peso corporal del mamífero\", x=\"logaritmo del peso\",y=\"Frecuencia\")\n",
        "\n",
        "\n",
        "\n"
      ],
      "metadata": {
        "id": "MDDb1jWW9VKK",
        "outputId": "76f2d83c-6510-4e2d-95f9-1b0213b6e162",
        "colab": {
          "base_uri": "https://localhost:8080/",
          "height": 583
        }
      },
      "id": "MDDb1jWW9VKK",
      "execution_count": 44,
      "outputs": [
        {
          "output_type": "stream",
          "name": "stderr",
          "text": [
            "Warning message in geom_histogram(aes(y = ..density..), bin = 30, fill = \"skyblue\", :\n",
            "“\u001b[1m\u001b[22mIgnoring unknown parameters: `bin`”\n",
            "Warning message in mean.default(sleep_limpio_BodyWgt$log_BodyWht):\n",
            "“argument is not numeric or logical: returning NA”\n",
            "\u001b[1m\u001b[22m`stat_bin()` using `bins = 30`. Pick better value with `binwidth`.\n",
            "Warning message:\n",
            "“\u001b[1m\u001b[22mRemoved 101 rows containing missing values or values outside the scale range\n",
            "(`geom_function()`).”\n"
          ]
        },
        {
          "output_type": "display_data",
          "data": {
            "text/plain": [
              "plot without title"
            ],
            "image/png": "[encoded data removed]"
          },
          "metadata": {
            "image/png": {
              "width": 420,
              "height": 420
            }
          }
        }
      ]
    },
    {
      "cell_type": "code",
      "source": [
        "#Diagramas q-q plot:\n",
        "\n",
        "qqnorm(sleep_limpio_BodyWgt$log_BodyWgt)\n",
        "qqline(sleep_limpio_BodyWgt$log_BodyWgt)\n",
        "\n"
      ],
      "metadata": {
        "id": "GxNEly8Z9R46",
        "outputId": "cefcc1fa-0bd1-4182-993d-800a9694b4b3",
        "colab": {
          "base_uri": "https://localhost:8080/",
          "height": 437
        }
      },
      "id": "GxNEly8Z9R46",
      "execution_count": 47,
      "outputs": [
        {
          "output_type": "display_data",
          "data": {
            "text/plain": [
              "Plot with title “Normal Q-Q Plot”"
            ],
            "image/png": "[encoded data removed]"
          },
          "metadata": {
            "image/png": {
              "width": 420,
              "height": 420
            }
          }
        }
      ]
    },
    {
      "cell_type": "code",
      "source": [
        "#Test de normalidad\n",
        "\n",
        "shapiro.test (sleep_limpio_BodyWgt)\n"
      ],
      "metadata": {
        "id": "Bd1zPO4H9PQU"
      },
      "id": "Bd1zPO4H9PQU",
      "execution_count": null,
      "outputs": []
    },
    {
      "cell_type": "markdown",
      "source": [
        "¿y la variable **log_BodyWgt**?"
      ],
      "metadata": {
        "id": "j3dZfxR4AeHG"
      },
      "id": "j3dZfxR4AeHG"
    },
    {
      "cell_type": "code",
      "source": [
        "# Crear gráfico: Histograma del logaritmo de BodyWgt con una curva normal superpuesta\n",
        "\n",
        "\n",
        "\n"
      ],
      "metadata": {
        "id": "IBtJDnwvAd00"
      },
      "id": "IBtJDnwvAd00",
      "execution_count": null,
      "outputs": []
    },
    {
      "cell_type": "code",
      "source": [
        "#qqplot varaible log\n",
        "\n"
      ],
      "metadata": {
        "id": "822wDNcRAvJw"
      },
      "id": "822wDNcRAvJw",
      "execution_count": null,
      "outputs": []
    },
    {
      "cell_type": "code",
      "source": [
        "#test de normalidad\n",
        "\n",
        "\n",
        "\n",
        "\n"
      ],
      "metadata": {
        "id": "2jsnEKPzA0GE"
      },
      "id": "2jsnEKPzA0GE",
      "execution_count": null,
      "outputs": []
    },
    {
      "cell_type": "markdown",
      "source": [
        "Podemos así ver la importancia del análisis inicial y de la conveniencia de usar transformaciones de las variables."
      ],
      "metadata": {
        "id": "BvMNDRvPBKCM"
      },
      "id": "BvMNDRvPBKCM"
    },
    {
      "cell_type": "markdown",
      "source": [
        "## Análisis de Correlación y Covarianza\n",
        "\n",
        "Explorar relaciones entre variables cuantitativas, identificar patrones lineales y cuantificar la fuerza y dirección de esas relaciones mediante medidas como correlación y covarianza.\n",
        "\n",
        "- **Correlación de Pearson (cor())**\n",
        "\n",
        "Variante normalizada de la covarianza.\n",
        "\n",
        "Valores que oscilan entre -1 y 1:\n",
        "\n",
        "* +1: correlación perfecta positiva\n",
        "* 0: sin relación lineal\n",
        "* -1: correlación perfecta negativa\n",
        "\n",
        "Supone linealidad y normalidad de las variables.\n",
        "\n",
        "- **Correlación de Spearman**\n",
        "\n",
        "Se basa en rangos → no asume normalidad ni linealidad.\n",
        "Útil para datos ordinales o relaciones no lineales monótonas.\n",
        "\n",
        "- **Covarianza (cov())**\n",
        "\n",
        "Mide la tendencia conjunta de dos variables a aumentar o disminuir.\n",
        "\n",
        "* Valor positivo: las variables tienden a crecer juntas.\n",
        "* Valor negativo: una aumenta y la otra disminuye.\n",
        "\n",
        "Muy sensible a la escala de las variables\n",
        "\n"
      ],
      "metadata": {
        "id": "UsUYNtHdBTtz"
      },
      "id": "UsUYNtHdBTtz"
    },
    {
      "cell_type": "markdown",
      "source": [
        "\n",
        "### Correlación:\n",
        "\n",
        "Comenzamos con el análisis de correlación"
      ],
      "metadata": {
        "id": "Nf3IvYrdP96P"
      },
      "id": "Nf3IvYrdP96P"
    },
    {
      "cell_type": "code",
      "source": [
        "# Comenzamos seleccionando solo variables numéricas completas\n",
        "# recordemos que tenemos que convertir las trews variables pred, exp y danger en factores:\n",
        "\n",
        "# Conversión de variables numéricas a factores (categorías)\n",
        "sleep_limpio <- sleep%>%\n",
        "  mutate(\n",
        "  Pred= as.factor(Pred),\n",
        "  Exp= as.factor(Exp),\n",
        "  Danger = as.factor(Danger)\n",
        "  )\n",
        "\n",
        "(sleep_numerico<- sleep_limpio%>%\n",
        "  select_if(is.numeric))\n",
        "\n",
        "#Para no perder los datos, vamos a imputar con ridge, como hicimos en el módulo II:\n",
        "\n",
        "new_sleep_ridge <- empire::estimate_ridge(data=sleep_numerico, diff=10, ridge_alpha = 0)$new_dat\n",
        "\n",
        "# Aplicar imputación por regresión lineal penalizada (ridge)\n",
        "\n",
        "\n"
      ],
      "metadata": {
        "id": "kEgjeiaoDeqS",
        "collapsed": true,
        "outputId": "63881d81-adbe-4d87-d373-bbb92b3239eb",
        "colab": {
          "base_uri": "https://localhost:8080/",
          "height": 1000
        }
      },
      "id": "kEgjeiaoDeqS",
      "execution_count": 51,
      "outputs": [
        {
          "output_type": "display_data",
          "data": {
            "text/html": [
              "<table class=\"dataframe\">\n",
              "<caption>A data.frame: 62 × 7</caption>\n",
              "<thead>\n",
              "\t<tr><th scope=col>BodyWgt</th><th scope=col>BrainWgt</th><th scope=col>NonD</th><th scope=col>Dream</th><th scope=col>Sleep</th><th scope=col>Span</th><th scope=col>Gest</th></tr>\n",
              "\t<tr><th scope=col>&lt;dbl&gt;</th><th scope=col>&lt;dbl&gt;</th><th scope=col>&lt;dbl&gt;</th><th scope=col>&lt;dbl&gt;</th><th scope=col>&lt;dbl&gt;</th><th scope=col>&lt;dbl&gt;</th><th scope=col>&lt;dbl&gt;</th></tr>\n",
              "</thead>\n",
              "<tbody>\n",
              "\t<tr><td>6654.000</td><td>5712.0</td><td>  NA</td><td> NA</td><td> 3.3</td><td>38.6</td><td>645</td></tr>\n",
              "\t<tr><td>   1.000</td><td>   6.6</td><td> 6.3</td><td>2.0</td><td> 8.3</td><td> 4.5</td><td> 42</td></tr>\n",
              "\t<tr><td>   3.385</td><td>  44.5</td><td>  NA</td><td> NA</td><td>12.5</td><td>14.0</td><td> 60</td></tr>\n",
              "\t<tr><td>   0.920</td><td>   5.7</td><td>  NA</td><td> NA</td><td>16.5</td><td>  NA</td><td> 25</td></tr>\n",
              "\t<tr><td>2547.000</td><td>4603.0</td><td> 2.1</td><td>1.8</td><td> 3.9</td><td>69.0</td><td>624</td></tr>\n",
              "\t<tr><td>  10.550</td><td> 179.5</td><td> 9.1</td><td>0.7</td><td> 9.8</td><td>27.0</td><td>180</td></tr>\n",
              "\t<tr><td>   0.023</td><td>   0.3</td><td>15.8</td><td>3.9</td><td>19.7</td><td>19.0</td><td> 35</td></tr>\n",
              "\t<tr><td> 160.000</td><td> 169.0</td><td> 5.2</td><td>1.0</td><td> 6.2</td><td>30.4</td><td>392</td></tr>\n",
              "\t<tr><td>   3.300</td><td>  25.6</td><td>10.9</td><td>3.6</td><td>14.5</td><td>28.0</td><td> 63</td></tr>\n",
              "\t<tr><td>  52.160</td><td> 440.0</td><td> 8.3</td><td>1.4</td><td> 9.7</td><td>50.0</td><td>230</td></tr>\n",
              "\t<tr><td>   0.425</td><td>   6.4</td><td>11.0</td><td>1.5</td><td>12.5</td><td> 7.0</td><td>112</td></tr>\n",
              "\t<tr><td> 465.000</td><td> 423.0</td><td> 3.2</td><td>0.7</td><td> 3.9</td><td>30.0</td><td>281</td></tr>\n",
              "\t<tr><td>   0.550</td><td>   2.4</td><td> 7.6</td><td>2.7</td><td>10.3</td><td>  NA</td><td> NA</td></tr>\n",
              "\t<tr><td> 187.100</td><td> 419.0</td><td>  NA</td><td> NA</td><td> 3.1</td><td>40.0</td><td>365</td></tr>\n",
              "\t<tr><td>   0.075</td><td>   1.2</td><td> 6.3</td><td>2.1</td><td> 8.4</td><td> 3.5</td><td> 42</td></tr>\n",
              "\t<tr><td>   3.000</td><td>  25.0</td><td> 8.6</td><td>0.0</td><td> 8.6</td><td>50.0</td><td> 28</td></tr>\n",
              "\t<tr><td>   0.785</td><td>   3.5</td><td> 6.6</td><td>4.1</td><td>10.7</td><td> 6.0</td><td> 42</td></tr>\n",
              "\t<tr><td>   0.200</td><td>   5.0</td><td> 9.5</td><td>1.2</td><td>10.7</td><td>10.4</td><td>120</td></tr>\n",
              "\t<tr><td>   1.410</td><td>  17.5</td><td> 4.8</td><td>1.3</td><td> 6.1</td><td>34.0</td><td> NA</td></tr>\n",
              "\t<tr><td>  60.000</td><td>  81.0</td><td>12.0</td><td>6.1</td><td>18.1</td><td> 7.0</td><td> NA</td></tr>\n",
              "\t<tr><td> 529.000</td><td> 680.0</td><td>  NA</td><td>0.3</td><td>  NA</td><td>28.0</td><td>400</td></tr>\n",
              "\t<tr><td>  27.660</td><td> 115.0</td><td> 3.3</td><td>0.5</td><td> 3.8</td><td>20.0</td><td>148</td></tr>\n",
              "\t<tr><td>   0.120</td><td>   1.0</td><td>11.0</td><td>3.4</td><td>14.4</td><td> 3.9</td><td> 16</td></tr>\n",
              "\t<tr><td> 207.000</td><td> 406.0</td><td>  NA</td><td> NA</td><td>12.0</td><td>39.3</td><td>252</td></tr>\n",
              "\t<tr><td>  85.000</td><td> 325.0</td><td> 4.7</td><td>1.5</td><td> 6.2</td><td>41.0</td><td>310</td></tr>\n",
              "\t<tr><td>  36.330</td><td> 119.5</td><td>  NA</td><td> NA</td><td>13.0</td><td>16.2</td><td> 63</td></tr>\n",
              "\t<tr><td>   0.101</td><td>   4.0</td><td>10.4</td><td>3.4</td><td>13.8</td><td> 9.0</td><td> 28</td></tr>\n",
              "\t<tr><td>   1.040</td><td>   5.5</td><td> 7.4</td><td>0.8</td><td> 8.2</td><td> 7.6</td><td> 68</td></tr>\n",
              "\t<tr><td> 521.000</td><td> 655.0</td><td> 2.1</td><td>0.8</td><td> 2.9</td><td>46.0</td><td>336</td></tr>\n",
              "\t<tr><td> 100.000</td><td> 157.0</td><td>  NA</td><td> NA</td><td>10.8</td><td>22.4</td><td>100</td></tr>\n",
              "\t<tr><td>⋮</td><td>⋮</td><td>⋮</td><td>⋮</td><td>⋮</td><td>⋮</td><td>⋮</td></tr>\n",
              "\t<tr><td>  0.010</td><td>   0.25</td><td>17.9</td><td>2.0</td><td>19.9</td><td> 24.0</td><td> 50</td></tr>\n",
              "\t<tr><td> 62.000</td><td>1320.00</td><td> 6.1</td><td>1.9</td><td> 8.0</td><td>100.0</td><td>267</td></tr>\n",
              "\t<tr><td>  0.122</td><td>   3.00</td><td> 8.2</td><td>2.4</td><td>10.6</td><td>   NA</td><td> 30</td></tr>\n",
              "\t<tr><td>  1.350</td><td>   8.10</td><td> 8.4</td><td>2.8</td><td>11.2</td><td>   NA</td><td> 45</td></tr>\n",
              "\t<tr><td>  0.023</td><td>   0.40</td><td>11.9</td><td>1.3</td><td>13.2</td><td>  3.2</td><td> 19</td></tr>\n",
              "\t<tr><td>  0.048</td><td>   0.33</td><td>10.8</td><td>2.0</td><td>12.8</td><td>  2.0</td><td> 30</td></tr>\n",
              "\t<tr><td>  1.700</td><td>   6.30</td><td>13.8</td><td>5.6</td><td>19.4</td><td>  5.0</td><td> 12</td></tr>\n",
              "\t<tr><td>  3.500</td><td>  10.80</td><td>14.3</td><td>3.1</td><td>17.4</td><td>  6.5</td><td>120</td></tr>\n",
              "\t<tr><td>250.000</td><td> 490.00</td><td>  NA</td><td>1.0</td><td>  NA</td><td> 23.6</td><td>440</td></tr>\n",
              "\t<tr><td>  0.480</td><td>  15.50</td><td>15.2</td><td>1.8</td><td>17.0</td><td> 12.0</td><td>140</td></tr>\n",
              "\t<tr><td> 10.000</td><td> 115.00</td><td>10.0</td><td>0.9</td><td>10.9</td><td> 20.2</td><td>170</td></tr>\n",
              "\t<tr><td>  1.620</td><td>  11.40</td><td>11.9</td><td>1.8</td><td>13.7</td><td> 13.0</td><td> 17</td></tr>\n",
              "\t<tr><td>192.000</td><td> 180.00</td><td> 6.5</td><td>1.9</td><td> 8.4</td><td> 27.0</td><td>115</td></tr>\n",
              "\t<tr><td>  2.500</td><td>  12.10</td><td> 7.5</td><td>0.9</td><td> 8.4</td><td> 18.0</td><td> 31</td></tr>\n",
              "\t<tr><td>  4.288</td><td>  39.20</td><td>  NA</td><td> NA</td><td>12.5</td><td> 13.7</td><td> 63</td></tr>\n",
              "\t<tr><td>  0.280</td><td>   1.90</td><td>10.6</td><td>2.6</td><td>13.2</td><td>  4.7</td><td> 21</td></tr>\n",
              "\t<tr><td>  4.235</td><td>  50.40</td><td> 7.4</td><td>2.4</td><td> 9.8</td><td>  9.8</td><td> 52</td></tr>\n",
              "\t<tr><td>  6.800</td><td> 179.00</td><td> 8.4</td><td>1.2</td><td> 9.6</td><td> 29.0</td><td>164</td></tr>\n",
              "\t<tr><td>  0.750</td><td>  12.30</td><td> 5.7</td><td>0.9</td><td> 6.6</td><td>  7.0</td><td>225</td></tr>\n",
              "\t<tr><td>  3.600</td><td>  21.00</td><td> 4.9</td><td>0.5</td><td> 5.4</td><td>  6.0</td><td>225</td></tr>\n",
              "\t<tr><td> 14.830</td><td>  98.20</td><td>  NA</td><td> NA</td><td> 2.6</td><td> 17.0</td><td>150</td></tr>\n",
              "\t<tr><td> 55.500</td><td> 175.00</td><td> 3.2</td><td>0.6</td><td> 3.8</td><td> 20.0</td><td>151</td></tr>\n",
              "\t<tr><td>  1.400</td><td>  12.50</td><td>  NA</td><td> NA</td><td>11.0</td><td> 12.7</td><td> 90</td></tr>\n",
              "\t<tr><td>  0.060</td><td>   1.00</td><td> 8.1</td><td>2.2</td><td>10.3</td><td>  3.5</td><td> NA</td></tr>\n",
              "\t<tr><td>  0.900</td><td>   2.60</td><td>11.0</td><td>2.3</td><td>13.3</td><td>  4.5</td><td> 60</td></tr>\n",
              "\t<tr><td>  2.000</td><td>  12.30</td><td> 4.9</td><td>0.5</td><td> 5.4</td><td>  7.5</td><td>200</td></tr>\n",
              "\t<tr><td>  0.104</td><td>   2.50</td><td>13.2</td><td>2.6</td><td>15.8</td><td>  2.3</td><td> 46</td></tr>\n",
              "\t<tr><td>  4.190</td><td>  58.00</td><td> 9.7</td><td>0.6</td><td>10.3</td><td> 24.0</td><td>210</td></tr>\n",
              "\t<tr><td>  3.500</td><td>   3.90</td><td>12.8</td><td>6.6</td><td>19.4</td><td>  3.0</td><td> 14</td></tr>\n",
              "\t<tr><td>  4.050</td><td>  17.00</td><td>  NA</td><td> NA</td><td>  NA</td><td> 13.0</td><td> 38</td></tr>\n",
              "</tbody>\n",
              "</table>\n"
            ],
            "text/markdown": "\nA data.frame: 62 × 7\n\n| BodyWgt &lt;dbl&gt; | BrainWgt &lt;dbl&gt; | NonD &lt;dbl&gt; | Dream &lt;dbl&gt; | Sleep &lt;dbl&gt; | Span &lt;dbl&gt; | Gest &lt;dbl&gt; |\n|---|---|---|---|---|---|---|\n| 6654.000 | 5712.0 |   NA |  NA |  3.3 | 38.6 | 645 |\n|    1.000 |    6.6 |  6.3 | 2.0 |  8.3 |  4.5 |  42 |\n|    3.385 |   44.5 |   NA |  NA | 12.5 | 14.0 |  60 |\n|    0.920 |    5.7 |   NA |  NA | 16.5 |   NA |  25 |\n| 2547.000 | 4603.0 |  2.1 | 1.8 |  3.9 | 69.0 | 624 |\n|   10.550 |  179.5 |  9.1 | 0.7 |  9.8 | 27.0 | 180 |\n|    0.023 |    0.3 | 15.8 | 3.9 | 19.7 | 19.0 |  35 |\n|  160.000 |  169.0 |  5.2 | 1.0 |  6.2 | 30.4 | 392 |\n|    3.300 |   25.6 | 10.9 | 3.6 | 14.5 | 28.0 |  63 |\n|   52.160 |  440.0 |  8.3 | 1.4 |  9.7 | 50.0 | 230 |\n|    0.425 |    6.4 | 11.0 | 1.5 | 12.5 |  7.0 | 112 |\n|  465.000 |  423.0 |  3.2 | 0.7 |  3.9 | 30.0 | 281 |\n|    0.550 |    2.4 |  7.6 | 2.7 | 10.3 |   NA |  NA |\n|  187.100 |  419.0 |   NA |  NA |  3.1 | 40.0 | 365 |\n|    0.075 |    1.2 |  6.3 | 2.1 |  8.4 |  3.5 |  42 |\n|    3.000 |   25.0 |  8.6 | 0.0 |  8.6 | 50.0 |  28 |\n|    0.785 |    3.5 |  6.6 | 4.1 | 10.7 |  6.0 |  42 |\n|    0.200 |    5.0 |  9.5 | 1.2 | 10.7 | 10.4 | 120 |\n|    1.410 |   17.5 |  4.8 | 1.3 |  6.1 | 34.0 |  NA |\n|   60.000 |   81.0 | 12.0 | 6.1 | 18.1 |  7.0 |  NA |\n|  529.000 |  680.0 |   NA | 0.3 |   NA | 28.0 | 400 |\n|   27.660 |  115.0 |  3.3 | 0.5 |  3.8 | 20.0 | 148 |\n|    0.120 |    1.0 | 11.0 | 3.4 | 14.4 |  3.9 |  16 |\n|  207.000 |  406.0 |   NA |  NA | 12.0 | 39.3 | 252 |\n|   85.000 |  325.0 |  4.7 | 1.5 |  6.2 | 41.0 | 310 |\n|   36.330 |  119.5 |   NA |  NA | 13.0 | 16.2 |  63 |\n|    0.101 |    4.0 | 10.4 | 3.4 | 13.8 |  9.0 |  28 |\n|    1.040 |    5.5 |  7.4 | 0.8 |  8.2 |  7.6 |  68 |\n|  521.000 |  655.0 |  2.1 | 0.8 |  2.9 | 46.0 | 336 |\n|  100.000 |  157.0 |   NA |  NA | 10.8 | 22.4 | 100 |\n| ⋮ | ⋮ | ⋮ | ⋮ | ⋮ | ⋮ | ⋮ |\n|   0.010 |    0.25 | 17.9 | 2.0 | 19.9 |  24.0 |  50 |\n|  62.000 | 1320.00 |  6.1 | 1.9 |  8.0 | 100.0 | 267 |\n|   0.122 |    3.00 |  8.2 | 2.4 | 10.6 |    NA |  30 |\n|   1.350 |    8.10 |  8.4 | 2.8 | 11.2 |    NA |  45 |\n|   0.023 |    0.40 | 11.9 | 1.3 | 13.2 |   3.2 |  19 |\n|   0.048 |    0.33 | 10.8 | 2.0 | 12.8 |   2.0 |  30 |\n|   1.700 |    6.30 | 13.8 | 5.6 | 19.4 |   5.0 |  12 |\n|   3.500 |   10.80 | 14.3 | 3.1 | 17.4 |   6.5 | 120 |\n| 250.000 |  490.00 |   NA | 1.0 |   NA |  23.6 | 440 |\n|   0.480 |   15.50 | 15.2 | 1.8 | 17.0 |  12.0 | 140 |\n|  10.000 |  115.00 | 10.0 | 0.9 | 10.9 |  20.2 | 170 |\n|   1.620 |   11.40 | 11.9 | 1.8 | 13.7 |  13.0 |  17 |\n| 192.000 |  180.00 |  6.5 | 1.9 |  8.4 |  27.0 | 115 |\n|   2.500 |   12.10 |  7.5 | 0.9 |  8.4 |  18.0 |  31 |\n|   4.288 |   39.20 |   NA |  NA | 12.5 |  13.7 |  63 |\n|   0.280 |    1.90 | 10.6 | 2.6 | 13.2 |   4.7 |  21 |\n|   4.235 |   50.40 |  7.4 | 2.4 |  9.8 |   9.8 |  52 |\n|   6.800 |  179.00 |  8.4 | 1.2 |  9.6 |  29.0 | 164 |\n|   0.750 |   12.30 |  5.7 | 0.9 |  6.6 |   7.0 | 225 |\n|   3.600 |   21.00 |  4.9 | 0.5 |  5.4 |   6.0 | 225 |\n|  14.830 |   98.20 |   NA |  NA |  2.6 |  17.0 | 150 |\n|  55.500 |  175.00 |  3.2 | 0.6 |  3.8 |  20.0 | 151 |\n|   1.400 |   12.50 |   NA |  NA | 11.0 |  12.7 |  90 |\n|   0.060 |    1.00 |  8.1 | 2.2 | 10.3 |   3.5 |  NA |\n|   0.900 |    2.60 | 11.0 | 2.3 | 13.3 |   4.5 |  60 |\n|   2.000 |   12.30 |  4.9 | 0.5 |  5.4 |   7.5 | 200 |\n|   0.104 |    2.50 | 13.2 | 2.6 | 15.8 |   2.3 |  46 |\n|   4.190 |   58.00 |  9.7 | 0.6 | 10.3 |  24.0 | 210 |\n|   3.500 |    3.90 | 12.8 | 6.6 | 19.4 |   3.0 |  14 |\n|   4.050 |   17.00 |   NA |  NA |   NA |  13.0 |  38 |\n\n",
            "text/latex": "A data.frame: 62 × 7\n\\begin{tabular}{lllllll}\n BodyWgt & BrainWgt & NonD & Dream & Sleep & Span & Gest\\\\\n <dbl> & <dbl> & <dbl> & <dbl> & <dbl> & <dbl> & <dbl>\\\\\n\\hline\n\t 6654.000 & 5712.0 &   NA &  NA &  3.3 & 38.6 & 645\\\\\n\t    1.000 &    6.6 &  6.3 & 2.0 &  8.3 &  4.5 &  42\\\\\n\t    3.385 &   44.5 &   NA &  NA & 12.5 & 14.0 &  60\\\\\n\t    0.920 &    5.7 &   NA &  NA & 16.5 &   NA &  25\\\\\n\t 2547.000 & 4603.0 &  2.1 & 1.8 &  3.9 & 69.0 & 624\\\\\n\t   10.550 &  179.5 &  9.1 & 0.7 &  9.8 & 27.0 & 180\\\\\n\t    0.023 &    0.3 & 15.8 & 3.9 & 19.7 & 19.0 &  35\\\\\n\t  160.000 &  169.0 &  5.2 & 1.0 &  6.2 & 30.4 & 392\\\\\n\t    3.300 &   25.6 & 10.9 & 3.6 & 14.5 & 28.0 &  63\\\\\n\t   52.160 &  440.0 &  8.3 & 1.4 &  9.7 & 50.0 & 230\\\\\n\t    0.425 &    6.4 & 11.0 & 1.5 & 12.5 &  7.0 & 112\\\\\n\t  465.000 &  423.0 &  3.2 & 0.7 &  3.9 & 30.0 & 281\\\\\n\t    0.550 &    2.4 &  7.6 & 2.7 & 10.3 &   NA &  NA\\\\\n\t  187.100 &  419.0 &   NA &  NA &  3.1 & 40.0 & 365\\\\\n\t    0.075 &    1.2 &  6.3 & 2.1 &  8.4 &  3.5 &  42\\\\\n\t    3.000 &   25.0 &  8.6 & 0.0 &  8.6 & 50.0 &  28\\\\\n\t    0.785 &    3.5 &  6.6 & 4.1 & 10.7 &  6.0 &  42\\\\\n\t    0.200 &    5.0 &  9.5 & 1.2 & 10.7 & 10.4 & 120\\\\\n\t    1.410 &   17.5 &  4.8 & 1.3 &  6.1 & 34.0 &  NA\\\\\n\t   60.000 &   81.0 & 12.0 & 6.1 & 18.1 &  7.0 &  NA\\\\\n\t  529.000 &  680.0 &   NA & 0.3 &   NA & 28.0 & 400\\\\\n\t   27.660 &  115.0 &  3.3 & 0.5 &  3.8 & 20.0 & 148\\\\\n\t    0.120 &    1.0 & 11.0 & 3.4 & 14.4 &  3.9 &  16\\\\\n\t  207.000 &  406.0 &   NA &  NA & 12.0 & 39.3 & 252\\\\\n\t   85.000 &  325.0 &  4.7 & 1.5 &  6.2 & 41.0 & 310\\\\\n\t   36.330 &  119.5 &   NA &  NA & 13.0 & 16.2 &  63\\\\\n\t    0.101 &    4.0 & 10.4 & 3.4 & 13.8 &  9.0 &  28\\\\\n\t    1.040 &    5.5 &  7.4 & 0.8 &  8.2 &  7.6 &  68\\\\\n\t  521.000 &  655.0 &  2.1 & 0.8 &  2.9 & 46.0 & 336\\\\\n\t  100.000 &  157.0 &   NA &  NA & 10.8 & 22.4 & 100\\\\\n\t ⋮ & ⋮ & ⋮ & ⋮ & ⋮ & ⋮ & ⋮\\\\\n\t   0.010 &    0.25 & 17.9 & 2.0 & 19.9 &  24.0 &  50\\\\\n\t  62.000 & 1320.00 &  6.1 & 1.9 &  8.0 & 100.0 & 267\\\\\n\t   0.122 &    3.00 &  8.2 & 2.4 & 10.6 &    NA &  30\\\\\n\t   1.350 &    8.10 &  8.4 & 2.8 & 11.2 &    NA &  45\\\\\n\t   0.023 &    0.40 & 11.9 & 1.3 & 13.2 &   3.2 &  19\\\\\n\t   0.048 &    0.33 & 10.8 & 2.0 & 12.8 &   2.0 &  30\\\\\n\t   1.700 &    6.30 & 13.8 & 5.6 & 19.4 &   5.0 &  12\\\\\n\t   3.500 &   10.80 & 14.3 & 3.1 & 17.4 &   6.5 & 120\\\\\n\t 250.000 &  490.00 &   NA & 1.0 &   NA &  23.6 & 440\\\\\n\t   0.480 &   15.50 & 15.2 & 1.8 & 17.0 &  12.0 & 140\\\\\n\t  10.000 &  115.00 & 10.0 & 0.9 & 10.9 &  20.2 & 170\\\\\n\t   1.620 &   11.40 & 11.9 & 1.8 & 13.7 &  13.0 &  17\\\\\n\t 192.000 &  180.00 &  6.5 & 1.9 &  8.4 &  27.0 & 115\\\\\n\t   2.500 &   12.10 &  7.5 & 0.9 &  8.4 &  18.0 &  31\\\\\n\t   4.288 &   39.20 &   NA &  NA & 12.5 &  13.7 &  63\\\\\n\t   0.280 &    1.90 & 10.6 & 2.6 & 13.2 &   4.7 &  21\\\\\n\t   4.235 &   50.40 &  7.4 & 2.4 &  9.8 &   9.8 &  52\\\\\n\t   6.800 &  179.00 &  8.4 & 1.2 &  9.6 &  29.0 & 164\\\\\n\t   0.750 &   12.30 &  5.7 & 0.9 &  6.6 &   7.0 & 225\\\\\n\t   3.600 &   21.00 &  4.9 & 0.5 &  5.4 &   6.0 & 225\\\\\n\t  14.830 &   98.20 &   NA &  NA &  2.6 &  17.0 & 150\\\\\n\t  55.500 &  175.00 &  3.2 & 0.6 &  3.8 &  20.0 & 151\\\\\n\t   1.400 &   12.50 &   NA &  NA & 11.0 &  12.7 &  90\\\\\n\t   0.060 &    1.00 &  8.1 & 2.2 & 10.3 &   3.5 &  NA\\\\\n\t   0.900 &    2.60 & 11.0 & 2.3 & 13.3 &   4.5 &  60\\\\\n\t   2.000 &   12.30 &  4.9 & 0.5 &  5.4 &   7.5 & 200\\\\\n\t   0.104 &    2.50 & 13.2 & 2.6 & 15.8 &   2.3 &  46\\\\\n\t   4.190 &   58.00 &  9.7 & 0.6 & 10.3 &  24.0 & 210\\\\\n\t   3.500 &    3.90 & 12.8 & 6.6 & 19.4 &   3.0 &  14\\\\\n\t   4.050 &   17.00 &   NA &  NA &   NA &  13.0 &  38\\\\\n\\end{tabular}\n",
            "text/plain": [
              "   BodyWgt  BrainWgt NonD Dream Sleep Span  Gest\n",
              "1  6654.000 5712.0     NA  NA    3.3  38.6  645 \n",
              "2     1.000    6.6    6.3 2.0    8.3   4.5   42 \n",
              "3     3.385   44.5     NA  NA   12.5  14.0   60 \n",
              "4     0.920    5.7     NA  NA   16.5    NA   25 \n",
              "5  2547.000 4603.0    2.1 1.8    3.9  69.0  624 \n",
              "6    10.550  179.5    9.1 0.7    9.8  27.0  180 \n",
              "7     0.023    0.3   15.8 3.9   19.7  19.0   35 \n",
              "8   160.000  169.0    5.2 1.0    6.2  30.4  392 \n",
              "9     3.300   25.6   10.9 3.6   14.5  28.0   63 \n",
              "10   52.160  440.0    8.3 1.4    9.7  50.0  230 \n",
              "11    0.425    6.4   11.0 1.5   12.5   7.0  112 \n",
              "12  465.000  423.0    3.2 0.7    3.9  30.0  281 \n",
              "13    0.550    2.4    7.6 2.7   10.3    NA   NA \n",
              "14  187.100  419.0     NA  NA    3.1  40.0  365 \n",
              "15    0.075    1.2    6.3 2.1    8.4   3.5   42 \n",
              "16    3.000   25.0    8.6 0.0    8.6  50.0   28 \n",
              "17    0.785    3.5    6.6 4.1   10.7   6.0   42 \n",
              "18    0.200    5.0    9.5 1.2   10.7  10.4  120 \n",
              "19    1.410   17.5    4.8 1.3    6.1  34.0   NA \n",
              "20   60.000   81.0   12.0 6.1   18.1   7.0   NA \n",
              "21  529.000  680.0     NA 0.3     NA  28.0  400 \n",
              "22   27.660  115.0    3.3 0.5    3.8  20.0  148 \n",
              "23    0.120    1.0   11.0 3.4   14.4   3.9   16 \n",
              "24  207.000  406.0     NA  NA   12.0  39.3  252 \n",
              "25   85.000  325.0    4.7 1.5    6.2  41.0  310 \n",
              "26   36.330  119.5     NA  NA   13.0  16.2   63 \n",
              "27    0.101    4.0   10.4 3.4   13.8   9.0   28 \n",
              "28    1.040    5.5    7.4 0.8    8.2   7.6   68 \n",
              "29  521.000  655.0    2.1 0.8    2.9  46.0  336 \n",
              "30  100.000  157.0     NA  NA   10.8  22.4  100 \n",
              "⋮  ⋮        ⋮        ⋮    ⋮     ⋮     ⋮     ⋮   \n",
              "33   0.010     0.25  17.9 2.0   19.9   24.0  50 \n",
              "34  62.000  1320.00   6.1 1.9    8.0  100.0 267 \n",
              "35   0.122     3.00   8.2 2.4   10.6     NA  30 \n",
              "36   1.350     8.10   8.4 2.8   11.2     NA  45 \n",
              "37   0.023     0.40  11.9 1.3   13.2    3.2  19 \n",
              "38   0.048     0.33  10.8 2.0   12.8    2.0  30 \n",
              "39   1.700     6.30  13.8 5.6   19.4    5.0  12 \n",
              "40   3.500    10.80  14.3 3.1   17.4    6.5 120 \n",
              "41 250.000   490.00    NA 1.0     NA   23.6 440 \n",
              "42   0.480    15.50  15.2 1.8   17.0   12.0 140 \n",
              "43  10.000   115.00  10.0 0.9   10.9   20.2 170 \n",
              "44   1.620    11.40  11.9 1.8   13.7   13.0  17 \n",
              "45 192.000   180.00   6.5 1.9    8.4   27.0 115 \n",
              "46   2.500    12.10   7.5 0.9    8.4   18.0  31 \n",
              "47   4.288    39.20    NA  NA   12.5   13.7  63 \n",
              "48   0.280     1.90  10.6 2.6   13.2    4.7  21 \n",
              "49   4.235    50.40   7.4 2.4    9.8    9.8  52 \n",
              "50   6.800   179.00   8.4 1.2    9.6   29.0 164 \n",
              "51   0.750    12.30   5.7 0.9    6.6    7.0 225 \n",
              "52   3.600    21.00   4.9 0.5    5.4    6.0 225 \n",
              "53  14.830    98.20    NA  NA    2.6   17.0 150 \n",
              "54  55.500   175.00   3.2 0.6    3.8   20.0 151 \n",
              "55   1.400    12.50    NA  NA   11.0   12.7  90 \n",
              "56   0.060     1.00   8.1 2.2   10.3    3.5  NA \n",
              "57   0.900     2.60  11.0 2.3   13.3    4.5  60 \n",
              "58   2.000    12.30   4.9 0.5    5.4    7.5 200 \n",
              "59   0.104     2.50  13.2 2.6   15.8    2.3  46 \n",
              "60   4.190    58.00   9.7 0.6   10.3   24.0 210 \n",
              "61   3.500     3.90  12.8 6.6   19.4    3.0  14 \n",
              "62   4.050    17.00    NA  NA     NA   13.0  38 "
            ]
          },
          "metadata": {}
        }
      ]
    },
    {
      "cell_type": "code",
      "source": [
        "View(new_sleep_ridge,)"
      ],
      "metadata": {
        "collapsed": true,
        "id": "twCmzpD2M7a5",
        "outputId": "39124ee9-28d3-43ea-e1e6-6499ac9627d3",
        "colab": {
          "base_uri": "https://localhost:8080/",
          "height": 1000
        }
      },
      "id": "twCmzpD2M7a5",
      "execution_count": 55,
      "outputs": [
        {
          "output_type": "display_data",
          "data": {
            "text/plain": [
              "   BodyWgt  BrainWgt NonD       Dream      Sleep     Span      Gest     \n",
              "1  6654.000 5712.0    0.9977886  2.265123   3.300000 38.60000  645.00000\n",
              "2     1.000    6.6    6.3000000  2.000000   8.300000  4.50000   42.00000\n",
              "3     3.385   44.5    9.9655597  2.238181  12.500000 14.00000   60.00000\n",
              "4     0.920    5.7   13.2040625  3.255971  16.500000 10.24426   25.00000\n",
              "5  2547.000 4603.0    2.1000000  1.800000   3.900000 69.00000  624.00000\n",
              "6    10.550  179.5    9.1000000  0.700000   9.800000 27.00000  180.00000\n",
              "7     0.023    0.3   15.8000000  3.900000  19.700000 19.00000   35.00000\n",
              "8   160.000  169.0    5.2000000  1.000000   6.200000 30.40000  392.00000\n",
              "9     3.300   25.6   10.9000000  3.600000  14.500000 28.00000   63.00000\n",
              "10   52.160  440.0    8.3000000  1.400000   9.700000 50.00000  230.00000\n",
              "11    0.425    6.4   11.0000000  1.500000  12.500000  7.00000  112.00000\n",
              "12  465.000  423.0    3.2000000  0.700000   3.900000 30.00000  281.00000\n",
              "13    0.550    2.4    7.6000000  2.700000  10.300000 13.11606   90.75350\n",
              "14  187.100  419.0    3.1266758 -0.193222   3.100000 40.00000  365.00000\n",
              "15    0.075    1.2    6.3000000  2.100000   8.400000  3.50000   42.00000\n",
              "16    3.000   25.0    8.6000000  0.000000   8.600000 50.00000   28.00000\n",
              "17    0.785    3.5    6.6000000  4.100000  10.700000  6.00000   42.00000\n",
              "18    0.200    5.0    9.5000000  1.200000  10.700000 10.40000  120.00000\n",
              "19    1.410   17.5    4.8000000  1.300000   6.100000 34.00000  182.90612\n",
              "20   60.000   81.0   12.0000000  6.100000  18.100000  7.00000  -27.03266\n",
              "21  529.000  680.0    5.3378142  0.300000   5.274995 28.00000  400.00000\n",
              "22   27.660  115.0    3.3000000  0.500000   3.800000 20.00000  148.00000\n",
              "23    0.120    1.0   11.0000000  3.400000  14.400000  3.90000   16.00000\n",
              "24  207.000  406.0   10.2391496  2.031533  12.000000 39.30000  252.00000\n",
              "25   85.000  325.0    4.7000000  1.500000   6.200000 41.00000  310.00000\n",
              "26   36.330  119.5   10.3594906  2.387129  13.000000 16.20000   63.00000\n",
              "27    0.101    4.0   10.4000000  3.400000  13.800000  9.00000   28.00000\n",
              "28    1.040    5.5    7.4000000  0.800000   8.200000  7.60000   68.00000\n",
              "29  521.000  655.0    2.1000000  0.800000   2.900000 46.00000  336.00000\n",
              "30  100.000  157.0    8.6794102  1.788085  10.800000 22.40000  100.00000\n",
              "⋮  ⋮        ⋮        ⋮          ⋮          ⋮         ⋮         ⋮        \n",
              "33   0.010     0.25  17.900000   2.0000000 19.900000  24.00000  50.00000\n",
              "34  62.000  1320.00   6.100000   1.9000000  8.000000 100.00000 267.00000\n",
              "35   0.122     3.00   8.200000   2.4000000 10.600000  11.42741  30.00000\n",
              "36   1.350     8.10   8.400000   2.8000000 11.200000  11.43791  45.00000\n",
              "37   0.023     0.40  11.900000   1.3000000 13.200000   3.20000  19.00000\n",
              "38   0.048     0.33  10.800000   2.0000000 12.800000   2.00000  30.00000\n",
              "39   1.700     6.30  13.800000   5.6000000 19.400000   5.00000  12.00000\n",
              "40   3.500    10.80  14.300000   3.1000000 17.400000   6.50000 120.00000\n",
              "41 250.000   490.00   7.284050   1.0000000  7.323389  23.60000 440.00000\n",
              "42   0.480    15.50  15.200000   1.8000000 17.000000  12.00000 140.00000\n",
              "43  10.000   115.00  10.000000   0.9000000 10.900000  20.20000 170.00000\n",
              "44   1.620    11.40  11.900000   1.8000000 13.700000  13.00000  17.00000\n",
              "45 192.000   180.00   6.500000   1.9000000  8.400000  27.00000 115.00000\n",
              "46   2.500    12.10   7.500000   0.9000000  8.400000  18.00000  31.00000\n",
              "47   4.288    39.20   9.979540   2.2360153 12.500000  13.70000  63.00000\n",
              "48   0.280     1.90  10.600000   2.6000000 13.200000   4.70000  21.00000\n",
              "49   4.235    50.40   7.400000   2.4000000  9.800000   9.80000  52.00000\n",
              "50   6.800   179.00   8.400000   1.2000000  9.600000  29.00000 164.00000\n",
              "51   0.750    12.30   5.700000   0.9000000  6.600000   7.00000 225.00000\n",
              "52   3.600    21.00   4.900000   0.5000000  5.400000   6.00000 225.00000\n",
              "53  14.830    98.20   1.907873  -0.2239749  2.600000  17.00000 150.00000\n",
              "54  55.500   175.00   3.200000   0.6000000  3.800000  20.00000 151.00000\n",
              "55   1.400    12.50   8.828174   1.8479549 11.000000  12.70000  90.00000\n",
              "56   0.060     1.00   8.100000   2.2000000 10.300000   3.50000  87.06433\n",
              "57   0.900     2.60  11.000000   2.3000000 13.300000   4.50000  60.00000\n",
              "58   2.000    12.30   4.900000   0.5000000  5.400000   7.50000 200.00000\n",
              "59   0.104     2.50  13.200000   2.6000000 15.800000   2.30000  46.00000\n",
              "60   4.190    58.00   9.700000   0.6000000 10.300000  24.00000 210.00000\n",
              "61   3.500     3.90  12.800000   6.6000000 19.400000   3.00000  14.00000\n",
              "62   4.050    17.00   7.390838   3.3040325  4.660494  13.00000  38.00000"
            ],
            "text/html": [
              "<table class=\"dataframe\">\n",
              "<caption>A data.frame: 62 × 7</caption>\n",
              "<thead>\n",
              "\t<tr><th scope=col>BodyWgt</th><th scope=col>BrainWgt</th><th scope=col>NonD</th><th scope=col>Dream</th><th scope=col>Sleep</th><th scope=col>Span</th><th scope=col>Gest</th></tr>\n",
              "\t<tr><th scope=col>&lt;dbl&gt;</th><th scope=col>&lt;dbl&gt;</th><th scope=col>&lt;dbl&gt;</th><th scope=col>&lt;dbl&gt;</th><th scope=col>&lt;dbl&gt;</th><th scope=col>&lt;dbl&gt;</th><th scope=col>&lt;dbl&gt;</th></tr>\n",
              "</thead>\n",
              "<tbody>\n",
              "\t<tr><td>6654.000</td><td>5712.0</td><td> 0.9977886</td><td> 2.265123</td><td> 3.300000</td><td>38.60000</td><td>645.00000</td></tr>\n",
              "\t<tr><td>   1.000</td><td>   6.6</td><td> 6.3000000</td><td> 2.000000</td><td> 8.300000</td><td> 4.50000</td><td> 42.00000</td></tr>\n",
              "\t<tr><td>   3.385</td><td>  44.5</td><td> 9.9655597</td><td> 2.238181</td><td>12.500000</td><td>14.00000</td><td> 60.00000</td></tr>\n",
              "\t<tr><td>   0.920</td><td>   5.7</td><td>13.2040625</td><td> 3.255971</td><td>16.500000</td><td>10.24426</td><td> 25.00000</td></tr>\n",
              "\t<tr><td>2547.000</td><td>4603.0</td><td> 2.1000000</td><td> 1.800000</td><td> 3.900000</td><td>69.00000</td><td>624.00000</td></tr>\n",
              "\t<tr><td>  10.550</td><td> 179.5</td><td> 9.1000000</td><td> 0.700000</td><td> 9.800000</td><td>27.00000</td><td>180.00000</td></tr>\n",
              "\t<tr><td>   0.023</td><td>   0.3</td><td>15.8000000</td><td> 3.900000</td><td>19.700000</td><td>19.00000</td><td> 35.00000</td></tr>\n",
              "\t<tr><td> 160.000</td><td> 169.0</td><td> 5.2000000</td><td> 1.000000</td><td> 6.200000</td><td>30.40000</td><td>392.00000</td></tr>\n",
              "\t<tr><td>   3.300</td><td>  25.6</td><td>10.9000000</td><td> 3.600000</td><td>14.500000</td><td>28.00000</td><td> 63.00000</td></tr>\n",
              "\t<tr><td>  52.160</td><td> 440.0</td><td> 8.3000000</td><td> 1.400000</td><td> 9.700000</td><td>50.00000</td><td>230.00000</td></tr>\n",
              "\t<tr><td>   0.425</td><td>   6.4</td><td>11.0000000</td><td> 1.500000</td><td>12.500000</td><td> 7.00000</td><td>112.00000</td></tr>\n",
              "\t<tr><td> 465.000</td><td> 423.0</td><td> 3.2000000</td><td> 0.700000</td><td> 3.900000</td><td>30.00000</td><td>281.00000</td></tr>\n",
              "\t<tr><td>   0.550</td><td>   2.4</td><td> 7.6000000</td><td> 2.700000</td><td>10.300000</td><td>13.11606</td><td> 90.75350</td></tr>\n",
              "\t<tr><td> 187.100</td><td> 419.0</td><td> 3.1266758</td><td>-0.193222</td><td> 3.100000</td><td>40.00000</td><td>365.00000</td></tr>\n",
              "\t<tr><td>   0.075</td><td>   1.2</td><td> 6.3000000</td><td> 2.100000</td><td> 8.400000</td><td> 3.50000</td><td> 42.00000</td></tr>\n",
              "\t<tr><td>   3.000</td><td>  25.0</td><td> 8.6000000</td><td> 0.000000</td><td> 8.600000</td><td>50.00000</td><td> 28.00000</td></tr>\n",
              "\t<tr><td>   0.785</td><td>   3.5</td><td> 6.6000000</td><td> 4.100000</td><td>10.700000</td><td> 6.00000</td><td> 42.00000</td></tr>\n",
              "\t<tr><td>   0.200</td><td>   5.0</td><td> 9.5000000</td><td> 1.200000</td><td>10.700000</td><td>10.40000</td><td>120.00000</td></tr>\n",
              "\t<tr><td>   1.410</td><td>  17.5</td><td> 4.8000000</td><td> 1.300000</td><td> 6.100000</td><td>34.00000</td><td>182.90612</td></tr>\n",
              "\t<tr><td>  60.000</td><td>  81.0</td><td>12.0000000</td><td> 6.100000</td><td>18.100000</td><td> 7.00000</td><td>-27.03266</td></tr>\n",
              "\t<tr><td> 529.000</td><td> 680.0</td><td> 5.3378142</td><td> 0.300000</td><td> 5.274995</td><td>28.00000</td><td>400.00000</td></tr>\n",
              "\t<tr><td>  27.660</td><td> 115.0</td><td> 3.3000000</td><td> 0.500000</td><td> 3.800000</td><td>20.00000</td><td>148.00000</td></tr>\n",
              "\t<tr><td>   0.120</td><td>   1.0</td><td>11.0000000</td><td> 3.400000</td><td>14.400000</td><td> 3.90000</td><td> 16.00000</td></tr>\n",
              "\t<tr><td> 207.000</td><td> 406.0</td><td>10.2391496</td><td> 2.031533</td><td>12.000000</td><td>39.30000</td><td>252.00000</td></tr>\n",
              "\t<tr><td>  85.000</td><td> 325.0</td><td> 4.7000000</td><td> 1.500000</td><td> 6.200000</td><td>41.00000</td><td>310.00000</td></tr>\n",
              "\t<tr><td>  36.330</td><td> 119.5</td><td>10.3594906</td><td> 2.387129</td><td>13.000000</td><td>16.20000</td><td> 63.00000</td></tr>\n",
              "\t<tr><td>   0.101</td><td>   4.0</td><td>10.4000000</td><td> 3.400000</td><td>13.800000</td><td> 9.00000</td><td> 28.00000</td></tr>\n",
              "\t<tr><td>   1.040</td><td>   5.5</td><td> 7.4000000</td><td> 0.800000</td><td> 8.200000</td><td> 7.60000</td><td> 68.00000</td></tr>\n",
              "\t<tr><td> 521.000</td><td> 655.0</td><td> 2.1000000</td><td> 0.800000</td><td> 2.900000</td><td>46.00000</td><td>336.00000</td></tr>\n",
              "\t<tr><td> 100.000</td><td> 157.0</td><td> 8.6794102</td><td> 1.788085</td><td>10.800000</td><td>22.40000</td><td>100.00000</td></tr>\n",
              "\t<tr><td>⋮</td><td>⋮</td><td>⋮</td><td>⋮</td><td>⋮</td><td>⋮</td><td>⋮</td></tr>\n",
              "\t<tr><td>  0.010</td><td>   0.25</td><td>17.900000</td><td> 2.0000000</td><td>19.900000</td><td> 24.00000</td><td> 50.00000</td></tr>\n",
              "\t<tr><td> 62.000</td><td>1320.00</td><td> 6.100000</td><td> 1.9000000</td><td> 8.000000</td><td>100.00000</td><td>267.00000</td></tr>\n",
              "\t<tr><td>  0.122</td><td>   3.00</td><td> 8.200000</td><td> 2.4000000</td><td>10.600000</td><td> 11.42741</td><td> 30.00000</td></tr>\n",
              "\t<tr><td>  1.350</td><td>   8.10</td><td> 8.400000</td><td> 2.8000000</td><td>11.200000</td><td> 11.43791</td><td> 45.00000</td></tr>\n",
              "\t<tr><td>  0.023</td><td>   0.40</td><td>11.900000</td><td> 1.3000000</td><td>13.200000</td><td>  3.20000</td><td> 19.00000</td></tr>\n",
              "\t<tr><td>  0.048</td><td>   0.33</td><td>10.800000</td><td> 2.0000000</td><td>12.800000</td><td>  2.00000</td><td> 30.00000</td></tr>\n",
              "\t<tr><td>  1.700</td><td>   6.30</td><td>13.800000</td><td> 5.6000000</td><td>19.400000</td><td>  5.00000</td><td> 12.00000</td></tr>\n",
              "\t<tr><td>  3.500</td><td>  10.80</td><td>14.300000</td><td> 3.1000000</td><td>17.400000</td><td>  6.50000</td><td>120.00000</td></tr>\n",
              "\t<tr><td>250.000</td><td> 490.00</td><td> 7.284050</td><td> 1.0000000</td><td> 7.323389</td><td> 23.60000</td><td>440.00000</td></tr>\n",
              "\t<tr><td>  0.480</td><td>  15.50</td><td>15.200000</td><td> 1.8000000</td><td>17.000000</td><td> 12.00000</td><td>140.00000</td></tr>\n",
              "\t<tr><td> 10.000</td><td> 115.00</td><td>10.000000</td><td> 0.9000000</td><td>10.900000</td><td> 20.20000</td><td>170.00000</td></tr>\n",
              "\t<tr><td>  1.620</td><td>  11.40</td><td>11.900000</td><td> 1.8000000</td><td>13.700000</td><td> 13.00000</td><td> 17.00000</td></tr>\n",
              "\t<tr><td>192.000</td><td> 180.00</td><td> 6.500000</td><td> 1.9000000</td><td> 8.400000</td><td> 27.00000</td><td>115.00000</td></tr>\n",
              "\t<tr><td>  2.500</td><td>  12.10</td><td> 7.500000</td><td> 0.9000000</td><td> 8.400000</td><td> 18.00000</td><td> 31.00000</td></tr>\n",
              "\t<tr><td>  4.288</td><td>  39.20</td><td> 9.979540</td><td> 2.2360153</td><td>12.500000</td><td> 13.70000</td><td> 63.00000</td></tr>\n",
              "\t<tr><td>  0.280</td><td>   1.90</td><td>10.600000</td><td> 2.6000000</td><td>13.200000</td><td>  4.70000</td><td> 21.00000</td></tr>\n",
              "\t<tr><td>  4.235</td><td>  50.40</td><td> 7.400000</td><td> 2.4000000</td><td> 9.800000</td><td>  9.80000</td><td> 52.00000</td></tr>\n",
              "\t<tr><td>  6.800</td><td> 179.00</td><td> 8.400000</td><td> 1.2000000</td><td> 9.600000</td><td> 29.00000</td><td>164.00000</td></tr>\n",
              "\t<tr><td>  0.750</td><td>  12.30</td><td> 5.700000</td><td> 0.9000000</td><td> 6.600000</td><td>  7.00000</td><td>225.00000</td></tr>\n",
              "\t<tr><td>  3.600</td><td>  21.00</td><td> 4.900000</td><td> 0.5000000</td><td> 5.400000</td><td>  6.00000</td><td>225.00000</td></tr>\n",
              "\t<tr><td> 14.830</td><td>  98.20</td><td> 1.907873</td><td>-0.2239749</td><td> 2.600000</td><td> 17.00000</td><td>150.00000</td></tr>\n",
              "\t<tr><td> 55.500</td><td> 175.00</td><td> 3.200000</td><td> 0.6000000</td><td> 3.800000</td><td> 20.00000</td><td>151.00000</td></tr>\n",
              "\t<tr><td>  1.400</td><td>  12.50</td><td> 8.828174</td><td> 1.8479549</td><td>11.000000</td><td> 12.70000</td><td> 90.00000</td></tr>\n",
              "\t<tr><td>  0.060</td><td>   1.00</td><td> 8.100000</td><td> 2.2000000</td><td>10.300000</td><td>  3.50000</td><td> 87.06433</td></tr>\n",
              "\t<tr><td>  0.900</td><td>   2.60</td><td>11.000000</td><td> 2.3000000</td><td>13.300000</td><td>  4.50000</td><td> 60.00000</td></tr>\n",
              "\t<tr><td>  2.000</td><td>  12.30</td><td> 4.900000</td><td> 0.5000000</td><td> 5.400000</td><td>  7.50000</td><td>200.00000</td></tr>\n",
              "\t<tr><td>  0.104</td><td>   2.50</td><td>13.200000</td><td> 2.6000000</td><td>15.800000</td><td>  2.30000</td><td> 46.00000</td></tr>\n",
              "\t<tr><td>  4.190</td><td>  58.00</td><td> 9.700000</td><td> 0.6000000</td><td>10.300000</td><td> 24.00000</td><td>210.00000</td></tr>\n",
              "\t<tr><td>  3.500</td><td>   3.90</td><td>12.800000</td><td> 6.6000000</td><td>19.400000</td><td>  3.00000</td><td> 14.00000</td></tr>\n",
              "\t<tr><td>  4.050</td><td>  17.00</td><td> 7.390838</td><td> 3.3040325</td><td> 4.660494</td><td> 13.00000</td><td> 38.00000</td></tr>\n",
              "</tbody>\n",
              "</table>\n"
            ],
            "text/markdown": "\nA data.frame: 62 × 7\n\n| BodyWgt &lt;dbl&gt; | BrainWgt &lt;dbl&gt; | NonD &lt;dbl&gt; | Dream &lt;dbl&gt; | Sleep &lt;dbl&gt; | Span &lt;dbl&gt; | Gest &lt;dbl&gt; |\n|---|---|---|---|---|---|---|\n| 6654.000 | 5712.0 |  0.9977886 |  2.265123 |  3.300000 | 38.60000 | 645.00000 |\n|    1.000 |    6.6 |  6.3000000 |  2.000000 |  8.300000 |  4.50000 |  42.00000 |\n|    3.385 |   44.5 |  9.9655597 |  2.238181 | 12.500000 | 14.00000 |  60.00000 |\n|    0.920 |    5.7 | 13.2040625 |  3.255971 | 16.500000 | 10.24426 |  25.00000 |\n| 2547.000 | 4603.0 |  2.1000000 |  1.800000 |  3.900000 | 69.00000 | 624.00000 |\n|   10.550 |  179.5 |  9.1000000 |  0.700000 |  9.800000 | 27.00000 | 180.00000 |\n|    0.023 |    0.3 | 15.8000000 |  3.900000 | 19.700000 | 19.00000 |  35.00000 |\n|  160.000 |  169.0 |  5.2000000 |  1.000000 |  6.200000 | 30.40000 | 392.00000 |\n|    3.300 |   25.6 | 10.9000000 |  3.600000 | 14.500000 | 28.00000 |  63.00000 |\n|   52.160 |  440.0 |  8.3000000 |  1.400000 |  9.700000 | 50.00000 | 230.00000 |\n|    0.425 |    6.4 | 11.0000000 |  1.500000 | 12.500000 |  7.00000 | 112.00000 |\n|  465.000 |  423.0 |  3.2000000 |  0.700000 |  3.900000 | 30.00000 | 281.00000 |\n|    0.550 |    2.4 |  7.6000000 |  2.700000 | 10.300000 | 13.11606 |  90.75350 |\n|  187.100 |  419.0 |  3.1266758 | -0.193222 |  3.100000 | 40.00000 | 365.00000 |\n|    0.075 |    1.2 |  6.3000000 |  2.100000 |  8.400000 |  3.50000 |  42.00000 |\n|    3.000 |   25.0 |  8.6000000 |  0.000000 |  8.600000 | 50.00000 |  28.00000 |\n|    0.785 |    3.5 |  6.6000000 |  4.100000 | 10.700000 |  6.00000 |  42.00000 |\n|    0.200 |    5.0 |  9.5000000 |  1.200000 | 10.700000 | 10.40000 | 120.00000 |\n|    1.410 |   17.5 |  4.8000000 |  1.300000 |  6.100000 | 34.00000 | 182.90612 |\n|   60.000 |   81.0 | 12.0000000 |  6.100000 | 18.100000 |  7.00000 | -27.03266 |\n|  529.000 |  680.0 |  5.3378142 |  0.300000 |  5.274995 | 28.00000 | 400.00000 |\n|   27.660 |  115.0 |  3.3000000 |  0.500000 |  3.800000 | 20.00000 | 148.00000 |\n|    0.120 |    1.0 | 11.0000000 |  3.400000 | 14.400000 |  3.90000 |  16.00000 |\n|  207.000 |  406.0 | 10.2391496 |  2.031533 | 12.000000 | 39.30000 | 252.00000 |\n|   85.000 |  325.0 |  4.7000000 |  1.500000 |  6.200000 | 41.00000 | 310.00000 |\n|   36.330 |  119.5 | 10.3594906 |  2.387129 | 13.000000 | 16.20000 |  63.00000 |\n|    0.101 |    4.0 | 10.4000000 |  3.400000 | 13.800000 |  9.00000 |  28.00000 |\n|    1.040 |    5.5 |  7.4000000 |  0.800000 |  8.200000 |  7.60000 |  68.00000 |\n|  521.000 |  655.0 |  2.1000000 |  0.800000 |  2.900000 | 46.00000 | 336.00000 |\n|  100.000 |  157.0 |  8.6794102 |  1.788085 | 10.800000 | 22.40000 | 100.00000 |\n| ⋮ | ⋮ | ⋮ | ⋮ | ⋮ | ⋮ | ⋮ |\n|   0.010 |    0.25 | 17.900000 |  2.0000000 | 19.900000 |  24.00000 |  50.00000 |\n|  62.000 | 1320.00 |  6.100000 |  1.9000000 |  8.000000 | 100.00000 | 267.00000 |\n|   0.122 |    3.00 |  8.200000 |  2.4000000 | 10.600000 |  11.42741 |  30.00000 |\n|   1.350 |    8.10 |  8.400000 |  2.8000000 | 11.200000 |  11.43791 |  45.00000 |\n|   0.023 |    0.40 | 11.900000 |  1.3000000 | 13.200000 |   3.20000 |  19.00000 |\n|   0.048 |    0.33 | 10.800000 |  2.0000000 | 12.800000 |   2.00000 |  30.00000 |\n|   1.700 |    6.30 | 13.800000 |  5.6000000 | 19.400000 |   5.00000 |  12.00000 |\n|   3.500 |   10.80 | 14.300000 |  3.1000000 | 17.400000 |   6.50000 | 120.00000 |\n| 250.000 |  490.00 |  7.284050 |  1.0000000 |  7.323389 |  23.60000 | 440.00000 |\n|   0.480 |   15.50 | 15.200000 |  1.8000000 | 17.000000 |  12.00000 | 140.00000 |\n|  10.000 |  115.00 | 10.000000 |  0.9000000 | 10.900000 |  20.20000 | 170.00000 |\n|   1.620 |   11.40 | 11.900000 |  1.8000000 | 13.700000 |  13.00000 |  17.00000 |\n| 192.000 |  180.00 |  6.500000 |  1.9000000 |  8.400000 |  27.00000 | 115.00000 |\n|   2.500 |   12.10 |  7.500000 |  0.9000000 |  8.400000 |  18.00000 |  31.00000 |\n|   4.288 |   39.20 |  9.979540 |  2.2360153 | 12.500000 |  13.70000 |  63.00000 |\n|   0.280 |    1.90 | 10.600000 |  2.6000000 | 13.200000 |   4.70000 |  21.00000 |\n|   4.235 |   50.40 |  7.400000 |  2.4000000 |  9.800000 |   9.80000 |  52.00000 |\n|   6.800 |  179.00 |  8.400000 |  1.2000000 |  9.600000 |  29.00000 | 164.00000 |\n|   0.750 |   12.30 |  5.700000 |  0.9000000 |  6.600000 |   7.00000 | 225.00000 |\n|   3.600 |   21.00 |  4.900000 |  0.5000000 |  5.400000 |   6.00000 | 225.00000 |\n|  14.830 |   98.20 |  1.907873 | -0.2239749 |  2.600000 |  17.00000 | 150.00000 |\n|  55.500 |  175.00 |  3.200000 |  0.6000000 |  3.800000 |  20.00000 | 151.00000 |\n|   1.400 |   12.50 |  8.828174 |  1.8479549 | 11.000000 |  12.70000 |  90.00000 |\n|   0.060 |    1.00 |  8.100000 |  2.2000000 | 10.300000 |   3.50000 |  87.06433 |\n|   0.900 |    2.60 | 11.000000 |  2.3000000 | 13.300000 |   4.50000 |  60.00000 |\n|   2.000 |   12.30 |  4.900000 |  0.5000000 |  5.400000 |   7.50000 | 200.00000 |\n|   0.104 |    2.50 | 13.200000 |  2.6000000 | 15.800000 |   2.30000 |  46.00000 |\n|   4.190 |   58.00 |  9.700000 |  0.6000000 | 10.300000 |  24.00000 | 210.00000 |\n|   3.500 |    3.90 | 12.800000 |  6.6000000 | 19.400000 |   3.00000 |  14.00000 |\n|   4.050 |   17.00 |  7.390838 |  3.3040325 |  4.660494 |  13.00000 |  38.00000 |\n\n",
            "text/latex": "A data.frame: 62 × 7\n\\begin{tabular}{lllllll}\n BodyWgt & BrainWgt & NonD & Dream & Sleep & Span & Gest\\\\\n <dbl> & <dbl> & <dbl> & <dbl> & <dbl> & <dbl> & <dbl>\\\\\n\\hline\n\t 6654.000 & 5712.0 &  0.9977886 &  2.265123 &  3.300000 & 38.60000 & 645.00000\\\\\n\t    1.000 &    6.6 &  6.3000000 &  2.000000 &  8.300000 &  4.50000 &  42.00000\\\\\n\t    3.385 &   44.5 &  9.9655597 &  2.238181 & 12.500000 & 14.00000 &  60.00000\\\\\n\t    0.920 &    5.7 & 13.2040625 &  3.255971 & 16.500000 & 10.24426 &  25.00000\\\\\n\t 2547.000 & 4603.0 &  2.1000000 &  1.800000 &  3.900000 & 69.00000 & 624.00000\\\\\n\t   10.550 &  179.5 &  9.1000000 &  0.700000 &  9.800000 & 27.00000 & 180.00000\\\\\n\t    0.023 &    0.3 & 15.8000000 &  3.900000 & 19.700000 & 19.00000 &  35.00000\\\\\n\t  160.000 &  169.0 &  5.2000000 &  1.000000 &  6.200000 & 30.40000 & 392.00000\\\\\n\t    3.300 &   25.6 & 10.9000000 &  3.600000 & 14.500000 & 28.00000 &  63.00000\\\\\n\t   52.160 &  440.0 &  8.3000000 &  1.400000 &  9.700000 & 50.00000 & 230.00000\\\\\n\t    0.425 &    6.4 & 11.0000000 &  1.500000 & 12.500000 &  7.00000 & 112.00000\\\\\n\t  465.000 &  423.0 &  3.2000000 &  0.700000 &  3.900000 & 30.00000 & 281.00000\\\\\n\t    0.550 &    2.4 &  7.6000000 &  2.700000 & 10.300000 & 13.11606 &  90.75350\\\\\n\t  187.100 &  419.0 &  3.1266758 & -0.193222 &  3.100000 & 40.00000 & 365.00000\\\\\n\t    0.075 &    1.2 &  6.3000000 &  2.100000 &  8.400000 &  3.50000 &  42.00000\\\\\n\t    3.000 &   25.0 &  8.6000000 &  0.000000 &  8.600000 & 50.00000 &  28.00000\\\\\n\t    0.785 &    3.5 &  6.6000000 &  4.100000 & 10.700000 &  6.00000 &  42.00000\\\\\n\t    0.200 &    5.0 &  9.5000000 &  1.200000 & 10.700000 & 10.40000 & 120.00000\\\\\n\t    1.410 &   17.5 &  4.8000000 &  1.300000 &  6.100000 & 34.00000 & 182.90612\\\\\n\t   60.000 &   81.0 & 12.0000000 &  6.100000 & 18.100000 &  7.00000 & -27.03266\\\\\n\t  529.000 &  680.0 &  5.3378142 &  0.300000 &  5.274995 & 28.00000 & 400.00000\\\\\n\t   27.660 &  115.0 &  3.3000000 &  0.500000 &  3.800000 & 20.00000 & 148.00000\\\\\n\t    0.120 &    1.0 & 11.0000000 &  3.400000 & 14.400000 &  3.90000 &  16.00000\\\\\n\t  207.000 &  406.0 & 10.2391496 &  2.031533 & 12.000000 & 39.30000 & 252.00000\\\\\n\t   85.000 &  325.0 &  4.7000000 &  1.500000 &  6.200000 & 41.00000 & 310.00000\\\\\n\t   36.330 &  119.5 & 10.3594906 &  2.387129 & 13.000000 & 16.20000 &  63.00000\\\\\n\t    0.101 &    4.0 & 10.4000000 &  3.400000 & 13.800000 &  9.00000 &  28.00000\\\\\n\t    1.040 &    5.5 &  7.4000000 &  0.800000 &  8.200000 &  7.60000 &  68.00000\\\\\n\t  521.000 &  655.0 &  2.1000000 &  0.800000 &  2.900000 & 46.00000 & 336.00000\\\\\n\t  100.000 &  157.0 &  8.6794102 &  1.788085 & 10.800000 & 22.40000 & 100.00000\\\\\n\t ⋮ & ⋮ & ⋮ & ⋮ & ⋮ & ⋮ & ⋮\\\\\n\t   0.010 &    0.25 & 17.900000 &  2.0000000 & 19.900000 &  24.00000 &  50.00000\\\\\n\t  62.000 & 1320.00 &  6.100000 &  1.9000000 &  8.000000 & 100.00000 & 267.00000\\\\\n\t   0.122 &    3.00 &  8.200000 &  2.4000000 & 10.600000 &  11.42741 &  30.00000\\\\\n\t   1.350 &    8.10 &  8.400000 &  2.8000000 & 11.200000 &  11.43791 &  45.00000\\\\\n\t   0.023 &    0.40 & 11.900000 &  1.3000000 & 13.200000 &   3.20000 &  19.00000\\\\\n\t   0.048 &    0.33 & 10.800000 &  2.0000000 & 12.800000 &   2.00000 &  30.00000\\\\\n\t   1.700 &    6.30 & 13.800000 &  5.6000000 & 19.400000 &   5.00000 &  12.00000\\\\\n\t   3.500 &   10.80 & 14.300000 &  3.1000000 & 17.400000 &   6.50000 & 120.00000\\\\\n\t 250.000 &  490.00 &  7.284050 &  1.0000000 &  7.323389 &  23.60000 & 440.00000\\\\\n\t   0.480 &   15.50 & 15.200000 &  1.8000000 & 17.000000 &  12.00000 & 140.00000\\\\\n\t  10.000 &  115.00 & 10.000000 &  0.9000000 & 10.900000 &  20.20000 & 170.00000\\\\\n\t   1.620 &   11.40 & 11.900000 &  1.8000000 & 13.700000 &  13.00000 &  17.00000\\\\\n\t 192.000 &  180.00 &  6.500000 &  1.9000000 &  8.400000 &  27.00000 & 115.00000\\\\\n\t   2.500 &   12.10 &  7.500000 &  0.9000000 &  8.400000 &  18.00000 &  31.00000\\\\\n\t   4.288 &   39.20 &  9.979540 &  2.2360153 & 12.500000 &  13.70000 &  63.00000\\\\\n\t   0.280 &    1.90 & 10.600000 &  2.6000000 & 13.200000 &   4.70000 &  21.00000\\\\\n\t   4.235 &   50.40 &  7.400000 &  2.4000000 &  9.800000 &   9.80000 &  52.00000\\\\\n\t   6.800 &  179.00 &  8.400000 &  1.2000000 &  9.600000 &  29.00000 & 164.00000\\\\\n\t   0.750 &   12.30 &  5.700000 &  0.9000000 &  6.600000 &   7.00000 & 225.00000\\\\\n\t   3.600 &   21.00 &  4.900000 &  0.5000000 &  5.400000 &   6.00000 & 225.00000\\\\\n\t  14.830 &   98.20 &  1.907873 & -0.2239749 &  2.600000 &  17.00000 & 150.00000\\\\\n\t  55.500 &  175.00 &  3.200000 &  0.6000000 &  3.800000 &  20.00000 & 151.00000\\\\\n\t   1.400 &   12.50 &  8.828174 &  1.8479549 & 11.000000 &  12.70000 &  90.00000\\\\\n\t   0.060 &    1.00 &  8.100000 &  2.2000000 & 10.300000 &   3.50000 &  87.06433\\\\\n\t   0.900 &    2.60 & 11.000000 &  2.3000000 & 13.300000 &   4.50000 &  60.00000\\\\\n\t   2.000 &   12.30 &  4.900000 &  0.5000000 &  5.400000 &   7.50000 & 200.00000\\\\\n\t   0.104 &    2.50 & 13.200000 &  2.6000000 & 15.800000 &   2.30000 &  46.00000\\\\\n\t   4.190 &   58.00 &  9.700000 &  0.6000000 & 10.300000 &  24.00000 & 210.00000\\\\\n\t   3.500 &    3.90 & 12.800000 &  6.6000000 & 19.400000 &   3.00000 &  14.00000\\\\\n\t   4.050 &   17.00 &  7.390838 &  3.3040325 &  4.660494 &  13.00000 &  38.00000\\\\\n\\end{tabular}\n"
          },
          "metadata": {}
        }
      ]
    },
    {
      "cell_type": "code",
      "source": [
        "# Correlación de Pearson\n",
        "visdat::vis_cor(new_sleep_ridge)\n",
        "\n"
      ],
      "metadata": {
        "id": "9jCwjxbhFjRC",
        "outputId": "e1f99e1d-446e-4dd2-9110-5240f8aa7792",
        "colab": {
          "base_uri": "https://localhost:8080/",
          "height": 437
        }
      },
      "id": "9jCwjxbhFjRC",
      "execution_count": 56,
      "outputs": [
        {
          "output_type": "display_data",
          "data": {
            "text/plain": [
              "plot without title"
            ],
            "image/png": "[encoded data removed]"
          },
          "metadata": {
            "image/png": {
              "width": 420,
              "height": 420
            }
          }
        }
      ]
    },
    {
      "cell_type": "code",
      "source": [
        "# Correlación de Spearman\n",
        "visdat::vis_cor(new_sleep_ridge)\n",
        "\n"
      ],
      "metadata": {
        "id": "xxOZIf-eG_Af"
      },
      "id": "xxOZIf-eG_Af",
      "execution_count": null,
      "outputs": []
    },
    {
      "cell_type": "markdown",
      "source": [
        "| Característica      | **Correlación de Pearson**            | **Correlación de Spearman**                                  |\n",
        "| ------------------- | ------------------------------------- | ------------------------------------------------------------ |\n",
        "| Tipo de relación    | Lineal                                | Monótona (creciente o decreciente, no necesariamente lineal) |\n",
        "| Datos esperados     | Cuantitativos, normales, sin outliers | Cuantitativos u ordinales, **no requiere normalidad**        |\n",
        "| Sensible a outliers |  Sí, mucho                           |  No, al trabajar con rangos                                 |\n",
        "| Escala utilizada    | Escala original                       | Rangos (datos convertidos a posiciones)                      |\n",
        "\n",
        "\n",
        "**Comparación visual entre ambas matrices**\n",
        "\n",
        "* Matriz de Pearson:\n",
        "\n",
        "Se observan correlaciones muy altas (casi 1) entre algunas variables como BodyWgt y BrainWgt.\n",
        "\n",
        "También aparecen correlaciones negativas marcadas entre variables como Gest y Sleep.\n",
        "\n",
        "Sin embargo, la intensidad puede estar amplificada por outliers o por relaciones no perfectamente lineales.\n",
        "\n",
        "* Matriz de Spearman:\n",
        "\n",
        "Las correlaciones siguen una tendencia similar, pero son más moderadas (es decir, no tan extremas).\n",
        "\n",
        "Las relaciones como BrainWgt ~ BodyWgt siguen siendo fuertes, pero no perfectas.\n",
        "\n",
        "Algunas correlaciones negativas están más suavizadas, lo cual puede reflejar que las relaciones no son lineales, pero sí monótonas.\n",
        "\n",
        "                                                                                             \n",
        "- **Lineal**:\n",
        "\n",
        "Cuando los datos siguen aproximadamente una **línea recta**. Es decir, por cada incremento en X, Y cambia siempre en proporción constante.                                          \n",
        "\n",
        "- **Monótona**:\n",
        "\n",
        "Cuando una variable **siempre aumenta o disminuye con la otra**, pero no necesariamente en línea recta. Puede crecer más rápido, más lento.\n"
      ],
      "metadata": {
        "id": "PDBOj4SKJ438"
      },
      "id": "PDBOj4SKJ438"
    },
    {
      "cell_type": "markdown",
      "source": [
        "**Podemos responder entonces:**\n",
        "\n",
        "- ¿Hay colinealidad?\n",
        "- ¿Qué variables parecen tener una relación no lineal?\n",
        "- ¿Conviene usar Spearman si hay outliers?"
      ],
      "metadata": {
        "id": "CGeIK17bMgoI"
      },
      "id": "CGeIK17bMgoI"
    },
    {
      "cell_type": "markdown",
      "source": [
        "### Covarianza:"
      ],
      "metadata": {
        "id": "VdIyymrdPOuT"
      },
      "id": "VdIyymrdPOuT"
    },
    {
      "cell_type": "code",
      "source": [
        "# Paso 1: Convertimos la matriz de covarianza en data frame y la reestructuramos en formato largo\n",
        "matriz_cov <- cov(new_sleep_ridge)\n",
        "matriz_cov\n",
        "\n",
        "(melted_cov <- as.data.frame(matriz_cov)%>%\n",
        "  mutate(var1=rownames(.))%>%\n",
        "pivot_longer(\n",
        "-var1,\n",
        "names_to = \"var2\",\n",
        "values_to = \"value\"))\n",
        "\n"
      ],
      "metadata": {
        "id": "h31Aokv5Ngwv",
        "outputId": "1e6bcf45-c504-4b04-b8de-44eb23cacfa0",
        "colab": {
          "base_uri": "https://localhost:8080/",
          "height": 1000
        }
      },
      "id": "h31Aokv5Ngwv",
      "execution_count": 60,
      "outputs": [
        {
          "output_type": "display_data",
          "data": {
            "text/html": [
              "<table class=\"dataframe\">\n",
              "<caption>A matrix: 7 × 7 of type dbl</caption>\n",
              "<thead>\n",
              "\t<tr><th></th><th scope=col>BodyWgt</th><th scope=col>BrainWgt</th><th scope=col>NonD</th><th scope=col>Dream</th><th scope=col>Sleep</th><th scope=col>Span</th><th scope=col>Gest</th></tr>\n",
              "</thead>\n",
              "<tbody>\n",
              "\t<tr><th scope=row>BodyWgt</th><td>808485.12788</td><td>781397.93941</td><td>-1229.763333</td><td>-22.080616</td><td>-1229.867981</td><td>4886.034172</td><td>83559.10102</td></tr>\n",
              "\t<tr><th scope=row>BrainWgt</th><td>781397.93941</td><td>865418.91040</td><td>-1440.378859</td><td>-71.461080</td><td>-1484.089516</td><td>8463.161840</td><td>99256.28375</td></tr>\n",
              "\t<tr><th scope=row>NonD</th><td> -1229.76333</td><td> -1440.37886</td><td>   13.260231</td><td>  2.687591</td><td>   16.055215</td><td> -25.599443</td><td> -322.52512</td></tr>\n",
              "\t<tr><th scope=row>Dream</th><td>   -22.08062</td><td>   -71.46108</td><td>    2.687591</td><td>  1.901355</td><td>    4.405536</td><td>  -7.644657</td><td>  -87.64995</td></tr>\n",
              "\t<tr><th scope=row>Sleep</th><td> -1229.86798</td><td> -1484.08952</td><td>   16.055215</td><td>  4.405536</td><td>   21.173576</td><td> -32.720552</td><td> -401.96093</td></tr>\n",
              "\t<tr><th scope=row>Span</th><td>  4886.03417</td><td>  8463.16184</td><td>  -25.599443</td><td> -7.644657</td><td>  -32.720552</td><td> 314.048274</td><td> 1598.71548</td></tr>\n",
              "\t<tr><th scope=row>Gest</th><td> 83559.10102</td><td> 99256.28375</td><td> -322.525119</td><td>-87.649947</td><td> -401.960927</td><td>1598.715477</td><td>20714.87549</td></tr>\n",
              "</tbody>\n",
              "</table>\n"
            ],
            "text/markdown": "\nA matrix: 7 × 7 of type dbl\n\n| <!--/--> | BodyWgt | BrainWgt | NonD | Dream | Sleep | Span | Gest |\n|---|---|---|---|---|---|---|---|\n| BodyWgt | 808485.12788 | 781397.93941 | -1229.763333 | -22.080616 | -1229.867981 | 4886.034172 | 83559.10102 |\n| BrainWgt | 781397.93941 | 865418.91040 | -1440.378859 | -71.461080 | -1484.089516 | 8463.161840 | 99256.28375 |\n| NonD |  -1229.76333 |  -1440.37886 |    13.260231 |   2.687591 |    16.055215 |  -25.599443 |  -322.52512 |\n| Dream |    -22.08062 |    -71.46108 |     2.687591 |   1.901355 |     4.405536 |   -7.644657 |   -87.64995 |\n| Sleep |  -1229.86798 |  -1484.08952 |    16.055215 |   4.405536 |    21.173576 |  -32.720552 |  -401.96093 |\n| Span |   4886.03417 |   8463.16184 |   -25.599443 |  -7.644657 |   -32.720552 |  314.048274 |  1598.71548 |\n| Gest |  83559.10102 |  99256.28375 |  -322.525119 | -87.649947 |  -401.960927 | 1598.715477 | 20714.87549 |\n\n",
            "text/latex": "A matrix: 7 × 7 of type dbl\n\\begin{tabular}{r|lllllll}\n  & BodyWgt & BrainWgt & NonD & Dream & Sleep & Span & Gest\\\\\n\\hline\n\tBodyWgt & 808485.12788 & 781397.93941 & -1229.763333 & -22.080616 & -1229.867981 & 4886.034172 & 83559.10102\\\\\n\tBrainWgt & 781397.93941 & 865418.91040 & -1440.378859 & -71.461080 & -1484.089516 & 8463.161840 & 99256.28375\\\\\n\tNonD &  -1229.76333 &  -1440.37886 &    13.260231 &   2.687591 &    16.055215 &  -25.599443 &  -322.52512\\\\\n\tDream &    -22.08062 &    -71.46108 &     2.687591 &   1.901355 &     4.405536 &   -7.644657 &   -87.64995\\\\\n\tSleep &  -1229.86798 &  -1484.08952 &    16.055215 &   4.405536 &    21.173576 &  -32.720552 &  -401.96093\\\\\n\tSpan &   4886.03417 &   8463.16184 &   -25.599443 &  -7.644657 &   -32.720552 &  314.048274 &  1598.71548\\\\\n\tGest &  83559.10102 &  99256.28375 &  -322.525119 & -87.649947 &  -401.960927 & 1598.715477 & 20714.87549\\\\\n\\end{tabular}\n",
            "text/plain": [
              "         BodyWgt      BrainWgt     NonD         Dream      Sleep       \n",
              "BodyWgt  808485.12788 781397.93941 -1229.763333 -22.080616 -1229.867981\n",
              "BrainWgt 781397.93941 865418.91040 -1440.378859 -71.461080 -1484.089516\n",
              "NonD      -1229.76333  -1440.37886    13.260231   2.687591    16.055215\n",
              "Dream       -22.08062    -71.46108     2.687591   1.901355     4.405536\n",
              "Sleep     -1229.86798  -1484.08952    16.055215   4.405536    21.173576\n",
              "Span       4886.03417   8463.16184   -25.599443  -7.644657   -32.720552\n",
              "Gest      83559.10102  99256.28375  -322.525119 -87.649947  -401.960927\n",
              "         Span        Gest       \n",
              "BodyWgt  4886.034172 83559.10102\n",
              "BrainWgt 8463.161840 99256.28375\n",
              "NonD      -25.599443  -322.52512\n",
              "Dream      -7.644657   -87.64995\n",
              "Sleep     -32.720552  -401.96093\n",
              "Span      314.048274  1598.71548\n",
              "Gest     1598.715477 20714.87549"
            ]
          },
          "metadata": {}
        },
        {
          "output_type": "display_data",
          "data": {
            "text/html": [
              "<table class=\"dataframe\">\n",
              "<caption>A tibble: 49 × 3</caption>\n",
              "<thead>\n",
              "\t<tr><th scope=col>var1</th><th scope=col>var2</th><th scope=col>value</th></tr>\n",
              "\t<tr><th scope=col>&lt;chr&gt;</th><th scope=col>&lt;chr&gt;</th><th scope=col>&lt;dbl&gt;</th></tr>\n",
              "</thead>\n",
              "<tbody>\n",
              "\t<tr><td>BodyWgt </td><td>BodyWgt </td><td>808485.127878</td></tr>\n",
              "\t<tr><td>BodyWgt </td><td>BrainWgt</td><td>781397.939411</td></tr>\n",
              "\t<tr><td>BodyWgt </td><td>NonD    </td><td> -1229.763333</td></tr>\n",
              "\t<tr><td>BodyWgt </td><td>Dream   </td><td>   -22.080616</td></tr>\n",
              "\t<tr><td>BodyWgt </td><td>Sleep   </td><td> -1229.867981</td></tr>\n",
              "\t<tr><td>BodyWgt </td><td>Span    </td><td>  4886.034172</td></tr>\n",
              "\t<tr><td>BodyWgt </td><td>Gest    </td><td> 83559.101021</td></tr>\n",
              "\t<tr><td>BrainWgt</td><td>BodyWgt </td><td>781397.939411</td></tr>\n",
              "\t<tr><td>BrainWgt</td><td>BrainWgt</td><td>865418.910402</td></tr>\n",
              "\t<tr><td>BrainWgt</td><td>NonD    </td><td> -1440.378859</td></tr>\n",
              "\t<tr><td>BrainWgt</td><td>Dream   </td><td>   -71.461080</td></tr>\n",
              "\t<tr><td>BrainWgt</td><td>Sleep   </td><td> -1484.089516</td></tr>\n",
              "\t<tr><td>BrainWgt</td><td>Span    </td><td>  8463.161840</td></tr>\n",
              "\t<tr><td>BrainWgt</td><td>Gest    </td><td> 99256.283751</td></tr>\n",
              "\t<tr><td>NonD    </td><td>BodyWgt </td><td> -1229.763333</td></tr>\n",
              "\t<tr><td>NonD    </td><td>BrainWgt</td><td> -1440.378859</td></tr>\n",
              "\t<tr><td>NonD    </td><td>NonD    </td><td>    13.260231</td></tr>\n",
              "\t<tr><td>NonD    </td><td>Dream   </td><td>     2.687591</td></tr>\n",
              "\t<tr><td>NonD    </td><td>Sleep   </td><td>    16.055215</td></tr>\n",
              "\t<tr><td>NonD    </td><td>Span    </td><td>   -25.599443</td></tr>\n",
              "\t<tr><td>NonD    </td><td>Gest    </td><td>  -322.525119</td></tr>\n",
              "\t<tr><td>Dream   </td><td>BodyWgt </td><td>   -22.080616</td></tr>\n",
              "\t<tr><td>Dream   </td><td>BrainWgt</td><td>   -71.461080</td></tr>\n",
              "\t<tr><td>Dream   </td><td>NonD    </td><td>     2.687591</td></tr>\n",
              "\t<tr><td>Dream   </td><td>Dream   </td><td>     1.901355</td></tr>\n",
              "\t<tr><td>Dream   </td><td>Sleep   </td><td>     4.405536</td></tr>\n",
              "\t<tr><td>Dream   </td><td>Span    </td><td>    -7.644657</td></tr>\n",
              "\t<tr><td>Dream   </td><td>Gest    </td><td>   -87.649947</td></tr>\n",
              "\t<tr><td>Sleep   </td><td>BodyWgt </td><td> -1229.867981</td></tr>\n",
              "\t<tr><td>Sleep   </td><td>BrainWgt</td><td> -1484.089516</td></tr>\n",
              "\t<tr><td>Sleep   </td><td>NonD    </td><td>    16.055215</td></tr>\n",
              "\t<tr><td>Sleep   </td><td>Dream   </td><td>     4.405536</td></tr>\n",
              "\t<tr><td>Sleep   </td><td>Sleep   </td><td>    21.173576</td></tr>\n",
              "\t<tr><td>Sleep   </td><td>Span    </td><td>   -32.720552</td></tr>\n",
              "\t<tr><td>Sleep   </td><td>Gest    </td><td>  -401.960927</td></tr>\n",
              "\t<tr><td>Span    </td><td>BodyWgt </td><td>  4886.034172</td></tr>\n",
              "\t<tr><td>Span    </td><td>BrainWgt</td><td>  8463.161840</td></tr>\n",
              "\t<tr><td>Span    </td><td>NonD    </td><td>   -25.599443</td></tr>\n",
              "\t<tr><td>Span    </td><td>Dream   </td><td>    -7.644657</td></tr>\n",
              "\t<tr><td>Span    </td><td>Sleep   </td><td>   -32.720552</td></tr>\n",
              "\t<tr><td>Span    </td><td>Span    </td><td>   314.048274</td></tr>\n",
              "\t<tr><td>Span    </td><td>Gest    </td><td>  1598.715477</td></tr>\n",
              "\t<tr><td>Gest    </td><td>BodyWgt </td><td> 83559.101021</td></tr>\n",
              "\t<tr><td>Gest    </td><td>BrainWgt</td><td> 99256.283751</td></tr>\n",
              "\t<tr><td>Gest    </td><td>NonD    </td><td>  -322.525119</td></tr>\n",
              "\t<tr><td>Gest    </td><td>Dream   </td><td>   -87.649947</td></tr>\n",
              "\t<tr><td>Gest    </td><td>Sleep   </td><td>  -401.960927</td></tr>\n",
              "\t<tr><td>Gest    </td><td>Span    </td><td>  1598.715477</td></tr>\n",
              "\t<tr><td>Gest    </td><td>Gest    </td><td> 20714.875494</td></tr>\n",
              "</tbody>\n",
              "</table>\n"
            ],
            "text/markdown": "\nA tibble: 49 × 3\n\n| var1 &lt;chr&gt; | var2 &lt;chr&gt; | value &lt;dbl&gt; |\n|---|---|---|\n| BodyWgt  | BodyWgt  | 808485.127878 |\n| BodyWgt  | BrainWgt | 781397.939411 |\n| BodyWgt  | NonD     |  -1229.763333 |\n| BodyWgt  | Dream    |    -22.080616 |\n| BodyWgt  | Sleep    |  -1229.867981 |\n| BodyWgt  | Span     |   4886.034172 |\n| BodyWgt  | Gest     |  83559.101021 |\n| BrainWgt | BodyWgt  | 781397.939411 |\n| BrainWgt | BrainWgt | 865418.910402 |\n| BrainWgt | NonD     |  -1440.378859 |\n| BrainWgt | Dream    |    -71.461080 |\n| BrainWgt | Sleep    |  -1484.089516 |\n| BrainWgt | Span     |   8463.161840 |\n| BrainWgt | Gest     |  99256.283751 |\n| NonD     | BodyWgt  |  -1229.763333 |\n| NonD     | BrainWgt |  -1440.378859 |\n| NonD     | NonD     |     13.260231 |\n| NonD     | Dream    |      2.687591 |\n| NonD     | Sleep    |     16.055215 |\n| NonD     | Span     |    -25.599443 |\n| NonD     | Gest     |   -322.525119 |\n| Dream    | BodyWgt  |    -22.080616 |\n| Dream    | BrainWgt |    -71.461080 |\n| Dream    | NonD     |      2.687591 |\n| Dream    | Dream    |      1.901355 |\n| Dream    | Sleep    |      4.405536 |\n| Dream    | Span     |     -7.644657 |\n| Dream    | Gest     |    -87.649947 |\n| Sleep    | BodyWgt  |  -1229.867981 |\n| Sleep    | BrainWgt |  -1484.089516 |\n| Sleep    | NonD     |     16.055215 |\n| Sleep    | Dream    |      4.405536 |\n| Sleep    | Sleep    |     21.173576 |\n| Sleep    | Span     |    -32.720552 |\n| Sleep    | Gest     |   -401.960927 |\n| Span     | BodyWgt  |   4886.034172 |\n| Span     | BrainWgt |   8463.161840 |\n| Span     | NonD     |    -25.599443 |\n| Span     | Dream    |     -7.644657 |\n| Span     | Sleep    |    -32.720552 |\n| Span     | Span     |    314.048274 |\n| Span     | Gest     |   1598.715477 |\n| Gest     | BodyWgt  |  83559.101021 |\n| Gest     | BrainWgt |  99256.283751 |\n| Gest     | NonD     |   -322.525119 |\n| Gest     | Dream    |    -87.649947 |\n| Gest     | Sleep    |   -401.960927 |\n| Gest     | Span     |   1598.715477 |\n| Gest     | Gest     |  20714.875494 |\n\n",
            "text/latex": "A tibble: 49 × 3\n\\begin{tabular}{lll}\n var1 & var2 & value\\\\\n <chr> & <chr> & <dbl>\\\\\n\\hline\n\t BodyWgt  & BodyWgt  & 808485.127878\\\\\n\t BodyWgt  & BrainWgt & 781397.939411\\\\\n\t BodyWgt  & NonD     &  -1229.763333\\\\\n\t BodyWgt  & Dream    &    -22.080616\\\\\n\t BodyWgt  & Sleep    &  -1229.867981\\\\\n\t BodyWgt  & Span     &   4886.034172\\\\\n\t BodyWgt  & Gest     &  83559.101021\\\\\n\t BrainWgt & BodyWgt  & 781397.939411\\\\\n\t BrainWgt & BrainWgt & 865418.910402\\\\\n\t BrainWgt & NonD     &  -1440.378859\\\\\n\t BrainWgt & Dream    &    -71.461080\\\\\n\t BrainWgt & Sleep    &  -1484.089516\\\\\n\t BrainWgt & Span     &   8463.161840\\\\\n\t BrainWgt & Gest     &  99256.283751\\\\\n\t NonD     & BodyWgt  &  -1229.763333\\\\\n\t NonD     & BrainWgt &  -1440.378859\\\\\n\t NonD     & NonD     &     13.260231\\\\\n\t NonD     & Dream    &      2.687591\\\\\n\t NonD     & Sleep    &     16.055215\\\\\n\t NonD     & Span     &    -25.599443\\\\\n\t NonD     & Gest     &   -322.525119\\\\\n\t Dream    & BodyWgt  &    -22.080616\\\\\n\t Dream    & BrainWgt &    -71.461080\\\\\n\t Dream    & NonD     &      2.687591\\\\\n\t Dream    & Dream    &      1.901355\\\\\n\t Dream    & Sleep    &      4.405536\\\\\n\t Dream    & Span     &     -7.644657\\\\\n\t Dream    & Gest     &    -87.649947\\\\\n\t Sleep    & BodyWgt  &  -1229.867981\\\\\n\t Sleep    & BrainWgt &  -1484.089516\\\\\n\t Sleep    & NonD     &     16.055215\\\\\n\t Sleep    & Dream    &      4.405536\\\\\n\t Sleep    & Sleep    &     21.173576\\\\\n\t Sleep    & Span     &    -32.720552\\\\\n\t Sleep    & Gest     &   -401.960927\\\\\n\t Span     & BodyWgt  &   4886.034172\\\\\n\t Span     & BrainWgt &   8463.161840\\\\\n\t Span     & NonD     &    -25.599443\\\\\n\t Span     & Dream    &     -7.644657\\\\\n\t Span     & Sleep    &    -32.720552\\\\\n\t Span     & Span     &    314.048274\\\\\n\t Span     & Gest     &   1598.715477\\\\\n\t Gest     & BodyWgt  &  83559.101021\\\\\n\t Gest     & BrainWgt &  99256.283751\\\\\n\t Gest     & NonD     &   -322.525119\\\\\n\t Gest     & Dream    &    -87.649947\\\\\n\t Gest     & Sleep    &   -401.960927\\\\\n\t Gest     & Span     &   1598.715477\\\\\n\t Gest     & Gest     &  20714.875494\\\\\n\\end{tabular}\n",
            "text/plain": [
              "   var1     var2     value        \n",
              "1  BodyWgt  BodyWgt  808485.127878\n",
              "2  BodyWgt  BrainWgt 781397.939411\n",
              "3  BodyWgt  NonD      -1229.763333\n",
              "4  BodyWgt  Dream       -22.080616\n",
              "5  BodyWgt  Sleep     -1229.867981\n",
              "6  BodyWgt  Span       4886.034172\n",
              "7  BodyWgt  Gest      83559.101021\n",
              "8  BrainWgt BodyWgt  781397.939411\n",
              "9  BrainWgt BrainWgt 865418.910402\n",
              "10 BrainWgt NonD      -1440.378859\n",
              "11 BrainWgt Dream       -71.461080\n",
              "12 BrainWgt Sleep     -1484.089516\n",
              "13 BrainWgt Span       8463.161840\n",
              "14 BrainWgt Gest      99256.283751\n",
              "15 NonD     BodyWgt   -1229.763333\n",
              "16 NonD     BrainWgt  -1440.378859\n",
              "17 NonD     NonD         13.260231\n",
              "18 NonD     Dream         2.687591\n",
              "19 NonD     Sleep        16.055215\n",
              "20 NonD     Span        -25.599443\n",
              "21 NonD     Gest       -322.525119\n",
              "22 Dream    BodyWgt     -22.080616\n",
              "23 Dream    BrainWgt    -71.461080\n",
              "24 Dream    NonD          2.687591\n",
              "25 Dream    Dream         1.901355\n",
              "26 Dream    Sleep         4.405536\n",
              "27 Dream    Span         -7.644657\n",
              "28 Dream    Gest        -87.649947\n",
              "29 Sleep    BodyWgt   -1229.867981\n",
              "30 Sleep    BrainWgt  -1484.089516\n",
              "31 Sleep    NonD         16.055215\n",
              "32 Sleep    Dream         4.405536\n",
              "33 Sleep    Sleep        21.173576\n",
              "34 Sleep    Span        -32.720552\n",
              "35 Sleep    Gest       -401.960927\n",
              "36 Span     BodyWgt    4886.034172\n",
              "37 Span     BrainWgt   8463.161840\n",
              "38 Span     NonD        -25.599443\n",
              "39 Span     Dream        -7.644657\n",
              "40 Span     Sleep       -32.720552\n",
              "41 Span     Span        314.048274\n",
              "42 Span     Gest       1598.715477\n",
              "43 Gest     BodyWgt   83559.101021\n",
              "44 Gest     BrainWgt  99256.283751\n",
              "45 Gest     NonD       -322.525119\n",
              "46 Gest     Dream       -87.649947\n",
              "47 Gest     Sleep      -401.960927\n",
              "48 Gest     Span       1598.715477\n",
              "49 Gest     Gest      20714.875494"
            ]
          },
          "metadata": {}
        }
      ]
    },
    {
      "cell_type": "code",
      "source": [
        "# Paso 2: Visualizamos la matriz de covarianza como un mapa de calor con valores incluidos\n",
        "ggplot(melted_cov,aes(x=var1, y= var2, fill=value))+\n",
        "  geom_tile(color=\"white\")+\n",
        "  geom_text(aes(label=round(value,2)), size=3.2, color=\"black\")+\n",
        "  scale_fill_gradient2(low=\"blue\", mid=\"white\", high = \"red\", midpoint = 0)+\n",
        "  labs(\n",
        "  title = \"matriz de covarianza\",\n",
        "  x=\"\", y=\"\", fill=\"Covarianza\",\n",
        "    )+\n",
        "      theme_minimal()+\n",
        "    theme(\n",
        "      #legen.title = element_text(size=12),\n",
        "      axis.text.x= element_text(angle=45, hjust = 1, size = 12),\n",
        "      axis.text.y= element_text(hjust = 1, size = 12)\n",
        "    )\n"
      ],
      "metadata": {
        "id": "wtew8Y1kIdpX",
        "outputId": "01f51efd-baed-42a8-ccda-d04f0a25806a",
        "colab": {
          "base_uri": "https://localhost:8080/",
          "height": 437
        }
      },
      "id": "wtew8Y1kIdpX",
      "execution_count": 68,
      "outputs": [
        {
          "output_type": "display_data",
          "data": {
            "text/plain": [
              "plot without title"
            ],
            "image/png": "[encoded data removed]"
          },
          "metadata": {
            "image/png": {
              "width": 420,
              "height": 420
            }
          }
        }
      ]
    },
    {
      "cell_type": "markdown",
      "source": [
        "¿Qué vemos?:\n",
        "\n",
        "El valor numérico de la covarianza entre dos variables (p. ej. entre BodyWgt y BrainWgt) está asociado con un color rojo más intenso, indicando mayor covarianza positiva.\n",
        "\n",
        "Los valores más cercanos a 0 (blanco o rosa muy claro) indican poca o nula relación lineal conjunta.\n",
        "\n",
        "\n",
        "1. Covarianzas altas y positivas:\n",
        "\n",
        "* BodyWgt con BrainWgt\n",
        "\n",
        "* BodyWgt con Gest\n",
        "\n",
        "* BrainWgt con Gest\n",
        "\n",
        "\n",
        "Estas variables tienden a variar conjuntamente: cuando una aumenta, las otras también. Esto tiene sentido biológico, ya que animales más grandes (mayor BodyWgt) tienden a tener cerebros más grandes (BrainWgt) y gestaciones más largas (Gest).\n",
        "\n",
        "2. Covarianzas negativas\n",
        "\n",
        "* BodyWgt con Sleep\n",
        "* BodyWgt con NonD\n",
        "* Gest con Sleep\n",
        "\n",
        "\n",
        "Estas relaciones indican que cuando una variable aumenta, la otra tiende a disminuir.\n",
        "\n",
        "Por ejemplo:\n",
        "\n",
        "Los animales más grandes tienden a dormir menos.\n",
        "Los animales con mayor gestación también duermen menos (posiblemente especies más longevas, activas o expuestas).\n",
        "\n",
        "3. Covarianzas cercanas a cero\n",
        "\n",
        "* Dream con casi todas las demás variables.\n",
        "* NonD con Dream, Gest, etc.\n",
        "\n",
        "\n",
        "No hay una relación clara ni fuerte entre estas variables en términos de variación conjunta.\n",
        "\n",
        "Es **importante* tener en cuenta que la covarianza depende de las unidades de las variables, por eso hay números muy grandes (como BrainWgt en gramos, por ejemplo).\n",
        "\n",
        "Para comparar más fácilmente entre pares de variables, es mejor usar la correlación, que está normalizada entre -1 y 1.\n",
        "\n",
        "Esta matriz sí es muy útil para detectar agrupaciones de variables altamente relacionadas, como BodyWgt, BrainWgt, Gest."
      ],
      "metadata": {
        "id": "wt9NRS2mSuRP"
      },
      "id": "wt9NRS2mSuRP"
    },
    {
      "cell_type": "markdown",
      "source": [
        "## Tablas de frecuencias y análisis de variables categóricas\n",
        "\n",
        "\n",
        "En esta parte del módulo, nos enfocaremos en reconocer y analizar variables categóricas nominales y ordinales.\n",
        "\n",
        "Para ello, elaboraremos tablas de frecuencias (absolutas y relativas).\n",
        "\n",
        "Vamos a representar visualmente la distribución de variables categóricas.\n",
        "\n",
        "Y exploraremos asociaciones entre variables categóricas (introducción a tablas de contingencia)."
      ],
      "metadata": {
        "id": "G-PTjRpeTkKe"
      },
      "id": "G-PTjRpeTkKe"
    },
    {
      "cell_type": "code",
      "source": [
        "sleep_limpio"
      ],
      "metadata": {
        "collapsed": true,
        "id": "vx2nFwgDVUd7",
        "outputId": "60e84b9f-f927-4648-b38f-e470c4c36afb",
        "colab": {
          "base_uri": "https://localhost:8080/",
          "height": 1000
        }
      },
      "id": "vx2nFwgDVUd7",
      "execution_count": 69,
      "outputs": [
        {
          "output_type": "display_data",
          "data": {
            "text/html": [
              "<table class=\"dataframe\">\n",
              "<caption>A data.frame: 62 × 10</caption>\n",
              "<thead>\n",
              "\t<tr><th scope=col>BodyWgt</th><th scope=col>BrainWgt</th><th scope=col>NonD</th><th scope=col>Dream</th><th scope=col>Sleep</th><th scope=col>Span</th><th scope=col>Gest</th><th scope=col>Pred</th><th scope=col>Exp</th><th scope=col>Danger</th></tr>\n",
              "\t<tr><th scope=col>&lt;dbl&gt;</th><th scope=col>&lt;dbl&gt;</th><th scope=col>&lt;dbl&gt;</th><th scope=col>&lt;dbl&gt;</th><th scope=col>&lt;dbl&gt;</th><th scope=col>&lt;dbl&gt;</th><th scope=col>&lt;dbl&gt;</th><th scope=col>&lt;fct&gt;</th><th scope=col>&lt;fct&gt;</th><th scope=col>&lt;fct&gt;</th></tr>\n",
              "</thead>\n",
              "<tbody>\n",
              "\t<tr><td>6654.000</td><td>5712.0</td><td>  NA</td><td> NA</td><td> 3.3</td><td>38.6</td><td>645</td><td>3</td><td>5</td><td>3</td></tr>\n",
              "\t<tr><td>   1.000</td><td>   6.6</td><td> 6.3</td><td>2.0</td><td> 8.3</td><td> 4.5</td><td> 42</td><td>3</td><td>1</td><td>3</td></tr>\n",
              "\t<tr><td>   3.385</td><td>  44.5</td><td>  NA</td><td> NA</td><td>12.5</td><td>14.0</td><td> 60</td><td>1</td><td>1</td><td>1</td></tr>\n",
              "\t<tr><td>   0.920</td><td>   5.7</td><td>  NA</td><td> NA</td><td>16.5</td><td>  NA</td><td> 25</td><td>5</td><td>2</td><td>3</td></tr>\n",
              "\t<tr><td>2547.000</td><td>4603.0</td><td> 2.1</td><td>1.8</td><td> 3.9</td><td>69.0</td><td>624</td><td>3</td><td>5</td><td>4</td></tr>\n",
              "\t<tr><td>  10.550</td><td> 179.5</td><td> 9.1</td><td>0.7</td><td> 9.8</td><td>27.0</td><td>180</td><td>4</td><td>4</td><td>4</td></tr>\n",
              "\t<tr><td>   0.023</td><td>   0.3</td><td>15.8</td><td>3.9</td><td>19.7</td><td>19.0</td><td> 35</td><td>1</td><td>1</td><td>1</td></tr>\n",
              "\t<tr><td> 160.000</td><td> 169.0</td><td> 5.2</td><td>1.0</td><td> 6.2</td><td>30.4</td><td>392</td><td>4</td><td>5</td><td>4</td></tr>\n",
              "\t<tr><td>   3.300</td><td>  25.6</td><td>10.9</td><td>3.6</td><td>14.5</td><td>28.0</td><td> 63</td><td>1</td><td>2</td><td>1</td></tr>\n",
              "\t<tr><td>  52.160</td><td> 440.0</td><td> 8.3</td><td>1.4</td><td> 9.7</td><td>50.0</td><td>230</td><td>1</td><td>1</td><td>1</td></tr>\n",
              "\t<tr><td>   0.425</td><td>   6.4</td><td>11.0</td><td>1.5</td><td>12.5</td><td> 7.0</td><td>112</td><td>5</td><td>4</td><td>4</td></tr>\n",
              "\t<tr><td> 465.000</td><td> 423.0</td><td> 3.2</td><td>0.7</td><td> 3.9</td><td>30.0</td><td>281</td><td>5</td><td>5</td><td>5</td></tr>\n",
              "\t<tr><td>   0.550</td><td>   2.4</td><td> 7.6</td><td>2.7</td><td>10.3</td><td>  NA</td><td> NA</td><td>2</td><td>1</td><td>2</td></tr>\n",
              "\t<tr><td> 187.100</td><td> 419.0</td><td>  NA</td><td> NA</td><td> 3.1</td><td>40.0</td><td>365</td><td>5</td><td>5</td><td>5</td></tr>\n",
              "\t<tr><td>   0.075</td><td>   1.2</td><td> 6.3</td><td>2.1</td><td> 8.4</td><td> 3.5</td><td> 42</td><td>1</td><td>1</td><td>1</td></tr>\n",
              "\t<tr><td>   3.000</td><td>  25.0</td><td> 8.6</td><td>0.0</td><td> 8.6</td><td>50.0</td><td> 28</td><td>2</td><td>2</td><td>2</td></tr>\n",
              "\t<tr><td>   0.785</td><td>   3.5</td><td> 6.6</td><td>4.1</td><td>10.7</td><td> 6.0</td><td> 42</td><td>2</td><td>2</td><td>2</td></tr>\n",
              "\t<tr><td>   0.200</td><td>   5.0</td><td> 9.5</td><td>1.2</td><td>10.7</td><td>10.4</td><td>120</td><td>2</td><td>2</td><td>2</td></tr>\n",
              "\t<tr><td>   1.410</td><td>  17.5</td><td> 4.8</td><td>1.3</td><td> 6.1</td><td>34.0</td><td> NA</td><td>1</td><td>2</td><td>1</td></tr>\n",
              "\t<tr><td>  60.000</td><td>  81.0</td><td>12.0</td><td>6.1</td><td>18.1</td><td> 7.0</td><td> NA</td><td>1</td><td>1</td><td>1</td></tr>\n",
              "\t<tr><td> 529.000</td><td> 680.0</td><td>  NA</td><td>0.3</td><td>  NA</td><td>28.0</td><td>400</td><td>5</td><td>5</td><td>5</td></tr>\n",
              "\t<tr><td>  27.660</td><td> 115.0</td><td> 3.3</td><td>0.5</td><td> 3.8</td><td>20.0</td><td>148</td><td>5</td><td>5</td><td>5</td></tr>\n",
              "\t<tr><td>   0.120</td><td>   1.0</td><td>11.0</td><td>3.4</td><td>14.4</td><td> 3.9</td><td> 16</td><td>3</td><td>1</td><td>2</td></tr>\n",
              "\t<tr><td> 207.000</td><td> 406.0</td><td>  NA</td><td> NA</td><td>12.0</td><td>39.3</td><td>252</td><td>1</td><td>4</td><td>1</td></tr>\n",
              "\t<tr><td>  85.000</td><td> 325.0</td><td> 4.7</td><td>1.5</td><td> 6.2</td><td>41.0</td><td>310</td><td>1</td><td>3</td><td>1</td></tr>\n",
              "\t<tr><td>  36.330</td><td> 119.5</td><td>  NA</td><td> NA</td><td>13.0</td><td>16.2</td><td> 63</td><td>1</td><td>1</td><td>1</td></tr>\n",
              "\t<tr><td>   0.101</td><td>   4.0</td><td>10.4</td><td>3.4</td><td>13.8</td><td> 9.0</td><td> 28</td><td>5</td><td>1</td><td>3</td></tr>\n",
              "\t<tr><td>   1.040</td><td>   5.5</td><td> 7.4</td><td>0.8</td><td> 8.2</td><td> 7.6</td><td> 68</td><td>5</td><td>3</td><td>4</td></tr>\n",
              "\t<tr><td> 521.000</td><td> 655.0</td><td> 2.1</td><td>0.8</td><td> 2.9</td><td>46.0</td><td>336</td><td>5</td><td>5</td><td>5</td></tr>\n",
              "\t<tr><td> 100.000</td><td> 157.0</td><td>  NA</td><td> NA</td><td>10.8</td><td>22.4</td><td>100</td><td>1</td><td>1</td><td>1</td></tr>\n",
              "\t<tr><td>⋮</td><td>⋮</td><td>⋮</td><td>⋮</td><td>⋮</td><td>⋮</td><td>⋮</td><td>⋮</td><td>⋮</td><td>⋮</td></tr>\n",
              "\t<tr><td>  0.010</td><td>   0.25</td><td>17.9</td><td>2.0</td><td>19.9</td><td> 24.0</td><td> 50</td><td>1</td><td>1</td><td>1</td></tr>\n",
              "\t<tr><td> 62.000</td><td>1320.00</td><td> 6.1</td><td>1.9</td><td> 8.0</td><td>100.0</td><td>267</td><td>1</td><td>1</td><td>1</td></tr>\n",
              "\t<tr><td>  0.122</td><td>   3.00</td><td> 8.2</td><td>2.4</td><td>10.6</td><td>   NA</td><td> 30</td><td>2</td><td>1</td><td>1</td></tr>\n",
              "\t<tr><td>  1.350</td><td>   8.10</td><td> 8.4</td><td>2.8</td><td>11.2</td><td>   NA</td><td> 45</td><td>3</td><td>1</td><td>3</td></tr>\n",
              "\t<tr><td>  0.023</td><td>   0.40</td><td>11.9</td><td>1.3</td><td>13.2</td><td>  3.2</td><td> 19</td><td>4</td><td>1</td><td>3</td></tr>\n",
              "\t<tr><td>  0.048</td><td>   0.33</td><td>10.8</td><td>2.0</td><td>12.8</td><td>  2.0</td><td> 30</td><td>4</td><td>1</td><td>3</td></tr>\n",
              "\t<tr><td>  1.700</td><td>   6.30</td><td>13.8</td><td>5.6</td><td>19.4</td><td>  5.0</td><td> 12</td><td>2</td><td>1</td><td>1</td></tr>\n",
              "\t<tr><td>  3.500</td><td>  10.80</td><td>14.3</td><td>3.1</td><td>17.4</td><td>  6.5</td><td>120</td><td>2</td><td>1</td><td>1</td></tr>\n",
              "\t<tr><td>250.000</td><td> 490.00</td><td>  NA</td><td>1.0</td><td>  NA</td><td> 23.6</td><td>440</td><td>5</td><td>5</td><td>5</td></tr>\n",
              "\t<tr><td>  0.480</td><td>  15.50</td><td>15.2</td><td>1.8</td><td>17.0</td><td> 12.0</td><td>140</td><td>2</td><td>2</td><td>2</td></tr>\n",
              "\t<tr><td> 10.000</td><td> 115.00</td><td>10.0</td><td>0.9</td><td>10.9</td><td> 20.2</td><td>170</td><td>4</td><td>4</td><td>4</td></tr>\n",
              "\t<tr><td>  1.620</td><td>  11.40</td><td>11.9</td><td>1.8</td><td>13.7</td><td> 13.0</td><td> 17</td><td>2</td><td>1</td><td>2</td></tr>\n",
              "\t<tr><td>192.000</td><td> 180.00</td><td> 6.5</td><td>1.9</td><td> 8.4</td><td> 27.0</td><td>115</td><td>4</td><td>4</td><td>4</td></tr>\n",
              "\t<tr><td>  2.500</td><td>  12.10</td><td> 7.5</td><td>0.9</td><td> 8.4</td><td> 18.0</td><td> 31</td><td>5</td><td>5</td><td>5</td></tr>\n",
              "\t<tr><td>  4.288</td><td>  39.20</td><td>  NA</td><td> NA</td><td>12.5</td><td> 13.7</td><td> 63</td><td>2</td><td>2</td><td>2</td></tr>\n",
              "\t<tr><td>  0.280</td><td>   1.90</td><td>10.6</td><td>2.6</td><td>13.2</td><td>  4.7</td><td> 21</td><td>3</td><td>1</td><td>3</td></tr>\n",
              "\t<tr><td>  4.235</td><td>  50.40</td><td> 7.4</td><td>2.4</td><td> 9.8</td><td>  9.8</td><td> 52</td><td>1</td><td>1</td><td>1</td></tr>\n",
              "\t<tr><td>  6.800</td><td> 179.00</td><td> 8.4</td><td>1.2</td><td> 9.6</td><td> 29.0</td><td>164</td><td>2</td><td>3</td><td>2</td></tr>\n",
              "\t<tr><td>  0.750</td><td>  12.30</td><td> 5.7</td><td>0.9</td><td> 6.6</td><td>  7.0</td><td>225</td><td>2</td><td>2</td><td>2</td></tr>\n",
              "\t<tr><td>  3.600</td><td>  21.00</td><td> 4.9</td><td>0.5</td><td> 5.4</td><td>  6.0</td><td>225</td><td>3</td><td>2</td><td>3</td></tr>\n",
              "\t<tr><td> 14.830</td><td>  98.20</td><td>  NA</td><td> NA</td><td> 2.6</td><td> 17.0</td><td>150</td><td>5</td><td>5</td><td>5</td></tr>\n",
              "\t<tr><td> 55.500</td><td> 175.00</td><td> 3.2</td><td>0.6</td><td> 3.8</td><td> 20.0</td><td>151</td><td>5</td><td>5</td><td>5</td></tr>\n",
              "\t<tr><td>  1.400</td><td>  12.50</td><td>  NA</td><td> NA</td><td>11.0</td><td> 12.7</td><td> 90</td><td>2</td><td>2</td><td>2</td></tr>\n",
              "\t<tr><td>  0.060</td><td>   1.00</td><td> 8.1</td><td>2.2</td><td>10.3</td><td>  3.5</td><td> NA</td><td>3</td><td>1</td><td>2</td></tr>\n",
              "\t<tr><td>  0.900</td><td>   2.60</td><td>11.0</td><td>2.3</td><td>13.3</td><td>  4.5</td><td> 60</td><td>2</td><td>1</td><td>2</td></tr>\n",
              "\t<tr><td>  2.000</td><td>  12.30</td><td> 4.9</td><td>0.5</td><td> 5.4</td><td>  7.5</td><td>200</td><td>3</td><td>1</td><td>3</td></tr>\n",
              "\t<tr><td>  0.104</td><td>   2.50</td><td>13.2</td><td>2.6</td><td>15.8</td><td>  2.3</td><td> 46</td><td>3</td><td>2</td><td>2</td></tr>\n",
              "\t<tr><td>  4.190</td><td>  58.00</td><td> 9.7</td><td>0.6</td><td>10.3</td><td> 24.0</td><td>210</td><td>4</td><td>3</td><td>4</td></tr>\n",
              "\t<tr><td>  3.500</td><td>   3.90</td><td>12.8</td><td>6.6</td><td>19.4</td><td>  3.0</td><td> 14</td><td>2</td><td>1</td><td>1</td></tr>\n",
              "\t<tr><td>  4.050</td><td>  17.00</td><td>  NA</td><td> NA</td><td>  NA</td><td> 13.0</td><td> 38</td><td>3</td><td>1</td><td>1</td></tr>\n",
              "</tbody>\n",
              "</table>\n"
            ],
            "text/markdown": "\nA data.frame: 62 × 10\n\n| BodyWgt &lt;dbl&gt; | BrainWgt &lt;dbl&gt; | NonD &lt;dbl&gt; | Dream &lt;dbl&gt; | Sleep &lt;dbl&gt; | Span &lt;dbl&gt; | Gest &lt;dbl&gt; | Pred &lt;fct&gt; | Exp &lt;fct&gt; | Danger &lt;fct&gt; |\n|---|---|---|---|---|---|---|---|---|---|\n| 6654.000 | 5712.0 |   NA |  NA |  3.3 | 38.6 | 645 | 3 | 5 | 3 |\n|    1.000 |    6.6 |  6.3 | 2.0 |  8.3 |  4.5 |  42 | 3 | 1 | 3 |\n|    3.385 |   44.5 |   NA |  NA | 12.5 | 14.0 |  60 | 1 | 1 | 1 |\n|    0.920 |    5.7 |   NA |  NA | 16.5 |   NA |  25 | 5 | 2 | 3 |\n| 2547.000 | 4603.0 |  2.1 | 1.8 |  3.9 | 69.0 | 624 | 3 | 5 | 4 |\n|   10.550 |  179.5 |  9.1 | 0.7 |  9.8 | 27.0 | 180 | 4 | 4 | 4 |\n|    0.023 |    0.3 | 15.8 | 3.9 | 19.7 | 19.0 |  35 | 1 | 1 | 1 |\n|  160.000 |  169.0 |  5.2 | 1.0 |  6.2 | 30.4 | 392 | 4 | 5 | 4 |\n|    3.300 |   25.6 | 10.9 | 3.6 | 14.5 | 28.0 |  63 | 1 | 2 | 1 |\n|   52.160 |  440.0 |  8.3 | 1.4 |  9.7 | 50.0 | 230 | 1 | 1 | 1 |\n|    0.425 |    6.4 | 11.0 | 1.5 | 12.5 |  7.0 | 112 | 5 | 4 | 4 |\n|  465.000 |  423.0 |  3.2 | 0.7 |  3.9 | 30.0 | 281 | 5 | 5 | 5 |\n|    0.550 |    2.4 |  7.6 | 2.7 | 10.3 |   NA |  NA | 2 | 1 | 2 |\n|  187.100 |  419.0 |   NA |  NA |  3.1 | 40.0 | 365 | 5 | 5 | 5 |\n|    0.075 |    1.2 |  6.3 | 2.1 |  8.4 |  3.5 |  42 | 1 | 1 | 1 |\n|    3.000 |   25.0 |  8.6 | 0.0 |  8.6 | 50.0 |  28 | 2 | 2 | 2 |\n|    0.785 |    3.5 |  6.6 | 4.1 | 10.7 |  6.0 |  42 | 2 | 2 | 2 |\n|    0.200 |    5.0 |  9.5 | 1.2 | 10.7 | 10.4 | 120 | 2 | 2 | 2 |\n|    1.410 |   17.5 |  4.8 | 1.3 |  6.1 | 34.0 |  NA | 1 | 2 | 1 |\n|   60.000 |   81.0 | 12.0 | 6.1 | 18.1 |  7.0 |  NA | 1 | 1 | 1 |\n|  529.000 |  680.0 |   NA | 0.3 |   NA | 28.0 | 400 | 5 | 5 | 5 |\n|   27.660 |  115.0 |  3.3 | 0.5 |  3.8 | 20.0 | 148 | 5 | 5 | 5 |\n|    0.120 |    1.0 | 11.0 | 3.4 | 14.4 |  3.9 |  16 | 3 | 1 | 2 |\n|  207.000 |  406.0 |   NA |  NA | 12.0 | 39.3 | 252 | 1 | 4 | 1 |\n|   85.000 |  325.0 |  4.7 | 1.5 |  6.2 | 41.0 | 310 | 1 | 3 | 1 |\n|   36.330 |  119.5 |   NA |  NA | 13.0 | 16.2 |  63 | 1 | 1 | 1 |\n|    0.101 |    4.0 | 10.4 | 3.4 | 13.8 |  9.0 |  28 | 5 | 1 | 3 |\n|    1.040 |    5.5 |  7.4 | 0.8 |  8.2 |  7.6 |  68 | 5 | 3 | 4 |\n|  521.000 |  655.0 |  2.1 | 0.8 |  2.9 | 46.0 | 336 | 5 | 5 | 5 |\n|  100.000 |  157.0 |   NA |  NA | 10.8 | 22.4 | 100 | 1 | 1 | 1 |\n| ⋮ | ⋮ | ⋮ | ⋮ | ⋮ | ⋮ | ⋮ | ⋮ | ⋮ | ⋮ |\n|   0.010 |    0.25 | 17.9 | 2.0 | 19.9 |  24.0 |  50 | 1 | 1 | 1 |\n|  62.000 | 1320.00 |  6.1 | 1.9 |  8.0 | 100.0 | 267 | 1 | 1 | 1 |\n|   0.122 |    3.00 |  8.2 | 2.4 | 10.6 |    NA |  30 | 2 | 1 | 1 |\n|   1.350 |    8.10 |  8.4 | 2.8 | 11.2 |    NA |  45 | 3 | 1 | 3 |\n|   0.023 |    0.40 | 11.9 | 1.3 | 13.2 |   3.2 |  19 | 4 | 1 | 3 |\n|   0.048 |    0.33 | 10.8 | 2.0 | 12.8 |   2.0 |  30 | 4 | 1 | 3 |\n|   1.700 |    6.30 | 13.8 | 5.6 | 19.4 |   5.0 |  12 | 2 | 1 | 1 |\n|   3.500 |   10.80 | 14.3 | 3.1 | 17.4 |   6.5 | 120 | 2 | 1 | 1 |\n| 250.000 |  490.00 |   NA | 1.0 |   NA |  23.6 | 440 | 5 | 5 | 5 |\n|   0.480 |   15.50 | 15.2 | 1.8 | 17.0 |  12.0 | 140 | 2 | 2 | 2 |\n|  10.000 |  115.00 | 10.0 | 0.9 | 10.9 |  20.2 | 170 | 4 | 4 | 4 |\n|   1.620 |   11.40 | 11.9 | 1.8 | 13.7 |  13.0 |  17 | 2 | 1 | 2 |\n| 192.000 |  180.00 |  6.5 | 1.9 |  8.4 |  27.0 | 115 | 4 | 4 | 4 |\n|   2.500 |   12.10 |  7.5 | 0.9 |  8.4 |  18.0 |  31 | 5 | 5 | 5 |\n|   4.288 |   39.20 |   NA |  NA | 12.5 |  13.7 |  63 | 2 | 2 | 2 |\n|   0.280 |    1.90 | 10.6 | 2.6 | 13.2 |   4.7 |  21 | 3 | 1 | 3 |\n|   4.235 |   50.40 |  7.4 | 2.4 |  9.8 |   9.8 |  52 | 1 | 1 | 1 |\n|   6.800 |  179.00 |  8.4 | 1.2 |  9.6 |  29.0 | 164 | 2 | 3 | 2 |\n|   0.750 |   12.30 |  5.7 | 0.9 |  6.6 |   7.0 | 225 | 2 | 2 | 2 |\n|   3.600 |   21.00 |  4.9 | 0.5 |  5.4 |   6.0 | 225 | 3 | 2 | 3 |\n|  14.830 |   98.20 |   NA |  NA |  2.6 |  17.0 | 150 | 5 | 5 | 5 |\n|  55.500 |  175.00 |  3.2 | 0.6 |  3.8 |  20.0 | 151 | 5 | 5 | 5 |\n|   1.400 |   12.50 |   NA |  NA | 11.0 |  12.7 |  90 | 2 | 2 | 2 |\n|   0.060 |    1.00 |  8.1 | 2.2 | 10.3 |   3.5 |  NA | 3 | 1 | 2 |\n|   0.900 |    2.60 | 11.0 | 2.3 | 13.3 |   4.5 |  60 | 2 | 1 | 2 |\n|   2.000 |   12.30 |  4.9 | 0.5 |  5.4 |   7.5 | 200 | 3 | 1 | 3 |\n|   0.104 |    2.50 | 13.2 | 2.6 | 15.8 |   2.3 |  46 | 3 | 2 | 2 |\n|   4.190 |   58.00 |  9.7 | 0.6 | 10.3 |  24.0 | 210 | 4 | 3 | 4 |\n|   3.500 |    3.90 | 12.8 | 6.6 | 19.4 |   3.0 |  14 | 2 | 1 | 1 |\n|   4.050 |   17.00 |   NA |  NA |   NA |  13.0 |  38 | 3 | 1 | 1 |\n\n",
            "text/latex": "A data.frame: 62 × 10\n\\begin{tabular}{llllllllll}\n BodyWgt & BrainWgt & NonD & Dream & Sleep & Span & Gest & Pred & Exp & Danger\\\\\n <dbl> & <dbl> & <dbl> & <dbl> & <dbl> & <dbl> & <dbl> & <fct> & <fct> & <fct>\\\\\n\\hline\n\t 6654.000 & 5712.0 &   NA &  NA &  3.3 & 38.6 & 645 & 3 & 5 & 3\\\\\n\t    1.000 &    6.6 &  6.3 & 2.0 &  8.3 &  4.5 &  42 & 3 & 1 & 3\\\\\n\t    3.385 &   44.5 &   NA &  NA & 12.5 & 14.0 &  60 & 1 & 1 & 1\\\\\n\t    0.920 &    5.7 &   NA &  NA & 16.5 &   NA &  25 & 5 & 2 & 3\\\\\n\t 2547.000 & 4603.0 &  2.1 & 1.8 &  3.9 & 69.0 & 624 & 3 & 5 & 4\\\\\n\t   10.550 &  179.5 &  9.1 & 0.7 &  9.8 & 27.0 & 180 & 4 & 4 & 4\\\\\n\t    0.023 &    0.3 & 15.8 & 3.9 & 19.7 & 19.0 &  35 & 1 & 1 & 1\\\\\n\t  160.000 &  169.0 &  5.2 & 1.0 &  6.2 & 30.4 & 392 & 4 & 5 & 4\\\\\n\t    3.300 &   25.6 & 10.9 & 3.6 & 14.5 & 28.0 &  63 & 1 & 2 & 1\\\\\n\t   52.160 &  440.0 &  8.3 & 1.4 &  9.7 & 50.0 & 230 & 1 & 1 & 1\\\\\n\t    0.425 &    6.4 & 11.0 & 1.5 & 12.5 &  7.0 & 112 & 5 & 4 & 4\\\\\n\t  465.000 &  423.0 &  3.2 & 0.7 &  3.9 & 30.0 & 281 & 5 & 5 & 5\\\\\n\t    0.550 &    2.4 &  7.6 & 2.7 & 10.3 &   NA &  NA & 2 & 1 & 2\\\\\n\t  187.100 &  419.0 &   NA &  NA &  3.1 & 40.0 & 365 & 5 & 5 & 5\\\\\n\t    0.075 &    1.2 &  6.3 & 2.1 &  8.4 &  3.5 &  42 & 1 & 1 & 1\\\\\n\t    3.000 &   25.0 &  8.6 & 0.0 &  8.6 & 50.0 &  28 & 2 & 2 & 2\\\\\n\t    0.785 &    3.5 &  6.6 & 4.1 & 10.7 &  6.0 &  42 & 2 & 2 & 2\\\\\n\t    0.200 &    5.0 &  9.5 & 1.2 & 10.7 & 10.4 & 120 & 2 & 2 & 2\\\\\n\t    1.410 &   17.5 &  4.8 & 1.3 &  6.1 & 34.0 &  NA & 1 & 2 & 1\\\\\n\t   60.000 &   81.0 & 12.0 & 6.1 & 18.1 &  7.0 &  NA & 1 & 1 & 1\\\\\n\t  529.000 &  680.0 &   NA & 0.3 &   NA & 28.0 & 400 & 5 & 5 & 5\\\\\n\t   27.660 &  115.0 &  3.3 & 0.5 &  3.8 & 20.0 & 148 & 5 & 5 & 5\\\\\n\t    0.120 &    1.0 & 11.0 & 3.4 & 14.4 &  3.9 &  16 & 3 & 1 & 2\\\\\n\t  207.000 &  406.0 &   NA &  NA & 12.0 & 39.3 & 252 & 1 & 4 & 1\\\\\n\t   85.000 &  325.0 &  4.7 & 1.5 &  6.2 & 41.0 & 310 & 1 & 3 & 1\\\\\n\t   36.330 &  119.5 &   NA &  NA & 13.0 & 16.2 &  63 & 1 & 1 & 1\\\\\n\t    0.101 &    4.0 & 10.4 & 3.4 & 13.8 &  9.0 &  28 & 5 & 1 & 3\\\\\n\t    1.040 &    5.5 &  7.4 & 0.8 &  8.2 &  7.6 &  68 & 5 & 3 & 4\\\\\n\t  521.000 &  655.0 &  2.1 & 0.8 &  2.9 & 46.0 & 336 & 5 & 5 & 5\\\\\n\t  100.000 &  157.0 &   NA &  NA & 10.8 & 22.4 & 100 & 1 & 1 & 1\\\\\n\t ⋮ & ⋮ & ⋮ & ⋮ & ⋮ & ⋮ & ⋮ & ⋮ & ⋮ & ⋮\\\\\n\t   0.010 &    0.25 & 17.9 & 2.0 & 19.9 &  24.0 &  50 & 1 & 1 & 1\\\\\n\t  62.000 & 1320.00 &  6.1 & 1.9 &  8.0 & 100.0 & 267 & 1 & 1 & 1\\\\\n\t   0.122 &    3.00 &  8.2 & 2.4 & 10.6 &    NA &  30 & 2 & 1 & 1\\\\\n\t   1.350 &    8.10 &  8.4 & 2.8 & 11.2 &    NA &  45 & 3 & 1 & 3\\\\\n\t   0.023 &    0.40 & 11.9 & 1.3 & 13.2 &   3.2 &  19 & 4 & 1 & 3\\\\\n\t   0.048 &    0.33 & 10.8 & 2.0 & 12.8 &   2.0 &  30 & 4 & 1 & 3\\\\\n\t   1.700 &    6.30 & 13.8 & 5.6 & 19.4 &   5.0 &  12 & 2 & 1 & 1\\\\\n\t   3.500 &   10.80 & 14.3 & 3.1 & 17.4 &   6.5 & 120 & 2 & 1 & 1\\\\\n\t 250.000 &  490.00 &   NA & 1.0 &   NA &  23.6 & 440 & 5 & 5 & 5\\\\\n\t   0.480 &   15.50 & 15.2 & 1.8 & 17.0 &  12.0 & 140 & 2 & 2 & 2\\\\\n\t  10.000 &  115.00 & 10.0 & 0.9 & 10.9 &  20.2 & 170 & 4 & 4 & 4\\\\\n\t   1.620 &   11.40 & 11.9 & 1.8 & 13.7 &  13.0 &  17 & 2 & 1 & 2\\\\\n\t 192.000 &  180.00 &  6.5 & 1.9 &  8.4 &  27.0 & 115 & 4 & 4 & 4\\\\\n\t   2.500 &   12.10 &  7.5 & 0.9 &  8.4 &  18.0 &  31 & 5 & 5 & 5\\\\\n\t   4.288 &   39.20 &   NA &  NA & 12.5 &  13.7 &  63 & 2 & 2 & 2\\\\\n\t   0.280 &    1.90 & 10.6 & 2.6 & 13.2 &   4.7 &  21 & 3 & 1 & 3\\\\\n\t   4.235 &   50.40 &  7.4 & 2.4 &  9.8 &   9.8 &  52 & 1 & 1 & 1\\\\\n\t   6.800 &  179.00 &  8.4 & 1.2 &  9.6 &  29.0 & 164 & 2 & 3 & 2\\\\\n\t   0.750 &   12.30 &  5.7 & 0.9 &  6.6 &   7.0 & 225 & 2 & 2 & 2\\\\\n\t   3.600 &   21.00 &  4.9 & 0.5 &  5.4 &   6.0 & 225 & 3 & 2 & 3\\\\\n\t  14.830 &   98.20 &   NA &  NA &  2.6 &  17.0 & 150 & 5 & 5 & 5\\\\\n\t  55.500 &  175.00 &  3.2 & 0.6 &  3.8 &  20.0 & 151 & 5 & 5 & 5\\\\\n\t   1.400 &   12.50 &   NA &  NA & 11.0 &  12.7 &  90 & 2 & 2 & 2\\\\\n\t   0.060 &    1.00 &  8.1 & 2.2 & 10.3 &   3.5 &  NA & 3 & 1 & 2\\\\\n\t   0.900 &    2.60 & 11.0 & 2.3 & 13.3 &   4.5 &  60 & 2 & 1 & 2\\\\\n\t   2.000 &   12.30 &  4.9 & 0.5 &  5.4 &   7.5 & 200 & 3 & 1 & 3\\\\\n\t   0.104 &    2.50 & 13.2 & 2.6 & 15.8 &   2.3 &  46 & 3 & 2 & 2\\\\\n\t   4.190 &   58.00 &  9.7 & 0.6 & 10.3 &  24.0 & 210 & 4 & 3 & 4\\\\\n\t   3.500 &    3.90 & 12.8 & 6.6 & 19.4 &   3.0 &  14 & 2 & 1 & 1\\\\\n\t   4.050 &   17.00 &   NA &  NA &   NA &  13.0 &  38 & 3 & 1 & 1\\\\\n\\end{tabular}\n",
            "text/plain": [
              "   BodyWgt  BrainWgt NonD Dream Sleep Span  Gest Pred Exp Danger\n",
              "1  6654.000 5712.0     NA  NA    3.3  38.6  645  3    5   3     \n",
              "2     1.000    6.6    6.3 2.0    8.3   4.5   42  3    1   3     \n",
              "3     3.385   44.5     NA  NA   12.5  14.0   60  1    1   1     \n",
              "4     0.920    5.7     NA  NA   16.5    NA   25  5    2   3     \n",
              "5  2547.000 4603.0    2.1 1.8    3.9  69.0  624  3    5   4     \n",
              "6    10.550  179.5    9.1 0.7    9.8  27.0  180  4    4   4     \n",
              "7     0.023    0.3   15.8 3.9   19.7  19.0   35  1    1   1     \n",
              "8   160.000  169.0    5.2 1.0    6.2  30.4  392  4    5   4     \n",
              "9     3.300   25.6   10.9 3.6   14.5  28.0   63  1    2   1     \n",
              "10   52.160  440.0    8.3 1.4    9.7  50.0  230  1    1   1     \n",
              "11    0.425    6.4   11.0 1.5   12.5   7.0  112  5    4   4     \n",
              "12  465.000  423.0    3.2 0.7    3.9  30.0  281  5    5   5     \n",
              "13    0.550    2.4    7.6 2.7   10.3    NA   NA  2    1   2     \n",
              "14  187.100  419.0     NA  NA    3.1  40.0  365  5    5   5     \n",
              "15    0.075    1.2    6.3 2.1    8.4   3.5   42  1    1   1     \n",
              "16    3.000   25.0    8.6 0.0    8.6  50.0   28  2    2   2     \n",
              "17    0.785    3.5    6.6 4.1   10.7   6.0   42  2    2   2     \n",
              "18    0.200    5.0    9.5 1.2   10.7  10.4  120  2    2   2     \n",
              "19    1.410   17.5    4.8 1.3    6.1  34.0   NA  1    2   1     \n",
              "20   60.000   81.0   12.0 6.1   18.1   7.0   NA  1    1   1     \n",
              "21  529.000  680.0     NA 0.3     NA  28.0  400  5    5   5     \n",
              "22   27.660  115.0    3.3 0.5    3.8  20.0  148  5    5   5     \n",
              "23    0.120    1.0   11.0 3.4   14.4   3.9   16  3    1   2     \n",
              "24  207.000  406.0     NA  NA   12.0  39.3  252  1    4   1     \n",
              "25   85.000  325.0    4.7 1.5    6.2  41.0  310  1    3   1     \n",
              "26   36.330  119.5     NA  NA   13.0  16.2   63  1    1   1     \n",
              "27    0.101    4.0   10.4 3.4   13.8   9.0   28  5    1   3     \n",
              "28    1.040    5.5    7.4 0.8    8.2   7.6   68  5    3   4     \n",
              "29  521.000  655.0    2.1 0.8    2.9  46.0  336  5    5   5     \n",
              "30  100.000  157.0     NA  NA   10.8  22.4  100  1    1   1     \n",
              "⋮  ⋮        ⋮        ⋮    ⋮     ⋮     ⋮     ⋮    ⋮    ⋮   ⋮     \n",
              "33   0.010     0.25  17.9 2.0   19.9   24.0  50  1    1   1     \n",
              "34  62.000  1320.00   6.1 1.9    8.0  100.0 267  1    1   1     \n",
              "35   0.122     3.00   8.2 2.4   10.6     NA  30  2    1   1     \n",
              "36   1.350     8.10   8.4 2.8   11.2     NA  45  3    1   3     \n",
              "37   0.023     0.40  11.9 1.3   13.2    3.2  19  4    1   3     \n",
              "38   0.048     0.33  10.8 2.0   12.8    2.0  30  4    1   3     \n",
              "39   1.700     6.30  13.8 5.6   19.4    5.0  12  2    1   1     \n",
              "40   3.500    10.80  14.3 3.1   17.4    6.5 120  2    1   1     \n",
              "41 250.000   490.00    NA 1.0     NA   23.6 440  5    5   5     \n",
              "42   0.480    15.50  15.2 1.8   17.0   12.0 140  2    2   2     \n",
              "43  10.000   115.00  10.0 0.9   10.9   20.2 170  4    4   4     \n",
              "44   1.620    11.40  11.9 1.8   13.7   13.0  17  2    1   2     \n",
              "45 192.000   180.00   6.5 1.9    8.4   27.0 115  4    4   4     \n",
              "46   2.500    12.10   7.5 0.9    8.4   18.0  31  5    5   5     \n",
              "47   4.288    39.20    NA  NA   12.5   13.7  63  2    2   2     \n",
              "48   0.280     1.90  10.6 2.6   13.2    4.7  21  3    1   3     \n",
              "49   4.235    50.40   7.4 2.4    9.8    9.8  52  1    1   1     \n",
              "50   6.800   179.00   8.4 1.2    9.6   29.0 164  2    3   2     \n",
              "51   0.750    12.30   5.7 0.9    6.6    7.0 225  2    2   2     \n",
              "52   3.600    21.00   4.9 0.5    5.4    6.0 225  3    2   3     \n",
              "53  14.830    98.20    NA  NA    2.6   17.0 150  5    5   5     \n",
              "54  55.500   175.00   3.2 0.6    3.8   20.0 151  5    5   5     \n",
              "55   1.400    12.50    NA  NA   11.0   12.7  90  2    2   2     \n",
              "56   0.060     1.00   8.1 2.2   10.3    3.5  NA  3    1   2     \n",
              "57   0.900     2.60  11.0 2.3   13.3    4.5  60  2    1   2     \n",
              "58   2.000    12.30   4.9 0.5    5.4    7.5 200  3    1   3     \n",
              "59   0.104     2.50  13.2 2.6   15.8    2.3  46  3    2   2     \n",
              "60   4.190    58.00   9.7 0.6   10.3   24.0 210  4    3   4     \n",
              "61   3.500     3.90  12.8 6.6   19.4    3.0  14  2    1   1     \n",
              "62   4.050    17.00    NA  NA     NA   13.0  38  3    1   1     "
            ]
          },
          "metadata": {}
        }
      ]
    },
    {
      "cell_type": "code",
      "source": [
        "# Cargar el paquete janitor, que incluye funciones útiles para el manejo de tablas categóricas\n",
        "\n",
        "# Tabla de frecuencias absolutas y relativas para la variable 'Danger'\n",
        "sleep_limpio%>%\n",
        "  tabyl(Danger)%>%\n",
        "  arrange(desc(n))%>%\n",
        "  mutate(\n",
        "  freq_acumulada = cumsum(n),\n",
        "  pct = round(percent,2),\n",
        "  pct_acumulada = round(cumsum(percent),2)\n",
        "  )\n",
        "  #adorn_pct_formatting()\n",
        "\n",
        "# Tabla de frecuencias para la variable 'Pred'\n",
        "\n",
        "sleep_limpio%>%\n",
        "  tabyl(Pred)%>%\n",
        "  arrange(desc(n))%>%\n",
        "  mutate(\n",
        "  freq_acumulada = cumsum(n),\n",
        "  pct = round(percent,2),\n",
        "  pct_acumulada = round(cumsum(percent),2)\n",
        "  )\n",
        "\n",
        "# Tabla de frecuencias para la variable 'Exp'\n",
        "\n",
        "sleep_limpio%>%\n",
        "  tabyl(Exp)%>%\n",
        "  arrange(desc(n))%>%\n",
        "  mutate(\n",
        "  freq_acumulada = cumsum(n),\n",
        "  pct = round(percent,2),\n",
        "  pct_acumulada = round(cumsum(percent),2)\n",
        "  )\n"
      ],
      "metadata": {
        "id": "ETdD0ueBUpTa",
        "outputId": "9d464bbc-9205-45b9-c808-944dc6f753d9",
        "colab": {
          "base_uri": "https://localhost:8080/",
          "height": 730
        }
      },
      "id": "ETdD0ueBUpTa",
      "execution_count": 84,
      "outputs": [
        {
          "output_type": "display_data",
          "data": {
            "text/html": [
              "<table class=\"dataframe\">\n",
              "<caption>A tabyl: 5 × 6</caption>\n",
              "<thead>\n",
              "\t<tr><th scope=col>Danger</th><th scope=col>n</th><th scope=col>percent</th><th scope=col>freq_acumulada</th><th scope=col>pct</th><th scope=col>pct_acumulada</th></tr>\n",
              "\t<tr><th scope=col>&lt;fct&gt;</th><th scope=col>&lt;int&gt;</th><th scope=col>&lt;dbl&gt;</th><th scope=col>&lt;int&gt;</th><th scope=col>&lt;dbl&gt;</th><th scope=col>&lt;dbl&gt;</th></tr>\n",
              "</thead>\n",
              "<tbody>\n",
              "\t<tr><td>1</td><td>19</td><td>0.3064516</td><td>19</td><td>0.31</td><td>0.31</td></tr>\n",
              "\t<tr><td>2</td><td>14</td><td>0.2258065</td><td>33</td><td>0.23</td><td>0.53</td></tr>\n",
              "\t<tr><td>3</td><td>10</td><td>0.1612903</td><td>43</td><td>0.16</td><td>0.69</td></tr>\n",
              "\t<tr><td>4</td><td>10</td><td>0.1612903</td><td>53</td><td>0.16</td><td>0.85</td></tr>\n",
              "\t<tr><td>5</td><td> 9</td><td>0.1451613</td><td>62</td><td>0.15</td><td>1.00</td></tr>\n",
              "</tbody>\n",
              "</table>\n"
            ],
            "text/markdown": "\nA tabyl: 5 × 6\n\n| Danger &lt;fct&gt; | n &lt;int&gt; | percent &lt;dbl&gt; | freq_acumulada &lt;int&gt; | pct &lt;dbl&gt; | pct_acumulada &lt;dbl&gt; |\n|---|---|---|---|---|---|\n| 1 | 19 | 0.3064516 | 19 | 0.31 | 0.31 |\n| 2 | 14 | 0.2258065 | 33 | 0.23 | 0.53 |\n| 3 | 10 | 0.1612903 | 43 | 0.16 | 0.69 |\n| 4 | 10 | 0.1612903 | 53 | 0.16 | 0.85 |\n| 5 |  9 | 0.1451613 | 62 | 0.15 | 1.00 |\n\n",
            "text/latex": "A tabyl: 5 × 6\n\\begin{tabular}{llllll}\n Danger & n & percent & freq\\_acumulada & pct & pct\\_acumulada\\\\\n <fct> & <int> & <dbl> & <int> & <dbl> & <dbl>\\\\\n\\hline\n\t 1 & 19 & 0.3064516 & 19 & 0.31 & 0.31\\\\\n\t 2 & 14 & 0.2258065 & 33 & 0.23 & 0.53\\\\\n\t 3 & 10 & 0.1612903 & 43 & 0.16 & 0.69\\\\\n\t 4 & 10 & 0.1612903 & 53 & 0.16 & 0.85\\\\\n\t 5 &  9 & 0.1451613 & 62 & 0.15 & 1.00\\\\\n\\end{tabular}\n",
            "text/plain": [
              "  Danger n  percent   freq_acumulada pct  pct_acumulada\n",
              "1 1      19 0.3064516 19             0.31 0.31         \n",
              "2 2      14 0.2258065 33             0.23 0.53         \n",
              "3 3      10 0.1612903 43             0.16 0.69         \n",
              "4 4      10 0.1612903 53             0.16 0.85         \n",
              "5 5       9 0.1451613 62             0.15 1.00         "
            ]
          },
          "metadata": {}
        },
        {
          "output_type": "display_data",
          "data": {
            "text/html": [
              "<table class=\"dataframe\">\n",
              "<caption>A tabyl: 5 × 6</caption>\n",
              "<thead>\n",
              "\t<tr><th scope=col>Pred</th><th scope=col>n</th><th scope=col>percent</th><th scope=col>freq_acumulada</th><th scope=col>pct</th><th scope=col>pct_acumulada</th></tr>\n",
              "\t<tr><th scope=col>&lt;fct&gt;</th><th scope=col>&lt;int&gt;</th><th scope=col>&lt;dbl&gt;</th><th scope=col>&lt;int&gt;</th><th scope=col>&lt;dbl&gt;</th><th scope=col>&lt;dbl&gt;</th></tr>\n",
              "</thead>\n",
              "<tbody>\n",
              "\t<tr><td>2</td><td>15</td><td>0.2419355</td><td>15</td><td>0.24</td><td>0.24</td></tr>\n",
              "\t<tr><td>1</td><td>14</td><td>0.2258065</td><td>29</td><td>0.23</td><td>0.47</td></tr>\n",
              "\t<tr><td>5</td><td>14</td><td>0.2258065</td><td>43</td><td>0.23</td><td>0.69</td></tr>\n",
              "\t<tr><td>3</td><td>12</td><td>0.1935484</td><td>55</td><td>0.19</td><td>0.89</td></tr>\n",
              "\t<tr><td>4</td><td> 7</td><td>0.1129032</td><td>62</td><td>0.11</td><td>1.00</td></tr>\n",
              "</tbody>\n",
              "</table>\n"
            ],
            "text/markdown": "\nA tabyl: 5 × 6\n\n| Pred &lt;fct&gt; | n &lt;int&gt; | percent &lt;dbl&gt; | freq_acumulada &lt;int&gt; | pct &lt;dbl&gt; | pct_acumulada &lt;dbl&gt; |\n|---|---|---|---|---|---|\n| 2 | 15 | 0.2419355 | 15 | 0.24 | 0.24 |\n| 1 | 14 | 0.2258065 | 29 | 0.23 | 0.47 |\n| 5 | 14 | 0.2258065 | 43 | 0.23 | 0.69 |\n| 3 | 12 | 0.1935484 | 55 | 0.19 | 0.89 |\n| 4 |  7 | 0.1129032 | 62 | 0.11 | 1.00 |\n\n",
            "text/latex": "A tabyl: 5 × 6\n\\begin{tabular}{llllll}\n Pred & n & percent & freq\\_acumulada & pct & pct\\_acumulada\\\\\n <fct> & <int> & <dbl> & <int> & <dbl> & <dbl>\\\\\n\\hline\n\t 2 & 15 & 0.2419355 & 15 & 0.24 & 0.24\\\\\n\t 1 & 14 & 0.2258065 & 29 & 0.23 & 0.47\\\\\n\t 5 & 14 & 0.2258065 & 43 & 0.23 & 0.69\\\\\n\t 3 & 12 & 0.1935484 & 55 & 0.19 & 0.89\\\\\n\t 4 &  7 & 0.1129032 & 62 & 0.11 & 1.00\\\\\n\\end{tabular}\n",
            "text/plain": [
              "  Pred n  percent   freq_acumulada pct  pct_acumulada\n",
              "1 2    15 0.2419355 15             0.24 0.24         \n",
              "2 1    14 0.2258065 29             0.23 0.47         \n",
              "3 5    14 0.2258065 43             0.23 0.69         \n",
              "4 3    12 0.1935484 55             0.19 0.89         \n",
              "5 4     7 0.1129032 62             0.11 1.00         "
            ]
          },
          "metadata": {}
        },
        {
          "output_type": "display_data",
          "data": {
            "text/html": [
              "<table class=\"dataframe\">\n",
              "<caption>A tabyl: 5 × 6</caption>\n",
              "<thead>\n",
              "\t<tr><th scope=col>Exp</th><th scope=col>n</th><th scope=col>percent</th><th scope=col>freq_acumulada</th><th scope=col>pct</th><th scope=col>pct_acumulada</th></tr>\n",
              "\t<tr><th scope=col>&lt;fct&gt;</th><th scope=col>&lt;int&gt;</th><th scope=col>&lt;dbl&gt;</th><th scope=col>&lt;int&gt;</th><th scope=col>&lt;dbl&gt;</th><th scope=col>&lt;dbl&gt;</th></tr>\n",
              "</thead>\n",
              "<tbody>\n",
              "\t<tr><td>1</td><td>27</td><td>0.43548387</td><td>27</td><td>0.44</td><td>0.44</td></tr>\n",
              "\t<tr><td>2</td><td>13</td><td>0.20967742</td><td>40</td><td>0.21</td><td>0.65</td></tr>\n",
              "\t<tr><td>5</td><td>13</td><td>0.20967742</td><td>53</td><td>0.21</td><td>0.85</td></tr>\n",
              "\t<tr><td>4</td><td> 5</td><td>0.08064516</td><td>58</td><td>0.08</td><td>0.94</td></tr>\n",
              "\t<tr><td>3</td><td> 4</td><td>0.06451613</td><td>62</td><td>0.06</td><td>1.00</td></tr>\n",
              "</tbody>\n",
              "</table>\n"
            ],
            "text/markdown": "\nA tabyl: 5 × 6\n\n| Exp &lt;fct&gt; | n &lt;int&gt; | percent &lt;dbl&gt; | freq_acumulada &lt;int&gt; | pct &lt;dbl&gt; | pct_acumulada &lt;dbl&gt; |\n|---|---|---|---|---|---|\n| 1 | 27 | 0.43548387 | 27 | 0.44 | 0.44 |\n| 2 | 13 | 0.20967742 | 40 | 0.21 | 0.65 |\n| 5 | 13 | 0.20967742 | 53 | 0.21 | 0.85 |\n| 4 |  5 | 0.08064516 | 58 | 0.08 | 0.94 |\n| 3 |  4 | 0.06451613 | 62 | 0.06 | 1.00 |\n\n",
            "text/latex": "A tabyl: 5 × 6\n\\begin{tabular}{llllll}\n Exp & n & percent & freq\\_acumulada & pct & pct\\_acumulada\\\\\n <fct> & <int> & <dbl> & <int> & <dbl> & <dbl>\\\\\n\\hline\n\t 1 & 27 & 0.43548387 & 27 & 0.44 & 0.44\\\\\n\t 2 & 13 & 0.20967742 & 40 & 0.21 & 0.65\\\\\n\t 5 & 13 & 0.20967742 & 53 & 0.21 & 0.85\\\\\n\t 4 &  5 & 0.08064516 & 58 & 0.08 & 0.94\\\\\n\t 3 &  4 & 0.06451613 & 62 & 0.06 & 1.00\\\\\n\\end{tabular}\n",
            "text/plain": [
              "  Exp n  percent    freq_acumulada pct  pct_acumulada\n",
              "1 1   27 0.43548387 27             0.44 0.44         \n",
              "2 2   13 0.20967742 40             0.21 0.65         \n",
              "3 5   13 0.20967742 53             0.21 0.85         \n",
              "4 4    5 0.08064516 58             0.08 0.94         \n",
              "5 3    4 0.06451613 62             0.06 1.00         "
            ]
          },
          "metadata": {}
        }
      ]
    },
    {
      "cell_type": "code",
      "source": [
        "# Gráfico de barras de la variable Danger\n",
        "ggplot(sleep_limpio,aes(Danger))+\n",
        "  geom_bar(fill=\"lightblue\", color=\"pink\")+\n",
        "  labs(title=\"frecuencia de la variable Danger\")\n",
        "\n"
      ],
      "metadata": {
        "id": "SKbtmegZVe8O",
        "outputId": "0513fd88-5d39-430d-b094-f5a9fa75cf44",
        "colab": {
          "base_uri": "https://localhost:8080/",
          "height": 437
        }
      },
      "id": "SKbtmegZVe8O",
      "execution_count": 86,
      "outputs": [
        {
          "output_type": "display_data",
          "data": {
            "text/plain": [
              "plot without title"
            ],
            "image/png": "[encoded data removed]"
          },
          "metadata": {
            "image/png": {
              "width": 420,
              "height": 420
            }
          }
        }
      ]
    },
    {
      "cell_type": "code",
      "source": [
        "# Gráfico de barras de la variable Danger ordenado descendentemente\n",
        "\n",
        "ggplot(sleep_limpio,aes(Danger))+\n",
        "  geom_bar(fill=\"coral\", color=\"pink\")+\n",
        "  labs(title=\"frecuencia de la variable Danger\")\n",
        "\n"
      ],
      "metadata": {
        "id": "CoMw0ATwVkhh"
      },
      "id": "CoMw0ATwVkhh",
      "execution_count": null,
      "outputs": []
    },
    {
      "cell_type": "code",
      "source": [
        "# Para graficar un pie-chart\n",
        "# ggplo2 no ofrece directamente un pie-chart, por lo que se deben hacer algunos cálculos\n",
        "# Paso 1: Calcular la tabla de frecuencias\n",
        "(tabla_pie <- sleep_limpio%>%\n",
        "  count(Danger)%>%\n",
        "  mutate(\n",
        "  porcentaje = n/sum(n),\n",
        "  etiqueta=paste0(round(porcentaje*100,2),\"%\")\n",
        "  ))\n",
        "# Paso 2: Crear el gráfico de pastel\n",
        "ggplot(tabla_pie, aes(x = \"\",, y = porcentaje, fill = Danger))+\n",
        "  geom_bar(stat = \"identity\", width = 1)+\n",
        "  coord_polar(\"y\",start = 0)+\n",
        "  geom_text(aes(label=etiqueta),\n",
        "  position = position_stack(vjust = 0.5),\n",
        "  size=5)+\n",
        "    labs(title =\"Distibución de Danger\", x=\"\", y=\"\", fill=\"Danger\" )+\n",
        "    theme_void()+\n",
        "    theme(\n",
        "    plot.title = element_text(size=16, face=\"bold\"),\n",
        "    legend.title = element_text(size=12),\n",
        "    legend.text = element_text(size =12)\n",
        "    )\n",
        "\n",
        "\n",
        "\n",
        "\n",
        "  # Agregar etiquetas de porcentaje centradas en cada porción\n",
        "\n",
        "\n",
        "\n",
        "\n",
        "  # Agregar títulos y leyenda\n",
        "\n",
        "\n",
        "\n",
        "\n",
        "  # Modificar el tamaño del título y leyenda\n",
        "\n",
        "\n",
        "\n"
      ],
      "metadata": {
        "id": "BeRCaAUTb-YA",
        "outputId": "2e7bfae4-7261-4dd6-f00c-4ae857069083",
        "colab": {
          "base_uri": "https://localhost:8080/",
          "height": 675
        }
      },
      "id": "BeRCaAUTb-YA",
      "execution_count": 96,
      "outputs": [
        {
          "output_type": "display_data",
          "data": {
            "text/html": [
              "<table class=\"dataframe\">\n",
              "<caption>A data.frame: 5 × 4</caption>\n",
              "<thead>\n",
              "\t<tr><th scope=col>Danger</th><th scope=col>n</th><th scope=col>porcentaje</th><th scope=col>etiqueta</th></tr>\n",
              "\t<tr><th scope=col>&lt;fct&gt;</th><th scope=col>&lt;int&gt;</th><th scope=col>&lt;dbl&gt;</th><th scope=col>&lt;chr&gt;</th></tr>\n",
              "</thead>\n",
              "<tbody>\n",
              "\t<tr><td>1</td><td>19</td><td>0.3064516</td><td>30.65%</td></tr>\n",
              "\t<tr><td>2</td><td>14</td><td>0.2258065</td><td>22.58%</td></tr>\n",
              "\t<tr><td>3</td><td>10</td><td>0.1612903</td><td>16.13%</td></tr>\n",
              "\t<tr><td>4</td><td>10</td><td>0.1612903</td><td>16.13%</td></tr>\n",
              "\t<tr><td>5</td><td> 9</td><td>0.1451613</td><td>14.52%</td></tr>\n",
              "</tbody>\n",
              "</table>\n"
            ],
            "text/markdown": "\nA data.frame: 5 × 4\n\n| Danger &lt;fct&gt; | n &lt;int&gt; | porcentaje &lt;dbl&gt; | etiqueta &lt;chr&gt; |\n|---|---|---|---|\n| 1 | 19 | 0.3064516 | 30.65% |\n| 2 | 14 | 0.2258065 | 22.58% |\n| 3 | 10 | 0.1612903 | 16.13% |\n| 4 | 10 | 0.1612903 | 16.13% |\n| 5 |  9 | 0.1451613 | 14.52% |\n\n",
            "text/latex": "A data.frame: 5 × 4\n\\begin{tabular}{llll}\n Danger & n & porcentaje & etiqueta\\\\\n <fct> & <int> & <dbl> & <chr>\\\\\n\\hline\n\t 1 & 19 & 0.3064516 & 30.65\\%\\\\\n\t 2 & 14 & 0.2258065 & 22.58\\%\\\\\n\t 3 & 10 & 0.1612903 & 16.13\\%\\\\\n\t 4 & 10 & 0.1612903 & 16.13\\%\\\\\n\t 5 &  9 & 0.1451613 & 14.52\\%\\\\\n\\end{tabular}\n",
            "text/plain": [
              "  Danger n  porcentaje etiqueta\n",
              "1 1      19 0.3064516  30.65%  \n",
              "2 2      14 0.2258065  22.58%  \n",
              "3 3      10 0.1612903  16.13%  \n",
              "4 4      10 0.1612903  16.13%  \n",
              "5 5       9 0.1451613  14.52%  "
            ]
          },
          "metadata": {}
        },
        {
          "output_type": "display_data",
          "data": {
            "text/plain": [
              "plot without title"
            ],
            "image/png": "[encoded data removed]"
          },
          "metadata": {
            "image/png": {
              "width": 420,
              "height": 420
            }
          }
        }
      ]
    },
    {
      "cell_type": "code",
      "source": [
        "#Diagarama de barras de la bariable Exp ordenado por frecuencia descendente\n",
        "ggplot(sleep_limpio,aes(x=fct_infreq(Exp))+\n",
        "  geom_bar(fill=\"coral\", color=\"pink\")+\n",
        "  labs(title=\"frecuencia de la variable Exp\")\n",
        "\n",
        "ggplot(sleep_limpio,aes(Exp))+\n",
        "  geom_bar(fill=\"coral\", color=\"pink\")+\n",
        "  labs(title=\"frecuencia de la variable Exp\")\n",
        "\n"
      ],
      "metadata": {
        "id": "vpNqEZdiWAHI",
        "outputId": "91c15b5e-3daa-4736-82d2-6a682c6c9fdb",
        "colab": {
          "base_uri": "https://localhost:8080/",
          "height": 128
        }
      },
      "id": "vpNqEZdiWAHI",
      "execution_count": 97,
      "outputs": [
        {
          "output_type": "error",
          "ename": "ERROR",
          "evalue": "Error in parse(text = input): <text>:6:1: unexpected symbol\n5: \n6: ggplot\n   ^\n",
          "traceback": [
            "Error in parse(text = input): <text>:6:1: unexpected symbol\n5: \n6: ggplot\n   ^\nTraceback:\n"
          ]
        }
      ]
    },
    {
      "cell_type": "code",
      "source": [
        "#Diagrama de frecuencias variable Pred\n",
        "\n",
        "\n",
        "\n"
      ],
      "metadata": {
        "id": "nYSs5OW4WIYX"
      },
      "id": "nYSs5OW4WIYX",
      "execution_count": null,
      "outputs": []
    },
    {
      "cell_type": "code",
      "source": [
        "#Para poder agregar la etiqueta de los porcentajes:\n",
        "\n",
        "# Paso 1: Calcular las frecuencias relativas\n",
        "(tabla_pred <- sleep_limpio%>%\n",
        "  count(Pred)%>%\n",
        "  mutate(\n",
        "  porcentaje = n/sum(n),\n",
        "  etiqueta=paste0(round(porcentaje*100,2),\"%\")\n",
        "  ))\n",
        "\n",
        "# Paso 2: Gráfico con etiquetas\n",
        "ggplot(tabla_pred, aes(x= fct_infreq(Pred), y=porcentaje))+\n",
        "  geom_col(fill=\"yellow\")+\n",
        "  geom_text(aes(label=etiqueta,vjust=-0.5))+\n",
        "  scale_y_continuous(labels=scales::percent_format(accuracy = 1))+\n",
        "  labs(title = \"Variable Pred ordenada por frecuencia\", x=\"Pred\", y=\"Procentaje\")+\n",
        "  theme_minimal()\n",
        "\n",
        "\n",
        "\n"
      ],
      "metadata": {
        "id": "iGtt-3GYW3Nu",
        "outputId": "5ea02ad1-a323-41ec-ddff-cacb2fd93d15",
        "colab": {
          "base_uri": "https://localhost:8080/",
          "height": 675
        }
      },
      "id": "iGtt-3GYW3Nu",
      "execution_count": 100,
      "outputs": [
        {
          "output_type": "display_data",
          "data": {
            "text/html": [
              "<table class=\"dataframe\">\n",
              "<caption>A data.frame: 5 × 4</caption>\n",
              "<thead>\n",
              "\t<tr><th scope=col>Pred</th><th scope=col>n</th><th scope=col>porcentaje</th><th scope=col>etiqueta</th></tr>\n",
              "\t<tr><th scope=col>&lt;fct&gt;</th><th scope=col>&lt;int&gt;</th><th scope=col>&lt;dbl&gt;</th><th scope=col>&lt;chr&gt;</th></tr>\n",
              "</thead>\n",
              "<tbody>\n",
              "\t<tr><td>1</td><td>14</td><td>0.2258065</td><td>22.58%</td></tr>\n",
              "\t<tr><td>2</td><td>15</td><td>0.2419355</td><td>24.19%</td></tr>\n",
              "\t<tr><td>3</td><td>12</td><td>0.1935484</td><td>19.35%</td></tr>\n",
              "\t<tr><td>4</td><td> 7</td><td>0.1129032</td><td>11.29%</td></tr>\n",
              "\t<tr><td>5</td><td>14</td><td>0.2258065</td><td>22.58%</td></tr>\n",
              "</tbody>\n",
              "</table>\n"
            ],
            "text/markdown": "\nA data.frame: 5 × 4\n\n| Pred &lt;fct&gt; | n &lt;int&gt; | porcentaje &lt;dbl&gt; | etiqueta &lt;chr&gt; |\n|---|---|---|---|\n| 1 | 14 | 0.2258065 | 22.58% |\n| 2 | 15 | 0.2419355 | 24.19% |\n| 3 | 12 | 0.1935484 | 19.35% |\n| 4 |  7 | 0.1129032 | 11.29% |\n| 5 | 14 | 0.2258065 | 22.58% |\n\n",
            "text/latex": "A data.frame: 5 × 4\n\\begin{tabular}{llll}\n Pred & n & porcentaje & etiqueta\\\\\n <fct> & <int> & <dbl> & <chr>\\\\\n\\hline\n\t 1 & 14 & 0.2258065 & 22.58\\%\\\\\n\t 2 & 15 & 0.2419355 & 24.19\\%\\\\\n\t 3 & 12 & 0.1935484 & 19.35\\%\\\\\n\t 4 &  7 & 0.1129032 & 11.29\\%\\\\\n\t 5 & 14 & 0.2258065 & 22.58\\%\\\\\n\\end{tabular}\n",
            "text/plain": [
              "  Pred n  porcentaje etiqueta\n",
              "1 1    14 0.2258065  22.58%  \n",
              "2 2    15 0.2419355  24.19%  \n",
              "3 3    12 0.1935484  19.35%  \n",
              "4 4     7 0.1129032  11.29%  \n",
              "5 5    14 0.2258065  22.58%  "
            ]
          },
          "metadata": {}
        },
        {
          "output_type": "display_data",
          "data": {
            "text/plain": [
              "plot without title"
            ],
            "image/png": "[encoded data removed]"
          },
          "metadata": {
            "image/png": {
              "width": 420,
              "height": 420
            }
          }
        }
      ]
    },
    {
      "cell_type": "markdown",
      "source": [
        "### Tablas cruzadas"
      ],
      "metadata": {
        "id": "XcB5bBfd87Qu"
      },
      "id": "XcB5bBfd87Qu"
    },
    {
      "cell_type": "code",
      "source": [
        "# Tabla cruzada entre dos variables categóricas\n",
        "# Tabla cruzada con porcentajes por fila y renombrado\n",
        "sleep_limpio%>%\n",
        "  tabyl(Pred,Danger)%>%\n",
        "  adorn_percentages(\"row\")\n"
      ],
      "metadata": {
        "id": "55p4_f4RWa9H",
        "outputId": "f6961d35-2319-4790-cc7e-80e1830b795f",
        "colab": {
          "base_uri": "https://localhost:8080/",
          "height": 255
        }
      },
      "id": "55p4_f4RWa9H",
      "execution_count": 101,
      "outputs": [
        {
          "output_type": "display_data",
          "data": {
            "text/html": [
              "<table class=\"dataframe\">\n",
              "<caption>A tabyl: 5 × 6</caption>\n",
              "<thead>\n",
              "\t<tr><th scope=col>Pred</th><th scope=col>1</th><th scope=col>2</th><th scope=col>3</th><th scope=col>4</th><th scope=col>5</th></tr>\n",
              "\t<tr><th scope=col>&lt;fct&gt;</th><th scope=col>&lt;dbl&gt;</th><th scope=col>&lt;dbl&gt;</th><th scope=col>&lt;dbl&gt;</th><th scope=col>&lt;dbl&gt;</th><th scope=col>&lt;dbl&gt;</th></tr>\n",
              "</thead>\n",
              "<tbody>\n",
              "\t<tr><td>1</td><td>1.00000000</td><td>0.0000000</td><td>0.0000000</td><td>0.0000000</td><td>0.0000000</td></tr>\n",
              "\t<tr><td>2</td><td>0.26666667</td><td>0.7333333</td><td>0.0000000</td><td>0.0000000</td><td>0.0000000</td></tr>\n",
              "\t<tr><td>3</td><td>0.08333333</td><td>0.2500000</td><td>0.5000000</td><td>0.1666667</td><td>0.0000000</td></tr>\n",
              "\t<tr><td>4</td><td>0.00000000</td><td>0.0000000</td><td>0.2857143</td><td>0.7142857</td><td>0.0000000</td></tr>\n",
              "\t<tr><td>5</td><td>0.00000000</td><td>0.0000000</td><td>0.1428571</td><td>0.2142857</td><td>0.6428571</td></tr>\n",
              "</tbody>\n",
              "</table>\n"
            ],
            "text/markdown": "\nA tabyl: 5 × 6\n\n| Pred &lt;fct&gt; | 1 &lt;dbl&gt; | 2 &lt;dbl&gt; | 3 &lt;dbl&gt; | 4 &lt;dbl&gt; | 5 &lt;dbl&gt; |\n|---|---|---|---|---|---|\n| 1 | 1.00000000 | 0.0000000 | 0.0000000 | 0.0000000 | 0.0000000 |\n| 2 | 0.26666667 | 0.7333333 | 0.0000000 | 0.0000000 | 0.0000000 |\n| 3 | 0.08333333 | 0.2500000 | 0.5000000 | 0.1666667 | 0.0000000 |\n| 4 | 0.00000000 | 0.0000000 | 0.2857143 | 0.7142857 | 0.0000000 |\n| 5 | 0.00000000 | 0.0000000 | 0.1428571 | 0.2142857 | 0.6428571 |\n\n",
            "text/latex": "A tabyl: 5 × 6\n\\begin{tabular}{llllll}\n Pred & 1 & 2 & 3 & 4 & 5\\\\\n <fct> & <dbl> & <dbl> & <dbl> & <dbl> & <dbl>\\\\\n\\hline\n\t 1 & 1.00000000 & 0.0000000 & 0.0000000 & 0.0000000 & 0.0000000\\\\\n\t 2 & 0.26666667 & 0.7333333 & 0.0000000 & 0.0000000 & 0.0000000\\\\\n\t 3 & 0.08333333 & 0.2500000 & 0.5000000 & 0.1666667 & 0.0000000\\\\\n\t 4 & 0.00000000 & 0.0000000 & 0.2857143 & 0.7142857 & 0.0000000\\\\\n\t 5 & 0.00000000 & 0.0000000 & 0.1428571 & 0.2142857 & 0.6428571\\\\\n\\end{tabular}\n",
            "text/plain": [
              "  Pred 1          2         3         4         5        \n",
              "1 1    1.00000000 0.0000000 0.0000000 0.0000000 0.0000000\n",
              "2 2    0.26666667 0.7333333 0.0000000 0.0000000 0.0000000\n",
              "3 3    0.08333333 0.2500000 0.5000000 0.1666667 0.0000000\n",
              "4 4    0.00000000 0.0000000 0.2857143 0.7142857 0.0000000\n",
              "5 5    0.00000000 0.0000000 0.1428571 0.2142857 0.6428571"
            ]
          },
          "metadata": {}
        }
      ]
    },
    {
      "cell_type": "code",
      "source": [
        "#Diagrama de barras con dos variables categóricas e inclusión de la frecuencia\n",
        "\n",
        "# Paso 1: Calcular proporciones por grupo\n",
        "(tabla_prop <- sleep_limpio%>%\n",
        "  count(Pred,Danger)%>%\n",
        "  group_by(Pred)%>%\n",
        "  mutate(\n",
        "  prop = n/sum(n),\n",
        "  etiqueta = paste0(round(prop*100,1),\"%\")\n",
        "  )\n",
        ")\n",
        "# Paso 2: Gráfico de barras apiladas con etiquetas\n",
        "ggplot(tabla_prop,aes(x=Pred, y = prop, fill=Danger))+\n",
        "  geom_col(position = \"fill\")+\n",
        "  geom_text(aes(label=etiqueta),\n",
        "              position = position_fill(vjust = 0.5, size=3))+\n",
        "  scale_y_continuous(labels = scales::percent_format(accuracy = 1))+\n",
        "  labs(\n",
        "  title = \"Relación entre 'tipo de depredador' y 'peligro'\",\n",
        "  x=\"Tipo de depredador\", y = \"Proporción\"\n",
        "  )+\n",
        "    theme_minimal()\n",
        "\n",
        "\n",
        "\n",
        "\n",
        "\n",
        "\n",
        "\n"
      ],
      "metadata": {
        "id": "VD0Llg4ZWjPp",
        "outputId": "e0e6da9a-14a3-4487-b070-55ef225f2b00",
        "colab": {
          "base_uri": "https://localhost:8080/",
          "height": 786
        }
      },
      "id": "VD0Llg4ZWjPp",
      "execution_count": 111,
      "outputs": [
        {
          "output_type": "display_data",
          "data": {
            "text/html": [
              "<table class=\"dataframe\">\n",
              "<caption>A grouped_df: 12 × 5</caption>\n",
              "<thead>\n",
              "\t<tr><th scope=col>Pred</th><th scope=col>Danger</th><th scope=col>n</th><th scope=col>prop</th><th scope=col>etiqueta</th></tr>\n",
              "\t<tr><th scope=col>&lt;fct&gt;</th><th scope=col>&lt;fct&gt;</th><th scope=col>&lt;int&gt;</th><th scope=col>&lt;dbl&gt;</th><th scope=col>&lt;chr&gt;</th></tr>\n",
              "</thead>\n",
              "<tbody>\n",
              "\t<tr><td>1</td><td>1</td><td>14</td><td>1.00000000</td><td>100% </td></tr>\n",
              "\t<tr><td>2</td><td>1</td><td> 4</td><td>0.26666667</td><td>26.7%</td></tr>\n",
              "\t<tr><td>2</td><td>2</td><td>11</td><td>0.73333333</td><td>73.3%</td></tr>\n",
              "\t<tr><td>3</td><td>1</td><td> 1</td><td>0.08333333</td><td>8.3% </td></tr>\n",
              "\t<tr><td>3</td><td>2</td><td> 3</td><td>0.25000000</td><td>25%  </td></tr>\n",
              "\t<tr><td>3</td><td>3</td><td> 6</td><td>0.50000000</td><td>50%  </td></tr>\n",
              "\t<tr><td>3</td><td>4</td><td> 2</td><td>0.16666667</td><td>16.7%</td></tr>\n",
              "\t<tr><td>4</td><td>3</td><td> 2</td><td>0.28571429</td><td>28.6%</td></tr>\n",
              "\t<tr><td>4</td><td>4</td><td> 5</td><td>0.71428571</td><td>71.4%</td></tr>\n",
              "\t<tr><td>5</td><td>3</td><td> 2</td><td>0.14285714</td><td>14.3%</td></tr>\n",
              "\t<tr><td>5</td><td>4</td><td> 3</td><td>0.21428571</td><td>21.4%</td></tr>\n",
              "\t<tr><td>5</td><td>5</td><td> 9</td><td>0.64285714</td><td>64.3%</td></tr>\n",
              "</tbody>\n",
              "</table>\n"
            ],
            "text/markdown": "\nA grouped_df: 12 × 5\n\n| Pred &lt;fct&gt; | Danger &lt;fct&gt; | n &lt;int&gt; | prop &lt;dbl&gt; | etiqueta &lt;chr&gt; |\n|---|---|---|---|---|\n| 1 | 1 | 14 | 1.00000000 | 100%  |\n| 2 | 1 |  4 | 0.26666667 | 26.7% |\n| 2 | 2 | 11 | 0.73333333 | 73.3% |\n| 3 | 1 |  1 | 0.08333333 | 8.3%  |\n| 3 | 2 |  3 | 0.25000000 | 25%   |\n| 3 | 3 |  6 | 0.50000000 | 50%   |\n| 3 | 4 |  2 | 0.16666667 | 16.7% |\n| 4 | 3 |  2 | 0.28571429 | 28.6% |\n| 4 | 4 |  5 | 0.71428571 | 71.4% |\n| 5 | 3 |  2 | 0.14285714 | 14.3% |\n| 5 | 4 |  3 | 0.21428571 | 21.4% |\n| 5 | 5 |  9 | 0.64285714 | 64.3% |\n\n",
            "text/latex": "A grouped\\_df: 12 × 5\n\\begin{tabular}{lllll}\n Pred & Danger & n & prop & etiqueta\\\\\n <fct> & <fct> & <int> & <dbl> & <chr>\\\\\n\\hline\n\t 1 & 1 & 14 & 1.00000000 & 100\\% \\\\\n\t 2 & 1 &  4 & 0.26666667 & 26.7\\%\\\\\n\t 2 & 2 & 11 & 0.73333333 & 73.3\\%\\\\\n\t 3 & 1 &  1 & 0.08333333 & 8.3\\% \\\\\n\t 3 & 2 &  3 & 0.25000000 & 25\\%  \\\\\n\t 3 & 3 &  6 & 0.50000000 & 50\\%  \\\\\n\t 3 & 4 &  2 & 0.16666667 & 16.7\\%\\\\\n\t 4 & 3 &  2 & 0.28571429 & 28.6\\%\\\\\n\t 4 & 4 &  5 & 0.71428571 & 71.4\\%\\\\\n\t 5 & 3 &  2 & 0.14285714 & 14.3\\%\\\\\n\t 5 & 4 &  3 & 0.21428571 & 21.4\\%\\\\\n\t 5 & 5 &  9 & 0.64285714 & 64.3\\%\\\\\n\\end{tabular}\n",
            "text/plain": [
              "   Pred Danger n  prop       etiqueta\n",
              "1  1    1      14 1.00000000 100%    \n",
              "2  2    1       4 0.26666667 26.7%   \n",
              "3  2    2      11 0.73333333 73.3%   \n",
              "4  3    1       1 0.08333333 8.3%    \n",
              "5  3    2       3 0.25000000 25%     \n",
              "6  3    3       6 0.50000000 50%     \n",
              "7  3    4       2 0.16666667 16.7%   \n",
              "8  4    3       2 0.28571429 28.6%   \n",
              "9  4    4       5 0.71428571 71.4%   \n",
              "10 5    3       2 0.14285714 14.3%   \n",
              "11 5    4       3 0.21428571 21.4%   \n",
              "12 5    5       9 0.64285714 64.3%   "
            ]
          },
          "metadata": {}
        },
        {
          "output_type": "error",
          "ename": "ERROR",
          "evalue": "Error in position_fill(vjust = 0.5, size = 3): unused argument (size = 3)\n",
          "traceback": [
            "Error in position_fill(vjust = 0.5, size = 3): unused argument (size = 3)\nTraceback:\n",
            "1. layer(data = data, mapping = mapping, stat = stat, geom = GeomText, \n .     position = position, show.legend = show.legend, inherit.aes = inherit.aes, \n .     params = list2(parse = parse, check_overlap = check_overlap, \n .         size.unit = size.unit, na.rm = na.rm, ...))",
            "2. .handleSimpleError(function (cnd) \n . {\n .     watcher$capture_plot_and_output()\n .     cnd <- sanitize_call(cnd)\n .     watcher$push(cnd)\n .     switch(on_error, continue = invokeRestart(\"eval_continue\"), \n .         stop = invokeRestart(\"eval_stop\"), error = NULL)\n . }, \"unused argument (size = 3)\", base::quote(position_fill(vjust = 0.5, \n .     size = 3)))"
          ]
        }
      ]
    },
    {
      "cell_type": "code",
      "source": [
        "# Análisis de asociación o relación entre dos variables categóricas\n",
        "chisq.test(table(sleep_limpio$Pred,sleep_limpio$Danger))\n",
        "\n",
        "chisq.test(table(sleep_limpio$Pred, sleep_limpio$Exp))\n",
        "\n",
        "chisq.test(table(sleep_limpio~Exp, sleep_limpio4Danger))\n",
        "\n"
      ],
      "metadata": {
        "id": "lj4gvhVpWrzx",
        "outputId": "8ac87d37-1c22-419e-e1fe-89ccd7a11c2d",
        "colab": {
          "base_uri": "https://localhost:8080/",
          "height": 530
        }
      },
      "id": "lj4gvhVpWrzx",
      "execution_count": 112,
      "outputs": [
        {
          "output_type": "stream",
          "name": "stderr",
          "text": [
            "Warning message in stats::chisq.test(x, y, ...):\n",
            "“Chi-squared approximation may be incorrect”\n"
          ]
        },
        {
          "output_type": "display_data",
          "data": {
            "text/plain": [
              "\n",
              "\tPearson's Chi-squared test\n",
              "\n",
              "data:  table(sleep_limpio$Pred, sleep_limpio$Danger)\n",
              "X-squared = 118.45, df = 16, p-value < 2.2e-16\n"
            ]
          },
          "metadata": {}
        },
        {
          "output_type": "stream",
          "name": "stderr",
          "text": [
            "Warning message in stats::chisq.test(x, y, ...):\n",
            "“Chi-squared approximation may be incorrect”\n"
          ]
        },
        {
          "output_type": "display_data",
          "data": {
            "text/plain": [
              "\n",
              "\tPearson's Chi-squared test\n",
              "\n",
              "data:  table(sleep_limpio$Pred, sleep_limpio$Exp)\n",
              "X-squared = 47.678, df = 16, p-value = 5.335e-05\n"
            ]
          },
          "metadata": {}
        },
        {
          "output_type": "error",
          "ename": "ERROR",
          "evalue": "Error: object 'sleep_limpio4Danger' not found\n",
          "traceback": [
            "Error: object 'sleep_limpio4Danger' not found\nTraceback:\n",
            "1. table(sleep_limpio ~ Exp, sleep_limpio4Danger)",
            "2. .handleSimpleError(function (cnd) \n . {\n .     watcher$capture_plot_and_output()\n .     cnd <- sanitize_call(cnd)\n .     watcher$push(cnd)\n .     switch(on_error, continue = invokeRestart(\"eval_continue\"), \n .         stop = invokeRestart(\"eval_stop\"), error = NULL)\n . }, \"object 'sleep_limpio4Danger' not found\", base::quote(eval(expr, \n .     envir)))"
          ]
        }
      ]
    },
    {
      "cell_type": "markdown",
      "source": [
        "* Si el valor-p es bajo (generalmente < 0.05):\n",
        "\n",
        "Hay evidencia para rechazar la hipótesis nula, por lo que las variables sí están asociadas.\n",
        "\n",
        "* Si el valor-p es alto:\n",
        "\n",
        "No rechazamos la hipótesis nula, por lo que no hay suficiente evidencia para concluir que hay una relación, por lo que las variables parecen independientes.\n",
        "\n",
        "\n",
        "\n",
        "El test de Chi-cuadrado asume que:\n",
        "\n",
        "Al menos el 80% de las celdas deben tener frecuencias esperadas ≥ 5.\n",
        "\n",
        "Ninguna celda debería tener una frecuencia esperada menor que 1.\n",
        "\n",
        "Si esto no se cumple, la aproximación al valor-p usando la distribución Chi² puede no ser confiable, y por eso R nos advierte.\n",
        "\n"
      ],
      "metadata": {
        "id": "d50LNTGN916p"
      },
      "id": "d50LNTGN916p"
    },
    {
      "cell_type": "markdown",
      "source": [
        "## Distribuciones de probabilidad\n",
        "\n",
        "\n",
        "¿Qué es una distribución de probabilidad?\n",
        "\n",
        "Una distribución de probabilidad describe cómo se distribuyen los valores posibles de una variable aleatoria. Es un modelo matemático que asigna una probabilidad a cada valor (discreto) o rango de valores (continuo).\n",
        "\n",
        "Para variables discretas, usamos funciones de masa de probabilidad (como binomial o Poisson).\n",
        "Para variables continuas, usamos funciones de densidad (como la normal o exponencial).\n",
        "\n",
        "\n",
        "\n",
        "\n"
      ],
      "metadata": {
        "id": "PurkXu7Fn8ap"
      },
      "id": "PurkXu7Fn8ap"
    },
    {
      "cell_type": "markdown",
      "source": [
        "### Distribución normal:\n",
        "\n",
        "Es una de las más comunes y útiles en estadística:\n",
        "\n",
        "Tiene forma de campana simétrica.\n",
        "\n",
        "Se define por dos parámetros:\n",
        "\n",
        "* Media (μ)\n",
        "* Desviación estándar (σ)\n",
        "\n",
        "**Ejemplo:**\n",
        "\n",
        "Comparar la distribución empírica de una variable cuantitativa con la teórica normal, usando ggplot2.\n",
        "\n",
        "Usaremos la variable log_BodyWgt (peso logarítmico), ya que anteriormente mostramos que la transformación mejora la simetría y reduce outliers."
      ],
      "metadata": {
        "id": "zlFaEC_Zpc3M"
      },
      "id": "zlFaEC_Zpc3M"
    },
    {
      "cell_type": "code",
      "source": [
        "# Crear gráfico con histograma y curva de densidad normal teórica\n",
        "\n",
        "\n",
        "\n",
        "  # Histograma con densidad (no frecuencia)\n",
        "ggplot(sleep_limpio_BodyWgt,aes(x = log_BodyWgt))+\n",
        "\n",
        "  geom_histogram(\n",
        "  aes(y=..density..),bin=30, fill=\"skyblue\", color = \"black\")+\n",
        "\n",
        "  stat_function(\n",
        "  fun = dnorm,\n",
        "  args=list(\n",
        "    mean = mean(sleep_limpio_BodyWgt$log_BodyWgt, na.rm=T),\n",
        "    sd = sd(sleep_limpio_BodyWgt$log_BodyWgt, na.rm =T),\n",
        "  color=\"red\", size =1\n",
        "  )+\n",
        "\n",
        "  labs(title= \"Distribución del logaritmo del peso corporal del mamífero\", x = \"Logaritmo del peso\", y = \"densidad\")+\n",
        "  theme_minimal\n",
        "\n",
        "\n",
        "\n",
        "  # Curva de densidad normal teórica ajustada a los datos\n",
        "\n",
        "\n",
        "\n",
        "\n",
        "\n",
        "  # Etiquetas y estilo\n",
        "\n",
        "\n",
        "\n",
        "\n"
      ],
      "metadata": {
        "id": "isKnWMVUo0zI",
        "outputId": "78d4ff2c-cdab-4775-f2b1-efe8d8fa2d55",
        "colab": {
          "base_uri": "https://localhost:8080/",
          "height": 128
        }
      },
      "id": "isKnWMVUo0zI",
      "execution_count": 121,
      "outputs": [
        {
          "output_type": "error",
          "ename": "ERROR",
          "evalue": "Error in parse(text = input): <text>:36:0: unexpected end of input\n34: \n35: \n   ^\n",
          "traceback": [
            "Error in parse(text = input): <text>:36:0: unexpected end of input\n34: \n35: \n   ^\nTraceback:\n"
          ]
        }
      ]
    },
    {
      "cell_type": "markdown",
      "source": [
        "--------------\n",
        "| Función   | ¿Qué hace?                       | Ejemplo práctico                |\n",
        "| --------- | -------------------------------- | ------------------------------- |\n",
        "| `rnorm()` | Genera datos aleatorios          | Simulación de muestras          |\n",
        "| `dnorm()` | Densidad (altura de la curva)    | Dibujar curva normal            |\n",
        "| `pnorm()` | Probabilidad acumulada           | Calcular $P(X < x)$             |\n",
        "| `qnorm()` | Cuantil inverso (valor de corte) | Buscar z tal que $P(X < z) = p$ |\n",
        "\n",
        "-------------"
      ],
      "metadata": {
        "id": "PH47zSRTAmf0"
      },
      "id": "PH47zSRTAmf0"
    },
    {
      "cell_type": "markdown",
      "source": [
        "**Ejercicio**:\n",
        "\n",
        "Se sabe que el tiempo promedio que duerme un mamífero adulto es de 10 horas al día, con una desviación estándar de 2 horas.\n",
        "Se asume que los tiempos de sueño siguen una distribución normal.\n",
        "\n",
        "\n",
        "Grafica la distribución normal con μ=10 y σ=2.\n",
        "\n",
        "Calcula las siguientes probabilidades:\n",
        "* Que un mamífero duerma más de 12 horas al día.\n",
        "* Que un mamífero duerma entre 8 y 12 horas.\n",
        "* Que un mamífero duerma menos de 6 horas.\n",
        "\n",
        "Visualiza las áreas bajo la curva correspondientes a cada probabilidad.\n",
        "\n",
        "Interpreta los resultados."
      ],
      "metadata": {
        "id": "lndCe_ndytE7"
      },
      "id": "lndCe_ndytE7"
    },
    {
      "cell_type": "code",
      "source": [
        "# Parámetros de la distribución\n",
        "mu <- 10      # media\n",
        "sigma <- 2    # desviación estándar\n",
        "\n",
        "# Secuencia de valores x para graficar la curva\n",
        "x_vals <- seq(0, 20, by = 0.1)\n",
        "\n",
        "# Crear curva de densidad\n",
        "ggplot(data.frame(x=x_vals),aes(x))+\n",
        "  stat_function(fun=dnorm,args=list(mean = mu, se = sigma)+\n",
        "  labs_title =\"Distribución normal ()\", x= \"Horas de sueño\", y= \"Densidad\")+\n",
        "  theme_minimal()\n",
        "\n",
        "\n",
        "\n",
        "# Cálculo de las probabilidades:\n",
        "# a) P(X > 12)\n",
        "\n",
        "\n",
        "\n",
        "\n",
        "# b) P(8 < X < 12)\n",
        "\n",
        "\n",
        "\n",
        "\n",
        "# c) P(X < 6)\n",
        "\n",
        "\n",
        "\n",
        "\n",
        "# Resultados\n",
        "\n",
        "\n"
      ],
      "metadata": {
        "id": "nWc5K5Zq0KtN",
        "outputId": "fa84e04b-c5d0-4a3d-a949-0bd666d97942",
        "colab": {
          "base_uri": "https://localhost:8080/",
          "height": 128
        }
      },
      "id": "nWc5K5Zq0KtN",
      "execution_count": 123,
      "outputs": [
        {
          "output_type": "error",
          "ename": "ERROR",
          "evalue": "Error in parse(text = input): <text>:11:14: unexpected '='\n10:   stat_function(fun=dnorm,args=list(mean = mu, se = sigma)+\n11:   labs_title =\n                 ^\n",
          "traceback": [
            "Error in parse(text = input): <text>:11:14: unexpected '='\n10:   stat_function(fun=dnorm,args=list(mean = mu, se = sigma)+\n11:   labs_title =\n                 ^\nTraceback:\n"
          ]
        }
      ]
    },
    {
      "cell_type": "markdown",
      "source": [
        "### Distribución Binomial\n",
        "\n",
        "Modela el número de éxitos en un número fijo de ensayos independientes con dos posibles resultados: éxito o fracaso.\n",
        "\n",
        "**Ejemplo típico:**\n",
        "\n",
        "Lanzar una moneda 10 veces.\n",
        "Probabilidad de obtener 6 caras.\n",
        "\n",
        "Parámetros de esta distribución:\n",
        "* n = número de ensayos\n",
        "* p = probabilidad de éxito"
      ],
      "metadata": {
        "id": "mdHBLQh5qu-h"
      },
      "id": "mdHBLQh5qu-h"
    },
    {
      "cell_type": "code",
      "source": [
        "# Distribución binomial: 20 ensayos, probabilidad de éxito 0.3\n",
        "binom_df<- data.frame(\n",
        "  x=0:20,\n",
        "  prob = dbinom(0:20,size=20,prob = 0.3)\n",
        ")\n",
        "# Gráfico de barras de la distribución\n",
        "ggplot(binom_df,aes(x=factor(x), y= prob))+\n",
        "  geom_bar(stat =\"identity\", fill=\"skyblue\")+\n",
        "  labs(\n",
        "  title= \"Distribución binomial (n=20, p=0.)\",\n",
        "  x=\"Número de extitos\", Y=\"Probabilidad\"\n",
        "  )+\n",
        "    theme_minimal()\n",
        "\n",
        "\n",
        "\n",
        "\n"
      ],
      "metadata": {
        "id": "bftgJROtq833",
        "outputId": "6fc01ed9-cb22-491b-e7f2-f8ed7cc4b2ff",
        "colab": {
          "base_uri": "https://localhost:8080/",
          "height": 437
        }
      },
      "id": "bftgJROtq833",
      "execution_count": 126,
      "outputs": [
        {
          "output_type": "display_data",
          "data": {
            "text/plain": [
              "plot without title"
            ],
            "image/png": "[encoded data removed]"
          },
          "metadata": {
            "image/png": {
              "width": 420,
              "height": 420
            }
          }
        }
      ]
    },
    {
      "cell_type": "markdown",
      "source": [
        "-------------------\n",
        "| Función                 | Qué hace                                              | Ejemplo                              |\n",
        "| ----------------------- | ----------------------------------------------------- | ------------------------------------ |\n",
        "| `rbinom(n, size, prob)` | Simula datos binomiales (n muestras de tamaño `size`) | `rbinom(10, size = 20, prob = 0.5)`  |\n",
        "| `dbinom(x, size, prob)` | Probabilidad exacta $P(X = x)$                        | `dbinom(5, size = 10, prob = 0.5)`   |\n",
        "| `pbinom(q, size, prob)` | Probabilidad acumulada $P(X \\leq q)$                  | `pbinom(6, 10, 0.5)` → $P(X \\leq 6)$ |\n",
        "| `qbinom(p, size, prob)` | Cuantil: valor $x$ tal que $P(X \\leq x) = p$          | `qbinom(0.95, 10, 0.5)`              |\n",
        "\n",
        "-------------\n"
      ],
      "metadata": {
        "id": "fOq775H6A--z"
      },
      "id": "fOq775H6A--z"
    },
    {
      "cell_type": "markdown",
      "source": [
        "**Ejercicio**\n",
        "\n",
        "Un grupo de biólogos está evaluando la peligrosidad de ciertas especies animales. De acuerdo con registros previos, aproximadamente el 40% de los animales evaluados son considerados peligrosos. Se eligen 20 animales al azar.\n",
        "\n",
        "Queremos modelar este proceso como un experimento binomial con: n=20 ensayos (animales seleccionados)\n",
        "y p=0.40 la probabilidad de éxito (que un animal sea peligroso)\n",
        "\n",
        "Para ello, simula la distribución binomial correspondiente al número de animales peligrosos esperados en una muestra de 20.\n",
        "\n",
        "Visualiza la distribución usando un gráfico de barras.\n",
        "\n",
        "Calcula la probabilidad de que:\n",
        "* Exactamente 8 animales sean peligrosos.\n",
        "* Menos de 5 animales sean peligrosos.\n",
        "* Al menos 10 animales sean peligrosos.\n",
        "Interpreta los resultados."
      ],
      "metadata": {
        "id": "xXZ85dh1xkLz"
      },
      "id": "xXZ85dh1xkLz"
    },
    {
      "cell_type": "code",
      "source": [
        "# Parámetros\n",
        "n <- 20      # número de ensayos\n",
        "p <- 0.40    # probabilidad de éxito\n",
        "\n",
        "# Crear distribución binomial\n",
        "binom_df <- data.frame(\n",
        "  x = 0:n,\n",
        "  prob = dbinom(0:n, size = n, prob = p)\n",
        ")\n",
        "\n",
        "# Visualización\n",
        "\n",
        "\n",
        "\n",
        "\n",
        "\n",
        "# Cálculos de probabilidades específicas\n",
        "\n",
        "\n",
        "\n",
        "\n",
        "\n",
        "# Mostrar resultados\n",
        "\n",
        "\n",
        "\n",
        "\n"
      ],
      "metadata": {
        "id": "g7J4ZE2Mx7b6"
      },
      "id": "g7J4ZE2Mx7b6",
      "execution_count": null,
      "outputs": []
    },
    {
      "cell_type": "markdown",
      "source": [
        "### Distribución de Poisson\n",
        "\n",
        "Modela el número de eventos que ocurren en un intervalo de tiempo o espacio cuando son raros y aleatorios.\n",
        "\n",
        "**Ejemplo típico:**\n",
        "\n",
        "* Número de llamadas por minuto a un centro de atención.\n",
        "* Número de accidentes en una carretera por día.\n",
        "\n",
        "Parámetro:\n",
        "\n",
        "* λ = número medio de eventos en el intervalo.\n",
        "* Si, X∼Poisson(λ), entonces la esperanza y varianza son iguales a λ."
      ],
      "metadata": {
        "id": "420BnyrxrLa7"
      },
      "id": "420BnyrxrLa7"
    },
    {
      "cell_type": "code",
      "source": [
        "# Distribución de Poisson con media 5\n",
        "\n",
        "\n",
        "\n",
        "\n",
        "\n"
      ],
      "metadata": {
        "id": "_BZ1TBRQri2g"
      },
      "id": "_BZ1TBRQri2g",
      "execution_count": null,
      "outputs": []
    },
    {
      "cell_type": "markdown",
      "source": [
        "--------------------\n",
        "\n",
        "| Función            | Qué hace                                               | Ejemplo                  |\n",
        "| ------------------ | ------------------------------------------------------ | ------------------------ |\n",
        "| `rpois(n, lambda)` | Simula conteos con media $\\lambda$                     | `rpois(10, lambda = 4)`  |\n",
        "| `dpois(x, lambda)` | Probabilidad exacta $P(X = x)$                         | `dpois(2, lambda = 3)`   |\n",
        "| `ppois(q, lambda)` | Probabilidad acumulada $P(X \\leq q)$                   | `ppois(4, lambda = 2.5)` |\n",
        "| `qpois(p, lambda)` | Cuantil: valor mínimo $x$ tal que $P(X \\leq x) \\geq p$ | `qpois(0.9, lambda = 3)` |\n",
        "\n",
        "\n",
        "--------------------\n"
      ],
      "metadata": {
        "id": "rWKM-zkoBKmv"
      },
      "id": "rWKM-zkoBKmv"
    },
    {
      "cell_type": "markdown",
      "source": [
        "**Ejercicio**:\n",
        "\n",
        "Un investigador estudia el número de despertares breves que tienen ciertos animales durante el sueño. Se ha observado que, en promedio, ocurren 3 despertares por noche.\n",
        "\n",
        "Queremos modelar este proceso como una distribución de Poisson, con: λ=3 número medio de eventos por unidad de tiempo (noche)\n",
        "\n",
        "\n",
        "Crea la distribución de Poisson con λ=3 para los valores posibles de 0 a 10 despertares.\n",
        "\n",
        "Visualiza la distribución mediante un gráfico de barras.\n",
        "\n",
        "Calcula las siguientes probabilidades:\n",
        "\n",
        "* Que haya exactamente 2 despertares.\n",
        "* Que haya 4 o más despertares.\n",
        "* Que haya entre 1 y 3 despertares (inclusive).\n",
        "\n",
        "Interpreta los resultados."
      ],
      "metadata": {
        "id": "sGD0HXoK0iLU"
      },
      "id": "sGD0HXoK0iLU"
    },
    {
      "cell_type": "code",
      "source": [
        "# Parámetro de la distribución\n",
        "lambda <- 3\n",
        "\n",
        "# Valores posibles de X (número de despertares)\n",
        "x_vals <- 0:10\n",
        "\n",
        "# Crear tabla de probabilidades\n",
        "poisson_df <- data.frame(\n",
        "  x = x_vals,\n",
        "  prob = dpois(x_vals, lambda = lambda)\n",
        ")\n",
        "\n",
        "\n",
        "\n",
        "# Cálculo de las probabilidades:\n",
        "\n",
        "# a) P(X = 2)\n",
        "\n",
        "\n",
        "\n",
        "\n",
        "\n",
        "# b) P(X ≥ 4)\n",
        "\n",
        "\n",
        "\n",
        "\n",
        "\n",
        "# c) P(1 ≤ X ≤ 3)\n",
        "\n",
        "\n",
        "\n",
        "\n",
        "\n",
        "# Mostrar resultados\n",
        "\n",
        "\n",
        "\n",
        "\n"
      ],
      "metadata": {
        "id": "wrcYNJ7u02Ec"
      },
      "id": "wrcYNJ7u02Ec",
      "execution_count": null,
      "outputs": []
    },
    {
      "cell_type": "markdown",
      "source": [
        "### Distribución exponencial:\n",
        "\n",
        "La distribución exponencial es usada para modelar el tiempo entre eventos en un proceso que ocurre de manera aleatoria y continua a una tasa constante.\n",
        "\n",
        "Tiene un solo parámetro: λ (lambda) = tasa de ocurrencia de eventos por unidad de tiempo\n",
        "\n",
        "- **Media**: 1/λ\n",
        "\n",
        "- **Varianza**: 1/λ^2\n"
      ],
      "metadata": {
        "id": "rOKqyGHEtkLK"
      },
      "id": "rOKqyGHEtkLK"
    },
    {
      "cell_type": "code",
      "source": [
        "set.seed(123)  # reproducibilidad\n",
        "\n",
        "# Simular 200 tiempos entre eventos con tasa lambda = 0.5\n",
        "# (es decir, en promedio un evento cada 2 unidades de tiempo)\n",
        "exp_data <- rexp(n = 200, rate = 0.5)\n",
        "\n",
        "# Crear dataframe\n",
        "exp_df <- data.frame(tiempo = exp_data)\n",
        "\n",
        "\n",
        "#Crea el histograma para el tiempo\n",
        "\n",
        "\n",
        "\n"
      ],
      "metadata": {
        "id": "ACel9x89t5RB"
      },
      "id": "ACel9x89t5RB",
      "execution_count": null,
      "outputs": []
    },
    {
      "cell_type": "markdown",
      "source": [
        "--------------------\n",
        "| Función         | Qué hace                                     | Ejemplo                 |\n",
        "| --------------- | -------------------------------------------- | ----------------------- |\n",
        "| `rexp(n, rate)` | Simula datos de tiempos de espera            | `rexp(10, rate = 0.2)`  |\n",
        "| `dexp(x, rate)` | Densidad: valor de $f(x)$                    | `dexp(3, rate = 0.5)`   |\n",
        "| `pexp(q, rate)` | Probabilidad acumulada $P(X \\leq q)$         | `pexp(4, rate = 0.2)`   |\n",
        "| `qexp(p, rate)` | Cuantil: valor $x$ tal que $P(X \\leq x) = p$ | `qexp(0.9, rate = 0.2)` |\n",
        "\n",
        "--------------------"
      ],
      "metadata": {
        "id": "nLxFkWWjBj1V"
      },
      "id": "nLxFkWWjBj1V"
    },
    {
      "cell_type": "markdown",
      "source": [
        "Ejercicio:\n",
        "\n",
        "Simula una variable que represente los tiempos entre visitas a una estación de observación de animales. Supón que los eventos ocurren a una tasa constante de 0.25 visitas por hora.\n",
        "\n",
        "Simula 300 observaciones usando una distribución exponencial con rate = 0.25.\n",
        "\n",
        "Grafica el histograma junto con la curva teórica de densidad.\n",
        "\n",
        "Calcula la media y la varianza observadas.\n",
        "\n",
        "Compara tus resultados con los valores teóricos.\n",
        "\n",
        "Ajusta un nuevo valor de lambda y repite los pasos anteriores. ¿Cómo cambia la distribución?"
      ],
      "metadata": {
        "id": "bimKEtRUvKWa"
      },
      "id": "bimKEtRUvKWa"
    },
    {
      "cell_type": "code",
      "source": [
        "# Paso 1: Simular\n",
        "set.seed(456)\n",
        "tiempos <- rexp(n = 300, rate = 0.25)\n",
        "df_tiempos <- data.frame(tiempo = tiempos)\n",
        "\n",
        "# Paso 2: Visualizar\n",
        "\n",
        "\n",
        "\n",
        "# Paso 3: Estadísticos\n",
        "\n",
        "\n",
        "\n"
      ],
      "metadata": {
        "id": "hDJSzl4OvViu"
      },
      "id": "hDJSzl4OvViu",
      "execution_count": null,
      "outputs": []
    },
    {
      "cell_type": "code",
      "source": [
        "# valor distinto de la tasa:\n",
        "\n",
        "# Paso 1: Simular\n",
        "set.seed(456)\n",
        "tiempos <- rexp(n = 300, rate = 0.75)\n",
        "df_tiempos <- data.frame(tiempo = tiempos)\n",
        "\n",
        "# Paso 2: Visualizar\n",
        "\n",
        "\n",
        "\n",
        "\n",
        "# Paso 3: Estadísticos\n",
        "\n",
        "\n",
        "\n"
      ],
      "metadata": {
        "id": "YnulPdoxAGzY"
      },
      "id": "YnulPdoxAGzY",
      "execution_count": null,
      "outputs": []
    },
    {
      "cell_type": "code",
      "source": [
        "# ================================\n",
        "# EJERCICIOS CON EL CONJUNTO DE DATOS DE DIABETES\n",
        "# ================================\n",
        "\n",
        "# Cargar librerías necesarias\n",
        "# (Ya deberían estar instaladas si vienes de la sección anterior)\n",
        "library(VIM)\n",
        "library(dplyr)\n",
        "library(ggplot2)\n",
        "library(tidyr)\n",
        "library(tibble)\n",
        "library(mlbench)\n",
        "library(forcats)\n",
        "library(janitor)\n",
        "\n",
        "# ===================================\n",
        "# EJERCICIO 1: Cargar y explorar el dataset\n",
        "# ===================================\n",
        "# Carga el dataset `PimaIndiansDiabetes` y explóralo con `glimpse()`\n",
        "\n",
        "# Código base:\n",
        "data(PimaIndiansDiabetes)\n",
        "df <- as.data.frame(PimaIndiansDiabetes)\n",
        "\n",
        "# TU CÓDIGO:\n",
        " glimpse( PimaIndiansDiabetes )\n",
        "\n",
        "\n",
        "# ===================================\n",
        "# EJERCICIO 2: Limpieza de datos\n",
        "# ===================================\n",
        "# Reemplaza los valores 0 por NA en las variables: glucose, pressure y mass\n",
        "\n",
        "# TU CÓDIGO:\n",
        "df <- df %>%\n",
        "mutate(\n",
        "     glucose = ifelse(glucose==0,NA,glucose),\n",
        "    pressure = ifelse(pressure==0,NA,pressure),\n",
        "    mass = ifelse(mass==0,NA,mass)\n",
        "   )\n",
        "\n",
        "# ===================================\n",
        "# EJERCICIO 3: Imputación de datos con ridge\n",
        "# ===================================\n",
        "# Imputa los valores faltantes de las variables numéricas usando ridge regression\n",
        "# Usa la función `empire::estimate_ridge`\n",
        "\n",
        "# Selección previa:\n",
        " df_numerico <- df %>% select_if(is.numeric)\n",
        "\n",
        "# TU CÓDIGO:\n",
        "df_imputado <- empire::estimate_ridge(data = df_numerico, diff = 10, ridge_alpha = 0)$new_dat\n",
        "\n",
        "\n",
        "# ===================================\n",
        "# EJERCICIO 4: Filtrado de mujeres embarazadas\n",
        "# ===================================\n",
        "# Filtra el dataset para quedarte solo con mujeres con al menos 1 embarazo\n",
        "\n",
        "# TU CÓDIGO:\n",
        "df_embarazadas <- df %>%\n",
        "  filter(pregnant>=1)\n",
        "\n",
        "\n",
        "# ===================================\n",
        "# EJERCICIO 5: Crear variable estandarizada de BMI\n",
        "# ===================================\n",
        "# Crea una nueva variable `mass_z` que estandarice la variable `mass` (z-score)\n",
        "\n",
        "# TU CÓDIGO:\n",
        " df_embarazadas <- df_embarazadas %>%\n",
        "   mutate(mass_z = (mass - mean(mass, na.rm = TRUE)) / sd(mass, na.rm = TRUE))\n",
        "\n",
        "\n",
        "# ===================================\n",
        "# EJERCICIO 6: Estadística descriptiva de glucosa\n",
        "# ===================================\n",
        "# Calcula la media, mediana, desviación típica, mínimo y máximo de `glucose`\n",
        "\n",
        "# TU CÓDIGO:\n",
        " df_embarazadas %>%\n",
        "   summarise(\n",
        "    media =mean(glucose),\n",
        "    mediana = median(glucose),\n",
        "     sd = sd(glucose),\n",
        "     min = min(glucose),\n",
        "     max =max(glucose)\n",
        "   )%>%\n",
        "pivot_longer(\n",
        "    cols = everything(),\n",
        "    names_to = \"Estadístico\",\n",
        "    values_to = \"Valor\"\n",
        "  )\n",
        "# ===================================\n",
        "# EJERCICIO 7: Histograma con curva normal\n",
        "# ===================================\n",
        "# Dibuja el histograma de glucosa con densidad y superpone la curva normal teórica\n",
        "\n",
        "# TU CÓDIGO:\n",
        " ggplot(df_embarazadas, aes(x = glucose)) +\n",
        "  geom_histogram(aes(y = ..density..), binwidth = 10, fill = \"skyblue\", color = \"black\") +\n",
        "  stat_function(\n",
        "    fun = dnorm,\n",
        "    args = list(\n",
        "      mean = mean(df_embarazadas$glucose, na.rm = TRUE),\n",
        "      sd = sd(df_embarazadas$glucose, na.rm = TRUE)\n",
        "    ),\n",
        "    color = \"red\",\n",
        "    size = 1\n",
        "  ) +\n",
        "  labs(\n",
        "    title = \"Distribución de la Glucosa en Mujeres Embarazadas\",\n",
        "    x = \"Glucosa\",\n",
        "    y = \"Densidad\"\n",
        "  ) +\n",
        "  theme_minimal()\n",
        "\n",
        "# ===================================\n",
        "# EJERCICIO 8: Correlación entre glucosa y masa\n",
        "# ===================================\n",
        "# Calcula la correlación entre `glucose` y `mass`, ignorando los NA\n",
        "\n",
        "# TU CÓDIGO:\n",
        "cor(df_embarazadas$glucose, df_embarazadas$mass, use = \"pairwise.complete.obs\")\n",
        "\n",
        "# ===================================\n",
        "# EJERCICIO 9: Crear grupos de edad\n",
        "# ===================================\n",
        "# Crea una variable `grupo_edad` con cortes: [20,30), [30,40), [40,50), [50,60)\n",
        "\n",
        "# TU CÓDIGO:\n",
        "df_embarazadas <- df_embarazadas %>%\n",
        "   mutate(grupo_edad = cut(age,\n",
        "          breaks = c(20,30,40,50,60),\n",
        "          right = FALSE,\n",
        "          include.lowest = TRUE,\n",
        "          labels = c(\"[20,30)\",\"[30,40)\", \"[40,50)\",\"[50,60)\")\n",
        "))\n",
        "\n",
        "# Opcional: Visualizar las primeras\n",
        "head(df_embarazadas)\n",
        "\n",
        "# ===================================\n",
        "# EJERCICIO 10: Tabla cruzada\n",
        "# ===================================\n",
        "# Crea una tabla cruzada entre `diabetes` y `grupo_edad`\n",
        "\n",
        "# TU CÓDIGO:\n",
        "df_embarazadas %>%\n",
        "  tabyl(diabetes, grupo_edad) %>%\n",
        "  adorn_totals(\"row\") %>%\n",
        "  adorn_percentages(\"row\") %>%\n",
        "  adorn_pct_formatting() %>%\n",
        "  adorn_ns() %>%\n",
        "  adorn_title(\"combined\")\n",
        "\n",
        "# ===================================\n",
        "# EJERCICIO 11: Unión con tabla externa\n",
        "# ===================================\n",
        "# Usa la tabla `recomendaciones` para añadir una columna con la recomendación\n",
        "# de salud según grupo de edad y diabetes. Usa `left_join`.\n",
        "\n",
        "recomendaciones <- tibble(\n",
        "  grupo_edad = c(\"[20,30)\", \"[30,40)\", \"[40,50)\", \"[50,60)\", \"[60,90)\"),\n",
        "  diabetes = c(\"pos\", \"neg\", \"pos\", \"neg\", \"pos\"),\n",
        "  recomendacion = c(\n",
        "    \"Revisión semestral\",\n",
        "    \"Promover actividad física\",\n",
        "    \"Controles nutricionales\",\n",
        "    \"Revisión anual\",\n",
        "    \"Seguimiento médico mensual\"\n",
        "  )\n",
        ")\n",
        "\n",
        "# TU CÓDIGO:\n",
        " #df_embarazadas <- df_embarazadas %>%\n",
        " #left_join(recomendacion, by = c(\"GrupoEdad\", \"Diabetes\"))\n",
        "\n",
        "\n",
        "# Visualizar resultado:\n",
        " View(df_embarazadas)\n",
        "\n"
      ],
      "metadata": {
        "id": "47JYccbtF21L",
        "outputId": "cfc9ceb8-96ac-4d4f-c762-7ae92f2838c1",
        "colab": {
          "base_uri": "https://localhost:8080/",
          "height": 1000
        }
      },
      "id": "47JYccbtF21L",
      "execution_count": 164,
      "outputs": [
        {
          "output_type": "stream",
          "name": "stdout",
          "text": [
            "Rows: 768\n",
            "Columns: 9\n",
            "$ pregnant \u001b[3m\u001b[90m<dbl>\u001b[39m\u001b[23m 6\u001b[90m, \u001b[39m1\u001b[90m, \u001b[39m8\u001b[90m, \u001b[39m1\u001b[90m, \u001b[39m0\u001b[90m, \u001b[39m5\u001b[90m, \u001b[39m3\u001b[90m, \u001b[39m10\u001b[90m, \u001b[39m2\u001b[90m, \u001b[39m8\u001b[90m, \u001b[39m4\u001b[90m, \u001b[39m10\u001b[90m, \u001b[39m10\u001b[90m, \u001b[39m1\u001b[90m, \u001b[39m5\u001b[90m, \u001b[39m7\u001b[90m, \u001b[39m0\u001b[90m, \u001b[39m7\u001b[90m, \u001b[39m1\u001b[90m, \u001b[39m1…\n",
            "$ glucose  \u001b[3m\u001b[90m<dbl>\u001b[39m\u001b[23m 148\u001b[90m, \u001b[39m85\u001b[90m, \u001b[39m183\u001b[90m, \u001b[39m89\u001b[90m, \u001b[39m137\u001b[90m, \u001b[39m116\u001b[90m, \u001b[39m78\u001b[90m, \u001b[39m115\u001b[90m, \u001b[39m197\u001b[90m, \u001b[39m125\u001b[90m, \u001b[39m110\u001b[90m, \u001b[39m168\u001b[90m, \u001b[39m139\u001b[90m,\u001b[39m…\n",
            "$ pressure \u001b[3m\u001b[90m<dbl>\u001b[39m\u001b[23m 72\u001b[90m, \u001b[39m66\u001b[90m, \u001b[39m64\u001b[90m, \u001b[39m66\u001b[90m, \u001b[39m40\u001b[90m, \u001b[39m74\u001b[90m, \u001b[39m50\u001b[90m, \u001b[39m0\u001b[90m, \u001b[39m70\u001b[90m, \u001b[39m96\u001b[90m, \u001b[39m92\u001b[90m, \u001b[39m74\u001b[90m, \u001b[39m80\u001b[90m, \u001b[39m60\u001b[90m, \u001b[39m72\u001b[90m, \u001b[39m0\u001b[90m,\u001b[39m…\n",
            "$ triceps  \u001b[3m\u001b[90m<dbl>\u001b[39m\u001b[23m 35\u001b[90m, \u001b[39m29\u001b[90m, \u001b[39m0\u001b[90m, \u001b[39m23\u001b[90m, \u001b[39m35\u001b[90m, \u001b[39m0\u001b[90m, \u001b[39m32\u001b[90m, \u001b[39m0\u001b[90m, \u001b[39m45\u001b[90m, \u001b[39m0\u001b[90m, \u001b[39m0\u001b[90m, \u001b[39m0\u001b[90m, \u001b[39m0\u001b[90m, \u001b[39m23\u001b[90m, \u001b[39m19\u001b[90m, \u001b[39m0\u001b[90m, \u001b[39m47\u001b[90m, \u001b[39m0…\n",
            "$ insulin  \u001b[3m\u001b[90m<dbl>\u001b[39m\u001b[23m 0\u001b[90m, \u001b[39m0\u001b[90m, \u001b[39m0\u001b[90m, \u001b[39m94\u001b[90m, \u001b[39m168\u001b[90m, \u001b[39m0\u001b[90m, \u001b[39m88\u001b[90m, \u001b[39m0\u001b[90m, \u001b[39m543\u001b[90m, \u001b[39m0\u001b[90m, \u001b[39m0\u001b[90m, \u001b[39m0\u001b[90m, \u001b[39m0\u001b[90m, \u001b[39m846\u001b[90m, \u001b[39m175\u001b[90m, \u001b[39m0\u001b[90m, \u001b[39m230…\n",
            "$ mass     \u001b[3m\u001b[90m<dbl>\u001b[39m\u001b[23m 33.6\u001b[90m, \u001b[39m26.6\u001b[90m, \u001b[39m23.3\u001b[90m, \u001b[39m28.1\u001b[90m, \u001b[39m43.1\u001b[90m, \u001b[39m25.6\u001b[90m, \u001b[39m31.0\u001b[90m, \u001b[39m35.3\u001b[90m, \u001b[39m30.5\u001b[90m, \u001b[39m0.0\u001b[90m, \u001b[39m37…\n",
            "$ pedigree \u001b[3m\u001b[90m<dbl>\u001b[39m\u001b[23m 0.627\u001b[90m, \u001b[39m0.351\u001b[90m, \u001b[39m0.672\u001b[90m, \u001b[39m0.167\u001b[90m, \u001b[39m2.288\u001b[90m, \u001b[39m0.201\u001b[90m, \u001b[39m0.248\u001b[90m, \u001b[39m0.134\u001b[90m, \u001b[39m0.158…\n",
            "$ age      \u001b[3m\u001b[90m<dbl>\u001b[39m\u001b[23m 50\u001b[90m, \u001b[39m31\u001b[90m, \u001b[39m32\u001b[90m, \u001b[39m21\u001b[90m, \u001b[39m33\u001b[90m, \u001b[39m30\u001b[90m, \u001b[39m26\u001b[90m, \u001b[39m29\u001b[90m, \u001b[39m53\u001b[90m, \u001b[39m54\u001b[90m, \u001b[39m30\u001b[90m, \u001b[39m34\u001b[90m, \u001b[39m57\u001b[90m, \u001b[39m59\u001b[90m, \u001b[39m51\u001b[90m, \u001b[39m3…\n",
            "$ diabetes \u001b[3m\u001b[90m<fct>\u001b[39m\u001b[23m pos\u001b[90m, \u001b[39mneg\u001b[90m, \u001b[39mpos\u001b[90m, \u001b[39mneg\u001b[90m, \u001b[39mpos\u001b[90m, \u001b[39mneg\u001b[90m, \u001b[39mpos\u001b[90m, \u001b[39mneg\u001b[90m, \u001b[39mpos\u001b[90m, \u001b[39mpos\u001b[90m, \u001b[39mneg\u001b[90m, \u001b[39mpos\u001b[90m, \u001b[39mn…\n"
          ]
        },
        {
          "output_type": "display_data",
          "data": {
            "text/html": [
              "<table class=\"dataframe\">\n",
              "<caption>A tibble: 5 × 2</caption>\n",
              "<thead>\n",
              "\t<tr><th scope=col>Estadístico</th><th scope=col>Valor</th></tr>\n",
              "\t<tr><th scope=col>&lt;chr&gt;</th><th scope=col>&lt;dbl&gt;</th></tr>\n",
              "</thead>\n",
              "<tbody>\n",
              "\t<tr><td>media  </td><td>NA</td></tr>\n",
              "\t<tr><td>mediana</td><td>NA</td></tr>\n",
              "\t<tr><td>sd     </td><td>NA</td></tr>\n",
              "\t<tr><td>min    </td><td>NA</td></tr>\n",
              "\t<tr><td>max    </td><td>NA</td></tr>\n",
              "</tbody>\n",
              "</table>\n"
            ],
            "text/markdown": "\nA tibble: 5 × 2\n\n| Estadístico &lt;chr&gt; | Valor &lt;dbl&gt; |\n|---|---|\n| media   | NA |\n| mediana | NA |\n| sd      | NA |\n| min     | NA |\n| max     | NA |\n\n",
            "text/latex": "A tibble: 5 × 2\n\\begin{tabular}{ll}\n Estadístico & Valor\\\\\n <chr> & <dbl>\\\\\n\\hline\n\t media   & NA\\\\\n\t mediana & NA\\\\\n\t sd      & NA\\\\\n\t min     & NA\\\\\n\t max     & NA\\\\\n\\end{tabular}\n",
            "text/plain": [
              "  Estadístico Valor\n",
              "1 media       NA   \n",
              "2 mediana     NA   \n",
              "3 sd          NA   \n",
              "4 min         NA   \n",
              "5 max         NA   "
            ]
          },
          "metadata": {}
        },
        {
          "output_type": "stream",
          "name": "stderr",
          "text": [
            "Warning message:\n",
            "“\u001b[1m\u001b[22mRemoved 5 rows containing non-finite outside the scale range (`stat_bin()`).”\n"
          ]
        },
        {
          "output_type": "display_data",
          "data": {
            "text/html": [
              "0.213366472054552"
            ],
            "text/markdown": "0.213366472054552",
            "text/latex": "0.213366472054552",
            "text/plain": [
              "[1] 0.2133665"
            ]
          },
          "metadata": {}
        },
        {
          "output_type": "display_data",
          "data": {
            "text/html": [
              "<table class=\"dataframe\">\n",
              "<caption>A data.frame: 6 × 11</caption>\n",
              "<thead>\n",
              "\t<tr><th></th><th scope=col>pregnant</th><th scope=col>glucose</th><th scope=col>pressure</th><th scope=col>triceps</th><th scope=col>insulin</th><th scope=col>mass</th><th scope=col>pedigree</th><th scope=col>age</th><th scope=col>diabetes</th><th scope=col>mass_z</th><th scope=col>grupo_edad</th></tr>\n",
              "\t<tr><th></th><th scope=col>&lt;dbl&gt;</th><th scope=col>&lt;dbl&gt;</th><th scope=col>&lt;dbl&gt;</th><th scope=col>&lt;dbl&gt;</th><th scope=col>&lt;dbl&gt;</th><th scope=col>&lt;dbl&gt;</th><th scope=col>&lt;dbl&gt;</th><th scope=col>&lt;dbl&gt;</th><th scope=col>&lt;fct&gt;</th><th scope=col>&lt;dbl&gt;</th><th scope=col>&lt;fct&gt;</th></tr>\n",
              "</thead>\n",
              "<tbody>\n",
              "\t<tr><th scope=row>1</th><td>6</td><td>148</td><td>72</td><td>35</td><td> 0</td><td>33.6</td><td>0.627</td><td>50</td><td>pos</td><td> 0.2481676</td><td>[50,60)</td></tr>\n",
              "\t<tr><th scope=row>2</th><td>1</td><td> 85</td><td>66</td><td>29</td><td> 0</td><td>26.6</td><td>0.351</td><td>31</td><td>neg</td><td>-0.8335032</td><td>[30,40)</td></tr>\n",
              "\t<tr><th scope=row>3</th><td>8</td><td>183</td><td>64</td><td> 0</td><td> 0</td><td>23.3</td><td>0.672</td><td>32</td><td>pos</td><td>-1.3434338</td><td>[30,40)</td></tr>\n",
              "\t<tr><th scope=row>4</th><td>1</td><td> 89</td><td>66</td><td>23</td><td>94</td><td>28.1</td><td>0.167</td><td>21</td><td>neg</td><td>-0.6017166</td><td>[20,30)</td></tr>\n",
              "\t<tr><th scope=row>6</th><td>5</td><td>116</td><td>74</td><td> 0</td><td> 0</td><td>25.6</td><td>0.201</td><td>30</td><td>neg</td><td>-0.9880276</td><td>[30,40)</td></tr>\n",
              "\t<tr><th scope=row>7</th><td>3</td><td> 78</td><td>50</td><td>32</td><td>88</td><td>31.0</td><td>0.248</td><td>26</td><td>pos</td><td>-0.1535958</td><td>[20,30)</td></tr>\n",
              "</tbody>\n",
              "</table>\n"
            ],
            "text/markdown": "\nA data.frame: 6 × 11\n\n| <!--/--> | pregnant &lt;dbl&gt; | glucose &lt;dbl&gt; | pressure &lt;dbl&gt; | triceps &lt;dbl&gt; | insulin &lt;dbl&gt; | mass &lt;dbl&gt; | pedigree &lt;dbl&gt; | age &lt;dbl&gt; | diabetes &lt;fct&gt; | mass_z &lt;dbl&gt; | grupo_edad &lt;fct&gt; |\n|---|---|---|---|---|---|---|---|---|---|---|---|\n| 1 | 6 | 148 | 72 | 35 |  0 | 33.6 | 0.627 | 50 | pos |  0.2481676 | [50,60) |\n| 2 | 1 |  85 | 66 | 29 |  0 | 26.6 | 0.351 | 31 | neg | -0.8335032 | [30,40) |\n| 3 | 8 | 183 | 64 |  0 |  0 | 23.3 | 0.672 | 32 | pos | -1.3434338 | [30,40) |\n| 4 | 1 |  89 | 66 | 23 | 94 | 28.1 | 0.167 | 21 | neg | -0.6017166 | [20,30) |\n| 6 | 5 | 116 | 74 |  0 |  0 | 25.6 | 0.201 | 30 | neg | -0.9880276 | [30,40) |\n| 7 | 3 |  78 | 50 | 32 | 88 | 31.0 | 0.248 | 26 | pos | -0.1535958 | [20,30) |\n\n",
            "text/latex": "A data.frame: 6 × 11\n\\begin{tabular}{r|lllllllllll}\n  & pregnant & glucose & pressure & triceps & insulin & mass & pedigree & age & diabetes & mass\\_z & grupo\\_edad\\\\\n  & <dbl> & <dbl> & <dbl> & <dbl> & <dbl> & <dbl> & <dbl> & <dbl> & <fct> & <dbl> & <fct>\\\\\n\\hline\n\t1 & 6 & 148 & 72 & 35 &  0 & 33.6 & 0.627 & 50 & pos &  0.2481676 & {[}50,60)\\\\\n\t2 & 1 &  85 & 66 & 29 &  0 & 26.6 & 0.351 & 31 & neg & -0.8335032 & {[}30,40)\\\\\n\t3 & 8 & 183 & 64 &  0 &  0 & 23.3 & 0.672 & 32 & pos & -1.3434338 & {[}30,40)\\\\\n\t4 & 1 &  89 & 66 & 23 & 94 & 28.1 & 0.167 & 21 & neg & -0.6017166 & {[}20,30)\\\\\n\t6 & 5 & 116 & 74 &  0 &  0 & 25.6 & 0.201 & 30 & neg & -0.9880276 & {[}30,40)\\\\\n\t7 & 3 &  78 & 50 & 32 & 88 & 31.0 & 0.248 & 26 & pos & -0.1535958 & {[}20,30)\\\\\n\\end{tabular}\n",
            "text/plain": [
              "  pregnant glucose pressure triceps insulin mass pedigree age diabetes\n",
              "1 6        148     72       35       0      33.6 0.627    50  pos     \n",
              "2 1         85     66       29       0      26.6 0.351    31  neg     \n",
              "3 8        183     64        0       0      23.3 0.672    32  pos     \n",
              "4 1         89     66       23      94      28.1 0.167    21  neg     \n",
              "6 5        116     74        0       0      25.6 0.201    30  neg     \n",
              "7 3         78     50       32      88      31.0 0.248    26  pos     \n",
              "  mass_z     grupo_edad\n",
              "1  0.2481676 [50,60)   \n",
              "2 -0.8335032 [30,40)   \n",
              "3 -1.3434338 [30,40)   \n",
              "4 -0.6017166 [20,30)   \n",
              "6 -0.9880276 [30,40)   \n",
              "7 -0.1535958 [20,30)   "
            ]
          },
          "metadata": {}
        },
        {
          "output_type": "display_data",
          "data": {
            "text/html": [
              "<table class=\"dataframe\">\n",
              "<caption>A tabyl: 3 × 6</caption>\n",
              "<thead>\n",
              "\t<tr><th></th><th scope=col>diabetes/grupo_edad</th><th scope=col>[20,30)</th><th scope=col>[30,40)</th><th scope=col>[40,50)</th><th scope=col>[50,60)</th><th scope=col>NA_</th></tr>\n",
              "\t<tr><th></th><th scope=col>&lt;fct&gt;</th><th scope=col>&lt;chr&gt;</th><th scope=col>&lt;chr&gt;</th><th scope=col>&lt;chr&gt;</th><th scope=col>&lt;chr&gt;</th><th scope=col>&lt;chr&gt;</th></tr>\n",
              "</thead>\n",
              "<tbody>\n",
              "\t<tr><th scope=row>1</th><td>neg  </td><td>58.8% (251)</td><td>19.9%  (85)</td><td>11.5%  (49)</td><td>5.6% (24) </td><td>4.2% (18)</td></tr>\n",
              "\t<tr><th scope=row>2</th><td>pos  </td><td>25.2%  (58)</td><td>29.1%  (67)</td><td>27.8%  (64)</td><td>15.2% (35)</td><td>2.6%  (6)</td></tr>\n",
              "\t<tr><th scope=row>3</th><td>Total</td><td>47.0% (309)</td><td>23.1% (152)</td><td>17.2% (113)</td><td>9.0% (59) </td><td>3.7% (24)</td></tr>\n",
              "</tbody>\n",
              "</table>\n"
            ],
            "text/markdown": "\nA tabyl: 3 × 6\n\n| <!--/--> | diabetes/grupo_edad &lt;fct&gt; | [20,30) &lt;chr&gt; | [30,40) &lt;chr&gt; | [40,50) &lt;chr&gt; | [50,60) &lt;chr&gt; | NA_ &lt;chr&gt; |\n|---|---|---|---|---|---|---|\n| 1 | neg   | 58.8% (251) | 19.9%  (85) | 11.5%  (49) | 5.6% (24)  | 4.2% (18) |\n| 2 | pos   | 25.2%  (58) | 29.1%  (67) | 27.8%  (64) | 15.2% (35) | 2.6%  (6) |\n| 3 | Total | 47.0% (309) | 23.1% (152) | 17.2% (113) | 9.0% (59)  | 3.7% (24) |\n\n",
            "text/latex": "A tabyl: 3 × 6\n\\begin{tabular}{r|llllll}\n  & diabetes/grupo\\_edad & {[}20,30) & {[}30,40) & {[}40,50) & {[}50,60) & NA\\_\\\\\n  & <fct> & <chr> & <chr> & <chr> & <chr> & <chr>\\\\\n\\hline\n\t1 & neg   & 58.8\\% (251) & 19.9\\%  (85) & 11.5\\%  (49) & 5.6\\% (24)  & 4.2\\% (18)\\\\\n\t2 & pos   & 25.2\\%  (58) & 29.1\\%  (67) & 27.8\\%  (64) & 15.2\\% (35) & 2.6\\%  (6)\\\\\n\t3 & Total & 47.0\\% (309) & 23.1\\% (152) & 17.2\\% (113) & 9.0\\% (59)  & 3.7\\% (24)\\\\\n\\end{tabular}\n",
            "text/plain": [
              "  diabetes/grupo_edad [20,30)     [30,40)     [40,50)     [50,60)    NA_      \n",
              "1 neg                 58.8% (251) 19.9%  (85) 11.5%  (49) 5.6% (24)  4.2% (18)\n",
              "2 pos                 25.2%  (58) 29.1%  (67) 27.8%  (64) 15.2% (35) 2.6%  (6)\n",
              "3 Total               47.0% (309) 23.1% (152) 17.2% (113) 9.0% (59)  3.7% (24)"
            ]
          },
          "metadata": {}
        },
        {
          "output_type": "display_data",
          "data": {
            "text/plain": [
              "    pregnant glucose pressure triceps insulin mass pedigree age diabetes\n",
              "1    6       148     72       35        0     33.6 0.627    50  pos     \n",
              "2    1        85     66       29        0     26.6 0.351    31  neg     \n",
              "3    8       183     64        0        0     23.3 0.672    32  pos     \n",
              "4    1        89     66       23       94     28.1 0.167    21  neg     \n",
              "6    5       116     74        0        0     25.6 0.201    30  neg     \n",
              "7    3        78     50       32       88     31.0 0.248    26  pos     \n",
              "8   10       115     NA        0        0     35.3 0.134    29  neg     \n",
              "9    2       197     70       45      543     30.5 0.158    53  pos     \n",
              "10   8       125     96        0        0       NA 0.232    54  pos     \n",
              "11   4       110     92        0        0     37.6 0.191    30  neg     \n",
              "12  10       168     74        0        0     38.0 0.537    34  pos     \n",
              "13  10       139     80        0        0     27.1 1.441    57  neg     \n",
              "14   1       189     60       23      846     30.1 0.398    59  pos     \n",
              "15   5       166     72       19      175     25.8 0.587    51  pos     \n",
              "16   7       100     NA        0        0     30.0 0.484    32  pos     \n",
              "18   7       107     74        0        0     29.6 0.254    31  pos     \n",
              "19   1       103     30       38       83     43.3 0.183    33  neg     \n",
              "20   1       115     70       30       96     34.6 0.529    32  pos     \n",
              "21   3       126     88       41      235     39.3 0.704    27  neg     \n",
              "22   8        99     84        0        0     35.4 0.388    50  neg     \n",
              "23   7       196     90        0        0     39.8 0.451    41  pos     \n",
              "24   9       119     80       35        0     29.0 0.263    29  pos     \n",
              "25  11       143     94       33      146     36.6 0.254    51  pos     \n",
              "26  10       125     70       26      115     31.1 0.205    41  pos     \n",
              "27   7       147     76        0        0     39.4 0.257    43  pos     \n",
              "28   1        97     66       15      140     23.2 0.487    22  neg     \n",
              "29  13       145     82       19      110     22.2 0.245    57  neg     \n",
              "30   5       117     92        0        0     34.1 0.337    38  neg     \n",
              "31   5       109     75       26        0     36.0 0.546    60  neg     \n",
              "32   3       158     76       36      245     31.6 0.851    28  pos     \n",
              "⋮   ⋮        ⋮       ⋮        ⋮       ⋮       ⋮    ⋮        ⋮   ⋮       \n",
              "736  4        95     60       32        0     35.4 0.284    28  neg     \n",
              "738  8        65     72       23        0     32.0 0.600    42  neg     \n",
              "739  2        99     60       17      160     36.6 0.453    21  neg     \n",
              "740  1       102     74        0        0     39.5 0.293    42  pos     \n",
              "741 11       120     80       37      150     42.3 0.785    48  pos     \n",
              "742  3       102     44       20       94     30.8 0.400    26  neg     \n",
              "743  1       109     58       18      116     28.5 0.219    22  neg     \n",
              "744  9       140     94        0        0     32.7 0.734    45  pos     \n",
              "745 13       153     88       37      140     40.6 1.174    39  neg     \n",
              "746 12       100     84       33      105     30.0 0.488    46  neg     \n",
              "747  1       147     94       41        0     49.3 0.358    27  pos     \n",
              "748  1        81     74       41       57     46.3 1.096    32  neg     \n",
              "749  3       187     70       22      200     36.4 0.408    36  pos     \n",
              "750  6       162     62        0        0     24.3 0.178    50  pos     \n",
              "751  4       136     70        0        0     31.2 1.182    22  pos     \n",
              "752  1       121     78       39       74     39.0 0.261    28  neg     \n",
              "753  3       108     62       24        0     26.0 0.223    25  neg     \n",
              "755  8       154     78       32        0     32.4 0.443    45  pos     \n",
              "756  1       128     88       39      110     36.5 1.057    37  pos     \n",
              "757  7       137     90       41        0     32.0 0.391    39  neg     \n",
              "759  1       106     76        0        0     37.5 0.197    26  neg     \n",
              "760  6       190     92        0        0     35.5 0.278    66  pos     \n",
              "761  2        88     58       26       16     28.4 0.766    22  neg     \n",
              "762  9       170     74       31        0     44.0 0.403    43  pos     \n",
              "763  9        89     62        0        0     22.5 0.142    33  neg     \n",
              "764 10       101     76       48      180     32.9 0.171    63  neg     \n",
              "765  2       122     70       27        0     36.8 0.340    27  neg     \n",
              "766  5       121     72       23      112     26.2 0.245    30  neg     \n",
              "767  1       126     60        0        0     30.1 0.349    47  pos     \n",
              "768  1        93     70       31        0     30.4 0.315    23  neg     \n",
              "    mass_z       grupo_edad\n",
              "1    0.24816763  [50,60)   \n",
              "2   -0.83350323  [30,40)   \n",
              "3   -1.34343378  [30,40)   \n",
              "4   -0.60171662  [20,30)   \n",
              "6   -0.98802764  [30,40)   \n",
              "7   -0.15359583  [20,30)   \n",
              "8    0.51085912  [20,30)   \n",
              "9   -0.23085804  [50,60)   \n",
              "10           NA  [50,60)   \n",
              "11   0.86626527  [30,40)   \n",
              "12   0.92807503  [30,40)   \n",
              "13  -0.75624103  [50,60)   \n",
              "14  -0.29266780  [50,60)   \n",
              "15  -0.95712276  [50,60)   \n",
              "16  -0.30812024  [30,40)   \n",
              "18  -0.36993001  [30,40)   \n",
              "19   1.74705440  [30,40)   \n",
              "20   0.40269204  [30,40)   \n",
              "21   1.12895676  [20,30)   \n",
              "22   0.52631157  [50,60)   \n",
              "23   1.20621896  [40,50)   \n",
              "24  -0.46264465  [20,30)   \n",
              "25   0.71174086  [50,60)   \n",
              "26  -0.13814339  [40,50)   \n",
              "27   1.14440920  [40,50)   \n",
              "28  -1.35888622  [20,30)   \n",
              "29  -1.51341063  [50,60)   \n",
              "30   0.32542983  [30,40)   \n",
              "31   0.61902621  [50,60)   \n",
              "32  -0.06088119  [20,30)   \n",
              "⋮   ⋮            ⋮         \n",
              "736  0.526311565 [20,30)   \n",
              "738  0.000928575 [40,50)   \n",
              "739  0.711740856 [20,30)   \n",
              "740  1.159861642 [40,50)   \n",
              "741  1.592529987 [40,50)   \n",
              "742 -0.184500716 [20,30)   \n",
              "743 -0.539906856 [20,30)   \n",
              "744  0.109095661 [40,50)   \n",
              "745  1.329838492 [30,40)   \n",
              "746 -0.308120243 [40,50)   \n",
              "747  2.674200850 [20,30)   \n",
              "748  2.210627623 [30,40)   \n",
              "749  0.680835974 [30,40)   \n",
              "750 -1.188909374 [50,60)   \n",
              "751 -0.122690952 [20,30)   \n",
              "752  1.082599438 [20,30)   \n",
              "753 -0.926217879 [20,30)   \n",
              "755  0.062738339 [40,50)   \n",
              "756  0.696288415 [30,40)   \n",
              "757  0.000928575 [30,40)   \n",
              "759  0.850812824 [20,30)   \n",
              "760  0.541764006 NA        \n",
              "761 -0.555359297 [20,30)   \n",
              "762  1.855221482 [40,50)   \n",
              "763 -1.467053310 [30,40)   \n",
              "764  0.140000543 NA        \n",
              "765  0.742645738 [20,30)   \n",
              "766 -0.895312997 [30,40)   \n",
              "767 -0.292667802 [40,50)   \n",
              "768 -0.246310479 [20,30)   "
            ],
            "text/html": [
              "<table class=\"dataframe\">\n",
              "<caption>A data.frame: 657 × 11</caption>\n",
              "<thead>\n",
              "\t<tr><th></th><th scope=col>pregnant</th><th scope=col>glucose</th><th scope=col>pressure</th><th scope=col>triceps</th><th scope=col>insulin</th><th scope=col>mass</th><th scope=col>pedigree</th><th scope=col>age</th><th scope=col>diabetes</th><th scope=col>mass_z</th><th scope=col>grupo_edad</th></tr>\n",
              "\t<tr><th></th><th scope=col>&lt;dbl&gt;</th><th scope=col>&lt;dbl&gt;</th><th scope=col>&lt;dbl&gt;</th><th scope=col>&lt;dbl&gt;</th><th scope=col>&lt;dbl&gt;</th><th scope=col>&lt;dbl&gt;</th><th scope=col>&lt;dbl&gt;</th><th scope=col>&lt;dbl&gt;</th><th scope=col>&lt;fct&gt;</th><th scope=col>&lt;dbl&gt;</th><th scope=col>&lt;fct&gt;</th></tr>\n",
              "</thead>\n",
              "<tbody>\n",
              "\t<tr><th scope=row>1</th><td> 6</td><td>148</td><td>72</td><td>35</td><td>  0</td><td>33.6</td><td>0.627</td><td>50</td><td>pos</td><td> 0.24816763</td><td>[50,60)</td></tr>\n",
              "\t<tr><th scope=row>2</th><td> 1</td><td> 85</td><td>66</td><td>29</td><td>  0</td><td>26.6</td><td>0.351</td><td>31</td><td>neg</td><td>-0.83350323</td><td>[30,40)</td></tr>\n",
              "\t<tr><th scope=row>3</th><td> 8</td><td>183</td><td>64</td><td> 0</td><td>  0</td><td>23.3</td><td>0.672</td><td>32</td><td>pos</td><td>-1.34343378</td><td>[30,40)</td></tr>\n",
              "\t<tr><th scope=row>4</th><td> 1</td><td> 89</td><td>66</td><td>23</td><td> 94</td><td>28.1</td><td>0.167</td><td>21</td><td>neg</td><td>-0.60171662</td><td>[20,30)</td></tr>\n",
              "\t<tr><th scope=row>6</th><td> 5</td><td>116</td><td>74</td><td> 0</td><td>  0</td><td>25.6</td><td>0.201</td><td>30</td><td>neg</td><td>-0.98802764</td><td>[30,40)</td></tr>\n",
              "\t<tr><th scope=row>7</th><td> 3</td><td> 78</td><td>50</td><td>32</td><td> 88</td><td>31.0</td><td>0.248</td><td>26</td><td>pos</td><td>-0.15359583</td><td>[20,30)</td></tr>\n",
              "\t<tr><th scope=row>8</th><td>10</td><td>115</td><td>NA</td><td> 0</td><td>  0</td><td>35.3</td><td>0.134</td><td>29</td><td>neg</td><td> 0.51085912</td><td>[20,30)</td></tr>\n",
              "\t<tr><th scope=row>9</th><td> 2</td><td>197</td><td>70</td><td>45</td><td>543</td><td>30.5</td><td>0.158</td><td>53</td><td>pos</td><td>-0.23085804</td><td>[50,60)</td></tr>\n",
              "\t<tr><th scope=row>10</th><td> 8</td><td>125</td><td>96</td><td> 0</td><td>  0</td><td>  NA</td><td>0.232</td><td>54</td><td>pos</td><td>         NA</td><td>[50,60)</td></tr>\n",
              "\t<tr><th scope=row>11</th><td> 4</td><td>110</td><td>92</td><td> 0</td><td>  0</td><td>37.6</td><td>0.191</td><td>30</td><td>neg</td><td> 0.86626527</td><td>[30,40)</td></tr>\n",
              "\t<tr><th scope=row>12</th><td>10</td><td>168</td><td>74</td><td> 0</td><td>  0</td><td>38.0</td><td>0.537</td><td>34</td><td>pos</td><td> 0.92807503</td><td>[30,40)</td></tr>\n",
              "\t<tr><th scope=row>13</th><td>10</td><td>139</td><td>80</td><td> 0</td><td>  0</td><td>27.1</td><td>1.441</td><td>57</td><td>neg</td><td>-0.75624103</td><td>[50,60)</td></tr>\n",
              "\t<tr><th scope=row>14</th><td> 1</td><td>189</td><td>60</td><td>23</td><td>846</td><td>30.1</td><td>0.398</td><td>59</td><td>pos</td><td>-0.29266780</td><td>[50,60)</td></tr>\n",
              "\t<tr><th scope=row>15</th><td> 5</td><td>166</td><td>72</td><td>19</td><td>175</td><td>25.8</td><td>0.587</td><td>51</td><td>pos</td><td>-0.95712276</td><td>[50,60)</td></tr>\n",
              "\t<tr><th scope=row>16</th><td> 7</td><td>100</td><td>NA</td><td> 0</td><td>  0</td><td>30.0</td><td>0.484</td><td>32</td><td>pos</td><td>-0.30812024</td><td>[30,40)</td></tr>\n",
              "\t<tr><th scope=row>18</th><td> 7</td><td>107</td><td>74</td><td> 0</td><td>  0</td><td>29.6</td><td>0.254</td><td>31</td><td>pos</td><td>-0.36993001</td><td>[30,40)</td></tr>\n",
              "\t<tr><th scope=row>19</th><td> 1</td><td>103</td><td>30</td><td>38</td><td> 83</td><td>43.3</td><td>0.183</td><td>33</td><td>neg</td><td> 1.74705440</td><td>[30,40)</td></tr>\n",
              "\t<tr><th scope=row>20</th><td> 1</td><td>115</td><td>70</td><td>30</td><td> 96</td><td>34.6</td><td>0.529</td><td>32</td><td>pos</td><td> 0.40269204</td><td>[30,40)</td></tr>\n",
              "\t<tr><th scope=row>21</th><td> 3</td><td>126</td><td>88</td><td>41</td><td>235</td><td>39.3</td><td>0.704</td><td>27</td><td>neg</td><td> 1.12895676</td><td>[20,30)</td></tr>\n",
              "\t<tr><th scope=row>22</th><td> 8</td><td> 99</td><td>84</td><td> 0</td><td>  0</td><td>35.4</td><td>0.388</td><td>50</td><td>neg</td><td> 0.52631157</td><td>[50,60)</td></tr>\n",
              "\t<tr><th scope=row>23</th><td> 7</td><td>196</td><td>90</td><td> 0</td><td>  0</td><td>39.8</td><td>0.451</td><td>41</td><td>pos</td><td> 1.20621896</td><td>[40,50)</td></tr>\n",
              "\t<tr><th scope=row>24</th><td> 9</td><td>119</td><td>80</td><td>35</td><td>  0</td><td>29.0</td><td>0.263</td><td>29</td><td>pos</td><td>-0.46264465</td><td>[20,30)</td></tr>\n",
              "\t<tr><th scope=row>25</th><td>11</td><td>143</td><td>94</td><td>33</td><td>146</td><td>36.6</td><td>0.254</td><td>51</td><td>pos</td><td> 0.71174086</td><td>[50,60)</td></tr>\n",
              "\t<tr><th scope=row>26</th><td>10</td><td>125</td><td>70</td><td>26</td><td>115</td><td>31.1</td><td>0.205</td><td>41</td><td>pos</td><td>-0.13814339</td><td>[40,50)</td></tr>\n",
              "\t<tr><th scope=row>27</th><td> 7</td><td>147</td><td>76</td><td> 0</td><td>  0</td><td>39.4</td><td>0.257</td><td>43</td><td>pos</td><td> 1.14440920</td><td>[40,50)</td></tr>\n",
              "\t<tr><th scope=row>28</th><td> 1</td><td> 97</td><td>66</td><td>15</td><td>140</td><td>23.2</td><td>0.487</td><td>22</td><td>neg</td><td>-1.35888622</td><td>[20,30)</td></tr>\n",
              "\t<tr><th scope=row>29</th><td>13</td><td>145</td><td>82</td><td>19</td><td>110</td><td>22.2</td><td>0.245</td><td>57</td><td>neg</td><td>-1.51341063</td><td>[50,60)</td></tr>\n",
              "\t<tr><th scope=row>30</th><td> 5</td><td>117</td><td>92</td><td> 0</td><td>  0</td><td>34.1</td><td>0.337</td><td>38</td><td>neg</td><td> 0.32542983</td><td>[30,40)</td></tr>\n",
              "\t<tr><th scope=row>31</th><td> 5</td><td>109</td><td>75</td><td>26</td><td>  0</td><td>36.0</td><td>0.546</td><td>60</td><td>neg</td><td> 0.61902621</td><td>[50,60)</td></tr>\n",
              "\t<tr><th scope=row>32</th><td> 3</td><td>158</td><td>76</td><td>36</td><td>245</td><td>31.6</td><td>0.851</td><td>28</td><td>pos</td><td>-0.06088119</td><td>[20,30)</td></tr>\n",
              "\t<tr><th scope=row>⋮</th><td>⋮</td><td>⋮</td><td>⋮</td><td>⋮</td><td>⋮</td><td>⋮</td><td>⋮</td><td>⋮</td><td>⋮</td><td>⋮</td><td>⋮</td></tr>\n",
              "\t<tr><th scope=row>736</th><td> 4</td><td> 95</td><td>60</td><td>32</td><td>  0</td><td>35.4</td><td>0.284</td><td>28</td><td>neg</td><td> 0.526311565</td><td>[20,30)</td></tr>\n",
              "\t<tr><th scope=row>738</th><td> 8</td><td> 65</td><td>72</td><td>23</td><td>  0</td><td>32.0</td><td>0.600</td><td>42</td><td>neg</td><td> 0.000928575</td><td>[40,50)</td></tr>\n",
              "\t<tr><th scope=row>739</th><td> 2</td><td> 99</td><td>60</td><td>17</td><td>160</td><td>36.6</td><td>0.453</td><td>21</td><td>neg</td><td> 0.711740856</td><td>[20,30)</td></tr>\n",
              "\t<tr><th scope=row>740</th><td> 1</td><td>102</td><td>74</td><td> 0</td><td>  0</td><td>39.5</td><td>0.293</td><td>42</td><td>pos</td><td> 1.159861642</td><td>[40,50)</td></tr>\n",
              "\t<tr><th scope=row>741</th><td>11</td><td>120</td><td>80</td><td>37</td><td>150</td><td>42.3</td><td>0.785</td><td>48</td><td>pos</td><td> 1.592529987</td><td>[40,50)</td></tr>\n",
              "\t<tr><th scope=row>742</th><td> 3</td><td>102</td><td>44</td><td>20</td><td> 94</td><td>30.8</td><td>0.400</td><td>26</td><td>neg</td><td>-0.184500716</td><td>[20,30)</td></tr>\n",
              "\t<tr><th scope=row>743</th><td> 1</td><td>109</td><td>58</td><td>18</td><td>116</td><td>28.5</td><td>0.219</td><td>22</td><td>neg</td><td>-0.539906856</td><td>[20,30)</td></tr>\n",
              "\t<tr><th scope=row>744</th><td> 9</td><td>140</td><td>94</td><td> 0</td><td>  0</td><td>32.7</td><td>0.734</td><td>45</td><td>pos</td><td> 0.109095661</td><td>[40,50)</td></tr>\n",
              "\t<tr><th scope=row>745</th><td>13</td><td>153</td><td>88</td><td>37</td><td>140</td><td>40.6</td><td>1.174</td><td>39</td><td>neg</td><td> 1.329838492</td><td>[30,40)</td></tr>\n",
              "\t<tr><th scope=row>746</th><td>12</td><td>100</td><td>84</td><td>33</td><td>105</td><td>30.0</td><td>0.488</td><td>46</td><td>neg</td><td>-0.308120243</td><td>[40,50)</td></tr>\n",
              "\t<tr><th scope=row>747</th><td> 1</td><td>147</td><td>94</td><td>41</td><td>  0</td><td>49.3</td><td>0.358</td><td>27</td><td>pos</td><td> 2.674200850</td><td>[20,30)</td></tr>\n",
              "\t<tr><th scope=row>748</th><td> 1</td><td> 81</td><td>74</td><td>41</td><td> 57</td><td>46.3</td><td>1.096</td><td>32</td><td>neg</td><td> 2.210627623</td><td>[30,40)</td></tr>\n",
              "\t<tr><th scope=row>749</th><td> 3</td><td>187</td><td>70</td><td>22</td><td>200</td><td>36.4</td><td>0.408</td><td>36</td><td>pos</td><td> 0.680835974</td><td>[30,40)</td></tr>\n",
              "\t<tr><th scope=row>750</th><td> 6</td><td>162</td><td>62</td><td> 0</td><td>  0</td><td>24.3</td><td>0.178</td><td>50</td><td>pos</td><td>-1.188909374</td><td>[50,60)</td></tr>\n",
              "\t<tr><th scope=row>751</th><td> 4</td><td>136</td><td>70</td><td> 0</td><td>  0</td><td>31.2</td><td>1.182</td><td>22</td><td>pos</td><td>-0.122690952</td><td>[20,30)</td></tr>\n",
              "\t<tr><th scope=row>752</th><td> 1</td><td>121</td><td>78</td><td>39</td><td> 74</td><td>39.0</td><td>0.261</td><td>28</td><td>neg</td><td> 1.082599438</td><td>[20,30)</td></tr>\n",
              "\t<tr><th scope=row>753</th><td> 3</td><td>108</td><td>62</td><td>24</td><td>  0</td><td>26.0</td><td>0.223</td><td>25</td><td>neg</td><td>-0.926217879</td><td>[20,30)</td></tr>\n",
              "\t<tr><th scope=row>755</th><td> 8</td><td>154</td><td>78</td><td>32</td><td>  0</td><td>32.4</td><td>0.443</td><td>45</td><td>pos</td><td> 0.062738339</td><td>[40,50)</td></tr>\n",
              "\t<tr><th scope=row>756</th><td> 1</td><td>128</td><td>88</td><td>39</td><td>110</td><td>36.5</td><td>1.057</td><td>37</td><td>pos</td><td> 0.696288415</td><td>[30,40)</td></tr>\n",
              "\t<tr><th scope=row>757</th><td> 7</td><td>137</td><td>90</td><td>41</td><td>  0</td><td>32.0</td><td>0.391</td><td>39</td><td>neg</td><td> 0.000928575</td><td>[30,40)</td></tr>\n",
              "\t<tr><th scope=row>759</th><td> 1</td><td>106</td><td>76</td><td> 0</td><td>  0</td><td>37.5</td><td>0.197</td><td>26</td><td>neg</td><td> 0.850812824</td><td>[20,30)</td></tr>\n",
              "\t<tr><th scope=row>760</th><td> 6</td><td>190</td><td>92</td><td> 0</td><td>  0</td><td>35.5</td><td>0.278</td><td>66</td><td>pos</td><td> 0.541764006</td><td>NA     </td></tr>\n",
              "\t<tr><th scope=row>761</th><td> 2</td><td> 88</td><td>58</td><td>26</td><td> 16</td><td>28.4</td><td>0.766</td><td>22</td><td>neg</td><td>-0.555359297</td><td>[20,30)</td></tr>\n",
              "\t<tr><th scope=row>762</th><td> 9</td><td>170</td><td>74</td><td>31</td><td>  0</td><td>44.0</td><td>0.403</td><td>43</td><td>pos</td><td> 1.855221482</td><td>[40,50)</td></tr>\n",
              "\t<tr><th scope=row>763</th><td> 9</td><td> 89</td><td>62</td><td> 0</td><td>  0</td><td>22.5</td><td>0.142</td><td>33</td><td>neg</td><td>-1.467053310</td><td>[30,40)</td></tr>\n",
              "\t<tr><th scope=row>764</th><td>10</td><td>101</td><td>76</td><td>48</td><td>180</td><td>32.9</td><td>0.171</td><td>63</td><td>neg</td><td> 0.140000543</td><td>NA     </td></tr>\n",
              "\t<tr><th scope=row>765</th><td> 2</td><td>122</td><td>70</td><td>27</td><td>  0</td><td>36.8</td><td>0.340</td><td>27</td><td>neg</td><td> 0.742645738</td><td>[20,30)</td></tr>\n",
              "\t<tr><th scope=row>766</th><td> 5</td><td>121</td><td>72</td><td>23</td><td>112</td><td>26.2</td><td>0.245</td><td>30</td><td>neg</td><td>-0.895312997</td><td>[30,40)</td></tr>\n",
              "\t<tr><th scope=row>767</th><td> 1</td><td>126</td><td>60</td><td> 0</td><td>  0</td><td>30.1</td><td>0.349</td><td>47</td><td>pos</td><td>-0.292667802</td><td>[40,50)</td></tr>\n",
              "\t<tr><th scope=row>768</th><td> 1</td><td> 93</td><td>70</td><td>31</td><td>  0</td><td>30.4</td><td>0.315</td><td>23</td><td>neg</td><td>-0.246310479</td><td>[20,30)</td></tr>\n",
              "</tbody>\n",
              "</table>\n"
            ],
            "text/markdown": "\nA data.frame: 657 × 11\n\n| <!--/--> | pregnant &lt;dbl&gt; | glucose &lt;dbl&gt; | pressure &lt;dbl&gt; | triceps &lt;dbl&gt; | insulin &lt;dbl&gt; | mass &lt;dbl&gt; | pedigree &lt;dbl&gt; | age &lt;dbl&gt; | diabetes &lt;fct&gt; | mass_z &lt;dbl&gt; | grupo_edad &lt;fct&gt; |\n|---|---|---|---|---|---|---|---|---|---|---|---|\n| 1 |  6 | 148 | 72 | 35 |   0 | 33.6 | 0.627 | 50 | pos |  0.24816763 | [50,60) |\n| 2 |  1 |  85 | 66 | 29 |   0 | 26.6 | 0.351 | 31 | neg | -0.83350323 | [30,40) |\n| 3 |  8 | 183 | 64 |  0 |   0 | 23.3 | 0.672 | 32 | pos | -1.34343378 | [30,40) |\n| 4 |  1 |  89 | 66 | 23 |  94 | 28.1 | 0.167 | 21 | neg | -0.60171662 | [20,30) |\n| 6 |  5 | 116 | 74 |  0 |   0 | 25.6 | 0.201 | 30 | neg | -0.98802764 | [30,40) |\n| 7 |  3 |  78 | 50 | 32 |  88 | 31.0 | 0.248 | 26 | pos | -0.15359583 | [20,30) |\n| 8 | 10 | 115 | NA |  0 |   0 | 35.3 | 0.134 | 29 | neg |  0.51085912 | [20,30) |\n| 9 |  2 | 197 | 70 | 45 | 543 | 30.5 | 0.158 | 53 | pos | -0.23085804 | [50,60) |\n| 10 |  8 | 125 | 96 |  0 |   0 |   NA | 0.232 | 54 | pos |          NA | [50,60) |\n| 11 |  4 | 110 | 92 |  0 |   0 | 37.6 | 0.191 | 30 | neg |  0.86626527 | [30,40) |\n| 12 | 10 | 168 | 74 |  0 |   0 | 38.0 | 0.537 | 34 | pos |  0.92807503 | [30,40) |\n| 13 | 10 | 139 | 80 |  0 |   0 | 27.1 | 1.441 | 57 | neg | -0.75624103 | [50,60) |\n| 14 |  1 | 189 | 60 | 23 | 846 | 30.1 | 0.398 | 59 | pos | -0.29266780 | [50,60) |\n| 15 |  5 | 166 | 72 | 19 | 175 | 25.8 | 0.587 | 51 | pos | -0.95712276 | [50,60) |\n| 16 |  7 | 100 | NA |  0 |   0 | 30.0 | 0.484 | 32 | pos | -0.30812024 | [30,40) |\n| 18 |  7 | 107 | 74 |  0 |   0 | 29.6 | 0.254 | 31 | pos | -0.36993001 | [30,40) |\n| 19 |  1 | 103 | 30 | 38 |  83 | 43.3 | 0.183 | 33 | neg |  1.74705440 | [30,40) |\n| 20 |  1 | 115 | 70 | 30 |  96 | 34.6 | 0.529 | 32 | pos |  0.40269204 | [30,40) |\n| 21 |  3 | 126 | 88 | 41 | 235 | 39.3 | 0.704 | 27 | neg |  1.12895676 | [20,30) |\n| 22 |  8 |  99 | 84 |  0 |   0 | 35.4 | 0.388 | 50 | neg |  0.52631157 | [50,60) |\n| 23 |  7 | 196 | 90 |  0 |   0 | 39.8 | 0.451 | 41 | pos |  1.20621896 | [40,50) |\n| 24 |  9 | 119 | 80 | 35 |   0 | 29.0 | 0.263 | 29 | pos | -0.46264465 | [20,30) |\n| 25 | 11 | 143 | 94 | 33 | 146 | 36.6 | 0.254 | 51 | pos |  0.71174086 | [50,60) |\n| 26 | 10 | 125 | 70 | 26 | 115 | 31.1 | 0.205 | 41 | pos | -0.13814339 | [40,50) |\n| 27 |  7 | 147 | 76 |  0 |   0 | 39.4 | 0.257 | 43 | pos |  1.14440920 | [40,50) |\n| 28 |  1 |  97 | 66 | 15 | 140 | 23.2 | 0.487 | 22 | neg | -1.35888622 | [20,30) |\n| 29 | 13 | 145 | 82 | 19 | 110 | 22.2 | 0.245 | 57 | neg | -1.51341063 | [50,60) |\n| 30 |  5 | 117 | 92 |  0 |   0 | 34.1 | 0.337 | 38 | neg |  0.32542983 | [30,40) |\n| 31 |  5 | 109 | 75 | 26 |   0 | 36.0 | 0.546 | 60 | neg |  0.61902621 | [50,60) |\n| 32 |  3 | 158 | 76 | 36 | 245 | 31.6 | 0.851 | 28 | pos | -0.06088119 | [20,30) |\n| ⋮ | ⋮ | ⋮ | ⋮ | ⋮ | ⋮ | ⋮ | ⋮ | ⋮ | ⋮ | ⋮ | ⋮ |\n| 736 |  4 |  95 | 60 | 32 |   0 | 35.4 | 0.284 | 28 | neg |  0.526311565 | [20,30) |\n| 738 |  8 |  65 | 72 | 23 |   0 | 32.0 | 0.600 | 42 | neg |  0.000928575 | [40,50) |\n| 739 |  2 |  99 | 60 | 17 | 160 | 36.6 | 0.453 | 21 | neg |  0.711740856 | [20,30) |\n| 740 |  1 | 102 | 74 |  0 |   0 | 39.5 | 0.293 | 42 | pos |  1.159861642 | [40,50) |\n| 741 | 11 | 120 | 80 | 37 | 150 | 42.3 | 0.785 | 48 | pos |  1.592529987 | [40,50) |\n| 742 |  3 | 102 | 44 | 20 |  94 | 30.8 | 0.400 | 26 | neg | -0.184500716 | [20,30) |\n| 743 |  1 | 109 | 58 | 18 | 116 | 28.5 | 0.219 | 22 | neg | -0.539906856 | [20,30) |\n| 744 |  9 | 140 | 94 |  0 |   0 | 32.7 | 0.734 | 45 | pos |  0.109095661 | [40,50) |\n| 745 | 13 | 153 | 88 | 37 | 140 | 40.6 | 1.174 | 39 | neg |  1.329838492 | [30,40) |\n| 746 | 12 | 100 | 84 | 33 | 105 | 30.0 | 0.488 | 46 | neg | -0.308120243 | [40,50) |\n| 747 |  1 | 147 | 94 | 41 |   0 | 49.3 | 0.358 | 27 | pos |  2.674200850 | [20,30) |\n| 748 |  1 |  81 | 74 | 41 |  57 | 46.3 | 1.096 | 32 | neg |  2.210627623 | [30,40) |\n| 749 |  3 | 187 | 70 | 22 | 200 | 36.4 | 0.408 | 36 | pos |  0.680835974 | [30,40) |\n| 750 |  6 | 162 | 62 |  0 |   0 | 24.3 | 0.178 | 50 | pos | -1.188909374 | [50,60) |\n| 751 |  4 | 136 | 70 |  0 |   0 | 31.2 | 1.182 | 22 | pos | -0.122690952 | [20,30) |\n| 752 |  1 | 121 | 78 | 39 |  74 | 39.0 | 0.261 | 28 | neg |  1.082599438 | [20,30) |\n| 753 |  3 | 108 | 62 | 24 |   0 | 26.0 | 0.223 | 25 | neg | -0.926217879 | [20,30) |\n| 755 |  8 | 154 | 78 | 32 |   0 | 32.4 | 0.443 | 45 | pos |  0.062738339 | [40,50) |\n| 756 |  1 | 128 | 88 | 39 | 110 | 36.5 | 1.057 | 37 | pos |  0.696288415 | [30,40) |\n| 757 |  7 | 137 | 90 | 41 |   0 | 32.0 | 0.391 | 39 | neg |  0.000928575 | [30,40) |\n| 759 |  1 | 106 | 76 |  0 |   0 | 37.5 | 0.197 | 26 | neg |  0.850812824 | [20,30) |\n| 760 |  6 | 190 | 92 |  0 |   0 | 35.5 | 0.278 | 66 | pos |  0.541764006 | NA      |\n| 761 |  2 |  88 | 58 | 26 |  16 | 28.4 | 0.766 | 22 | neg | -0.555359297 | [20,30) |\n| 762 |  9 | 170 | 74 | 31 |   0 | 44.0 | 0.403 | 43 | pos |  1.855221482 | [40,50) |\n| 763 |  9 |  89 | 62 |  0 |   0 | 22.5 | 0.142 | 33 | neg | -1.467053310 | [30,40) |\n| 764 | 10 | 101 | 76 | 48 | 180 | 32.9 | 0.171 | 63 | neg |  0.140000543 | NA      |\n| 765 |  2 | 122 | 70 | 27 |   0 | 36.8 | 0.340 | 27 | neg |  0.742645738 | [20,30) |\n| 766 |  5 | 121 | 72 | 23 | 112 | 26.2 | 0.245 | 30 | neg | -0.895312997 | [30,40) |\n| 767 |  1 | 126 | 60 |  0 |   0 | 30.1 | 0.349 | 47 | pos | -0.292667802 | [40,50) |\n| 768 |  1 |  93 | 70 | 31 |   0 | 30.4 | 0.315 | 23 | neg | -0.246310479 | [20,30) |\n\n",
            "text/latex": "A data.frame: 657 × 11\n\\begin{tabular}{r|lllllllllll}\n  & pregnant & glucose & pressure & triceps & insulin & mass & pedigree & age & diabetes & mass\\_z & grupo\\_edad\\\\\n  & <dbl> & <dbl> & <dbl> & <dbl> & <dbl> & <dbl> & <dbl> & <dbl> & <fct> & <dbl> & <fct>\\\\\n\\hline\n\t1 &  6 & 148 & 72 & 35 &   0 & 33.6 & 0.627 & 50 & pos &  0.24816763 & {[}50,60)\\\\\n\t2 &  1 &  85 & 66 & 29 &   0 & 26.6 & 0.351 & 31 & neg & -0.83350323 & {[}30,40)\\\\\n\t3 &  8 & 183 & 64 &  0 &   0 & 23.3 & 0.672 & 32 & pos & -1.34343378 & {[}30,40)\\\\\n\t4 &  1 &  89 & 66 & 23 &  94 & 28.1 & 0.167 & 21 & neg & -0.60171662 & {[}20,30)\\\\\n\t6 &  5 & 116 & 74 &  0 &   0 & 25.6 & 0.201 & 30 & neg & -0.98802764 & {[}30,40)\\\\\n\t7 &  3 &  78 & 50 & 32 &  88 & 31.0 & 0.248 & 26 & pos & -0.15359583 & {[}20,30)\\\\\n\t8 & 10 & 115 & NA &  0 &   0 & 35.3 & 0.134 & 29 & neg &  0.51085912 & {[}20,30)\\\\\n\t9 &  2 & 197 & 70 & 45 & 543 & 30.5 & 0.158 & 53 & pos & -0.23085804 & {[}50,60)\\\\\n\t10 &  8 & 125 & 96 &  0 &   0 &   NA & 0.232 & 54 & pos &          NA & {[}50,60)\\\\\n\t11 &  4 & 110 & 92 &  0 &   0 & 37.6 & 0.191 & 30 & neg &  0.86626527 & {[}30,40)\\\\\n\t12 & 10 & 168 & 74 &  0 &   0 & 38.0 & 0.537 & 34 & pos &  0.92807503 & {[}30,40)\\\\\n\t13 & 10 & 139 & 80 &  0 &   0 & 27.1 & 1.441 & 57 & neg & -0.75624103 & {[}50,60)\\\\\n\t14 &  1 & 189 & 60 & 23 & 846 & 30.1 & 0.398 & 59 & pos & -0.29266780 & {[}50,60)\\\\\n\t15 &  5 & 166 & 72 & 19 & 175 & 25.8 & 0.587 & 51 & pos & -0.95712276 & {[}50,60)\\\\\n\t16 &  7 & 100 & NA &  0 &   0 & 30.0 & 0.484 & 32 & pos & -0.30812024 & {[}30,40)\\\\\n\t18 &  7 & 107 & 74 &  0 &   0 & 29.6 & 0.254 & 31 & pos & -0.36993001 & {[}30,40)\\\\\n\t19 &  1 & 103 & 30 & 38 &  83 & 43.3 & 0.183 & 33 & neg &  1.74705440 & {[}30,40)\\\\\n\t20 &  1 & 115 & 70 & 30 &  96 & 34.6 & 0.529 & 32 & pos &  0.40269204 & {[}30,40)\\\\\n\t21 &  3 & 126 & 88 & 41 & 235 & 39.3 & 0.704 & 27 & neg &  1.12895676 & {[}20,30)\\\\\n\t22 &  8 &  99 & 84 &  0 &   0 & 35.4 & 0.388 & 50 & neg &  0.52631157 & {[}50,60)\\\\\n\t23 &  7 & 196 & 90 &  0 &   0 & 39.8 & 0.451 & 41 & pos &  1.20621896 & {[}40,50)\\\\\n\t24 &  9 & 119 & 80 & 35 &   0 & 29.0 & 0.263 & 29 & pos & -0.46264465 & {[}20,30)\\\\\n\t25 & 11 & 143 & 94 & 33 & 146 & 36.6 & 0.254 & 51 & pos &  0.71174086 & {[}50,60)\\\\\n\t26 & 10 & 125 & 70 & 26 & 115 & 31.1 & 0.205 & 41 & pos & -0.13814339 & {[}40,50)\\\\\n\t27 &  7 & 147 & 76 &  0 &   0 & 39.4 & 0.257 & 43 & pos &  1.14440920 & {[}40,50)\\\\\n\t28 &  1 &  97 & 66 & 15 & 140 & 23.2 & 0.487 & 22 & neg & -1.35888622 & {[}20,30)\\\\\n\t29 & 13 & 145 & 82 & 19 & 110 & 22.2 & 0.245 & 57 & neg & -1.51341063 & {[}50,60)\\\\\n\t30 &  5 & 117 & 92 &  0 &   0 & 34.1 & 0.337 & 38 & neg &  0.32542983 & {[}30,40)\\\\\n\t31 &  5 & 109 & 75 & 26 &   0 & 36.0 & 0.546 & 60 & neg &  0.61902621 & {[}50,60)\\\\\n\t32 &  3 & 158 & 76 & 36 & 245 & 31.6 & 0.851 & 28 & pos & -0.06088119 & {[}20,30)\\\\\n\t⋮ & ⋮ & ⋮ & ⋮ & ⋮ & ⋮ & ⋮ & ⋮ & ⋮ & ⋮ & ⋮ & ⋮\\\\\n\t736 &  4 &  95 & 60 & 32 &   0 & 35.4 & 0.284 & 28 & neg &  0.526311565 & {[}20,30)\\\\\n\t738 &  8 &  65 & 72 & 23 &   0 & 32.0 & 0.600 & 42 & neg &  0.000928575 & {[}40,50)\\\\\n\t739 &  2 &  99 & 60 & 17 & 160 & 36.6 & 0.453 & 21 & neg &  0.711740856 & {[}20,30)\\\\\n\t740 &  1 & 102 & 74 &  0 &   0 & 39.5 & 0.293 & 42 & pos &  1.159861642 & {[}40,50)\\\\\n\t741 & 11 & 120 & 80 & 37 & 150 & 42.3 & 0.785 & 48 & pos &  1.592529987 & {[}40,50)\\\\\n\t742 &  3 & 102 & 44 & 20 &  94 & 30.8 & 0.400 & 26 & neg & -0.184500716 & {[}20,30)\\\\\n\t743 &  1 & 109 & 58 & 18 & 116 & 28.5 & 0.219 & 22 & neg & -0.539906856 & {[}20,30)\\\\\n\t744 &  9 & 140 & 94 &  0 &   0 & 32.7 & 0.734 & 45 & pos &  0.109095661 & {[}40,50)\\\\\n\t745 & 13 & 153 & 88 & 37 & 140 & 40.6 & 1.174 & 39 & neg &  1.329838492 & {[}30,40)\\\\\n\t746 & 12 & 100 & 84 & 33 & 105 & 30.0 & 0.488 & 46 & neg & -0.308120243 & {[}40,50)\\\\\n\t747 &  1 & 147 & 94 & 41 &   0 & 49.3 & 0.358 & 27 & pos &  2.674200850 & {[}20,30)\\\\\n\t748 &  1 &  81 & 74 & 41 &  57 & 46.3 & 1.096 & 32 & neg &  2.210627623 & {[}30,40)\\\\\n\t749 &  3 & 187 & 70 & 22 & 200 & 36.4 & 0.408 & 36 & pos &  0.680835974 & {[}30,40)\\\\\n\t750 &  6 & 162 & 62 &  0 &   0 & 24.3 & 0.178 & 50 & pos & -1.188909374 & {[}50,60)\\\\\n\t751 &  4 & 136 & 70 &  0 &   0 & 31.2 & 1.182 & 22 & pos & -0.122690952 & {[}20,30)\\\\\n\t752 &  1 & 121 & 78 & 39 &  74 & 39.0 & 0.261 & 28 & neg &  1.082599438 & {[}20,30)\\\\\n\t753 &  3 & 108 & 62 & 24 &   0 & 26.0 & 0.223 & 25 & neg & -0.926217879 & {[}20,30)\\\\\n\t755 &  8 & 154 & 78 & 32 &   0 & 32.4 & 0.443 & 45 & pos &  0.062738339 & {[}40,50)\\\\\n\t756 &  1 & 128 & 88 & 39 & 110 & 36.5 & 1.057 & 37 & pos &  0.696288415 & {[}30,40)\\\\\n\t757 &  7 & 137 & 90 & 41 &   0 & 32.0 & 0.391 & 39 & neg &  0.000928575 & {[}30,40)\\\\\n\t759 &  1 & 106 & 76 &  0 &   0 & 37.5 & 0.197 & 26 & neg &  0.850812824 & {[}20,30)\\\\\n\t760 &  6 & 190 & 92 &  0 &   0 & 35.5 & 0.278 & 66 & pos &  0.541764006 & NA     \\\\\n\t761 &  2 &  88 & 58 & 26 &  16 & 28.4 & 0.766 & 22 & neg & -0.555359297 & {[}20,30)\\\\\n\t762 &  9 & 170 & 74 & 31 &   0 & 44.0 & 0.403 & 43 & pos &  1.855221482 & {[}40,50)\\\\\n\t763 &  9 &  89 & 62 &  0 &   0 & 22.5 & 0.142 & 33 & neg & -1.467053310 & {[}30,40)\\\\\n\t764 & 10 & 101 & 76 & 48 & 180 & 32.9 & 0.171 & 63 & neg &  0.140000543 & NA     \\\\\n\t765 &  2 & 122 & 70 & 27 &   0 & 36.8 & 0.340 & 27 & neg &  0.742645738 & {[}20,30)\\\\\n\t766 &  5 & 121 & 72 & 23 & 112 & 26.2 & 0.245 & 30 & neg & -0.895312997 & {[}30,40)\\\\\n\t767 &  1 & 126 & 60 &  0 &   0 & 30.1 & 0.349 & 47 & pos & -0.292667802 & {[}40,50)\\\\\n\t768 &  1 &  93 & 70 & 31 &   0 & 30.4 & 0.315 & 23 & neg & -0.246310479 & {[}20,30)\\\\\n\\end{tabular}\n"
          },
          "metadata": {}
        },
        {
          "output_type": "display_data",
          "data": {
            "text/plain": [
              "plot without title"
            ],
            "image/png": "[encoded data removed]"
          },
          "metadata": {
            "image/png": {
              "width": 420,
              "height": 420
            }
          }
        }
      ]
    }
  ],
  "metadata": {
    "colab": {
      "provenance": [],
      "toc_visible": true
    },
    "kernelspec": {
      "name": "ir",
      "display_name": "R"
    },
    "language_info": {
      "name": "R"
    }
  },
  "nbformat": 4,
  "nbformat_minor": 5
}