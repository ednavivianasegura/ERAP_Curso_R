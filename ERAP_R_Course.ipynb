{
  "nbformat": 4,
  "nbformat_minor": 0,
  "metadata": {
    "colab": {
      "provenance": [],
      "authorship_tag": "ABX9TyMkCKSOx7qq9fg94742iGJD",
      "include_colab_link": true
    },
    "kernelspec": {
      "name": "ir",
      "display_name": "R"
    },
    "language_info": {
      "name": "R"
    }
  },
  "cells": [
    {
      "cell_type": "markdown",
      "metadata": {
        "id": "view-in-github",
        "colab_type": "text"
      },
      "source": [
        "<a href=\"https://colab.research.google.com/github/ednavivianasegura/ERAP_Curso_R/blob/main/ERAP_R_Course.ipynb\" target=\"_parent\"><img src=\"https://colab.research.google.com/assets/colab-badge.svg\" alt=\"Open In Colab\"/></a>"
      ]
    },
    {
      "cell_type": "markdown",
      "source": [
        "**Título**:  Manipulación de datos con R                                 \n",
        "                                          \n",
        "**Autor(es)**:  Edna Viviana Segura Alvarado - Hans Mauricio Carrillo Hernández\n",
        "\n",
        "**Fecha**: 2025-05\n",
        "\n",
        "**Institución**: Universidad de La Rioja    "
      ],
      "metadata": {
        "id": "4Cl1dG5guaUP"
      }
    },
    {
      "cell_type": "markdown",
      "source": [
        "**Contenido del curso:**\n",
        "\n",
        "**Módulo 1**: Manipulación de Datos con dplyr y data.table  \n",
        "\n",
        "Objetivo: Aprender a manipular y transformar datos usando las herramientas más comunes de R.\n",
        "\n",
        "**Módulo 2**: Manejo de Datos Desordenados y Falta de Información\n",
        "\n",
        "Objetivo: Aprender a limpiar datos desordenados, manejar datos faltantes y formatear conjuntos de datos.\n",
        "\n",
        "**Módulo 3**: Visualización de Datos con ggplot2\n",
        "\n",
        "Objetivo: Crear gráficos avanzados para analizar visualmente los datos utilizando ggplot2.\n",
        "\n",
        "**Módulo 4**: Exploración de Datos y Estadística Descriptiva\n",
        "\n",
        "Objetivo: Aplicar métodos estadísticos para explorar y describir conjuntos de datos.\n",
        "\n",
        "# Modulo I: Manipulación de Datos con dplyr y data.table: introducción\n",
        "\n",
        "En esta sección se presentan dos de las librerías más potentes para manipulación de datos en R: **`dplyr`** y **`data.table`**.\n",
        "\n",
        "Por su sencillez, desde el punto de vista académico, iniciaremos con Dplyr, luego repetiremos los ejercicios con data.table, mostrando sus diferencias y bondades.\n",
        "-------------------------------------------------------------------\n",
        "\n"
      ],
      "metadata": {
        "id": "R-3UJKkSoXrm"
      }
    },
    {
      "cell_type": "code",
      "source": [
        "# @title Librerías: (Instalación e importación)\n",
        "\n",
        "# Función para instalar si no está instalado\n",
        "instalar_si_no <- function(paquete) {\n",
        "    if (!requireNamespace(paquete, quietly = TRUE)) {\n",
        "    install.packages(paquete, repos = \"https://cloud.r-project.org\")\n",
        "  }\n",
        "  library(paquete, character.only = TRUE)\n",
        "}\n",
        "\n",
        "# Lista de paquetes a verificar\n",
        "paquetes <- c(\"tidyverse\", \"data.table\", \"psych\", \"moments\", \"nycflights13\", \"dplyr\")\n",
        "\n",
        "# Instalar y cargar todos\n",
        "invisible(lapply(paquetes, instalar_si_no))"
      ],
      "metadata": {
        "id": "CzG3mDIin_q1",
        "collapsed": true,
        "cellView": "form"
      },
      "execution_count": null,
      "outputs": []
    },
    {
      "cell_type": "markdown",
      "source": [
        "## dplyr\n",
        "\n",
        "`dplyr` forma parte del ecosistema **tidyverse**, diseñado para trabajar con datos de forma ordenada, clara y legible. Utiliza funciones denominadas *verbos* para transformar data frames:\n",
        "\n",
        "-   `filter()`: selecciona filas según condiciones lógicas.\n",
        "-   `select()`: selecciona columnas específicas también teniendo en cuenta condiciones.\n",
        "-   `mutate()`: crea nuevas variables o transforma existentes.\n",
        "-   `arrange()`: ordena filas.\n",
        "-   `group_by()` + `summarise()`: agrupa y resume datos.\n",
        "\n",
        "------------------------------------------------------------------------\n",
        "\n",
        "**¿Qué es tidyverse?**\n",
        "\n",
        "El **tidyverse** es una colección de paquetes R con una filosofía de diseño común: trabajar con datos ordenados (*tidy data*).\n",
        "\n",
        "**Principales paquetes del tidyverse:**\n",
        "\n",
        "| Paquete         | Función principal                              |\n",
        "|-----------------|------------------------------------------------|\n",
        "| ***`dplyr`***   | Manipulación de datos                          |\n",
        "| ***`ggplot2`*** | Visualización de datos                         |\n",
        "| `tidyr`         | Transformación y ordenación de datos           |\n",
        "| `readr`         | Lectura eficiente de archivos CSV y planos     |\n",
        "| ***`tibble`***  | Versión moderna de `data.frame`                |\n",
        "| `stringr`       | Manipulación de cadenas de texto               |\n",
        "| `forcats`       | Manejo de factores (variables categóricas)     |\n",
        "| `purrr`         | Programación funcional sobre listas y vectores |\n",
        "\n",
        "------------------------------------------------------------------------\n"
      ],
      "metadata": {
        "id": "-lI0BIz2yHRA"
      }
    },
    {
      "cell_type": "code",
      "execution_count": null,
      "metadata": {
        "id": "o5w4jAkKn5yT"
      },
      "outputs": [],
      "source": [
        "??tidyverse"
      ]
    },
    {
      "cell_type": "markdown",
      "source": [
        "\n",
        "**Bibliografía recomendada**\n",
        "\n",
        "- [Web oficial de tidyverse](https://www.tidyverse.org)\n",
        "\n",
        "\n",
        "-   Wickham, H., & Grolemund, G. (2023). *R para ciencia de datos*.\\\n",
        "    Disponible en línea:\\\n",
        "    <https://r4ds.had.co.nz>\n",
        "    \n",
        "-   Dowle, M., & Srinivasan, A. (2024). *data.table: Extension of `data.frame`*. Paquete R. Disponible en: <https://cran.r-project.org/package=data.table>\n",
        "\n",
        "- Información sobre los data sets a usar: [nycflights13](https://cran.r-project.org/web/packages/nycflights13/nycflights13.pdf)"
      ],
      "metadata": {
        "id": "n13UmL9dp1Sl"
      }
    },
    {
      "cell_type": "markdown",
      "source": [
        "**Introducción al paquete de los datos a usar `nycflights13`**\n",
        "\n",
        "El paquete `nycflights13` contiene datos reales sobre todos los vuelos que salieron desde los aeropuertos de Nueva York durante el año 2013.\n",
        "\n",
        "**¿Qué datos contiene el paquete?**\n",
        "\n",
        "El paquete incluye 5 tablas principales:\n",
        "\n",
        "-   `flights`: datos de vuelos\n",
        "-   `airlines`: aerolíneas\n",
        "-   `airports`: aeropuertos\n",
        "-   `planes`: aviones\n",
        "-   `weather`: clima\n",
        "\n",
        "Podemos acceder a cada una directamente por su nombre:"
      ],
      "metadata": {
        "id": "yp-ohPztqELR"
      }
    },
    {
      "cell_type": "code",
      "source": [
        "# Acceso a las tablas\n",
        "head(flights, 3)\n"
      ],
      "metadata": {
        "id": "n27peqfjqPRA"
      },
      "execution_count": null,
      "outputs": []
    },
    {
      "cell_type": "code",
      "source": [
        "head(airlines)"
      ],
      "metadata": {
        "id": "5OevChNCqSfE"
      },
      "execution_count": null,
      "outputs": []
    },
    {
      "cell_type": "code",
      "source": [
        "head(airports)"
      ],
      "metadata": {
        "id": "01se4qpeqiCs"
      },
      "execution_count": null,
      "outputs": []
    },
    {
      "cell_type": "code",
      "source": [
        "head(planes)"
      ],
      "metadata": {
        "id": "6vbIbgRRqj9j"
      },
      "execution_count": null,
      "outputs": []
    },
    {
      "cell_type": "code",
      "source": [
        "head(weather)"
      ],
      "metadata": {
        "id": "1WDB1K3uqlgU"
      },
      "execution_count": null,
      "outputs": []
    },
    {
      "cell_type": "markdown",
      "source": [
        "\n",
        "------------------------------------------------------------------------\n",
        "\n",
        "**Descripción general de las tablas**\n",
        "\n",
        "Utilizamos las funciones:\n",
        "\n",
        "dim(): para ver la dimensión de los datos.\n",
        "\n",
        "str(): para mostrar la estructura del objetos de manera compacta y legible.\n",
        "\n",
        "glimpse() : para mostrar un resumen estructural horizontal de los datos:\n",
        "\n",
        "-   `int` enteros.\n",
        "\n",
        "-   `dbl` dobles, o números reales.\n",
        "\n",
        "-   `chr` caracteres o cadenas.\n",
        "\n",
        "-   `dttm` fechas y horas (una fecha + una hora).\n",
        "\n",
        "Otros tres tipos comunes de variables:\n",
        "\n",
        "-   `lgl` significa lógico, `TRUE` (verdadero) o `FALSE` (falso).\n",
        "\n",
        "-   `fctr` significa factores (categóricos).\n",
        "\n",
        "-   `date` fechas.\n",
        "\n"
      ],
      "metadata": {
        "id": "EQhqDuHarIFV"
      }
    },
    {
      "cell_type": "markdown",
      "source": [
        "1. `flights` — Datos de vuelos\n"
      ],
      "metadata": {
        "id": "ffiQTVOxupcu"
      }
    },
    {
      "cell_type": "code",
      "source": [
        "#??flights\n",
        "dim(flights)\n",
        "str(flights)\n",
        "glimpse(airlines)"
      ],
      "metadata": {
        "id": "NdNfEfEsrWjp"
      },
      "execution_count": null,
      "outputs": []
    },
    {
      "cell_type": "markdown",
      "source": [
        "2. `airlines` — Información de aerolíneas"
      ],
      "metadata": {
        "id": "Zkssygk-u4LS"
      }
    },
    {
      "cell_type": "code",
      "source": [
        "glimpse(airlines)"
      ],
      "metadata": {
        "id": "MdaKhgx2u5Ze"
      },
      "execution_count": null,
      "outputs": []
    },
    {
      "cell_type": "markdown",
      "source": [
        "3. `airports` — Información de aeropuertos"
      ],
      "metadata": {
        "id": "W4oUDhA5vKKB"
      }
    },
    {
      "cell_type": "code",
      "source": [
        "glimpse(airports)"
      ],
      "metadata": {
        "id": "9nnWt2bIvBDG"
      },
      "execution_count": null,
      "outputs": []
    },
    {
      "cell_type": "markdown",
      "source": [
        "4. `planes` — Información de los aviones"
      ],
      "metadata": {
        "id": "8x5gbuovvUZM"
      }
    },
    {
      "cell_type": "code",
      "source": [
        "glimpse(planes)"
      ],
      "metadata": {
        "id": "U5MUQ3EivVh0"
      },
      "execution_count": null,
      "outputs": []
    },
    {
      "cell_type": "markdown",
      "source": [
        "5. `weather` — Condiciones climáticas por hora"
      ],
      "metadata": {
        "id": "dO4hCa0av15_"
      }
    },
    {
      "cell_type": "code",
      "source": [
        "glimpse(weather)"
      ],
      "metadata": {
        "id": "akurOpFjv2v8"
      },
      "execution_count": null,
      "outputs": []
    },
    {
      "cell_type": "markdown",
      "source": [
        "------------------------------------------------------------------------\n",
        "\n",
        "**Relaciones clave**\n",
        "\n",
        "Lo veremos en detalle más adelante:\n",
        "\n",
        "-   `flights$carrier` → `airlines$carrier`\n",
        "-   `flights$tailnum` → `planes$tailnum`\n",
        "-   `flights$origin`, `flights$dest` → `airports$faa`\n",
        "-   `flights$origin` + `flights$time_hour` → `weather`\n",
        "\n",
        "## Verbos en Dplyr:\n",
        "\n",
        "Los verbos de `dplyr` permiten transformar datos de forma clara y estructurada.\n",
        "\n",
        "Su sintaxis es intuitiva y permite encadenar operaciones paso a paso usando el operador `%>%`.\n",
        "\n",
        "Los verbos de `dplyr` siguen una estructura muy regular:\n",
        "\n",
        "``` r\n",
        "datos %>% verbo(argumentos)\n",
        "```\n",
        "-   `datos`: es el conjunto de datos original (por ejemplo, `flights`)\n",
        "-   `%>%`: se lee como \"entonces\", conecta pasos secuenciales\n",
        "-   `verbo()`: es la función como `filter()`, `select()`, etc.\n",
        "-   `argumentos`: lo que queremos hacer (condiciones, columnas, cálculos)\n",
        "\n",
        "**El operador `%>%` – Pipe (tubo en español) del tidyverse (importancia de que sea gramático)**\n",
        "\n",
        "El operador `%>%` (pipe) proviene del paquete `magrittr`, que forma parte del `tidyverse`.  \n",
        "Se usa para **encadenar funciones**, permitiendo escribir código más limpio y legible.\n",
        "\n",
        "| Plataforma  | Atajo de teclado       |\n",
        "| ----------- | ---------------------- |\n",
        "| **Windows** | `Ctrl` + `Shift` + `M` |\n",
        "| **macOS**   | `Cmd` + `Shift` + `M`  |\n",
        "| **Linux**   | `Ctrl` + `Shift` + `M` |\n",
        "\n",
        "\n",
        "**¿Cómo se lee?**\n",
        "\n",
        "> **“y luego”**.  \n",
        "> Por ejemplo: *Toma los datos y luego filtra y luego resume*.\n",
        "\n",
        "---\n",
        "\n",
        "### Comparación:\n",
        "\n",
        "Si por ejemplo, queremos agrupar los vuelos por aeropuerto de origen (origin) y calcula el retraso promedio en la salida (dep_delay) para cada uno de ellos (aeropuertos), asegurándonos de ignorar los valores perdidos (NA) en el cálculo de la media:\n",
        "\n"
      ],
      "metadata": {
        "id": "OXKUi4UjwPpv"
      }
    },
    {
      "cell_type": "markdown",
      "source": [
        "**Sin pipe (forma tradicional):**"
      ],
      "metadata": {
        "id": "9tjjJcXTwuEn"
      }
    },
    {
      "cell_type": "code",
      "source": [
        "summarise(group_by(flights, origin), promedio = mean(dep_delay, na.rm = TRUE))"
      ],
      "metadata": {
        "id": "rN3Sa5sUvX9N"
      },
      "execution_count": null,
      "outputs": []
    },
    {
      "cell_type": "markdown",
      "source": [
        "**Con pipe (%>%):**"
      ],
      "metadata": {
        "id": "h6bj7PYGw0Lw"
      }
    },
    {
      "cell_type": "code",
      "source": [
        "flights %>%\n",
        "  group_by(origin) %>%\n",
        "  summarise(promedio = mean(dep_delay, na.rm = TRUE))"
      ],
      "metadata": {
        "id": "-jFjigkQw0yG"
      },
      "execution_count": null,
      "outputs": []
    },
    {
      "cell_type": "markdown",
      "source": [
        "---\n",
        "\n",
        "**Estructura del pipe:**\n",
        "\n",
        "```r\n",
        "objeto %>%\n",
        "  funcion(argumentos)\n",
        "```\n",
        "\n",
        "Equivale a:\n",
        "\n",
        "```r\n",
        "funcion(objeto, argumentos)\n",
        "```\n",
        "\n",
        "Se puede seguir encadenando:\n",
        "\n",
        "```r\n",
        "datos %>%\n",
        "  paso_1() %>%\n",
        "  paso_2() %>%\n",
        "  paso_3()\n",
        "```\n",
        "\n",
        "---\n",
        "\n",
        "**Es importante:**\n",
        "\n",
        "- Colocar `%>%` al final de la línea.\n",
        "- Mejora la lectura especialmente en cadenas largas de transformación.\n",
        "- No es necesario crear variables intermedias, lo que se traduce en ahorro en RAM\n",
        "\n",
        "**Los argumentos del los verbos:**\n",
        "\n",
        "-   Se separan por **comas**, no por `=`\n",
        "-   En `mutate()` y `summarise()` se crean nuevas variables con `nombre = cálculo`\n",
        "\n",
        "------------------------------------------------------------------------\n"
      ],
      "metadata": {
        "id": "4ziGbCXmxCqT"
      }
    },
    {
      "cell_type": "markdown",
      "source": [
        "### 1. `filter()` – Filtrar filas\n",
        "\n",
        "`filter()` selecciona **filas que cumplen condiciones** lógicas.\n",
        "\n",
        "- Supongamos que queremos ver todos los vuelos del 1 de enero"
      ],
      "metadata": {
        "id": "4w4K2reJxOnM"
      }
    },
    {
      "cell_type": "code",
      "source": [
        "filter(flights, month == 1, day == 1)"
      ],
      "metadata": {
        "collapsed": true,
        "id": "gQ-LZrweyjiG"
      },
      "execution_count": null,
      "outputs": []
    },
    {
      "cell_type": "markdown",
      "source": [
        "- Y si queremos ver todos los vuelos del 25 de diciembre"
      ],
      "metadata": {
        "id": "2n49DNU9yxUM"
      }
    },
    {
      "cell_type": "code",
      "source": [
        "filter(flights,month==12,day==25)"
      ],
      "metadata": {
        "collapsed": true,
        "id": "Uy3IHZGTyzWS"
      },
      "execution_count": null,
      "outputs": []
    },
    {
      "cell_type": "markdown",
      "source": [
        "Esto crea un nuevo conjunto de datos, pero **no se guarda**, además, **NO** se modifica el conjunto de datos original.\n",
        "\n",
        "Para guardarlo, por ejemplo los vuelos en navidad:"
      ],
      "metadata": {
        "id": "NdAj25USzAMX"
      }
    },
    {
      "cell_type": "code",
      "source": [
        "vuelos_navidad <- filter(flights, month == 12, day == 25)"
      ],
      "metadata": {
        "id": "Dvsh8jS9zFWZ"
      },
      "execution_count": null,
      "outputs": []
    },
    {
      "cell_type": "markdown",
      "source": [
        "¿Qué pasa si encerramos toda la línea anterior en paréntesis?"
      ],
      "metadata": {
        "id": "5mevq3WwzaVe"
      }
    },
    {
      "cell_type": "code",
      "source": [
        "(vuelos_navidad <- filter(flights, month == 12, day == 25))"
      ],
      "metadata": {
        "collapsed": true,
        "id": "rxV-R7V0zbVB"
      },
      "execution_count": null,
      "outputs": []
    },
    {
      "cell_type": "markdown",
      "source": [
        "La condición que acabamos de utilizar era un *Y*, si quisiéramos un *ó*, es decir, si queremos saber los vuelos del 1 de enero *ó* del 25 de diciembre"
      ],
      "metadata": {
        "id": "2XgJc1dozjJ0"
      }
    },
    {
      "cell_type": "code",
      "source": [
        "filter(flights,(day==1 & month==1)|(day==25 & month==12))"
      ],
      "metadata": {
        "collapsed": true,
        "id": "IDbvlcXvzsP3"
      },
      "execution_count": null,
      "outputs": []
    },
    {
      "cell_type": "markdown",
      "source": [
        "Si queremos, por ejemplo, ver el registro de vuelos con más de 100 minutos de retraso en la llegada"
      ],
      "metadata": {
        "id": "lQyfwAHB0Jdl"
      }
    },
    {
      "cell_type": "code",
      "source": [
        "filter(flights,arr_delay > 100)"
      ],
      "metadata": {
        "id": "yOAwmpKW0QVd",
        "collapsed": true
      },
      "execution_count": null,
      "outputs": []
    },
    {
      "cell_type": "markdown",
      "source": [
        "Vuelos que llegaron temprano o sin retraso (con 0 o menos minutos)"
      ],
      "metadata": {
        "id": "6BOPb6Er0gVQ"
      }
    },
    {
      "cell_type": "code",
      "source": [
        "flights %>%\n",
        "  filter(arr_delay<= 0)"
      ],
      "metadata": {
        "collapsed": true,
        "id": "6cwlmMhA0hNn"
      },
      "execution_count": null,
      "outputs": []
    },
    {
      "cell_type": "markdown",
      "source": [
        "Si nos preguntamos cuáles son los valores únicos de aeropuertos de salida y de llegada?"
      ],
      "metadata": {
        "id": "xDTF-1381402"
      }
    },
    {
      "cell_type": "code",
      "source": [
        "names(flights)\n",
        "#??distinct\n",
        "distinct(flights,origin)\n",
        "distinct(flights,dest)"
      ],
      "metadata": {
        "collapsed": true,
        "id": "GQenhTO414jF"
      },
      "execution_count": null,
      "outputs": []
    },
    {
      "cell_type": "code",
      "source": [
        "# Si usamos la base de R utilizaríamos\n",
        "unique(flights$origin)\n"
      ],
      "metadata": {
        "id": "uwYrj-mt8lBk"
      },
      "execution_count": null,
      "outputs": []
    },
    {
      "cell_type": "markdown",
      "source": [
        "Vuelos que salieron desde JFK o LGA"
      ],
      "metadata": {
        "id": "Bgqpgds19acO"
      }
    },
    {
      "cell_type": "code",
      "source": [
        "flights%>%\n",
        "  filter((origin==\"JFK\")|(origin==\"LGA\"))"
      ],
      "metadata": {
        "collapsed": true,
        "id": "jMDtXyma9bQJ"
      },
      "execution_count": null,
      "outputs": []
    },
    {
      "cell_type": "markdown",
      "source": [
        "Otra manera de hacerlo, utilizando %in%"
      ],
      "metadata": {
        "id": "wjBwWkcl92Zs"
      }
    },
    {
      "cell_type": "code",
      "source": [
        "flights%>%\n",
        "  filter(origin %in% c(\"JFK\",\"LGA\"))"
      ],
      "metadata": {
        "collapsed": true,
        "id": "_ibsFu5O9uus"
      },
      "execution_count": null,
      "outputs": []
    },
    {
      "cell_type": "markdown",
      "source": [
        "Cuando usamos filter() o cualquier otro filtro, podemos combinar condiciones con operadores como & (y), | (o), <, >, ==, !=, <=, >= y %in%.\n",
        "\n",
        "Esto permite construir filtros muy potentes y específicos para quedarse solo con los datos que necesitamos."
      ],
      "metadata": {
        "id": "O5P0JTy5-NHa"
      }
    },
    {
      "cell_type": "markdown",
      "source": [
        "## Ejercicios (Filter)"
      ],
      "metadata": {
        "id": "SvWeddOH-Ocy"
      }
    },
    {
      "cell_type": "markdown",
      "source": [
        "1. Vuelos con retraso de llegada de 2 horas o más"
      ],
      "metadata": {
        "id": "7C9qhAGD-XPh"
      }
    },
    {
      "cell_type": "code",
      "source": [
        "flights%>%\n",
        "  filter(arr_delay>=120)"
      ],
      "metadata": {
        "collapsed": true,
        "id": "bRPp5paL-Zv1"
      },
      "execution_count": null,
      "outputs": []
    },
    {
      "cell_type": "markdown",
      "source": [
        "2. Vuelos con destino a Houston (IAH o HOU)"
      ],
      "metadata": {
        "id": "6tNnuE3Q_VNn"
      }
    },
    {
      "cell_type": "code",
      "source": [
        "flights%>%\n",
        "  filter(dest %in% c(\"IAH\",\"HOU\"))"
      ],
      "metadata": {
        "collapsed": true,
        "id": "CENQO6b0_Wt7"
      },
      "execution_count": null,
      "outputs": []
    },
    {
      "cell_type": "markdown",
      "source": [
        "3. Vuelos operados por United, American o Delta"
      ],
      "metadata": {
        "id": "QYDkqtmh_s3m"
      }
    },
    {
      "cell_type": "code",
      "source": [
        "flights %>%\n",
        "  filter(carrier %in% c(\"UA\", \"AA\", \"DL\"))"
      ],
      "metadata": {
        "collapsed": true,
        "id": "YYeqeQCS_wBf"
      },
      "execution_count": null,
      "outputs": []
    },
    {
      "cell_type": "markdown",
      "source": [
        "4. Vuelos que partieron en invierno del hemisferio sur (julio, agosto y septiembre)"
      ],
      "metadata": {
        "id": "j0MES5we__9M"
      }
    },
    {
      "cell_type": "code",
      "source": [
        "flights %>%\n",
        "  filter(month %in% c(7, 8, 9))\n",
        "#filter(flights, month %in% 7:9)"
      ],
      "metadata": {
        "collapsed": true,
        "id": "_FAJ-0D3_76i"
      },
      "execution_count": null,
      "outputs": []
    },
    {
      "cell_type": "markdown",
      "source": [
        "5. Vuelos que llegaron más de 2 horas tarde pero no salieron tarde"
      ],
      "metadata": {
        "id": "HI4L7qDXAU1i"
      }
    },
    {
      "cell_type": "code",
      "source": [
        "flights %>%\n",
        "  filter(arr_delay > 120, dep_delay <= 0)"
      ],
      "metadata": {
        "collapsed": true,
        "id": "YsQO69y5AWT5"
      },
      "execution_count": null,
      "outputs": []
    },
    {
      "cell_type": "markdown",
      "source": [
        "6. Vuelos que se retrasaron al menos una hora, pero recuperaron más de 30 minutos mientras volaban (diferencia entre partida y llegada)\n"
      ],
      "metadata": {
        "id": "4aLw4LmbAdX-"
      }
    },
    {
      "cell_type": "code",
      "source": [
        "flights %>%\n",
        "  filter(dep_delay >= 60, (dep_delay - arr_delay) > 30)"
      ],
      "metadata": {
        "collapsed": true,
        "id": "ysn0jpSlAqPD"
      },
      "execution_count": null,
      "outputs": []
    },
    {
      "cell_type": "markdown",
      "source": [
        "7. Crear una variable llamada vuelos_madrugada con los vuelos que partieron entre medianoche y las 6:00 a.m. (incluyente)"
      ],
      "metadata": {
        "id": "VMtfGr8XB7JQ"
      }
    },
    {
      "cell_type": "code",
      "source": [
        "(vuelos_madrugada <- flights %>%\n",
        "  filter(dep_time >= 0, dep_time <= 600))"
      ],
      "metadata": {
        "collapsed": true,
        "id": "9CLWVrWKA40j"
      },
      "execution_count": null,
      "outputs": []
    },
    {
      "cell_type": "markdown",
      "source": [
        "Cada uno de estos filtros permite construir subconjuntos del dataset original para hacer análisis más específicos y enfocados. También podemos almacenar los resultados en un objeto para reutilizarlos más adelante (como en el caso de la creación de vuelos_madrugada).\n",
        "\n",
        "8. Uso de `between()` para simplificar filtros:\n",
        "\n",
        "La función `between(x, a, b)` comprueba si los valores de `x` están entre `a` y `b` (ambos inclusive). Reemplaza expresiones como `x >= a & x <= b`, haciéndolas más legibles. Así, si repetimos el ejercicio de los vuelos de julio, agosto y septiembre, tendríamos:"
      ],
      "metadata": {
        "id": "iwfMLeCgCKyi"
      }
    },
    {
      "cell_type": "code",
      "source": [
        "flights%>%\n",
        "  filter(between(month,7,9))"
      ],
      "metadata": {
        "collapsed": true,
        "id": "e0nszamyAx32"
      },
      "execution_count": null,
      "outputs": []
    },
    {
      "cell_type": "markdown",
      "source": [
        "9. Valores faltantes en los datos\n",
        "\n",
        "¿Cuántos vuelos tienen `dep_time` faltante?\n"
      ],
      "metadata": {
        "id": "YeAPFJpKCwpk"
      }
    },
    {
      "cell_type": "code",
      "source": [
        "sum(is.na(flights$dep_time)) #usamos primero la función is.na, y luego sumamos los TRUEs"
      ],
      "metadata": {
        "id": "EJJC3yZcCs3g"
      },
      "execution_count": null,
      "outputs": []
    },
    {
      "cell_type": "markdown",
      "source": [
        "¿Qué variables tienen valores faltantes?"
      ],
      "metadata": {
        "id": "llRyO4x6DA2S"
      }
    },
    {
      "cell_type": "code",
      "source": [
        "colSums(is.na(flights))\n"
      ],
      "metadata": {
        "id": "ufJXXsj5C9c7"
      },
      "execution_count": null,
      "outputs": []
    },
    {
      "cell_type": "code",
      "source": [
        "#map_dbl(...)\n",
        "#Esta función pertenece al paquete purrr (parte del tidyverse).\n",
        "#Aplica una función a cada columna (en este caso, a cada columna de flights) y devuelve un vector numérico.\n",
        "#El sufijo _dbl indica que el resultado esperado para cada columna es un número (tipo double), no una lista ni otro tipo de vector.\n",
        "map_dbl(flights, ~ sum(is.na(.x)))"
      ],
      "metadata": {
        "id": "yLH4CtEUvBZW"
      },
      "execution_count": null,
      "outputs": []
    },
    {
      "cell_type": "markdown",
      "source": [
        "Las filas con datos faltantes generalmente corresponden a **vuelos cancelados**.\n",
        "\n",
        "¿Por qué ciertas operaciones con `NA` no devuelven `NA`?\n",
        "\n",
        "\n",
        "\n"
      ],
      "metadata": {
        "id": "WeaTuUofDKcs"
      }
    },
    {
      "cell_type": "code",
      "source": [
        "NA ^ 0       # [1] 1\n",
        "NA | TRUE    # [1] TRUE\n",
        "FALSE & NA   # [1] FALSE\n",
        "NA * 0       # [1] NA"
      ],
      "metadata": {
        "id": "mpo0cafYIS_w"
      },
      "execution_count": null,
      "outputs": []
    },
    {
      "cell_type": "markdown",
      "source": [
        "Sea x la edad de María. No sabemos qué edad tiene.\n",
        "\n",
        "Sea y la edad de Juan. No sabemos qué edad tiene.\n",
        "\n",
        "¿Tienen Juan y María la misma edad?"
      ],
      "metadata": {
        "id": "4AJN_8PRJCVl"
      }
    },
    {
      "cell_type": "code",
      "source": [
        "x <- NA\n",
        "y <- NA\n",
        "x==y"
      ],
      "metadata": {
        "id": "6gO8gmYWJCmp"
      },
      "execution_count": null,
      "outputs": []
    },
    {
      "cell_type": "markdown",
      "source": [
        "Explicación:\n",
        "\n",
        "| Expresión       | Resultado | Justificación                                                                 |\n",
        "|----------------|-----------|--------------------------------------------------------------------------------|\n",
        "| `NA ^ 0`        | `1`       | Cualquier número (incluso desconocido) elevado a 0 es 1                        |\n",
        "| `NA | TRUE`     | `TRUE`    | `OR` lógico: si una parte es `TRUE`, el resultado es `TRUE`                   |\n",
        "| `FALSE & NA`    | `FALSE`   | `AND` lógico: si una parte es `FALSE`, ya no importa la otra                  |\n",
        "| `NA * 0`        | `NA`      | Multiplicación: si uno es `NA`, el resultado es desconocido                   |\n",
        "\n",
        "**En general:**\n",
        "\n",
        "- Si el resultado puede determinarse sin conocer el valor faltante, **no devuelve `NA`**.\n",
        "- Si depende del valor faltante, **sí devuelve `NA`**.\n",
        "\n",
        "\n",
        "\n",
        "### 2. `arrange()` – Ordenar filas\n",
        "\n",
        "`arrange()` **ordena** las filas por una o más variables.\n",
        "\n",
        "Ahora, si queremos ordenar los vuelos por retraso en llegada de menor a mayor:"
      ],
      "metadata": {
        "id": "4cjlDsF0Is6L"
      }
    },
    {
      "cell_type": "code",
      "source": [
        "arrange(flights, arr_delay)"
      ],
      "metadata": {
        "collapsed": true,
        "id": "daOYcTKMDuSg"
      },
      "execution_count": null,
      "outputs": []
    },
    {
      "cell_type": "markdown",
      "source": [
        "\n",
        "Y si lo necesitamos de mayor a menor:"
      ],
      "metadata": {
        "id": "e1tfA_spD4en"
      }
    },
    {
      "cell_type": "code",
      "source": [
        "arrange(flights, desc(arr_delay))"
      ],
      "metadata": {
        "collapsed": true,
        "id": "2RdHcZSBDz7f"
      },
      "execution_count": null,
      "outputs": []
    },
    {
      "cell_type": "markdown",
      "source": [
        "También podemos ordenar teniendo en cuenta varias columnas a la vez:"
      ],
      "metadata": {
        "id": "t_DQR-0WEAhz"
      }
    },
    {
      "cell_type": "code",
      "source": [
        "arrange(flights,\n",
        "        year, month, day)"
      ],
      "metadata": {
        "collapsed": true,
        "id": "GjzjMekuD7JQ"
      },
      "execution_count": null,
      "outputs": []
    },
    {
      "cell_type": "markdown",
      "source": [
        "## Ejercicios 2 con la función `arrange()`\n",
        "\n",
        "1. Ordenar vuelos colocando primero los valores faltantes"
      ],
      "metadata": {
        "id": "vqNCY87lELCl"
      }
    },
    {
      "cell_type": "code",
      "source": [
        "flights %>%\n",
        "  arrange(desc(is.na(dep_time)))"
      ],
      "metadata": {
        "collapsed": true,
        "id": "Z1z6epqWAs2N"
      },
      "execution_count": null,
      "outputs": []
    },
    {
      "cell_type": "markdown",
      "source": [
        "2. Vuelos más retrasados en salida (mayor `dep_delay`)."
      ],
      "metadata": {
        "id": "8mN2SjrnEyJQ"
      }
    },
    {
      "cell_type": "code",
      "source": [
        "flights %>%\n",
        "  arrange(desc(dep_delay))"
      ],
      "metadata": {
        "collapsed": true,
        "id": "mADsgnZmEjtZ"
      },
      "execution_count": null,
      "outputs": []
    },
    {
      "cell_type": "markdown",
      "source": [
        "3. Vuelos que salieron más temprano (menor `dep_time`), sin incluir datos faltantes."
      ],
      "metadata": {
        "id": "kix22xgNFCh2"
      }
    },
    {
      "cell_type": "code",
      "source": [
        "flights %>%\n",
        "  filter(!is.na(dep_time)) %>%\n",
        "  arrange(dep_time)"
      ],
      "metadata": {
        "collapsed": true,
        "id": "TggJuSY4Ae_q"
      },
      "execution_count": null,
      "outputs": []
    },
    {
      "cell_type": "markdown",
      "source": [
        "4. Vuelos más rápidos (que viajaron a mayor velocidad (kilómetros / hora)"
      ],
      "metadata": {
        "id": "SjGLRoPrFUnk"
      }
    },
    {
      "cell_type": "code",
      "source": [
        "# Unidades:\n",
        "# Millas a kilómetros (1 milla = 1,60934 kilómetros)\n",
        "# minutos a hora (60 minutos = 1 hora)\n",
        "flights%>%\n",
        "  arrange(desc((distance*1.60394)/(air_time/60)))\n",
        "\n",
        "#Más adelante veremos una manera distinta de hacerlo"
      ],
      "metadata": {
        "collapsed": true,
        "id": "oXB-_kLHAaZo"
      },
      "execution_count": null,
      "outputs": []
    },
    {
      "cell_type": "markdown",
      "source": [
        "5. ¿Cuáles vuelos viajaron más lejos? ¿Cuál viajó más cerca?:\n",
        "\n",
        "\n"
      ],
      "metadata": {
        "id": "5xal1rcsNSUO"
      }
    },
    {
      "cell_type": "code",
      "source": [
        "# Primero  lo que recorrieron mayor distancia (ver google maps entre JFK y HNL)\n",
        "flights%>%\n",
        "  arrange(desc(distance))"
      ],
      "metadata": {
        "collapsed": true,
        "id": "yKhxlab4Ktzd"
      },
      "execution_count": null,
      "outputs": []
    },
    {
      "cell_type": "code",
      "source": [
        "# Primero  lo que recorrieron menor distancia (ver google maps entre EWR y LGA)\n",
        "flights%>%\n",
        "  arrange(distance)"
      ],
      "metadata": {
        "collapsed": true,
        "id": "cj11gb6JP_KG"
      },
      "execution_count": null,
      "outputs": []
    },
    {
      "cell_type": "markdown",
      "source": [
        "Es importante interpreta cada resultado y buscar patrones, por ejemplo, si ciertos destinos suelen ser los más lejanos o si algunas aerolíneas tienen más retrasos sistemáticos.\n"
      ],
      "metadata": {
        "id": "TkNxka9YQBvn"
      }
    },
    {
      "cell_type": "markdown",
      "source": [
        "\n",
        "------------------------------------------------------------------------\n",
        "\n",
        "### 3. `select()` – Seleccionar columnas\n",
        "\n",
        "`select()` permite **elegir columnas específicas** de un conjunto de datos\n",
        "\n",
        "Supongamos que queremos ver solo las columnas `year`, `month`, `day`, `dep_time`, `arr_time`:"
      ],
      "metadata": {
        "id": "esSncbegQ1Ii"
      }
    },
    {
      "cell_type": "code",
      "source": [
        "select(flights, year, month, day, dep_time, arr_time)"
      ],
      "metadata": {
        "collapsed": true,
        "id": "Culwt8CKAI4I"
      },
      "execution_count": null,
      "outputs": []
    },
    {
      "cell_type": "markdown",
      "source": [
        "Supongamos que queremos seleccionar varias columnas seguidas (en un rango), digamos entre dep_time y arr_time"
      ],
      "metadata": {
        "id": "D_t8XY2uRF1P"
      }
    },
    {
      "cell_type": "code",
      "source": [
        "select(flights,dep_time:arr_time)"
      ],
      "metadata": {
        "collapsed": true,
        "id": "J2YTOIKp_lYK"
      },
      "execution_count": null,
      "outputs": []
    },
    {
      "cell_type": "markdown",
      "source": [
        "Si quremos ver lo mismo pero utilizando %>%:"
      ],
      "metadata": {
        "id": "KgVaCoMCRN14"
      }
    },
    {
      "cell_type": "code",
      "source": [
        "flights%>%\n",
        "  select(dep_time:arr_time)"
      ],
      "metadata": {
        "collapsed": true,
        "id": "yWtHl8jA_M45"
      },
      "execution_count": null,
      "outputs": []
    },
    {
      "cell_type": "markdown",
      "source": [
        "Si queremos seleccionar todas las columnas excepto las que están en un rango, digamos todas las que no están entre dep_time y arr_time\n"
      ],
      "metadata": {
        "id": "XUQ0bwIpRg0v"
      }
    },
    {
      "cell_type": "code",
      "source": [
        "select(flights,-(dep_time:arr_time))"
      ],
      "metadata": {
        "collapsed": true,
        "id": "BPy6yTfd-R7E"
      },
      "execution_count": null,
      "outputs": []
    },
    {
      "cell_type": "markdown",
      "source": [
        "**Funciones auxiliares de `select()`**\n",
        "\n",
        "Cuando tenemos muchas columnas, `dplyr` permite seleccionar variables por su nombre usando funciones auxiliares:\n",
        "\n",
        "1. `starts_with(\"texto\")`\n",
        "\n",
        "Selecciona columnas que **comienzan** con una cadena:\n",
        "\n",
        "Por ejemplo, si queremos seleccionar las columnas relacionadas con el despegue \"Departure\""
      ],
      "metadata": {
        "id": "WTWIICQRRxqT"
      }
    },
    {
      "cell_type": "code",
      "source": [
        "select(flights, starts_with(\"dep\"))"
      ],
      "metadata": {
        "collapsed": true,
        "id": "h0qUCVjc9Q70"
      },
      "execution_count": null,
      "outputs": []
    },
    {
      "cell_type": "markdown",
      "source": [
        "2. `ends_with(\"texto\")`\n",
        "\n",
        "Selecciona columnas que **terminan** en una cadena:\n",
        "\n",
        "Por ejemplo, si necesitamos información sobre las columnas relacionadas con el tiempo (time)"
      ],
      "metadata": {
        "id": "G9DxwIVDSEut"
      }
    },
    {
      "cell_type": "code",
      "source": [
        "select(flights, ends_with(\"time\"))"
      ],
      "metadata": {
        "collapsed": true,
        "id": "tkJXs-cw9L60"
      },
      "execution_count": null,
      "outputs": []
    },
    {
      "cell_type": "markdown",
      "source": [
        "3. `contains(\"texto\")`\n",
        "\n",
        "Selecciona columnas que **contienen** una cadena en cualquier parte:\n",
        "\n",
        "Por ejemplo, si necesitamos recolectar información sobre la demora, en general de los vuelos (delay):"
      ],
      "metadata": {
        "id": "J-BAUERuSRB2"
      }
    },
    {
      "cell_type": "code",
      "source": [
        "select(flights, contains(\"delay\"))"
      ],
      "metadata": {
        "collapsed": true,
        "id": "74Xu67UG9FB8"
      },
      "execution_count": null,
      "outputs": []
    },
    {
      "cell_type": "markdown",
      "source": [
        "4. `num_range(\"prefijo\", rango)`\n",
        "\n",
        "Selecciona columnas con nombres secuenciales como `x1`, `x2`, ..., `x5`:\n"
      ],
      "metadata": {
        "id": "7Ppx_LgTSc8_"
      }
    },
    {
      "cell_type": "code",
      "source": [
        "# Creamos un ejemplo artificial\n",
        "#Primero creamos un objeto tipo tibble (pra poder utilizar las funciones)\n",
        "(df <- tibble(x1 = 1:3, x2 = 4:6, x3 = 7:9))\n",
        "select(df, num_range(\"x\", 1:2))"
      ],
      "metadata": {
        "id": "dlWKdpDc1v6C"
      },
      "execution_count": null,
      "outputs": []
    },
    {
      "cell_type": "markdown",
      "source": [
        "**Buenas prácticas**\n",
        "\n",
        "Si se nombran (renombran) las columnas de manera coherente (por ejemplo, `dep_time`, `dep_delay`), se pueden aprovechar estas funciones para seleccionar subconjuntos de columnas fácilmente.\n",
        "\n",
        "## Ejercicios 3 con `select()`\n",
        "\n",
        "1. Seleccionar múltiples formas:\n",
        "\n",
        "Selecciona las variables `dep_time`, `dep_delay`, `arr_time`, `arr_delay` usando distintos métodos:\n"
      ],
      "metadata": {
        "id": "DReVPSGCSoaQ"
      }
    },
    {
      "cell_type": "code",
      "source": [
        "# Por nombre exacto\n",
        "select(flights, dep_time, dep_delay, arr_time, arr_delay)\n"
      ],
      "metadata": {
        "collapsed": true,
        "id": "LgB2_Odk0JIF"
      },
      "execution_count": null,
      "outputs": []
    },
    {
      "cell_type": "code",
      "source": [
        "\n",
        "# Usando rangos\n",
        "select(flights, dep_time:arr_delay)\n"
      ],
      "metadata": {
        "collapsed": true,
        "id": "c9a39GjFw8y_"
      },
      "execution_count": null,
      "outputs": []
    },
    {
      "cell_type": "code",
      "source": [
        "\n",
        "# Usando contains\n",
        "select(flights, contains(\"time\"), contains(\"delay\"))\n"
      ],
      "metadata": {
        "collapsed": true,
        "id": "uzYbEHxHw-oZ"
      },
      "execution_count": null,
      "outputs": []
    },
    {
      "cell_type": "code",
      "source": [
        "# Usando matches\n",
        "# ^ significa el inicio del nombre de la columna.\n",
        "# $ significa el final del nombre de la columna.\n",
        "select(flights, matches(\"^(dep|arr)_(time|delay)$\"))"
      ],
      "metadata": {
        "collapsed": true,
        "id": "TprkE3yexAAB"
      },
      "execution_count": null,
      "outputs": []
    },
    {
      "cell_type": "markdown",
      "source": [
        "La función matches() en R pertenece al paquete dplyr, que forma parte del ecosistema tidyverse. Es una de las funciones auxiliares que se utiliza en conjunto con select() para seleccionar columnas cuyos nombres coincidan con una expresión regular (regex).\n",
        "\n",
        "¿Qué hace matches()?\n",
        "matches() busca coincidencias en los nombres de las variables usando expresiones regulares. Es muy útil cuando tienes columnas con patrones en sus nombres y quieres seleccionarlas sin tener que escribirlas todas de forma manual.\n",
        "\n",
        "2. Variable repetida\n",
        "\n"
      ],
      "metadata": {
        "id": "kJAGE6TyUJ2T"
      }
    },
    {
      "cell_type": "code",
      "source": [
        "select(flights, dep_time, dep_time, dep_time)"
      ],
      "metadata": {
        "collapsed": true,
        "id": "RoQat4b-0DMv"
      },
      "execution_count": null,
      "outputs": []
    },
    {
      "cell_type": "markdown",
      "source": [
        "El resultado solo incluye una vez la columna `dep_time`, no genera error pero ignora repeticiones.\n",
        "3. Uso de `any_of()`\n",
        "\n",
        "La función any() en R no pertenece específicamente a dplyr, sino que es parte del núcleo base de R (base package). Es una función lógica muy útil que se utiliza para evaluar si al menos uno de los elementos de un vector lógico es TRUE.\n",
        "¿Qué hace any()?\n",
        "any() devuelve TRUE si al menos uno de los elementos evaluados es TRUE; de lo contrario, devuelve FALSE."
      ],
      "metadata": {
        "id": "A4KzvWMLU_9E"
      }
    },
    {
      "cell_type": "code",
      "source": [
        "vars <- c(\"anio\", \"mes\", \"dia\", \"dep_delay\", \"arr_delay\")\n",
        "select(flights, any_of(vars))"
      ],
      "metadata": {
        "collapsed": true,
        "id": "lxIadxOgzdvI"
      },
      "execution_count": null,
      "outputs": []
    },
    {
      "cell_type": "markdown",
      "source": [
        "`any_of()` selecciona solo las variables que existen e **ignora silenciosamente** las que no existen.\n",
        "\n",
        "4.  `contains()` y sensibilidad a mayúsculas"
      ],
      "metadata": {
        "id": "iYXqIeCOVc9m"
      }
    },
    {
      "cell_type": "code",
      "source": [
        "select(flights, contains(\"DEST\"))"
      ],
      "metadata": {
        "collapsed": true,
        "id": "vRXhwpD0zIGX"
      },
      "execution_count": null,
      "outputs": []
    },
    {
      "cell_type": "code",
      "source": [
        "select(flights, contains(\"DEST\", ignore.case = FALSE))"
      ],
      "metadata": {
        "id": "09UvVjh5zBP4"
      },
      "execution_count": null,
      "outputs": []
    },
    {
      "cell_type": "code",
      "source": [
        "names(flights)"
      ],
      "metadata": {
        "id": "ryWXejMYy8nd"
      },
      "execution_count": null,
      "outputs": []
    },
    {
      "cell_type": "markdown",
      "source": [
        "### `mutate()` – Crear nuevas variables\n",
        "\n",
        "`mutate()` agrega **nuevas columnas** calculadas a partir de otras.\n",
        "\n",
        "Si queremos calcular la velocidad de cada vuelo (utilizando la misma información que en el ejercicio de ordenamiento de antes::"
      ],
      "metadata": {
        "id": "rJfCpiJ9g4OB"
      }
    },
    {
      "cell_type": "code",
      "source": [
        "mutate(flights, velocidad = distance / (air_time / 60))"
      ],
      "metadata": {
        "collapsed": true,
        "id": "IgZEqYM9ymnJ"
      },
      "execution_count": null,
      "outputs": []
    },
    {
      "cell_type": "markdown",
      "source": [
        "Si queremos calcular la ganancia en tiempo de cada vuelo, es decir, si hay diferencias entre el retraso de despegue y de aterrizaje, a la vez que calculamos la ganancia por hora en vez de minutos:\n",
        "\n",
        "Podemos ir anidando varias sentencias a la vez:"
      ],
      "metadata": {
        "id": "x_vLN5MqhaZc"
      }
    },
    {
      "cell_type": "code",
      "source": [
        "mutate(flights,\n",
        "       velocidad = distance / (air_time / 60),\n",
        "       ganancia = dep_delay - arr_delay,\n",
        "       ganancia_por_hora = ganancia / 60)"
      ],
      "metadata": {
        "collapsed": true,
        "id": "SZtHvoLfhiJP"
      },
      "execution_count": null,
      "outputs": []
    },
    {
      "cell_type": "markdown",
      "source": [
        "**Otras funciones útiles en `dplyr` relacionadas con Mutate:**\n",
        "\n",
        "Aparte de `mutate()`, existen funciones que permiten realizar transformaciones más específicas sobre los datos. Veamos algunas de las más útiles:\n",
        "\n",
        "1. `transmute()`\n",
        "\n",
        "Es como `mutate()`, pero **solo conserva las variables nuevas** que se crean, descartando todas las demás.\n",
        "\n",
        "Por ejemplo, si sólo necesitamos calcular velocidad, debido a que no necesitamos el resto de información, (descartamos el resto):\n"
      ],
      "metadata": {
        "id": "xbox5gEFhudA"
      }
    },
    {
      "cell_type": "code",
      "source": [
        "(velocidad<-transmute(flights, velocidad = distance / (air_time / 60)))"
      ],
      "metadata": {
        "id": "7beuCi8Ih3CL",
        "collapsed": true
      },
      "execution_count": null,
      "outputs": []
    },
    {
      "cell_type": "markdown",
      "source": [
        "\n",
        "2. `lag()` y `lead()`\n",
        "\n",
        "Permiten acceder al **valor anterior (`lag`) o posterior (`lead`)** de una variable. Útiles para comparar observaciones secuenciales (normalmente útiles en análisis de series temporales).\n",
        "\n",
        "\n"
      ],
      "metadata": {
        "id": "UlaeoYVdhuV8"
      }
    },
    {
      "cell_type": "code",
      "source": [
        "(x <- 1:10)\n",
        "\n",
        "lag(x)\n",
        "\n",
        "lead(x)\n"
      ],
      "metadata": {
        "id": "-9wq1QsW-Yv0"
      },
      "execution_count": null,
      "outputs": []
    },
    {
      "cell_type": "markdown",
      "source": [
        "Por ejemplo, si queremos analizar el retraso en la llegada respecto al vuelo anterior/siguiente:"
      ],
      "metadata": {
        "id": "SOIpWklB-ZQp"
      }
    },
    {
      "cell_type": "code",
      "source": [
        "flights %>%\n",
        "  arrange(year, month, day, sched_dep_time) %>%  # orden temporal\n",
        "  select(year, month, day, sched_dep_time, arr_delay) %>%\n",
        "  mutate(\n",
        "    retraso_actual = arr_delay,\n",
        "    retraso_anterior = lag(arr_delay),\n",
        "    retraso_siguiente = lead(arr_delay)\n",
        "  )%>%View()"
      ],
      "metadata": {
        "collapsed": true,
        "id": "TRntuOEWmuRA"
      },
      "execution_count": null,
      "outputs": []
    },
    {
      "cell_type": "markdown",
      "source": [
        "3. Funciones de acumulación: `cumsum()` y `cummean()`\n",
        "\n",
        "- `cumsum()`: suma acumulada\n",
        "- `cummean()`: media acumulada\n",
        "\n",
        "\n",
        "\n",
        "Tener en cuenta que tenemos que manejar los **na**, ya que muchas funciones estadísticas como mean(), sum(), min(), max() y similares, generan errores con los valores perdidos.\n",
        "Esto se puede manejar de muchas formas (lo veremos en detalle en el módulo II).\n",
        "Por ahora, con la función replace_na(), que proviene del paquete tidyr (parte del tidyverse), que sirve para reemplazar los valores faltantes (NA) en una columna o dataframe con un valor eligido, o también, puede usarse na.rm = TRUE, cuando queramos calcular una estadística ignorando los NA, sin modificar los datos originales:\n"
      ],
      "metadata": {
        "id": "SizMY6CEnFdo"
      }
    },
    {
      "cell_type": "code",
      "source": [
        "x  #usando el x de arriba\n",
        "\n",
        "cumsum(x)\n",
        "\n",
        "cummean(x)\n"
      ],
      "metadata": {
        "id": "6GpA2Evt-ldB"
      },
      "execution_count": null,
      "outputs": []
    },
    {
      "cell_type": "markdown",
      "source": [
        "Por ejemplo, si queremos calcular el tiempo total  y el tiempo promedio acumulado del retraso en la llegada de los vuelos:"
      ],
      "metadata": {
        "id": "NYFkXXCC-q8J"
      }
    },
    {
      "cell_type": "code",
      "source": [
        "flights %>%\n",
        "  arrange(arr_delay) %>%\n",
        "  select(arr_delay) %>%\n",
        "  mutate(\n",
        "    suma_acumulada = cumsum(replace_na(arr_delay, 0)),\n",
        "    media_acumulada = cummean(replace_na(arr_delay, 0))\n",
        "  )%>%View()"
      ],
      "metadata": {
        "collapsed": true,
        "id": "AA78VJd_okhs"
      },
      "execution_count": null,
      "outputs": []
    },
    {
      "cell_type": "markdown",
      "source": [
        "ifelse(is.na(arr_delay), 0, arr_delay)\n",
        "Reemplaza los NA por 0, similar a replace_na(), pero sin usar tidyr.\n",
        "No se pueden simplemente ignorar los NA en funciones como cumsum() o cummean() porque estas funciones no aceptan el argumento na.rm = TRUE, y por defecto propagan los NA.\n",
        "Es decir, en cuanto aparece un NA, todo lo que viene después también se convierte en NA.\n",
        "Esto es porque cumsum() asume que no sabe cuánto sumar si uno de los valores falta."
      ],
      "metadata": {
        "id": "1NOLHV9goj-L"
      }
    },
    {
      "cell_type": "code",
      "source": [
        "flights %>%\n",
        "  arrange(arr_delay) %>%\n",
        "  select(arr_delay) %>%\n",
        "  mutate(\n",
        "    suma_acumulada = cumsum(ifelse(is.na(arr_delay), 0, arr_delay)),\n",
        "    media_acumulada = cummean(ifelse(is.na(arr_delay), 0, arr_delay))\n",
        "  )"
      ],
      "metadata": {
        "collapsed": true,
        "id": "z7A2sz35o_8s"
      },
      "execution_count": null,
      "outputs": []
    },
    {
      "cell_type": "markdown",
      "source": [
        "\n",
        "Si eliminamos los NAs antes del cálculo:"
      ],
      "metadata": {
        "id": "Ayi45OW1pfPN"
      }
    },
    {
      "cell_type": "code",
      "source": [
        "flights %>%\n",
        "  filter(!is.na(arr_delay)) %>%\n",
        "  arrange(arr_delay) %>%\n",
        "  select(arr_delay) %>%\n",
        "  mutate(\n",
        "    suma_acumulada = cumsum(arr_delay),\n",
        "    media_acumulada = cummean(arr_delay)\n",
        "  )"
      ],
      "metadata": {
        "collapsed": true,
        "id": "ggrXHJt5pgNu"
      },
      "execution_count": null,
      "outputs": []
    },
    {
      "cell_type": "markdown",
      "source": [
        "## Ejercicios 4 con `mutate()`\n",
        "\n",
        "1. Convertir dep_time y sched_dep_time en minutos desde medianoche"
      ],
      "metadata": {
        "id": "-ETfwPM7pusW"
      }
    },
    {
      "cell_type": "code",
      "source": [
        "#Este cálculo convierte la hora de salida (dep_time), que está en formato HHMM (por ejemplo, 745 para 7:45am o 1542 para 3:42pm), a minutos desde la medianoche.\n",
        "# El operador %/% en R realiza división entera.\n",
        "#dep_time %/% 100: obtiene las horas completas. Ejemplo: 745 %/% 100 = 7.\n",
        "#(dep_time %% 100): obtiene los minutos restantes. Ejemplo: 745 %% 100 = 45.\n",
        "#Multiplicamos las horas por 60 y sumamos los minutos para obtener los minutos totales desde medianoche.\n",
        "\n",
        "flights %>%\n",
        "  mutate(\n",
        "    salida_min = (dep_time %/% 100) * 60 + (dep_time %% 100),\n",
        "    salida_prog_min = (sched_dep_time %/% 100) * 60 + (sched_dep_time %% 100)\n",
        "  ) %>%\n",
        "  select(dep_time, sched_dep_time, salida_min, salida_prog_min)"
      ],
      "metadata": {
        "collapsed": true,
        "id": "uKcMkLD_qBdG"
      },
      "execution_count": null,
      "outputs": []
    },
    {
      "cell_type": "markdown",
      "source": [
        "2. Comparar tiempo de vuelo (air_time) con horario de llegada - horario de salida (arr_time - dep_time)"
      ],
      "metadata": {
        "id": "qAZAyy1OriPO"
      }
    },
    {
      "cell_type": "code",
      "source": [
        "flights %>%\n",
        "  filter(!is.na(arr_time), !is.na(dep_time)) %>%\n",
        "  mutate(\n",
        "    tiempo_calculado = (arr_time %/% 100) * 60 + (arr_time %% 100) - ((dep_time %/% 100) * 60 + (dep_time %% 100)),\n",
        "    diferencia = air_time - tiempo_calculado\n",
        "  ) %>%\n",
        "  select(day, month,dep_time, arr_time, air_time, tiempo_calculado, diferencia)%>%View()\n",
        "\n",
        "# Este código funciona bien, si los vuelos llegan el mismo día, de lo contrario, podemos ver que nos da valores negativos, por lo tanto:\n",
        "# Ajustamos el cálculo para sumar 24 horas (1440 minutos) cuando la hora de llegada es anterior a la de salida.\n",
        "# Esto se logra con un condicional simple dentro de mutate():\n",
        "flights %>%\n",
        "  filter(!is.na(arr_time), !is.na(dep_time)) %>%\n",
        "  mutate(\n",
        "    dep_mins = (dep_time %/% 100) * 60 + (dep_time %% 100),\n",
        "    arr_mins = (arr_time %/% 100) * 60 + (arr_time %% 100),\n",
        "    tiempo_calculado = if_else(arr_mins >= dep_mins,\n",
        "                               arr_mins - dep_mins,\n",
        "                               (arr_mins + 1440) - dep_mins),\n",
        "    diferencia = air_time - tiempo_calculado\n",
        "  ) %>%\n",
        "  select(day, month, dep_time, arr_time, air_time, tiempo_calculado, diferencia) %>%\n",
        "  View()"
      ],
      "metadata": {
        "collapsed": true,
        "id": "fWlWQTVvrqI9"
      },
      "execution_count": null,
      "outputs": []
    },
    {
      "cell_type": "markdown",
      "source": [
        "3. Vuelos más retrasados según min_rank()"
      ],
      "metadata": {
        "id": "Duq5ET1W7sQe"
      }
    },
    {
      "cell_type": "code",
      "source": [
        "flights %>%\n",
        "  filter(!is.na(dep_delay)) %>%\n",
        "  mutate(rango_retraso = min_rank(desc(dep_delay))) %>%\n",
        "  arrange(rango_retraso) %>%\n",
        "  select(dep_delay, rango_retraso) %>%\n",
        "  head(10)\n"
      ],
      "metadata": {
        "collapsed": true,
        "id": "0GOBFnAd7tvE"
      },
      "execution_count": null,
      "outputs": []
    },
    {
      "cell_type": "markdown",
      "source": [
        "4. Funciones trigonométricas de R"
      ],
      "metadata": {
        "id": "o_ebCxti_mrH"
      }
    },
    {
      "cell_type": "code",
      "source": [
        "??sin\n",
        "sin(pi / 2)\n",
        "cos(0)\n",
        "tan(pi / 4)\n"
      ],
      "metadata": {
        "collapsed": true,
        "id": "UES45EV46Ox6"
      },
      "execution_count": null,
      "outputs": []
    },
    {
      "cell_type": "markdown",
      "source": [
        "También incluye `asin()`, `acos()`, `atan()`, `sinh()`, `cosh()`, `tanh()`, etc.\n",
        "\n",
        "Los ángulos de las funciones tienen que estar en radiantes. R no tiene una función directa para esto."
      ],
      "metadata": {
        "id": "3F3HeIED_t7P"
      }
    },
    {
      "cell_type": "code",
      "source": [
        "deg2rad <- function(x) x * pi / 180\n",
        "sin(deg2rad(90))"
      ],
      "metadata": {
        "id": "gc0-zQ-IAGt6"
      },
      "execution_count": null,
      "outputs": []
    },
    {
      "cell_type": "markdown",
      "source": [
        "## `min_rank()` y `row_number()`\n",
        "\n",
        "Permiten asignar **rangos** según el valor de una variable.\n",
        "\n",
        "- `min_rank()`: asigna el mismo rango a empates\n",
        "- `row_number()`: asigna rangos sin empates (rompe empates arbitrariamente)\n",
        "\n",
        "Por ejemplo, si queremos crear un ranking de vuelos según retraso en llegada"
      ],
      "metadata": {
        "id": "vMjYcJH0A-gA"
      }
    },
    {
      "cell_type": "code",
      "source": [
        "flights %>%\n",
        "  filter(!is.na(arr_delay)) %>%\n",
        "  mutate(\n",
        "    rango = min_rank(desc(arr_delay)),\n",
        "    #ordena los retrasos de mayor a menor y asigna un rango numérico:\n",
        "    #el más alto retraso recibe el número 1, el segundo más alto el 2, etc.\n",
        "    numero_fila = row_number(desc(arr_delay))\n",
        "    #también ordena de mayor a menor y asigna un número consecutivo a cada\n",
        "    # fila en ese orden, sin repetir números (aunque haya empates).\n",
        "  ) %>%\n",
        "  select(arr_delay, rango, numero_fila)\n",
        "  #Muestra solo las tres columnas: el retraso (arr_delay), su rango (rango)\n",
        "  # y su número de fila (numero_fila) en el orden descendente."
      ],
      "metadata": {
        "collapsed": true,
        "id": "D9BEF1746ic2"
      },
      "execution_count": null,
      "outputs": []
    },
    {
      "cell_type": "markdown",
      "source": [
        "**A tener en cuenta:**\n",
        "\n",
        "- Estas funciones deben usarse **dentro de `mutate()` o `transmute()`**.\n",
        "- `lag()` y `lead()` son ideales para detectar tendencias o diferencias entre registros.\n",
        "- Las funciones acumuladas (`cumsum`, `cummean`) requieren orden si se desea análisis temporal.\n",
        "- `min_rank` es más justo cuando hay empates que `row_number`.\n",
        "\n",
        "------------------------------------\n",
        "## FILTROS Y MUTATES AGRUPADOS\n",
        "\n",
        "Para verlo mejor en el dataset de fligths, utilizamos una data ficticia:\n",
        "\n",
        "Estamos formando dos grupos, A y B, cada uno tiene un valor en una métrica. Si yo quisiera aplicar un filtro, el filtro se aplicaría sobre toda la columna de métrica, la idea del **group_by** es que las operaciones que se hagan en el **mutate** o en el **filtro**, se van a aplicar dentro de los grupos, por ejemplo:\n",
        "\n",
        "Si yo quiero una nueva columna que sea la suma total dentro de los grupos, como se observa a continuación o si lo que quiero es seleccionar la métrica más baja por grupo ¿qué hacemos? (reinicio de rango):\n",
        "\n",
        "| Grupo | Métrica | La Suma | Orden |\n",
        "|-------|---------|---------|-------|\n",
        "| A     | 1       | ?       | ?     |\n",
        "| A     | 3       | ?       | ?     |\n",
        "| A     | 5       | ?       | ?     |\n",
        "| B     | 2       | ?       | ?     |\n",
        "| B     | 4       | ?       | ?     |\n",
        "| B     | 6       | ?       | ?     |\n",
        "\n",
        "\n",
        "creando un nuevo data set con la nueva agrupación\n"
      ],
      "metadata": {
        "id": "XlbTcDxgCrxZ"
      }
    },
    {
      "cell_type": "markdown",
      "source": [
        "| Grupo | Métrica | La Suma | Orden |\n",
        "|-------|---------|---------|-------|\n",
        "| A     | 1       | 9       | 1     |\n",
        "| A     | 3       | 9       | 2     |\n",
        "| A     | 5       | 9       | 3     |\n",
        "| B     | 2       | 12      | 1     |\n",
        "| B     | 4       | 12      | 2     |\n",
        "| B     | 6       | 12      | 3     |\n"
      ],
      "metadata": {
        "id": "KJmFc0yOEHxC"
      }
    },
    {
      "cell_type": "markdown",
      "source": [
        "---\n",
        "\n",
        "En nuestros datos:\n",
        "\n",
        "`summarise()` + `group_by()` – Resumir datos agrupados\n",
        "\n",
        "- `group_by()` agrupa datos por variable(s).\n",
        "- `summarise()` resume cada grupo con funciones como `mean()`, `n()`, etc.\n",
        "\n",
        "**Calculemos el promedio de retraso por aeropuerto de origen:**\n"
      ],
      "metadata": {
        "id": "0JDcs2fZE1kr"
      }
    },
    {
      "cell_type": "code",
      "source": [
        "flights %>%\n",
        "  group_by(origin) %>% #esto no le hace nada al data set, sólo le da la propiedad de estar agrupado\n",
        "  summarise(promedio_retraso = mean(dep_delay, na.rm = TRUE))"
      ],
      "metadata": {
        "id": "eBB2d8u7EYJt"
      },
      "execution_count": null,
      "outputs": []
    },
    {
      "cell_type": "markdown",
      "source": [
        "¿cómo calculo la media de retraso por día (by_day)?, ¿y por mes?"
      ],
      "metadata": {
        "id": "vYZ2_yyjFHs0"
      }
    },
    {
      "cell_type": "code",
      "source": [
        "flights %>%\n",
        "  select(year:day, ends_with(\"delay\"),air_time, distance) %>%\n",
        "  group_by(year, month, day) %>% #agrupa por la fecha\n",
        "  arrange(year, month, day, desc(arr_delay)) %>%  #organiza por fecha y por el delay de llegada descendientemente\n",
        "  mutate(obs_rank=rank(desc(arr_delay))) %>% #crea la variable de ranking\n",
        "  filter(obs_rank<=10) %>% View()#selecciona los 10 tiempos mayores (top 10) (los que más tarde arrivaron)\n",
        "#ver fila 85 (ver filtro)"
      ],
      "metadata": {
        "collapsed": true,
        "id": "5VNpGM_66ipl"
      },
      "execution_count": null,
      "outputs": []
    },
    {
      "cell_type": "markdown",
      "source": [
        "Ahora, si quisiéramos encontrar los mejores miembros (mejores tiempos) es decir los que llegaron más temprano o llegaron a tiempo"
      ],
      "metadata": {
        "id": "nHWPNcp4Fni6"
      }
    },
    {
      "cell_type": "code",
      "source": [
        "flights %>%\n",
        "  select(year:day, ends_with(\"delay\"),air_time, distance) %>%\n",
        "  group_by(year, month, day) %>% #agrupa por la fecha\n",
        "  arrange(year, month, day, arr_delay) %>%  #organiza por fecha y por el delay de llegada descendientemente\n",
        "  mutate(obs_rank=rank(arr_delay)) %>% #crea la variable de ranking\n",
        "  filter(obs_rank<=10) %>% View()#selecciona los 10 tiempos mayores (top 10) (los que más tarde arrivaron)\n",
        "#ver fila 85 (ver filtro)"
      ],
      "metadata": {
        "collapsed": true,
        "id": "5rU_O1i9FhD1"
      },
      "execution_count": null,
      "outputs": []
    },
    {
      "cell_type": "markdown",
      "source": [
        "Por ejemplo, si queremos identificar todos los aeropuertos de destino (dest) a los que se voló menos de 20 veces en todo el año, la idea sería mostrar los destinos y el número total de vuelos que recibieron."
      ],
      "metadata": {
        "id": "dTzsNbB6GDzV"
      }
    },
    {
      "cell_type": "code",
      "source": [
        "flights %>%\n",
        "  group_by(dest) %>%#agrupa los vuelos por destino.\n",
        "  summarise(total_vuelos = n()) %>% #cuenta cuántos vuelos hubo a cada destino.\n",
        "  filter(total_vuelos < 20)#selecciona solo los destinos con menos de 20 vuelos en todo el año."
      ],
      "metadata": {
        "collapsed": true,
        "id": "knTTjOin6itA"
      },
      "execution_count": null,
      "outputs": []
    },
    {
      "cell_type": "markdown",
      "source": [
        "¿Cuántos destinos diferentes recibieron menos de 20 vuelos en total durante 2013?\n",
        "¿Alguno de estos destinos parece ser un error o un dato atípico?"
      ],
      "metadata": {
        "id": "yHKSYMzfGP98"
      }
    },
    {
      "cell_type": "code",
      "source": [
        "# Agrupar por destino y contar la cantidad de vuelos\n",
        "destinos_raros <- flights %>%\n",
        "  group_by(dest) %>%                            # Agrupar por aeropuerto de destino\n",
        "  summarise(total_vuelos = n()) %>%             # Contar el número total de vuelos\n",
        "  filter(total_vuelos < 20) %>%                 # Filtrar los que tienen menos de 20 vuelos\n",
        "  arrange(total_vuelos)                         # Ordenar de menor a mayor\n",
        "\n",
        "# Ver resultados\n",
        "print(destinos_raros)\n",
        "\n",
        "# Número total de destinos con menos de 20 vuelos\n",
        "cat(\"Número de destinos con menos de 20 vuelos:\", nrow(destinos_raros), \"\\n\")"
      ],
      "metadata": {
        "collapsed": true,
        "id": "4A25JmRS6iwY"
      },
      "execution_count": null,
      "outputs": []
    },
    {
      "cell_type": "markdown",
      "source": [
        "## Ejercicios con `summarise()` y exploración de datos agrupados\n",
        "\n",
        "1. Formas de evaluar retraso típico\n",
        "\n",
        "- `mean(arr_delay, na.rm = TRUE)` — promedio de retraso\n",
        "- `median(arr_delay, na.rm = TRUE)` — mediana\n",
        "- `sd(arr_delay, na.rm = TRUE)` — desviación estándar\n",
        "- `IQR(arr_delay, na.rm = TRUE)` — rango intercuartílico\n",
        "- `quantile(arr_delay, probs = 0.9, na.rm = TRUE)` — percentil 90\n"
      ],
      "metadata": {
        "id": "sY7IZPXWGkE2"
      }
    },
    {
      "cell_type": "code",
      "source": [
        "delay_char <-\n",
        "  flights %>%\n",
        "  group_by(flight) %>%\n",
        "  summarise(n = n(),\n",
        "            fifteen_early = mean(arr_delay == -15, na.rm = TRUE),\n",
        "            fifteen_late = mean(arr_delay == 15, na.rm = TRUE),\n",
        "            ten_always = mean(arr_delay == 10, na.rm = TRUE),\n",
        "            thirty_early = mean(arr_delay == -30, na.rm = TRUE),\n",
        "            thirty_late = mean(arr_delay == 30, na.rm = TRUE),\n",
        "            percentage_on_time = mean(arr_delay == 0, na.rm = TRUE),\n",
        "            twohours = mean(arr_delay > 120, na.rm = TRUE)) %>%\n",
        "#Aplica la función round(., 2) solo a las columnas que son numéricas (is_double),\n",
        "#redondeando sus valores a 2 decimales.\n",
        "  map_if(is_double, round, 2) %>%\n",
        "  as_tibble()%>%View()"
      ],
      "metadata": {
        "collapsed": true,
        "id": "IM38KQo8InwC"
      },
      "execution_count": null,
      "outputs": []
    },
    {
      "cell_type": "markdown",
      "source": [
        "Un vuelo que se adelanta 15 minutos el 50% de las veces, y se retrasa 15 minutos el 50% de las veces."
      ],
      "metadata": {
        "id": "KMKjgoHpKXLl"
      }
    },
    {
      "cell_type": "code",
      "source": [
        "delay_char %>%\n",
        "  filter(fifteen_early == 0.5, fifteen_late == 0.5)"
      ],
      "metadata": {
        "id": "dqB5y6PhKafV"
      },
      "execution_count": null,
      "outputs": []
    },
    {
      "cell_type": "markdown",
      "source": [
        "Un vuelo que siempre llega con 10 minutos de retraso."
      ],
      "metadata": {
        "id": "UGpEX0KPKqYx"
      }
    },
    {
      "cell_type": "code",
      "source": [
        "delay_char %>%\n",
        "  filter(ten_always == 1)"
      ],
      "metadata": {
        "id": "e_XaPFv5Kwej",
        "collapsed": true
      },
      "execution_count": null,
      "outputs": []
    },
    {
      "cell_type": "markdown",
      "source": [
        "\n",
        "2. ¿Qué es más importante?\n",
        "\n",
        "Depende del objetivo: la llegada afecta al pasajero, la salida al aeropuerto.\n",
        "\n",
        "3. Consulta la tabla de funciones útiles de mutación y filtrado. Describe cómo cambia cada operación al combinarla con la agrupación.\n",
        "\n",
        "\n"
      ],
      "metadata": {
        "id": "M4JmZLzvIoOs"
      }
    },
    {
      "cell_type": "code",
      "source": [
        "?mutate\n",
        "\n"
      ],
      "metadata": {
        "id": "iosfo4-Osep-"
      },
      "execution_count": null,
      "outputs": []
    },
    {
      "cell_type": "markdown",
      "source": [
        "Cuando aplicamos funciones de mutación (mutate()) o filtrado (filter()) a un dataframe sin agrupar, las operaciones se hacen sobre todo el conjunto de datos.\n",
        "\n",
        "Sin embargo, al agrupar (group_by()), el comportamiento de estas funciones cambia:\n",
        "cada grupo se trata de forma independiente, como si tuvieras varios subconjuntos separados, y luego se combinan los resultados.\n",
        "Ejemplo con mutate() sin agrupar"
      ],
      "metadata": {
        "id": "hWkFCT_pt4mc"
      }
    },
    {
      "cell_type": "code",
      "source": [
        "flights %>%\n",
        "  mutate(media_retraso = mean(dep_delay, na.rm = TRUE))\n",
        "#Esto calcula el retraso promedio de salida considerando todos los vuelos.\n",
        "\n"
      ],
      "metadata": {
        "collapsed": true,
        "id": "Sfvkzmzft81j"
      },
      "execution_count": null,
      "outputs": []
    },
    {
      "cell_type": "markdown",
      "source": [
        "Ejemplo con mutate() agrupado"
      ],
      "metadata": {
        "id": "S7ZX7aF5uKd8"
      }
    },
    {
      "cell_type": "code",
      "source": [
        "flights %>%\n",
        "  group_by(dest) %>%\n",
        "  mutate(media_retraso = mean(dep_delay, na.rm = TRUE))\n",
        "#Aquí, mean(dep_delay) se calcula para cada destino (dest), y cada fila\n",
        "#recibe el valor promedio de su grupo."
      ],
      "metadata": {
        "collapsed": true,
        "id": "dipWuUY8uLXP"
      },
      "execution_count": null,
      "outputs": []
    },
    {
      "cell_type": "markdown",
      "source": [
        "4. ¿Qué avión (tailnum) tiene el peor registro de puntualidad?"
      ],
      "metadata": {
        "id": "6p-lB3cLtyRT"
      }
    },
    {
      "cell_type": "code",
      "source": [
        "flights %>%\n",
        "  filter(!is.na(arr_delay)) %>%\n",
        "  group_by(tailnum) %>%\n",
        "# summarise(prop_time = sum(arr_delay <= 30)/n():\n",
        "\n",
        "# Cuenta cuántos vuelos de ese avión llegaron con un retraso menor o igual a 30\n",
        "# minutos, y divide por el total de vuelos (n()).\n",
        "# Resultado: la proporción de vuelos \"a tiempo\" o con retraso aceptable para ese avión.\n",
        "\n",
        "#mean_arr = mean(arr_delay, na.rm = TRUE):\n",
        "\n",
        "#Calcula el retraso promedio de llegada de ese avión,\n",
        "#ignorando los valores faltantes (na.rm = TRUE).\n",
        "\n",
        "#fl = n()) %>%:\n",
        "#Número total de vuelos realizados por ese avión.\n",
        "  summarise(prop_time = sum(arr_delay <= 30)/n(),\n",
        "            mean_arr = mean(arr_delay, na.rm = TRUE),\n",
        "            fl = n()) %>%\n",
        "  arrange(desc(prop_time))\n",
        "\n",
        "#interpretación de la salida:\n",
        "#tailnum = N103US: Este es el número de cola (matrícula) del avión.\n",
        "#Es un identificador único para ese avión.\n",
        "\n",
        "#prop_time = 1: El 100% de sus vuelos llegaron con 30 minutos de retraso\n",
        "# o menos (incluidos los que llegaron antes de tiempo).\n",
        "\n",
        "#mean_arr = -6.93: En promedio, este avión llegó 6.93 minutos antes de\n",
        "# la hora prevista.\n",
        "\n",
        "#fl = 46: Realizó un total de 46 vuelos.\n",
        "\n",
        "# Interpretación: El avión N103US fue muy puntual, ya que nunca tuvo\n",
        "# un retraso superior a 30 minutos en los 46 vuelos analizados, y en\n",
        "#promedio llegaba casi 7 minutos antes."
      ],
      "metadata": {
        "collapsed": true,
        "id": "2N065r-JLs6A"
      },
      "execution_count": null,
      "outputs": []
    },
    {
      "cell_type": "markdown",
      "source": [
        "4. ¿A qué hora del día deberías volar para evitar retrasos al máximo?"
      ],
      "metadata": {
        "id": "vdQqW6k_Hi3b"
      }
    },
    {
      "cell_type": "code",
      "source": [
        "flights %>%\n",
        "  group_by(hour) %>%\n",
        "  filter(!is.na(dep_delay)) %>%\n",
        "  summarise( delay = mean( dep_delay > 0 , na.rm = T)) %>% View()\n",
        "\n",
        "# A las 5 am se retrasan menos, en proporción y a las 20:00 se retrasan\n",
        "# más en proporción"
      ],
      "metadata": {
        "collapsed": true,
        "id": "UsH596LJ6izI"
      },
      "execution_count": null,
      "outputs": []
    },
    {
      "cell_type": "markdown",
      "source": [
        "5. Para cada destino, calcule el total de minutos de retraso."
      ],
      "metadata": {
        "id": "6vdXef91vSmO"
      }
    },
    {
      "cell_type": "code",
      "source": [
        "flights %>%\n",
        "  group_by(dest) %>%\n",
        "  filter(!is.na(dep_delay)) %>%\n",
        "  summarise(tot_mins = sum(dep_delay[dep_delay > 0]))"
      ],
      "metadata": {
        "id": "9H5vHpo_6i2Q",
        "collapsed": true
      },
      "execution_count": null,
      "outputs": []
    },
    {
      "cell_type": "markdown",
      "source": [
        "6. Para cada vuelo, calcule la proporción del retraso total en su destino."
      ],
      "metadata": {
        "id": "X0j5O1V1v7HI"
      }
    },
    {
      "cell_type": "code",
      "source": [
        "flights %>%\n",
        "  filter(!is.na(dep_delay)) %>%\n",
        "  group_by(tailnum, dest) %>%\n",
        "  summarise(m = mean(dep_delay > 0), n = n()) %>%\n",
        "  arrange(desc(m))\n",
        "\n",
        "# Los retrasos suelen estar correlacionados temporalmente:\n",
        "# incluso una vez resuelto el problema que causó el retraso inicial,\n",
        "# los vuelos posteriores se retrasan para permitir la salida de los\n",
        "# primeros. Con lag(), explore cómo se relaciona el retraso de un vuelo\n",
        "# con el retraso del vuelo inmediatamente anterior."
      ],
      "metadata": {
        "id": "OVppflSI6i5K",
        "collapsed": true
      },
      "execution_count": null,
      "outputs": []
    },
    {
      "cell_type": "code",
      "source": [
        "# Crea una nueva variable llamada new_sched_dep_time que representa la fecha y hora completa de salida programada como objeto POSIXct.\n",
        "# Esto es útil porque sched_dep_time está en formato \"HHMM\" y no incluye la fecha.\n",
        "# lubridate::make_datetime() combina año, mes, día, hora y minuto para generar un timestamp real, que se puede ordenar cronológicamente.\n",
        "\n",
        "flights %>%\n",
        "  mutate(new_sched_dep_time = lubridate::make_datetime(year, month, day, hour, minute)) %>%\n",
        "  arrange(new_sched_dep_time) %>%\n",
        "  mutate(prev_time = lag(dep_delay)) %>%\n",
        "  # filter(between(dep_delay, 0, 300), between(prev_time, 0, 300)) %>% # play with this one\n",
        "  select(origin, new_sched_dep_time, dep_delay, prev_time) %>% View()\n",
        "\n",
        "# Interpretación de las primeras filas tras crear la variable `prev_time`\n",
        "# con lag() sobre los retrasos (`dep_delay`)\n",
        "\n",
        "# Fila 1:\n",
        "# origin: EWR (Newark)\n",
        "# new_sched_dep_time: 2013-01-01 05:15:00\n",
        "# dep_delay: 2 minutos\n",
        "# prev_time: NA (es el primer vuelo en orden cronológico, no tiene vuelo anterior)\n",
        "\n",
        "# Fila 2:\n",
        "# origin: LGA (LaGuardia)\n",
        "# new_sched_dep_time: 2013-01-01 05:29:00\n",
        "# dep_delay: 4 minutos\n",
        "# prev_time: 2 (retraso del vuelo anterior, el de EWR a las 5:15)\n",
        "\n",
        "# Fila 3:\n",
        "# origin: JFK (John F. Kennedy)\n",
        "# new_sched_dep_time: 2013-01-01 05:40:00\n",
        "# dep_delay: 2 minutos\n",
        "# prev_time: 4 (retraso del vuelo anterior, el de LGA a las 5:29)\n",
        "\n",
        "# Con este tipo de análisis se puede explorar si los retrasos tienden a transmitirse:\n",
        "# es decir, si un vuelo retrasado aumenta la probabilidad de que el siguiente también lo esté.\n",
        "# Se puede visualizar con ggplot o ajustar un modelo para analizar la relación entre dep_delay y prev_time.\n"
      ],
      "metadata": {
        "id": "0Vr5_75g6i7h",
        "collapsed": true
      },
      "execution_count": null,
      "outputs": []
    },
    {
      "cell_type": "markdown",
      "source": [
        "6. Mira cada destino. ¿Puede encontrar vuelos que sean sospechosamente rápidos? (es decir, vuelos que representen un posible error de introducción de datos). Calcule el tiempo de vuelo de un vuelo en relación con el vuelo más corto a ese destino. ¿Qué vuelos sufrieron más retrasos en el aire?"
      ],
      "metadata": {
        "id": "Z2TkOgbuyOpX"
      }
    },
    {
      "cell_type": "code",
      "source": [
        "flights %>%\n",
        "  group_by(dest) %>%\n",
        "  arrange(air_time) %>%\n",
        "  slice(1:5) %>%\n",
        "# slice(1:5)\n",
        "#Después de ordenar por air_time en cada grupo, esta línea selecciona las primeras 5 filas de cada grupo.\n",
        "# Es decir, para cada destino, se conservan los 5 vuelos más cortos (en tiempo de vuelo).\n",
        "  select(tailnum, sched_dep_time, sched_arr_time, air_time) %>%\n",
        "  arrange(air_time)"
      ],
      "metadata": {
        "id": "cbBveaPA6i-H",
        "collapsed": true
      },
      "execution_count": null,
      "outputs": []
    },
    {
      "cell_type": "markdown",
      "source": [
        "------------------------\n",
        "------------------------\n",
        "## Relación entre tablas: ¿para qué sirven los joins?\n",
        "\n",
        "En la mayoría de los análisis de datos no trabajamos con una única tabla. Lo habitual es que tengamos varias tablas que contienen información relacionada entre sí y necesitemos combinarlas para responder a nuestras preguntas. A este conjunto se le conoce como **datos relacionales** porque lo que realmente importa no es cada tabla por separado, sino cómo se relacionan entre sí.\n",
        "\n",
        "Estas relaciones se establecen siempre entre pares de tablas. Incluso si el análisis involucra más de dos tablas, todo se reduce a cómo se conectan de forma individual cada par. A veces, estas relaciones pueden darse incluso dentro de la misma tabla, por ejemplo, cuando una tabla de empleados incluye referencias a sus jefes, quienes también están en esa misma tabla.\n",
        "\n",
        "Para manejar este tipo de estructuras relacionales, necesitamos funciones que permitan operar entre dos (o más) tablas a la vez. En `dplyr`, estas funciones se agrupan en tres familias principales:\n",
        "\n",
        "Tipos de operaciones con datos relacionales\n",
        "\n",
        "- **Uniones con mutación (`mutating joins`)**: combinan columnas de dos tablas según observaciones coincidentes. Permiten enriquecer una tabla con información de otra.\n",
        "- **Uniones de filtrado (`filtering joins`)**: seleccionan o eliminan filas de una tabla dependiendo de si tienen coincidencias en otra tabla.\n",
        "- **Operaciones de conjuntos (`set operations`)**: tratan las filas como elementos de conjuntos y permiten aplicar intersecciones, uniones y diferencias.\n",
        "\n",
        "Estas herramientas son fundamentales cuando trabajamos con datos almacenados en sistemas de bases de datos relacionales, que es donde suelen encontrarse este tipo de estructuras. Aunque muchas de estas tareas también pueden hacerse con SQL, `dplyr` facilita el análisis de datos al ofrecer una sintaxis más amigable y centrada en las tareas más comunes del análisis.\n",
        "\n",
        "Por ejemplo, en `flights` encontramos códigos de aerolíneas (`carrier`), pero sus nombres están en `airlines`. Para analizarlos juntos, debemos unirlos.\n",
        "\n",
        "## Tipos de joins en `dplyr`\n",
        "\n",
        "| Función         | ¿Qué hace?                                                      |\n",
        "|----------------|------------------------------------------------------------------|\n",
        "| `inner_join()` | Solo las coincidencias en ambas tablas  (Intersección)                        |\n",
        "| `left_join()`  | Todos los registros de la tabla izquierda                     |\n",
        "| `right_join()` | Todos los registros de la tabla derecha                        |\n",
        "| `full_join()`  | Todos los registros de ambas tablas(AUB)                            |\n",
        "| `semi_join()`  | Registros de la izquierda con coincidencia (sin agregar columnas) |\n",
        "| `anti_join()`  | Registros de la izquierda sin coincidencia                     |\n",
        "\n",
        "Se puede explorar más con vignette. Pero, ¿Qué es una vignette?:\n",
        "\n",
        "Es un documento en HTML o PDF incluido en un paquete.\n",
        "Tiene código R explicativo, gráficos y teoría.\n",
        "Se utiliza para aprender a usar el paquete con contexto. (No funciona en google colab, veremos sus funciones en RStudio), sin emabrgo, es como si abrieramos:\n",
        "\n",
        "[vignette(\"two-table\", package = \"dplyr\") ](https://dplyr.tidyverse.org/articles/two-table.html)\n",
        "\n",
        "\n"
      ],
      "metadata": {
        "id": "hWS-WQmZz6Ys"
      }
    },
    {
      "cell_type": "code",
      "source": [
        "vignette(\"two-table\", package = \"dplyr\")"
      ],
      "metadata": {
        "id": "Snm6qoSU6jA4"
      },
      "execution_count": null,
      "outputs": []
    },
    {
      "cell_type": "markdown",
      "source": [
        "**¿Este tipo de relaciones modifican el dataframe original?**\n",
        "\n",
        "No. Los joins **devuelven una nueva tabla**. Para conservarla, debemos  asignarla a un objeto.\n",
        "\n",
        "### Llaves primarias y secundarias\n",
        "\n",
        "En los datos relacionales, cada tabla suele tener una **clave primaria**, que es una columna (o conjunto de columnas) que identifica de manera única cada fila.\n",
        "\n",
        "También puede tener una o varias **claves foráneas**, que son columnas que contienen identificadores de otra tabla, permitiendo así establecer relaciones entre ellas.\n",
        "\n",
        "Por ejemplo:\n",
        "- En `flights`, la columna `carrier` se refiere a una clave en la tabla `airlines`.\n",
        "- Las columnas `origin` y `dest` hacen referencia a códigos de aeropuerto presentes en `airports`.\n",
        "\n",
        "\n",
        "### Tipos de uniones (`joins`) con `dplyr`\n",
        "\n",
        "`left_join(x, y)`\n",
        "\n",
        "Devuelve todas las filas de `x` y añade las columnas de `y` que coincidan. Si no hay coincidencia, se completan con `NA`.\n",
        "\n",
        "`right_join(x, y)`\n",
        "\n",
        "Como el `left_join()`, pero conserva todas las filas de `y`.\n",
        "\n",
        "`inner_join(x, y)`\n",
        "\n",
        "Devuelve solo las filas que tienen coincidencias en ambas tablas.\n",
        "\n",
        "`full_join(x, y)`\n",
        "\n",
        "Conserva todas las filas de ambas tablas. Si no hay coincidencia en alguna clave, se completan con `NA`.\n",
        "\n",
        "Estas funciones se utilizan comúnmente cuando deseamos enriquecer una tabla con información de otra.\n",
        "\n",
        "### Operaciones de conjuntos\n",
        "\n",
        "Estas funciones comparan dos conjuntos de observaciones (filas), asumiendo que ambas tablas tienen las mismas columnas:\n",
        "\n",
        "- `intersect(x, y)`: Filas comunes a ambas tablas.\n",
        "- `union(x, y)`: Todas las filas que aparecen en al menos una tabla.\n",
        "- `setdiff(x, y)`: Filas que están en `x` pero no en `y`.\n",
        "\n",
        "Estas funciones permiten analizar las diferencias y similitudes entre datasets.\n"
      ],
      "metadata": {
        "id": "9vqWZWyi0TZv"
      }
    },
    {
      "cell_type": "markdown",
      "source": [
        "---\n",
        "\n",
        "Ejemplos con datos ficticios"
      ],
      "metadata": {
        "id": "ywGbi7xYLxp1"
      }
    },
    {
      "cell_type": "code",
      "source": [
        "(x <- tibble(\n",
        "  id = c(1, 2, 3), #creamos un elemento de tipo tibble (que es con el que se trabaja en Dplyr)\n",
        "  nombre = c(\"Ana\", \"Luis\", \"Carlos\")\n",
        "))\n",
        "\n",
        "(y <- tibble(\n",
        "  id = c(1, 2, 4),\n",
        "  sueldo = c(3000, 3200, 2800)\n",
        "))"
      ],
      "metadata": {
        "id": "iakN0qBW0bRO"
      },
      "execution_count": null,
      "outputs": []
    },
    {
      "cell_type": "markdown",
      "source": [
        "Inerjoin:"
      ],
      "metadata": {
        "id": "e3M32GRg3Hks"
      }
    },
    {
      "cell_type": "code",
      "source": [
        "inner_join(x, y)       # Solo coincidencias"
      ],
      "metadata": {
        "id": "CDSdJuRc3JRH"
      },
      "execution_count": null,
      "outputs": []
    },
    {
      "cell_type": "markdown",
      "source": [
        "Todos los de x:"
      ],
      "metadata": {
        "id": "DEK0dQlK3MFF"
      }
    },
    {
      "cell_type": "code",
      "source": [
        "left_join(x, y, by = \"id\")        # Todos los de x"
      ],
      "metadata": {
        "id": "XFDFukjt_Sqb"
      },
      "execution_count": null,
      "outputs": []
    },
    {
      "cell_type": "markdown",
      "source": [
        "\n",
        "Todos los de y:"
      ],
      "metadata": {
        "id": "vzGnAq9q_VRb"
      }
    },
    {
      "cell_type": "code",
      "source": [
        "right_join(x, y, by = \"id\")       # Todos los de y"
      ],
      "metadata": {
        "id": "qxl0l9i4_V6-"
      },
      "execution_count": null,
      "outputs": []
    },
    {
      "cell_type": "markdown",
      "source": [
        "\n",
        "Todos:"
      ],
      "metadata": {
        "id": "nNuNb2rT_bE4"
      }
    },
    {
      "cell_type": "code",
      "source": [
        "full_join(x, y, by = \"id\")        # Todos"
      ],
      "metadata": {
        "id": "wpfsocTb_bey"
      },
      "execution_count": null,
      "outputs": []
    },
    {
      "cell_type": "markdown",
      "source": [
        "Coincidencias en x:"
      ],
      "metadata": {
        "id": "Uxrbjmqh_jVc"
      }
    },
    {
      "cell_type": "code",
      "source": [
        "semi_join(x, y, by = \"id\")        # Coincidencias (sin columnas de y)"
      ],
      "metadata": {
        "id": "RZH6I0IG_kQc"
      },
      "execution_count": null,
      "outputs": []
    },
    {
      "cell_type": "markdown",
      "source": [
        "Sin coincidencias:"
      ],
      "metadata": {
        "id": "fQ7_YLPe_mX_"
      }
    },
    {
      "cell_type": "code",
      "source": [
        "anti_join(x, y, by = \"id\")        # Sin coincidencia"
      ],
      "metadata": {
        "id": "rACAipDe_o6O"
      },
      "execution_count": null,
      "outputs": []
    },
    {
      "cell_type": "markdown",
      "source": [
        "Qué pasa si las columnas de ambas tablas no tienen el mismo nombre"
      ],
      "metadata": {
        "id": "73XfDmb-_tgD"
      }
    },
    {
      "cell_type": "code",
      "source": [
        "a <- tibble(emp_id = c(1, 2, 3), nombre = c(\"Ana\", \"Luis\", \"Carlos\"))\n",
        "b <- tibble(id_sueldo = c(1, 2, 4), sueldo = c(3000, 3200, 2800))\n",
        "\n",
        "inner_join(a, b, by = c(\"emp_id\" = \"id_sueldo\"))"
      ],
      "metadata": {
        "id": "NqvhxQ0A_7q2"
      },
      "execution_count": null,
      "outputs": []
    },
    {
      "cell_type": "markdown",
      "source": [
        "**Producto cartesiano:**\n",
        "\n",
        "Dado dos conjuntos de datos A y B, el producto cartesiano (A × B) es el conjunto de todas las combinaciones posibles entre las filas de A y las filas de B.\n",
        "\n",
        "Si A tiene n filas y B tiene m filas, entonces A × B tendrá n × m filas.\n",
        "En términos de JOIN, el producto cartesiano es lo que ocurre cuando se hace un join sin especificar una clave de unión (by = NULL).\n",
        "En SQL se llama CROSS JOIN.\n",
        "En dplyr, se obtiene con inner_join() sin by.\n",
        "\n"
      ],
      "metadata": {
        "id": "Stwan29d_7DE"
      }
    },
    {
      "cell_type": "code",
      "source": [
        "A <- tibble(nombre = c(\"Ana\", \"Luis\"))\n",
        "B <- tibble(curso = c(\"R\", \"Python\", \"SQL\"))\n",
        "cross_join(A, B)  #en vez de inner_join(A, B, by = character()) utilizaremos cross_join\n",
        "#Este uso especial de character() (es decir, un vector de caracteres vacío) le dice a inner_join() que no busque coincidencias, y en cambio, genere todas las combinaciones posibles entre las filas de A y B.\n",
        "#Aquí es un todos con todos"
      ],
      "metadata": {
        "id": "bFvPggaQAYtU"
      },
      "execution_count": null,
      "outputs": []
    },
    {
      "cell_type": "markdown",
      "source": [
        "### Aplicación real con `nycflights13`\n",
        "\n",
        "**Relaciones existentes entre las tablas de nycflights13**\n",
        "\n",
        "![Relación entre tablas de nycflights13](https://github.com/ednavivianasegura/AccesoImages/blob/main/nycflights.png?raw=true)\n",
        "\n",
        "Nota: Es importante saber que la ubicación de la imagen tiene que ser en un directorio público, de lo contrario no se puede visualizar\n",
        "\n",
        "| Tabla base  | Relación                      | Tabla secundaria |\n",
        "|-------------|-------------------------------|------------------|\n",
        "| `flights`   | `carrier`                     | `airlines`       |\n",
        "| `flights`   | `tailnum`                     | `planes`         |\n",
        "| `flights`   | `origin`                      | `airports`       |\n",
        "| `flights`   | `origin` + `time_hour`        | `weather`        |\n",
        "\n",
        "Información sobre los data sets a usar: [nycflights13](https://cran.r-project.org/web/packages/nycflights13/nycflights13.pdf)\n",
        "\n",
        "Ejemplo práctico: unir `flights` con `airlines`"
      ],
      "metadata": {
        "id": "G5jA-Q8OAd6U"
      }
    },
    {
      "cell_type": "code",
      "source": [
        "flights %>%\n",
        "  left_join(airlines, by = \"carrier\") %>%\n",
        "  select(carrier, name, everything()) %>%\n",
        "  head()\n",
        "\n",
        "#Gracias al left_join(), ahora tietenemos, tanto el código (carrier) como el nombre completo de la aerolínea (name) en la misma fila de cada vuelo."
      ],
      "metadata": {
        "collapsed": true,
        "id": "eqMz_wKiBM4U"
      },
      "execution_count": null,
      "outputs": []
    },
    {
      "cell_type": "markdown",
      "source": [
        "## Ejercicios:\n",
        "\n",
        "1. Dibujar rutas de vuelo, **pregunta:** ¿Qué variables necesitamos para dibujar la ruta de cada avión desde su origen hasta su destino? ¿Qué tablas deberíamos combinar?\n",
        "\n",
        "Necesitamos:\n",
        "- Código del aeropuerto de origen y destino (en `flights`: `origin` y `dest`)\n",
        "- Coordenadas de los aeropuertos (`airports`: `lat`, `lon`)\n",
        "\n",
        "Combinaciones necesarias:"
      ],
      "metadata": {
        "id": "IfvMCw65B2yl"
      }
    },
    {
      "cell_type": "code",
      "source": [
        "# Obtener tabla con información de los aeropuertos de origen\n",
        "(origenes <- flights %>%\n",
        "  select(origin) %>%         # Selecciona solo la columna 'origin' de flights\n",
        "  distinct() %>%             # Elimina valores repetidos: solo aeropuertos únicos\n",
        "  left_join(airports,        # Une con la tabla 'airports'\n",
        "            by = c(\"origin\" = \"faa\"))) # Relaciona 'origin' de flights con 'faa' de airports\n",
        "\n",
        "# Obtener tabla con información de los aeropuertos de destino\n",
        "(destinos <- flights %>%\n",
        "  select(dest) %>%           # Selecciona solo la columna 'dest' de flights\n",
        "  distinct() %>%             # Elimina valores repetidos: solo aeropuertos únicos\n",
        "  left_join(airports,        # Une con la tabla 'airports'\n",
        "            by = c(\"dest\" = \"faa\"))) # Relaciona 'dest' de flights con 'faa' de airports\n"
      ],
      "metadata": {
        "collapsed": true,
        "id": "Oo93U-jkCKj3"
      },
      "execution_count": null,
      "outputs": []
    },
    {
      "cell_type": "markdown",
      "source": [
        "2. Relación entre clima y aeropuertos, **pregunta:** ¿Cuál es la relación entre `weather` y `airports`?\n",
        "\n",
        "- `weather` contiene datos climáticos **solo de los aeropuertos de origen** de Nueva York: `JFK`, `LGA`, `EWR`\n",
        "- Se relaciona con `airports` mediante `origin` → `faa`\n",
        "\n",
        "Relación esperada:\n",
        "Cada fila en `weather` corresponde a un aeropuerto (por `origin`), una fecha y una hora (`time_hour`). Se puede vincular con `flights` usando:"
      ],
      "metadata": {
        "id": "bscL6WOmQfMn"
      }
    },
    {
      "cell_type": "code",
      "source": [
        "left_join(flights, weather, by = c(\"origin\", \"time_hour\"))"
      ],
      "metadata": {
        "collapsed": true,
        "id": "Btp0_H3pQqUy"
      },
      "execution_count": null,
      "outputs": []
    },
    {
      "cell_type": "markdown",
      "source": [
        " 3. ¿Y si `weather` tuviera datos de todo el país?\n",
        "\n",
        "Si la tabla `weather` incluyera todos los aeropuertos de EE.UU., la clave sería:\n",
        "- `origin` + `time_hour`\n",
        "\n",
        "Se podría unir con `flights` igual que antes, pero los datos incluirían más aeropuertos:\n"
      ],
      "metadata": {
        "id": "_EU3_UeNQ23k"
      }
    },
    {
      "cell_type": "code",
      "source": [
        "left_join(flights, weather, by = c(\"dest\" = \"origin\", \"time_hour\"))"
      ],
      "metadata": {
        "collapsed": true,
        "id": "yPk2wd0HQ6Fz"
      },
      "execution_count": null,
      "outputs": []
    },
    {
      "cell_type": "markdown",
      "source": [
        "4. Días especiales, **pregunta:** ¿Cómo representarías en un data frame los días especiales del año?\n",
        "\n",
        "Tabla ficticia `dias_especiales`:"
      ],
      "metadata": {
        "id": "9H9zqE2yRDTA"
      }
    },
    {
      "cell_type": "code",
      "source": [
        "(dias_especiales <- tibble(\n",
        "  year = c(2013, 2013),\n",
        "  month = c(12, 1),\n",
        "  day = c(25, 1),\n",
        "  descripcion = c(\"Navidad\", \"Año Nuevo\")))"
      ],
      "metadata": {
        "id": "rzFVsk6kROGY"
      },
      "execution_count": null,
      "outputs": []
    },
    {
      "cell_type": "markdown",
      "source": [
        "Clave primaria: `year`, `month`, `day`\n",
        "\n",
        "Tenemos que unirla con `flights`:\n",
        "\n",
        "Esto permite identificar los vuelos realizados en días especiales.\n",
        "\n",
        "---"
      ],
      "metadata": {
        "id": "gxkCYIlWRkrs"
      }
    },
    {
      "cell_type": "code",
      "source": [
        "inner_join(flights,dias_especiales,by=c(\"year\", \"month\", \"day\"))"
      ],
      "metadata": {
        "collapsed": true,
        "id": "aFVrJhXxRs6e"
      },
      "execution_count": null,
      "outputs": []
    },
    {
      "cell_type": "markdown",
      "source": [
        "\n",
        "5. Agregar una clave sustituta (surrogate key) a `flights`\n",
        "\n"
      ],
      "metadata": {
        "id": "bAc9_728U0ZN"
      }
    },
    {
      "cell_type": "code",
      "source": [
        "# Usamos mutate + row_number() para crear una clave única\n",
        "flights_surrogate <- flights %>%\n",
        "  mutate(id = row_number())\n",
        "\n",
        "# Mostramos las primeras filas con la nueva clave\n",
        "head(flights_surrogate %>% select(id, everything()))\n",
        "\n",
        "\n",
        "# Explicación:\n",
        "# - `mutate(id = row_number())`: Crea una columna `id` con valores únicos secuenciales.\n",
        "# - Esta columna actúa como una clave sustituta, ya que no proviene de los datos originales.\n",
        "# - Es útil cuando no hay una combinación de variables que actúe como clave primaria.\n"
      ],
      "metadata": {
        "id": "6QmbGcg0VPR5",
        "collapsed": true
      },
      "execution_count": null,
      "outputs": []
    },
    {
      "cell_type": "markdown",
      "source": [
        "<h3>Joins en <code>dplyr</code> y su equivalencia en SQL</h3>\n",
        "\n",
        "<p>\n",
        "Las funciones de unión de <code>dplyr</code> como <code>inner_join()</code>, <code>left_join()</code>, <code>right_join()</code> o <code>full_join()</code> permiten realizar combinaciones entre tablas de forma clara y eficiente. Estas funciones preservan el orden de las filas y son más fáciles de leer que <code>merge()</code> de base R.\n",
        "</p>\n",
        "\n",
        "<p>\n",
        "El diseño de estas funciones está inspirado en SQL, por lo que la traducción es directa:\n",
        "</p>\n",
        "\n",
        "<table border=\"1\" style=\"border-collapse: collapse; text-align: left; width: 100%;\">\n",
        "  <thead style=\"background-color: #f2f2f2;\">\n",
        "    <tr>\n",
        "      <th>dplyr</th>\n",
        "      <th>SQL equivalente</th>\n",
        "    </tr>\n",
        "  </thead>\n",
        "  <tbody>\n",
        "    <tr>\n",
        "      <td><code>inner_join(x, y, by = \"z\")</code></td>\n",
        "      <td><code>SELECT * FROM x INNER JOIN y USING (z)</code></td>\n",
        "    </tr>\n",
        "    <tr>\n",
        "      <td><code>left_join(x, y, by = \"z\")</code></td>\n",
        "      <td><code>SELECT * FROM x LEFT OUTER JOIN y USING (z)</code></td>\n",
        "    </tr>\n",
        "    <tr>\n",
        "      <td><code>right_join(x, y, by = \"z\")</code></td>\n",
        "      <td><code>SELECT * FROM x RIGHT OUTER JOIN y USING (z)</code></td>\n",
        "    </tr>\n",
        "    <tr>\n",
        "      <td><code>full_join(x, y, by = \"z\")</code></td>\n",
        "      <td><code>SELECT * FROM x FULL OUTER JOIN y USING (z)</code></td>\n",
        "    </tr>\n",
        "  </tbody>\n",
        "</table>\n",
        "\n",
        "<p><strong>Nota:</strong> En SQL, los términos <code>INNER</code> y <code>OUTER</code> son opcionales y frecuentemente se omiten.</p>\n",
        "\n",
        "<h4>Uniendo columnas con nombres diferentes</h4>\n",
        "\n",
        "<p>Cuando las columnas clave no tienen el mismo nombre en ambas tablas, en <code>dplyr</code> puedes usar:</p>\n",
        "\n",
        "<pre><code>inner_join(x, y, by = c(\"a\" = \"b\"))</code></pre>\n",
        "\n",
        "<p>Esto se traduce en SQL como:</p>\n",
        "\n",
        "<pre><code>SELECT * FROM x INNER JOIN y ON x.a = y.b</code></pre>\n",
        "\n",
        "<p>\n",
        "Esto demuestra que SQL admite más tipos de combinaciones (incluyendo aquellas no basadas en igualdad), mientras que <code>dplyr</code> se enfoca en las más comunes y legibles.\n",
        "</p>\n"
      ],
      "metadata": {
        "id": "OWm3EugXabQR"
      }
    },
    {
      "cell_type": "markdown",
      "source": [
        "### Ejercicios finales:\n",
        "\n",
        "Ejercicio 1: ¿Cuántos vuelos no tienen información de avión?\n",
        "\n",
        "\n",
        "\n",
        "\n"
      ],
      "metadata": {
        "id": "o6pWGOspdBLg"
      }
    },
    {
      "cell_type": "code",
      "source": [
        "## Enunciado: Usando `anti_join()`, encuentra cuántos vuelos en el dataset `flights` tienen un `tailnum` que no aparece en la tabla `planes`.\n",
        "\n",
        "# Filtramos vuelos cuyo número de avión no está en planes\n",
        "vuelos_sin_avion <- anti_join(flights, planes, by = \"tailnum\")\n",
        "\n",
        "# Contamos cuántos son\n",
        "nrow(vuelos_sin_avion)\n",
        "\n",
        "\n",
        "#Explicación del código:\n",
        "# `anti_join(flights, planes, by = \"tailnum\")`: devuelve solo los vuelos cuyo `tailnum` no tiene coincidencia en `planes`.\n",
        "# `nrow()`: cuenta cuántas filas tiene el resultado, es decir, cuántos vuelos no tienen datos de avión.\n",
        "\n",
        "# Interpretación: Este número indica cuántos registros de vuelos no pueden ser conectados con la información técnica del avión (modelo, año, fabricante, etc.)."
      ],
      "metadata": {
        "id": "SHUseEDjffin"
      },
      "execution_count": null,
      "outputs": []
    },
    {
      "cell_type": "markdown",
      "source": [
        "\n",
        "2.  ¿Todos los aviones tienen al menos un vuelo?\n",
        "\n"
      ],
      "metadata": {
        "id": "QVkbQvICgCXR"
      }
    },
    {
      "cell_type": "code",
      "source": [
        "# Enunciado: Verifica si todos los registros en la tabla `planes` tienen al menos un vuelo en la tabla `flights`.\n",
        "\n",
        "# Aviones que están en planes pero no aparecen en flights\n",
        "aviones_sin_vuelo <- anti_join(planes, flights, by = \"tailnum\")\n",
        "\n",
        "# Mostramos los primeros casos\n",
        "head(aviones_sin_vuelo)\n",
        "\n",
        "# Contamos cuántos\n",
        "nrow(aviones_sin_vuelo)\n",
        "\n",
        "\n",
        "#Explicación:\n",
        "# Se invierte el orden de las tablas: ahora queremos saber si hay tailnum en `planes` que no están en `flights`.\n",
        "# `anti_join(planes, flights, by = \"tailnum\")`: devuelve los aviones sin vuelos registrados.\n",
        "\n",
        "#Interpretación: Algunos aviones registrados pueden no haber sido usados en los vuelos de 2013, o bien hay registros desactualizados o inconsistencias.\n"
      ],
      "metadata": {
        "id": "2u53JHPKgKpk"
      },
      "execution_count": null,
      "outputs": []
    },
    {
      "cell_type": "markdown",
      "source": [
        "\n",
        "---\n",
        "\n",
        "3. ¿Cuáles aerolíneas aparecen en `flights` pero no están en `airlines`?\n",
        "\n"
      ],
      "metadata": {
        "id": "LSVlYnk8kall"
      }
    },
    {
      "cell_type": "code",
      "source": [
        "#Enunciado: Usando `anti_join()`, determina si hay códigos de aerolínea (`carrier`) en `flights` que no aparecen en `airlines`.\n",
        "\n",
        "\n",
        "# Aerolíneas usadas en vuelos pero que no tienen descripción\n",
        "aerolineas_faltantes <- anti_join(flights, airlines, by = \"carrier\") %>%\n",
        "  select(carrier) %>% distinct()\n",
        "aerolineas_faltantes\n",
        "\n",
        "\n",
        "#Explicación:\n",
        "# Verificamos si `carrier` en `flights` tiene coincidencia en `airlines`.\n",
        "# Si aparecen códigos sin descripción, podría deberse a errores, cambios recientes o aerolíneas sin registro.\n",
        "\n",
        "#Interpretación: Si el resultado está vacío, significa que todos los códigos de aerolínea tienen descripción. Si hay resultados, debemos revisar la calidad del dato o actualizar la tabla `airlines`.\n"
      ],
      "metadata": {
        "id": "iWVp-vBOkpfs"
      },
      "execution_count": null,
      "outputs": []
    },
    {
      "cell_type": "markdown",
      "source": [
        "\n",
        "---\n",
        "4. ¿Qué aeropuertos aparecen como destinos pero no como origen?\n",
        "\n"
      ],
      "metadata": {
        "id": "I9ynoa-wkob7"
      }
    },
    {
      "cell_type": "code",
      "source": [
        "#Enunciado: Encuentra todos los aeropuertos a los que se vuela (`dest`) pero desde los que no se parte (`origin`).\n",
        "\n",
        "# Creamos tablas de códigos únicos\n",
        "origenes <- flights %>% select(origin) %>% distinct()\n",
        "destinos <- flights %>% select(dest) %>% distinct()\n",
        "\n",
        "# Filtramos destinos que no son origen\n",
        "solo_destinos <- anti_join(destinos, origenes, by = c(\"dest\" = \"origin\"))\n",
        "solo_destinos\n",
        "\n",
        "#Explicación:\n",
        "# Comparamos las columnas `dest` y `origin` como claves.\n",
        "# `anti_join()` nos da todos los aeropuertos que están como destino pero nunca como origen.\n",
        "\n",
        "##Interpretación: Estos aeropuertos están al final de una ruta (llegadas), pero no al inicio desde NYC en este conjunto de datos.\n"
      ],
      "metadata": {
        "collapsed": true,
        "id": "K0gAjIluk7Sa"
      },
      "execution_count": null,
      "outputs": []
    },
    {
      "cell_type": "markdown",
      "source": [
        "\n",
        "---\n",
        "5. ¿Qué aeropuertos aparecen como origen pero nunca como destino?\n",
        "\n"
      ],
      "metadata": {
        "id": "f5UElxZslIUJ"
      }
    },
    {
      "cell_type": "code",
      "source": [
        "# Filtramos origenes que no son destino\n",
        "solo_origenes <- anti_join(origenes, destinos, by = c(\"origin\" = \"dest\"))\n",
        "solo_origenes\n",
        "\n",
        "#Interpretación: Esto devuelve aeropuertos desde los que salen vuelos, pero a los que nunca se regresa. En el dataset de `nycflights13`, estos suelen ser JFK, LGA y EWR, ya que es un conjunto de vuelos que salen de Nueva York."
      ],
      "metadata": {
        "id": "4t8wmP-OlNqD"
      },
      "execution_count": null,
      "outputs": []
    },
    {
      "cell_type": "markdown",
      "source": [
        "6. ¿Qué significa que un vuelo tenga `tailnum` faltante? ¿Qué variable lo explica?\n",
        "\n",
        "\n",
        "\n",
        "\n"
      ],
      "metadata": {
        "id": "N9FuPY5Si4HM"
      }
    },
    {
      "cell_type": "code",
      "source": [
        "flights %>%\n",
        "  filter(is.na(tailnum)) %>%\n",
        "  count(\n",
        "    dep_time_na = is.na(dep_time),\n",
        "    dep_delay_na = is.na(dep_delay),\n",
        "    arr_delay_na = is.na(arr_delay)\n",
        "  )\n",
        "\n",
        "# Interpretación:\n",
        " # La mayoría de los vuelos con tailnum faltante también tienen dep_time como NA,\n",
        " # lo cual indica que el vuelo fue cancelado (porque no despegó, no tiene retraso,\n",
        " #y tampoco llegó)."
      ],
      "metadata": {
        "id": "qkocUQRHnzb2"
      },
      "execution_count": null,
      "outputs": []
    },
    {
      "cell_type": "markdown",
      "source": [
        "---\n",
        "\n",
        "7. Filtrar vuelos que tienen aviones con al menos 100 vuelos\n",
        "\n",
        "\n",
        "\n",
        "\n",
        "\n",
        "\n"
      ],
      "metadata": {
        "id": "vdpwNZlipZTL"
      }
    },
    {
      "cell_type": "code",
      "source": [
        "planes_con_100_vuelos <- flights %>%\n",
        "  count(tailnum) %>%\n",
        "  filter(n >= 100)\n",
        "\n",
        "flights %>%\n",
        "  semi_join(planes_con_100_vuelos, by = \"tailnum\") %>%\n",
        "  head()\n",
        "\n",
        "\n",
        "# Explicación:\n",
        "# `count(tailnum)` cuenta cuántos vuelos realizó cada avión.\n",
        "# `semi_join()` filtra los vuelos que pertenecen a esos aviones."
      ],
      "metadata": {
        "id": "1nfWYQ7kpfDc"
      },
      "execution_count": null,
      "outputs": []
    },
    {
      "cell_type": "code",
      "source": [
        "flights %>%\n",
        "  semi_join(\n",
        "    flights %>%\n",
        "      count(tailnum) %>%\n",
        "      filter(n >= 100),\n",
        "    by = \"tailnum\"\n",
        "  ) %>%\n",
        "  head()\n",
        "# todo en un sólo bloque"
      ],
      "metadata": {
        "id": "0Lr6uKDIs9J9"
      },
      "execution_count": null,
      "outputs": []
    },
    {
      "cell_type": "markdown",
      "source": [
        "9. Encontrar las 48 horas con más retrasos y cruzarlas con datos climáticos\n"
      ],
      "metadata": {
        "id": "Dbdtewm7tNgN"
      }
    },
    {
      "cell_type": "code",
      "source": [
        "peores_horas <- flights %>%\n",
        "  filter(!is.na(dep_delay)) %>%\n",
        "  group_by(origin, year, month, day, hour) %>%\n",
        "  summarise(delay_total = mean(dep_delay), .groups = \"drop\") %>%\n",
        "  arrange(desc(delay_total)) %>%\n",
        "  slice(1:48)\n",
        "# Unimos con weather para explorar relación\n",
        "join_clima <- left_join(peores_horas, weather, by = c(\"origin\", \"year\", \"month\", \"day\", \"hour\"))\n",
        "head(join_clima)\n",
        "\n",
        "\n",
        "#Interpretación: Al cruzar los peores retrasos con clima, podemos identificar patrones\n",
        "#(como baja visibilidad, lluvia o viento).\n"
      ],
      "metadata": {
        "id": "qaOSoRy_tTN0"
      },
      "execution_count": null,
      "outputs": []
    },
    {
      "cell_type": "markdown",
      "source": [
        "10. Interpretar anti_join con aeropuertos\n",
        "\n",
        "\n"
      ],
      "metadata": {
        "id": "czbopW7HtwLg"
      }
    },
    {
      "cell_type": "code",
      "source": [
        "anti_join(flights, airports, by = c(\"dest\" = \"faa\"))\n",
        "anti_join(airports, flights, by = c(\"faa\" = \"dest\"))\n",
        "\n",
        "\n",
        "#Interpretación:\n",
        "# El primer `anti_join()` muestra vuelos cuyo destino no tiene información en `airports`.\n",
        "# El segundo muestra aeropuertos en `airports` que nunca fueron destino en `flights`.\n"
      ],
      "metadata": {
        "id": "hx8xpT-Rt0fE"
      },
      "execution_count": null,
      "outputs": []
    },
    {
      "cell_type": "markdown",
      "source": [
        "11. Verificar si un avión es operado por una sola aerolínea\n",
        "\n"
      ],
      "metadata": {
        "id": "ZhVNTENat7TH"
      }
    },
    {
      "cell_type": "code",
      "source": [
        "flights %>%\n",
        "  filter(!is.na(tailnum)) %>%\n",
        "  distinct(tailnum, carrier) %>%\n",
        "  count(tailnum) %>%\n",
        "  filter(n > 1)\n",
        "\n",
        "\n",
        "#Interpretación:\n",
        "# Si hay resultados, significa que **algunos aviones son usados por más de una aerolínea**, por lo que **no se cumple la hipótesis** de relación uno a uno.\n",
        "# Si el resultado está vacío, cada avión pertenece a una sola aerolínea.\n",
        "\n",
        "\n"
      ],
      "metadata": {
        "id": "zw2j7Le3t-is"
      },
      "execution_count": null,
      "outputs": []
    },
    {
      "cell_type": "markdown",
      "source": [
        "## data.table\n",
        "\n",
        "`data.table` es una alternativa de alto rendimiento a `data.frame`, optimizada para manejar grandes volúmenes de datos de forma eficiente. Su sintaxis concisa permite combinar filtrado, selección y agrupación en una sola línea:\n",
        "\n",
        "``` r\n",
        "DT[i, j, by]\n",
        "```\n",
        "\n",
        "-   `i`: condiciones para filtrar filas.\n",
        "-   `j`: operaciones sobre columnas.\n",
        "-   `by`: agrupamiento por variables.\n",
        "\n",
        "Ventajas: - Muy eficiente en términos de velocidad y uso de memoria. - Permite modificar datos sin copiar (in-place). - Ideal para trabajar con millones de filas.\n",
        "\n",
        "En esta sección vamos a replicar parte de los ejercicios realizados en la sección anterior, pero esta vez con data.table.\n",
        "\n",
        "------------------------------------------------------------------------\n"
      ],
      "metadata": {
        "id": "HHmck1XHxkxI"
      }
    },
    {
      "cell_type": "code",
      "source": [
        "library(data.table)\n",
        "# Convertimos a data.table\n",
        "flights_dt <- as.data.table(flights) #tenemos que asegurarnos que la base esté en el formato data.tablepara utilizar las funciones"
      ],
      "metadata": {
        "id": "2tYq3xM0xbhC"
      },
      "execution_count": null,
      "outputs": []
    },
    {
      "cell_type": "markdown",
      "source": [
        "### Filtrar:"
      ],
      "metadata": {
        "id": "958FxfTBwysr"
      }
    },
    {
      "cell_type": "code",
      "source": [
        "#Dplyr:\n",
        "filter(flights,month == 1, day == 1)\n"
      ],
      "metadata": {
        "id": "Jjx9FaDz6g3l",
        "collapsed": true
      },
      "execution_count": null,
      "outputs": []
    },
    {
      "cell_type": "code",
      "source": [
        "#data.table\n",
        "flights_dt[month == 1 & day == 1]\n"
      ],
      "metadata": {
        "id": "Y1v67UqRw6go",
        "collapsed": true
      },
      "execution_count": null,
      "outputs": []
    },
    {
      "cell_type": "markdown",
      "source": [
        "### Ordenar:"
      ],
      "metadata": {
        "id": "1HyT9ZvtyebS"
      }
    },
    {
      "cell_type": "code",
      "source": [
        "# Dplyr\n",
        "arrange(flights,year, month, day)\n",
        "\n"
      ],
      "metadata": {
        "collapsed": true,
        "id": "D4_mDFJLyhJn"
      },
      "execution_count": null,
      "outputs": []
    },
    {
      "cell_type": "code",
      "source": [
        "# data.table:\n",
        "flights_dt[order(year, month, day)]"
      ],
      "metadata": {
        "id": "8z9qXQiYxSZQ",
        "collapsed": true
      },
      "execution_count": null,
      "outputs": []
    },
    {
      "cell_type": "code",
      "source": [
        "#Dplyr\n",
        "arrange(flights,desc(dep_delay))"
      ],
      "metadata": {
        "id": "GkycayafvUHK",
        "collapsed": true
      },
      "execution_count": null,
      "outputs": []
    },
    {
      "cell_type": "code",
      "source": [
        "# data.table\n",
        "flights_dt[order(-dep_delay)]"
      ],
      "metadata": {
        "id": "vFh7iHY5rZLq",
        "collapsed": true
      },
      "execution_count": null,
      "outputs": []
    },
    {
      "cell_type": "markdown",
      "source": [
        "### Seleccionar"
      ],
      "metadata": {
        "id": "gTuOpXtOzbc3"
      }
    },
    {
      "cell_type": "code",
      "source": [
        "#Dplyr\n",
        "select(flights,year, month, day)\n",
        "#data.table:\n",
        "flights_dt[, .(year, month, day)]\n",
        "# data.table requiere que las columnas se especifiquen\n",
        "# con . antes de ()"
      ],
      "metadata": {
        "collapsed": true,
        "id": "kAhrJKf9zdOm"
      },
      "execution_count": null,
      "outputs": []
    },
    {
      "cell_type": "markdown",
      "source": [
        "### Crear nuevas columnas (mutate)"
      ],
      "metadata": {
        "id": "n_GWSEtRzwlf"
      }
    },
    {
      "cell_type": "code",
      "source": [
        "# Dplyr\n",
        " mutate(flights,gain = arr_delay - dep_delay)\n",
        "# data.table:\n",
        "flights_dt[, gain := arr_delay - dep_delay]\n",
        "#:= modifica directamente el objeto\n",
        "#(a menos que se copie explícitamente).\n",
        "\n",
        "#Quiere decir que si haces una copia del objeto, entonces los cambios con := se hacen sobre la copia, no sobre el original.\n",
        "#Por ejemplo:\n",
        "\n",
        "#r\n",
        "#Copiar código\n",
        "#copia <- copy(flights_dt)  # copia profunda del objeto\n",
        "#copia[, nueva_columna := 1]  # modifica solo 'copia'\n",
        "#En este caso, flights_dt no se ve afectado, porque hicimos\n",
        "#una copia explícita con copy()."
      ],
      "metadata": {
        "collapsed": true,
        "id": "ymC43q3Wz0as"
      },
      "execution_count": null,
      "outputs": []
    },
    {
      "cell_type": "markdown",
      "source": [],
      "metadata": {
        "id": "UKcJE9Mj0QsK"
      }
    },
    {
      "cell_type": "markdown",
      "source": [
        "### Ranking:"
      ],
      "metadata": {
        "id": "DDdq6gfo00Si"
      }
    },
    {
      "cell_type": "code",
      "source": [
        "#Dplyr\n",
        "mutate(flights,rank = min_rank(dep_delay))\n",
        "mutate(flights,rn = row_number(dep_delay))\n",
        "\n"
      ],
      "metadata": {
        "id": "6RDHTlzx031B"
      },
      "execution_count": null,
      "outputs": []
    },
    {
      "cell_type": "code",
      "source": [
        "#data.table:\n",
        "flights_dt[, rank := frank(dep_delay, ties.method = \"min\")]\n",
        "flights_dt[, rn := frank(dep_delay, ties.method = \"first\")]\n",
        "# frank() es la función de data.table para rankings.\n",
        "flights_dt"
      ],
      "metadata": {
        "id": "fTFjRydh1QeK"
      },
      "execution_count": null,
      "outputs": []
    },
    {
      "cell_type": "markdown",
      "source": [
        "### Agrupación y resumen:"
      ],
      "metadata": {
        "id": "0SBBHGR61xxy"
      }
    },
    {
      "cell_type": "code",
      "source": [
        "#Dplyr\n",
        "flights %>%\n",
        "  group_by(dest) %>%\n",
        "  summarise(delay = mean(dep_delay, na.rm = TRUE)) %>%\n",
        "  arrange(dest)\n"
      ],
      "metadata": {
        "id": "8gaIbpgI10n6"
      },
      "execution_count": null,
      "outputs": []
    },
    {
      "cell_type": "code",
      "source": [
        "# data.table\n",
        "flights_dt[, .(delay = mean(dep_delay, na.rm = TRUE)), by = dest][order(dest)]\n"
      ],
      "metadata": {
        "id": "A6PPVMTx2Cfd"
      },
      "execution_count": null,
      "outputs": []
    },
    {
      "cell_type": "markdown",
      "source": [
        "### Tablas relacionadas:\n",
        "Supongamos que tenemos dos tablas: flights_dt y airports_dt."
      ],
      "metadata": {
        "id": "eliDdGcu3Z3F"
      }
    },
    {
      "cell_type": "code",
      "source": [
        "airports_dt <- as.data.table(airports)\n"
      ],
      "metadata": {
        "id": "W_l7NsLR3cQw"
      },
      "execution_count": null,
      "outputs": []
    },
    {
      "cell_type": "code",
      "source": [
        "#Dplyr\n",
        "flights %>% left_join(airports, by = c(\"dest\" = \"faa\"))\n",
        "flights"
      ],
      "metadata": {
        "id": "N2smFaxd3kXV"
      },
      "execution_count": null,
      "outputs": []
    },
    {
      "cell_type": "code",
      "source": [
        "#Data.table\n",
        "\n",
        "merge(flights_dt, airports_dt, by.x = \"dest\", by.y = \"faa\", all.x = TRUE)\n"
      ],
      "metadata": {
        "id": "pgz2_Zzn30RU"
      },
      "execution_count": null,
      "outputs": []
    },
    {
      "cell_type": "markdown",
      "source": [
        "Más relaciones:\n",
        "\n",
        "`base::merge()` puede realizar los cuatro tipos de uniones que crean variables (\"traen vairalbes de otras bases\"):\n",
        "\n",
        "| `dplyr`             | `merge` en base R                                      |\n",
        "|---------------------|--------------------------------------------------------|\n",
        "| `inner_join(x, y)`  | `merge(x, y)`                                          |\n",
        "| `left_join(x, y)`   | `merge(x, y, all.x = TRUE)`                            |\n",
        "| `right_join(x, y)`  | `merge(x, y, all.y = TRUE)`                            |\n",
        "| `full_join(x, y)`   | `merge(x, y, all.x = TRUE, all.y = TRUE)`              |\n",
        "\n",
        "**Ventajas de los verbos específicos de `dplyr`:**\n",
        "\n",
        "- Expresan más claramente la intención del código.\n",
        "- Las diferencias entre los tipos de unión son más evidentes que en los argumentos de `merge()`.\n",
        "- Las uniones con `dplyr` son mucho más rápidas y no alteran el orden de las filas.\n",
        "\n",
        "`dplyr` se inspira en SQL, por lo que su sintaxis resulta más intuitiva si ya conoces bases de datos.\n"
      ],
      "metadata": {
        "id": "Y_PXFGsL4-KM"
      }
    },
    {
      "cell_type": "markdown",
      "source": [
        "Ejercicios data.table:\n",
        "1."
      ],
      "metadata": {
        "id": "Wu3QHvV_5SbS"
      }
    },
    {
      "cell_type": "code",
      "source": [
        "# Convertir flights a data.table\n",
        "flights_dt <- as.data.table(flights)\n",
        "\n",
        "# 1. Vuelos que llegaron con más de 2 horas de retraso pero no salieron tarde\n",
        "vuelos_retrasados_llegada <- flights_dt[arr_delay > 120 & dep_delay <= 0]\n",
        "\n",
        "# 2. Vuelos que partieron entre medianoche y las 6:00 a.m. (inclusive)\n",
        "vuelos_madrugada <- flights_dt[dep_time >= 0 & dep_time <= 600]\n",
        "\n",
        "# 3. Vuelos ordenados por mayor retraso en salida\n",
        "dep_mas_retrasados <- flights_dt[order(-dep_delay)]\n",
        "\n",
        "# 4. Vuelos más rápidos (velocidad = distancia / tiempo)\n",
        "# Primero creamos una columna tiempo_horas\n",
        "flights_dt[, tiempo_horas := air_time / 60]\n",
        "flights_dt[, velocidad_kmh := distance / tiempo_horas]\n",
        "\n",
        "vuelos_mas_rapidos <- flights_dt[!is.na(velocidad_kmh)][order(-velocidad_kmh)]\n",
        "\n",
        "# 5. Seleccionar columnas desde dep_time hasta arr_time\n",
        "cols_range <- which(names(flights_dt) == \"dep_time\"):which(names(flights_dt) == \"arr_time\")\n",
        "dep_arr_info <- flights_dt[, ..cols_range]\n",
        "\n",
        "# 6. Seleccionar columnas que comienzan con \"dep\" o terminan con \"time\"\n",
        "cols_dep <- grep(\"^dep\", names(flights_dt), value = TRUE)\n",
        "cols_time <- grep(\"time$\", names(flights_dt), value = TRUE)\n",
        "cols_comb <- unique(c(cols_dep, cols_time))\n",
        "info_tiempos <- flights_dt[, ..cols_comb]\n",
        "\n",
        "# 7. Convertir dep_time y sched_dep_time en minutos desde medianoche\n",
        "flights_dt[, dep_time_min := (dep_time %/% 100) * 60 + (dep_time %% 100)]\n",
        "flights_dt[, sched_dep_time_min := (sched_dep_time %/% 100) * 60 + (sched_dep_time %% 100)]\n",
        "\n",
        "# 8. Simulación de vuelo que se adelanta o retrasa 15 min (50% cada uno)\n",
        "set.seed(123)\n",
        "flights_dt[, simulated_delay := sample(c(-15, 15), .N, replace = TRUE)]\n",
        "\n",
        "# 9. Avión (tailnum) con peor puntualidad promedio\n",
        "peor_puntualidad <- flights_dt[!is.na(arr_delay), .(media_retraso = mean(arr_delay)), by = tailnum][order(-media_retraso)]\n",
        "\n",
        "# 10. Número de vuelos sin información de avión\n",
        "total_sin_avion <- flights_dt[is.na(tailnum), .N]\n",
        "\n",
        "# 11. Aerolíneas que aparecen en flights pero no están en airlines\n",
        "\n",
        "# Convertimos airlines a data.table\n",
        "airlines_dt <- as.data.table(airlines)\n",
        "\n",
        "# Obtener las aerolíneas únicas en flights\n",
        "carriers_en_flights <- unique(flights_dt[, .(carrier)])\n",
        "\n",
        "# Realizar la unión y filtrar las que no están en airlines\n",
        "lineas_faltantes <- merge(\n",
        "  carriers_en_flights,\n",
        "  airlines_dt,\n",
        "  by = \"carrier\",\n",
        "  all.x = TRUE\n",
        ")\n",
        "\n",
        "lineas_faltantes[is.na(name)]\n",
        "\n",
        "\n",
        "# 12. Aeropuertos que aparecen como origen pero nunca como destino\n",
        "origenes <- unique(flights_dt$origin)\n",
        "destinos <- unique(flights_dt$dest)\n",
        "origenes_no_destinos <- setdiff(origenes, destinos)\n"
      ],
      "metadata": {
        "id": "mCnvUAWl5RxM"
      },
      "execution_count": null,
      "outputs": []
    }
  ]
}