{
  "nbformat": 4,
  "nbformat_minor": 0,
  "metadata": {
    "colab": {
      "provenance": [],
      "gpuType": "T4",
      "authorship_tag": "ABX9TyOVbp2bEvWArlGNfqqJFo5f",
      "include_colab_link": true
    },
    "kernelspec": {
      "name": "ir",
      "display_name": "R"
    },
    "language_info": {
      "name": "R"
    },
    "accelerator": "GPU"
  },
  "cells": [
    {
      "cell_type": "markdown",
      "metadata": {
        "id": "view-in-github",
        "colab_type": "text"
      },
      "source": [
        "<a href=\"https://colab.research.google.com/github/ednavivianasegura/ERAP_Curso_R/blob/main/ERAP_R_Course.ipynb\" target=\"_parent\"><img src=\"https://colab.research.google.com/assets/colab-badge.svg\" alt=\"Open In Colab\"/></a>"
      ]
    },
    {
      "cell_type": "markdown",
      "source": [
        "**Título**:  Manipulación de datos con R                                 \n",
        "                                          \n",
        "**Autor(es)**:  Edna Viviana Segura Alvarado - Hans Mauricio Carrillo Hernández\n",
        "\n",
        "**Fecha**: 2025-05\n",
        "\n",
        "**Institución**: Universidad de La Rioja    "
      ],
      "metadata": {
        "id": "4Cl1dG5guaUP"
      }
    },
    {
      "cell_type": "code",
      "source": [
        "# Función para instalar si no está instalado\n",
        "instalar_si_no <- function(paquete) {\n",
        "    if (!requireNamespace(paquete, quietly = TRUE)) {\n",
        "    install.packages(paquete, repos = \"https://cloud.r-project.org\")\n",
        "  }\n",
        "  library(paquete, character.only = TRUE)\n",
        "}\n",
        "\n",
        "# Lista de paquetes a verificar\n",
        "paquetes <- c(\"tidyverse\", \"data.table\", \"psych\", \"moments\", \"nycflights13\", \"dplyr\")\n",
        "\n",
        "# Instalar y cargar todos\n",
        "invisible(lapply(paquetes, instalar_si_no))"
      ],
      "metadata": {
        "id": "CzG3mDIin_q1"
      },
      "execution_count": null,
      "outputs": []
    },
    {
      "cell_type": "markdown",
      "source": [
        "                      \n",
        "\n",
        "\n",
        "**Contenido del curso:**\n",
        "\n",
        "**Módulo 1**: Manipulación de Datos con dplyr y data.table (5 horas) Objetivo: Aprender a manipular y transformar datos usando las herramientas más comunes de R. Práctica: Transformar un conjunto de datos usando diferentes métodos.\n",
        "\n",
        "**Módulo 2**: Manejo de Datos Desordenados y Falta de Información (5 horas) Objetivo: Aprender a limpiar datos desordenados, manejar datos faltantes y formatear conjuntos de datos. Práctica: Limpieza y estructuración de un conjunto de datos desorganizado.\n",
        "\n",
        "**Módulo 3**: Visualización de Datos con ggplot2 (5 horas) Objetivo: Crear gráficos avanzados para analizar visualmente los datos utilizando ggplot2. Práctica: Crear una serie de gráficos que exploren visualmente un conjunto de datos.\n",
        "\n",
        "**Módulo 4**: Exploración de Datos y Estadística Descriptiva (5 horas) Objetivo: Aplicar métodos estadísticos para explorar y describir conjuntos de datos. Práctica: Realizar un análisis descriptivo sobre un conjunto de datos usando técnicas estadísticas básicas\n",
        "\n",
        "# Modulo I: Manipulación de Datos con dplyr y data.table: introducción\n",
        "\n",
        "En esta sección se presentan dos de las librerías más potentes para manipulación de datos en R: `dplyr` y `data.table`.\n",
        "\n",
        "Por su sencillez, desde el punto de vista académico, iniciaremos con Dplyr, luego repetiremos los ejercicios con data.table, mostrando sus diferencias y bondades.\n",
        "------------------------------------------------------------------------\n",
        "\n",
        "## dplyr\n",
        "\n",
        "`dplyr` forma parte del ecosistema **tidyverse**, diseñado para trabajar con datos de forma ordenada, clara y legible. Utiliza funciones denominadas *verbos* para transformar data frames:\n",
        "\n",
        "-   `filter()`: selecciona filas según condiciones lógicas.\n",
        "-   `select()`: selecciona columnas específicas también teniendo en cuenta condiciones.\n",
        "-   `mutate()`: crea nuevas variables o transforma existentes.\n",
        "-   `arrange()`: ordena filas.\n",
        "-   `group_by()` + `summarise()`: agrupa y resume datos.\n",
        "\n",
        "------------------------------------------------------------------------\n",
        "\n",
        "**¿Qué es tidyverse?**\n",
        "\n",
        "El **tidyverse** es una colección de paquetes R con una filosofía de diseño común: trabajar con datos ordenados (*tidy data*).\n",
        "\n",
        "**Principales paquetes del tidyverse:**\n",
        "\n",
        "| Paquete         | Función principal                              |\n",
        "|-----------------|------------------------------------------------|\n",
        "| ***`dplyr`***   | Manipulación de datos                          |\n",
        "| ***`ggplot2`*** | Visualización de datos                         |\n",
        "| `tidyr`         | Transformación y ordenación de datos           |\n",
        "| `readr`         | Lectura eficiente de archivos CSV y planos     |\n",
        "| ***`tibble`***  | Versión moderna de `data.frame`                |\n",
        "| `stringr`       | Manipulación de cadenas de texto               |\n",
        "| `forcats`       | Manejo de factores (variables categóricas)     |\n",
        "| `purrr`         | Programación funcional sobre listas y vectores |\n",
        "\n",
        "------------------------------------------------------------------------\n"
      ],
      "metadata": {
        "id": "R-3UJKkSoXrm"
      }
    },
    {
      "cell_type": "code",
      "execution_count": 11,
      "metadata": {
        "id": "o5w4jAkKn5yT"
      },
      "outputs": [],
      "source": [
        "??tidyverse"
      ]
    },
    {
      "cell_type": "markdown",
      "source": [
        "## data.table\n",
        "\n",
        "`data.table` es una alternativa de alto rendimiento a `data.frame`, optimizada para manejar grandes volúmenes de datos de forma eficiente. Su sintaxis concisa permite combinar filtrado, selección y agrupación en una sola línea:\n",
        "\n",
        "``` r\n",
        "DT[i, j, by]\n",
        "```\n",
        "\n",
        "-   `i`: condiciones para filtrar filas.\n",
        "-   `j`: operaciones sobre columnas.\n",
        "-   `by`: agrupamiento por variables.\n",
        "\n",
        "Ventajas: - Muy eficiente en términos de velocidad y uso de memoria. - Permite modificar datos sin copiar (in-place). - Ideal para trabajar con millones de filas.\n",
        "\n",
        "------------------------------------------------------------------------\n",
        "\n",
        "**Bibliografía recomendada**\n",
        "\n",
        "-   Wickham, H., & Grolemund, G. (2023). *R para ciencia de datos*.\\\n",
        "    Disponible en línea:\\\n",
        "    <https://r4ds.had.co.nz>\n",
        "-   Dowle, M., & Srinivasan, A. (2024). *data.table: Extension of `data.frame`*. Paquete R. Disponible en: <https://cran.r-project.org/package=data.table>"
      ],
      "metadata": {
        "id": "n13UmL9dp1Sl"
      }
    },
    {
      "cell_type": "markdown",
      "source": [
        "**Introducción al paquete de los datos a usar `nycflights13`**\n",
        "\n",
        "El paquete `nycflights13` contiene datos reales sobre todos los vuelos que salieron desde los aeropuertos de Nueva York durante el año 2013.\n",
        "\n",
        "**¿Qué datos contiene el paquete?**\n",
        "\n",
        "El paquete incluye 5 tablas principales:\n",
        "\n",
        "-   `flights`: datos de vuelos\n",
        "-   `airlines`: aerolíneas\n",
        "-   `airports`: aeropuertos\n",
        "-   `planes`: aviones\n",
        "-   `weather`: clima\n",
        "\n",
        "Podemos acceder a cada una directamente por su nombre:"
      ],
      "metadata": {
        "id": "yp-ohPztqELR"
      }
    },
    {
      "cell_type": "code",
      "source": [
        "# Acceso a las tablas\n",
        "head(flights)\n"
      ],
      "metadata": {
        "colab": {
          "base_uri": "https://localhost:8080/",
          "height": 286
        },
        "id": "n27peqfjqPRA",
        "outputId": "7eaa3618-b975-42ba-c110-6969351c84aa"
      },
      "execution_count": 5,
      "outputs": [
        {
          "output_type": "display_data",
          "data": {
            "text/html": [
              "<table class=\"dataframe\">\n",
              "<caption>A tibble: 6 × 19</caption>\n",
              "<thead>\n",
              "\t<tr><th scope=col>year</th><th scope=col>month</th><th scope=col>day</th><th scope=col>dep_time</th><th scope=col>sched_dep_time</th><th scope=col>dep_delay</th><th scope=col>arr_time</th><th scope=col>sched_arr_time</th><th scope=col>arr_delay</th><th scope=col>carrier</th><th scope=col>flight</th><th scope=col>tailnum</th><th scope=col>origin</th><th scope=col>dest</th><th scope=col>air_time</th><th scope=col>distance</th><th scope=col>hour</th><th scope=col>minute</th><th scope=col>time_hour</th></tr>\n",
              "\t<tr><th scope=col>&lt;int&gt;</th><th scope=col>&lt;int&gt;</th><th scope=col>&lt;int&gt;</th><th scope=col>&lt;int&gt;</th><th scope=col>&lt;int&gt;</th><th scope=col>&lt;dbl&gt;</th><th scope=col>&lt;int&gt;</th><th scope=col>&lt;int&gt;</th><th scope=col>&lt;dbl&gt;</th><th scope=col>&lt;chr&gt;</th><th scope=col>&lt;int&gt;</th><th scope=col>&lt;chr&gt;</th><th scope=col>&lt;chr&gt;</th><th scope=col>&lt;chr&gt;</th><th scope=col>&lt;dbl&gt;</th><th scope=col>&lt;dbl&gt;</th><th scope=col>&lt;dbl&gt;</th><th scope=col>&lt;dbl&gt;</th><th scope=col>&lt;dttm&gt;</th></tr>\n",
              "</thead>\n",
              "<tbody>\n",
              "\t<tr><td>2013</td><td>1</td><td>1</td><td>517</td><td>515</td><td> 2</td><td> 830</td><td> 819</td><td> 11</td><td>UA</td><td>1545</td><td>N14228</td><td>EWR</td><td>IAH</td><td>227</td><td>1400</td><td>5</td><td>15</td><td>2013-01-01 05:00:00</td></tr>\n",
              "\t<tr><td>2013</td><td>1</td><td>1</td><td>533</td><td>529</td><td> 4</td><td> 850</td><td> 830</td><td> 20</td><td>UA</td><td>1714</td><td>N24211</td><td>LGA</td><td>IAH</td><td>227</td><td>1416</td><td>5</td><td>29</td><td>2013-01-01 05:00:00</td></tr>\n",
              "\t<tr><td>2013</td><td>1</td><td>1</td><td>542</td><td>540</td><td> 2</td><td> 923</td><td> 850</td><td> 33</td><td>AA</td><td>1141</td><td>N619AA</td><td>JFK</td><td>MIA</td><td>160</td><td>1089</td><td>5</td><td>40</td><td>2013-01-01 05:00:00</td></tr>\n",
              "\t<tr><td>2013</td><td>1</td><td>1</td><td>544</td><td>545</td><td>-1</td><td>1004</td><td>1022</td><td>-18</td><td>B6</td><td> 725</td><td>N804JB</td><td>JFK</td><td>BQN</td><td>183</td><td>1576</td><td>5</td><td>45</td><td>2013-01-01 05:00:00</td></tr>\n",
              "\t<tr><td>2013</td><td>1</td><td>1</td><td>554</td><td>600</td><td>-6</td><td> 812</td><td> 837</td><td>-25</td><td>DL</td><td> 461</td><td>N668DN</td><td>LGA</td><td>ATL</td><td>116</td><td> 762</td><td>6</td><td> 0</td><td>2013-01-01 06:00:00</td></tr>\n",
              "\t<tr><td>2013</td><td>1</td><td>1</td><td>554</td><td>558</td><td>-4</td><td> 740</td><td> 728</td><td> 12</td><td>UA</td><td>1696</td><td>N39463</td><td>EWR</td><td>ORD</td><td>150</td><td> 719</td><td>5</td><td>58</td><td>2013-01-01 05:00:00</td></tr>\n",
              "</tbody>\n",
              "</table>\n"
            ],
            "text/markdown": "\nA tibble: 6 × 19\n\n| year &lt;int&gt; | month &lt;int&gt; | day &lt;int&gt; | dep_time &lt;int&gt; | sched_dep_time &lt;int&gt; | dep_delay &lt;dbl&gt; | arr_time &lt;int&gt; | sched_arr_time &lt;int&gt; | arr_delay &lt;dbl&gt; | carrier &lt;chr&gt; | flight &lt;int&gt; | tailnum &lt;chr&gt; | origin &lt;chr&gt; | dest &lt;chr&gt; | air_time &lt;dbl&gt; | distance &lt;dbl&gt; | hour &lt;dbl&gt; | minute &lt;dbl&gt; | time_hour &lt;dttm&gt; |\n|---|---|---|---|---|---|---|---|---|---|---|---|---|---|---|---|---|---|---|\n| 2013 | 1 | 1 | 517 | 515 |  2 |  830 |  819 |  11 | UA | 1545 | N14228 | EWR | IAH | 227 | 1400 | 5 | 15 | 2013-01-01 05:00:00 |\n| 2013 | 1 | 1 | 533 | 529 |  4 |  850 |  830 |  20 | UA | 1714 | N24211 | LGA | IAH | 227 | 1416 | 5 | 29 | 2013-01-01 05:00:00 |\n| 2013 | 1 | 1 | 542 | 540 |  2 |  923 |  850 |  33 | AA | 1141 | N619AA | JFK | MIA | 160 | 1089 | 5 | 40 | 2013-01-01 05:00:00 |\n| 2013 | 1 | 1 | 544 | 545 | -1 | 1004 | 1022 | -18 | B6 |  725 | N804JB | JFK | BQN | 183 | 1576 | 5 | 45 | 2013-01-01 05:00:00 |\n| 2013 | 1 | 1 | 554 | 600 | -6 |  812 |  837 | -25 | DL |  461 | N668DN | LGA | ATL | 116 |  762 | 6 |  0 | 2013-01-01 06:00:00 |\n| 2013 | 1 | 1 | 554 | 558 | -4 |  740 |  728 |  12 | UA | 1696 | N39463 | EWR | ORD | 150 |  719 | 5 | 58 | 2013-01-01 05:00:00 |\n\n",
            "text/latex": "A tibble: 6 × 19\n\\begin{tabular}{lllllllllllllllllll}\n year & month & day & dep\\_time & sched\\_dep\\_time & dep\\_delay & arr\\_time & sched\\_arr\\_time & arr\\_delay & carrier & flight & tailnum & origin & dest & air\\_time & distance & hour & minute & time\\_hour\\\\\n <int> & <int> & <int> & <int> & <int> & <dbl> & <int> & <int> & <dbl> & <chr> & <int> & <chr> & <chr> & <chr> & <dbl> & <dbl> & <dbl> & <dbl> & <dttm>\\\\\n\\hline\n\t 2013 & 1 & 1 & 517 & 515 &  2 &  830 &  819 &  11 & UA & 1545 & N14228 & EWR & IAH & 227 & 1400 & 5 & 15 & 2013-01-01 05:00:00\\\\\n\t 2013 & 1 & 1 & 533 & 529 &  4 &  850 &  830 &  20 & UA & 1714 & N24211 & LGA & IAH & 227 & 1416 & 5 & 29 & 2013-01-01 05:00:00\\\\\n\t 2013 & 1 & 1 & 542 & 540 &  2 &  923 &  850 &  33 & AA & 1141 & N619AA & JFK & MIA & 160 & 1089 & 5 & 40 & 2013-01-01 05:00:00\\\\\n\t 2013 & 1 & 1 & 544 & 545 & -1 & 1004 & 1022 & -18 & B6 &  725 & N804JB & JFK & BQN & 183 & 1576 & 5 & 45 & 2013-01-01 05:00:00\\\\\n\t 2013 & 1 & 1 & 554 & 600 & -6 &  812 &  837 & -25 & DL &  461 & N668DN & LGA & ATL & 116 &  762 & 6 &  0 & 2013-01-01 06:00:00\\\\\n\t 2013 & 1 & 1 & 554 & 558 & -4 &  740 &  728 &  12 & UA & 1696 & N39463 & EWR & ORD & 150 &  719 & 5 & 58 & 2013-01-01 05:00:00\\\\\n\\end{tabular}\n",
            "text/plain": [
              "  year month day dep_time sched_dep_time dep_delay arr_time sched_arr_time\n",
              "1 2013 1     1   517      515             2         830      819          \n",
              "2 2013 1     1   533      529             4         850      830          \n",
              "3 2013 1     1   542      540             2         923      850          \n",
              "4 2013 1     1   544      545            -1        1004     1022          \n",
              "5 2013 1     1   554      600            -6         812      837          \n",
              "6 2013 1     1   554      558            -4         740      728          \n",
              "  arr_delay carrier flight tailnum origin dest air_time distance hour minute\n",
              "1  11       UA      1545   N14228  EWR    IAH  227      1400     5    15    \n",
              "2  20       UA      1714   N24211  LGA    IAH  227      1416     5    29    \n",
              "3  33       AA      1141   N619AA  JFK    MIA  160      1089     5    40    \n",
              "4 -18       B6       725   N804JB  JFK    BQN  183      1576     5    45    \n",
              "5 -25       DL       461   N668DN  LGA    ATL  116       762     6     0    \n",
              "6  12       UA      1696   N39463  EWR    ORD  150       719     5    58    \n",
              "  time_hour          \n",
              "1 2013-01-01 05:00:00\n",
              "2 2013-01-01 05:00:00\n",
              "3 2013-01-01 05:00:00\n",
              "4 2013-01-01 05:00:00\n",
              "5 2013-01-01 06:00:00\n",
              "6 2013-01-01 05:00:00"
            ]
          },
          "metadata": {}
        }
      ]
    },
    {
      "cell_type": "code",
      "source": [
        "head(airlines)"
      ],
      "metadata": {
        "colab": {
          "base_uri": "https://localhost:8080/",
          "height": 286
        },
        "id": "5OevChNCqSfE",
        "outputId": "419f26b4-c3b4-414e-c0b9-e1b3bf3889e3"
      },
      "execution_count": 6,
      "outputs": [
        {
          "output_type": "display_data",
          "data": {
            "text/html": [
              "<table class=\"dataframe\">\n",
              "<caption>A tibble: 6 × 2</caption>\n",
              "<thead>\n",
              "\t<tr><th scope=col>carrier</th><th scope=col>name</th></tr>\n",
              "\t<tr><th scope=col>&lt;chr&gt;</th><th scope=col>&lt;chr&gt;</th></tr>\n",
              "</thead>\n",
              "<tbody>\n",
              "\t<tr><td>9E</td><td>Endeavor Air Inc.       </td></tr>\n",
              "\t<tr><td>AA</td><td>American Airlines Inc.  </td></tr>\n",
              "\t<tr><td>AS</td><td>Alaska Airlines Inc.    </td></tr>\n",
              "\t<tr><td>B6</td><td>JetBlue Airways         </td></tr>\n",
              "\t<tr><td>DL</td><td>Delta Air Lines Inc.    </td></tr>\n",
              "\t<tr><td>EV</td><td>ExpressJet Airlines Inc.</td></tr>\n",
              "</tbody>\n",
              "</table>\n"
            ],
            "text/markdown": "\nA tibble: 6 × 2\n\n| carrier &lt;chr&gt; | name &lt;chr&gt; |\n|---|---|\n| 9E | Endeavor Air Inc.        |\n| AA | American Airlines Inc.   |\n| AS | Alaska Airlines Inc.     |\n| B6 | JetBlue Airways          |\n| DL | Delta Air Lines Inc.     |\n| EV | ExpressJet Airlines Inc. |\n\n",
            "text/latex": "A tibble: 6 × 2\n\\begin{tabular}{ll}\n carrier & name\\\\\n <chr> & <chr>\\\\\n\\hline\n\t 9E & Endeavor Air Inc.       \\\\\n\t AA & American Airlines Inc.  \\\\\n\t AS & Alaska Airlines Inc.    \\\\\n\t B6 & JetBlue Airways         \\\\\n\t DL & Delta Air Lines Inc.    \\\\\n\t EV & ExpressJet Airlines Inc.\\\\\n\\end{tabular}\n",
            "text/plain": [
              "  carrier name                    \n",
              "1 9E      Endeavor Air Inc.       \n",
              "2 AA      American Airlines Inc.  \n",
              "3 AS      Alaska Airlines Inc.    \n",
              "4 B6      JetBlue Airways         \n",
              "5 DL      Delta Air Lines Inc.    \n",
              "6 EV      ExpressJet Airlines Inc."
            ]
          },
          "metadata": {}
        }
      ]
    },
    {
      "cell_type": "code",
      "source": [
        "\n",
        "head(airports)"
      ],
      "metadata": {
        "colab": {
          "base_uri": "https://localhost:8080/",
          "height": 286
        },
        "id": "01se4qpeqiCs",
        "outputId": "87e07a4d-797e-4da2-dbf1-a0e1d205e254"
      },
      "execution_count": 7,
      "outputs": [
        {
          "output_type": "display_data",
          "data": {
            "text/html": [
              "<table class=\"dataframe\">\n",
              "<caption>A tibble: 6 × 8</caption>\n",
              "<thead>\n",
              "\t<tr><th scope=col>faa</th><th scope=col>name</th><th scope=col>lat</th><th scope=col>lon</th><th scope=col>alt</th><th scope=col>tz</th><th scope=col>dst</th><th scope=col>tzone</th></tr>\n",
              "\t<tr><th scope=col>&lt;chr&gt;</th><th scope=col>&lt;chr&gt;</th><th scope=col>&lt;dbl&gt;</th><th scope=col>&lt;dbl&gt;</th><th scope=col>&lt;dbl&gt;</th><th scope=col>&lt;dbl&gt;</th><th scope=col>&lt;chr&gt;</th><th scope=col>&lt;chr&gt;</th></tr>\n",
              "</thead>\n",
              "<tbody>\n",
              "\t<tr><td>04G</td><td>Lansdowne Airport             </td><td>41.13047</td><td>-80.61958</td><td>1044</td><td>-5</td><td>A</td><td>America/New_York</td></tr>\n",
              "\t<tr><td>06A</td><td>Moton Field Municipal Airport </td><td>32.46057</td><td>-85.68003</td><td> 264</td><td>-6</td><td>A</td><td>America/Chicago </td></tr>\n",
              "\t<tr><td>06C</td><td>Schaumburg Regional           </td><td>41.98934</td><td>-88.10124</td><td> 801</td><td>-6</td><td>A</td><td>America/Chicago </td></tr>\n",
              "\t<tr><td>06N</td><td>Randall Airport               </td><td>41.43191</td><td>-74.39156</td><td> 523</td><td>-5</td><td>A</td><td>America/New_York</td></tr>\n",
              "\t<tr><td>09J</td><td>Jekyll Island Airport         </td><td>31.07447</td><td>-81.42778</td><td>  11</td><td>-5</td><td>A</td><td>America/New_York</td></tr>\n",
              "\t<tr><td>0A9</td><td>Elizabethton Municipal Airport</td><td>36.37122</td><td>-82.17342</td><td>1593</td><td>-5</td><td>A</td><td>America/New_York</td></tr>\n",
              "</tbody>\n",
              "</table>\n"
            ],
            "text/markdown": "\nA tibble: 6 × 8\n\n| faa &lt;chr&gt; | name &lt;chr&gt; | lat &lt;dbl&gt; | lon &lt;dbl&gt; | alt &lt;dbl&gt; | tz &lt;dbl&gt; | dst &lt;chr&gt; | tzone &lt;chr&gt; |\n|---|---|---|---|---|---|---|---|\n| 04G | Lansdowne Airport              | 41.13047 | -80.61958 | 1044 | -5 | A | America/New_York |\n| 06A | Moton Field Municipal Airport  | 32.46057 | -85.68003 |  264 | -6 | A | America/Chicago  |\n| 06C | Schaumburg Regional            | 41.98934 | -88.10124 |  801 | -6 | A | America/Chicago  |\n| 06N | Randall Airport                | 41.43191 | -74.39156 |  523 | -5 | A | America/New_York |\n| 09J | Jekyll Island Airport          | 31.07447 | -81.42778 |   11 | -5 | A | America/New_York |\n| 0A9 | Elizabethton Municipal Airport | 36.37122 | -82.17342 | 1593 | -5 | A | America/New_York |\n\n",
            "text/latex": "A tibble: 6 × 8\n\\begin{tabular}{llllllll}\n faa & name & lat & lon & alt & tz & dst & tzone\\\\\n <chr> & <chr> & <dbl> & <dbl> & <dbl> & <dbl> & <chr> & <chr>\\\\\n\\hline\n\t 04G & Lansdowne Airport              & 41.13047 & -80.61958 & 1044 & -5 & A & America/New\\_York\\\\\n\t 06A & Moton Field Municipal Airport  & 32.46057 & -85.68003 &  264 & -6 & A & America/Chicago \\\\\n\t 06C & Schaumburg Regional            & 41.98934 & -88.10124 &  801 & -6 & A & America/Chicago \\\\\n\t 06N & Randall Airport                & 41.43191 & -74.39156 &  523 & -5 & A & America/New\\_York\\\\\n\t 09J & Jekyll Island Airport          & 31.07447 & -81.42778 &   11 & -5 & A & America/New\\_York\\\\\n\t 0A9 & Elizabethton Municipal Airport & 36.37122 & -82.17342 & 1593 & -5 & A & America/New\\_York\\\\\n\\end{tabular}\n",
            "text/plain": [
              "  faa name                           lat      lon       alt  tz dst\n",
              "1 04G Lansdowne Airport              41.13047 -80.61958 1044 -5 A  \n",
              "2 06A Moton Field Municipal Airport  32.46057 -85.68003  264 -6 A  \n",
              "3 06C Schaumburg Regional            41.98934 -88.10124  801 -6 A  \n",
              "4 06N Randall Airport                41.43191 -74.39156  523 -5 A  \n",
              "5 09J Jekyll Island Airport          31.07447 -81.42778   11 -5 A  \n",
              "6 0A9 Elizabethton Municipal Airport 36.37122 -82.17342 1593 -5 A  \n",
              "  tzone           \n",
              "1 America/New_York\n",
              "2 America/Chicago \n",
              "3 America/Chicago \n",
              "4 America/New_York\n",
              "5 America/New_York\n",
              "6 America/New_York"
            ]
          },
          "metadata": {}
        }
      ]
    },
    {
      "cell_type": "code",
      "source": [
        "\n",
        "head(planes)"
      ],
      "metadata": {
        "colab": {
          "base_uri": "https://localhost:8080/",
          "height": 286
        },
        "id": "6vbIbgRRqj9j",
        "outputId": "8b36ce91-921d-44e3-ff81-bcddfe6d350e"
      },
      "execution_count": 8,
      "outputs": [
        {
          "output_type": "display_data",
          "data": {
            "text/html": [
              "<table class=\"dataframe\">\n",
              "<caption>A tibble: 6 × 9</caption>\n",
              "<thead>\n",
              "\t<tr><th scope=col>tailnum</th><th scope=col>year</th><th scope=col>type</th><th scope=col>manufacturer</th><th scope=col>model</th><th scope=col>engines</th><th scope=col>seats</th><th scope=col>speed</th><th scope=col>engine</th></tr>\n",
              "\t<tr><th scope=col>&lt;chr&gt;</th><th scope=col>&lt;int&gt;</th><th scope=col>&lt;chr&gt;</th><th scope=col>&lt;chr&gt;</th><th scope=col>&lt;chr&gt;</th><th scope=col>&lt;int&gt;</th><th scope=col>&lt;int&gt;</th><th scope=col>&lt;int&gt;</th><th scope=col>&lt;chr&gt;</th></tr>\n",
              "</thead>\n",
              "<tbody>\n",
              "\t<tr><td>N10156</td><td>2004</td><td>Fixed wing multi engine</td><td>EMBRAER         </td><td>EMB-145XR</td><td>2</td><td> 55</td><td>NA</td><td>Turbo-fan</td></tr>\n",
              "\t<tr><td>N102UW</td><td>1998</td><td>Fixed wing multi engine</td><td>AIRBUS INDUSTRIE</td><td>A320-214 </td><td>2</td><td>182</td><td>NA</td><td>Turbo-fan</td></tr>\n",
              "\t<tr><td>N103US</td><td>1999</td><td>Fixed wing multi engine</td><td>AIRBUS INDUSTRIE</td><td>A320-214 </td><td>2</td><td>182</td><td>NA</td><td>Turbo-fan</td></tr>\n",
              "\t<tr><td>N104UW</td><td>1999</td><td>Fixed wing multi engine</td><td>AIRBUS INDUSTRIE</td><td>A320-214 </td><td>2</td><td>182</td><td>NA</td><td>Turbo-fan</td></tr>\n",
              "\t<tr><td>N10575</td><td>2002</td><td>Fixed wing multi engine</td><td>EMBRAER         </td><td>EMB-145LR</td><td>2</td><td> 55</td><td>NA</td><td>Turbo-fan</td></tr>\n",
              "\t<tr><td>N105UW</td><td>1999</td><td>Fixed wing multi engine</td><td>AIRBUS INDUSTRIE</td><td>A320-214 </td><td>2</td><td>182</td><td>NA</td><td>Turbo-fan</td></tr>\n",
              "</tbody>\n",
              "</table>\n"
            ],
            "text/markdown": "\nA tibble: 6 × 9\n\n| tailnum &lt;chr&gt; | year &lt;int&gt; | type &lt;chr&gt; | manufacturer &lt;chr&gt; | model &lt;chr&gt; | engines &lt;int&gt; | seats &lt;int&gt; | speed &lt;int&gt; | engine &lt;chr&gt; |\n|---|---|---|---|---|---|---|---|---|\n| N10156 | 2004 | Fixed wing multi engine | EMBRAER          | EMB-145XR | 2 |  55 | NA | Turbo-fan |\n| N102UW | 1998 | Fixed wing multi engine | AIRBUS INDUSTRIE | A320-214  | 2 | 182 | NA | Turbo-fan |\n| N103US | 1999 | Fixed wing multi engine | AIRBUS INDUSTRIE | A320-214  | 2 | 182 | NA | Turbo-fan |\n| N104UW | 1999 | Fixed wing multi engine | AIRBUS INDUSTRIE | A320-214  | 2 | 182 | NA | Turbo-fan |\n| N10575 | 2002 | Fixed wing multi engine | EMBRAER          | EMB-145LR | 2 |  55 | NA | Turbo-fan |\n| N105UW | 1999 | Fixed wing multi engine | AIRBUS INDUSTRIE | A320-214  | 2 | 182 | NA | Turbo-fan |\n\n",
            "text/latex": "A tibble: 6 × 9\n\\begin{tabular}{lllllllll}\n tailnum & year & type & manufacturer & model & engines & seats & speed & engine\\\\\n <chr> & <int> & <chr> & <chr> & <chr> & <int> & <int> & <int> & <chr>\\\\\n\\hline\n\t N10156 & 2004 & Fixed wing multi engine & EMBRAER          & EMB-145XR & 2 &  55 & NA & Turbo-fan\\\\\n\t N102UW & 1998 & Fixed wing multi engine & AIRBUS INDUSTRIE & A320-214  & 2 & 182 & NA & Turbo-fan\\\\\n\t N103US & 1999 & Fixed wing multi engine & AIRBUS INDUSTRIE & A320-214  & 2 & 182 & NA & Turbo-fan\\\\\n\t N104UW & 1999 & Fixed wing multi engine & AIRBUS INDUSTRIE & A320-214  & 2 & 182 & NA & Turbo-fan\\\\\n\t N10575 & 2002 & Fixed wing multi engine & EMBRAER          & EMB-145LR & 2 &  55 & NA & Turbo-fan\\\\\n\t N105UW & 1999 & Fixed wing multi engine & AIRBUS INDUSTRIE & A320-214  & 2 & 182 & NA & Turbo-fan\\\\\n\\end{tabular}\n",
            "text/plain": [
              "  tailnum year type                    manufacturer     model     engines seats\n",
              "1 N10156  2004 Fixed wing multi engine EMBRAER          EMB-145XR 2        55  \n",
              "2 N102UW  1998 Fixed wing multi engine AIRBUS INDUSTRIE A320-214  2       182  \n",
              "3 N103US  1999 Fixed wing multi engine AIRBUS INDUSTRIE A320-214  2       182  \n",
              "4 N104UW  1999 Fixed wing multi engine AIRBUS INDUSTRIE A320-214  2       182  \n",
              "5 N10575  2002 Fixed wing multi engine EMBRAER          EMB-145LR 2        55  \n",
              "6 N105UW  1999 Fixed wing multi engine AIRBUS INDUSTRIE A320-214  2       182  \n",
              "  speed engine   \n",
              "1 NA    Turbo-fan\n",
              "2 NA    Turbo-fan\n",
              "3 NA    Turbo-fan\n",
              "4 NA    Turbo-fan\n",
              "5 NA    Turbo-fan\n",
              "6 NA    Turbo-fan"
            ]
          },
          "metadata": {}
        }
      ]
    },
    {
      "cell_type": "code",
      "source": [
        "\n",
        "head(weather)"
      ],
      "metadata": {
        "colab": {
          "base_uri": "https://localhost:8080/",
          "height": 286
        },
        "id": "1WDB1K3uqlgU",
        "outputId": "e3b6fe03-6d82-425c-8aeb-c7f8fa4aa2a0"
      },
      "execution_count": 9,
      "outputs": [
        {
          "output_type": "display_data",
          "data": {
            "text/html": [
              "<table class=\"dataframe\">\n",
              "<caption>A tibble: 6 × 15</caption>\n",
              "<thead>\n",
              "\t<tr><th scope=col>origin</th><th scope=col>year</th><th scope=col>month</th><th scope=col>day</th><th scope=col>hour</th><th scope=col>temp</th><th scope=col>dewp</th><th scope=col>humid</th><th scope=col>wind_dir</th><th scope=col>wind_speed</th><th scope=col>wind_gust</th><th scope=col>precip</th><th scope=col>pressure</th><th scope=col>visib</th><th scope=col>time_hour</th></tr>\n",
              "\t<tr><th scope=col>&lt;chr&gt;</th><th scope=col>&lt;int&gt;</th><th scope=col>&lt;int&gt;</th><th scope=col>&lt;int&gt;</th><th scope=col>&lt;int&gt;</th><th scope=col>&lt;dbl&gt;</th><th scope=col>&lt;dbl&gt;</th><th scope=col>&lt;dbl&gt;</th><th scope=col>&lt;dbl&gt;</th><th scope=col>&lt;dbl&gt;</th><th scope=col>&lt;dbl&gt;</th><th scope=col>&lt;dbl&gt;</th><th scope=col>&lt;dbl&gt;</th><th scope=col>&lt;dbl&gt;</th><th scope=col>&lt;dttm&gt;</th></tr>\n",
              "</thead>\n",
              "<tbody>\n",
              "\t<tr><td>EWR</td><td>2013</td><td>1</td><td>1</td><td>1</td><td>39.02</td><td>26.06</td><td>59.37</td><td>270</td><td>10.35702</td><td>NA</td><td>0</td><td>1012.0</td><td>10</td><td>2013-01-01 01:00:00</td></tr>\n",
              "\t<tr><td>EWR</td><td>2013</td><td>1</td><td>1</td><td>2</td><td>39.02</td><td>26.96</td><td>61.63</td><td>250</td><td> 8.05546</td><td>NA</td><td>0</td><td>1012.3</td><td>10</td><td>2013-01-01 02:00:00</td></tr>\n",
              "\t<tr><td>EWR</td><td>2013</td><td>1</td><td>1</td><td>3</td><td>39.02</td><td>28.04</td><td>64.43</td><td>240</td><td>11.50780</td><td>NA</td><td>0</td><td>1012.5</td><td>10</td><td>2013-01-01 03:00:00</td></tr>\n",
              "\t<tr><td>EWR</td><td>2013</td><td>1</td><td>1</td><td>4</td><td>39.92</td><td>28.04</td><td>62.21</td><td>250</td><td>12.65858</td><td>NA</td><td>0</td><td>1012.2</td><td>10</td><td>2013-01-01 04:00:00</td></tr>\n",
              "\t<tr><td>EWR</td><td>2013</td><td>1</td><td>1</td><td>5</td><td>39.02</td><td>28.04</td><td>64.43</td><td>260</td><td>12.65858</td><td>NA</td><td>0</td><td>1011.9</td><td>10</td><td>2013-01-01 05:00:00</td></tr>\n",
              "\t<tr><td>EWR</td><td>2013</td><td>1</td><td>1</td><td>6</td><td>37.94</td><td>28.04</td><td>67.21</td><td>240</td><td>11.50780</td><td>NA</td><td>0</td><td>1012.4</td><td>10</td><td>2013-01-01 06:00:00</td></tr>\n",
              "</tbody>\n",
              "</table>\n"
            ],
            "text/markdown": "\nA tibble: 6 × 15\n\n| origin &lt;chr&gt; | year &lt;int&gt; | month &lt;int&gt; | day &lt;int&gt; | hour &lt;int&gt; | temp &lt;dbl&gt; | dewp &lt;dbl&gt; | humid &lt;dbl&gt; | wind_dir &lt;dbl&gt; | wind_speed &lt;dbl&gt; | wind_gust &lt;dbl&gt; | precip &lt;dbl&gt; | pressure &lt;dbl&gt; | visib &lt;dbl&gt; | time_hour &lt;dttm&gt; |\n|---|---|---|---|---|---|---|---|---|---|---|---|---|---|---|\n| EWR | 2013 | 1 | 1 | 1 | 39.02 | 26.06 | 59.37 | 270 | 10.35702 | NA | 0 | 1012.0 | 10 | 2013-01-01 01:00:00 |\n| EWR | 2013 | 1 | 1 | 2 | 39.02 | 26.96 | 61.63 | 250 |  8.05546 | NA | 0 | 1012.3 | 10 | 2013-01-01 02:00:00 |\n| EWR | 2013 | 1 | 1 | 3 | 39.02 | 28.04 | 64.43 | 240 | 11.50780 | NA | 0 | 1012.5 | 10 | 2013-01-01 03:00:00 |\n| EWR | 2013 | 1 | 1 | 4 | 39.92 | 28.04 | 62.21 | 250 | 12.65858 | NA | 0 | 1012.2 | 10 | 2013-01-01 04:00:00 |\n| EWR | 2013 | 1 | 1 | 5 | 39.02 | 28.04 | 64.43 | 260 | 12.65858 | NA | 0 | 1011.9 | 10 | 2013-01-01 05:00:00 |\n| EWR | 2013 | 1 | 1 | 6 | 37.94 | 28.04 | 67.21 | 240 | 11.50780 | NA | 0 | 1012.4 | 10 | 2013-01-01 06:00:00 |\n\n",
            "text/latex": "A tibble: 6 × 15\n\\begin{tabular}{lllllllllllllll}\n origin & year & month & day & hour & temp & dewp & humid & wind\\_dir & wind\\_speed & wind\\_gust & precip & pressure & visib & time\\_hour\\\\\n <chr> & <int> & <int> & <int> & <int> & <dbl> & <dbl> & <dbl> & <dbl> & <dbl> & <dbl> & <dbl> & <dbl> & <dbl> & <dttm>\\\\\n\\hline\n\t EWR & 2013 & 1 & 1 & 1 & 39.02 & 26.06 & 59.37 & 270 & 10.35702 & NA & 0 & 1012.0 & 10 & 2013-01-01 01:00:00\\\\\n\t EWR & 2013 & 1 & 1 & 2 & 39.02 & 26.96 & 61.63 & 250 &  8.05546 & NA & 0 & 1012.3 & 10 & 2013-01-01 02:00:00\\\\\n\t EWR & 2013 & 1 & 1 & 3 & 39.02 & 28.04 & 64.43 & 240 & 11.50780 & NA & 0 & 1012.5 & 10 & 2013-01-01 03:00:00\\\\\n\t EWR & 2013 & 1 & 1 & 4 & 39.92 & 28.04 & 62.21 & 250 & 12.65858 & NA & 0 & 1012.2 & 10 & 2013-01-01 04:00:00\\\\\n\t EWR & 2013 & 1 & 1 & 5 & 39.02 & 28.04 & 64.43 & 260 & 12.65858 & NA & 0 & 1011.9 & 10 & 2013-01-01 05:00:00\\\\\n\t EWR & 2013 & 1 & 1 & 6 & 37.94 & 28.04 & 67.21 & 240 & 11.50780 & NA & 0 & 1012.4 & 10 & 2013-01-01 06:00:00\\\\\n\\end{tabular}\n",
            "text/plain": [
              "  origin year month day hour temp  dewp  humid wind_dir wind_speed wind_gust\n",
              "1 EWR    2013 1     1   1    39.02 26.06 59.37 270      10.35702   NA       \n",
              "2 EWR    2013 1     1   2    39.02 26.96 61.63 250       8.05546   NA       \n",
              "3 EWR    2013 1     1   3    39.02 28.04 64.43 240      11.50780   NA       \n",
              "4 EWR    2013 1     1   4    39.92 28.04 62.21 250      12.65858   NA       \n",
              "5 EWR    2013 1     1   5    39.02 28.04 64.43 260      12.65858   NA       \n",
              "6 EWR    2013 1     1   6    37.94 28.04 67.21 240      11.50780   NA       \n",
              "  precip pressure visib time_hour          \n",
              "1 0      1012.0   10    2013-01-01 01:00:00\n",
              "2 0      1012.3   10    2013-01-01 02:00:00\n",
              "3 0      1012.5   10    2013-01-01 03:00:00\n",
              "4 0      1012.2   10    2013-01-01 04:00:00\n",
              "5 0      1011.9   10    2013-01-01 05:00:00\n",
              "6 0      1012.4   10    2013-01-01 06:00:00"
            ]
          },
          "metadata": {}
        }
      ]
    },
    {
      "cell_type": "markdown",
      "source": [
        "\n",
        "------------------------------------------------------------------------\n",
        "\n",
        "**Descripción general de las tablas**\n",
        "\n",
        "Utilizamos las funciones:\n",
        "\n",
        "dim(): para ver la dimensión de los datos.\n",
        "\n",
        "str(): para mostrar la estructura del objetos de manera compacta y legible.\n",
        "\n",
        "glimpse() : para mostrar un resumen estructural horizontal de los datos:\n",
        "\n",
        "-   `int` enteros.\n",
        "\n",
        "-   `dbl` dobles, o números reales.\n",
        "\n",
        "-   `chr` caracteres o cadenas.\n",
        "\n",
        "-   `dttm` fechas y horas (una fecha + una hora).\n",
        "\n",
        "Otros tres tipos comunes de variables:\n",
        "\n",
        "-   `lgl` significa lógico, `TRUE` (verdadero) o `FALSE` (falso).\n",
        "\n",
        "-   `fctr` significa factores (categóricos).\n",
        "\n",
        "-   `date` fechas.\n",
        "\n"
      ],
      "metadata": {
        "id": "EQhqDuHarIFV"
      }
    },
    {
      "cell_type": "markdown",
      "source": [
        "1. `flights` — Datos de vuelos\n"
      ],
      "metadata": {
        "id": "ffiQTVOxupcu"
      }
    },
    {
      "cell_type": "code",
      "source": [
        "??flights\n",
        "dim(flights)\n",
        "str(flights)\n",
        "glimpse(airlines)"
      ],
      "metadata": {
        "colab": {
          "base_uri": "https://localhost:8080/",
          "height": 451
        },
        "id": "NdNfEfEsrWjp",
        "outputId": "4bfea808-aae2-4904-abbe-fea721d710ab"
      },
      "execution_count": 10,
      "outputs": [
        {
          "output_type": "display_data",
          "data": {
            "text/html": [
              "<style>\n",
              ".list-inline {list-style: none; margin:0; padding: 0}\n",
              ".list-inline>li {display: inline-block}\n",
              ".list-inline>li:not(:last-child)::after {content: \"\\00b7\"; padding: 0 .5ex}\n",
              "</style>\n",
              "<ol class=list-inline><li>336776</li><li>19</li></ol>\n"
            ],
            "text/markdown": "1. 336776\n2. 19\n\n\n",
            "text/latex": "\\begin{enumerate*}\n\\item 336776\n\\item 19\n\\end{enumerate*}\n",
            "text/plain": [
              "[1] 336776     19"
            ]
          },
          "metadata": {}
        },
        {
          "output_type": "stream",
          "name": "stdout",
          "text": [
            "tibble [336,776 × 19] (S3: tbl_df/tbl/data.frame)\n",
            " $ year          : int [1:336776] 2013 2013 2013 2013 2013 2013 2013 2013 2013 2013 ...\n",
            " $ month         : int [1:336776] 1 1 1 1 1 1 1 1 1 1 ...\n",
            " $ day           : int [1:336776] 1 1 1 1 1 1 1 1 1 1 ...\n",
            " $ dep_time      : int [1:336776] 517 533 542 544 554 554 555 557 557 558 ...\n",
            " $ sched_dep_time: int [1:336776] 515 529 540 545 600 558 600 600 600 600 ...\n",
            " $ dep_delay     : num [1:336776] 2 4 2 -1 -6 -4 -5 -3 -3 -2 ...\n",
            " $ arr_time      : int [1:336776] 830 850 923 1004 812 740 913 709 838 753 ...\n",
            " $ sched_arr_time: int [1:336776] 819 830 850 1022 837 728 854 723 846 745 ...\n",
            " $ arr_delay     : num [1:336776] 11 20 33 -18 -25 12 19 -14 -8 8 ...\n",
            " $ carrier       : chr [1:336776] \"UA\" \"UA\" \"AA\" \"B6\" ...\n",
            " $ flight        : int [1:336776] 1545 1714 1141 725 461 1696 507 5708 79 301 ...\n",
            " $ tailnum       : chr [1:336776] \"N14228\" \"N24211\" \"N619AA\" \"N804JB\" ...\n",
            " $ origin        : chr [1:336776] \"EWR\" \"LGA\" \"JFK\" \"JFK\" ...\n",
            " $ dest          : chr [1:336776] \"IAH\" \"IAH\" \"MIA\" \"BQN\" ...\n",
            " $ air_time      : num [1:336776] 227 227 160 183 116 150 158 53 140 138 ...\n",
            " $ distance      : num [1:336776] 1400 1416 1089 1576 762 ...\n",
            " $ hour          : num [1:336776] 5 5 5 5 6 5 6 6 6 6 ...\n",
            " $ minute        : num [1:336776] 15 29 40 45 0 58 0 0 0 0 ...\n",
            " $ time_hour     : POSIXct[1:336776], format: \"2013-01-01 05:00:00\" \"2013-01-01 05:00:00\" ...\n",
            "Rows: 16\n",
            "Columns: 2\n",
            "$ carrier \u001b[3m\u001b[90m<chr>\u001b[39m\u001b[23m \"9E\"\u001b[90m, \u001b[39m\"AA\"\u001b[90m, \u001b[39m\"AS\"\u001b[90m, \u001b[39m\"B6\"\u001b[90m, \u001b[39m\"DL\"\u001b[90m, \u001b[39m\"EV\"\u001b[90m, \u001b[39m\"F9\"\u001b[90m, \u001b[39m\"FL\"\u001b[90m, \u001b[39m\"HA\"\u001b[90m, \u001b[39m\"MQ\"\u001b[90m, \u001b[39m\"O…\n",
            "$ name    \u001b[3m\u001b[90m<chr>\u001b[39m\u001b[23m \"Endeavor Air Inc.\"\u001b[90m, \u001b[39m\"American Airlines Inc.\"\u001b[90m, \u001b[39m\"Alaska Airline…\n"
          ]
        }
      ]
    },
    {
      "cell_type": "markdown",
      "source": [
        "2. `airlines` — Información de aerolíneas"
      ],
      "metadata": {
        "id": "Zkssygk-u4LS"
      }
    },
    {
      "cell_type": "code",
      "source": [
        "glimpse(airlines)"
      ],
      "metadata": {
        "colab": {
          "base_uri": "https://localhost:8080/"
        },
        "id": "MdaKhgx2u5Ze",
        "outputId": "9aeccd79-defa-462e-b63f-8d681e324723"
      },
      "execution_count": 12,
      "outputs": [
        {
          "output_type": "stream",
          "name": "stdout",
          "text": [
            "Rows: 16\n",
            "Columns: 2\n",
            "$ carrier \u001b[3m\u001b[90m<chr>\u001b[39m\u001b[23m \"9E\"\u001b[90m, \u001b[39m\"AA\"\u001b[90m, \u001b[39m\"AS\"\u001b[90m, \u001b[39m\"B6\"\u001b[90m, \u001b[39m\"DL\"\u001b[90m, \u001b[39m\"EV\"\u001b[90m, \u001b[39m\"F9\"\u001b[90m, \u001b[39m\"FL\"\u001b[90m, \u001b[39m\"HA\"\u001b[90m, \u001b[39m\"MQ\"\u001b[90m, \u001b[39m\"O…\n",
            "$ name    \u001b[3m\u001b[90m<chr>\u001b[39m\u001b[23m \"Endeavor Air Inc.\"\u001b[90m, \u001b[39m\"American Airlines Inc.\"\u001b[90m, \u001b[39m\"Alaska Airline…\n"
          ]
        }
      ]
    },
    {
      "cell_type": "markdown",
      "source": [
        "3. `airports` — Información de aeropuertos"
      ],
      "metadata": {
        "id": "W4oUDhA5vKKB"
      }
    },
    {
      "cell_type": "code",
      "source": [
        "glimpse(airports)"
      ],
      "metadata": {
        "colab": {
          "base_uri": "https://localhost:8080/"
        },
        "id": "9nnWt2bIvBDG",
        "outputId": "d8fe72d5-25f6-4f0f-e633-e843ecea1f2b"
      },
      "execution_count": 13,
      "outputs": [
        {
          "output_type": "stream",
          "name": "stdout",
          "text": [
            "Rows: 1,458\n",
            "Columns: 8\n",
            "$ faa   \u001b[3m\u001b[90m<chr>\u001b[39m\u001b[23m \"04G\"\u001b[90m, \u001b[39m\"06A\"\u001b[90m, \u001b[39m\"06C\"\u001b[90m, \u001b[39m\"06N\"\u001b[90m, \u001b[39m\"09J\"\u001b[90m, \u001b[39m\"0A9\"\u001b[90m, \u001b[39m\"0G6\"\u001b[90m, \u001b[39m\"0G7\"\u001b[90m, \u001b[39m\"0P2\"\u001b[90m, \u001b[39m\"…\n",
            "$ name  \u001b[3m\u001b[90m<chr>\u001b[39m\u001b[23m \"Lansdowne Airport\"\u001b[90m, \u001b[39m\"Moton Field Municipal Airport\"\u001b[90m, \u001b[39m\"Schaumbur…\n",
            "$ lat   \u001b[3m\u001b[90m<dbl>\u001b[39m\u001b[23m 41.13047\u001b[90m, \u001b[39m32.46057\u001b[90m, \u001b[39m41.98934\u001b[90m, \u001b[39m41.43191\u001b[90m, \u001b[39m31.07447\u001b[90m, \u001b[39m36.37122\u001b[90m, \u001b[39m41.4…\n",
            "$ lon   \u001b[3m\u001b[90m<dbl>\u001b[39m\u001b[23m -80.61958\u001b[90m, \u001b[39m-85.68003\u001b[90m, \u001b[39m-88.10124\u001b[90m, \u001b[39m-74.39156\u001b[90m, \u001b[39m-81.42778\u001b[90m, \u001b[39m-82.17342…\n",
            "$ alt   \u001b[3m\u001b[90m<dbl>\u001b[39m\u001b[23m 1044\u001b[90m, \u001b[39m264\u001b[90m, \u001b[39m801\u001b[90m, \u001b[39m523\u001b[90m, \u001b[39m11\u001b[90m, \u001b[39m1593\u001b[90m, \u001b[39m730\u001b[90m, \u001b[39m492\u001b[90m, \u001b[39m1000\u001b[90m, \u001b[39m108\u001b[90m, \u001b[39m409\u001b[90m, \u001b[39m875\u001b[90m, \u001b[39m10…\n",
            "$ tz    \u001b[3m\u001b[90m<dbl>\u001b[39m\u001b[23m -5\u001b[90m, \u001b[39m-6\u001b[90m, \u001b[39m-6\u001b[90m, \u001b[39m-5\u001b[90m, \u001b[39m-5\u001b[90m, \u001b[39m-5\u001b[90m, \u001b[39m-5\u001b[90m, \u001b[39m-5\u001b[90m, \u001b[39m-5\u001b[90m, \u001b[39m-8\u001b[90m, \u001b[39m-5\u001b[90m, \u001b[39m-6\u001b[90m, \u001b[39m-5\u001b[90m, \u001b[39m-5\u001b[90m, \u001b[39m-5\u001b[90m, \u001b[39m-5\u001b[90m, \u001b[39m…\n",
            "$ dst   \u001b[3m\u001b[90m<chr>\u001b[39m\u001b[23m \"A\"\u001b[90m, \u001b[39m\"A\"\u001b[90m, \u001b[39m\"A\"\u001b[90m, \u001b[39m\"A\"\u001b[90m, \u001b[39m\"A\"\u001b[90m, \u001b[39m\"A\"\u001b[90m, \u001b[39m\"A\"\u001b[90m, \u001b[39m\"A\"\u001b[90m, \u001b[39m\"U\"\u001b[90m, \u001b[39m\"A\"\u001b[90m, \u001b[39m\"A\"\u001b[90m, \u001b[39m\"U\"\u001b[90m, \u001b[39m\"A\"\u001b[90m,\u001b[39m…\n",
            "$ tzone \u001b[3m\u001b[90m<chr>\u001b[39m\u001b[23m \"America/New_York\"\u001b[90m, \u001b[39m\"America/Chicago\"\u001b[90m, \u001b[39m\"America/Chicago\"\u001b[90m, \u001b[39m\"Ameri…\n"
          ]
        }
      ]
    },
    {
      "cell_type": "markdown",
      "source": [
        "4. `planes` — Información de los aviones"
      ],
      "metadata": {
        "id": "8x5gbuovvUZM"
      }
    },
    {
      "cell_type": "code",
      "source": [
        "glimpse(planes)"
      ],
      "metadata": {
        "colab": {
          "base_uri": "https://localhost:8080/"
        },
        "id": "U5MUQ3EivVh0",
        "outputId": "24833cea-63c1-46ed-bea7-09d2f050ad55"
      },
      "execution_count": 14,
      "outputs": [
        {
          "output_type": "stream",
          "name": "stdout",
          "text": [
            "Rows: 3,322\n",
            "Columns: 9\n",
            "$ tailnum      \u001b[3m\u001b[90m<chr>\u001b[39m\u001b[23m \"N10156\"\u001b[90m, \u001b[39m\"N102UW\"\u001b[90m, \u001b[39m\"N103US\"\u001b[90m, \u001b[39m\"N104UW\"\u001b[90m, \u001b[39m\"N10575\"\u001b[90m, \u001b[39m\"N105UW…\n",
            "$ year         \u001b[3m\u001b[90m<int>\u001b[39m\u001b[23m 2004\u001b[90m, \u001b[39m1998\u001b[90m, \u001b[39m1999\u001b[90m, \u001b[39m1999\u001b[90m, \u001b[39m2002\u001b[90m, \u001b[39m1999\u001b[90m, \u001b[39m1999\u001b[90m, \u001b[39m1999\u001b[90m, \u001b[39m1999\u001b[90m, \u001b[39m199…\n",
            "$ type         \u001b[3m\u001b[90m<chr>\u001b[39m\u001b[23m \"Fixed wing multi engine\"\u001b[90m, \u001b[39m\"Fixed wing multi engine\"\u001b[90m, \u001b[39m\"Fi…\n",
            "$ manufacturer \u001b[3m\u001b[90m<chr>\u001b[39m\u001b[23m \"EMBRAER\"\u001b[90m, \u001b[39m\"AIRBUS INDUSTRIE\"\u001b[90m, \u001b[39m\"AIRBUS INDUSTRIE\"\u001b[90m, \u001b[39m\"AIRBU…\n",
            "$ model        \u001b[3m\u001b[90m<chr>\u001b[39m\u001b[23m \"EMB-145XR\"\u001b[90m, \u001b[39m\"A320-214\"\u001b[90m, \u001b[39m\"A320-214\"\u001b[90m, \u001b[39m\"A320-214\"\u001b[90m, \u001b[39m\"EMB-145…\n",
            "$ engines      \u001b[3m\u001b[90m<int>\u001b[39m\u001b[23m 2\u001b[90m, \u001b[39m2\u001b[90m, \u001b[39m2\u001b[90m, \u001b[39m2\u001b[90m, \u001b[39m2\u001b[90m, \u001b[39m2\u001b[90m, \u001b[39m2\u001b[90m, \u001b[39m2\u001b[90m, \u001b[39m2\u001b[90m, \u001b[39m2\u001b[90m, \u001b[39m2\u001b[90m, \u001b[39m2\u001b[90m, \u001b[39m2\u001b[90m, \u001b[39m2\u001b[90m, \u001b[39m2\u001b[90m, \u001b[39m2\u001b[90m, \u001b[39m2\u001b[90m, \u001b[39m2\u001b[90m, \u001b[39m2\u001b[90m, \u001b[39m…\n",
            "$ seats        \u001b[3m\u001b[90m<int>\u001b[39m\u001b[23m 55\u001b[90m, \u001b[39m182\u001b[90m, \u001b[39m182\u001b[90m, \u001b[39m182\u001b[90m, \u001b[39m55\u001b[90m, \u001b[39m182\u001b[90m, \u001b[39m182\u001b[90m, \u001b[39m182\u001b[90m, \u001b[39m182\u001b[90m, \u001b[39m182\u001b[90m, \u001b[39m55\u001b[90m, \u001b[39m55\u001b[90m, \u001b[39m5…\n",
            "$ speed        \u001b[3m\u001b[90m<int>\u001b[39m\u001b[23m \u001b[31mNA\u001b[39m\u001b[90m, \u001b[39m\u001b[31mNA\u001b[39m\u001b[90m, \u001b[39m\u001b[31mNA\u001b[39m\u001b[90m, \u001b[39m\u001b[31mNA\u001b[39m\u001b[90m, \u001b[39m\u001b[31mNA\u001b[39m\u001b[90m, \u001b[39m\u001b[31mNA\u001b[39m\u001b[90m, \u001b[39m\u001b[31mNA\u001b[39m\u001b[90m, \u001b[39m\u001b[31mNA\u001b[39m\u001b[90m, \u001b[39m\u001b[31mNA\u001b[39m\u001b[90m, \u001b[39m\u001b[31mNA\u001b[39m\u001b[90m, \u001b[39m\u001b[31mNA\u001b[39m\u001b[90m, \u001b[39m\u001b[31mNA\u001b[39m\u001b[90m, \u001b[39m\u001b[31mNA\u001b[39m\u001b[90m, \u001b[39m\u001b[31mNA\u001b[39m\u001b[90m, \u001b[39m\u001b[31mN\u001b[39m…\n",
            "$ engine       \u001b[3m\u001b[90m<chr>\u001b[39m\u001b[23m \"Turbo-fan\"\u001b[90m, \u001b[39m\"Turbo-fan\"\u001b[90m, \u001b[39m\"Turbo-fan\"\u001b[90m, \u001b[39m\"Turbo-fan\"\u001b[90m, \u001b[39m\"Turb…\n"
          ]
        }
      ]
    },
    {
      "cell_type": "code",
      "source": [],
      "metadata": {
        "id": "rN3Sa5sUvX9N"
      },
      "execution_count": null,
      "outputs": []
    },
    {
      "cell_type": "code",
      "source": [],
      "metadata": {
        "id": "GkycayafvUHK"
      },
      "execution_count": null,
      "outputs": []
    },
    {
      "cell_type": "code",
      "source": [],
      "metadata": {
        "id": "vFh7iHY5rZLq"
      },
      "execution_count": null,
      "outputs": []
    }
  ]
}