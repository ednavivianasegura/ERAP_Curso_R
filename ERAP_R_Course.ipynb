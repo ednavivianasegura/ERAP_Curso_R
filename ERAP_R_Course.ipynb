{
  "nbformat": 4,
  "nbformat_minor": 0,
  "metadata": {
    "colab": {
      "provenance": [],
      "gpuType": "T4",
      "authorship_tag": "ABX9TyOW+JTZ+KGoFyLB6RHWecss",
      "include_colab_link": true
    },
    "kernelspec": {
      "name": "ir",
      "display_name": "R"
    },
    "language_info": {
      "name": "R"
    },
    "accelerator": "GPU"
  },
  "cells": [
    {
      "cell_type": "markdown",
      "metadata": {
        "id": "view-in-github",
        "colab_type": "text"
      },
      "source": [
        "<a href=\"https://colab.research.google.com/github/ednavivianasegura/ERAP_Curso_R/blob/main/ERAP_R_Course.ipynb\" target=\"_parent\"><img src=\"https://colab.research.google.com/assets/colab-badge.svg\" alt=\"Open In Colab\"/></a>"
      ]
    },
    {
      "cell_type": "markdown",
      "source": [
        "**Título**:  Manipulación de datos con R                                 \n",
        "                                          \n",
        "**Autor(es)**:  Edna Viviana Segura Alvarado - Hans Mauricio Carrillo Hernández\n",
        "\n",
        "**Fecha**: 2025-05\n",
        "\n",
        "**Institución**: Universidad de La Rioja    "
      ],
      "metadata": {
        "id": "4Cl1dG5guaUP"
      }
    },
    {
      "cell_type": "code",
      "source": [
        "# Función para instalar si no está instalado\n",
        "instalar_si_no <- function(paquete) {\n",
        "    if (!requireNamespace(paquete, quietly = TRUE)) {\n",
        "    install.packages(paquete, repos = \"https://cloud.r-project.org\")\n",
        "  }\n",
        "  library(paquete, character.only = TRUE)\n",
        "}\n",
        "\n",
        "# Lista de paquetes a verificar\n",
        "paquetes <- c(\"tidyverse\", \"data.table\", \"psych\", \"moments\", \"nycflights13\", \"dplyr\")\n",
        "\n",
        "# Instalar y cargar todos\n",
        "invisible(lapply(paquetes, instalar_si_no))"
      ],
      "metadata": {
        "id": "CzG3mDIin_q1",
        "outputId": "e868854e-6f03-462a-a16d-5cc98c384d43",
        "colab": {
          "base_uri": "https://localhost:8080/"
        }
      },
      "execution_count": 1,
      "outputs": [
        {
          "output_type": "stream",
          "name": "stderr",
          "text": [
            "── \u001b[1mAttaching core tidyverse packages\u001b[22m ──────────────────────── tidyverse 2.0.0 ──\n",
            "\u001b[32m✔\u001b[39m \u001b[34mdplyr    \u001b[39m 1.1.4     \u001b[32m✔\u001b[39m \u001b[34mreadr    \u001b[39m 2.1.5\n",
            "\u001b[32m✔\u001b[39m \u001b[34mforcats  \u001b[39m 1.0.0     \u001b[32m✔\u001b[39m \u001b[34mstringr  \u001b[39m 1.5.1\n",
            "\u001b[32m✔\u001b[39m \u001b[34mggplot2  \u001b[39m 3.5.1     \u001b[32m✔\u001b[39m \u001b[34mtibble   \u001b[39m 3.2.1\n",
            "\u001b[32m✔\u001b[39m \u001b[34mlubridate\u001b[39m 1.9.4     \u001b[32m✔\u001b[39m \u001b[34mtidyr    \u001b[39m 1.3.1\n",
            "\u001b[32m✔\u001b[39m \u001b[34mpurrr    \u001b[39m 1.0.4     \n",
            "── \u001b[1mConflicts\u001b[22m ────────────────────────────────────────── tidyverse_conflicts() ──\n",
            "\u001b[31m✖\u001b[39m \u001b[34mdplyr\u001b[39m::\u001b[32mfilter()\u001b[39m masks \u001b[34mstats\u001b[39m::filter()\n",
            "\u001b[31m✖\u001b[39m \u001b[34mdplyr\u001b[39m::\u001b[32mlag()\u001b[39m    masks \u001b[34mstats\u001b[39m::lag()\n",
            "\u001b[36mℹ\u001b[39m Use the conflicted package (\u001b[3m\u001b[34m<http://conflicted.r-lib.org/>\u001b[39m\u001b[23m) to force all conflicts to become errors\n",
            "\n",
            "Attaching package: ‘data.table’\n",
            "\n",
            "\n",
            "The following objects are masked from ‘package:lubridate’:\n",
            "\n",
            "    hour, isoweek, mday, minute, month, quarter, second, wday, week,\n",
            "    yday, year\n",
            "\n",
            "\n",
            "The following objects are masked from ‘package:dplyr’:\n",
            "\n",
            "    between, first, last\n",
            "\n",
            "\n",
            "The following object is masked from ‘package:purrr’:\n",
            "\n",
            "    transpose\n",
            "\n",
            "\n",
            "Installing package into ‘/usr/local/lib/R/site-library’\n",
            "(as ‘lib’ is unspecified)\n",
            "\n",
            "also installing the dependencies ‘mnormt’, ‘GPArotation’\n",
            "\n",
            "\n",
            "\n",
            "Attaching package: ‘psych’\n",
            "\n",
            "\n",
            "The following objects are masked from ‘package:ggplot2’:\n",
            "\n",
            "    %+%, alpha\n",
            "\n",
            "\n",
            "Installing package into ‘/usr/local/lib/R/site-library’\n",
            "(as ‘lib’ is unspecified)\n",
            "\n",
            "Installing package into ‘/usr/local/lib/R/site-library’\n",
            "(as ‘lib’ is unspecified)\n",
            "\n"
          ]
        }
      ]
    },
    {
      "cell_type": "markdown",
      "source": [
        "**Contenido del curso:**\n",
        "\n",
        "**Módulo 1**: Manipulación de Datos con dplyr y data.table (5 horas) Objetivo: Aprender a manipular y transformar datos usando las herramientas más comunes de R. Práctica: Transformar un conjunto de datos usando diferentes métodos.\n",
        "\n",
        "**Módulo 2**: Manejo de Datos Desordenados y Falta de Información (5 horas) Objetivo: Aprender a limpiar datos desordenados, manejar datos faltantes y formatear conjuntos de datos. Práctica: Limpieza y estructuración de un conjunto de datos desorganizado.\n",
        "\n",
        "**Módulo 3**: Visualización de Datos con ggplot2 (5 horas) Objetivo: Crear gráficos avanzados para analizar visualmente los datos utilizando ggplot2. Práctica: Crear una serie de gráficos que exploren visualmente un conjunto de datos.\n",
        "\n",
        "**Módulo 4**: Exploración de Datos y Estadística Descriptiva (5 horas) Objetivo: Aplicar métodos estadísticos para explorar y describir conjuntos de datos. Práctica: Realizar un análisis descriptivo sobre un conjunto de datos usando técnicas estadísticas básicas\n",
        "\n",
        "# Modulo I: Manipulación de Datos con dplyr y data.table: introducción\n",
        "\n",
        "En esta sección se presentan dos de las librerías más potentes para manipulación de datos en R: `dplyr` y `data.table`.\n",
        "\n",
        "Por su sencillez, desde el punto de vista académico, iniciaremos con Dplyr, luego repetiremos los ejercicios con data.table, mostrando sus diferencias y bondades.\n",
        "------------------------------------------------------------------------\n",
        "\n"
      ],
      "metadata": {
        "id": "R-3UJKkSoXrm"
      }
    },
    {
      "cell_type": "markdown",
      "source": [
        "## dplyr\n",
        "\n",
        "`dplyr` forma parte del ecosistema **tidyverse**, diseñado para trabajar con datos de forma ordenada, clara y legible. Utiliza funciones denominadas *verbos* para transformar data frames:\n",
        "\n",
        "-   `filter()`: selecciona filas según condiciones lógicas.\n",
        "-   `select()`: selecciona columnas específicas también teniendo en cuenta condiciones.\n",
        "-   `mutate()`: crea nuevas variables o transforma existentes.\n",
        "-   `arrange()`: ordena filas.\n",
        "-   `group_by()` + `summarise()`: agrupa y resume datos.\n",
        "\n",
        "------------------------------------------------------------------------\n",
        "\n",
        "**¿Qué es tidyverse?**\n",
        "\n",
        "El **tidyverse** es una colección de paquetes R con una filosofía de diseño común: trabajar con datos ordenados (*tidy data*).\n",
        "\n",
        "**Principales paquetes del tidyverse:**\n",
        "\n",
        "| Paquete         | Función principal                              |\n",
        "|-----------------|------------------------------------------------|\n",
        "| ***`dplyr`***   | Manipulación de datos                          |\n",
        "| ***`ggplot2`*** | Visualización de datos                         |\n",
        "| `tidyr`         | Transformación y ordenación de datos           |\n",
        "| `readr`         | Lectura eficiente de archivos CSV y planos     |\n",
        "| ***`tibble`***  | Versión moderna de `data.frame`                |\n",
        "| `stringr`       | Manipulación de cadenas de texto               |\n",
        "| `forcats`       | Manejo de factores (variables categóricas)     |\n",
        "| `purrr`         | Programación funcional sobre listas y vectores |\n",
        "\n",
        "------------------------------------------------------------------------\n"
      ],
      "metadata": {
        "id": "-lI0BIz2yHRA"
      }
    },
    {
      "cell_type": "code",
      "execution_count": 2,
      "metadata": {
        "id": "o5w4jAkKn5yT"
      },
      "outputs": [],
      "source": [
        "??tidyverse"
      ]
    },
    {
      "cell_type": "markdown",
      "source": [
        "\n",
        "**Bibliografía recomendada**\n",
        "\n",
        "-   Wickham, H., & Grolemund, G. (2023). *R para ciencia de datos*.\\\n",
        "    Disponible en línea:\\\n",
        "    <https://r4ds.had.co.nz>\n",
        "-   Dowle, M., & Srinivasan, A. (2024). *data.table: Extension of `data.frame`*. Paquete R. Disponible en: <https://cran.r-project.org/package=data.table>"
      ],
      "metadata": {
        "id": "n13UmL9dp1Sl"
      }
    },
    {
      "cell_type": "markdown",
      "source": [
        "**Introducción al paquete de los datos a usar `nycflights13`**\n",
        "\n",
        "El paquete `nycflights13` contiene datos reales sobre todos los vuelos que salieron desde los aeropuertos de Nueva York durante el año 2013.\n",
        "\n",
        "**¿Qué datos contiene el paquete?**\n",
        "\n",
        "El paquete incluye 5 tablas principales:\n",
        "\n",
        "-   `flights`: datos de vuelos\n",
        "-   `airlines`: aerolíneas\n",
        "-   `airports`: aeropuertos\n",
        "-   `planes`: aviones\n",
        "-   `weather`: clima\n",
        "\n",
        "Podemos acceder a cada una directamente por su nombre:"
      ],
      "metadata": {
        "id": "yp-ohPztqELR"
      }
    },
    {
      "cell_type": "code",
      "source": [
        "# Acceso a las tablas\n",
        "head(flights)\n"
      ],
      "metadata": {
        "colab": {
          "base_uri": "https://localhost:8080/",
          "height": 286
        },
        "id": "n27peqfjqPRA",
        "outputId": "52955253-f9bc-4838-b1a5-e52c0e9914ed"
      },
      "execution_count": 3,
      "outputs": [
        {
          "output_type": "display_data",
          "data": {
            "text/html": [
              "<table class=\"dataframe\">\n",
              "<caption>A tibble: 6 × 19</caption>\n",
              "<thead>\n",
              "\t<tr><th scope=col>year</th><th scope=col>month</th><th scope=col>day</th><th scope=col>dep_time</th><th scope=col>sched_dep_time</th><th scope=col>dep_delay</th><th scope=col>arr_time</th><th scope=col>sched_arr_time</th><th scope=col>arr_delay</th><th scope=col>carrier</th><th scope=col>flight</th><th scope=col>tailnum</th><th scope=col>origin</th><th scope=col>dest</th><th scope=col>air_time</th><th scope=col>distance</th><th scope=col>hour</th><th scope=col>minute</th><th scope=col>time_hour</th></tr>\n",
              "\t<tr><th scope=col>&lt;int&gt;</th><th scope=col>&lt;int&gt;</th><th scope=col>&lt;int&gt;</th><th scope=col>&lt;int&gt;</th><th scope=col>&lt;int&gt;</th><th scope=col>&lt;dbl&gt;</th><th scope=col>&lt;int&gt;</th><th scope=col>&lt;int&gt;</th><th scope=col>&lt;dbl&gt;</th><th scope=col>&lt;chr&gt;</th><th scope=col>&lt;int&gt;</th><th scope=col>&lt;chr&gt;</th><th scope=col>&lt;chr&gt;</th><th scope=col>&lt;chr&gt;</th><th scope=col>&lt;dbl&gt;</th><th scope=col>&lt;dbl&gt;</th><th scope=col>&lt;dbl&gt;</th><th scope=col>&lt;dbl&gt;</th><th scope=col>&lt;dttm&gt;</th></tr>\n",
              "</thead>\n",
              "<tbody>\n",
              "\t<tr><td>2013</td><td>1</td><td>1</td><td>517</td><td>515</td><td> 2</td><td> 830</td><td> 819</td><td> 11</td><td>UA</td><td>1545</td><td>N14228</td><td>EWR</td><td>IAH</td><td>227</td><td>1400</td><td>5</td><td>15</td><td>2013-01-01 05:00:00</td></tr>\n",
              "\t<tr><td>2013</td><td>1</td><td>1</td><td>533</td><td>529</td><td> 4</td><td> 850</td><td> 830</td><td> 20</td><td>UA</td><td>1714</td><td>N24211</td><td>LGA</td><td>IAH</td><td>227</td><td>1416</td><td>5</td><td>29</td><td>2013-01-01 05:00:00</td></tr>\n",
              "\t<tr><td>2013</td><td>1</td><td>1</td><td>542</td><td>540</td><td> 2</td><td> 923</td><td> 850</td><td> 33</td><td>AA</td><td>1141</td><td>N619AA</td><td>JFK</td><td>MIA</td><td>160</td><td>1089</td><td>5</td><td>40</td><td>2013-01-01 05:00:00</td></tr>\n",
              "\t<tr><td>2013</td><td>1</td><td>1</td><td>544</td><td>545</td><td>-1</td><td>1004</td><td>1022</td><td>-18</td><td>B6</td><td> 725</td><td>N804JB</td><td>JFK</td><td>BQN</td><td>183</td><td>1576</td><td>5</td><td>45</td><td>2013-01-01 05:00:00</td></tr>\n",
              "\t<tr><td>2013</td><td>1</td><td>1</td><td>554</td><td>600</td><td>-6</td><td> 812</td><td> 837</td><td>-25</td><td>DL</td><td> 461</td><td>N668DN</td><td>LGA</td><td>ATL</td><td>116</td><td> 762</td><td>6</td><td> 0</td><td>2013-01-01 06:00:00</td></tr>\n",
              "\t<tr><td>2013</td><td>1</td><td>1</td><td>554</td><td>558</td><td>-4</td><td> 740</td><td> 728</td><td> 12</td><td>UA</td><td>1696</td><td>N39463</td><td>EWR</td><td>ORD</td><td>150</td><td> 719</td><td>5</td><td>58</td><td>2013-01-01 05:00:00</td></tr>\n",
              "</tbody>\n",
              "</table>\n"
            ],
            "text/markdown": "\nA tibble: 6 × 19\n\n| year &lt;int&gt; | month &lt;int&gt; | day &lt;int&gt; | dep_time &lt;int&gt; | sched_dep_time &lt;int&gt; | dep_delay &lt;dbl&gt; | arr_time &lt;int&gt; | sched_arr_time &lt;int&gt; | arr_delay &lt;dbl&gt; | carrier &lt;chr&gt; | flight &lt;int&gt; | tailnum &lt;chr&gt; | origin &lt;chr&gt; | dest &lt;chr&gt; | air_time &lt;dbl&gt; | distance &lt;dbl&gt; | hour &lt;dbl&gt; | minute &lt;dbl&gt; | time_hour &lt;dttm&gt; |\n|---|---|---|---|---|---|---|---|---|---|---|---|---|---|---|---|---|---|---|\n| 2013 | 1 | 1 | 517 | 515 |  2 |  830 |  819 |  11 | UA | 1545 | N14228 | EWR | IAH | 227 | 1400 | 5 | 15 | 2013-01-01 05:00:00 |\n| 2013 | 1 | 1 | 533 | 529 |  4 |  850 |  830 |  20 | UA | 1714 | N24211 | LGA | IAH | 227 | 1416 | 5 | 29 | 2013-01-01 05:00:00 |\n| 2013 | 1 | 1 | 542 | 540 |  2 |  923 |  850 |  33 | AA | 1141 | N619AA | JFK | MIA | 160 | 1089 | 5 | 40 | 2013-01-01 05:00:00 |\n| 2013 | 1 | 1 | 544 | 545 | -1 | 1004 | 1022 | -18 | B6 |  725 | N804JB | JFK | BQN | 183 | 1576 | 5 | 45 | 2013-01-01 05:00:00 |\n| 2013 | 1 | 1 | 554 | 600 | -6 |  812 |  837 | -25 | DL |  461 | N668DN | LGA | ATL | 116 |  762 | 6 |  0 | 2013-01-01 06:00:00 |\n| 2013 | 1 | 1 | 554 | 558 | -4 |  740 |  728 |  12 | UA | 1696 | N39463 | EWR | ORD | 150 |  719 | 5 | 58 | 2013-01-01 05:00:00 |\n\n",
            "text/latex": "A tibble: 6 × 19\n\\begin{tabular}{lllllllllllllllllll}\n year & month & day & dep\\_time & sched\\_dep\\_time & dep\\_delay & arr\\_time & sched\\_arr\\_time & arr\\_delay & carrier & flight & tailnum & origin & dest & air\\_time & distance & hour & minute & time\\_hour\\\\\n <int> & <int> & <int> & <int> & <int> & <dbl> & <int> & <int> & <dbl> & <chr> & <int> & <chr> & <chr> & <chr> & <dbl> & <dbl> & <dbl> & <dbl> & <dttm>\\\\\n\\hline\n\t 2013 & 1 & 1 & 517 & 515 &  2 &  830 &  819 &  11 & UA & 1545 & N14228 & EWR & IAH & 227 & 1400 & 5 & 15 & 2013-01-01 05:00:00\\\\\n\t 2013 & 1 & 1 & 533 & 529 &  4 &  850 &  830 &  20 & UA & 1714 & N24211 & LGA & IAH & 227 & 1416 & 5 & 29 & 2013-01-01 05:00:00\\\\\n\t 2013 & 1 & 1 & 542 & 540 &  2 &  923 &  850 &  33 & AA & 1141 & N619AA & JFK & MIA & 160 & 1089 & 5 & 40 & 2013-01-01 05:00:00\\\\\n\t 2013 & 1 & 1 & 544 & 545 & -1 & 1004 & 1022 & -18 & B6 &  725 & N804JB & JFK & BQN & 183 & 1576 & 5 & 45 & 2013-01-01 05:00:00\\\\\n\t 2013 & 1 & 1 & 554 & 600 & -6 &  812 &  837 & -25 & DL &  461 & N668DN & LGA & ATL & 116 &  762 & 6 &  0 & 2013-01-01 06:00:00\\\\\n\t 2013 & 1 & 1 & 554 & 558 & -4 &  740 &  728 &  12 & UA & 1696 & N39463 & EWR & ORD & 150 &  719 & 5 & 58 & 2013-01-01 05:00:00\\\\\n\\end{tabular}\n",
            "text/plain": [
              "  year month day dep_time sched_dep_time dep_delay arr_time sched_arr_time\n",
              "1 2013 1     1   517      515             2         830      819          \n",
              "2 2013 1     1   533      529             4         850      830          \n",
              "3 2013 1     1   542      540             2         923      850          \n",
              "4 2013 1     1   544      545            -1        1004     1022          \n",
              "5 2013 1     1   554      600            -6         812      837          \n",
              "6 2013 1     1   554      558            -4         740      728          \n",
              "  arr_delay carrier flight tailnum origin dest air_time distance hour minute\n",
              "1  11       UA      1545   N14228  EWR    IAH  227      1400     5    15    \n",
              "2  20       UA      1714   N24211  LGA    IAH  227      1416     5    29    \n",
              "3  33       AA      1141   N619AA  JFK    MIA  160      1089     5    40    \n",
              "4 -18       B6       725   N804JB  JFK    BQN  183      1576     5    45    \n",
              "5 -25       DL       461   N668DN  LGA    ATL  116       762     6     0    \n",
              "6  12       UA      1696   N39463  EWR    ORD  150       719     5    58    \n",
              "  time_hour          \n",
              "1 2013-01-01 05:00:00\n",
              "2 2013-01-01 05:00:00\n",
              "3 2013-01-01 05:00:00\n",
              "4 2013-01-01 05:00:00\n",
              "5 2013-01-01 06:00:00\n",
              "6 2013-01-01 05:00:00"
            ]
          },
          "metadata": {}
        }
      ]
    },
    {
      "cell_type": "code",
      "source": [
        "head(airlines)"
      ],
      "metadata": {
        "colab": {
          "base_uri": "https://localhost:8080/",
          "height": 286
        },
        "id": "5OevChNCqSfE",
        "outputId": "ad3dbde1-c50f-4812-e891-d705a11e182e"
      },
      "execution_count": 4,
      "outputs": [
        {
          "output_type": "display_data",
          "data": {
            "text/html": [
              "<table class=\"dataframe\">\n",
              "<caption>A tibble: 6 × 2</caption>\n",
              "<thead>\n",
              "\t<tr><th scope=col>carrier</th><th scope=col>name</th></tr>\n",
              "\t<tr><th scope=col>&lt;chr&gt;</th><th scope=col>&lt;chr&gt;</th></tr>\n",
              "</thead>\n",
              "<tbody>\n",
              "\t<tr><td>9E</td><td>Endeavor Air Inc.       </td></tr>\n",
              "\t<tr><td>AA</td><td>American Airlines Inc.  </td></tr>\n",
              "\t<tr><td>AS</td><td>Alaska Airlines Inc.    </td></tr>\n",
              "\t<tr><td>B6</td><td>JetBlue Airways         </td></tr>\n",
              "\t<tr><td>DL</td><td>Delta Air Lines Inc.    </td></tr>\n",
              "\t<tr><td>EV</td><td>ExpressJet Airlines Inc.</td></tr>\n",
              "</tbody>\n",
              "</table>\n"
            ],
            "text/markdown": "\nA tibble: 6 × 2\n\n| carrier &lt;chr&gt; | name &lt;chr&gt; |\n|---|---|\n| 9E | Endeavor Air Inc.        |\n| AA | American Airlines Inc.   |\n| AS | Alaska Airlines Inc.     |\n| B6 | JetBlue Airways          |\n| DL | Delta Air Lines Inc.     |\n| EV | ExpressJet Airlines Inc. |\n\n",
            "text/latex": "A tibble: 6 × 2\n\\begin{tabular}{ll}\n carrier & name\\\\\n <chr> & <chr>\\\\\n\\hline\n\t 9E & Endeavor Air Inc.       \\\\\n\t AA & American Airlines Inc.  \\\\\n\t AS & Alaska Airlines Inc.    \\\\\n\t B6 & JetBlue Airways         \\\\\n\t DL & Delta Air Lines Inc.    \\\\\n\t EV & ExpressJet Airlines Inc.\\\\\n\\end{tabular}\n",
            "text/plain": [
              "  carrier name                    \n",
              "1 9E      Endeavor Air Inc.       \n",
              "2 AA      American Airlines Inc.  \n",
              "3 AS      Alaska Airlines Inc.    \n",
              "4 B6      JetBlue Airways         \n",
              "5 DL      Delta Air Lines Inc.    \n",
              "6 EV      ExpressJet Airlines Inc."
            ]
          },
          "metadata": {}
        }
      ]
    },
    {
      "cell_type": "code",
      "source": [
        "\n",
        "head(airports)"
      ],
      "metadata": {
        "colab": {
          "base_uri": "https://localhost:8080/",
          "height": 286
        },
        "id": "01se4qpeqiCs",
        "outputId": "5badbc09-d383-4b0c-bbb3-7de0f5f01247"
      },
      "execution_count": 5,
      "outputs": [
        {
          "output_type": "display_data",
          "data": {
            "text/html": [
              "<table class=\"dataframe\">\n",
              "<caption>A tibble: 6 × 8</caption>\n",
              "<thead>\n",
              "\t<tr><th scope=col>faa</th><th scope=col>name</th><th scope=col>lat</th><th scope=col>lon</th><th scope=col>alt</th><th scope=col>tz</th><th scope=col>dst</th><th scope=col>tzone</th></tr>\n",
              "\t<tr><th scope=col>&lt;chr&gt;</th><th scope=col>&lt;chr&gt;</th><th scope=col>&lt;dbl&gt;</th><th scope=col>&lt;dbl&gt;</th><th scope=col>&lt;dbl&gt;</th><th scope=col>&lt;dbl&gt;</th><th scope=col>&lt;chr&gt;</th><th scope=col>&lt;chr&gt;</th></tr>\n",
              "</thead>\n",
              "<tbody>\n",
              "\t<tr><td>04G</td><td>Lansdowne Airport             </td><td>41.13047</td><td>-80.61958</td><td>1044</td><td>-5</td><td>A</td><td>America/New_York</td></tr>\n",
              "\t<tr><td>06A</td><td>Moton Field Municipal Airport </td><td>32.46057</td><td>-85.68003</td><td> 264</td><td>-6</td><td>A</td><td>America/Chicago </td></tr>\n",
              "\t<tr><td>06C</td><td>Schaumburg Regional           </td><td>41.98934</td><td>-88.10124</td><td> 801</td><td>-6</td><td>A</td><td>America/Chicago </td></tr>\n",
              "\t<tr><td>06N</td><td>Randall Airport               </td><td>41.43191</td><td>-74.39156</td><td> 523</td><td>-5</td><td>A</td><td>America/New_York</td></tr>\n",
              "\t<tr><td>09J</td><td>Jekyll Island Airport         </td><td>31.07447</td><td>-81.42778</td><td>  11</td><td>-5</td><td>A</td><td>America/New_York</td></tr>\n",
              "\t<tr><td>0A9</td><td>Elizabethton Municipal Airport</td><td>36.37122</td><td>-82.17342</td><td>1593</td><td>-5</td><td>A</td><td>America/New_York</td></tr>\n",
              "</tbody>\n",
              "</table>\n"
            ],
            "text/markdown": "\nA tibble: 6 × 8\n\n| faa &lt;chr&gt; | name &lt;chr&gt; | lat &lt;dbl&gt; | lon &lt;dbl&gt; | alt &lt;dbl&gt; | tz &lt;dbl&gt; | dst &lt;chr&gt; | tzone &lt;chr&gt; |\n|---|---|---|---|---|---|---|---|\n| 04G | Lansdowne Airport              | 41.13047 | -80.61958 | 1044 | -5 | A | America/New_York |\n| 06A | Moton Field Municipal Airport  | 32.46057 | -85.68003 |  264 | -6 | A | America/Chicago  |\n| 06C | Schaumburg Regional            | 41.98934 | -88.10124 |  801 | -6 | A | America/Chicago  |\n| 06N | Randall Airport                | 41.43191 | -74.39156 |  523 | -5 | A | America/New_York |\n| 09J | Jekyll Island Airport          | 31.07447 | -81.42778 |   11 | -5 | A | America/New_York |\n| 0A9 | Elizabethton Municipal Airport | 36.37122 | -82.17342 | 1593 | -5 | A | America/New_York |\n\n",
            "text/latex": "A tibble: 6 × 8\n\\begin{tabular}{llllllll}\n faa & name & lat & lon & alt & tz & dst & tzone\\\\\n <chr> & <chr> & <dbl> & <dbl> & <dbl> & <dbl> & <chr> & <chr>\\\\\n\\hline\n\t 04G & Lansdowne Airport              & 41.13047 & -80.61958 & 1044 & -5 & A & America/New\\_York\\\\\n\t 06A & Moton Field Municipal Airport  & 32.46057 & -85.68003 &  264 & -6 & A & America/Chicago \\\\\n\t 06C & Schaumburg Regional            & 41.98934 & -88.10124 &  801 & -6 & A & America/Chicago \\\\\n\t 06N & Randall Airport                & 41.43191 & -74.39156 &  523 & -5 & A & America/New\\_York\\\\\n\t 09J & Jekyll Island Airport          & 31.07447 & -81.42778 &   11 & -5 & A & America/New\\_York\\\\\n\t 0A9 & Elizabethton Municipal Airport & 36.37122 & -82.17342 & 1593 & -5 & A & America/New\\_York\\\\\n\\end{tabular}\n",
            "text/plain": [
              "  faa name                           lat      lon       alt  tz dst\n",
              "1 04G Lansdowne Airport              41.13047 -80.61958 1044 -5 A  \n",
              "2 06A Moton Field Municipal Airport  32.46057 -85.68003  264 -6 A  \n",
              "3 06C Schaumburg Regional            41.98934 -88.10124  801 -6 A  \n",
              "4 06N Randall Airport                41.43191 -74.39156  523 -5 A  \n",
              "5 09J Jekyll Island Airport          31.07447 -81.42778   11 -5 A  \n",
              "6 0A9 Elizabethton Municipal Airport 36.37122 -82.17342 1593 -5 A  \n",
              "  tzone           \n",
              "1 America/New_York\n",
              "2 America/Chicago \n",
              "3 America/Chicago \n",
              "4 America/New_York\n",
              "5 America/New_York\n",
              "6 America/New_York"
            ]
          },
          "metadata": {}
        }
      ]
    },
    {
      "cell_type": "code",
      "source": [
        "\n",
        "head(planes)"
      ],
      "metadata": {
        "colab": {
          "base_uri": "https://localhost:8080/",
          "height": 286
        },
        "id": "6vbIbgRRqj9j",
        "outputId": "4e10653e-0025-48d2-fbab-2ace4e0928e0"
      },
      "execution_count": 6,
      "outputs": [
        {
          "output_type": "display_data",
          "data": {
            "text/html": [
              "<table class=\"dataframe\">\n",
              "<caption>A tibble: 6 × 9</caption>\n",
              "<thead>\n",
              "\t<tr><th scope=col>tailnum</th><th scope=col>year</th><th scope=col>type</th><th scope=col>manufacturer</th><th scope=col>model</th><th scope=col>engines</th><th scope=col>seats</th><th scope=col>speed</th><th scope=col>engine</th></tr>\n",
              "\t<tr><th scope=col>&lt;chr&gt;</th><th scope=col>&lt;int&gt;</th><th scope=col>&lt;chr&gt;</th><th scope=col>&lt;chr&gt;</th><th scope=col>&lt;chr&gt;</th><th scope=col>&lt;int&gt;</th><th scope=col>&lt;int&gt;</th><th scope=col>&lt;int&gt;</th><th scope=col>&lt;chr&gt;</th></tr>\n",
              "</thead>\n",
              "<tbody>\n",
              "\t<tr><td>N10156</td><td>2004</td><td>Fixed wing multi engine</td><td>EMBRAER         </td><td>EMB-145XR</td><td>2</td><td> 55</td><td>NA</td><td>Turbo-fan</td></tr>\n",
              "\t<tr><td>N102UW</td><td>1998</td><td>Fixed wing multi engine</td><td>AIRBUS INDUSTRIE</td><td>A320-214 </td><td>2</td><td>182</td><td>NA</td><td>Turbo-fan</td></tr>\n",
              "\t<tr><td>N103US</td><td>1999</td><td>Fixed wing multi engine</td><td>AIRBUS INDUSTRIE</td><td>A320-214 </td><td>2</td><td>182</td><td>NA</td><td>Turbo-fan</td></tr>\n",
              "\t<tr><td>N104UW</td><td>1999</td><td>Fixed wing multi engine</td><td>AIRBUS INDUSTRIE</td><td>A320-214 </td><td>2</td><td>182</td><td>NA</td><td>Turbo-fan</td></tr>\n",
              "\t<tr><td>N10575</td><td>2002</td><td>Fixed wing multi engine</td><td>EMBRAER         </td><td>EMB-145LR</td><td>2</td><td> 55</td><td>NA</td><td>Turbo-fan</td></tr>\n",
              "\t<tr><td>N105UW</td><td>1999</td><td>Fixed wing multi engine</td><td>AIRBUS INDUSTRIE</td><td>A320-214 </td><td>2</td><td>182</td><td>NA</td><td>Turbo-fan</td></tr>\n",
              "</tbody>\n",
              "</table>\n"
            ],
            "text/markdown": "\nA tibble: 6 × 9\n\n| tailnum &lt;chr&gt; | year &lt;int&gt; | type &lt;chr&gt; | manufacturer &lt;chr&gt; | model &lt;chr&gt; | engines &lt;int&gt; | seats &lt;int&gt; | speed &lt;int&gt; | engine &lt;chr&gt; |\n|---|---|---|---|---|---|---|---|---|\n| N10156 | 2004 | Fixed wing multi engine | EMBRAER          | EMB-145XR | 2 |  55 | NA | Turbo-fan |\n| N102UW | 1998 | Fixed wing multi engine | AIRBUS INDUSTRIE | A320-214  | 2 | 182 | NA | Turbo-fan |\n| N103US | 1999 | Fixed wing multi engine | AIRBUS INDUSTRIE | A320-214  | 2 | 182 | NA | Turbo-fan |\n| N104UW | 1999 | Fixed wing multi engine | AIRBUS INDUSTRIE | A320-214  | 2 | 182 | NA | Turbo-fan |\n| N10575 | 2002 | Fixed wing multi engine | EMBRAER          | EMB-145LR | 2 |  55 | NA | Turbo-fan |\n| N105UW | 1999 | Fixed wing multi engine | AIRBUS INDUSTRIE | A320-214  | 2 | 182 | NA | Turbo-fan |\n\n",
            "text/latex": "A tibble: 6 × 9\n\\begin{tabular}{lllllllll}\n tailnum & year & type & manufacturer & model & engines & seats & speed & engine\\\\\n <chr> & <int> & <chr> & <chr> & <chr> & <int> & <int> & <int> & <chr>\\\\\n\\hline\n\t N10156 & 2004 & Fixed wing multi engine & EMBRAER          & EMB-145XR & 2 &  55 & NA & Turbo-fan\\\\\n\t N102UW & 1998 & Fixed wing multi engine & AIRBUS INDUSTRIE & A320-214  & 2 & 182 & NA & Turbo-fan\\\\\n\t N103US & 1999 & Fixed wing multi engine & AIRBUS INDUSTRIE & A320-214  & 2 & 182 & NA & Turbo-fan\\\\\n\t N104UW & 1999 & Fixed wing multi engine & AIRBUS INDUSTRIE & A320-214  & 2 & 182 & NA & Turbo-fan\\\\\n\t N10575 & 2002 & Fixed wing multi engine & EMBRAER          & EMB-145LR & 2 &  55 & NA & Turbo-fan\\\\\n\t N105UW & 1999 & Fixed wing multi engine & AIRBUS INDUSTRIE & A320-214  & 2 & 182 & NA & Turbo-fan\\\\\n\\end{tabular}\n",
            "text/plain": [
              "  tailnum year type                    manufacturer     model     engines seats\n",
              "1 N10156  2004 Fixed wing multi engine EMBRAER          EMB-145XR 2        55  \n",
              "2 N102UW  1998 Fixed wing multi engine AIRBUS INDUSTRIE A320-214  2       182  \n",
              "3 N103US  1999 Fixed wing multi engine AIRBUS INDUSTRIE A320-214  2       182  \n",
              "4 N104UW  1999 Fixed wing multi engine AIRBUS INDUSTRIE A320-214  2       182  \n",
              "5 N10575  2002 Fixed wing multi engine EMBRAER          EMB-145LR 2        55  \n",
              "6 N105UW  1999 Fixed wing multi engine AIRBUS INDUSTRIE A320-214  2       182  \n",
              "  speed engine   \n",
              "1 NA    Turbo-fan\n",
              "2 NA    Turbo-fan\n",
              "3 NA    Turbo-fan\n",
              "4 NA    Turbo-fan\n",
              "5 NA    Turbo-fan\n",
              "6 NA    Turbo-fan"
            ]
          },
          "metadata": {}
        }
      ]
    },
    {
      "cell_type": "code",
      "source": [
        "\n",
        "head(weather)"
      ],
      "metadata": {
        "colab": {
          "base_uri": "https://localhost:8080/",
          "height": 286
        },
        "id": "1WDB1K3uqlgU",
        "outputId": "4a18b85e-a39f-4119-ea30-929aeb420e05"
      },
      "execution_count": 7,
      "outputs": [
        {
          "output_type": "display_data",
          "data": {
            "text/html": [
              "<table class=\"dataframe\">\n",
              "<caption>A tibble: 6 × 15</caption>\n",
              "<thead>\n",
              "\t<tr><th scope=col>origin</th><th scope=col>year</th><th scope=col>month</th><th scope=col>day</th><th scope=col>hour</th><th scope=col>temp</th><th scope=col>dewp</th><th scope=col>humid</th><th scope=col>wind_dir</th><th scope=col>wind_speed</th><th scope=col>wind_gust</th><th scope=col>precip</th><th scope=col>pressure</th><th scope=col>visib</th><th scope=col>time_hour</th></tr>\n",
              "\t<tr><th scope=col>&lt;chr&gt;</th><th scope=col>&lt;int&gt;</th><th scope=col>&lt;int&gt;</th><th scope=col>&lt;int&gt;</th><th scope=col>&lt;int&gt;</th><th scope=col>&lt;dbl&gt;</th><th scope=col>&lt;dbl&gt;</th><th scope=col>&lt;dbl&gt;</th><th scope=col>&lt;dbl&gt;</th><th scope=col>&lt;dbl&gt;</th><th scope=col>&lt;dbl&gt;</th><th scope=col>&lt;dbl&gt;</th><th scope=col>&lt;dbl&gt;</th><th scope=col>&lt;dbl&gt;</th><th scope=col>&lt;dttm&gt;</th></tr>\n",
              "</thead>\n",
              "<tbody>\n",
              "\t<tr><td>EWR</td><td>2013</td><td>1</td><td>1</td><td>1</td><td>39.02</td><td>26.06</td><td>59.37</td><td>270</td><td>10.35702</td><td>NA</td><td>0</td><td>1012.0</td><td>10</td><td>2013-01-01 01:00:00</td></tr>\n",
              "\t<tr><td>EWR</td><td>2013</td><td>1</td><td>1</td><td>2</td><td>39.02</td><td>26.96</td><td>61.63</td><td>250</td><td> 8.05546</td><td>NA</td><td>0</td><td>1012.3</td><td>10</td><td>2013-01-01 02:00:00</td></tr>\n",
              "\t<tr><td>EWR</td><td>2013</td><td>1</td><td>1</td><td>3</td><td>39.02</td><td>28.04</td><td>64.43</td><td>240</td><td>11.50780</td><td>NA</td><td>0</td><td>1012.5</td><td>10</td><td>2013-01-01 03:00:00</td></tr>\n",
              "\t<tr><td>EWR</td><td>2013</td><td>1</td><td>1</td><td>4</td><td>39.92</td><td>28.04</td><td>62.21</td><td>250</td><td>12.65858</td><td>NA</td><td>0</td><td>1012.2</td><td>10</td><td>2013-01-01 04:00:00</td></tr>\n",
              "\t<tr><td>EWR</td><td>2013</td><td>1</td><td>1</td><td>5</td><td>39.02</td><td>28.04</td><td>64.43</td><td>260</td><td>12.65858</td><td>NA</td><td>0</td><td>1011.9</td><td>10</td><td>2013-01-01 05:00:00</td></tr>\n",
              "\t<tr><td>EWR</td><td>2013</td><td>1</td><td>1</td><td>6</td><td>37.94</td><td>28.04</td><td>67.21</td><td>240</td><td>11.50780</td><td>NA</td><td>0</td><td>1012.4</td><td>10</td><td>2013-01-01 06:00:00</td></tr>\n",
              "</tbody>\n",
              "</table>\n"
            ],
            "text/markdown": "\nA tibble: 6 × 15\n\n| origin &lt;chr&gt; | year &lt;int&gt; | month &lt;int&gt; | day &lt;int&gt; | hour &lt;int&gt; | temp &lt;dbl&gt; | dewp &lt;dbl&gt; | humid &lt;dbl&gt; | wind_dir &lt;dbl&gt; | wind_speed &lt;dbl&gt; | wind_gust &lt;dbl&gt; | precip &lt;dbl&gt; | pressure &lt;dbl&gt; | visib &lt;dbl&gt; | time_hour &lt;dttm&gt; |\n|---|---|---|---|---|---|---|---|---|---|---|---|---|---|---|\n| EWR | 2013 | 1 | 1 | 1 | 39.02 | 26.06 | 59.37 | 270 | 10.35702 | NA | 0 | 1012.0 | 10 | 2013-01-01 01:00:00 |\n| EWR | 2013 | 1 | 1 | 2 | 39.02 | 26.96 | 61.63 | 250 |  8.05546 | NA | 0 | 1012.3 | 10 | 2013-01-01 02:00:00 |\n| EWR | 2013 | 1 | 1 | 3 | 39.02 | 28.04 | 64.43 | 240 | 11.50780 | NA | 0 | 1012.5 | 10 | 2013-01-01 03:00:00 |\n| EWR | 2013 | 1 | 1 | 4 | 39.92 | 28.04 | 62.21 | 250 | 12.65858 | NA | 0 | 1012.2 | 10 | 2013-01-01 04:00:00 |\n| EWR | 2013 | 1 | 1 | 5 | 39.02 | 28.04 | 64.43 | 260 | 12.65858 | NA | 0 | 1011.9 | 10 | 2013-01-01 05:00:00 |\n| EWR | 2013 | 1 | 1 | 6 | 37.94 | 28.04 | 67.21 | 240 | 11.50780 | NA | 0 | 1012.4 | 10 | 2013-01-01 06:00:00 |\n\n",
            "text/latex": "A tibble: 6 × 15\n\\begin{tabular}{lllllllllllllll}\n origin & year & month & day & hour & temp & dewp & humid & wind\\_dir & wind\\_speed & wind\\_gust & precip & pressure & visib & time\\_hour\\\\\n <chr> & <int> & <int> & <int> & <int> & <dbl> & <dbl> & <dbl> & <dbl> & <dbl> & <dbl> & <dbl> & <dbl> & <dbl> & <dttm>\\\\\n\\hline\n\t EWR & 2013 & 1 & 1 & 1 & 39.02 & 26.06 & 59.37 & 270 & 10.35702 & NA & 0 & 1012.0 & 10 & 2013-01-01 01:00:00\\\\\n\t EWR & 2013 & 1 & 1 & 2 & 39.02 & 26.96 & 61.63 & 250 &  8.05546 & NA & 0 & 1012.3 & 10 & 2013-01-01 02:00:00\\\\\n\t EWR & 2013 & 1 & 1 & 3 & 39.02 & 28.04 & 64.43 & 240 & 11.50780 & NA & 0 & 1012.5 & 10 & 2013-01-01 03:00:00\\\\\n\t EWR & 2013 & 1 & 1 & 4 & 39.92 & 28.04 & 62.21 & 250 & 12.65858 & NA & 0 & 1012.2 & 10 & 2013-01-01 04:00:00\\\\\n\t EWR & 2013 & 1 & 1 & 5 & 39.02 & 28.04 & 64.43 & 260 & 12.65858 & NA & 0 & 1011.9 & 10 & 2013-01-01 05:00:00\\\\\n\t EWR & 2013 & 1 & 1 & 6 & 37.94 & 28.04 & 67.21 & 240 & 11.50780 & NA & 0 & 1012.4 & 10 & 2013-01-01 06:00:00\\\\\n\\end{tabular}\n",
            "text/plain": [
              "  origin year month day hour temp  dewp  humid wind_dir wind_speed wind_gust\n",
              "1 EWR    2013 1     1   1    39.02 26.06 59.37 270      10.35702   NA       \n",
              "2 EWR    2013 1     1   2    39.02 26.96 61.63 250       8.05546   NA       \n",
              "3 EWR    2013 1     1   3    39.02 28.04 64.43 240      11.50780   NA       \n",
              "4 EWR    2013 1     1   4    39.92 28.04 62.21 250      12.65858   NA       \n",
              "5 EWR    2013 1     1   5    39.02 28.04 64.43 260      12.65858   NA       \n",
              "6 EWR    2013 1     1   6    37.94 28.04 67.21 240      11.50780   NA       \n",
              "  precip pressure visib time_hour          \n",
              "1 0      1012.0   10    2013-01-01 01:00:00\n",
              "2 0      1012.3   10    2013-01-01 02:00:00\n",
              "3 0      1012.5   10    2013-01-01 03:00:00\n",
              "4 0      1012.2   10    2013-01-01 04:00:00\n",
              "5 0      1011.9   10    2013-01-01 05:00:00\n",
              "6 0      1012.4   10    2013-01-01 06:00:00"
            ]
          },
          "metadata": {}
        }
      ]
    },
    {
      "cell_type": "markdown",
      "source": [
        "\n",
        "------------------------------------------------------------------------\n",
        "\n",
        "**Descripción general de las tablas**\n",
        "\n",
        "Utilizamos las funciones:\n",
        "\n",
        "dim(): para ver la dimensión de los datos.\n",
        "\n",
        "str(): para mostrar la estructura del objetos de manera compacta y legible.\n",
        "\n",
        "glimpse() : para mostrar un resumen estructural horizontal de los datos:\n",
        "\n",
        "-   `int` enteros.\n",
        "\n",
        "-   `dbl` dobles, o números reales.\n",
        "\n",
        "-   `chr` caracteres o cadenas.\n",
        "\n",
        "-   `dttm` fechas y horas (una fecha + una hora).\n",
        "\n",
        "Otros tres tipos comunes de variables:\n",
        "\n",
        "-   `lgl` significa lógico, `TRUE` (verdadero) o `FALSE` (falso).\n",
        "\n",
        "-   `fctr` significa factores (categóricos).\n",
        "\n",
        "-   `date` fechas.\n",
        "\n"
      ],
      "metadata": {
        "id": "EQhqDuHarIFV"
      }
    },
    {
      "cell_type": "markdown",
      "source": [
        "1. `flights` — Datos de vuelos\n"
      ],
      "metadata": {
        "id": "ffiQTVOxupcu"
      }
    },
    {
      "cell_type": "code",
      "source": [
        "??flights\n",
        "dim(flights)\n",
        "str(flights)\n",
        "glimpse(airlines)"
      ],
      "metadata": {
        "colab": {
          "base_uri": "https://localhost:8080/",
          "height": 451
        },
        "id": "NdNfEfEsrWjp",
        "outputId": "e86760f1-937c-4d8f-d72e-9e1faf674270"
      },
      "execution_count": 8,
      "outputs": [
        {
          "output_type": "display_data",
          "data": {
            "text/html": [
              "<style>\n",
              ".list-inline {list-style: none; margin:0; padding: 0}\n",
              ".list-inline>li {display: inline-block}\n",
              ".list-inline>li:not(:last-child)::after {content: \"\\00b7\"; padding: 0 .5ex}\n",
              "</style>\n",
              "<ol class=list-inline><li>336776</li><li>19</li></ol>\n"
            ],
            "text/markdown": "1. 336776\n2. 19\n\n\n",
            "text/latex": "\\begin{enumerate*}\n\\item 336776\n\\item 19\n\\end{enumerate*}\n",
            "text/plain": [
              "[1] 336776     19"
            ]
          },
          "metadata": {}
        },
        {
          "output_type": "stream",
          "name": "stdout",
          "text": [
            "tibble [336,776 × 19] (S3: tbl_df/tbl/data.frame)\n",
            " $ year          : int [1:336776] 2013 2013 2013 2013 2013 2013 2013 2013 2013 2013 ...\n",
            " $ month         : int [1:336776] 1 1 1 1 1 1 1 1 1 1 ...\n",
            " $ day           : int [1:336776] 1 1 1 1 1 1 1 1 1 1 ...\n",
            " $ dep_time      : int [1:336776] 517 533 542 544 554 554 555 557 557 558 ...\n",
            " $ sched_dep_time: int [1:336776] 515 529 540 545 600 558 600 600 600 600 ...\n",
            " $ dep_delay     : num [1:336776] 2 4 2 -1 -6 -4 -5 -3 -3 -2 ...\n",
            " $ arr_time      : int [1:336776] 830 850 923 1004 812 740 913 709 838 753 ...\n",
            " $ sched_arr_time: int [1:336776] 819 830 850 1022 837 728 854 723 846 745 ...\n",
            " $ arr_delay     : num [1:336776] 11 20 33 -18 -25 12 19 -14 -8 8 ...\n",
            " $ carrier       : chr [1:336776] \"UA\" \"UA\" \"AA\" \"B6\" ...\n",
            " $ flight        : int [1:336776] 1545 1714 1141 725 461 1696 507 5708 79 301 ...\n",
            " $ tailnum       : chr [1:336776] \"N14228\" \"N24211\" \"N619AA\" \"N804JB\" ...\n",
            " $ origin        : chr [1:336776] \"EWR\" \"LGA\" \"JFK\" \"JFK\" ...\n",
            " $ dest          : chr [1:336776] \"IAH\" \"IAH\" \"MIA\" \"BQN\" ...\n",
            " $ air_time      : num [1:336776] 227 227 160 183 116 150 158 53 140 138 ...\n",
            " $ distance      : num [1:336776] 1400 1416 1089 1576 762 ...\n",
            " $ hour          : num [1:336776] 5 5 5 5 6 5 6 6 6 6 ...\n",
            " $ minute        : num [1:336776] 15 29 40 45 0 58 0 0 0 0 ...\n",
            " $ time_hour     : POSIXct[1:336776], format: \"2013-01-01 05:00:00\" \"2013-01-01 05:00:00\" ...\n",
            "Rows: 16\n",
            "Columns: 2\n",
            "$ carrier \u001b[3m\u001b[90m<chr>\u001b[39m\u001b[23m \"9E\", \"AA\", \"AS\", \"B6\", \"DL\", \"EV\", \"F9\", \"FL\", \"HA\", \"MQ\", \"O…\n",
            "$ name    \u001b[3m\u001b[90m<chr>\u001b[39m\u001b[23m \"Endeavor Air Inc.\", \"American Airlines Inc.\", \"Alaska Airline…\n"
          ]
        }
      ]
    },
    {
      "cell_type": "markdown",
      "source": [
        "2. `airlines` — Información de aerolíneas"
      ],
      "metadata": {
        "id": "Zkssygk-u4LS"
      }
    },
    {
      "cell_type": "code",
      "source": [
        "glimpse(airlines)"
      ],
      "metadata": {
        "colab": {
          "base_uri": "https://localhost:8080/"
        },
        "id": "MdaKhgx2u5Ze",
        "outputId": "4ce16da7-1fda-4f13-d316-8d8e1562d28b"
      },
      "execution_count": 9,
      "outputs": [
        {
          "output_type": "stream",
          "name": "stdout",
          "text": [
            "Rows: 16\n",
            "Columns: 2\n",
            "$ carrier \u001b[3m\u001b[90m<chr>\u001b[39m\u001b[23m \"9E\", \"AA\", \"AS\", \"B6\", \"DL\", \"EV\", \"F9\", \"FL\", \"HA\", \"MQ\", \"O…\n",
            "$ name    \u001b[3m\u001b[90m<chr>\u001b[39m\u001b[23m \"Endeavor Air Inc.\", \"American Airlines Inc.\", \"Alaska Airline…\n"
          ]
        }
      ]
    },
    {
      "cell_type": "markdown",
      "source": [
        "3. `airports` — Información de aeropuertos"
      ],
      "metadata": {
        "id": "W4oUDhA5vKKB"
      }
    },
    {
      "cell_type": "code",
      "source": [
        "glimpse(airports)"
      ],
      "metadata": {
        "colab": {
          "base_uri": "https://localhost:8080/"
        },
        "id": "9nnWt2bIvBDG",
        "outputId": "0a9ecc31-a5a3-468e-d83c-6e5c6dd18d42"
      },
      "execution_count": 10,
      "outputs": [
        {
          "output_type": "stream",
          "name": "stdout",
          "text": [
            "Rows: 1,458\n",
            "Columns: 8\n",
            "$ faa   \u001b[3m\u001b[90m<chr>\u001b[39m\u001b[23m \"04G\", \"06A\", \"06C\", \"06N\", \"09J\", \"0A9\", \"0G6\", \"0G7\", \"0P2\", \"…\n",
            "$ name  \u001b[3m\u001b[90m<chr>\u001b[39m\u001b[23m \"Lansdowne Airport\", \"Moton Field Municipal Airport\", \"Schaumbur…\n",
            "$ lat   \u001b[3m\u001b[90m<dbl>\u001b[39m\u001b[23m 41.13047, 32.46057, 41.98934, 41.43191, 31.07447, 36.37122, 41.4…\n",
            "$ lon   \u001b[3m\u001b[90m<dbl>\u001b[39m\u001b[23m -80.61958, -85.68003, -88.10124, -74.39156, -81.42778, -82.17342…\n",
            "$ alt   \u001b[3m\u001b[90m<dbl>\u001b[39m\u001b[23m 1044, 264, 801, 523, 11, 1593, 730, 492, 1000, 108, 409, 875, 10…\n",
            "$ tz    \u001b[3m\u001b[90m<dbl>\u001b[39m\u001b[23m -5, -6, -6, -5, -5, -5, -5, -5, -5, -8, -5, -6, -5, -5, -5, -5, …\n",
            "$ dst   \u001b[3m\u001b[90m<chr>\u001b[39m\u001b[23m \"A\", \"A\", \"A\", \"A\", \"A\", \"A\", \"A\", \"A\", \"U\", \"A\", \"A\", \"U\", \"A\",…\n",
            "$ tzone \u001b[3m\u001b[90m<chr>\u001b[39m\u001b[23m \"America/New_York\", \"America/Chicago\", \"America/Chicago\", \"Ameri…\n"
          ]
        }
      ]
    },
    {
      "cell_type": "markdown",
      "source": [
        "4. `planes` — Información de los aviones"
      ],
      "metadata": {
        "id": "8x5gbuovvUZM"
      }
    },
    {
      "cell_type": "code",
      "source": [
        "glimpse(planes)"
      ],
      "metadata": {
        "colab": {
          "base_uri": "https://localhost:8080/"
        },
        "id": "U5MUQ3EivVh0",
        "outputId": "20c8f7b2-bcd4-4d81-ad57-d3c7be71fcc9"
      },
      "execution_count": 11,
      "outputs": [
        {
          "output_type": "stream",
          "name": "stdout",
          "text": [
            "Rows: 3,322\n",
            "Columns: 9\n",
            "$ tailnum      \u001b[3m\u001b[90m<chr>\u001b[39m\u001b[23m \"N10156\", \"N102UW\", \"N103US\", \"N104UW\", \"N10575\", \"N105UW…\n",
            "$ year         \u001b[3m\u001b[90m<int>\u001b[39m\u001b[23m 2004, 1998, 1999, 1999, 2002, 1999, 1999, 1999, 1999, 199…\n",
            "$ type         \u001b[3m\u001b[90m<chr>\u001b[39m\u001b[23m \"Fixed wing multi engine\", \"Fixed wing multi engine\", \"Fi…\n",
            "$ manufacturer \u001b[3m\u001b[90m<chr>\u001b[39m\u001b[23m \"EMBRAER\", \"AIRBUS INDUSTRIE\", \"AIRBUS INDUSTRIE\", \"AIRBU…\n",
            "$ model        \u001b[3m\u001b[90m<chr>\u001b[39m\u001b[23m \"EMB-145XR\", \"A320-214\", \"A320-214\", \"A320-214\", \"EMB-145…\n",
            "$ engines      \u001b[3m\u001b[90m<int>\u001b[39m\u001b[23m 2, 2, 2, 2, 2, 2, 2, 2, 2, 2, 2, 2, 2, 2, 2, 2, 2, 2, 2, …\n",
            "$ seats        \u001b[3m\u001b[90m<int>\u001b[39m\u001b[23m 55, 182, 182, 182, 55, 182, 182, 182, 182, 182, 55, 55, 5…\n",
            "$ speed        \u001b[3m\u001b[90m<int>\u001b[39m\u001b[23m \u001b[31mNA\u001b[39m, \u001b[31mNA\u001b[39m, \u001b[31mNA\u001b[39m, \u001b[31mNA\u001b[39m, \u001b[31mNA\u001b[39m, \u001b[31mNA\u001b[39m, \u001b[31mNA\u001b[39m, \u001b[31mNA\u001b[39m, \u001b[31mNA\u001b[39m, \u001b[31mNA\u001b[39m, \u001b[31mNA\u001b[39m, \u001b[31mNA\u001b[39m, \u001b[31mNA\u001b[39m, \u001b[31mNA\u001b[39m, \u001b[31mN\u001b[39m…\n",
            "$ engine       \u001b[3m\u001b[90m<chr>\u001b[39m\u001b[23m \"Turbo-fan\", \"Turbo-fan\", \"Turbo-fan\", \"Turbo-fan\", \"Turb…\n"
          ]
        }
      ]
    },
    {
      "cell_type": "markdown",
      "source": [
        "5. `weather` — Condiciones climáticas por hora"
      ],
      "metadata": {
        "id": "dO4hCa0av15_"
      }
    },
    {
      "cell_type": "code",
      "source": [
        "glimpse(weather)"
      ],
      "metadata": {
        "id": "akurOpFjv2v8",
        "outputId": "731dd7ca-7d7d-4047-ffeb-1fbbe4d3e731",
        "colab": {
          "base_uri": "https://localhost:8080/"
        }
      },
      "execution_count": 15,
      "outputs": [
        {
          "output_type": "stream",
          "name": "stdout",
          "text": [
            "Rows: 26,115\n",
            "Columns: 15\n",
            "$ origin     \u001b[3m\u001b[90m<chr>\u001b[39m\u001b[23m \"EWR\", \"EWR\", \"EWR\", \"EWR\", \"EWR\", \"EWR\", \"EWR\", \"EWR\", \"EW…\n",
            "$ year       \u001b[3m\u001b[90m<int>\u001b[39m\u001b[23m 2013, 2013, 2013, 2013, 2013, 2013, 2013, 2013, 2013, 2013,…\n",
            "$ month      \u001b[3m\u001b[90m<int>\u001b[39m\u001b[23m 1, 1, 1, 1, 1, 1, 1, 1, 1, 1, 1, 1, 1, 1, 1, 1, 1, 1, 1, 1,…\n",
            "$ day        \u001b[3m\u001b[90m<int>\u001b[39m\u001b[23m 1, 1, 1, 1, 1, 1, 1, 1, 1, 1, 1, 1, 1, 1, 1, 1, 1, 1, 1, 1,…\n",
            "$ hour       \u001b[3m\u001b[90m<int>\u001b[39m\u001b[23m 1, 2, 3, 4, 5, 6, 7, 8, 9, 10, 11, 13, 14, 15, 16, 17, 18, …\n",
            "$ temp       \u001b[3m\u001b[90m<dbl>\u001b[39m\u001b[23m 39.02, 39.02, 39.02, 39.92, 39.02, 37.94, 39.02, 39.92, 39.…\n",
            "$ dewp       \u001b[3m\u001b[90m<dbl>\u001b[39m\u001b[23m 26.06, 26.96, 28.04, 28.04, 28.04, 28.04, 28.04, 28.04, 28.…\n",
            "$ humid      \u001b[3m\u001b[90m<dbl>\u001b[39m\u001b[23m 59.37, 61.63, 64.43, 62.21, 64.43, 67.21, 64.43, 62.21, 62.…\n",
            "$ wind_dir   \u001b[3m\u001b[90m<dbl>\u001b[39m\u001b[23m 270, 250, 240, 250, 260, 240, 240, 250, 260, 260, 260, 330,…\n",
            "$ wind_speed \u001b[3m\u001b[90m<dbl>\u001b[39m\u001b[23m 10.35702, 8.05546, 11.50780, 12.65858, 12.65858, 11.50780, …\n",
            "$ wind_gust  \u001b[3m\u001b[90m<dbl>\u001b[39m\u001b[23m \u001b[31mNA\u001b[39m, \u001b[31mNA\u001b[39m, \u001b[31mNA\u001b[39m, \u001b[31mNA\u001b[39m, \u001b[31mNA\u001b[39m, \u001b[31mNA\u001b[39m, \u001b[31mNA\u001b[39m, \u001b[31mNA\u001b[39m, \u001b[31mNA\u001b[39m, \u001b[31mNA\u001b[39m, \u001b[31mNA\u001b[39m, \u001b[31mNA\u001b[39m, \u001b[31mNA\u001b[39m, \u001b[31mNA\u001b[39m, 20.…\n",
            "$ precip     \u001b[3m\u001b[90m<dbl>\u001b[39m\u001b[23m 0, 0, 0, 0, 0, 0, 0, 0, 0, 0, 0, 0, 0, 0, 0, 0, 0, 0, 0, 0,…\n",
            "$ pressure   \u001b[3m\u001b[90m<dbl>\u001b[39m\u001b[23m 1012.0, 1012.3, 1012.5, 1012.2, 1011.9, 1012.4, 1012.2, 101…\n",
            "$ visib      \u001b[3m\u001b[90m<dbl>\u001b[39m\u001b[23m 10, 10, 10, 10, 10, 10, 10, 10, 10, 10, 10, 10, 10, 10, 10,…\n",
            "$ time_hour  \u001b[3m\u001b[90m<dttm>\u001b[39m\u001b[23m 2013-01-01 01:00:00, 2013-01-01 02:00:00, 2013-01-01 03:00…\n"
          ]
        }
      ]
    },
    {
      "cell_type": "markdown",
      "source": [
        "------------------------------------------------------------------------\n",
        "\n",
        "**Relaciones clave**\n",
        "\n",
        "Lo veremos en detalle más adelante:\n",
        "\n",
        "-   `flights$carrier` → `airlines$carrier`\n",
        "-   `flights$tailnum` → `planes$tailnum`\n",
        "-   `flights$origin`, `flights$dest` → `airports$faa`\n",
        "-   `flights$origin` + `flights$time_hour` → `weather`\n",
        "\n",
        "## Verbos en Dplyr:\n",
        "\n",
        "Los verbos de `dplyr` permiten transformar datos de forma clara y estructurada. Su sintaxis es intuitiva y permite encadenar operaciones paso a paso usando el operador `%>%`. Los verbos de `dplyr` siguen una estructura muy regular:\n",
        "\n",
        "``` r\n",
        "datos %>% verbo(argumentos)\n",
        "```\n",
        "\n",
        "-   `datos`: es el conjunto de datos original (por ejemplo, `flights`)\n",
        "-   `%>%`: se lee como \"entonces\", conecta pasos secuenciales\n",
        "-   `verbo()`: es la función como `filter()`, `select()`, etc.\n",
        "-   `argumentos`: lo que queremos hacer (condiciones, columnas, cálculos)\n",
        "\n",
        "**El operador `%>%` – Pipe (tubo en español) del tidyverse (importancia de que sea gramático)**\n",
        "\n",
        "El operador `%>%` (pipe) proviene del paquete `magrittr`, que forma parte del `tidyverse`.  \n",
        "Se usa para **encadenar funciones**, permitiendo escribir código más limpio y legible.\n",
        "\n",
        "| Plataforma  | Atajo de teclado       |\n",
        "| ----------- | ---------------------- |\n",
        "| **Windows** | `Ctrl` + `Shift` + `M` |\n",
        "| **macOS**   | `Cmd` + `Shift` + `M`  |\n",
        "| **Linux**   | `Ctrl` + `Shift` + `M` |\n",
        "\n",
        "\n",
        "**¿Cómo se lee?**\n",
        "\n",
        "> **“y luego”**.  \n",
        "> Por ejemplo: *Toma los datos y luego filtra y luego resume*.\n",
        "\n",
        "---\n",
        "\n",
        "### Comparación:\n",
        "\n",
        "Si por ejemplo, queremos agrupar los vuelos por aeropuerto de origen (origin) y calcula el retraso promedio en la salida (dep_delay) para cada uno de ellos (aeropuertos), asegurándonos de ignorar los valores perdidos (NA) en el cálculo de la media:\n",
        "\n"
      ],
      "metadata": {
        "id": "OXKUi4UjwPpv"
      }
    },
    {
      "cell_type": "code",
      "source": [],
      "metadata": {
        "id": "3ZL7pY1qv7SL"
      },
      "execution_count": null,
      "outputs": []
    },
    {
      "cell_type": "markdown",
      "source": [
        "**Sin pipe (forma tradicional):**"
      ],
      "metadata": {
        "id": "9tjjJcXTwuEn"
      }
    },
    {
      "cell_type": "code",
      "source": [
        "summarise(group_by(flights, origin), promedio = mean(dep_delay, na.rm = TRUE))"
      ],
      "metadata": {
        "id": "rN3Sa5sUvX9N",
        "outputId": "89bbb2e6-cf85-47a1-bfa3-57dab35cd34a",
        "colab": {
          "base_uri": "https://localhost:8080/",
          "height": 192
        }
      },
      "execution_count": 16,
      "outputs": [
        {
          "output_type": "display_data",
          "data": {
            "text/html": [
              "<table class=\"dataframe\">\n",
              "<caption>A tibble: 3 × 2</caption>\n",
              "<thead>\n",
              "\t<tr><th scope=col>origin</th><th scope=col>promedio</th></tr>\n",
              "\t<tr><th scope=col>&lt;chr&gt;</th><th scope=col>&lt;dbl&gt;</th></tr>\n",
              "</thead>\n",
              "<tbody>\n",
              "\t<tr><td>EWR</td><td>15.10795</td></tr>\n",
              "\t<tr><td>JFK</td><td>12.11216</td></tr>\n",
              "\t<tr><td>LGA</td><td>10.34688</td></tr>\n",
              "</tbody>\n",
              "</table>\n"
            ],
            "text/markdown": "\nA tibble: 3 × 2\n\n| origin &lt;chr&gt; | promedio &lt;dbl&gt; |\n|---|---|\n| EWR | 15.10795 |\n| JFK | 12.11216 |\n| LGA | 10.34688 |\n\n",
            "text/latex": "A tibble: 3 × 2\n\\begin{tabular}{ll}\n origin & promedio\\\\\n <chr> & <dbl>\\\\\n\\hline\n\t EWR & 15.10795\\\\\n\t JFK & 12.11216\\\\\n\t LGA & 10.34688\\\\\n\\end{tabular}\n",
            "text/plain": [
              "  origin promedio\n",
              "1 EWR    15.10795\n",
              "2 JFK    12.11216\n",
              "3 LGA    10.34688"
            ]
          },
          "metadata": {}
        }
      ]
    },
    {
      "cell_type": "markdown",
      "source": [
        "**Con pipe (%>%):**"
      ],
      "metadata": {
        "id": "h6bj7PYGw0Lw"
      }
    },
    {
      "cell_type": "code",
      "source": [
        "flights %>%\n",
        "  group_by(origin) %>%\n",
        "  summarise(promedio = mean(dep_delay, na.rm = TRUE))"
      ],
      "metadata": {
        "id": "-jFjigkQw0yG",
        "outputId": "8fe26c5a-0683-4d6a-cf0d-8d74820456f8",
        "colab": {
          "base_uri": "https://localhost:8080/",
          "height": 192
        }
      },
      "execution_count": 17,
      "outputs": [
        {
          "output_type": "display_data",
          "data": {
            "text/html": [
              "<table class=\"dataframe\">\n",
              "<caption>A tibble: 3 × 2</caption>\n",
              "<thead>\n",
              "\t<tr><th scope=col>origin</th><th scope=col>promedio</th></tr>\n",
              "\t<tr><th scope=col>&lt;chr&gt;</th><th scope=col>&lt;dbl&gt;</th></tr>\n",
              "</thead>\n",
              "<tbody>\n",
              "\t<tr><td>EWR</td><td>15.10795</td></tr>\n",
              "\t<tr><td>JFK</td><td>12.11216</td></tr>\n",
              "\t<tr><td>LGA</td><td>10.34688</td></tr>\n",
              "</tbody>\n",
              "</table>\n"
            ],
            "text/markdown": "\nA tibble: 3 × 2\n\n| origin &lt;chr&gt; | promedio &lt;dbl&gt; |\n|---|---|\n| EWR | 15.10795 |\n| JFK | 12.11216 |\n| LGA | 10.34688 |\n\n",
            "text/latex": "A tibble: 3 × 2\n\\begin{tabular}{ll}\n origin & promedio\\\\\n <chr> & <dbl>\\\\\n\\hline\n\t EWR & 15.10795\\\\\n\t JFK & 12.11216\\\\\n\t LGA & 10.34688\\\\\n\\end{tabular}\n",
            "text/plain": [
              "  origin promedio\n",
              "1 EWR    15.10795\n",
              "2 JFK    12.11216\n",
              "3 LGA    10.34688"
            ]
          },
          "metadata": {}
        }
      ]
    },
    {
      "cell_type": "markdown",
      "source": [
        "---\n",
        "\n",
        "**Estructura del pipe:**\n",
        "\n",
        "```r\n",
        "objeto %>%\n",
        "  funcion(argumentos)\n",
        "```\n",
        "\n",
        "Equivale a:\n",
        "\n",
        "```r\n",
        "funcion(objeto, argumentos)\n",
        "```\n",
        "\n",
        "Se puede seguir encadenando:\n",
        "\n",
        "```r\n",
        "datos %>%\n",
        "  paso_1() %>%\n",
        "  paso_2() %>%\n",
        "  paso_3()\n",
        "```\n",
        "\n",
        "---\n",
        "\n",
        "**Es importante:**\n",
        "\n",
        "- Colocar `%>%` al final de la línea.\n",
        "- Mejora la lectura especialmente en cadenas largas de transformación.\n",
        "- No es necesario crear variables intermedias, lo que se traduce en ahorro en RAM\n",
        "\n",
        "**Los argumentos del los verbos:**\n",
        "\n",
        "-   Se separan por **comas**, no por `=`\n",
        "-   En `mutate()` y `summarise()` se crean nuevas variables con `nombre = cálculo`\n",
        "\n",
        "------------------------------------------------------------------------\n"
      ],
      "metadata": {
        "id": "4ziGbCXmxCqT"
      }
    },
    {
      "cell_type": "markdown",
      "source": [
        "### 1. `filter()` – Filtrar filas\n",
        "\n",
        "`filter()` selecciona **filas que cumplen condiciones** lógicas.\n",
        "\n",
        "- Supongamos que queremos ver todos los vuelos del 1 de enero"
      ],
      "metadata": {
        "id": "4w4K2reJxOnM"
      }
    },
    {
      "cell_type": "code",
      "source": [
        "filter(flights, month == 1, day == 1)"
      ],
      "metadata": {
        "collapsed": true,
        "id": "gQ-LZrweyjiG",
        "outputId": "2ccadff6-d189-4bf1-8b1b-be4a06876f9b",
        "colab": {
          "base_uri": "https://localhost:8080/",
          "height": 1000
        }
      },
      "execution_count": 18,
      "outputs": [
        {
          "output_type": "display_data",
          "data": {
            "text/html": [
              "<table class=\"dataframe\">\n",
              "<caption>A tibble: 842 × 19</caption>\n",
              "<thead>\n",
              "\t<tr><th scope=col>year</th><th scope=col>month</th><th scope=col>day</th><th scope=col>dep_time</th><th scope=col>sched_dep_time</th><th scope=col>dep_delay</th><th scope=col>arr_time</th><th scope=col>sched_arr_time</th><th scope=col>arr_delay</th><th scope=col>carrier</th><th scope=col>flight</th><th scope=col>tailnum</th><th scope=col>origin</th><th scope=col>dest</th><th scope=col>air_time</th><th scope=col>distance</th><th scope=col>hour</th><th scope=col>minute</th><th scope=col>time_hour</th></tr>\n",
              "\t<tr><th scope=col>&lt;int&gt;</th><th scope=col>&lt;int&gt;</th><th scope=col>&lt;int&gt;</th><th scope=col>&lt;int&gt;</th><th scope=col>&lt;int&gt;</th><th scope=col>&lt;dbl&gt;</th><th scope=col>&lt;int&gt;</th><th scope=col>&lt;int&gt;</th><th scope=col>&lt;dbl&gt;</th><th scope=col>&lt;chr&gt;</th><th scope=col>&lt;int&gt;</th><th scope=col>&lt;chr&gt;</th><th scope=col>&lt;chr&gt;</th><th scope=col>&lt;chr&gt;</th><th scope=col>&lt;dbl&gt;</th><th scope=col>&lt;dbl&gt;</th><th scope=col>&lt;dbl&gt;</th><th scope=col>&lt;dbl&gt;</th><th scope=col>&lt;dttm&gt;</th></tr>\n",
              "</thead>\n",
              "<tbody>\n",
              "\t<tr><td>2013</td><td>1</td><td>1</td><td>517</td><td>515</td><td> 2</td><td> 830</td><td> 819</td><td> 11</td><td>UA</td><td>1545</td><td>N14228</td><td>EWR</td><td>IAH</td><td>227</td><td>1400</td><td>5</td><td>15</td><td>2013-01-01 05:00:00</td></tr>\n",
              "\t<tr><td>2013</td><td>1</td><td>1</td><td>533</td><td>529</td><td> 4</td><td> 850</td><td> 830</td><td> 20</td><td>UA</td><td>1714</td><td>N24211</td><td>LGA</td><td>IAH</td><td>227</td><td>1416</td><td>5</td><td>29</td><td>2013-01-01 05:00:00</td></tr>\n",
              "\t<tr><td>2013</td><td>1</td><td>1</td><td>542</td><td>540</td><td> 2</td><td> 923</td><td> 850</td><td> 33</td><td>AA</td><td>1141</td><td>N619AA</td><td>JFK</td><td>MIA</td><td>160</td><td>1089</td><td>5</td><td>40</td><td>2013-01-01 05:00:00</td></tr>\n",
              "\t<tr><td>2013</td><td>1</td><td>1</td><td>544</td><td>545</td><td>-1</td><td>1004</td><td>1022</td><td>-18</td><td>B6</td><td> 725</td><td>N804JB</td><td>JFK</td><td>BQN</td><td>183</td><td>1576</td><td>5</td><td>45</td><td>2013-01-01 05:00:00</td></tr>\n",
              "\t<tr><td>2013</td><td>1</td><td>1</td><td>554</td><td>600</td><td>-6</td><td> 812</td><td> 837</td><td>-25</td><td>DL</td><td> 461</td><td>N668DN</td><td>LGA</td><td>ATL</td><td>116</td><td> 762</td><td>6</td><td> 0</td><td>2013-01-01 06:00:00</td></tr>\n",
              "\t<tr><td>2013</td><td>1</td><td>1</td><td>554</td><td>558</td><td>-4</td><td> 740</td><td> 728</td><td> 12</td><td>UA</td><td>1696</td><td>N39463</td><td>EWR</td><td>ORD</td><td>150</td><td> 719</td><td>5</td><td>58</td><td>2013-01-01 05:00:00</td></tr>\n",
              "\t<tr><td>2013</td><td>1</td><td>1</td><td>555</td><td>600</td><td>-5</td><td> 913</td><td> 854</td><td> 19</td><td>B6</td><td> 507</td><td>N516JB</td><td>EWR</td><td>FLL</td><td>158</td><td>1065</td><td>6</td><td> 0</td><td>2013-01-01 06:00:00</td></tr>\n",
              "\t<tr><td>2013</td><td>1</td><td>1</td><td>557</td><td>600</td><td>-3</td><td> 709</td><td> 723</td><td>-14</td><td>EV</td><td>5708</td><td>N829AS</td><td>LGA</td><td>IAD</td><td> 53</td><td> 229</td><td>6</td><td> 0</td><td>2013-01-01 06:00:00</td></tr>\n",
              "\t<tr><td>2013</td><td>1</td><td>1</td><td>557</td><td>600</td><td>-3</td><td> 838</td><td> 846</td><td> -8</td><td>B6</td><td>  79</td><td>N593JB</td><td>JFK</td><td>MCO</td><td>140</td><td> 944</td><td>6</td><td> 0</td><td>2013-01-01 06:00:00</td></tr>\n",
              "\t<tr><td>2013</td><td>1</td><td>1</td><td>558</td><td>600</td><td>-2</td><td> 753</td><td> 745</td><td>  8</td><td>AA</td><td> 301</td><td>N3ALAA</td><td>LGA</td><td>ORD</td><td>138</td><td> 733</td><td>6</td><td> 0</td><td>2013-01-01 06:00:00</td></tr>\n",
              "\t<tr><td>2013</td><td>1</td><td>1</td><td>558</td><td>600</td><td>-2</td><td> 849</td><td> 851</td><td> -2</td><td>B6</td><td>  49</td><td>N793JB</td><td>JFK</td><td>PBI</td><td>149</td><td>1028</td><td>6</td><td> 0</td><td>2013-01-01 06:00:00</td></tr>\n",
              "\t<tr><td>2013</td><td>1</td><td>1</td><td>558</td><td>600</td><td>-2</td><td> 853</td><td> 856</td><td> -3</td><td>B6</td><td>  71</td><td>N657JB</td><td>JFK</td><td>TPA</td><td>158</td><td>1005</td><td>6</td><td> 0</td><td>2013-01-01 06:00:00</td></tr>\n",
              "\t<tr><td>2013</td><td>1</td><td>1</td><td>558</td><td>600</td><td>-2</td><td> 924</td><td> 917</td><td>  7</td><td>UA</td><td> 194</td><td>N29129</td><td>JFK</td><td>LAX</td><td>345</td><td>2475</td><td>6</td><td> 0</td><td>2013-01-01 06:00:00</td></tr>\n",
              "\t<tr><td>2013</td><td>1</td><td>1</td><td>558</td><td>600</td><td>-2</td><td> 923</td><td> 937</td><td>-14</td><td>UA</td><td>1124</td><td>N53441</td><td>EWR</td><td>SFO</td><td>361</td><td>2565</td><td>6</td><td> 0</td><td>2013-01-01 06:00:00</td></tr>\n",
              "\t<tr><td>2013</td><td>1</td><td>1</td><td>559</td><td>600</td><td>-1</td><td> 941</td><td> 910</td><td> 31</td><td>AA</td><td> 707</td><td>N3DUAA</td><td>LGA</td><td>DFW</td><td>257</td><td>1389</td><td>6</td><td> 0</td><td>2013-01-01 06:00:00</td></tr>\n",
              "\t<tr><td>2013</td><td>1</td><td>1</td><td>559</td><td>559</td><td> 0</td><td> 702</td><td> 706</td><td> -4</td><td>B6</td><td>1806</td><td>N708JB</td><td>JFK</td><td>BOS</td><td> 44</td><td> 187</td><td>5</td><td>59</td><td>2013-01-01 05:00:00</td></tr>\n",
              "\t<tr><td>2013</td><td>1</td><td>1</td><td>559</td><td>600</td><td>-1</td><td> 854</td><td> 902</td><td> -8</td><td>UA</td><td>1187</td><td>N76515</td><td>EWR</td><td>LAS</td><td>337</td><td>2227</td><td>6</td><td> 0</td><td>2013-01-01 06:00:00</td></tr>\n",
              "\t<tr><td>2013</td><td>1</td><td>1</td><td>600</td><td>600</td><td> 0</td><td> 851</td><td> 858</td><td> -7</td><td>B6</td><td> 371</td><td>N595JB</td><td>LGA</td><td>FLL</td><td>152</td><td>1076</td><td>6</td><td> 0</td><td>2013-01-01 06:00:00</td></tr>\n",
              "\t<tr><td>2013</td><td>1</td><td>1</td><td>600</td><td>600</td><td> 0</td><td> 837</td><td> 825</td><td> 12</td><td>MQ</td><td>4650</td><td>N542MQ</td><td>LGA</td><td>ATL</td><td>134</td><td> 762</td><td>6</td><td> 0</td><td>2013-01-01 06:00:00</td></tr>\n",
              "\t<tr><td>2013</td><td>1</td><td>1</td><td>601</td><td>600</td><td> 1</td><td> 844</td><td> 850</td><td> -6</td><td>B6</td><td> 343</td><td>N644JB</td><td>EWR</td><td>PBI</td><td>147</td><td>1023</td><td>6</td><td> 0</td><td>2013-01-01 06:00:00</td></tr>\n",
              "\t<tr><td>2013</td><td>1</td><td>1</td><td>602</td><td>610</td><td>-8</td><td> 812</td><td> 820</td><td> -8</td><td>DL</td><td>1919</td><td>N971DL</td><td>LGA</td><td>MSP</td><td>170</td><td>1020</td><td>6</td><td>10</td><td>2013-01-01 06:00:00</td></tr>\n",
              "\t<tr><td>2013</td><td>1</td><td>1</td><td>602</td><td>605</td><td>-3</td><td> 821</td><td> 805</td><td> 16</td><td>MQ</td><td>4401</td><td>N730MQ</td><td>LGA</td><td>DTW</td><td>105</td><td> 502</td><td>6</td><td> 5</td><td>2013-01-01 06:00:00</td></tr>\n",
              "\t<tr><td>2013</td><td>1</td><td>1</td><td>606</td><td>610</td><td>-4</td><td> 858</td><td> 910</td><td>-12</td><td>AA</td><td>1895</td><td>N633AA</td><td>EWR</td><td>MIA</td><td>152</td><td>1085</td><td>6</td><td>10</td><td>2013-01-01 06:00:00</td></tr>\n",
              "\t<tr><td>2013</td><td>1</td><td>1</td><td>606</td><td>610</td><td>-4</td><td> 837</td><td> 845</td><td> -8</td><td>DL</td><td>1743</td><td>N3739P</td><td>JFK</td><td>ATL</td><td>128</td><td> 760</td><td>6</td><td>10</td><td>2013-01-01 06:00:00</td></tr>\n",
              "\t<tr><td>2013</td><td>1</td><td>1</td><td>607</td><td>607</td><td> 0</td><td> 858</td><td> 915</td><td>-17</td><td>UA</td><td>1077</td><td>N53442</td><td>EWR</td><td>MIA</td><td>157</td><td>1085</td><td>6</td><td> 7</td><td>2013-01-01 06:00:00</td></tr>\n",
              "\t<tr><td>2013</td><td>1</td><td>1</td><td>608</td><td>600</td><td> 8</td><td> 807</td><td> 735</td><td> 32</td><td>MQ</td><td>3768</td><td>N9EAMQ</td><td>EWR</td><td>ORD</td><td>139</td><td> 719</td><td>6</td><td> 0</td><td>2013-01-01 06:00:00</td></tr>\n",
              "\t<tr><td>2013</td><td>1</td><td>1</td><td>611</td><td>600</td><td>11</td><td> 945</td><td> 931</td><td> 14</td><td>UA</td><td> 303</td><td>N532UA</td><td>JFK</td><td>SFO</td><td>366</td><td>2586</td><td>6</td><td> 0</td><td>2013-01-01 06:00:00</td></tr>\n",
              "\t<tr><td>2013</td><td>1</td><td>1</td><td>613</td><td>610</td><td> 3</td><td> 925</td><td> 921</td><td>  4</td><td>B6</td><td> 135</td><td>N635JB</td><td>JFK</td><td>RSW</td><td>175</td><td>1074</td><td>6</td><td>10</td><td>2013-01-01 06:00:00</td></tr>\n",
              "\t<tr><td>2013</td><td>1</td><td>1</td><td>615</td><td>615</td><td> 0</td><td>1039</td><td>1100</td><td>-21</td><td>B6</td><td> 709</td><td>N794JB</td><td>JFK</td><td>SJU</td><td>182</td><td>1598</td><td>6</td><td>15</td><td>2013-01-01 06:00:00</td></tr>\n",
              "\t<tr><td>2013</td><td>1</td><td>1</td><td>615</td><td>615</td><td> 0</td><td> 833</td><td> 842</td><td> -9</td><td>DL</td><td> 575</td><td>N326NB</td><td>EWR</td><td>ATL</td><td>120</td><td> 746</td><td>6</td><td>15</td><td>2013-01-01 06:00:00</td></tr>\n",
              "\t<tr><td>⋮</td><td>⋮</td><td>⋮</td><td>⋮</td><td>⋮</td><td>⋮</td><td>⋮</td><td>⋮</td><td>⋮</td><td>⋮</td><td>⋮</td><td>⋮</td><td>⋮</td><td>⋮</td><td>⋮</td><td>⋮</td><td>⋮</td><td>⋮</td><td>⋮</td></tr>\n",
              "\t<tr><td>2013</td><td>1</td><td>1</td><td>2140</td><td>2135</td><td>  5</td><td> 210</td><td> 224</td><td>-14</td><td>B6</td><td> 701</td><td>N284JB</td><td>JFK</td><td>SJU</td><td>189</td><td>1598</td><td>21</td><td>35</td><td>2013-01-01 21:00:00</td></tr>\n",
              "\t<tr><td>2013</td><td>1</td><td>1</td><td>2157</td><td>2155</td><td>  2</td><td>  43</td><td>  41</td><td>  2</td><td>B6</td><td>  43</td><td>N537JB</td><td>JFK</td><td>MCO</td><td>140</td><td> 944</td><td>21</td><td>55</td><td>2013-01-01 21:00:00</td></tr>\n",
              "\t<tr><td>2013</td><td>1</td><td>1</td><td>2158</td><td>2200</td><td> -2</td><td>2254</td><td>2307</td><td>-13</td><td>EV</td><td>4103</td><td>N14998</td><td>EWR</td><td>BWI</td><td> 36</td><td> 169</td><td>22</td><td> 0</td><td>2013-01-01 22:00:00</td></tr>\n",
              "\t<tr><td>2013</td><td>1</td><td>1</td><td>2205</td><td>1720</td><td>285</td><td>  46</td><td>2040</td><td>246</td><td>AA</td><td>1999</td><td>N5DNAA</td><td>EWR</td><td>MIA</td><td>146</td><td>1085</td><td>17</td><td>20</td><td>2013-01-01 17:00:00</td></tr>\n",
              "\t<tr><td>2013</td><td>1</td><td>1</td><td>2209</td><td>2145</td><td> 24</td><td>  58</td><td>  37</td><td> 21</td><td>B6</td><td>  35</td><td>N608JB</td><td>JFK</td><td>PBI</td><td>143</td><td>1028</td><td>21</td><td>45</td><td>2013-01-01 21:00:00</td></tr>\n",
              "\t<tr><td>2013</td><td>1</td><td>1</td><td>2209</td><td>2155</td><td> 14</td><td>2400</td><td>2337</td><td> 23</td><td>B6</td><td>1109</td><td>N216JB</td><td>JFK</td><td>RDU</td><td> 86</td><td> 427</td><td>21</td><td>55</td><td>2013-01-01 21:00:00</td></tr>\n",
              "\t<tr><td>2013</td><td>1</td><td>1</td><td>2211</td><td>2145</td><td> 26</td><td>2339</td><td>2311</td><td> 28</td><td>B6</td><td> 104</td><td>N228JB</td><td>JFK</td><td>BUF</td><td> 64</td><td> 301</td><td>21</td><td>45</td><td>2013-01-01 21:00:00</td></tr>\n",
              "\t<tr><td>2013</td><td>1</td><td>1</td><td>2217</td><td>2229</td><td>-12</td><td> 249</td><td> 315</td><td>-26</td><td>B6</td><td> 713</td><td>N547JB</td><td>JFK</td><td>SJU</td><td>191</td><td>1598</td><td>22</td><td>29</td><td>2013-01-01 22:00:00</td></tr>\n",
              "\t<tr><td>2013</td><td>1</td><td>1</td><td>2217</td><td>2130</td><td> 47</td><td> 140</td><td>  27</td><td> 73</td><td>B6</td><td>  21</td><td>N516JB</td><td>JFK</td><td>TPA</td><td>163</td><td>1005</td><td>21</td><td>30</td><td>2013-01-01 21:00:00</td></tr>\n",
              "\t<tr><td>2013</td><td>1</td><td>1</td><td>2221</td><td>2000</td><td>141</td><td>2331</td><td>2124</td><td>127</td><td>EV</td><td>4462</td><td>N13566</td><td>EWR</td><td>BUF</td><td> 56</td><td> 282</td><td>20</td><td> 0</td><td>2013-01-01 20:00:00</td></tr>\n",
              "\t<tr><td>2013</td><td>1</td><td>1</td><td>2224</td><td>2200</td><td> 24</td><td>2324</td><td>2316</td><td>  8</td><td>EV</td><td>4206</td><td>N16561</td><td>EWR</td><td>PWM</td><td> 47</td><td> 284</td><td>22</td><td> 0</td><td>2013-01-01 22:00:00</td></tr>\n",
              "\t<tr><td>2013</td><td>1</td><td>1</td><td>2229</td><td>2159</td><td> 30</td><td> 149</td><td> 100</td><td> 49</td><td>B6</td><td>  11</td><td>N531JB</td><td>JFK</td><td>FLL</td><td>153</td><td>1069</td><td>21</td><td>59</td><td>2013-01-01 21:00:00</td></tr>\n",
              "\t<tr><td>2013</td><td>1</td><td>1</td><td>2240</td><td>2245</td><td> -5</td><td>2340</td><td>2356</td><td>-16</td><td>B6</td><td> 608</td><td>N279JB</td><td>JFK</td><td>PWM</td><td> 44</td><td> 273</td><td>22</td><td>45</td><td>2013-01-01 22:00:00</td></tr>\n",
              "\t<tr><td>2013</td><td>1</td><td>1</td><td>2250</td><td>2255</td><td> -5</td><td>2352</td><td>2359</td><td> -7</td><td>B6</td><td>1018</td><td>N521JB</td><td>JFK</td><td>BOS</td><td> 37</td><td> 187</td><td>22</td><td>55</td><td>2013-01-01 22:00:00</td></tr>\n",
              "\t<tr><td>2013</td><td>1</td><td>1</td><td>2302</td><td>2200</td><td> 62</td><td>2342</td><td>2253</td><td> 49</td><td>EV</td><td>4276</td><td>N13903</td><td>EWR</td><td>BDL</td><td> 24</td><td> 116</td><td>22</td><td> 0</td><td>2013-01-01 22:00:00</td></tr>\n",
              "\t<tr><td>2013</td><td>1</td><td>1</td><td>2306</td><td>2245</td><td> 21</td><td>  28</td><td>   5</td><td> 23</td><td>B6</td><td>  30</td><td>N281JB</td><td>JFK</td><td>ROC</td><td> 59</td><td> 264</td><td>22</td><td>45</td><td>2013-01-01 22:00:00</td></tr>\n",
              "\t<tr><td>2013</td><td>1</td><td>1</td><td>2307</td><td>2245</td><td> 22</td><td>  32</td><td>2357</td><td> 35</td><td>B6</td><td> 128</td><td>N178JB</td><td>JFK</td><td>BTV</td><td> 59</td><td> 266</td><td>22</td><td>45</td><td>2013-01-01 22:00:00</td></tr>\n",
              "\t<tr><td>2013</td><td>1</td><td>1</td><td>2310</td><td>2255</td><td> 15</td><td>  24</td><td>  15</td><td>  9</td><td>B6</td><td> 112</td><td>N646JB</td><td>JFK</td><td>BUF</td><td> 57</td><td> 301</td><td>22</td><td>55</td><td>2013-01-01 22:00:00</td></tr>\n",
              "\t<tr><td>2013</td><td>1</td><td>1</td><td>2312</td><td>2000</td><td>192</td><td>  21</td><td>2110</td><td>191</td><td>EV</td><td>4312</td><td>N13958</td><td>EWR</td><td>DCA</td><td> 44</td><td> 199</td><td>20</td><td> 0</td><td>2013-01-01 20:00:00</td></tr>\n",
              "\t<tr><td>2013</td><td>1</td><td>1</td><td>2323</td><td>2200</td><td> 83</td><td>  22</td><td>2313</td><td> 69</td><td>EV</td><td>4257</td><td>N13538</td><td>EWR</td><td>BTV</td><td> 44</td><td> 266</td><td>22</td><td> 0</td><td>2013-01-01 22:00:00</td></tr>\n",
              "\t<tr><td>2013</td><td>1</td><td>1</td><td>2326</td><td>2130</td><td>116</td><td> 131</td><td>  18</td><td> 73</td><td>B6</td><td> 199</td><td>N594JB</td><td>JFK</td><td>LAS</td><td>290</td><td>2248</td><td>21</td><td>30</td><td>2013-01-01 21:00:00</td></tr>\n",
              "\t<tr><td>2013</td><td>1</td><td>1</td><td>2327</td><td>2250</td><td> 37</td><td>  32</td><td>2359</td><td> 33</td><td>B6</td><td>  22</td><td>N639JB</td><td>JFK</td><td>SYR</td><td> 45</td><td> 209</td><td>22</td><td>50</td><td>2013-01-01 22:00:00</td></tr>\n",
              "\t<tr><td>2013</td><td>1</td><td>1</td><td>2343</td><td>1724</td><td>379</td><td> 314</td><td>1938</td><td>456</td><td>EV</td><td>4321</td><td>N21197</td><td>EWR</td><td>MCI</td><td>222</td><td>1092</td><td>17</td><td>24</td><td>2013-01-01 17:00:00</td></tr>\n",
              "\t<tr><td>2013</td><td>1</td><td>1</td><td>2353</td><td>2359</td><td> -6</td><td> 425</td><td> 445</td><td>-20</td><td>B6</td><td> 739</td><td>N591JB</td><td>JFK</td><td>PSE</td><td>195</td><td>1617</td><td>23</td><td>59</td><td>2013-01-01 23:00:00</td></tr>\n",
              "\t<tr><td>2013</td><td>1</td><td>1</td><td>2353</td><td>2359</td><td> -6</td><td> 418</td><td> 442</td><td>-24</td><td>B6</td><td> 707</td><td>N794JB</td><td>JFK</td><td>SJU</td><td>185</td><td>1598</td><td>23</td><td>59</td><td>2013-01-01 23:00:00</td></tr>\n",
              "\t<tr><td>2013</td><td>1</td><td>1</td><td>2356</td><td>2359</td><td> -3</td><td> 425</td><td> 437</td><td>-12</td><td>B6</td><td> 727</td><td>N588JB</td><td>JFK</td><td>BQN</td><td>186</td><td>1576</td><td>23</td><td>59</td><td>2013-01-01 23:00:00</td></tr>\n",
              "\t<tr><td>2013</td><td>1</td><td>1</td><td>  NA</td><td>1630</td><td> NA</td><td>  NA</td><td>1815</td><td> NA</td><td>EV</td><td>4308</td><td>N18120</td><td>EWR</td><td>RDU</td><td> NA</td><td> 416</td><td>16</td><td>30</td><td>2013-01-01 16:00:00</td></tr>\n",
              "\t<tr><td>2013</td><td>1</td><td>1</td><td>  NA</td><td>1935</td><td> NA</td><td>  NA</td><td>2240</td><td> NA</td><td>AA</td><td> 791</td><td>N3EHAA</td><td>LGA</td><td>DFW</td><td> NA</td><td>1389</td><td>19</td><td>35</td><td>2013-01-01 19:00:00</td></tr>\n",
              "\t<tr><td>2013</td><td>1</td><td>1</td><td>  NA</td><td>1500</td><td> NA</td><td>  NA</td><td>1825</td><td> NA</td><td>AA</td><td>1925</td><td>N3EVAA</td><td>LGA</td><td>MIA</td><td> NA</td><td>1096</td><td>15</td><td> 0</td><td>2013-01-01 15:00:00</td></tr>\n",
              "\t<tr><td>2013</td><td>1</td><td>1</td><td>  NA</td><td> 600</td><td> NA</td><td>  NA</td><td> 901</td><td> NA</td><td>B6</td><td> 125</td><td>N618JB</td><td>JFK</td><td>FLL</td><td> NA</td><td>1069</td><td> 6</td><td> 0</td><td>2013-01-01 06:00:00</td></tr>\n",
              "</tbody>\n",
              "</table>\n"
            ],
            "text/markdown": "\nA tibble: 842 × 19\n\n| year &lt;int&gt; | month &lt;int&gt; | day &lt;int&gt; | dep_time &lt;int&gt; | sched_dep_time &lt;int&gt; | dep_delay &lt;dbl&gt; | arr_time &lt;int&gt; | sched_arr_time &lt;int&gt; | arr_delay &lt;dbl&gt; | carrier &lt;chr&gt; | flight &lt;int&gt; | tailnum &lt;chr&gt; | origin &lt;chr&gt; | dest &lt;chr&gt; | air_time &lt;dbl&gt; | distance &lt;dbl&gt; | hour &lt;dbl&gt; | minute &lt;dbl&gt; | time_hour &lt;dttm&gt; |\n|---|---|---|---|---|---|---|---|---|---|---|---|---|---|---|---|---|---|---|\n| 2013 | 1 | 1 | 517 | 515 |  2 |  830 |  819 |  11 | UA | 1545 | N14228 | EWR | IAH | 227 | 1400 | 5 | 15 | 2013-01-01 05:00:00 |\n| 2013 | 1 | 1 | 533 | 529 |  4 |  850 |  830 |  20 | UA | 1714 | N24211 | LGA | IAH | 227 | 1416 | 5 | 29 | 2013-01-01 05:00:00 |\n| 2013 | 1 | 1 | 542 | 540 |  2 |  923 |  850 |  33 | AA | 1141 | N619AA | JFK | MIA | 160 | 1089 | 5 | 40 | 2013-01-01 05:00:00 |\n| 2013 | 1 | 1 | 544 | 545 | -1 | 1004 | 1022 | -18 | B6 |  725 | N804JB | JFK | BQN | 183 | 1576 | 5 | 45 | 2013-01-01 05:00:00 |\n| 2013 | 1 | 1 | 554 | 600 | -6 |  812 |  837 | -25 | DL |  461 | N668DN | LGA | ATL | 116 |  762 | 6 |  0 | 2013-01-01 06:00:00 |\n| 2013 | 1 | 1 | 554 | 558 | -4 |  740 |  728 |  12 | UA | 1696 | N39463 | EWR | ORD | 150 |  719 | 5 | 58 | 2013-01-01 05:00:00 |\n| 2013 | 1 | 1 | 555 | 600 | -5 |  913 |  854 |  19 | B6 |  507 | N516JB | EWR | FLL | 158 | 1065 | 6 |  0 | 2013-01-01 06:00:00 |\n| 2013 | 1 | 1 | 557 | 600 | -3 |  709 |  723 | -14 | EV | 5708 | N829AS | LGA | IAD |  53 |  229 | 6 |  0 | 2013-01-01 06:00:00 |\n| 2013 | 1 | 1 | 557 | 600 | -3 |  838 |  846 |  -8 | B6 |   79 | N593JB | JFK | MCO | 140 |  944 | 6 |  0 | 2013-01-01 06:00:00 |\n| 2013 | 1 | 1 | 558 | 600 | -2 |  753 |  745 |   8 | AA |  301 | N3ALAA | LGA | ORD | 138 |  733 | 6 |  0 | 2013-01-01 06:00:00 |\n| 2013 | 1 | 1 | 558 | 600 | -2 |  849 |  851 |  -2 | B6 |   49 | N793JB | JFK | PBI | 149 | 1028 | 6 |  0 | 2013-01-01 06:00:00 |\n| 2013 | 1 | 1 | 558 | 600 | -2 |  853 |  856 |  -3 | B6 |   71 | N657JB | JFK | TPA | 158 | 1005 | 6 |  0 | 2013-01-01 06:00:00 |\n| 2013 | 1 | 1 | 558 | 600 | -2 |  924 |  917 |   7 | UA |  194 | N29129 | JFK | LAX | 345 | 2475 | 6 |  0 | 2013-01-01 06:00:00 |\n| 2013 | 1 | 1 | 558 | 600 | -2 |  923 |  937 | -14 | UA | 1124 | N53441 | EWR | SFO | 361 | 2565 | 6 |  0 | 2013-01-01 06:00:00 |\n| 2013 | 1 | 1 | 559 | 600 | -1 |  941 |  910 |  31 | AA |  707 | N3DUAA | LGA | DFW | 257 | 1389 | 6 |  0 | 2013-01-01 06:00:00 |\n| 2013 | 1 | 1 | 559 | 559 |  0 |  702 |  706 |  -4 | B6 | 1806 | N708JB | JFK | BOS |  44 |  187 | 5 | 59 | 2013-01-01 05:00:00 |\n| 2013 | 1 | 1 | 559 | 600 | -1 |  854 |  902 |  -8 | UA | 1187 | N76515 | EWR | LAS | 337 | 2227 | 6 |  0 | 2013-01-01 06:00:00 |\n| 2013 | 1 | 1 | 600 | 600 |  0 |  851 |  858 |  -7 | B6 |  371 | N595JB | LGA | FLL | 152 | 1076 | 6 |  0 | 2013-01-01 06:00:00 |\n| 2013 | 1 | 1 | 600 | 600 |  0 |  837 |  825 |  12 | MQ | 4650 | N542MQ | LGA | ATL | 134 |  762 | 6 |  0 | 2013-01-01 06:00:00 |\n| 2013 | 1 | 1 | 601 | 600 |  1 |  844 |  850 |  -6 | B6 |  343 | N644JB | EWR | PBI | 147 | 1023 | 6 |  0 | 2013-01-01 06:00:00 |\n| 2013 | 1 | 1 | 602 | 610 | -8 |  812 |  820 |  -8 | DL | 1919 | N971DL | LGA | MSP | 170 | 1020 | 6 | 10 | 2013-01-01 06:00:00 |\n| 2013 | 1 | 1 | 602 | 605 | -3 |  821 |  805 |  16 | MQ | 4401 | N730MQ | LGA | DTW | 105 |  502 | 6 |  5 | 2013-01-01 06:00:00 |\n| 2013 | 1 | 1 | 606 | 610 | -4 |  858 |  910 | -12 | AA | 1895 | N633AA | EWR | MIA | 152 | 1085 | 6 | 10 | 2013-01-01 06:00:00 |\n| 2013 | 1 | 1 | 606 | 610 | -4 |  837 |  845 |  -8 | DL | 1743 | N3739P | JFK | ATL | 128 |  760 | 6 | 10 | 2013-01-01 06:00:00 |\n| 2013 | 1 | 1 | 607 | 607 |  0 |  858 |  915 | -17 | UA | 1077 | N53442 | EWR | MIA | 157 | 1085 | 6 |  7 | 2013-01-01 06:00:00 |\n| 2013 | 1 | 1 | 608 | 600 |  8 |  807 |  735 |  32 | MQ | 3768 | N9EAMQ | EWR | ORD | 139 |  719 | 6 |  0 | 2013-01-01 06:00:00 |\n| 2013 | 1 | 1 | 611 | 600 | 11 |  945 |  931 |  14 | UA |  303 | N532UA | JFK | SFO | 366 | 2586 | 6 |  0 | 2013-01-01 06:00:00 |\n| 2013 | 1 | 1 | 613 | 610 |  3 |  925 |  921 |   4 | B6 |  135 | N635JB | JFK | RSW | 175 | 1074 | 6 | 10 | 2013-01-01 06:00:00 |\n| 2013 | 1 | 1 | 615 | 615 |  0 | 1039 | 1100 | -21 | B6 |  709 | N794JB | JFK | SJU | 182 | 1598 | 6 | 15 | 2013-01-01 06:00:00 |\n| 2013 | 1 | 1 | 615 | 615 |  0 |  833 |  842 |  -9 | DL |  575 | N326NB | EWR | ATL | 120 |  746 | 6 | 15 | 2013-01-01 06:00:00 |\n| ⋮ | ⋮ | ⋮ | ⋮ | ⋮ | ⋮ | ⋮ | ⋮ | ⋮ | ⋮ | ⋮ | ⋮ | ⋮ | ⋮ | ⋮ | ⋮ | ⋮ | ⋮ | ⋮ |\n| 2013 | 1 | 1 | 2140 | 2135 |   5 |  210 |  224 | -14 | B6 |  701 | N284JB | JFK | SJU | 189 | 1598 | 21 | 35 | 2013-01-01 21:00:00 |\n| 2013 | 1 | 1 | 2157 | 2155 |   2 |   43 |   41 |   2 | B6 |   43 | N537JB | JFK | MCO | 140 |  944 | 21 | 55 | 2013-01-01 21:00:00 |\n| 2013 | 1 | 1 | 2158 | 2200 |  -2 | 2254 | 2307 | -13 | EV | 4103 | N14998 | EWR | BWI |  36 |  169 | 22 |  0 | 2013-01-01 22:00:00 |\n| 2013 | 1 | 1 | 2205 | 1720 | 285 |   46 | 2040 | 246 | AA | 1999 | N5DNAA | EWR | MIA | 146 | 1085 | 17 | 20 | 2013-01-01 17:00:00 |\n| 2013 | 1 | 1 | 2209 | 2145 |  24 |   58 |   37 |  21 | B6 |   35 | N608JB | JFK | PBI | 143 | 1028 | 21 | 45 | 2013-01-01 21:00:00 |\n| 2013 | 1 | 1 | 2209 | 2155 |  14 | 2400 | 2337 |  23 | B6 | 1109 | N216JB | JFK | RDU |  86 |  427 | 21 | 55 | 2013-01-01 21:00:00 |\n| 2013 | 1 | 1 | 2211 | 2145 |  26 | 2339 | 2311 |  28 | B6 |  104 | N228JB | JFK | BUF |  64 |  301 | 21 | 45 | 2013-01-01 21:00:00 |\n| 2013 | 1 | 1 | 2217 | 2229 | -12 |  249 |  315 | -26 | B6 |  713 | N547JB | JFK | SJU | 191 | 1598 | 22 | 29 | 2013-01-01 22:00:00 |\n| 2013 | 1 | 1 | 2217 | 2130 |  47 |  140 |   27 |  73 | B6 |   21 | N516JB | JFK | TPA | 163 | 1005 | 21 | 30 | 2013-01-01 21:00:00 |\n| 2013 | 1 | 1 | 2221 | 2000 | 141 | 2331 | 2124 | 127 | EV | 4462 | N13566 | EWR | BUF |  56 |  282 | 20 |  0 | 2013-01-01 20:00:00 |\n| 2013 | 1 | 1 | 2224 | 2200 |  24 | 2324 | 2316 |   8 | EV | 4206 | N16561 | EWR | PWM |  47 |  284 | 22 |  0 | 2013-01-01 22:00:00 |\n| 2013 | 1 | 1 | 2229 | 2159 |  30 |  149 |  100 |  49 | B6 |   11 | N531JB | JFK | FLL | 153 | 1069 | 21 | 59 | 2013-01-01 21:00:00 |\n| 2013 | 1 | 1 | 2240 | 2245 |  -5 | 2340 | 2356 | -16 | B6 |  608 | N279JB | JFK | PWM |  44 |  273 | 22 | 45 | 2013-01-01 22:00:00 |\n| 2013 | 1 | 1 | 2250 | 2255 |  -5 | 2352 | 2359 |  -7 | B6 | 1018 | N521JB | JFK | BOS |  37 |  187 | 22 | 55 | 2013-01-01 22:00:00 |\n| 2013 | 1 | 1 | 2302 | 2200 |  62 | 2342 | 2253 |  49 | EV | 4276 | N13903 | EWR | BDL |  24 |  116 | 22 |  0 | 2013-01-01 22:00:00 |\n| 2013 | 1 | 1 | 2306 | 2245 |  21 |   28 |    5 |  23 | B6 |   30 | N281JB | JFK | ROC |  59 |  264 | 22 | 45 | 2013-01-01 22:00:00 |\n| 2013 | 1 | 1 | 2307 | 2245 |  22 |   32 | 2357 |  35 | B6 |  128 | N178JB | JFK | BTV |  59 |  266 | 22 | 45 | 2013-01-01 22:00:00 |\n| 2013 | 1 | 1 | 2310 | 2255 |  15 |   24 |   15 |   9 | B6 |  112 | N646JB | JFK | BUF |  57 |  301 | 22 | 55 | 2013-01-01 22:00:00 |\n| 2013 | 1 | 1 | 2312 | 2000 | 192 |   21 | 2110 | 191 | EV | 4312 | N13958 | EWR | DCA |  44 |  199 | 20 |  0 | 2013-01-01 20:00:00 |\n| 2013 | 1 | 1 | 2323 | 2200 |  83 |   22 | 2313 |  69 | EV | 4257 | N13538 | EWR | BTV |  44 |  266 | 22 |  0 | 2013-01-01 22:00:00 |\n| 2013 | 1 | 1 | 2326 | 2130 | 116 |  131 |   18 |  73 | B6 |  199 | N594JB | JFK | LAS | 290 | 2248 | 21 | 30 | 2013-01-01 21:00:00 |\n| 2013 | 1 | 1 | 2327 | 2250 |  37 |   32 | 2359 |  33 | B6 |   22 | N639JB | JFK | SYR |  45 |  209 | 22 | 50 | 2013-01-01 22:00:00 |\n| 2013 | 1 | 1 | 2343 | 1724 | 379 |  314 | 1938 | 456 | EV | 4321 | N21197 | EWR | MCI | 222 | 1092 | 17 | 24 | 2013-01-01 17:00:00 |\n| 2013 | 1 | 1 | 2353 | 2359 |  -6 |  425 |  445 | -20 | B6 |  739 | N591JB | JFK | PSE | 195 | 1617 | 23 | 59 | 2013-01-01 23:00:00 |\n| 2013 | 1 | 1 | 2353 | 2359 |  -6 |  418 |  442 | -24 | B6 |  707 | N794JB | JFK | SJU | 185 | 1598 | 23 | 59 | 2013-01-01 23:00:00 |\n| 2013 | 1 | 1 | 2356 | 2359 |  -3 |  425 |  437 | -12 | B6 |  727 | N588JB | JFK | BQN | 186 | 1576 | 23 | 59 | 2013-01-01 23:00:00 |\n| 2013 | 1 | 1 |   NA | 1630 |  NA |   NA | 1815 |  NA | EV | 4308 | N18120 | EWR | RDU |  NA |  416 | 16 | 30 | 2013-01-01 16:00:00 |\n| 2013 | 1 | 1 |   NA | 1935 |  NA |   NA | 2240 |  NA | AA |  791 | N3EHAA | LGA | DFW |  NA | 1389 | 19 | 35 | 2013-01-01 19:00:00 |\n| 2013 | 1 | 1 |   NA | 1500 |  NA |   NA | 1825 |  NA | AA | 1925 | N3EVAA | LGA | MIA |  NA | 1096 | 15 |  0 | 2013-01-01 15:00:00 |\n| 2013 | 1 | 1 |   NA |  600 |  NA |   NA |  901 |  NA | B6 |  125 | N618JB | JFK | FLL |  NA | 1069 |  6 |  0 | 2013-01-01 06:00:00 |\n\n",
            "text/latex": "A tibble: 842 × 19\n\\begin{tabular}{lllllllllllllllllll}\n year & month & day & dep\\_time & sched\\_dep\\_time & dep\\_delay & arr\\_time & sched\\_arr\\_time & arr\\_delay & carrier & flight & tailnum & origin & dest & air\\_time & distance & hour & minute & time\\_hour\\\\\n <int> & <int> & <int> & <int> & <int> & <dbl> & <int> & <int> & <dbl> & <chr> & <int> & <chr> & <chr> & <chr> & <dbl> & <dbl> & <dbl> & <dbl> & <dttm>\\\\\n\\hline\n\t 2013 & 1 & 1 & 517 & 515 &  2 &  830 &  819 &  11 & UA & 1545 & N14228 & EWR & IAH & 227 & 1400 & 5 & 15 & 2013-01-01 05:00:00\\\\\n\t 2013 & 1 & 1 & 533 & 529 &  4 &  850 &  830 &  20 & UA & 1714 & N24211 & LGA & IAH & 227 & 1416 & 5 & 29 & 2013-01-01 05:00:00\\\\\n\t 2013 & 1 & 1 & 542 & 540 &  2 &  923 &  850 &  33 & AA & 1141 & N619AA & JFK & MIA & 160 & 1089 & 5 & 40 & 2013-01-01 05:00:00\\\\\n\t 2013 & 1 & 1 & 544 & 545 & -1 & 1004 & 1022 & -18 & B6 &  725 & N804JB & JFK & BQN & 183 & 1576 & 5 & 45 & 2013-01-01 05:00:00\\\\\n\t 2013 & 1 & 1 & 554 & 600 & -6 &  812 &  837 & -25 & DL &  461 & N668DN & LGA & ATL & 116 &  762 & 6 &  0 & 2013-01-01 06:00:00\\\\\n\t 2013 & 1 & 1 & 554 & 558 & -4 &  740 &  728 &  12 & UA & 1696 & N39463 & EWR & ORD & 150 &  719 & 5 & 58 & 2013-01-01 05:00:00\\\\\n\t 2013 & 1 & 1 & 555 & 600 & -5 &  913 &  854 &  19 & B6 &  507 & N516JB & EWR & FLL & 158 & 1065 & 6 &  0 & 2013-01-01 06:00:00\\\\\n\t 2013 & 1 & 1 & 557 & 600 & -3 &  709 &  723 & -14 & EV & 5708 & N829AS & LGA & IAD &  53 &  229 & 6 &  0 & 2013-01-01 06:00:00\\\\\n\t 2013 & 1 & 1 & 557 & 600 & -3 &  838 &  846 &  -8 & B6 &   79 & N593JB & JFK & MCO & 140 &  944 & 6 &  0 & 2013-01-01 06:00:00\\\\\n\t 2013 & 1 & 1 & 558 & 600 & -2 &  753 &  745 &   8 & AA &  301 & N3ALAA & LGA & ORD & 138 &  733 & 6 &  0 & 2013-01-01 06:00:00\\\\\n\t 2013 & 1 & 1 & 558 & 600 & -2 &  849 &  851 &  -2 & B6 &   49 & N793JB & JFK & PBI & 149 & 1028 & 6 &  0 & 2013-01-01 06:00:00\\\\\n\t 2013 & 1 & 1 & 558 & 600 & -2 &  853 &  856 &  -3 & B6 &   71 & N657JB & JFK & TPA & 158 & 1005 & 6 &  0 & 2013-01-01 06:00:00\\\\\n\t 2013 & 1 & 1 & 558 & 600 & -2 &  924 &  917 &   7 & UA &  194 & N29129 & JFK & LAX & 345 & 2475 & 6 &  0 & 2013-01-01 06:00:00\\\\\n\t 2013 & 1 & 1 & 558 & 600 & -2 &  923 &  937 & -14 & UA & 1124 & N53441 & EWR & SFO & 361 & 2565 & 6 &  0 & 2013-01-01 06:00:00\\\\\n\t 2013 & 1 & 1 & 559 & 600 & -1 &  941 &  910 &  31 & AA &  707 & N3DUAA & LGA & DFW & 257 & 1389 & 6 &  0 & 2013-01-01 06:00:00\\\\\n\t 2013 & 1 & 1 & 559 & 559 &  0 &  702 &  706 &  -4 & B6 & 1806 & N708JB & JFK & BOS &  44 &  187 & 5 & 59 & 2013-01-01 05:00:00\\\\\n\t 2013 & 1 & 1 & 559 & 600 & -1 &  854 &  902 &  -8 & UA & 1187 & N76515 & EWR & LAS & 337 & 2227 & 6 &  0 & 2013-01-01 06:00:00\\\\\n\t 2013 & 1 & 1 & 600 & 600 &  0 &  851 &  858 &  -7 & B6 &  371 & N595JB & LGA & FLL & 152 & 1076 & 6 &  0 & 2013-01-01 06:00:00\\\\\n\t 2013 & 1 & 1 & 600 & 600 &  0 &  837 &  825 &  12 & MQ & 4650 & N542MQ & LGA & ATL & 134 &  762 & 6 &  0 & 2013-01-01 06:00:00\\\\\n\t 2013 & 1 & 1 & 601 & 600 &  1 &  844 &  850 &  -6 & B6 &  343 & N644JB & EWR & PBI & 147 & 1023 & 6 &  0 & 2013-01-01 06:00:00\\\\\n\t 2013 & 1 & 1 & 602 & 610 & -8 &  812 &  820 &  -8 & DL & 1919 & N971DL & LGA & MSP & 170 & 1020 & 6 & 10 & 2013-01-01 06:00:00\\\\\n\t 2013 & 1 & 1 & 602 & 605 & -3 &  821 &  805 &  16 & MQ & 4401 & N730MQ & LGA & DTW & 105 &  502 & 6 &  5 & 2013-01-01 06:00:00\\\\\n\t 2013 & 1 & 1 & 606 & 610 & -4 &  858 &  910 & -12 & AA & 1895 & N633AA & EWR & MIA & 152 & 1085 & 6 & 10 & 2013-01-01 06:00:00\\\\\n\t 2013 & 1 & 1 & 606 & 610 & -4 &  837 &  845 &  -8 & DL & 1743 & N3739P & JFK & ATL & 128 &  760 & 6 & 10 & 2013-01-01 06:00:00\\\\\n\t 2013 & 1 & 1 & 607 & 607 &  0 &  858 &  915 & -17 & UA & 1077 & N53442 & EWR & MIA & 157 & 1085 & 6 &  7 & 2013-01-01 06:00:00\\\\\n\t 2013 & 1 & 1 & 608 & 600 &  8 &  807 &  735 &  32 & MQ & 3768 & N9EAMQ & EWR & ORD & 139 &  719 & 6 &  0 & 2013-01-01 06:00:00\\\\\n\t 2013 & 1 & 1 & 611 & 600 & 11 &  945 &  931 &  14 & UA &  303 & N532UA & JFK & SFO & 366 & 2586 & 6 &  0 & 2013-01-01 06:00:00\\\\\n\t 2013 & 1 & 1 & 613 & 610 &  3 &  925 &  921 &   4 & B6 &  135 & N635JB & JFK & RSW & 175 & 1074 & 6 & 10 & 2013-01-01 06:00:00\\\\\n\t 2013 & 1 & 1 & 615 & 615 &  0 & 1039 & 1100 & -21 & B6 &  709 & N794JB & JFK & SJU & 182 & 1598 & 6 & 15 & 2013-01-01 06:00:00\\\\\n\t 2013 & 1 & 1 & 615 & 615 &  0 &  833 &  842 &  -9 & DL &  575 & N326NB & EWR & ATL & 120 &  746 & 6 & 15 & 2013-01-01 06:00:00\\\\\n\t ⋮ & ⋮ & ⋮ & ⋮ & ⋮ & ⋮ & ⋮ & ⋮ & ⋮ & ⋮ & ⋮ & ⋮ & ⋮ & ⋮ & ⋮ & ⋮ & ⋮ & ⋮ & ⋮\\\\\n\t 2013 & 1 & 1 & 2140 & 2135 &   5 &  210 &  224 & -14 & B6 &  701 & N284JB & JFK & SJU & 189 & 1598 & 21 & 35 & 2013-01-01 21:00:00\\\\\n\t 2013 & 1 & 1 & 2157 & 2155 &   2 &   43 &   41 &   2 & B6 &   43 & N537JB & JFK & MCO & 140 &  944 & 21 & 55 & 2013-01-01 21:00:00\\\\\n\t 2013 & 1 & 1 & 2158 & 2200 &  -2 & 2254 & 2307 & -13 & EV & 4103 & N14998 & EWR & BWI &  36 &  169 & 22 &  0 & 2013-01-01 22:00:00\\\\\n\t 2013 & 1 & 1 & 2205 & 1720 & 285 &   46 & 2040 & 246 & AA & 1999 & N5DNAA & EWR & MIA & 146 & 1085 & 17 & 20 & 2013-01-01 17:00:00\\\\\n\t 2013 & 1 & 1 & 2209 & 2145 &  24 &   58 &   37 &  21 & B6 &   35 & N608JB & JFK & PBI & 143 & 1028 & 21 & 45 & 2013-01-01 21:00:00\\\\\n\t 2013 & 1 & 1 & 2209 & 2155 &  14 & 2400 & 2337 &  23 & B6 & 1109 & N216JB & JFK & RDU &  86 &  427 & 21 & 55 & 2013-01-01 21:00:00\\\\\n\t 2013 & 1 & 1 & 2211 & 2145 &  26 & 2339 & 2311 &  28 & B6 &  104 & N228JB & JFK & BUF &  64 &  301 & 21 & 45 & 2013-01-01 21:00:00\\\\\n\t 2013 & 1 & 1 & 2217 & 2229 & -12 &  249 &  315 & -26 & B6 &  713 & N547JB & JFK & SJU & 191 & 1598 & 22 & 29 & 2013-01-01 22:00:00\\\\\n\t 2013 & 1 & 1 & 2217 & 2130 &  47 &  140 &   27 &  73 & B6 &   21 & N516JB & JFK & TPA & 163 & 1005 & 21 & 30 & 2013-01-01 21:00:00\\\\\n\t 2013 & 1 & 1 & 2221 & 2000 & 141 & 2331 & 2124 & 127 & EV & 4462 & N13566 & EWR & BUF &  56 &  282 & 20 &  0 & 2013-01-01 20:00:00\\\\\n\t 2013 & 1 & 1 & 2224 & 2200 &  24 & 2324 & 2316 &   8 & EV & 4206 & N16561 & EWR & PWM &  47 &  284 & 22 &  0 & 2013-01-01 22:00:00\\\\\n\t 2013 & 1 & 1 & 2229 & 2159 &  30 &  149 &  100 &  49 & B6 &   11 & N531JB & JFK & FLL & 153 & 1069 & 21 & 59 & 2013-01-01 21:00:00\\\\\n\t 2013 & 1 & 1 & 2240 & 2245 &  -5 & 2340 & 2356 & -16 & B6 &  608 & N279JB & JFK & PWM &  44 &  273 & 22 & 45 & 2013-01-01 22:00:00\\\\\n\t 2013 & 1 & 1 & 2250 & 2255 &  -5 & 2352 & 2359 &  -7 & B6 & 1018 & N521JB & JFK & BOS &  37 &  187 & 22 & 55 & 2013-01-01 22:00:00\\\\\n\t 2013 & 1 & 1 & 2302 & 2200 &  62 & 2342 & 2253 &  49 & EV & 4276 & N13903 & EWR & BDL &  24 &  116 & 22 &  0 & 2013-01-01 22:00:00\\\\\n\t 2013 & 1 & 1 & 2306 & 2245 &  21 &   28 &    5 &  23 & B6 &   30 & N281JB & JFK & ROC &  59 &  264 & 22 & 45 & 2013-01-01 22:00:00\\\\\n\t 2013 & 1 & 1 & 2307 & 2245 &  22 &   32 & 2357 &  35 & B6 &  128 & N178JB & JFK & BTV &  59 &  266 & 22 & 45 & 2013-01-01 22:00:00\\\\\n\t 2013 & 1 & 1 & 2310 & 2255 &  15 &   24 &   15 &   9 & B6 &  112 & N646JB & JFK & BUF &  57 &  301 & 22 & 55 & 2013-01-01 22:00:00\\\\\n\t 2013 & 1 & 1 & 2312 & 2000 & 192 &   21 & 2110 & 191 & EV & 4312 & N13958 & EWR & DCA &  44 &  199 & 20 &  0 & 2013-01-01 20:00:00\\\\\n\t 2013 & 1 & 1 & 2323 & 2200 &  83 &   22 & 2313 &  69 & EV & 4257 & N13538 & EWR & BTV &  44 &  266 & 22 &  0 & 2013-01-01 22:00:00\\\\\n\t 2013 & 1 & 1 & 2326 & 2130 & 116 &  131 &   18 &  73 & B6 &  199 & N594JB & JFK & LAS & 290 & 2248 & 21 & 30 & 2013-01-01 21:00:00\\\\\n\t 2013 & 1 & 1 & 2327 & 2250 &  37 &   32 & 2359 &  33 & B6 &   22 & N639JB & JFK & SYR &  45 &  209 & 22 & 50 & 2013-01-01 22:00:00\\\\\n\t 2013 & 1 & 1 & 2343 & 1724 & 379 &  314 & 1938 & 456 & EV & 4321 & N21197 & EWR & MCI & 222 & 1092 & 17 & 24 & 2013-01-01 17:00:00\\\\\n\t 2013 & 1 & 1 & 2353 & 2359 &  -6 &  425 &  445 & -20 & B6 &  739 & N591JB & JFK & PSE & 195 & 1617 & 23 & 59 & 2013-01-01 23:00:00\\\\\n\t 2013 & 1 & 1 & 2353 & 2359 &  -6 &  418 &  442 & -24 & B6 &  707 & N794JB & JFK & SJU & 185 & 1598 & 23 & 59 & 2013-01-01 23:00:00\\\\\n\t 2013 & 1 & 1 & 2356 & 2359 &  -3 &  425 &  437 & -12 & B6 &  727 & N588JB & JFK & BQN & 186 & 1576 & 23 & 59 & 2013-01-01 23:00:00\\\\\n\t 2013 & 1 & 1 &   NA & 1630 &  NA &   NA & 1815 &  NA & EV & 4308 & N18120 & EWR & RDU &  NA &  416 & 16 & 30 & 2013-01-01 16:00:00\\\\\n\t 2013 & 1 & 1 &   NA & 1935 &  NA &   NA & 2240 &  NA & AA &  791 & N3EHAA & LGA & DFW &  NA & 1389 & 19 & 35 & 2013-01-01 19:00:00\\\\\n\t 2013 & 1 & 1 &   NA & 1500 &  NA &   NA & 1825 &  NA & AA & 1925 & N3EVAA & LGA & MIA &  NA & 1096 & 15 &  0 & 2013-01-01 15:00:00\\\\\n\t 2013 & 1 & 1 &   NA &  600 &  NA &   NA &  901 &  NA & B6 &  125 & N618JB & JFK & FLL &  NA & 1069 &  6 &  0 & 2013-01-01 06:00:00\\\\\n\\end{tabular}\n",
            "text/plain": [
              "    year month day dep_time sched_dep_time dep_delay arr_time sched_arr_time\n",
              "1   2013 1     1   517      515             2         830      819          \n",
              "2   2013 1     1   533      529             4         850      830          \n",
              "3   2013 1     1   542      540             2         923      850          \n",
              "4   2013 1     1   544      545            -1        1004     1022          \n",
              "5   2013 1     1   554      600            -6         812      837          \n",
              "6   2013 1     1   554      558            -4         740      728          \n",
              "7   2013 1     1   555      600            -5         913      854          \n",
              "8   2013 1     1   557      600            -3         709      723          \n",
              "9   2013 1     1   557      600            -3         838      846          \n",
              "10  2013 1     1   558      600            -2         753      745          \n",
              "11  2013 1     1   558      600            -2         849      851          \n",
              "12  2013 1     1   558      600            -2         853      856          \n",
              "13  2013 1     1   558      600            -2         924      917          \n",
              "14  2013 1     1   558      600            -2         923      937          \n",
              "15  2013 1     1   559      600            -1         941      910          \n",
              "16  2013 1     1   559      559             0         702      706          \n",
              "17  2013 1     1   559      600            -1         854      902          \n",
              "18  2013 1     1   600      600             0         851      858          \n",
              "19  2013 1     1   600      600             0         837      825          \n",
              "20  2013 1     1   601      600             1         844      850          \n",
              "21  2013 1     1   602      610            -8         812      820          \n",
              "22  2013 1     1   602      605            -3         821      805          \n",
              "23  2013 1     1   606      610            -4         858      910          \n",
              "24  2013 1     1   606      610            -4         837      845          \n",
              "25  2013 1     1   607      607             0         858      915          \n",
              "26  2013 1     1   608      600             8         807      735          \n",
              "27  2013 1     1   611      600            11         945      931          \n",
              "28  2013 1     1   613      610             3         925      921          \n",
              "29  2013 1     1   615      615             0        1039     1100          \n",
              "30  2013 1     1   615      615             0         833      842          \n",
              "⋮   ⋮    ⋮     ⋮   ⋮        ⋮              ⋮         ⋮        ⋮             \n",
              "813 2013 1     1   2140     2135             5        210      224          \n",
              "814 2013 1     1   2157     2155             2         43       41          \n",
              "815 2013 1     1   2158     2200            -2       2254     2307          \n",
              "816 2013 1     1   2205     1720           285         46     2040          \n",
              "817 2013 1     1   2209     2145            24         58       37          \n",
              "818 2013 1     1   2209     2155            14       2400     2337          \n",
              "819 2013 1     1   2211     2145            26       2339     2311          \n",
              "820 2013 1     1   2217     2229           -12        249      315          \n",
              "821 2013 1     1   2217     2130            47        140       27          \n",
              "822 2013 1     1   2221     2000           141       2331     2124          \n",
              "823 2013 1     1   2224     2200            24       2324     2316          \n",
              "824 2013 1     1   2229     2159            30        149      100          \n",
              "825 2013 1     1   2240     2245            -5       2340     2356          \n",
              "826 2013 1     1   2250     2255            -5       2352     2359          \n",
              "827 2013 1     1   2302     2200            62       2342     2253          \n",
              "828 2013 1     1   2306     2245            21         28        5          \n",
              "829 2013 1     1   2307     2245            22         32     2357          \n",
              "830 2013 1     1   2310     2255            15         24       15          \n",
              "831 2013 1     1   2312     2000           192         21     2110          \n",
              "832 2013 1     1   2323     2200            83         22     2313          \n",
              "833 2013 1     1   2326     2130           116        131       18          \n",
              "834 2013 1     1   2327     2250            37         32     2359          \n",
              "835 2013 1     1   2343     1724           379        314     1938          \n",
              "836 2013 1     1   2353     2359            -6        425      445          \n",
              "837 2013 1     1   2353     2359            -6        418      442          \n",
              "838 2013 1     1   2356     2359            -3        425      437          \n",
              "839 2013 1     1     NA     1630            NA         NA     1815          \n",
              "840 2013 1     1     NA     1935            NA         NA     2240          \n",
              "841 2013 1     1     NA     1500            NA         NA     1825          \n",
              "842 2013 1     1     NA      600            NA         NA      901          \n",
              "    arr_delay carrier flight tailnum origin dest air_time distance hour minute\n",
              "1    11       UA      1545   N14228  EWR    IAH  227      1400     5    15    \n",
              "2    20       UA      1714   N24211  LGA    IAH  227      1416     5    29    \n",
              "3    33       AA      1141   N619AA  JFK    MIA  160      1089     5    40    \n",
              "4   -18       B6       725   N804JB  JFK    BQN  183      1576     5    45    \n",
              "5   -25       DL       461   N668DN  LGA    ATL  116       762     6     0    \n",
              "6    12       UA      1696   N39463  EWR    ORD  150       719     5    58    \n",
              "7    19       B6       507   N516JB  EWR    FLL  158      1065     6     0    \n",
              "8   -14       EV      5708   N829AS  LGA    IAD   53       229     6     0    \n",
              "9    -8       B6        79   N593JB  JFK    MCO  140       944     6     0    \n",
              "10    8       AA       301   N3ALAA  LGA    ORD  138       733     6     0    \n",
              "11   -2       B6        49   N793JB  JFK    PBI  149      1028     6     0    \n",
              "12   -3       B6        71   N657JB  JFK    TPA  158      1005     6     0    \n",
              "13    7       UA       194   N29129  JFK    LAX  345      2475     6     0    \n",
              "14  -14       UA      1124   N53441  EWR    SFO  361      2565     6     0    \n",
              "15   31       AA       707   N3DUAA  LGA    DFW  257      1389     6     0    \n",
              "16   -4       B6      1806   N708JB  JFK    BOS   44       187     5    59    \n",
              "17   -8       UA      1187   N76515  EWR    LAS  337      2227     6     0    \n",
              "18   -7       B6       371   N595JB  LGA    FLL  152      1076     6     0    \n",
              "19   12       MQ      4650   N542MQ  LGA    ATL  134       762     6     0    \n",
              "20   -6       B6       343   N644JB  EWR    PBI  147      1023     6     0    \n",
              "21   -8       DL      1919   N971DL  LGA    MSP  170      1020     6    10    \n",
              "22   16       MQ      4401   N730MQ  LGA    DTW  105       502     6     5    \n",
              "23  -12       AA      1895   N633AA  EWR    MIA  152      1085     6    10    \n",
              "24   -8       DL      1743   N3739P  JFK    ATL  128       760     6    10    \n",
              "25  -17       UA      1077   N53442  EWR    MIA  157      1085     6     7    \n",
              "26   32       MQ      3768   N9EAMQ  EWR    ORD  139       719     6     0    \n",
              "27   14       UA       303   N532UA  JFK    SFO  366      2586     6     0    \n",
              "28    4       B6       135   N635JB  JFK    RSW  175      1074     6    10    \n",
              "29  -21       B6       709   N794JB  JFK    SJU  182      1598     6    15    \n",
              "30   -9       DL       575   N326NB  EWR    ATL  120       746     6    15    \n",
              "⋮   ⋮         ⋮       ⋮      ⋮       ⋮      ⋮    ⋮        ⋮        ⋮    ⋮     \n",
              "813 -14       B6       701   N284JB  JFK    SJU  189      1598     21   35    \n",
              "814   2       B6        43   N537JB  JFK    MCO  140       944     21   55    \n",
              "815 -13       EV      4103   N14998  EWR    BWI   36       169     22    0    \n",
              "816 246       AA      1999   N5DNAA  EWR    MIA  146      1085     17   20    \n",
              "817  21       B6        35   N608JB  JFK    PBI  143      1028     21   45    \n",
              "818  23       B6      1109   N216JB  JFK    RDU   86       427     21   55    \n",
              "819  28       B6       104   N228JB  JFK    BUF   64       301     21   45    \n",
              "820 -26       B6       713   N547JB  JFK    SJU  191      1598     22   29    \n",
              "821  73       B6        21   N516JB  JFK    TPA  163      1005     21   30    \n",
              "822 127       EV      4462   N13566  EWR    BUF   56       282     20    0    \n",
              "823   8       EV      4206   N16561  EWR    PWM   47       284     22    0    \n",
              "824  49       B6        11   N531JB  JFK    FLL  153      1069     21   59    \n",
              "825 -16       B6       608   N279JB  JFK    PWM   44       273     22   45    \n",
              "826  -7       B6      1018   N521JB  JFK    BOS   37       187     22   55    \n",
              "827  49       EV      4276   N13903  EWR    BDL   24       116     22    0    \n",
              "828  23       B6        30   N281JB  JFK    ROC   59       264     22   45    \n",
              "829  35       B6       128   N178JB  JFK    BTV   59       266     22   45    \n",
              "830   9       B6       112   N646JB  JFK    BUF   57       301     22   55    \n",
              "831 191       EV      4312   N13958  EWR    DCA   44       199     20    0    \n",
              "832  69       EV      4257   N13538  EWR    BTV   44       266     22    0    \n",
              "833  73       B6       199   N594JB  JFK    LAS  290      2248     21   30    \n",
              "834  33       B6        22   N639JB  JFK    SYR   45       209     22   50    \n",
              "835 456       EV      4321   N21197  EWR    MCI  222      1092     17   24    \n",
              "836 -20       B6       739   N591JB  JFK    PSE  195      1617     23   59    \n",
              "837 -24       B6       707   N794JB  JFK    SJU  185      1598     23   59    \n",
              "838 -12       B6       727   N588JB  JFK    BQN  186      1576     23   59    \n",
              "839  NA       EV      4308   N18120  EWR    RDU   NA       416     16   30    \n",
              "840  NA       AA       791   N3EHAA  LGA    DFW   NA      1389     19   35    \n",
              "841  NA       AA      1925   N3EVAA  LGA    MIA   NA      1096     15    0    \n",
              "842  NA       B6       125   N618JB  JFK    FLL   NA      1069      6    0    \n",
              "    time_hour          \n",
              "1   2013-01-01 05:00:00\n",
              "2   2013-01-01 05:00:00\n",
              "3   2013-01-01 05:00:00\n",
              "4   2013-01-01 05:00:00\n",
              "5   2013-01-01 06:00:00\n",
              "6   2013-01-01 05:00:00\n",
              "7   2013-01-01 06:00:00\n",
              "8   2013-01-01 06:00:00\n",
              "9   2013-01-01 06:00:00\n",
              "10  2013-01-01 06:00:00\n",
              "11  2013-01-01 06:00:00\n",
              "12  2013-01-01 06:00:00\n",
              "13  2013-01-01 06:00:00\n",
              "14  2013-01-01 06:00:00\n",
              "15  2013-01-01 06:00:00\n",
              "16  2013-01-01 05:00:00\n",
              "17  2013-01-01 06:00:00\n",
              "18  2013-01-01 06:00:00\n",
              "19  2013-01-01 06:00:00\n",
              "20  2013-01-01 06:00:00\n",
              "21  2013-01-01 06:00:00\n",
              "22  2013-01-01 06:00:00\n",
              "23  2013-01-01 06:00:00\n",
              "24  2013-01-01 06:00:00\n",
              "25  2013-01-01 06:00:00\n",
              "26  2013-01-01 06:00:00\n",
              "27  2013-01-01 06:00:00\n",
              "28  2013-01-01 06:00:00\n",
              "29  2013-01-01 06:00:00\n",
              "30  2013-01-01 06:00:00\n",
              "⋮   ⋮                  \n",
              "813 2013-01-01 21:00:00\n",
              "814 2013-01-01 21:00:00\n",
              "815 2013-01-01 22:00:00\n",
              "816 2013-01-01 17:00:00\n",
              "817 2013-01-01 21:00:00\n",
              "818 2013-01-01 21:00:00\n",
              "819 2013-01-01 21:00:00\n",
              "820 2013-01-01 22:00:00\n",
              "821 2013-01-01 21:00:00\n",
              "822 2013-01-01 20:00:00\n",
              "823 2013-01-01 22:00:00\n",
              "824 2013-01-01 21:00:00\n",
              "825 2013-01-01 22:00:00\n",
              "826 2013-01-01 22:00:00\n",
              "827 2013-01-01 22:00:00\n",
              "828 2013-01-01 22:00:00\n",
              "829 2013-01-01 22:00:00\n",
              "830 2013-01-01 22:00:00\n",
              "831 2013-01-01 20:00:00\n",
              "832 2013-01-01 22:00:00\n",
              "833 2013-01-01 21:00:00\n",
              "834 2013-01-01 22:00:00\n",
              "835 2013-01-01 17:00:00\n",
              "836 2013-01-01 23:00:00\n",
              "837 2013-01-01 23:00:00\n",
              "838 2013-01-01 23:00:00\n",
              "839 2013-01-01 16:00:00\n",
              "840 2013-01-01 19:00:00\n",
              "841 2013-01-01 15:00:00\n",
              "842 2013-01-01 06:00:00"
            ]
          },
          "metadata": {}
        }
      ]
    },
    {
      "cell_type": "markdown",
      "source": [
        "- Y si queremos ver todos los vuelos del 25 de diciembre"
      ],
      "metadata": {
        "id": "2n49DNU9yxUM"
      }
    },
    {
      "cell_type": "code",
      "source": [
        "filter(flights,month==12,day==25)"
      ],
      "metadata": {
        "id": "Uy3IHZGTyzWS",
        "outputId": "81b57c5f-3fbe-4a68-ba46-24416737c41d",
        "colab": {
          "base_uri": "https://localhost:8080/",
          "height": 1000
        }
      },
      "execution_count": 20,
      "outputs": [
        {
          "output_type": "display_data",
          "data": {
            "text/html": [
              "<table class=\"dataframe\">\n",
              "<caption>A tibble: 719 × 19</caption>\n",
              "<thead>\n",
              "\t<tr><th scope=col>year</th><th scope=col>month</th><th scope=col>day</th><th scope=col>dep_time</th><th scope=col>sched_dep_time</th><th scope=col>dep_delay</th><th scope=col>arr_time</th><th scope=col>sched_arr_time</th><th scope=col>arr_delay</th><th scope=col>carrier</th><th scope=col>flight</th><th scope=col>tailnum</th><th scope=col>origin</th><th scope=col>dest</th><th scope=col>air_time</th><th scope=col>distance</th><th scope=col>hour</th><th scope=col>minute</th><th scope=col>time_hour</th></tr>\n",
              "\t<tr><th scope=col>&lt;int&gt;</th><th scope=col>&lt;int&gt;</th><th scope=col>&lt;int&gt;</th><th scope=col>&lt;int&gt;</th><th scope=col>&lt;int&gt;</th><th scope=col>&lt;dbl&gt;</th><th scope=col>&lt;int&gt;</th><th scope=col>&lt;int&gt;</th><th scope=col>&lt;dbl&gt;</th><th scope=col>&lt;chr&gt;</th><th scope=col>&lt;int&gt;</th><th scope=col>&lt;chr&gt;</th><th scope=col>&lt;chr&gt;</th><th scope=col>&lt;chr&gt;</th><th scope=col>&lt;dbl&gt;</th><th scope=col>&lt;dbl&gt;</th><th scope=col>&lt;dbl&gt;</th><th scope=col>&lt;dbl&gt;</th><th scope=col>&lt;dttm&gt;</th></tr>\n",
              "</thead>\n",
              "<tbody>\n",
              "\t<tr><td>2013</td><td>12</td><td>25</td><td>456</td><td>500</td><td>-4</td><td> 649</td><td> 651</td><td> -2</td><td>US</td><td>1895</td><td>N156UW</td><td>EWR</td><td>CLT</td><td> 98</td><td> 529</td><td>5</td><td> 0</td><td>2013-12-25 05:00:00</td></tr>\n",
              "\t<tr><td>2013</td><td>12</td><td>25</td><td>524</td><td>515</td><td> 9</td><td> 805</td><td> 814</td><td> -9</td><td>UA</td><td>1016</td><td>N32404</td><td>EWR</td><td>IAH</td><td>203</td><td>1400</td><td>5</td><td>15</td><td>2013-12-25 05:00:00</td></tr>\n",
              "\t<tr><td>2013</td><td>12</td><td>25</td><td>542</td><td>540</td><td> 2</td><td> 832</td><td> 850</td><td>-18</td><td>AA</td><td>2243</td><td>N5EBAA</td><td>JFK</td><td>MIA</td><td>146</td><td>1089</td><td>5</td><td>40</td><td>2013-12-25 05:00:00</td></tr>\n",
              "\t<tr><td>2013</td><td>12</td><td>25</td><td>546</td><td>550</td><td>-4</td><td>1022</td><td>1027</td><td> -5</td><td>B6</td><td> 939</td><td>N665JB</td><td>JFK</td><td>BQN</td><td>191</td><td>1576</td><td>5</td><td>50</td><td>2013-12-25 05:00:00</td></tr>\n",
              "\t<tr><td>2013</td><td>12</td><td>25</td><td>556</td><td>600</td><td>-4</td><td> 730</td><td> 745</td><td>-15</td><td>AA</td><td> 301</td><td>N3JLAA</td><td>LGA</td><td>ORD</td><td>123</td><td> 733</td><td>6</td><td> 0</td><td>2013-12-25 06:00:00</td></tr>\n",
              "\t<tr><td>2013</td><td>12</td><td>25</td><td>557</td><td>600</td><td>-3</td><td> 743</td><td> 752</td><td> -9</td><td>DL</td><td> 731</td><td>N369NB</td><td>LGA</td><td>DTW</td><td> 88</td><td> 502</td><td>6</td><td> 0</td><td>2013-12-25 06:00:00</td></tr>\n",
              "\t<tr><td>2013</td><td>12</td><td>25</td><td>557</td><td>600</td><td>-3</td><td> 818</td><td> 831</td><td>-13</td><td>DL</td><td> 904</td><td>N397DA</td><td>LGA</td><td>ATL</td><td>118</td><td> 762</td><td>6</td><td> 0</td><td>2013-12-25 06:00:00</td></tr>\n",
              "\t<tr><td>2013</td><td>12</td><td>25</td><td>559</td><td>600</td><td>-1</td><td> 855</td><td> 856</td><td> -1</td><td>B6</td><td> 371</td><td>N608JB</td><td>LGA</td><td>FLL</td><td>147</td><td>1076</td><td>6</td><td> 0</td><td>2013-12-25 06:00:00</td></tr>\n",
              "\t<tr><td>2013</td><td>12</td><td>25</td><td>559</td><td>600</td><td>-1</td><td> 849</td><td> 855</td><td> -6</td><td>B6</td><td> 605</td><td>N536JB</td><td>EWR</td><td>FLL</td><td>149</td><td>1065</td><td>6</td><td> 0</td><td>2013-12-25 06:00:00</td></tr>\n",
              "\t<tr><td>2013</td><td>12</td><td>25</td><td>600</td><td>600</td><td> 0</td><td> 850</td><td> 846</td><td>  4</td><td>B6</td><td> 583</td><td>N746JB</td><td>JFK</td><td>MCO</td><td>137</td><td> 944</td><td>6</td><td> 0</td><td>2013-12-25 06:00:00</td></tr>\n",
              "\t<tr><td>2013</td><td>12</td><td>25</td><td>600</td><td>600</td><td> 0</td><td> 715</td><td> 723</td><td> -8</td><td>EV</td><td>5747</td><td>N835AS</td><td>LGA</td><td>IAD</td><td> 47</td><td> 229</td><td>6</td><td> 0</td><td>2013-12-25 06:00:00</td></tr>\n",
              "\t<tr><td>2013</td><td>12</td><td>25</td><td>601</td><td>600</td><td> 1</td><td> 855</td><td> 905</td><td>-10</td><td>AA</td><td>1175</td><td>N3EJAA</td><td>LGA</td><td>MIA</td><td>152</td><td>1096</td><td>6</td><td> 0</td><td>2013-12-25 06:00:00</td></tr>\n",
              "\t<tr><td>2013</td><td>12</td><td>25</td><td>601</td><td>600</td><td> 1</td><td> 846</td><td> 849</td><td> -3</td><td>B6</td><td> 353</td><td>N766JB</td><td>JFK</td><td>PBI</td><td>143</td><td>1028</td><td>6</td><td> 0</td><td>2013-12-25 06:00:00</td></tr>\n",
              "\t<tr><td>2013</td><td>12</td><td>25</td><td>604</td><td>611</td><td>-7</td><td>1051</td><td>1055</td><td> -4</td><td>B6</td><td>1403</td><td>N779JB</td><td>JFK</td><td>SJU</td><td>190</td><td>1598</td><td>6</td><td>11</td><td>2013-12-25 06:00:00</td></tr>\n",
              "\t<tr><td>2013</td><td>12</td><td>25</td><td>605</td><td>600</td><td> 5</td><td> 912</td><td> 937</td><td>-25</td><td>UA</td><td> 303</td><td>N596UA</td><td>JFK</td><td>SFO</td><td>345</td><td>2586</td><td>6</td><td> 0</td><td>2013-12-25 06:00:00</td></tr>\n",
              "\t<tr><td>2013</td><td>12</td><td>25</td><td>610</td><td>610</td><td> 0</td><td> 922</td><td> 915</td><td>  7</td><td>AA</td><td>1205</td><td>N5BTAA</td><td>EWR</td><td>MIA</td><td>145</td><td>1085</td><td>6</td><td>10</td><td>2013-12-25 06:00:00</td></tr>\n",
              "\t<tr><td>2013</td><td>12</td><td>25</td><td>610</td><td>605</td><td> 5</td><td> 718</td><td> 723</td><td> -5</td><td>EV</td><td>6177</td><td>N11189</td><td>EWR</td><td>IAD</td><td> 44</td><td> 212</td><td>6</td><td> 5</td><td>2013-12-25 06:00:00</td></tr>\n",
              "\t<tr><td>2013</td><td>12</td><td>25</td><td>611</td><td>611</td><td> 0</td><td> 908</td><td> 912</td><td> -4</td><td>B6</td><td> 601</td><td>N804JB</td><td>JFK</td><td>FLL</td><td>153</td><td>1069</td><td>6</td><td>11</td><td>2013-12-25 06:00:00</td></tr>\n",
              "\t<tr><td>2013</td><td>12</td><td>25</td><td>612</td><td>615</td><td>-3</td><td> 859</td><td> 852</td><td>  7</td><td>DL</td><td> 479</td><td>N3769L</td><td>JFK</td><td>ATL</td><td>127</td><td> 760</td><td>6</td><td>15</td><td>2013-12-25 06:00:00</td></tr>\n",
              "\t<tr><td>2013</td><td>12</td><td>25</td><td>615</td><td>615</td><td> 0</td><td> 802</td><td> 818</td><td>-16</td><td>US</td><td>1963</td><td>N169UW</td><td>EWR</td><td>CLT</td><td> 87</td><td> 529</td><td>6</td><td>15</td><td>2013-12-25 06:00:00</td></tr>\n",
              "\t<tr><td>2013</td><td>12</td><td>25</td><td>620</td><td>615</td><td> 5</td><td> 818</td><td> 817</td><td>  1</td><td>US</td><td> 840</td><td>N151UW</td><td>JFK</td><td>CLT</td><td> 96</td><td> 541</td><td>6</td><td>15</td><td>2013-12-25 06:00:00</td></tr>\n",
              "\t<tr><td>2013</td><td>12</td><td>25</td><td>621</td><td>610</td><td>11</td><td> 902</td><td> 905</td><td> -3</td><td>UA</td><td>1627</td><td>N76269</td><td>EWR</td><td>PBI</td><td>142</td><td>1023</td><td>6</td><td>10</td><td>2013-12-25 06:00:00</td></tr>\n",
              "\t<tr><td>2013</td><td>12</td><td>25</td><td>627</td><td>625</td><td> 2</td><td>1010</td><td>1009</td><td>  1</td><td>US</td><td> 690</td><td>N672AW</td><td>EWR</td><td>PHX</td><td>288</td><td>2133</td><td>6</td><td>25</td><td>2013-12-25 06:00:00</td></tr>\n",
              "\t<tr><td>2013</td><td>12</td><td>25</td><td>628</td><td>630</td><td>-2</td><td> 932</td><td> 938</td><td> -6</td><td>B6</td><td> 929</td><td>N712JB</td><td>JFK</td><td>RSW</td><td>162</td><td>1074</td><td>6</td><td>30</td><td>2013-12-25 06:00:00</td></tr>\n",
              "\t<tr><td>2013</td><td>12</td><td>25</td><td>628</td><td>630</td><td>-2</td><td> 949</td><td> 919</td><td> 30</td><td>B6</td><td>1099</td><td>N571JB</td><td>LGA</td><td>MCO</td><td>136</td><td> 950</td><td>6</td><td>30</td><td>2013-12-25 06:00:00</td></tr>\n",
              "\t<tr><td>2013</td><td>12</td><td>25</td><td>630</td><td>631</td><td>-1</td><td> 924</td><td> 958</td><td>-34</td><td>UA</td><td> 398</td><td>N505UA</td><td>JFK</td><td>LAX</td><td>335</td><td>2475</td><td>6</td><td>31</td><td>2013-12-25 06:00:00</td></tr>\n",
              "\t<tr><td>2013</td><td>12</td><td>25</td><td>632</td><td>635</td><td>-3</td><td> 927</td><td> 929</td><td> -2</td><td>B6</td><td> 525</td><td>N556JB</td><td>JFK</td><td>TPA</td><td>151</td><td>1005</td><td>6</td><td>35</td><td>2013-12-25 06:00:00</td></tr>\n",
              "\t<tr><td>2013</td><td>12</td><td>25</td><td>632</td><td>620</td><td>12</td><td> 922</td><td> 919</td><td>  3</td><td>UA</td><td> 596</td><td>N556UA</td><td>EWR</td><td>TPA</td><td>147</td><td> 997</td><td>6</td><td>20</td><td>2013-12-25 06:00:00</td></tr>\n",
              "\t<tr><td>2013</td><td>12</td><td>25</td><td>635</td><td>614</td><td>21</td><td> 921</td><td> 925</td><td> -4</td><td>UA</td><td>1701</td><td>N38417</td><td>EWR</td><td>FLL</td><td>151</td><td>1065</td><td>6</td><td>14</td><td>2013-12-25 06:00:00</td></tr>\n",
              "\t<tr><td>2013</td><td>12</td><td>25</td><td>643</td><td>630</td><td>13</td><td> 904</td><td> 859</td><td>  5</td><td>DL</td><td> 807</td><td>N977AT</td><td>EWR</td><td>ATL</td><td>115</td><td> 746</td><td>6</td><td>30</td><td>2013-12-25 06:00:00</td></tr>\n",
              "\t<tr><td>⋮</td><td>⋮</td><td>⋮</td><td>⋮</td><td>⋮</td><td>⋮</td><td>⋮</td><td>⋮</td><td>⋮</td><td>⋮</td><td>⋮</td><td>⋮</td><td>⋮</td><td>⋮</td><td>⋮</td><td>⋮</td><td>⋮</td><td>⋮</td><td>⋮</td></tr>\n",
              "\t<tr><td>2013</td><td>12</td><td>25</td><td>2126</td><td>2129</td><td> -3</td><td>  24</td><td>  22</td><td>  2</td><td>B6</td><td>2043</td><td>N599JB</td><td>EWR</td><td>PBI</td><td>144</td><td>1023</td><td>21</td><td>29</td><td>2013-12-25 21:00:00</td></tr>\n",
              "\t<tr><td>2013</td><td>12</td><td>25</td><td>2129</td><td>2053</td><td> 36</td><td>   1</td><td>2333</td><td> 28</td><td>EV</td><td>4388</td><td>N17984</td><td>EWR</td><td>JAX</td><td>133</td><td> 820</td><td>20</td><td>53</td><td>2013-12-25 20:00:00</td></tr>\n",
              "\t<tr><td>2013</td><td>12</td><td>25</td><td>2130</td><td>2135</td><td> -5</td><td>  25</td><td>  55</td><td>-30</td><td>AA</td><td> 185</td><td>N332AA</td><td>JFK</td><td>LAX</td><td>328</td><td>2475</td><td>21</td><td>35</td><td>2013-12-25 21:00:00</td></tr>\n",
              "\t<tr><td>2013</td><td>12</td><td>25</td><td>2130</td><td>2115</td><td> 15</td><td>2322</td><td>2315</td><td>  7</td><td>MQ</td><td>3384</td><td>N520MQ</td><td>LGA</td><td>CLT</td><td> 90</td><td> 544</td><td>21</td><td>15</td><td>2013-12-25 21:00:00</td></tr>\n",
              "\t<tr><td>2013</td><td>12</td><td>25</td><td>2131</td><td>2046</td><td> 45</td><td>  24</td><td>2349</td><td> 35</td><td>UA</td><td> 236</td><td>N406UA</td><td>EWR</td><td>TPA</td><td>151</td><td> 997</td><td>20</td><td>46</td><td>2013-12-25 20:00:00</td></tr>\n",
              "\t<tr><td>2013</td><td>12</td><td>25</td><td>2140</td><td>2141</td><td> -1</td><td>  44</td><td>  37</td><td>  7</td><td>B6</td><td> 425</td><td>N579JB</td><td>JFK</td><td>TPA</td><td>160</td><td>1005</td><td>21</td><td>41</td><td>2013-12-25 21:00:00</td></tr>\n",
              "\t<tr><td>2013</td><td>12</td><td>25</td><td>2144</td><td>2145</td><td> -1</td><td>  27</td><td>  19</td><td>  8</td><td>B6</td><td>2227</td><td>N273JB</td><td>EWR</td><td>MCO</td><td>144</td><td> 937</td><td>21</td><td>45</td><td>2013-12-25 21:00:00</td></tr>\n",
              "\t<tr><td>2013</td><td>12</td><td>25</td><td>2149</td><td>2155</td><td> -6</td><td>2328</td><td>2334</td><td> -6</td><td>B6</td><td> 985</td><td>N339JB</td><td>JFK</td><td>RDU</td><td> 80</td><td> 427</td><td>21</td><td>55</td><td>2013-12-25 21:00:00</td></tr>\n",
              "\t<tr><td>2013</td><td>12</td><td>25</td><td>2150</td><td>2159</td><td> -9</td><td> 103</td><td>  45</td><td> 18</td><td>B6</td><td>1183</td><td>N634JB</td><td>JFK</td><td>MCO</td><td>151</td><td> 944</td><td>21</td><td>59</td><td>2013-12-25 21:00:00</td></tr>\n",
              "\t<tr><td>2013</td><td>12</td><td>25</td><td>2152</td><td>2155</td><td> -3</td><td> 100</td><td>  56</td><td>  4</td><td>B6</td><td>1901</td><td>N665JB</td><td>JFK</td><td>FLL</td><td>154</td><td>1069</td><td>21</td><td>55</td><td>2013-12-25 21:00:00</td></tr>\n",
              "\t<tr><td>2013</td><td>12</td><td>25</td><td>2153</td><td>2155</td><td> -2</td><td>  50</td><td>  46</td><td>  4</td><td>B6</td><td>2053</td><td>N613JB</td><td>JFK</td><td>PBI</td><td>148</td><td>1028</td><td>21</td><td>55</td><td>2013-12-25 21:00:00</td></tr>\n",
              "\t<tr><td>2013</td><td>12</td><td>25</td><td>2153</td><td>2135</td><td> 18</td><td>  22</td><td>  19</td><td>  3</td><td>B6</td><td> 611</td><td>N519JB</td><td>JFK</td><td>LAS</td><td>305</td><td>2248</td><td>21</td><td>35</td><td>2013-12-25 21:00:00</td></tr>\n",
              "\t<tr><td>2013</td><td>12</td><td>25</td><td>2153</td><td>2030</td><td> 83</td><td>  46</td><td>2347</td><td> 59</td><td>UA</td><td>1682</td><td>N78524</td><td>EWR</td><td>FLL</td><td>151</td><td>1065</td><td>20</td><td>30</td><td>2013-12-25 20:00:00</td></tr>\n",
              "\t<tr><td>2013</td><td>12</td><td>25</td><td>2203</td><td>2136</td><td> 27</td><td>2327</td><td>2259</td><td> 28</td><td>B6</td><td> 702</td><td>N198JB</td><td>JFK</td><td>BUF</td><td> 59</td><td> 301</td><td>21</td><td>36</td><td>2013-12-25 21:00:00</td></tr>\n",
              "\t<tr><td>2013</td><td>12</td><td>25</td><td>2203</td><td>2130</td><td> 33</td><td>2309</td><td>2245</td><td> 24</td><td>MQ</td><td>3621</td><td>N844MQ</td><td>JFK</td><td>DCA</td><td> 42</td><td> 213</td><td>21</td><td>30</td><td>2013-12-25 21:00:00</td></tr>\n",
              "\t<tr><td>2013</td><td>12</td><td>25</td><td>2219</td><td>2110</td><td> 69</td><td> 102</td><td>2339</td><td> 83</td><td>B6</td><td> 775</td><td>N258JB</td><td>JFK</td><td>MSY</td><td>192</td><td>1182</td><td>21</td><td>10</td><td>2013-12-25 21:00:00</td></tr>\n",
              "\t<tr><td>2013</td><td>12</td><td>25</td><td>2231</td><td>2219</td><td> 12</td><td> 311</td><td> 304</td><td>  7</td><td>B6</td><td>1203</td><td>N618JB</td><td>JFK</td><td>SJU</td><td>194</td><td>1598</td><td>22</td><td>19</td><td>2013-12-25 22:00:00</td></tr>\n",
              "\t<tr><td>2013</td><td>12</td><td>25</td><td>2302</td><td>2245</td><td> 17</td><td>  15</td><td>   3</td><td> 12</td><td>B6</td><td> 486</td><td>N203JB</td><td>JFK</td><td>ROC</td><td> 54</td><td> 264</td><td>22</td><td>45</td><td>2013-12-25 22:00:00</td></tr>\n",
              "\t<tr><td>2013</td><td>12</td><td>25</td><td>2308</td><td>2245</td><td> 23</td><td>  10</td><td>2355</td><td> 15</td><td>B6</td><td> 234</td><td>N316JB</td><td>JFK</td><td>BTV</td><td> 43</td><td> 266</td><td>22</td><td>45</td><td>2013-12-25 22:00:00</td></tr>\n",
              "\t<tr><td>2013</td><td>12</td><td>25</td><td>2312</td><td>2250</td><td> 22</td><td>  10</td><td>2356</td><td> 14</td><td>B6</td><td>1816</td><td>N358JB</td><td>JFK</td><td>SYR</td><td> 44</td><td> 209</td><td>22</td><td>50</td><td>2013-12-25 22:00:00</td></tr>\n",
              "\t<tr><td>2013</td><td>12</td><td>25</td><td>2314</td><td>2245</td><td> 29</td><td>  15</td><td>2353</td><td> 22</td><td>B6</td><td> 108</td><td>N279JB</td><td>JFK</td><td>PWM</td><td> 46</td><td> 273</td><td>22</td><td>45</td><td>2013-12-25 22:00:00</td></tr>\n",
              "\t<tr><td>2013</td><td>12</td><td>25</td><td>2315</td><td>2330</td><td>-15</td><td> 348</td><td> 409</td><td>-21</td><td>B6</td><td>1389</td><td>N554JB</td><td>EWR</td><td>SJU</td><td>199</td><td>1608</td><td>23</td><td>30</td><td>2013-12-25 23:00:00</td></tr>\n",
              "\t<tr><td>2013</td><td>12</td><td>25</td><td>2352</td><td>2359</td><td> -7</td><td> 429</td><td> 440</td><td>-11</td><td>B6</td><td>1503</td><td>N531JB</td><td>JFK</td><td>SJU</td><td>198</td><td>1598</td><td>23</td><td>59</td><td>2013-12-25 23:00:00</td></tr>\n",
              "\t<tr><td>2013</td><td>12</td><td>25</td><td>2353</td><td>2355</td><td> -2</td><td> 442</td><td> 438</td><td>  4</td><td>DL</td><td>2380</td><td>N713TW</td><td>JFK</td><td>SJU</td><td>196</td><td>1598</td><td>23</td><td>55</td><td>2013-12-25 23:00:00</td></tr>\n",
              "\t<tr><td>2013</td><td>12</td><td>25</td><td>2357</td><td>2359</td><td> -2</td><td> 446</td><td> 445</td><td>  1</td><td>B6</td><td> 745</td><td>N636JB</td><td>JFK</td><td>PSE</td><td>204</td><td>1617</td><td>23</td><td>59</td><td>2013-12-25 23:00:00</td></tr>\n",
              "\t<tr><td>2013</td><td>12</td><td>25</td><td>2357</td><td>2359</td><td> -2</td><td> 433</td><td> 437</td><td> -4</td><td>B6</td><td> 839</td><td>N784JB</td><td>JFK</td><td>BQN</td><td>194</td><td>1576</td><td>23</td><td>59</td><td>2013-12-25 23:00:00</td></tr>\n",
              "\t<tr><td>2013</td><td>12</td><td>25</td><td>  NA</td><td>1630</td><td> NA</td><td>  NA</td><td>1838</td><td> NA</td><td>DL</td><td>2231</td><td>N312US</td><td>LGA</td><td>DTW</td><td> NA</td><td> 502</td><td>16</td><td>30</td><td>2013-12-25 16:00:00</td></tr>\n",
              "\t<tr><td>2013</td><td>12</td><td>25</td><td>  NA</td><td>1525</td><td> NA</td><td>  NA</td><td>1720</td><td> NA</td><td>MQ</td><td>2840</td><td>N8EGMQ</td><td>LGA</td><td>STL</td><td> NA</td><td> 888</td><td>15</td><td>25</td><td>2013-12-25 15:00:00</td></tr>\n",
              "\t<tr><td>2013</td><td>12</td><td>25</td><td>  NA</td><td>1100</td><td> NA</td><td>  NA</td><td>1210</td><td> NA</td><td>MQ</td><td>3230</td><td>N524MQ</td><td>JFK</td><td>DCA</td><td> NA</td><td> 213</td><td>11</td><td> 0</td><td>2013-12-25 11:00:00</td></tr>\n",
              "\t<tr><td>2013</td><td>12</td><td>25</td><td>  NA</td><td>1930</td><td> NA</td><td>  NA</td><td>2115</td><td> NA</td><td>MQ</td><td>3535</td><td>N509MQ</td><td>JFK</td><td>CMH</td><td> NA</td><td> 483</td><td>19</td><td>30</td><td>2013-12-25 19:00:00</td></tr>\n",
              "</tbody>\n",
              "</table>\n"
            ],
            "text/markdown": "\nA tibble: 719 × 19\n\n| year &lt;int&gt; | month &lt;int&gt; | day &lt;int&gt; | dep_time &lt;int&gt; | sched_dep_time &lt;int&gt; | dep_delay &lt;dbl&gt; | arr_time &lt;int&gt; | sched_arr_time &lt;int&gt; | arr_delay &lt;dbl&gt; | carrier &lt;chr&gt; | flight &lt;int&gt; | tailnum &lt;chr&gt; | origin &lt;chr&gt; | dest &lt;chr&gt; | air_time &lt;dbl&gt; | distance &lt;dbl&gt; | hour &lt;dbl&gt; | minute &lt;dbl&gt; | time_hour &lt;dttm&gt; |\n|---|---|---|---|---|---|---|---|---|---|---|---|---|---|---|---|---|---|---|\n| 2013 | 12 | 25 | 456 | 500 | -4 |  649 |  651 |  -2 | US | 1895 | N156UW | EWR | CLT |  98 |  529 | 5 |  0 | 2013-12-25 05:00:00 |\n| 2013 | 12 | 25 | 524 | 515 |  9 |  805 |  814 |  -9 | UA | 1016 | N32404 | EWR | IAH | 203 | 1400 | 5 | 15 | 2013-12-25 05:00:00 |\n| 2013 | 12 | 25 | 542 | 540 |  2 |  832 |  850 | -18 | AA | 2243 | N5EBAA | JFK | MIA | 146 | 1089 | 5 | 40 | 2013-12-25 05:00:00 |\n| 2013 | 12 | 25 | 546 | 550 | -4 | 1022 | 1027 |  -5 | B6 |  939 | N665JB | JFK | BQN | 191 | 1576 | 5 | 50 | 2013-12-25 05:00:00 |\n| 2013 | 12 | 25 | 556 | 600 | -4 |  730 |  745 | -15 | AA |  301 | N3JLAA | LGA | ORD | 123 |  733 | 6 |  0 | 2013-12-25 06:00:00 |\n| 2013 | 12 | 25 | 557 | 600 | -3 |  743 |  752 |  -9 | DL |  731 | N369NB | LGA | DTW |  88 |  502 | 6 |  0 | 2013-12-25 06:00:00 |\n| 2013 | 12 | 25 | 557 | 600 | -3 |  818 |  831 | -13 | DL |  904 | N397DA | LGA | ATL | 118 |  762 | 6 |  0 | 2013-12-25 06:00:00 |\n| 2013 | 12 | 25 | 559 | 600 | -1 |  855 |  856 |  -1 | B6 |  371 | N608JB | LGA | FLL | 147 | 1076 | 6 |  0 | 2013-12-25 06:00:00 |\n| 2013 | 12 | 25 | 559 | 600 | -1 |  849 |  855 |  -6 | B6 |  605 | N536JB | EWR | FLL | 149 | 1065 | 6 |  0 | 2013-12-25 06:00:00 |\n| 2013 | 12 | 25 | 600 | 600 |  0 |  850 |  846 |   4 | B6 |  583 | N746JB | JFK | MCO | 137 |  944 | 6 |  0 | 2013-12-25 06:00:00 |\n| 2013 | 12 | 25 | 600 | 600 |  0 |  715 |  723 |  -8 | EV | 5747 | N835AS | LGA | IAD |  47 |  229 | 6 |  0 | 2013-12-25 06:00:00 |\n| 2013 | 12 | 25 | 601 | 600 |  1 |  855 |  905 | -10 | AA | 1175 | N3EJAA | LGA | MIA | 152 | 1096 | 6 |  0 | 2013-12-25 06:00:00 |\n| 2013 | 12 | 25 | 601 | 600 |  1 |  846 |  849 |  -3 | B6 |  353 | N766JB | JFK | PBI | 143 | 1028 | 6 |  0 | 2013-12-25 06:00:00 |\n| 2013 | 12 | 25 | 604 | 611 | -7 | 1051 | 1055 |  -4 | B6 | 1403 | N779JB | JFK | SJU | 190 | 1598 | 6 | 11 | 2013-12-25 06:00:00 |\n| 2013 | 12 | 25 | 605 | 600 |  5 |  912 |  937 | -25 | UA |  303 | N596UA | JFK | SFO | 345 | 2586 | 6 |  0 | 2013-12-25 06:00:00 |\n| 2013 | 12 | 25 | 610 | 610 |  0 |  922 |  915 |   7 | AA | 1205 | N5BTAA | EWR | MIA | 145 | 1085 | 6 | 10 | 2013-12-25 06:00:00 |\n| 2013 | 12 | 25 | 610 | 605 |  5 |  718 |  723 |  -5 | EV | 6177 | N11189 | EWR | IAD |  44 |  212 | 6 |  5 | 2013-12-25 06:00:00 |\n| 2013 | 12 | 25 | 611 | 611 |  0 |  908 |  912 |  -4 | B6 |  601 | N804JB | JFK | FLL | 153 | 1069 | 6 | 11 | 2013-12-25 06:00:00 |\n| 2013 | 12 | 25 | 612 | 615 | -3 |  859 |  852 |   7 | DL |  479 | N3769L | JFK | ATL | 127 |  760 | 6 | 15 | 2013-12-25 06:00:00 |\n| 2013 | 12 | 25 | 615 | 615 |  0 |  802 |  818 | -16 | US | 1963 | N169UW | EWR | CLT |  87 |  529 | 6 | 15 | 2013-12-25 06:00:00 |\n| 2013 | 12 | 25 | 620 | 615 |  5 |  818 |  817 |   1 | US |  840 | N151UW | JFK | CLT |  96 |  541 | 6 | 15 | 2013-12-25 06:00:00 |\n| 2013 | 12 | 25 | 621 | 610 | 11 |  902 |  905 |  -3 | UA | 1627 | N76269 | EWR | PBI | 142 | 1023 | 6 | 10 | 2013-12-25 06:00:00 |\n| 2013 | 12 | 25 | 627 | 625 |  2 | 1010 | 1009 |   1 | US |  690 | N672AW | EWR | PHX | 288 | 2133 | 6 | 25 | 2013-12-25 06:00:00 |\n| 2013 | 12 | 25 | 628 | 630 | -2 |  932 |  938 |  -6 | B6 |  929 | N712JB | JFK | RSW | 162 | 1074 | 6 | 30 | 2013-12-25 06:00:00 |\n| 2013 | 12 | 25 | 628 | 630 | -2 |  949 |  919 |  30 | B6 | 1099 | N571JB | LGA | MCO | 136 |  950 | 6 | 30 | 2013-12-25 06:00:00 |\n| 2013 | 12 | 25 | 630 | 631 | -1 |  924 |  958 | -34 | UA |  398 | N505UA | JFK | LAX | 335 | 2475 | 6 | 31 | 2013-12-25 06:00:00 |\n| 2013 | 12 | 25 | 632 | 635 | -3 |  927 |  929 |  -2 | B6 |  525 | N556JB | JFK | TPA | 151 | 1005 | 6 | 35 | 2013-12-25 06:00:00 |\n| 2013 | 12 | 25 | 632 | 620 | 12 |  922 |  919 |   3 | UA |  596 | N556UA | EWR | TPA | 147 |  997 | 6 | 20 | 2013-12-25 06:00:00 |\n| 2013 | 12 | 25 | 635 | 614 | 21 |  921 |  925 |  -4 | UA | 1701 | N38417 | EWR | FLL | 151 | 1065 | 6 | 14 | 2013-12-25 06:00:00 |\n| 2013 | 12 | 25 | 643 | 630 | 13 |  904 |  859 |   5 | DL |  807 | N977AT | EWR | ATL | 115 |  746 | 6 | 30 | 2013-12-25 06:00:00 |\n| ⋮ | ⋮ | ⋮ | ⋮ | ⋮ | ⋮ | ⋮ | ⋮ | ⋮ | ⋮ | ⋮ | ⋮ | ⋮ | ⋮ | ⋮ | ⋮ | ⋮ | ⋮ | ⋮ |\n| 2013 | 12 | 25 | 2126 | 2129 |  -3 |   24 |   22 |   2 | B6 | 2043 | N599JB | EWR | PBI | 144 | 1023 | 21 | 29 | 2013-12-25 21:00:00 |\n| 2013 | 12 | 25 | 2129 | 2053 |  36 |    1 | 2333 |  28 | EV | 4388 | N17984 | EWR | JAX | 133 |  820 | 20 | 53 | 2013-12-25 20:00:00 |\n| 2013 | 12 | 25 | 2130 | 2135 |  -5 |   25 |   55 | -30 | AA |  185 | N332AA | JFK | LAX | 328 | 2475 | 21 | 35 | 2013-12-25 21:00:00 |\n| 2013 | 12 | 25 | 2130 | 2115 |  15 | 2322 | 2315 |   7 | MQ | 3384 | N520MQ | LGA | CLT |  90 |  544 | 21 | 15 | 2013-12-25 21:00:00 |\n| 2013 | 12 | 25 | 2131 | 2046 |  45 |   24 | 2349 |  35 | UA |  236 | N406UA | EWR | TPA | 151 |  997 | 20 | 46 | 2013-12-25 20:00:00 |\n| 2013 | 12 | 25 | 2140 | 2141 |  -1 |   44 |   37 |   7 | B6 |  425 | N579JB | JFK | TPA | 160 | 1005 | 21 | 41 | 2013-12-25 21:00:00 |\n| 2013 | 12 | 25 | 2144 | 2145 |  -1 |   27 |   19 |   8 | B6 | 2227 | N273JB | EWR | MCO | 144 |  937 | 21 | 45 | 2013-12-25 21:00:00 |\n| 2013 | 12 | 25 | 2149 | 2155 |  -6 | 2328 | 2334 |  -6 | B6 |  985 | N339JB | JFK | RDU |  80 |  427 | 21 | 55 | 2013-12-25 21:00:00 |\n| 2013 | 12 | 25 | 2150 | 2159 |  -9 |  103 |   45 |  18 | B6 | 1183 | N634JB | JFK | MCO | 151 |  944 | 21 | 59 | 2013-12-25 21:00:00 |\n| 2013 | 12 | 25 | 2152 | 2155 |  -3 |  100 |   56 |   4 | B6 | 1901 | N665JB | JFK | FLL | 154 | 1069 | 21 | 55 | 2013-12-25 21:00:00 |\n| 2013 | 12 | 25 | 2153 | 2155 |  -2 |   50 |   46 |   4 | B6 | 2053 | N613JB | JFK | PBI | 148 | 1028 | 21 | 55 | 2013-12-25 21:00:00 |\n| 2013 | 12 | 25 | 2153 | 2135 |  18 |   22 |   19 |   3 | B6 |  611 | N519JB | JFK | LAS | 305 | 2248 | 21 | 35 | 2013-12-25 21:00:00 |\n| 2013 | 12 | 25 | 2153 | 2030 |  83 |   46 | 2347 |  59 | UA | 1682 | N78524 | EWR | FLL | 151 | 1065 | 20 | 30 | 2013-12-25 20:00:00 |\n| 2013 | 12 | 25 | 2203 | 2136 |  27 | 2327 | 2259 |  28 | B6 |  702 | N198JB | JFK | BUF |  59 |  301 | 21 | 36 | 2013-12-25 21:00:00 |\n| 2013 | 12 | 25 | 2203 | 2130 |  33 | 2309 | 2245 |  24 | MQ | 3621 | N844MQ | JFK | DCA |  42 |  213 | 21 | 30 | 2013-12-25 21:00:00 |\n| 2013 | 12 | 25 | 2219 | 2110 |  69 |  102 | 2339 |  83 | B6 |  775 | N258JB | JFK | MSY | 192 | 1182 | 21 | 10 | 2013-12-25 21:00:00 |\n| 2013 | 12 | 25 | 2231 | 2219 |  12 |  311 |  304 |   7 | B6 | 1203 | N618JB | JFK | SJU | 194 | 1598 | 22 | 19 | 2013-12-25 22:00:00 |\n| 2013 | 12 | 25 | 2302 | 2245 |  17 |   15 |    3 |  12 | B6 |  486 | N203JB | JFK | ROC |  54 |  264 | 22 | 45 | 2013-12-25 22:00:00 |\n| 2013 | 12 | 25 | 2308 | 2245 |  23 |   10 | 2355 |  15 | B6 |  234 | N316JB | JFK | BTV |  43 |  266 | 22 | 45 | 2013-12-25 22:00:00 |\n| 2013 | 12 | 25 | 2312 | 2250 |  22 |   10 | 2356 |  14 | B6 | 1816 | N358JB | JFK | SYR |  44 |  209 | 22 | 50 | 2013-12-25 22:00:00 |\n| 2013 | 12 | 25 | 2314 | 2245 |  29 |   15 | 2353 |  22 | B6 |  108 | N279JB | JFK | PWM |  46 |  273 | 22 | 45 | 2013-12-25 22:00:00 |\n| 2013 | 12 | 25 | 2315 | 2330 | -15 |  348 |  409 | -21 | B6 | 1389 | N554JB | EWR | SJU | 199 | 1608 | 23 | 30 | 2013-12-25 23:00:00 |\n| 2013 | 12 | 25 | 2352 | 2359 |  -7 |  429 |  440 | -11 | B6 | 1503 | N531JB | JFK | SJU | 198 | 1598 | 23 | 59 | 2013-12-25 23:00:00 |\n| 2013 | 12 | 25 | 2353 | 2355 |  -2 |  442 |  438 |   4 | DL | 2380 | N713TW | JFK | SJU | 196 | 1598 | 23 | 55 | 2013-12-25 23:00:00 |\n| 2013 | 12 | 25 | 2357 | 2359 |  -2 |  446 |  445 |   1 | B6 |  745 | N636JB | JFK | PSE | 204 | 1617 | 23 | 59 | 2013-12-25 23:00:00 |\n| 2013 | 12 | 25 | 2357 | 2359 |  -2 |  433 |  437 |  -4 | B6 |  839 | N784JB | JFK | BQN | 194 | 1576 | 23 | 59 | 2013-12-25 23:00:00 |\n| 2013 | 12 | 25 |   NA | 1630 |  NA |   NA | 1838 |  NA | DL | 2231 | N312US | LGA | DTW |  NA |  502 | 16 | 30 | 2013-12-25 16:00:00 |\n| 2013 | 12 | 25 |   NA | 1525 |  NA |   NA | 1720 |  NA | MQ | 2840 | N8EGMQ | LGA | STL |  NA |  888 | 15 | 25 | 2013-12-25 15:00:00 |\n| 2013 | 12 | 25 |   NA | 1100 |  NA |   NA | 1210 |  NA | MQ | 3230 | N524MQ | JFK | DCA |  NA |  213 | 11 |  0 | 2013-12-25 11:00:00 |\n| 2013 | 12 | 25 |   NA | 1930 |  NA |   NA | 2115 |  NA | MQ | 3535 | N509MQ | JFK | CMH |  NA |  483 | 19 | 30 | 2013-12-25 19:00:00 |\n\n",
            "text/latex": "A tibble: 719 × 19\n\\begin{tabular}{lllllllllllllllllll}\n year & month & day & dep\\_time & sched\\_dep\\_time & dep\\_delay & arr\\_time & sched\\_arr\\_time & arr\\_delay & carrier & flight & tailnum & origin & dest & air\\_time & distance & hour & minute & time\\_hour\\\\\n <int> & <int> & <int> & <int> & <int> & <dbl> & <int> & <int> & <dbl> & <chr> & <int> & <chr> & <chr> & <chr> & <dbl> & <dbl> & <dbl> & <dbl> & <dttm>\\\\\n\\hline\n\t 2013 & 12 & 25 & 456 & 500 & -4 &  649 &  651 &  -2 & US & 1895 & N156UW & EWR & CLT &  98 &  529 & 5 &  0 & 2013-12-25 05:00:00\\\\\n\t 2013 & 12 & 25 & 524 & 515 &  9 &  805 &  814 &  -9 & UA & 1016 & N32404 & EWR & IAH & 203 & 1400 & 5 & 15 & 2013-12-25 05:00:00\\\\\n\t 2013 & 12 & 25 & 542 & 540 &  2 &  832 &  850 & -18 & AA & 2243 & N5EBAA & JFK & MIA & 146 & 1089 & 5 & 40 & 2013-12-25 05:00:00\\\\\n\t 2013 & 12 & 25 & 546 & 550 & -4 & 1022 & 1027 &  -5 & B6 &  939 & N665JB & JFK & BQN & 191 & 1576 & 5 & 50 & 2013-12-25 05:00:00\\\\\n\t 2013 & 12 & 25 & 556 & 600 & -4 &  730 &  745 & -15 & AA &  301 & N3JLAA & LGA & ORD & 123 &  733 & 6 &  0 & 2013-12-25 06:00:00\\\\\n\t 2013 & 12 & 25 & 557 & 600 & -3 &  743 &  752 &  -9 & DL &  731 & N369NB & LGA & DTW &  88 &  502 & 6 &  0 & 2013-12-25 06:00:00\\\\\n\t 2013 & 12 & 25 & 557 & 600 & -3 &  818 &  831 & -13 & DL &  904 & N397DA & LGA & ATL & 118 &  762 & 6 &  0 & 2013-12-25 06:00:00\\\\\n\t 2013 & 12 & 25 & 559 & 600 & -1 &  855 &  856 &  -1 & B6 &  371 & N608JB & LGA & FLL & 147 & 1076 & 6 &  0 & 2013-12-25 06:00:00\\\\\n\t 2013 & 12 & 25 & 559 & 600 & -1 &  849 &  855 &  -6 & B6 &  605 & N536JB & EWR & FLL & 149 & 1065 & 6 &  0 & 2013-12-25 06:00:00\\\\\n\t 2013 & 12 & 25 & 600 & 600 &  0 &  850 &  846 &   4 & B6 &  583 & N746JB & JFK & MCO & 137 &  944 & 6 &  0 & 2013-12-25 06:00:00\\\\\n\t 2013 & 12 & 25 & 600 & 600 &  0 &  715 &  723 &  -8 & EV & 5747 & N835AS & LGA & IAD &  47 &  229 & 6 &  0 & 2013-12-25 06:00:00\\\\\n\t 2013 & 12 & 25 & 601 & 600 &  1 &  855 &  905 & -10 & AA & 1175 & N3EJAA & LGA & MIA & 152 & 1096 & 6 &  0 & 2013-12-25 06:00:00\\\\\n\t 2013 & 12 & 25 & 601 & 600 &  1 &  846 &  849 &  -3 & B6 &  353 & N766JB & JFK & PBI & 143 & 1028 & 6 &  0 & 2013-12-25 06:00:00\\\\\n\t 2013 & 12 & 25 & 604 & 611 & -7 & 1051 & 1055 &  -4 & B6 & 1403 & N779JB & JFK & SJU & 190 & 1598 & 6 & 11 & 2013-12-25 06:00:00\\\\\n\t 2013 & 12 & 25 & 605 & 600 &  5 &  912 &  937 & -25 & UA &  303 & N596UA & JFK & SFO & 345 & 2586 & 6 &  0 & 2013-12-25 06:00:00\\\\\n\t 2013 & 12 & 25 & 610 & 610 &  0 &  922 &  915 &   7 & AA & 1205 & N5BTAA & EWR & MIA & 145 & 1085 & 6 & 10 & 2013-12-25 06:00:00\\\\\n\t 2013 & 12 & 25 & 610 & 605 &  5 &  718 &  723 &  -5 & EV & 6177 & N11189 & EWR & IAD &  44 &  212 & 6 &  5 & 2013-12-25 06:00:00\\\\\n\t 2013 & 12 & 25 & 611 & 611 &  0 &  908 &  912 &  -4 & B6 &  601 & N804JB & JFK & FLL & 153 & 1069 & 6 & 11 & 2013-12-25 06:00:00\\\\\n\t 2013 & 12 & 25 & 612 & 615 & -3 &  859 &  852 &   7 & DL &  479 & N3769L & JFK & ATL & 127 &  760 & 6 & 15 & 2013-12-25 06:00:00\\\\\n\t 2013 & 12 & 25 & 615 & 615 &  0 &  802 &  818 & -16 & US & 1963 & N169UW & EWR & CLT &  87 &  529 & 6 & 15 & 2013-12-25 06:00:00\\\\\n\t 2013 & 12 & 25 & 620 & 615 &  5 &  818 &  817 &   1 & US &  840 & N151UW & JFK & CLT &  96 &  541 & 6 & 15 & 2013-12-25 06:00:00\\\\\n\t 2013 & 12 & 25 & 621 & 610 & 11 &  902 &  905 &  -3 & UA & 1627 & N76269 & EWR & PBI & 142 & 1023 & 6 & 10 & 2013-12-25 06:00:00\\\\\n\t 2013 & 12 & 25 & 627 & 625 &  2 & 1010 & 1009 &   1 & US &  690 & N672AW & EWR & PHX & 288 & 2133 & 6 & 25 & 2013-12-25 06:00:00\\\\\n\t 2013 & 12 & 25 & 628 & 630 & -2 &  932 &  938 &  -6 & B6 &  929 & N712JB & JFK & RSW & 162 & 1074 & 6 & 30 & 2013-12-25 06:00:00\\\\\n\t 2013 & 12 & 25 & 628 & 630 & -2 &  949 &  919 &  30 & B6 & 1099 & N571JB & LGA & MCO & 136 &  950 & 6 & 30 & 2013-12-25 06:00:00\\\\\n\t 2013 & 12 & 25 & 630 & 631 & -1 &  924 &  958 & -34 & UA &  398 & N505UA & JFK & LAX & 335 & 2475 & 6 & 31 & 2013-12-25 06:00:00\\\\\n\t 2013 & 12 & 25 & 632 & 635 & -3 &  927 &  929 &  -2 & B6 &  525 & N556JB & JFK & TPA & 151 & 1005 & 6 & 35 & 2013-12-25 06:00:00\\\\\n\t 2013 & 12 & 25 & 632 & 620 & 12 &  922 &  919 &   3 & UA &  596 & N556UA & EWR & TPA & 147 &  997 & 6 & 20 & 2013-12-25 06:00:00\\\\\n\t 2013 & 12 & 25 & 635 & 614 & 21 &  921 &  925 &  -4 & UA & 1701 & N38417 & EWR & FLL & 151 & 1065 & 6 & 14 & 2013-12-25 06:00:00\\\\\n\t 2013 & 12 & 25 & 643 & 630 & 13 &  904 &  859 &   5 & DL &  807 & N977AT & EWR & ATL & 115 &  746 & 6 & 30 & 2013-12-25 06:00:00\\\\\n\t ⋮ & ⋮ & ⋮ & ⋮ & ⋮ & ⋮ & ⋮ & ⋮ & ⋮ & ⋮ & ⋮ & ⋮ & ⋮ & ⋮ & ⋮ & ⋮ & ⋮ & ⋮ & ⋮\\\\\n\t 2013 & 12 & 25 & 2126 & 2129 &  -3 &   24 &   22 &   2 & B6 & 2043 & N599JB & EWR & PBI & 144 & 1023 & 21 & 29 & 2013-12-25 21:00:00\\\\\n\t 2013 & 12 & 25 & 2129 & 2053 &  36 &    1 & 2333 &  28 & EV & 4388 & N17984 & EWR & JAX & 133 &  820 & 20 & 53 & 2013-12-25 20:00:00\\\\\n\t 2013 & 12 & 25 & 2130 & 2135 &  -5 &   25 &   55 & -30 & AA &  185 & N332AA & JFK & LAX & 328 & 2475 & 21 & 35 & 2013-12-25 21:00:00\\\\\n\t 2013 & 12 & 25 & 2130 & 2115 &  15 & 2322 & 2315 &   7 & MQ & 3384 & N520MQ & LGA & CLT &  90 &  544 & 21 & 15 & 2013-12-25 21:00:00\\\\\n\t 2013 & 12 & 25 & 2131 & 2046 &  45 &   24 & 2349 &  35 & UA &  236 & N406UA & EWR & TPA & 151 &  997 & 20 & 46 & 2013-12-25 20:00:00\\\\\n\t 2013 & 12 & 25 & 2140 & 2141 &  -1 &   44 &   37 &   7 & B6 &  425 & N579JB & JFK & TPA & 160 & 1005 & 21 & 41 & 2013-12-25 21:00:00\\\\\n\t 2013 & 12 & 25 & 2144 & 2145 &  -1 &   27 &   19 &   8 & B6 & 2227 & N273JB & EWR & MCO & 144 &  937 & 21 & 45 & 2013-12-25 21:00:00\\\\\n\t 2013 & 12 & 25 & 2149 & 2155 &  -6 & 2328 & 2334 &  -6 & B6 &  985 & N339JB & JFK & RDU &  80 &  427 & 21 & 55 & 2013-12-25 21:00:00\\\\\n\t 2013 & 12 & 25 & 2150 & 2159 &  -9 &  103 &   45 &  18 & B6 & 1183 & N634JB & JFK & MCO & 151 &  944 & 21 & 59 & 2013-12-25 21:00:00\\\\\n\t 2013 & 12 & 25 & 2152 & 2155 &  -3 &  100 &   56 &   4 & B6 & 1901 & N665JB & JFK & FLL & 154 & 1069 & 21 & 55 & 2013-12-25 21:00:00\\\\\n\t 2013 & 12 & 25 & 2153 & 2155 &  -2 &   50 &   46 &   4 & B6 & 2053 & N613JB & JFK & PBI & 148 & 1028 & 21 & 55 & 2013-12-25 21:00:00\\\\\n\t 2013 & 12 & 25 & 2153 & 2135 &  18 &   22 &   19 &   3 & B6 &  611 & N519JB & JFK & LAS & 305 & 2248 & 21 & 35 & 2013-12-25 21:00:00\\\\\n\t 2013 & 12 & 25 & 2153 & 2030 &  83 &   46 & 2347 &  59 & UA & 1682 & N78524 & EWR & FLL & 151 & 1065 & 20 & 30 & 2013-12-25 20:00:00\\\\\n\t 2013 & 12 & 25 & 2203 & 2136 &  27 & 2327 & 2259 &  28 & B6 &  702 & N198JB & JFK & BUF &  59 &  301 & 21 & 36 & 2013-12-25 21:00:00\\\\\n\t 2013 & 12 & 25 & 2203 & 2130 &  33 & 2309 & 2245 &  24 & MQ & 3621 & N844MQ & JFK & DCA &  42 &  213 & 21 & 30 & 2013-12-25 21:00:00\\\\\n\t 2013 & 12 & 25 & 2219 & 2110 &  69 &  102 & 2339 &  83 & B6 &  775 & N258JB & JFK & MSY & 192 & 1182 & 21 & 10 & 2013-12-25 21:00:00\\\\\n\t 2013 & 12 & 25 & 2231 & 2219 &  12 &  311 &  304 &   7 & B6 & 1203 & N618JB & JFK & SJU & 194 & 1598 & 22 & 19 & 2013-12-25 22:00:00\\\\\n\t 2013 & 12 & 25 & 2302 & 2245 &  17 &   15 &    3 &  12 & B6 &  486 & N203JB & JFK & ROC &  54 &  264 & 22 & 45 & 2013-12-25 22:00:00\\\\\n\t 2013 & 12 & 25 & 2308 & 2245 &  23 &   10 & 2355 &  15 & B6 &  234 & N316JB & JFK & BTV &  43 &  266 & 22 & 45 & 2013-12-25 22:00:00\\\\\n\t 2013 & 12 & 25 & 2312 & 2250 &  22 &   10 & 2356 &  14 & B6 & 1816 & N358JB & JFK & SYR &  44 &  209 & 22 & 50 & 2013-12-25 22:00:00\\\\\n\t 2013 & 12 & 25 & 2314 & 2245 &  29 &   15 & 2353 &  22 & B6 &  108 & N279JB & JFK & PWM &  46 &  273 & 22 & 45 & 2013-12-25 22:00:00\\\\\n\t 2013 & 12 & 25 & 2315 & 2330 & -15 &  348 &  409 & -21 & B6 & 1389 & N554JB & EWR & SJU & 199 & 1608 & 23 & 30 & 2013-12-25 23:00:00\\\\\n\t 2013 & 12 & 25 & 2352 & 2359 &  -7 &  429 &  440 & -11 & B6 & 1503 & N531JB & JFK & SJU & 198 & 1598 & 23 & 59 & 2013-12-25 23:00:00\\\\\n\t 2013 & 12 & 25 & 2353 & 2355 &  -2 &  442 &  438 &   4 & DL & 2380 & N713TW & JFK & SJU & 196 & 1598 & 23 & 55 & 2013-12-25 23:00:00\\\\\n\t 2013 & 12 & 25 & 2357 & 2359 &  -2 &  446 &  445 &   1 & B6 &  745 & N636JB & JFK & PSE & 204 & 1617 & 23 & 59 & 2013-12-25 23:00:00\\\\\n\t 2013 & 12 & 25 & 2357 & 2359 &  -2 &  433 &  437 &  -4 & B6 &  839 & N784JB & JFK & BQN & 194 & 1576 & 23 & 59 & 2013-12-25 23:00:00\\\\\n\t 2013 & 12 & 25 &   NA & 1630 &  NA &   NA & 1838 &  NA & DL & 2231 & N312US & LGA & DTW &  NA &  502 & 16 & 30 & 2013-12-25 16:00:00\\\\\n\t 2013 & 12 & 25 &   NA & 1525 &  NA &   NA & 1720 &  NA & MQ & 2840 & N8EGMQ & LGA & STL &  NA &  888 & 15 & 25 & 2013-12-25 15:00:00\\\\\n\t 2013 & 12 & 25 &   NA & 1100 &  NA &   NA & 1210 &  NA & MQ & 3230 & N524MQ & JFK & DCA &  NA &  213 & 11 &  0 & 2013-12-25 11:00:00\\\\\n\t 2013 & 12 & 25 &   NA & 1930 &  NA &   NA & 2115 &  NA & MQ & 3535 & N509MQ & JFK & CMH &  NA &  483 & 19 & 30 & 2013-12-25 19:00:00\\\\\n\\end{tabular}\n",
            "text/plain": [
              "    year month day dep_time sched_dep_time dep_delay arr_time sched_arr_time\n",
              "1   2013 12    25  456      500            -4         649      651          \n",
              "2   2013 12    25  524      515             9         805      814          \n",
              "3   2013 12    25  542      540             2         832      850          \n",
              "4   2013 12    25  546      550            -4        1022     1027          \n",
              "5   2013 12    25  556      600            -4         730      745          \n",
              "6   2013 12    25  557      600            -3         743      752          \n",
              "7   2013 12    25  557      600            -3         818      831          \n",
              "8   2013 12    25  559      600            -1         855      856          \n",
              "9   2013 12    25  559      600            -1         849      855          \n",
              "10  2013 12    25  600      600             0         850      846          \n",
              "11  2013 12    25  600      600             0         715      723          \n",
              "12  2013 12    25  601      600             1         855      905          \n",
              "13  2013 12    25  601      600             1         846      849          \n",
              "14  2013 12    25  604      611            -7        1051     1055          \n",
              "15  2013 12    25  605      600             5         912      937          \n",
              "16  2013 12    25  610      610             0         922      915          \n",
              "17  2013 12    25  610      605             5         718      723          \n",
              "18  2013 12    25  611      611             0         908      912          \n",
              "19  2013 12    25  612      615            -3         859      852          \n",
              "20  2013 12    25  615      615             0         802      818          \n",
              "21  2013 12    25  620      615             5         818      817          \n",
              "22  2013 12    25  621      610            11         902      905          \n",
              "23  2013 12    25  627      625             2        1010     1009          \n",
              "24  2013 12    25  628      630            -2         932      938          \n",
              "25  2013 12    25  628      630            -2         949      919          \n",
              "26  2013 12    25  630      631            -1         924      958          \n",
              "27  2013 12    25  632      635            -3         927      929          \n",
              "28  2013 12    25  632      620            12         922      919          \n",
              "29  2013 12    25  635      614            21         921      925          \n",
              "30  2013 12    25  643      630            13         904      859          \n",
              "⋮   ⋮    ⋮     ⋮   ⋮        ⋮              ⋮         ⋮        ⋮             \n",
              "690 2013 12    25  2126     2129            -3         24       22          \n",
              "691 2013 12    25  2129     2053            36          1     2333          \n",
              "692 2013 12    25  2130     2135            -5         25       55          \n",
              "693 2013 12    25  2130     2115            15       2322     2315          \n",
              "694 2013 12    25  2131     2046            45         24     2349          \n",
              "695 2013 12    25  2140     2141            -1         44       37          \n",
              "696 2013 12    25  2144     2145            -1         27       19          \n",
              "697 2013 12    25  2149     2155            -6       2328     2334          \n",
              "698 2013 12    25  2150     2159            -9        103       45          \n",
              "699 2013 12    25  2152     2155            -3        100       56          \n",
              "700 2013 12    25  2153     2155            -2         50       46          \n",
              "701 2013 12    25  2153     2135            18         22       19          \n",
              "702 2013 12    25  2153     2030            83         46     2347          \n",
              "703 2013 12    25  2203     2136            27       2327     2259          \n",
              "704 2013 12    25  2203     2130            33       2309     2245          \n",
              "705 2013 12    25  2219     2110            69        102     2339          \n",
              "706 2013 12    25  2231     2219            12        311      304          \n",
              "707 2013 12    25  2302     2245            17         15        3          \n",
              "708 2013 12    25  2308     2245            23         10     2355          \n",
              "709 2013 12    25  2312     2250            22         10     2356          \n",
              "710 2013 12    25  2314     2245            29         15     2353          \n",
              "711 2013 12    25  2315     2330           -15        348      409          \n",
              "712 2013 12    25  2352     2359            -7        429      440          \n",
              "713 2013 12    25  2353     2355            -2        442      438          \n",
              "714 2013 12    25  2357     2359            -2        446      445          \n",
              "715 2013 12    25  2357     2359            -2        433      437          \n",
              "716 2013 12    25    NA     1630            NA         NA     1838          \n",
              "717 2013 12    25    NA     1525            NA         NA     1720          \n",
              "718 2013 12    25    NA     1100            NA         NA     1210          \n",
              "719 2013 12    25    NA     1930            NA         NA     2115          \n",
              "    arr_delay carrier flight tailnum origin dest air_time distance hour minute\n",
              "1    -2       US      1895   N156UW  EWR    CLT   98       529     5     0    \n",
              "2    -9       UA      1016   N32404  EWR    IAH  203      1400     5    15    \n",
              "3   -18       AA      2243   N5EBAA  JFK    MIA  146      1089     5    40    \n",
              "4    -5       B6       939   N665JB  JFK    BQN  191      1576     5    50    \n",
              "5   -15       AA       301   N3JLAA  LGA    ORD  123       733     6     0    \n",
              "6    -9       DL       731   N369NB  LGA    DTW   88       502     6     0    \n",
              "7   -13       DL       904   N397DA  LGA    ATL  118       762     6     0    \n",
              "8    -1       B6       371   N608JB  LGA    FLL  147      1076     6     0    \n",
              "9    -6       B6       605   N536JB  EWR    FLL  149      1065     6     0    \n",
              "10    4       B6       583   N746JB  JFK    MCO  137       944     6     0    \n",
              "11   -8       EV      5747   N835AS  LGA    IAD   47       229     6     0    \n",
              "12  -10       AA      1175   N3EJAA  LGA    MIA  152      1096     6     0    \n",
              "13   -3       B6       353   N766JB  JFK    PBI  143      1028     6     0    \n",
              "14   -4       B6      1403   N779JB  JFK    SJU  190      1598     6    11    \n",
              "15  -25       UA       303   N596UA  JFK    SFO  345      2586     6     0    \n",
              "16    7       AA      1205   N5BTAA  EWR    MIA  145      1085     6    10    \n",
              "17   -5       EV      6177   N11189  EWR    IAD   44       212     6     5    \n",
              "18   -4       B6       601   N804JB  JFK    FLL  153      1069     6    11    \n",
              "19    7       DL       479   N3769L  JFK    ATL  127       760     6    15    \n",
              "20  -16       US      1963   N169UW  EWR    CLT   87       529     6    15    \n",
              "21    1       US       840   N151UW  JFK    CLT   96       541     6    15    \n",
              "22   -3       UA      1627   N76269  EWR    PBI  142      1023     6    10    \n",
              "23    1       US       690   N672AW  EWR    PHX  288      2133     6    25    \n",
              "24   -6       B6       929   N712JB  JFK    RSW  162      1074     6    30    \n",
              "25   30       B6      1099   N571JB  LGA    MCO  136       950     6    30    \n",
              "26  -34       UA       398   N505UA  JFK    LAX  335      2475     6    31    \n",
              "27   -2       B6       525   N556JB  JFK    TPA  151      1005     6    35    \n",
              "28    3       UA       596   N556UA  EWR    TPA  147       997     6    20    \n",
              "29   -4       UA      1701   N38417  EWR    FLL  151      1065     6    14    \n",
              "30    5       DL       807   N977AT  EWR    ATL  115       746     6    30    \n",
              "⋮   ⋮         ⋮       ⋮      ⋮       ⋮      ⋮    ⋮        ⋮        ⋮    ⋮     \n",
              "690   2       B6      2043   N599JB  EWR    PBI  144      1023     21   29    \n",
              "691  28       EV      4388   N17984  EWR    JAX  133       820     20   53    \n",
              "692 -30       AA       185   N332AA  JFK    LAX  328      2475     21   35    \n",
              "693   7       MQ      3384   N520MQ  LGA    CLT   90       544     21   15    \n",
              "694  35       UA       236   N406UA  EWR    TPA  151       997     20   46    \n",
              "695   7       B6       425   N579JB  JFK    TPA  160      1005     21   41    \n",
              "696   8       B6      2227   N273JB  EWR    MCO  144       937     21   45    \n",
              "697  -6       B6       985   N339JB  JFK    RDU   80       427     21   55    \n",
              "698  18       B6      1183   N634JB  JFK    MCO  151       944     21   59    \n",
              "699   4       B6      1901   N665JB  JFK    FLL  154      1069     21   55    \n",
              "700   4       B6      2053   N613JB  JFK    PBI  148      1028     21   55    \n",
              "701   3       B6       611   N519JB  JFK    LAS  305      2248     21   35    \n",
              "702  59       UA      1682   N78524  EWR    FLL  151      1065     20   30    \n",
              "703  28       B6       702   N198JB  JFK    BUF   59       301     21   36    \n",
              "704  24       MQ      3621   N844MQ  JFK    DCA   42       213     21   30    \n",
              "705  83       B6       775   N258JB  JFK    MSY  192      1182     21   10    \n",
              "706   7       B6      1203   N618JB  JFK    SJU  194      1598     22   19    \n",
              "707  12       B6       486   N203JB  JFK    ROC   54       264     22   45    \n",
              "708  15       B6       234   N316JB  JFK    BTV   43       266     22   45    \n",
              "709  14       B6      1816   N358JB  JFK    SYR   44       209     22   50    \n",
              "710  22       B6       108   N279JB  JFK    PWM   46       273     22   45    \n",
              "711 -21       B6      1389   N554JB  EWR    SJU  199      1608     23   30    \n",
              "712 -11       B6      1503   N531JB  JFK    SJU  198      1598     23   59    \n",
              "713   4       DL      2380   N713TW  JFK    SJU  196      1598     23   55    \n",
              "714   1       B6       745   N636JB  JFK    PSE  204      1617     23   59    \n",
              "715  -4       B6       839   N784JB  JFK    BQN  194      1576     23   59    \n",
              "716  NA       DL      2231   N312US  LGA    DTW   NA       502     16   30    \n",
              "717  NA       MQ      2840   N8EGMQ  LGA    STL   NA       888     15   25    \n",
              "718  NA       MQ      3230   N524MQ  JFK    DCA   NA       213     11    0    \n",
              "719  NA       MQ      3535   N509MQ  JFK    CMH   NA       483     19   30    \n",
              "    time_hour          \n",
              "1   2013-12-25 05:00:00\n",
              "2   2013-12-25 05:00:00\n",
              "3   2013-12-25 05:00:00\n",
              "4   2013-12-25 05:00:00\n",
              "5   2013-12-25 06:00:00\n",
              "6   2013-12-25 06:00:00\n",
              "7   2013-12-25 06:00:00\n",
              "8   2013-12-25 06:00:00\n",
              "9   2013-12-25 06:00:00\n",
              "10  2013-12-25 06:00:00\n",
              "11  2013-12-25 06:00:00\n",
              "12  2013-12-25 06:00:00\n",
              "13  2013-12-25 06:00:00\n",
              "14  2013-12-25 06:00:00\n",
              "15  2013-12-25 06:00:00\n",
              "16  2013-12-25 06:00:00\n",
              "17  2013-12-25 06:00:00\n",
              "18  2013-12-25 06:00:00\n",
              "19  2013-12-25 06:00:00\n",
              "20  2013-12-25 06:00:00\n",
              "21  2013-12-25 06:00:00\n",
              "22  2013-12-25 06:00:00\n",
              "23  2013-12-25 06:00:00\n",
              "24  2013-12-25 06:00:00\n",
              "25  2013-12-25 06:00:00\n",
              "26  2013-12-25 06:00:00\n",
              "27  2013-12-25 06:00:00\n",
              "28  2013-12-25 06:00:00\n",
              "29  2013-12-25 06:00:00\n",
              "30  2013-12-25 06:00:00\n",
              "⋮   ⋮                  \n",
              "690 2013-12-25 21:00:00\n",
              "691 2013-12-25 20:00:00\n",
              "692 2013-12-25 21:00:00\n",
              "693 2013-12-25 21:00:00\n",
              "694 2013-12-25 20:00:00\n",
              "695 2013-12-25 21:00:00\n",
              "696 2013-12-25 21:00:00\n",
              "697 2013-12-25 21:00:00\n",
              "698 2013-12-25 21:00:00\n",
              "699 2013-12-25 21:00:00\n",
              "700 2013-12-25 21:00:00\n",
              "701 2013-12-25 21:00:00\n",
              "702 2013-12-25 20:00:00\n",
              "703 2013-12-25 21:00:00\n",
              "704 2013-12-25 21:00:00\n",
              "705 2013-12-25 21:00:00\n",
              "706 2013-12-25 22:00:00\n",
              "707 2013-12-25 22:00:00\n",
              "708 2013-12-25 22:00:00\n",
              "709 2013-12-25 22:00:00\n",
              "710 2013-12-25 22:00:00\n",
              "711 2013-12-25 23:00:00\n",
              "712 2013-12-25 23:00:00\n",
              "713 2013-12-25 23:00:00\n",
              "714 2013-12-25 23:00:00\n",
              "715 2013-12-25 23:00:00\n",
              "716 2013-12-25 16:00:00\n",
              "717 2013-12-25 15:00:00\n",
              "718 2013-12-25 11:00:00\n",
              "719 2013-12-25 19:00:00"
            ]
          },
          "metadata": {}
        }
      ]
    },
    {
      "cell_type": "markdown",
      "source": [
        "Esto crea un nuevo conjunto de datos, pero **no se guarda**, además, **NO** se modifica el conjunto de datos original. Para guardarlo, por ejemplo los vuelos en navidad:"
      ],
      "metadata": {
        "id": "NdAj25USzAMX"
      }
    },
    {
      "cell_type": "code",
      "source": [
        "vuelos_navidad <- filter(flights, month == 12, day == 25)"
      ],
      "metadata": {
        "id": "Dvsh8jS9zFWZ"
      },
      "execution_count": 21,
      "outputs": []
    },
    {
      "cell_type": "code",
      "source": [],
      "metadata": {
        "id": "vRXhwpD0zIGX"
      },
      "execution_count": null,
      "outputs": []
    },
    {
      "cell_type": "code",
      "source": [],
      "metadata": {
        "id": "09UvVjh5zBP4"
      },
      "execution_count": null,
      "outputs": []
    },
    {
      "cell_type": "code",
      "source": [],
      "metadata": {
        "id": "ryWXejMYy8nd"
      },
      "execution_count": null,
      "outputs": []
    },
    {
      "cell_type": "code",
      "source": [],
      "metadata": {
        "id": "IgZEqYM9ymnJ"
      },
      "execution_count": null,
      "outputs": []
    },
    {
      "cell_type": "markdown",
      "source": [
        "## data.table\n",
        "\n",
        "`data.table` es una alternativa de alto rendimiento a `data.frame`, optimizada para manejar grandes volúmenes de datos de forma eficiente. Su sintaxis concisa permite combinar filtrado, selección y agrupación en una sola línea:\n",
        "\n",
        "``` r\n",
        "DT[i, j, by]\n",
        "```\n",
        "\n",
        "-   `i`: condiciones para filtrar filas.\n",
        "-   `j`: operaciones sobre columnas.\n",
        "-   `by`: agrupamiento por variables.\n",
        "\n",
        "Ventajas: - Muy eficiente en términos de velocidad y uso de memoria. - Permite modificar datos sin copiar (in-place). - Ideal para trabajar con millones de filas.\n",
        "\n",
        "------------------------------------------------------------------------\n"
      ],
      "metadata": {
        "id": "HHmck1XHxkxI"
      }
    },
    {
      "cell_type": "code",
      "source": [],
      "metadata": {
        "id": "Y1v67UqRw6go"
      },
      "execution_count": null,
      "outputs": []
    },
    {
      "cell_type": "code",
      "source": [],
      "metadata": {
        "id": "8z9qXQiYxSZQ"
      },
      "execution_count": null,
      "outputs": []
    },
    {
      "cell_type": "code",
      "source": [],
      "metadata": {
        "id": "GkycayafvUHK"
      },
      "execution_count": 13,
      "outputs": []
    },
    {
      "cell_type": "code",
      "source": [],
      "metadata": {
        "id": "vFh7iHY5rZLq"
      },
      "execution_count": 14,
      "outputs": []
    }
  ]
}