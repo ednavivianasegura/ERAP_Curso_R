{
  "cells": [
    {
      "cell_type": "markdown",
      "metadata": {
        "id": "view-in-github",
        "colab_type": "text"
      },
      "source": [
        "<a href=\"https://colab.research.google.com/github/ednavivianasegura/ERAP_Curso_R/blob/main/ERAP_R_Course_ModuloI.ipynb\" target=\"_parent\"><img src=\"https://colab.research.google.com/assets/colab-badge.svg\" alt=\"Open In Colab\"/></a>"
      ]
    },
    {
      "cell_type": "markdown",
      "metadata": {
        "id": "4Cl1dG5guaUP"
      },
      "source": [
        "**Título**:  Manipulación de datos con R                                 \n",
        "                                          \n",
        "**Autor(es)**:  Edna Viviana Segura Alvarado - Hans Mauricio Carrillo Hernández\n",
        "\n",
        "**Fecha**: 2025-05\n",
        "\n",
        "**Institución**: Universidad de La Rioja    "
      ]
    },
    {
      "cell_type": "markdown",
      "metadata": {
        "id": "R-3UJKkSoXrm"
      },
      "source": [
        "**Contenido del curso:**\n",
        "\n",
        "**Módulo 1**: Manipulación de Datos con dplyr y data.table  \n",
        "\n",
        "Objetivo: Aprender a manipular y transformar datos usando las herramientas más comunes de R.\n",
        "\n",
        "**Módulo 2**: Manejo de Datos Desordenados y Falta de Información\n",
        "\n",
        "Objetivo: Aprender a limpiar datos desordenados, manejar datos faltantes y formatear conjuntos de datos.\n",
        "\n",
        "**Módulo 3**: Visualización de Datos con ggplot2\n",
        "\n",
        "Objetivo: Crear gráficos avanzados para analizar visualmente los datos utilizando ggplot2.\n",
        "\n",
        "**Módulo 4**: Exploración de Datos y Estadística Descriptiva\n",
        "\n",
        "Objetivo: Aplicar métodos estadísticos para explorar y describir conjuntos de datos.\n",
        "\n",
        "# Modulo I: Manipulación de Datos con dplyr y data.table: introducción\n",
        "\n",
        "En esta sección se presentan dos de las librerías más potentes para manipulación de datos en R: **`dplyr`** y **`data.table`**.\n",
        "\n",
        "Por su sencillez, desde el punto de vista académico, iniciaremos con Dplyr, luego repetiremos los ejercicios con data.table, mostrando sus diferencias y bondades.\n",
        "-------------------------------------------------------------------\n",
        "\n"
      ]
    },
    {
      "cell_type": "code",
      "execution_count": 1,
      "metadata": {
        "collapsed": true,
        "id": "CzG3mDIin_q1",
        "outputId": "c2dc85aa-bad9-4453-ab2a-0a3dd3b7740a",
        "colab": {
          "base_uri": "https://localhost:8080/"
        }
      },
      "outputs": [
        {
          "output_type": "stream",
          "name": "stderr",
          "text": [
            "── \u001b[1mAttaching core tidyverse packages\u001b[22m ──────────────────────── tidyverse 2.0.0 ──\n",
            "\u001b[32m✔\u001b[39m \u001b[34mdplyr    \u001b[39m 1.1.4     \u001b[32m✔\u001b[39m \u001b[34mreadr    \u001b[39m 2.1.5\n",
            "\u001b[32m✔\u001b[39m \u001b[34mforcats  \u001b[39m 1.0.0     \u001b[32m✔\u001b[39m \u001b[34mstringr  \u001b[39m 1.5.1\n",
            "\u001b[32m✔\u001b[39m \u001b[34mggplot2  \u001b[39m 3.5.2     \u001b[32m✔\u001b[39m \u001b[34mtibble   \u001b[39m 3.2.1\n",
            "\u001b[32m✔\u001b[39m \u001b[34mlubridate\u001b[39m 1.9.4     \u001b[32m✔\u001b[39m \u001b[34mtidyr    \u001b[39m 1.3.1\n",
            "\u001b[32m✔\u001b[39m \u001b[34mpurrr    \u001b[39m 1.0.4     \n",
            "── \u001b[1mConflicts\u001b[22m ────────────────────────────────────────── tidyverse_conflicts() ──\n",
            "\u001b[31m✖\u001b[39m \u001b[34mdplyr\u001b[39m::\u001b[32mfilter()\u001b[39m masks \u001b[34mstats\u001b[39m::filter()\n",
            "\u001b[31m✖\u001b[39m \u001b[34mdplyr\u001b[39m::\u001b[32mlag()\u001b[39m    masks \u001b[34mstats\u001b[39m::lag()\n",
            "\u001b[36mℹ\u001b[39m Use the conflicted package (\u001b[3m\u001b[34m<http://conflicted.r-lib.org/>\u001b[39m\u001b[23m) to force all conflicts to become errors\n",
            "\n",
            "Attaching package: ‘data.table’\n",
            "\n",
            "\n",
            "The following objects are masked from ‘package:lubridate’:\n",
            "\n",
            "    hour, isoweek, mday, minute, month, quarter, second, wday, week,\n",
            "    yday, year\n",
            "\n",
            "\n",
            "The following objects are masked from ‘package:dplyr’:\n",
            "\n",
            "    between, first, last\n",
            "\n",
            "\n",
            "The following object is masked from ‘package:purrr’:\n",
            "\n",
            "    transpose\n",
            "\n",
            "\n",
            "Installing package into ‘/usr/local/lib/R/site-library’\n",
            "(as ‘lib’ is unspecified)\n",
            "\n",
            "also installing the dependencies ‘mnormt’, ‘GPArotation’\n",
            "\n",
            "\n",
            "\n",
            "Attaching package: ‘psych’\n",
            "\n",
            "\n",
            "The following objects are masked from ‘package:ggplot2’:\n",
            "\n",
            "    %+%, alpha\n",
            "\n",
            "\n",
            "Installing package into ‘/usr/local/lib/R/site-library’\n",
            "(as ‘lib’ is unspecified)\n",
            "\n",
            "Installing package into ‘/usr/local/lib/R/site-library’\n",
            "(as ‘lib’ is unspecified)\n",
            "\n"
          ]
        }
      ],
      "source": [
        "# @title Librerías: (Instalación e importación)\n",
        "\n",
        "# Función para instalar si no está instalado\n",
        "instalar_si_no <- function(paquete) {\n",
        "    if (!requireNamespace(paquete, quietly = TRUE)) {\n",
        "    install.packages(paquete, repos = \"https://cloud.r-project.org\")\n",
        "  }\n",
        "  library(paquete, character.only = TRUE)\n",
        "}\n",
        "\n",
        "# Lista de paquetes a verificar\n",
        "paquetes <- c(\"tidyverse\", \"data.table\", \"psych\", \"moments\", \"nycflights13\", \"dplyr\")\n",
        "\n",
        "# Instalar y cargar todos\n",
        "invisible(lapply(paquetes, instalar_si_no))"
      ]
    },
    {
      "cell_type": "markdown",
      "metadata": {
        "id": "-lI0BIz2yHRA"
      },
      "source": [
        "## dplyr\n",
        "\n",
        "`dplyr` forma parte del ecosistema **tidyverse**, diseñado para trabajar con datos de forma ordenada, clara y legible. Utiliza funciones denominadas *verbos* para transformar data frames:\n",
        "\n",
        "-   `filter()`: selecciona filas según condiciones lógicas.\n",
        "-   `select()`: selecciona columnas específicas también teniendo en cuenta condiciones.\n",
        "-   `mutate()`: crea nuevas variables o transforma existentes.\n",
        "-   `arrange()`: ordena filas.\n",
        "-   `group_by()` + `summarise()`: agrupa y resume datos.\n",
        "\n",
        "------------------------------------------------------------------------\n",
        "\n",
        "**¿Qué es tidyverse?**\n",
        "\n",
        "El **tidyverse** es una colección de paquetes R con una filosofía de diseño común: trabajar con datos ordenados (*tidy data*).\n",
        "\n",
        "**Principales paquetes del tidyverse:**\n",
        "\n",
        "| Paquete         | Función principal                              |\n",
        "|-----------------|------------------------------------------------|\n",
        "| ***`dplyr`***   | Manipulación de datos                          |\n",
        "| ***`ggplot2`*** | Visualización de datos                         |\n",
        "| `tidyr`         | Transformación y ordenación de datos           |\n",
        "| `readr`         | Lectura eficiente de archivos CSV y planos     |\n",
        "| ***`tibble`***  | Versión moderna de `data.frame`                |\n",
        "| `stringr`       | Manipulación de cadenas de texto               |\n",
        "| `forcats`       | Manejo de factores (variables categóricas)     |\n",
        "| `purrr`         | Programación funcional sobre listas y vectores |\n",
        "\n",
        "------------------------------------------------------------------------\n"
      ]
    },
    {
      "cell_type": "code",
      "execution_count": 2,
      "metadata": {
        "id": "o5w4jAkKn5yT"
      },
      "outputs": [],
      "source": [
        "?tidyverse"
      ]
    },
    {
      "cell_type": "markdown",
      "metadata": {
        "id": "n13UmL9dp1Sl"
      },
      "source": [
        "\n",
        "**Bibliografía recomendada**\n",
        "\n",
        "- [Web oficial de tidyverse](https://www.tidyverse.org)\n",
        "\n",
        "\n",
        "-   Wickham, H., & Grolemund, G. (2023). *R para ciencia de datos*.\\\n",
        "    Disponible en línea:\\\n",
        "    <https://r4ds.had.co.nz>\n",
        "    \n",
        "-   Dowle, M., & Srinivasan, A. (2024). *data.table: Extension of `data.frame`*. Paquete R. Disponible en: <https://cran.r-project.org/package=data.table>\n",
        "\n",
        "- Información sobre los data sets a usar: [nycflights13](https://cran.r-project.org/web/packages/nycflights13/nycflights13.pdf)"
      ]
    },
    {
      "cell_type": "markdown",
      "metadata": {
        "id": "yp-ohPztqELR"
      },
      "source": [
        "**Introducción al paquete de los datos a usar `nycflights13`**\n",
        "\n",
        "El paquete `nycflights13` contiene datos reales sobre todos los vuelos que salieron desde los aeropuertos de Nueva York durante el año 2013.\n",
        "\n",
        "**¿Qué datos contiene el paquete?**\n",
        "\n",
        "El paquete incluye 5 tablas principales:\n",
        "\n",
        "-   `flights`: datos de vuelos\n",
        "-   `airlines`: aerolíneas\n",
        "-   `airports`: aeropuertos\n",
        "-   `planes`: aviones\n",
        "-   `weather`: clima\n",
        "\n",
        "Podemos acceder a cada una directamente por su nombre:"
      ]
    },
    {
      "cell_type": "code",
      "execution_count": 4,
      "metadata": {
        "id": "n27peqfjqPRA",
        "outputId": "22d1a498-cffa-49dc-9f17-13b6d77537ef",
        "colab": {
          "base_uri": "https://localhost:8080/",
          "height": 264
        }
      },
      "outputs": [
        {
          "output_type": "display_data",
          "data": {
            "text/html": [
              "<table class=\"dataframe\">\n",
              "<caption>A tibble: 3 × 19</caption>\n",
              "<thead>\n",
              "\t<tr><th scope=col>year</th><th scope=col>month</th><th scope=col>day</th><th scope=col>dep_time</th><th scope=col>sched_dep_time</th><th scope=col>dep_delay</th><th scope=col>arr_time</th><th scope=col>sched_arr_time</th><th scope=col>arr_delay</th><th scope=col>carrier</th><th scope=col>flight</th><th scope=col>tailnum</th><th scope=col>origin</th><th scope=col>dest</th><th scope=col>air_time</th><th scope=col>distance</th><th scope=col>hour</th><th scope=col>minute</th><th scope=col>time_hour</th></tr>\n",
              "\t<tr><th scope=col>&lt;int&gt;</th><th scope=col>&lt;int&gt;</th><th scope=col>&lt;int&gt;</th><th scope=col>&lt;int&gt;</th><th scope=col>&lt;int&gt;</th><th scope=col>&lt;dbl&gt;</th><th scope=col>&lt;int&gt;</th><th scope=col>&lt;int&gt;</th><th scope=col>&lt;dbl&gt;</th><th scope=col>&lt;chr&gt;</th><th scope=col>&lt;int&gt;</th><th scope=col>&lt;chr&gt;</th><th scope=col>&lt;chr&gt;</th><th scope=col>&lt;chr&gt;</th><th scope=col>&lt;dbl&gt;</th><th scope=col>&lt;dbl&gt;</th><th scope=col>&lt;dbl&gt;</th><th scope=col>&lt;dbl&gt;</th><th scope=col>&lt;dttm&gt;</th></tr>\n",
              "</thead>\n",
              "<tbody>\n",
              "\t<tr><td>2013</td><td>1</td><td>1</td><td>517</td><td>515</td><td>2</td><td>830</td><td>819</td><td>11</td><td>UA</td><td>1545</td><td>N14228</td><td>EWR</td><td>IAH</td><td>227</td><td>1400</td><td>5</td><td>15</td><td>2013-01-01 05:00:00</td></tr>\n",
              "\t<tr><td>2013</td><td>1</td><td>1</td><td>533</td><td>529</td><td>4</td><td>850</td><td>830</td><td>20</td><td>UA</td><td>1714</td><td>N24211</td><td>LGA</td><td>IAH</td><td>227</td><td>1416</td><td>5</td><td>29</td><td>2013-01-01 05:00:00</td></tr>\n",
              "\t<tr><td>2013</td><td>1</td><td>1</td><td>542</td><td>540</td><td>2</td><td>923</td><td>850</td><td>33</td><td>AA</td><td>1141</td><td>N619AA</td><td>JFK</td><td>MIA</td><td>160</td><td>1089</td><td>5</td><td>40</td><td>2013-01-01 05:00:00</td></tr>\n",
              "</tbody>\n",
              "</table>\n"
            ],
            "text/markdown": "\nA tibble: 3 × 19\n\n| year &lt;int&gt; | month &lt;int&gt; | day &lt;int&gt; | dep_time &lt;int&gt; | sched_dep_time &lt;int&gt; | dep_delay &lt;dbl&gt; | arr_time &lt;int&gt; | sched_arr_time &lt;int&gt; | arr_delay &lt;dbl&gt; | carrier &lt;chr&gt; | flight &lt;int&gt; | tailnum &lt;chr&gt; | origin &lt;chr&gt; | dest &lt;chr&gt; | air_time &lt;dbl&gt; | distance &lt;dbl&gt; | hour &lt;dbl&gt; | minute &lt;dbl&gt; | time_hour &lt;dttm&gt; |\n|---|---|---|---|---|---|---|---|---|---|---|---|---|---|---|---|---|---|---|\n| 2013 | 1 | 1 | 517 | 515 | 2 | 830 | 819 | 11 | UA | 1545 | N14228 | EWR | IAH | 227 | 1400 | 5 | 15 | 2013-01-01 05:00:00 |\n| 2013 | 1 | 1 | 533 | 529 | 4 | 850 | 830 | 20 | UA | 1714 | N24211 | LGA | IAH | 227 | 1416 | 5 | 29 | 2013-01-01 05:00:00 |\n| 2013 | 1 | 1 | 542 | 540 | 2 | 923 | 850 | 33 | AA | 1141 | N619AA | JFK | MIA | 160 | 1089 | 5 | 40 | 2013-01-01 05:00:00 |\n\n",
            "text/latex": "A tibble: 3 × 19\n\\begin{tabular}{lllllllllllllllllll}\n year & month & day & dep\\_time & sched\\_dep\\_time & dep\\_delay & arr\\_time & sched\\_arr\\_time & arr\\_delay & carrier & flight & tailnum & origin & dest & air\\_time & distance & hour & minute & time\\_hour\\\\\n <int> & <int> & <int> & <int> & <int> & <dbl> & <int> & <int> & <dbl> & <chr> & <int> & <chr> & <chr> & <chr> & <dbl> & <dbl> & <dbl> & <dbl> & <dttm>\\\\\n\\hline\n\t 2013 & 1 & 1 & 517 & 515 & 2 & 830 & 819 & 11 & UA & 1545 & N14228 & EWR & IAH & 227 & 1400 & 5 & 15 & 2013-01-01 05:00:00\\\\\n\t 2013 & 1 & 1 & 533 & 529 & 4 & 850 & 830 & 20 & UA & 1714 & N24211 & LGA & IAH & 227 & 1416 & 5 & 29 & 2013-01-01 05:00:00\\\\\n\t 2013 & 1 & 1 & 542 & 540 & 2 & 923 & 850 & 33 & AA & 1141 & N619AA & JFK & MIA & 160 & 1089 & 5 & 40 & 2013-01-01 05:00:00\\\\\n\\end{tabular}\n",
            "text/plain": [
              "  year month day dep_time sched_dep_time dep_delay arr_time sched_arr_time\n",
              "1 2013 1     1   517      515            2         830      819           \n",
              "2 2013 1     1   533      529            4         850      830           \n",
              "3 2013 1     1   542      540            2         923      850           \n",
              "  arr_delay carrier flight tailnum origin dest air_time distance hour minute\n",
              "1 11        UA      1545   N14228  EWR    IAH  227      1400     5    15    \n",
              "2 20        UA      1714   N24211  LGA    IAH  227      1416     5    29    \n",
              "3 33        AA      1141   N619AA  JFK    MIA  160      1089     5    40    \n",
              "  time_hour          \n",
              "1 2013-01-01 05:00:00\n",
              "2 2013-01-01 05:00:00\n",
              "3 2013-01-01 05:00:00"
            ]
          },
          "metadata": {}
        }
      ],
      "source": [
        "head(flights,3)"
      ]
    },
    {
      "cell_type": "code",
      "execution_count": 5,
      "metadata": {
        "id": "5OevChNCqSfE",
        "outputId": "e16be4d3-6f98-45d9-a31a-783ac2c134da",
        "colab": {
          "base_uri": "https://localhost:8080/",
          "height": 286
        }
      },
      "outputs": [
        {
          "output_type": "display_data",
          "data": {
            "text/html": [
              "<table class=\"dataframe\">\n",
              "<caption>A tibble: 6 × 2</caption>\n",
              "<thead>\n",
              "\t<tr><th scope=col>carrier</th><th scope=col>name</th></tr>\n",
              "\t<tr><th scope=col>&lt;chr&gt;</th><th scope=col>&lt;chr&gt;</th></tr>\n",
              "</thead>\n",
              "<tbody>\n",
              "\t<tr><td>9E</td><td>Endeavor Air Inc.       </td></tr>\n",
              "\t<tr><td>AA</td><td>American Airlines Inc.  </td></tr>\n",
              "\t<tr><td>AS</td><td>Alaska Airlines Inc.    </td></tr>\n",
              "\t<tr><td>B6</td><td>JetBlue Airways         </td></tr>\n",
              "\t<tr><td>DL</td><td>Delta Air Lines Inc.    </td></tr>\n",
              "\t<tr><td>EV</td><td>ExpressJet Airlines Inc.</td></tr>\n",
              "</tbody>\n",
              "</table>\n"
            ],
            "text/markdown": "\nA tibble: 6 × 2\n\n| carrier &lt;chr&gt; | name &lt;chr&gt; |\n|---|---|\n| 9E | Endeavor Air Inc.        |\n| AA | American Airlines Inc.   |\n| AS | Alaska Airlines Inc.     |\n| B6 | JetBlue Airways          |\n| DL | Delta Air Lines Inc.     |\n| EV | ExpressJet Airlines Inc. |\n\n",
            "text/latex": "A tibble: 6 × 2\n\\begin{tabular}{ll}\n carrier & name\\\\\n <chr> & <chr>\\\\\n\\hline\n\t 9E & Endeavor Air Inc.       \\\\\n\t AA & American Airlines Inc.  \\\\\n\t AS & Alaska Airlines Inc.    \\\\\n\t B6 & JetBlue Airways         \\\\\n\t DL & Delta Air Lines Inc.    \\\\\n\t EV & ExpressJet Airlines Inc.\\\\\n\\end{tabular}\n",
            "text/plain": [
              "  carrier name                    \n",
              "1 9E      Endeavor Air Inc.       \n",
              "2 AA      American Airlines Inc.  \n",
              "3 AS      Alaska Airlines Inc.    \n",
              "4 B6      JetBlue Airways         \n",
              "5 DL      Delta Air Lines Inc.    \n",
              "6 EV      ExpressJet Airlines Inc."
            ]
          },
          "metadata": {}
        }
      ],
      "source": [
        "head(airlines)"
      ]
    },
    {
      "cell_type": "code",
      "execution_count": 6,
      "metadata": {
        "id": "01se4qpeqiCs",
        "outputId": "e5fd11a8-9244-49f3-fc43-7910a2204cd1",
        "colab": {
          "base_uri": "https://localhost:8080/",
          "height": 286
        }
      },
      "outputs": [
        {
          "output_type": "display_data",
          "data": {
            "text/html": [
              "<table class=\"dataframe\">\n",
              "<caption>A tibble: 6 × 8</caption>\n",
              "<thead>\n",
              "\t<tr><th scope=col>faa</th><th scope=col>name</th><th scope=col>lat</th><th scope=col>lon</th><th scope=col>alt</th><th scope=col>tz</th><th scope=col>dst</th><th scope=col>tzone</th></tr>\n",
              "\t<tr><th scope=col>&lt;chr&gt;</th><th scope=col>&lt;chr&gt;</th><th scope=col>&lt;dbl&gt;</th><th scope=col>&lt;dbl&gt;</th><th scope=col>&lt;dbl&gt;</th><th scope=col>&lt;dbl&gt;</th><th scope=col>&lt;chr&gt;</th><th scope=col>&lt;chr&gt;</th></tr>\n",
              "</thead>\n",
              "<tbody>\n",
              "\t<tr><td>04G</td><td>Lansdowne Airport             </td><td>41.13047</td><td>-80.61958</td><td>1044</td><td>-5</td><td>A</td><td>America/New_York</td></tr>\n",
              "\t<tr><td>06A</td><td>Moton Field Municipal Airport </td><td>32.46057</td><td>-85.68003</td><td> 264</td><td>-6</td><td>A</td><td>America/Chicago </td></tr>\n",
              "\t<tr><td>06C</td><td>Schaumburg Regional           </td><td>41.98934</td><td>-88.10124</td><td> 801</td><td>-6</td><td>A</td><td>America/Chicago </td></tr>\n",
              "\t<tr><td>06N</td><td>Randall Airport               </td><td>41.43191</td><td>-74.39156</td><td> 523</td><td>-5</td><td>A</td><td>America/New_York</td></tr>\n",
              "\t<tr><td>09J</td><td>Jekyll Island Airport         </td><td>31.07447</td><td>-81.42778</td><td>  11</td><td>-5</td><td>A</td><td>America/New_York</td></tr>\n",
              "\t<tr><td>0A9</td><td>Elizabethton Municipal Airport</td><td>36.37122</td><td>-82.17342</td><td>1593</td><td>-5</td><td>A</td><td>America/New_York</td></tr>\n",
              "</tbody>\n",
              "</table>\n"
            ],
            "text/markdown": "\nA tibble: 6 × 8\n\n| faa &lt;chr&gt; | name &lt;chr&gt; | lat &lt;dbl&gt; | lon &lt;dbl&gt; | alt &lt;dbl&gt; | tz &lt;dbl&gt; | dst &lt;chr&gt; | tzone &lt;chr&gt; |\n|---|---|---|---|---|---|---|---|\n| 04G | Lansdowne Airport              | 41.13047 | -80.61958 | 1044 | -5 | A | America/New_York |\n| 06A | Moton Field Municipal Airport  | 32.46057 | -85.68003 |  264 | -6 | A | America/Chicago  |\n| 06C | Schaumburg Regional            | 41.98934 | -88.10124 |  801 | -6 | A | America/Chicago  |\n| 06N | Randall Airport                | 41.43191 | -74.39156 |  523 | -5 | A | America/New_York |\n| 09J | Jekyll Island Airport          | 31.07447 | -81.42778 |   11 | -5 | A | America/New_York |\n| 0A9 | Elizabethton Municipal Airport | 36.37122 | -82.17342 | 1593 | -5 | A | America/New_York |\n\n",
            "text/latex": "A tibble: 6 × 8\n\\begin{tabular}{llllllll}\n faa & name & lat & lon & alt & tz & dst & tzone\\\\\n <chr> & <chr> & <dbl> & <dbl> & <dbl> & <dbl> & <chr> & <chr>\\\\\n\\hline\n\t 04G & Lansdowne Airport              & 41.13047 & -80.61958 & 1044 & -5 & A & America/New\\_York\\\\\n\t 06A & Moton Field Municipal Airport  & 32.46057 & -85.68003 &  264 & -6 & A & America/Chicago \\\\\n\t 06C & Schaumburg Regional            & 41.98934 & -88.10124 &  801 & -6 & A & America/Chicago \\\\\n\t 06N & Randall Airport                & 41.43191 & -74.39156 &  523 & -5 & A & America/New\\_York\\\\\n\t 09J & Jekyll Island Airport          & 31.07447 & -81.42778 &   11 & -5 & A & America/New\\_York\\\\\n\t 0A9 & Elizabethton Municipal Airport & 36.37122 & -82.17342 & 1593 & -5 & A & America/New\\_York\\\\\n\\end{tabular}\n",
            "text/plain": [
              "  faa name                           lat      lon       alt  tz dst\n",
              "1 04G Lansdowne Airport              41.13047 -80.61958 1044 -5 A  \n",
              "2 06A Moton Field Municipal Airport  32.46057 -85.68003  264 -6 A  \n",
              "3 06C Schaumburg Regional            41.98934 -88.10124  801 -6 A  \n",
              "4 06N Randall Airport                41.43191 -74.39156  523 -5 A  \n",
              "5 09J Jekyll Island Airport          31.07447 -81.42778   11 -5 A  \n",
              "6 0A9 Elizabethton Municipal Airport 36.37122 -82.17342 1593 -5 A  \n",
              "  tzone           \n",
              "1 America/New_York\n",
              "2 America/Chicago \n",
              "3 America/Chicago \n",
              "4 America/New_York\n",
              "5 America/New_York\n",
              "6 America/New_York"
            ]
          },
          "metadata": {}
        }
      ],
      "source": [
        "head(airports)"
      ]
    },
    {
      "cell_type": "code",
      "execution_count": 7,
      "metadata": {
        "id": "6vbIbgRRqj9j",
        "outputId": "ad9e331c-e46d-47c7-e360-ae68fc52370c",
        "colab": {
          "base_uri": "https://localhost:8080/",
          "height": 286
        }
      },
      "outputs": [
        {
          "output_type": "display_data",
          "data": {
            "text/html": [
              "<table class=\"dataframe\">\n",
              "<caption>A tibble: 6 × 9</caption>\n",
              "<thead>\n",
              "\t<tr><th scope=col>tailnum</th><th scope=col>year</th><th scope=col>type</th><th scope=col>manufacturer</th><th scope=col>model</th><th scope=col>engines</th><th scope=col>seats</th><th scope=col>speed</th><th scope=col>engine</th></tr>\n",
              "\t<tr><th scope=col>&lt;chr&gt;</th><th scope=col>&lt;int&gt;</th><th scope=col>&lt;chr&gt;</th><th scope=col>&lt;chr&gt;</th><th scope=col>&lt;chr&gt;</th><th scope=col>&lt;int&gt;</th><th scope=col>&lt;int&gt;</th><th scope=col>&lt;int&gt;</th><th scope=col>&lt;chr&gt;</th></tr>\n",
              "</thead>\n",
              "<tbody>\n",
              "\t<tr><td>N10156</td><td>2004</td><td>Fixed wing multi engine</td><td>EMBRAER         </td><td>EMB-145XR</td><td>2</td><td> 55</td><td>NA</td><td>Turbo-fan</td></tr>\n",
              "\t<tr><td>N102UW</td><td>1998</td><td>Fixed wing multi engine</td><td>AIRBUS INDUSTRIE</td><td>A320-214 </td><td>2</td><td>182</td><td>NA</td><td>Turbo-fan</td></tr>\n",
              "\t<tr><td>N103US</td><td>1999</td><td>Fixed wing multi engine</td><td>AIRBUS INDUSTRIE</td><td>A320-214 </td><td>2</td><td>182</td><td>NA</td><td>Turbo-fan</td></tr>\n",
              "\t<tr><td>N104UW</td><td>1999</td><td>Fixed wing multi engine</td><td>AIRBUS INDUSTRIE</td><td>A320-214 </td><td>2</td><td>182</td><td>NA</td><td>Turbo-fan</td></tr>\n",
              "\t<tr><td>N10575</td><td>2002</td><td>Fixed wing multi engine</td><td>EMBRAER         </td><td>EMB-145LR</td><td>2</td><td> 55</td><td>NA</td><td>Turbo-fan</td></tr>\n",
              "\t<tr><td>N105UW</td><td>1999</td><td>Fixed wing multi engine</td><td>AIRBUS INDUSTRIE</td><td>A320-214 </td><td>2</td><td>182</td><td>NA</td><td>Turbo-fan</td></tr>\n",
              "</tbody>\n",
              "</table>\n"
            ],
            "text/markdown": "\nA tibble: 6 × 9\n\n| tailnum &lt;chr&gt; | year &lt;int&gt; | type &lt;chr&gt; | manufacturer &lt;chr&gt; | model &lt;chr&gt; | engines &lt;int&gt; | seats &lt;int&gt; | speed &lt;int&gt; | engine &lt;chr&gt; |\n|---|---|---|---|---|---|---|---|---|\n| N10156 | 2004 | Fixed wing multi engine | EMBRAER          | EMB-145XR | 2 |  55 | NA | Turbo-fan |\n| N102UW | 1998 | Fixed wing multi engine | AIRBUS INDUSTRIE | A320-214  | 2 | 182 | NA | Turbo-fan |\n| N103US | 1999 | Fixed wing multi engine | AIRBUS INDUSTRIE | A320-214  | 2 | 182 | NA | Turbo-fan |\n| N104UW | 1999 | Fixed wing multi engine | AIRBUS INDUSTRIE | A320-214  | 2 | 182 | NA | Turbo-fan |\n| N10575 | 2002 | Fixed wing multi engine | EMBRAER          | EMB-145LR | 2 |  55 | NA | Turbo-fan |\n| N105UW | 1999 | Fixed wing multi engine | AIRBUS INDUSTRIE | A320-214  | 2 | 182 | NA | Turbo-fan |\n\n",
            "text/latex": "A tibble: 6 × 9\n\\begin{tabular}{lllllllll}\n tailnum & year & type & manufacturer & model & engines & seats & speed & engine\\\\\n <chr> & <int> & <chr> & <chr> & <chr> & <int> & <int> & <int> & <chr>\\\\\n\\hline\n\t N10156 & 2004 & Fixed wing multi engine & EMBRAER          & EMB-145XR & 2 &  55 & NA & Turbo-fan\\\\\n\t N102UW & 1998 & Fixed wing multi engine & AIRBUS INDUSTRIE & A320-214  & 2 & 182 & NA & Turbo-fan\\\\\n\t N103US & 1999 & Fixed wing multi engine & AIRBUS INDUSTRIE & A320-214  & 2 & 182 & NA & Turbo-fan\\\\\n\t N104UW & 1999 & Fixed wing multi engine & AIRBUS INDUSTRIE & A320-214  & 2 & 182 & NA & Turbo-fan\\\\\n\t N10575 & 2002 & Fixed wing multi engine & EMBRAER          & EMB-145LR & 2 &  55 & NA & Turbo-fan\\\\\n\t N105UW & 1999 & Fixed wing multi engine & AIRBUS INDUSTRIE & A320-214  & 2 & 182 & NA & Turbo-fan\\\\\n\\end{tabular}\n",
            "text/plain": [
              "  tailnum year type                    manufacturer     model     engines seats\n",
              "1 N10156  2004 Fixed wing multi engine EMBRAER          EMB-145XR 2        55  \n",
              "2 N102UW  1998 Fixed wing multi engine AIRBUS INDUSTRIE A320-214  2       182  \n",
              "3 N103US  1999 Fixed wing multi engine AIRBUS INDUSTRIE A320-214  2       182  \n",
              "4 N104UW  1999 Fixed wing multi engine AIRBUS INDUSTRIE A320-214  2       182  \n",
              "5 N10575  2002 Fixed wing multi engine EMBRAER          EMB-145LR 2        55  \n",
              "6 N105UW  1999 Fixed wing multi engine AIRBUS INDUSTRIE A320-214  2       182  \n",
              "  speed engine   \n",
              "1 NA    Turbo-fan\n",
              "2 NA    Turbo-fan\n",
              "3 NA    Turbo-fan\n",
              "4 NA    Turbo-fan\n",
              "5 NA    Turbo-fan\n",
              "6 NA    Turbo-fan"
            ]
          },
          "metadata": {}
        }
      ],
      "source": [
        "head(planes)"
      ]
    },
    {
      "cell_type": "code",
      "execution_count": 8,
      "metadata": {
        "id": "1WDB1K3uqlgU",
        "outputId": "f05791da-19e8-46c1-9da1-1b97986356fd",
        "colab": {
          "base_uri": "https://localhost:8080/",
          "height": 286
        }
      },
      "outputs": [
        {
          "output_type": "display_data",
          "data": {
            "text/html": [
              "<table class=\"dataframe\">\n",
              "<caption>A tibble: 6 × 15</caption>\n",
              "<thead>\n",
              "\t<tr><th scope=col>origin</th><th scope=col>year</th><th scope=col>month</th><th scope=col>day</th><th scope=col>hour</th><th scope=col>temp</th><th scope=col>dewp</th><th scope=col>humid</th><th scope=col>wind_dir</th><th scope=col>wind_speed</th><th scope=col>wind_gust</th><th scope=col>precip</th><th scope=col>pressure</th><th scope=col>visib</th><th scope=col>time_hour</th></tr>\n",
              "\t<tr><th scope=col>&lt;chr&gt;</th><th scope=col>&lt;int&gt;</th><th scope=col>&lt;int&gt;</th><th scope=col>&lt;int&gt;</th><th scope=col>&lt;int&gt;</th><th scope=col>&lt;dbl&gt;</th><th scope=col>&lt;dbl&gt;</th><th scope=col>&lt;dbl&gt;</th><th scope=col>&lt;dbl&gt;</th><th scope=col>&lt;dbl&gt;</th><th scope=col>&lt;dbl&gt;</th><th scope=col>&lt;dbl&gt;</th><th scope=col>&lt;dbl&gt;</th><th scope=col>&lt;dbl&gt;</th><th scope=col>&lt;dttm&gt;</th></tr>\n",
              "</thead>\n",
              "<tbody>\n",
              "\t<tr><td>EWR</td><td>2013</td><td>1</td><td>1</td><td>1</td><td>39.02</td><td>26.06</td><td>59.37</td><td>270</td><td>10.35702</td><td>NA</td><td>0</td><td>1012.0</td><td>10</td><td>2013-01-01 01:00:00</td></tr>\n",
              "\t<tr><td>EWR</td><td>2013</td><td>1</td><td>1</td><td>2</td><td>39.02</td><td>26.96</td><td>61.63</td><td>250</td><td> 8.05546</td><td>NA</td><td>0</td><td>1012.3</td><td>10</td><td>2013-01-01 02:00:00</td></tr>\n",
              "\t<tr><td>EWR</td><td>2013</td><td>1</td><td>1</td><td>3</td><td>39.02</td><td>28.04</td><td>64.43</td><td>240</td><td>11.50780</td><td>NA</td><td>0</td><td>1012.5</td><td>10</td><td>2013-01-01 03:00:00</td></tr>\n",
              "\t<tr><td>EWR</td><td>2013</td><td>1</td><td>1</td><td>4</td><td>39.92</td><td>28.04</td><td>62.21</td><td>250</td><td>12.65858</td><td>NA</td><td>0</td><td>1012.2</td><td>10</td><td>2013-01-01 04:00:00</td></tr>\n",
              "\t<tr><td>EWR</td><td>2013</td><td>1</td><td>1</td><td>5</td><td>39.02</td><td>28.04</td><td>64.43</td><td>260</td><td>12.65858</td><td>NA</td><td>0</td><td>1011.9</td><td>10</td><td>2013-01-01 05:00:00</td></tr>\n",
              "\t<tr><td>EWR</td><td>2013</td><td>1</td><td>1</td><td>6</td><td>37.94</td><td>28.04</td><td>67.21</td><td>240</td><td>11.50780</td><td>NA</td><td>0</td><td>1012.4</td><td>10</td><td>2013-01-01 06:00:00</td></tr>\n",
              "</tbody>\n",
              "</table>\n"
            ],
            "text/markdown": "\nA tibble: 6 × 15\n\n| origin &lt;chr&gt; | year &lt;int&gt; | month &lt;int&gt; | day &lt;int&gt; | hour &lt;int&gt; | temp &lt;dbl&gt; | dewp &lt;dbl&gt; | humid &lt;dbl&gt; | wind_dir &lt;dbl&gt; | wind_speed &lt;dbl&gt; | wind_gust &lt;dbl&gt; | precip &lt;dbl&gt; | pressure &lt;dbl&gt; | visib &lt;dbl&gt; | time_hour &lt;dttm&gt; |\n|---|---|---|---|---|---|---|---|---|---|---|---|---|---|---|\n| EWR | 2013 | 1 | 1 | 1 | 39.02 | 26.06 | 59.37 | 270 | 10.35702 | NA | 0 | 1012.0 | 10 | 2013-01-01 01:00:00 |\n| EWR | 2013 | 1 | 1 | 2 | 39.02 | 26.96 | 61.63 | 250 |  8.05546 | NA | 0 | 1012.3 | 10 | 2013-01-01 02:00:00 |\n| EWR | 2013 | 1 | 1 | 3 | 39.02 | 28.04 | 64.43 | 240 | 11.50780 | NA | 0 | 1012.5 | 10 | 2013-01-01 03:00:00 |\n| EWR | 2013 | 1 | 1 | 4 | 39.92 | 28.04 | 62.21 | 250 | 12.65858 | NA | 0 | 1012.2 | 10 | 2013-01-01 04:00:00 |\n| EWR | 2013 | 1 | 1 | 5 | 39.02 | 28.04 | 64.43 | 260 | 12.65858 | NA | 0 | 1011.9 | 10 | 2013-01-01 05:00:00 |\n| EWR | 2013 | 1 | 1 | 6 | 37.94 | 28.04 | 67.21 | 240 | 11.50780 | NA | 0 | 1012.4 | 10 | 2013-01-01 06:00:00 |\n\n",
            "text/latex": "A tibble: 6 × 15\n\\begin{tabular}{lllllllllllllll}\n origin & year & month & day & hour & temp & dewp & humid & wind\\_dir & wind\\_speed & wind\\_gust & precip & pressure & visib & time\\_hour\\\\\n <chr> & <int> & <int> & <int> & <int> & <dbl> & <dbl> & <dbl> & <dbl> & <dbl> & <dbl> & <dbl> & <dbl> & <dbl> & <dttm>\\\\\n\\hline\n\t EWR & 2013 & 1 & 1 & 1 & 39.02 & 26.06 & 59.37 & 270 & 10.35702 & NA & 0 & 1012.0 & 10 & 2013-01-01 01:00:00\\\\\n\t EWR & 2013 & 1 & 1 & 2 & 39.02 & 26.96 & 61.63 & 250 &  8.05546 & NA & 0 & 1012.3 & 10 & 2013-01-01 02:00:00\\\\\n\t EWR & 2013 & 1 & 1 & 3 & 39.02 & 28.04 & 64.43 & 240 & 11.50780 & NA & 0 & 1012.5 & 10 & 2013-01-01 03:00:00\\\\\n\t EWR & 2013 & 1 & 1 & 4 & 39.92 & 28.04 & 62.21 & 250 & 12.65858 & NA & 0 & 1012.2 & 10 & 2013-01-01 04:00:00\\\\\n\t EWR & 2013 & 1 & 1 & 5 & 39.02 & 28.04 & 64.43 & 260 & 12.65858 & NA & 0 & 1011.9 & 10 & 2013-01-01 05:00:00\\\\\n\t EWR & 2013 & 1 & 1 & 6 & 37.94 & 28.04 & 67.21 & 240 & 11.50780 & NA & 0 & 1012.4 & 10 & 2013-01-01 06:00:00\\\\\n\\end{tabular}\n",
            "text/plain": [
              "  origin year month day hour temp  dewp  humid wind_dir wind_speed wind_gust\n",
              "1 EWR    2013 1     1   1    39.02 26.06 59.37 270      10.35702   NA       \n",
              "2 EWR    2013 1     1   2    39.02 26.96 61.63 250       8.05546   NA       \n",
              "3 EWR    2013 1     1   3    39.02 28.04 64.43 240      11.50780   NA       \n",
              "4 EWR    2013 1     1   4    39.92 28.04 62.21 250      12.65858   NA       \n",
              "5 EWR    2013 1     1   5    39.02 28.04 64.43 260      12.65858   NA       \n",
              "6 EWR    2013 1     1   6    37.94 28.04 67.21 240      11.50780   NA       \n",
              "  precip pressure visib time_hour          \n",
              "1 0      1012.0   10    2013-01-01 01:00:00\n",
              "2 0      1012.3   10    2013-01-01 02:00:00\n",
              "3 0      1012.5   10    2013-01-01 03:00:00\n",
              "4 0      1012.2   10    2013-01-01 04:00:00\n",
              "5 0      1011.9   10    2013-01-01 05:00:00\n",
              "6 0      1012.4   10    2013-01-01 06:00:00"
            ]
          },
          "metadata": {}
        }
      ],
      "source": [
        "head(weather)"
      ]
    },
    {
      "cell_type": "markdown",
      "metadata": {
        "id": "EQhqDuHarIFV"
      },
      "source": [
        "\n",
        "------------------------------------------------------------------------\n",
        "\n",
        "**Descripción general de las tablas**\n",
        "\n",
        "Utilizamos las funciones:\n",
        "\n",
        "dim(): para ver la dimensión de los datos.\n",
        "\n",
        "str(): para mostrar la estructura del objetos de manera compacta y legible.\n",
        "\n",
        "glimpse() : para mostrar un resumen estructural horizontal de los datos:\n",
        "\n",
        "-   `int` enteros.\n",
        "\n",
        "-   `dbl` dobles, o números reales.\n",
        "\n",
        "-   `chr` caracteres o cadenas.\n",
        "\n",
        "-   `dttm` fechas y horas (una fecha + una hora).\n",
        "\n",
        "Otros tres tipos comunes de variables:\n",
        "\n",
        "-   `lgl` significa lógico, `TRUE` (verdadero) o `FALSE` (falso).\n",
        "\n",
        "-   `fctr` significa factores (categóricos).\n",
        "\n",
        "-   `date` fechas.\n",
        "\n"
      ]
    },
    {
      "cell_type": "markdown",
      "metadata": {
        "id": "ffiQTVOxupcu"
      },
      "source": [
        "1. `flights` — Datos de vuelos\n"
      ]
    },
    {
      "cell_type": "code",
      "execution_count": 11,
      "metadata": {
        "id": "NdNfEfEsrWjp",
        "outputId": "3806e38a-1295-4e02-ee0e-74797f5dd5fb",
        "colab": {
          "base_uri": "https://localhost:8080/"
        }
      },
      "outputs": [
        {
          "output_type": "stream",
          "name": "stdout",
          "text": [
            "Rows: 336,776\n",
            "Columns: 19\n",
            "$ year           \u001b[3m\u001b[90m<int>\u001b[39m\u001b[23m 2013\u001b[90m, \u001b[39m2013\u001b[90m, \u001b[39m2013\u001b[90m, \u001b[39m2013\u001b[90m, \u001b[39m2013\u001b[90m, \u001b[39m2013\u001b[90m, \u001b[39m2013\u001b[90m, \u001b[39m2013\u001b[90m, \u001b[39m2013\u001b[90m, \u001b[39m2…\n",
            "$ month          \u001b[3m\u001b[90m<int>\u001b[39m\u001b[23m 1\u001b[90m, \u001b[39m1\u001b[90m, \u001b[39m1\u001b[90m, \u001b[39m1\u001b[90m, \u001b[39m1\u001b[90m, \u001b[39m1\u001b[90m, \u001b[39m1\u001b[90m, \u001b[39m1\u001b[90m, \u001b[39m1\u001b[90m, \u001b[39m1\u001b[90m, \u001b[39m1\u001b[90m, \u001b[39m1\u001b[90m, \u001b[39m1\u001b[90m, \u001b[39m1\u001b[90m, \u001b[39m1\u001b[90m, \u001b[39m1\u001b[90m, \u001b[39m1\u001b[90m, \u001b[39m1\u001b[90m, \u001b[39m1…\n",
            "$ day            \u001b[3m\u001b[90m<int>\u001b[39m\u001b[23m 1\u001b[90m, \u001b[39m1\u001b[90m, \u001b[39m1\u001b[90m, \u001b[39m1\u001b[90m, \u001b[39m1\u001b[90m, \u001b[39m1\u001b[90m, \u001b[39m1\u001b[90m, \u001b[39m1\u001b[90m, \u001b[39m1\u001b[90m, \u001b[39m1\u001b[90m, \u001b[39m1\u001b[90m, \u001b[39m1\u001b[90m, \u001b[39m1\u001b[90m, \u001b[39m1\u001b[90m, \u001b[39m1\u001b[90m, \u001b[39m1\u001b[90m, \u001b[39m1\u001b[90m, \u001b[39m1\u001b[90m, \u001b[39m1…\n",
            "$ dep_time       \u001b[3m\u001b[90m<int>\u001b[39m\u001b[23m 517\u001b[90m, \u001b[39m533\u001b[90m, \u001b[39m542\u001b[90m, \u001b[39m544\u001b[90m, \u001b[39m554\u001b[90m, \u001b[39m554\u001b[90m, \u001b[39m555\u001b[90m, \u001b[39m557\u001b[90m, \u001b[39m557\u001b[90m, \u001b[39m558\u001b[90m, \u001b[39m558\u001b[90m, \u001b[39m…\n",
            "$ sched_dep_time \u001b[3m\u001b[90m<int>\u001b[39m\u001b[23m 515\u001b[90m, \u001b[39m529\u001b[90m, \u001b[39m540\u001b[90m, \u001b[39m545\u001b[90m, \u001b[39m600\u001b[90m, \u001b[39m558\u001b[90m, \u001b[39m600\u001b[90m, \u001b[39m600\u001b[90m, \u001b[39m600\u001b[90m, \u001b[39m600\u001b[90m, \u001b[39m600\u001b[90m, \u001b[39m…\n",
            "$ dep_delay      \u001b[3m\u001b[90m<dbl>\u001b[39m\u001b[23m 2\u001b[90m, \u001b[39m4\u001b[90m, \u001b[39m2\u001b[90m, \u001b[39m-1\u001b[90m, \u001b[39m-6\u001b[90m, \u001b[39m-4\u001b[90m, \u001b[39m-5\u001b[90m, \u001b[39m-3\u001b[90m, \u001b[39m-3\u001b[90m, \u001b[39m-2\u001b[90m, \u001b[39m-2\u001b[90m, \u001b[39m-2\u001b[90m, \u001b[39m-2\u001b[90m, \u001b[39m-2\u001b[90m, \u001b[39m-1…\n",
            "$ arr_time       \u001b[3m\u001b[90m<int>\u001b[39m\u001b[23m 830\u001b[90m, \u001b[39m850\u001b[90m, \u001b[39m923\u001b[90m, \u001b[39m1004\u001b[90m, \u001b[39m812\u001b[90m, \u001b[39m740\u001b[90m, \u001b[39m913\u001b[90m, \u001b[39m709\u001b[90m, \u001b[39m838\u001b[90m, \u001b[39m753\u001b[90m, \u001b[39m849\u001b[90m,\u001b[39m…\n",
            "$ sched_arr_time \u001b[3m\u001b[90m<int>\u001b[39m\u001b[23m 819\u001b[90m, \u001b[39m830\u001b[90m, \u001b[39m850\u001b[90m, \u001b[39m1022\u001b[90m, \u001b[39m837\u001b[90m, \u001b[39m728\u001b[90m, \u001b[39m854\u001b[90m, \u001b[39m723\u001b[90m, \u001b[39m846\u001b[90m, \u001b[39m745\u001b[90m, \u001b[39m851\u001b[90m,\u001b[39m…\n",
            "$ arr_delay      \u001b[3m\u001b[90m<dbl>\u001b[39m\u001b[23m 11\u001b[90m, \u001b[39m20\u001b[90m, \u001b[39m33\u001b[90m, \u001b[39m-18\u001b[90m, \u001b[39m-25\u001b[90m, \u001b[39m12\u001b[90m, \u001b[39m19\u001b[90m, \u001b[39m-14\u001b[90m, \u001b[39m-8\u001b[90m, \u001b[39m8\u001b[90m, \u001b[39m-2\u001b[90m, \u001b[39m-3\u001b[90m, \u001b[39m7\u001b[90m, \u001b[39m-1…\n",
            "$ carrier        \u001b[3m\u001b[90m<chr>\u001b[39m\u001b[23m \"UA\"\u001b[90m, \u001b[39m\"UA\"\u001b[90m, \u001b[39m\"AA\"\u001b[90m, \u001b[39m\"B6\"\u001b[90m, \u001b[39m\"DL\"\u001b[90m, \u001b[39m\"UA\"\u001b[90m, \u001b[39m\"B6\"\u001b[90m, \u001b[39m\"EV\"\u001b[90m, \u001b[39m\"B6\"\u001b[90m, \u001b[39m\"…\n",
            "$ flight         \u001b[3m\u001b[90m<int>\u001b[39m\u001b[23m 1545\u001b[90m, \u001b[39m1714\u001b[90m, \u001b[39m1141\u001b[90m, \u001b[39m725\u001b[90m, \u001b[39m461\u001b[90m, \u001b[39m1696\u001b[90m, \u001b[39m507\u001b[90m, \u001b[39m5708\u001b[90m, \u001b[39m79\u001b[90m, \u001b[39m301\u001b[90m, \u001b[39m4…\n",
            "$ tailnum        \u001b[3m\u001b[90m<chr>\u001b[39m\u001b[23m \"N14228\"\u001b[90m, \u001b[39m\"N24211\"\u001b[90m, \u001b[39m\"N619AA\"\u001b[90m, \u001b[39m\"N804JB\"\u001b[90m, \u001b[39m\"N668DN\"\u001b[90m, \u001b[39m\"N394…\n",
            "$ origin         \u001b[3m\u001b[90m<chr>\u001b[39m\u001b[23m \"EWR\"\u001b[90m, \u001b[39m\"LGA\"\u001b[90m, \u001b[39m\"JFK\"\u001b[90m, \u001b[39m\"JFK\"\u001b[90m, \u001b[39m\"LGA\"\u001b[90m, \u001b[39m\"EWR\"\u001b[90m, \u001b[39m\"EWR\"\u001b[90m, \u001b[39m\"LGA\"\u001b[90m,\u001b[39m…\n",
            "$ dest           \u001b[3m\u001b[90m<chr>\u001b[39m\u001b[23m \"IAH\"\u001b[90m, \u001b[39m\"IAH\"\u001b[90m, \u001b[39m\"MIA\"\u001b[90m, \u001b[39m\"BQN\"\u001b[90m, \u001b[39m\"ATL\"\u001b[90m, \u001b[39m\"ORD\"\u001b[90m, \u001b[39m\"FLL\"\u001b[90m, \u001b[39m\"IAD\"\u001b[90m,\u001b[39m…\n",
            "$ air_time       \u001b[3m\u001b[90m<dbl>\u001b[39m\u001b[23m 227\u001b[90m, \u001b[39m227\u001b[90m, \u001b[39m160\u001b[90m, \u001b[39m183\u001b[90m, \u001b[39m116\u001b[90m, \u001b[39m150\u001b[90m, \u001b[39m158\u001b[90m, \u001b[39m53\u001b[90m, \u001b[39m140\u001b[90m, \u001b[39m138\u001b[90m, \u001b[39m149\u001b[90m, \u001b[39m1…\n",
            "$ distance       \u001b[3m\u001b[90m<dbl>\u001b[39m\u001b[23m 1400\u001b[90m, \u001b[39m1416\u001b[90m, \u001b[39m1089\u001b[90m, \u001b[39m1576\u001b[90m, \u001b[39m762\u001b[90m, \u001b[39m719\u001b[90m, \u001b[39m1065\u001b[90m, \u001b[39m229\u001b[90m, \u001b[39m944\u001b[90m, \u001b[39m733\u001b[90m, \u001b[39m…\n",
            "$ hour           \u001b[3m\u001b[90m<dbl>\u001b[39m\u001b[23m 5\u001b[90m, \u001b[39m5\u001b[90m, \u001b[39m5\u001b[90m, \u001b[39m5\u001b[90m, \u001b[39m6\u001b[90m, \u001b[39m5\u001b[90m, \u001b[39m6\u001b[90m, \u001b[39m6\u001b[90m, \u001b[39m6\u001b[90m, \u001b[39m6\u001b[90m, \u001b[39m6\u001b[90m, \u001b[39m6\u001b[90m, \u001b[39m6\u001b[90m, \u001b[39m6\u001b[90m, \u001b[39m6\u001b[90m, \u001b[39m5\u001b[90m, \u001b[39m6\u001b[90m, \u001b[39m6\u001b[90m, \u001b[39m6…\n",
            "$ minute         \u001b[3m\u001b[90m<dbl>\u001b[39m\u001b[23m 15\u001b[90m, \u001b[39m29\u001b[90m, \u001b[39m40\u001b[90m, \u001b[39m45\u001b[90m, \u001b[39m0\u001b[90m, \u001b[39m58\u001b[90m, \u001b[39m0\u001b[90m, \u001b[39m0\u001b[90m, \u001b[39m0\u001b[90m, \u001b[39m0\u001b[90m, \u001b[39m0\u001b[90m, \u001b[39m0\u001b[90m, \u001b[39m0\u001b[90m, \u001b[39m0\u001b[90m, \u001b[39m0\u001b[90m, \u001b[39m59\u001b[90m, \u001b[39m0…\n",
            "$ time_hour      \u001b[3m\u001b[90m<dttm>\u001b[39m\u001b[23m 2013-01-01 05:00:00\u001b[90m, \u001b[39m2013-01-01 05:00:00\u001b[90m, \u001b[39m2013-01-01 0…\n"
          ]
        }
      ],
      "source": [
        "#dim(flights)\n",
        "#str(flights)\n",
        "glimpse(flights)\n"
      ]
    },
    {
      "cell_type": "markdown",
      "metadata": {
        "id": "Zkssygk-u4LS"
      },
      "source": [
        "2. `airlines` — Información de aerolíneas"
      ]
    },
    {
      "cell_type": "code",
      "execution_count": 12,
      "metadata": {
        "id": "MdaKhgx2u5Ze",
        "outputId": "ab20dc01-ec00-4d9f-9fc2-56d051d80aab",
        "colab": {
          "base_uri": "https://localhost:8080/"
        }
      },
      "outputs": [
        {
          "output_type": "stream",
          "name": "stdout",
          "text": [
            "Rows: 16\n",
            "Columns: 2\n",
            "$ carrier \u001b[3m\u001b[90m<chr>\u001b[39m\u001b[23m \"9E\"\u001b[90m, \u001b[39m\"AA\"\u001b[90m, \u001b[39m\"AS\"\u001b[90m, \u001b[39m\"B6\"\u001b[90m, \u001b[39m\"DL\"\u001b[90m, \u001b[39m\"EV\"\u001b[90m, \u001b[39m\"F9\"\u001b[90m, \u001b[39m\"FL\"\u001b[90m, \u001b[39m\"HA\"\u001b[90m, \u001b[39m\"MQ\"\u001b[90m, \u001b[39m\"O…\n",
            "$ name    \u001b[3m\u001b[90m<chr>\u001b[39m\u001b[23m \"Endeavor Air Inc.\"\u001b[90m, \u001b[39m\"American Airlines Inc.\"\u001b[90m, \u001b[39m\"Alaska Airline…\n"
          ]
        }
      ],
      "source": [
        "glimpse(airlines)"
      ]
    },
    {
      "cell_type": "markdown",
      "metadata": {
        "id": "W4oUDhA5vKKB"
      },
      "source": [
        "3. `airports` — Información de aeropuertos"
      ]
    },
    {
      "cell_type": "code",
      "execution_count": 13,
      "metadata": {
        "id": "9nnWt2bIvBDG",
        "outputId": "0f7633b7-4c22-4e59-e48c-4a617245b5a4",
        "colab": {
          "base_uri": "https://localhost:8080/"
        }
      },
      "outputs": [
        {
          "output_type": "stream",
          "name": "stdout",
          "text": [
            "Rows: 1,458\n",
            "Columns: 8\n",
            "$ faa   \u001b[3m\u001b[90m<chr>\u001b[39m\u001b[23m \"04G\"\u001b[90m, \u001b[39m\"06A\"\u001b[90m, \u001b[39m\"06C\"\u001b[90m, \u001b[39m\"06N\"\u001b[90m, \u001b[39m\"09J\"\u001b[90m, \u001b[39m\"0A9\"\u001b[90m, \u001b[39m\"0G6\"\u001b[90m, \u001b[39m\"0G7\"\u001b[90m, \u001b[39m\"0P2\"\u001b[90m, \u001b[39m\"…\n",
            "$ name  \u001b[3m\u001b[90m<chr>\u001b[39m\u001b[23m \"Lansdowne Airport\"\u001b[90m, \u001b[39m\"Moton Field Municipal Airport\"\u001b[90m, \u001b[39m\"Schaumbur…\n",
            "$ lat   \u001b[3m\u001b[90m<dbl>\u001b[39m\u001b[23m 41.13047\u001b[90m, \u001b[39m32.46057\u001b[90m, \u001b[39m41.98934\u001b[90m, \u001b[39m41.43191\u001b[90m, \u001b[39m31.07447\u001b[90m, \u001b[39m36.37122\u001b[90m, \u001b[39m41.4…\n",
            "$ lon   \u001b[3m\u001b[90m<dbl>\u001b[39m\u001b[23m -80.61958\u001b[90m, \u001b[39m-85.68003\u001b[90m, \u001b[39m-88.10124\u001b[90m, \u001b[39m-74.39156\u001b[90m, \u001b[39m-81.42778\u001b[90m, \u001b[39m-82.17342…\n",
            "$ alt   \u001b[3m\u001b[90m<dbl>\u001b[39m\u001b[23m 1044\u001b[90m, \u001b[39m264\u001b[90m, \u001b[39m801\u001b[90m, \u001b[39m523\u001b[90m, \u001b[39m11\u001b[90m, \u001b[39m1593\u001b[90m, \u001b[39m730\u001b[90m, \u001b[39m492\u001b[90m, \u001b[39m1000\u001b[90m, \u001b[39m108\u001b[90m, \u001b[39m409\u001b[90m, \u001b[39m875\u001b[90m, \u001b[39m10…\n",
            "$ tz    \u001b[3m\u001b[90m<dbl>\u001b[39m\u001b[23m -5\u001b[90m, \u001b[39m-6\u001b[90m, \u001b[39m-6\u001b[90m, \u001b[39m-5\u001b[90m, \u001b[39m-5\u001b[90m, \u001b[39m-5\u001b[90m, \u001b[39m-5\u001b[90m, \u001b[39m-5\u001b[90m, \u001b[39m-5\u001b[90m, \u001b[39m-8\u001b[90m, \u001b[39m-5\u001b[90m, \u001b[39m-6\u001b[90m, \u001b[39m-5\u001b[90m, \u001b[39m-5\u001b[90m, \u001b[39m-5\u001b[90m, \u001b[39m-5\u001b[90m, \u001b[39m…\n",
            "$ dst   \u001b[3m\u001b[90m<chr>\u001b[39m\u001b[23m \"A\"\u001b[90m, \u001b[39m\"A\"\u001b[90m, \u001b[39m\"A\"\u001b[90m, \u001b[39m\"A\"\u001b[90m, \u001b[39m\"A\"\u001b[90m, \u001b[39m\"A\"\u001b[90m, \u001b[39m\"A\"\u001b[90m, \u001b[39m\"A\"\u001b[90m, \u001b[39m\"U\"\u001b[90m, \u001b[39m\"A\"\u001b[90m, \u001b[39m\"A\"\u001b[90m, \u001b[39m\"U\"\u001b[90m, \u001b[39m\"A\"\u001b[90m,\u001b[39m…\n",
            "$ tzone \u001b[3m\u001b[90m<chr>\u001b[39m\u001b[23m \"America/New_York\"\u001b[90m, \u001b[39m\"America/Chicago\"\u001b[90m, \u001b[39m\"America/Chicago\"\u001b[90m, \u001b[39m\"Ameri…\n"
          ]
        }
      ],
      "source": [
        "glimpse(airports)"
      ]
    },
    {
      "cell_type": "markdown",
      "metadata": {
        "id": "8x5gbuovvUZM"
      },
      "source": [
        "4. `planes` — Información de los aviones"
      ]
    },
    {
      "cell_type": "code",
      "execution_count": 14,
      "metadata": {
        "id": "U5MUQ3EivVh0",
        "outputId": "6fe9e1e7-584d-4da2-9377-c2fbd175f1ce",
        "colab": {
          "base_uri": "https://localhost:8080/"
        }
      },
      "outputs": [
        {
          "output_type": "stream",
          "name": "stdout",
          "text": [
            "Rows: 3,322\n",
            "Columns: 9\n",
            "$ tailnum      \u001b[3m\u001b[90m<chr>\u001b[39m\u001b[23m \"N10156\"\u001b[90m, \u001b[39m\"N102UW\"\u001b[90m, \u001b[39m\"N103US\"\u001b[90m, \u001b[39m\"N104UW\"\u001b[90m, \u001b[39m\"N10575\"\u001b[90m, \u001b[39m\"N105UW…\n",
            "$ year         \u001b[3m\u001b[90m<int>\u001b[39m\u001b[23m 2004\u001b[90m, \u001b[39m1998\u001b[90m, \u001b[39m1999\u001b[90m, \u001b[39m1999\u001b[90m, \u001b[39m2002\u001b[90m, \u001b[39m1999\u001b[90m, \u001b[39m1999\u001b[90m, \u001b[39m1999\u001b[90m, \u001b[39m1999\u001b[90m, \u001b[39m199…\n",
            "$ type         \u001b[3m\u001b[90m<chr>\u001b[39m\u001b[23m \"Fixed wing multi engine\"\u001b[90m, \u001b[39m\"Fixed wing multi engine\"\u001b[90m, \u001b[39m\"Fi…\n",
            "$ manufacturer \u001b[3m\u001b[90m<chr>\u001b[39m\u001b[23m \"EMBRAER\"\u001b[90m, \u001b[39m\"AIRBUS INDUSTRIE\"\u001b[90m, \u001b[39m\"AIRBUS INDUSTRIE\"\u001b[90m, \u001b[39m\"AIRBU…\n",
            "$ model        \u001b[3m\u001b[90m<chr>\u001b[39m\u001b[23m \"EMB-145XR\"\u001b[90m, \u001b[39m\"A320-214\"\u001b[90m, \u001b[39m\"A320-214\"\u001b[90m, \u001b[39m\"A320-214\"\u001b[90m, \u001b[39m\"EMB-145…\n",
            "$ engines      \u001b[3m\u001b[90m<int>\u001b[39m\u001b[23m 2\u001b[90m, \u001b[39m2\u001b[90m, \u001b[39m2\u001b[90m, \u001b[39m2\u001b[90m, \u001b[39m2\u001b[90m, \u001b[39m2\u001b[90m, \u001b[39m2\u001b[90m, \u001b[39m2\u001b[90m, \u001b[39m2\u001b[90m, \u001b[39m2\u001b[90m, \u001b[39m2\u001b[90m, \u001b[39m2\u001b[90m, \u001b[39m2\u001b[90m, \u001b[39m2\u001b[90m, \u001b[39m2\u001b[90m, \u001b[39m2\u001b[90m, \u001b[39m2\u001b[90m, \u001b[39m2\u001b[90m, \u001b[39m2\u001b[90m, \u001b[39m…\n",
            "$ seats        \u001b[3m\u001b[90m<int>\u001b[39m\u001b[23m 55\u001b[90m, \u001b[39m182\u001b[90m, \u001b[39m182\u001b[90m, \u001b[39m182\u001b[90m, \u001b[39m55\u001b[90m, \u001b[39m182\u001b[90m, \u001b[39m182\u001b[90m, \u001b[39m182\u001b[90m, \u001b[39m182\u001b[90m, \u001b[39m182\u001b[90m, \u001b[39m55\u001b[90m, \u001b[39m55\u001b[90m, \u001b[39m5…\n",
            "$ speed        \u001b[3m\u001b[90m<int>\u001b[39m\u001b[23m \u001b[31mNA\u001b[39m\u001b[90m, \u001b[39m\u001b[31mNA\u001b[39m\u001b[90m, \u001b[39m\u001b[31mNA\u001b[39m\u001b[90m, \u001b[39m\u001b[31mNA\u001b[39m\u001b[90m, \u001b[39m\u001b[31mNA\u001b[39m\u001b[90m, \u001b[39m\u001b[31mNA\u001b[39m\u001b[90m, \u001b[39m\u001b[31mNA\u001b[39m\u001b[90m, \u001b[39m\u001b[31mNA\u001b[39m\u001b[90m, \u001b[39m\u001b[31mNA\u001b[39m\u001b[90m, \u001b[39m\u001b[31mNA\u001b[39m\u001b[90m, \u001b[39m\u001b[31mNA\u001b[39m\u001b[90m, \u001b[39m\u001b[31mNA\u001b[39m\u001b[90m, \u001b[39m\u001b[31mNA\u001b[39m\u001b[90m, \u001b[39m\u001b[31mNA\u001b[39m\u001b[90m, \u001b[39m\u001b[31mN\u001b[39m…\n",
            "$ engine       \u001b[3m\u001b[90m<chr>\u001b[39m\u001b[23m \"Turbo-fan\"\u001b[90m, \u001b[39m\"Turbo-fan\"\u001b[90m, \u001b[39m\"Turbo-fan\"\u001b[90m, \u001b[39m\"Turbo-fan\"\u001b[90m, \u001b[39m\"Turb…\n"
          ]
        }
      ],
      "source": [
        "glimpse(planes)"
      ]
    },
    {
      "cell_type": "markdown",
      "metadata": {
        "id": "dO4hCa0av15_"
      },
      "source": [
        "5. `weather` — Condiciones climáticas por hora"
      ]
    },
    {
      "cell_type": "code",
      "execution_count": 15,
      "metadata": {
        "id": "akurOpFjv2v8",
        "outputId": "a0012f76-823d-4e9d-b4c2-20d7172681f2",
        "colab": {
          "base_uri": "https://localhost:8080/"
        }
      },
      "outputs": [
        {
          "output_type": "stream",
          "name": "stdout",
          "text": [
            "Rows: 26,115\n",
            "Columns: 15\n",
            "$ origin     \u001b[3m\u001b[90m<chr>\u001b[39m\u001b[23m \"EWR\"\u001b[90m, \u001b[39m\"EWR\"\u001b[90m, \u001b[39m\"EWR\"\u001b[90m, \u001b[39m\"EWR\"\u001b[90m, \u001b[39m\"EWR\"\u001b[90m, \u001b[39m\"EWR\"\u001b[90m, \u001b[39m\"EWR\"\u001b[90m, \u001b[39m\"EWR\"\u001b[90m, \u001b[39m\"EW…\n",
            "$ year       \u001b[3m\u001b[90m<int>\u001b[39m\u001b[23m 2013\u001b[90m, \u001b[39m2013\u001b[90m, \u001b[39m2013\u001b[90m, \u001b[39m2013\u001b[90m, \u001b[39m2013\u001b[90m, \u001b[39m2013\u001b[90m, \u001b[39m2013\u001b[90m, \u001b[39m2013\u001b[90m, \u001b[39m2013\u001b[90m, \u001b[39m2013\u001b[90m,\u001b[39m…\n",
            "$ month      \u001b[3m\u001b[90m<int>\u001b[39m\u001b[23m 1\u001b[90m, \u001b[39m1\u001b[90m, \u001b[39m1\u001b[90m, \u001b[39m1\u001b[90m, \u001b[39m1\u001b[90m, \u001b[39m1\u001b[90m, \u001b[39m1\u001b[90m, \u001b[39m1\u001b[90m, \u001b[39m1\u001b[90m, \u001b[39m1\u001b[90m, \u001b[39m1\u001b[90m, \u001b[39m1\u001b[90m, \u001b[39m1\u001b[90m, \u001b[39m1\u001b[90m, \u001b[39m1\u001b[90m, \u001b[39m1\u001b[90m, \u001b[39m1\u001b[90m, \u001b[39m1\u001b[90m, \u001b[39m1\u001b[90m, \u001b[39m1\u001b[90m,\u001b[39m…\n",
            "$ day        \u001b[3m\u001b[90m<int>\u001b[39m\u001b[23m 1\u001b[90m, \u001b[39m1\u001b[90m, \u001b[39m1\u001b[90m, \u001b[39m1\u001b[90m, \u001b[39m1\u001b[90m, \u001b[39m1\u001b[90m, \u001b[39m1\u001b[90m, \u001b[39m1\u001b[90m, \u001b[39m1\u001b[90m, \u001b[39m1\u001b[90m, \u001b[39m1\u001b[90m, \u001b[39m1\u001b[90m, \u001b[39m1\u001b[90m, \u001b[39m1\u001b[90m, \u001b[39m1\u001b[90m, \u001b[39m1\u001b[90m, \u001b[39m1\u001b[90m, \u001b[39m1\u001b[90m, \u001b[39m1\u001b[90m, \u001b[39m1\u001b[90m,\u001b[39m…\n",
            "$ hour       \u001b[3m\u001b[90m<int>\u001b[39m\u001b[23m 1\u001b[90m, \u001b[39m2\u001b[90m, \u001b[39m3\u001b[90m, \u001b[39m4\u001b[90m, \u001b[39m5\u001b[90m, \u001b[39m6\u001b[90m, \u001b[39m7\u001b[90m, \u001b[39m8\u001b[90m, \u001b[39m9\u001b[90m, \u001b[39m10\u001b[90m, \u001b[39m11\u001b[90m, \u001b[39m13\u001b[90m, \u001b[39m14\u001b[90m, \u001b[39m15\u001b[90m, \u001b[39m16\u001b[90m, \u001b[39m17\u001b[90m, \u001b[39m18\u001b[90m, \u001b[39m…\n",
            "$ temp       \u001b[3m\u001b[90m<dbl>\u001b[39m\u001b[23m 39.02\u001b[90m, \u001b[39m39.02\u001b[90m, \u001b[39m39.02\u001b[90m, \u001b[39m39.92\u001b[90m, \u001b[39m39.02\u001b[90m, \u001b[39m37.94\u001b[90m, \u001b[39m39.02\u001b[90m, \u001b[39m39.92\u001b[90m, \u001b[39m39.…\n",
            "$ dewp       \u001b[3m\u001b[90m<dbl>\u001b[39m\u001b[23m 26.06\u001b[90m, \u001b[39m26.96\u001b[90m, \u001b[39m28.04\u001b[90m, \u001b[39m28.04\u001b[90m, \u001b[39m28.04\u001b[90m, \u001b[39m28.04\u001b[90m, \u001b[39m28.04\u001b[90m, \u001b[39m28.04\u001b[90m, \u001b[39m28.…\n",
            "$ humid      \u001b[3m\u001b[90m<dbl>\u001b[39m\u001b[23m 59.37\u001b[90m, \u001b[39m61.63\u001b[90m, \u001b[39m64.43\u001b[90m, \u001b[39m62.21\u001b[90m, \u001b[39m64.43\u001b[90m, \u001b[39m67.21\u001b[90m, \u001b[39m64.43\u001b[90m, \u001b[39m62.21\u001b[90m, \u001b[39m62.…\n",
            "$ wind_dir   \u001b[3m\u001b[90m<dbl>\u001b[39m\u001b[23m 270\u001b[90m, \u001b[39m250\u001b[90m, \u001b[39m240\u001b[90m, \u001b[39m250\u001b[90m, \u001b[39m260\u001b[90m, \u001b[39m240\u001b[90m, \u001b[39m240\u001b[90m, \u001b[39m250\u001b[90m, \u001b[39m260\u001b[90m, \u001b[39m260\u001b[90m, \u001b[39m260\u001b[90m, \u001b[39m330\u001b[90m,\u001b[39m…\n",
            "$ wind_speed \u001b[3m\u001b[90m<dbl>\u001b[39m\u001b[23m 10.35702\u001b[90m, \u001b[39m8.05546\u001b[90m, \u001b[39m11.50780\u001b[90m, \u001b[39m12.65858\u001b[90m, \u001b[39m12.65858\u001b[90m, \u001b[39m11.50780\u001b[90m, \u001b[39m…\n",
            "$ wind_gust  \u001b[3m\u001b[90m<dbl>\u001b[39m\u001b[23m \u001b[31mNA\u001b[39m\u001b[90m, \u001b[39m\u001b[31mNA\u001b[39m\u001b[90m, \u001b[39m\u001b[31mNA\u001b[39m\u001b[90m, \u001b[39m\u001b[31mNA\u001b[39m\u001b[90m, \u001b[39m\u001b[31mNA\u001b[39m\u001b[90m, \u001b[39m\u001b[31mNA\u001b[39m\u001b[90m, \u001b[39m\u001b[31mNA\u001b[39m\u001b[90m, \u001b[39m\u001b[31mNA\u001b[39m\u001b[90m, \u001b[39m\u001b[31mNA\u001b[39m\u001b[90m, \u001b[39m\u001b[31mNA\u001b[39m\u001b[90m, \u001b[39m\u001b[31mNA\u001b[39m\u001b[90m, \u001b[39m\u001b[31mNA\u001b[39m\u001b[90m, \u001b[39m\u001b[31mNA\u001b[39m\u001b[90m, \u001b[39m\u001b[31mNA\u001b[39m\u001b[90m, \u001b[39m20.…\n",
            "$ precip     \u001b[3m\u001b[90m<dbl>\u001b[39m\u001b[23m 0\u001b[90m, \u001b[39m0\u001b[90m, \u001b[39m0\u001b[90m, \u001b[39m0\u001b[90m, \u001b[39m0\u001b[90m, \u001b[39m0\u001b[90m, \u001b[39m0\u001b[90m, \u001b[39m0\u001b[90m, \u001b[39m0\u001b[90m, \u001b[39m0\u001b[90m, \u001b[39m0\u001b[90m, \u001b[39m0\u001b[90m, \u001b[39m0\u001b[90m, \u001b[39m0\u001b[90m, \u001b[39m0\u001b[90m, \u001b[39m0\u001b[90m, \u001b[39m0\u001b[90m, \u001b[39m0\u001b[90m, \u001b[39m0\u001b[90m, \u001b[39m0\u001b[90m,\u001b[39m…\n",
            "$ pressure   \u001b[3m\u001b[90m<dbl>\u001b[39m\u001b[23m 1012.0\u001b[90m, \u001b[39m1012.3\u001b[90m, \u001b[39m1012.5\u001b[90m, \u001b[39m1012.2\u001b[90m, \u001b[39m1011.9\u001b[90m, \u001b[39m1012.4\u001b[90m, \u001b[39m1012.2\u001b[90m, \u001b[39m101…\n",
            "$ visib      \u001b[3m\u001b[90m<dbl>\u001b[39m\u001b[23m 10\u001b[90m, \u001b[39m10\u001b[90m, \u001b[39m10\u001b[90m, \u001b[39m10\u001b[90m, \u001b[39m10\u001b[90m, \u001b[39m10\u001b[90m, \u001b[39m10\u001b[90m, \u001b[39m10\u001b[90m, \u001b[39m10\u001b[90m, \u001b[39m10\u001b[90m, \u001b[39m10\u001b[90m, \u001b[39m10\u001b[90m, \u001b[39m10\u001b[90m, \u001b[39m10\u001b[90m, \u001b[39m10\u001b[90m,\u001b[39m…\n",
            "$ time_hour  \u001b[3m\u001b[90m<dttm>\u001b[39m\u001b[23m 2013-01-01 01:00:00\u001b[90m, \u001b[39m2013-01-01 02:00:00\u001b[90m, \u001b[39m2013-01-01 03:00…\n"
          ]
        }
      ],
      "source": [
        "glimpse(weather)"
      ]
    },
    {
      "cell_type": "markdown",
      "metadata": {
        "id": "OXKUi4UjwPpv"
      },
      "source": [
        "------------------------------------------------------------------------\n",
        "\n",
        "**Relaciones clave**\n",
        "\n",
        "Lo veremos en detalle más adelante:\n",
        "\n",
        "-   `flights$carrier` → `airlines$carrier`\n",
        "-   `flights$tailnum` → `planes$tailnum`\n",
        "-   `flights$origin`, `flights$dest` → `airports$faa`\n",
        "-   `flights$origin` + `flights$time_hour` → `weather`\n",
        "\n",
        "## Verbos en Dplyr:\n",
        "\n",
        "Los verbos de `dplyr` permiten transformar datos de forma clara y estructurada.\n",
        "\n",
        "Su sintaxis es intuitiva y permite encadenar operaciones paso a paso usando el operador `%>%`.\n",
        "\n",
        "Los verbos de `dplyr` siguen una estructura muy regular:\n",
        "\n",
        "``` r\n",
        "datos %>% verbo(argumentos)\n",
        "```\n",
        "-   `datos`: es el conjunto de datos original (por ejemplo, `flights`)\n",
        "-   `%>%`: se lee como \"entonces\", conecta pasos secuenciales\n",
        "-   `verbo()`: es la función como `filter()`, `select()`, etc.\n",
        "-   `argumentos`: lo que queremos hacer (condiciones, columnas, cálculos)\n",
        "\n",
        "**El operador `%>%` – Pipe (tubo en español) del tidyverse (importancia de que sea gramático)**\n",
        "\n",
        "El operador `%>%` (pipe) proviene del paquete `magrittr`, que forma parte del `tidyverse`.  \n",
        "Se usa para **encadenar funciones**, permitiendo escribir código más limpio y legible.\n",
        "\n",
        "| Plataforma  | Atajo de teclado       |\n",
        "| ----------- | ---------------------- |\n",
        "| **Windows** | `Ctrl` + `Shift` + `M` |\n",
        "| **macOS**   | `Cmd` + `Shift` + `M`  |\n",
        "| **Linux**   | `Ctrl` + `Shift` + `M` |\n",
        "\n",
        "\n",
        "**¿Cómo se lee?**\n",
        "\n",
        "> **“y luego”**.  \n",
        "> Por ejemplo: *Toma los datos y luego filtra y luego resume*.\n",
        "\n",
        "---\n",
        "\n",
        "### Comparación:\n",
        "\n",
        "Si por ejemplo, queremos agrupar los vuelos por aeropuerto de origen (origin) y calcula el retraso promedio en la salida (dep_delay) para cada uno de ellos (aeropuertos), asegurándonos de ignorar los valores perdidos (NA) en el cálculo de la media:\n",
        "\n"
      ]
    },
    {
      "cell_type": "markdown",
      "metadata": {
        "id": "9tjjJcXTwuEn"
      },
      "source": [
        "**Sin pipe (forma tradicional):**"
      ]
    },
    {
      "cell_type": "code",
      "execution_count": 16,
      "metadata": {
        "id": "rN3Sa5sUvX9N",
        "outputId": "6a13fbb5-4795-4e3f-deef-b1fe2aeaf93a",
        "colab": {
          "base_uri": "https://localhost:8080/",
          "height": 192
        }
      },
      "outputs": [
        {
          "output_type": "display_data",
          "data": {
            "text/html": [
              "<table class=\"dataframe\">\n",
              "<caption>A tibble: 3 × 2</caption>\n",
              "<thead>\n",
              "\t<tr><th scope=col>origin</th><th scope=col>promedio</th></tr>\n",
              "\t<tr><th scope=col>&lt;chr&gt;</th><th scope=col>&lt;dbl&gt;</th></tr>\n",
              "</thead>\n",
              "<tbody>\n",
              "\t<tr><td>EWR</td><td>15.10795</td></tr>\n",
              "\t<tr><td>JFK</td><td>12.11216</td></tr>\n",
              "\t<tr><td>LGA</td><td>10.34688</td></tr>\n",
              "</tbody>\n",
              "</table>\n"
            ],
            "text/markdown": "\nA tibble: 3 × 2\n\n| origin &lt;chr&gt; | promedio &lt;dbl&gt; |\n|---|---|\n| EWR | 15.10795 |\n| JFK | 12.11216 |\n| LGA | 10.34688 |\n\n",
            "text/latex": "A tibble: 3 × 2\n\\begin{tabular}{ll}\n origin & promedio\\\\\n <chr> & <dbl>\\\\\n\\hline\n\t EWR & 15.10795\\\\\n\t JFK & 12.11216\\\\\n\t LGA & 10.34688\\\\\n\\end{tabular}\n",
            "text/plain": [
              "  origin promedio\n",
              "1 EWR    15.10795\n",
              "2 JFK    12.11216\n",
              "3 LGA    10.34688"
            ]
          },
          "metadata": {}
        }
      ],
      "source": [
        "summarise(group_by(flights,origin),promedio=mean(dep_delay,na.rm = TRUE))"
      ]
    },
    {
      "cell_type": "markdown",
      "metadata": {
        "id": "h6bj7PYGw0Lw"
      },
      "source": [
        "**Con pipe (%>%):**"
      ]
    },
    {
      "cell_type": "code",
      "execution_count": 17,
      "metadata": {
        "id": "-jFjigkQw0yG",
        "outputId": "ad6626b4-dc62-4403-fa53-fed4065272c0",
        "colab": {
          "base_uri": "https://localhost:8080/",
          "height": 192
        }
      },
      "outputs": [
        {
          "output_type": "display_data",
          "data": {
            "text/html": [
              "<table class=\"dataframe\">\n",
              "<caption>A tibble: 3 × 2</caption>\n",
              "<thead>\n",
              "\t<tr><th scope=col>origin</th><th scope=col>promedio</th></tr>\n",
              "\t<tr><th scope=col>&lt;chr&gt;</th><th scope=col>&lt;dbl&gt;</th></tr>\n",
              "</thead>\n",
              "<tbody>\n",
              "\t<tr><td>EWR</td><td>15.10795</td></tr>\n",
              "\t<tr><td>JFK</td><td>12.11216</td></tr>\n",
              "\t<tr><td>LGA</td><td>10.34688</td></tr>\n",
              "</tbody>\n",
              "</table>\n"
            ],
            "text/markdown": "\nA tibble: 3 × 2\n\n| origin &lt;chr&gt; | promedio &lt;dbl&gt; |\n|---|---|\n| EWR | 15.10795 |\n| JFK | 12.11216 |\n| LGA | 10.34688 |\n\n",
            "text/latex": "A tibble: 3 × 2\n\\begin{tabular}{ll}\n origin & promedio\\\\\n <chr> & <dbl>\\\\\n\\hline\n\t EWR & 15.10795\\\\\n\t JFK & 12.11216\\\\\n\t LGA & 10.34688\\\\\n\\end{tabular}\n",
            "text/plain": [
              "  origin promedio\n",
              "1 EWR    15.10795\n",
              "2 JFK    12.11216\n",
              "3 LGA    10.34688"
            ]
          },
          "metadata": {}
        }
      ],
      "source": [
        "flights %>%\n",
        "  group_by(origin) %>%\n",
        "  summarise(promedio=mean(dep_delay,na.rm = TRUE))"
      ]
    },
    {
      "cell_type": "markdown",
      "metadata": {
        "id": "4ziGbCXmxCqT"
      },
      "source": [
        "---\n",
        "\n",
        "**Estructura del pipe:**\n",
        "\n",
        "```r\n",
        "objeto %>%\n",
        "  funcion(argumentos)\n",
        "```\n",
        "\n",
        "Equivale a:\n",
        "\n",
        "```r\n",
        "funcion(objeto, argumentos)\n",
        "```\n",
        "\n",
        "Se puede seguir encadenando:\n",
        "\n",
        "```r\n",
        "datos %>%\n",
        "  paso_1() %>%\n",
        "  paso_2() %>%\n",
        "  paso_3()\n",
        "```\n",
        "\n",
        "---\n",
        "\n",
        "**Es importante:**\n",
        "\n",
        "- Colocar `%>%` al final de la línea.\n",
        "- Mejora la lectura especialmente en cadenas largas de transformación.\n",
        "- No es necesario crear variables intermedias, lo que se traduce en ahorro en RAM\n",
        "\n",
        "**Los argumentos del los verbos:**\n",
        "\n",
        "-   Se separan por **comas**, no por `=`\n",
        "-   En `mutate()` y `summarise()` se crean nuevas variables con `nombre = cálculo`\n",
        "\n",
        "------------------------------------------------------------------------\n"
      ]
    },
    {
      "cell_type": "markdown",
      "metadata": {
        "id": "4w4K2reJxOnM"
      },
      "source": [
        "### 1. `filter()` – Filtrar filas\n",
        "\n",
        "`filter()` selecciona **filas que cumplen condiciones** lógicas.\n",
        "\n",
        "- Supongamos que queremos ver todos los vuelos del 1 de enero"
      ]
    },
    {
      "cell_type": "code",
      "execution_count": 26,
      "metadata": {
        "collapsed": true,
        "id": "gQ-LZrweyjiG",
        "outputId": "0b5dd64a-c697-4192-f3ab-1158f8588f12",
        "colab": {
          "base_uri": "https://localhost:8080/",
          "height": 1000
        }
      },
      "outputs": [
        {
          "output_type": "display_data",
          "data": {
            "text/html": [
              "<table class=\"dataframe\">\n",
              "<caption>A tibble: 842 × 19</caption>\n",
              "<thead>\n",
              "\t<tr><th scope=col>year</th><th scope=col>month</th><th scope=col>day</th><th scope=col>dep_time</th><th scope=col>sched_dep_time</th><th scope=col>dep_delay</th><th scope=col>arr_time</th><th scope=col>sched_arr_time</th><th scope=col>arr_delay</th><th scope=col>carrier</th><th scope=col>flight</th><th scope=col>tailnum</th><th scope=col>origin</th><th scope=col>dest</th><th scope=col>air_time</th><th scope=col>distance</th><th scope=col>hour</th><th scope=col>minute</th><th scope=col>time_hour</th></tr>\n",
              "\t<tr><th scope=col>&lt;int&gt;</th><th scope=col>&lt;int&gt;</th><th scope=col>&lt;int&gt;</th><th scope=col>&lt;int&gt;</th><th scope=col>&lt;int&gt;</th><th scope=col>&lt;dbl&gt;</th><th scope=col>&lt;int&gt;</th><th scope=col>&lt;int&gt;</th><th scope=col>&lt;dbl&gt;</th><th scope=col>&lt;chr&gt;</th><th scope=col>&lt;int&gt;</th><th scope=col>&lt;chr&gt;</th><th scope=col>&lt;chr&gt;</th><th scope=col>&lt;chr&gt;</th><th scope=col>&lt;dbl&gt;</th><th scope=col>&lt;dbl&gt;</th><th scope=col>&lt;dbl&gt;</th><th scope=col>&lt;dbl&gt;</th><th scope=col>&lt;dttm&gt;</th></tr>\n",
              "</thead>\n",
              "<tbody>\n",
              "\t<tr><td>2013</td><td>1</td><td>1</td><td>517</td><td>515</td><td> 2</td><td> 830</td><td> 819</td><td> 11</td><td>UA</td><td>1545</td><td>N14228</td><td>EWR</td><td>IAH</td><td>227</td><td>1400</td><td>5</td><td>15</td><td>2013-01-01 05:00:00</td></tr>\n",
              "\t<tr><td>2013</td><td>1</td><td>1</td><td>533</td><td>529</td><td> 4</td><td> 850</td><td> 830</td><td> 20</td><td>UA</td><td>1714</td><td>N24211</td><td>LGA</td><td>IAH</td><td>227</td><td>1416</td><td>5</td><td>29</td><td>2013-01-01 05:00:00</td></tr>\n",
              "\t<tr><td>2013</td><td>1</td><td>1</td><td>542</td><td>540</td><td> 2</td><td> 923</td><td> 850</td><td> 33</td><td>AA</td><td>1141</td><td>N619AA</td><td>JFK</td><td>MIA</td><td>160</td><td>1089</td><td>5</td><td>40</td><td>2013-01-01 05:00:00</td></tr>\n",
              "\t<tr><td>2013</td><td>1</td><td>1</td><td>544</td><td>545</td><td>-1</td><td>1004</td><td>1022</td><td>-18</td><td>B6</td><td> 725</td><td>N804JB</td><td>JFK</td><td>BQN</td><td>183</td><td>1576</td><td>5</td><td>45</td><td>2013-01-01 05:00:00</td></tr>\n",
              "\t<tr><td>2013</td><td>1</td><td>1</td><td>554</td><td>600</td><td>-6</td><td> 812</td><td> 837</td><td>-25</td><td>DL</td><td> 461</td><td>N668DN</td><td>LGA</td><td>ATL</td><td>116</td><td> 762</td><td>6</td><td> 0</td><td>2013-01-01 06:00:00</td></tr>\n",
              "\t<tr><td>2013</td><td>1</td><td>1</td><td>554</td><td>558</td><td>-4</td><td> 740</td><td> 728</td><td> 12</td><td>UA</td><td>1696</td><td>N39463</td><td>EWR</td><td>ORD</td><td>150</td><td> 719</td><td>5</td><td>58</td><td>2013-01-01 05:00:00</td></tr>\n",
              "\t<tr><td>2013</td><td>1</td><td>1</td><td>555</td><td>600</td><td>-5</td><td> 913</td><td> 854</td><td> 19</td><td>B6</td><td> 507</td><td>N516JB</td><td>EWR</td><td>FLL</td><td>158</td><td>1065</td><td>6</td><td> 0</td><td>2013-01-01 06:00:00</td></tr>\n",
              "\t<tr><td>2013</td><td>1</td><td>1</td><td>557</td><td>600</td><td>-3</td><td> 709</td><td> 723</td><td>-14</td><td>EV</td><td>5708</td><td>N829AS</td><td>LGA</td><td>IAD</td><td> 53</td><td> 229</td><td>6</td><td> 0</td><td>2013-01-01 06:00:00</td></tr>\n",
              "\t<tr><td>2013</td><td>1</td><td>1</td><td>557</td><td>600</td><td>-3</td><td> 838</td><td> 846</td><td> -8</td><td>B6</td><td>  79</td><td>N593JB</td><td>JFK</td><td>MCO</td><td>140</td><td> 944</td><td>6</td><td> 0</td><td>2013-01-01 06:00:00</td></tr>\n",
              "\t<tr><td>2013</td><td>1</td><td>1</td><td>558</td><td>600</td><td>-2</td><td> 753</td><td> 745</td><td>  8</td><td>AA</td><td> 301</td><td>N3ALAA</td><td>LGA</td><td>ORD</td><td>138</td><td> 733</td><td>6</td><td> 0</td><td>2013-01-01 06:00:00</td></tr>\n",
              "\t<tr><td>2013</td><td>1</td><td>1</td><td>558</td><td>600</td><td>-2</td><td> 849</td><td> 851</td><td> -2</td><td>B6</td><td>  49</td><td>N793JB</td><td>JFK</td><td>PBI</td><td>149</td><td>1028</td><td>6</td><td> 0</td><td>2013-01-01 06:00:00</td></tr>\n",
              "\t<tr><td>2013</td><td>1</td><td>1</td><td>558</td><td>600</td><td>-2</td><td> 853</td><td> 856</td><td> -3</td><td>B6</td><td>  71</td><td>N657JB</td><td>JFK</td><td>TPA</td><td>158</td><td>1005</td><td>6</td><td> 0</td><td>2013-01-01 06:00:00</td></tr>\n",
              "\t<tr><td>2013</td><td>1</td><td>1</td><td>558</td><td>600</td><td>-2</td><td> 924</td><td> 917</td><td>  7</td><td>UA</td><td> 194</td><td>N29129</td><td>JFK</td><td>LAX</td><td>345</td><td>2475</td><td>6</td><td> 0</td><td>2013-01-01 06:00:00</td></tr>\n",
              "\t<tr><td>2013</td><td>1</td><td>1</td><td>558</td><td>600</td><td>-2</td><td> 923</td><td> 937</td><td>-14</td><td>UA</td><td>1124</td><td>N53441</td><td>EWR</td><td>SFO</td><td>361</td><td>2565</td><td>6</td><td> 0</td><td>2013-01-01 06:00:00</td></tr>\n",
              "\t<tr><td>2013</td><td>1</td><td>1</td><td>559</td><td>600</td><td>-1</td><td> 941</td><td> 910</td><td> 31</td><td>AA</td><td> 707</td><td>N3DUAA</td><td>LGA</td><td>DFW</td><td>257</td><td>1389</td><td>6</td><td> 0</td><td>2013-01-01 06:00:00</td></tr>\n",
              "\t<tr><td>2013</td><td>1</td><td>1</td><td>559</td><td>559</td><td> 0</td><td> 702</td><td> 706</td><td> -4</td><td>B6</td><td>1806</td><td>N708JB</td><td>JFK</td><td>BOS</td><td> 44</td><td> 187</td><td>5</td><td>59</td><td>2013-01-01 05:00:00</td></tr>\n",
              "\t<tr><td>2013</td><td>1</td><td>1</td><td>559</td><td>600</td><td>-1</td><td> 854</td><td> 902</td><td> -8</td><td>UA</td><td>1187</td><td>N76515</td><td>EWR</td><td>LAS</td><td>337</td><td>2227</td><td>6</td><td> 0</td><td>2013-01-01 06:00:00</td></tr>\n",
              "\t<tr><td>2013</td><td>1</td><td>1</td><td>600</td><td>600</td><td> 0</td><td> 851</td><td> 858</td><td> -7</td><td>B6</td><td> 371</td><td>N595JB</td><td>LGA</td><td>FLL</td><td>152</td><td>1076</td><td>6</td><td> 0</td><td>2013-01-01 06:00:00</td></tr>\n",
              "\t<tr><td>2013</td><td>1</td><td>1</td><td>600</td><td>600</td><td> 0</td><td> 837</td><td> 825</td><td> 12</td><td>MQ</td><td>4650</td><td>N542MQ</td><td>LGA</td><td>ATL</td><td>134</td><td> 762</td><td>6</td><td> 0</td><td>2013-01-01 06:00:00</td></tr>\n",
              "\t<tr><td>2013</td><td>1</td><td>1</td><td>601</td><td>600</td><td> 1</td><td> 844</td><td> 850</td><td> -6</td><td>B6</td><td> 343</td><td>N644JB</td><td>EWR</td><td>PBI</td><td>147</td><td>1023</td><td>6</td><td> 0</td><td>2013-01-01 06:00:00</td></tr>\n",
              "\t<tr><td>2013</td><td>1</td><td>1</td><td>602</td><td>610</td><td>-8</td><td> 812</td><td> 820</td><td> -8</td><td>DL</td><td>1919</td><td>N971DL</td><td>LGA</td><td>MSP</td><td>170</td><td>1020</td><td>6</td><td>10</td><td>2013-01-01 06:00:00</td></tr>\n",
              "\t<tr><td>2013</td><td>1</td><td>1</td><td>602</td><td>605</td><td>-3</td><td> 821</td><td> 805</td><td> 16</td><td>MQ</td><td>4401</td><td>N730MQ</td><td>LGA</td><td>DTW</td><td>105</td><td> 502</td><td>6</td><td> 5</td><td>2013-01-01 06:00:00</td></tr>\n",
              "\t<tr><td>2013</td><td>1</td><td>1</td><td>606</td><td>610</td><td>-4</td><td> 858</td><td> 910</td><td>-12</td><td>AA</td><td>1895</td><td>N633AA</td><td>EWR</td><td>MIA</td><td>152</td><td>1085</td><td>6</td><td>10</td><td>2013-01-01 06:00:00</td></tr>\n",
              "\t<tr><td>2013</td><td>1</td><td>1</td><td>606</td><td>610</td><td>-4</td><td> 837</td><td> 845</td><td> -8</td><td>DL</td><td>1743</td><td>N3739P</td><td>JFK</td><td>ATL</td><td>128</td><td> 760</td><td>6</td><td>10</td><td>2013-01-01 06:00:00</td></tr>\n",
              "\t<tr><td>2013</td><td>1</td><td>1</td><td>607</td><td>607</td><td> 0</td><td> 858</td><td> 915</td><td>-17</td><td>UA</td><td>1077</td><td>N53442</td><td>EWR</td><td>MIA</td><td>157</td><td>1085</td><td>6</td><td> 7</td><td>2013-01-01 06:00:00</td></tr>\n",
              "\t<tr><td>2013</td><td>1</td><td>1</td><td>608</td><td>600</td><td> 8</td><td> 807</td><td> 735</td><td> 32</td><td>MQ</td><td>3768</td><td>N9EAMQ</td><td>EWR</td><td>ORD</td><td>139</td><td> 719</td><td>6</td><td> 0</td><td>2013-01-01 06:00:00</td></tr>\n",
              "\t<tr><td>2013</td><td>1</td><td>1</td><td>611</td><td>600</td><td>11</td><td> 945</td><td> 931</td><td> 14</td><td>UA</td><td> 303</td><td>N532UA</td><td>JFK</td><td>SFO</td><td>366</td><td>2586</td><td>6</td><td> 0</td><td>2013-01-01 06:00:00</td></tr>\n",
              "\t<tr><td>2013</td><td>1</td><td>1</td><td>613</td><td>610</td><td> 3</td><td> 925</td><td> 921</td><td>  4</td><td>B6</td><td> 135</td><td>N635JB</td><td>JFK</td><td>RSW</td><td>175</td><td>1074</td><td>6</td><td>10</td><td>2013-01-01 06:00:00</td></tr>\n",
              "\t<tr><td>2013</td><td>1</td><td>1</td><td>615</td><td>615</td><td> 0</td><td>1039</td><td>1100</td><td>-21</td><td>B6</td><td> 709</td><td>N794JB</td><td>JFK</td><td>SJU</td><td>182</td><td>1598</td><td>6</td><td>15</td><td>2013-01-01 06:00:00</td></tr>\n",
              "\t<tr><td>2013</td><td>1</td><td>1</td><td>615</td><td>615</td><td> 0</td><td> 833</td><td> 842</td><td> -9</td><td>DL</td><td> 575</td><td>N326NB</td><td>EWR</td><td>ATL</td><td>120</td><td> 746</td><td>6</td><td>15</td><td>2013-01-01 06:00:00</td></tr>\n",
              "\t<tr><td>⋮</td><td>⋮</td><td>⋮</td><td>⋮</td><td>⋮</td><td>⋮</td><td>⋮</td><td>⋮</td><td>⋮</td><td>⋮</td><td>⋮</td><td>⋮</td><td>⋮</td><td>⋮</td><td>⋮</td><td>⋮</td><td>⋮</td><td>⋮</td><td>⋮</td></tr>\n",
              "\t<tr><td>2013</td><td>1</td><td>1</td><td>2140</td><td>2135</td><td>  5</td><td> 210</td><td> 224</td><td>-14</td><td>B6</td><td> 701</td><td>N284JB</td><td>JFK</td><td>SJU</td><td>189</td><td>1598</td><td>21</td><td>35</td><td>2013-01-01 21:00:00</td></tr>\n",
              "\t<tr><td>2013</td><td>1</td><td>1</td><td>2157</td><td>2155</td><td>  2</td><td>  43</td><td>  41</td><td>  2</td><td>B6</td><td>  43</td><td>N537JB</td><td>JFK</td><td>MCO</td><td>140</td><td> 944</td><td>21</td><td>55</td><td>2013-01-01 21:00:00</td></tr>\n",
              "\t<tr><td>2013</td><td>1</td><td>1</td><td>2158</td><td>2200</td><td> -2</td><td>2254</td><td>2307</td><td>-13</td><td>EV</td><td>4103</td><td>N14998</td><td>EWR</td><td>BWI</td><td> 36</td><td> 169</td><td>22</td><td> 0</td><td>2013-01-01 22:00:00</td></tr>\n",
              "\t<tr><td>2013</td><td>1</td><td>1</td><td>2205</td><td>1720</td><td>285</td><td>  46</td><td>2040</td><td>246</td><td>AA</td><td>1999</td><td>N5DNAA</td><td>EWR</td><td>MIA</td><td>146</td><td>1085</td><td>17</td><td>20</td><td>2013-01-01 17:00:00</td></tr>\n",
              "\t<tr><td>2013</td><td>1</td><td>1</td><td>2209</td><td>2145</td><td> 24</td><td>  58</td><td>  37</td><td> 21</td><td>B6</td><td>  35</td><td>N608JB</td><td>JFK</td><td>PBI</td><td>143</td><td>1028</td><td>21</td><td>45</td><td>2013-01-01 21:00:00</td></tr>\n",
              "\t<tr><td>2013</td><td>1</td><td>1</td><td>2209</td><td>2155</td><td> 14</td><td>2400</td><td>2337</td><td> 23</td><td>B6</td><td>1109</td><td>N216JB</td><td>JFK</td><td>RDU</td><td> 86</td><td> 427</td><td>21</td><td>55</td><td>2013-01-01 21:00:00</td></tr>\n",
              "\t<tr><td>2013</td><td>1</td><td>1</td><td>2211</td><td>2145</td><td> 26</td><td>2339</td><td>2311</td><td> 28</td><td>B6</td><td> 104</td><td>N228JB</td><td>JFK</td><td>BUF</td><td> 64</td><td> 301</td><td>21</td><td>45</td><td>2013-01-01 21:00:00</td></tr>\n",
              "\t<tr><td>2013</td><td>1</td><td>1</td><td>2217</td><td>2229</td><td>-12</td><td> 249</td><td> 315</td><td>-26</td><td>B6</td><td> 713</td><td>N547JB</td><td>JFK</td><td>SJU</td><td>191</td><td>1598</td><td>22</td><td>29</td><td>2013-01-01 22:00:00</td></tr>\n",
              "\t<tr><td>2013</td><td>1</td><td>1</td><td>2217</td><td>2130</td><td> 47</td><td> 140</td><td>  27</td><td> 73</td><td>B6</td><td>  21</td><td>N516JB</td><td>JFK</td><td>TPA</td><td>163</td><td>1005</td><td>21</td><td>30</td><td>2013-01-01 21:00:00</td></tr>\n",
              "\t<tr><td>2013</td><td>1</td><td>1</td><td>2221</td><td>2000</td><td>141</td><td>2331</td><td>2124</td><td>127</td><td>EV</td><td>4462</td><td>N13566</td><td>EWR</td><td>BUF</td><td> 56</td><td> 282</td><td>20</td><td> 0</td><td>2013-01-01 20:00:00</td></tr>\n",
              "\t<tr><td>2013</td><td>1</td><td>1</td><td>2224</td><td>2200</td><td> 24</td><td>2324</td><td>2316</td><td>  8</td><td>EV</td><td>4206</td><td>N16561</td><td>EWR</td><td>PWM</td><td> 47</td><td> 284</td><td>22</td><td> 0</td><td>2013-01-01 22:00:00</td></tr>\n",
              "\t<tr><td>2013</td><td>1</td><td>1</td><td>2229</td><td>2159</td><td> 30</td><td> 149</td><td> 100</td><td> 49</td><td>B6</td><td>  11</td><td>N531JB</td><td>JFK</td><td>FLL</td><td>153</td><td>1069</td><td>21</td><td>59</td><td>2013-01-01 21:00:00</td></tr>\n",
              "\t<tr><td>2013</td><td>1</td><td>1</td><td>2240</td><td>2245</td><td> -5</td><td>2340</td><td>2356</td><td>-16</td><td>B6</td><td> 608</td><td>N279JB</td><td>JFK</td><td>PWM</td><td> 44</td><td> 273</td><td>22</td><td>45</td><td>2013-01-01 22:00:00</td></tr>\n",
              "\t<tr><td>2013</td><td>1</td><td>1</td><td>2250</td><td>2255</td><td> -5</td><td>2352</td><td>2359</td><td> -7</td><td>B6</td><td>1018</td><td>N521JB</td><td>JFK</td><td>BOS</td><td> 37</td><td> 187</td><td>22</td><td>55</td><td>2013-01-01 22:00:00</td></tr>\n",
              "\t<tr><td>2013</td><td>1</td><td>1</td><td>2302</td><td>2200</td><td> 62</td><td>2342</td><td>2253</td><td> 49</td><td>EV</td><td>4276</td><td>N13903</td><td>EWR</td><td>BDL</td><td> 24</td><td> 116</td><td>22</td><td> 0</td><td>2013-01-01 22:00:00</td></tr>\n",
              "\t<tr><td>2013</td><td>1</td><td>1</td><td>2306</td><td>2245</td><td> 21</td><td>  28</td><td>   5</td><td> 23</td><td>B6</td><td>  30</td><td>N281JB</td><td>JFK</td><td>ROC</td><td> 59</td><td> 264</td><td>22</td><td>45</td><td>2013-01-01 22:00:00</td></tr>\n",
              "\t<tr><td>2013</td><td>1</td><td>1</td><td>2307</td><td>2245</td><td> 22</td><td>  32</td><td>2357</td><td> 35</td><td>B6</td><td> 128</td><td>N178JB</td><td>JFK</td><td>BTV</td><td> 59</td><td> 266</td><td>22</td><td>45</td><td>2013-01-01 22:00:00</td></tr>\n",
              "\t<tr><td>2013</td><td>1</td><td>1</td><td>2310</td><td>2255</td><td> 15</td><td>  24</td><td>  15</td><td>  9</td><td>B6</td><td> 112</td><td>N646JB</td><td>JFK</td><td>BUF</td><td> 57</td><td> 301</td><td>22</td><td>55</td><td>2013-01-01 22:00:00</td></tr>\n",
              "\t<tr><td>2013</td><td>1</td><td>1</td><td>2312</td><td>2000</td><td>192</td><td>  21</td><td>2110</td><td>191</td><td>EV</td><td>4312</td><td>N13958</td><td>EWR</td><td>DCA</td><td> 44</td><td> 199</td><td>20</td><td> 0</td><td>2013-01-01 20:00:00</td></tr>\n",
              "\t<tr><td>2013</td><td>1</td><td>1</td><td>2323</td><td>2200</td><td> 83</td><td>  22</td><td>2313</td><td> 69</td><td>EV</td><td>4257</td><td>N13538</td><td>EWR</td><td>BTV</td><td> 44</td><td> 266</td><td>22</td><td> 0</td><td>2013-01-01 22:00:00</td></tr>\n",
              "\t<tr><td>2013</td><td>1</td><td>1</td><td>2326</td><td>2130</td><td>116</td><td> 131</td><td>  18</td><td> 73</td><td>B6</td><td> 199</td><td>N594JB</td><td>JFK</td><td>LAS</td><td>290</td><td>2248</td><td>21</td><td>30</td><td>2013-01-01 21:00:00</td></tr>\n",
              "\t<tr><td>2013</td><td>1</td><td>1</td><td>2327</td><td>2250</td><td> 37</td><td>  32</td><td>2359</td><td> 33</td><td>B6</td><td>  22</td><td>N639JB</td><td>JFK</td><td>SYR</td><td> 45</td><td> 209</td><td>22</td><td>50</td><td>2013-01-01 22:00:00</td></tr>\n",
              "\t<tr><td>2013</td><td>1</td><td>1</td><td>2343</td><td>1724</td><td>379</td><td> 314</td><td>1938</td><td>456</td><td>EV</td><td>4321</td><td>N21197</td><td>EWR</td><td>MCI</td><td>222</td><td>1092</td><td>17</td><td>24</td><td>2013-01-01 17:00:00</td></tr>\n",
              "\t<tr><td>2013</td><td>1</td><td>1</td><td>2353</td><td>2359</td><td> -6</td><td> 425</td><td> 445</td><td>-20</td><td>B6</td><td> 739</td><td>N591JB</td><td>JFK</td><td>PSE</td><td>195</td><td>1617</td><td>23</td><td>59</td><td>2013-01-01 23:00:00</td></tr>\n",
              "\t<tr><td>2013</td><td>1</td><td>1</td><td>2353</td><td>2359</td><td> -6</td><td> 418</td><td> 442</td><td>-24</td><td>B6</td><td> 707</td><td>N794JB</td><td>JFK</td><td>SJU</td><td>185</td><td>1598</td><td>23</td><td>59</td><td>2013-01-01 23:00:00</td></tr>\n",
              "\t<tr><td>2013</td><td>1</td><td>1</td><td>2356</td><td>2359</td><td> -3</td><td> 425</td><td> 437</td><td>-12</td><td>B6</td><td> 727</td><td>N588JB</td><td>JFK</td><td>BQN</td><td>186</td><td>1576</td><td>23</td><td>59</td><td>2013-01-01 23:00:00</td></tr>\n",
              "\t<tr><td>2013</td><td>1</td><td>1</td><td>  NA</td><td>1630</td><td> NA</td><td>  NA</td><td>1815</td><td> NA</td><td>EV</td><td>4308</td><td>N18120</td><td>EWR</td><td>RDU</td><td> NA</td><td> 416</td><td>16</td><td>30</td><td>2013-01-01 16:00:00</td></tr>\n",
              "\t<tr><td>2013</td><td>1</td><td>1</td><td>  NA</td><td>1935</td><td> NA</td><td>  NA</td><td>2240</td><td> NA</td><td>AA</td><td> 791</td><td>N3EHAA</td><td>LGA</td><td>DFW</td><td> NA</td><td>1389</td><td>19</td><td>35</td><td>2013-01-01 19:00:00</td></tr>\n",
              "\t<tr><td>2013</td><td>1</td><td>1</td><td>  NA</td><td>1500</td><td> NA</td><td>  NA</td><td>1825</td><td> NA</td><td>AA</td><td>1925</td><td>N3EVAA</td><td>LGA</td><td>MIA</td><td> NA</td><td>1096</td><td>15</td><td> 0</td><td>2013-01-01 15:00:00</td></tr>\n",
              "\t<tr><td>2013</td><td>1</td><td>1</td><td>  NA</td><td> 600</td><td> NA</td><td>  NA</td><td> 901</td><td> NA</td><td>B6</td><td> 125</td><td>N618JB</td><td>JFK</td><td>FLL</td><td> NA</td><td>1069</td><td> 6</td><td> 0</td><td>2013-01-01 06:00:00</td></tr>\n",
              "</tbody>\n",
              "</table>\n"
            ],
            "text/markdown": "\nA tibble: 842 × 19\n\n| year &lt;int&gt; | month &lt;int&gt; | day &lt;int&gt; | dep_time &lt;int&gt; | sched_dep_time &lt;int&gt; | dep_delay &lt;dbl&gt; | arr_time &lt;int&gt; | sched_arr_time &lt;int&gt; | arr_delay &lt;dbl&gt; | carrier &lt;chr&gt; | flight &lt;int&gt; | tailnum &lt;chr&gt; | origin &lt;chr&gt; | dest &lt;chr&gt; | air_time &lt;dbl&gt; | distance &lt;dbl&gt; | hour &lt;dbl&gt; | minute &lt;dbl&gt; | time_hour &lt;dttm&gt; |\n|---|---|---|---|---|---|---|---|---|---|---|---|---|---|---|---|---|---|---|\n| 2013 | 1 | 1 | 517 | 515 |  2 |  830 |  819 |  11 | UA | 1545 | N14228 | EWR | IAH | 227 | 1400 | 5 | 15 | 2013-01-01 05:00:00 |\n| 2013 | 1 | 1 | 533 | 529 |  4 |  850 |  830 |  20 | UA | 1714 | N24211 | LGA | IAH | 227 | 1416 | 5 | 29 | 2013-01-01 05:00:00 |\n| 2013 | 1 | 1 | 542 | 540 |  2 |  923 |  850 |  33 | AA | 1141 | N619AA | JFK | MIA | 160 | 1089 | 5 | 40 | 2013-01-01 05:00:00 |\n| 2013 | 1 | 1 | 544 | 545 | -1 | 1004 | 1022 | -18 | B6 |  725 | N804JB | JFK | BQN | 183 | 1576 | 5 | 45 | 2013-01-01 05:00:00 |\n| 2013 | 1 | 1 | 554 | 600 | -6 |  812 |  837 | -25 | DL |  461 | N668DN | LGA | ATL | 116 |  762 | 6 |  0 | 2013-01-01 06:00:00 |\n| 2013 | 1 | 1 | 554 | 558 | -4 |  740 |  728 |  12 | UA | 1696 | N39463 | EWR | ORD | 150 |  719 | 5 | 58 | 2013-01-01 05:00:00 |\n| 2013 | 1 | 1 | 555 | 600 | -5 |  913 |  854 |  19 | B6 |  507 | N516JB | EWR | FLL | 158 | 1065 | 6 |  0 | 2013-01-01 06:00:00 |\n| 2013 | 1 | 1 | 557 | 600 | -3 |  709 |  723 | -14 | EV | 5708 | N829AS | LGA | IAD |  53 |  229 | 6 |  0 | 2013-01-01 06:00:00 |\n| 2013 | 1 | 1 | 557 | 600 | -3 |  838 |  846 |  -8 | B6 |   79 | N593JB | JFK | MCO | 140 |  944 | 6 |  0 | 2013-01-01 06:00:00 |\n| 2013 | 1 | 1 | 558 | 600 | -2 |  753 |  745 |   8 | AA |  301 | N3ALAA | LGA | ORD | 138 |  733 | 6 |  0 | 2013-01-01 06:00:00 |\n| 2013 | 1 | 1 | 558 | 600 | -2 |  849 |  851 |  -2 | B6 |   49 | N793JB | JFK | PBI | 149 | 1028 | 6 |  0 | 2013-01-01 06:00:00 |\n| 2013 | 1 | 1 | 558 | 600 | -2 |  853 |  856 |  -3 | B6 |   71 | N657JB | JFK | TPA | 158 | 1005 | 6 |  0 | 2013-01-01 06:00:00 |\n| 2013 | 1 | 1 | 558 | 600 | -2 |  924 |  917 |   7 | UA |  194 | N29129 | JFK | LAX | 345 | 2475 | 6 |  0 | 2013-01-01 06:00:00 |\n| 2013 | 1 | 1 | 558 | 600 | -2 |  923 |  937 | -14 | UA | 1124 | N53441 | EWR | SFO | 361 | 2565 | 6 |  0 | 2013-01-01 06:00:00 |\n| 2013 | 1 | 1 | 559 | 600 | -1 |  941 |  910 |  31 | AA |  707 | N3DUAA | LGA | DFW | 257 | 1389 | 6 |  0 | 2013-01-01 06:00:00 |\n| 2013 | 1 | 1 | 559 | 559 |  0 |  702 |  706 |  -4 | B6 | 1806 | N708JB | JFK | BOS |  44 |  187 | 5 | 59 | 2013-01-01 05:00:00 |\n| 2013 | 1 | 1 | 559 | 600 | -1 |  854 |  902 |  -8 | UA | 1187 | N76515 | EWR | LAS | 337 | 2227 | 6 |  0 | 2013-01-01 06:00:00 |\n| 2013 | 1 | 1 | 600 | 600 |  0 |  851 |  858 |  -7 | B6 |  371 | N595JB | LGA | FLL | 152 | 1076 | 6 |  0 | 2013-01-01 06:00:00 |\n| 2013 | 1 | 1 | 600 | 600 |  0 |  837 |  825 |  12 | MQ | 4650 | N542MQ | LGA | ATL | 134 |  762 | 6 |  0 | 2013-01-01 06:00:00 |\n| 2013 | 1 | 1 | 601 | 600 |  1 |  844 |  850 |  -6 | B6 |  343 | N644JB | EWR | PBI | 147 | 1023 | 6 |  0 | 2013-01-01 06:00:00 |\n| 2013 | 1 | 1 | 602 | 610 | -8 |  812 |  820 |  -8 | DL | 1919 | N971DL | LGA | MSP | 170 | 1020 | 6 | 10 | 2013-01-01 06:00:00 |\n| 2013 | 1 | 1 | 602 | 605 | -3 |  821 |  805 |  16 | MQ | 4401 | N730MQ | LGA | DTW | 105 |  502 | 6 |  5 | 2013-01-01 06:00:00 |\n| 2013 | 1 | 1 | 606 | 610 | -4 |  858 |  910 | -12 | AA | 1895 | N633AA | EWR | MIA | 152 | 1085 | 6 | 10 | 2013-01-01 06:00:00 |\n| 2013 | 1 | 1 | 606 | 610 | -4 |  837 |  845 |  -8 | DL | 1743 | N3739P | JFK | ATL | 128 |  760 | 6 | 10 | 2013-01-01 06:00:00 |\n| 2013 | 1 | 1 | 607 | 607 |  0 |  858 |  915 | -17 | UA | 1077 | N53442 | EWR | MIA | 157 | 1085 | 6 |  7 | 2013-01-01 06:00:00 |\n| 2013 | 1 | 1 | 608 | 600 |  8 |  807 |  735 |  32 | MQ | 3768 | N9EAMQ | EWR | ORD | 139 |  719 | 6 |  0 | 2013-01-01 06:00:00 |\n| 2013 | 1 | 1 | 611 | 600 | 11 |  945 |  931 |  14 | UA |  303 | N532UA | JFK | SFO | 366 | 2586 | 6 |  0 | 2013-01-01 06:00:00 |\n| 2013 | 1 | 1 | 613 | 610 |  3 |  925 |  921 |   4 | B6 |  135 | N635JB | JFK | RSW | 175 | 1074 | 6 | 10 | 2013-01-01 06:00:00 |\n| 2013 | 1 | 1 | 615 | 615 |  0 | 1039 | 1100 | -21 | B6 |  709 | N794JB | JFK | SJU | 182 | 1598 | 6 | 15 | 2013-01-01 06:00:00 |\n| 2013 | 1 | 1 | 615 | 615 |  0 |  833 |  842 |  -9 | DL |  575 | N326NB | EWR | ATL | 120 |  746 | 6 | 15 | 2013-01-01 06:00:00 |\n| ⋮ | ⋮ | ⋮ | ⋮ | ⋮ | ⋮ | ⋮ | ⋮ | ⋮ | ⋮ | ⋮ | ⋮ | ⋮ | ⋮ | ⋮ | ⋮ | ⋮ | ⋮ | ⋮ |\n| 2013 | 1 | 1 | 2140 | 2135 |   5 |  210 |  224 | -14 | B6 |  701 | N284JB | JFK | SJU | 189 | 1598 | 21 | 35 | 2013-01-01 21:00:00 |\n| 2013 | 1 | 1 | 2157 | 2155 |   2 |   43 |   41 |   2 | B6 |   43 | N537JB | JFK | MCO | 140 |  944 | 21 | 55 | 2013-01-01 21:00:00 |\n| 2013 | 1 | 1 | 2158 | 2200 |  -2 | 2254 | 2307 | -13 | EV | 4103 | N14998 | EWR | BWI |  36 |  169 | 22 |  0 | 2013-01-01 22:00:00 |\n| 2013 | 1 | 1 | 2205 | 1720 | 285 |   46 | 2040 | 246 | AA | 1999 | N5DNAA | EWR | MIA | 146 | 1085 | 17 | 20 | 2013-01-01 17:00:00 |\n| 2013 | 1 | 1 | 2209 | 2145 |  24 |   58 |   37 |  21 | B6 |   35 | N608JB | JFK | PBI | 143 | 1028 | 21 | 45 | 2013-01-01 21:00:00 |\n| 2013 | 1 | 1 | 2209 | 2155 |  14 | 2400 | 2337 |  23 | B6 | 1109 | N216JB | JFK | RDU |  86 |  427 | 21 | 55 | 2013-01-01 21:00:00 |\n| 2013 | 1 | 1 | 2211 | 2145 |  26 | 2339 | 2311 |  28 | B6 |  104 | N228JB | JFK | BUF |  64 |  301 | 21 | 45 | 2013-01-01 21:00:00 |\n| 2013 | 1 | 1 | 2217 | 2229 | -12 |  249 |  315 | -26 | B6 |  713 | N547JB | JFK | SJU | 191 | 1598 | 22 | 29 | 2013-01-01 22:00:00 |\n| 2013 | 1 | 1 | 2217 | 2130 |  47 |  140 |   27 |  73 | B6 |   21 | N516JB | JFK | TPA | 163 | 1005 | 21 | 30 | 2013-01-01 21:00:00 |\n| 2013 | 1 | 1 | 2221 | 2000 | 141 | 2331 | 2124 | 127 | EV | 4462 | N13566 | EWR | BUF |  56 |  282 | 20 |  0 | 2013-01-01 20:00:00 |\n| 2013 | 1 | 1 | 2224 | 2200 |  24 | 2324 | 2316 |   8 | EV | 4206 | N16561 | EWR | PWM |  47 |  284 | 22 |  0 | 2013-01-01 22:00:00 |\n| 2013 | 1 | 1 | 2229 | 2159 |  30 |  149 |  100 |  49 | B6 |   11 | N531JB | JFK | FLL | 153 | 1069 | 21 | 59 | 2013-01-01 21:00:00 |\n| 2013 | 1 | 1 | 2240 | 2245 |  -5 | 2340 | 2356 | -16 | B6 |  608 | N279JB | JFK | PWM |  44 |  273 | 22 | 45 | 2013-01-01 22:00:00 |\n| 2013 | 1 | 1 | 2250 | 2255 |  -5 | 2352 | 2359 |  -7 | B6 | 1018 | N521JB | JFK | BOS |  37 |  187 | 22 | 55 | 2013-01-01 22:00:00 |\n| 2013 | 1 | 1 | 2302 | 2200 |  62 | 2342 | 2253 |  49 | EV | 4276 | N13903 | EWR | BDL |  24 |  116 | 22 |  0 | 2013-01-01 22:00:00 |\n| 2013 | 1 | 1 | 2306 | 2245 |  21 |   28 |    5 |  23 | B6 |   30 | N281JB | JFK | ROC |  59 |  264 | 22 | 45 | 2013-01-01 22:00:00 |\n| 2013 | 1 | 1 | 2307 | 2245 |  22 |   32 | 2357 |  35 | B6 |  128 | N178JB | JFK | BTV |  59 |  266 | 22 | 45 | 2013-01-01 22:00:00 |\n| 2013 | 1 | 1 | 2310 | 2255 |  15 |   24 |   15 |   9 | B6 |  112 | N646JB | JFK | BUF |  57 |  301 | 22 | 55 | 2013-01-01 22:00:00 |\n| 2013 | 1 | 1 | 2312 | 2000 | 192 |   21 | 2110 | 191 | EV | 4312 | N13958 | EWR | DCA |  44 |  199 | 20 |  0 | 2013-01-01 20:00:00 |\n| 2013 | 1 | 1 | 2323 | 2200 |  83 |   22 | 2313 |  69 | EV | 4257 | N13538 | EWR | BTV |  44 |  266 | 22 |  0 | 2013-01-01 22:00:00 |\n| 2013 | 1 | 1 | 2326 | 2130 | 116 |  131 |   18 |  73 | B6 |  199 | N594JB | JFK | LAS | 290 | 2248 | 21 | 30 | 2013-01-01 21:00:00 |\n| 2013 | 1 | 1 | 2327 | 2250 |  37 |   32 | 2359 |  33 | B6 |   22 | N639JB | JFK | SYR |  45 |  209 | 22 | 50 | 2013-01-01 22:00:00 |\n| 2013 | 1 | 1 | 2343 | 1724 | 379 |  314 | 1938 | 456 | EV | 4321 | N21197 | EWR | MCI | 222 | 1092 | 17 | 24 | 2013-01-01 17:00:00 |\n| 2013 | 1 | 1 | 2353 | 2359 |  -6 |  425 |  445 | -20 | B6 |  739 | N591JB | JFK | PSE | 195 | 1617 | 23 | 59 | 2013-01-01 23:00:00 |\n| 2013 | 1 | 1 | 2353 | 2359 |  -6 |  418 |  442 | -24 | B6 |  707 | N794JB | JFK | SJU | 185 | 1598 | 23 | 59 | 2013-01-01 23:00:00 |\n| 2013 | 1 | 1 | 2356 | 2359 |  -3 |  425 |  437 | -12 | B6 |  727 | N588JB | JFK | BQN | 186 | 1576 | 23 | 59 | 2013-01-01 23:00:00 |\n| 2013 | 1 | 1 |   NA | 1630 |  NA |   NA | 1815 |  NA | EV | 4308 | N18120 | EWR | RDU |  NA |  416 | 16 | 30 | 2013-01-01 16:00:00 |\n| 2013 | 1 | 1 |   NA | 1935 |  NA |   NA | 2240 |  NA | AA |  791 | N3EHAA | LGA | DFW |  NA | 1389 | 19 | 35 | 2013-01-01 19:00:00 |\n| 2013 | 1 | 1 |   NA | 1500 |  NA |   NA | 1825 |  NA | AA | 1925 | N3EVAA | LGA | MIA |  NA | 1096 | 15 |  0 | 2013-01-01 15:00:00 |\n| 2013 | 1 | 1 |   NA |  600 |  NA |   NA |  901 |  NA | B6 |  125 | N618JB | JFK | FLL |  NA | 1069 |  6 |  0 | 2013-01-01 06:00:00 |\n\n",
            "text/latex": "A tibble: 842 × 19\n\\begin{tabular}{lllllllllllllllllll}\n year & month & day & dep\\_time & sched\\_dep\\_time & dep\\_delay & arr\\_time & sched\\_arr\\_time & arr\\_delay & carrier & flight & tailnum & origin & dest & air\\_time & distance & hour & minute & time\\_hour\\\\\n <int> & <int> & <int> & <int> & <int> & <dbl> & <int> & <int> & <dbl> & <chr> & <int> & <chr> & <chr> & <chr> & <dbl> & <dbl> & <dbl> & <dbl> & <dttm>\\\\\n\\hline\n\t 2013 & 1 & 1 & 517 & 515 &  2 &  830 &  819 &  11 & UA & 1545 & N14228 & EWR & IAH & 227 & 1400 & 5 & 15 & 2013-01-01 05:00:00\\\\\n\t 2013 & 1 & 1 & 533 & 529 &  4 &  850 &  830 &  20 & UA & 1714 & N24211 & LGA & IAH & 227 & 1416 & 5 & 29 & 2013-01-01 05:00:00\\\\\n\t 2013 & 1 & 1 & 542 & 540 &  2 &  923 &  850 &  33 & AA & 1141 & N619AA & JFK & MIA & 160 & 1089 & 5 & 40 & 2013-01-01 05:00:00\\\\\n\t 2013 & 1 & 1 & 544 & 545 & -1 & 1004 & 1022 & -18 & B6 &  725 & N804JB & JFK & BQN & 183 & 1576 & 5 & 45 & 2013-01-01 05:00:00\\\\\n\t 2013 & 1 & 1 & 554 & 600 & -6 &  812 &  837 & -25 & DL &  461 & N668DN & LGA & ATL & 116 &  762 & 6 &  0 & 2013-01-01 06:00:00\\\\\n\t 2013 & 1 & 1 & 554 & 558 & -4 &  740 &  728 &  12 & UA & 1696 & N39463 & EWR & ORD & 150 &  719 & 5 & 58 & 2013-01-01 05:00:00\\\\\n\t 2013 & 1 & 1 & 555 & 600 & -5 &  913 &  854 &  19 & B6 &  507 & N516JB & EWR & FLL & 158 & 1065 & 6 &  0 & 2013-01-01 06:00:00\\\\\n\t 2013 & 1 & 1 & 557 & 600 & -3 &  709 &  723 & -14 & EV & 5708 & N829AS & LGA & IAD &  53 &  229 & 6 &  0 & 2013-01-01 06:00:00\\\\\n\t 2013 & 1 & 1 & 557 & 600 & -3 &  838 &  846 &  -8 & B6 &   79 & N593JB & JFK & MCO & 140 &  944 & 6 &  0 & 2013-01-01 06:00:00\\\\\n\t 2013 & 1 & 1 & 558 & 600 & -2 &  753 &  745 &   8 & AA &  301 & N3ALAA & LGA & ORD & 138 &  733 & 6 &  0 & 2013-01-01 06:00:00\\\\\n\t 2013 & 1 & 1 & 558 & 600 & -2 &  849 &  851 &  -2 & B6 &   49 & N793JB & JFK & PBI & 149 & 1028 & 6 &  0 & 2013-01-01 06:00:00\\\\\n\t 2013 & 1 & 1 & 558 & 600 & -2 &  853 &  856 &  -3 & B6 &   71 & N657JB & JFK & TPA & 158 & 1005 & 6 &  0 & 2013-01-01 06:00:00\\\\\n\t 2013 & 1 & 1 & 558 & 600 & -2 &  924 &  917 &   7 & UA &  194 & N29129 & JFK & LAX & 345 & 2475 & 6 &  0 & 2013-01-01 06:00:00\\\\\n\t 2013 & 1 & 1 & 558 & 600 & -2 &  923 &  937 & -14 & UA & 1124 & N53441 & EWR & SFO & 361 & 2565 & 6 &  0 & 2013-01-01 06:00:00\\\\\n\t 2013 & 1 & 1 & 559 & 600 & -1 &  941 &  910 &  31 & AA &  707 & N3DUAA & LGA & DFW & 257 & 1389 & 6 &  0 & 2013-01-01 06:00:00\\\\\n\t 2013 & 1 & 1 & 559 & 559 &  0 &  702 &  706 &  -4 & B6 & 1806 & N708JB & JFK & BOS &  44 &  187 & 5 & 59 & 2013-01-01 05:00:00\\\\\n\t 2013 & 1 & 1 & 559 & 600 & -1 &  854 &  902 &  -8 & UA & 1187 & N76515 & EWR & LAS & 337 & 2227 & 6 &  0 & 2013-01-01 06:00:00\\\\\n\t 2013 & 1 & 1 & 600 & 600 &  0 &  851 &  858 &  -7 & B6 &  371 & N595JB & LGA & FLL & 152 & 1076 & 6 &  0 & 2013-01-01 06:00:00\\\\\n\t 2013 & 1 & 1 & 600 & 600 &  0 &  837 &  825 &  12 & MQ & 4650 & N542MQ & LGA & ATL & 134 &  762 & 6 &  0 & 2013-01-01 06:00:00\\\\\n\t 2013 & 1 & 1 & 601 & 600 &  1 &  844 &  850 &  -6 & B6 &  343 & N644JB & EWR & PBI & 147 & 1023 & 6 &  0 & 2013-01-01 06:00:00\\\\\n\t 2013 & 1 & 1 & 602 & 610 & -8 &  812 &  820 &  -8 & DL & 1919 & N971DL & LGA & MSP & 170 & 1020 & 6 & 10 & 2013-01-01 06:00:00\\\\\n\t 2013 & 1 & 1 & 602 & 605 & -3 &  821 &  805 &  16 & MQ & 4401 & N730MQ & LGA & DTW & 105 &  502 & 6 &  5 & 2013-01-01 06:00:00\\\\\n\t 2013 & 1 & 1 & 606 & 610 & -4 &  858 &  910 & -12 & AA & 1895 & N633AA & EWR & MIA & 152 & 1085 & 6 & 10 & 2013-01-01 06:00:00\\\\\n\t 2013 & 1 & 1 & 606 & 610 & -4 &  837 &  845 &  -8 & DL & 1743 & N3739P & JFK & ATL & 128 &  760 & 6 & 10 & 2013-01-01 06:00:00\\\\\n\t 2013 & 1 & 1 & 607 & 607 &  0 &  858 &  915 & -17 & UA & 1077 & N53442 & EWR & MIA & 157 & 1085 & 6 &  7 & 2013-01-01 06:00:00\\\\\n\t 2013 & 1 & 1 & 608 & 600 &  8 &  807 &  735 &  32 & MQ & 3768 & N9EAMQ & EWR & ORD & 139 &  719 & 6 &  0 & 2013-01-01 06:00:00\\\\\n\t 2013 & 1 & 1 & 611 & 600 & 11 &  945 &  931 &  14 & UA &  303 & N532UA & JFK & SFO & 366 & 2586 & 6 &  0 & 2013-01-01 06:00:00\\\\\n\t 2013 & 1 & 1 & 613 & 610 &  3 &  925 &  921 &   4 & B6 &  135 & N635JB & JFK & RSW & 175 & 1074 & 6 & 10 & 2013-01-01 06:00:00\\\\\n\t 2013 & 1 & 1 & 615 & 615 &  0 & 1039 & 1100 & -21 & B6 &  709 & N794JB & JFK & SJU & 182 & 1598 & 6 & 15 & 2013-01-01 06:00:00\\\\\n\t 2013 & 1 & 1 & 615 & 615 &  0 &  833 &  842 &  -9 & DL &  575 & N326NB & EWR & ATL & 120 &  746 & 6 & 15 & 2013-01-01 06:00:00\\\\\n\t ⋮ & ⋮ & ⋮ & ⋮ & ⋮ & ⋮ & ⋮ & ⋮ & ⋮ & ⋮ & ⋮ & ⋮ & ⋮ & ⋮ & ⋮ & ⋮ & ⋮ & ⋮ & ⋮\\\\\n\t 2013 & 1 & 1 & 2140 & 2135 &   5 &  210 &  224 & -14 & B6 &  701 & N284JB & JFK & SJU & 189 & 1598 & 21 & 35 & 2013-01-01 21:00:00\\\\\n\t 2013 & 1 & 1 & 2157 & 2155 &   2 &   43 &   41 &   2 & B6 &   43 & N537JB & JFK & MCO & 140 &  944 & 21 & 55 & 2013-01-01 21:00:00\\\\\n\t 2013 & 1 & 1 & 2158 & 2200 &  -2 & 2254 & 2307 & -13 & EV & 4103 & N14998 & EWR & BWI &  36 &  169 & 22 &  0 & 2013-01-01 22:00:00\\\\\n\t 2013 & 1 & 1 & 2205 & 1720 & 285 &   46 & 2040 & 246 & AA & 1999 & N5DNAA & EWR & MIA & 146 & 1085 & 17 & 20 & 2013-01-01 17:00:00\\\\\n\t 2013 & 1 & 1 & 2209 & 2145 &  24 &   58 &   37 &  21 & B6 &   35 & N608JB & JFK & PBI & 143 & 1028 & 21 & 45 & 2013-01-01 21:00:00\\\\\n\t 2013 & 1 & 1 & 2209 & 2155 &  14 & 2400 & 2337 &  23 & B6 & 1109 & N216JB & JFK & RDU &  86 &  427 & 21 & 55 & 2013-01-01 21:00:00\\\\\n\t 2013 & 1 & 1 & 2211 & 2145 &  26 & 2339 & 2311 &  28 & B6 &  104 & N228JB & JFK & BUF &  64 &  301 & 21 & 45 & 2013-01-01 21:00:00\\\\\n\t 2013 & 1 & 1 & 2217 & 2229 & -12 &  249 &  315 & -26 & B6 &  713 & N547JB & JFK & SJU & 191 & 1598 & 22 & 29 & 2013-01-01 22:00:00\\\\\n\t 2013 & 1 & 1 & 2217 & 2130 &  47 &  140 &   27 &  73 & B6 &   21 & N516JB & JFK & TPA & 163 & 1005 & 21 & 30 & 2013-01-01 21:00:00\\\\\n\t 2013 & 1 & 1 & 2221 & 2000 & 141 & 2331 & 2124 & 127 & EV & 4462 & N13566 & EWR & BUF &  56 &  282 & 20 &  0 & 2013-01-01 20:00:00\\\\\n\t 2013 & 1 & 1 & 2224 & 2200 &  24 & 2324 & 2316 &   8 & EV & 4206 & N16561 & EWR & PWM &  47 &  284 & 22 &  0 & 2013-01-01 22:00:00\\\\\n\t 2013 & 1 & 1 & 2229 & 2159 &  30 &  149 &  100 &  49 & B6 &   11 & N531JB & JFK & FLL & 153 & 1069 & 21 & 59 & 2013-01-01 21:00:00\\\\\n\t 2013 & 1 & 1 & 2240 & 2245 &  -5 & 2340 & 2356 & -16 & B6 &  608 & N279JB & JFK & PWM &  44 &  273 & 22 & 45 & 2013-01-01 22:00:00\\\\\n\t 2013 & 1 & 1 & 2250 & 2255 &  -5 & 2352 & 2359 &  -7 & B6 & 1018 & N521JB & JFK & BOS &  37 &  187 & 22 & 55 & 2013-01-01 22:00:00\\\\\n\t 2013 & 1 & 1 & 2302 & 2200 &  62 & 2342 & 2253 &  49 & EV & 4276 & N13903 & EWR & BDL &  24 &  116 & 22 &  0 & 2013-01-01 22:00:00\\\\\n\t 2013 & 1 & 1 & 2306 & 2245 &  21 &   28 &    5 &  23 & B6 &   30 & N281JB & JFK & ROC &  59 &  264 & 22 & 45 & 2013-01-01 22:00:00\\\\\n\t 2013 & 1 & 1 & 2307 & 2245 &  22 &   32 & 2357 &  35 & B6 &  128 & N178JB & JFK & BTV &  59 &  266 & 22 & 45 & 2013-01-01 22:00:00\\\\\n\t 2013 & 1 & 1 & 2310 & 2255 &  15 &   24 &   15 &   9 & B6 &  112 & N646JB & JFK & BUF &  57 &  301 & 22 & 55 & 2013-01-01 22:00:00\\\\\n\t 2013 & 1 & 1 & 2312 & 2000 & 192 &   21 & 2110 & 191 & EV & 4312 & N13958 & EWR & DCA &  44 &  199 & 20 &  0 & 2013-01-01 20:00:00\\\\\n\t 2013 & 1 & 1 & 2323 & 2200 &  83 &   22 & 2313 &  69 & EV & 4257 & N13538 & EWR & BTV &  44 &  266 & 22 &  0 & 2013-01-01 22:00:00\\\\\n\t 2013 & 1 & 1 & 2326 & 2130 & 116 &  131 &   18 &  73 & B6 &  199 & N594JB & JFK & LAS & 290 & 2248 & 21 & 30 & 2013-01-01 21:00:00\\\\\n\t 2013 & 1 & 1 & 2327 & 2250 &  37 &   32 & 2359 &  33 & B6 &   22 & N639JB & JFK & SYR &  45 &  209 & 22 & 50 & 2013-01-01 22:00:00\\\\\n\t 2013 & 1 & 1 & 2343 & 1724 & 379 &  314 & 1938 & 456 & EV & 4321 & N21197 & EWR & MCI & 222 & 1092 & 17 & 24 & 2013-01-01 17:00:00\\\\\n\t 2013 & 1 & 1 & 2353 & 2359 &  -6 &  425 &  445 & -20 & B6 &  739 & N591JB & JFK & PSE & 195 & 1617 & 23 & 59 & 2013-01-01 23:00:00\\\\\n\t 2013 & 1 & 1 & 2353 & 2359 &  -6 &  418 &  442 & -24 & B6 &  707 & N794JB & JFK & SJU & 185 & 1598 & 23 & 59 & 2013-01-01 23:00:00\\\\\n\t 2013 & 1 & 1 & 2356 & 2359 &  -3 &  425 &  437 & -12 & B6 &  727 & N588JB & JFK & BQN & 186 & 1576 & 23 & 59 & 2013-01-01 23:00:00\\\\\n\t 2013 & 1 & 1 &   NA & 1630 &  NA &   NA & 1815 &  NA & EV & 4308 & N18120 & EWR & RDU &  NA &  416 & 16 & 30 & 2013-01-01 16:00:00\\\\\n\t 2013 & 1 & 1 &   NA & 1935 &  NA &   NA & 2240 &  NA & AA &  791 & N3EHAA & LGA & DFW &  NA & 1389 & 19 & 35 & 2013-01-01 19:00:00\\\\\n\t 2013 & 1 & 1 &   NA & 1500 &  NA &   NA & 1825 &  NA & AA & 1925 & N3EVAA & LGA & MIA &  NA & 1096 & 15 &  0 & 2013-01-01 15:00:00\\\\\n\t 2013 & 1 & 1 &   NA &  600 &  NA &   NA &  901 &  NA & B6 &  125 & N618JB & JFK & FLL &  NA & 1069 &  6 &  0 & 2013-01-01 06:00:00\\\\\n\\end{tabular}\n",
            "text/plain": [
              "    year month day dep_time sched_dep_time dep_delay arr_time sched_arr_time\n",
              "1   2013 1     1   517      515             2         830      819          \n",
              "2   2013 1     1   533      529             4         850      830          \n",
              "3   2013 1     1   542      540             2         923      850          \n",
              "4   2013 1     1   544      545            -1        1004     1022          \n",
              "5   2013 1     1   554      600            -6         812      837          \n",
              "6   2013 1     1   554      558            -4         740      728          \n",
              "7   2013 1     1   555      600            -5         913      854          \n",
              "8   2013 1     1   557      600            -3         709      723          \n",
              "9   2013 1     1   557      600            -3         838      846          \n",
              "10  2013 1     1   558      600            -2         753      745          \n",
              "11  2013 1     1   558      600            -2         849      851          \n",
              "12  2013 1     1   558      600            -2         853      856          \n",
              "13  2013 1     1   558      600            -2         924      917          \n",
              "14  2013 1     1   558      600            -2         923      937          \n",
              "15  2013 1     1   559      600            -1         941      910          \n",
              "16  2013 1     1   559      559             0         702      706          \n",
              "17  2013 1     1   559      600            -1         854      902          \n",
              "18  2013 1     1   600      600             0         851      858          \n",
              "19  2013 1     1   600      600             0         837      825          \n",
              "20  2013 1     1   601      600             1         844      850          \n",
              "21  2013 1     1   602      610            -8         812      820          \n",
              "22  2013 1     1   602      605            -3         821      805          \n",
              "23  2013 1     1   606      610            -4         858      910          \n",
              "24  2013 1     1   606      610            -4         837      845          \n",
              "25  2013 1     1   607      607             0         858      915          \n",
              "26  2013 1     1   608      600             8         807      735          \n",
              "27  2013 1     1   611      600            11         945      931          \n",
              "28  2013 1     1   613      610             3         925      921          \n",
              "29  2013 1     1   615      615             0        1039     1100          \n",
              "30  2013 1     1   615      615             0         833      842          \n",
              "⋮   ⋮    ⋮     ⋮   ⋮        ⋮              ⋮         ⋮        ⋮             \n",
              "813 2013 1     1   2140     2135             5        210      224          \n",
              "814 2013 1     1   2157     2155             2         43       41          \n",
              "815 2013 1     1   2158     2200            -2       2254     2307          \n",
              "816 2013 1     1   2205     1720           285         46     2040          \n",
              "817 2013 1     1   2209     2145            24         58       37          \n",
              "818 2013 1     1   2209     2155            14       2400     2337          \n",
              "819 2013 1     1   2211     2145            26       2339     2311          \n",
              "820 2013 1     1   2217     2229           -12        249      315          \n",
              "821 2013 1     1   2217     2130            47        140       27          \n",
              "822 2013 1     1   2221     2000           141       2331     2124          \n",
              "823 2013 1     1   2224     2200            24       2324     2316          \n",
              "824 2013 1     1   2229     2159            30        149      100          \n",
              "825 2013 1     1   2240     2245            -5       2340     2356          \n",
              "826 2013 1     1   2250     2255            -5       2352     2359          \n",
              "827 2013 1     1   2302     2200            62       2342     2253          \n",
              "828 2013 1     1   2306     2245            21         28        5          \n",
              "829 2013 1     1   2307     2245            22         32     2357          \n",
              "830 2013 1     1   2310     2255            15         24       15          \n",
              "831 2013 1     1   2312     2000           192         21     2110          \n",
              "832 2013 1     1   2323     2200            83         22     2313          \n",
              "833 2013 1     1   2326     2130           116        131       18          \n",
              "834 2013 1     1   2327     2250            37         32     2359          \n",
              "835 2013 1     1   2343     1724           379        314     1938          \n",
              "836 2013 1     1   2353     2359            -6        425      445          \n",
              "837 2013 1     1   2353     2359            -6        418      442          \n",
              "838 2013 1     1   2356     2359            -3        425      437          \n",
              "839 2013 1     1     NA     1630            NA         NA     1815          \n",
              "840 2013 1     1     NA     1935            NA         NA     2240          \n",
              "841 2013 1     1     NA     1500            NA         NA     1825          \n",
              "842 2013 1     1     NA      600            NA         NA      901          \n",
              "    arr_delay carrier flight tailnum origin dest air_time distance hour minute\n",
              "1    11       UA      1545   N14228  EWR    IAH  227      1400     5    15    \n",
              "2    20       UA      1714   N24211  LGA    IAH  227      1416     5    29    \n",
              "3    33       AA      1141   N619AA  JFK    MIA  160      1089     5    40    \n",
              "4   -18       B6       725   N804JB  JFK    BQN  183      1576     5    45    \n",
              "5   -25       DL       461   N668DN  LGA    ATL  116       762     6     0    \n",
              "6    12       UA      1696   N39463  EWR    ORD  150       719     5    58    \n",
              "7    19       B6       507   N516JB  EWR    FLL  158      1065     6     0    \n",
              "8   -14       EV      5708   N829AS  LGA    IAD   53       229     6     0    \n",
              "9    -8       B6        79   N593JB  JFK    MCO  140       944     6     0    \n",
              "10    8       AA       301   N3ALAA  LGA    ORD  138       733     6     0    \n",
              "11   -2       B6        49   N793JB  JFK    PBI  149      1028     6     0    \n",
              "12   -3       B6        71   N657JB  JFK    TPA  158      1005     6     0    \n",
              "13    7       UA       194   N29129  JFK    LAX  345      2475     6     0    \n",
              "14  -14       UA      1124   N53441  EWR    SFO  361      2565     6     0    \n",
              "15   31       AA       707   N3DUAA  LGA    DFW  257      1389     6     0    \n",
              "16   -4       B6      1806   N708JB  JFK    BOS   44       187     5    59    \n",
              "17   -8       UA      1187   N76515  EWR    LAS  337      2227     6     0    \n",
              "18   -7       B6       371   N595JB  LGA    FLL  152      1076     6     0    \n",
              "19   12       MQ      4650   N542MQ  LGA    ATL  134       762     6     0    \n",
              "20   -6       B6       343   N644JB  EWR    PBI  147      1023     6     0    \n",
              "21   -8       DL      1919   N971DL  LGA    MSP  170      1020     6    10    \n",
              "22   16       MQ      4401   N730MQ  LGA    DTW  105       502     6     5    \n",
              "23  -12       AA      1895   N633AA  EWR    MIA  152      1085     6    10    \n",
              "24   -8       DL      1743   N3739P  JFK    ATL  128       760     6    10    \n",
              "25  -17       UA      1077   N53442  EWR    MIA  157      1085     6     7    \n",
              "26   32       MQ      3768   N9EAMQ  EWR    ORD  139       719     6     0    \n",
              "27   14       UA       303   N532UA  JFK    SFO  366      2586     6     0    \n",
              "28    4       B6       135   N635JB  JFK    RSW  175      1074     6    10    \n",
              "29  -21       B6       709   N794JB  JFK    SJU  182      1598     6    15    \n",
              "30   -9       DL       575   N326NB  EWR    ATL  120       746     6    15    \n",
              "⋮   ⋮         ⋮       ⋮      ⋮       ⋮      ⋮    ⋮        ⋮        ⋮    ⋮     \n",
              "813 -14       B6       701   N284JB  JFK    SJU  189      1598     21   35    \n",
              "814   2       B6        43   N537JB  JFK    MCO  140       944     21   55    \n",
              "815 -13       EV      4103   N14998  EWR    BWI   36       169     22    0    \n",
              "816 246       AA      1999   N5DNAA  EWR    MIA  146      1085     17   20    \n",
              "817  21       B6        35   N608JB  JFK    PBI  143      1028     21   45    \n",
              "818  23       B6      1109   N216JB  JFK    RDU   86       427     21   55    \n",
              "819  28       B6       104   N228JB  JFK    BUF   64       301     21   45    \n",
              "820 -26       B6       713   N547JB  JFK    SJU  191      1598     22   29    \n",
              "821  73       B6        21   N516JB  JFK    TPA  163      1005     21   30    \n",
              "822 127       EV      4462   N13566  EWR    BUF   56       282     20    0    \n",
              "823   8       EV      4206   N16561  EWR    PWM   47       284     22    0    \n",
              "824  49       B6        11   N531JB  JFK    FLL  153      1069     21   59    \n",
              "825 -16       B6       608   N279JB  JFK    PWM   44       273     22   45    \n",
              "826  -7       B6      1018   N521JB  JFK    BOS   37       187     22   55    \n",
              "827  49       EV      4276   N13903  EWR    BDL   24       116     22    0    \n",
              "828  23       B6        30   N281JB  JFK    ROC   59       264     22   45    \n",
              "829  35       B6       128   N178JB  JFK    BTV   59       266     22   45    \n",
              "830   9       B6       112   N646JB  JFK    BUF   57       301     22   55    \n",
              "831 191       EV      4312   N13958  EWR    DCA   44       199     20    0    \n",
              "832  69       EV      4257   N13538  EWR    BTV   44       266     22    0    \n",
              "833  73       B6       199   N594JB  JFK    LAS  290      2248     21   30    \n",
              "834  33       B6        22   N639JB  JFK    SYR   45       209     22   50    \n",
              "835 456       EV      4321   N21197  EWR    MCI  222      1092     17   24    \n",
              "836 -20       B6       739   N591JB  JFK    PSE  195      1617     23   59    \n",
              "837 -24       B6       707   N794JB  JFK    SJU  185      1598     23   59    \n",
              "838 -12       B6       727   N588JB  JFK    BQN  186      1576     23   59    \n",
              "839  NA       EV      4308   N18120  EWR    RDU   NA       416     16   30    \n",
              "840  NA       AA       791   N3EHAA  LGA    DFW   NA      1389     19   35    \n",
              "841  NA       AA      1925   N3EVAA  LGA    MIA   NA      1096     15    0    \n",
              "842  NA       B6       125   N618JB  JFK    FLL   NA      1069      6    0    \n",
              "    time_hour          \n",
              "1   2013-01-01 05:00:00\n",
              "2   2013-01-01 05:00:00\n",
              "3   2013-01-01 05:00:00\n",
              "4   2013-01-01 05:00:00\n",
              "5   2013-01-01 06:00:00\n",
              "6   2013-01-01 05:00:00\n",
              "7   2013-01-01 06:00:00\n",
              "8   2013-01-01 06:00:00\n",
              "9   2013-01-01 06:00:00\n",
              "10  2013-01-01 06:00:00\n",
              "11  2013-01-01 06:00:00\n",
              "12  2013-01-01 06:00:00\n",
              "13  2013-01-01 06:00:00\n",
              "14  2013-01-01 06:00:00\n",
              "15  2013-01-01 06:00:00\n",
              "16  2013-01-01 05:00:00\n",
              "17  2013-01-01 06:00:00\n",
              "18  2013-01-01 06:00:00\n",
              "19  2013-01-01 06:00:00\n",
              "20  2013-01-01 06:00:00\n",
              "21  2013-01-01 06:00:00\n",
              "22  2013-01-01 06:00:00\n",
              "23  2013-01-01 06:00:00\n",
              "24  2013-01-01 06:00:00\n",
              "25  2013-01-01 06:00:00\n",
              "26  2013-01-01 06:00:00\n",
              "27  2013-01-01 06:00:00\n",
              "28  2013-01-01 06:00:00\n",
              "29  2013-01-01 06:00:00\n",
              "30  2013-01-01 06:00:00\n",
              "⋮   ⋮                  \n",
              "813 2013-01-01 21:00:00\n",
              "814 2013-01-01 21:00:00\n",
              "815 2013-01-01 22:00:00\n",
              "816 2013-01-01 17:00:00\n",
              "817 2013-01-01 21:00:00\n",
              "818 2013-01-01 21:00:00\n",
              "819 2013-01-01 21:00:00\n",
              "820 2013-01-01 22:00:00\n",
              "821 2013-01-01 21:00:00\n",
              "822 2013-01-01 20:00:00\n",
              "823 2013-01-01 22:00:00\n",
              "824 2013-01-01 21:00:00\n",
              "825 2013-01-01 22:00:00\n",
              "826 2013-01-01 22:00:00\n",
              "827 2013-01-01 22:00:00\n",
              "828 2013-01-01 22:00:00\n",
              "829 2013-01-01 22:00:00\n",
              "830 2013-01-01 22:00:00\n",
              "831 2013-01-01 20:00:00\n",
              "832 2013-01-01 22:00:00\n",
              "833 2013-01-01 21:00:00\n",
              "834 2013-01-01 22:00:00\n",
              "835 2013-01-01 17:00:00\n",
              "836 2013-01-01 23:00:00\n",
              "837 2013-01-01 23:00:00\n",
              "838 2013-01-01 23:00:00\n",
              "839 2013-01-01 16:00:00\n",
              "840 2013-01-01 19:00:00\n",
              "841 2013-01-01 15:00:00\n",
              "842 2013-01-01 06:00:00"
            ]
          },
          "metadata": {}
        }
      ],
      "source": [
        "filter(flights,month==1,day==1)"
      ]
    },
    {
      "cell_type": "markdown",
      "metadata": {
        "id": "2n49DNU9yxUM"
      },
      "source": [
        "- Y si queremos ver todos los vuelos del 25 de diciembre"
      ]
    },
    {
      "cell_type": "code",
      "execution_count": 27,
      "metadata": {
        "collapsed": true,
        "id": "Uy3IHZGTyzWS",
        "outputId": "cb3a0429-ed6e-462c-d3c6-e1d91f6ca000",
        "colab": {
          "base_uri": "https://localhost:8080/",
          "height": 1000
        }
      },
      "outputs": [
        {
          "output_type": "display_data",
          "data": {
            "text/html": [
              "<table class=\"dataframe\">\n",
              "<caption>A tibble: 719 × 19</caption>\n",
              "<thead>\n",
              "\t<tr><th scope=col>year</th><th scope=col>month</th><th scope=col>day</th><th scope=col>dep_time</th><th scope=col>sched_dep_time</th><th scope=col>dep_delay</th><th scope=col>arr_time</th><th scope=col>sched_arr_time</th><th scope=col>arr_delay</th><th scope=col>carrier</th><th scope=col>flight</th><th scope=col>tailnum</th><th scope=col>origin</th><th scope=col>dest</th><th scope=col>air_time</th><th scope=col>distance</th><th scope=col>hour</th><th scope=col>minute</th><th scope=col>time_hour</th></tr>\n",
              "\t<tr><th scope=col>&lt;int&gt;</th><th scope=col>&lt;int&gt;</th><th scope=col>&lt;int&gt;</th><th scope=col>&lt;int&gt;</th><th scope=col>&lt;int&gt;</th><th scope=col>&lt;dbl&gt;</th><th scope=col>&lt;int&gt;</th><th scope=col>&lt;int&gt;</th><th scope=col>&lt;dbl&gt;</th><th scope=col>&lt;chr&gt;</th><th scope=col>&lt;int&gt;</th><th scope=col>&lt;chr&gt;</th><th scope=col>&lt;chr&gt;</th><th scope=col>&lt;chr&gt;</th><th scope=col>&lt;dbl&gt;</th><th scope=col>&lt;dbl&gt;</th><th scope=col>&lt;dbl&gt;</th><th scope=col>&lt;dbl&gt;</th><th scope=col>&lt;dttm&gt;</th></tr>\n",
              "</thead>\n",
              "<tbody>\n",
              "\t<tr><td>2013</td><td>12</td><td>25</td><td>456</td><td>500</td><td>-4</td><td> 649</td><td> 651</td><td> -2</td><td>US</td><td>1895</td><td>N156UW</td><td>EWR</td><td>CLT</td><td> 98</td><td> 529</td><td>5</td><td> 0</td><td>2013-12-25 05:00:00</td></tr>\n",
              "\t<tr><td>2013</td><td>12</td><td>25</td><td>524</td><td>515</td><td> 9</td><td> 805</td><td> 814</td><td> -9</td><td>UA</td><td>1016</td><td>N32404</td><td>EWR</td><td>IAH</td><td>203</td><td>1400</td><td>5</td><td>15</td><td>2013-12-25 05:00:00</td></tr>\n",
              "\t<tr><td>2013</td><td>12</td><td>25</td><td>542</td><td>540</td><td> 2</td><td> 832</td><td> 850</td><td>-18</td><td>AA</td><td>2243</td><td>N5EBAA</td><td>JFK</td><td>MIA</td><td>146</td><td>1089</td><td>5</td><td>40</td><td>2013-12-25 05:00:00</td></tr>\n",
              "\t<tr><td>2013</td><td>12</td><td>25</td><td>546</td><td>550</td><td>-4</td><td>1022</td><td>1027</td><td> -5</td><td>B6</td><td> 939</td><td>N665JB</td><td>JFK</td><td>BQN</td><td>191</td><td>1576</td><td>5</td><td>50</td><td>2013-12-25 05:00:00</td></tr>\n",
              "\t<tr><td>2013</td><td>12</td><td>25</td><td>556</td><td>600</td><td>-4</td><td> 730</td><td> 745</td><td>-15</td><td>AA</td><td> 301</td><td>N3JLAA</td><td>LGA</td><td>ORD</td><td>123</td><td> 733</td><td>6</td><td> 0</td><td>2013-12-25 06:00:00</td></tr>\n",
              "\t<tr><td>2013</td><td>12</td><td>25</td><td>557</td><td>600</td><td>-3</td><td> 743</td><td> 752</td><td> -9</td><td>DL</td><td> 731</td><td>N369NB</td><td>LGA</td><td>DTW</td><td> 88</td><td> 502</td><td>6</td><td> 0</td><td>2013-12-25 06:00:00</td></tr>\n",
              "\t<tr><td>2013</td><td>12</td><td>25</td><td>557</td><td>600</td><td>-3</td><td> 818</td><td> 831</td><td>-13</td><td>DL</td><td> 904</td><td>N397DA</td><td>LGA</td><td>ATL</td><td>118</td><td> 762</td><td>6</td><td> 0</td><td>2013-12-25 06:00:00</td></tr>\n",
              "\t<tr><td>2013</td><td>12</td><td>25</td><td>559</td><td>600</td><td>-1</td><td> 855</td><td> 856</td><td> -1</td><td>B6</td><td> 371</td><td>N608JB</td><td>LGA</td><td>FLL</td><td>147</td><td>1076</td><td>6</td><td> 0</td><td>2013-12-25 06:00:00</td></tr>\n",
              "\t<tr><td>2013</td><td>12</td><td>25</td><td>559</td><td>600</td><td>-1</td><td> 849</td><td> 855</td><td> -6</td><td>B6</td><td> 605</td><td>N536JB</td><td>EWR</td><td>FLL</td><td>149</td><td>1065</td><td>6</td><td> 0</td><td>2013-12-25 06:00:00</td></tr>\n",
              "\t<tr><td>2013</td><td>12</td><td>25</td><td>600</td><td>600</td><td> 0</td><td> 850</td><td> 846</td><td>  4</td><td>B6</td><td> 583</td><td>N746JB</td><td>JFK</td><td>MCO</td><td>137</td><td> 944</td><td>6</td><td> 0</td><td>2013-12-25 06:00:00</td></tr>\n",
              "\t<tr><td>2013</td><td>12</td><td>25</td><td>600</td><td>600</td><td> 0</td><td> 715</td><td> 723</td><td> -8</td><td>EV</td><td>5747</td><td>N835AS</td><td>LGA</td><td>IAD</td><td> 47</td><td> 229</td><td>6</td><td> 0</td><td>2013-12-25 06:00:00</td></tr>\n",
              "\t<tr><td>2013</td><td>12</td><td>25</td><td>601</td><td>600</td><td> 1</td><td> 855</td><td> 905</td><td>-10</td><td>AA</td><td>1175</td><td>N3EJAA</td><td>LGA</td><td>MIA</td><td>152</td><td>1096</td><td>6</td><td> 0</td><td>2013-12-25 06:00:00</td></tr>\n",
              "\t<tr><td>2013</td><td>12</td><td>25</td><td>601</td><td>600</td><td> 1</td><td> 846</td><td> 849</td><td> -3</td><td>B6</td><td> 353</td><td>N766JB</td><td>JFK</td><td>PBI</td><td>143</td><td>1028</td><td>6</td><td> 0</td><td>2013-12-25 06:00:00</td></tr>\n",
              "\t<tr><td>2013</td><td>12</td><td>25</td><td>604</td><td>611</td><td>-7</td><td>1051</td><td>1055</td><td> -4</td><td>B6</td><td>1403</td><td>N779JB</td><td>JFK</td><td>SJU</td><td>190</td><td>1598</td><td>6</td><td>11</td><td>2013-12-25 06:00:00</td></tr>\n",
              "\t<tr><td>2013</td><td>12</td><td>25</td><td>605</td><td>600</td><td> 5</td><td> 912</td><td> 937</td><td>-25</td><td>UA</td><td> 303</td><td>N596UA</td><td>JFK</td><td>SFO</td><td>345</td><td>2586</td><td>6</td><td> 0</td><td>2013-12-25 06:00:00</td></tr>\n",
              "\t<tr><td>2013</td><td>12</td><td>25</td><td>610</td><td>610</td><td> 0</td><td> 922</td><td> 915</td><td>  7</td><td>AA</td><td>1205</td><td>N5BTAA</td><td>EWR</td><td>MIA</td><td>145</td><td>1085</td><td>6</td><td>10</td><td>2013-12-25 06:00:00</td></tr>\n",
              "\t<tr><td>2013</td><td>12</td><td>25</td><td>610</td><td>605</td><td> 5</td><td> 718</td><td> 723</td><td> -5</td><td>EV</td><td>6177</td><td>N11189</td><td>EWR</td><td>IAD</td><td> 44</td><td> 212</td><td>6</td><td> 5</td><td>2013-12-25 06:00:00</td></tr>\n",
              "\t<tr><td>2013</td><td>12</td><td>25</td><td>611</td><td>611</td><td> 0</td><td> 908</td><td> 912</td><td> -4</td><td>B6</td><td> 601</td><td>N804JB</td><td>JFK</td><td>FLL</td><td>153</td><td>1069</td><td>6</td><td>11</td><td>2013-12-25 06:00:00</td></tr>\n",
              "\t<tr><td>2013</td><td>12</td><td>25</td><td>612</td><td>615</td><td>-3</td><td> 859</td><td> 852</td><td>  7</td><td>DL</td><td> 479</td><td>N3769L</td><td>JFK</td><td>ATL</td><td>127</td><td> 760</td><td>6</td><td>15</td><td>2013-12-25 06:00:00</td></tr>\n",
              "\t<tr><td>2013</td><td>12</td><td>25</td><td>615</td><td>615</td><td> 0</td><td> 802</td><td> 818</td><td>-16</td><td>US</td><td>1963</td><td>N169UW</td><td>EWR</td><td>CLT</td><td> 87</td><td> 529</td><td>6</td><td>15</td><td>2013-12-25 06:00:00</td></tr>\n",
              "\t<tr><td>2013</td><td>12</td><td>25</td><td>620</td><td>615</td><td> 5</td><td> 818</td><td> 817</td><td>  1</td><td>US</td><td> 840</td><td>N151UW</td><td>JFK</td><td>CLT</td><td> 96</td><td> 541</td><td>6</td><td>15</td><td>2013-12-25 06:00:00</td></tr>\n",
              "\t<tr><td>2013</td><td>12</td><td>25</td><td>621</td><td>610</td><td>11</td><td> 902</td><td> 905</td><td> -3</td><td>UA</td><td>1627</td><td>N76269</td><td>EWR</td><td>PBI</td><td>142</td><td>1023</td><td>6</td><td>10</td><td>2013-12-25 06:00:00</td></tr>\n",
              "\t<tr><td>2013</td><td>12</td><td>25</td><td>627</td><td>625</td><td> 2</td><td>1010</td><td>1009</td><td>  1</td><td>US</td><td> 690</td><td>N672AW</td><td>EWR</td><td>PHX</td><td>288</td><td>2133</td><td>6</td><td>25</td><td>2013-12-25 06:00:00</td></tr>\n",
              "\t<tr><td>2013</td><td>12</td><td>25</td><td>628</td><td>630</td><td>-2</td><td> 932</td><td> 938</td><td> -6</td><td>B6</td><td> 929</td><td>N712JB</td><td>JFK</td><td>RSW</td><td>162</td><td>1074</td><td>6</td><td>30</td><td>2013-12-25 06:00:00</td></tr>\n",
              "\t<tr><td>2013</td><td>12</td><td>25</td><td>628</td><td>630</td><td>-2</td><td> 949</td><td> 919</td><td> 30</td><td>B6</td><td>1099</td><td>N571JB</td><td>LGA</td><td>MCO</td><td>136</td><td> 950</td><td>6</td><td>30</td><td>2013-12-25 06:00:00</td></tr>\n",
              "\t<tr><td>2013</td><td>12</td><td>25</td><td>630</td><td>631</td><td>-1</td><td> 924</td><td> 958</td><td>-34</td><td>UA</td><td> 398</td><td>N505UA</td><td>JFK</td><td>LAX</td><td>335</td><td>2475</td><td>6</td><td>31</td><td>2013-12-25 06:00:00</td></tr>\n",
              "\t<tr><td>2013</td><td>12</td><td>25</td><td>632</td><td>635</td><td>-3</td><td> 927</td><td> 929</td><td> -2</td><td>B6</td><td> 525</td><td>N556JB</td><td>JFK</td><td>TPA</td><td>151</td><td>1005</td><td>6</td><td>35</td><td>2013-12-25 06:00:00</td></tr>\n",
              "\t<tr><td>2013</td><td>12</td><td>25</td><td>632</td><td>620</td><td>12</td><td> 922</td><td> 919</td><td>  3</td><td>UA</td><td> 596</td><td>N556UA</td><td>EWR</td><td>TPA</td><td>147</td><td> 997</td><td>6</td><td>20</td><td>2013-12-25 06:00:00</td></tr>\n",
              "\t<tr><td>2013</td><td>12</td><td>25</td><td>635</td><td>614</td><td>21</td><td> 921</td><td> 925</td><td> -4</td><td>UA</td><td>1701</td><td>N38417</td><td>EWR</td><td>FLL</td><td>151</td><td>1065</td><td>6</td><td>14</td><td>2013-12-25 06:00:00</td></tr>\n",
              "\t<tr><td>2013</td><td>12</td><td>25</td><td>643</td><td>630</td><td>13</td><td> 904</td><td> 859</td><td>  5</td><td>DL</td><td> 807</td><td>N977AT</td><td>EWR</td><td>ATL</td><td>115</td><td> 746</td><td>6</td><td>30</td><td>2013-12-25 06:00:00</td></tr>\n",
              "\t<tr><td>⋮</td><td>⋮</td><td>⋮</td><td>⋮</td><td>⋮</td><td>⋮</td><td>⋮</td><td>⋮</td><td>⋮</td><td>⋮</td><td>⋮</td><td>⋮</td><td>⋮</td><td>⋮</td><td>⋮</td><td>⋮</td><td>⋮</td><td>⋮</td><td>⋮</td></tr>\n",
              "\t<tr><td>2013</td><td>12</td><td>25</td><td>2126</td><td>2129</td><td> -3</td><td>  24</td><td>  22</td><td>  2</td><td>B6</td><td>2043</td><td>N599JB</td><td>EWR</td><td>PBI</td><td>144</td><td>1023</td><td>21</td><td>29</td><td>2013-12-25 21:00:00</td></tr>\n",
              "\t<tr><td>2013</td><td>12</td><td>25</td><td>2129</td><td>2053</td><td> 36</td><td>   1</td><td>2333</td><td> 28</td><td>EV</td><td>4388</td><td>N17984</td><td>EWR</td><td>JAX</td><td>133</td><td> 820</td><td>20</td><td>53</td><td>2013-12-25 20:00:00</td></tr>\n",
              "\t<tr><td>2013</td><td>12</td><td>25</td><td>2130</td><td>2135</td><td> -5</td><td>  25</td><td>  55</td><td>-30</td><td>AA</td><td> 185</td><td>N332AA</td><td>JFK</td><td>LAX</td><td>328</td><td>2475</td><td>21</td><td>35</td><td>2013-12-25 21:00:00</td></tr>\n",
              "\t<tr><td>2013</td><td>12</td><td>25</td><td>2130</td><td>2115</td><td> 15</td><td>2322</td><td>2315</td><td>  7</td><td>MQ</td><td>3384</td><td>N520MQ</td><td>LGA</td><td>CLT</td><td> 90</td><td> 544</td><td>21</td><td>15</td><td>2013-12-25 21:00:00</td></tr>\n",
              "\t<tr><td>2013</td><td>12</td><td>25</td><td>2131</td><td>2046</td><td> 45</td><td>  24</td><td>2349</td><td> 35</td><td>UA</td><td> 236</td><td>N406UA</td><td>EWR</td><td>TPA</td><td>151</td><td> 997</td><td>20</td><td>46</td><td>2013-12-25 20:00:00</td></tr>\n",
              "\t<tr><td>2013</td><td>12</td><td>25</td><td>2140</td><td>2141</td><td> -1</td><td>  44</td><td>  37</td><td>  7</td><td>B6</td><td> 425</td><td>N579JB</td><td>JFK</td><td>TPA</td><td>160</td><td>1005</td><td>21</td><td>41</td><td>2013-12-25 21:00:00</td></tr>\n",
              "\t<tr><td>2013</td><td>12</td><td>25</td><td>2144</td><td>2145</td><td> -1</td><td>  27</td><td>  19</td><td>  8</td><td>B6</td><td>2227</td><td>N273JB</td><td>EWR</td><td>MCO</td><td>144</td><td> 937</td><td>21</td><td>45</td><td>2013-12-25 21:00:00</td></tr>\n",
              "\t<tr><td>2013</td><td>12</td><td>25</td><td>2149</td><td>2155</td><td> -6</td><td>2328</td><td>2334</td><td> -6</td><td>B6</td><td> 985</td><td>N339JB</td><td>JFK</td><td>RDU</td><td> 80</td><td> 427</td><td>21</td><td>55</td><td>2013-12-25 21:00:00</td></tr>\n",
              "\t<tr><td>2013</td><td>12</td><td>25</td><td>2150</td><td>2159</td><td> -9</td><td> 103</td><td>  45</td><td> 18</td><td>B6</td><td>1183</td><td>N634JB</td><td>JFK</td><td>MCO</td><td>151</td><td> 944</td><td>21</td><td>59</td><td>2013-12-25 21:00:00</td></tr>\n",
              "\t<tr><td>2013</td><td>12</td><td>25</td><td>2152</td><td>2155</td><td> -3</td><td> 100</td><td>  56</td><td>  4</td><td>B6</td><td>1901</td><td>N665JB</td><td>JFK</td><td>FLL</td><td>154</td><td>1069</td><td>21</td><td>55</td><td>2013-12-25 21:00:00</td></tr>\n",
              "\t<tr><td>2013</td><td>12</td><td>25</td><td>2153</td><td>2155</td><td> -2</td><td>  50</td><td>  46</td><td>  4</td><td>B6</td><td>2053</td><td>N613JB</td><td>JFK</td><td>PBI</td><td>148</td><td>1028</td><td>21</td><td>55</td><td>2013-12-25 21:00:00</td></tr>\n",
              "\t<tr><td>2013</td><td>12</td><td>25</td><td>2153</td><td>2135</td><td> 18</td><td>  22</td><td>  19</td><td>  3</td><td>B6</td><td> 611</td><td>N519JB</td><td>JFK</td><td>LAS</td><td>305</td><td>2248</td><td>21</td><td>35</td><td>2013-12-25 21:00:00</td></tr>\n",
              "\t<tr><td>2013</td><td>12</td><td>25</td><td>2153</td><td>2030</td><td> 83</td><td>  46</td><td>2347</td><td> 59</td><td>UA</td><td>1682</td><td>N78524</td><td>EWR</td><td>FLL</td><td>151</td><td>1065</td><td>20</td><td>30</td><td>2013-12-25 20:00:00</td></tr>\n",
              "\t<tr><td>2013</td><td>12</td><td>25</td><td>2203</td><td>2136</td><td> 27</td><td>2327</td><td>2259</td><td> 28</td><td>B6</td><td> 702</td><td>N198JB</td><td>JFK</td><td>BUF</td><td> 59</td><td> 301</td><td>21</td><td>36</td><td>2013-12-25 21:00:00</td></tr>\n",
              "\t<tr><td>2013</td><td>12</td><td>25</td><td>2203</td><td>2130</td><td> 33</td><td>2309</td><td>2245</td><td> 24</td><td>MQ</td><td>3621</td><td>N844MQ</td><td>JFK</td><td>DCA</td><td> 42</td><td> 213</td><td>21</td><td>30</td><td>2013-12-25 21:00:00</td></tr>\n",
              "\t<tr><td>2013</td><td>12</td><td>25</td><td>2219</td><td>2110</td><td> 69</td><td> 102</td><td>2339</td><td> 83</td><td>B6</td><td> 775</td><td>N258JB</td><td>JFK</td><td>MSY</td><td>192</td><td>1182</td><td>21</td><td>10</td><td>2013-12-25 21:00:00</td></tr>\n",
              "\t<tr><td>2013</td><td>12</td><td>25</td><td>2231</td><td>2219</td><td> 12</td><td> 311</td><td> 304</td><td>  7</td><td>B6</td><td>1203</td><td>N618JB</td><td>JFK</td><td>SJU</td><td>194</td><td>1598</td><td>22</td><td>19</td><td>2013-12-25 22:00:00</td></tr>\n",
              "\t<tr><td>2013</td><td>12</td><td>25</td><td>2302</td><td>2245</td><td> 17</td><td>  15</td><td>   3</td><td> 12</td><td>B6</td><td> 486</td><td>N203JB</td><td>JFK</td><td>ROC</td><td> 54</td><td> 264</td><td>22</td><td>45</td><td>2013-12-25 22:00:00</td></tr>\n",
              "\t<tr><td>2013</td><td>12</td><td>25</td><td>2308</td><td>2245</td><td> 23</td><td>  10</td><td>2355</td><td> 15</td><td>B6</td><td> 234</td><td>N316JB</td><td>JFK</td><td>BTV</td><td> 43</td><td> 266</td><td>22</td><td>45</td><td>2013-12-25 22:00:00</td></tr>\n",
              "\t<tr><td>2013</td><td>12</td><td>25</td><td>2312</td><td>2250</td><td> 22</td><td>  10</td><td>2356</td><td> 14</td><td>B6</td><td>1816</td><td>N358JB</td><td>JFK</td><td>SYR</td><td> 44</td><td> 209</td><td>22</td><td>50</td><td>2013-12-25 22:00:00</td></tr>\n",
              "\t<tr><td>2013</td><td>12</td><td>25</td><td>2314</td><td>2245</td><td> 29</td><td>  15</td><td>2353</td><td> 22</td><td>B6</td><td> 108</td><td>N279JB</td><td>JFK</td><td>PWM</td><td> 46</td><td> 273</td><td>22</td><td>45</td><td>2013-12-25 22:00:00</td></tr>\n",
              "\t<tr><td>2013</td><td>12</td><td>25</td><td>2315</td><td>2330</td><td>-15</td><td> 348</td><td> 409</td><td>-21</td><td>B6</td><td>1389</td><td>N554JB</td><td>EWR</td><td>SJU</td><td>199</td><td>1608</td><td>23</td><td>30</td><td>2013-12-25 23:00:00</td></tr>\n",
              "\t<tr><td>2013</td><td>12</td><td>25</td><td>2352</td><td>2359</td><td> -7</td><td> 429</td><td> 440</td><td>-11</td><td>B6</td><td>1503</td><td>N531JB</td><td>JFK</td><td>SJU</td><td>198</td><td>1598</td><td>23</td><td>59</td><td>2013-12-25 23:00:00</td></tr>\n",
              "\t<tr><td>2013</td><td>12</td><td>25</td><td>2353</td><td>2355</td><td> -2</td><td> 442</td><td> 438</td><td>  4</td><td>DL</td><td>2380</td><td>N713TW</td><td>JFK</td><td>SJU</td><td>196</td><td>1598</td><td>23</td><td>55</td><td>2013-12-25 23:00:00</td></tr>\n",
              "\t<tr><td>2013</td><td>12</td><td>25</td><td>2357</td><td>2359</td><td> -2</td><td> 446</td><td> 445</td><td>  1</td><td>B6</td><td> 745</td><td>N636JB</td><td>JFK</td><td>PSE</td><td>204</td><td>1617</td><td>23</td><td>59</td><td>2013-12-25 23:00:00</td></tr>\n",
              "\t<tr><td>2013</td><td>12</td><td>25</td><td>2357</td><td>2359</td><td> -2</td><td> 433</td><td> 437</td><td> -4</td><td>B6</td><td> 839</td><td>N784JB</td><td>JFK</td><td>BQN</td><td>194</td><td>1576</td><td>23</td><td>59</td><td>2013-12-25 23:00:00</td></tr>\n",
              "\t<tr><td>2013</td><td>12</td><td>25</td><td>  NA</td><td>1630</td><td> NA</td><td>  NA</td><td>1838</td><td> NA</td><td>DL</td><td>2231</td><td>N312US</td><td>LGA</td><td>DTW</td><td> NA</td><td> 502</td><td>16</td><td>30</td><td>2013-12-25 16:00:00</td></tr>\n",
              "\t<tr><td>2013</td><td>12</td><td>25</td><td>  NA</td><td>1525</td><td> NA</td><td>  NA</td><td>1720</td><td> NA</td><td>MQ</td><td>2840</td><td>N8EGMQ</td><td>LGA</td><td>STL</td><td> NA</td><td> 888</td><td>15</td><td>25</td><td>2013-12-25 15:00:00</td></tr>\n",
              "\t<tr><td>2013</td><td>12</td><td>25</td><td>  NA</td><td>1100</td><td> NA</td><td>  NA</td><td>1210</td><td> NA</td><td>MQ</td><td>3230</td><td>N524MQ</td><td>JFK</td><td>DCA</td><td> NA</td><td> 213</td><td>11</td><td> 0</td><td>2013-12-25 11:00:00</td></tr>\n",
              "\t<tr><td>2013</td><td>12</td><td>25</td><td>  NA</td><td>1930</td><td> NA</td><td>  NA</td><td>2115</td><td> NA</td><td>MQ</td><td>3535</td><td>N509MQ</td><td>JFK</td><td>CMH</td><td> NA</td><td> 483</td><td>19</td><td>30</td><td>2013-12-25 19:00:00</td></tr>\n",
              "</tbody>\n",
              "</table>\n"
            ],
            "text/markdown": "\nA tibble: 719 × 19\n\n| year &lt;int&gt; | month &lt;int&gt; | day &lt;int&gt; | dep_time &lt;int&gt; | sched_dep_time &lt;int&gt; | dep_delay &lt;dbl&gt; | arr_time &lt;int&gt; | sched_arr_time &lt;int&gt; | arr_delay &lt;dbl&gt; | carrier &lt;chr&gt; | flight &lt;int&gt; | tailnum &lt;chr&gt; | origin &lt;chr&gt; | dest &lt;chr&gt; | air_time &lt;dbl&gt; | distance &lt;dbl&gt; | hour &lt;dbl&gt; | minute &lt;dbl&gt; | time_hour &lt;dttm&gt; |\n|---|---|---|---|---|---|---|---|---|---|---|---|---|---|---|---|---|---|---|\n| 2013 | 12 | 25 | 456 | 500 | -4 |  649 |  651 |  -2 | US | 1895 | N156UW | EWR | CLT |  98 |  529 | 5 |  0 | 2013-12-25 05:00:00 |\n| 2013 | 12 | 25 | 524 | 515 |  9 |  805 |  814 |  -9 | UA | 1016 | N32404 | EWR | IAH | 203 | 1400 | 5 | 15 | 2013-12-25 05:00:00 |\n| 2013 | 12 | 25 | 542 | 540 |  2 |  832 |  850 | -18 | AA | 2243 | N5EBAA | JFK | MIA | 146 | 1089 | 5 | 40 | 2013-12-25 05:00:00 |\n| 2013 | 12 | 25 | 546 | 550 | -4 | 1022 | 1027 |  -5 | B6 |  939 | N665JB | JFK | BQN | 191 | 1576 | 5 | 50 | 2013-12-25 05:00:00 |\n| 2013 | 12 | 25 | 556 | 600 | -4 |  730 |  745 | -15 | AA |  301 | N3JLAA | LGA | ORD | 123 |  733 | 6 |  0 | 2013-12-25 06:00:00 |\n| 2013 | 12 | 25 | 557 | 600 | -3 |  743 |  752 |  -9 | DL |  731 | N369NB | LGA | DTW |  88 |  502 | 6 |  0 | 2013-12-25 06:00:00 |\n| 2013 | 12 | 25 | 557 | 600 | -3 |  818 |  831 | -13 | DL |  904 | N397DA | LGA | ATL | 118 |  762 | 6 |  0 | 2013-12-25 06:00:00 |\n| 2013 | 12 | 25 | 559 | 600 | -1 |  855 |  856 |  -1 | B6 |  371 | N608JB | LGA | FLL | 147 | 1076 | 6 |  0 | 2013-12-25 06:00:00 |\n| 2013 | 12 | 25 | 559 | 600 | -1 |  849 |  855 |  -6 | B6 |  605 | N536JB | EWR | FLL | 149 | 1065 | 6 |  0 | 2013-12-25 06:00:00 |\n| 2013 | 12 | 25 | 600 | 600 |  0 |  850 |  846 |   4 | B6 |  583 | N746JB | JFK | MCO | 137 |  944 | 6 |  0 | 2013-12-25 06:00:00 |\n| 2013 | 12 | 25 | 600 | 600 |  0 |  715 |  723 |  -8 | EV | 5747 | N835AS | LGA | IAD |  47 |  229 | 6 |  0 | 2013-12-25 06:00:00 |\n| 2013 | 12 | 25 | 601 | 600 |  1 |  855 |  905 | -10 | AA | 1175 | N3EJAA | LGA | MIA | 152 | 1096 | 6 |  0 | 2013-12-25 06:00:00 |\n| 2013 | 12 | 25 | 601 | 600 |  1 |  846 |  849 |  -3 | B6 |  353 | N766JB | JFK | PBI | 143 | 1028 | 6 |  0 | 2013-12-25 06:00:00 |\n| 2013 | 12 | 25 | 604 | 611 | -7 | 1051 | 1055 |  -4 | B6 | 1403 | N779JB | JFK | SJU | 190 | 1598 | 6 | 11 | 2013-12-25 06:00:00 |\n| 2013 | 12 | 25 | 605 | 600 |  5 |  912 |  937 | -25 | UA |  303 | N596UA | JFK | SFO | 345 | 2586 | 6 |  0 | 2013-12-25 06:00:00 |\n| 2013 | 12 | 25 | 610 | 610 |  0 |  922 |  915 |   7 | AA | 1205 | N5BTAA | EWR | MIA | 145 | 1085 | 6 | 10 | 2013-12-25 06:00:00 |\n| 2013 | 12 | 25 | 610 | 605 |  5 |  718 |  723 |  -5 | EV | 6177 | N11189 | EWR | IAD |  44 |  212 | 6 |  5 | 2013-12-25 06:00:00 |\n| 2013 | 12 | 25 | 611 | 611 |  0 |  908 |  912 |  -4 | B6 |  601 | N804JB | JFK | FLL | 153 | 1069 | 6 | 11 | 2013-12-25 06:00:00 |\n| 2013 | 12 | 25 | 612 | 615 | -3 |  859 |  852 |   7 | DL |  479 | N3769L | JFK | ATL | 127 |  760 | 6 | 15 | 2013-12-25 06:00:00 |\n| 2013 | 12 | 25 | 615 | 615 |  0 |  802 |  818 | -16 | US | 1963 | N169UW | EWR | CLT |  87 |  529 | 6 | 15 | 2013-12-25 06:00:00 |\n| 2013 | 12 | 25 | 620 | 615 |  5 |  818 |  817 |   1 | US |  840 | N151UW | JFK | CLT |  96 |  541 | 6 | 15 | 2013-12-25 06:00:00 |\n| 2013 | 12 | 25 | 621 | 610 | 11 |  902 |  905 |  -3 | UA | 1627 | N76269 | EWR | PBI | 142 | 1023 | 6 | 10 | 2013-12-25 06:00:00 |\n| 2013 | 12 | 25 | 627 | 625 |  2 | 1010 | 1009 |   1 | US |  690 | N672AW | EWR | PHX | 288 | 2133 | 6 | 25 | 2013-12-25 06:00:00 |\n| 2013 | 12 | 25 | 628 | 630 | -2 |  932 |  938 |  -6 | B6 |  929 | N712JB | JFK | RSW | 162 | 1074 | 6 | 30 | 2013-12-25 06:00:00 |\n| 2013 | 12 | 25 | 628 | 630 | -2 |  949 |  919 |  30 | B6 | 1099 | N571JB | LGA | MCO | 136 |  950 | 6 | 30 | 2013-12-25 06:00:00 |\n| 2013 | 12 | 25 | 630 | 631 | -1 |  924 |  958 | -34 | UA |  398 | N505UA | JFK | LAX | 335 | 2475 | 6 | 31 | 2013-12-25 06:00:00 |\n| 2013 | 12 | 25 | 632 | 635 | -3 |  927 |  929 |  -2 | B6 |  525 | N556JB | JFK | TPA | 151 | 1005 | 6 | 35 | 2013-12-25 06:00:00 |\n| 2013 | 12 | 25 | 632 | 620 | 12 |  922 |  919 |   3 | UA |  596 | N556UA | EWR | TPA | 147 |  997 | 6 | 20 | 2013-12-25 06:00:00 |\n| 2013 | 12 | 25 | 635 | 614 | 21 |  921 |  925 |  -4 | UA | 1701 | N38417 | EWR | FLL | 151 | 1065 | 6 | 14 | 2013-12-25 06:00:00 |\n| 2013 | 12 | 25 | 643 | 630 | 13 |  904 |  859 |   5 | DL |  807 | N977AT | EWR | ATL | 115 |  746 | 6 | 30 | 2013-12-25 06:00:00 |\n| ⋮ | ⋮ | ⋮ | ⋮ | ⋮ | ⋮ | ⋮ | ⋮ | ⋮ | ⋮ | ⋮ | ⋮ | ⋮ | ⋮ | ⋮ | ⋮ | ⋮ | ⋮ | ⋮ |\n| 2013 | 12 | 25 | 2126 | 2129 |  -3 |   24 |   22 |   2 | B6 | 2043 | N599JB | EWR | PBI | 144 | 1023 | 21 | 29 | 2013-12-25 21:00:00 |\n| 2013 | 12 | 25 | 2129 | 2053 |  36 |    1 | 2333 |  28 | EV | 4388 | N17984 | EWR | JAX | 133 |  820 | 20 | 53 | 2013-12-25 20:00:00 |\n| 2013 | 12 | 25 | 2130 | 2135 |  -5 |   25 |   55 | -30 | AA |  185 | N332AA | JFK | LAX | 328 | 2475 | 21 | 35 | 2013-12-25 21:00:00 |\n| 2013 | 12 | 25 | 2130 | 2115 |  15 | 2322 | 2315 |   7 | MQ | 3384 | N520MQ | LGA | CLT |  90 |  544 | 21 | 15 | 2013-12-25 21:00:00 |\n| 2013 | 12 | 25 | 2131 | 2046 |  45 |   24 | 2349 |  35 | UA |  236 | N406UA | EWR | TPA | 151 |  997 | 20 | 46 | 2013-12-25 20:00:00 |\n| 2013 | 12 | 25 | 2140 | 2141 |  -1 |   44 |   37 |   7 | B6 |  425 | N579JB | JFK | TPA | 160 | 1005 | 21 | 41 | 2013-12-25 21:00:00 |\n| 2013 | 12 | 25 | 2144 | 2145 |  -1 |   27 |   19 |   8 | B6 | 2227 | N273JB | EWR | MCO | 144 |  937 | 21 | 45 | 2013-12-25 21:00:00 |\n| 2013 | 12 | 25 | 2149 | 2155 |  -6 | 2328 | 2334 |  -6 | B6 |  985 | N339JB | JFK | RDU |  80 |  427 | 21 | 55 | 2013-12-25 21:00:00 |\n| 2013 | 12 | 25 | 2150 | 2159 |  -9 |  103 |   45 |  18 | B6 | 1183 | N634JB | JFK | MCO | 151 |  944 | 21 | 59 | 2013-12-25 21:00:00 |\n| 2013 | 12 | 25 | 2152 | 2155 |  -3 |  100 |   56 |   4 | B6 | 1901 | N665JB | JFK | FLL | 154 | 1069 | 21 | 55 | 2013-12-25 21:00:00 |\n| 2013 | 12 | 25 | 2153 | 2155 |  -2 |   50 |   46 |   4 | B6 | 2053 | N613JB | JFK | PBI | 148 | 1028 | 21 | 55 | 2013-12-25 21:00:00 |\n| 2013 | 12 | 25 | 2153 | 2135 |  18 |   22 |   19 |   3 | B6 |  611 | N519JB | JFK | LAS | 305 | 2248 | 21 | 35 | 2013-12-25 21:00:00 |\n| 2013 | 12 | 25 | 2153 | 2030 |  83 |   46 | 2347 |  59 | UA | 1682 | N78524 | EWR | FLL | 151 | 1065 | 20 | 30 | 2013-12-25 20:00:00 |\n| 2013 | 12 | 25 | 2203 | 2136 |  27 | 2327 | 2259 |  28 | B6 |  702 | N198JB | JFK | BUF |  59 |  301 | 21 | 36 | 2013-12-25 21:00:00 |\n| 2013 | 12 | 25 | 2203 | 2130 |  33 | 2309 | 2245 |  24 | MQ | 3621 | N844MQ | JFK | DCA |  42 |  213 | 21 | 30 | 2013-12-25 21:00:00 |\n| 2013 | 12 | 25 | 2219 | 2110 |  69 |  102 | 2339 |  83 | B6 |  775 | N258JB | JFK | MSY | 192 | 1182 | 21 | 10 | 2013-12-25 21:00:00 |\n| 2013 | 12 | 25 | 2231 | 2219 |  12 |  311 |  304 |   7 | B6 | 1203 | N618JB | JFK | SJU | 194 | 1598 | 22 | 19 | 2013-12-25 22:00:00 |\n| 2013 | 12 | 25 | 2302 | 2245 |  17 |   15 |    3 |  12 | B6 |  486 | N203JB | JFK | ROC |  54 |  264 | 22 | 45 | 2013-12-25 22:00:00 |\n| 2013 | 12 | 25 | 2308 | 2245 |  23 |   10 | 2355 |  15 | B6 |  234 | N316JB | JFK | BTV |  43 |  266 | 22 | 45 | 2013-12-25 22:00:00 |\n| 2013 | 12 | 25 | 2312 | 2250 |  22 |   10 | 2356 |  14 | B6 | 1816 | N358JB | JFK | SYR |  44 |  209 | 22 | 50 | 2013-12-25 22:00:00 |\n| 2013 | 12 | 25 | 2314 | 2245 |  29 |   15 | 2353 |  22 | B6 |  108 | N279JB | JFK | PWM |  46 |  273 | 22 | 45 | 2013-12-25 22:00:00 |\n| 2013 | 12 | 25 | 2315 | 2330 | -15 |  348 |  409 | -21 | B6 | 1389 | N554JB | EWR | SJU | 199 | 1608 | 23 | 30 | 2013-12-25 23:00:00 |\n| 2013 | 12 | 25 | 2352 | 2359 |  -7 |  429 |  440 | -11 | B6 | 1503 | N531JB | JFK | SJU | 198 | 1598 | 23 | 59 | 2013-12-25 23:00:00 |\n| 2013 | 12 | 25 | 2353 | 2355 |  -2 |  442 |  438 |   4 | DL | 2380 | N713TW | JFK | SJU | 196 | 1598 | 23 | 55 | 2013-12-25 23:00:00 |\n| 2013 | 12 | 25 | 2357 | 2359 |  -2 |  446 |  445 |   1 | B6 |  745 | N636JB | JFK | PSE | 204 | 1617 | 23 | 59 | 2013-12-25 23:00:00 |\n| 2013 | 12 | 25 | 2357 | 2359 |  -2 |  433 |  437 |  -4 | B6 |  839 | N784JB | JFK | BQN | 194 | 1576 | 23 | 59 | 2013-12-25 23:00:00 |\n| 2013 | 12 | 25 |   NA | 1630 |  NA |   NA | 1838 |  NA | DL | 2231 | N312US | LGA | DTW |  NA |  502 | 16 | 30 | 2013-12-25 16:00:00 |\n| 2013 | 12 | 25 |   NA | 1525 |  NA |   NA | 1720 |  NA | MQ | 2840 | N8EGMQ | LGA | STL |  NA |  888 | 15 | 25 | 2013-12-25 15:00:00 |\n| 2013 | 12 | 25 |   NA | 1100 |  NA |   NA | 1210 |  NA | MQ | 3230 | N524MQ | JFK | DCA |  NA |  213 | 11 |  0 | 2013-12-25 11:00:00 |\n| 2013 | 12 | 25 |   NA | 1930 |  NA |   NA | 2115 |  NA | MQ | 3535 | N509MQ | JFK | CMH |  NA |  483 | 19 | 30 | 2013-12-25 19:00:00 |\n\n",
            "text/latex": "A tibble: 719 × 19\n\\begin{tabular}{lllllllllllllllllll}\n year & month & day & dep\\_time & sched\\_dep\\_time & dep\\_delay & arr\\_time & sched\\_arr\\_time & arr\\_delay & carrier & flight & tailnum & origin & dest & air\\_time & distance & hour & minute & time\\_hour\\\\\n <int> & <int> & <int> & <int> & <int> & <dbl> & <int> & <int> & <dbl> & <chr> & <int> & <chr> & <chr> & <chr> & <dbl> & <dbl> & <dbl> & <dbl> & <dttm>\\\\\n\\hline\n\t 2013 & 12 & 25 & 456 & 500 & -4 &  649 &  651 &  -2 & US & 1895 & N156UW & EWR & CLT &  98 &  529 & 5 &  0 & 2013-12-25 05:00:00\\\\\n\t 2013 & 12 & 25 & 524 & 515 &  9 &  805 &  814 &  -9 & UA & 1016 & N32404 & EWR & IAH & 203 & 1400 & 5 & 15 & 2013-12-25 05:00:00\\\\\n\t 2013 & 12 & 25 & 542 & 540 &  2 &  832 &  850 & -18 & AA & 2243 & N5EBAA & JFK & MIA & 146 & 1089 & 5 & 40 & 2013-12-25 05:00:00\\\\\n\t 2013 & 12 & 25 & 546 & 550 & -4 & 1022 & 1027 &  -5 & B6 &  939 & N665JB & JFK & BQN & 191 & 1576 & 5 & 50 & 2013-12-25 05:00:00\\\\\n\t 2013 & 12 & 25 & 556 & 600 & -4 &  730 &  745 & -15 & AA &  301 & N3JLAA & LGA & ORD & 123 &  733 & 6 &  0 & 2013-12-25 06:00:00\\\\\n\t 2013 & 12 & 25 & 557 & 600 & -3 &  743 &  752 &  -9 & DL &  731 & N369NB & LGA & DTW &  88 &  502 & 6 &  0 & 2013-12-25 06:00:00\\\\\n\t 2013 & 12 & 25 & 557 & 600 & -3 &  818 &  831 & -13 & DL &  904 & N397DA & LGA & ATL & 118 &  762 & 6 &  0 & 2013-12-25 06:00:00\\\\\n\t 2013 & 12 & 25 & 559 & 600 & -1 &  855 &  856 &  -1 & B6 &  371 & N608JB & LGA & FLL & 147 & 1076 & 6 &  0 & 2013-12-25 06:00:00\\\\\n\t 2013 & 12 & 25 & 559 & 600 & -1 &  849 &  855 &  -6 & B6 &  605 & N536JB & EWR & FLL & 149 & 1065 & 6 &  0 & 2013-12-25 06:00:00\\\\\n\t 2013 & 12 & 25 & 600 & 600 &  0 &  850 &  846 &   4 & B6 &  583 & N746JB & JFK & MCO & 137 &  944 & 6 &  0 & 2013-12-25 06:00:00\\\\\n\t 2013 & 12 & 25 & 600 & 600 &  0 &  715 &  723 &  -8 & EV & 5747 & N835AS & LGA & IAD &  47 &  229 & 6 &  0 & 2013-12-25 06:00:00\\\\\n\t 2013 & 12 & 25 & 601 & 600 &  1 &  855 &  905 & -10 & AA & 1175 & N3EJAA & LGA & MIA & 152 & 1096 & 6 &  0 & 2013-12-25 06:00:00\\\\\n\t 2013 & 12 & 25 & 601 & 600 &  1 &  846 &  849 &  -3 & B6 &  353 & N766JB & JFK & PBI & 143 & 1028 & 6 &  0 & 2013-12-25 06:00:00\\\\\n\t 2013 & 12 & 25 & 604 & 611 & -7 & 1051 & 1055 &  -4 & B6 & 1403 & N779JB & JFK & SJU & 190 & 1598 & 6 & 11 & 2013-12-25 06:00:00\\\\\n\t 2013 & 12 & 25 & 605 & 600 &  5 &  912 &  937 & -25 & UA &  303 & N596UA & JFK & SFO & 345 & 2586 & 6 &  0 & 2013-12-25 06:00:00\\\\\n\t 2013 & 12 & 25 & 610 & 610 &  0 &  922 &  915 &   7 & AA & 1205 & N5BTAA & EWR & MIA & 145 & 1085 & 6 & 10 & 2013-12-25 06:00:00\\\\\n\t 2013 & 12 & 25 & 610 & 605 &  5 &  718 &  723 &  -5 & EV & 6177 & N11189 & EWR & IAD &  44 &  212 & 6 &  5 & 2013-12-25 06:00:00\\\\\n\t 2013 & 12 & 25 & 611 & 611 &  0 &  908 &  912 &  -4 & B6 &  601 & N804JB & JFK & FLL & 153 & 1069 & 6 & 11 & 2013-12-25 06:00:00\\\\\n\t 2013 & 12 & 25 & 612 & 615 & -3 &  859 &  852 &   7 & DL &  479 & N3769L & JFK & ATL & 127 &  760 & 6 & 15 & 2013-12-25 06:00:00\\\\\n\t 2013 & 12 & 25 & 615 & 615 &  0 &  802 &  818 & -16 & US & 1963 & N169UW & EWR & CLT &  87 &  529 & 6 & 15 & 2013-12-25 06:00:00\\\\\n\t 2013 & 12 & 25 & 620 & 615 &  5 &  818 &  817 &   1 & US &  840 & N151UW & JFK & CLT &  96 &  541 & 6 & 15 & 2013-12-25 06:00:00\\\\\n\t 2013 & 12 & 25 & 621 & 610 & 11 &  902 &  905 &  -3 & UA & 1627 & N76269 & EWR & PBI & 142 & 1023 & 6 & 10 & 2013-12-25 06:00:00\\\\\n\t 2013 & 12 & 25 & 627 & 625 &  2 & 1010 & 1009 &   1 & US &  690 & N672AW & EWR & PHX & 288 & 2133 & 6 & 25 & 2013-12-25 06:00:00\\\\\n\t 2013 & 12 & 25 & 628 & 630 & -2 &  932 &  938 &  -6 & B6 &  929 & N712JB & JFK & RSW & 162 & 1074 & 6 & 30 & 2013-12-25 06:00:00\\\\\n\t 2013 & 12 & 25 & 628 & 630 & -2 &  949 &  919 &  30 & B6 & 1099 & N571JB & LGA & MCO & 136 &  950 & 6 & 30 & 2013-12-25 06:00:00\\\\\n\t 2013 & 12 & 25 & 630 & 631 & -1 &  924 &  958 & -34 & UA &  398 & N505UA & JFK & LAX & 335 & 2475 & 6 & 31 & 2013-12-25 06:00:00\\\\\n\t 2013 & 12 & 25 & 632 & 635 & -3 &  927 &  929 &  -2 & B6 &  525 & N556JB & JFK & TPA & 151 & 1005 & 6 & 35 & 2013-12-25 06:00:00\\\\\n\t 2013 & 12 & 25 & 632 & 620 & 12 &  922 &  919 &   3 & UA &  596 & N556UA & EWR & TPA & 147 &  997 & 6 & 20 & 2013-12-25 06:00:00\\\\\n\t 2013 & 12 & 25 & 635 & 614 & 21 &  921 &  925 &  -4 & UA & 1701 & N38417 & EWR & FLL & 151 & 1065 & 6 & 14 & 2013-12-25 06:00:00\\\\\n\t 2013 & 12 & 25 & 643 & 630 & 13 &  904 &  859 &   5 & DL &  807 & N977AT & EWR & ATL & 115 &  746 & 6 & 30 & 2013-12-25 06:00:00\\\\\n\t ⋮ & ⋮ & ⋮ & ⋮ & ⋮ & ⋮ & ⋮ & ⋮ & ⋮ & ⋮ & ⋮ & ⋮ & ⋮ & ⋮ & ⋮ & ⋮ & ⋮ & ⋮ & ⋮\\\\\n\t 2013 & 12 & 25 & 2126 & 2129 &  -3 &   24 &   22 &   2 & B6 & 2043 & N599JB & EWR & PBI & 144 & 1023 & 21 & 29 & 2013-12-25 21:00:00\\\\\n\t 2013 & 12 & 25 & 2129 & 2053 &  36 &    1 & 2333 &  28 & EV & 4388 & N17984 & EWR & JAX & 133 &  820 & 20 & 53 & 2013-12-25 20:00:00\\\\\n\t 2013 & 12 & 25 & 2130 & 2135 &  -5 &   25 &   55 & -30 & AA &  185 & N332AA & JFK & LAX & 328 & 2475 & 21 & 35 & 2013-12-25 21:00:00\\\\\n\t 2013 & 12 & 25 & 2130 & 2115 &  15 & 2322 & 2315 &   7 & MQ & 3384 & N520MQ & LGA & CLT &  90 &  544 & 21 & 15 & 2013-12-25 21:00:00\\\\\n\t 2013 & 12 & 25 & 2131 & 2046 &  45 &   24 & 2349 &  35 & UA &  236 & N406UA & EWR & TPA & 151 &  997 & 20 & 46 & 2013-12-25 20:00:00\\\\\n\t 2013 & 12 & 25 & 2140 & 2141 &  -1 &   44 &   37 &   7 & B6 &  425 & N579JB & JFK & TPA & 160 & 1005 & 21 & 41 & 2013-12-25 21:00:00\\\\\n\t 2013 & 12 & 25 & 2144 & 2145 &  -1 &   27 &   19 &   8 & B6 & 2227 & N273JB & EWR & MCO & 144 &  937 & 21 & 45 & 2013-12-25 21:00:00\\\\\n\t 2013 & 12 & 25 & 2149 & 2155 &  -6 & 2328 & 2334 &  -6 & B6 &  985 & N339JB & JFK & RDU &  80 &  427 & 21 & 55 & 2013-12-25 21:00:00\\\\\n\t 2013 & 12 & 25 & 2150 & 2159 &  -9 &  103 &   45 &  18 & B6 & 1183 & N634JB & JFK & MCO & 151 &  944 & 21 & 59 & 2013-12-25 21:00:00\\\\\n\t 2013 & 12 & 25 & 2152 & 2155 &  -3 &  100 &   56 &   4 & B6 & 1901 & N665JB & JFK & FLL & 154 & 1069 & 21 & 55 & 2013-12-25 21:00:00\\\\\n\t 2013 & 12 & 25 & 2153 & 2155 &  -2 &   50 &   46 &   4 & B6 & 2053 & N613JB & JFK & PBI & 148 & 1028 & 21 & 55 & 2013-12-25 21:00:00\\\\\n\t 2013 & 12 & 25 & 2153 & 2135 &  18 &   22 &   19 &   3 & B6 &  611 & N519JB & JFK & LAS & 305 & 2248 & 21 & 35 & 2013-12-25 21:00:00\\\\\n\t 2013 & 12 & 25 & 2153 & 2030 &  83 &   46 & 2347 &  59 & UA & 1682 & N78524 & EWR & FLL & 151 & 1065 & 20 & 30 & 2013-12-25 20:00:00\\\\\n\t 2013 & 12 & 25 & 2203 & 2136 &  27 & 2327 & 2259 &  28 & B6 &  702 & N198JB & JFK & BUF &  59 &  301 & 21 & 36 & 2013-12-25 21:00:00\\\\\n\t 2013 & 12 & 25 & 2203 & 2130 &  33 & 2309 & 2245 &  24 & MQ & 3621 & N844MQ & JFK & DCA &  42 &  213 & 21 & 30 & 2013-12-25 21:00:00\\\\\n\t 2013 & 12 & 25 & 2219 & 2110 &  69 &  102 & 2339 &  83 & B6 &  775 & N258JB & JFK & MSY & 192 & 1182 & 21 & 10 & 2013-12-25 21:00:00\\\\\n\t 2013 & 12 & 25 & 2231 & 2219 &  12 &  311 &  304 &   7 & B6 & 1203 & N618JB & JFK & SJU & 194 & 1598 & 22 & 19 & 2013-12-25 22:00:00\\\\\n\t 2013 & 12 & 25 & 2302 & 2245 &  17 &   15 &    3 &  12 & B6 &  486 & N203JB & JFK & ROC &  54 &  264 & 22 & 45 & 2013-12-25 22:00:00\\\\\n\t 2013 & 12 & 25 & 2308 & 2245 &  23 &   10 & 2355 &  15 & B6 &  234 & N316JB & JFK & BTV &  43 &  266 & 22 & 45 & 2013-12-25 22:00:00\\\\\n\t 2013 & 12 & 25 & 2312 & 2250 &  22 &   10 & 2356 &  14 & B6 & 1816 & N358JB & JFK & SYR &  44 &  209 & 22 & 50 & 2013-12-25 22:00:00\\\\\n\t 2013 & 12 & 25 & 2314 & 2245 &  29 &   15 & 2353 &  22 & B6 &  108 & N279JB & JFK & PWM &  46 &  273 & 22 & 45 & 2013-12-25 22:00:00\\\\\n\t 2013 & 12 & 25 & 2315 & 2330 & -15 &  348 &  409 & -21 & B6 & 1389 & N554JB & EWR & SJU & 199 & 1608 & 23 & 30 & 2013-12-25 23:00:00\\\\\n\t 2013 & 12 & 25 & 2352 & 2359 &  -7 &  429 &  440 & -11 & B6 & 1503 & N531JB & JFK & SJU & 198 & 1598 & 23 & 59 & 2013-12-25 23:00:00\\\\\n\t 2013 & 12 & 25 & 2353 & 2355 &  -2 &  442 &  438 &   4 & DL & 2380 & N713TW & JFK & SJU & 196 & 1598 & 23 & 55 & 2013-12-25 23:00:00\\\\\n\t 2013 & 12 & 25 & 2357 & 2359 &  -2 &  446 &  445 &   1 & B6 &  745 & N636JB & JFK & PSE & 204 & 1617 & 23 & 59 & 2013-12-25 23:00:00\\\\\n\t 2013 & 12 & 25 & 2357 & 2359 &  -2 &  433 &  437 &  -4 & B6 &  839 & N784JB & JFK & BQN & 194 & 1576 & 23 & 59 & 2013-12-25 23:00:00\\\\\n\t 2013 & 12 & 25 &   NA & 1630 &  NA &   NA & 1838 &  NA & DL & 2231 & N312US & LGA & DTW &  NA &  502 & 16 & 30 & 2013-12-25 16:00:00\\\\\n\t 2013 & 12 & 25 &   NA & 1525 &  NA &   NA & 1720 &  NA & MQ & 2840 & N8EGMQ & LGA & STL &  NA &  888 & 15 & 25 & 2013-12-25 15:00:00\\\\\n\t 2013 & 12 & 25 &   NA & 1100 &  NA &   NA & 1210 &  NA & MQ & 3230 & N524MQ & JFK & DCA &  NA &  213 & 11 &  0 & 2013-12-25 11:00:00\\\\\n\t 2013 & 12 & 25 &   NA & 1930 &  NA &   NA & 2115 &  NA & MQ & 3535 & N509MQ & JFK & CMH &  NA &  483 & 19 & 30 & 2013-12-25 19:00:00\\\\\n\\end{tabular}\n",
            "text/plain": [
              "    year month day dep_time sched_dep_time dep_delay arr_time sched_arr_time\n",
              "1   2013 12    25  456      500            -4         649      651          \n",
              "2   2013 12    25  524      515             9         805      814          \n",
              "3   2013 12    25  542      540             2         832      850          \n",
              "4   2013 12    25  546      550            -4        1022     1027          \n",
              "5   2013 12    25  556      600            -4         730      745          \n",
              "6   2013 12    25  557      600            -3         743      752          \n",
              "7   2013 12    25  557      600            -3         818      831          \n",
              "8   2013 12    25  559      600            -1         855      856          \n",
              "9   2013 12    25  559      600            -1         849      855          \n",
              "10  2013 12    25  600      600             0         850      846          \n",
              "11  2013 12    25  600      600             0         715      723          \n",
              "12  2013 12    25  601      600             1         855      905          \n",
              "13  2013 12    25  601      600             1         846      849          \n",
              "14  2013 12    25  604      611            -7        1051     1055          \n",
              "15  2013 12    25  605      600             5         912      937          \n",
              "16  2013 12    25  610      610             0         922      915          \n",
              "17  2013 12    25  610      605             5         718      723          \n",
              "18  2013 12    25  611      611             0         908      912          \n",
              "19  2013 12    25  612      615            -3         859      852          \n",
              "20  2013 12    25  615      615             0         802      818          \n",
              "21  2013 12    25  620      615             5         818      817          \n",
              "22  2013 12    25  621      610            11         902      905          \n",
              "23  2013 12    25  627      625             2        1010     1009          \n",
              "24  2013 12    25  628      630            -2         932      938          \n",
              "25  2013 12    25  628      630            -2         949      919          \n",
              "26  2013 12    25  630      631            -1         924      958          \n",
              "27  2013 12    25  632      635            -3         927      929          \n",
              "28  2013 12    25  632      620            12         922      919          \n",
              "29  2013 12    25  635      614            21         921      925          \n",
              "30  2013 12    25  643      630            13         904      859          \n",
              "⋮   ⋮    ⋮     ⋮   ⋮        ⋮              ⋮         ⋮        ⋮             \n",
              "690 2013 12    25  2126     2129            -3         24       22          \n",
              "691 2013 12    25  2129     2053            36          1     2333          \n",
              "692 2013 12    25  2130     2135            -5         25       55          \n",
              "693 2013 12    25  2130     2115            15       2322     2315          \n",
              "694 2013 12    25  2131     2046            45         24     2349          \n",
              "695 2013 12    25  2140     2141            -1         44       37          \n",
              "696 2013 12    25  2144     2145            -1         27       19          \n",
              "697 2013 12    25  2149     2155            -6       2328     2334          \n",
              "698 2013 12    25  2150     2159            -9        103       45          \n",
              "699 2013 12    25  2152     2155            -3        100       56          \n",
              "700 2013 12    25  2153     2155            -2         50       46          \n",
              "701 2013 12    25  2153     2135            18         22       19          \n",
              "702 2013 12    25  2153     2030            83         46     2347          \n",
              "703 2013 12    25  2203     2136            27       2327     2259          \n",
              "704 2013 12    25  2203     2130            33       2309     2245          \n",
              "705 2013 12    25  2219     2110            69        102     2339          \n",
              "706 2013 12    25  2231     2219            12        311      304          \n",
              "707 2013 12    25  2302     2245            17         15        3          \n",
              "708 2013 12    25  2308     2245            23         10     2355          \n",
              "709 2013 12    25  2312     2250            22         10     2356          \n",
              "710 2013 12    25  2314     2245            29         15     2353          \n",
              "711 2013 12    25  2315     2330           -15        348      409          \n",
              "712 2013 12    25  2352     2359            -7        429      440          \n",
              "713 2013 12    25  2353     2355            -2        442      438          \n",
              "714 2013 12    25  2357     2359            -2        446      445          \n",
              "715 2013 12    25  2357     2359            -2        433      437          \n",
              "716 2013 12    25    NA     1630            NA         NA     1838          \n",
              "717 2013 12    25    NA     1525            NA         NA     1720          \n",
              "718 2013 12    25    NA     1100            NA         NA     1210          \n",
              "719 2013 12    25    NA     1930            NA         NA     2115          \n",
              "    arr_delay carrier flight tailnum origin dest air_time distance hour minute\n",
              "1    -2       US      1895   N156UW  EWR    CLT   98       529     5     0    \n",
              "2    -9       UA      1016   N32404  EWR    IAH  203      1400     5    15    \n",
              "3   -18       AA      2243   N5EBAA  JFK    MIA  146      1089     5    40    \n",
              "4    -5       B6       939   N665JB  JFK    BQN  191      1576     5    50    \n",
              "5   -15       AA       301   N3JLAA  LGA    ORD  123       733     6     0    \n",
              "6    -9       DL       731   N369NB  LGA    DTW   88       502     6     0    \n",
              "7   -13       DL       904   N397DA  LGA    ATL  118       762     6     0    \n",
              "8    -1       B6       371   N608JB  LGA    FLL  147      1076     6     0    \n",
              "9    -6       B6       605   N536JB  EWR    FLL  149      1065     6     0    \n",
              "10    4       B6       583   N746JB  JFK    MCO  137       944     6     0    \n",
              "11   -8       EV      5747   N835AS  LGA    IAD   47       229     6     0    \n",
              "12  -10       AA      1175   N3EJAA  LGA    MIA  152      1096     6     0    \n",
              "13   -3       B6       353   N766JB  JFK    PBI  143      1028     6     0    \n",
              "14   -4       B6      1403   N779JB  JFK    SJU  190      1598     6    11    \n",
              "15  -25       UA       303   N596UA  JFK    SFO  345      2586     6     0    \n",
              "16    7       AA      1205   N5BTAA  EWR    MIA  145      1085     6    10    \n",
              "17   -5       EV      6177   N11189  EWR    IAD   44       212     6     5    \n",
              "18   -4       B6       601   N804JB  JFK    FLL  153      1069     6    11    \n",
              "19    7       DL       479   N3769L  JFK    ATL  127       760     6    15    \n",
              "20  -16       US      1963   N169UW  EWR    CLT   87       529     6    15    \n",
              "21    1       US       840   N151UW  JFK    CLT   96       541     6    15    \n",
              "22   -3       UA      1627   N76269  EWR    PBI  142      1023     6    10    \n",
              "23    1       US       690   N672AW  EWR    PHX  288      2133     6    25    \n",
              "24   -6       B6       929   N712JB  JFK    RSW  162      1074     6    30    \n",
              "25   30       B6      1099   N571JB  LGA    MCO  136       950     6    30    \n",
              "26  -34       UA       398   N505UA  JFK    LAX  335      2475     6    31    \n",
              "27   -2       B6       525   N556JB  JFK    TPA  151      1005     6    35    \n",
              "28    3       UA       596   N556UA  EWR    TPA  147       997     6    20    \n",
              "29   -4       UA      1701   N38417  EWR    FLL  151      1065     6    14    \n",
              "30    5       DL       807   N977AT  EWR    ATL  115       746     6    30    \n",
              "⋮   ⋮         ⋮       ⋮      ⋮       ⋮      ⋮    ⋮        ⋮        ⋮    ⋮     \n",
              "690   2       B6      2043   N599JB  EWR    PBI  144      1023     21   29    \n",
              "691  28       EV      4388   N17984  EWR    JAX  133       820     20   53    \n",
              "692 -30       AA       185   N332AA  JFK    LAX  328      2475     21   35    \n",
              "693   7       MQ      3384   N520MQ  LGA    CLT   90       544     21   15    \n",
              "694  35       UA       236   N406UA  EWR    TPA  151       997     20   46    \n",
              "695   7       B6       425   N579JB  JFK    TPA  160      1005     21   41    \n",
              "696   8       B6      2227   N273JB  EWR    MCO  144       937     21   45    \n",
              "697  -6       B6       985   N339JB  JFK    RDU   80       427     21   55    \n",
              "698  18       B6      1183   N634JB  JFK    MCO  151       944     21   59    \n",
              "699   4       B6      1901   N665JB  JFK    FLL  154      1069     21   55    \n",
              "700   4       B6      2053   N613JB  JFK    PBI  148      1028     21   55    \n",
              "701   3       B6       611   N519JB  JFK    LAS  305      2248     21   35    \n",
              "702  59       UA      1682   N78524  EWR    FLL  151      1065     20   30    \n",
              "703  28       B6       702   N198JB  JFK    BUF   59       301     21   36    \n",
              "704  24       MQ      3621   N844MQ  JFK    DCA   42       213     21   30    \n",
              "705  83       B6       775   N258JB  JFK    MSY  192      1182     21   10    \n",
              "706   7       B6      1203   N618JB  JFK    SJU  194      1598     22   19    \n",
              "707  12       B6       486   N203JB  JFK    ROC   54       264     22   45    \n",
              "708  15       B6       234   N316JB  JFK    BTV   43       266     22   45    \n",
              "709  14       B6      1816   N358JB  JFK    SYR   44       209     22   50    \n",
              "710  22       B6       108   N279JB  JFK    PWM   46       273     22   45    \n",
              "711 -21       B6      1389   N554JB  EWR    SJU  199      1608     23   30    \n",
              "712 -11       B6      1503   N531JB  JFK    SJU  198      1598     23   59    \n",
              "713   4       DL      2380   N713TW  JFK    SJU  196      1598     23   55    \n",
              "714   1       B6       745   N636JB  JFK    PSE  204      1617     23   59    \n",
              "715  -4       B6       839   N784JB  JFK    BQN  194      1576     23   59    \n",
              "716  NA       DL      2231   N312US  LGA    DTW   NA       502     16   30    \n",
              "717  NA       MQ      2840   N8EGMQ  LGA    STL   NA       888     15   25    \n",
              "718  NA       MQ      3230   N524MQ  JFK    DCA   NA       213     11    0    \n",
              "719  NA       MQ      3535   N509MQ  JFK    CMH   NA       483     19   30    \n",
              "    time_hour          \n",
              "1   2013-12-25 05:00:00\n",
              "2   2013-12-25 05:00:00\n",
              "3   2013-12-25 05:00:00\n",
              "4   2013-12-25 05:00:00\n",
              "5   2013-12-25 06:00:00\n",
              "6   2013-12-25 06:00:00\n",
              "7   2013-12-25 06:00:00\n",
              "8   2013-12-25 06:00:00\n",
              "9   2013-12-25 06:00:00\n",
              "10  2013-12-25 06:00:00\n",
              "11  2013-12-25 06:00:00\n",
              "12  2013-12-25 06:00:00\n",
              "13  2013-12-25 06:00:00\n",
              "14  2013-12-25 06:00:00\n",
              "15  2013-12-25 06:00:00\n",
              "16  2013-12-25 06:00:00\n",
              "17  2013-12-25 06:00:00\n",
              "18  2013-12-25 06:00:00\n",
              "19  2013-12-25 06:00:00\n",
              "20  2013-12-25 06:00:00\n",
              "21  2013-12-25 06:00:00\n",
              "22  2013-12-25 06:00:00\n",
              "23  2013-12-25 06:00:00\n",
              "24  2013-12-25 06:00:00\n",
              "25  2013-12-25 06:00:00\n",
              "26  2013-12-25 06:00:00\n",
              "27  2013-12-25 06:00:00\n",
              "28  2013-12-25 06:00:00\n",
              "29  2013-12-25 06:00:00\n",
              "30  2013-12-25 06:00:00\n",
              "⋮   ⋮                  \n",
              "690 2013-12-25 21:00:00\n",
              "691 2013-12-25 20:00:00\n",
              "692 2013-12-25 21:00:00\n",
              "693 2013-12-25 21:00:00\n",
              "694 2013-12-25 20:00:00\n",
              "695 2013-12-25 21:00:00\n",
              "696 2013-12-25 21:00:00\n",
              "697 2013-12-25 21:00:00\n",
              "698 2013-12-25 21:00:00\n",
              "699 2013-12-25 21:00:00\n",
              "700 2013-12-25 21:00:00\n",
              "701 2013-12-25 21:00:00\n",
              "702 2013-12-25 20:00:00\n",
              "703 2013-12-25 21:00:00\n",
              "704 2013-12-25 21:00:00\n",
              "705 2013-12-25 21:00:00\n",
              "706 2013-12-25 22:00:00\n",
              "707 2013-12-25 22:00:00\n",
              "708 2013-12-25 22:00:00\n",
              "709 2013-12-25 22:00:00\n",
              "710 2013-12-25 22:00:00\n",
              "711 2013-12-25 23:00:00\n",
              "712 2013-12-25 23:00:00\n",
              "713 2013-12-25 23:00:00\n",
              "714 2013-12-25 23:00:00\n",
              "715 2013-12-25 23:00:00\n",
              "716 2013-12-25 16:00:00\n",
              "717 2013-12-25 15:00:00\n",
              "718 2013-12-25 11:00:00\n",
              "719 2013-12-25 19:00:00"
            ]
          },
          "metadata": {}
        }
      ],
      "source": [
        "filter(flights,month==12,day==25)"
      ]
    },
    {
      "cell_type": "markdown",
      "metadata": {
        "id": "NdAj25USzAMX"
      },
      "source": [
        "Esto crea un nuevo conjunto de datos, pero **no se guarda**, además, **NO** se modifica el conjunto de datos original.\n",
        "\n",
        "Para guardarlo, por ejemplo los vuelos en navidad:"
      ]
    },
    {
      "cell_type": "code",
      "execution_count": 28,
      "metadata": {
        "id": "Dvsh8jS9zFWZ"
      },
      "outputs": [],
      "source": [
        "vuelos_navidad<-filter(flights,month==12,day==25)"
      ]
    },
    {
      "cell_type": "markdown",
      "metadata": {
        "id": "5mevq3WwzaVe"
      },
      "source": [
        "¿Qué pasa si encerramos toda la línea anterior en paréntesis?"
      ]
    },
    {
      "cell_type": "code",
      "execution_count": 29,
      "metadata": {
        "collapsed": true,
        "id": "rxV-R7V0zbVB",
        "outputId": "66004e87-2b60-4164-efdd-841400ebc4c7",
        "colab": {
          "base_uri": "https://localhost:8080/",
          "height": 1000
        }
      },
      "outputs": [
        {
          "output_type": "display_data",
          "data": {
            "text/html": [
              "<table class=\"dataframe\">\n",
              "<caption>A tibble: 719 × 19</caption>\n",
              "<thead>\n",
              "\t<tr><th scope=col>year</th><th scope=col>month</th><th scope=col>day</th><th scope=col>dep_time</th><th scope=col>sched_dep_time</th><th scope=col>dep_delay</th><th scope=col>arr_time</th><th scope=col>sched_arr_time</th><th scope=col>arr_delay</th><th scope=col>carrier</th><th scope=col>flight</th><th scope=col>tailnum</th><th scope=col>origin</th><th scope=col>dest</th><th scope=col>air_time</th><th scope=col>distance</th><th scope=col>hour</th><th scope=col>minute</th><th scope=col>time_hour</th></tr>\n",
              "\t<tr><th scope=col>&lt;int&gt;</th><th scope=col>&lt;int&gt;</th><th scope=col>&lt;int&gt;</th><th scope=col>&lt;int&gt;</th><th scope=col>&lt;int&gt;</th><th scope=col>&lt;dbl&gt;</th><th scope=col>&lt;int&gt;</th><th scope=col>&lt;int&gt;</th><th scope=col>&lt;dbl&gt;</th><th scope=col>&lt;chr&gt;</th><th scope=col>&lt;int&gt;</th><th scope=col>&lt;chr&gt;</th><th scope=col>&lt;chr&gt;</th><th scope=col>&lt;chr&gt;</th><th scope=col>&lt;dbl&gt;</th><th scope=col>&lt;dbl&gt;</th><th scope=col>&lt;dbl&gt;</th><th scope=col>&lt;dbl&gt;</th><th scope=col>&lt;dttm&gt;</th></tr>\n",
              "</thead>\n",
              "<tbody>\n",
              "\t<tr><td>2013</td><td>12</td><td>25</td><td>456</td><td>500</td><td>-4</td><td> 649</td><td> 651</td><td> -2</td><td>US</td><td>1895</td><td>N156UW</td><td>EWR</td><td>CLT</td><td> 98</td><td> 529</td><td>5</td><td> 0</td><td>2013-12-25 05:00:00</td></tr>\n",
              "\t<tr><td>2013</td><td>12</td><td>25</td><td>524</td><td>515</td><td> 9</td><td> 805</td><td> 814</td><td> -9</td><td>UA</td><td>1016</td><td>N32404</td><td>EWR</td><td>IAH</td><td>203</td><td>1400</td><td>5</td><td>15</td><td>2013-12-25 05:00:00</td></tr>\n",
              "\t<tr><td>2013</td><td>12</td><td>25</td><td>542</td><td>540</td><td> 2</td><td> 832</td><td> 850</td><td>-18</td><td>AA</td><td>2243</td><td>N5EBAA</td><td>JFK</td><td>MIA</td><td>146</td><td>1089</td><td>5</td><td>40</td><td>2013-12-25 05:00:00</td></tr>\n",
              "\t<tr><td>2013</td><td>12</td><td>25</td><td>546</td><td>550</td><td>-4</td><td>1022</td><td>1027</td><td> -5</td><td>B6</td><td> 939</td><td>N665JB</td><td>JFK</td><td>BQN</td><td>191</td><td>1576</td><td>5</td><td>50</td><td>2013-12-25 05:00:00</td></tr>\n",
              "\t<tr><td>2013</td><td>12</td><td>25</td><td>556</td><td>600</td><td>-4</td><td> 730</td><td> 745</td><td>-15</td><td>AA</td><td> 301</td><td>N3JLAA</td><td>LGA</td><td>ORD</td><td>123</td><td> 733</td><td>6</td><td> 0</td><td>2013-12-25 06:00:00</td></tr>\n",
              "\t<tr><td>2013</td><td>12</td><td>25</td><td>557</td><td>600</td><td>-3</td><td> 743</td><td> 752</td><td> -9</td><td>DL</td><td> 731</td><td>N369NB</td><td>LGA</td><td>DTW</td><td> 88</td><td> 502</td><td>6</td><td> 0</td><td>2013-12-25 06:00:00</td></tr>\n",
              "\t<tr><td>2013</td><td>12</td><td>25</td><td>557</td><td>600</td><td>-3</td><td> 818</td><td> 831</td><td>-13</td><td>DL</td><td> 904</td><td>N397DA</td><td>LGA</td><td>ATL</td><td>118</td><td> 762</td><td>6</td><td> 0</td><td>2013-12-25 06:00:00</td></tr>\n",
              "\t<tr><td>2013</td><td>12</td><td>25</td><td>559</td><td>600</td><td>-1</td><td> 855</td><td> 856</td><td> -1</td><td>B6</td><td> 371</td><td>N608JB</td><td>LGA</td><td>FLL</td><td>147</td><td>1076</td><td>6</td><td> 0</td><td>2013-12-25 06:00:00</td></tr>\n",
              "\t<tr><td>2013</td><td>12</td><td>25</td><td>559</td><td>600</td><td>-1</td><td> 849</td><td> 855</td><td> -6</td><td>B6</td><td> 605</td><td>N536JB</td><td>EWR</td><td>FLL</td><td>149</td><td>1065</td><td>6</td><td> 0</td><td>2013-12-25 06:00:00</td></tr>\n",
              "\t<tr><td>2013</td><td>12</td><td>25</td><td>600</td><td>600</td><td> 0</td><td> 850</td><td> 846</td><td>  4</td><td>B6</td><td> 583</td><td>N746JB</td><td>JFK</td><td>MCO</td><td>137</td><td> 944</td><td>6</td><td> 0</td><td>2013-12-25 06:00:00</td></tr>\n",
              "\t<tr><td>2013</td><td>12</td><td>25</td><td>600</td><td>600</td><td> 0</td><td> 715</td><td> 723</td><td> -8</td><td>EV</td><td>5747</td><td>N835AS</td><td>LGA</td><td>IAD</td><td> 47</td><td> 229</td><td>6</td><td> 0</td><td>2013-12-25 06:00:00</td></tr>\n",
              "\t<tr><td>2013</td><td>12</td><td>25</td><td>601</td><td>600</td><td> 1</td><td> 855</td><td> 905</td><td>-10</td><td>AA</td><td>1175</td><td>N3EJAA</td><td>LGA</td><td>MIA</td><td>152</td><td>1096</td><td>6</td><td> 0</td><td>2013-12-25 06:00:00</td></tr>\n",
              "\t<tr><td>2013</td><td>12</td><td>25</td><td>601</td><td>600</td><td> 1</td><td> 846</td><td> 849</td><td> -3</td><td>B6</td><td> 353</td><td>N766JB</td><td>JFK</td><td>PBI</td><td>143</td><td>1028</td><td>6</td><td> 0</td><td>2013-12-25 06:00:00</td></tr>\n",
              "\t<tr><td>2013</td><td>12</td><td>25</td><td>604</td><td>611</td><td>-7</td><td>1051</td><td>1055</td><td> -4</td><td>B6</td><td>1403</td><td>N779JB</td><td>JFK</td><td>SJU</td><td>190</td><td>1598</td><td>6</td><td>11</td><td>2013-12-25 06:00:00</td></tr>\n",
              "\t<tr><td>2013</td><td>12</td><td>25</td><td>605</td><td>600</td><td> 5</td><td> 912</td><td> 937</td><td>-25</td><td>UA</td><td> 303</td><td>N596UA</td><td>JFK</td><td>SFO</td><td>345</td><td>2586</td><td>6</td><td> 0</td><td>2013-12-25 06:00:00</td></tr>\n",
              "\t<tr><td>2013</td><td>12</td><td>25</td><td>610</td><td>610</td><td> 0</td><td> 922</td><td> 915</td><td>  7</td><td>AA</td><td>1205</td><td>N5BTAA</td><td>EWR</td><td>MIA</td><td>145</td><td>1085</td><td>6</td><td>10</td><td>2013-12-25 06:00:00</td></tr>\n",
              "\t<tr><td>2013</td><td>12</td><td>25</td><td>610</td><td>605</td><td> 5</td><td> 718</td><td> 723</td><td> -5</td><td>EV</td><td>6177</td><td>N11189</td><td>EWR</td><td>IAD</td><td> 44</td><td> 212</td><td>6</td><td> 5</td><td>2013-12-25 06:00:00</td></tr>\n",
              "\t<tr><td>2013</td><td>12</td><td>25</td><td>611</td><td>611</td><td> 0</td><td> 908</td><td> 912</td><td> -4</td><td>B6</td><td> 601</td><td>N804JB</td><td>JFK</td><td>FLL</td><td>153</td><td>1069</td><td>6</td><td>11</td><td>2013-12-25 06:00:00</td></tr>\n",
              "\t<tr><td>2013</td><td>12</td><td>25</td><td>612</td><td>615</td><td>-3</td><td> 859</td><td> 852</td><td>  7</td><td>DL</td><td> 479</td><td>N3769L</td><td>JFK</td><td>ATL</td><td>127</td><td> 760</td><td>6</td><td>15</td><td>2013-12-25 06:00:00</td></tr>\n",
              "\t<tr><td>2013</td><td>12</td><td>25</td><td>615</td><td>615</td><td> 0</td><td> 802</td><td> 818</td><td>-16</td><td>US</td><td>1963</td><td>N169UW</td><td>EWR</td><td>CLT</td><td> 87</td><td> 529</td><td>6</td><td>15</td><td>2013-12-25 06:00:00</td></tr>\n",
              "\t<tr><td>2013</td><td>12</td><td>25</td><td>620</td><td>615</td><td> 5</td><td> 818</td><td> 817</td><td>  1</td><td>US</td><td> 840</td><td>N151UW</td><td>JFK</td><td>CLT</td><td> 96</td><td> 541</td><td>6</td><td>15</td><td>2013-12-25 06:00:00</td></tr>\n",
              "\t<tr><td>2013</td><td>12</td><td>25</td><td>621</td><td>610</td><td>11</td><td> 902</td><td> 905</td><td> -3</td><td>UA</td><td>1627</td><td>N76269</td><td>EWR</td><td>PBI</td><td>142</td><td>1023</td><td>6</td><td>10</td><td>2013-12-25 06:00:00</td></tr>\n",
              "\t<tr><td>2013</td><td>12</td><td>25</td><td>627</td><td>625</td><td> 2</td><td>1010</td><td>1009</td><td>  1</td><td>US</td><td> 690</td><td>N672AW</td><td>EWR</td><td>PHX</td><td>288</td><td>2133</td><td>6</td><td>25</td><td>2013-12-25 06:00:00</td></tr>\n",
              "\t<tr><td>2013</td><td>12</td><td>25</td><td>628</td><td>630</td><td>-2</td><td> 932</td><td> 938</td><td> -6</td><td>B6</td><td> 929</td><td>N712JB</td><td>JFK</td><td>RSW</td><td>162</td><td>1074</td><td>6</td><td>30</td><td>2013-12-25 06:00:00</td></tr>\n",
              "\t<tr><td>2013</td><td>12</td><td>25</td><td>628</td><td>630</td><td>-2</td><td> 949</td><td> 919</td><td> 30</td><td>B6</td><td>1099</td><td>N571JB</td><td>LGA</td><td>MCO</td><td>136</td><td> 950</td><td>6</td><td>30</td><td>2013-12-25 06:00:00</td></tr>\n",
              "\t<tr><td>2013</td><td>12</td><td>25</td><td>630</td><td>631</td><td>-1</td><td> 924</td><td> 958</td><td>-34</td><td>UA</td><td> 398</td><td>N505UA</td><td>JFK</td><td>LAX</td><td>335</td><td>2475</td><td>6</td><td>31</td><td>2013-12-25 06:00:00</td></tr>\n",
              "\t<tr><td>2013</td><td>12</td><td>25</td><td>632</td><td>635</td><td>-3</td><td> 927</td><td> 929</td><td> -2</td><td>B6</td><td> 525</td><td>N556JB</td><td>JFK</td><td>TPA</td><td>151</td><td>1005</td><td>6</td><td>35</td><td>2013-12-25 06:00:00</td></tr>\n",
              "\t<tr><td>2013</td><td>12</td><td>25</td><td>632</td><td>620</td><td>12</td><td> 922</td><td> 919</td><td>  3</td><td>UA</td><td> 596</td><td>N556UA</td><td>EWR</td><td>TPA</td><td>147</td><td> 997</td><td>6</td><td>20</td><td>2013-12-25 06:00:00</td></tr>\n",
              "\t<tr><td>2013</td><td>12</td><td>25</td><td>635</td><td>614</td><td>21</td><td> 921</td><td> 925</td><td> -4</td><td>UA</td><td>1701</td><td>N38417</td><td>EWR</td><td>FLL</td><td>151</td><td>1065</td><td>6</td><td>14</td><td>2013-12-25 06:00:00</td></tr>\n",
              "\t<tr><td>2013</td><td>12</td><td>25</td><td>643</td><td>630</td><td>13</td><td> 904</td><td> 859</td><td>  5</td><td>DL</td><td> 807</td><td>N977AT</td><td>EWR</td><td>ATL</td><td>115</td><td> 746</td><td>6</td><td>30</td><td>2013-12-25 06:00:00</td></tr>\n",
              "\t<tr><td>⋮</td><td>⋮</td><td>⋮</td><td>⋮</td><td>⋮</td><td>⋮</td><td>⋮</td><td>⋮</td><td>⋮</td><td>⋮</td><td>⋮</td><td>⋮</td><td>⋮</td><td>⋮</td><td>⋮</td><td>⋮</td><td>⋮</td><td>⋮</td><td>⋮</td></tr>\n",
              "\t<tr><td>2013</td><td>12</td><td>25</td><td>2126</td><td>2129</td><td> -3</td><td>  24</td><td>  22</td><td>  2</td><td>B6</td><td>2043</td><td>N599JB</td><td>EWR</td><td>PBI</td><td>144</td><td>1023</td><td>21</td><td>29</td><td>2013-12-25 21:00:00</td></tr>\n",
              "\t<tr><td>2013</td><td>12</td><td>25</td><td>2129</td><td>2053</td><td> 36</td><td>   1</td><td>2333</td><td> 28</td><td>EV</td><td>4388</td><td>N17984</td><td>EWR</td><td>JAX</td><td>133</td><td> 820</td><td>20</td><td>53</td><td>2013-12-25 20:00:00</td></tr>\n",
              "\t<tr><td>2013</td><td>12</td><td>25</td><td>2130</td><td>2135</td><td> -5</td><td>  25</td><td>  55</td><td>-30</td><td>AA</td><td> 185</td><td>N332AA</td><td>JFK</td><td>LAX</td><td>328</td><td>2475</td><td>21</td><td>35</td><td>2013-12-25 21:00:00</td></tr>\n",
              "\t<tr><td>2013</td><td>12</td><td>25</td><td>2130</td><td>2115</td><td> 15</td><td>2322</td><td>2315</td><td>  7</td><td>MQ</td><td>3384</td><td>N520MQ</td><td>LGA</td><td>CLT</td><td> 90</td><td> 544</td><td>21</td><td>15</td><td>2013-12-25 21:00:00</td></tr>\n",
              "\t<tr><td>2013</td><td>12</td><td>25</td><td>2131</td><td>2046</td><td> 45</td><td>  24</td><td>2349</td><td> 35</td><td>UA</td><td> 236</td><td>N406UA</td><td>EWR</td><td>TPA</td><td>151</td><td> 997</td><td>20</td><td>46</td><td>2013-12-25 20:00:00</td></tr>\n",
              "\t<tr><td>2013</td><td>12</td><td>25</td><td>2140</td><td>2141</td><td> -1</td><td>  44</td><td>  37</td><td>  7</td><td>B6</td><td> 425</td><td>N579JB</td><td>JFK</td><td>TPA</td><td>160</td><td>1005</td><td>21</td><td>41</td><td>2013-12-25 21:00:00</td></tr>\n",
              "\t<tr><td>2013</td><td>12</td><td>25</td><td>2144</td><td>2145</td><td> -1</td><td>  27</td><td>  19</td><td>  8</td><td>B6</td><td>2227</td><td>N273JB</td><td>EWR</td><td>MCO</td><td>144</td><td> 937</td><td>21</td><td>45</td><td>2013-12-25 21:00:00</td></tr>\n",
              "\t<tr><td>2013</td><td>12</td><td>25</td><td>2149</td><td>2155</td><td> -6</td><td>2328</td><td>2334</td><td> -6</td><td>B6</td><td> 985</td><td>N339JB</td><td>JFK</td><td>RDU</td><td> 80</td><td> 427</td><td>21</td><td>55</td><td>2013-12-25 21:00:00</td></tr>\n",
              "\t<tr><td>2013</td><td>12</td><td>25</td><td>2150</td><td>2159</td><td> -9</td><td> 103</td><td>  45</td><td> 18</td><td>B6</td><td>1183</td><td>N634JB</td><td>JFK</td><td>MCO</td><td>151</td><td> 944</td><td>21</td><td>59</td><td>2013-12-25 21:00:00</td></tr>\n",
              "\t<tr><td>2013</td><td>12</td><td>25</td><td>2152</td><td>2155</td><td> -3</td><td> 100</td><td>  56</td><td>  4</td><td>B6</td><td>1901</td><td>N665JB</td><td>JFK</td><td>FLL</td><td>154</td><td>1069</td><td>21</td><td>55</td><td>2013-12-25 21:00:00</td></tr>\n",
              "\t<tr><td>2013</td><td>12</td><td>25</td><td>2153</td><td>2155</td><td> -2</td><td>  50</td><td>  46</td><td>  4</td><td>B6</td><td>2053</td><td>N613JB</td><td>JFK</td><td>PBI</td><td>148</td><td>1028</td><td>21</td><td>55</td><td>2013-12-25 21:00:00</td></tr>\n",
              "\t<tr><td>2013</td><td>12</td><td>25</td><td>2153</td><td>2135</td><td> 18</td><td>  22</td><td>  19</td><td>  3</td><td>B6</td><td> 611</td><td>N519JB</td><td>JFK</td><td>LAS</td><td>305</td><td>2248</td><td>21</td><td>35</td><td>2013-12-25 21:00:00</td></tr>\n",
              "\t<tr><td>2013</td><td>12</td><td>25</td><td>2153</td><td>2030</td><td> 83</td><td>  46</td><td>2347</td><td> 59</td><td>UA</td><td>1682</td><td>N78524</td><td>EWR</td><td>FLL</td><td>151</td><td>1065</td><td>20</td><td>30</td><td>2013-12-25 20:00:00</td></tr>\n",
              "\t<tr><td>2013</td><td>12</td><td>25</td><td>2203</td><td>2136</td><td> 27</td><td>2327</td><td>2259</td><td> 28</td><td>B6</td><td> 702</td><td>N198JB</td><td>JFK</td><td>BUF</td><td> 59</td><td> 301</td><td>21</td><td>36</td><td>2013-12-25 21:00:00</td></tr>\n",
              "\t<tr><td>2013</td><td>12</td><td>25</td><td>2203</td><td>2130</td><td> 33</td><td>2309</td><td>2245</td><td> 24</td><td>MQ</td><td>3621</td><td>N844MQ</td><td>JFK</td><td>DCA</td><td> 42</td><td> 213</td><td>21</td><td>30</td><td>2013-12-25 21:00:00</td></tr>\n",
              "\t<tr><td>2013</td><td>12</td><td>25</td><td>2219</td><td>2110</td><td> 69</td><td> 102</td><td>2339</td><td> 83</td><td>B6</td><td> 775</td><td>N258JB</td><td>JFK</td><td>MSY</td><td>192</td><td>1182</td><td>21</td><td>10</td><td>2013-12-25 21:00:00</td></tr>\n",
              "\t<tr><td>2013</td><td>12</td><td>25</td><td>2231</td><td>2219</td><td> 12</td><td> 311</td><td> 304</td><td>  7</td><td>B6</td><td>1203</td><td>N618JB</td><td>JFK</td><td>SJU</td><td>194</td><td>1598</td><td>22</td><td>19</td><td>2013-12-25 22:00:00</td></tr>\n",
              "\t<tr><td>2013</td><td>12</td><td>25</td><td>2302</td><td>2245</td><td> 17</td><td>  15</td><td>   3</td><td> 12</td><td>B6</td><td> 486</td><td>N203JB</td><td>JFK</td><td>ROC</td><td> 54</td><td> 264</td><td>22</td><td>45</td><td>2013-12-25 22:00:00</td></tr>\n",
              "\t<tr><td>2013</td><td>12</td><td>25</td><td>2308</td><td>2245</td><td> 23</td><td>  10</td><td>2355</td><td> 15</td><td>B6</td><td> 234</td><td>N316JB</td><td>JFK</td><td>BTV</td><td> 43</td><td> 266</td><td>22</td><td>45</td><td>2013-12-25 22:00:00</td></tr>\n",
              "\t<tr><td>2013</td><td>12</td><td>25</td><td>2312</td><td>2250</td><td> 22</td><td>  10</td><td>2356</td><td> 14</td><td>B6</td><td>1816</td><td>N358JB</td><td>JFK</td><td>SYR</td><td> 44</td><td> 209</td><td>22</td><td>50</td><td>2013-12-25 22:00:00</td></tr>\n",
              "\t<tr><td>2013</td><td>12</td><td>25</td><td>2314</td><td>2245</td><td> 29</td><td>  15</td><td>2353</td><td> 22</td><td>B6</td><td> 108</td><td>N279JB</td><td>JFK</td><td>PWM</td><td> 46</td><td> 273</td><td>22</td><td>45</td><td>2013-12-25 22:00:00</td></tr>\n",
              "\t<tr><td>2013</td><td>12</td><td>25</td><td>2315</td><td>2330</td><td>-15</td><td> 348</td><td> 409</td><td>-21</td><td>B6</td><td>1389</td><td>N554JB</td><td>EWR</td><td>SJU</td><td>199</td><td>1608</td><td>23</td><td>30</td><td>2013-12-25 23:00:00</td></tr>\n",
              "\t<tr><td>2013</td><td>12</td><td>25</td><td>2352</td><td>2359</td><td> -7</td><td> 429</td><td> 440</td><td>-11</td><td>B6</td><td>1503</td><td>N531JB</td><td>JFK</td><td>SJU</td><td>198</td><td>1598</td><td>23</td><td>59</td><td>2013-12-25 23:00:00</td></tr>\n",
              "\t<tr><td>2013</td><td>12</td><td>25</td><td>2353</td><td>2355</td><td> -2</td><td> 442</td><td> 438</td><td>  4</td><td>DL</td><td>2380</td><td>N713TW</td><td>JFK</td><td>SJU</td><td>196</td><td>1598</td><td>23</td><td>55</td><td>2013-12-25 23:00:00</td></tr>\n",
              "\t<tr><td>2013</td><td>12</td><td>25</td><td>2357</td><td>2359</td><td> -2</td><td> 446</td><td> 445</td><td>  1</td><td>B6</td><td> 745</td><td>N636JB</td><td>JFK</td><td>PSE</td><td>204</td><td>1617</td><td>23</td><td>59</td><td>2013-12-25 23:00:00</td></tr>\n",
              "\t<tr><td>2013</td><td>12</td><td>25</td><td>2357</td><td>2359</td><td> -2</td><td> 433</td><td> 437</td><td> -4</td><td>B6</td><td> 839</td><td>N784JB</td><td>JFK</td><td>BQN</td><td>194</td><td>1576</td><td>23</td><td>59</td><td>2013-12-25 23:00:00</td></tr>\n",
              "\t<tr><td>2013</td><td>12</td><td>25</td><td>  NA</td><td>1630</td><td> NA</td><td>  NA</td><td>1838</td><td> NA</td><td>DL</td><td>2231</td><td>N312US</td><td>LGA</td><td>DTW</td><td> NA</td><td> 502</td><td>16</td><td>30</td><td>2013-12-25 16:00:00</td></tr>\n",
              "\t<tr><td>2013</td><td>12</td><td>25</td><td>  NA</td><td>1525</td><td> NA</td><td>  NA</td><td>1720</td><td> NA</td><td>MQ</td><td>2840</td><td>N8EGMQ</td><td>LGA</td><td>STL</td><td> NA</td><td> 888</td><td>15</td><td>25</td><td>2013-12-25 15:00:00</td></tr>\n",
              "\t<tr><td>2013</td><td>12</td><td>25</td><td>  NA</td><td>1100</td><td> NA</td><td>  NA</td><td>1210</td><td> NA</td><td>MQ</td><td>3230</td><td>N524MQ</td><td>JFK</td><td>DCA</td><td> NA</td><td> 213</td><td>11</td><td> 0</td><td>2013-12-25 11:00:00</td></tr>\n",
              "\t<tr><td>2013</td><td>12</td><td>25</td><td>  NA</td><td>1930</td><td> NA</td><td>  NA</td><td>2115</td><td> NA</td><td>MQ</td><td>3535</td><td>N509MQ</td><td>JFK</td><td>CMH</td><td> NA</td><td> 483</td><td>19</td><td>30</td><td>2013-12-25 19:00:00</td></tr>\n",
              "</tbody>\n",
              "</table>\n"
            ],
            "text/markdown": "\nA tibble: 719 × 19\n\n| year &lt;int&gt; | month &lt;int&gt; | day &lt;int&gt; | dep_time &lt;int&gt; | sched_dep_time &lt;int&gt; | dep_delay &lt;dbl&gt; | arr_time &lt;int&gt; | sched_arr_time &lt;int&gt; | arr_delay &lt;dbl&gt; | carrier &lt;chr&gt; | flight &lt;int&gt; | tailnum &lt;chr&gt; | origin &lt;chr&gt; | dest &lt;chr&gt; | air_time &lt;dbl&gt; | distance &lt;dbl&gt; | hour &lt;dbl&gt; | minute &lt;dbl&gt; | time_hour &lt;dttm&gt; |\n|---|---|---|---|---|---|---|---|---|---|---|---|---|---|---|---|---|---|---|\n| 2013 | 12 | 25 | 456 | 500 | -4 |  649 |  651 |  -2 | US | 1895 | N156UW | EWR | CLT |  98 |  529 | 5 |  0 | 2013-12-25 05:00:00 |\n| 2013 | 12 | 25 | 524 | 515 |  9 |  805 |  814 |  -9 | UA | 1016 | N32404 | EWR | IAH | 203 | 1400 | 5 | 15 | 2013-12-25 05:00:00 |\n| 2013 | 12 | 25 | 542 | 540 |  2 |  832 |  850 | -18 | AA | 2243 | N5EBAA | JFK | MIA | 146 | 1089 | 5 | 40 | 2013-12-25 05:00:00 |\n| 2013 | 12 | 25 | 546 | 550 | -4 | 1022 | 1027 |  -5 | B6 |  939 | N665JB | JFK | BQN | 191 | 1576 | 5 | 50 | 2013-12-25 05:00:00 |\n| 2013 | 12 | 25 | 556 | 600 | -4 |  730 |  745 | -15 | AA |  301 | N3JLAA | LGA | ORD | 123 |  733 | 6 |  0 | 2013-12-25 06:00:00 |\n| 2013 | 12 | 25 | 557 | 600 | -3 |  743 |  752 |  -9 | DL |  731 | N369NB | LGA | DTW |  88 |  502 | 6 |  0 | 2013-12-25 06:00:00 |\n| 2013 | 12 | 25 | 557 | 600 | -3 |  818 |  831 | -13 | DL |  904 | N397DA | LGA | ATL | 118 |  762 | 6 |  0 | 2013-12-25 06:00:00 |\n| 2013 | 12 | 25 | 559 | 600 | -1 |  855 |  856 |  -1 | B6 |  371 | N608JB | LGA | FLL | 147 | 1076 | 6 |  0 | 2013-12-25 06:00:00 |\n| 2013 | 12 | 25 | 559 | 600 | -1 |  849 |  855 |  -6 | B6 |  605 | N536JB | EWR | FLL | 149 | 1065 | 6 |  0 | 2013-12-25 06:00:00 |\n| 2013 | 12 | 25 | 600 | 600 |  0 |  850 |  846 |   4 | B6 |  583 | N746JB | JFK | MCO | 137 |  944 | 6 |  0 | 2013-12-25 06:00:00 |\n| 2013 | 12 | 25 | 600 | 600 |  0 |  715 |  723 |  -8 | EV | 5747 | N835AS | LGA | IAD |  47 |  229 | 6 |  0 | 2013-12-25 06:00:00 |\n| 2013 | 12 | 25 | 601 | 600 |  1 |  855 |  905 | -10 | AA | 1175 | N3EJAA | LGA | MIA | 152 | 1096 | 6 |  0 | 2013-12-25 06:00:00 |\n| 2013 | 12 | 25 | 601 | 600 |  1 |  846 |  849 |  -3 | B6 |  353 | N766JB | JFK | PBI | 143 | 1028 | 6 |  0 | 2013-12-25 06:00:00 |\n| 2013 | 12 | 25 | 604 | 611 | -7 | 1051 | 1055 |  -4 | B6 | 1403 | N779JB | JFK | SJU | 190 | 1598 | 6 | 11 | 2013-12-25 06:00:00 |\n| 2013 | 12 | 25 | 605 | 600 |  5 |  912 |  937 | -25 | UA |  303 | N596UA | JFK | SFO | 345 | 2586 | 6 |  0 | 2013-12-25 06:00:00 |\n| 2013 | 12 | 25 | 610 | 610 |  0 |  922 |  915 |   7 | AA | 1205 | N5BTAA | EWR | MIA | 145 | 1085 | 6 | 10 | 2013-12-25 06:00:00 |\n| 2013 | 12 | 25 | 610 | 605 |  5 |  718 |  723 |  -5 | EV | 6177 | N11189 | EWR | IAD |  44 |  212 | 6 |  5 | 2013-12-25 06:00:00 |\n| 2013 | 12 | 25 | 611 | 611 |  0 |  908 |  912 |  -4 | B6 |  601 | N804JB | JFK | FLL | 153 | 1069 | 6 | 11 | 2013-12-25 06:00:00 |\n| 2013 | 12 | 25 | 612 | 615 | -3 |  859 |  852 |   7 | DL |  479 | N3769L | JFK | ATL | 127 |  760 | 6 | 15 | 2013-12-25 06:00:00 |\n| 2013 | 12 | 25 | 615 | 615 |  0 |  802 |  818 | -16 | US | 1963 | N169UW | EWR | CLT |  87 |  529 | 6 | 15 | 2013-12-25 06:00:00 |\n| 2013 | 12 | 25 | 620 | 615 |  5 |  818 |  817 |   1 | US |  840 | N151UW | JFK | CLT |  96 |  541 | 6 | 15 | 2013-12-25 06:00:00 |\n| 2013 | 12 | 25 | 621 | 610 | 11 |  902 |  905 |  -3 | UA | 1627 | N76269 | EWR | PBI | 142 | 1023 | 6 | 10 | 2013-12-25 06:00:00 |\n| 2013 | 12 | 25 | 627 | 625 |  2 | 1010 | 1009 |   1 | US |  690 | N672AW | EWR | PHX | 288 | 2133 | 6 | 25 | 2013-12-25 06:00:00 |\n| 2013 | 12 | 25 | 628 | 630 | -2 |  932 |  938 |  -6 | B6 |  929 | N712JB | JFK | RSW | 162 | 1074 | 6 | 30 | 2013-12-25 06:00:00 |\n| 2013 | 12 | 25 | 628 | 630 | -2 |  949 |  919 |  30 | B6 | 1099 | N571JB | LGA | MCO | 136 |  950 | 6 | 30 | 2013-12-25 06:00:00 |\n| 2013 | 12 | 25 | 630 | 631 | -1 |  924 |  958 | -34 | UA |  398 | N505UA | JFK | LAX | 335 | 2475 | 6 | 31 | 2013-12-25 06:00:00 |\n| 2013 | 12 | 25 | 632 | 635 | -3 |  927 |  929 |  -2 | B6 |  525 | N556JB | JFK | TPA | 151 | 1005 | 6 | 35 | 2013-12-25 06:00:00 |\n| 2013 | 12 | 25 | 632 | 620 | 12 |  922 |  919 |   3 | UA |  596 | N556UA | EWR | TPA | 147 |  997 | 6 | 20 | 2013-12-25 06:00:00 |\n| 2013 | 12 | 25 | 635 | 614 | 21 |  921 |  925 |  -4 | UA | 1701 | N38417 | EWR | FLL | 151 | 1065 | 6 | 14 | 2013-12-25 06:00:00 |\n| 2013 | 12 | 25 | 643 | 630 | 13 |  904 |  859 |   5 | DL |  807 | N977AT | EWR | ATL | 115 |  746 | 6 | 30 | 2013-12-25 06:00:00 |\n| ⋮ | ⋮ | ⋮ | ⋮ | ⋮ | ⋮ | ⋮ | ⋮ | ⋮ | ⋮ | ⋮ | ⋮ | ⋮ | ⋮ | ⋮ | ⋮ | ⋮ | ⋮ | ⋮ |\n| 2013 | 12 | 25 | 2126 | 2129 |  -3 |   24 |   22 |   2 | B6 | 2043 | N599JB | EWR | PBI | 144 | 1023 | 21 | 29 | 2013-12-25 21:00:00 |\n| 2013 | 12 | 25 | 2129 | 2053 |  36 |    1 | 2333 |  28 | EV | 4388 | N17984 | EWR | JAX | 133 |  820 | 20 | 53 | 2013-12-25 20:00:00 |\n| 2013 | 12 | 25 | 2130 | 2135 |  -5 |   25 |   55 | -30 | AA |  185 | N332AA | JFK | LAX | 328 | 2475 | 21 | 35 | 2013-12-25 21:00:00 |\n| 2013 | 12 | 25 | 2130 | 2115 |  15 | 2322 | 2315 |   7 | MQ | 3384 | N520MQ | LGA | CLT |  90 |  544 | 21 | 15 | 2013-12-25 21:00:00 |\n| 2013 | 12 | 25 | 2131 | 2046 |  45 |   24 | 2349 |  35 | UA |  236 | N406UA | EWR | TPA | 151 |  997 | 20 | 46 | 2013-12-25 20:00:00 |\n| 2013 | 12 | 25 | 2140 | 2141 |  -1 |   44 |   37 |   7 | B6 |  425 | N579JB | JFK | TPA | 160 | 1005 | 21 | 41 | 2013-12-25 21:00:00 |\n| 2013 | 12 | 25 | 2144 | 2145 |  -1 |   27 |   19 |   8 | B6 | 2227 | N273JB | EWR | MCO | 144 |  937 | 21 | 45 | 2013-12-25 21:00:00 |\n| 2013 | 12 | 25 | 2149 | 2155 |  -6 | 2328 | 2334 |  -6 | B6 |  985 | N339JB | JFK | RDU |  80 |  427 | 21 | 55 | 2013-12-25 21:00:00 |\n| 2013 | 12 | 25 | 2150 | 2159 |  -9 |  103 |   45 |  18 | B6 | 1183 | N634JB | JFK | MCO | 151 |  944 | 21 | 59 | 2013-12-25 21:00:00 |\n| 2013 | 12 | 25 | 2152 | 2155 |  -3 |  100 |   56 |   4 | B6 | 1901 | N665JB | JFK | FLL | 154 | 1069 | 21 | 55 | 2013-12-25 21:00:00 |\n| 2013 | 12 | 25 | 2153 | 2155 |  -2 |   50 |   46 |   4 | B6 | 2053 | N613JB | JFK | PBI | 148 | 1028 | 21 | 55 | 2013-12-25 21:00:00 |\n| 2013 | 12 | 25 | 2153 | 2135 |  18 |   22 |   19 |   3 | B6 |  611 | N519JB | JFK | LAS | 305 | 2248 | 21 | 35 | 2013-12-25 21:00:00 |\n| 2013 | 12 | 25 | 2153 | 2030 |  83 |   46 | 2347 |  59 | UA | 1682 | N78524 | EWR | FLL | 151 | 1065 | 20 | 30 | 2013-12-25 20:00:00 |\n| 2013 | 12 | 25 | 2203 | 2136 |  27 | 2327 | 2259 |  28 | B6 |  702 | N198JB | JFK | BUF |  59 |  301 | 21 | 36 | 2013-12-25 21:00:00 |\n| 2013 | 12 | 25 | 2203 | 2130 |  33 | 2309 | 2245 |  24 | MQ | 3621 | N844MQ | JFK | DCA |  42 |  213 | 21 | 30 | 2013-12-25 21:00:00 |\n| 2013 | 12 | 25 | 2219 | 2110 |  69 |  102 | 2339 |  83 | B6 |  775 | N258JB | JFK | MSY | 192 | 1182 | 21 | 10 | 2013-12-25 21:00:00 |\n| 2013 | 12 | 25 | 2231 | 2219 |  12 |  311 |  304 |   7 | B6 | 1203 | N618JB | JFK | SJU | 194 | 1598 | 22 | 19 | 2013-12-25 22:00:00 |\n| 2013 | 12 | 25 | 2302 | 2245 |  17 |   15 |    3 |  12 | B6 |  486 | N203JB | JFK | ROC |  54 |  264 | 22 | 45 | 2013-12-25 22:00:00 |\n| 2013 | 12 | 25 | 2308 | 2245 |  23 |   10 | 2355 |  15 | B6 |  234 | N316JB | JFK | BTV |  43 |  266 | 22 | 45 | 2013-12-25 22:00:00 |\n| 2013 | 12 | 25 | 2312 | 2250 |  22 |   10 | 2356 |  14 | B6 | 1816 | N358JB | JFK | SYR |  44 |  209 | 22 | 50 | 2013-12-25 22:00:00 |\n| 2013 | 12 | 25 | 2314 | 2245 |  29 |   15 | 2353 |  22 | B6 |  108 | N279JB | JFK | PWM |  46 |  273 | 22 | 45 | 2013-12-25 22:00:00 |\n| 2013 | 12 | 25 | 2315 | 2330 | -15 |  348 |  409 | -21 | B6 | 1389 | N554JB | EWR | SJU | 199 | 1608 | 23 | 30 | 2013-12-25 23:00:00 |\n| 2013 | 12 | 25 | 2352 | 2359 |  -7 |  429 |  440 | -11 | B6 | 1503 | N531JB | JFK | SJU | 198 | 1598 | 23 | 59 | 2013-12-25 23:00:00 |\n| 2013 | 12 | 25 | 2353 | 2355 |  -2 |  442 |  438 |   4 | DL | 2380 | N713TW | JFK | SJU | 196 | 1598 | 23 | 55 | 2013-12-25 23:00:00 |\n| 2013 | 12 | 25 | 2357 | 2359 |  -2 |  446 |  445 |   1 | B6 |  745 | N636JB | JFK | PSE | 204 | 1617 | 23 | 59 | 2013-12-25 23:00:00 |\n| 2013 | 12 | 25 | 2357 | 2359 |  -2 |  433 |  437 |  -4 | B6 |  839 | N784JB | JFK | BQN | 194 | 1576 | 23 | 59 | 2013-12-25 23:00:00 |\n| 2013 | 12 | 25 |   NA | 1630 |  NA |   NA | 1838 |  NA | DL | 2231 | N312US | LGA | DTW |  NA |  502 | 16 | 30 | 2013-12-25 16:00:00 |\n| 2013 | 12 | 25 |   NA | 1525 |  NA |   NA | 1720 |  NA | MQ | 2840 | N8EGMQ | LGA | STL |  NA |  888 | 15 | 25 | 2013-12-25 15:00:00 |\n| 2013 | 12 | 25 |   NA | 1100 |  NA |   NA | 1210 |  NA | MQ | 3230 | N524MQ | JFK | DCA |  NA |  213 | 11 |  0 | 2013-12-25 11:00:00 |\n| 2013 | 12 | 25 |   NA | 1930 |  NA |   NA | 2115 |  NA | MQ | 3535 | N509MQ | JFK | CMH |  NA |  483 | 19 | 30 | 2013-12-25 19:00:00 |\n\n",
            "text/latex": "A tibble: 719 × 19\n\\begin{tabular}{lllllllllllllllllll}\n year & month & day & dep\\_time & sched\\_dep\\_time & dep\\_delay & arr\\_time & sched\\_arr\\_time & arr\\_delay & carrier & flight & tailnum & origin & dest & air\\_time & distance & hour & minute & time\\_hour\\\\\n <int> & <int> & <int> & <int> & <int> & <dbl> & <int> & <int> & <dbl> & <chr> & <int> & <chr> & <chr> & <chr> & <dbl> & <dbl> & <dbl> & <dbl> & <dttm>\\\\\n\\hline\n\t 2013 & 12 & 25 & 456 & 500 & -4 &  649 &  651 &  -2 & US & 1895 & N156UW & EWR & CLT &  98 &  529 & 5 &  0 & 2013-12-25 05:00:00\\\\\n\t 2013 & 12 & 25 & 524 & 515 &  9 &  805 &  814 &  -9 & UA & 1016 & N32404 & EWR & IAH & 203 & 1400 & 5 & 15 & 2013-12-25 05:00:00\\\\\n\t 2013 & 12 & 25 & 542 & 540 &  2 &  832 &  850 & -18 & AA & 2243 & N5EBAA & JFK & MIA & 146 & 1089 & 5 & 40 & 2013-12-25 05:00:00\\\\\n\t 2013 & 12 & 25 & 546 & 550 & -4 & 1022 & 1027 &  -5 & B6 &  939 & N665JB & JFK & BQN & 191 & 1576 & 5 & 50 & 2013-12-25 05:00:00\\\\\n\t 2013 & 12 & 25 & 556 & 600 & -4 &  730 &  745 & -15 & AA &  301 & N3JLAA & LGA & ORD & 123 &  733 & 6 &  0 & 2013-12-25 06:00:00\\\\\n\t 2013 & 12 & 25 & 557 & 600 & -3 &  743 &  752 &  -9 & DL &  731 & N369NB & LGA & DTW &  88 &  502 & 6 &  0 & 2013-12-25 06:00:00\\\\\n\t 2013 & 12 & 25 & 557 & 600 & -3 &  818 &  831 & -13 & DL &  904 & N397DA & LGA & ATL & 118 &  762 & 6 &  0 & 2013-12-25 06:00:00\\\\\n\t 2013 & 12 & 25 & 559 & 600 & -1 &  855 &  856 &  -1 & B6 &  371 & N608JB & LGA & FLL & 147 & 1076 & 6 &  0 & 2013-12-25 06:00:00\\\\\n\t 2013 & 12 & 25 & 559 & 600 & -1 &  849 &  855 &  -6 & B6 &  605 & N536JB & EWR & FLL & 149 & 1065 & 6 &  0 & 2013-12-25 06:00:00\\\\\n\t 2013 & 12 & 25 & 600 & 600 &  0 &  850 &  846 &   4 & B6 &  583 & N746JB & JFK & MCO & 137 &  944 & 6 &  0 & 2013-12-25 06:00:00\\\\\n\t 2013 & 12 & 25 & 600 & 600 &  0 &  715 &  723 &  -8 & EV & 5747 & N835AS & LGA & IAD &  47 &  229 & 6 &  0 & 2013-12-25 06:00:00\\\\\n\t 2013 & 12 & 25 & 601 & 600 &  1 &  855 &  905 & -10 & AA & 1175 & N3EJAA & LGA & MIA & 152 & 1096 & 6 &  0 & 2013-12-25 06:00:00\\\\\n\t 2013 & 12 & 25 & 601 & 600 &  1 &  846 &  849 &  -3 & B6 &  353 & N766JB & JFK & PBI & 143 & 1028 & 6 &  0 & 2013-12-25 06:00:00\\\\\n\t 2013 & 12 & 25 & 604 & 611 & -7 & 1051 & 1055 &  -4 & B6 & 1403 & N779JB & JFK & SJU & 190 & 1598 & 6 & 11 & 2013-12-25 06:00:00\\\\\n\t 2013 & 12 & 25 & 605 & 600 &  5 &  912 &  937 & -25 & UA &  303 & N596UA & JFK & SFO & 345 & 2586 & 6 &  0 & 2013-12-25 06:00:00\\\\\n\t 2013 & 12 & 25 & 610 & 610 &  0 &  922 &  915 &   7 & AA & 1205 & N5BTAA & EWR & MIA & 145 & 1085 & 6 & 10 & 2013-12-25 06:00:00\\\\\n\t 2013 & 12 & 25 & 610 & 605 &  5 &  718 &  723 &  -5 & EV & 6177 & N11189 & EWR & IAD &  44 &  212 & 6 &  5 & 2013-12-25 06:00:00\\\\\n\t 2013 & 12 & 25 & 611 & 611 &  0 &  908 &  912 &  -4 & B6 &  601 & N804JB & JFK & FLL & 153 & 1069 & 6 & 11 & 2013-12-25 06:00:00\\\\\n\t 2013 & 12 & 25 & 612 & 615 & -3 &  859 &  852 &   7 & DL &  479 & N3769L & JFK & ATL & 127 &  760 & 6 & 15 & 2013-12-25 06:00:00\\\\\n\t 2013 & 12 & 25 & 615 & 615 &  0 &  802 &  818 & -16 & US & 1963 & N169UW & EWR & CLT &  87 &  529 & 6 & 15 & 2013-12-25 06:00:00\\\\\n\t 2013 & 12 & 25 & 620 & 615 &  5 &  818 &  817 &   1 & US &  840 & N151UW & JFK & CLT &  96 &  541 & 6 & 15 & 2013-12-25 06:00:00\\\\\n\t 2013 & 12 & 25 & 621 & 610 & 11 &  902 &  905 &  -3 & UA & 1627 & N76269 & EWR & PBI & 142 & 1023 & 6 & 10 & 2013-12-25 06:00:00\\\\\n\t 2013 & 12 & 25 & 627 & 625 &  2 & 1010 & 1009 &   1 & US &  690 & N672AW & EWR & PHX & 288 & 2133 & 6 & 25 & 2013-12-25 06:00:00\\\\\n\t 2013 & 12 & 25 & 628 & 630 & -2 &  932 &  938 &  -6 & B6 &  929 & N712JB & JFK & RSW & 162 & 1074 & 6 & 30 & 2013-12-25 06:00:00\\\\\n\t 2013 & 12 & 25 & 628 & 630 & -2 &  949 &  919 &  30 & B6 & 1099 & N571JB & LGA & MCO & 136 &  950 & 6 & 30 & 2013-12-25 06:00:00\\\\\n\t 2013 & 12 & 25 & 630 & 631 & -1 &  924 &  958 & -34 & UA &  398 & N505UA & JFK & LAX & 335 & 2475 & 6 & 31 & 2013-12-25 06:00:00\\\\\n\t 2013 & 12 & 25 & 632 & 635 & -3 &  927 &  929 &  -2 & B6 &  525 & N556JB & JFK & TPA & 151 & 1005 & 6 & 35 & 2013-12-25 06:00:00\\\\\n\t 2013 & 12 & 25 & 632 & 620 & 12 &  922 &  919 &   3 & UA &  596 & N556UA & EWR & TPA & 147 &  997 & 6 & 20 & 2013-12-25 06:00:00\\\\\n\t 2013 & 12 & 25 & 635 & 614 & 21 &  921 &  925 &  -4 & UA & 1701 & N38417 & EWR & FLL & 151 & 1065 & 6 & 14 & 2013-12-25 06:00:00\\\\\n\t 2013 & 12 & 25 & 643 & 630 & 13 &  904 &  859 &   5 & DL &  807 & N977AT & EWR & ATL & 115 &  746 & 6 & 30 & 2013-12-25 06:00:00\\\\\n\t ⋮ & ⋮ & ⋮ & ⋮ & ⋮ & ⋮ & ⋮ & ⋮ & ⋮ & ⋮ & ⋮ & ⋮ & ⋮ & ⋮ & ⋮ & ⋮ & ⋮ & ⋮ & ⋮\\\\\n\t 2013 & 12 & 25 & 2126 & 2129 &  -3 &   24 &   22 &   2 & B6 & 2043 & N599JB & EWR & PBI & 144 & 1023 & 21 & 29 & 2013-12-25 21:00:00\\\\\n\t 2013 & 12 & 25 & 2129 & 2053 &  36 &    1 & 2333 &  28 & EV & 4388 & N17984 & EWR & JAX & 133 &  820 & 20 & 53 & 2013-12-25 20:00:00\\\\\n\t 2013 & 12 & 25 & 2130 & 2135 &  -5 &   25 &   55 & -30 & AA &  185 & N332AA & JFK & LAX & 328 & 2475 & 21 & 35 & 2013-12-25 21:00:00\\\\\n\t 2013 & 12 & 25 & 2130 & 2115 &  15 & 2322 & 2315 &   7 & MQ & 3384 & N520MQ & LGA & CLT &  90 &  544 & 21 & 15 & 2013-12-25 21:00:00\\\\\n\t 2013 & 12 & 25 & 2131 & 2046 &  45 &   24 & 2349 &  35 & UA &  236 & N406UA & EWR & TPA & 151 &  997 & 20 & 46 & 2013-12-25 20:00:00\\\\\n\t 2013 & 12 & 25 & 2140 & 2141 &  -1 &   44 &   37 &   7 & B6 &  425 & N579JB & JFK & TPA & 160 & 1005 & 21 & 41 & 2013-12-25 21:00:00\\\\\n\t 2013 & 12 & 25 & 2144 & 2145 &  -1 &   27 &   19 &   8 & B6 & 2227 & N273JB & EWR & MCO & 144 &  937 & 21 & 45 & 2013-12-25 21:00:00\\\\\n\t 2013 & 12 & 25 & 2149 & 2155 &  -6 & 2328 & 2334 &  -6 & B6 &  985 & N339JB & JFK & RDU &  80 &  427 & 21 & 55 & 2013-12-25 21:00:00\\\\\n\t 2013 & 12 & 25 & 2150 & 2159 &  -9 &  103 &   45 &  18 & B6 & 1183 & N634JB & JFK & MCO & 151 &  944 & 21 & 59 & 2013-12-25 21:00:00\\\\\n\t 2013 & 12 & 25 & 2152 & 2155 &  -3 &  100 &   56 &   4 & B6 & 1901 & N665JB & JFK & FLL & 154 & 1069 & 21 & 55 & 2013-12-25 21:00:00\\\\\n\t 2013 & 12 & 25 & 2153 & 2155 &  -2 &   50 &   46 &   4 & B6 & 2053 & N613JB & JFK & PBI & 148 & 1028 & 21 & 55 & 2013-12-25 21:00:00\\\\\n\t 2013 & 12 & 25 & 2153 & 2135 &  18 &   22 &   19 &   3 & B6 &  611 & N519JB & JFK & LAS & 305 & 2248 & 21 & 35 & 2013-12-25 21:00:00\\\\\n\t 2013 & 12 & 25 & 2153 & 2030 &  83 &   46 & 2347 &  59 & UA & 1682 & N78524 & EWR & FLL & 151 & 1065 & 20 & 30 & 2013-12-25 20:00:00\\\\\n\t 2013 & 12 & 25 & 2203 & 2136 &  27 & 2327 & 2259 &  28 & B6 &  702 & N198JB & JFK & BUF &  59 &  301 & 21 & 36 & 2013-12-25 21:00:00\\\\\n\t 2013 & 12 & 25 & 2203 & 2130 &  33 & 2309 & 2245 &  24 & MQ & 3621 & N844MQ & JFK & DCA &  42 &  213 & 21 & 30 & 2013-12-25 21:00:00\\\\\n\t 2013 & 12 & 25 & 2219 & 2110 &  69 &  102 & 2339 &  83 & B6 &  775 & N258JB & JFK & MSY & 192 & 1182 & 21 & 10 & 2013-12-25 21:00:00\\\\\n\t 2013 & 12 & 25 & 2231 & 2219 &  12 &  311 &  304 &   7 & B6 & 1203 & N618JB & JFK & SJU & 194 & 1598 & 22 & 19 & 2013-12-25 22:00:00\\\\\n\t 2013 & 12 & 25 & 2302 & 2245 &  17 &   15 &    3 &  12 & B6 &  486 & N203JB & JFK & ROC &  54 &  264 & 22 & 45 & 2013-12-25 22:00:00\\\\\n\t 2013 & 12 & 25 & 2308 & 2245 &  23 &   10 & 2355 &  15 & B6 &  234 & N316JB & JFK & BTV &  43 &  266 & 22 & 45 & 2013-12-25 22:00:00\\\\\n\t 2013 & 12 & 25 & 2312 & 2250 &  22 &   10 & 2356 &  14 & B6 & 1816 & N358JB & JFK & SYR &  44 &  209 & 22 & 50 & 2013-12-25 22:00:00\\\\\n\t 2013 & 12 & 25 & 2314 & 2245 &  29 &   15 & 2353 &  22 & B6 &  108 & N279JB & JFK & PWM &  46 &  273 & 22 & 45 & 2013-12-25 22:00:00\\\\\n\t 2013 & 12 & 25 & 2315 & 2330 & -15 &  348 &  409 & -21 & B6 & 1389 & N554JB & EWR & SJU & 199 & 1608 & 23 & 30 & 2013-12-25 23:00:00\\\\\n\t 2013 & 12 & 25 & 2352 & 2359 &  -7 &  429 &  440 & -11 & B6 & 1503 & N531JB & JFK & SJU & 198 & 1598 & 23 & 59 & 2013-12-25 23:00:00\\\\\n\t 2013 & 12 & 25 & 2353 & 2355 &  -2 &  442 &  438 &   4 & DL & 2380 & N713TW & JFK & SJU & 196 & 1598 & 23 & 55 & 2013-12-25 23:00:00\\\\\n\t 2013 & 12 & 25 & 2357 & 2359 &  -2 &  446 &  445 &   1 & B6 &  745 & N636JB & JFK & PSE & 204 & 1617 & 23 & 59 & 2013-12-25 23:00:00\\\\\n\t 2013 & 12 & 25 & 2357 & 2359 &  -2 &  433 &  437 &  -4 & B6 &  839 & N784JB & JFK & BQN & 194 & 1576 & 23 & 59 & 2013-12-25 23:00:00\\\\\n\t 2013 & 12 & 25 &   NA & 1630 &  NA &   NA & 1838 &  NA & DL & 2231 & N312US & LGA & DTW &  NA &  502 & 16 & 30 & 2013-12-25 16:00:00\\\\\n\t 2013 & 12 & 25 &   NA & 1525 &  NA &   NA & 1720 &  NA & MQ & 2840 & N8EGMQ & LGA & STL &  NA &  888 & 15 & 25 & 2013-12-25 15:00:00\\\\\n\t 2013 & 12 & 25 &   NA & 1100 &  NA &   NA & 1210 &  NA & MQ & 3230 & N524MQ & JFK & DCA &  NA &  213 & 11 &  0 & 2013-12-25 11:00:00\\\\\n\t 2013 & 12 & 25 &   NA & 1930 &  NA &   NA & 2115 &  NA & MQ & 3535 & N509MQ & JFK & CMH &  NA &  483 & 19 & 30 & 2013-12-25 19:00:00\\\\\n\\end{tabular}\n",
            "text/plain": [
              "    year month day dep_time sched_dep_time dep_delay arr_time sched_arr_time\n",
              "1   2013 12    25  456      500            -4         649      651          \n",
              "2   2013 12    25  524      515             9         805      814          \n",
              "3   2013 12    25  542      540             2         832      850          \n",
              "4   2013 12    25  546      550            -4        1022     1027          \n",
              "5   2013 12    25  556      600            -4         730      745          \n",
              "6   2013 12    25  557      600            -3         743      752          \n",
              "7   2013 12    25  557      600            -3         818      831          \n",
              "8   2013 12    25  559      600            -1         855      856          \n",
              "9   2013 12    25  559      600            -1         849      855          \n",
              "10  2013 12    25  600      600             0         850      846          \n",
              "11  2013 12    25  600      600             0         715      723          \n",
              "12  2013 12    25  601      600             1         855      905          \n",
              "13  2013 12    25  601      600             1         846      849          \n",
              "14  2013 12    25  604      611            -7        1051     1055          \n",
              "15  2013 12    25  605      600             5         912      937          \n",
              "16  2013 12    25  610      610             0         922      915          \n",
              "17  2013 12    25  610      605             5         718      723          \n",
              "18  2013 12    25  611      611             0         908      912          \n",
              "19  2013 12    25  612      615            -3         859      852          \n",
              "20  2013 12    25  615      615             0         802      818          \n",
              "21  2013 12    25  620      615             5         818      817          \n",
              "22  2013 12    25  621      610            11         902      905          \n",
              "23  2013 12    25  627      625             2        1010     1009          \n",
              "24  2013 12    25  628      630            -2         932      938          \n",
              "25  2013 12    25  628      630            -2         949      919          \n",
              "26  2013 12    25  630      631            -1         924      958          \n",
              "27  2013 12    25  632      635            -3         927      929          \n",
              "28  2013 12    25  632      620            12         922      919          \n",
              "29  2013 12    25  635      614            21         921      925          \n",
              "30  2013 12    25  643      630            13         904      859          \n",
              "⋮   ⋮    ⋮     ⋮   ⋮        ⋮              ⋮         ⋮        ⋮             \n",
              "690 2013 12    25  2126     2129            -3         24       22          \n",
              "691 2013 12    25  2129     2053            36          1     2333          \n",
              "692 2013 12    25  2130     2135            -5         25       55          \n",
              "693 2013 12    25  2130     2115            15       2322     2315          \n",
              "694 2013 12    25  2131     2046            45         24     2349          \n",
              "695 2013 12    25  2140     2141            -1         44       37          \n",
              "696 2013 12    25  2144     2145            -1         27       19          \n",
              "697 2013 12    25  2149     2155            -6       2328     2334          \n",
              "698 2013 12    25  2150     2159            -9        103       45          \n",
              "699 2013 12    25  2152     2155            -3        100       56          \n",
              "700 2013 12    25  2153     2155            -2         50       46          \n",
              "701 2013 12    25  2153     2135            18         22       19          \n",
              "702 2013 12    25  2153     2030            83         46     2347          \n",
              "703 2013 12    25  2203     2136            27       2327     2259          \n",
              "704 2013 12    25  2203     2130            33       2309     2245          \n",
              "705 2013 12    25  2219     2110            69        102     2339          \n",
              "706 2013 12    25  2231     2219            12        311      304          \n",
              "707 2013 12    25  2302     2245            17         15        3          \n",
              "708 2013 12    25  2308     2245            23         10     2355          \n",
              "709 2013 12    25  2312     2250            22         10     2356          \n",
              "710 2013 12    25  2314     2245            29         15     2353          \n",
              "711 2013 12    25  2315     2330           -15        348      409          \n",
              "712 2013 12    25  2352     2359            -7        429      440          \n",
              "713 2013 12    25  2353     2355            -2        442      438          \n",
              "714 2013 12    25  2357     2359            -2        446      445          \n",
              "715 2013 12    25  2357     2359            -2        433      437          \n",
              "716 2013 12    25    NA     1630            NA         NA     1838          \n",
              "717 2013 12    25    NA     1525            NA         NA     1720          \n",
              "718 2013 12    25    NA     1100            NA         NA     1210          \n",
              "719 2013 12    25    NA     1930            NA         NA     2115          \n",
              "    arr_delay carrier flight tailnum origin dest air_time distance hour minute\n",
              "1    -2       US      1895   N156UW  EWR    CLT   98       529     5     0    \n",
              "2    -9       UA      1016   N32404  EWR    IAH  203      1400     5    15    \n",
              "3   -18       AA      2243   N5EBAA  JFK    MIA  146      1089     5    40    \n",
              "4    -5       B6       939   N665JB  JFK    BQN  191      1576     5    50    \n",
              "5   -15       AA       301   N3JLAA  LGA    ORD  123       733     6     0    \n",
              "6    -9       DL       731   N369NB  LGA    DTW   88       502     6     0    \n",
              "7   -13       DL       904   N397DA  LGA    ATL  118       762     6     0    \n",
              "8    -1       B6       371   N608JB  LGA    FLL  147      1076     6     0    \n",
              "9    -6       B6       605   N536JB  EWR    FLL  149      1065     6     0    \n",
              "10    4       B6       583   N746JB  JFK    MCO  137       944     6     0    \n",
              "11   -8       EV      5747   N835AS  LGA    IAD   47       229     6     0    \n",
              "12  -10       AA      1175   N3EJAA  LGA    MIA  152      1096     6     0    \n",
              "13   -3       B6       353   N766JB  JFK    PBI  143      1028     6     0    \n",
              "14   -4       B6      1403   N779JB  JFK    SJU  190      1598     6    11    \n",
              "15  -25       UA       303   N596UA  JFK    SFO  345      2586     6     0    \n",
              "16    7       AA      1205   N5BTAA  EWR    MIA  145      1085     6    10    \n",
              "17   -5       EV      6177   N11189  EWR    IAD   44       212     6     5    \n",
              "18   -4       B6       601   N804JB  JFK    FLL  153      1069     6    11    \n",
              "19    7       DL       479   N3769L  JFK    ATL  127       760     6    15    \n",
              "20  -16       US      1963   N169UW  EWR    CLT   87       529     6    15    \n",
              "21    1       US       840   N151UW  JFK    CLT   96       541     6    15    \n",
              "22   -3       UA      1627   N76269  EWR    PBI  142      1023     6    10    \n",
              "23    1       US       690   N672AW  EWR    PHX  288      2133     6    25    \n",
              "24   -6       B6       929   N712JB  JFK    RSW  162      1074     6    30    \n",
              "25   30       B6      1099   N571JB  LGA    MCO  136       950     6    30    \n",
              "26  -34       UA       398   N505UA  JFK    LAX  335      2475     6    31    \n",
              "27   -2       B6       525   N556JB  JFK    TPA  151      1005     6    35    \n",
              "28    3       UA       596   N556UA  EWR    TPA  147       997     6    20    \n",
              "29   -4       UA      1701   N38417  EWR    FLL  151      1065     6    14    \n",
              "30    5       DL       807   N977AT  EWR    ATL  115       746     6    30    \n",
              "⋮   ⋮         ⋮       ⋮      ⋮       ⋮      ⋮    ⋮        ⋮        ⋮    ⋮     \n",
              "690   2       B6      2043   N599JB  EWR    PBI  144      1023     21   29    \n",
              "691  28       EV      4388   N17984  EWR    JAX  133       820     20   53    \n",
              "692 -30       AA       185   N332AA  JFK    LAX  328      2475     21   35    \n",
              "693   7       MQ      3384   N520MQ  LGA    CLT   90       544     21   15    \n",
              "694  35       UA       236   N406UA  EWR    TPA  151       997     20   46    \n",
              "695   7       B6       425   N579JB  JFK    TPA  160      1005     21   41    \n",
              "696   8       B6      2227   N273JB  EWR    MCO  144       937     21   45    \n",
              "697  -6       B6       985   N339JB  JFK    RDU   80       427     21   55    \n",
              "698  18       B6      1183   N634JB  JFK    MCO  151       944     21   59    \n",
              "699   4       B6      1901   N665JB  JFK    FLL  154      1069     21   55    \n",
              "700   4       B6      2053   N613JB  JFK    PBI  148      1028     21   55    \n",
              "701   3       B6       611   N519JB  JFK    LAS  305      2248     21   35    \n",
              "702  59       UA      1682   N78524  EWR    FLL  151      1065     20   30    \n",
              "703  28       B6       702   N198JB  JFK    BUF   59       301     21   36    \n",
              "704  24       MQ      3621   N844MQ  JFK    DCA   42       213     21   30    \n",
              "705  83       B6       775   N258JB  JFK    MSY  192      1182     21   10    \n",
              "706   7       B6      1203   N618JB  JFK    SJU  194      1598     22   19    \n",
              "707  12       B6       486   N203JB  JFK    ROC   54       264     22   45    \n",
              "708  15       B6       234   N316JB  JFK    BTV   43       266     22   45    \n",
              "709  14       B6      1816   N358JB  JFK    SYR   44       209     22   50    \n",
              "710  22       B6       108   N279JB  JFK    PWM   46       273     22   45    \n",
              "711 -21       B6      1389   N554JB  EWR    SJU  199      1608     23   30    \n",
              "712 -11       B6      1503   N531JB  JFK    SJU  198      1598     23   59    \n",
              "713   4       DL      2380   N713TW  JFK    SJU  196      1598     23   55    \n",
              "714   1       B6       745   N636JB  JFK    PSE  204      1617     23   59    \n",
              "715  -4       B6       839   N784JB  JFK    BQN  194      1576     23   59    \n",
              "716  NA       DL      2231   N312US  LGA    DTW   NA       502     16   30    \n",
              "717  NA       MQ      2840   N8EGMQ  LGA    STL   NA       888     15   25    \n",
              "718  NA       MQ      3230   N524MQ  JFK    DCA   NA       213     11    0    \n",
              "719  NA       MQ      3535   N509MQ  JFK    CMH   NA       483     19   30    \n",
              "    time_hour          \n",
              "1   2013-12-25 05:00:00\n",
              "2   2013-12-25 05:00:00\n",
              "3   2013-12-25 05:00:00\n",
              "4   2013-12-25 05:00:00\n",
              "5   2013-12-25 06:00:00\n",
              "6   2013-12-25 06:00:00\n",
              "7   2013-12-25 06:00:00\n",
              "8   2013-12-25 06:00:00\n",
              "9   2013-12-25 06:00:00\n",
              "10  2013-12-25 06:00:00\n",
              "11  2013-12-25 06:00:00\n",
              "12  2013-12-25 06:00:00\n",
              "13  2013-12-25 06:00:00\n",
              "14  2013-12-25 06:00:00\n",
              "15  2013-12-25 06:00:00\n",
              "16  2013-12-25 06:00:00\n",
              "17  2013-12-25 06:00:00\n",
              "18  2013-12-25 06:00:00\n",
              "19  2013-12-25 06:00:00\n",
              "20  2013-12-25 06:00:00\n",
              "21  2013-12-25 06:00:00\n",
              "22  2013-12-25 06:00:00\n",
              "23  2013-12-25 06:00:00\n",
              "24  2013-12-25 06:00:00\n",
              "25  2013-12-25 06:00:00\n",
              "26  2013-12-25 06:00:00\n",
              "27  2013-12-25 06:00:00\n",
              "28  2013-12-25 06:00:00\n",
              "29  2013-12-25 06:00:00\n",
              "30  2013-12-25 06:00:00\n",
              "⋮   ⋮                  \n",
              "690 2013-12-25 21:00:00\n",
              "691 2013-12-25 20:00:00\n",
              "692 2013-12-25 21:00:00\n",
              "693 2013-12-25 21:00:00\n",
              "694 2013-12-25 20:00:00\n",
              "695 2013-12-25 21:00:00\n",
              "696 2013-12-25 21:00:00\n",
              "697 2013-12-25 21:00:00\n",
              "698 2013-12-25 21:00:00\n",
              "699 2013-12-25 21:00:00\n",
              "700 2013-12-25 21:00:00\n",
              "701 2013-12-25 21:00:00\n",
              "702 2013-12-25 20:00:00\n",
              "703 2013-12-25 21:00:00\n",
              "704 2013-12-25 21:00:00\n",
              "705 2013-12-25 21:00:00\n",
              "706 2013-12-25 22:00:00\n",
              "707 2013-12-25 22:00:00\n",
              "708 2013-12-25 22:00:00\n",
              "709 2013-12-25 22:00:00\n",
              "710 2013-12-25 22:00:00\n",
              "711 2013-12-25 23:00:00\n",
              "712 2013-12-25 23:00:00\n",
              "713 2013-12-25 23:00:00\n",
              "714 2013-12-25 23:00:00\n",
              "715 2013-12-25 23:00:00\n",
              "716 2013-12-25 16:00:00\n",
              "717 2013-12-25 15:00:00\n",
              "718 2013-12-25 11:00:00\n",
              "719 2013-12-25 19:00:00"
            ]
          },
          "metadata": {}
        }
      ],
      "source": [
        "(vuelos_navidad<-filter(flights,month==12,day==25))"
      ]
    },
    {
      "cell_type": "markdown",
      "metadata": {
        "id": "2XgJc1dozjJ0"
      },
      "source": [
        "La condición que acabamos de utilizar era un *Y*, si quisiéramos un *ó*, es decir, si queremos saber los vuelos del 1 de enero *ó* del 25 de diciembre"
      ]
    },
    {
      "cell_type": "code",
      "execution_count": 33,
      "metadata": {
        "collapsed": true,
        "id": "IDbvlcXvzsP3",
        "outputId": "cf40cb70-42ee-47f3-9b2f-2c0655177aba",
        "colab": {
          "base_uri": "https://localhost:8080/",
          "height": 1000
        }
      },
      "outputs": [
        {
          "output_type": "display_data",
          "data": {
            "text/html": [
              "<table class=\"dataframe\">\n",
              "<caption>A tibble: 1561 × 19</caption>\n",
              "<thead>\n",
              "\t<tr><th scope=col>year</th><th scope=col>month</th><th scope=col>day</th><th scope=col>dep_time</th><th scope=col>sched_dep_time</th><th scope=col>dep_delay</th><th scope=col>arr_time</th><th scope=col>sched_arr_time</th><th scope=col>arr_delay</th><th scope=col>carrier</th><th scope=col>flight</th><th scope=col>tailnum</th><th scope=col>origin</th><th scope=col>dest</th><th scope=col>air_time</th><th scope=col>distance</th><th scope=col>hour</th><th scope=col>minute</th><th scope=col>time_hour</th></tr>\n",
              "\t<tr><th scope=col>&lt;int&gt;</th><th scope=col>&lt;int&gt;</th><th scope=col>&lt;int&gt;</th><th scope=col>&lt;int&gt;</th><th scope=col>&lt;int&gt;</th><th scope=col>&lt;dbl&gt;</th><th scope=col>&lt;int&gt;</th><th scope=col>&lt;int&gt;</th><th scope=col>&lt;dbl&gt;</th><th scope=col>&lt;chr&gt;</th><th scope=col>&lt;int&gt;</th><th scope=col>&lt;chr&gt;</th><th scope=col>&lt;chr&gt;</th><th scope=col>&lt;chr&gt;</th><th scope=col>&lt;dbl&gt;</th><th scope=col>&lt;dbl&gt;</th><th scope=col>&lt;dbl&gt;</th><th scope=col>&lt;dbl&gt;</th><th scope=col>&lt;dttm&gt;</th></tr>\n",
              "</thead>\n",
              "<tbody>\n",
              "\t<tr><td>2013</td><td>1</td><td>1</td><td>517</td><td>515</td><td> 2</td><td> 830</td><td> 819</td><td> 11</td><td>UA</td><td>1545</td><td>N14228</td><td>EWR</td><td>IAH</td><td>227</td><td>1400</td><td>5</td><td>15</td><td>2013-01-01 05:00:00</td></tr>\n",
              "\t<tr><td>2013</td><td>1</td><td>1</td><td>533</td><td>529</td><td> 4</td><td> 850</td><td> 830</td><td> 20</td><td>UA</td><td>1714</td><td>N24211</td><td>LGA</td><td>IAH</td><td>227</td><td>1416</td><td>5</td><td>29</td><td>2013-01-01 05:00:00</td></tr>\n",
              "\t<tr><td>2013</td><td>1</td><td>1</td><td>542</td><td>540</td><td> 2</td><td> 923</td><td> 850</td><td> 33</td><td>AA</td><td>1141</td><td>N619AA</td><td>JFK</td><td>MIA</td><td>160</td><td>1089</td><td>5</td><td>40</td><td>2013-01-01 05:00:00</td></tr>\n",
              "\t<tr><td>2013</td><td>1</td><td>1</td><td>544</td><td>545</td><td>-1</td><td>1004</td><td>1022</td><td>-18</td><td>B6</td><td> 725</td><td>N804JB</td><td>JFK</td><td>BQN</td><td>183</td><td>1576</td><td>5</td><td>45</td><td>2013-01-01 05:00:00</td></tr>\n",
              "\t<tr><td>2013</td><td>1</td><td>1</td><td>554</td><td>600</td><td>-6</td><td> 812</td><td> 837</td><td>-25</td><td>DL</td><td> 461</td><td>N668DN</td><td>LGA</td><td>ATL</td><td>116</td><td> 762</td><td>6</td><td> 0</td><td>2013-01-01 06:00:00</td></tr>\n",
              "\t<tr><td>2013</td><td>1</td><td>1</td><td>554</td><td>558</td><td>-4</td><td> 740</td><td> 728</td><td> 12</td><td>UA</td><td>1696</td><td>N39463</td><td>EWR</td><td>ORD</td><td>150</td><td> 719</td><td>5</td><td>58</td><td>2013-01-01 05:00:00</td></tr>\n",
              "\t<tr><td>2013</td><td>1</td><td>1</td><td>555</td><td>600</td><td>-5</td><td> 913</td><td> 854</td><td> 19</td><td>B6</td><td> 507</td><td>N516JB</td><td>EWR</td><td>FLL</td><td>158</td><td>1065</td><td>6</td><td> 0</td><td>2013-01-01 06:00:00</td></tr>\n",
              "\t<tr><td>2013</td><td>1</td><td>1</td><td>557</td><td>600</td><td>-3</td><td> 709</td><td> 723</td><td>-14</td><td>EV</td><td>5708</td><td>N829AS</td><td>LGA</td><td>IAD</td><td> 53</td><td> 229</td><td>6</td><td> 0</td><td>2013-01-01 06:00:00</td></tr>\n",
              "\t<tr><td>2013</td><td>1</td><td>1</td><td>557</td><td>600</td><td>-3</td><td> 838</td><td> 846</td><td> -8</td><td>B6</td><td>  79</td><td>N593JB</td><td>JFK</td><td>MCO</td><td>140</td><td> 944</td><td>6</td><td> 0</td><td>2013-01-01 06:00:00</td></tr>\n",
              "\t<tr><td>2013</td><td>1</td><td>1</td><td>558</td><td>600</td><td>-2</td><td> 753</td><td> 745</td><td>  8</td><td>AA</td><td> 301</td><td>N3ALAA</td><td>LGA</td><td>ORD</td><td>138</td><td> 733</td><td>6</td><td> 0</td><td>2013-01-01 06:00:00</td></tr>\n",
              "\t<tr><td>2013</td><td>1</td><td>1</td><td>558</td><td>600</td><td>-2</td><td> 849</td><td> 851</td><td> -2</td><td>B6</td><td>  49</td><td>N793JB</td><td>JFK</td><td>PBI</td><td>149</td><td>1028</td><td>6</td><td> 0</td><td>2013-01-01 06:00:00</td></tr>\n",
              "\t<tr><td>2013</td><td>1</td><td>1</td><td>558</td><td>600</td><td>-2</td><td> 853</td><td> 856</td><td> -3</td><td>B6</td><td>  71</td><td>N657JB</td><td>JFK</td><td>TPA</td><td>158</td><td>1005</td><td>6</td><td> 0</td><td>2013-01-01 06:00:00</td></tr>\n",
              "\t<tr><td>2013</td><td>1</td><td>1</td><td>558</td><td>600</td><td>-2</td><td> 924</td><td> 917</td><td>  7</td><td>UA</td><td> 194</td><td>N29129</td><td>JFK</td><td>LAX</td><td>345</td><td>2475</td><td>6</td><td> 0</td><td>2013-01-01 06:00:00</td></tr>\n",
              "\t<tr><td>2013</td><td>1</td><td>1</td><td>558</td><td>600</td><td>-2</td><td> 923</td><td> 937</td><td>-14</td><td>UA</td><td>1124</td><td>N53441</td><td>EWR</td><td>SFO</td><td>361</td><td>2565</td><td>6</td><td> 0</td><td>2013-01-01 06:00:00</td></tr>\n",
              "\t<tr><td>2013</td><td>1</td><td>1</td><td>559</td><td>600</td><td>-1</td><td> 941</td><td> 910</td><td> 31</td><td>AA</td><td> 707</td><td>N3DUAA</td><td>LGA</td><td>DFW</td><td>257</td><td>1389</td><td>6</td><td> 0</td><td>2013-01-01 06:00:00</td></tr>\n",
              "\t<tr><td>2013</td><td>1</td><td>1</td><td>559</td><td>559</td><td> 0</td><td> 702</td><td> 706</td><td> -4</td><td>B6</td><td>1806</td><td>N708JB</td><td>JFK</td><td>BOS</td><td> 44</td><td> 187</td><td>5</td><td>59</td><td>2013-01-01 05:00:00</td></tr>\n",
              "\t<tr><td>2013</td><td>1</td><td>1</td><td>559</td><td>600</td><td>-1</td><td> 854</td><td> 902</td><td> -8</td><td>UA</td><td>1187</td><td>N76515</td><td>EWR</td><td>LAS</td><td>337</td><td>2227</td><td>6</td><td> 0</td><td>2013-01-01 06:00:00</td></tr>\n",
              "\t<tr><td>2013</td><td>1</td><td>1</td><td>600</td><td>600</td><td> 0</td><td> 851</td><td> 858</td><td> -7</td><td>B6</td><td> 371</td><td>N595JB</td><td>LGA</td><td>FLL</td><td>152</td><td>1076</td><td>6</td><td> 0</td><td>2013-01-01 06:00:00</td></tr>\n",
              "\t<tr><td>2013</td><td>1</td><td>1</td><td>600</td><td>600</td><td> 0</td><td> 837</td><td> 825</td><td> 12</td><td>MQ</td><td>4650</td><td>N542MQ</td><td>LGA</td><td>ATL</td><td>134</td><td> 762</td><td>6</td><td> 0</td><td>2013-01-01 06:00:00</td></tr>\n",
              "\t<tr><td>2013</td><td>1</td><td>1</td><td>601</td><td>600</td><td> 1</td><td> 844</td><td> 850</td><td> -6</td><td>B6</td><td> 343</td><td>N644JB</td><td>EWR</td><td>PBI</td><td>147</td><td>1023</td><td>6</td><td> 0</td><td>2013-01-01 06:00:00</td></tr>\n",
              "\t<tr><td>2013</td><td>1</td><td>1</td><td>602</td><td>610</td><td>-8</td><td> 812</td><td> 820</td><td> -8</td><td>DL</td><td>1919</td><td>N971DL</td><td>LGA</td><td>MSP</td><td>170</td><td>1020</td><td>6</td><td>10</td><td>2013-01-01 06:00:00</td></tr>\n",
              "\t<tr><td>2013</td><td>1</td><td>1</td><td>602</td><td>605</td><td>-3</td><td> 821</td><td> 805</td><td> 16</td><td>MQ</td><td>4401</td><td>N730MQ</td><td>LGA</td><td>DTW</td><td>105</td><td> 502</td><td>6</td><td> 5</td><td>2013-01-01 06:00:00</td></tr>\n",
              "\t<tr><td>2013</td><td>1</td><td>1</td><td>606</td><td>610</td><td>-4</td><td> 858</td><td> 910</td><td>-12</td><td>AA</td><td>1895</td><td>N633AA</td><td>EWR</td><td>MIA</td><td>152</td><td>1085</td><td>6</td><td>10</td><td>2013-01-01 06:00:00</td></tr>\n",
              "\t<tr><td>2013</td><td>1</td><td>1</td><td>606</td><td>610</td><td>-4</td><td> 837</td><td> 845</td><td> -8</td><td>DL</td><td>1743</td><td>N3739P</td><td>JFK</td><td>ATL</td><td>128</td><td> 760</td><td>6</td><td>10</td><td>2013-01-01 06:00:00</td></tr>\n",
              "\t<tr><td>2013</td><td>1</td><td>1</td><td>607</td><td>607</td><td> 0</td><td> 858</td><td> 915</td><td>-17</td><td>UA</td><td>1077</td><td>N53442</td><td>EWR</td><td>MIA</td><td>157</td><td>1085</td><td>6</td><td> 7</td><td>2013-01-01 06:00:00</td></tr>\n",
              "\t<tr><td>2013</td><td>1</td><td>1</td><td>608</td><td>600</td><td> 8</td><td> 807</td><td> 735</td><td> 32</td><td>MQ</td><td>3768</td><td>N9EAMQ</td><td>EWR</td><td>ORD</td><td>139</td><td> 719</td><td>6</td><td> 0</td><td>2013-01-01 06:00:00</td></tr>\n",
              "\t<tr><td>2013</td><td>1</td><td>1</td><td>611</td><td>600</td><td>11</td><td> 945</td><td> 931</td><td> 14</td><td>UA</td><td> 303</td><td>N532UA</td><td>JFK</td><td>SFO</td><td>366</td><td>2586</td><td>6</td><td> 0</td><td>2013-01-01 06:00:00</td></tr>\n",
              "\t<tr><td>2013</td><td>1</td><td>1</td><td>613</td><td>610</td><td> 3</td><td> 925</td><td> 921</td><td>  4</td><td>B6</td><td> 135</td><td>N635JB</td><td>JFK</td><td>RSW</td><td>175</td><td>1074</td><td>6</td><td>10</td><td>2013-01-01 06:00:00</td></tr>\n",
              "\t<tr><td>2013</td><td>1</td><td>1</td><td>615</td><td>615</td><td> 0</td><td>1039</td><td>1100</td><td>-21</td><td>B6</td><td> 709</td><td>N794JB</td><td>JFK</td><td>SJU</td><td>182</td><td>1598</td><td>6</td><td>15</td><td>2013-01-01 06:00:00</td></tr>\n",
              "\t<tr><td>2013</td><td>1</td><td>1</td><td>615</td><td>615</td><td> 0</td><td> 833</td><td> 842</td><td> -9</td><td>DL</td><td> 575</td><td>N326NB</td><td>EWR</td><td>ATL</td><td>120</td><td> 746</td><td>6</td><td>15</td><td>2013-01-01 06:00:00</td></tr>\n",
              "\t<tr><td>⋮</td><td>⋮</td><td>⋮</td><td>⋮</td><td>⋮</td><td>⋮</td><td>⋮</td><td>⋮</td><td>⋮</td><td>⋮</td><td>⋮</td><td>⋮</td><td>⋮</td><td>⋮</td><td>⋮</td><td>⋮</td><td>⋮</td><td>⋮</td><td>⋮</td></tr>\n",
              "\t<tr><td>2013</td><td>12</td><td>25</td><td>2126</td><td>2129</td><td> -3</td><td>  24</td><td>  22</td><td>  2</td><td>B6</td><td>2043</td><td>N599JB</td><td>EWR</td><td>PBI</td><td>144</td><td>1023</td><td>21</td><td>29</td><td>2013-12-25 21:00:00</td></tr>\n",
              "\t<tr><td>2013</td><td>12</td><td>25</td><td>2129</td><td>2053</td><td> 36</td><td>   1</td><td>2333</td><td> 28</td><td>EV</td><td>4388</td><td>N17984</td><td>EWR</td><td>JAX</td><td>133</td><td> 820</td><td>20</td><td>53</td><td>2013-12-25 20:00:00</td></tr>\n",
              "\t<tr><td>2013</td><td>12</td><td>25</td><td>2130</td><td>2135</td><td> -5</td><td>  25</td><td>  55</td><td>-30</td><td>AA</td><td> 185</td><td>N332AA</td><td>JFK</td><td>LAX</td><td>328</td><td>2475</td><td>21</td><td>35</td><td>2013-12-25 21:00:00</td></tr>\n",
              "\t<tr><td>2013</td><td>12</td><td>25</td><td>2130</td><td>2115</td><td> 15</td><td>2322</td><td>2315</td><td>  7</td><td>MQ</td><td>3384</td><td>N520MQ</td><td>LGA</td><td>CLT</td><td> 90</td><td> 544</td><td>21</td><td>15</td><td>2013-12-25 21:00:00</td></tr>\n",
              "\t<tr><td>2013</td><td>12</td><td>25</td><td>2131</td><td>2046</td><td> 45</td><td>  24</td><td>2349</td><td> 35</td><td>UA</td><td> 236</td><td>N406UA</td><td>EWR</td><td>TPA</td><td>151</td><td> 997</td><td>20</td><td>46</td><td>2013-12-25 20:00:00</td></tr>\n",
              "\t<tr><td>2013</td><td>12</td><td>25</td><td>2140</td><td>2141</td><td> -1</td><td>  44</td><td>  37</td><td>  7</td><td>B6</td><td> 425</td><td>N579JB</td><td>JFK</td><td>TPA</td><td>160</td><td>1005</td><td>21</td><td>41</td><td>2013-12-25 21:00:00</td></tr>\n",
              "\t<tr><td>2013</td><td>12</td><td>25</td><td>2144</td><td>2145</td><td> -1</td><td>  27</td><td>  19</td><td>  8</td><td>B6</td><td>2227</td><td>N273JB</td><td>EWR</td><td>MCO</td><td>144</td><td> 937</td><td>21</td><td>45</td><td>2013-12-25 21:00:00</td></tr>\n",
              "\t<tr><td>2013</td><td>12</td><td>25</td><td>2149</td><td>2155</td><td> -6</td><td>2328</td><td>2334</td><td> -6</td><td>B6</td><td> 985</td><td>N339JB</td><td>JFK</td><td>RDU</td><td> 80</td><td> 427</td><td>21</td><td>55</td><td>2013-12-25 21:00:00</td></tr>\n",
              "\t<tr><td>2013</td><td>12</td><td>25</td><td>2150</td><td>2159</td><td> -9</td><td> 103</td><td>  45</td><td> 18</td><td>B6</td><td>1183</td><td>N634JB</td><td>JFK</td><td>MCO</td><td>151</td><td> 944</td><td>21</td><td>59</td><td>2013-12-25 21:00:00</td></tr>\n",
              "\t<tr><td>2013</td><td>12</td><td>25</td><td>2152</td><td>2155</td><td> -3</td><td> 100</td><td>  56</td><td>  4</td><td>B6</td><td>1901</td><td>N665JB</td><td>JFK</td><td>FLL</td><td>154</td><td>1069</td><td>21</td><td>55</td><td>2013-12-25 21:00:00</td></tr>\n",
              "\t<tr><td>2013</td><td>12</td><td>25</td><td>2153</td><td>2155</td><td> -2</td><td>  50</td><td>  46</td><td>  4</td><td>B6</td><td>2053</td><td>N613JB</td><td>JFK</td><td>PBI</td><td>148</td><td>1028</td><td>21</td><td>55</td><td>2013-12-25 21:00:00</td></tr>\n",
              "\t<tr><td>2013</td><td>12</td><td>25</td><td>2153</td><td>2135</td><td> 18</td><td>  22</td><td>  19</td><td>  3</td><td>B6</td><td> 611</td><td>N519JB</td><td>JFK</td><td>LAS</td><td>305</td><td>2248</td><td>21</td><td>35</td><td>2013-12-25 21:00:00</td></tr>\n",
              "\t<tr><td>2013</td><td>12</td><td>25</td><td>2153</td><td>2030</td><td> 83</td><td>  46</td><td>2347</td><td> 59</td><td>UA</td><td>1682</td><td>N78524</td><td>EWR</td><td>FLL</td><td>151</td><td>1065</td><td>20</td><td>30</td><td>2013-12-25 20:00:00</td></tr>\n",
              "\t<tr><td>2013</td><td>12</td><td>25</td><td>2203</td><td>2136</td><td> 27</td><td>2327</td><td>2259</td><td> 28</td><td>B6</td><td> 702</td><td>N198JB</td><td>JFK</td><td>BUF</td><td> 59</td><td> 301</td><td>21</td><td>36</td><td>2013-12-25 21:00:00</td></tr>\n",
              "\t<tr><td>2013</td><td>12</td><td>25</td><td>2203</td><td>2130</td><td> 33</td><td>2309</td><td>2245</td><td> 24</td><td>MQ</td><td>3621</td><td>N844MQ</td><td>JFK</td><td>DCA</td><td> 42</td><td> 213</td><td>21</td><td>30</td><td>2013-12-25 21:00:00</td></tr>\n",
              "\t<tr><td>2013</td><td>12</td><td>25</td><td>2219</td><td>2110</td><td> 69</td><td> 102</td><td>2339</td><td> 83</td><td>B6</td><td> 775</td><td>N258JB</td><td>JFK</td><td>MSY</td><td>192</td><td>1182</td><td>21</td><td>10</td><td>2013-12-25 21:00:00</td></tr>\n",
              "\t<tr><td>2013</td><td>12</td><td>25</td><td>2231</td><td>2219</td><td> 12</td><td> 311</td><td> 304</td><td>  7</td><td>B6</td><td>1203</td><td>N618JB</td><td>JFK</td><td>SJU</td><td>194</td><td>1598</td><td>22</td><td>19</td><td>2013-12-25 22:00:00</td></tr>\n",
              "\t<tr><td>2013</td><td>12</td><td>25</td><td>2302</td><td>2245</td><td> 17</td><td>  15</td><td>   3</td><td> 12</td><td>B6</td><td> 486</td><td>N203JB</td><td>JFK</td><td>ROC</td><td> 54</td><td> 264</td><td>22</td><td>45</td><td>2013-12-25 22:00:00</td></tr>\n",
              "\t<tr><td>2013</td><td>12</td><td>25</td><td>2308</td><td>2245</td><td> 23</td><td>  10</td><td>2355</td><td> 15</td><td>B6</td><td> 234</td><td>N316JB</td><td>JFK</td><td>BTV</td><td> 43</td><td> 266</td><td>22</td><td>45</td><td>2013-12-25 22:00:00</td></tr>\n",
              "\t<tr><td>2013</td><td>12</td><td>25</td><td>2312</td><td>2250</td><td> 22</td><td>  10</td><td>2356</td><td> 14</td><td>B6</td><td>1816</td><td>N358JB</td><td>JFK</td><td>SYR</td><td> 44</td><td> 209</td><td>22</td><td>50</td><td>2013-12-25 22:00:00</td></tr>\n",
              "\t<tr><td>2013</td><td>12</td><td>25</td><td>2314</td><td>2245</td><td> 29</td><td>  15</td><td>2353</td><td> 22</td><td>B6</td><td> 108</td><td>N279JB</td><td>JFK</td><td>PWM</td><td> 46</td><td> 273</td><td>22</td><td>45</td><td>2013-12-25 22:00:00</td></tr>\n",
              "\t<tr><td>2013</td><td>12</td><td>25</td><td>2315</td><td>2330</td><td>-15</td><td> 348</td><td> 409</td><td>-21</td><td>B6</td><td>1389</td><td>N554JB</td><td>EWR</td><td>SJU</td><td>199</td><td>1608</td><td>23</td><td>30</td><td>2013-12-25 23:00:00</td></tr>\n",
              "\t<tr><td>2013</td><td>12</td><td>25</td><td>2352</td><td>2359</td><td> -7</td><td> 429</td><td> 440</td><td>-11</td><td>B6</td><td>1503</td><td>N531JB</td><td>JFK</td><td>SJU</td><td>198</td><td>1598</td><td>23</td><td>59</td><td>2013-12-25 23:00:00</td></tr>\n",
              "\t<tr><td>2013</td><td>12</td><td>25</td><td>2353</td><td>2355</td><td> -2</td><td> 442</td><td> 438</td><td>  4</td><td>DL</td><td>2380</td><td>N713TW</td><td>JFK</td><td>SJU</td><td>196</td><td>1598</td><td>23</td><td>55</td><td>2013-12-25 23:00:00</td></tr>\n",
              "\t<tr><td>2013</td><td>12</td><td>25</td><td>2357</td><td>2359</td><td> -2</td><td> 446</td><td> 445</td><td>  1</td><td>B6</td><td> 745</td><td>N636JB</td><td>JFK</td><td>PSE</td><td>204</td><td>1617</td><td>23</td><td>59</td><td>2013-12-25 23:00:00</td></tr>\n",
              "\t<tr><td>2013</td><td>12</td><td>25</td><td>2357</td><td>2359</td><td> -2</td><td> 433</td><td> 437</td><td> -4</td><td>B6</td><td> 839</td><td>N784JB</td><td>JFK</td><td>BQN</td><td>194</td><td>1576</td><td>23</td><td>59</td><td>2013-12-25 23:00:00</td></tr>\n",
              "\t<tr><td>2013</td><td>12</td><td>25</td><td>  NA</td><td>1630</td><td> NA</td><td>  NA</td><td>1838</td><td> NA</td><td>DL</td><td>2231</td><td>N312US</td><td>LGA</td><td>DTW</td><td> NA</td><td> 502</td><td>16</td><td>30</td><td>2013-12-25 16:00:00</td></tr>\n",
              "\t<tr><td>2013</td><td>12</td><td>25</td><td>  NA</td><td>1525</td><td> NA</td><td>  NA</td><td>1720</td><td> NA</td><td>MQ</td><td>2840</td><td>N8EGMQ</td><td>LGA</td><td>STL</td><td> NA</td><td> 888</td><td>15</td><td>25</td><td>2013-12-25 15:00:00</td></tr>\n",
              "\t<tr><td>2013</td><td>12</td><td>25</td><td>  NA</td><td>1100</td><td> NA</td><td>  NA</td><td>1210</td><td> NA</td><td>MQ</td><td>3230</td><td>N524MQ</td><td>JFK</td><td>DCA</td><td> NA</td><td> 213</td><td>11</td><td> 0</td><td>2013-12-25 11:00:00</td></tr>\n",
              "\t<tr><td>2013</td><td>12</td><td>25</td><td>  NA</td><td>1930</td><td> NA</td><td>  NA</td><td>2115</td><td> NA</td><td>MQ</td><td>3535</td><td>N509MQ</td><td>JFK</td><td>CMH</td><td> NA</td><td> 483</td><td>19</td><td>30</td><td>2013-12-25 19:00:00</td></tr>\n",
              "</tbody>\n",
              "</table>\n"
            ],
            "text/markdown": "\nA tibble: 1561 × 19\n\n| year &lt;int&gt; | month &lt;int&gt; | day &lt;int&gt; | dep_time &lt;int&gt; | sched_dep_time &lt;int&gt; | dep_delay &lt;dbl&gt; | arr_time &lt;int&gt; | sched_arr_time &lt;int&gt; | arr_delay &lt;dbl&gt; | carrier &lt;chr&gt; | flight &lt;int&gt; | tailnum &lt;chr&gt; | origin &lt;chr&gt; | dest &lt;chr&gt; | air_time &lt;dbl&gt; | distance &lt;dbl&gt; | hour &lt;dbl&gt; | minute &lt;dbl&gt; | time_hour &lt;dttm&gt; |\n|---|---|---|---|---|---|---|---|---|---|---|---|---|---|---|---|---|---|---|\n| 2013 | 1 | 1 | 517 | 515 |  2 |  830 |  819 |  11 | UA | 1545 | N14228 | EWR | IAH | 227 | 1400 | 5 | 15 | 2013-01-01 05:00:00 |\n| 2013 | 1 | 1 | 533 | 529 |  4 |  850 |  830 |  20 | UA | 1714 | N24211 | LGA | IAH | 227 | 1416 | 5 | 29 | 2013-01-01 05:00:00 |\n| 2013 | 1 | 1 | 542 | 540 |  2 |  923 |  850 |  33 | AA | 1141 | N619AA | JFK | MIA | 160 | 1089 | 5 | 40 | 2013-01-01 05:00:00 |\n| 2013 | 1 | 1 | 544 | 545 | -1 | 1004 | 1022 | -18 | B6 |  725 | N804JB | JFK | BQN | 183 | 1576 | 5 | 45 | 2013-01-01 05:00:00 |\n| 2013 | 1 | 1 | 554 | 600 | -6 |  812 |  837 | -25 | DL |  461 | N668DN | LGA | ATL | 116 |  762 | 6 |  0 | 2013-01-01 06:00:00 |\n| 2013 | 1 | 1 | 554 | 558 | -4 |  740 |  728 |  12 | UA | 1696 | N39463 | EWR | ORD | 150 |  719 | 5 | 58 | 2013-01-01 05:00:00 |\n| 2013 | 1 | 1 | 555 | 600 | -5 |  913 |  854 |  19 | B6 |  507 | N516JB | EWR | FLL | 158 | 1065 | 6 |  0 | 2013-01-01 06:00:00 |\n| 2013 | 1 | 1 | 557 | 600 | -3 |  709 |  723 | -14 | EV | 5708 | N829AS | LGA | IAD |  53 |  229 | 6 |  0 | 2013-01-01 06:00:00 |\n| 2013 | 1 | 1 | 557 | 600 | -3 |  838 |  846 |  -8 | B6 |   79 | N593JB | JFK | MCO | 140 |  944 | 6 |  0 | 2013-01-01 06:00:00 |\n| 2013 | 1 | 1 | 558 | 600 | -2 |  753 |  745 |   8 | AA |  301 | N3ALAA | LGA | ORD | 138 |  733 | 6 |  0 | 2013-01-01 06:00:00 |\n| 2013 | 1 | 1 | 558 | 600 | -2 |  849 |  851 |  -2 | B6 |   49 | N793JB | JFK | PBI | 149 | 1028 | 6 |  0 | 2013-01-01 06:00:00 |\n| 2013 | 1 | 1 | 558 | 600 | -2 |  853 |  856 |  -3 | B6 |   71 | N657JB | JFK | TPA | 158 | 1005 | 6 |  0 | 2013-01-01 06:00:00 |\n| 2013 | 1 | 1 | 558 | 600 | -2 |  924 |  917 |   7 | UA |  194 | N29129 | JFK | LAX | 345 | 2475 | 6 |  0 | 2013-01-01 06:00:00 |\n| 2013 | 1 | 1 | 558 | 600 | -2 |  923 |  937 | -14 | UA | 1124 | N53441 | EWR | SFO | 361 | 2565 | 6 |  0 | 2013-01-01 06:00:00 |\n| 2013 | 1 | 1 | 559 | 600 | -1 |  941 |  910 |  31 | AA |  707 | N3DUAA | LGA | DFW | 257 | 1389 | 6 |  0 | 2013-01-01 06:00:00 |\n| 2013 | 1 | 1 | 559 | 559 |  0 |  702 |  706 |  -4 | B6 | 1806 | N708JB | JFK | BOS |  44 |  187 | 5 | 59 | 2013-01-01 05:00:00 |\n| 2013 | 1 | 1 | 559 | 600 | -1 |  854 |  902 |  -8 | UA | 1187 | N76515 | EWR | LAS | 337 | 2227 | 6 |  0 | 2013-01-01 06:00:00 |\n| 2013 | 1 | 1 | 600 | 600 |  0 |  851 |  858 |  -7 | B6 |  371 | N595JB | LGA | FLL | 152 | 1076 | 6 |  0 | 2013-01-01 06:00:00 |\n| 2013 | 1 | 1 | 600 | 600 |  0 |  837 |  825 |  12 | MQ | 4650 | N542MQ | LGA | ATL | 134 |  762 | 6 |  0 | 2013-01-01 06:00:00 |\n| 2013 | 1 | 1 | 601 | 600 |  1 |  844 |  850 |  -6 | B6 |  343 | N644JB | EWR | PBI | 147 | 1023 | 6 |  0 | 2013-01-01 06:00:00 |\n| 2013 | 1 | 1 | 602 | 610 | -8 |  812 |  820 |  -8 | DL | 1919 | N971DL | LGA | MSP | 170 | 1020 | 6 | 10 | 2013-01-01 06:00:00 |\n| 2013 | 1 | 1 | 602 | 605 | -3 |  821 |  805 |  16 | MQ | 4401 | N730MQ | LGA | DTW | 105 |  502 | 6 |  5 | 2013-01-01 06:00:00 |\n| 2013 | 1 | 1 | 606 | 610 | -4 |  858 |  910 | -12 | AA | 1895 | N633AA | EWR | MIA | 152 | 1085 | 6 | 10 | 2013-01-01 06:00:00 |\n| 2013 | 1 | 1 | 606 | 610 | -4 |  837 |  845 |  -8 | DL | 1743 | N3739P | JFK | ATL | 128 |  760 | 6 | 10 | 2013-01-01 06:00:00 |\n| 2013 | 1 | 1 | 607 | 607 |  0 |  858 |  915 | -17 | UA | 1077 | N53442 | EWR | MIA | 157 | 1085 | 6 |  7 | 2013-01-01 06:00:00 |\n| 2013 | 1 | 1 | 608 | 600 |  8 |  807 |  735 |  32 | MQ | 3768 | N9EAMQ | EWR | ORD | 139 |  719 | 6 |  0 | 2013-01-01 06:00:00 |\n| 2013 | 1 | 1 | 611 | 600 | 11 |  945 |  931 |  14 | UA |  303 | N532UA | JFK | SFO | 366 | 2586 | 6 |  0 | 2013-01-01 06:00:00 |\n| 2013 | 1 | 1 | 613 | 610 |  3 |  925 |  921 |   4 | B6 |  135 | N635JB | JFK | RSW | 175 | 1074 | 6 | 10 | 2013-01-01 06:00:00 |\n| 2013 | 1 | 1 | 615 | 615 |  0 | 1039 | 1100 | -21 | B6 |  709 | N794JB | JFK | SJU | 182 | 1598 | 6 | 15 | 2013-01-01 06:00:00 |\n| 2013 | 1 | 1 | 615 | 615 |  0 |  833 |  842 |  -9 | DL |  575 | N326NB | EWR | ATL | 120 |  746 | 6 | 15 | 2013-01-01 06:00:00 |\n| ⋮ | ⋮ | ⋮ | ⋮ | ⋮ | ⋮ | ⋮ | ⋮ | ⋮ | ⋮ | ⋮ | ⋮ | ⋮ | ⋮ | ⋮ | ⋮ | ⋮ | ⋮ | ⋮ |\n| 2013 | 12 | 25 | 2126 | 2129 |  -3 |   24 |   22 |   2 | B6 | 2043 | N599JB | EWR | PBI | 144 | 1023 | 21 | 29 | 2013-12-25 21:00:00 |\n| 2013 | 12 | 25 | 2129 | 2053 |  36 |    1 | 2333 |  28 | EV | 4388 | N17984 | EWR | JAX | 133 |  820 | 20 | 53 | 2013-12-25 20:00:00 |\n| 2013 | 12 | 25 | 2130 | 2135 |  -5 |   25 |   55 | -30 | AA |  185 | N332AA | JFK | LAX | 328 | 2475 | 21 | 35 | 2013-12-25 21:00:00 |\n| 2013 | 12 | 25 | 2130 | 2115 |  15 | 2322 | 2315 |   7 | MQ | 3384 | N520MQ | LGA | CLT |  90 |  544 | 21 | 15 | 2013-12-25 21:00:00 |\n| 2013 | 12 | 25 | 2131 | 2046 |  45 |   24 | 2349 |  35 | UA |  236 | N406UA | EWR | TPA | 151 |  997 | 20 | 46 | 2013-12-25 20:00:00 |\n| 2013 | 12 | 25 | 2140 | 2141 |  -1 |   44 |   37 |   7 | B6 |  425 | N579JB | JFK | TPA | 160 | 1005 | 21 | 41 | 2013-12-25 21:00:00 |\n| 2013 | 12 | 25 | 2144 | 2145 |  -1 |   27 |   19 |   8 | B6 | 2227 | N273JB | EWR | MCO | 144 |  937 | 21 | 45 | 2013-12-25 21:00:00 |\n| 2013 | 12 | 25 | 2149 | 2155 |  -6 | 2328 | 2334 |  -6 | B6 |  985 | N339JB | JFK | RDU |  80 |  427 | 21 | 55 | 2013-12-25 21:00:00 |\n| 2013 | 12 | 25 | 2150 | 2159 |  -9 |  103 |   45 |  18 | B6 | 1183 | N634JB | JFK | MCO | 151 |  944 | 21 | 59 | 2013-12-25 21:00:00 |\n| 2013 | 12 | 25 | 2152 | 2155 |  -3 |  100 |   56 |   4 | B6 | 1901 | N665JB | JFK | FLL | 154 | 1069 | 21 | 55 | 2013-12-25 21:00:00 |\n| 2013 | 12 | 25 | 2153 | 2155 |  -2 |   50 |   46 |   4 | B6 | 2053 | N613JB | JFK | PBI | 148 | 1028 | 21 | 55 | 2013-12-25 21:00:00 |\n| 2013 | 12 | 25 | 2153 | 2135 |  18 |   22 |   19 |   3 | B6 |  611 | N519JB | JFK | LAS | 305 | 2248 | 21 | 35 | 2013-12-25 21:00:00 |\n| 2013 | 12 | 25 | 2153 | 2030 |  83 |   46 | 2347 |  59 | UA | 1682 | N78524 | EWR | FLL | 151 | 1065 | 20 | 30 | 2013-12-25 20:00:00 |\n| 2013 | 12 | 25 | 2203 | 2136 |  27 | 2327 | 2259 |  28 | B6 |  702 | N198JB | JFK | BUF |  59 |  301 | 21 | 36 | 2013-12-25 21:00:00 |\n| 2013 | 12 | 25 | 2203 | 2130 |  33 | 2309 | 2245 |  24 | MQ | 3621 | N844MQ | JFK | DCA |  42 |  213 | 21 | 30 | 2013-12-25 21:00:00 |\n| 2013 | 12 | 25 | 2219 | 2110 |  69 |  102 | 2339 |  83 | B6 |  775 | N258JB | JFK | MSY | 192 | 1182 | 21 | 10 | 2013-12-25 21:00:00 |\n| 2013 | 12 | 25 | 2231 | 2219 |  12 |  311 |  304 |   7 | B6 | 1203 | N618JB | JFK | SJU | 194 | 1598 | 22 | 19 | 2013-12-25 22:00:00 |\n| 2013 | 12 | 25 | 2302 | 2245 |  17 |   15 |    3 |  12 | B6 |  486 | N203JB | JFK | ROC |  54 |  264 | 22 | 45 | 2013-12-25 22:00:00 |\n| 2013 | 12 | 25 | 2308 | 2245 |  23 |   10 | 2355 |  15 | B6 |  234 | N316JB | JFK | BTV |  43 |  266 | 22 | 45 | 2013-12-25 22:00:00 |\n| 2013 | 12 | 25 | 2312 | 2250 |  22 |   10 | 2356 |  14 | B6 | 1816 | N358JB | JFK | SYR |  44 |  209 | 22 | 50 | 2013-12-25 22:00:00 |\n| 2013 | 12 | 25 | 2314 | 2245 |  29 |   15 | 2353 |  22 | B6 |  108 | N279JB | JFK | PWM |  46 |  273 | 22 | 45 | 2013-12-25 22:00:00 |\n| 2013 | 12 | 25 | 2315 | 2330 | -15 |  348 |  409 | -21 | B6 | 1389 | N554JB | EWR | SJU | 199 | 1608 | 23 | 30 | 2013-12-25 23:00:00 |\n| 2013 | 12 | 25 | 2352 | 2359 |  -7 |  429 |  440 | -11 | B6 | 1503 | N531JB | JFK | SJU | 198 | 1598 | 23 | 59 | 2013-12-25 23:00:00 |\n| 2013 | 12 | 25 | 2353 | 2355 |  -2 |  442 |  438 |   4 | DL | 2380 | N713TW | JFK | SJU | 196 | 1598 | 23 | 55 | 2013-12-25 23:00:00 |\n| 2013 | 12 | 25 | 2357 | 2359 |  -2 |  446 |  445 |   1 | B6 |  745 | N636JB | JFK | PSE | 204 | 1617 | 23 | 59 | 2013-12-25 23:00:00 |\n| 2013 | 12 | 25 | 2357 | 2359 |  -2 |  433 |  437 |  -4 | B6 |  839 | N784JB | JFK | BQN | 194 | 1576 | 23 | 59 | 2013-12-25 23:00:00 |\n| 2013 | 12 | 25 |   NA | 1630 |  NA |   NA | 1838 |  NA | DL | 2231 | N312US | LGA | DTW |  NA |  502 | 16 | 30 | 2013-12-25 16:00:00 |\n| 2013 | 12 | 25 |   NA | 1525 |  NA |   NA | 1720 |  NA | MQ | 2840 | N8EGMQ | LGA | STL |  NA |  888 | 15 | 25 | 2013-12-25 15:00:00 |\n| 2013 | 12 | 25 |   NA | 1100 |  NA |   NA | 1210 |  NA | MQ | 3230 | N524MQ | JFK | DCA |  NA |  213 | 11 |  0 | 2013-12-25 11:00:00 |\n| 2013 | 12 | 25 |   NA | 1930 |  NA |   NA | 2115 |  NA | MQ | 3535 | N509MQ | JFK | CMH |  NA |  483 | 19 | 30 | 2013-12-25 19:00:00 |\n\n",
            "text/latex": "A tibble: 1561 × 19\n\\begin{tabular}{lllllllllllllllllll}\n year & month & day & dep\\_time & sched\\_dep\\_time & dep\\_delay & arr\\_time & sched\\_arr\\_time & arr\\_delay & carrier & flight & tailnum & origin & dest & air\\_time & distance & hour & minute & time\\_hour\\\\\n <int> & <int> & <int> & <int> & <int> & <dbl> & <int> & <int> & <dbl> & <chr> & <int> & <chr> & <chr> & <chr> & <dbl> & <dbl> & <dbl> & <dbl> & <dttm>\\\\\n\\hline\n\t 2013 & 1 & 1 & 517 & 515 &  2 &  830 &  819 &  11 & UA & 1545 & N14228 & EWR & IAH & 227 & 1400 & 5 & 15 & 2013-01-01 05:00:00\\\\\n\t 2013 & 1 & 1 & 533 & 529 &  4 &  850 &  830 &  20 & UA & 1714 & N24211 & LGA & IAH & 227 & 1416 & 5 & 29 & 2013-01-01 05:00:00\\\\\n\t 2013 & 1 & 1 & 542 & 540 &  2 &  923 &  850 &  33 & AA & 1141 & N619AA & JFK & MIA & 160 & 1089 & 5 & 40 & 2013-01-01 05:00:00\\\\\n\t 2013 & 1 & 1 & 544 & 545 & -1 & 1004 & 1022 & -18 & B6 &  725 & N804JB & JFK & BQN & 183 & 1576 & 5 & 45 & 2013-01-01 05:00:00\\\\\n\t 2013 & 1 & 1 & 554 & 600 & -6 &  812 &  837 & -25 & DL &  461 & N668DN & LGA & ATL & 116 &  762 & 6 &  0 & 2013-01-01 06:00:00\\\\\n\t 2013 & 1 & 1 & 554 & 558 & -4 &  740 &  728 &  12 & UA & 1696 & N39463 & EWR & ORD & 150 &  719 & 5 & 58 & 2013-01-01 05:00:00\\\\\n\t 2013 & 1 & 1 & 555 & 600 & -5 &  913 &  854 &  19 & B6 &  507 & N516JB & EWR & FLL & 158 & 1065 & 6 &  0 & 2013-01-01 06:00:00\\\\\n\t 2013 & 1 & 1 & 557 & 600 & -3 &  709 &  723 & -14 & EV & 5708 & N829AS & LGA & IAD &  53 &  229 & 6 &  0 & 2013-01-01 06:00:00\\\\\n\t 2013 & 1 & 1 & 557 & 600 & -3 &  838 &  846 &  -8 & B6 &   79 & N593JB & JFK & MCO & 140 &  944 & 6 &  0 & 2013-01-01 06:00:00\\\\\n\t 2013 & 1 & 1 & 558 & 600 & -2 &  753 &  745 &   8 & AA &  301 & N3ALAA & LGA & ORD & 138 &  733 & 6 &  0 & 2013-01-01 06:00:00\\\\\n\t 2013 & 1 & 1 & 558 & 600 & -2 &  849 &  851 &  -2 & B6 &   49 & N793JB & JFK & PBI & 149 & 1028 & 6 &  0 & 2013-01-01 06:00:00\\\\\n\t 2013 & 1 & 1 & 558 & 600 & -2 &  853 &  856 &  -3 & B6 &   71 & N657JB & JFK & TPA & 158 & 1005 & 6 &  0 & 2013-01-01 06:00:00\\\\\n\t 2013 & 1 & 1 & 558 & 600 & -2 &  924 &  917 &   7 & UA &  194 & N29129 & JFK & LAX & 345 & 2475 & 6 &  0 & 2013-01-01 06:00:00\\\\\n\t 2013 & 1 & 1 & 558 & 600 & -2 &  923 &  937 & -14 & UA & 1124 & N53441 & EWR & SFO & 361 & 2565 & 6 &  0 & 2013-01-01 06:00:00\\\\\n\t 2013 & 1 & 1 & 559 & 600 & -1 &  941 &  910 &  31 & AA &  707 & N3DUAA & LGA & DFW & 257 & 1389 & 6 &  0 & 2013-01-01 06:00:00\\\\\n\t 2013 & 1 & 1 & 559 & 559 &  0 &  702 &  706 &  -4 & B6 & 1806 & N708JB & JFK & BOS &  44 &  187 & 5 & 59 & 2013-01-01 05:00:00\\\\\n\t 2013 & 1 & 1 & 559 & 600 & -1 &  854 &  902 &  -8 & UA & 1187 & N76515 & EWR & LAS & 337 & 2227 & 6 &  0 & 2013-01-01 06:00:00\\\\\n\t 2013 & 1 & 1 & 600 & 600 &  0 &  851 &  858 &  -7 & B6 &  371 & N595JB & LGA & FLL & 152 & 1076 & 6 &  0 & 2013-01-01 06:00:00\\\\\n\t 2013 & 1 & 1 & 600 & 600 &  0 &  837 &  825 &  12 & MQ & 4650 & N542MQ & LGA & ATL & 134 &  762 & 6 &  0 & 2013-01-01 06:00:00\\\\\n\t 2013 & 1 & 1 & 601 & 600 &  1 &  844 &  850 &  -6 & B6 &  343 & N644JB & EWR & PBI & 147 & 1023 & 6 &  0 & 2013-01-01 06:00:00\\\\\n\t 2013 & 1 & 1 & 602 & 610 & -8 &  812 &  820 &  -8 & DL & 1919 & N971DL & LGA & MSP & 170 & 1020 & 6 & 10 & 2013-01-01 06:00:00\\\\\n\t 2013 & 1 & 1 & 602 & 605 & -3 &  821 &  805 &  16 & MQ & 4401 & N730MQ & LGA & DTW & 105 &  502 & 6 &  5 & 2013-01-01 06:00:00\\\\\n\t 2013 & 1 & 1 & 606 & 610 & -4 &  858 &  910 & -12 & AA & 1895 & N633AA & EWR & MIA & 152 & 1085 & 6 & 10 & 2013-01-01 06:00:00\\\\\n\t 2013 & 1 & 1 & 606 & 610 & -4 &  837 &  845 &  -8 & DL & 1743 & N3739P & JFK & ATL & 128 &  760 & 6 & 10 & 2013-01-01 06:00:00\\\\\n\t 2013 & 1 & 1 & 607 & 607 &  0 &  858 &  915 & -17 & UA & 1077 & N53442 & EWR & MIA & 157 & 1085 & 6 &  7 & 2013-01-01 06:00:00\\\\\n\t 2013 & 1 & 1 & 608 & 600 &  8 &  807 &  735 &  32 & MQ & 3768 & N9EAMQ & EWR & ORD & 139 &  719 & 6 &  0 & 2013-01-01 06:00:00\\\\\n\t 2013 & 1 & 1 & 611 & 600 & 11 &  945 &  931 &  14 & UA &  303 & N532UA & JFK & SFO & 366 & 2586 & 6 &  0 & 2013-01-01 06:00:00\\\\\n\t 2013 & 1 & 1 & 613 & 610 &  3 &  925 &  921 &   4 & B6 &  135 & N635JB & JFK & RSW & 175 & 1074 & 6 & 10 & 2013-01-01 06:00:00\\\\\n\t 2013 & 1 & 1 & 615 & 615 &  0 & 1039 & 1100 & -21 & B6 &  709 & N794JB & JFK & SJU & 182 & 1598 & 6 & 15 & 2013-01-01 06:00:00\\\\\n\t 2013 & 1 & 1 & 615 & 615 &  0 &  833 &  842 &  -9 & DL &  575 & N326NB & EWR & ATL & 120 &  746 & 6 & 15 & 2013-01-01 06:00:00\\\\\n\t ⋮ & ⋮ & ⋮ & ⋮ & ⋮ & ⋮ & ⋮ & ⋮ & ⋮ & ⋮ & ⋮ & ⋮ & ⋮ & ⋮ & ⋮ & ⋮ & ⋮ & ⋮ & ⋮\\\\\n\t 2013 & 12 & 25 & 2126 & 2129 &  -3 &   24 &   22 &   2 & B6 & 2043 & N599JB & EWR & PBI & 144 & 1023 & 21 & 29 & 2013-12-25 21:00:00\\\\\n\t 2013 & 12 & 25 & 2129 & 2053 &  36 &    1 & 2333 &  28 & EV & 4388 & N17984 & EWR & JAX & 133 &  820 & 20 & 53 & 2013-12-25 20:00:00\\\\\n\t 2013 & 12 & 25 & 2130 & 2135 &  -5 &   25 &   55 & -30 & AA &  185 & N332AA & JFK & LAX & 328 & 2475 & 21 & 35 & 2013-12-25 21:00:00\\\\\n\t 2013 & 12 & 25 & 2130 & 2115 &  15 & 2322 & 2315 &   7 & MQ & 3384 & N520MQ & LGA & CLT &  90 &  544 & 21 & 15 & 2013-12-25 21:00:00\\\\\n\t 2013 & 12 & 25 & 2131 & 2046 &  45 &   24 & 2349 &  35 & UA &  236 & N406UA & EWR & TPA & 151 &  997 & 20 & 46 & 2013-12-25 20:00:00\\\\\n\t 2013 & 12 & 25 & 2140 & 2141 &  -1 &   44 &   37 &   7 & B6 &  425 & N579JB & JFK & TPA & 160 & 1005 & 21 & 41 & 2013-12-25 21:00:00\\\\\n\t 2013 & 12 & 25 & 2144 & 2145 &  -1 &   27 &   19 &   8 & B6 & 2227 & N273JB & EWR & MCO & 144 &  937 & 21 & 45 & 2013-12-25 21:00:00\\\\\n\t 2013 & 12 & 25 & 2149 & 2155 &  -6 & 2328 & 2334 &  -6 & B6 &  985 & N339JB & JFK & RDU &  80 &  427 & 21 & 55 & 2013-12-25 21:00:00\\\\\n\t 2013 & 12 & 25 & 2150 & 2159 &  -9 &  103 &   45 &  18 & B6 & 1183 & N634JB & JFK & MCO & 151 &  944 & 21 & 59 & 2013-12-25 21:00:00\\\\\n\t 2013 & 12 & 25 & 2152 & 2155 &  -3 &  100 &   56 &   4 & B6 & 1901 & N665JB & JFK & FLL & 154 & 1069 & 21 & 55 & 2013-12-25 21:00:00\\\\\n\t 2013 & 12 & 25 & 2153 & 2155 &  -2 &   50 &   46 &   4 & B6 & 2053 & N613JB & JFK & PBI & 148 & 1028 & 21 & 55 & 2013-12-25 21:00:00\\\\\n\t 2013 & 12 & 25 & 2153 & 2135 &  18 &   22 &   19 &   3 & B6 &  611 & N519JB & JFK & LAS & 305 & 2248 & 21 & 35 & 2013-12-25 21:00:00\\\\\n\t 2013 & 12 & 25 & 2153 & 2030 &  83 &   46 & 2347 &  59 & UA & 1682 & N78524 & EWR & FLL & 151 & 1065 & 20 & 30 & 2013-12-25 20:00:00\\\\\n\t 2013 & 12 & 25 & 2203 & 2136 &  27 & 2327 & 2259 &  28 & B6 &  702 & N198JB & JFK & BUF &  59 &  301 & 21 & 36 & 2013-12-25 21:00:00\\\\\n\t 2013 & 12 & 25 & 2203 & 2130 &  33 & 2309 & 2245 &  24 & MQ & 3621 & N844MQ & JFK & DCA &  42 &  213 & 21 & 30 & 2013-12-25 21:00:00\\\\\n\t 2013 & 12 & 25 & 2219 & 2110 &  69 &  102 & 2339 &  83 & B6 &  775 & N258JB & JFK & MSY & 192 & 1182 & 21 & 10 & 2013-12-25 21:00:00\\\\\n\t 2013 & 12 & 25 & 2231 & 2219 &  12 &  311 &  304 &   7 & B6 & 1203 & N618JB & JFK & SJU & 194 & 1598 & 22 & 19 & 2013-12-25 22:00:00\\\\\n\t 2013 & 12 & 25 & 2302 & 2245 &  17 &   15 &    3 &  12 & B6 &  486 & N203JB & JFK & ROC &  54 &  264 & 22 & 45 & 2013-12-25 22:00:00\\\\\n\t 2013 & 12 & 25 & 2308 & 2245 &  23 &   10 & 2355 &  15 & B6 &  234 & N316JB & JFK & BTV &  43 &  266 & 22 & 45 & 2013-12-25 22:00:00\\\\\n\t 2013 & 12 & 25 & 2312 & 2250 &  22 &   10 & 2356 &  14 & B6 & 1816 & N358JB & JFK & SYR &  44 &  209 & 22 & 50 & 2013-12-25 22:00:00\\\\\n\t 2013 & 12 & 25 & 2314 & 2245 &  29 &   15 & 2353 &  22 & B6 &  108 & N279JB & JFK & PWM &  46 &  273 & 22 & 45 & 2013-12-25 22:00:00\\\\\n\t 2013 & 12 & 25 & 2315 & 2330 & -15 &  348 &  409 & -21 & B6 & 1389 & N554JB & EWR & SJU & 199 & 1608 & 23 & 30 & 2013-12-25 23:00:00\\\\\n\t 2013 & 12 & 25 & 2352 & 2359 &  -7 &  429 &  440 & -11 & B6 & 1503 & N531JB & JFK & SJU & 198 & 1598 & 23 & 59 & 2013-12-25 23:00:00\\\\\n\t 2013 & 12 & 25 & 2353 & 2355 &  -2 &  442 &  438 &   4 & DL & 2380 & N713TW & JFK & SJU & 196 & 1598 & 23 & 55 & 2013-12-25 23:00:00\\\\\n\t 2013 & 12 & 25 & 2357 & 2359 &  -2 &  446 &  445 &   1 & B6 &  745 & N636JB & JFK & PSE & 204 & 1617 & 23 & 59 & 2013-12-25 23:00:00\\\\\n\t 2013 & 12 & 25 & 2357 & 2359 &  -2 &  433 &  437 &  -4 & B6 &  839 & N784JB & JFK & BQN & 194 & 1576 & 23 & 59 & 2013-12-25 23:00:00\\\\\n\t 2013 & 12 & 25 &   NA & 1630 &  NA &   NA & 1838 &  NA & DL & 2231 & N312US & LGA & DTW &  NA &  502 & 16 & 30 & 2013-12-25 16:00:00\\\\\n\t 2013 & 12 & 25 &   NA & 1525 &  NA &   NA & 1720 &  NA & MQ & 2840 & N8EGMQ & LGA & STL &  NA &  888 & 15 & 25 & 2013-12-25 15:00:00\\\\\n\t 2013 & 12 & 25 &   NA & 1100 &  NA &   NA & 1210 &  NA & MQ & 3230 & N524MQ & JFK & DCA &  NA &  213 & 11 &  0 & 2013-12-25 11:00:00\\\\\n\t 2013 & 12 & 25 &   NA & 1930 &  NA &   NA & 2115 &  NA & MQ & 3535 & N509MQ & JFK & CMH &  NA &  483 & 19 & 30 & 2013-12-25 19:00:00\\\\\n\\end{tabular}\n",
            "text/plain": [
              "     year month day dep_time sched_dep_time dep_delay arr_time sched_arr_time\n",
              "1    2013 1     1   517      515             2         830      819          \n",
              "2    2013 1     1   533      529             4         850      830          \n",
              "3    2013 1     1   542      540             2         923      850          \n",
              "4    2013 1     1   544      545            -1        1004     1022          \n",
              "5    2013 1     1   554      600            -6         812      837          \n",
              "6    2013 1     1   554      558            -4         740      728          \n",
              "7    2013 1     1   555      600            -5         913      854          \n",
              "8    2013 1     1   557      600            -3         709      723          \n",
              "9    2013 1     1   557      600            -3         838      846          \n",
              "10   2013 1     1   558      600            -2         753      745          \n",
              "11   2013 1     1   558      600            -2         849      851          \n",
              "12   2013 1     1   558      600            -2         853      856          \n",
              "13   2013 1     1   558      600            -2         924      917          \n",
              "14   2013 1     1   558      600            -2         923      937          \n",
              "15   2013 1     1   559      600            -1         941      910          \n",
              "16   2013 1     1   559      559             0         702      706          \n",
              "17   2013 1     1   559      600            -1         854      902          \n",
              "18   2013 1     1   600      600             0         851      858          \n",
              "19   2013 1     1   600      600             0         837      825          \n",
              "20   2013 1     1   601      600             1         844      850          \n",
              "21   2013 1     1   602      610            -8         812      820          \n",
              "22   2013 1     1   602      605            -3         821      805          \n",
              "23   2013 1     1   606      610            -4         858      910          \n",
              "24   2013 1     1   606      610            -4         837      845          \n",
              "25   2013 1     1   607      607             0         858      915          \n",
              "26   2013 1     1   608      600             8         807      735          \n",
              "27   2013 1     1   611      600            11         945      931          \n",
              "28   2013 1     1   613      610             3         925      921          \n",
              "29   2013 1     1   615      615             0        1039     1100          \n",
              "30   2013 1     1   615      615             0         833      842          \n",
              "⋮    ⋮    ⋮     ⋮   ⋮        ⋮              ⋮         ⋮        ⋮             \n",
              "1532 2013 12    25  2126     2129            -3         24       22          \n",
              "1533 2013 12    25  2129     2053            36          1     2333          \n",
              "1534 2013 12    25  2130     2135            -5         25       55          \n",
              "1535 2013 12    25  2130     2115            15       2322     2315          \n",
              "1536 2013 12    25  2131     2046            45         24     2349          \n",
              "1537 2013 12    25  2140     2141            -1         44       37          \n",
              "1538 2013 12    25  2144     2145            -1         27       19          \n",
              "1539 2013 12    25  2149     2155            -6       2328     2334          \n",
              "1540 2013 12    25  2150     2159            -9        103       45          \n",
              "1541 2013 12    25  2152     2155            -3        100       56          \n",
              "1542 2013 12    25  2153     2155            -2         50       46          \n",
              "1543 2013 12    25  2153     2135            18         22       19          \n",
              "1544 2013 12    25  2153     2030            83         46     2347          \n",
              "1545 2013 12    25  2203     2136            27       2327     2259          \n",
              "1546 2013 12    25  2203     2130            33       2309     2245          \n",
              "1547 2013 12    25  2219     2110            69        102     2339          \n",
              "1548 2013 12    25  2231     2219            12        311      304          \n",
              "1549 2013 12    25  2302     2245            17         15        3          \n",
              "1550 2013 12    25  2308     2245            23         10     2355          \n",
              "1551 2013 12    25  2312     2250            22         10     2356          \n",
              "1552 2013 12    25  2314     2245            29         15     2353          \n",
              "1553 2013 12    25  2315     2330           -15        348      409          \n",
              "1554 2013 12    25  2352     2359            -7        429      440          \n",
              "1555 2013 12    25  2353     2355            -2        442      438          \n",
              "1556 2013 12    25  2357     2359            -2        446      445          \n",
              "1557 2013 12    25  2357     2359            -2        433      437          \n",
              "1558 2013 12    25    NA     1630            NA         NA     1838          \n",
              "1559 2013 12    25    NA     1525            NA         NA     1720          \n",
              "1560 2013 12    25    NA     1100            NA         NA     1210          \n",
              "1561 2013 12    25    NA     1930            NA         NA     2115          \n",
              "     arr_delay carrier flight tailnum origin dest air_time distance hour minute\n",
              "1     11       UA      1545   N14228  EWR    IAH  227      1400     5    15    \n",
              "2     20       UA      1714   N24211  LGA    IAH  227      1416     5    29    \n",
              "3     33       AA      1141   N619AA  JFK    MIA  160      1089     5    40    \n",
              "4    -18       B6       725   N804JB  JFK    BQN  183      1576     5    45    \n",
              "5    -25       DL       461   N668DN  LGA    ATL  116       762     6     0    \n",
              "6     12       UA      1696   N39463  EWR    ORD  150       719     5    58    \n",
              "7     19       B6       507   N516JB  EWR    FLL  158      1065     6     0    \n",
              "8    -14       EV      5708   N829AS  LGA    IAD   53       229     6     0    \n",
              "9     -8       B6        79   N593JB  JFK    MCO  140       944     6     0    \n",
              "10     8       AA       301   N3ALAA  LGA    ORD  138       733     6     0    \n",
              "11    -2       B6        49   N793JB  JFK    PBI  149      1028     6     0    \n",
              "12    -3       B6        71   N657JB  JFK    TPA  158      1005     6     0    \n",
              "13     7       UA       194   N29129  JFK    LAX  345      2475     6     0    \n",
              "14   -14       UA      1124   N53441  EWR    SFO  361      2565     6     0    \n",
              "15    31       AA       707   N3DUAA  LGA    DFW  257      1389     6     0    \n",
              "16    -4       B6      1806   N708JB  JFK    BOS   44       187     5    59    \n",
              "17    -8       UA      1187   N76515  EWR    LAS  337      2227     6     0    \n",
              "18    -7       B6       371   N595JB  LGA    FLL  152      1076     6     0    \n",
              "19    12       MQ      4650   N542MQ  LGA    ATL  134       762     6     0    \n",
              "20    -6       B6       343   N644JB  EWR    PBI  147      1023     6     0    \n",
              "21    -8       DL      1919   N971DL  LGA    MSP  170      1020     6    10    \n",
              "22    16       MQ      4401   N730MQ  LGA    DTW  105       502     6     5    \n",
              "23   -12       AA      1895   N633AA  EWR    MIA  152      1085     6    10    \n",
              "24    -8       DL      1743   N3739P  JFK    ATL  128       760     6    10    \n",
              "25   -17       UA      1077   N53442  EWR    MIA  157      1085     6     7    \n",
              "26    32       MQ      3768   N9EAMQ  EWR    ORD  139       719     6     0    \n",
              "27    14       UA       303   N532UA  JFK    SFO  366      2586     6     0    \n",
              "28     4       B6       135   N635JB  JFK    RSW  175      1074     6    10    \n",
              "29   -21       B6       709   N794JB  JFK    SJU  182      1598     6    15    \n",
              "30    -9       DL       575   N326NB  EWR    ATL  120       746     6    15    \n",
              "⋮    ⋮         ⋮       ⋮      ⋮       ⋮      ⋮    ⋮        ⋮        ⋮    ⋮     \n",
              "1532   2       B6      2043   N599JB  EWR    PBI  144      1023     21   29    \n",
              "1533  28       EV      4388   N17984  EWR    JAX  133       820     20   53    \n",
              "1534 -30       AA       185   N332AA  JFK    LAX  328      2475     21   35    \n",
              "1535   7       MQ      3384   N520MQ  LGA    CLT   90       544     21   15    \n",
              "1536  35       UA       236   N406UA  EWR    TPA  151       997     20   46    \n",
              "1537   7       B6       425   N579JB  JFK    TPA  160      1005     21   41    \n",
              "1538   8       B6      2227   N273JB  EWR    MCO  144       937     21   45    \n",
              "1539  -6       B6       985   N339JB  JFK    RDU   80       427     21   55    \n",
              "1540  18       B6      1183   N634JB  JFK    MCO  151       944     21   59    \n",
              "1541   4       B6      1901   N665JB  JFK    FLL  154      1069     21   55    \n",
              "1542   4       B6      2053   N613JB  JFK    PBI  148      1028     21   55    \n",
              "1543   3       B6       611   N519JB  JFK    LAS  305      2248     21   35    \n",
              "1544  59       UA      1682   N78524  EWR    FLL  151      1065     20   30    \n",
              "1545  28       B6       702   N198JB  JFK    BUF   59       301     21   36    \n",
              "1546  24       MQ      3621   N844MQ  JFK    DCA   42       213     21   30    \n",
              "1547  83       B6       775   N258JB  JFK    MSY  192      1182     21   10    \n",
              "1548   7       B6      1203   N618JB  JFK    SJU  194      1598     22   19    \n",
              "1549  12       B6       486   N203JB  JFK    ROC   54       264     22   45    \n",
              "1550  15       B6       234   N316JB  JFK    BTV   43       266     22   45    \n",
              "1551  14       B6      1816   N358JB  JFK    SYR   44       209     22   50    \n",
              "1552  22       B6       108   N279JB  JFK    PWM   46       273     22   45    \n",
              "1553 -21       B6      1389   N554JB  EWR    SJU  199      1608     23   30    \n",
              "1554 -11       B6      1503   N531JB  JFK    SJU  198      1598     23   59    \n",
              "1555   4       DL      2380   N713TW  JFK    SJU  196      1598     23   55    \n",
              "1556   1       B6       745   N636JB  JFK    PSE  204      1617     23   59    \n",
              "1557  -4       B6       839   N784JB  JFK    BQN  194      1576     23   59    \n",
              "1558  NA       DL      2231   N312US  LGA    DTW   NA       502     16   30    \n",
              "1559  NA       MQ      2840   N8EGMQ  LGA    STL   NA       888     15   25    \n",
              "1560  NA       MQ      3230   N524MQ  JFK    DCA   NA       213     11    0    \n",
              "1561  NA       MQ      3535   N509MQ  JFK    CMH   NA       483     19   30    \n",
              "     time_hour          \n",
              "1    2013-01-01 05:00:00\n",
              "2    2013-01-01 05:00:00\n",
              "3    2013-01-01 05:00:00\n",
              "4    2013-01-01 05:00:00\n",
              "5    2013-01-01 06:00:00\n",
              "6    2013-01-01 05:00:00\n",
              "7    2013-01-01 06:00:00\n",
              "8    2013-01-01 06:00:00\n",
              "9    2013-01-01 06:00:00\n",
              "10   2013-01-01 06:00:00\n",
              "11   2013-01-01 06:00:00\n",
              "12   2013-01-01 06:00:00\n",
              "13   2013-01-01 06:00:00\n",
              "14   2013-01-01 06:00:00\n",
              "15   2013-01-01 06:00:00\n",
              "16   2013-01-01 05:00:00\n",
              "17   2013-01-01 06:00:00\n",
              "18   2013-01-01 06:00:00\n",
              "19   2013-01-01 06:00:00\n",
              "20   2013-01-01 06:00:00\n",
              "21   2013-01-01 06:00:00\n",
              "22   2013-01-01 06:00:00\n",
              "23   2013-01-01 06:00:00\n",
              "24   2013-01-01 06:00:00\n",
              "25   2013-01-01 06:00:00\n",
              "26   2013-01-01 06:00:00\n",
              "27   2013-01-01 06:00:00\n",
              "28   2013-01-01 06:00:00\n",
              "29   2013-01-01 06:00:00\n",
              "30   2013-01-01 06:00:00\n",
              "⋮    ⋮                  \n",
              "1532 2013-12-25 21:00:00\n",
              "1533 2013-12-25 20:00:00\n",
              "1534 2013-12-25 21:00:00\n",
              "1535 2013-12-25 21:00:00\n",
              "1536 2013-12-25 20:00:00\n",
              "1537 2013-12-25 21:00:00\n",
              "1538 2013-12-25 21:00:00\n",
              "1539 2013-12-25 21:00:00\n",
              "1540 2013-12-25 21:00:00\n",
              "1541 2013-12-25 21:00:00\n",
              "1542 2013-12-25 21:00:00\n",
              "1543 2013-12-25 21:00:00\n",
              "1544 2013-12-25 20:00:00\n",
              "1545 2013-12-25 21:00:00\n",
              "1546 2013-12-25 21:00:00\n",
              "1547 2013-12-25 21:00:00\n",
              "1548 2013-12-25 22:00:00\n",
              "1549 2013-12-25 22:00:00\n",
              "1550 2013-12-25 22:00:00\n",
              "1551 2013-12-25 22:00:00\n",
              "1552 2013-12-25 22:00:00\n",
              "1553 2013-12-25 23:00:00\n",
              "1554 2013-12-25 23:00:00\n",
              "1555 2013-12-25 23:00:00\n",
              "1556 2013-12-25 23:00:00\n",
              "1557 2013-12-25 23:00:00\n",
              "1558 2013-12-25 16:00:00\n",
              "1559 2013-12-25 15:00:00\n",
              "1560 2013-12-25 11:00:00\n",
              "1561 2013-12-25 19:00:00"
            ]
          },
          "metadata": {}
        }
      ],
      "source": [
        "filter(flights,(day==1 & month==1)|(month==12 & day==25))"
      ]
    },
    {
      "cell_type": "markdown",
      "metadata": {
        "id": "lQyfwAHB0Jdl"
      },
      "source": [
        "Si queremos, por ejemplo, ver el registro de vuelos con más de 100 minutos de retraso en la llegada"
      ]
    },
    {
      "cell_type": "code",
      "execution_count": 37,
      "metadata": {
        "collapsed": true,
        "id": "yOAwmpKW0QVd",
        "outputId": "c9ba4f93-ca92-42f6-b24e-2745b9983cfc",
        "colab": {
          "base_uri": "https://localhost:8080/",
          "height": 1000
        }
      },
      "outputs": [
        {
          "output_type": "display_data",
          "data": {
            "text/html": [
              "<table class=\"dataframe\">\n",
              "<caption>A tibble: 13887 × 19</caption>\n",
              "<thead>\n",
              "\t<tr><th scope=col>year</th><th scope=col>month</th><th scope=col>day</th><th scope=col>dep_time</th><th scope=col>sched_dep_time</th><th scope=col>dep_delay</th><th scope=col>arr_time</th><th scope=col>sched_arr_time</th><th scope=col>arr_delay</th><th scope=col>carrier</th><th scope=col>flight</th><th scope=col>tailnum</th><th scope=col>origin</th><th scope=col>dest</th><th scope=col>air_time</th><th scope=col>distance</th><th scope=col>hour</th><th scope=col>minute</th><th scope=col>time_hour</th></tr>\n",
              "\t<tr><th scope=col>&lt;int&gt;</th><th scope=col>&lt;int&gt;</th><th scope=col>&lt;int&gt;</th><th scope=col>&lt;int&gt;</th><th scope=col>&lt;int&gt;</th><th scope=col>&lt;dbl&gt;</th><th scope=col>&lt;int&gt;</th><th scope=col>&lt;int&gt;</th><th scope=col>&lt;dbl&gt;</th><th scope=col>&lt;chr&gt;</th><th scope=col>&lt;int&gt;</th><th scope=col>&lt;chr&gt;</th><th scope=col>&lt;chr&gt;</th><th scope=col>&lt;chr&gt;</th><th scope=col>&lt;dbl&gt;</th><th scope=col>&lt;dbl&gt;</th><th scope=col>&lt;dbl&gt;</th><th scope=col>&lt;dbl&gt;</th><th scope=col>&lt;dttm&gt;</th></tr>\n",
              "</thead>\n",
              "<tbody>\n",
              "\t<tr><td>2013</td><td>1</td><td>1</td><td> 811</td><td> 630</td><td>101</td><td>1047</td><td> 830</td><td>137</td><td>MQ</td><td>4576</td><td>N531MQ</td><td>LGA</td><td>CLT</td><td>118</td><td> 544</td><td> 6</td><td>30</td><td>2013-01-01 06:00:00</td></tr>\n",
              "\t<tr><td>2013</td><td>1</td><td>1</td><td> 848</td><td>1835</td><td>853</td><td>1001</td><td>1950</td><td>851</td><td>MQ</td><td>3944</td><td>N942MQ</td><td>JFK</td><td>BWI</td><td> 41</td><td> 184</td><td>18</td><td>35</td><td>2013-01-01 18:00:00</td></tr>\n",
              "\t<tr><td>2013</td><td>1</td><td>1</td><td> 957</td><td> 733</td><td>144</td><td>1056</td><td> 853</td><td>123</td><td>UA</td><td> 856</td><td>N534UA</td><td>EWR</td><td>BOS</td><td> 37</td><td> 200</td><td> 7</td><td>33</td><td>2013-01-01 07:00:00</td></tr>\n",
              "\t<tr><td>2013</td><td>1</td><td>1</td><td>1114</td><td> 900</td><td>134</td><td>1447</td><td>1222</td><td>145</td><td>UA</td><td>1086</td><td>N76502</td><td>LGA</td><td>IAH</td><td>248</td><td>1416</td><td> 9</td><td> 0</td><td>2013-01-01 09:00:00</td></tr>\n",
              "\t<tr><td>2013</td><td>1</td><td>1</td><td>1400</td><td>1250</td><td> 70</td><td>1645</td><td>1502</td><td>103</td><td>EV</td><td>4869</td><td>N748EV</td><td>LGA</td><td>MEM</td><td>178</td><td> 963</td><td>12</td><td>50</td><td>2013-01-01 12:00:00</td></tr>\n",
              "\t<tr><td>2013</td><td>1</td><td>1</td><td>1505</td><td>1310</td><td>115</td><td>1638</td><td>1431</td><td>127</td><td>EV</td><td>4497</td><td>N17984</td><td>EWR</td><td>RIC</td><td> 63</td><td> 277</td><td>13</td><td>10</td><td>2013-01-01 13:00:00</td></tr>\n",
              "\t<tr><td>2013</td><td>1</td><td>1</td><td>1525</td><td>1340</td><td>105</td><td>1831</td><td>1626</td><td>125</td><td>B6</td><td> 525</td><td>N231JB</td><td>EWR</td><td>MCO</td><td>152</td><td> 937</td><td>13</td><td>40</td><td>2013-01-01 13:00:00</td></tr>\n",
              "\t<tr><td>2013</td><td>1</td><td>1</td><td>1540</td><td>1338</td><td>122</td><td>2020</td><td>1825</td><td>115</td><td>B6</td><td> 705</td><td>N570JB</td><td>JFK</td><td>SJU</td><td>193</td><td>1598</td><td>13</td><td>38</td><td>2013-01-01 13:00:00</td></tr>\n",
              "\t<tr><td>2013</td><td>1</td><td>1</td><td>1549</td><td>1445</td><td> 64</td><td>1912</td><td>1656</td><td>136</td><td>EV</td><td>4181</td><td>N21197</td><td>EWR</td><td>MCI</td><td>234</td><td>1092</td><td>14</td><td>45</td><td>2013-01-01 14:00:00</td></tr>\n",
              "\t<tr><td>2013</td><td>1</td><td>1</td><td>1558</td><td>1359</td><td>119</td><td>1718</td><td>1515</td><td>123</td><td>EV</td><td>5712</td><td>N826AS</td><td>JFK</td><td>IAD</td><td> 53</td><td> 228</td><td>13</td><td>59</td><td>2013-01-01 13:00:00</td></tr>\n",
              "\t<tr><td>2013</td><td>1</td><td>1</td><td>1728</td><td>1600</td><td> 88</td><td>2004</td><td>1817</td><td>107</td><td>EV</td><td>3843</td><td>N13903</td><td>EWR</td><td>SDF</td><td>135</td><td> 642</td><td>16</td><td> 0</td><td>2013-01-01 16:00:00</td></tr>\n",
              "\t<tr><td>2013</td><td>1</td><td>1</td><td>1732</td><td>1630</td><td> 62</td><td>2028</td><td>1825</td><td>123</td><td>EV</td><td>4092</td><td>N16911</td><td>EWR</td><td>DAY</td><td>119</td><td> 533</td><td>16</td><td>30</td><td>2013-01-01 16:00:00</td></tr>\n",
              "\t<tr><td>2013</td><td>1</td><td>1</td><td>1803</td><td>1620</td><td>103</td><td>2008</td><td>1750</td><td>138</td><td>MQ</td><td>4622</td><td>N504MQ</td><td>LGA</td><td>BNA</td><td>154</td><td> 764</td><td>16</td><td>20</td><td>2013-01-01 16:00:00</td></tr>\n",
              "\t<tr><td>2013</td><td>1</td><td>1</td><td>1814</td><td>1700</td><td> 74</td><td>2051</td><td>1855</td><td>116</td><td>EV</td><td>4202</td><td>N19966</td><td>EWR</td><td>STL</td><td>177</td><td> 872</td><td>17</td><td> 0</td><td>2013-01-01 17:00:00</td></tr>\n",
              "\t<tr><td>2013</td><td>1</td><td>1</td><td>1815</td><td>1325</td><td>290</td><td>2120</td><td>1542</td><td>338</td><td>EV</td><td>4417</td><td>N17185</td><td>EWR</td><td>OMA</td><td>213</td><td>1134</td><td>13</td><td>25</td><td>2013-01-01 13:00:00</td></tr>\n",
              "\t<tr><td>2013</td><td>1</td><td>1</td><td>1842</td><td>1422</td><td>260</td><td>1958</td><td>1535</td><td>263</td><td>EV</td><td>4633</td><td>N18120</td><td>EWR</td><td>BTV</td><td> 46</td><td> 266</td><td>14</td><td>22</td><td>2013-01-01 14:00:00</td></tr>\n",
              "\t<tr><td>2013</td><td>1</td><td>1</td><td>1856</td><td>1645</td><td>131</td><td>2212</td><td>2005</td><td>127</td><td>AA</td><td> 181</td><td>N323AA</td><td>JFK</td><td>LAX</td><td>336</td><td>2475</td><td>16</td><td>45</td><td>2013-01-01 16:00:00</td></tr>\n",
              "\t<tr><td>2013</td><td>1</td><td>1</td><td>1934</td><td>1725</td><td>129</td><td>2126</td><td>1855</td><td>151</td><td>MQ</td><td>4255</td><td>N909MQ</td><td>JFK</td><td>BNA</td><td>154</td><td> 765</td><td>17</td><td>25</td><td>2013-01-01 17:00:00</td></tr>\n",
              "\t<tr><td>2013</td><td>1</td><td>1</td><td>1938</td><td>1703</td><td>155</td><td>2109</td><td>1823</td><td>166</td><td>EV</td><td>4300</td><td>N18557</td><td>EWR</td><td>RIC</td><td> 68</td><td> 277</td><td>17</td><td> 3</td><td>2013-01-01 17:00:00</td></tr>\n",
              "\t<tr><td>2013</td><td>1</td><td>1</td><td>1942</td><td>1705</td><td>157</td><td>2124</td><td>1830</td><td>174</td><td>MQ</td><td>4410</td><td>N835MQ</td><td>JFK</td><td>DCA</td><td> 60</td><td> 213</td><td>17</td><td> 5</td><td>2013-01-01 17:00:00</td></tr>\n",
              "\t<tr><td>2013</td><td>1</td><td>1</td><td>2006</td><td>1630</td><td>216</td><td>2230</td><td>1848</td><td>222</td><td>EV</td><td>4644</td><td>N14972</td><td>EWR</td><td>SAV</td><td>121</td><td> 708</td><td>16</td><td>30</td><td>2013-01-01 16:00:00</td></tr>\n",
              "\t<tr><td>2013</td><td>1</td><td>1</td><td>2009</td><td>1808</td><td>121</td><td>2145</td><td>1942</td><td>123</td><td>EV</td><td>4440</td><td>N14143</td><td>EWR</td><td>PIT</td><td> 65</td><td> 319</td><td>18</td><td> 8</td><td>2013-01-01 18:00:00</td></tr>\n",
              "\t<tr><td>2013</td><td>1</td><td>1</td><td>2115</td><td>1700</td><td>255</td><td>2330</td><td>1920</td><td>250</td><td>9E</td><td>3347</td><td>N924XJ</td><td>JFK</td><td>CVG</td><td>115</td><td> 589</td><td>17</td><td> 0</td><td>2013-01-01 17:00:00</td></tr>\n",
              "\t<tr><td>2013</td><td>1</td><td>1</td><td>2119</td><td>1930</td><td>109</td><td>2358</td><td>2136</td><td>142</td><td>EV</td><td>4543</td><td>N13123</td><td>EWR</td><td>DSM</td><td>200</td><td>1017</td><td>19</td><td>30</td><td>2013-01-01 19:00:00</td></tr>\n",
              "\t<tr><td>2013</td><td>1</td><td>1</td><td>2205</td><td>1720</td><td>285</td><td>  46</td><td>2040</td><td>246</td><td>AA</td><td>1999</td><td>N5DNAA</td><td>EWR</td><td>MIA</td><td>146</td><td>1085</td><td>17</td><td>20</td><td>2013-01-01 17:00:00</td></tr>\n",
              "\t<tr><td>2013</td><td>1</td><td>1</td><td>2221</td><td>2000</td><td>141</td><td>2331</td><td>2124</td><td>127</td><td>EV</td><td>4462</td><td>N13566</td><td>EWR</td><td>BUF</td><td> 56</td><td> 282</td><td>20</td><td> 0</td><td>2013-01-01 20:00:00</td></tr>\n",
              "\t<tr><td>2013</td><td>1</td><td>1</td><td>2312</td><td>2000</td><td>192</td><td>  21</td><td>2110</td><td>191</td><td>EV</td><td>4312</td><td>N13958</td><td>EWR</td><td>DCA</td><td> 44</td><td> 199</td><td>20</td><td> 0</td><td>2013-01-01 20:00:00</td></tr>\n",
              "\t<tr><td>2013</td><td>1</td><td>1</td><td>2343</td><td>1724</td><td>379</td><td> 314</td><td>1938</td><td>456</td><td>EV</td><td>4321</td><td>N21197</td><td>EWR</td><td>MCI</td><td>222</td><td>1092</td><td>17</td><td>24</td><td>2013-01-01 17:00:00</td></tr>\n",
              "\t<tr><td>2013</td><td>1</td><td>2</td><td> 126</td><td>2250</td><td>156</td><td> 233</td><td>2359</td><td>154</td><td>B6</td><td>  22</td><td>N636JB</td><td>JFK</td><td>SYR</td><td> 49</td><td> 209</td><td>22</td><td>50</td><td>2013-01-02 22:00:00</td></tr>\n",
              "\t<tr><td>2013</td><td>1</td><td>2</td><td> 817</td><td> 630</td><td>107</td><td>1107</td><td> 845</td><td>142</td><td>EV</td><td>4235</td><td>N16546</td><td>EWR</td><td>IND</td><td>132</td><td> 645</td><td> 6</td><td>30</td><td>2013-01-02 06:00:00</td></tr>\n",
              "\t<tr><td>⋮</td><td>⋮</td><td>⋮</td><td>⋮</td><td>⋮</td><td>⋮</td><td>⋮</td><td>⋮</td><td>⋮</td><td>⋮</td><td>⋮</td><td>⋮</td><td>⋮</td><td>⋮</td><td>⋮</td><td>⋮</td><td>⋮</td><td>⋮</td><td>⋮</td></tr>\n",
              "\t<tr><td>2013</td><td>9</td><td>27</td><td>1713</td><td>1350</td><td>203</td><td>1838</td><td>1531</td><td>187</td><td>EV</td><td>5465</td><td>N398CA</td><td>LGA</td><td>MSN</td><td>111</td><td> 812</td><td>13</td><td>50</td><td>2013-09-27 13:00:00</td></tr>\n",
              "\t<tr><td>2013</td><td>9</td><td>27</td><td>1809</td><td>1515</td><td>174</td><td>2026</td><td>1724</td><td>182</td><td>EV</td><td>4181</td><td>N27200</td><td>EWR</td><td>MCI</td><td>149</td><td>1092</td><td>15</td><td>15</td><td>2013-09-27 15:00:00</td></tr>\n",
              "\t<tr><td>2013</td><td>9</td><td>27</td><td>2057</td><td>1842</td><td>135</td><td>2203</td><td>2019</td><td>104</td><td>EV</td><td>5274</td><td>N720EV</td><td>LGA</td><td>BNA</td><td> 98</td><td> 764</td><td>18</td><td>42</td><td>2013-09-27 18:00:00</td></tr>\n",
              "\t<tr><td>2013</td><td>9</td><td>28</td><td>1253</td><td> 910</td><td>223</td><td>1422</td><td>1112</td><td>190</td><td>EV</td><td>5222</td><td>N759EV</td><td>EWR</td><td>DTW</td><td> 74</td><td> 488</td><td> 9</td><td>10</td><td>2013-09-28 09:00:00</td></tr>\n",
              "\t<tr><td>2013</td><td>9</td><td>28</td><td>1458</td><td>1240</td><td>138</td><td>1633</td><td>1438</td><td>115</td><td>EV</td><td>5067</td><td>N137EV</td><td>EWR</td><td>DTW</td><td> 71</td><td> 488</td><td>12</td><td>40</td><td>2013-09-28 12:00:00</td></tr>\n",
              "\t<tr><td>2013</td><td>9</td><td>28</td><td>1726</td><td>1555</td><td> 91</td><td>1946</td><td>1805</td><td>101</td><td>MQ</td><td>3075</td><td>N658MQ</td><td>JFK</td><td>CVG</td><td> 93</td><td> 589</td><td>15</td><td>55</td><td>2013-09-28 15:00:00</td></tr>\n",
              "\t<tr><td>2013</td><td>9</td><td>28</td><td>2017</td><td>1455</td><td>322</td><td>2154</td><td>1630</td><td>324</td><td>MQ</td><td>3231</td><td>N812MQ</td><td>JFK</td><td>PIT</td><td> 66</td><td> 340</td><td>14</td><td>55</td><td>2013-09-28 14:00:00</td></tr>\n",
              "\t<tr><td>2013</td><td>9</td><td>29</td><td>1336</td><td>1144</td><td>112</td><td>1611</td><td>1429</td><td>102</td><td>UA</td><td>1519</td><td>N21108</td><td>EWR</td><td>MCO</td><td>128</td><td> 937</td><td>11</td><td>44</td><td>2013-09-29 11:00:00</td></tr>\n",
              "\t<tr><td>2013</td><td>9</td><td>29</td><td>1435</td><td>1226</td><td>129</td><td>1552</td><td>1338</td><td>134</td><td>UA</td><td> 252</td><td>N431UA</td><td>EWR</td><td>BOS</td><td> 33</td><td> 200</td><td>12</td><td>26</td><td>2013-09-29 12:00:00</td></tr>\n",
              "\t<tr><td>2013</td><td>9</td><td>29</td><td>1615</td><td>1355</td><td>140</td><td>1759</td><td>1542</td><td>137</td><td>EV</td><td>4100</td><td>N11193</td><td>EWR</td><td>MEM</td><td>133</td><td> 946</td><td>13</td><td>55</td><td>2013-09-29 13:00:00</td></tr>\n",
              "\t<tr><td>2013</td><td>9</td><td>29</td><td>1639</td><td>1329</td><td>190</td><td>1857</td><td>1529</td><td>208</td><td>MQ</td><td>3340</td><td>N812MQ</td><td>LGA</td><td>DTW</td><td> 92</td><td> 502</td><td>13</td><td>29</td><td>2013-09-29 13:00:00</td></tr>\n",
              "\t<tr><td>2013</td><td>9</td><td>29</td><td>1745</td><td>1330</td><td>255</td><td>2028</td><td>1632</td><td>236</td><td>B6</td><td> 431</td><td>N517JB</td><td>LGA</td><td>SRQ</td><td>137</td><td>1047</td><td>13</td><td>30</td><td>2013-09-29 13:00:00</td></tr>\n",
              "\t<tr><td>2013</td><td>9</td><td>29</td><td>1801</td><td>1625</td><td> 96</td><td>2023</td><td>1841</td><td>102</td><td>UA</td><td> 485</td><td>N526UA</td><td>EWR</td><td>DEN</td><td>205</td><td>1605</td><td>16</td><td>25</td><td>2013-09-29 16:00:00</td></tr>\n",
              "\t<tr><td>2013</td><td>9</td><td>29</td><td>2049</td><td>1730</td><td>199</td><td>2153</td><td>1852</td><td>181</td><td>B6</td><td>  86</td><td>N373JB</td><td>JFK</td><td>ROC</td><td> 44</td><td> 264</td><td>17</td><td>30</td><td>2013-09-29 17:00:00</td></tr>\n",
              "\t<tr><td>2013</td><td>9</td><td>29</td><td>2245</td><td>2034</td><td>131</td><td>  27</td><td>2237</td><td>110</td><td>EV</td><td>4348</td><td>N11193</td><td>EWR</td><td>MSP</td><td>141</td><td>1008</td><td>20</td><td>34</td><td>2013-09-29 20:00:00</td></tr>\n",
              "\t<tr><td>2013</td><td>9</td><td>29</td><td>2253</td><td>2000</td><td>173</td><td> 121</td><td>2300</td><td>141</td><td>VX</td><td> 415</td><td>N628VA</td><td>JFK</td><td>LAX</td><td>303</td><td>2475</td><td>20</td><td> 0</td><td>2013-09-29 20:00:00</td></tr>\n",
              "\t<tr><td>2013</td><td>9</td><td>29</td><td>2324</td><td>2100</td><td>144</td><td>  39</td><td>2235</td><td>124</td><td>MQ</td><td>3317</td><td>N528MQ</td><td>LGA</td><td>RDU</td><td> 61</td><td> 431</td><td>21</td><td> 0</td><td>2013-09-29 21:00:00</td></tr>\n",
              "\t<tr><td>2013</td><td>9</td><td>29</td><td>2327</td><td>1942</td><td>225</td><td> 153</td><td>2250</td><td>183</td><td>B6</td><td>1271</td><td>N659JB</td><td>LGA</td><td>FLL</td><td>129</td><td>1076</td><td>19</td><td>42</td><td>2013-09-29 19:00:00</td></tr>\n",
              "\t<tr><td>2013</td><td>9</td><td>30</td><td> 827</td><td> 615</td><td>132</td><td>1022</td><td> 811</td><td>131</td><td>US</td><td>1772</td><td>N556UW</td><td>JFK</td><td>CLT</td><td> 91</td><td> 541</td><td> 6</td><td>15</td><td>2013-09-30 06:00:00</td></tr>\n",
              "\t<tr><td>2013</td><td>9</td><td>30</td><td> 858</td><td> 659</td><td>119</td><td>1139</td><td> 955</td><td>104</td><td>UA</td><td> 537</td><td>N421UA</td><td>EWR</td><td>PBI</td><td>130</td><td>1023</td><td> 6</td><td>59</td><td>2013-09-30 06:00:00</td></tr>\n",
              "\t<tr><td>2013</td><td>9</td><td>30</td><td> 944</td><td> 746</td><td>118</td><td>1137</td><td> 943</td><td>114</td><td>B6</td><td>1273</td><td>N249JB</td><td>JFK</td><td>CHS</td><td> 89</td><td> 636</td><td> 7</td><td>46</td><td>2013-09-30 07:00:00</td></tr>\n",
              "\t<tr><td>2013</td><td>9</td><td>30</td><td>1240</td><td>1015</td><td>145</td><td>1421</td><td>1212</td><td>129</td><td>US</td><td>2067</td><td>N102UW</td><td>JFK</td><td>CLT</td><td> 76</td><td> 541</td><td>10</td><td>15</td><td>2013-09-30 10:00:00</td></tr>\n",
              "\t<tr><td>2013</td><td>9</td><td>30</td><td>1324</td><td> 830</td><td>294</td><td>1512</td><td>1040</td><td>272</td><td>EV</td><td>5157</td><td>N761ND</td><td>LGA</td><td>CLT</td><td> 79</td><td> 544</td><td> 8</td><td>30</td><td>2013-09-30 08:00:00</td></tr>\n",
              "\t<tr><td>2013</td><td>9</td><td>30</td><td>1738</td><td>1529</td><td>129</td><td>1906</td><td>1649</td><td>137</td><td>EV</td><td>4580</td><td>N12563</td><td>EWR</td><td>MKE</td><td>110</td><td> 725</td><td>15</td><td>29</td><td>2013-09-30 15:00:00</td></tr>\n",
              "\t<tr><td>2013</td><td>9</td><td>30</td><td>1823</td><td>1545</td><td>158</td><td>1934</td><td>1733</td><td>121</td><td>9E</td><td>3459</td><td>N916XJ</td><td>JFK</td><td>BNA</td><td> 95</td><td> 765</td><td>15</td><td>45</td><td>2013-09-30 15:00:00</td></tr>\n",
              "\t<tr><td>2013</td><td>9</td><td>30</td><td>1943</td><td>1810</td><td> 93</td><td>2140</td><td>1955</td><td>105</td><td>MQ</td><td>3526</td><td>N724MQ</td><td>LGA</td><td>CMH</td><td> 72</td><td> 479</td><td>18</td><td>10</td><td>2013-09-30 18:00:00</td></tr>\n",
              "\t<tr><td>2013</td><td>9</td><td>30</td><td>1951</td><td>1649</td><td>182</td><td>2157</td><td>1903</td><td>174</td><td>EV</td><td>4294</td><td>N13988</td><td>EWR</td><td>SAV</td><td> 95</td><td> 708</td><td>16</td><td>49</td><td>2013-09-30 16:00:00</td></tr>\n",
              "\t<tr><td>2013</td><td>9</td><td>30</td><td>2053</td><td>1815</td><td>158</td><td>2310</td><td>2054</td><td>136</td><td>EV</td><td>5292</td><td>N600QX</td><td>EWR</td><td>ATL</td><td> 91</td><td> 746</td><td>18</td><td>15</td><td>2013-09-30 18:00:00</td></tr>\n",
              "\t<tr><td>2013</td><td>9</td><td>30</td><td>2159</td><td>1845</td><td>194</td><td>2344</td><td>2030</td><td>194</td><td>9E</td><td>3320</td><td>N906XJ</td><td>JFK</td><td>BUF</td><td> 50</td><td> 301</td><td>18</td><td>45</td><td>2013-09-30 18:00:00</td></tr>\n",
              "\t<tr><td>2013</td><td>9</td><td>30</td><td>2235</td><td>2001</td><td>154</td><td>  59</td><td>2249</td><td>130</td><td>B6</td><td>1083</td><td>N804JB</td><td>JFK</td><td>MCO</td><td>123</td><td> 944</td><td>20</td><td> 1</td><td>2013-09-30 20:00:00</td></tr>\n",
              "</tbody>\n",
              "</table>\n"
            ],
            "text/markdown": "\nA tibble: 13887 × 19\n\n| year &lt;int&gt; | month &lt;int&gt; | day &lt;int&gt; | dep_time &lt;int&gt; | sched_dep_time &lt;int&gt; | dep_delay &lt;dbl&gt; | arr_time &lt;int&gt; | sched_arr_time &lt;int&gt; | arr_delay &lt;dbl&gt; | carrier &lt;chr&gt; | flight &lt;int&gt; | tailnum &lt;chr&gt; | origin &lt;chr&gt; | dest &lt;chr&gt; | air_time &lt;dbl&gt; | distance &lt;dbl&gt; | hour &lt;dbl&gt; | minute &lt;dbl&gt; | time_hour &lt;dttm&gt; |\n|---|---|---|---|---|---|---|---|---|---|---|---|---|---|---|---|---|---|---|\n| 2013 | 1 | 1 |  811 |  630 | 101 | 1047 |  830 | 137 | MQ | 4576 | N531MQ | LGA | CLT | 118 |  544 |  6 | 30 | 2013-01-01 06:00:00 |\n| 2013 | 1 | 1 |  848 | 1835 | 853 | 1001 | 1950 | 851 | MQ | 3944 | N942MQ | JFK | BWI |  41 |  184 | 18 | 35 | 2013-01-01 18:00:00 |\n| 2013 | 1 | 1 |  957 |  733 | 144 | 1056 |  853 | 123 | UA |  856 | N534UA | EWR | BOS |  37 |  200 |  7 | 33 | 2013-01-01 07:00:00 |\n| 2013 | 1 | 1 | 1114 |  900 | 134 | 1447 | 1222 | 145 | UA | 1086 | N76502 | LGA | IAH | 248 | 1416 |  9 |  0 | 2013-01-01 09:00:00 |\n| 2013 | 1 | 1 | 1400 | 1250 |  70 | 1645 | 1502 | 103 | EV | 4869 | N748EV | LGA | MEM | 178 |  963 | 12 | 50 | 2013-01-01 12:00:00 |\n| 2013 | 1 | 1 | 1505 | 1310 | 115 | 1638 | 1431 | 127 | EV | 4497 | N17984 | EWR | RIC |  63 |  277 | 13 | 10 | 2013-01-01 13:00:00 |\n| 2013 | 1 | 1 | 1525 | 1340 | 105 | 1831 | 1626 | 125 | B6 |  525 | N231JB | EWR | MCO | 152 |  937 | 13 | 40 | 2013-01-01 13:00:00 |\n| 2013 | 1 | 1 | 1540 | 1338 | 122 | 2020 | 1825 | 115 | B6 |  705 | N570JB | JFK | SJU | 193 | 1598 | 13 | 38 | 2013-01-01 13:00:00 |\n| 2013 | 1 | 1 | 1549 | 1445 |  64 | 1912 | 1656 | 136 | EV | 4181 | N21197 | EWR | MCI | 234 | 1092 | 14 | 45 | 2013-01-01 14:00:00 |\n| 2013 | 1 | 1 | 1558 | 1359 | 119 | 1718 | 1515 | 123 | EV | 5712 | N826AS | JFK | IAD |  53 |  228 | 13 | 59 | 2013-01-01 13:00:00 |\n| 2013 | 1 | 1 | 1728 | 1600 |  88 | 2004 | 1817 | 107 | EV | 3843 | N13903 | EWR | SDF | 135 |  642 | 16 |  0 | 2013-01-01 16:00:00 |\n| 2013 | 1 | 1 | 1732 | 1630 |  62 | 2028 | 1825 | 123 | EV | 4092 | N16911 | EWR | DAY | 119 |  533 | 16 | 30 | 2013-01-01 16:00:00 |\n| 2013 | 1 | 1 | 1803 | 1620 | 103 | 2008 | 1750 | 138 | MQ | 4622 | N504MQ | LGA | BNA | 154 |  764 | 16 | 20 | 2013-01-01 16:00:00 |\n| 2013 | 1 | 1 | 1814 | 1700 |  74 | 2051 | 1855 | 116 | EV | 4202 | N19966 | EWR | STL | 177 |  872 | 17 |  0 | 2013-01-01 17:00:00 |\n| 2013 | 1 | 1 | 1815 | 1325 | 290 | 2120 | 1542 | 338 | EV | 4417 | N17185 | EWR | OMA | 213 | 1134 | 13 | 25 | 2013-01-01 13:00:00 |\n| 2013 | 1 | 1 | 1842 | 1422 | 260 | 1958 | 1535 | 263 | EV | 4633 | N18120 | EWR | BTV |  46 |  266 | 14 | 22 | 2013-01-01 14:00:00 |\n| 2013 | 1 | 1 | 1856 | 1645 | 131 | 2212 | 2005 | 127 | AA |  181 | N323AA | JFK | LAX | 336 | 2475 | 16 | 45 | 2013-01-01 16:00:00 |\n| 2013 | 1 | 1 | 1934 | 1725 | 129 | 2126 | 1855 | 151 | MQ | 4255 | N909MQ | JFK | BNA | 154 |  765 | 17 | 25 | 2013-01-01 17:00:00 |\n| 2013 | 1 | 1 | 1938 | 1703 | 155 | 2109 | 1823 | 166 | EV | 4300 | N18557 | EWR | RIC |  68 |  277 | 17 |  3 | 2013-01-01 17:00:00 |\n| 2013 | 1 | 1 | 1942 | 1705 | 157 | 2124 | 1830 | 174 | MQ | 4410 | N835MQ | JFK | DCA |  60 |  213 | 17 |  5 | 2013-01-01 17:00:00 |\n| 2013 | 1 | 1 | 2006 | 1630 | 216 | 2230 | 1848 | 222 | EV | 4644 | N14972 | EWR | SAV | 121 |  708 | 16 | 30 | 2013-01-01 16:00:00 |\n| 2013 | 1 | 1 | 2009 | 1808 | 121 | 2145 | 1942 | 123 | EV | 4440 | N14143 | EWR | PIT |  65 |  319 | 18 |  8 | 2013-01-01 18:00:00 |\n| 2013 | 1 | 1 | 2115 | 1700 | 255 | 2330 | 1920 | 250 | 9E | 3347 | N924XJ | JFK | CVG | 115 |  589 | 17 |  0 | 2013-01-01 17:00:00 |\n| 2013 | 1 | 1 | 2119 | 1930 | 109 | 2358 | 2136 | 142 | EV | 4543 | N13123 | EWR | DSM | 200 | 1017 | 19 | 30 | 2013-01-01 19:00:00 |\n| 2013 | 1 | 1 | 2205 | 1720 | 285 |   46 | 2040 | 246 | AA | 1999 | N5DNAA | EWR | MIA | 146 | 1085 | 17 | 20 | 2013-01-01 17:00:00 |\n| 2013 | 1 | 1 | 2221 | 2000 | 141 | 2331 | 2124 | 127 | EV | 4462 | N13566 | EWR | BUF |  56 |  282 | 20 |  0 | 2013-01-01 20:00:00 |\n| 2013 | 1 | 1 | 2312 | 2000 | 192 |   21 | 2110 | 191 | EV | 4312 | N13958 | EWR | DCA |  44 |  199 | 20 |  0 | 2013-01-01 20:00:00 |\n| 2013 | 1 | 1 | 2343 | 1724 | 379 |  314 | 1938 | 456 | EV | 4321 | N21197 | EWR | MCI | 222 | 1092 | 17 | 24 | 2013-01-01 17:00:00 |\n| 2013 | 1 | 2 |  126 | 2250 | 156 |  233 | 2359 | 154 | B6 |   22 | N636JB | JFK | SYR |  49 |  209 | 22 | 50 | 2013-01-02 22:00:00 |\n| 2013 | 1 | 2 |  817 |  630 | 107 | 1107 |  845 | 142 | EV | 4235 | N16546 | EWR | IND | 132 |  645 |  6 | 30 | 2013-01-02 06:00:00 |\n| ⋮ | ⋮ | ⋮ | ⋮ | ⋮ | ⋮ | ⋮ | ⋮ | ⋮ | ⋮ | ⋮ | ⋮ | ⋮ | ⋮ | ⋮ | ⋮ | ⋮ | ⋮ | ⋮ |\n| 2013 | 9 | 27 | 1713 | 1350 | 203 | 1838 | 1531 | 187 | EV | 5465 | N398CA | LGA | MSN | 111 |  812 | 13 | 50 | 2013-09-27 13:00:00 |\n| 2013 | 9 | 27 | 1809 | 1515 | 174 | 2026 | 1724 | 182 | EV | 4181 | N27200 | EWR | MCI | 149 | 1092 | 15 | 15 | 2013-09-27 15:00:00 |\n| 2013 | 9 | 27 | 2057 | 1842 | 135 | 2203 | 2019 | 104 | EV | 5274 | N720EV | LGA | BNA |  98 |  764 | 18 | 42 | 2013-09-27 18:00:00 |\n| 2013 | 9 | 28 | 1253 |  910 | 223 | 1422 | 1112 | 190 | EV | 5222 | N759EV | EWR | DTW |  74 |  488 |  9 | 10 | 2013-09-28 09:00:00 |\n| 2013 | 9 | 28 | 1458 | 1240 | 138 | 1633 | 1438 | 115 | EV | 5067 | N137EV | EWR | DTW |  71 |  488 | 12 | 40 | 2013-09-28 12:00:00 |\n| 2013 | 9 | 28 | 1726 | 1555 |  91 | 1946 | 1805 | 101 | MQ | 3075 | N658MQ | JFK | CVG |  93 |  589 | 15 | 55 | 2013-09-28 15:00:00 |\n| 2013 | 9 | 28 | 2017 | 1455 | 322 | 2154 | 1630 | 324 | MQ | 3231 | N812MQ | JFK | PIT |  66 |  340 | 14 | 55 | 2013-09-28 14:00:00 |\n| 2013 | 9 | 29 | 1336 | 1144 | 112 | 1611 | 1429 | 102 | UA | 1519 | N21108 | EWR | MCO | 128 |  937 | 11 | 44 | 2013-09-29 11:00:00 |\n| 2013 | 9 | 29 | 1435 | 1226 | 129 | 1552 | 1338 | 134 | UA |  252 | N431UA | EWR | BOS |  33 |  200 | 12 | 26 | 2013-09-29 12:00:00 |\n| 2013 | 9 | 29 | 1615 | 1355 | 140 | 1759 | 1542 | 137 | EV | 4100 | N11193 | EWR | MEM | 133 |  946 | 13 | 55 | 2013-09-29 13:00:00 |\n| 2013 | 9 | 29 | 1639 | 1329 | 190 | 1857 | 1529 | 208 | MQ | 3340 | N812MQ | LGA | DTW |  92 |  502 | 13 | 29 | 2013-09-29 13:00:00 |\n| 2013 | 9 | 29 | 1745 | 1330 | 255 | 2028 | 1632 | 236 | B6 |  431 | N517JB | LGA | SRQ | 137 | 1047 | 13 | 30 | 2013-09-29 13:00:00 |\n| 2013 | 9 | 29 | 1801 | 1625 |  96 | 2023 | 1841 | 102 | UA |  485 | N526UA | EWR | DEN | 205 | 1605 | 16 | 25 | 2013-09-29 16:00:00 |\n| 2013 | 9 | 29 | 2049 | 1730 | 199 | 2153 | 1852 | 181 | B6 |   86 | N373JB | JFK | ROC |  44 |  264 | 17 | 30 | 2013-09-29 17:00:00 |\n| 2013 | 9 | 29 | 2245 | 2034 | 131 |   27 | 2237 | 110 | EV | 4348 | N11193 | EWR | MSP | 141 | 1008 | 20 | 34 | 2013-09-29 20:00:00 |\n| 2013 | 9 | 29 | 2253 | 2000 | 173 |  121 | 2300 | 141 | VX |  415 | N628VA | JFK | LAX | 303 | 2475 | 20 |  0 | 2013-09-29 20:00:00 |\n| 2013 | 9 | 29 | 2324 | 2100 | 144 |   39 | 2235 | 124 | MQ | 3317 | N528MQ | LGA | RDU |  61 |  431 | 21 |  0 | 2013-09-29 21:00:00 |\n| 2013 | 9 | 29 | 2327 | 1942 | 225 |  153 | 2250 | 183 | B6 | 1271 | N659JB | LGA | FLL | 129 | 1076 | 19 | 42 | 2013-09-29 19:00:00 |\n| 2013 | 9 | 30 |  827 |  615 | 132 | 1022 |  811 | 131 | US | 1772 | N556UW | JFK | CLT |  91 |  541 |  6 | 15 | 2013-09-30 06:00:00 |\n| 2013 | 9 | 30 |  858 |  659 | 119 | 1139 |  955 | 104 | UA |  537 | N421UA | EWR | PBI | 130 | 1023 |  6 | 59 | 2013-09-30 06:00:00 |\n| 2013 | 9 | 30 |  944 |  746 | 118 | 1137 |  943 | 114 | B6 | 1273 | N249JB | JFK | CHS |  89 |  636 |  7 | 46 | 2013-09-30 07:00:00 |\n| 2013 | 9 | 30 | 1240 | 1015 | 145 | 1421 | 1212 | 129 | US | 2067 | N102UW | JFK | CLT |  76 |  541 | 10 | 15 | 2013-09-30 10:00:00 |\n| 2013 | 9 | 30 | 1324 |  830 | 294 | 1512 | 1040 | 272 | EV | 5157 | N761ND | LGA | CLT |  79 |  544 |  8 | 30 | 2013-09-30 08:00:00 |\n| 2013 | 9 | 30 | 1738 | 1529 | 129 | 1906 | 1649 | 137 | EV | 4580 | N12563 | EWR | MKE | 110 |  725 | 15 | 29 | 2013-09-30 15:00:00 |\n| 2013 | 9 | 30 | 1823 | 1545 | 158 | 1934 | 1733 | 121 | 9E | 3459 | N916XJ | JFK | BNA |  95 |  765 | 15 | 45 | 2013-09-30 15:00:00 |\n| 2013 | 9 | 30 | 1943 | 1810 |  93 | 2140 | 1955 | 105 | MQ | 3526 | N724MQ | LGA | CMH |  72 |  479 | 18 | 10 | 2013-09-30 18:00:00 |\n| 2013 | 9 | 30 | 1951 | 1649 | 182 | 2157 | 1903 | 174 | EV | 4294 | N13988 | EWR | SAV |  95 |  708 | 16 | 49 | 2013-09-30 16:00:00 |\n| 2013 | 9 | 30 | 2053 | 1815 | 158 | 2310 | 2054 | 136 | EV | 5292 | N600QX | EWR | ATL |  91 |  746 | 18 | 15 | 2013-09-30 18:00:00 |\n| 2013 | 9 | 30 | 2159 | 1845 | 194 | 2344 | 2030 | 194 | 9E | 3320 | N906XJ | JFK | BUF |  50 |  301 | 18 | 45 | 2013-09-30 18:00:00 |\n| 2013 | 9 | 30 | 2235 | 2001 | 154 |   59 | 2249 | 130 | B6 | 1083 | N804JB | JFK | MCO | 123 |  944 | 20 |  1 | 2013-09-30 20:00:00 |\n\n",
            "text/latex": "A tibble: 13887 × 19\n\\begin{tabular}{lllllllllllllllllll}\n year & month & day & dep\\_time & sched\\_dep\\_time & dep\\_delay & arr\\_time & sched\\_arr\\_time & arr\\_delay & carrier & flight & tailnum & origin & dest & air\\_time & distance & hour & minute & time\\_hour\\\\\n <int> & <int> & <int> & <int> & <int> & <dbl> & <int> & <int> & <dbl> & <chr> & <int> & <chr> & <chr> & <chr> & <dbl> & <dbl> & <dbl> & <dbl> & <dttm>\\\\\n\\hline\n\t 2013 & 1 & 1 &  811 &  630 & 101 & 1047 &  830 & 137 & MQ & 4576 & N531MQ & LGA & CLT & 118 &  544 &  6 & 30 & 2013-01-01 06:00:00\\\\\n\t 2013 & 1 & 1 &  848 & 1835 & 853 & 1001 & 1950 & 851 & MQ & 3944 & N942MQ & JFK & BWI &  41 &  184 & 18 & 35 & 2013-01-01 18:00:00\\\\\n\t 2013 & 1 & 1 &  957 &  733 & 144 & 1056 &  853 & 123 & UA &  856 & N534UA & EWR & BOS &  37 &  200 &  7 & 33 & 2013-01-01 07:00:00\\\\\n\t 2013 & 1 & 1 & 1114 &  900 & 134 & 1447 & 1222 & 145 & UA & 1086 & N76502 & LGA & IAH & 248 & 1416 &  9 &  0 & 2013-01-01 09:00:00\\\\\n\t 2013 & 1 & 1 & 1400 & 1250 &  70 & 1645 & 1502 & 103 & EV & 4869 & N748EV & LGA & MEM & 178 &  963 & 12 & 50 & 2013-01-01 12:00:00\\\\\n\t 2013 & 1 & 1 & 1505 & 1310 & 115 & 1638 & 1431 & 127 & EV & 4497 & N17984 & EWR & RIC &  63 &  277 & 13 & 10 & 2013-01-01 13:00:00\\\\\n\t 2013 & 1 & 1 & 1525 & 1340 & 105 & 1831 & 1626 & 125 & B6 &  525 & N231JB & EWR & MCO & 152 &  937 & 13 & 40 & 2013-01-01 13:00:00\\\\\n\t 2013 & 1 & 1 & 1540 & 1338 & 122 & 2020 & 1825 & 115 & B6 &  705 & N570JB & JFK & SJU & 193 & 1598 & 13 & 38 & 2013-01-01 13:00:00\\\\\n\t 2013 & 1 & 1 & 1549 & 1445 &  64 & 1912 & 1656 & 136 & EV & 4181 & N21197 & EWR & MCI & 234 & 1092 & 14 & 45 & 2013-01-01 14:00:00\\\\\n\t 2013 & 1 & 1 & 1558 & 1359 & 119 & 1718 & 1515 & 123 & EV & 5712 & N826AS & JFK & IAD &  53 &  228 & 13 & 59 & 2013-01-01 13:00:00\\\\\n\t 2013 & 1 & 1 & 1728 & 1600 &  88 & 2004 & 1817 & 107 & EV & 3843 & N13903 & EWR & SDF & 135 &  642 & 16 &  0 & 2013-01-01 16:00:00\\\\\n\t 2013 & 1 & 1 & 1732 & 1630 &  62 & 2028 & 1825 & 123 & EV & 4092 & N16911 & EWR & DAY & 119 &  533 & 16 & 30 & 2013-01-01 16:00:00\\\\\n\t 2013 & 1 & 1 & 1803 & 1620 & 103 & 2008 & 1750 & 138 & MQ & 4622 & N504MQ & LGA & BNA & 154 &  764 & 16 & 20 & 2013-01-01 16:00:00\\\\\n\t 2013 & 1 & 1 & 1814 & 1700 &  74 & 2051 & 1855 & 116 & EV & 4202 & N19966 & EWR & STL & 177 &  872 & 17 &  0 & 2013-01-01 17:00:00\\\\\n\t 2013 & 1 & 1 & 1815 & 1325 & 290 & 2120 & 1542 & 338 & EV & 4417 & N17185 & EWR & OMA & 213 & 1134 & 13 & 25 & 2013-01-01 13:00:00\\\\\n\t 2013 & 1 & 1 & 1842 & 1422 & 260 & 1958 & 1535 & 263 & EV & 4633 & N18120 & EWR & BTV &  46 &  266 & 14 & 22 & 2013-01-01 14:00:00\\\\\n\t 2013 & 1 & 1 & 1856 & 1645 & 131 & 2212 & 2005 & 127 & AA &  181 & N323AA & JFK & LAX & 336 & 2475 & 16 & 45 & 2013-01-01 16:00:00\\\\\n\t 2013 & 1 & 1 & 1934 & 1725 & 129 & 2126 & 1855 & 151 & MQ & 4255 & N909MQ & JFK & BNA & 154 &  765 & 17 & 25 & 2013-01-01 17:00:00\\\\\n\t 2013 & 1 & 1 & 1938 & 1703 & 155 & 2109 & 1823 & 166 & EV & 4300 & N18557 & EWR & RIC &  68 &  277 & 17 &  3 & 2013-01-01 17:00:00\\\\\n\t 2013 & 1 & 1 & 1942 & 1705 & 157 & 2124 & 1830 & 174 & MQ & 4410 & N835MQ & JFK & DCA &  60 &  213 & 17 &  5 & 2013-01-01 17:00:00\\\\\n\t 2013 & 1 & 1 & 2006 & 1630 & 216 & 2230 & 1848 & 222 & EV & 4644 & N14972 & EWR & SAV & 121 &  708 & 16 & 30 & 2013-01-01 16:00:00\\\\\n\t 2013 & 1 & 1 & 2009 & 1808 & 121 & 2145 & 1942 & 123 & EV & 4440 & N14143 & EWR & PIT &  65 &  319 & 18 &  8 & 2013-01-01 18:00:00\\\\\n\t 2013 & 1 & 1 & 2115 & 1700 & 255 & 2330 & 1920 & 250 & 9E & 3347 & N924XJ & JFK & CVG & 115 &  589 & 17 &  0 & 2013-01-01 17:00:00\\\\\n\t 2013 & 1 & 1 & 2119 & 1930 & 109 & 2358 & 2136 & 142 & EV & 4543 & N13123 & EWR & DSM & 200 & 1017 & 19 & 30 & 2013-01-01 19:00:00\\\\\n\t 2013 & 1 & 1 & 2205 & 1720 & 285 &   46 & 2040 & 246 & AA & 1999 & N5DNAA & EWR & MIA & 146 & 1085 & 17 & 20 & 2013-01-01 17:00:00\\\\\n\t 2013 & 1 & 1 & 2221 & 2000 & 141 & 2331 & 2124 & 127 & EV & 4462 & N13566 & EWR & BUF &  56 &  282 & 20 &  0 & 2013-01-01 20:00:00\\\\\n\t 2013 & 1 & 1 & 2312 & 2000 & 192 &   21 & 2110 & 191 & EV & 4312 & N13958 & EWR & DCA &  44 &  199 & 20 &  0 & 2013-01-01 20:00:00\\\\\n\t 2013 & 1 & 1 & 2343 & 1724 & 379 &  314 & 1938 & 456 & EV & 4321 & N21197 & EWR & MCI & 222 & 1092 & 17 & 24 & 2013-01-01 17:00:00\\\\\n\t 2013 & 1 & 2 &  126 & 2250 & 156 &  233 & 2359 & 154 & B6 &   22 & N636JB & JFK & SYR &  49 &  209 & 22 & 50 & 2013-01-02 22:00:00\\\\\n\t 2013 & 1 & 2 &  817 &  630 & 107 & 1107 &  845 & 142 & EV & 4235 & N16546 & EWR & IND & 132 &  645 &  6 & 30 & 2013-01-02 06:00:00\\\\\n\t ⋮ & ⋮ & ⋮ & ⋮ & ⋮ & ⋮ & ⋮ & ⋮ & ⋮ & ⋮ & ⋮ & ⋮ & ⋮ & ⋮ & ⋮ & ⋮ & ⋮ & ⋮ & ⋮\\\\\n\t 2013 & 9 & 27 & 1713 & 1350 & 203 & 1838 & 1531 & 187 & EV & 5465 & N398CA & LGA & MSN & 111 &  812 & 13 & 50 & 2013-09-27 13:00:00\\\\\n\t 2013 & 9 & 27 & 1809 & 1515 & 174 & 2026 & 1724 & 182 & EV & 4181 & N27200 & EWR & MCI & 149 & 1092 & 15 & 15 & 2013-09-27 15:00:00\\\\\n\t 2013 & 9 & 27 & 2057 & 1842 & 135 & 2203 & 2019 & 104 & EV & 5274 & N720EV & LGA & BNA &  98 &  764 & 18 & 42 & 2013-09-27 18:00:00\\\\\n\t 2013 & 9 & 28 & 1253 &  910 & 223 & 1422 & 1112 & 190 & EV & 5222 & N759EV & EWR & DTW &  74 &  488 &  9 & 10 & 2013-09-28 09:00:00\\\\\n\t 2013 & 9 & 28 & 1458 & 1240 & 138 & 1633 & 1438 & 115 & EV & 5067 & N137EV & EWR & DTW &  71 &  488 & 12 & 40 & 2013-09-28 12:00:00\\\\\n\t 2013 & 9 & 28 & 1726 & 1555 &  91 & 1946 & 1805 & 101 & MQ & 3075 & N658MQ & JFK & CVG &  93 &  589 & 15 & 55 & 2013-09-28 15:00:00\\\\\n\t 2013 & 9 & 28 & 2017 & 1455 & 322 & 2154 & 1630 & 324 & MQ & 3231 & N812MQ & JFK & PIT &  66 &  340 & 14 & 55 & 2013-09-28 14:00:00\\\\\n\t 2013 & 9 & 29 & 1336 & 1144 & 112 & 1611 & 1429 & 102 & UA & 1519 & N21108 & EWR & MCO & 128 &  937 & 11 & 44 & 2013-09-29 11:00:00\\\\\n\t 2013 & 9 & 29 & 1435 & 1226 & 129 & 1552 & 1338 & 134 & UA &  252 & N431UA & EWR & BOS &  33 &  200 & 12 & 26 & 2013-09-29 12:00:00\\\\\n\t 2013 & 9 & 29 & 1615 & 1355 & 140 & 1759 & 1542 & 137 & EV & 4100 & N11193 & EWR & MEM & 133 &  946 & 13 & 55 & 2013-09-29 13:00:00\\\\\n\t 2013 & 9 & 29 & 1639 & 1329 & 190 & 1857 & 1529 & 208 & MQ & 3340 & N812MQ & LGA & DTW &  92 &  502 & 13 & 29 & 2013-09-29 13:00:00\\\\\n\t 2013 & 9 & 29 & 1745 & 1330 & 255 & 2028 & 1632 & 236 & B6 &  431 & N517JB & LGA & SRQ & 137 & 1047 & 13 & 30 & 2013-09-29 13:00:00\\\\\n\t 2013 & 9 & 29 & 1801 & 1625 &  96 & 2023 & 1841 & 102 & UA &  485 & N526UA & EWR & DEN & 205 & 1605 & 16 & 25 & 2013-09-29 16:00:00\\\\\n\t 2013 & 9 & 29 & 2049 & 1730 & 199 & 2153 & 1852 & 181 & B6 &   86 & N373JB & JFK & ROC &  44 &  264 & 17 & 30 & 2013-09-29 17:00:00\\\\\n\t 2013 & 9 & 29 & 2245 & 2034 & 131 &   27 & 2237 & 110 & EV & 4348 & N11193 & EWR & MSP & 141 & 1008 & 20 & 34 & 2013-09-29 20:00:00\\\\\n\t 2013 & 9 & 29 & 2253 & 2000 & 173 &  121 & 2300 & 141 & VX &  415 & N628VA & JFK & LAX & 303 & 2475 & 20 &  0 & 2013-09-29 20:00:00\\\\\n\t 2013 & 9 & 29 & 2324 & 2100 & 144 &   39 & 2235 & 124 & MQ & 3317 & N528MQ & LGA & RDU &  61 &  431 & 21 &  0 & 2013-09-29 21:00:00\\\\\n\t 2013 & 9 & 29 & 2327 & 1942 & 225 &  153 & 2250 & 183 & B6 & 1271 & N659JB & LGA & FLL & 129 & 1076 & 19 & 42 & 2013-09-29 19:00:00\\\\\n\t 2013 & 9 & 30 &  827 &  615 & 132 & 1022 &  811 & 131 & US & 1772 & N556UW & JFK & CLT &  91 &  541 &  6 & 15 & 2013-09-30 06:00:00\\\\\n\t 2013 & 9 & 30 &  858 &  659 & 119 & 1139 &  955 & 104 & UA &  537 & N421UA & EWR & PBI & 130 & 1023 &  6 & 59 & 2013-09-30 06:00:00\\\\\n\t 2013 & 9 & 30 &  944 &  746 & 118 & 1137 &  943 & 114 & B6 & 1273 & N249JB & JFK & CHS &  89 &  636 &  7 & 46 & 2013-09-30 07:00:00\\\\\n\t 2013 & 9 & 30 & 1240 & 1015 & 145 & 1421 & 1212 & 129 & US & 2067 & N102UW & JFK & CLT &  76 &  541 & 10 & 15 & 2013-09-30 10:00:00\\\\\n\t 2013 & 9 & 30 & 1324 &  830 & 294 & 1512 & 1040 & 272 & EV & 5157 & N761ND & LGA & CLT &  79 &  544 &  8 & 30 & 2013-09-30 08:00:00\\\\\n\t 2013 & 9 & 30 & 1738 & 1529 & 129 & 1906 & 1649 & 137 & EV & 4580 & N12563 & EWR & MKE & 110 &  725 & 15 & 29 & 2013-09-30 15:00:00\\\\\n\t 2013 & 9 & 30 & 1823 & 1545 & 158 & 1934 & 1733 & 121 & 9E & 3459 & N916XJ & JFK & BNA &  95 &  765 & 15 & 45 & 2013-09-30 15:00:00\\\\\n\t 2013 & 9 & 30 & 1943 & 1810 &  93 & 2140 & 1955 & 105 & MQ & 3526 & N724MQ & LGA & CMH &  72 &  479 & 18 & 10 & 2013-09-30 18:00:00\\\\\n\t 2013 & 9 & 30 & 1951 & 1649 & 182 & 2157 & 1903 & 174 & EV & 4294 & N13988 & EWR & SAV &  95 &  708 & 16 & 49 & 2013-09-30 16:00:00\\\\\n\t 2013 & 9 & 30 & 2053 & 1815 & 158 & 2310 & 2054 & 136 & EV & 5292 & N600QX & EWR & ATL &  91 &  746 & 18 & 15 & 2013-09-30 18:00:00\\\\\n\t 2013 & 9 & 30 & 2159 & 1845 & 194 & 2344 & 2030 & 194 & 9E & 3320 & N906XJ & JFK & BUF &  50 &  301 & 18 & 45 & 2013-09-30 18:00:00\\\\\n\t 2013 & 9 & 30 & 2235 & 2001 & 154 &   59 & 2249 & 130 & B6 & 1083 & N804JB & JFK & MCO & 123 &  944 & 20 &  1 & 2013-09-30 20:00:00\\\\\n\\end{tabular}\n",
            "text/plain": [
              "      year month day dep_time sched_dep_time dep_delay arr_time sched_arr_time\n",
              "1     2013 1     1    811      630           101       1047      830          \n",
              "2     2013 1     1    848     1835           853       1001     1950          \n",
              "3     2013 1     1    957      733           144       1056      853          \n",
              "4     2013 1     1   1114      900           134       1447     1222          \n",
              "5     2013 1     1   1400     1250            70       1645     1502          \n",
              "6     2013 1     1   1505     1310           115       1638     1431          \n",
              "7     2013 1     1   1525     1340           105       1831     1626          \n",
              "8     2013 1     1   1540     1338           122       2020     1825          \n",
              "9     2013 1     1   1549     1445            64       1912     1656          \n",
              "10    2013 1     1   1558     1359           119       1718     1515          \n",
              "11    2013 1     1   1728     1600            88       2004     1817          \n",
              "12    2013 1     1   1732     1630            62       2028     1825          \n",
              "13    2013 1     1   1803     1620           103       2008     1750          \n",
              "14    2013 1     1   1814     1700            74       2051     1855          \n",
              "15    2013 1     1   1815     1325           290       2120     1542          \n",
              "16    2013 1     1   1842     1422           260       1958     1535          \n",
              "17    2013 1     1   1856     1645           131       2212     2005          \n",
              "18    2013 1     1   1934     1725           129       2126     1855          \n",
              "19    2013 1     1   1938     1703           155       2109     1823          \n",
              "20    2013 1     1   1942     1705           157       2124     1830          \n",
              "21    2013 1     1   2006     1630           216       2230     1848          \n",
              "22    2013 1     1   2009     1808           121       2145     1942          \n",
              "23    2013 1     1   2115     1700           255       2330     1920          \n",
              "24    2013 1     1   2119     1930           109       2358     2136          \n",
              "25    2013 1     1   2205     1720           285         46     2040          \n",
              "26    2013 1     1   2221     2000           141       2331     2124          \n",
              "27    2013 1     1   2312     2000           192         21     2110          \n",
              "28    2013 1     1   2343     1724           379        314     1938          \n",
              "29    2013 1     2    126     2250           156        233     2359          \n",
              "30    2013 1     2    817      630           107       1107      845          \n",
              "⋮     ⋮    ⋮     ⋮   ⋮        ⋮              ⋮         ⋮        ⋮             \n",
              "13858 2013 9     27  1713     1350           203       1838     1531          \n",
              "13859 2013 9     27  1809     1515           174       2026     1724          \n",
              "13860 2013 9     27  2057     1842           135       2203     2019          \n",
              "13861 2013 9     28  1253      910           223       1422     1112          \n",
              "13862 2013 9     28  1458     1240           138       1633     1438          \n",
              "13863 2013 9     28  1726     1555            91       1946     1805          \n",
              "13864 2013 9     28  2017     1455           322       2154     1630          \n",
              "13865 2013 9     29  1336     1144           112       1611     1429          \n",
              "13866 2013 9     29  1435     1226           129       1552     1338          \n",
              "13867 2013 9     29  1615     1355           140       1759     1542          \n",
              "13868 2013 9     29  1639     1329           190       1857     1529          \n",
              "13869 2013 9     29  1745     1330           255       2028     1632          \n",
              "13870 2013 9     29  1801     1625            96       2023     1841          \n",
              "13871 2013 9     29  2049     1730           199       2153     1852          \n",
              "13872 2013 9     29  2245     2034           131         27     2237          \n",
              "13873 2013 9     29  2253     2000           173        121     2300          \n",
              "13874 2013 9     29  2324     2100           144         39     2235          \n",
              "13875 2013 9     29  2327     1942           225        153     2250          \n",
              "13876 2013 9     30   827      615           132       1022      811          \n",
              "13877 2013 9     30   858      659           119       1139      955          \n",
              "13878 2013 9     30   944      746           118       1137      943          \n",
              "13879 2013 9     30  1240     1015           145       1421     1212          \n",
              "13880 2013 9     30  1324      830           294       1512     1040          \n",
              "13881 2013 9     30  1738     1529           129       1906     1649          \n",
              "13882 2013 9     30  1823     1545           158       1934     1733          \n",
              "13883 2013 9     30  1943     1810            93       2140     1955          \n",
              "13884 2013 9     30  1951     1649           182       2157     1903          \n",
              "13885 2013 9     30  2053     1815           158       2310     2054          \n",
              "13886 2013 9     30  2159     1845           194       2344     2030          \n",
              "13887 2013 9     30  2235     2001           154         59     2249          \n",
              "      arr_delay carrier flight tailnum origin dest air_time distance hour\n",
              "1     137       MQ      4576   N531MQ  LGA    CLT  118       544      6  \n",
              "2     851       MQ      3944   N942MQ  JFK    BWI   41       184     18  \n",
              "3     123       UA       856   N534UA  EWR    BOS   37       200      7  \n",
              "4     145       UA      1086   N76502  LGA    IAH  248      1416      9  \n",
              "5     103       EV      4869   N748EV  LGA    MEM  178       963     12  \n",
              "6     127       EV      4497   N17984  EWR    RIC   63       277     13  \n",
              "7     125       B6       525   N231JB  EWR    MCO  152       937     13  \n",
              "8     115       B6       705   N570JB  JFK    SJU  193      1598     13  \n",
              "9     136       EV      4181   N21197  EWR    MCI  234      1092     14  \n",
              "10    123       EV      5712   N826AS  JFK    IAD   53       228     13  \n",
              "11    107       EV      3843   N13903  EWR    SDF  135       642     16  \n",
              "12    123       EV      4092   N16911  EWR    DAY  119       533     16  \n",
              "13    138       MQ      4622   N504MQ  LGA    BNA  154       764     16  \n",
              "14    116       EV      4202   N19966  EWR    STL  177       872     17  \n",
              "15    338       EV      4417   N17185  EWR    OMA  213      1134     13  \n",
              "16    263       EV      4633   N18120  EWR    BTV   46       266     14  \n",
              "17    127       AA       181   N323AA  JFK    LAX  336      2475     16  \n",
              "18    151       MQ      4255   N909MQ  JFK    BNA  154       765     17  \n",
              "19    166       EV      4300   N18557  EWR    RIC   68       277     17  \n",
              "20    174       MQ      4410   N835MQ  JFK    DCA   60       213     17  \n",
              "21    222       EV      4644   N14972  EWR    SAV  121       708     16  \n",
              "22    123       EV      4440   N14143  EWR    PIT   65       319     18  \n",
              "23    250       9E      3347   N924XJ  JFK    CVG  115       589     17  \n",
              "24    142       EV      4543   N13123  EWR    DSM  200      1017     19  \n",
              "25    246       AA      1999   N5DNAA  EWR    MIA  146      1085     17  \n",
              "26    127       EV      4462   N13566  EWR    BUF   56       282     20  \n",
              "27    191       EV      4312   N13958  EWR    DCA   44       199     20  \n",
              "28    456       EV      4321   N21197  EWR    MCI  222      1092     17  \n",
              "29    154       B6        22   N636JB  JFK    SYR   49       209     22  \n",
              "30    142       EV      4235   N16546  EWR    IND  132       645      6  \n",
              "⋮     ⋮         ⋮       ⋮      ⋮       ⋮      ⋮    ⋮        ⋮        ⋮   \n",
              "13858 187       EV      5465   N398CA  LGA    MSN  111       812     13  \n",
              "13859 182       EV      4181   N27200  EWR    MCI  149      1092     15  \n",
              "13860 104       EV      5274   N720EV  LGA    BNA   98       764     18  \n",
              "13861 190       EV      5222   N759EV  EWR    DTW   74       488      9  \n",
              "13862 115       EV      5067   N137EV  EWR    DTW   71       488     12  \n",
              "13863 101       MQ      3075   N658MQ  JFK    CVG   93       589     15  \n",
              "13864 324       MQ      3231   N812MQ  JFK    PIT   66       340     14  \n",
              "13865 102       UA      1519   N21108  EWR    MCO  128       937     11  \n",
              "13866 134       UA       252   N431UA  EWR    BOS   33       200     12  \n",
              "13867 137       EV      4100   N11193  EWR    MEM  133       946     13  \n",
              "13868 208       MQ      3340   N812MQ  LGA    DTW   92       502     13  \n",
              "13869 236       B6       431   N517JB  LGA    SRQ  137      1047     13  \n",
              "13870 102       UA       485   N526UA  EWR    DEN  205      1605     16  \n",
              "13871 181       B6        86   N373JB  JFK    ROC   44       264     17  \n",
              "13872 110       EV      4348   N11193  EWR    MSP  141      1008     20  \n",
              "13873 141       VX       415   N628VA  JFK    LAX  303      2475     20  \n",
              "13874 124       MQ      3317   N528MQ  LGA    RDU   61       431     21  \n",
              "13875 183       B6      1271   N659JB  LGA    FLL  129      1076     19  \n",
              "13876 131       US      1772   N556UW  JFK    CLT   91       541      6  \n",
              "13877 104       UA       537   N421UA  EWR    PBI  130      1023      6  \n",
              "13878 114       B6      1273   N249JB  JFK    CHS   89       636      7  \n",
              "13879 129       US      2067   N102UW  JFK    CLT   76       541     10  \n",
              "13880 272       EV      5157   N761ND  LGA    CLT   79       544      8  \n",
              "13881 137       EV      4580   N12563  EWR    MKE  110       725     15  \n",
              "13882 121       9E      3459   N916XJ  JFK    BNA   95       765     15  \n",
              "13883 105       MQ      3526   N724MQ  LGA    CMH   72       479     18  \n",
              "13884 174       EV      4294   N13988  EWR    SAV   95       708     16  \n",
              "13885 136       EV      5292   N600QX  EWR    ATL   91       746     18  \n",
              "13886 194       9E      3320   N906XJ  JFK    BUF   50       301     18  \n",
              "13887 130       B6      1083   N804JB  JFK    MCO  123       944     20  \n",
              "      minute time_hour          \n",
              "1     30     2013-01-01 06:00:00\n",
              "2     35     2013-01-01 18:00:00\n",
              "3     33     2013-01-01 07:00:00\n",
              "4      0     2013-01-01 09:00:00\n",
              "5     50     2013-01-01 12:00:00\n",
              "6     10     2013-01-01 13:00:00\n",
              "7     40     2013-01-01 13:00:00\n",
              "8     38     2013-01-01 13:00:00\n",
              "9     45     2013-01-01 14:00:00\n",
              "10    59     2013-01-01 13:00:00\n",
              "11     0     2013-01-01 16:00:00\n",
              "12    30     2013-01-01 16:00:00\n",
              "13    20     2013-01-01 16:00:00\n",
              "14     0     2013-01-01 17:00:00\n",
              "15    25     2013-01-01 13:00:00\n",
              "16    22     2013-01-01 14:00:00\n",
              "17    45     2013-01-01 16:00:00\n",
              "18    25     2013-01-01 17:00:00\n",
              "19     3     2013-01-01 17:00:00\n",
              "20     5     2013-01-01 17:00:00\n",
              "21    30     2013-01-01 16:00:00\n",
              "22     8     2013-01-01 18:00:00\n",
              "23     0     2013-01-01 17:00:00\n",
              "24    30     2013-01-01 19:00:00\n",
              "25    20     2013-01-01 17:00:00\n",
              "26     0     2013-01-01 20:00:00\n",
              "27     0     2013-01-01 20:00:00\n",
              "28    24     2013-01-01 17:00:00\n",
              "29    50     2013-01-02 22:00:00\n",
              "30    30     2013-01-02 06:00:00\n",
              "⋮     ⋮      ⋮                  \n",
              "13858 50     2013-09-27 13:00:00\n",
              "13859 15     2013-09-27 15:00:00\n",
              "13860 42     2013-09-27 18:00:00\n",
              "13861 10     2013-09-28 09:00:00\n",
              "13862 40     2013-09-28 12:00:00\n",
              "13863 55     2013-09-28 15:00:00\n",
              "13864 55     2013-09-28 14:00:00\n",
              "13865 44     2013-09-29 11:00:00\n",
              "13866 26     2013-09-29 12:00:00\n",
              "13867 55     2013-09-29 13:00:00\n",
              "13868 29     2013-09-29 13:00:00\n",
              "13869 30     2013-09-29 13:00:00\n",
              "13870 25     2013-09-29 16:00:00\n",
              "13871 30     2013-09-29 17:00:00\n",
              "13872 34     2013-09-29 20:00:00\n",
              "13873  0     2013-09-29 20:00:00\n",
              "13874  0     2013-09-29 21:00:00\n",
              "13875 42     2013-09-29 19:00:00\n",
              "13876 15     2013-09-30 06:00:00\n",
              "13877 59     2013-09-30 06:00:00\n",
              "13878 46     2013-09-30 07:00:00\n",
              "13879 15     2013-09-30 10:00:00\n",
              "13880 30     2013-09-30 08:00:00\n",
              "13881 29     2013-09-30 15:00:00\n",
              "13882 45     2013-09-30 15:00:00\n",
              "13883 10     2013-09-30 18:00:00\n",
              "13884 49     2013-09-30 16:00:00\n",
              "13885 15     2013-09-30 18:00:00\n",
              "13886 45     2013-09-30 18:00:00\n",
              "13887  1     2013-09-30 20:00:00"
            ]
          },
          "metadata": {}
        }
      ],
      "source": [
        "filter(flights,arr_delay>100)"
      ]
    },
    {
      "cell_type": "markdown",
      "metadata": {
        "id": "6BOPb6Er0gVQ"
      },
      "source": [
        "Vuelos que llegaron temprano o sin retraso (con 0 o menos minutos)"
      ]
    },
    {
      "cell_type": "code",
      "execution_count": 40,
      "metadata": {
        "collapsed": true,
        "id": "6cwlmMhA0hNn",
        "outputId": "d37f7cf9-10f8-4824-c252-0e367905419f",
        "colab": {
          "base_uri": "https://localhost:8080/",
          "height": 1000
        }
      },
      "outputs": [
        {
          "output_type": "display_data",
          "data": {
            "text/html": [
              "<table class=\"dataframe\">\n",
              "<caption>A tibble: 194342 × 19</caption>\n",
              "<thead>\n",
              "\t<tr><th scope=col>year</th><th scope=col>month</th><th scope=col>day</th><th scope=col>dep_time</th><th scope=col>sched_dep_time</th><th scope=col>dep_delay</th><th scope=col>arr_time</th><th scope=col>sched_arr_time</th><th scope=col>arr_delay</th><th scope=col>carrier</th><th scope=col>flight</th><th scope=col>tailnum</th><th scope=col>origin</th><th scope=col>dest</th><th scope=col>air_time</th><th scope=col>distance</th><th scope=col>hour</th><th scope=col>minute</th><th scope=col>time_hour</th></tr>\n",
              "\t<tr><th scope=col>&lt;int&gt;</th><th scope=col>&lt;int&gt;</th><th scope=col>&lt;int&gt;</th><th scope=col>&lt;int&gt;</th><th scope=col>&lt;int&gt;</th><th scope=col>&lt;dbl&gt;</th><th scope=col>&lt;int&gt;</th><th scope=col>&lt;int&gt;</th><th scope=col>&lt;dbl&gt;</th><th scope=col>&lt;chr&gt;</th><th scope=col>&lt;int&gt;</th><th scope=col>&lt;chr&gt;</th><th scope=col>&lt;chr&gt;</th><th scope=col>&lt;chr&gt;</th><th scope=col>&lt;dbl&gt;</th><th scope=col>&lt;dbl&gt;</th><th scope=col>&lt;dbl&gt;</th><th scope=col>&lt;dbl&gt;</th><th scope=col>&lt;dttm&gt;</th></tr>\n",
              "</thead>\n",
              "<tbody>\n",
              "\t<tr><td>2013</td><td>1</td><td>1</td><td>544</td><td>545</td><td>-1</td><td>1004</td><td>1022</td><td>-18</td><td>B6</td><td> 725</td><td>N804JB</td><td>JFK</td><td>BQN</td><td>183</td><td>1576</td><td>5</td><td>45</td><td>2013-01-01 05:00:00</td></tr>\n",
              "\t<tr><td>2013</td><td>1</td><td>1</td><td>554</td><td>600</td><td>-6</td><td> 812</td><td> 837</td><td>-25</td><td>DL</td><td> 461</td><td>N668DN</td><td>LGA</td><td>ATL</td><td>116</td><td> 762</td><td>6</td><td> 0</td><td>2013-01-01 06:00:00</td></tr>\n",
              "\t<tr><td>2013</td><td>1</td><td>1</td><td>557</td><td>600</td><td>-3</td><td> 709</td><td> 723</td><td>-14</td><td>EV</td><td>5708</td><td>N829AS</td><td>LGA</td><td>IAD</td><td> 53</td><td> 229</td><td>6</td><td> 0</td><td>2013-01-01 06:00:00</td></tr>\n",
              "\t<tr><td>2013</td><td>1</td><td>1</td><td>557</td><td>600</td><td>-3</td><td> 838</td><td> 846</td><td> -8</td><td>B6</td><td>  79</td><td>N593JB</td><td>JFK</td><td>MCO</td><td>140</td><td> 944</td><td>6</td><td> 0</td><td>2013-01-01 06:00:00</td></tr>\n",
              "\t<tr><td>2013</td><td>1</td><td>1</td><td>558</td><td>600</td><td>-2</td><td> 849</td><td> 851</td><td> -2</td><td>B6</td><td>  49</td><td>N793JB</td><td>JFK</td><td>PBI</td><td>149</td><td>1028</td><td>6</td><td> 0</td><td>2013-01-01 06:00:00</td></tr>\n",
              "\t<tr><td>2013</td><td>1</td><td>1</td><td>558</td><td>600</td><td>-2</td><td> 853</td><td> 856</td><td> -3</td><td>B6</td><td>  71</td><td>N657JB</td><td>JFK</td><td>TPA</td><td>158</td><td>1005</td><td>6</td><td> 0</td><td>2013-01-01 06:00:00</td></tr>\n",
              "\t<tr><td>2013</td><td>1</td><td>1</td><td>558</td><td>600</td><td>-2</td><td> 923</td><td> 937</td><td>-14</td><td>UA</td><td>1124</td><td>N53441</td><td>EWR</td><td>SFO</td><td>361</td><td>2565</td><td>6</td><td> 0</td><td>2013-01-01 06:00:00</td></tr>\n",
              "\t<tr><td>2013</td><td>1</td><td>1</td><td>559</td><td>559</td><td> 0</td><td> 702</td><td> 706</td><td> -4</td><td>B6</td><td>1806</td><td>N708JB</td><td>JFK</td><td>BOS</td><td> 44</td><td> 187</td><td>5</td><td>59</td><td>2013-01-01 05:00:00</td></tr>\n",
              "\t<tr><td>2013</td><td>1</td><td>1</td><td>559</td><td>600</td><td>-1</td><td> 854</td><td> 902</td><td> -8</td><td>UA</td><td>1187</td><td>N76515</td><td>EWR</td><td>LAS</td><td>337</td><td>2227</td><td>6</td><td> 0</td><td>2013-01-01 06:00:00</td></tr>\n",
              "\t<tr><td>2013</td><td>1</td><td>1</td><td>600</td><td>600</td><td> 0</td><td> 851</td><td> 858</td><td> -7</td><td>B6</td><td> 371</td><td>N595JB</td><td>LGA</td><td>FLL</td><td>152</td><td>1076</td><td>6</td><td> 0</td><td>2013-01-01 06:00:00</td></tr>\n",
              "\t<tr><td>2013</td><td>1</td><td>1</td><td>601</td><td>600</td><td> 1</td><td> 844</td><td> 850</td><td> -6</td><td>B6</td><td> 343</td><td>N644JB</td><td>EWR</td><td>PBI</td><td>147</td><td>1023</td><td>6</td><td> 0</td><td>2013-01-01 06:00:00</td></tr>\n",
              "\t<tr><td>2013</td><td>1</td><td>1</td><td>602</td><td>610</td><td>-8</td><td> 812</td><td> 820</td><td> -8</td><td>DL</td><td>1919</td><td>N971DL</td><td>LGA</td><td>MSP</td><td>170</td><td>1020</td><td>6</td><td>10</td><td>2013-01-01 06:00:00</td></tr>\n",
              "\t<tr><td>2013</td><td>1</td><td>1</td><td>606</td><td>610</td><td>-4</td><td> 858</td><td> 910</td><td>-12</td><td>AA</td><td>1895</td><td>N633AA</td><td>EWR</td><td>MIA</td><td>152</td><td>1085</td><td>6</td><td>10</td><td>2013-01-01 06:00:00</td></tr>\n",
              "\t<tr><td>2013</td><td>1</td><td>1</td><td>606</td><td>610</td><td>-4</td><td> 837</td><td> 845</td><td> -8</td><td>DL</td><td>1743</td><td>N3739P</td><td>JFK</td><td>ATL</td><td>128</td><td> 760</td><td>6</td><td>10</td><td>2013-01-01 06:00:00</td></tr>\n",
              "\t<tr><td>2013</td><td>1</td><td>1</td><td>607</td><td>607</td><td> 0</td><td> 858</td><td> 915</td><td>-17</td><td>UA</td><td>1077</td><td>N53442</td><td>EWR</td><td>MIA</td><td>157</td><td>1085</td><td>6</td><td> 7</td><td>2013-01-01 06:00:00</td></tr>\n",
              "\t<tr><td>2013</td><td>1</td><td>1</td><td>615</td><td>615</td><td> 0</td><td>1039</td><td>1100</td><td>-21</td><td>B6</td><td> 709</td><td>N794JB</td><td>JFK</td><td>SJU</td><td>182</td><td>1598</td><td>6</td><td>15</td><td>2013-01-01 06:00:00</td></tr>\n",
              "\t<tr><td>2013</td><td>1</td><td>1</td><td>615</td><td>615</td><td> 0</td><td> 833</td><td> 842</td><td> -9</td><td>DL</td><td> 575</td><td>N326NB</td><td>EWR</td><td>ATL</td><td>120</td><td> 746</td><td>6</td><td>15</td><td>2013-01-01 06:00:00</td></tr>\n",
              "\t<tr><td>2013</td><td>1</td><td>1</td><td>627</td><td>630</td><td>-3</td><td>1018</td><td>1018</td><td>  0</td><td>US</td><td>  27</td><td>N535UW</td><td>JFK</td><td>PHX</td><td>330</td><td>2153</td><td>6</td><td>30</td><td>2013-01-01 06:00:00</td></tr>\n",
              "\t<tr><td>2013</td><td>1</td><td>1</td><td>628</td><td>630</td><td>-2</td><td>1137</td><td>1140</td><td> -3</td><td>AA</td><td> 413</td><td>N3BAAA</td><td>JFK</td><td>SJU</td><td>192</td><td>1598</td><td>6</td><td>30</td><td>2013-01-01 06:00:00</td></tr>\n",
              "\t<tr><td>2013</td><td>1</td><td>1</td><td>629</td><td>630</td><td>-1</td><td> 721</td><td> 740</td><td>-19</td><td>WN</td><td>4646</td><td>N273WN</td><td>LGA</td><td>BWI</td><td> 40</td><td> 185</td><td>6</td><td>30</td><td>2013-01-01 06:00:00</td></tr>\n",
              "\t<tr><td>2013</td><td>1</td><td>1</td><td>629</td><td>630</td><td>-1</td><td> 824</td><td> 833</td><td> -9</td><td>US</td><td>1019</td><td>N426US</td><td>EWR</td><td>CLT</td><td> 91</td><td> 529</td><td>6</td><td>30</td><td>2013-01-01 06:00:00</td></tr>\n",
              "\t<tr><td>2013</td><td>1</td><td>1</td><td>637</td><td>645</td><td>-8</td><td> 930</td><td> 935</td><td> -5</td><td>B6</td><td> 389</td><td>N709JB</td><td>LGA</td><td>MCO</td><td>144</td><td> 950</td><td>6</td><td>45</td><td>2013-01-01 06:00:00</td></tr>\n",
              "\t<tr><td>2013</td><td>1</td><td>1</td><td>639</td><td>640</td><td>-1</td><td> 739</td><td> 749</td><td>-10</td><td>B6</td><td>1002</td><td>N805JB</td><td>JFK</td><td>BOS</td><td> 41</td><td> 187</td><td>6</td><td>40</td><td>2013-01-01 06:00:00</td></tr>\n",
              "\t<tr><td>2013</td><td>1</td><td>1</td><td>643</td><td>646</td><td>-3</td><td> 922</td><td> 940</td><td>-18</td><td>UA</td><td> 556</td><td>N497UA</td><td>EWR</td><td>PBI</td><td>146</td><td>1023</td><td>6</td><td>46</td><td>2013-01-01 06:00:00</td></tr>\n",
              "\t<tr><td>2013</td><td>1</td><td>1</td><td>643</td><td>645</td><td>-2</td><td> 837</td><td> 848</td><td>-11</td><td>US</td><td> 926</td><td>N178US</td><td>EWR</td><td>CLT</td><td> 91</td><td> 529</td><td>6</td><td>45</td><td>2013-01-01 06:00:00</td></tr>\n",
              "\t<tr><td>2013</td><td>1</td><td>1</td><td>644</td><td>636</td><td> 8</td><td> 931</td><td> 940</td><td> -9</td><td>UA</td><td>1701</td><td>N75435</td><td>EWR</td><td>FLL</td><td>151</td><td>1065</td><td>6</td><td>36</td><td>2013-01-01 06:00:00</td></tr>\n",
              "\t<tr><td>2013</td><td>1</td><td>1</td><td>646</td><td>645</td><td> 1</td><td> 910</td><td> 916</td><td> -6</td><td>UA</td><td> 883</td><td>N569UA</td><td>LGA</td><td>DEN</td><td>243</td><td>1620</td><td>6</td><td>45</td><td>2013-01-01 06:00:00</td></tr>\n",
              "\t<tr><td>2013</td><td>1</td><td>1</td><td>646</td><td>645</td><td> 1</td><td>1023</td><td>1030</td><td> -7</td><td>UA</td><td>1496</td><td>N38727</td><td>EWR</td><td>SNA</td><td>380</td><td>2434</td><td>6</td><td>45</td><td>2013-01-01 06:00:00</td></tr>\n",
              "\t<tr><td>2013</td><td>1</td><td>1</td><td>651</td><td>655</td><td>-4</td><td> 936</td><td> 942</td><td> -6</td><td>B6</td><td> 203</td><td>N558JB</td><td>JFK</td><td>LAS</td><td>323</td><td>2248</td><td>6</td><td>55</td><td>2013-01-01 06:00:00</td></tr>\n",
              "\t<tr><td>2013</td><td>1</td><td>1</td><td>653</td><td>700</td><td>-7</td><td> 936</td><td>1009</td><td>-33</td><td>DL</td><td>1383</td><td>N327NW</td><td>LGA</td><td>PBI</td><td>149</td><td>1035</td><td>7</td><td> 0</td><td>2013-01-01 07:00:00</td></tr>\n",
              "\t<tr><td>⋮</td><td>⋮</td><td>⋮</td><td>⋮</td><td>⋮</td><td>⋮</td><td>⋮</td><td>⋮</td><td>⋮</td><td>⋮</td><td>⋮</td><td>⋮</td><td>⋮</td><td>⋮</td><td>⋮</td><td>⋮</td><td>⋮</td><td>⋮</td><td>⋮</td></tr>\n",
              "\t<tr><td>2013</td><td>9</td><td>30</td><td>2052</td><td>2059</td><td> -7</td><td>2315</td><td>2358</td><td>-43</td><td>UA</td><td>1416</td><td>N68453</td><td>EWR</td><td>MCO</td><td>123</td><td> 937</td><td>20</td><td>59</td><td>2013-09-30 20:00:00</td></tr>\n",
              "\t<tr><td>2013</td><td>9</td><td>30</td><td>2054</td><td>2056</td><td> -2</td><td>2249</td><td>2316</td><td>-27</td><td>EV</td><td>4397</td><td>N17146</td><td>EWR</td><td>MSY</td><td>142</td><td>1167</td><td>20</td><td>56</td><td>2013-09-30 20:00:00</td></tr>\n",
              "\t<tr><td>2013</td><td>9</td><td>30</td><td>2054</td><td>2100</td><td> -6</td><td>2240</td><td>2245</td><td> -5</td><td>MQ</td><td>3384</td><td>N528MQ</td><td>LGA</td><td>CLT</td><td> 70</td><td> 544</td><td>21</td><td> 0</td><td>2013-09-30 21:00:00</td></tr>\n",
              "\t<tr><td>2013</td><td>9</td><td>30</td><td>2055</td><td>2059</td><td> -4</td><td>2158</td><td>2211</td><td>-13</td><td>UA</td><td>1066</td><td>N16701</td><td>EWR</td><td>BOS</td><td> 40</td><td> 200</td><td>20</td><td>59</td><td>2013-09-30 20:00:00</td></tr>\n",
              "\t<tr><td>2013</td><td>9</td><td>30</td><td>2057</td><td>2100</td><td> -3</td><td>2149</td><td>2211</td><td>-22</td><td>US</td><td>2164</td><td>N953UW</td><td>LGA</td><td>BOS</td><td> 35</td><td> 184</td><td>21</td><td> 0</td><td>2013-09-30 21:00:00</td></tr>\n",
              "\t<tr><td>2013</td><td>9</td><td>30</td><td>2058</td><td>2105</td><td> -7</td><td>2217</td><td>2226</td><td> -9</td><td>EV</td><td>5815</td><td>N13978</td><td>EWR</td><td>RIC</td><td> 51</td><td> 277</td><td>21</td><td> 5</td><td>2013-09-30 21:00:00</td></tr>\n",
              "\t<tr><td>2013</td><td>9</td><td>30</td><td>2059</td><td>2108</td><td> -9</td><td>2253</td><td>2328</td><td>-35</td><td>B6</td><td> 775</td><td>N183JB</td><td>JFK</td><td>MSY</td><td>153</td><td>1182</td><td>21</td><td> 8</td><td>2013-09-30 21:00:00</td></tr>\n",
              "\t<tr><td>2013</td><td>9</td><td>30</td><td>2101</td><td>2110</td><td> -9</td><td>2232</td><td>2302</td><td>-30</td><td>EV</td><td>4885</td><td>N391CA</td><td>LGA</td><td>ILM</td><td> 67</td><td> 500</td><td>21</td><td>10</td><td>2013-09-30 21:00:00</td></tr>\n",
              "\t<tr><td>2013</td><td>9</td><td>30</td><td>2104</td><td>2110</td><td> -6</td><td>2323</td><td>2341</td><td>-18</td><td>EV</td><td>5811</td><td>N17560</td><td>EWR</td><td>JAX</td><td>112</td><td> 820</td><td>21</td><td>10</td><td>2013-09-30 21:00:00</td></tr>\n",
              "\t<tr><td>2013</td><td>9</td><td>30</td><td>2105</td><td>2106</td><td> -1</td><td>2329</td><td>2354</td><td>-25</td><td>UA</td><td> 475</td><td>N477UA</td><td>EWR</td><td>IAH</td><td>175</td><td>1400</td><td>21</td><td> 6</td><td>2013-09-30 21:00:00</td></tr>\n",
              "\t<tr><td>2013</td><td>9</td><td>30</td><td>2115</td><td>2110</td><td>  5</td><td>2246</td><td>2255</td><td> -9</td><td>MQ</td><td>3603</td><td>N519MQ</td><td>LGA</td><td>DTW</td><td> 72</td><td> 502</td><td>21</td><td>10</td><td>2013-09-30 21:00:00</td></tr>\n",
              "\t<tr><td>2013</td><td>9</td><td>30</td><td>2116</td><td>2124</td><td> -8</td><td>2317</td><td>2337</td><td>-20</td><td>EV</td><td>4682</td><td>N14542</td><td>EWR</td><td>SDF</td><td> 94</td><td> 642</td><td>21</td><td>24</td><td>2013-09-30 21:00:00</td></tr>\n",
              "\t<tr><td>2013</td><td>9</td><td>30</td><td>2119</td><td>2120</td><td> -1</td><td>2330</td><td>2354</td><td>-24</td><td>B6</td><td>1677</td><td>N358JB</td><td>JFK</td><td>JAX</td><td>113</td><td> 828</td><td>21</td><td>20</td><td>2013-09-30 21:00:00</td></tr>\n",
              "\t<tr><td>2013</td><td>9</td><td>30</td><td>2121</td><td>2100</td><td> 21</td><td>2349</td><td>  14</td><td>-25</td><td>DL</td><td>2363</td><td>N193DN</td><td>JFK</td><td>LAX</td><td>296</td><td>2475</td><td>21</td><td> 0</td><td>2013-09-30 21:00:00</td></tr>\n",
              "\t<tr><td>2013</td><td>9</td><td>30</td><td>2122</td><td>2127</td><td> -5</td><td>2226</td><td>2237</td><td>-11</td><td>EV</td><td>4372</td><td>N14902</td><td>EWR</td><td>DCA</td><td> 35</td><td> 199</td><td>21</td><td>27</td><td>2013-09-30 21:00:00</td></tr>\n",
              "\t<tr><td>2013</td><td>9</td><td>30</td><td>2123</td><td>2125</td><td> -2</td><td>2223</td><td>2247</td><td>-24</td><td>EV</td><td>5489</td><td>N712EV</td><td>LGA</td><td>CHO</td><td> 45</td><td> 305</td><td>21</td><td>25</td><td>2013-09-30 21:00:00</td></tr>\n",
              "\t<tr><td>2013</td><td>9</td><td>30</td><td>2127</td><td>2129</td><td> -2</td><td>2314</td><td>2323</td><td> -9</td><td>EV</td><td>3833</td><td>N16546</td><td>EWR</td><td>CLT</td><td> 72</td><td> 529</td><td>21</td><td>29</td><td>2013-09-30 21:00:00</td></tr>\n",
              "\t<tr><td>2013</td><td>9</td><td>30</td><td>2128</td><td>2130</td><td> -2</td><td>2328</td><td>2359</td><td>-31</td><td>B6</td><td>  97</td><td>N807JB</td><td>JFK</td><td>DEN</td><td>213</td><td>1626</td><td>21</td><td>30</td><td>2013-09-30 21:00:00</td></tr>\n",
              "\t<tr><td>2013</td><td>9</td><td>30</td><td>2129</td><td>2059</td><td> 30</td><td>2230</td><td>2232</td><td> -2</td><td>EV</td><td>5048</td><td>N751EV</td><td>LGA</td><td>RIC</td><td> 45</td><td> 292</td><td>20</td><td>59</td><td>2013-09-30 20:00:00</td></tr>\n",
              "\t<tr><td>2013</td><td>9</td><td>30</td><td>2131</td><td>2140</td><td> -9</td><td>2225</td><td>2255</td><td>-30</td><td>MQ</td><td>3621</td><td>N807MQ</td><td>JFK</td><td>DCA</td><td> 36</td><td> 213</td><td>21</td><td>40</td><td>2013-09-30 21:00:00</td></tr>\n",
              "\t<tr><td>2013</td><td>9</td><td>30</td><td>2140</td><td>2140</td><td>  0</td><td>  10</td><td>  40</td><td>-30</td><td>AA</td><td> 185</td><td>N335AA</td><td>JFK</td><td>LAX</td><td>298</td><td>2475</td><td>21</td><td>40</td><td>2013-09-30 21:00:00</td></tr>\n",
              "\t<tr><td>2013</td><td>9</td><td>30</td><td>2145</td><td>2145</td><td>  0</td><td> 115</td><td> 140</td><td>-25</td><td>B6</td><td>1103</td><td>N633JB</td><td>JFK</td><td>SJU</td><td>192</td><td>1598</td><td>21</td><td>45</td><td>2013-09-30 21:00:00</td></tr>\n",
              "\t<tr><td>2013</td><td>9</td><td>30</td><td>2149</td><td>2156</td><td> -7</td><td>2245</td><td>2308</td><td>-23</td><td>UA</td><td> 523</td><td>N813UA</td><td>EWR</td><td>BOS</td><td> 37</td><td> 200</td><td>21</td><td>56</td><td>2013-09-30 21:00:00</td></tr>\n",
              "\t<tr><td>2013</td><td>9</td><td>30</td><td>2150</td><td>2159</td><td> -9</td><td>2250</td><td>2306</td><td>-16</td><td>EV</td><td>3842</td><td>N10575</td><td>EWR</td><td>MHT</td><td> 39</td><td> 209</td><td>21</td><td>59</td><td>2013-09-30 21:00:00</td></tr>\n",
              "\t<tr><td>2013</td><td>9</td><td>30</td><td>2231</td><td>2245</td><td>-14</td><td>2335</td><td>2356</td><td>-21</td><td>B6</td><td> 108</td><td>N193JB</td><td>JFK</td><td>PWM</td><td> 48</td><td> 273</td><td>22</td><td>45</td><td>2013-09-30 22:00:00</td></tr>\n",
              "\t<tr><td>2013</td><td>9</td><td>30</td><td>2237</td><td>2245</td><td> -8</td><td>2345</td><td>2353</td><td> -8</td><td>B6</td><td> 234</td><td>N318JB</td><td>JFK</td><td>BTV</td><td> 43</td><td> 266</td><td>22</td><td>45</td><td>2013-09-30 22:00:00</td></tr>\n",
              "\t<tr><td>2013</td><td>9</td><td>30</td><td>2240</td><td>2245</td><td> -5</td><td>2334</td><td>2351</td><td>-17</td><td>B6</td><td>1816</td><td>N354JB</td><td>JFK</td><td>SYR</td><td> 41</td><td> 209</td><td>22</td><td>45</td><td>2013-09-30 22:00:00</td></tr>\n",
              "\t<tr><td>2013</td><td>9</td><td>30</td><td>2240</td><td>2250</td><td>-10</td><td>2347</td><td>   7</td><td>-20</td><td>B6</td><td>2002</td><td>N281JB</td><td>JFK</td><td>BUF</td><td> 52</td><td> 301</td><td>22</td><td>50</td><td>2013-09-30 22:00:00</td></tr>\n",
              "\t<tr><td>2013</td><td>9</td><td>30</td><td>2241</td><td>2246</td><td> -5</td><td>2345</td><td>   1</td><td>-16</td><td>B6</td><td> 486</td><td>N346JB</td><td>JFK</td><td>ROC</td><td> 47</td><td> 264</td><td>22</td><td>46</td><td>2013-09-30 22:00:00</td></tr>\n",
              "\t<tr><td>2013</td><td>9</td><td>30</td><td>2349</td><td>2359</td><td>-10</td><td> 325</td><td> 350</td><td>-25</td><td>B6</td><td> 745</td><td>N516JB</td><td>JFK</td><td>PSE</td><td>196</td><td>1617</td><td>23</td><td>59</td><td>2013-09-30 23:00:00</td></tr>\n",
              "</tbody>\n",
              "</table>\n"
            ],
            "text/markdown": "\nA tibble: 194342 × 19\n\n| year &lt;int&gt; | month &lt;int&gt; | day &lt;int&gt; | dep_time &lt;int&gt; | sched_dep_time &lt;int&gt; | dep_delay &lt;dbl&gt; | arr_time &lt;int&gt; | sched_arr_time &lt;int&gt; | arr_delay &lt;dbl&gt; | carrier &lt;chr&gt; | flight &lt;int&gt; | tailnum &lt;chr&gt; | origin &lt;chr&gt; | dest &lt;chr&gt; | air_time &lt;dbl&gt; | distance &lt;dbl&gt; | hour &lt;dbl&gt; | minute &lt;dbl&gt; | time_hour &lt;dttm&gt; |\n|---|---|---|---|---|---|---|---|---|---|---|---|---|---|---|---|---|---|---|\n| 2013 | 1 | 1 | 544 | 545 | -1 | 1004 | 1022 | -18 | B6 |  725 | N804JB | JFK | BQN | 183 | 1576 | 5 | 45 | 2013-01-01 05:00:00 |\n| 2013 | 1 | 1 | 554 | 600 | -6 |  812 |  837 | -25 | DL |  461 | N668DN | LGA | ATL | 116 |  762 | 6 |  0 | 2013-01-01 06:00:00 |\n| 2013 | 1 | 1 | 557 | 600 | -3 |  709 |  723 | -14 | EV | 5708 | N829AS | LGA | IAD |  53 |  229 | 6 |  0 | 2013-01-01 06:00:00 |\n| 2013 | 1 | 1 | 557 | 600 | -3 |  838 |  846 |  -8 | B6 |   79 | N593JB | JFK | MCO | 140 |  944 | 6 |  0 | 2013-01-01 06:00:00 |\n| 2013 | 1 | 1 | 558 | 600 | -2 |  849 |  851 |  -2 | B6 |   49 | N793JB | JFK | PBI | 149 | 1028 | 6 |  0 | 2013-01-01 06:00:00 |\n| 2013 | 1 | 1 | 558 | 600 | -2 |  853 |  856 |  -3 | B6 |   71 | N657JB | JFK | TPA | 158 | 1005 | 6 |  0 | 2013-01-01 06:00:00 |\n| 2013 | 1 | 1 | 558 | 600 | -2 |  923 |  937 | -14 | UA | 1124 | N53441 | EWR | SFO | 361 | 2565 | 6 |  0 | 2013-01-01 06:00:00 |\n| 2013 | 1 | 1 | 559 | 559 |  0 |  702 |  706 |  -4 | B6 | 1806 | N708JB | JFK | BOS |  44 |  187 | 5 | 59 | 2013-01-01 05:00:00 |\n| 2013 | 1 | 1 | 559 | 600 | -1 |  854 |  902 |  -8 | UA | 1187 | N76515 | EWR | LAS | 337 | 2227 | 6 |  0 | 2013-01-01 06:00:00 |\n| 2013 | 1 | 1 | 600 | 600 |  0 |  851 |  858 |  -7 | B6 |  371 | N595JB | LGA | FLL | 152 | 1076 | 6 |  0 | 2013-01-01 06:00:00 |\n| 2013 | 1 | 1 | 601 | 600 |  1 |  844 |  850 |  -6 | B6 |  343 | N644JB | EWR | PBI | 147 | 1023 | 6 |  0 | 2013-01-01 06:00:00 |\n| 2013 | 1 | 1 | 602 | 610 | -8 |  812 |  820 |  -8 | DL | 1919 | N971DL | LGA | MSP | 170 | 1020 | 6 | 10 | 2013-01-01 06:00:00 |\n| 2013 | 1 | 1 | 606 | 610 | -4 |  858 |  910 | -12 | AA | 1895 | N633AA | EWR | MIA | 152 | 1085 | 6 | 10 | 2013-01-01 06:00:00 |\n| 2013 | 1 | 1 | 606 | 610 | -4 |  837 |  845 |  -8 | DL | 1743 | N3739P | JFK | ATL | 128 |  760 | 6 | 10 | 2013-01-01 06:00:00 |\n| 2013 | 1 | 1 | 607 | 607 |  0 |  858 |  915 | -17 | UA | 1077 | N53442 | EWR | MIA | 157 | 1085 | 6 |  7 | 2013-01-01 06:00:00 |\n| 2013 | 1 | 1 | 615 | 615 |  0 | 1039 | 1100 | -21 | B6 |  709 | N794JB | JFK | SJU | 182 | 1598 | 6 | 15 | 2013-01-01 06:00:00 |\n| 2013 | 1 | 1 | 615 | 615 |  0 |  833 |  842 |  -9 | DL |  575 | N326NB | EWR | ATL | 120 |  746 | 6 | 15 | 2013-01-01 06:00:00 |\n| 2013 | 1 | 1 | 627 | 630 | -3 | 1018 | 1018 |   0 | US |   27 | N535UW | JFK | PHX | 330 | 2153 | 6 | 30 | 2013-01-01 06:00:00 |\n| 2013 | 1 | 1 | 628 | 630 | -2 | 1137 | 1140 |  -3 | AA |  413 | N3BAAA | JFK | SJU | 192 | 1598 | 6 | 30 | 2013-01-01 06:00:00 |\n| 2013 | 1 | 1 | 629 | 630 | -1 |  721 |  740 | -19 | WN | 4646 | N273WN | LGA | BWI |  40 |  185 | 6 | 30 | 2013-01-01 06:00:00 |\n| 2013 | 1 | 1 | 629 | 630 | -1 |  824 |  833 |  -9 | US | 1019 | N426US | EWR | CLT |  91 |  529 | 6 | 30 | 2013-01-01 06:00:00 |\n| 2013 | 1 | 1 | 637 | 645 | -8 |  930 |  935 |  -5 | B6 |  389 | N709JB | LGA | MCO | 144 |  950 | 6 | 45 | 2013-01-01 06:00:00 |\n| 2013 | 1 | 1 | 639 | 640 | -1 |  739 |  749 | -10 | B6 | 1002 | N805JB | JFK | BOS |  41 |  187 | 6 | 40 | 2013-01-01 06:00:00 |\n| 2013 | 1 | 1 | 643 | 646 | -3 |  922 |  940 | -18 | UA |  556 | N497UA | EWR | PBI | 146 | 1023 | 6 | 46 | 2013-01-01 06:00:00 |\n| 2013 | 1 | 1 | 643 | 645 | -2 |  837 |  848 | -11 | US |  926 | N178US | EWR | CLT |  91 |  529 | 6 | 45 | 2013-01-01 06:00:00 |\n| 2013 | 1 | 1 | 644 | 636 |  8 |  931 |  940 |  -9 | UA | 1701 | N75435 | EWR | FLL | 151 | 1065 | 6 | 36 | 2013-01-01 06:00:00 |\n| 2013 | 1 | 1 | 646 | 645 |  1 |  910 |  916 |  -6 | UA |  883 | N569UA | LGA | DEN | 243 | 1620 | 6 | 45 | 2013-01-01 06:00:00 |\n| 2013 | 1 | 1 | 646 | 645 |  1 | 1023 | 1030 |  -7 | UA | 1496 | N38727 | EWR | SNA | 380 | 2434 | 6 | 45 | 2013-01-01 06:00:00 |\n| 2013 | 1 | 1 | 651 | 655 | -4 |  936 |  942 |  -6 | B6 |  203 | N558JB | JFK | LAS | 323 | 2248 | 6 | 55 | 2013-01-01 06:00:00 |\n| 2013 | 1 | 1 | 653 | 700 | -7 |  936 | 1009 | -33 | DL | 1383 | N327NW | LGA | PBI | 149 | 1035 | 7 |  0 | 2013-01-01 07:00:00 |\n| ⋮ | ⋮ | ⋮ | ⋮ | ⋮ | ⋮ | ⋮ | ⋮ | ⋮ | ⋮ | ⋮ | ⋮ | ⋮ | ⋮ | ⋮ | ⋮ | ⋮ | ⋮ | ⋮ |\n| 2013 | 9 | 30 | 2052 | 2059 |  -7 | 2315 | 2358 | -43 | UA | 1416 | N68453 | EWR | MCO | 123 |  937 | 20 | 59 | 2013-09-30 20:00:00 |\n| 2013 | 9 | 30 | 2054 | 2056 |  -2 | 2249 | 2316 | -27 | EV | 4397 | N17146 | EWR | MSY | 142 | 1167 | 20 | 56 | 2013-09-30 20:00:00 |\n| 2013 | 9 | 30 | 2054 | 2100 |  -6 | 2240 | 2245 |  -5 | MQ | 3384 | N528MQ | LGA | CLT |  70 |  544 | 21 |  0 | 2013-09-30 21:00:00 |\n| 2013 | 9 | 30 | 2055 | 2059 |  -4 | 2158 | 2211 | -13 | UA | 1066 | N16701 | EWR | BOS |  40 |  200 | 20 | 59 | 2013-09-30 20:00:00 |\n| 2013 | 9 | 30 | 2057 | 2100 |  -3 | 2149 | 2211 | -22 | US | 2164 | N953UW | LGA | BOS |  35 |  184 | 21 |  0 | 2013-09-30 21:00:00 |\n| 2013 | 9 | 30 | 2058 | 2105 |  -7 | 2217 | 2226 |  -9 | EV | 5815 | N13978 | EWR | RIC |  51 |  277 | 21 |  5 | 2013-09-30 21:00:00 |\n| 2013 | 9 | 30 | 2059 | 2108 |  -9 | 2253 | 2328 | -35 | B6 |  775 | N183JB | JFK | MSY | 153 | 1182 | 21 |  8 | 2013-09-30 21:00:00 |\n| 2013 | 9 | 30 | 2101 | 2110 |  -9 | 2232 | 2302 | -30 | EV | 4885 | N391CA | LGA | ILM |  67 |  500 | 21 | 10 | 2013-09-30 21:00:00 |\n| 2013 | 9 | 30 | 2104 | 2110 |  -6 | 2323 | 2341 | -18 | EV | 5811 | N17560 | EWR | JAX | 112 |  820 | 21 | 10 | 2013-09-30 21:00:00 |\n| 2013 | 9 | 30 | 2105 | 2106 |  -1 | 2329 | 2354 | -25 | UA |  475 | N477UA | EWR | IAH | 175 | 1400 | 21 |  6 | 2013-09-30 21:00:00 |\n| 2013 | 9 | 30 | 2115 | 2110 |   5 | 2246 | 2255 |  -9 | MQ | 3603 | N519MQ | LGA | DTW |  72 |  502 | 21 | 10 | 2013-09-30 21:00:00 |\n| 2013 | 9 | 30 | 2116 | 2124 |  -8 | 2317 | 2337 | -20 | EV | 4682 | N14542 | EWR | SDF |  94 |  642 | 21 | 24 | 2013-09-30 21:00:00 |\n| 2013 | 9 | 30 | 2119 | 2120 |  -1 | 2330 | 2354 | -24 | B6 | 1677 | N358JB | JFK | JAX | 113 |  828 | 21 | 20 | 2013-09-30 21:00:00 |\n| 2013 | 9 | 30 | 2121 | 2100 |  21 | 2349 |   14 | -25 | DL | 2363 | N193DN | JFK | LAX | 296 | 2475 | 21 |  0 | 2013-09-30 21:00:00 |\n| 2013 | 9 | 30 | 2122 | 2127 |  -5 | 2226 | 2237 | -11 | EV | 4372 | N14902 | EWR | DCA |  35 |  199 | 21 | 27 | 2013-09-30 21:00:00 |\n| 2013 | 9 | 30 | 2123 | 2125 |  -2 | 2223 | 2247 | -24 | EV | 5489 | N712EV | LGA | CHO |  45 |  305 | 21 | 25 | 2013-09-30 21:00:00 |\n| 2013 | 9 | 30 | 2127 | 2129 |  -2 | 2314 | 2323 |  -9 | EV | 3833 | N16546 | EWR | CLT |  72 |  529 | 21 | 29 | 2013-09-30 21:00:00 |\n| 2013 | 9 | 30 | 2128 | 2130 |  -2 | 2328 | 2359 | -31 | B6 |   97 | N807JB | JFK | DEN | 213 | 1626 | 21 | 30 | 2013-09-30 21:00:00 |\n| 2013 | 9 | 30 | 2129 | 2059 |  30 | 2230 | 2232 |  -2 | EV | 5048 | N751EV | LGA | RIC |  45 |  292 | 20 | 59 | 2013-09-30 20:00:00 |\n| 2013 | 9 | 30 | 2131 | 2140 |  -9 | 2225 | 2255 | -30 | MQ | 3621 | N807MQ | JFK | DCA |  36 |  213 | 21 | 40 | 2013-09-30 21:00:00 |\n| 2013 | 9 | 30 | 2140 | 2140 |   0 |   10 |   40 | -30 | AA |  185 | N335AA | JFK | LAX | 298 | 2475 | 21 | 40 | 2013-09-30 21:00:00 |\n| 2013 | 9 | 30 | 2145 | 2145 |   0 |  115 |  140 | -25 | B6 | 1103 | N633JB | JFK | SJU | 192 | 1598 | 21 | 45 | 2013-09-30 21:00:00 |\n| 2013 | 9 | 30 | 2149 | 2156 |  -7 | 2245 | 2308 | -23 | UA |  523 | N813UA | EWR | BOS |  37 |  200 | 21 | 56 | 2013-09-30 21:00:00 |\n| 2013 | 9 | 30 | 2150 | 2159 |  -9 | 2250 | 2306 | -16 | EV | 3842 | N10575 | EWR | MHT |  39 |  209 | 21 | 59 | 2013-09-30 21:00:00 |\n| 2013 | 9 | 30 | 2231 | 2245 | -14 | 2335 | 2356 | -21 | B6 |  108 | N193JB | JFK | PWM |  48 |  273 | 22 | 45 | 2013-09-30 22:00:00 |\n| 2013 | 9 | 30 | 2237 | 2245 |  -8 | 2345 | 2353 |  -8 | B6 |  234 | N318JB | JFK | BTV |  43 |  266 | 22 | 45 | 2013-09-30 22:00:00 |\n| 2013 | 9 | 30 | 2240 | 2245 |  -5 | 2334 | 2351 | -17 | B6 | 1816 | N354JB | JFK | SYR |  41 |  209 | 22 | 45 | 2013-09-30 22:00:00 |\n| 2013 | 9 | 30 | 2240 | 2250 | -10 | 2347 |    7 | -20 | B6 | 2002 | N281JB | JFK | BUF |  52 |  301 | 22 | 50 | 2013-09-30 22:00:00 |\n| 2013 | 9 | 30 | 2241 | 2246 |  -5 | 2345 |    1 | -16 | B6 |  486 | N346JB | JFK | ROC |  47 |  264 | 22 | 46 | 2013-09-30 22:00:00 |\n| 2013 | 9 | 30 | 2349 | 2359 | -10 |  325 |  350 | -25 | B6 |  745 | N516JB | JFK | PSE | 196 | 1617 | 23 | 59 | 2013-09-30 23:00:00 |\n\n",
            "text/latex": "A tibble: 194342 × 19\n\\begin{tabular}{lllllllllllllllllll}\n year & month & day & dep\\_time & sched\\_dep\\_time & dep\\_delay & arr\\_time & sched\\_arr\\_time & arr\\_delay & carrier & flight & tailnum & origin & dest & air\\_time & distance & hour & minute & time\\_hour\\\\\n <int> & <int> & <int> & <int> & <int> & <dbl> & <int> & <int> & <dbl> & <chr> & <int> & <chr> & <chr> & <chr> & <dbl> & <dbl> & <dbl> & <dbl> & <dttm>\\\\\n\\hline\n\t 2013 & 1 & 1 & 544 & 545 & -1 & 1004 & 1022 & -18 & B6 &  725 & N804JB & JFK & BQN & 183 & 1576 & 5 & 45 & 2013-01-01 05:00:00\\\\\n\t 2013 & 1 & 1 & 554 & 600 & -6 &  812 &  837 & -25 & DL &  461 & N668DN & LGA & ATL & 116 &  762 & 6 &  0 & 2013-01-01 06:00:00\\\\\n\t 2013 & 1 & 1 & 557 & 600 & -3 &  709 &  723 & -14 & EV & 5708 & N829AS & LGA & IAD &  53 &  229 & 6 &  0 & 2013-01-01 06:00:00\\\\\n\t 2013 & 1 & 1 & 557 & 600 & -3 &  838 &  846 &  -8 & B6 &   79 & N593JB & JFK & MCO & 140 &  944 & 6 &  0 & 2013-01-01 06:00:00\\\\\n\t 2013 & 1 & 1 & 558 & 600 & -2 &  849 &  851 &  -2 & B6 &   49 & N793JB & JFK & PBI & 149 & 1028 & 6 &  0 & 2013-01-01 06:00:00\\\\\n\t 2013 & 1 & 1 & 558 & 600 & -2 &  853 &  856 &  -3 & B6 &   71 & N657JB & JFK & TPA & 158 & 1005 & 6 &  0 & 2013-01-01 06:00:00\\\\\n\t 2013 & 1 & 1 & 558 & 600 & -2 &  923 &  937 & -14 & UA & 1124 & N53441 & EWR & SFO & 361 & 2565 & 6 &  0 & 2013-01-01 06:00:00\\\\\n\t 2013 & 1 & 1 & 559 & 559 &  0 &  702 &  706 &  -4 & B6 & 1806 & N708JB & JFK & BOS &  44 &  187 & 5 & 59 & 2013-01-01 05:00:00\\\\\n\t 2013 & 1 & 1 & 559 & 600 & -1 &  854 &  902 &  -8 & UA & 1187 & N76515 & EWR & LAS & 337 & 2227 & 6 &  0 & 2013-01-01 06:00:00\\\\\n\t 2013 & 1 & 1 & 600 & 600 &  0 &  851 &  858 &  -7 & B6 &  371 & N595JB & LGA & FLL & 152 & 1076 & 6 &  0 & 2013-01-01 06:00:00\\\\\n\t 2013 & 1 & 1 & 601 & 600 &  1 &  844 &  850 &  -6 & B6 &  343 & N644JB & EWR & PBI & 147 & 1023 & 6 &  0 & 2013-01-01 06:00:00\\\\\n\t 2013 & 1 & 1 & 602 & 610 & -8 &  812 &  820 &  -8 & DL & 1919 & N971DL & LGA & MSP & 170 & 1020 & 6 & 10 & 2013-01-01 06:00:00\\\\\n\t 2013 & 1 & 1 & 606 & 610 & -4 &  858 &  910 & -12 & AA & 1895 & N633AA & EWR & MIA & 152 & 1085 & 6 & 10 & 2013-01-01 06:00:00\\\\\n\t 2013 & 1 & 1 & 606 & 610 & -4 &  837 &  845 &  -8 & DL & 1743 & N3739P & JFK & ATL & 128 &  760 & 6 & 10 & 2013-01-01 06:00:00\\\\\n\t 2013 & 1 & 1 & 607 & 607 &  0 &  858 &  915 & -17 & UA & 1077 & N53442 & EWR & MIA & 157 & 1085 & 6 &  7 & 2013-01-01 06:00:00\\\\\n\t 2013 & 1 & 1 & 615 & 615 &  0 & 1039 & 1100 & -21 & B6 &  709 & N794JB & JFK & SJU & 182 & 1598 & 6 & 15 & 2013-01-01 06:00:00\\\\\n\t 2013 & 1 & 1 & 615 & 615 &  0 &  833 &  842 &  -9 & DL &  575 & N326NB & EWR & ATL & 120 &  746 & 6 & 15 & 2013-01-01 06:00:00\\\\\n\t 2013 & 1 & 1 & 627 & 630 & -3 & 1018 & 1018 &   0 & US &   27 & N535UW & JFK & PHX & 330 & 2153 & 6 & 30 & 2013-01-01 06:00:00\\\\\n\t 2013 & 1 & 1 & 628 & 630 & -2 & 1137 & 1140 &  -3 & AA &  413 & N3BAAA & JFK & SJU & 192 & 1598 & 6 & 30 & 2013-01-01 06:00:00\\\\\n\t 2013 & 1 & 1 & 629 & 630 & -1 &  721 &  740 & -19 & WN & 4646 & N273WN & LGA & BWI &  40 &  185 & 6 & 30 & 2013-01-01 06:00:00\\\\\n\t 2013 & 1 & 1 & 629 & 630 & -1 &  824 &  833 &  -9 & US & 1019 & N426US & EWR & CLT &  91 &  529 & 6 & 30 & 2013-01-01 06:00:00\\\\\n\t 2013 & 1 & 1 & 637 & 645 & -8 &  930 &  935 &  -5 & B6 &  389 & N709JB & LGA & MCO & 144 &  950 & 6 & 45 & 2013-01-01 06:00:00\\\\\n\t 2013 & 1 & 1 & 639 & 640 & -1 &  739 &  749 & -10 & B6 & 1002 & N805JB & JFK & BOS &  41 &  187 & 6 & 40 & 2013-01-01 06:00:00\\\\\n\t 2013 & 1 & 1 & 643 & 646 & -3 &  922 &  940 & -18 & UA &  556 & N497UA & EWR & PBI & 146 & 1023 & 6 & 46 & 2013-01-01 06:00:00\\\\\n\t 2013 & 1 & 1 & 643 & 645 & -2 &  837 &  848 & -11 & US &  926 & N178US & EWR & CLT &  91 &  529 & 6 & 45 & 2013-01-01 06:00:00\\\\\n\t 2013 & 1 & 1 & 644 & 636 &  8 &  931 &  940 &  -9 & UA & 1701 & N75435 & EWR & FLL & 151 & 1065 & 6 & 36 & 2013-01-01 06:00:00\\\\\n\t 2013 & 1 & 1 & 646 & 645 &  1 &  910 &  916 &  -6 & UA &  883 & N569UA & LGA & DEN & 243 & 1620 & 6 & 45 & 2013-01-01 06:00:00\\\\\n\t 2013 & 1 & 1 & 646 & 645 &  1 & 1023 & 1030 &  -7 & UA & 1496 & N38727 & EWR & SNA & 380 & 2434 & 6 & 45 & 2013-01-01 06:00:00\\\\\n\t 2013 & 1 & 1 & 651 & 655 & -4 &  936 &  942 &  -6 & B6 &  203 & N558JB & JFK & LAS & 323 & 2248 & 6 & 55 & 2013-01-01 06:00:00\\\\\n\t 2013 & 1 & 1 & 653 & 700 & -7 &  936 & 1009 & -33 & DL & 1383 & N327NW & LGA & PBI & 149 & 1035 & 7 &  0 & 2013-01-01 07:00:00\\\\\n\t ⋮ & ⋮ & ⋮ & ⋮ & ⋮ & ⋮ & ⋮ & ⋮ & ⋮ & ⋮ & ⋮ & ⋮ & ⋮ & ⋮ & ⋮ & ⋮ & ⋮ & ⋮ & ⋮\\\\\n\t 2013 & 9 & 30 & 2052 & 2059 &  -7 & 2315 & 2358 & -43 & UA & 1416 & N68453 & EWR & MCO & 123 &  937 & 20 & 59 & 2013-09-30 20:00:00\\\\\n\t 2013 & 9 & 30 & 2054 & 2056 &  -2 & 2249 & 2316 & -27 & EV & 4397 & N17146 & EWR & MSY & 142 & 1167 & 20 & 56 & 2013-09-30 20:00:00\\\\\n\t 2013 & 9 & 30 & 2054 & 2100 &  -6 & 2240 & 2245 &  -5 & MQ & 3384 & N528MQ & LGA & CLT &  70 &  544 & 21 &  0 & 2013-09-30 21:00:00\\\\\n\t 2013 & 9 & 30 & 2055 & 2059 &  -4 & 2158 & 2211 & -13 & UA & 1066 & N16701 & EWR & BOS &  40 &  200 & 20 & 59 & 2013-09-30 20:00:00\\\\\n\t 2013 & 9 & 30 & 2057 & 2100 &  -3 & 2149 & 2211 & -22 & US & 2164 & N953UW & LGA & BOS &  35 &  184 & 21 &  0 & 2013-09-30 21:00:00\\\\\n\t 2013 & 9 & 30 & 2058 & 2105 &  -7 & 2217 & 2226 &  -9 & EV & 5815 & N13978 & EWR & RIC &  51 &  277 & 21 &  5 & 2013-09-30 21:00:00\\\\\n\t 2013 & 9 & 30 & 2059 & 2108 &  -9 & 2253 & 2328 & -35 & B6 &  775 & N183JB & JFK & MSY & 153 & 1182 & 21 &  8 & 2013-09-30 21:00:00\\\\\n\t 2013 & 9 & 30 & 2101 & 2110 &  -9 & 2232 & 2302 & -30 & EV & 4885 & N391CA & LGA & ILM &  67 &  500 & 21 & 10 & 2013-09-30 21:00:00\\\\\n\t 2013 & 9 & 30 & 2104 & 2110 &  -6 & 2323 & 2341 & -18 & EV & 5811 & N17560 & EWR & JAX & 112 &  820 & 21 & 10 & 2013-09-30 21:00:00\\\\\n\t 2013 & 9 & 30 & 2105 & 2106 &  -1 & 2329 & 2354 & -25 & UA &  475 & N477UA & EWR & IAH & 175 & 1400 & 21 &  6 & 2013-09-30 21:00:00\\\\\n\t 2013 & 9 & 30 & 2115 & 2110 &   5 & 2246 & 2255 &  -9 & MQ & 3603 & N519MQ & LGA & DTW &  72 &  502 & 21 & 10 & 2013-09-30 21:00:00\\\\\n\t 2013 & 9 & 30 & 2116 & 2124 &  -8 & 2317 & 2337 & -20 & EV & 4682 & N14542 & EWR & SDF &  94 &  642 & 21 & 24 & 2013-09-30 21:00:00\\\\\n\t 2013 & 9 & 30 & 2119 & 2120 &  -1 & 2330 & 2354 & -24 & B6 & 1677 & N358JB & JFK & JAX & 113 &  828 & 21 & 20 & 2013-09-30 21:00:00\\\\\n\t 2013 & 9 & 30 & 2121 & 2100 &  21 & 2349 &   14 & -25 & DL & 2363 & N193DN & JFK & LAX & 296 & 2475 & 21 &  0 & 2013-09-30 21:00:00\\\\\n\t 2013 & 9 & 30 & 2122 & 2127 &  -5 & 2226 & 2237 & -11 & EV & 4372 & N14902 & EWR & DCA &  35 &  199 & 21 & 27 & 2013-09-30 21:00:00\\\\\n\t 2013 & 9 & 30 & 2123 & 2125 &  -2 & 2223 & 2247 & -24 & EV & 5489 & N712EV & LGA & CHO &  45 &  305 & 21 & 25 & 2013-09-30 21:00:00\\\\\n\t 2013 & 9 & 30 & 2127 & 2129 &  -2 & 2314 & 2323 &  -9 & EV & 3833 & N16546 & EWR & CLT &  72 &  529 & 21 & 29 & 2013-09-30 21:00:00\\\\\n\t 2013 & 9 & 30 & 2128 & 2130 &  -2 & 2328 & 2359 & -31 & B6 &   97 & N807JB & JFK & DEN & 213 & 1626 & 21 & 30 & 2013-09-30 21:00:00\\\\\n\t 2013 & 9 & 30 & 2129 & 2059 &  30 & 2230 & 2232 &  -2 & EV & 5048 & N751EV & LGA & RIC &  45 &  292 & 20 & 59 & 2013-09-30 20:00:00\\\\\n\t 2013 & 9 & 30 & 2131 & 2140 &  -9 & 2225 & 2255 & -30 & MQ & 3621 & N807MQ & JFK & DCA &  36 &  213 & 21 & 40 & 2013-09-30 21:00:00\\\\\n\t 2013 & 9 & 30 & 2140 & 2140 &   0 &   10 &   40 & -30 & AA &  185 & N335AA & JFK & LAX & 298 & 2475 & 21 & 40 & 2013-09-30 21:00:00\\\\\n\t 2013 & 9 & 30 & 2145 & 2145 &   0 &  115 &  140 & -25 & B6 & 1103 & N633JB & JFK & SJU & 192 & 1598 & 21 & 45 & 2013-09-30 21:00:00\\\\\n\t 2013 & 9 & 30 & 2149 & 2156 &  -7 & 2245 & 2308 & -23 & UA &  523 & N813UA & EWR & BOS &  37 &  200 & 21 & 56 & 2013-09-30 21:00:00\\\\\n\t 2013 & 9 & 30 & 2150 & 2159 &  -9 & 2250 & 2306 & -16 & EV & 3842 & N10575 & EWR & MHT &  39 &  209 & 21 & 59 & 2013-09-30 21:00:00\\\\\n\t 2013 & 9 & 30 & 2231 & 2245 & -14 & 2335 & 2356 & -21 & B6 &  108 & N193JB & JFK & PWM &  48 &  273 & 22 & 45 & 2013-09-30 22:00:00\\\\\n\t 2013 & 9 & 30 & 2237 & 2245 &  -8 & 2345 & 2353 &  -8 & B6 &  234 & N318JB & JFK & BTV &  43 &  266 & 22 & 45 & 2013-09-30 22:00:00\\\\\n\t 2013 & 9 & 30 & 2240 & 2245 &  -5 & 2334 & 2351 & -17 & B6 & 1816 & N354JB & JFK & SYR &  41 &  209 & 22 & 45 & 2013-09-30 22:00:00\\\\\n\t 2013 & 9 & 30 & 2240 & 2250 & -10 & 2347 &    7 & -20 & B6 & 2002 & N281JB & JFK & BUF &  52 &  301 & 22 & 50 & 2013-09-30 22:00:00\\\\\n\t 2013 & 9 & 30 & 2241 & 2246 &  -5 & 2345 &    1 & -16 & B6 &  486 & N346JB & JFK & ROC &  47 &  264 & 22 & 46 & 2013-09-30 22:00:00\\\\\n\t 2013 & 9 & 30 & 2349 & 2359 & -10 &  325 &  350 & -25 & B6 &  745 & N516JB & JFK & PSE & 196 & 1617 & 23 & 59 & 2013-09-30 23:00:00\\\\\n\\end{tabular}\n",
            "text/plain": [
              "       year month day dep_time sched_dep_time dep_delay arr_time sched_arr_time\n",
              "1      2013 1     1   544      545            -1        1004     1022          \n",
              "2      2013 1     1   554      600            -6         812      837          \n",
              "3      2013 1     1   557      600            -3         709      723          \n",
              "4      2013 1     1   557      600            -3         838      846          \n",
              "5      2013 1     1   558      600            -2         849      851          \n",
              "6      2013 1     1   558      600            -2         853      856          \n",
              "7      2013 1     1   558      600            -2         923      937          \n",
              "8      2013 1     1   559      559             0         702      706          \n",
              "9      2013 1     1   559      600            -1         854      902          \n",
              "10     2013 1     1   600      600             0         851      858          \n",
              "11     2013 1     1   601      600             1         844      850          \n",
              "12     2013 1     1   602      610            -8         812      820          \n",
              "13     2013 1     1   606      610            -4         858      910          \n",
              "14     2013 1     1   606      610            -4         837      845          \n",
              "15     2013 1     1   607      607             0         858      915          \n",
              "16     2013 1     1   615      615             0        1039     1100          \n",
              "17     2013 1     1   615      615             0         833      842          \n",
              "18     2013 1     1   627      630            -3        1018     1018          \n",
              "19     2013 1     1   628      630            -2        1137     1140          \n",
              "20     2013 1     1   629      630            -1         721      740          \n",
              "21     2013 1     1   629      630            -1         824      833          \n",
              "22     2013 1     1   637      645            -8         930      935          \n",
              "23     2013 1     1   639      640            -1         739      749          \n",
              "24     2013 1     1   643      646            -3         922      940          \n",
              "25     2013 1     1   643      645            -2         837      848          \n",
              "26     2013 1     1   644      636             8         931      940          \n",
              "27     2013 1     1   646      645             1         910      916          \n",
              "28     2013 1     1   646      645             1        1023     1030          \n",
              "29     2013 1     1   651      655            -4         936      942          \n",
              "30     2013 1     1   653      700            -7         936     1009          \n",
              "⋮      ⋮    ⋮     ⋮   ⋮        ⋮              ⋮         ⋮        ⋮             \n",
              "194313 2013 9     30  2052     2059            -7       2315     2358          \n",
              "194314 2013 9     30  2054     2056            -2       2249     2316          \n",
              "194315 2013 9     30  2054     2100            -6       2240     2245          \n",
              "194316 2013 9     30  2055     2059            -4       2158     2211          \n",
              "194317 2013 9     30  2057     2100            -3       2149     2211          \n",
              "194318 2013 9     30  2058     2105            -7       2217     2226          \n",
              "194319 2013 9     30  2059     2108            -9       2253     2328          \n",
              "194320 2013 9     30  2101     2110            -9       2232     2302          \n",
              "194321 2013 9     30  2104     2110            -6       2323     2341          \n",
              "194322 2013 9     30  2105     2106            -1       2329     2354          \n",
              "194323 2013 9     30  2115     2110             5       2246     2255          \n",
              "194324 2013 9     30  2116     2124            -8       2317     2337          \n",
              "194325 2013 9     30  2119     2120            -1       2330     2354          \n",
              "194326 2013 9     30  2121     2100            21       2349       14          \n",
              "194327 2013 9     30  2122     2127            -5       2226     2237          \n",
              "194328 2013 9     30  2123     2125            -2       2223     2247          \n",
              "194329 2013 9     30  2127     2129            -2       2314     2323          \n",
              "194330 2013 9     30  2128     2130            -2       2328     2359          \n",
              "194331 2013 9     30  2129     2059            30       2230     2232          \n",
              "194332 2013 9     30  2131     2140            -9       2225     2255          \n",
              "194333 2013 9     30  2140     2140             0         10       40          \n",
              "194334 2013 9     30  2145     2145             0        115      140          \n",
              "194335 2013 9     30  2149     2156            -7       2245     2308          \n",
              "194336 2013 9     30  2150     2159            -9       2250     2306          \n",
              "194337 2013 9     30  2231     2245           -14       2335     2356          \n",
              "194338 2013 9     30  2237     2245            -8       2345     2353          \n",
              "194339 2013 9     30  2240     2245            -5       2334     2351          \n",
              "194340 2013 9     30  2240     2250           -10       2347        7          \n",
              "194341 2013 9     30  2241     2246            -5       2345        1          \n",
              "194342 2013 9     30  2349     2359           -10        325      350          \n",
              "       arr_delay carrier flight tailnum origin dest air_time distance hour\n",
              "1      -18       B6       725   N804JB  JFK    BQN  183      1576     5   \n",
              "2      -25       DL       461   N668DN  LGA    ATL  116       762     6   \n",
              "3      -14       EV      5708   N829AS  LGA    IAD   53       229     6   \n",
              "4       -8       B6        79   N593JB  JFK    MCO  140       944     6   \n",
              "5       -2       B6        49   N793JB  JFK    PBI  149      1028     6   \n",
              "6       -3       B6        71   N657JB  JFK    TPA  158      1005     6   \n",
              "7      -14       UA      1124   N53441  EWR    SFO  361      2565     6   \n",
              "8       -4       B6      1806   N708JB  JFK    BOS   44       187     5   \n",
              "9       -8       UA      1187   N76515  EWR    LAS  337      2227     6   \n",
              "10      -7       B6       371   N595JB  LGA    FLL  152      1076     6   \n",
              "11      -6       B6       343   N644JB  EWR    PBI  147      1023     6   \n",
              "12      -8       DL      1919   N971DL  LGA    MSP  170      1020     6   \n",
              "13     -12       AA      1895   N633AA  EWR    MIA  152      1085     6   \n",
              "14      -8       DL      1743   N3739P  JFK    ATL  128       760     6   \n",
              "15     -17       UA      1077   N53442  EWR    MIA  157      1085     6   \n",
              "16     -21       B6       709   N794JB  JFK    SJU  182      1598     6   \n",
              "17      -9       DL       575   N326NB  EWR    ATL  120       746     6   \n",
              "18       0       US        27   N535UW  JFK    PHX  330      2153     6   \n",
              "19      -3       AA       413   N3BAAA  JFK    SJU  192      1598     6   \n",
              "20     -19       WN      4646   N273WN  LGA    BWI   40       185     6   \n",
              "21      -9       US      1019   N426US  EWR    CLT   91       529     6   \n",
              "22      -5       B6       389   N709JB  LGA    MCO  144       950     6   \n",
              "23     -10       B6      1002   N805JB  JFK    BOS   41       187     6   \n",
              "24     -18       UA       556   N497UA  EWR    PBI  146      1023     6   \n",
              "25     -11       US       926   N178US  EWR    CLT   91       529     6   \n",
              "26      -9       UA      1701   N75435  EWR    FLL  151      1065     6   \n",
              "27      -6       UA       883   N569UA  LGA    DEN  243      1620     6   \n",
              "28      -7       UA      1496   N38727  EWR    SNA  380      2434     6   \n",
              "29      -6       B6       203   N558JB  JFK    LAS  323      2248     6   \n",
              "30     -33       DL      1383   N327NW  LGA    PBI  149      1035     7   \n",
              "⋮      ⋮         ⋮       ⋮      ⋮       ⋮      ⋮    ⋮        ⋮        ⋮   \n",
              "194313 -43       UA      1416   N68453  EWR    MCO  123       937     20  \n",
              "194314 -27       EV      4397   N17146  EWR    MSY  142      1167     20  \n",
              "194315  -5       MQ      3384   N528MQ  LGA    CLT   70       544     21  \n",
              "194316 -13       UA      1066   N16701  EWR    BOS   40       200     20  \n",
              "194317 -22       US      2164   N953UW  LGA    BOS   35       184     21  \n",
              "194318  -9       EV      5815   N13978  EWR    RIC   51       277     21  \n",
              "194319 -35       B6       775   N183JB  JFK    MSY  153      1182     21  \n",
              "194320 -30       EV      4885   N391CA  LGA    ILM   67       500     21  \n",
              "194321 -18       EV      5811   N17560  EWR    JAX  112       820     21  \n",
              "194322 -25       UA       475   N477UA  EWR    IAH  175      1400     21  \n",
              "194323  -9       MQ      3603   N519MQ  LGA    DTW   72       502     21  \n",
              "194324 -20       EV      4682   N14542  EWR    SDF   94       642     21  \n",
              "194325 -24       B6      1677   N358JB  JFK    JAX  113       828     21  \n",
              "194326 -25       DL      2363   N193DN  JFK    LAX  296      2475     21  \n",
              "194327 -11       EV      4372   N14902  EWR    DCA   35       199     21  \n",
              "194328 -24       EV      5489   N712EV  LGA    CHO   45       305     21  \n",
              "194329  -9       EV      3833   N16546  EWR    CLT   72       529     21  \n",
              "194330 -31       B6        97   N807JB  JFK    DEN  213      1626     21  \n",
              "194331  -2       EV      5048   N751EV  LGA    RIC   45       292     20  \n",
              "194332 -30       MQ      3621   N807MQ  JFK    DCA   36       213     21  \n",
              "194333 -30       AA       185   N335AA  JFK    LAX  298      2475     21  \n",
              "194334 -25       B6      1103   N633JB  JFK    SJU  192      1598     21  \n",
              "194335 -23       UA       523   N813UA  EWR    BOS   37       200     21  \n",
              "194336 -16       EV      3842   N10575  EWR    MHT   39       209     21  \n",
              "194337 -21       B6       108   N193JB  JFK    PWM   48       273     22  \n",
              "194338  -8       B6       234   N318JB  JFK    BTV   43       266     22  \n",
              "194339 -17       B6      1816   N354JB  JFK    SYR   41       209     22  \n",
              "194340 -20       B6      2002   N281JB  JFK    BUF   52       301     22  \n",
              "194341 -16       B6       486   N346JB  JFK    ROC   47       264     22  \n",
              "194342 -25       B6       745   N516JB  JFK    PSE  196      1617     23  \n",
              "       minute time_hour          \n",
              "1      45     2013-01-01 05:00:00\n",
              "2       0     2013-01-01 06:00:00\n",
              "3       0     2013-01-01 06:00:00\n",
              "4       0     2013-01-01 06:00:00\n",
              "5       0     2013-01-01 06:00:00\n",
              "6       0     2013-01-01 06:00:00\n",
              "7       0     2013-01-01 06:00:00\n",
              "8      59     2013-01-01 05:00:00\n",
              "9       0     2013-01-01 06:00:00\n",
              "10      0     2013-01-01 06:00:00\n",
              "11      0     2013-01-01 06:00:00\n",
              "12     10     2013-01-01 06:00:00\n",
              "13     10     2013-01-01 06:00:00\n",
              "14     10     2013-01-01 06:00:00\n",
              "15      7     2013-01-01 06:00:00\n",
              "16     15     2013-01-01 06:00:00\n",
              "17     15     2013-01-01 06:00:00\n",
              "18     30     2013-01-01 06:00:00\n",
              "19     30     2013-01-01 06:00:00\n",
              "20     30     2013-01-01 06:00:00\n",
              "21     30     2013-01-01 06:00:00\n",
              "22     45     2013-01-01 06:00:00\n",
              "23     40     2013-01-01 06:00:00\n",
              "24     46     2013-01-01 06:00:00\n",
              "25     45     2013-01-01 06:00:00\n",
              "26     36     2013-01-01 06:00:00\n",
              "27     45     2013-01-01 06:00:00\n",
              "28     45     2013-01-01 06:00:00\n",
              "29     55     2013-01-01 06:00:00\n",
              "30      0     2013-01-01 07:00:00\n",
              "⋮      ⋮      ⋮                  \n",
              "194313 59     2013-09-30 20:00:00\n",
              "194314 56     2013-09-30 20:00:00\n",
              "194315  0     2013-09-30 21:00:00\n",
              "194316 59     2013-09-30 20:00:00\n",
              "194317  0     2013-09-30 21:00:00\n",
              "194318  5     2013-09-30 21:00:00\n",
              "194319  8     2013-09-30 21:00:00\n",
              "194320 10     2013-09-30 21:00:00\n",
              "194321 10     2013-09-30 21:00:00\n",
              "194322  6     2013-09-30 21:00:00\n",
              "194323 10     2013-09-30 21:00:00\n",
              "194324 24     2013-09-30 21:00:00\n",
              "194325 20     2013-09-30 21:00:00\n",
              "194326  0     2013-09-30 21:00:00\n",
              "194327 27     2013-09-30 21:00:00\n",
              "194328 25     2013-09-30 21:00:00\n",
              "194329 29     2013-09-30 21:00:00\n",
              "194330 30     2013-09-30 21:00:00\n",
              "194331 59     2013-09-30 20:00:00\n",
              "194332 40     2013-09-30 21:00:00\n",
              "194333 40     2013-09-30 21:00:00\n",
              "194334 45     2013-09-30 21:00:00\n",
              "194335 56     2013-09-30 21:00:00\n",
              "194336 59     2013-09-30 21:00:00\n",
              "194337 45     2013-09-30 22:00:00\n",
              "194338 45     2013-09-30 22:00:00\n",
              "194339 45     2013-09-30 22:00:00\n",
              "194340 50     2013-09-30 22:00:00\n",
              "194341 46     2013-09-30 22:00:00\n",
              "194342 59     2013-09-30 23:00:00"
            ]
          },
          "metadata": {}
        }
      ],
      "source": [
        "filter(flights,arr_delay<=0)"
      ]
    },
    {
      "cell_type": "markdown",
      "metadata": {
        "id": "xDTF-1381402"
      },
      "source": [
        "Si nos preguntamos cuáles son los valores únicos de aeropuertos de salida y de llegada?"
      ]
    },
    {
      "cell_type": "code",
      "execution_count": 41,
      "metadata": {
        "collapsed": true,
        "id": "GQenhTO414jF",
        "outputId": "fd5bdd95-1584-4900-c116-41f4d8083ffe",
        "colab": {
          "base_uri": "https://localhost:8080/",
          "height": 34
        }
      },
      "outputs": [
        {
          "output_type": "display_data",
          "data": {
            "text/html": [
              "<style>\n",
              ".list-inline {list-style: none; margin:0; padding: 0}\n",
              ".list-inline>li {display: inline-block}\n",
              ".list-inline>li:not(:last-child)::after {content: \"\\00b7\"; padding: 0 .5ex}\n",
              "</style>\n",
              "<ol class=list-inline><li>'EWR'</li><li>'LGA'</li><li>'JFK'</li></ol>\n"
            ],
            "text/markdown": "1. 'EWR'\n2. 'LGA'\n3. 'JFK'\n\n\n",
            "text/latex": "\\begin{enumerate*}\n\\item 'EWR'\n\\item 'LGA'\n\\item 'JFK'\n\\end{enumerate*}\n",
            "text/plain": [
              "[1] \"EWR\" \"LGA\" \"JFK\""
            ]
          },
          "metadata": {}
        }
      ],
      "source": [
        "unique(flights$origin)"
      ]
    },
    {
      "cell_type": "code",
      "execution_count": 44,
      "metadata": {
        "id": "uwYrj-mt8lBk",
        "collapsed": true,
        "outputId": "f9e52b45-787b-4f16-9ebf-01c067c473fa",
        "colab": {
          "base_uri": "https://localhost:8080/",
          "height": 1000
        }
      },
      "outputs": [
        {
          "output_type": "display_data",
          "data": {
            "text/html": [
              "<table class=\"dataframe\">\n",
              "<caption>A tibble: 3 × 1</caption>\n",
              "<thead>\n",
              "\t<tr><th scope=col>origin</th></tr>\n",
              "\t<tr><th scope=col>&lt;chr&gt;</th></tr>\n",
              "</thead>\n",
              "<tbody>\n",
              "\t<tr><td>EWR</td></tr>\n",
              "\t<tr><td>LGA</td></tr>\n",
              "\t<tr><td>JFK</td></tr>\n",
              "</tbody>\n",
              "</table>\n"
            ],
            "text/markdown": "\nA tibble: 3 × 1\n\n| origin &lt;chr&gt; |\n|---|\n| EWR |\n| LGA |\n| JFK |\n\n",
            "text/latex": "A tibble: 3 × 1\n\\begin{tabular}{l}\n origin\\\\\n <chr>\\\\\n\\hline\n\t EWR\\\\\n\t LGA\\\\\n\t JFK\\\\\n\\end{tabular}\n",
            "text/plain": [
              "  origin\n",
              "1 EWR   \n",
              "2 LGA   \n",
              "3 JFK   "
            ]
          },
          "metadata": {}
        },
        {
          "output_type": "display_data",
          "data": {
            "text/html": [
              "<table class=\"dataframe\">\n",
              "<caption>A tibble: 105 × 1</caption>\n",
              "<thead>\n",
              "\t<tr><th scope=col>dest</th></tr>\n",
              "\t<tr><th scope=col>&lt;chr&gt;</th></tr>\n",
              "</thead>\n",
              "<tbody>\n",
              "\t<tr><td>IAH</td></tr>\n",
              "\t<tr><td>MIA</td></tr>\n",
              "\t<tr><td>BQN</td></tr>\n",
              "\t<tr><td>ATL</td></tr>\n",
              "\t<tr><td>ORD</td></tr>\n",
              "\t<tr><td>FLL</td></tr>\n",
              "\t<tr><td>IAD</td></tr>\n",
              "\t<tr><td>MCO</td></tr>\n",
              "\t<tr><td>PBI</td></tr>\n",
              "\t<tr><td>TPA</td></tr>\n",
              "\t<tr><td>LAX</td></tr>\n",
              "\t<tr><td>SFO</td></tr>\n",
              "\t<tr><td>DFW</td></tr>\n",
              "\t<tr><td>BOS</td></tr>\n",
              "\t<tr><td>LAS</td></tr>\n",
              "\t<tr><td>MSP</td></tr>\n",
              "\t<tr><td>DTW</td></tr>\n",
              "\t<tr><td>RSW</td></tr>\n",
              "\t<tr><td>SJU</td></tr>\n",
              "\t<tr><td>PHX</td></tr>\n",
              "\t<tr><td>BWI</td></tr>\n",
              "\t<tr><td>CLT</td></tr>\n",
              "\t<tr><td>BUF</td></tr>\n",
              "\t<tr><td>DEN</td></tr>\n",
              "\t<tr><td>SNA</td></tr>\n",
              "\t<tr><td>MSY</td></tr>\n",
              "\t<tr><td>SLC</td></tr>\n",
              "\t<tr><td>XNA</td></tr>\n",
              "\t<tr><td>MKE</td></tr>\n",
              "\t<tr><td>SEA</td></tr>\n",
              "\t<tr><td>⋮</td></tr>\n",
              "\t<tr><td>PDX</td></tr>\n",
              "\t<tr><td>SJC</td></tr>\n",
              "\t<tr><td>OMA</td></tr>\n",
              "\t<tr><td>CRW</td></tr>\n",
              "\t<tr><td>OAK</td></tr>\n",
              "\t<tr><td>SMF</td></tr>\n",
              "\t<tr><td>TUL</td></tr>\n",
              "\t<tr><td>TYS</td></tr>\n",
              "\t<tr><td>OKC</td></tr>\n",
              "\t<tr><td>PVD</td></tr>\n",
              "\t<tr><td>DSM</td></tr>\n",
              "\t<tr><td>PSE</td></tr>\n",
              "\t<tr><td>BHM</td></tr>\n",
              "\t<tr><td>CAE</td></tr>\n",
              "\t<tr><td>HDN</td></tr>\n",
              "\t<tr><td>BZN</td></tr>\n",
              "\t<tr><td>MTJ</td></tr>\n",
              "\t<tr><td>EYW</td></tr>\n",
              "\t<tr><td>PSP</td></tr>\n",
              "\t<tr><td>ACK</td></tr>\n",
              "\t<tr><td>BGR</td></tr>\n",
              "\t<tr><td>ABQ</td></tr>\n",
              "\t<tr><td>ILM</td></tr>\n",
              "\t<tr><td>MVY</td></tr>\n",
              "\t<tr><td>SBN</td></tr>\n",
              "\t<tr><td>LEX</td></tr>\n",
              "\t<tr><td>CHO</td></tr>\n",
              "\t<tr><td>TVC</td></tr>\n",
              "\t<tr><td>ANC</td></tr>\n",
              "\t<tr><td>LGA</td></tr>\n",
              "</tbody>\n",
              "</table>\n"
            ],
            "text/markdown": "\nA tibble: 105 × 1\n\n| dest &lt;chr&gt; |\n|---|\n| IAH |\n| MIA |\n| BQN |\n| ATL |\n| ORD |\n| FLL |\n| IAD |\n| MCO |\n| PBI |\n| TPA |\n| LAX |\n| SFO |\n| DFW |\n| BOS |\n| LAS |\n| MSP |\n| DTW |\n| RSW |\n| SJU |\n| PHX |\n| BWI |\n| CLT |\n| BUF |\n| DEN |\n| SNA |\n| MSY |\n| SLC |\n| XNA |\n| MKE |\n| SEA |\n| ⋮ |\n| PDX |\n| SJC |\n| OMA |\n| CRW |\n| OAK |\n| SMF |\n| TUL |\n| TYS |\n| OKC |\n| PVD |\n| DSM |\n| PSE |\n| BHM |\n| CAE |\n| HDN |\n| BZN |\n| MTJ |\n| EYW |\n| PSP |\n| ACK |\n| BGR |\n| ABQ |\n| ILM |\n| MVY |\n| SBN |\n| LEX |\n| CHO |\n| TVC |\n| ANC |\n| LGA |\n\n",
            "text/latex": "A tibble: 105 × 1\n\\begin{tabular}{l}\n dest\\\\\n <chr>\\\\\n\\hline\n\t IAH\\\\\n\t MIA\\\\\n\t BQN\\\\\n\t ATL\\\\\n\t ORD\\\\\n\t FLL\\\\\n\t IAD\\\\\n\t MCO\\\\\n\t PBI\\\\\n\t TPA\\\\\n\t LAX\\\\\n\t SFO\\\\\n\t DFW\\\\\n\t BOS\\\\\n\t LAS\\\\\n\t MSP\\\\\n\t DTW\\\\\n\t RSW\\\\\n\t SJU\\\\\n\t PHX\\\\\n\t BWI\\\\\n\t CLT\\\\\n\t BUF\\\\\n\t DEN\\\\\n\t SNA\\\\\n\t MSY\\\\\n\t SLC\\\\\n\t XNA\\\\\n\t MKE\\\\\n\t SEA\\\\\n\t ⋮\\\\\n\t PDX\\\\\n\t SJC\\\\\n\t OMA\\\\\n\t CRW\\\\\n\t OAK\\\\\n\t SMF\\\\\n\t TUL\\\\\n\t TYS\\\\\n\t OKC\\\\\n\t PVD\\\\\n\t DSM\\\\\n\t PSE\\\\\n\t BHM\\\\\n\t CAE\\\\\n\t HDN\\\\\n\t BZN\\\\\n\t MTJ\\\\\n\t EYW\\\\\n\t PSP\\\\\n\t ACK\\\\\n\t BGR\\\\\n\t ABQ\\\\\n\t ILM\\\\\n\t MVY\\\\\n\t SBN\\\\\n\t LEX\\\\\n\t CHO\\\\\n\t TVC\\\\\n\t ANC\\\\\n\t LGA\\\\\n\\end{tabular}\n",
            "text/plain": [
              "    dest\n",
              "1   IAH \n",
              "2   MIA \n",
              "3   BQN \n",
              "4   ATL \n",
              "5   ORD \n",
              "6   FLL \n",
              "7   IAD \n",
              "8   MCO \n",
              "9   PBI \n",
              "10  TPA \n",
              "11  LAX \n",
              "12  SFO \n",
              "13  DFW \n",
              "14  BOS \n",
              "15  LAS \n",
              "16  MSP \n",
              "17  DTW \n",
              "18  RSW \n",
              "19  SJU \n",
              "20  PHX \n",
              "21  BWI \n",
              "22  CLT \n",
              "23  BUF \n",
              "24  DEN \n",
              "25  SNA \n",
              "26  MSY \n",
              "27  SLC \n",
              "28  XNA \n",
              "29  MKE \n",
              "30  SEA \n",
              "⋮   ⋮   \n",
              "76  PDX \n",
              "77  SJC \n",
              "78  OMA \n",
              "79  CRW \n",
              "80  OAK \n",
              "81  SMF \n",
              "82  TUL \n",
              "83  TYS \n",
              "84  OKC \n",
              "85  PVD \n",
              "86  DSM \n",
              "87  PSE \n",
              "88  BHM \n",
              "89  CAE \n",
              "90  HDN \n",
              "91  BZN \n",
              "92  MTJ \n",
              "93  EYW \n",
              "94  PSP \n",
              "95  ACK \n",
              "96  BGR \n",
              "97  ABQ \n",
              "98  ILM \n",
              "99  MVY \n",
              "100 SBN \n",
              "101 LEX \n",
              "102 CHO \n",
              "103 TVC \n",
              "104 ANC \n",
              "105 LGA "
            ]
          },
          "metadata": {}
        }
      ],
      "source": [
        "distinct(flights,origin)\n",
        "distinct(flights,dest)"
      ]
    },
    {
      "cell_type": "markdown",
      "metadata": {
        "id": "Bgqpgds19acO"
      },
      "source": [
        "Vuelos que salieron desde JFK o LGA"
      ]
    },
    {
      "cell_type": "code",
      "execution_count": 50,
      "metadata": {
        "collapsed": true,
        "id": "jMDtXyma9bQJ",
        "outputId": "01d1c383-f353-4b37-8b96-4684c62d35b5",
        "colab": {
          "base_uri": "https://localhost:8080/",
          "height": 1000
        }
      },
      "outputs": [
        {
          "output_type": "display_data",
          "data": {
            "text/html": [
              "<table class=\"dataframe\">\n",
              "<caption>A tibble: 215941 × 19</caption>\n",
              "<thead>\n",
              "\t<tr><th scope=col>year</th><th scope=col>month</th><th scope=col>day</th><th scope=col>dep_time</th><th scope=col>sched_dep_time</th><th scope=col>dep_delay</th><th scope=col>arr_time</th><th scope=col>sched_arr_time</th><th scope=col>arr_delay</th><th scope=col>carrier</th><th scope=col>flight</th><th scope=col>tailnum</th><th scope=col>origin</th><th scope=col>dest</th><th scope=col>air_time</th><th scope=col>distance</th><th scope=col>hour</th><th scope=col>minute</th><th scope=col>time_hour</th></tr>\n",
              "\t<tr><th scope=col>&lt;int&gt;</th><th scope=col>&lt;int&gt;</th><th scope=col>&lt;int&gt;</th><th scope=col>&lt;int&gt;</th><th scope=col>&lt;int&gt;</th><th scope=col>&lt;dbl&gt;</th><th scope=col>&lt;int&gt;</th><th scope=col>&lt;int&gt;</th><th scope=col>&lt;dbl&gt;</th><th scope=col>&lt;chr&gt;</th><th scope=col>&lt;int&gt;</th><th scope=col>&lt;chr&gt;</th><th scope=col>&lt;chr&gt;</th><th scope=col>&lt;chr&gt;</th><th scope=col>&lt;dbl&gt;</th><th scope=col>&lt;dbl&gt;</th><th scope=col>&lt;dbl&gt;</th><th scope=col>&lt;dbl&gt;</th><th scope=col>&lt;dttm&gt;</th></tr>\n",
              "</thead>\n",
              "<tbody>\n",
              "\t<tr><td>2013</td><td>1</td><td>1</td><td>533</td><td>529</td><td> 4</td><td> 850</td><td> 830</td><td> 20</td><td>UA</td><td>1714</td><td>N24211</td><td>LGA</td><td>IAH</td><td>227</td><td>1416</td><td>5</td><td>29</td><td>2013-01-01 05:00:00</td></tr>\n",
              "\t<tr><td>2013</td><td>1</td><td>1</td><td>542</td><td>540</td><td> 2</td><td> 923</td><td> 850</td><td> 33</td><td>AA</td><td>1141</td><td>N619AA</td><td>JFK</td><td>MIA</td><td>160</td><td>1089</td><td>5</td><td>40</td><td>2013-01-01 05:00:00</td></tr>\n",
              "\t<tr><td>2013</td><td>1</td><td>1</td><td>544</td><td>545</td><td>-1</td><td>1004</td><td>1022</td><td>-18</td><td>B6</td><td> 725</td><td>N804JB</td><td>JFK</td><td>BQN</td><td>183</td><td>1576</td><td>5</td><td>45</td><td>2013-01-01 05:00:00</td></tr>\n",
              "\t<tr><td>2013</td><td>1</td><td>1</td><td>554</td><td>600</td><td>-6</td><td> 812</td><td> 837</td><td>-25</td><td>DL</td><td> 461</td><td>N668DN</td><td>LGA</td><td>ATL</td><td>116</td><td> 762</td><td>6</td><td> 0</td><td>2013-01-01 06:00:00</td></tr>\n",
              "\t<tr><td>2013</td><td>1</td><td>1</td><td>557</td><td>600</td><td>-3</td><td> 709</td><td> 723</td><td>-14</td><td>EV</td><td>5708</td><td>N829AS</td><td>LGA</td><td>IAD</td><td> 53</td><td> 229</td><td>6</td><td> 0</td><td>2013-01-01 06:00:00</td></tr>\n",
              "\t<tr><td>2013</td><td>1</td><td>1</td><td>557</td><td>600</td><td>-3</td><td> 838</td><td> 846</td><td> -8</td><td>B6</td><td>  79</td><td>N593JB</td><td>JFK</td><td>MCO</td><td>140</td><td> 944</td><td>6</td><td> 0</td><td>2013-01-01 06:00:00</td></tr>\n",
              "\t<tr><td>2013</td><td>1</td><td>1</td><td>558</td><td>600</td><td>-2</td><td> 753</td><td> 745</td><td>  8</td><td>AA</td><td> 301</td><td>N3ALAA</td><td>LGA</td><td>ORD</td><td>138</td><td> 733</td><td>6</td><td> 0</td><td>2013-01-01 06:00:00</td></tr>\n",
              "\t<tr><td>2013</td><td>1</td><td>1</td><td>558</td><td>600</td><td>-2</td><td> 849</td><td> 851</td><td> -2</td><td>B6</td><td>  49</td><td>N793JB</td><td>JFK</td><td>PBI</td><td>149</td><td>1028</td><td>6</td><td> 0</td><td>2013-01-01 06:00:00</td></tr>\n",
              "\t<tr><td>2013</td><td>1</td><td>1</td><td>558</td><td>600</td><td>-2</td><td> 853</td><td> 856</td><td> -3</td><td>B6</td><td>  71</td><td>N657JB</td><td>JFK</td><td>TPA</td><td>158</td><td>1005</td><td>6</td><td> 0</td><td>2013-01-01 06:00:00</td></tr>\n",
              "\t<tr><td>2013</td><td>1</td><td>1</td><td>558</td><td>600</td><td>-2</td><td> 924</td><td> 917</td><td>  7</td><td>UA</td><td> 194</td><td>N29129</td><td>JFK</td><td>LAX</td><td>345</td><td>2475</td><td>6</td><td> 0</td><td>2013-01-01 06:00:00</td></tr>\n",
              "\t<tr><td>2013</td><td>1</td><td>1</td><td>559</td><td>600</td><td>-1</td><td> 941</td><td> 910</td><td> 31</td><td>AA</td><td> 707</td><td>N3DUAA</td><td>LGA</td><td>DFW</td><td>257</td><td>1389</td><td>6</td><td> 0</td><td>2013-01-01 06:00:00</td></tr>\n",
              "\t<tr><td>2013</td><td>1</td><td>1</td><td>559</td><td>559</td><td> 0</td><td> 702</td><td> 706</td><td> -4</td><td>B6</td><td>1806</td><td>N708JB</td><td>JFK</td><td>BOS</td><td> 44</td><td> 187</td><td>5</td><td>59</td><td>2013-01-01 05:00:00</td></tr>\n",
              "\t<tr><td>2013</td><td>1</td><td>1</td><td>600</td><td>600</td><td> 0</td><td> 851</td><td> 858</td><td> -7</td><td>B6</td><td> 371</td><td>N595JB</td><td>LGA</td><td>FLL</td><td>152</td><td>1076</td><td>6</td><td> 0</td><td>2013-01-01 06:00:00</td></tr>\n",
              "\t<tr><td>2013</td><td>1</td><td>1</td><td>600</td><td>600</td><td> 0</td><td> 837</td><td> 825</td><td> 12</td><td>MQ</td><td>4650</td><td>N542MQ</td><td>LGA</td><td>ATL</td><td>134</td><td> 762</td><td>6</td><td> 0</td><td>2013-01-01 06:00:00</td></tr>\n",
              "\t<tr><td>2013</td><td>1</td><td>1</td><td>602</td><td>610</td><td>-8</td><td> 812</td><td> 820</td><td> -8</td><td>DL</td><td>1919</td><td>N971DL</td><td>LGA</td><td>MSP</td><td>170</td><td>1020</td><td>6</td><td>10</td><td>2013-01-01 06:00:00</td></tr>\n",
              "\t<tr><td>2013</td><td>1</td><td>1</td><td>602</td><td>605</td><td>-3</td><td> 821</td><td> 805</td><td> 16</td><td>MQ</td><td>4401</td><td>N730MQ</td><td>LGA</td><td>DTW</td><td>105</td><td> 502</td><td>6</td><td> 5</td><td>2013-01-01 06:00:00</td></tr>\n",
              "\t<tr><td>2013</td><td>1</td><td>1</td><td>606</td><td>610</td><td>-4</td><td> 837</td><td> 845</td><td> -8</td><td>DL</td><td>1743</td><td>N3739P</td><td>JFK</td><td>ATL</td><td>128</td><td> 760</td><td>6</td><td>10</td><td>2013-01-01 06:00:00</td></tr>\n",
              "\t<tr><td>2013</td><td>1</td><td>1</td><td>611</td><td>600</td><td>11</td><td> 945</td><td> 931</td><td> 14</td><td>UA</td><td> 303</td><td>N532UA</td><td>JFK</td><td>SFO</td><td>366</td><td>2586</td><td>6</td><td> 0</td><td>2013-01-01 06:00:00</td></tr>\n",
              "\t<tr><td>2013</td><td>1</td><td>1</td><td>613</td><td>610</td><td> 3</td><td> 925</td><td> 921</td><td>  4</td><td>B6</td><td> 135</td><td>N635JB</td><td>JFK</td><td>RSW</td><td>175</td><td>1074</td><td>6</td><td>10</td><td>2013-01-01 06:00:00</td></tr>\n",
              "\t<tr><td>2013</td><td>1</td><td>1</td><td>615</td><td>615</td><td> 0</td><td>1039</td><td>1100</td><td>-21</td><td>B6</td><td> 709</td><td>N794JB</td><td>JFK</td><td>SJU</td><td>182</td><td>1598</td><td>6</td><td>15</td><td>2013-01-01 06:00:00</td></tr>\n",
              "\t<tr><td>2013</td><td>1</td><td>1</td><td>623</td><td>610</td><td>13</td><td> 920</td><td> 915</td><td>  5</td><td>AA</td><td>1837</td><td>N3EMAA</td><td>LGA</td><td>MIA</td><td>153</td><td>1096</td><td>6</td><td>10</td><td>2013-01-01 06:00:00</td></tr>\n",
              "\t<tr><td>2013</td><td>1</td><td>1</td><td>623</td><td>627</td><td>-4</td><td> 933</td><td> 932</td><td>  1</td><td>UA</td><td> 496</td><td>N459UA</td><td>LGA</td><td>IAH</td><td>229</td><td>1416</td><td>6</td><td>27</td><td>2013-01-01 06:00:00</td></tr>\n",
              "\t<tr><td>2013</td><td>1</td><td>1</td><td>624</td><td>630</td><td>-6</td><td> 840</td><td> 830</td><td> 10</td><td>MQ</td><td>4599</td><td>N518MQ</td><td>LGA</td><td>MSP</td><td>166</td><td>1020</td><td>6</td><td>30</td><td>2013-01-01 06:00:00</td></tr>\n",
              "\t<tr><td>2013</td><td>1</td><td>1</td><td>627</td><td>630</td><td>-3</td><td>1018</td><td>1018</td><td>  0</td><td>US</td><td>  27</td><td>N535UW</td><td>JFK</td><td>PHX</td><td>330</td><td>2153</td><td>6</td><td>30</td><td>2013-01-01 06:00:00</td></tr>\n",
              "\t<tr><td>2013</td><td>1</td><td>1</td><td>628</td><td>630</td><td>-2</td><td>1137</td><td>1140</td><td> -3</td><td>AA</td><td> 413</td><td>N3BAAA</td><td>JFK</td><td>SJU</td><td>192</td><td>1598</td><td>6</td><td>30</td><td>2013-01-01 06:00:00</td></tr>\n",
              "\t<tr><td>2013</td><td>1</td><td>1</td><td>629</td><td>630</td><td>-1</td><td> 824</td><td> 810</td><td> 14</td><td>AA</td><td> 303</td><td>N3CYAA</td><td>LGA</td><td>ORD</td><td>140</td><td> 733</td><td>6</td><td>30</td><td>2013-01-01 06:00:00</td></tr>\n",
              "\t<tr><td>2013</td><td>1</td><td>1</td><td>629</td><td>630</td><td>-1</td><td> 721</td><td> 740</td><td>-19</td><td>WN</td><td>4646</td><td>N273WN</td><td>LGA</td><td>BWI</td><td> 40</td><td> 185</td><td>6</td><td>30</td><td>2013-01-01 06:00:00</td></tr>\n",
              "\t<tr><td>2013</td><td>1</td><td>1</td><td>635</td><td>635</td><td> 0</td><td>1028</td><td> 940</td><td> 48</td><td>AA</td><td> 711</td><td>N3GKAA</td><td>LGA</td><td>DFW</td><td>248</td><td>1389</td><td>6</td><td>35</td><td>2013-01-01 06:00:00</td></tr>\n",
              "\t<tr><td>2013</td><td>1</td><td>1</td><td>637</td><td>645</td><td>-8</td><td> 930</td><td> 935</td><td> -5</td><td>B6</td><td> 389</td><td>N709JB</td><td>LGA</td><td>MCO</td><td>144</td><td> 950</td><td>6</td><td>45</td><td>2013-01-01 06:00:00</td></tr>\n",
              "\t<tr><td>2013</td><td>1</td><td>1</td><td>639</td><td>640</td><td>-1</td><td> 739</td><td> 749</td><td>-10</td><td>B6</td><td>1002</td><td>N805JB</td><td>JFK</td><td>BOS</td><td> 41</td><td> 187</td><td>6</td><td>40</td><td>2013-01-01 06:00:00</td></tr>\n",
              "\t<tr><td>⋮</td><td>⋮</td><td>⋮</td><td>⋮</td><td>⋮</td><td>⋮</td><td>⋮</td><td>⋮</td><td>⋮</td><td>⋮</td><td>⋮</td><td>⋮</td><td>⋮</td><td>⋮</td><td>⋮</td><td>⋮</td><td>⋮</td><td>⋮</td><td>⋮</td></tr>\n",
              "\t<tr><td>2013</td><td>9</td><td>30</td><td>2101</td><td>2110</td><td> -9</td><td>2232</td><td>2302</td><td>-30</td><td>EV</td><td>4885</td><td>N391CA</td><td>LGA</td><td>ILM</td><td> 67</td><td> 500</td><td>21</td><td>10</td><td>2013-09-30 21:00:00</td></tr>\n",
              "\t<tr><td>2013</td><td>9</td><td>30</td><td>2104</td><td>2030</td><td> 34</td><td>2205</td><td>2150</td><td> 15</td><td>WN</td><td> 382</td><td>N7741C</td><td>LGA</td><td>MDW</td><td>105</td><td> 725</td><td>20</td><td>30</td><td>2013-09-30 20:00:00</td></tr>\n",
              "\t<tr><td>2013</td><td>9</td><td>30</td><td>2110</td><td>2055</td><td> 15</td><td>  51</td><td>2359</td><td> 52</td><td>B6</td><td>1205</td><td>N517JB</td><td>JFK</td><td>PDX</td><td>361</td><td>2454</td><td>20</td><td>55</td><td>2013-09-30 20:00:00</td></tr>\n",
              "\t<tr><td>2013</td><td>9</td><td>30</td><td>2115</td><td>2110</td><td>  5</td><td>2246</td><td>2255</td><td> -9</td><td>MQ</td><td>3603</td><td>N519MQ</td><td>LGA</td><td>DTW</td><td> 72</td><td> 502</td><td>21</td><td>10</td><td>2013-09-30 21:00:00</td></tr>\n",
              "\t<tr><td>2013</td><td>9</td><td>30</td><td>2119</td><td>2120</td><td> -1</td><td>2330</td><td>2354</td><td>-24</td><td>B6</td><td>1677</td><td>N358JB</td><td>JFK</td><td>JAX</td><td>113</td><td> 828</td><td>21</td><td>20</td><td>2013-09-30 21:00:00</td></tr>\n",
              "\t<tr><td>2013</td><td>9</td><td>30</td><td>2121</td><td>2100</td><td> 21</td><td>2349</td><td>  14</td><td>-25</td><td>DL</td><td>2363</td><td>N193DN</td><td>JFK</td><td>LAX</td><td>296</td><td>2475</td><td>21</td><td> 0</td><td>2013-09-30 21:00:00</td></tr>\n",
              "\t<tr><td>2013</td><td>9</td><td>30</td><td>2123</td><td>2125</td><td> -2</td><td>2223</td><td>2247</td><td>-24</td><td>EV</td><td>5489</td><td>N712EV</td><td>LGA</td><td>CHO</td><td> 45</td><td> 305</td><td>21</td><td>25</td><td>2013-09-30 21:00:00</td></tr>\n",
              "\t<tr><td>2013</td><td>9</td><td>30</td><td>2128</td><td>2130</td><td> -2</td><td>2328</td><td>2359</td><td>-31</td><td>B6</td><td>  97</td><td>N807JB</td><td>JFK</td><td>DEN</td><td>213</td><td>1626</td><td>21</td><td>30</td><td>2013-09-30 21:00:00</td></tr>\n",
              "\t<tr><td>2013</td><td>9</td><td>30</td><td>2129</td><td>2059</td><td> 30</td><td>2230</td><td>2232</td><td> -2</td><td>EV</td><td>5048</td><td>N751EV</td><td>LGA</td><td>RIC</td><td> 45</td><td> 292</td><td>20</td><td>59</td><td>2013-09-30 20:00:00</td></tr>\n",
              "\t<tr><td>2013</td><td>9</td><td>30</td><td>2131</td><td>2140</td><td> -9</td><td>2225</td><td>2255</td><td>-30</td><td>MQ</td><td>3621</td><td>N807MQ</td><td>JFK</td><td>DCA</td><td> 36</td><td> 213</td><td>21</td><td>40</td><td>2013-09-30 21:00:00</td></tr>\n",
              "\t<tr><td>2013</td><td>9</td><td>30</td><td>2140</td><td>2140</td><td>  0</td><td>  10</td><td>  40</td><td>-30</td><td>AA</td><td> 185</td><td>N335AA</td><td>JFK</td><td>LAX</td><td>298</td><td>2475</td><td>21</td><td>40</td><td>2013-09-30 21:00:00</td></tr>\n",
              "\t<tr><td>2013</td><td>9</td><td>30</td><td>2145</td><td>2145</td><td>  0</td><td> 115</td><td> 140</td><td>-25</td><td>B6</td><td>1103</td><td>N633JB</td><td>JFK</td><td>SJU</td><td>192</td><td>1598</td><td>21</td><td>45</td><td>2013-09-30 21:00:00</td></tr>\n",
              "\t<tr><td>2013</td><td>9</td><td>30</td><td>2147</td><td>2137</td><td> 10</td><td>  30</td><td>  27</td><td>  3</td><td>B6</td><td>1371</td><td>N627JB</td><td>LGA</td><td>FLL</td><td>139</td><td>1076</td><td>21</td><td>37</td><td>2013-09-30 21:00:00</td></tr>\n",
              "\t<tr><td>2013</td><td>9</td><td>30</td><td>2159</td><td>1845</td><td>194</td><td>2344</td><td>2030</td><td>194</td><td>9E</td><td>3320</td><td>N906XJ</td><td>JFK</td><td>BUF</td><td> 50</td><td> 301</td><td>18</td><td>45</td><td>2013-09-30 18:00:00</td></tr>\n",
              "\t<tr><td>2013</td><td>9</td><td>30</td><td>2203</td><td>2205</td><td> -2</td><td>2339</td><td>2331</td><td>  8</td><td>EV</td><td>5311</td><td>N722EV</td><td>LGA</td><td>BGR</td><td> 61</td><td> 378</td><td>22</td><td> 5</td><td>2013-09-30 22:00:00</td></tr>\n",
              "\t<tr><td>2013</td><td>9</td><td>30</td><td>2207</td><td>2140</td><td> 27</td><td>2257</td><td>2250</td><td>  7</td><td>MQ</td><td>3660</td><td>N532MQ</td><td>LGA</td><td>BNA</td><td> 97</td><td> 764</td><td>21</td><td>40</td><td>2013-09-30 21:00:00</td></tr>\n",
              "\t<tr><td>2013</td><td>9</td><td>30</td><td>2231</td><td>2245</td><td>-14</td><td>2335</td><td>2356</td><td>-21</td><td>B6</td><td> 108</td><td>N193JB</td><td>JFK</td><td>PWM</td><td> 48</td><td> 273</td><td>22</td><td>45</td><td>2013-09-30 22:00:00</td></tr>\n",
              "\t<tr><td>2013</td><td>9</td><td>30</td><td>2235</td><td>2001</td><td>154</td><td>  59</td><td>2249</td><td>130</td><td>B6</td><td>1083</td><td>N804JB</td><td>JFK</td><td>MCO</td><td>123</td><td> 944</td><td>20</td><td> 1</td><td>2013-09-30 20:00:00</td></tr>\n",
              "\t<tr><td>2013</td><td>9</td><td>30</td><td>2237</td><td>2245</td><td> -8</td><td>2345</td><td>2353</td><td> -8</td><td>B6</td><td> 234</td><td>N318JB</td><td>JFK</td><td>BTV</td><td> 43</td><td> 266</td><td>22</td><td>45</td><td>2013-09-30 22:00:00</td></tr>\n",
              "\t<tr><td>2013</td><td>9</td><td>30</td><td>2240</td><td>2245</td><td> -5</td><td>2334</td><td>2351</td><td>-17</td><td>B6</td><td>1816</td><td>N354JB</td><td>JFK</td><td>SYR</td><td> 41</td><td> 209</td><td>22</td><td>45</td><td>2013-09-30 22:00:00</td></tr>\n",
              "\t<tr><td>2013</td><td>9</td><td>30</td><td>2240</td><td>2250</td><td>-10</td><td>2347</td><td>   7</td><td>-20</td><td>B6</td><td>2002</td><td>N281JB</td><td>JFK</td><td>BUF</td><td> 52</td><td> 301</td><td>22</td><td>50</td><td>2013-09-30 22:00:00</td></tr>\n",
              "\t<tr><td>2013</td><td>9</td><td>30</td><td>2241</td><td>2246</td><td> -5</td><td>2345</td><td>   1</td><td>-16</td><td>B6</td><td> 486</td><td>N346JB</td><td>JFK</td><td>ROC</td><td> 47</td><td> 264</td><td>22</td><td>46</td><td>2013-09-30 22:00:00</td></tr>\n",
              "\t<tr><td>2013</td><td>9</td><td>30</td><td>2307</td><td>2255</td><td> 12</td><td>2359</td><td>2358</td><td>  1</td><td>B6</td><td> 718</td><td>N565JB</td><td>JFK</td><td>BOS</td><td> 33</td><td> 187</td><td>22</td><td>55</td><td>2013-09-30 22:00:00</td></tr>\n",
              "\t<tr><td>2013</td><td>9</td><td>30</td><td>2349</td><td>2359</td><td>-10</td><td> 325</td><td> 350</td><td>-25</td><td>B6</td><td> 745</td><td>N516JB</td><td>JFK</td><td>PSE</td><td>196</td><td>1617</td><td>23</td><td>59</td><td>2013-09-30 23:00:00</td></tr>\n",
              "\t<tr><td>2013</td><td>9</td><td>30</td><td>  NA</td><td>1842</td><td> NA</td><td>  NA</td><td>2019</td><td> NA</td><td>EV</td><td>5274</td><td>N740EV</td><td>LGA</td><td>BNA</td><td> NA</td><td> 764</td><td>18</td><td>42</td><td>2013-09-30 18:00:00</td></tr>\n",
              "\t<tr><td>2013</td><td>9</td><td>30</td><td>  NA</td><td>1455</td><td> NA</td><td>  NA</td><td>1634</td><td> NA</td><td>9E</td><td>3393</td><td>NA    </td><td>JFK</td><td>DCA</td><td> NA</td><td> 213</td><td>14</td><td>55</td><td>2013-09-30 14:00:00</td></tr>\n",
              "\t<tr><td>2013</td><td>9</td><td>30</td><td>  NA</td><td>2200</td><td> NA</td><td>  NA</td><td>2312</td><td> NA</td><td>9E</td><td>3525</td><td>NA    </td><td>LGA</td><td>SYR</td><td> NA</td><td> 198</td><td>22</td><td> 0</td><td>2013-09-30 22:00:00</td></tr>\n",
              "\t<tr><td>2013</td><td>9</td><td>30</td><td>  NA</td><td>1210</td><td> NA</td><td>  NA</td><td>1330</td><td> NA</td><td>MQ</td><td>3461</td><td>N535MQ</td><td>LGA</td><td>BNA</td><td> NA</td><td> 764</td><td>12</td><td>10</td><td>2013-09-30 12:00:00</td></tr>\n",
              "\t<tr><td>2013</td><td>9</td><td>30</td><td>  NA</td><td>1159</td><td> NA</td><td>  NA</td><td>1344</td><td> NA</td><td>MQ</td><td>3572</td><td>N511MQ</td><td>LGA</td><td>CLE</td><td> NA</td><td> 419</td><td>11</td><td>59</td><td>2013-09-30 11:00:00</td></tr>\n",
              "\t<tr><td>2013</td><td>9</td><td>30</td><td>  NA</td><td> 840</td><td> NA</td><td>  NA</td><td>1020</td><td> NA</td><td>MQ</td><td>3531</td><td>N839MQ</td><td>LGA</td><td>RDU</td><td> NA</td><td> 431</td><td> 8</td><td>40</td><td>2013-09-30 08:00:00</td></tr>\n",
              "</tbody>\n",
              "</table>\n"
            ],
            "text/markdown": "\nA tibble: 215941 × 19\n\n| year &lt;int&gt; | month &lt;int&gt; | day &lt;int&gt; | dep_time &lt;int&gt; | sched_dep_time &lt;int&gt; | dep_delay &lt;dbl&gt; | arr_time &lt;int&gt; | sched_arr_time &lt;int&gt; | arr_delay &lt;dbl&gt; | carrier &lt;chr&gt; | flight &lt;int&gt; | tailnum &lt;chr&gt; | origin &lt;chr&gt; | dest &lt;chr&gt; | air_time &lt;dbl&gt; | distance &lt;dbl&gt; | hour &lt;dbl&gt; | minute &lt;dbl&gt; | time_hour &lt;dttm&gt; |\n|---|---|---|---|---|---|---|---|---|---|---|---|---|---|---|---|---|---|---|\n| 2013 | 1 | 1 | 533 | 529 |  4 |  850 |  830 |  20 | UA | 1714 | N24211 | LGA | IAH | 227 | 1416 | 5 | 29 | 2013-01-01 05:00:00 |\n| 2013 | 1 | 1 | 542 | 540 |  2 |  923 |  850 |  33 | AA | 1141 | N619AA | JFK | MIA | 160 | 1089 | 5 | 40 | 2013-01-01 05:00:00 |\n| 2013 | 1 | 1 | 544 | 545 | -1 | 1004 | 1022 | -18 | B6 |  725 | N804JB | JFK | BQN | 183 | 1576 | 5 | 45 | 2013-01-01 05:00:00 |\n| 2013 | 1 | 1 | 554 | 600 | -6 |  812 |  837 | -25 | DL |  461 | N668DN | LGA | ATL | 116 |  762 | 6 |  0 | 2013-01-01 06:00:00 |\n| 2013 | 1 | 1 | 557 | 600 | -3 |  709 |  723 | -14 | EV | 5708 | N829AS | LGA | IAD |  53 |  229 | 6 |  0 | 2013-01-01 06:00:00 |\n| 2013 | 1 | 1 | 557 | 600 | -3 |  838 |  846 |  -8 | B6 |   79 | N593JB | JFK | MCO | 140 |  944 | 6 |  0 | 2013-01-01 06:00:00 |\n| 2013 | 1 | 1 | 558 | 600 | -2 |  753 |  745 |   8 | AA |  301 | N3ALAA | LGA | ORD | 138 |  733 | 6 |  0 | 2013-01-01 06:00:00 |\n| 2013 | 1 | 1 | 558 | 600 | -2 |  849 |  851 |  -2 | B6 |   49 | N793JB | JFK | PBI | 149 | 1028 | 6 |  0 | 2013-01-01 06:00:00 |\n| 2013 | 1 | 1 | 558 | 600 | -2 |  853 |  856 |  -3 | B6 |   71 | N657JB | JFK | TPA | 158 | 1005 | 6 |  0 | 2013-01-01 06:00:00 |\n| 2013 | 1 | 1 | 558 | 600 | -2 |  924 |  917 |   7 | UA |  194 | N29129 | JFK | LAX | 345 | 2475 | 6 |  0 | 2013-01-01 06:00:00 |\n| 2013 | 1 | 1 | 559 | 600 | -1 |  941 |  910 |  31 | AA |  707 | N3DUAA | LGA | DFW | 257 | 1389 | 6 |  0 | 2013-01-01 06:00:00 |\n| 2013 | 1 | 1 | 559 | 559 |  0 |  702 |  706 |  -4 | B6 | 1806 | N708JB | JFK | BOS |  44 |  187 | 5 | 59 | 2013-01-01 05:00:00 |\n| 2013 | 1 | 1 | 600 | 600 |  0 |  851 |  858 |  -7 | B6 |  371 | N595JB | LGA | FLL | 152 | 1076 | 6 |  0 | 2013-01-01 06:00:00 |\n| 2013 | 1 | 1 | 600 | 600 |  0 |  837 |  825 |  12 | MQ | 4650 | N542MQ | LGA | ATL | 134 |  762 | 6 |  0 | 2013-01-01 06:00:00 |\n| 2013 | 1 | 1 | 602 | 610 | -8 |  812 |  820 |  -8 | DL | 1919 | N971DL | LGA | MSP | 170 | 1020 | 6 | 10 | 2013-01-01 06:00:00 |\n| 2013 | 1 | 1 | 602 | 605 | -3 |  821 |  805 |  16 | MQ | 4401 | N730MQ | LGA | DTW | 105 |  502 | 6 |  5 | 2013-01-01 06:00:00 |\n| 2013 | 1 | 1 | 606 | 610 | -4 |  837 |  845 |  -8 | DL | 1743 | N3739P | JFK | ATL | 128 |  760 | 6 | 10 | 2013-01-01 06:00:00 |\n| 2013 | 1 | 1 | 611 | 600 | 11 |  945 |  931 |  14 | UA |  303 | N532UA | JFK | SFO | 366 | 2586 | 6 |  0 | 2013-01-01 06:00:00 |\n| 2013 | 1 | 1 | 613 | 610 |  3 |  925 |  921 |   4 | B6 |  135 | N635JB | JFK | RSW | 175 | 1074 | 6 | 10 | 2013-01-01 06:00:00 |\n| 2013 | 1 | 1 | 615 | 615 |  0 | 1039 | 1100 | -21 | B6 |  709 | N794JB | JFK | SJU | 182 | 1598 | 6 | 15 | 2013-01-01 06:00:00 |\n| 2013 | 1 | 1 | 623 | 610 | 13 |  920 |  915 |   5 | AA | 1837 | N3EMAA | LGA | MIA | 153 | 1096 | 6 | 10 | 2013-01-01 06:00:00 |\n| 2013 | 1 | 1 | 623 | 627 | -4 |  933 |  932 |   1 | UA |  496 | N459UA | LGA | IAH | 229 | 1416 | 6 | 27 | 2013-01-01 06:00:00 |\n| 2013 | 1 | 1 | 624 | 630 | -6 |  840 |  830 |  10 | MQ | 4599 | N518MQ | LGA | MSP | 166 | 1020 | 6 | 30 | 2013-01-01 06:00:00 |\n| 2013 | 1 | 1 | 627 | 630 | -3 | 1018 | 1018 |   0 | US |   27 | N535UW | JFK | PHX | 330 | 2153 | 6 | 30 | 2013-01-01 06:00:00 |\n| 2013 | 1 | 1 | 628 | 630 | -2 | 1137 | 1140 |  -3 | AA |  413 | N3BAAA | JFK | SJU | 192 | 1598 | 6 | 30 | 2013-01-01 06:00:00 |\n| 2013 | 1 | 1 | 629 | 630 | -1 |  824 |  810 |  14 | AA |  303 | N3CYAA | LGA | ORD | 140 |  733 | 6 | 30 | 2013-01-01 06:00:00 |\n| 2013 | 1 | 1 | 629 | 630 | -1 |  721 |  740 | -19 | WN | 4646 | N273WN | LGA | BWI |  40 |  185 | 6 | 30 | 2013-01-01 06:00:00 |\n| 2013 | 1 | 1 | 635 | 635 |  0 | 1028 |  940 |  48 | AA |  711 | N3GKAA | LGA | DFW | 248 | 1389 | 6 | 35 | 2013-01-01 06:00:00 |\n| 2013 | 1 | 1 | 637 | 645 | -8 |  930 |  935 |  -5 | B6 |  389 | N709JB | LGA | MCO | 144 |  950 | 6 | 45 | 2013-01-01 06:00:00 |\n| 2013 | 1 | 1 | 639 | 640 | -1 |  739 |  749 | -10 | B6 | 1002 | N805JB | JFK | BOS |  41 |  187 | 6 | 40 | 2013-01-01 06:00:00 |\n| ⋮ | ⋮ | ⋮ | ⋮ | ⋮ | ⋮ | ⋮ | ⋮ | ⋮ | ⋮ | ⋮ | ⋮ | ⋮ | ⋮ | ⋮ | ⋮ | ⋮ | ⋮ | ⋮ |\n| 2013 | 9 | 30 | 2101 | 2110 |  -9 | 2232 | 2302 | -30 | EV | 4885 | N391CA | LGA | ILM |  67 |  500 | 21 | 10 | 2013-09-30 21:00:00 |\n| 2013 | 9 | 30 | 2104 | 2030 |  34 | 2205 | 2150 |  15 | WN |  382 | N7741C | LGA | MDW | 105 |  725 | 20 | 30 | 2013-09-30 20:00:00 |\n| 2013 | 9 | 30 | 2110 | 2055 |  15 |   51 | 2359 |  52 | B6 | 1205 | N517JB | JFK | PDX | 361 | 2454 | 20 | 55 | 2013-09-30 20:00:00 |\n| 2013 | 9 | 30 | 2115 | 2110 |   5 | 2246 | 2255 |  -9 | MQ | 3603 | N519MQ | LGA | DTW |  72 |  502 | 21 | 10 | 2013-09-30 21:00:00 |\n| 2013 | 9 | 30 | 2119 | 2120 |  -1 | 2330 | 2354 | -24 | B6 | 1677 | N358JB | JFK | JAX | 113 |  828 | 21 | 20 | 2013-09-30 21:00:00 |\n| 2013 | 9 | 30 | 2121 | 2100 |  21 | 2349 |   14 | -25 | DL | 2363 | N193DN | JFK | LAX | 296 | 2475 | 21 |  0 | 2013-09-30 21:00:00 |\n| 2013 | 9 | 30 | 2123 | 2125 |  -2 | 2223 | 2247 | -24 | EV | 5489 | N712EV | LGA | CHO |  45 |  305 | 21 | 25 | 2013-09-30 21:00:00 |\n| 2013 | 9 | 30 | 2128 | 2130 |  -2 | 2328 | 2359 | -31 | B6 |   97 | N807JB | JFK | DEN | 213 | 1626 | 21 | 30 | 2013-09-30 21:00:00 |\n| 2013 | 9 | 30 | 2129 | 2059 |  30 | 2230 | 2232 |  -2 | EV | 5048 | N751EV | LGA | RIC |  45 |  292 | 20 | 59 | 2013-09-30 20:00:00 |\n| 2013 | 9 | 30 | 2131 | 2140 |  -9 | 2225 | 2255 | -30 | MQ | 3621 | N807MQ | JFK | DCA |  36 |  213 | 21 | 40 | 2013-09-30 21:00:00 |\n| 2013 | 9 | 30 | 2140 | 2140 |   0 |   10 |   40 | -30 | AA |  185 | N335AA | JFK | LAX | 298 | 2475 | 21 | 40 | 2013-09-30 21:00:00 |\n| 2013 | 9 | 30 | 2145 | 2145 |   0 |  115 |  140 | -25 | B6 | 1103 | N633JB | JFK | SJU | 192 | 1598 | 21 | 45 | 2013-09-30 21:00:00 |\n| 2013 | 9 | 30 | 2147 | 2137 |  10 |   30 |   27 |   3 | B6 | 1371 | N627JB | LGA | FLL | 139 | 1076 | 21 | 37 | 2013-09-30 21:00:00 |\n| 2013 | 9 | 30 | 2159 | 1845 | 194 | 2344 | 2030 | 194 | 9E | 3320 | N906XJ | JFK | BUF |  50 |  301 | 18 | 45 | 2013-09-30 18:00:00 |\n| 2013 | 9 | 30 | 2203 | 2205 |  -2 | 2339 | 2331 |   8 | EV | 5311 | N722EV | LGA | BGR |  61 |  378 | 22 |  5 | 2013-09-30 22:00:00 |\n| 2013 | 9 | 30 | 2207 | 2140 |  27 | 2257 | 2250 |   7 | MQ | 3660 | N532MQ | LGA | BNA |  97 |  764 | 21 | 40 | 2013-09-30 21:00:00 |\n| 2013 | 9 | 30 | 2231 | 2245 | -14 | 2335 | 2356 | -21 | B6 |  108 | N193JB | JFK | PWM |  48 |  273 | 22 | 45 | 2013-09-30 22:00:00 |\n| 2013 | 9 | 30 | 2235 | 2001 | 154 |   59 | 2249 | 130 | B6 | 1083 | N804JB | JFK | MCO | 123 |  944 | 20 |  1 | 2013-09-30 20:00:00 |\n| 2013 | 9 | 30 | 2237 | 2245 |  -8 | 2345 | 2353 |  -8 | B6 |  234 | N318JB | JFK | BTV |  43 |  266 | 22 | 45 | 2013-09-30 22:00:00 |\n| 2013 | 9 | 30 | 2240 | 2245 |  -5 | 2334 | 2351 | -17 | B6 | 1816 | N354JB | JFK | SYR |  41 |  209 | 22 | 45 | 2013-09-30 22:00:00 |\n| 2013 | 9 | 30 | 2240 | 2250 | -10 | 2347 |    7 | -20 | B6 | 2002 | N281JB | JFK | BUF |  52 |  301 | 22 | 50 | 2013-09-30 22:00:00 |\n| 2013 | 9 | 30 | 2241 | 2246 |  -5 | 2345 |    1 | -16 | B6 |  486 | N346JB | JFK | ROC |  47 |  264 | 22 | 46 | 2013-09-30 22:00:00 |\n| 2013 | 9 | 30 | 2307 | 2255 |  12 | 2359 | 2358 |   1 | B6 |  718 | N565JB | JFK | BOS |  33 |  187 | 22 | 55 | 2013-09-30 22:00:00 |\n| 2013 | 9 | 30 | 2349 | 2359 | -10 |  325 |  350 | -25 | B6 |  745 | N516JB | JFK | PSE | 196 | 1617 | 23 | 59 | 2013-09-30 23:00:00 |\n| 2013 | 9 | 30 |   NA | 1842 |  NA |   NA | 2019 |  NA | EV | 5274 | N740EV | LGA | BNA |  NA |  764 | 18 | 42 | 2013-09-30 18:00:00 |\n| 2013 | 9 | 30 |   NA | 1455 |  NA |   NA | 1634 |  NA | 9E | 3393 | NA     | JFK | DCA |  NA |  213 | 14 | 55 | 2013-09-30 14:00:00 |\n| 2013 | 9 | 30 |   NA | 2200 |  NA |   NA | 2312 |  NA | 9E | 3525 | NA     | LGA | SYR |  NA |  198 | 22 |  0 | 2013-09-30 22:00:00 |\n| 2013 | 9 | 30 |   NA | 1210 |  NA |   NA | 1330 |  NA | MQ | 3461 | N535MQ | LGA | BNA |  NA |  764 | 12 | 10 | 2013-09-30 12:00:00 |\n| 2013 | 9 | 30 |   NA | 1159 |  NA |   NA | 1344 |  NA | MQ | 3572 | N511MQ | LGA | CLE |  NA |  419 | 11 | 59 | 2013-09-30 11:00:00 |\n| 2013 | 9 | 30 |   NA |  840 |  NA |   NA | 1020 |  NA | MQ | 3531 | N839MQ | LGA | RDU |  NA |  431 |  8 | 40 | 2013-09-30 08:00:00 |\n\n",
            "text/latex": "A tibble: 215941 × 19\n\\begin{tabular}{lllllllllllllllllll}\n year & month & day & dep\\_time & sched\\_dep\\_time & dep\\_delay & arr\\_time & sched\\_arr\\_time & arr\\_delay & carrier & flight & tailnum & origin & dest & air\\_time & distance & hour & minute & time\\_hour\\\\\n <int> & <int> & <int> & <int> & <int> & <dbl> & <int> & <int> & <dbl> & <chr> & <int> & <chr> & <chr> & <chr> & <dbl> & <dbl> & <dbl> & <dbl> & <dttm>\\\\\n\\hline\n\t 2013 & 1 & 1 & 533 & 529 &  4 &  850 &  830 &  20 & UA & 1714 & N24211 & LGA & IAH & 227 & 1416 & 5 & 29 & 2013-01-01 05:00:00\\\\\n\t 2013 & 1 & 1 & 542 & 540 &  2 &  923 &  850 &  33 & AA & 1141 & N619AA & JFK & MIA & 160 & 1089 & 5 & 40 & 2013-01-01 05:00:00\\\\\n\t 2013 & 1 & 1 & 544 & 545 & -1 & 1004 & 1022 & -18 & B6 &  725 & N804JB & JFK & BQN & 183 & 1576 & 5 & 45 & 2013-01-01 05:00:00\\\\\n\t 2013 & 1 & 1 & 554 & 600 & -6 &  812 &  837 & -25 & DL &  461 & N668DN & LGA & ATL & 116 &  762 & 6 &  0 & 2013-01-01 06:00:00\\\\\n\t 2013 & 1 & 1 & 557 & 600 & -3 &  709 &  723 & -14 & EV & 5708 & N829AS & LGA & IAD &  53 &  229 & 6 &  0 & 2013-01-01 06:00:00\\\\\n\t 2013 & 1 & 1 & 557 & 600 & -3 &  838 &  846 &  -8 & B6 &   79 & N593JB & JFK & MCO & 140 &  944 & 6 &  0 & 2013-01-01 06:00:00\\\\\n\t 2013 & 1 & 1 & 558 & 600 & -2 &  753 &  745 &   8 & AA &  301 & N3ALAA & LGA & ORD & 138 &  733 & 6 &  0 & 2013-01-01 06:00:00\\\\\n\t 2013 & 1 & 1 & 558 & 600 & -2 &  849 &  851 &  -2 & B6 &   49 & N793JB & JFK & PBI & 149 & 1028 & 6 &  0 & 2013-01-01 06:00:00\\\\\n\t 2013 & 1 & 1 & 558 & 600 & -2 &  853 &  856 &  -3 & B6 &   71 & N657JB & JFK & TPA & 158 & 1005 & 6 &  0 & 2013-01-01 06:00:00\\\\\n\t 2013 & 1 & 1 & 558 & 600 & -2 &  924 &  917 &   7 & UA &  194 & N29129 & JFK & LAX & 345 & 2475 & 6 &  0 & 2013-01-01 06:00:00\\\\\n\t 2013 & 1 & 1 & 559 & 600 & -1 &  941 &  910 &  31 & AA &  707 & N3DUAA & LGA & DFW & 257 & 1389 & 6 &  0 & 2013-01-01 06:00:00\\\\\n\t 2013 & 1 & 1 & 559 & 559 &  0 &  702 &  706 &  -4 & B6 & 1806 & N708JB & JFK & BOS &  44 &  187 & 5 & 59 & 2013-01-01 05:00:00\\\\\n\t 2013 & 1 & 1 & 600 & 600 &  0 &  851 &  858 &  -7 & B6 &  371 & N595JB & LGA & FLL & 152 & 1076 & 6 &  0 & 2013-01-01 06:00:00\\\\\n\t 2013 & 1 & 1 & 600 & 600 &  0 &  837 &  825 &  12 & MQ & 4650 & N542MQ & LGA & ATL & 134 &  762 & 6 &  0 & 2013-01-01 06:00:00\\\\\n\t 2013 & 1 & 1 & 602 & 610 & -8 &  812 &  820 &  -8 & DL & 1919 & N971DL & LGA & MSP & 170 & 1020 & 6 & 10 & 2013-01-01 06:00:00\\\\\n\t 2013 & 1 & 1 & 602 & 605 & -3 &  821 &  805 &  16 & MQ & 4401 & N730MQ & LGA & DTW & 105 &  502 & 6 &  5 & 2013-01-01 06:00:00\\\\\n\t 2013 & 1 & 1 & 606 & 610 & -4 &  837 &  845 &  -8 & DL & 1743 & N3739P & JFK & ATL & 128 &  760 & 6 & 10 & 2013-01-01 06:00:00\\\\\n\t 2013 & 1 & 1 & 611 & 600 & 11 &  945 &  931 &  14 & UA &  303 & N532UA & JFK & SFO & 366 & 2586 & 6 &  0 & 2013-01-01 06:00:00\\\\\n\t 2013 & 1 & 1 & 613 & 610 &  3 &  925 &  921 &   4 & B6 &  135 & N635JB & JFK & RSW & 175 & 1074 & 6 & 10 & 2013-01-01 06:00:00\\\\\n\t 2013 & 1 & 1 & 615 & 615 &  0 & 1039 & 1100 & -21 & B6 &  709 & N794JB & JFK & SJU & 182 & 1598 & 6 & 15 & 2013-01-01 06:00:00\\\\\n\t 2013 & 1 & 1 & 623 & 610 & 13 &  920 &  915 &   5 & AA & 1837 & N3EMAA & LGA & MIA & 153 & 1096 & 6 & 10 & 2013-01-01 06:00:00\\\\\n\t 2013 & 1 & 1 & 623 & 627 & -4 &  933 &  932 &   1 & UA &  496 & N459UA & LGA & IAH & 229 & 1416 & 6 & 27 & 2013-01-01 06:00:00\\\\\n\t 2013 & 1 & 1 & 624 & 630 & -6 &  840 &  830 &  10 & MQ & 4599 & N518MQ & LGA & MSP & 166 & 1020 & 6 & 30 & 2013-01-01 06:00:00\\\\\n\t 2013 & 1 & 1 & 627 & 630 & -3 & 1018 & 1018 &   0 & US &   27 & N535UW & JFK & PHX & 330 & 2153 & 6 & 30 & 2013-01-01 06:00:00\\\\\n\t 2013 & 1 & 1 & 628 & 630 & -2 & 1137 & 1140 &  -3 & AA &  413 & N3BAAA & JFK & SJU & 192 & 1598 & 6 & 30 & 2013-01-01 06:00:00\\\\\n\t 2013 & 1 & 1 & 629 & 630 & -1 &  824 &  810 &  14 & AA &  303 & N3CYAA & LGA & ORD & 140 &  733 & 6 & 30 & 2013-01-01 06:00:00\\\\\n\t 2013 & 1 & 1 & 629 & 630 & -1 &  721 &  740 & -19 & WN & 4646 & N273WN & LGA & BWI &  40 &  185 & 6 & 30 & 2013-01-01 06:00:00\\\\\n\t 2013 & 1 & 1 & 635 & 635 &  0 & 1028 &  940 &  48 & AA &  711 & N3GKAA & LGA & DFW & 248 & 1389 & 6 & 35 & 2013-01-01 06:00:00\\\\\n\t 2013 & 1 & 1 & 637 & 645 & -8 &  930 &  935 &  -5 & B6 &  389 & N709JB & LGA & MCO & 144 &  950 & 6 & 45 & 2013-01-01 06:00:00\\\\\n\t 2013 & 1 & 1 & 639 & 640 & -1 &  739 &  749 & -10 & B6 & 1002 & N805JB & JFK & BOS &  41 &  187 & 6 & 40 & 2013-01-01 06:00:00\\\\\n\t ⋮ & ⋮ & ⋮ & ⋮ & ⋮ & ⋮ & ⋮ & ⋮ & ⋮ & ⋮ & ⋮ & ⋮ & ⋮ & ⋮ & ⋮ & ⋮ & ⋮ & ⋮ & ⋮\\\\\n\t 2013 & 9 & 30 & 2101 & 2110 &  -9 & 2232 & 2302 & -30 & EV & 4885 & N391CA & LGA & ILM &  67 &  500 & 21 & 10 & 2013-09-30 21:00:00\\\\\n\t 2013 & 9 & 30 & 2104 & 2030 &  34 & 2205 & 2150 &  15 & WN &  382 & N7741C & LGA & MDW & 105 &  725 & 20 & 30 & 2013-09-30 20:00:00\\\\\n\t 2013 & 9 & 30 & 2110 & 2055 &  15 &   51 & 2359 &  52 & B6 & 1205 & N517JB & JFK & PDX & 361 & 2454 & 20 & 55 & 2013-09-30 20:00:00\\\\\n\t 2013 & 9 & 30 & 2115 & 2110 &   5 & 2246 & 2255 &  -9 & MQ & 3603 & N519MQ & LGA & DTW &  72 &  502 & 21 & 10 & 2013-09-30 21:00:00\\\\\n\t 2013 & 9 & 30 & 2119 & 2120 &  -1 & 2330 & 2354 & -24 & B6 & 1677 & N358JB & JFK & JAX & 113 &  828 & 21 & 20 & 2013-09-30 21:00:00\\\\\n\t 2013 & 9 & 30 & 2121 & 2100 &  21 & 2349 &   14 & -25 & DL & 2363 & N193DN & JFK & LAX & 296 & 2475 & 21 &  0 & 2013-09-30 21:00:00\\\\\n\t 2013 & 9 & 30 & 2123 & 2125 &  -2 & 2223 & 2247 & -24 & EV & 5489 & N712EV & LGA & CHO &  45 &  305 & 21 & 25 & 2013-09-30 21:00:00\\\\\n\t 2013 & 9 & 30 & 2128 & 2130 &  -2 & 2328 & 2359 & -31 & B6 &   97 & N807JB & JFK & DEN & 213 & 1626 & 21 & 30 & 2013-09-30 21:00:00\\\\\n\t 2013 & 9 & 30 & 2129 & 2059 &  30 & 2230 & 2232 &  -2 & EV & 5048 & N751EV & LGA & RIC &  45 &  292 & 20 & 59 & 2013-09-30 20:00:00\\\\\n\t 2013 & 9 & 30 & 2131 & 2140 &  -9 & 2225 & 2255 & -30 & MQ & 3621 & N807MQ & JFK & DCA &  36 &  213 & 21 & 40 & 2013-09-30 21:00:00\\\\\n\t 2013 & 9 & 30 & 2140 & 2140 &   0 &   10 &   40 & -30 & AA &  185 & N335AA & JFK & LAX & 298 & 2475 & 21 & 40 & 2013-09-30 21:00:00\\\\\n\t 2013 & 9 & 30 & 2145 & 2145 &   0 &  115 &  140 & -25 & B6 & 1103 & N633JB & JFK & SJU & 192 & 1598 & 21 & 45 & 2013-09-30 21:00:00\\\\\n\t 2013 & 9 & 30 & 2147 & 2137 &  10 &   30 &   27 &   3 & B6 & 1371 & N627JB & LGA & FLL & 139 & 1076 & 21 & 37 & 2013-09-30 21:00:00\\\\\n\t 2013 & 9 & 30 & 2159 & 1845 & 194 & 2344 & 2030 & 194 & 9E & 3320 & N906XJ & JFK & BUF &  50 &  301 & 18 & 45 & 2013-09-30 18:00:00\\\\\n\t 2013 & 9 & 30 & 2203 & 2205 &  -2 & 2339 & 2331 &   8 & EV & 5311 & N722EV & LGA & BGR &  61 &  378 & 22 &  5 & 2013-09-30 22:00:00\\\\\n\t 2013 & 9 & 30 & 2207 & 2140 &  27 & 2257 & 2250 &   7 & MQ & 3660 & N532MQ & LGA & BNA &  97 &  764 & 21 & 40 & 2013-09-30 21:00:00\\\\\n\t 2013 & 9 & 30 & 2231 & 2245 & -14 & 2335 & 2356 & -21 & B6 &  108 & N193JB & JFK & PWM &  48 &  273 & 22 & 45 & 2013-09-30 22:00:00\\\\\n\t 2013 & 9 & 30 & 2235 & 2001 & 154 &   59 & 2249 & 130 & B6 & 1083 & N804JB & JFK & MCO & 123 &  944 & 20 &  1 & 2013-09-30 20:00:00\\\\\n\t 2013 & 9 & 30 & 2237 & 2245 &  -8 & 2345 & 2353 &  -8 & B6 &  234 & N318JB & JFK & BTV &  43 &  266 & 22 & 45 & 2013-09-30 22:00:00\\\\\n\t 2013 & 9 & 30 & 2240 & 2245 &  -5 & 2334 & 2351 & -17 & B6 & 1816 & N354JB & JFK & SYR &  41 &  209 & 22 & 45 & 2013-09-30 22:00:00\\\\\n\t 2013 & 9 & 30 & 2240 & 2250 & -10 & 2347 &    7 & -20 & B6 & 2002 & N281JB & JFK & BUF &  52 &  301 & 22 & 50 & 2013-09-30 22:00:00\\\\\n\t 2013 & 9 & 30 & 2241 & 2246 &  -5 & 2345 &    1 & -16 & B6 &  486 & N346JB & JFK & ROC &  47 &  264 & 22 & 46 & 2013-09-30 22:00:00\\\\\n\t 2013 & 9 & 30 & 2307 & 2255 &  12 & 2359 & 2358 &   1 & B6 &  718 & N565JB & JFK & BOS &  33 &  187 & 22 & 55 & 2013-09-30 22:00:00\\\\\n\t 2013 & 9 & 30 & 2349 & 2359 & -10 &  325 &  350 & -25 & B6 &  745 & N516JB & JFK & PSE & 196 & 1617 & 23 & 59 & 2013-09-30 23:00:00\\\\\n\t 2013 & 9 & 30 &   NA & 1842 &  NA &   NA & 2019 &  NA & EV & 5274 & N740EV & LGA & BNA &  NA &  764 & 18 & 42 & 2013-09-30 18:00:00\\\\\n\t 2013 & 9 & 30 &   NA & 1455 &  NA &   NA & 1634 &  NA & 9E & 3393 & NA     & JFK & DCA &  NA &  213 & 14 & 55 & 2013-09-30 14:00:00\\\\\n\t 2013 & 9 & 30 &   NA & 2200 &  NA &   NA & 2312 &  NA & 9E & 3525 & NA     & LGA & SYR &  NA &  198 & 22 &  0 & 2013-09-30 22:00:00\\\\\n\t 2013 & 9 & 30 &   NA & 1210 &  NA &   NA & 1330 &  NA & MQ & 3461 & N535MQ & LGA & BNA &  NA &  764 & 12 & 10 & 2013-09-30 12:00:00\\\\\n\t 2013 & 9 & 30 &   NA & 1159 &  NA &   NA & 1344 &  NA & MQ & 3572 & N511MQ & LGA & CLE &  NA &  419 & 11 & 59 & 2013-09-30 11:00:00\\\\\n\t 2013 & 9 & 30 &   NA &  840 &  NA &   NA & 1020 &  NA & MQ & 3531 & N839MQ & LGA & RDU &  NA &  431 &  8 & 40 & 2013-09-30 08:00:00\\\\\n\\end{tabular}\n",
            "text/plain": [
              "       year month day dep_time sched_dep_time dep_delay arr_time sched_arr_time\n",
              "1      2013 1     1   533      529             4         850      830          \n",
              "2      2013 1     1   542      540             2         923      850          \n",
              "3      2013 1     1   544      545            -1        1004     1022          \n",
              "4      2013 1     1   554      600            -6         812      837          \n",
              "5      2013 1     1   557      600            -3         709      723          \n",
              "6      2013 1     1   557      600            -3         838      846          \n",
              "7      2013 1     1   558      600            -2         753      745          \n",
              "8      2013 1     1   558      600            -2         849      851          \n",
              "9      2013 1     1   558      600            -2         853      856          \n",
              "10     2013 1     1   558      600            -2         924      917          \n",
              "11     2013 1     1   559      600            -1         941      910          \n",
              "12     2013 1     1   559      559             0         702      706          \n",
              "13     2013 1     1   600      600             0         851      858          \n",
              "14     2013 1     1   600      600             0         837      825          \n",
              "15     2013 1     1   602      610            -8         812      820          \n",
              "16     2013 1     1   602      605            -3         821      805          \n",
              "17     2013 1     1   606      610            -4         837      845          \n",
              "18     2013 1     1   611      600            11         945      931          \n",
              "19     2013 1     1   613      610             3         925      921          \n",
              "20     2013 1     1   615      615             0        1039     1100          \n",
              "21     2013 1     1   623      610            13         920      915          \n",
              "22     2013 1     1   623      627            -4         933      932          \n",
              "23     2013 1     1   624      630            -6         840      830          \n",
              "24     2013 1     1   627      630            -3        1018     1018          \n",
              "25     2013 1     1   628      630            -2        1137     1140          \n",
              "26     2013 1     1   629      630            -1         824      810          \n",
              "27     2013 1     1   629      630            -1         721      740          \n",
              "28     2013 1     1   635      635             0        1028      940          \n",
              "29     2013 1     1   637      645            -8         930      935          \n",
              "30     2013 1     1   639      640            -1         739      749          \n",
              "⋮      ⋮    ⋮     ⋮   ⋮        ⋮              ⋮         ⋮        ⋮             \n",
              "215912 2013 9     30  2101     2110            -9       2232     2302          \n",
              "215913 2013 9     30  2104     2030            34       2205     2150          \n",
              "215914 2013 9     30  2110     2055            15         51     2359          \n",
              "215915 2013 9     30  2115     2110             5       2246     2255          \n",
              "215916 2013 9     30  2119     2120            -1       2330     2354          \n",
              "215917 2013 9     30  2121     2100            21       2349       14          \n",
              "215918 2013 9     30  2123     2125            -2       2223     2247          \n",
              "215919 2013 9     30  2128     2130            -2       2328     2359          \n",
              "215920 2013 9     30  2129     2059            30       2230     2232          \n",
              "215921 2013 9     30  2131     2140            -9       2225     2255          \n",
              "215922 2013 9     30  2140     2140             0         10       40          \n",
              "215923 2013 9     30  2145     2145             0        115      140          \n",
              "215924 2013 9     30  2147     2137            10         30       27          \n",
              "215925 2013 9     30  2159     1845           194       2344     2030          \n",
              "215926 2013 9     30  2203     2205            -2       2339     2331          \n",
              "215927 2013 9     30  2207     2140            27       2257     2250          \n",
              "215928 2013 9     30  2231     2245           -14       2335     2356          \n",
              "215929 2013 9     30  2235     2001           154         59     2249          \n",
              "215930 2013 9     30  2237     2245            -8       2345     2353          \n",
              "215931 2013 9     30  2240     2245            -5       2334     2351          \n",
              "215932 2013 9     30  2240     2250           -10       2347        7          \n",
              "215933 2013 9     30  2241     2246            -5       2345        1          \n",
              "215934 2013 9     30  2307     2255            12       2359     2358          \n",
              "215935 2013 9     30  2349     2359           -10        325      350          \n",
              "215936 2013 9     30    NA     1842            NA         NA     2019          \n",
              "215937 2013 9     30    NA     1455            NA         NA     1634          \n",
              "215938 2013 9     30    NA     2200            NA         NA     2312          \n",
              "215939 2013 9     30    NA     1210            NA         NA     1330          \n",
              "215940 2013 9     30    NA     1159            NA         NA     1344          \n",
              "215941 2013 9     30    NA      840            NA         NA     1020          \n",
              "       arr_delay carrier flight tailnum origin dest air_time distance hour\n",
              "1       20       UA      1714   N24211  LGA    IAH  227      1416     5   \n",
              "2       33       AA      1141   N619AA  JFK    MIA  160      1089     5   \n",
              "3      -18       B6       725   N804JB  JFK    BQN  183      1576     5   \n",
              "4      -25       DL       461   N668DN  LGA    ATL  116       762     6   \n",
              "5      -14       EV      5708   N829AS  LGA    IAD   53       229     6   \n",
              "6       -8       B6        79   N593JB  JFK    MCO  140       944     6   \n",
              "7        8       AA       301   N3ALAA  LGA    ORD  138       733     6   \n",
              "8       -2       B6        49   N793JB  JFK    PBI  149      1028     6   \n",
              "9       -3       B6        71   N657JB  JFK    TPA  158      1005     6   \n",
              "10       7       UA       194   N29129  JFK    LAX  345      2475     6   \n",
              "11      31       AA       707   N3DUAA  LGA    DFW  257      1389     6   \n",
              "12      -4       B6      1806   N708JB  JFK    BOS   44       187     5   \n",
              "13      -7       B6       371   N595JB  LGA    FLL  152      1076     6   \n",
              "14      12       MQ      4650   N542MQ  LGA    ATL  134       762     6   \n",
              "15      -8       DL      1919   N971DL  LGA    MSP  170      1020     6   \n",
              "16      16       MQ      4401   N730MQ  LGA    DTW  105       502     6   \n",
              "17      -8       DL      1743   N3739P  JFK    ATL  128       760     6   \n",
              "18      14       UA       303   N532UA  JFK    SFO  366      2586     6   \n",
              "19       4       B6       135   N635JB  JFK    RSW  175      1074     6   \n",
              "20     -21       B6       709   N794JB  JFK    SJU  182      1598     6   \n",
              "21       5       AA      1837   N3EMAA  LGA    MIA  153      1096     6   \n",
              "22       1       UA       496   N459UA  LGA    IAH  229      1416     6   \n",
              "23      10       MQ      4599   N518MQ  LGA    MSP  166      1020     6   \n",
              "24       0       US        27   N535UW  JFK    PHX  330      2153     6   \n",
              "25      -3       AA       413   N3BAAA  JFK    SJU  192      1598     6   \n",
              "26      14       AA       303   N3CYAA  LGA    ORD  140       733     6   \n",
              "27     -19       WN      4646   N273WN  LGA    BWI   40       185     6   \n",
              "28      48       AA       711   N3GKAA  LGA    DFW  248      1389     6   \n",
              "29      -5       B6       389   N709JB  LGA    MCO  144       950     6   \n",
              "30     -10       B6      1002   N805JB  JFK    BOS   41       187     6   \n",
              "⋮      ⋮         ⋮       ⋮      ⋮       ⋮      ⋮    ⋮        ⋮        ⋮   \n",
              "215912 -30       EV      4885   N391CA  LGA    ILM   67       500     21  \n",
              "215913  15       WN       382   N7741C  LGA    MDW  105       725     20  \n",
              "215914  52       B6      1205   N517JB  JFK    PDX  361      2454     20  \n",
              "215915  -9       MQ      3603   N519MQ  LGA    DTW   72       502     21  \n",
              "215916 -24       B6      1677   N358JB  JFK    JAX  113       828     21  \n",
              "215917 -25       DL      2363   N193DN  JFK    LAX  296      2475     21  \n",
              "215918 -24       EV      5489   N712EV  LGA    CHO   45       305     21  \n",
              "215919 -31       B6        97   N807JB  JFK    DEN  213      1626     21  \n",
              "215920  -2       EV      5048   N751EV  LGA    RIC   45       292     20  \n",
              "215921 -30       MQ      3621   N807MQ  JFK    DCA   36       213     21  \n",
              "215922 -30       AA       185   N335AA  JFK    LAX  298      2475     21  \n",
              "215923 -25       B6      1103   N633JB  JFK    SJU  192      1598     21  \n",
              "215924   3       B6      1371   N627JB  LGA    FLL  139      1076     21  \n",
              "215925 194       9E      3320   N906XJ  JFK    BUF   50       301     18  \n",
              "215926   8       EV      5311   N722EV  LGA    BGR   61       378     22  \n",
              "215927   7       MQ      3660   N532MQ  LGA    BNA   97       764     21  \n",
              "215928 -21       B6       108   N193JB  JFK    PWM   48       273     22  \n",
              "215929 130       B6      1083   N804JB  JFK    MCO  123       944     20  \n",
              "215930  -8       B6       234   N318JB  JFK    BTV   43       266     22  \n",
              "215931 -17       B6      1816   N354JB  JFK    SYR   41       209     22  \n",
              "215932 -20       B6      2002   N281JB  JFK    BUF   52       301     22  \n",
              "215933 -16       B6       486   N346JB  JFK    ROC   47       264     22  \n",
              "215934   1       B6       718   N565JB  JFK    BOS   33       187     22  \n",
              "215935 -25       B6       745   N516JB  JFK    PSE  196      1617     23  \n",
              "215936  NA       EV      5274   N740EV  LGA    BNA   NA       764     18  \n",
              "215937  NA       9E      3393   NA      JFK    DCA   NA       213     14  \n",
              "215938  NA       9E      3525   NA      LGA    SYR   NA       198     22  \n",
              "215939  NA       MQ      3461   N535MQ  LGA    BNA   NA       764     12  \n",
              "215940  NA       MQ      3572   N511MQ  LGA    CLE   NA       419     11  \n",
              "215941  NA       MQ      3531   N839MQ  LGA    RDU   NA       431      8  \n",
              "       minute time_hour          \n",
              "1      29     2013-01-01 05:00:00\n",
              "2      40     2013-01-01 05:00:00\n",
              "3      45     2013-01-01 05:00:00\n",
              "4       0     2013-01-01 06:00:00\n",
              "5       0     2013-01-01 06:00:00\n",
              "6       0     2013-01-01 06:00:00\n",
              "7       0     2013-01-01 06:00:00\n",
              "8       0     2013-01-01 06:00:00\n",
              "9       0     2013-01-01 06:00:00\n",
              "10      0     2013-01-01 06:00:00\n",
              "11      0     2013-01-01 06:00:00\n",
              "12     59     2013-01-01 05:00:00\n",
              "13      0     2013-01-01 06:00:00\n",
              "14      0     2013-01-01 06:00:00\n",
              "15     10     2013-01-01 06:00:00\n",
              "16      5     2013-01-01 06:00:00\n",
              "17     10     2013-01-01 06:00:00\n",
              "18      0     2013-01-01 06:00:00\n",
              "19     10     2013-01-01 06:00:00\n",
              "20     15     2013-01-01 06:00:00\n",
              "21     10     2013-01-01 06:00:00\n",
              "22     27     2013-01-01 06:00:00\n",
              "23     30     2013-01-01 06:00:00\n",
              "24     30     2013-01-01 06:00:00\n",
              "25     30     2013-01-01 06:00:00\n",
              "26     30     2013-01-01 06:00:00\n",
              "27     30     2013-01-01 06:00:00\n",
              "28     35     2013-01-01 06:00:00\n",
              "29     45     2013-01-01 06:00:00\n",
              "30     40     2013-01-01 06:00:00\n",
              "⋮      ⋮      ⋮                  \n",
              "215912 10     2013-09-30 21:00:00\n",
              "215913 30     2013-09-30 20:00:00\n",
              "215914 55     2013-09-30 20:00:00\n",
              "215915 10     2013-09-30 21:00:00\n",
              "215916 20     2013-09-30 21:00:00\n",
              "215917  0     2013-09-30 21:00:00\n",
              "215918 25     2013-09-30 21:00:00\n",
              "215919 30     2013-09-30 21:00:00\n",
              "215920 59     2013-09-30 20:00:00\n",
              "215921 40     2013-09-30 21:00:00\n",
              "215922 40     2013-09-30 21:00:00\n",
              "215923 45     2013-09-30 21:00:00\n",
              "215924 37     2013-09-30 21:00:00\n",
              "215925 45     2013-09-30 18:00:00\n",
              "215926  5     2013-09-30 22:00:00\n",
              "215927 40     2013-09-30 21:00:00\n",
              "215928 45     2013-09-30 22:00:00\n",
              "215929  1     2013-09-30 20:00:00\n",
              "215930 45     2013-09-30 22:00:00\n",
              "215931 45     2013-09-30 22:00:00\n",
              "215932 50     2013-09-30 22:00:00\n",
              "215933 46     2013-09-30 22:00:00\n",
              "215934 55     2013-09-30 22:00:00\n",
              "215935 59     2013-09-30 23:00:00\n",
              "215936 42     2013-09-30 18:00:00\n",
              "215937 55     2013-09-30 14:00:00\n",
              "215938  0     2013-09-30 22:00:00\n",
              "215939 10     2013-09-30 12:00:00\n",
              "215940 59     2013-09-30 11:00:00\n",
              "215941 40     2013-09-30 08:00:00"
            ]
          },
          "metadata": {}
        }
      ],
      "source": [
        "filter(flights,(origin==\"JFK\")|(origin==\"LGA\"))"
      ]
    },
    {
      "cell_type": "markdown",
      "metadata": {
        "id": "wjBwWkcl92Zs"
      },
      "source": [
        "Otra manera de hacerlo, utilizando %in%"
      ]
    },
    {
      "cell_type": "code",
      "execution_count": 51,
      "metadata": {
        "collapsed": true,
        "id": "_ibsFu5O9uus",
        "outputId": "f39ef6c6-3d09-4fde-d5bc-5cbe6114a9f2",
        "colab": {
          "base_uri": "https://localhost:8080/",
          "height": 1000
        }
      },
      "outputs": [
        {
          "output_type": "display_data",
          "data": {
            "text/html": [
              "<table class=\"dataframe\">\n",
              "<caption>A tibble: 215941 × 19</caption>\n",
              "<thead>\n",
              "\t<tr><th scope=col>year</th><th scope=col>month</th><th scope=col>day</th><th scope=col>dep_time</th><th scope=col>sched_dep_time</th><th scope=col>dep_delay</th><th scope=col>arr_time</th><th scope=col>sched_arr_time</th><th scope=col>arr_delay</th><th scope=col>carrier</th><th scope=col>flight</th><th scope=col>tailnum</th><th scope=col>origin</th><th scope=col>dest</th><th scope=col>air_time</th><th scope=col>distance</th><th scope=col>hour</th><th scope=col>minute</th><th scope=col>time_hour</th></tr>\n",
              "\t<tr><th scope=col>&lt;int&gt;</th><th scope=col>&lt;int&gt;</th><th scope=col>&lt;int&gt;</th><th scope=col>&lt;int&gt;</th><th scope=col>&lt;int&gt;</th><th scope=col>&lt;dbl&gt;</th><th scope=col>&lt;int&gt;</th><th scope=col>&lt;int&gt;</th><th scope=col>&lt;dbl&gt;</th><th scope=col>&lt;chr&gt;</th><th scope=col>&lt;int&gt;</th><th scope=col>&lt;chr&gt;</th><th scope=col>&lt;chr&gt;</th><th scope=col>&lt;chr&gt;</th><th scope=col>&lt;dbl&gt;</th><th scope=col>&lt;dbl&gt;</th><th scope=col>&lt;dbl&gt;</th><th scope=col>&lt;dbl&gt;</th><th scope=col>&lt;dttm&gt;</th></tr>\n",
              "</thead>\n",
              "<tbody>\n",
              "\t<tr><td>2013</td><td>1</td><td>1</td><td>533</td><td>529</td><td> 4</td><td> 850</td><td> 830</td><td> 20</td><td>UA</td><td>1714</td><td>N24211</td><td>LGA</td><td>IAH</td><td>227</td><td>1416</td><td>5</td><td>29</td><td>2013-01-01 05:00:00</td></tr>\n",
              "\t<tr><td>2013</td><td>1</td><td>1</td><td>542</td><td>540</td><td> 2</td><td> 923</td><td> 850</td><td> 33</td><td>AA</td><td>1141</td><td>N619AA</td><td>JFK</td><td>MIA</td><td>160</td><td>1089</td><td>5</td><td>40</td><td>2013-01-01 05:00:00</td></tr>\n",
              "\t<tr><td>2013</td><td>1</td><td>1</td><td>544</td><td>545</td><td>-1</td><td>1004</td><td>1022</td><td>-18</td><td>B6</td><td> 725</td><td>N804JB</td><td>JFK</td><td>BQN</td><td>183</td><td>1576</td><td>5</td><td>45</td><td>2013-01-01 05:00:00</td></tr>\n",
              "\t<tr><td>2013</td><td>1</td><td>1</td><td>554</td><td>600</td><td>-6</td><td> 812</td><td> 837</td><td>-25</td><td>DL</td><td> 461</td><td>N668DN</td><td>LGA</td><td>ATL</td><td>116</td><td> 762</td><td>6</td><td> 0</td><td>2013-01-01 06:00:00</td></tr>\n",
              "\t<tr><td>2013</td><td>1</td><td>1</td><td>557</td><td>600</td><td>-3</td><td> 709</td><td> 723</td><td>-14</td><td>EV</td><td>5708</td><td>N829AS</td><td>LGA</td><td>IAD</td><td> 53</td><td> 229</td><td>6</td><td> 0</td><td>2013-01-01 06:00:00</td></tr>\n",
              "\t<tr><td>2013</td><td>1</td><td>1</td><td>557</td><td>600</td><td>-3</td><td> 838</td><td> 846</td><td> -8</td><td>B6</td><td>  79</td><td>N593JB</td><td>JFK</td><td>MCO</td><td>140</td><td> 944</td><td>6</td><td> 0</td><td>2013-01-01 06:00:00</td></tr>\n",
              "\t<tr><td>2013</td><td>1</td><td>1</td><td>558</td><td>600</td><td>-2</td><td> 753</td><td> 745</td><td>  8</td><td>AA</td><td> 301</td><td>N3ALAA</td><td>LGA</td><td>ORD</td><td>138</td><td> 733</td><td>6</td><td> 0</td><td>2013-01-01 06:00:00</td></tr>\n",
              "\t<tr><td>2013</td><td>1</td><td>1</td><td>558</td><td>600</td><td>-2</td><td> 849</td><td> 851</td><td> -2</td><td>B6</td><td>  49</td><td>N793JB</td><td>JFK</td><td>PBI</td><td>149</td><td>1028</td><td>6</td><td> 0</td><td>2013-01-01 06:00:00</td></tr>\n",
              "\t<tr><td>2013</td><td>1</td><td>1</td><td>558</td><td>600</td><td>-2</td><td> 853</td><td> 856</td><td> -3</td><td>B6</td><td>  71</td><td>N657JB</td><td>JFK</td><td>TPA</td><td>158</td><td>1005</td><td>6</td><td> 0</td><td>2013-01-01 06:00:00</td></tr>\n",
              "\t<tr><td>2013</td><td>1</td><td>1</td><td>558</td><td>600</td><td>-2</td><td> 924</td><td> 917</td><td>  7</td><td>UA</td><td> 194</td><td>N29129</td><td>JFK</td><td>LAX</td><td>345</td><td>2475</td><td>6</td><td> 0</td><td>2013-01-01 06:00:00</td></tr>\n",
              "\t<tr><td>2013</td><td>1</td><td>1</td><td>559</td><td>600</td><td>-1</td><td> 941</td><td> 910</td><td> 31</td><td>AA</td><td> 707</td><td>N3DUAA</td><td>LGA</td><td>DFW</td><td>257</td><td>1389</td><td>6</td><td> 0</td><td>2013-01-01 06:00:00</td></tr>\n",
              "\t<tr><td>2013</td><td>1</td><td>1</td><td>559</td><td>559</td><td> 0</td><td> 702</td><td> 706</td><td> -4</td><td>B6</td><td>1806</td><td>N708JB</td><td>JFK</td><td>BOS</td><td> 44</td><td> 187</td><td>5</td><td>59</td><td>2013-01-01 05:00:00</td></tr>\n",
              "\t<tr><td>2013</td><td>1</td><td>1</td><td>600</td><td>600</td><td> 0</td><td> 851</td><td> 858</td><td> -7</td><td>B6</td><td> 371</td><td>N595JB</td><td>LGA</td><td>FLL</td><td>152</td><td>1076</td><td>6</td><td> 0</td><td>2013-01-01 06:00:00</td></tr>\n",
              "\t<tr><td>2013</td><td>1</td><td>1</td><td>600</td><td>600</td><td> 0</td><td> 837</td><td> 825</td><td> 12</td><td>MQ</td><td>4650</td><td>N542MQ</td><td>LGA</td><td>ATL</td><td>134</td><td> 762</td><td>6</td><td> 0</td><td>2013-01-01 06:00:00</td></tr>\n",
              "\t<tr><td>2013</td><td>1</td><td>1</td><td>602</td><td>610</td><td>-8</td><td> 812</td><td> 820</td><td> -8</td><td>DL</td><td>1919</td><td>N971DL</td><td>LGA</td><td>MSP</td><td>170</td><td>1020</td><td>6</td><td>10</td><td>2013-01-01 06:00:00</td></tr>\n",
              "\t<tr><td>2013</td><td>1</td><td>1</td><td>602</td><td>605</td><td>-3</td><td> 821</td><td> 805</td><td> 16</td><td>MQ</td><td>4401</td><td>N730MQ</td><td>LGA</td><td>DTW</td><td>105</td><td> 502</td><td>6</td><td> 5</td><td>2013-01-01 06:00:00</td></tr>\n",
              "\t<tr><td>2013</td><td>1</td><td>1</td><td>606</td><td>610</td><td>-4</td><td> 837</td><td> 845</td><td> -8</td><td>DL</td><td>1743</td><td>N3739P</td><td>JFK</td><td>ATL</td><td>128</td><td> 760</td><td>6</td><td>10</td><td>2013-01-01 06:00:00</td></tr>\n",
              "\t<tr><td>2013</td><td>1</td><td>1</td><td>611</td><td>600</td><td>11</td><td> 945</td><td> 931</td><td> 14</td><td>UA</td><td> 303</td><td>N532UA</td><td>JFK</td><td>SFO</td><td>366</td><td>2586</td><td>6</td><td> 0</td><td>2013-01-01 06:00:00</td></tr>\n",
              "\t<tr><td>2013</td><td>1</td><td>1</td><td>613</td><td>610</td><td> 3</td><td> 925</td><td> 921</td><td>  4</td><td>B6</td><td> 135</td><td>N635JB</td><td>JFK</td><td>RSW</td><td>175</td><td>1074</td><td>6</td><td>10</td><td>2013-01-01 06:00:00</td></tr>\n",
              "\t<tr><td>2013</td><td>1</td><td>1</td><td>615</td><td>615</td><td> 0</td><td>1039</td><td>1100</td><td>-21</td><td>B6</td><td> 709</td><td>N794JB</td><td>JFK</td><td>SJU</td><td>182</td><td>1598</td><td>6</td><td>15</td><td>2013-01-01 06:00:00</td></tr>\n",
              "\t<tr><td>2013</td><td>1</td><td>1</td><td>623</td><td>610</td><td>13</td><td> 920</td><td> 915</td><td>  5</td><td>AA</td><td>1837</td><td>N3EMAA</td><td>LGA</td><td>MIA</td><td>153</td><td>1096</td><td>6</td><td>10</td><td>2013-01-01 06:00:00</td></tr>\n",
              "\t<tr><td>2013</td><td>1</td><td>1</td><td>623</td><td>627</td><td>-4</td><td> 933</td><td> 932</td><td>  1</td><td>UA</td><td> 496</td><td>N459UA</td><td>LGA</td><td>IAH</td><td>229</td><td>1416</td><td>6</td><td>27</td><td>2013-01-01 06:00:00</td></tr>\n",
              "\t<tr><td>2013</td><td>1</td><td>1</td><td>624</td><td>630</td><td>-6</td><td> 840</td><td> 830</td><td> 10</td><td>MQ</td><td>4599</td><td>N518MQ</td><td>LGA</td><td>MSP</td><td>166</td><td>1020</td><td>6</td><td>30</td><td>2013-01-01 06:00:00</td></tr>\n",
              "\t<tr><td>2013</td><td>1</td><td>1</td><td>627</td><td>630</td><td>-3</td><td>1018</td><td>1018</td><td>  0</td><td>US</td><td>  27</td><td>N535UW</td><td>JFK</td><td>PHX</td><td>330</td><td>2153</td><td>6</td><td>30</td><td>2013-01-01 06:00:00</td></tr>\n",
              "\t<tr><td>2013</td><td>1</td><td>1</td><td>628</td><td>630</td><td>-2</td><td>1137</td><td>1140</td><td> -3</td><td>AA</td><td> 413</td><td>N3BAAA</td><td>JFK</td><td>SJU</td><td>192</td><td>1598</td><td>6</td><td>30</td><td>2013-01-01 06:00:00</td></tr>\n",
              "\t<tr><td>2013</td><td>1</td><td>1</td><td>629</td><td>630</td><td>-1</td><td> 824</td><td> 810</td><td> 14</td><td>AA</td><td> 303</td><td>N3CYAA</td><td>LGA</td><td>ORD</td><td>140</td><td> 733</td><td>6</td><td>30</td><td>2013-01-01 06:00:00</td></tr>\n",
              "\t<tr><td>2013</td><td>1</td><td>1</td><td>629</td><td>630</td><td>-1</td><td> 721</td><td> 740</td><td>-19</td><td>WN</td><td>4646</td><td>N273WN</td><td>LGA</td><td>BWI</td><td> 40</td><td> 185</td><td>6</td><td>30</td><td>2013-01-01 06:00:00</td></tr>\n",
              "\t<tr><td>2013</td><td>1</td><td>1</td><td>635</td><td>635</td><td> 0</td><td>1028</td><td> 940</td><td> 48</td><td>AA</td><td> 711</td><td>N3GKAA</td><td>LGA</td><td>DFW</td><td>248</td><td>1389</td><td>6</td><td>35</td><td>2013-01-01 06:00:00</td></tr>\n",
              "\t<tr><td>2013</td><td>1</td><td>1</td><td>637</td><td>645</td><td>-8</td><td> 930</td><td> 935</td><td> -5</td><td>B6</td><td> 389</td><td>N709JB</td><td>LGA</td><td>MCO</td><td>144</td><td> 950</td><td>6</td><td>45</td><td>2013-01-01 06:00:00</td></tr>\n",
              "\t<tr><td>2013</td><td>1</td><td>1</td><td>639</td><td>640</td><td>-1</td><td> 739</td><td> 749</td><td>-10</td><td>B6</td><td>1002</td><td>N805JB</td><td>JFK</td><td>BOS</td><td> 41</td><td> 187</td><td>6</td><td>40</td><td>2013-01-01 06:00:00</td></tr>\n",
              "\t<tr><td>⋮</td><td>⋮</td><td>⋮</td><td>⋮</td><td>⋮</td><td>⋮</td><td>⋮</td><td>⋮</td><td>⋮</td><td>⋮</td><td>⋮</td><td>⋮</td><td>⋮</td><td>⋮</td><td>⋮</td><td>⋮</td><td>⋮</td><td>⋮</td><td>⋮</td></tr>\n",
              "\t<tr><td>2013</td><td>9</td><td>30</td><td>2101</td><td>2110</td><td> -9</td><td>2232</td><td>2302</td><td>-30</td><td>EV</td><td>4885</td><td>N391CA</td><td>LGA</td><td>ILM</td><td> 67</td><td> 500</td><td>21</td><td>10</td><td>2013-09-30 21:00:00</td></tr>\n",
              "\t<tr><td>2013</td><td>9</td><td>30</td><td>2104</td><td>2030</td><td> 34</td><td>2205</td><td>2150</td><td> 15</td><td>WN</td><td> 382</td><td>N7741C</td><td>LGA</td><td>MDW</td><td>105</td><td> 725</td><td>20</td><td>30</td><td>2013-09-30 20:00:00</td></tr>\n",
              "\t<tr><td>2013</td><td>9</td><td>30</td><td>2110</td><td>2055</td><td> 15</td><td>  51</td><td>2359</td><td> 52</td><td>B6</td><td>1205</td><td>N517JB</td><td>JFK</td><td>PDX</td><td>361</td><td>2454</td><td>20</td><td>55</td><td>2013-09-30 20:00:00</td></tr>\n",
              "\t<tr><td>2013</td><td>9</td><td>30</td><td>2115</td><td>2110</td><td>  5</td><td>2246</td><td>2255</td><td> -9</td><td>MQ</td><td>3603</td><td>N519MQ</td><td>LGA</td><td>DTW</td><td> 72</td><td> 502</td><td>21</td><td>10</td><td>2013-09-30 21:00:00</td></tr>\n",
              "\t<tr><td>2013</td><td>9</td><td>30</td><td>2119</td><td>2120</td><td> -1</td><td>2330</td><td>2354</td><td>-24</td><td>B6</td><td>1677</td><td>N358JB</td><td>JFK</td><td>JAX</td><td>113</td><td> 828</td><td>21</td><td>20</td><td>2013-09-30 21:00:00</td></tr>\n",
              "\t<tr><td>2013</td><td>9</td><td>30</td><td>2121</td><td>2100</td><td> 21</td><td>2349</td><td>  14</td><td>-25</td><td>DL</td><td>2363</td><td>N193DN</td><td>JFK</td><td>LAX</td><td>296</td><td>2475</td><td>21</td><td> 0</td><td>2013-09-30 21:00:00</td></tr>\n",
              "\t<tr><td>2013</td><td>9</td><td>30</td><td>2123</td><td>2125</td><td> -2</td><td>2223</td><td>2247</td><td>-24</td><td>EV</td><td>5489</td><td>N712EV</td><td>LGA</td><td>CHO</td><td> 45</td><td> 305</td><td>21</td><td>25</td><td>2013-09-30 21:00:00</td></tr>\n",
              "\t<tr><td>2013</td><td>9</td><td>30</td><td>2128</td><td>2130</td><td> -2</td><td>2328</td><td>2359</td><td>-31</td><td>B6</td><td>  97</td><td>N807JB</td><td>JFK</td><td>DEN</td><td>213</td><td>1626</td><td>21</td><td>30</td><td>2013-09-30 21:00:00</td></tr>\n",
              "\t<tr><td>2013</td><td>9</td><td>30</td><td>2129</td><td>2059</td><td> 30</td><td>2230</td><td>2232</td><td> -2</td><td>EV</td><td>5048</td><td>N751EV</td><td>LGA</td><td>RIC</td><td> 45</td><td> 292</td><td>20</td><td>59</td><td>2013-09-30 20:00:00</td></tr>\n",
              "\t<tr><td>2013</td><td>9</td><td>30</td><td>2131</td><td>2140</td><td> -9</td><td>2225</td><td>2255</td><td>-30</td><td>MQ</td><td>3621</td><td>N807MQ</td><td>JFK</td><td>DCA</td><td> 36</td><td> 213</td><td>21</td><td>40</td><td>2013-09-30 21:00:00</td></tr>\n",
              "\t<tr><td>2013</td><td>9</td><td>30</td><td>2140</td><td>2140</td><td>  0</td><td>  10</td><td>  40</td><td>-30</td><td>AA</td><td> 185</td><td>N335AA</td><td>JFK</td><td>LAX</td><td>298</td><td>2475</td><td>21</td><td>40</td><td>2013-09-30 21:00:00</td></tr>\n",
              "\t<tr><td>2013</td><td>9</td><td>30</td><td>2145</td><td>2145</td><td>  0</td><td> 115</td><td> 140</td><td>-25</td><td>B6</td><td>1103</td><td>N633JB</td><td>JFK</td><td>SJU</td><td>192</td><td>1598</td><td>21</td><td>45</td><td>2013-09-30 21:00:00</td></tr>\n",
              "\t<tr><td>2013</td><td>9</td><td>30</td><td>2147</td><td>2137</td><td> 10</td><td>  30</td><td>  27</td><td>  3</td><td>B6</td><td>1371</td><td>N627JB</td><td>LGA</td><td>FLL</td><td>139</td><td>1076</td><td>21</td><td>37</td><td>2013-09-30 21:00:00</td></tr>\n",
              "\t<tr><td>2013</td><td>9</td><td>30</td><td>2159</td><td>1845</td><td>194</td><td>2344</td><td>2030</td><td>194</td><td>9E</td><td>3320</td><td>N906XJ</td><td>JFK</td><td>BUF</td><td> 50</td><td> 301</td><td>18</td><td>45</td><td>2013-09-30 18:00:00</td></tr>\n",
              "\t<tr><td>2013</td><td>9</td><td>30</td><td>2203</td><td>2205</td><td> -2</td><td>2339</td><td>2331</td><td>  8</td><td>EV</td><td>5311</td><td>N722EV</td><td>LGA</td><td>BGR</td><td> 61</td><td> 378</td><td>22</td><td> 5</td><td>2013-09-30 22:00:00</td></tr>\n",
              "\t<tr><td>2013</td><td>9</td><td>30</td><td>2207</td><td>2140</td><td> 27</td><td>2257</td><td>2250</td><td>  7</td><td>MQ</td><td>3660</td><td>N532MQ</td><td>LGA</td><td>BNA</td><td> 97</td><td> 764</td><td>21</td><td>40</td><td>2013-09-30 21:00:00</td></tr>\n",
              "\t<tr><td>2013</td><td>9</td><td>30</td><td>2231</td><td>2245</td><td>-14</td><td>2335</td><td>2356</td><td>-21</td><td>B6</td><td> 108</td><td>N193JB</td><td>JFK</td><td>PWM</td><td> 48</td><td> 273</td><td>22</td><td>45</td><td>2013-09-30 22:00:00</td></tr>\n",
              "\t<tr><td>2013</td><td>9</td><td>30</td><td>2235</td><td>2001</td><td>154</td><td>  59</td><td>2249</td><td>130</td><td>B6</td><td>1083</td><td>N804JB</td><td>JFK</td><td>MCO</td><td>123</td><td> 944</td><td>20</td><td> 1</td><td>2013-09-30 20:00:00</td></tr>\n",
              "\t<tr><td>2013</td><td>9</td><td>30</td><td>2237</td><td>2245</td><td> -8</td><td>2345</td><td>2353</td><td> -8</td><td>B6</td><td> 234</td><td>N318JB</td><td>JFK</td><td>BTV</td><td> 43</td><td> 266</td><td>22</td><td>45</td><td>2013-09-30 22:00:00</td></tr>\n",
              "\t<tr><td>2013</td><td>9</td><td>30</td><td>2240</td><td>2245</td><td> -5</td><td>2334</td><td>2351</td><td>-17</td><td>B6</td><td>1816</td><td>N354JB</td><td>JFK</td><td>SYR</td><td> 41</td><td> 209</td><td>22</td><td>45</td><td>2013-09-30 22:00:00</td></tr>\n",
              "\t<tr><td>2013</td><td>9</td><td>30</td><td>2240</td><td>2250</td><td>-10</td><td>2347</td><td>   7</td><td>-20</td><td>B6</td><td>2002</td><td>N281JB</td><td>JFK</td><td>BUF</td><td> 52</td><td> 301</td><td>22</td><td>50</td><td>2013-09-30 22:00:00</td></tr>\n",
              "\t<tr><td>2013</td><td>9</td><td>30</td><td>2241</td><td>2246</td><td> -5</td><td>2345</td><td>   1</td><td>-16</td><td>B6</td><td> 486</td><td>N346JB</td><td>JFK</td><td>ROC</td><td> 47</td><td> 264</td><td>22</td><td>46</td><td>2013-09-30 22:00:00</td></tr>\n",
              "\t<tr><td>2013</td><td>9</td><td>30</td><td>2307</td><td>2255</td><td> 12</td><td>2359</td><td>2358</td><td>  1</td><td>B6</td><td> 718</td><td>N565JB</td><td>JFK</td><td>BOS</td><td> 33</td><td> 187</td><td>22</td><td>55</td><td>2013-09-30 22:00:00</td></tr>\n",
              "\t<tr><td>2013</td><td>9</td><td>30</td><td>2349</td><td>2359</td><td>-10</td><td> 325</td><td> 350</td><td>-25</td><td>B6</td><td> 745</td><td>N516JB</td><td>JFK</td><td>PSE</td><td>196</td><td>1617</td><td>23</td><td>59</td><td>2013-09-30 23:00:00</td></tr>\n",
              "\t<tr><td>2013</td><td>9</td><td>30</td><td>  NA</td><td>1842</td><td> NA</td><td>  NA</td><td>2019</td><td> NA</td><td>EV</td><td>5274</td><td>N740EV</td><td>LGA</td><td>BNA</td><td> NA</td><td> 764</td><td>18</td><td>42</td><td>2013-09-30 18:00:00</td></tr>\n",
              "\t<tr><td>2013</td><td>9</td><td>30</td><td>  NA</td><td>1455</td><td> NA</td><td>  NA</td><td>1634</td><td> NA</td><td>9E</td><td>3393</td><td>NA    </td><td>JFK</td><td>DCA</td><td> NA</td><td> 213</td><td>14</td><td>55</td><td>2013-09-30 14:00:00</td></tr>\n",
              "\t<tr><td>2013</td><td>9</td><td>30</td><td>  NA</td><td>2200</td><td> NA</td><td>  NA</td><td>2312</td><td> NA</td><td>9E</td><td>3525</td><td>NA    </td><td>LGA</td><td>SYR</td><td> NA</td><td> 198</td><td>22</td><td> 0</td><td>2013-09-30 22:00:00</td></tr>\n",
              "\t<tr><td>2013</td><td>9</td><td>30</td><td>  NA</td><td>1210</td><td> NA</td><td>  NA</td><td>1330</td><td> NA</td><td>MQ</td><td>3461</td><td>N535MQ</td><td>LGA</td><td>BNA</td><td> NA</td><td> 764</td><td>12</td><td>10</td><td>2013-09-30 12:00:00</td></tr>\n",
              "\t<tr><td>2013</td><td>9</td><td>30</td><td>  NA</td><td>1159</td><td> NA</td><td>  NA</td><td>1344</td><td> NA</td><td>MQ</td><td>3572</td><td>N511MQ</td><td>LGA</td><td>CLE</td><td> NA</td><td> 419</td><td>11</td><td>59</td><td>2013-09-30 11:00:00</td></tr>\n",
              "\t<tr><td>2013</td><td>9</td><td>30</td><td>  NA</td><td> 840</td><td> NA</td><td>  NA</td><td>1020</td><td> NA</td><td>MQ</td><td>3531</td><td>N839MQ</td><td>LGA</td><td>RDU</td><td> NA</td><td> 431</td><td> 8</td><td>40</td><td>2013-09-30 08:00:00</td></tr>\n",
              "</tbody>\n",
              "</table>\n"
            ],
            "text/markdown": "\nA tibble: 215941 × 19\n\n| year &lt;int&gt; | month &lt;int&gt; | day &lt;int&gt; | dep_time &lt;int&gt; | sched_dep_time &lt;int&gt; | dep_delay &lt;dbl&gt; | arr_time &lt;int&gt; | sched_arr_time &lt;int&gt; | arr_delay &lt;dbl&gt; | carrier &lt;chr&gt; | flight &lt;int&gt; | tailnum &lt;chr&gt; | origin &lt;chr&gt; | dest &lt;chr&gt; | air_time &lt;dbl&gt; | distance &lt;dbl&gt; | hour &lt;dbl&gt; | minute &lt;dbl&gt; | time_hour &lt;dttm&gt; |\n|---|---|---|---|---|---|---|---|---|---|---|---|---|---|---|---|---|---|---|\n| 2013 | 1 | 1 | 533 | 529 |  4 |  850 |  830 |  20 | UA | 1714 | N24211 | LGA | IAH | 227 | 1416 | 5 | 29 | 2013-01-01 05:00:00 |\n| 2013 | 1 | 1 | 542 | 540 |  2 |  923 |  850 |  33 | AA | 1141 | N619AA | JFK | MIA | 160 | 1089 | 5 | 40 | 2013-01-01 05:00:00 |\n| 2013 | 1 | 1 | 544 | 545 | -1 | 1004 | 1022 | -18 | B6 |  725 | N804JB | JFK | BQN | 183 | 1576 | 5 | 45 | 2013-01-01 05:00:00 |\n| 2013 | 1 | 1 | 554 | 600 | -6 |  812 |  837 | -25 | DL |  461 | N668DN | LGA | ATL | 116 |  762 | 6 |  0 | 2013-01-01 06:00:00 |\n| 2013 | 1 | 1 | 557 | 600 | -3 |  709 |  723 | -14 | EV | 5708 | N829AS | LGA | IAD |  53 |  229 | 6 |  0 | 2013-01-01 06:00:00 |\n| 2013 | 1 | 1 | 557 | 600 | -3 |  838 |  846 |  -8 | B6 |   79 | N593JB | JFK | MCO | 140 |  944 | 6 |  0 | 2013-01-01 06:00:00 |\n| 2013 | 1 | 1 | 558 | 600 | -2 |  753 |  745 |   8 | AA |  301 | N3ALAA | LGA | ORD | 138 |  733 | 6 |  0 | 2013-01-01 06:00:00 |\n| 2013 | 1 | 1 | 558 | 600 | -2 |  849 |  851 |  -2 | B6 |   49 | N793JB | JFK | PBI | 149 | 1028 | 6 |  0 | 2013-01-01 06:00:00 |\n| 2013 | 1 | 1 | 558 | 600 | -2 |  853 |  856 |  -3 | B6 |   71 | N657JB | JFK | TPA | 158 | 1005 | 6 |  0 | 2013-01-01 06:00:00 |\n| 2013 | 1 | 1 | 558 | 600 | -2 |  924 |  917 |   7 | UA |  194 | N29129 | JFK | LAX | 345 | 2475 | 6 |  0 | 2013-01-01 06:00:00 |\n| 2013 | 1 | 1 | 559 | 600 | -1 |  941 |  910 |  31 | AA |  707 | N3DUAA | LGA | DFW | 257 | 1389 | 6 |  0 | 2013-01-01 06:00:00 |\n| 2013 | 1 | 1 | 559 | 559 |  0 |  702 |  706 |  -4 | B6 | 1806 | N708JB | JFK | BOS |  44 |  187 | 5 | 59 | 2013-01-01 05:00:00 |\n| 2013 | 1 | 1 | 600 | 600 |  0 |  851 |  858 |  -7 | B6 |  371 | N595JB | LGA | FLL | 152 | 1076 | 6 |  0 | 2013-01-01 06:00:00 |\n| 2013 | 1 | 1 | 600 | 600 |  0 |  837 |  825 |  12 | MQ | 4650 | N542MQ | LGA | ATL | 134 |  762 | 6 |  0 | 2013-01-01 06:00:00 |\n| 2013 | 1 | 1 | 602 | 610 | -8 |  812 |  820 |  -8 | DL | 1919 | N971DL | LGA | MSP | 170 | 1020 | 6 | 10 | 2013-01-01 06:00:00 |\n| 2013 | 1 | 1 | 602 | 605 | -3 |  821 |  805 |  16 | MQ | 4401 | N730MQ | LGA | DTW | 105 |  502 | 6 |  5 | 2013-01-01 06:00:00 |\n| 2013 | 1 | 1 | 606 | 610 | -4 |  837 |  845 |  -8 | DL | 1743 | N3739P | JFK | ATL | 128 |  760 | 6 | 10 | 2013-01-01 06:00:00 |\n| 2013 | 1 | 1 | 611 | 600 | 11 |  945 |  931 |  14 | UA |  303 | N532UA | JFK | SFO | 366 | 2586 | 6 |  0 | 2013-01-01 06:00:00 |\n| 2013 | 1 | 1 | 613 | 610 |  3 |  925 |  921 |   4 | B6 |  135 | N635JB | JFK | RSW | 175 | 1074 | 6 | 10 | 2013-01-01 06:00:00 |\n| 2013 | 1 | 1 | 615 | 615 |  0 | 1039 | 1100 | -21 | B6 |  709 | N794JB | JFK | SJU | 182 | 1598 | 6 | 15 | 2013-01-01 06:00:00 |\n| 2013 | 1 | 1 | 623 | 610 | 13 |  920 |  915 |   5 | AA | 1837 | N3EMAA | LGA | MIA | 153 | 1096 | 6 | 10 | 2013-01-01 06:00:00 |\n| 2013 | 1 | 1 | 623 | 627 | -4 |  933 |  932 |   1 | UA |  496 | N459UA | LGA | IAH | 229 | 1416 | 6 | 27 | 2013-01-01 06:00:00 |\n| 2013 | 1 | 1 | 624 | 630 | -6 |  840 |  830 |  10 | MQ | 4599 | N518MQ | LGA | MSP | 166 | 1020 | 6 | 30 | 2013-01-01 06:00:00 |\n| 2013 | 1 | 1 | 627 | 630 | -3 | 1018 | 1018 |   0 | US |   27 | N535UW | JFK | PHX | 330 | 2153 | 6 | 30 | 2013-01-01 06:00:00 |\n| 2013 | 1 | 1 | 628 | 630 | -2 | 1137 | 1140 |  -3 | AA |  413 | N3BAAA | JFK | SJU | 192 | 1598 | 6 | 30 | 2013-01-01 06:00:00 |\n| 2013 | 1 | 1 | 629 | 630 | -1 |  824 |  810 |  14 | AA |  303 | N3CYAA | LGA | ORD | 140 |  733 | 6 | 30 | 2013-01-01 06:00:00 |\n| 2013 | 1 | 1 | 629 | 630 | -1 |  721 |  740 | -19 | WN | 4646 | N273WN | LGA | BWI |  40 |  185 | 6 | 30 | 2013-01-01 06:00:00 |\n| 2013 | 1 | 1 | 635 | 635 |  0 | 1028 |  940 |  48 | AA |  711 | N3GKAA | LGA | DFW | 248 | 1389 | 6 | 35 | 2013-01-01 06:00:00 |\n| 2013 | 1 | 1 | 637 | 645 | -8 |  930 |  935 |  -5 | B6 |  389 | N709JB | LGA | MCO | 144 |  950 | 6 | 45 | 2013-01-01 06:00:00 |\n| 2013 | 1 | 1 | 639 | 640 | -1 |  739 |  749 | -10 | B6 | 1002 | N805JB | JFK | BOS |  41 |  187 | 6 | 40 | 2013-01-01 06:00:00 |\n| ⋮ | ⋮ | ⋮ | ⋮ | ⋮ | ⋮ | ⋮ | ⋮ | ⋮ | ⋮ | ⋮ | ⋮ | ⋮ | ⋮ | ⋮ | ⋮ | ⋮ | ⋮ | ⋮ |\n| 2013 | 9 | 30 | 2101 | 2110 |  -9 | 2232 | 2302 | -30 | EV | 4885 | N391CA | LGA | ILM |  67 |  500 | 21 | 10 | 2013-09-30 21:00:00 |\n| 2013 | 9 | 30 | 2104 | 2030 |  34 | 2205 | 2150 |  15 | WN |  382 | N7741C | LGA | MDW | 105 |  725 | 20 | 30 | 2013-09-30 20:00:00 |\n| 2013 | 9 | 30 | 2110 | 2055 |  15 |   51 | 2359 |  52 | B6 | 1205 | N517JB | JFK | PDX | 361 | 2454 | 20 | 55 | 2013-09-30 20:00:00 |\n| 2013 | 9 | 30 | 2115 | 2110 |   5 | 2246 | 2255 |  -9 | MQ | 3603 | N519MQ | LGA | DTW |  72 |  502 | 21 | 10 | 2013-09-30 21:00:00 |\n| 2013 | 9 | 30 | 2119 | 2120 |  -1 | 2330 | 2354 | -24 | B6 | 1677 | N358JB | JFK | JAX | 113 |  828 | 21 | 20 | 2013-09-30 21:00:00 |\n| 2013 | 9 | 30 | 2121 | 2100 |  21 | 2349 |   14 | -25 | DL | 2363 | N193DN | JFK | LAX | 296 | 2475 | 21 |  0 | 2013-09-30 21:00:00 |\n| 2013 | 9 | 30 | 2123 | 2125 |  -2 | 2223 | 2247 | -24 | EV | 5489 | N712EV | LGA | CHO |  45 |  305 | 21 | 25 | 2013-09-30 21:00:00 |\n| 2013 | 9 | 30 | 2128 | 2130 |  -2 | 2328 | 2359 | -31 | B6 |   97 | N807JB | JFK | DEN | 213 | 1626 | 21 | 30 | 2013-09-30 21:00:00 |\n| 2013 | 9 | 30 | 2129 | 2059 |  30 | 2230 | 2232 |  -2 | EV | 5048 | N751EV | LGA | RIC |  45 |  292 | 20 | 59 | 2013-09-30 20:00:00 |\n| 2013 | 9 | 30 | 2131 | 2140 |  -9 | 2225 | 2255 | -30 | MQ | 3621 | N807MQ | JFK | DCA |  36 |  213 | 21 | 40 | 2013-09-30 21:00:00 |\n| 2013 | 9 | 30 | 2140 | 2140 |   0 |   10 |   40 | -30 | AA |  185 | N335AA | JFK | LAX | 298 | 2475 | 21 | 40 | 2013-09-30 21:00:00 |\n| 2013 | 9 | 30 | 2145 | 2145 |   0 |  115 |  140 | -25 | B6 | 1103 | N633JB | JFK | SJU | 192 | 1598 | 21 | 45 | 2013-09-30 21:00:00 |\n| 2013 | 9 | 30 | 2147 | 2137 |  10 |   30 |   27 |   3 | B6 | 1371 | N627JB | LGA | FLL | 139 | 1076 | 21 | 37 | 2013-09-30 21:00:00 |\n| 2013 | 9 | 30 | 2159 | 1845 | 194 | 2344 | 2030 | 194 | 9E | 3320 | N906XJ | JFK | BUF |  50 |  301 | 18 | 45 | 2013-09-30 18:00:00 |\n| 2013 | 9 | 30 | 2203 | 2205 |  -2 | 2339 | 2331 |   8 | EV | 5311 | N722EV | LGA | BGR |  61 |  378 | 22 |  5 | 2013-09-30 22:00:00 |\n| 2013 | 9 | 30 | 2207 | 2140 |  27 | 2257 | 2250 |   7 | MQ | 3660 | N532MQ | LGA | BNA |  97 |  764 | 21 | 40 | 2013-09-30 21:00:00 |\n| 2013 | 9 | 30 | 2231 | 2245 | -14 | 2335 | 2356 | -21 | B6 |  108 | N193JB | JFK | PWM |  48 |  273 | 22 | 45 | 2013-09-30 22:00:00 |\n| 2013 | 9 | 30 | 2235 | 2001 | 154 |   59 | 2249 | 130 | B6 | 1083 | N804JB | JFK | MCO | 123 |  944 | 20 |  1 | 2013-09-30 20:00:00 |\n| 2013 | 9 | 30 | 2237 | 2245 |  -8 | 2345 | 2353 |  -8 | B6 |  234 | N318JB | JFK | BTV |  43 |  266 | 22 | 45 | 2013-09-30 22:00:00 |\n| 2013 | 9 | 30 | 2240 | 2245 |  -5 | 2334 | 2351 | -17 | B6 | 1816 | N354JB | JFK | SYR |  41 |  209 | 22 | 45 | 2013-09-30 22:00:00 |\n| 2013 | 9 | 30 | 2240 | 2250 | -10 | 2347 |    7 | -20 | B6 | 2002 | N281JB | JFK | BUF |  52 |  301 | 22 | 50 | 2013-09-30 22:00:00 |\n| 2013 | 9 | 30 | 2241 | 2246 |  -5 | 2345 |    1 | -16 | B6 |  486 | N346JB | JFK | ROC |  47 |  264 | 22 | 46 | 2013-09-30 22:00:00 |\n| 2013 | 9 | 30 | 2307 | 2255 |  12 | 2359 | 2358 |   1 | B6 |  718 | N565JB | JFK | BOS |  33 |  187 | 22 | 55 | 2013-09-30 22:00:00 |\n| 2013 | 9 | 30 | 2349 | 2359 | -10 |  325 |  350 | -25 | B6 |  745 | N516JB | JFK | PSE | 196 | 1617 | 23 | 59 | 2013-09-30 23:00:00 |\n| 2013 | 9 | 30 |   NA | 1842 |  NA |   NA | 2019 |  NA | EV | 5274 | N740EV | LGA | BNA |  NA |  764 | 18 | 42 | 2013-09-30 18:00:00 |\n| 2013 | 9 | 30 |   NA | 1455 |  NA |   NA | 1634 |  NA | 9E | 3393 | NA     | JFK | DCA |  NA |  213 | 14 | 55 | 2013-09-30 14:00:00 |\n| 2013 | 9 | 30 |   NA | 2200 |  NA |   NA | 2312 |  NA | 9E | 3525 | NA     | LGA | SYR |  NA |  198 | 22 |  0 | 2013-09-30 22:00:00 |\n| 2013 | 9 | 30 |   NA | 1210 |  NA |   NA | 1330 |  NA | MQ | 3461 | N535MQ | LGA | BNA |  NA |  764 | 12 | 10 | 2013-09-30 12:00:00 |\n| 2013 | 9 | 30 |   NA | 1159 |  NA |   NA | 1344 |  NA | MQ | 3572 | N511MQ | LGA | CLE |  NA |  419 | 11 | 59 | 2013-09-30 11:00:00 |\n| 2013 | 9 | 30 |   NA |  840 |  NA |   NA | 1020 |  NA | MQ | 3531 | N839MQ | LGA | RDU |  NA |  431 |  8 | 40 | 2013-09-30 08:00:00 |\n\n",
            "text/latex": "A tibble: 215941 × 19\n\\begin{tabular}{lllllllllllllllllll}\n year & month & day & dep\\_time & sched\\_dep\\_time & dep\\_delay & arr\\_time & sched\\_arr\\_time & arr\\_delay & carrier & flight & tailnum & origin & dest & air\\_time & distance & hour & minute & time\\_hour\\\\\n <int> & <int> & <int> & <int> & <int> & <dbl> & <int> & <int> & <dbl> & <chr> & <int> & <chr> & <chr> & <chr> & <dbl> & <dbl> & <dbl> & <dbl> & <dttm>\\\\\n\\hline\n\t 2013 & 1 & 1 & 533 & 529 &  4 &  850 &  830 &  20 & UA & 1714 & N24211 & LGA & IAH & 227 & 1416 & 5 & 29 & 2013-01-01 05:00:00\\\\\n\t 2013 & 1 & 1 & 542 & 540 &  2 &  923 &  850 &  33 & AA & 1141 & N619AA & JFK & MIA & 160 & 1089 & 5 & 40 & 2013-01-01 05:00:00\\\\\n\t 2013 & 1 & 1 & 544 & 545 & -1 & 1004 & 1022 & -18 & B6 &  725 & N804JB & JFK & BQN & 183 & 1576 & 5 & 45 & 2013-01-01 05:00:00\\\\\n\t 2013 & 1 & 1 & 554 & 600 & -6 &  812 &  837 & -25 & DL &  461 & N668DN & LGA & ATL & 116 &  762 & 6 &  0 & 2013-01-01 06:00:00\\\\\n\t 2013 & 1 & 1 & 557 & 600 & -3 &  709 &  723 & -14 & EV & 5708 & N829AS & LGA & IAD &  53 &  229 & 6 &  0 & 2013-01-01 06:00:00\\\\\n\t 2013 & 1 & 1 & 557 & 600 & -3 &  838 &  846 &  -8 & B6 &   79 & N593JB & JFK & MCO & 140 &  944 & 6 &  0 & 2013-01-01 06:00:00\\\\\n\t 2013 & 1 & 1 & 558 & 600 & -2 &  753 &  745 &   8 & AA &  301 & N3ALAA & LGA & ORD & 138 &  733 & 6 &  0 & 2013-01-01 06:00:00\\\\\n\t 2013 & 1 & 1 & 558 & 600 & -2 &  849 &  851 &  -2 & B6 &   49 & N793JB & JFK & PBI & 149 & 1028 & 6 &  0 & 2013-01-01 06:00:00\\\\\n\t 2013 & 1 & 1 & 558 & 600 & -2 &  853 &  856 &  -3 & B6 &   71 & N657JB & JFK & TPA & 158 & 1005 & 6 &  0 & 2013-01-01 06:00:00\\\\\n\t 2013 & 1 & 1 & 558 & 600 & -2 &  924 &  917 &   7 & UA &  194 & N29129 & JFK & LAX & 345 & 2475 & 6 &  0 & 2013-01-01 06:00:00\\\\\n\t 2013 & 1 & 1 & 559 & 600 & -1 &  941 &  910 &  31 & AA &  707 & N3DUAA & LGA & DFW & 257 & 1389 & 6 &  0 & 2013-01-01 06:00:00\\\\\n\t 2013 & 1 & 1 & 559 & 559 &  0 &  702 &  706 &  -4 & B6 & 1806 & N708JB & JFK & BOS &  44 &  187 & 5 & 59 & 2013-01-01 05:00:00\\\\\n\t 2013 & 1 & 1 & 600 & 600 &  0 &  851 &  858 &  -7 & B6 &  371 & N595JB & LGA & FLL & 152 & 1076 & 6 &  0 & 2013-01-01 06:00:00\\\\\n\t 2013 & 1 & 1 & 600 & 600 &  0 &  837 &  825 &  12 & MQ & 4650 & N542MQ & LGA & ATL & 134 &  762 & 6 &  0 & 2013-01-01 06:00:00\\\\\n\t 2013 & 1 & 1 & 602 & 610 & -8 &  812 &  820 &  -8 & DL & 1919 & N971DL & LGA & MSP & 170 & 1020 & 6 & 10 & 2013-01-01 06:00:00\\\\\n\t 2013 & 1 & 1 & 602 & 605 & -3 &  821 &  805 &  16 & MQ & 4401 & N730MQ & LGA & DTW & 105 &  502 & 6 &  5 & 2013-01-01 06:00:00\\\\\n\t 2013 & 1 & 1 & 606 & 610 & -4 &  837 &  845 &  -8 & DL & 1743 & N3739P & JFK & ATL & 128 &  760 & 6 & 10 & 2013-01-01 06:00:00\\\\\n\t 2013 & 1 & 1 & 611 & 600 & 11 &  945 &  931 &  14 & UA &  303 & N532UA & JFK & SFO & 366 & 2586 & 6 &  0 & 2013-01-01 06:00:00\\\\\n\t 2013 & 1 & 1 & 613 & 610 &  3 &  925 &  921 &   4 & B6 &  135 & N635JB & JFK & RSW & 175 & 1074 & 6 & 10 & 2013-01-01 06:00:00\\\\\n\t 2013 & 1 & 1 & 615 & 615 &  0 & 1039 & 1100 & -21 & B6 &  709 & N794JB & JFK & SJU & 182 & 1598 & 6 & 15 & 2013-01-01 06:00:00\\\\\n\t 2013 & 1 & 1 & 623 & 610 & 13 &  920 &  915 &   5 & AA & 1837 & N3EMAA & LGA & MIA & 153 & 1096 & 6 & 10 & 2013-01-01 06:00:00\\\\\n\t 2013 & 1 & 1 & 623 & 627 & -4 &  933 &  932 &   1 & UA &  496 & N459UA & LGA & IAH & 229 & 1416 & 6 & 27 & 2013-01-01 06:00:00\\\\\n\t 2013 & 1 & 1 & 624 & 630 & -6 &  840 &  830 &  10 & MQ & 4599 & N518MQ & LGA & MSP & 166 & 1020 & 6 & 30 & 2013-01-01 06:00:00\\\\\n\t 2013 & 1 & 1 & 627 & 630 & -3 & 1018 & 1018 &   0 & US &   27 & N535UW & JFK & PHX & 330 & 2153 & 6 & 30 & 2013-01-01 06:00:00\\\\\n\t 2013 & 1 & 1 & 628 & 630 & -2 & 1137 & 1140 &  -3 & AA &  413 & N3BAAA & JFK & SJU & 192 & 1598 & 6 & 30 & 2013-01-01 06:00:00\\\\\n\t 2013 & 1 & 1 & 629 & 630 & -1 &  824 &  810 &  14 & AA &  303 & N3CYAA & LGA & ORD & 140 &  733 & 6 & 30 & 2013-01-01 06:00:00\\\\\n\t 2013 & 1 & 1 & 629 & 630 & -1 &  721 &  740 & -19 & WN & 4646 & N273WN & LGA & BWI &  40 &  185 & 6 & 30 & 2013-01-01 06:00:00\\\\\n\t 2013 & 1 & 1 & 635 & 635 &  0 & 1028 &  940 &  48 & AA &  711 & N3GKAA & LGA & DFW & 248 & 1389 & 6 & 35 & 2013-01-01 06:00:00\\\\\n\t 2013 & 1 & 1 & 637 & 645 & -8 &  930 &  935 &  -5 & B6 &  389 & N709JB & LGA & MCO & 144 &  950 & 6 & 45 & 2013-01-01 06:00:00\\\\\n\t 2013 & 1 & 1 & 639 & 640 & -1 &  739 &  749 & -10 & B6 & 1002 & N805JB & JFK & BOS &  41 &  187 & 6 & 40 & 2013-01-01 06:00:00\\\\\n\t ⋮ & ⋮ & ⋮ & ⋮ & ⋮ & ⋮ & ⋮ & ⋮ & ⋮ & ⋮ & ⋮ & ⋮ & ⋮ & ⋮ & ⋮ & ⋮ & ⋮ & ⋮ & ⋮\\\\\n\t 2013 & 9 & 30 & 2101 & 2110 &  -9 & 2232 & 2302 & -30 & EV & 4885 & N391CA & LGA & ILM &  67 &  500 & 21 & 10 & 2013-09-30 21:00:00\\\\\n\t 2013 & 9 & 30 & 2104 & 2030 &  34 & 2205 & 2150 &  15 & WN &  382 & N7741C & LGA & MDW & 105 &  725 & 20 & 30 & 2013-09-30 20:00:00\\\\\n\t 2013 & 9 & 30 & 2110 & 2055 &  15 &   51 & 2359 &  52 & B6 & 1205 & N517JB & JFK & PDX & 361 & 2454 & 20 & 55 & 2013-09-30 20:00:00\\\\\n\t 2013 & 9 & 30 & 2115 & 2110 &   5 & 2246 & 2255 &  -9 & MQ & 3603 & N519MQ & LGA & DTW &  72 &  502 & 21 & 10 & 2013-09-30 21:00:00\\\\\n\t 2013 & 9 & 30 & 2119 & 2120 &  -1 & 2330 & 2354 & -24 & B6 & 1677 & N358JB & JFK & JAX & 113 &  828 & 21 & 20 & 2013-09-30 21:00:00\\\\\n\t 2013 & 9 & 30 & 2121 & 2100 &  21 & 2349 &   14 & -25 & DL & 2363 & N193DN & JFK & LAX & 296 & 2475 & 21 &  0 & 2013-09-30 21:00:00\\\\\n\t 2013 & 9 & 30 & 2123 & 2125 &  -2 & 2223 & 2247 & -24 & EV & 5489 & N712EV & LGA & CHO &  45 &  305 & 21 & 25 & 2013-09-30 21:00:00\\\\\n\t 2013 & 9 & 30 & 2128 & 2130 &  -2 & 2328 & 2359 & -31 & B6 &   97 & N807JB & JFK & DEN & 213 & 1626 & 21 & 30 & 2013-09-30 21:00:00\\\\\n\t 2013 & 9 & 30 & 2129 & 2059 &  30 & 2230 & 2232 &  -2 & EV & 5048 & N751EV & LGA & RIC &  45 &  292 & 20 & 59 & 2013-09-30 20:00:00\\\\\n\t 2013 & 9 & 30 & 2131 & 2140 &  -9 & 2225 & 2255 & -30 & MQ & 3621 & N807MQ & JFK & DCA &  36 &  213 & 21 & 40 & 2013-09-30 21:00:00\\\\\n\t 2013 & 9 & 30 & 2140 & 2140 &   0 &   10 &   40 & -30 & AA &  185 & N335AA & JFK & LAX & 298 & 2475 & 21 & 40 & 2013-09-30 21:00:00\\\\\n\t 2013 & 9 & 30 & 2145 & 2145 &   0 &  115 &  140 & -25 & B6 & 1103 & N633JB & JFK & SJU & 192 & 1598 & 21 & 45 & 2013-09-30 21:00:00\\\\\n\t 2013 & 9 & 30 & 2147 & 2137 &  10 &   30 &   27 &   3 & B6 & 1371 & N627JB & LGA & FLL & 139 & 1076 & 21 & 37 & 2013-09-30 21:00:00\\\\\n\t 2013 & 9 & 30 & 2159 & 1845 & 194 & 2344 & 2030 & 194 & 9E & 3320 & N906XJ & JFK & BUF &  50 &  301 & 18 & 45 & 2013-09-30 18:00:00\\\\\n\t 2013 & 9 & 30 & 2203 & 2205 &  -2 & 2339 & 2331 &   8 & EV & 5311 & N722EV & LGA & BGR &  61 &  378 & 22 &  5 & 2013-09-30 22:00:00\\\\\n\t 2013 & 9 & 30 & 2207 & 2140 &  27 & 2257 & 2250 &   7 & MQ & 3660 & N532MQ & LGA & BNA &  97 &  764 & 21 & 40 & 2013-09-30 21:00:00\\\\\n\t 2013 & 9 & 30 & 2231 & 2245 & -14 & 2335 & 2356 & -21 & B6 &  108 & N193JB & JFK & PWM &  48 &  273 & 22 & 45 & 2013-09-30 22:00:00\\\\\n\t 2013 & 9 & 30 & 2235 & 2001 & 154 &   59 & 2249 & 130 & B6 & 1083 & N804JB & JFK & MCO & 123 &  944 & 20 &  1 & 2013-09-30 20:00:00\\\\\n\t 2013 & 9 & 30 & 2237 & 2245 &  -8 & 2345 & 2353 &  -8 & B6 &  234 & N318JB & JFK & BTV &  43 &  266 & 22 & 45 & 2013-09-30 22:00:00\\\\\n\t 2013 & 9 & 30 & 2240 & 2245 &  -5 & 2334 & 2351 & -17 & B6 & 1816 & N354JB & JFK & SYR &  41 &  209 & 22 & 45 & 2013-09-30 22:00:00\\\\\n\t 2013 & 9 & 30 & 2240 & 2250 & -10 & 2347 &    7 & -20 & B6 & 2002 & N281JB & JFK & BUF &  52 &  301 & 22 & 50 & 2013-09-30 22:00:00\\\\\n\t 2013 & 9 & 30 & 2241 & 2246 &  -5 & 2345 &    1 & -16 & B6 &  486 & N346JB & JFK & ROC &  47 &  264 & 22 & 46 & 2013-09-30 22:00:00\\\\\n\t 2013 & 9 & 30 & 2307 & 2255 &  12 & 2359 & 2358 &   1 & B6 &  718 & N565JB & JFK & BOS &  33 &  187 & 22 & 55 & 2013-09-30 22:00:00\\\\\n\t 2013 & 9 & 30 & 2349 & 2359 & -10 &  325 &  350 & -25 & B6 &  745 & N516JB & JFK & PSE & 196 & 1617 & 23 & 59 & 2013-09-30 23:00:00\\\\\n\t 2013 & 9 & 30 &   NA & 1842 &  NA &   NA & 2019 &  NA & EV & 5274 & N740EV & LGA & BNA &  NA &  764 & 18 & 42 & 2013-09-30 18:00:00\\\\\n\t 2013 & 9 & 30 &   NA & 1455 &  NA &   NA & 1634 &  NA & 9E & 3393 & NA     & JFK & DCA &  NA &  213 & 14 & 55 & 2013-09-30 14:00:00\\\\\n\t 2013 & 9 & 30 &   NA & 2200 &  NA &   NA & 2312 &  NA & 9E & 3525 & NA     & LGA & SYR &  NA &  198 & 22 &  0 & 2013-09-30 22:00:00\\\\\n\t 2013 & 9 & 30 &   NA & 1210 &  NA &   NA & 1330 &  NA & MQ & 3461 & N535MQ & LGA & BNA &  NA &  764 & 12 & 10 & 2013-09-30 12:00:00\\\\\n\t 2013 & 9 & 30 &   NA & 1159 &  NA &   NA & 1344 &  NA & MQ & 3572 & N511MQ & LGA & CLE &  NA &  419 & 11 & 59 & 2013-09-30 11:00:00\\\\\n\t 2013 & 9 & 30 &   NA &  840 &  NA &   NA & 1020 &  NA & MQ & 3531 & N839MQ & LGA & RDU &  NA &  431 &  8 & 40 & 2013-09-30 08:00:00\\\\\n\\end{tabular}\n",
            "text/plain": [
              "       year month day dep_time sched_dep_time dep_delay arr_time sched_arr_time\n",
              "1      2013 1     1   533      529             4         850      830          \n",
              "2      2013 1     1   542      540             2         923      850          \n",
              "3      2013 1     1   544      545            -1        1004     1022          \n",
              "4      2013 1     1   554      600            -6         812      837          \n",
              "5      2013 1     1   557      600            -3         709      723          \n",
              "6      2013 1     1   557      600            -3         838      846          \n",
              "7      2013 1     1   558      600            -2         753      745          \n",
              "8      2013 1     1   558      600            -2         849      851          \n",
              "9      2013 1     1   558      600            -2         853      856          \n",
              "10     2013 1     1   558      600            -2         924      917          \n",
              "11     2013 1     1   559      600            -1         941      910          \n",
              "12     2013 1     1   559      559             0         702      706          \n",
              "13     2013 1     1   600      600             0         851      858          \n",
              "14     2013 1     1   600      600             0         837      825          \n",
              "15     2013 1     1   602      610            -8         812      820          \n",
              "16     2013 1     1   602      605            -3         821      805          \n",
              "17     2013 1     1   606      610            -4         837      845          \n",
              "18     2013 1     1   611      600            11         945      931          \n",
              "19     2013 1     1   613      610             3         925      921          \n",
              "20     2013 1     1   615      615             0        1039     1100          \n",
              "21     2013 1     1   623      610            13         920      915          \n",
              "22     2013 1     1   623      627            -4         933      932          \n",
              "23     2013 1     1   624      630            -6         840      830          \n",
              "24     2013 1     1   627      630            -3        1018     1018          \n",
              "25     2013 1     1   628      630            -2        1137     1140          \n",
              "26     2013 1     1   629      630            -1         824      810          \n",
              "27     2013 1     1   629      630            -1         721      740          \n",
              "28     2013 1     1   635      635             0        1028      940          \n",
              "29     2013 1     1   637      645            -8         930      935          \n",
              "30     2013 1     1   639      640            -1         739      749          \n",
              "⋮      ⋮    ⋮     ⋮   ⋮        ⋮              ⋮         ⋮        ⋮             \n",
              "215912 2013 9     30  2101     2110            -9       2232     2302          \n",
              "215913 2013 9     30  2104     2030            34       2205     2150          \n",
              "215914 2013 9     30  2110     2055            15         51     2359          \n",
              "215915 2013 9     30  2115     2110             5       2246     2255          \n",
              "215916 2013 9     30  2119     2120            -1       2330     2354          \n",
              "215917 2013 9     30  2121     2100            21       2349       14          \n",
              "215918 2013 9     30  2123     2125            -2       2223     2247          \n",
              "215919 2013 9     30  2128     2130            -2       2328     2359          \n",
              "215920 2013 9     30  2129     2059            30       2230     2232          \n",
              "215921 2013 9     30  2131     2140            -9       2225     2255          \n",
              "215922 2013 9     30  2140     2140             0         10       40          \n",
              "215923 2013 9     30  2145     2145             0        115      140          \n",
              "215924 2013 9     30  2147     2137            10         30       27          \n",
              "215925 2013 9     30  2159     1845           194       2344     2030          \n",
              "215926 2013 9     30  2203     2205            -2       2339     2331          \n",
              "215927 2013 9     30  2207     2140            27       2257     2250          \n",
              "215928 2013 9     30  2231     2245           -14       2335     2356          \n",
              "215929 2013 9     30  2235     2001           154         59     2249          \n",
              "215930 2013 9     30  2237     2245            -8       2345     2353          \n",
              "215931 2013 9     30  2240     2245            -5       2334     2351          \n",
              "215932 2013 9     30  2240     2250           -10       2347        7          \n",
              "215933 2013 9     30  2241     2246            -5       2345        1          \n",
              "215934 2013 9     30  2307     2255            12       2359     2358          \n",
              "215935 2013 9     30  2349     2359           -10        325      350          \n",
              "215936 2013 9     30    NA     1842            NA         NA     2019          \n",
              "215937 2013 9     30    NA     1455            NA         NA     1634          \n",
              "215938 2013 9     30    NA     2200            NA         NA     2312          \n",
              "215939 2013 9     30    NA     1210            NA         NA     1330          \n",
              "215940 2013 9     30    NA     1159            NA         NA     1344          \n",
              "215941 2013 9     30    NA      840            NA         NA     1020          \n",
              "       arr_delay carrier flight tailnum origin dest air_time distance hour\n",
              "1       20       UA      1714   N24211  LGA    IAH  227      1416     5   \n",
              "2       33       AA      1141   N619AA  JFK    MIA  160      1089     5   \n",
              "3      -18       B6       725   N804JB  JFK    BQN  183      1576     5   \n",
              "4      -25       DL       461   N668DN  LGA    ATL  116       762     6   \n",
              "5      -14       EV      5708   N829AS  LGA    IAD   53       229     6   \n",
              "6       -8       B6        79   N593JB  JFK    MCO  140       944     6   \n",
              "7        8       AA       301   N3ALAA  LGA    ORD  138       733     6   \n",
              "8       -2       B6        49   N793JB  JFK    PBI  149      1028     6   \n",
              "9       -3       B6        71   N657JB  JFK    TPA  158      1005     6   \n",
              "10       7       UA       194   N29129  JFK    LAX  345      2475     6   \n",
              "11      31       AA       707   N3DUAA  LGA    DFW  257      1389     6   \n",
              "12      -4       B6      1806   N708JB  JFK    BOS   44       187     5   \n",
              "13      -7       B6       371   N595JB  LGA    FLL  152      1076     6   \n",
              "14      12       MQ      4650   N542MQ  LGA    ATL  134       762     6   \n",
              "15      -8       DL      1919   N971DL  LGA    MSP  170      1020     6   \n",
              "16      16       MQ      4401   N730MQ  LGA    DTW  105       502     6   \n",
              "17      -8       DL      1743   N3739P  JFK    ATL  128       760     6   \n",
              "18      14       UA       303   N532UA  JFK    SFO  366      2586     6   \n",
              "19       4       B6       135   N635JB  JFK    RSW  175      1074     6   \n",
              "20     -21       B6       709   N794JB  JFK    SJU  182      1598     6   \n",
              "21       5       AA      1837   N3EMAA  LGA    MIA  153      1096     6   \n",
              "22       1       UA       496   N459UA  LGA    IAH  229      1416     6   \n",
              "23      10       MQ      4599   N518MQ  LGA    MSP  166      1020     6   \n",
              "24       0       US        27   N535UW  JFK    PHX  330      2153     6   \n",
              "25      -3       AA       413   N3BAAA  JFK    SJU  192      1598     6   \n",
              "26      14       AA       303   N3CYAA  LGA    ORD  140       733     6   \n",
              "27     -19       WN      4646   N273WN  LGA    BWI   40       185     6   \n",
              "28      48       AA       711   N3GKAA  LGA    DFW  248      1389     6   \n",
              "29      -5       B6       389   N709JB  LGA    MCO  144       950     6   \n",
              "30     -10       B6      1002   N805JB  JFK    BOS   41       187     6   \n",
              "⋮      ⋮         ⋮       ⋮      ⋮       ⋮      ⋮    ⋮        ⋮        ⋮   \n",
              "215912 -30       EV      4885   N391CA  LGA    ILM   67       500     21  \n",
              "215913  15       WN       382   N7741C  LGA    MDW  105       725     20  \n",
              "215914  52       B6      1205   N517JB  JFK    PDX  361      2454     20  \n",
              "215915  -9       MQ      3603   N519MQ  LGA    DTW   72       502     21  \n",
              "215916 -24       B6      1677   N358JB  JFK    JAX  113       828     21  \n",
              "215917 -25       DL      2363   N193DN  JFK    LAX  296      2475     21  \n",
              "215918 -24       EV      5489   N712EV  LGA    CHO   45       305     21  \n",
              "215919 -31       B6        97   N807JB  JFK    DEN  213      1626     21  \n",
              "215920  -2       EV      5048   N751EV  LGA    RIC   45       292     20  \n",
              "215921 -30       MQ      3621   N807MQ  JFK    DCA   36       213     21  \n",
              "215922 -30       AA       185   N335AA  JFK    LAX  298      2475     21  \n",
              "215923 -25       B6      1103   N633JB  JFK    SJU  192      1598     21  \n",
              "215924   3       B6      1371   N627JB  LGA    FLL  139      1076     21  \n",
              "215925 194       9E      3320   N906XJ  JFK    BUF   50       301     18  \n",
              "215926   8       EV      5311   N722EV  LGA    BGR   61       378     22  \n",
              "215927   7       MQ      3660   N532MQ  LGA    BNA   97       764     21  \n",
              "215928 -21       B6       108   N193JB  JFK    PWM   48       273     22  \n",
              "215929 130       B6      1083   N804JB  JFK    MCO  123       944     20  \n",
              "215930  -8       B6       234   N318JB  JFK    BTV   43       266     22  \n",
              "215931 -17       B6      1816   N354JB  JFK    SYR   41       209     22  \n",
              "215932 -20       B6      2002   N281JB  JFK    BUF   52       301     22  \n",
              "215933 -16       B6       486   N346JB  JFK    ROC   47       264     22  \n",
              "215934   1       B6       718   N565JB  JFK    BOS   33       187     22  \n",
              "215935 -25       B6       745   N516JB  JFK    PSE  196      1617     23  \n",
              "215936  NA       EV      5274   N740EV  LGA    BNA   NA       764     18  \n",
              "215937  NA       9E      3393   NA      JFK    DCA   NA       213     14  \n",
              "215938  NA       9E      3525   NA      LGA    SYR   NA       198     22  \n",
              "215939  NA       MQ      3461   N535MQ  LGA    BNA   NA       764     12  \n",
              "215940  NA       MQ      3572   N511MQ  LGA    CLE   NA       419     11  \n",
              "215941  NA       MQ      3531   N839MQ  LGA    RDU   NA       431      8  \n",
              "       minute time_hour          \n",
              "1      29     2013-01-01 05:00:00\n",
              "2      40     2013-01-01 05:00:00\n",
              "3      45     2013-01-01 05:00:00\n",
              "4       0     2013-01-01 06:00:00\n",
              "5       0     2013-01-01 06:00:00\n",
              "6       0     2013-01-01 06:00:00\n",
              "7       0     2013-01-01 06:00:00\n",
              "8       0     2013-01-01 06:00:00\n",
              "9       0     2013-01-01 06:00:00\n",
              "10      0     2013-01-01 06:00:00\n",
              "11      0     2013-01-01 06:00:00\n",
              "12     59     2013-01-01 05:00:00\n",
              "13      0     2013-01-01 06:00:00\n",
              "14      0     2013-01-01 06:00:00\n",
              "15     10     2013-01-01 06:00:00\n",
              "16      5     2013-01-01 06:00:00\n",
              "17     10     2013-01-01 06:00:00\n",
              "18      0     2013-01-01 06:00:00\n",
              "19     10     2013-01-01 06:00:00\n",
              "20     15     2013-01-01 06:00:00\n",
              "21     10     2013-01-01 06:00:00\n",
              "22     27     2013-01-01 06:00:00\n",
              "23     30     2013-01-01 06:00:00\n",
              "24     30     2013-01-01 06:00:00\n",
              "25     30     2013-01-01 06:00:00\n",
              "26     30     2013-01-01 06:00:00\n",
              "27     30     2013-01-01 06:00:00\n",
              "28     35     2013-01-01 06:00:00\n",
              "29     45     2013-01-01 06:00:00\n",
              "30     40     2013-01-01 06:00:00\n",
              "⋮      ⋮      ⋮                  \n",
              "215912 10     2013-09-30 21:00:00\n",
              "215913 30     2013-09-30 20:00:00\n",
              "215914 55     2013-09-30 20:00:00\n",
              "215915 10     2013-09-30 21:00:00\n",
              "215916 20     2013-09-30 21:00:00\n",
              "215917  0     2013-09-30 21:00:00\n",
              "215918 25     2013-09-30 21:00:00\n",
              "215919 30     2013-09-30 21:00:00\n",
              "215920 59     2013-09-30 20:00:00\n",
              "215921 40     2013-09-30 21:00:00\n",
              "215922 40     2013-09-30 21:00:00\n",
              "215923 45     2013-09-30 21:00:00\n",
              "215924 37     2013-09-30 21:00:00\n",
              "215925 45     2013-09-30 18:00:00\n",
              "215926  5     2013-09-30 22:00:00\n",
              "215927 40     2013-09-30 21:00:00\n",
              "215928 45     2013-09-30 22:00:00\n",
              "215929  1     2013-09-30 20:00:00\n",
              "215930 45     2013-09-30 22:00:00\n",
              "215931 45     2013-09-30 22:00:00\n",
              "215932 50     2013-09-30 22:00:00\n",
              "215933 46     2013-09-30 22:00:00\n",
              "215934 55     2013-09-30 22:00:00\n",
              "215935 59     2013-09-30 23:00:00\n",
              "215936 42     2013-09-30 18:00:00\n",
              "215937 55     2013-09-30 14:00:00\n",
              "215938  0     2013-09-30 22:00:00\n",
              "215939 10     2013-09-30 12:00:00\n",
              "215940 59     2013-09-30 11:00:00\n",
              "215941 40     2013-09-30 08:00:00"
            ]
          },
          "metadata": {}
        }
      ],
      "source": [
        "filter(flights,origin %in% c(\"JFK\",\"LGA\"))"
      ]
    },
    {
      "cell_type": "markdown",
      "metadata": {
        "id": "O5P0JTy5-NHa"
      },
      "source": [
        "Cuando usamos filter() o cualquier otro filtro, podemos combinar condiciones con operadores como & (y), | (o), <, >, ==, !=, <=, >= e %in%.\n",
        "\n",
        "Esto permite construir filtros muy potentes y específicos para quedarse solo con los datos que necesitamos."
      ]
    },
    {
      "cell_type": "markdown",
      "metadata": {
        "id": "SvWeddOH-Ocy"
      },
      "source": [
        "## Ejercicios (Filter)"
      ]
    },
    {
      "cell_type": "markdown",
      "metadata": {
        "id": "7C9qhAGD-XPh"
      },
      "source": [
        "1. Vuelos con retraso de llegada de 2 horas o más"
      ]
    },
    {
      "cell_type": "code",
      "execution_count": null,
      "metadata": {
        "collapsed": true,
        "id": "bRPp5paL-Zv1"
      },
      "outputs": [],
      "source": []
    },
    {
      "cell_type": "markdown",
      "metadata": {
        "id": "6tNnuE3Q_VNn"
      },
      "source": [
        "2. Vuelos con destino a Houston (IAH o HOU)"
      ]
    },
    {
      "cell_type": "code",
      "execution_count": null,
      "metadata": {
        "collapsed": true,
        "id": "CENQO6b0_Wt7"
      },
      "outputs": [],
      "source": []
    },
    {
      "cell_type": "markdown",
      "metadata": {
        "id": "QYDkqtmh_s3m"
      },
      "source": [
        "3. Vuelos operados por United, American o Delta"
      ]
    },
    {
      "cell_type": "code",
      "execution_count": null,
      "metadata": {
        "collapsed": true,
        "id": "YYeqeQCS_wBf"
      },
      "outputs": [],
      "source": []
    },
    {
      "cell_type": "markdown",
      "metadata": {
        "id": "j0MES5we__9M"
      },
      "source": [
        "4. Vuelos que partieron en invierno del hemisferio sur (julio, agosto y septiembre)"
      ]
    },
    {
      "cell_type": "code",
      "execution_count": null,
      "metadata": {
        "collapsed": true,
        "id": "_FAJ-0D3_76i"
      },
      "outputs": [],
      "source": []
    },
    {
      "cell_type": "markdown",
      "metadata": {
        "id": "HI4L7qDXAU1i"
      },
      "source": [
        "5. Vuelos que llegaron más de 2 horas tarde pero no salieron tarde"
      ]
    },
    {
      "cell_type": "code",
      "execution_count": null,
      "metadata": {
        "collapsed": true,
        "id": "YsQO69y5AWT5"
      },
      "outputs": [],
      "source": []
    },
    {
      "cell_type": "markdown",
      "metadata": {
        "id": "4aLw4LmbAdX-"
      },
      "source": [
        "6. Vuelos que se retrasaron al menos una hora, pero recuperaron más de 30 minutos mientras volaban (diferencia entre partida y llegada)\n"
      ]
    },
    {
      "cell_type": "code",
      "execution_count": null,
      "metadata": {
        "collapsed": true,
        "id": "ysn0jpSlAqPD"
      },
      "outputs": [],
      "source": []
    },
    {
      "cell_type": "markdown",
      "metadata": {
        "id": "VMtfGr8XB7JQ"
      },
      "source": [
        "7. Crear una variable llamada vuelos_madrugada con los vuelos que partieron entre medianoche y las 6:00 a.m. (incluyente)"
      ]
    },
    {
      "cell_type": "code",
      "execution_count": null,
      "metadata": {
        "collapsed": true,
        "id": "9CLWVrWKA40j"
      },
      "outputs": [],
      "source": []
    },
    {
      "cell_type": "markdown",
      "metadata": {
        "id": "iwfMLeCgCKyi"
      },
      "source": [
        "Cada uno de estos filtros permite construir subconjuntos del dataset original para hacer análisis más específicos y enfocados. También podemos almacenar los resultados en un objeto para reutilizarlos más adelante (como en el caso de la creación de vuelos_madrugada).\n",
        "\n",
        "8. Uso de `between()` para simplificar filtros:\n",
        "\n",
        "La función `between(x, a, b)` comprueba si los valores de `x` están entre `a` y `b` (ambos inclusive). Reemplaza expresiones como `x >= a & x <= b`, haciéndolas más legibles. Así, si repetimos el ejercicio de los vuelos de julio, agosto y septiembre, tendríamos:"
      ]
    },
    {
      "cell_type": "code",
      "execution_count": null,
      "metadata": {
        "collapsed": true,
        "id": "e0nszamyAx32"
      },
      "outputs": [],
      "source": []
    },
    {
      "cell_type": "markdown",
      "metadata": {
        "id": "YeAPFJpKCwpk"
      },
      "source": [
        "9. Valores faltantes en los datos\n",
        "\n",
        "¿Cuántos vuelos tienen `dep_time` faltante?\n"
      ]
    },
    {
      "cell_type": "code",
      "execution_count": null,
      "metadata": {
        "id": "EJJC3yZcCs3g"
      },
      "outputs": [],
      "source": []
    },
    {
      "cell_type": "markdown",
      "metadata": {
        "id": "llRyO4x6DA2S"
      },
      "source": [
        "¿Qué variables tienen valores faltantes?"
      ]
    },
    {
      "cell_type": "code",
      "execution_count": null,
      "metadata": {
        "id": "ufJXXsj5C9c7"
      },
      "outputs": [],
      "source": []
    },
    {
      "cell_type": "code",
      "execution_count": null,
      "metadata": {
        "id": "yLH4CtEUvBZW"
      },
      "outputs": [],
      "source": []
    },
    {
      "cell_type": "markdown",
      "metadata": {
        "id": "WeaTuUofDKcs"
      },
      "source": [
        "Las filas con datos faltantes generalmente corresponden a **vuelos cancelados**.\n",
        "\n",
        "¿Por qué ciertas operaciones con `NA` no devuelven `NA`?\n",
        "\n",
        "\n",
        "\n"
      ]
    },
    {
      "cell_type": "code",
      "execution_count": null,
      "metadata": {
        "id": "mpo0cafYIS_w"
      },
      "outputs": [],
      "source": []
    },
    {
      "cell_type": "markdown",
      "metadata": {
        "id": "4AJN_8PRJCVl"
      },
      "source": [
        "Sea x la edad de María. No sabemos qué edad tiene.\n",
        "\n",
        "Sea y la edad de Juan. No sabemos qué edad tiene.\n",
        "\n",
        "¿Tienen Juan y María la misma edad?"
      ]
    },
    {
      "cell_type": "code",
      "execution_count": null,
      "metadata": {
        "id": "6gO8gmYWJCmp"
      },
      "outputs": [],
      "source": []
    },
    {
      "cell_type": "markdown",
      "metadata": {
        "id": "4cjlDsF0Is6L"
      },
      "source": [
        "Explicación:\n",
        "\n",
        "| Expresión       | Resultado | Justificación                                                                 |\n",
        "|----------------|-----------|--------------------------------------------------------------------------------|\n",
        "| `NA ^ 0`        | `1`       | Cualquier número (incluso desconocido) elevado a 0 es 1                        |\n",
        "| `NA | TRUE`     | `TRUE`    | `OR` lógico: si una parte es `TRUE`, el resultado es `TRUE`                   |\n",
        "| `FALSE & NA`    | `FALSE`   | `AND` lógico: si una parte es `FALSE`, ya no importa la otra                  |\n",
        "| `NA * 0`        | `NA`      | Multiplicación: si uno es `NA`, el resultado es desconocido                   |\n",
        "\n",
        "**En general:**\n",
        "\n",
        "- Si el resultado puede determinarse sin conocer el valor faltante, **no devuelve `NA`**.\n",
        "- Si depende del valor faltante, **sí devuelve `NA`**.\n",
        "\n",
        "\n",
        "\n",
        "### 2. `arrange()` – Ordenar filas\n",
        "\n",
        "`arrange()` **ordena** las filas por una o más variables.\n",
        "\n",
        "Ahora, si queremos ordenar los vuelos por retraso en llegada de menor a mayor:"
      ]
    },
    {
      "cell_type": "code",
      "execution_count": null,
      "metadata": {
        "collapsed": true,
        "id": "daOYcTKMDuSg"
      },
      "outputs": [],
      "source": []
    },
    {
      "cell_type": "markdown",
      "metadata": {
        "id": "e1tfA_spD4en"
      },
      "source": [
        "\n",
        "Y si lo necesitamos de mayor a menor:"
      ]
    },
    {
      "cell_type": "code",
      "execution_count": null,
      "metadata": {
        "collapsed": true,
        "id": "2RdHcZSBDz7f"
      },
      "outputs": [],
      "source": []
    },
    {
      "cell_type": "markdown",
      "metadata": {
        "id": "t_DQR-0WEAhz"
      },
      "source": [
        "También podemos ordenar teniendo en cuenta varias columnas a la vez:"
      ]
    },
    {
      "cell_type": "code",
      "execution_count": null,
      "metadata": {
        "collapsed": true,
        "id": "GjzjMekuD7JQ"
      },
      "outputs": [],
      "source": []
    },
    {
      "cell_type": "markdown",
      "metadata": {
        "id": "vqNCY87lELCl"
      },
      "source": [
        "## Ejercicios 2 con la función `arrange()`\n",
        "\n",
        "1. Ordenar vuelos colocando primero los valores faltantes"
      ]
    },
    {
      "cell_type": "code",
      "execution_count": null,
      "metadata": {
        "collapsed": true,
        "id": "Z1z6epqWAs2N"
      },
      "outputs": [],
      "source": []
    },
    {
      "cell_type": "markdown",
      "metadata": {
        "id": "8mN2SjrnEyJQ"
      },
      "source": [
        "2. Vuelos más retrasados en salida (mayor `dep_delay`)."
      ]
    },
    {
      "cell_type": "code",
      "execution_count": null,
      "metadata": {
        "collapsed": true,
        "id": "mADsgnZmEjtZ"
      },
      "outputs": [],
      "source": []
    },
    {
      "cell_type": "markdown",
      "metadata": {
        "id": "kix22xgNFCh2"
      },
      "source": [
        "3. Vuelos que salieron más temprano (menor `dep_time`), sin incluir datos faltantes."
      ]
    },
    {
      "cell_type": "code",
      "execution_count": null,
      "metadata": {
        "collapsed": true,
        "id": "TggJuSY4Ae_q"
      },
      "outputs": [],
      "source": []
    },
    {
      "cell_type": "markdown",
      "metadata": {
        "id": "SjGLRoPrFUnk"
      },
      "source": [
        "4. Vuelos más rápidos (que viajaron a mayor velocidad (kilómetros / hora)"
      ]
    },
    {
      "cell_type": "code",
      "execution_count": null,
      "metadata": {
        "collapsed": true,
        "id": "oXB-_kLHAaZo"
      },
      "outputs": [],
      "source": []
    },
    {
      "cell_type": "markdown",
      "metadata": {
        "id": "5xal1rcsNSUO"
      },
      "source": [
        "5. ¿Cuáles vuelos viajaron más lejos? ¿Cuál viajó más cerca?:\n",
        "\n",
        "\n"
      ]
    },
    {
      "cell_type": "code",
      "execution_count": null,
      "metadata": {
        "collapsed": true,
        "id": "yKhxlab4Ktzd"
      },
      "outputs": [],
      "source": []
    },
    {
      "cell_type": "code",
      "execution_count": null,
      "metadata": {
        "collapsed": true,
        "id": "cj11gb6JP_KG"
      },
      "outputs": [],
      "source": []
    },
    {
      "cell_type": "markdown",
      "metadata": {
        "id": "TkNxka9YQBvn"
      },
      "source": [
        "Es importante interpreta cada resultado y buscar patrones, por ejemplo, si ciertos destinos suelen ser los más lejanos o si algunas aerolíneas tienen más retrasos sistemáticos.\n"
      ]
    },
    {
      "cell_type": "markdown",
      "metadata": {
        "id": "esSncbegQ1Ii"
      },
      "source": [
        "\n",
        "------------------------------------------------------------------------\n",
        "\n",
        "### 3. `select()` – Seleccionar columnas\n",
        "\n",
        "`select()` permite **elegir columnas específicas** de un conjunto de datos\n",
        "\n",
        "Supongamos que queremos ver solo las columnas `year`, `month`, `day`, `dep_time`, `arr_time`:"
      ]
    },
    {
      "cell_type": "code",
      "execution_count": null,
      "metadata": {
        "collapsed": true,
        "id": "Culwt8CKAI4I"
      },
      "outputs": [],
      "source": []
    },
    {
      "cell_type": "markdown",
      "metadata": {
        "id": "D_t8XY2uRF1P"
      },
      "source": [
        "Supongamos que queremos seleccionar varias columnas seguidas (en un rango), digamos entre dep_time y arr_time"
      ]
    },
    {
      "cell_type": "code",
      "execution_count": null,
      "metadata": {
        "collapsed": true,
        "id": "J2YTOIKp_lYK"
      },
      "outputs": [],
      "source": []
    },
    {
      "cell_type": "markdown",
      "metadata": {
        "id": "KgVaCoMCRN14"
      },
      "source": [
        "Si quremos ver lo mismo pero utilizando %>%:"
      ]
    },
    {
      "cell_type": "code",
      "execution_count": null,
      "metadata": {
        "collapsed": true,
        "id": "yWtHl8jA_M45"
      },
      "outputs": [],
      "source": []
    },
    {
      "cell_type": "markdown",
      "metadata": {
        "id": "XUQ0bwIpRg0v"
      },
      "source": [
        "Si queremos seleccionar todas las columnas excepto las que están en un rango, digamos todas las que no están entre dep_time y arr_time\n"
      ]
    },
    {
      "cell_type": "code",
      "execution_count": null,
      "metadata": {
        "collapsed": true,
        "id": "BPy6yTfd-R7E"
      },
      "outputs": [],
      "source": []
    },
    {
      "cell_type": "markdown",
      "metadata": {
        "id": "WTWIICQRRxqT"
      },
      "source": [
        "**Funciones auxiliares de `select()`**\n",
        "\n",
        "Cuando tenemos muchas columnas, `dplyr` permite seleccionar variables por su nombre usando funciones auxiliares:\n",
        "\n",
        "1. `starts_with(\"texto\")`\n",
        "\n",
        "Selecciona columnas que **comienzan** con una cadena:\n",
        "\n",
        "Por ejemplo, si queremos seleccionar las columnas relacionadas con el despegue \"Departure\""
      ]
    },
    {
      "cell_type": "code",
      "execution_count": null,
      "metadata": {
        "collapsed": true,
        "id": "h0qUCVjc9Q70"
      },
      "outputs": [],
      "source": []
    },
    {
      "cell_type": "markdown",
      "metadata": {
        "id": "G9DxwIVDSEut"
      },
      "source": [
        "2. `ends_with(\"texto\")`\n",
        "\n",
        "Selecciona columnas que **terminan** en una cadena:\n",
        "\n",
        "Por ejemplo, si necesitamos información sobre las columnas relacionadas con el tiempo (time)"
      ]
    },
    {
      "cell_type": "code",
      "execution_count": null,
      "metadata": {
        "collapsed": true,
        "id": "tkJXs-cw9L60"
      },
      "outputs": [],
      "source": []
    },
    {
      "cell_type": "markdown",
      "metadata": {
        "id": "J-BAUERuSRB2"
      },
      "source": [
        "3. `contains(\"texto\")`\n",
        "\n",
        "Selecciona columnas que **contienen** una cadena en cualquier parte:\n",
        "\n",
        "Por ejemplo, si necesitamos recolectar información sobre la demora, en general de los vuelos (delay):"
      ]
    },
    {
      "cell_type": "code",
      "execution_count": null,
      "metadata": {
        "collapsed": true,
        "id": "74Xu67UG9FB8"
      },
      "outputs": [],
      "source": []
    },
    {
      "cell_type": "markdown",
      "metadata": {
        "id": "7Ppx_LgTSc8_"
      },
      "source": [
        "4. `num_range(\"prefijo\", rango)`\n",
        "\n",
        "Selecciona columnas con nombres secuenciales como `x1`, `x2`, ..., `x5`:\n"
      ]
    },
    {
      "cell_type": "code",
      "execution_count": null,
      "metadata": {
        "id": "dlWKdpDc1v6C"
      },
      "outputs": [],
      "source": []
    },
    {
      "cell_type": "markdown",
      "metadata": {
        "id": "DReVPSGCSoaQ"
      },
      "source": [
        "**Buenas prácticas**\n",
        "\n",
        "Si se nombran (renombran) las columnas de manera coherente (por ejemplo, `dep_time`, `dep_delay`), se pueden aprovechar estas funciones para seleccionar subconjuntos de columnas fácilmente.\n",
        "\n",
        "## Ejercicios 3 con `select()`\n",
        "\n",
        "1. Seleccionar múltiples formas:\n",
        "\n",
        "Selecciona las variables `dep_time`, `dep_delay`, `arr_time`, `arr_delay` usando distintos métodos:\n"
      ]
    },
    {
      "cell_type": "code",
      "execution_count": null,
      "metadata": {
        "collapsed": true,
        "id": "LgB2_Odk0JIF"
      },
      "outputs": [],
      "source": []
    },
    {
      "cell_type": "code",
      "execution_count": null,
      "metadata": {
        "collapsed": true,
        "id": "c9a39GjFw8y_"
      },
      "outputs": [],
      "source": []
    },
    {
      "cell_type": "code",
      "execution_count": null,
      "metadata": {
        "collapsed": true,
        "id": "uzYbEHxHw-oZ"
      },
      "outputs": [],
      "source": []
    },
    {
      "cell_type": "code",
      "execution_count": null,
      "metadata": {
        "collapsed": true,
        "id": "TprkE3yexAAB"
      },
      "outputs": [],
      "source": []
    },
    {
      "cell_type": "markdown",
      "metadata": {
        "id": "kJAGE6TyUJ2T"
      },
      "source": [
        "La función matches() en R pertenece al paquete dplyr, que forma parte del ecosistema tidyverse. Es una de las funciones auxiliares que se utiliza en conjunto con select() para seleccionar columnas cuyos nombres coincidan con una expresión regular (regex).\n",
        "\n",
        "¿Qué hace matches()?\n",
        "matches() busca coincidencias en los nombres de las variables usando expresiones regulares. Es muy útil cuando tienes columnas con patrones en sus nombres y quieres seleccionarlas sin tener que escribirlas todas de forma manual.\n",
        "\n",
        "2. Variable repetida\n",
        "\n"
      ]
    },
    {
      "cell_type": "code",
      "execution_count": null,
      "metadata": {
        "collapsed": true,
        "id": "RoQat4b-0DMv"
      },
      "outputs": [],
      "source": []
    },
    {
      "cell_type": "markdown",
      "metadata": {
        "id": "A4KzvWMLU_9E"
      },
      "source": [
        "El resultado solo incluye una vez la columna `dep_time`, no genera error pero ignora repeticiones.\n",
        "3. Uso de `any_of()`\n",
        "\n",
        "La función any() en R no pertenece específicamente a dplyr, sino que es parte del núcleo base de R (base package). Es una función lógica muy útil que se utiliza para evaluar si al menos uno de los elementos de un vector lógico es TRUE.\n",
        "¿Qué hace any()?\n",
        "any() devuelve TRUE si al menos uno de los elementos evaluados es TRUE; de lo contrario, devuelve FALSE."
      ]
    },
    {
      "cell_type": "code",
      "execution_count": null,
      "metadata": {
        "collapsed": true,
        "id": "lxIadxOgzdvI"
      },
      "outputs": [],
      "source": []
    },
    {
      "cell_type": "markdown",
      "metadata": {
        "id": "iYXqIeCOVc9m"
      },
      "source": [
        "`any_of()` selecciona solo las variables que existen e **ignora silenciosamente** las que no existen.\n",
        "\n",
        "4.  `contains()` y sensibilidad a mayúsculas"
      ]
    },
    {
      "cell_type": "code",
      "execution_count": null,
      "metadata": {
        "collapsed": true,
        "id": "vRXhwpD0zIGX"
      },
      "outputs": [],
      "source": []
    },
    {
      "cell_type": "code",
      "execution_count": null,
      "metadata": {
        "id": "09UvVjh5zBP4"
      },
      "outputs": [],
      "source": []
    },
    {
      "cell_type": "code",
      "execution_count": null,
      "metadata": {
        "id": "ryWXejMYy8nd"
      },
      "outputs": [],
      "source": []
    },
    {
      "cell_type": "markdown",
      "metadata": {
        "id": "rJfCpiJ9g4OB"
      },
      "source": [
        "### `mutate()` – Crear nuevas variables\n",
        "\n",
        "`mutate()` agrega **nuevas columnas** calculadas a partir de otras.\n",
        "\n",
        "Si queremos calcular la velocidad de cada vuelo (utilizando la misma información que en el ejercicio de ordenamiento de antes::"
      ]
    },
    {
      "cell_type": "code",
      "execution_count": null,
      "metadata": {
        "collapsed": true,
        "id": "IgZEqYM9ymnJ"
      },
      "outputs": [],
      "source": []
    },
    {
      "cell_type": "markdown",
      "metadata": {
        "id": "x_vLN5MqhaZc"
      },
      "source": [
        "Si queremos calcular la ganancia en tiempo de cada vuelo, es decir, si hay diferencias entre el retraso de despegue y de aterrizaje, a la vez que calculamos la ganancia por hora en vez de minutos:\n",
        "\n",
        "Podemos ir anidando varias sentencias a la vez:"
      ]
    },
    {
      "cell_type": "code",
      "execution_count": null,
      "metadata": {
        "collapsed": true,
        "id": "SZtHvoLfhiJP"
      },
      "outputs": [],
      "source": []
    },
    {
      "cell_type": "markdown",
      "metadata": {
        "id": "xbox5gEFhudA"
      },
      "source": [
        "**Otras funciones útiles en `dplyr` relacionadas con Mutate:**\n",
        "\n",
        "Aparte de `mutate()`, existen funciones que permiten realizar transformaciones más específicas sobre los datos. Veamos algunas de las más útiles:\n",
        "\n",
        "1. `transmute()`\n",
        "\n",
        "Es como `mutate()`, pero **solo conserva las variables nuevas** que se crean, descartando todas las demás.\n",
        "\n",
        "Por ejemplo, si sólo necesitamos calcular velocidad, debido a que no necesitamos el resto de información, (descartamos el resto):\n"
      ]
    },
    {
      "cell_type": "code",
      "execution_count": null,
      "metadata": {
        "collapsed": true,
        "id": "7beuCi8Ih3CL"
      },
      "outputs": [],
      "source": []
    },
    {
      "cell_type": "markdown",
      "metadata": {
        "id": "UlaeoYVdhuV8"
      },
      "source": [
        "\n",
        "2. `lag()` y `lead()`\n",
        "\n",
        "Permiten acceder al **valor anterior (`lag`) o posterior (`lead`)** de una variable. Útiles para comparar observaciones secuenciales (normalmente útiles en análisis de series temporales).\n",
        "\n",
        "\n"
      ]
    },
    {
      "cell_type": "code",
      "execution_count": null,
      "metadata": {
        "id": "-9wq1QsW-Yv0"
      },
      "outputs": [],
      "source": []
    },
    {
      "cell_type": "markdown",
      "metadata": {
        "id": "SOIpWklB-ZQp"
      },
      "source": [
        "Por ejemplo, si queremos analizar el retraso en la llegada respecto al vuelo anterior/siguiente:"
      ]
    },
    {
      "cell_type": "code",
      "execution_count": null,
      "metadata": {
        "collapsed": true,
        "id": "TRntuOEWmuRA"
      },
      "outputs": [],
      "source": []
    },
    {
      "cell_type": "markdown",
      "metadata": {
        "id": "SizMY6CEnFdo"
      },
      "source": [
        "3. Funciones de acumulación: `cumsum()` y `cummean()`\n",
        "\n",
        "- `cumsum()`: suma acumulada\n",
        "- `cummean()`: media acumulada\n",
        "\n",
        "\n",
        "\n",
        "Tener en cuenta que tenemos que manejar los **na**, ya que muchas funciones estadísticas como mean(), sum(), min(), max() y similares, generan errores con los valores perdidos.\n",
        "Esto se puede manejar de muchas formas (lo veremos en detalle en el módulo II).\n",
        "Por ahora, con la función replace_na(), que proviene del paquete tidyr (parte del tidyverse), que sirve para reemplazar los valores faltantes (NA) en una columna o dataframe con un valor eligido, o también, puede usarse na.rm = TRUE, cuando queramos calcular una estadística ignorando los NA, sin modificar los datos originales:\n"
      ]
    },
    {
      "cell_type": "code",
      "execution_count": null,
      "metadata": {
        "id": "6GpA2Evt-ldB"
      },
      "outputs": [],
      "source": []
    },
    {
      "cell_type": "markdown",
      "metadata": {
        "id": "NYFkXXCC-q8J"
      },
      "source": [
        "Por ejemplo, si queremos calcular el tiempo total  y el tiempo promedio acumulado del retraso en la llegada de los vuelos:"
      ]
    },
    {
      "cell_type": "code",
      "execution_count": null,
      "metadata": {
        "collapsed": true,
        "id": "AA78VJd_okhs"
      },
      "outputs": [],
      "source": []
    },
    {
      "cell_type": "markdown",
      "metadata": {
        "id": "1NOLHV9goj-L"
      },
      "source": [
        "ifelse(is.na(arr_delay), 0, arr_delay)\n",
        "Reemplaza los NA por 0, similar a replace_na(), pero sin usar tidyr.\n",
        "No se pueden simplemente ignorar los NA en funciones como cumsum() o cummean() porque estas funciones no aceptan el argumento na.rm = TRUE, y por defecto propagan los NA.\n",
        "Es decir, en cuanto aparece un NA, todo lo que viene después también se convierte en NA.\n",
        "Esto es porque cumsum() asume que no sabe cuánto sumar si uno de los valores falta."
      ]
    },
    {
      "cell_type": "code",
      "execution_count": null,
      "metadata": {
        "collapsed": true,
        "id": "z7A2sz35o_8s"
      },
      "outputs": [],
      "source": []
    },
    {
      "cell_type": "markdown",
      "metadata": {
        "id": "Ayi45OW1pfPN"
      },
      "source": [
        "\n",
        "Si eliminamos los NAs antes del cálculo:"
      ]
    },
    {
      "cell_type": "code",
      "execution_count": null,
      "metadata": {
        "collapsed": true,
        "id": "ggrXHJt5pgNu"
      },
      "outputs": [],
      "source": []
    },
    {
      "cell_type": "markdown",
      "metadata": {
        "id": "-ETfwPM7pusW"
      },
      "source": [
        "## Ejercicios 4 con `mutate()`\n",
        "\n",
        "1. Convertir dep_time y sched_dep_time en minutos desde medianoche"
      ]
    },
    {
      "cell_type": "code",
      "execution_count": null,
      "metadata": {
        "collapsed": true,
        "id": "uKcMkLD_qBdG"
      },
      "outputs": [],
      "source": []
    },
    {
      "cell_type": "markdown",
      "metadata": {
        "id": "qAZAyy1OriPO"
      },
      "source": [
        "2. Comparar tiempo de vuelo (air_time) con horario de llegada - horario de salida (arr_time - dep_time)"
      ]
    },
    {
      "cell_type": "code",
      "execution_count": null,
      "metadata": {
        "collapsed": true,
        "id": "fWlWQTVvrqI9"
      },
      "outputs": [],
      "source": []
    },
    {
      "cell_type": "markdown",
      "metadata": {
        "id": "Duq5ET1W7sQe"
      },
      "source": [
        "3. Vuelos más retrasados según min_rank()"
      ]
    },
    {
      "cell_type": "code",
      "execution_count": null,
      "metadata": {
        "collapsed": true,
        "id": "0GOBFnAd7tvE"
      },
      "outputs": [],
      "source": []
    },
    {
      "cell_type": "markdown",
      "metadata": {
        "id": "o_ebCxti_mrH"
      },
      "source": [
        "4. Funciones trigonométricas de R"
      ]
    },
    {
      "cell_type": "code",
      "execution_count": null,
      "metadata": {
        "collapsed": true,
        "id": "UES45EV46Ox6"
      },
      "outputs": [],
      "source": []
    },
    {
      "cell_type": "markdown",
      "metadata": {
        "id": "3F3HeIED_t7P"
      },
      "source": [
        "También incluye `asin()`, `acos()`, `atan()`, `sinh()`, `cosh()`, `tanh()`, etc.\n",
        "\n",
        "Los ángulos de las funciones tienen que estar en radiantes. R no tiene una función directa para esto."
      ]
    },
    {
      "cell_type": "code",
      "execution_count": null,
      "metadata": {
        "id": "gc0-zQ-IAGt6"
      },
      "outputs": [],
      "source": []
    },
    {
      "cell_type": "markdown",
      "metadata": {
        "id": "vMjYcJH0A-gA"
      },
      "source": [
        "## `min_rank()` y `row_number()`\n",
        "\n",
        "Permiten asignar **rangos** según el valor de una variable.\n",
        "\n",
        "- `min_rank()`: asigna el mismo rango a empates\n",
        "- `row_number()`: asigna rangos sin empates (rompe empates arbitrariamente)\n",
        "\n",
        "Por ejemplo, si queremos crear un ranking de vuelos según retraso en llegada"
      ]
    },
    {
      "cell_type": "code",
      "execution_count": null,
      "metadata": {
        "collapsed": true,
        "id": "D9BEF1746ic2"
      },
      "outputs": [],
      "source": []
    },
    {
      "cell_type": "markdown",
      "metadata": {
        "id": "XlbTcDxgCrxZ"
      },
      "source": [
        "**A tener en cuenta:**\n",
        "\n",
        "- Estas funciones deben usarse **dentro de `mutate()` o `transmute()`**.\n",
        "- `lag()` y `lead()` son ideales para detectar tendencias o diferencias entre registros.\n",
        "- Las funciones acumuladas (`cumsum`, `cummean`) requieren orden si se desea análisis temporal.\n",
        "- `min_rank` es más justo cuando hay empates que `row_number`.\n",
        "\n",
        "------------------------------------\n",
        "## FILTROS Y MUTATES AGRUPADOS\n",
        "\n",
        "Para verlo mejor en el dataset de fligths, utilizamos una data ficticia:\n",
        "\n",
        "Estamos formando dos grupos, A y B, cada uno tiene un valor en una métrica. Si yo quisiera aplicar un filtro, el filtro se aplicaría sobre toda la columna de métrica, la idea del **group_by** es que las operaciones que se hagan en el **mutate** o en el **filtro**, se van a aplicar dentro de los grupos, por ejemplo:\n",
        "\n",
        "Si yo quiero una nueva columna que sea la suma total dentro de los grupos, como se observa a continuación o si lo que quiero es seleccionar la métrica más baja por grupo ¿qué hacemos? (reinicio de rango):\n",
        "\n",
        "| Grupo | Métrica | La Suma | Orden |\n",
        "|-------|---------|---------|-------|\n",
        "| A     | 1       | ?       | ?     |\n",
        "| A     | 3       | ?       | ?     |\n",
        "| A     | 5       | ?       | ?     |\n",
        "| B     | 2       | ?       | ?     |\n",
        "| B     | 4       | ?       | ?     |\n",
        "| B     | 6       | ?       | ?     |\n",
        "\n",
        "\n",
        "creando un nuevo data set con la nueva agrupación\n"
      ]
    },
    {
      "cell_type": "markdown",
      "metadata": {
        "id": "KJmFc0yOEHxC"
      },
      "source": [
        "| Grupo | Métrica | La Suma | Orden |\n",
        "|-------|---------|---------|-------|\n",
        "| A     | 1       | 9       | 1     |\n",
        "| A     | 3       | 9       | 2     |\n",
        "| A     | 5       | 9       | 3     |\n",
        "| B     | 2       | 12      | 1     |\n",
        "| B     | 4       | 12      | 2     |\n",
        "| B     | 6       | 12      | 3     |\n"
      ]
    },
    {
      "cell_type": "markdown",
      "metadata": {
        "id": "0JDcs2fZE1kr"
      },
      "source": [
        "---\n",
        "\n",
        "En nuestros datos:\n",
        "\n",
        "`summarise()` + `group_by()` – Resumir datos agrupados\n",
        "\n",
        "- `group_by()` agrupa datos por variable(s).\n",
        "- `summarise()` resume cada grupo con funciones como `mean()`, `n()`, etc.\n",
        "\n",
        "**Calculemos el promedio de retraso por aeropuerto de origen:**\n"
      ]
    },
    {
      "cell_type": "code",
      "execution_count": null,
      "metadata": {
        "id": "eBB2d8u7EYJt"
      },
      "outputs": [],
      "source": []
    },
    {
      "cell_type": "markdown",
      "metadata": {
        "id": "vYZ2_yyjFHs0"
      },
      "source": [
        "¿cómo calculo la media de retraso por día (by_day)?, ¿y por mes?"
      ]
    },
    {
      "cell_type": "code",
      "execution_count": null,
      "metadata": {
        "collapsed": true,
        "id": "5VNpGM_66ipl"
      },
      "outputs": [],
      "source": []
    },
    {
      "cell_type": "markdown",
      "metadata": {
        "id": "nHWPNcp4Fni6"
      },
      "source": [
        "Ahora, si quisiéramos encontrar los mejores miembros (mejores tiempos) es decir los que llegaron más temprano o llegaron a tiempo"
      ]
    },
    {
      "cell_type": "code",
      "execution_count": null,
      "metadata": {
        "collapsed": true,
        "id": "5rU_O1i9FhD1"
      },
      "outputs": [],
      "source": []
    },
    {
      "cell_type": "markdown",
      "metadata": {
        "id": "dTzsNbB6GDzV"
      },
      "source": [
        "Por ejemplo, si queremos identificar todos los aeropuertos de destino (dest) a los que se voló menos de 20 veces en todo el año, la idea sería mostrar los destinos y el número total de vuelos que recibieron."
      ]
    },
    {
      "cell_type": "code",
      "execution_count": null,
      "metadata": {
        "collapsed": true,
        "id": "knTTjOin6itA"
      },
      "outputs": [],
      "source": []
    },
    {
      "cell_type": "markdown",
      "metadata": {
        "id": "yHKSYMzfGP98"
      },
      "source": [
        "¿Cuántos destinos diferentes recibieron menos de 20 vuelos en total durante 2013?\n",
        "¿Alguno de estos destinos parece ser un error o un dato atípico?"
      ]
    },
    {
      "cell_type": "code",
      "execution_count": null,
      "metadata": {
        "collapsed": true,
        "id": "4A25JmRS6iwY"
      },
      "outputs": [],
      "source": []
    },
    {
      "cell_type": "markdown",
      "metadata": {
        "id": "sY7IZPXWGkE2"
      },
      "source": [
        "## Ejercicios con `summarise()` y exploración de datos agrupados\n",
        "\n",
        "1. Formas de evaluar retraso típico\n",
        "\n",
        "- `mean(arr_delay, na.rm = TRUE)` — promedio de retraso\n",
        "- `median(arr_delay, na.rm = TRUE)` — mediana\n",
        "- `sd(arr_delay, na.rm = TRUE)` — desviación estándar\n",
        "- `IQR(arr_delay, na.rm = TRUE)` — rango intercuartílico\n",
        "- `quantile(arr_delay, probs = 0.9, na.rm = TRUE)` — percentil 90\n"
      ]
    },
    {
      "cell_type": "code",
      "execution_count": null,
      "metadata": {
        "collapsed": true,
        "id": "IM38KQo8InwC"
      },
      "outputs": [],
      "source": []
    },
    {
      "cell_type": "markdown",
      "metadata": {
        "id": "KMKjgoHpKXLl"
      },
      "source": [
        "Un vuelo que se adelanta 15 minutos el 50% de las veces, y se retrasa 15 minutos el 50% de las veces."
      ]
    },
    {
      "cell_type": "code",
      "execution_count": null,
      "metadata": {
        "id": "dqB5y6PhKafV"
      },
      "outputs": [],
      "source": []
    },
    {
      "cell_type": "markdown",
      "metadata": {
        "id": "UGpEX0KPKqYx"
      },
      "source": [
        "Un vuelo que siempre llega con 10 minutos de retraso."
      ]
    },
    {
      "cell_type": "code",
      "execution_count": null,
      "metadata": {
        "collapsed": true,
        "id": "e_XaPFv5Kwej"
      },
      "outputs": [],
      "source": []
    },
    {
      "cell_type": "markdown",
      "metadata": {
        "id": "M4JmZLzvIoOs"
      },
      "source": [
        "\n",
        "2. ¿Qué es más importante?\n",
        "\n",
        "Depende del objetivo: la llegada afecta al pasajero, la salida al aeropuerto.\n",
        "\n",
        "3. Consulta la tabla de funciones útiles de mutación y filtrado. Describe cómo cambia cada operación al combinarla con la agrupación.\n",
        "\n",
        "\n"
      ]
    },
    {
      "cell_type": "code",
      "execution_count": null,
      "metadata": {
        "id": "iosfo4-Osep-"
      },
      "outputs": [],
      "source": []
    },
    {
      "cell_type": "markdown",
      "metadata": {
        "id": "hWkFCT_pt4mc"
      },
      "source": [
        "Cuando aplicamos funciones de mutación (mutate()) o filtrado (filter()) a un dataframe sin agrupar, las operaciones se hacen sobre todo el conjunto de datos.\n",
        "\n",
        "Sin embargo, al agrupar (group_by()), el comportamiento de estas funciones cambia:\n",
        "cada grupo se trata de forma independiente, como si tuvieras varios subconjuntos separados, y luego se combinan los resultados.\n",
        "Ejemplo con mutate() sin agrupar"
      ]
    },
    {
      "cell_type": "code",
      "execution_count": null,
      "metadata": {
        "collapsed": true,
        "id": "Sfvkzmzft81j"
      },
      "outputs": [],
      "source": []
    },
    {
      "cell_type": "markdown",
      "metadata": {
        "id": "S7ZX7aF5uKd8"
      },
      "source": [
        "Ejemplo con mutate() agrupado"
      ]
    },
    {
      "cell_type": "code",
      "execution_count": null,
      "metadata": {
        "collapsed": true,
        "id": "dipWuUY8uLXP"
      },
      "outputs": [],
      "source": []
    },
    {
      "cell_type": "markdown",
      "metadata": {
        "id": "6p-lB3cLtyRT"
      },
      "source": [
        "4. ¿Qué avión (tailnum) tiene el peor registro de puntualidad?"
      ]
    },
    {
      "cell_type": "code",
      "execution_count": null,
      "metadata": {
        "collapsed": true,
        "id": "2N065r-JLs6A"
      },
      "outputs": [],
      "source": []
    },
    {
      "cell_type": "markdown",
      "metadata": {
        "id": "vdQqW6k_Hi3b"
      },
      "source": [
        "4. ¿A qué hora del día deberías volar para evitar retrasos al máximo?"
      ]
    },
    {
      "cell_type": "code",
      "execution_count": null,
      "metadata": {
        "collapsed": true,
        "id": "UsH596LJ6izI"
      },
      "outputs": [],
      "source": []
    },
    {
      "cell_type": "markdown",
      "metadata": {
        "id": "6vdXef91vSmO"
      },
      "source": [
        "5. Para cada destino, calcule el total de minutos de retraso."
      ]
    },
    {
      "cell_type": "code",
      "execution_count": null,
      "metadata": {
        "collapsed": true,
        "id": "9H5vHpo_6i2Q"
      },
      "outputs": [],
      "source": []
    },
    {
      "cell_type": "markdown",
      "metadata": {
        "id": "X0j5O1V1v7HI"
      },
      "source": [
        "6. Para cada vuelo, calcule la proporción del retraso total en su destino."
      ]
    },
    {
      "cell_type": "code",
      "execution_count": null,
      "metadata": {
        "collapsed": true,
        "id": "OVppflSI6i5K"
      },
      "outputs": [],
      "source": []
    },
    {
      "cell_type": "code",
      "execution_count": null,
      "metadata": {
        "collapsed": true,
        "id": "0Vr5_75g6i7h"
      },
      "outputs": [],
      "source": []
    },
    {
      "cell_type": "markdown",
      "metadata": {
        "id": "Z2TkOgbuyOpX"
      },
      "source": [
        "6. Mira cada destino. ¿Puede encontrar vuelos que sean sospechosamente rápidos? (es decir, vuelos que representen un posible error de introducción de datos). Calcule el tiempo de vuelo de un vuelo en relación con el vuelo más corto a ese destino. ¿Qué vuelos sufrieron más retrasos en el aire?"
      ]
    },
    {
      "cell_type": "code",
      "execution_count": null,
      "metadata": {
        "collapsed": true,
        "id": "cbBveaPA6i-H"
      },
      "outputs": [],
      "source": []
    },
    {
      "cell_type": "markdown",
      "metadata": {
        "id": "hWS-WQmZz6Ys"
      },
      "source": [
        "------------------------\n",
        "------------------------\n",
        "## Relación entre tablas: ¿para qué sirven los joins?\n",
        "\n",
        "En la mayoría de los análisis de datos no trabajamos con una única tabla. Lo habitual es que tengamos varias tablas que contienen información relacionada entre sí y necesitemos combinarlas para responder a nuestras preguntas. A este conjunto se le conoce como **datos relacionales** porque lo que realmente importa no es cada tabla por separado, sino cómo se relacionan entre sí.\n",
        "\n",
        "Estas relaciones se establecen siempre entre pares de tablas. Incluso si el análisis involucra más de dos tablas, todo se reduce a cómo se conectan de forma individual cada par. A veces, estas relaciones pueden darse incluso dentro de la misma tabla, por ejemplo, cuando una tabla de empleados incluye referencias a sus jefes, quienes también están en esa misma tabla.\n",
        "\n",
        "Para manejar este tipo de estructuras relacionales, necesitamos funciones que permitan operar entre dos (o más) tablas a la vez. En `dplyr`, estas funciones se agrupan en tres familias principales:\n",
        "\n",
        "Tipos de operaciones con datos relacionales\n",
        "\n",
        "- **Uniones con mutación (`mutating joins`)**: combinan columnas de dos tablas según observaciones coincidentes. Permiten enriquecer una tabla con información de otra.\n",
        "- **Uniones de filtrado (`filtering joins`)**: seleccionan o eliminan filas de una tabla dependiendo de si tienen coincidencias en otra tabla.\n",
        "- **Operaciones de conjuntos (`set operations`)**: tratan las filas como elementos de conjuntos y permiten aplicar intersecciones, uniones y diferencias.\n",
        "\n",
        "Estas herramientas son fundamentales cuando trabajamos con datos almacenados en sistemas de bases de datos relacionales, que es donde suelen encontrarse este tipo de estructuras. Aunque muchas de estas tareas también pueden hacerse con SQL, `dplyr` facilita el análisis de datos al ofrecer una sintaxis más amigable y centrada en las tareas más comunes del análisis.\n",
        "\n",
        "Por ejemplo, en `flights` encontramos códigos de aerolíneas (`carrier`), pero sus nombres están en `airlines`. Para analizarlos juntos, debemos unirlos.\n",
        "\n",
        "## Tipos de joins en `dplyr`\n",
        "\n",
        "| Función         | ¿Qué hace?                                                      |\n",
        "|----------------|------------------------------------------------------------------|\n",
        "| `inner_join()` | Solo las coincidencias en ambas tablas  (Intersección)                        |\n",
        "| `left_join()`  | Todos los registros de la tabla izquierda                     |\n",
        "| `right_join()` | Todos los registros de la tabla derecha                        |\n",
        "| `full_join()`  | Todos los registros de ambas tablas(AUB)                            |\n",
        "| `semi_join()`  | Registros de la izquierda con coincidencia (sin agregar columnas) |\n",
        "| `anti_join()`  | Registros de la izquierda sin coincidencia                     |\n",
        "\n",
        "Se puede explorar más con vignette. Pero, ¿Qué es una vignette?:\n",
        "\n",
        "Es un documento en HTML o PDF incluido en un paquete.\n",
        "Tiene código R explicativo, gráficos y teoría.\n",
        "Se utiliza para aprender a usar el paquete con contexto. (No funciona en google colab, veremos sus funciones en RStudio), sin emabrgo, es como si abrieramos:\n",
        "\n",
        "[vignette(\"two-table\", package = \"dplyr\") ](https://dplyr.tidyverse.org/articles/two-table.html)\n",
        "\n",
        "\n"
      ]
    },
    {
      "cell_type": "code",
      "execution_count": null,
      "metadata": {
        "id": "Snm6qoSU6jA4"
      },
      "outputs": [],
      "source": []
    },
    {
      "cell_type": "markdown",
      "metadata": {
        "id": "9vqWZWyi0TZv"
      },
      "source": [
        "**¿Este tipo de relaciones modifican el dataframe original?**\n",
        "\n",
        "No. Los joins **devuelven una nueva tabla**. Para conservarla, debemos  asignarla a un objeto.\n",
        "\n",
        "### Llaves primarias y secundarias\n",
        "\n",
        "En los datos relacionales, cada tabla suele tener una **clave primaria**, que es una columna (o conjunto de columnas) que identifica de manera única cada fila.\n",
        "\n",
        "También puede tener una o varias **claves foráneas**, que son columnas que contienen identificadores de otra tabla, permitiendo así establecer relaciones entre ellas.\n",
        "\n",
        "Por ejemplo:\n",
        "- En `flights`, la columna `carrier` se refiere a una clave en la tabla `airlines`.\n",
        "- Las columnas `origin` y `dest` hacen referencia a códigos de aeropuerto presentes en `airports`.\n",
        "\n",
        "\n",
        "### Tipos de uniones (`joins`) con `dplyr`\n",
        "\n",
        "`left_join(x, y)`\n",
        "\n",
        "Devuelve todas las filas de `x` y añade las columnas de `y` que coincidan. Si no hay coincidencia, se completan con `NA`.\n",
        "\n",
        "`right_join(x, y)`\n",
        "\n",
        "Como el `left_join()`, pero conserva todas las filas de `y`.\n",
        "\n",
        "`inner_join(x, y)`\n",
        "\n",
        "Devuelve solo las filas que tienen coincidencias en ambas tablas.\n",
        "\n",
        "`full_join(x, y)`\n",
        "\n",
        "Conserva todas las filas de ambas tablas. Si no hay coincidencia en alguna clave, se completan con `NA`.\n",
        "\n",
        "Estas funciones se utilizan comúnmente cuando deseamos enriquecer una tabla con información de otra.\n",
        "\n",
        "### Operaciones de conjuntos\n",
        "\n",
        "Estas funciones comparan dos conjuntos de observaciones (filas), asumiendo que ambas tablas tienen las mismas columnas:\n",
        "\n",
        "- `intersect(x, y)`: Filas comunes a ambas tablas.\n",
        "- `union(x, y)`: Todas las filas que aparecen en al menos una tabla.\n",
        "- `setdiff(x, y)`: Filas que están en `x` pero no en `y`.\n",
        "\n",
        "Estas funciones permiten analizar las diferencias y similitudes entre datasets.\n"
      ]
    },
    {
      "cell_type": "markdown",
      "metadata": {
        "id": "ywGbi7xYLxp1"
      },
      "source": [
        "---\n",
        "\n",
        "Ejemplos con datos ficticios"
      ]
    },
    {
      "cell_type": "code",
      "execution_count": null,
      "metadata": {
        "id": "iakN0qBW0bRO"
      },
      "outputs": [],
      "source": []
    },
    {
      "cell_type": "markdown",
      "metadata": {
        "id": "e3M32GRg3Hks"
      },
      "source": [
        "Inerjoin:"
      ]
    },
    {
      "cell_type": "code",
      "execution_count": null,
      "metadata": {
        "id": "CDSdJuRc3JRH"
      },
      "outputs": [],
      "source": []
    },
    {
      "cell_type": "markdown",
      "metadata": {
        "id": "DEK0dQlK3MFF"
      },
      "source": [
        "Todos los de x:"
      ]
    },
    {
      "cell_type": "code",
      "execution_count": null,
      "metadata": {
        "id": "XFDFukjt_Sqb"
      },
      "outputs": [],
      "source": []
    },
    {
      "cell_type": "markdown",
      "metadata": {
        "id": "vzGnAq9q_VRb"
      },
      "source": [
        "\n",
        "Todos los de y:"
      ]
    },
    {
      "cell_type": "code",
      "execution_count": null,
      "metadata": {
        "id": "qxl0l9i4_V6-"
      },
      "outputs": [],
      "source": []
    },
    {
      "cell_type": "markdown",
      "metadata": {
        "id": "nNuNb2rT_bE4"
      },
      "source": [
        "\n",
        "Todos:"
      ]
    },
    {
      "cell_type": "code",
      "execution_count": null,
      "metadata": {
        "id": "wpfsocTb_bey"
      },
      "outputs": [],
      "source": []
    },
    {
      "cell_type": "markdown",
      "metadata": {
        "id": "Uxrbjmqh_jVc"
      },
      "source": [
        "Coincidencias en x:"
      ]
    },
    {
      "cell_type": "code",
      "execution_count": null,
      "metadata": {
        "id": "RZH6I0IG_kQc"
      },
      "outputs": [],
      "source": []
    },
    {
      "cell_type": "markdown",
      "metadata": {
        "id": "fQ7_YLPe_mX_"
      },
      "source": [
        "Sin coincidencias:"
      ]
    },
    {
      "cell_type": "code",
      "execution_count": null,
      "metadata": {
        "id": "rACAipDe_o6O"
      },
      "outputs": [],
      "source": []
    },
    {
      "cell_type": "markdown",
      "metadata": {
        "id": "73XfDmb-_tgD"
      },
      "source": [
        "Qué pasa si las columnas de ambas tablas no tienen el mismo nombre"
      ]
    },
    {
      "cell_type": "code",
      "execution_count": null,
      "metadata": {
        "id": "NqvhxQ0A_7q2"
      },
      "outputs": [],
      "source": []
    },
    {
      "cell_type": "markdown",
      "metadata": {
        "id": "Stwan29d_7DE"
      },
      "source": [
        "**Producto cartesiano:**\n",
        "\n",
        "Dado dos conjuntos de datos A y B, el producto cartesiano (A × B) es el conjunto de todas las combinaciones posibles entre las filas de A y las filas de B.\n",
        "\n",
        "Si A tiene n filas y B tiene m filas, entonces A × B tendrá n × m filas.\n",
        "En términos de JOIN, el producto cartesiano es lo que ocurre cuando se hace un join sin especificar una clave de unión (by = NULL).\n",
        "En SQL se llama CROSS JOIN.\n",
        "En dplyr, se obtiene con inner_join() sin by.\n",
        "\n"
      ]
    },
    {
      "cell_type": "code",
      "execution_count": null,
      "metadata": {
        "id": "bFvPggaQAYtU"
      },
      "outputs": [],
      "source": []
    },
    {
      "cell_type": "markdown",
      "metadata": {
        "id": "G5jA-Q8OAd6U"
      },
      "source": [
        "### Aplicación real con `nycflights13`\n",
        "\n",
        "**Relaciones existentes entre las tablas de nycflights13**\n",
        "\n",
        "![Relación entre tablas de nycflights13](https://github.com/ednavivianasegura/AccesoImages/blob/main/nycflights.png?raw=true)\n",
        "\n",
        "Nota: Es importante saber que la ubicación de la imagen tiene que ser en un directorio público, de lo contrario no se puede visualizar\n",
        "\n",
        "| Tabla base  | Relación                      | Tabla secundaria |\n",
        "|-------------|-------------------------------|------------------|\n",
        "| `flights`   | `carrier`                     | `airlines`       |\n",
        "| `flights`   | `tailnum`                     | `planes`         |\n",
        "| `flights`   | `origin`                      | `airports`       |\n",
        "| `flights`   | `origin` + `time_hour`        | `weather`        |\n",
        "\n",
        "Información sobre los data sets a usar: [nycflights13](https://cran.r-project.org/web/packages/nycflights13/nycflights13.pdf)\n",
        "\n",
        "Ejemplo práctico: unir `flights` con `airlines`"
      ]
    },
    {
      "cell_type": "code",
      "execution_count": null,
      "metadata": {
        "collapsed": true,
        "id": "eqMz_wKiBM4U"
      },
      "outputs": [],
      "source": []
    },
    {
      "cell_type": "markdown",
      "metadata": {
        "id": "IfvMCw65B2yl"
      },
      "source": [
        "## Ejercicios:\n",
        "\n",
        "1. Dibujar rutas de vuelo, **pregunta:** ¿Qué variables necesitamos para dibujar la ruta de cada avión desde su origen hasta su destino? ¿Qué tablas deberíamos combinar?\n",
        "\n",
        "Necesitamos:\n",
        "- Código del aeropuerto de origen y destino (en `flights`: `origin` y `dest`)\n",
        "- Coordenadas de los aeropuertos (`airports`: `lat`, `lon`)\n",
        "\n",
        "Combinaciones necesarias:"
      ]
    },
    {
      "cell_type": "code",
      "execution_count": null,
      "metadata": {
        "collapsed": true,
        "id": "Oo93U-jkCKj3"
      },
      "outputs": [],
      "source": []
    },
    {
      "cell_type": "markdown",
      "metadata": {
        "id": "bscL6WOmQfMn"
      },
      "source": [
        "2. Relación entre clima y aeropuertos, **pregunta:** ¿Cuál es la relación entre `weather` y `airports`?\n",
        "\n",
        "- `weather` contiene datos climáticos **solo de los aeropuertos de origen** de Nueva York: `JFK`, `LGA`, `EWR`\n",
        "- Se relaciona con `airports` mediante `origin` → `faa`\n",
        "\n",
        "Relación esperada:\n",
        "Cada fila en `weather` corresponde a un aeropuerto (por `origin`), una fecha y una hora (`time_hour`). Se puede vincular con `flights` usando:"
      ]
    },
    {
      "cell_type": "code",
      "execution_count": null,
      "metadata": {
        "collapsed": true,
        "id": "Btp0_H3pQqUy"
      },
      "outputs": [],
      "source": []
    },
    {
      "cell_type": "markdown",
      "metadata": {
        "id": "_EU3_UeNQ23k"
      },
      "source": [
        " 3. ¿Y si `weather` tuviera datos de todo el país?\n",
        "\n",
        "Si la tabla `weather` incluyera todos los aeropuertos de EE.UU., la clave sería:\n",
        "- `origin` + `time_hour`\n",
        "\n",
        "Se podría unir con `flights` igual que antes, pero los datos incluirían más aeropuertos:\n"
      ]
    },
    {
      "cell_type": "code",
      "execution_count": null,
      "metadata": {
        "collapsed": true,
        "id": "yPk2wd0HQ6Fz"
      },
      "outputs": [],
      "source": []
    },
    {
      "cell_type": "markdown",
      "metadata": {
        "id": "9H9zqE2yRDTA"
      },
      "source": [
        "4. Días especiales, **pregunta:** ¿Cómo representarías en un data frame los días especiales del año?\n",
        "\n",
        "Tabla ficticia `dias_especiales`:"
      ]
    },
    {
      "cell_type": "code",
      "execution_count": null,
      "metadata": {
        "id": "rzFVsk6kROGY"
      },
      "outputs": [],
      "source": []
    },
    {
      "cell_type": "markdown",
      "metadata": {
        "id": "gxkCYIlWRkrs"
      },
      "source": [
        "Clave primaria: `year`, `month`, `day`\n",
        "\n",
        "Tenemos que unirla con `flights`:\n",
        "\n",
        "Esto permite identificar los vuelos realizados en días especiales.\n",
        "\n",
        "---"
      ]
    },
    {
      "cell_type": "code",
      "execution_count": null,
      "metadata": {
        "collapsed": true,
        "id": "aFVrJhXxRs6e"
      },
      "outputs": [],
      "source": []
    },
    {
      "cell_type": "markdown",
      "metadata": {
        "id": "bAc9_728U0ZN"
      },
      "source": [
        "\n",
        "5. Agregar una clave sustituta (surrogate key) a `flights`\n",
        "\n"
      ]
    },
    {
      "cell_type": "code",
      "execution_count": null,
      "metadata": {
        "collapsed": true,
        "id": "6QmbGcg0VPR5"
      },
      "outputs": [],
      "source": []
    },
    {
      "cell_type": "markdown",
      "metadata": {
        "id": "OWm3EugXabQR"
      },
      "source": [
        "<h3>Joins en <code>dplyr</code> y su equivalencia en SQL</h3>\n",
        "\n",
        "<p>\n",
        "Las funciones de unión de <code>dplyr</code> como <code>inner_join()</code>, <code>left_join()</code>, <code>right_join()</code> o <code>full_join()</code> permiten realizar combinaciones entre tablas de forma clara y eficiente. Estas funciones preservan el orden de las filas y son más fáciles de leer que <code>merge()</code> de base R.\n",
        "</p>\n",
        "\n",
        "<p>\n",
        "El diseño de estas funciones está inspirado en SQL, por lo que la traducción es directa:\n",
        "</p>\n",
        "\n",
        "<table border=\"1\" style=\"border-collapse: collapse; text-align: left; width: 100%;\">\n",
        "  <thead style=\"background-color: #f2f2f2;\">\n",
        "    <tr>\n",
        "      <th>dplyr</th>\n",
        "      <th>SQL equivalente</th>\n",
        "    </tr>\n",
        "  </thead>\n",
        "  <tbody>\n",
        "    <tr>\n",
        "      <td><code>inner_join(x, y, by = \"z\")</code></td>\n",
        "      <td><code>SELECT * FROM x INNER JOIN y USING (z)</code></td>\n",
        "    </tr>\n",
        "    <tr>\n",
        "      <td><code>left_join(x, y, by = \"z\")</code></td>\n",
        "      <td><code>SELECT * FROM x LEFT OUTER JOIN y USING (z)</code></td>\n",
        "    </tr>\n",
        "    <tr>\n",
        "      <td><code>right_join(x, y, by = \"z\")</code></td>\n",
        "      <td><code>SELECT * FROM x RIGHT OUTER JOIN y USING (z)</code></td>\n",
        "    </tr>\n",
        "    <tr>\n",
        "      <td><code>full_join(x, y, by = \"z\")</code></td>\n",
        "      <td><code>SELECT * FROM x FULL OUTER JOIN y USING (z)</code></td>\n",
        "    </tr>\n",
        "  </tbody>\n",
        "</table>\n",
        "\n",
        "<p><strong>Nota:</strong> En SQL, los términos <code>INNER</code> y <code>OUTER</code> son opcionales y frecuentemente se omiten.</p>\n",
        "\n",
        "<h4>Uniendo columnas con nombres diferentes</h4>\n",
        "\n",
        "<p>Cuando las columnas clave no tienen el mismo nombre en ambas tablas, en <code>dplyr</code> puedes usar:</p>\n",
        "\n",
        "<pre><code>inner_join(x, y, by = c(\"a\" = \"b\"))</code></pre>\n",
        "\n",
        "<p>Esto se traduce en SQL como:</p>\n",
        "\n",
        "<pre><code>SELECT * FROM x INNER JOIN y ON x.a = y.b</code></pre>\n",
        "\n",
        "<p>\n",
        "Esto demuestra que SQL admite más tipos de combinaciones (incluyendo aquellas no basadas en igualdad), mientras que <code>dplyr</code> se enfoca en las más comunes y legibles.\n",
        "</p>\n"
      ]
    },
    {
      "cell_type": "markdown",
      "metadata": {
        "id": "o6pWGOspdBLg"
      },
      "source": [
        "### Ejercicios finales:\n",
        "\n",
        "Ejercicio 1: ¿Cuántos vuelos no tienen información de avión?\n",
        "\n",
        "\n",
        "\n",
        "\n"
      ]
    },
    {
      "cell_type": "code",
      "execution_count": null,
      "metadata": {
        "id": "SHUseEDjffin"
      },
      "outputs": [],
      "source": []
    },
    {
      "cell_type": "markdown",
      "metadata": {
        "id": "QVkbQvICgCXR"
      },
      "source": [
        "\n",
        "2.  ¿Todos los aviones tienen al menos un vuelo?\n",
        "\n"
      ]
    },
    {
      "cell_type": "code",
      "execution_count": null,
      "metadata": {
        "id": "2u53JHPKgKpk"
      },
      "outputs": [],
      "source": []
    },
    {
      "cell_type": "markdown",
      "metadata": {
        "id": "LSVlYnk8kall"
      },
      "source": [
        "\n",
        "---\n",
        "\n",
        "3. ¿Cuáles aerolíneas aparecen en `flights` pero no están en `airlines`?\n",
        "\n"
      ]
    },
    {
      "cell_type": "code",
      "execution_count": null,
      "metadata": {
        "id": "iWVp-vBOkpfs"
      },
      "outputs": [],
      "source": []
    },
    {
      "cell_type": "markdown",
      "metadata": {
        "id": "I9ynoa-wkob7"
      },
      "source": [
        "\n",
        "---\n",
        "4. ¿Qué aeropuertos aparecen como destinos pero no como origen?\n",
        "\n"
      ]
    },
    {
      "cell_type": "code",
      "execution_count": null,
      "metadata": {
        "collapsed": true,
        "id": "K0gAjIluk7Sa"
      },
      "outputs": [],
      "source": []
    },
    {
      "cell_type": "markdown",
      "metadata": {
        "id": "f5UElxZslIUJ"
      },
      "source": [
        "\n",
        "---\n",
        "5. ¿Qué aeropuertos aparecen como origen pero nunca como destino?\n",
        "\n"
      ]
    },
    {
      "cell_type": "code",
      "execution_count": null,
      "metadata": {
        "id": "4t8wmP-OlNqD"
      },
      "outputs": [],
      "source": []
    },
    {
      "cell_type": "markdown",
      "metadata": {
        "id": "N9FuPY5Si4HM"
      },
      "source": [
        "6. ¿Qué significa que un vuelo tenga `tailnum` faltante? ¿Qué variable lo explica?\n",
        "\n",
        "\n",
        "\n",
        "\n"
      ]
    },
    {
      "cell_type": "code",
      "execution_count": null,
      "metadata": {
        "id": "qkocUQRHnzb2"
      },
      "outputs": [],
      "source": []
    },
    {
      "cell_type": "markdown",
      "metadata": {
        "id": "vdpwNZlipZTL"
      },
      "source": [
        "---\n",
        "\n",
        "7. Filtrar vuelos que tienen aviones con al menos 100 vuelos\n",
        "\n",
        "\n",
        "\n",
        "\n",
        "\n",
        "\n"
      ]
    },
    {
      "cell_type": "code",
      "execution_count": null,
      "metadata": {
        "id": "1nfWYQ7kpfDc"
      },
      "outputs": [],
      "source": []
    },
    {
      "cell_type": "code",
      "execution_count": null,
      "metadata": {
        "id": "0Lr6uKDIs9J9"
      },
      "outputs": [],
      "source": []
    },
    {
      "cell_type": "markdown",
      "metadata": {
        "id": "Dbdtewm7tNgN"
      },
      "source": [
        "9. Encontrar las 48 horas con más retrasos y cruzarlas con datos climáticos\n"
      ]
    },
    {
      "cell_type": "code",
      "execution_count": null,
      "metadata": {
        "id": "qaOSoRy_tTN0"
      },
      "outputs": [],
      "source": []
    },
    {
      "cell_type": "markdown",
      "metadata": {
        "id": "czbopW7HtwLg"
      },
      "source": [
        "10. Interpretar anti_join con aeropuertos\n",
        "\n",
        "\n"
      ]
    },
    {
      "cell_type": "code",
      "execution_count": null,
      "metadata": {
        "id": "hx8xpT-Rt0fE"
      },
      "outputs": [],
      "source": []
    },
    {
      "cell_type": "markdown",
      "metadata": {
        "id": "ZhVNTENat7TH"
      },
      "source": [
        "11. Verificar si un avión es operado por una sola aerolínea\n",
        "\n"
      ]
    },
    {
      "cell_type": "code",
      "execution_count": null,
      "metadata": {
        "id": "zw2j7Le3t-is"
      },
      "outputs": [],
      "source": []
    },
    {
      "cell_type": "markdown",
      "metadata": {
        "id": "HHmck1XHxkxI"
      },
      "source": [
        "## data.table\n",
        "\n",
        "`data.table` es una alternativa de alto rendimiento a `data.frame`, optimizada para manejar grandes volúmenes de datos de forma eficiente. Su sintaxis concisa permite combinar filtrado, selección y agrupación en una sola línea:\n",
        "\n",
        "``` r\n",
        "DT[i, j, by]\n",
        "```\n",
        "\n",
        "-   `i`: condiciones para filtrar filas.\n",
        "-   `j`: operaciones sobre columnas.\n",
        "-   `by`: agrupamiento por variables.\n",
        "\n",
        "Ventajas: - Muy eficiente en términos de velocidad y uso de memoria. - Permite modificar datos sin copiar (in-place). - Ideal para trabajar con millones de filas.\n",
        "\n",
        "En esta sección vamos a replicar parte de los ejercicios realizados en la sección anterior, pero esta vez con data.table.\n",
        "\n",
        "------------------------------------------------------------------------\n"
      ]
    },
    {
      "cell_type": "code",
      "execution_count": null,
      "metadata": {
        "id": "2tYq3xM0xbhC"
      },
      "outputs": [],
      "source": []
    },
    {
      "cell_type": "markdown",
      "metadata": {
        "id": "958FxfTBwysr"
      },
      "source": [
        "### Filtrar:"
      ]
    },
    {
      "cell_type": "code",
      "execution_count": null,
      "metadata": {
        "collapsed": true,
        "id": "Jjx9FaDz6g3l"
      },
      "outputs": [],
      "source": []
    },
    {
      "cell_type": "code",
      "execution_count": null,
      "metadata": {
        "collapsed": true,
        "id": "Y1v67UqRw6go"
      },
      "outputs": [],
      "source": []
    },
    {
      "cell_type": "markdown",
      "metadata": {
        "id": "1HyT9ZvtyebS"
      },
      "source": [
        "### Ordenar:"
      ]
    },
    {
      "cell_type": "code",
      "execution_count": null,
      "metadata": {
        "collapsed": true,
        "id": "D4_mDFJLyhJn"
      },
      "outputs": [],
      "source": []
    },
    {
      "cell_type": "code",
      "execution_count": null,
      "metadata": {
        "collapsed": true,
        "id": "8z9qXQiYxSZQ"
      },
      "outputs": [],
      "source": []
    },
    {
      "cell_type": "code",
      "execution_count": null,
      "metadata": {
        "collapsed": true,
        "id": "GkycayafvUHK"
      },
      "outputs": [],
      "source": []
    },
    {
      "cell_type": "code",
      "execution_count": null,
      "metadata": {
        "collapsed": true,
        "id": "vFh7iHY5rZLq"
      },
      "outputs": [],
      "source": []
    },
    {
      "cell_type": "markdown",
      "metadata": {
        "id": "gTuOpXtOzbc3"
      },
      "source": [
        "### Seleccionar"
      ]
    },
    {
      "cell_type": "code",
      "execution_count": null,
      "metadata": {
        "collapsed": true,
        "id": "kAhrJKf9zdOm"
      },
      "outputs": [],
      "source": []
    },
    {
      "cell_type": "markdown",
      "metadata": {
        "id": "n_GWSEtRzwlf"
      },
      "source": [
        "### Crear nuevas columnas (mutate)"
      ]
    },
    {
      "cell_type": "code",
      "execution_count": null,
      "metadata": {
        "collapsed": true,
        "id": "ymC43q3Wz0as"
      },
      "outputs": [],
      "source": []
    },
    {
      "cell_type": "markdown",
      "metadata": {
        "id": "UKcJE9Mj0QsK"
      },
      "source": []
    },
    {
      "cell_type": "markdown",
      "metadata": {
        "id": "DDdq6gfo00Si"
      },
      "source": [
        "### Ranking:"
      ]
    },
    {
      "cell_type": "code",
      "execution_count": null,
      "metadata": {
        "id": "6RDHTlzx031B"
      },
      "outputs": [],
      "source": []
    },
    {
      "cell_type": "code",
      "execution_count": null,
      "metadata": {
        "id": "fTFjRydh1QeK"
      },
      "outputs": [],
      "source": []
    },
    {
      "cell_type": "markdown",
      "metadata": {
        "id": "0SBBHGR61xxy"
      },
      "source": [
        "### Agrupación y resumen:"
      ]
    },
    {
      "cell_type": "code",
      "execution_count": null,
      "metadata": {
        "id": "8gaIbpgI10n6"
      },
      "outputs": [],
      "source": []
    },
    {
      "cell_type": "code",
      "execution_count": null,
      "metadata": {
        "id": "A6PPVMTx2Cfd"
      },
      "outputs": [],
      "source": []
    },
    {
      "cell_type": "markdown",
      "metadata": {
        "id": "eliDdGcu3Z3F"
      },
      "source": [
        "### Tablas relacionadas:\n",
        "Supongamos que tenemos dos tablas: flights_dt y airports_dt."
      ]
    },
    {
      "cell_type": "code",
      "execution_count": null,
      "metadata": {
        "id": "W_l7NsLR3cQw"
      },
      "outputs": [],
      "source": []
    },
    {
      "cell_type": "code",
      "execution_count": null,
      "metadata": {
        "id": "N2smFaxd3kXV"
      },
      "outputs": [],
      "source": []
    },
    {
      "cell_type": "code",
      "execution_count": null,
      "metadata": {
        "id": "pgz2_Zzn30RU"
      },
      "outputs": [],
      "source": []
    },
    {
      "cell_type": "markdown",
      "metadata": {
        "id": "Y_PXFGsL4-KM"
      },
      "source": [
        "Más relaciones:\n",
        "\n",
        "`base::merge()` puede realizar los cuatro tipos de uniones que crean variables (\"traen vairalbes de otras bases\"):\n",
        "\n",
        "| `dplyr`             | `merge` en base R                                      |\n",
        "|---------------------|--------------------------------------------------------|\n",
        "| `inner_join(x, y)`  | `merge(x, y)`                                          |\n",
        "| `left_join(x, y)`   | `merge(x, y, all.x = TRUE)`                            |\n",
        "| `right_join(x, y)`  | `merge(x, y, all.y = TRUE)`                            |\n",
        "| `full_join(x, y)`   | `merge(x, y, all.x = TRUE, all.y = TRUE)`              |\n",
        "\n",
        "**Ventajas de los verbos específicos de `dplyr`:**\n",
        "\n",
        "- Expresan más claramente la intención del código.\n",
        "- Las diferencias entre los tipos de unión son más evidentes que en los argumentos de `merge()`.\n",
        "- Las uniones con `dplyr` son mucho más rápidas y no alteran el orden de las filas.\n",
        "\n",
        "`dplyr` se inspira en SQL, por lo que su sintaxis resulta más intuitiva si ya conoces bases de datos.\n"
      ]
    },
    {
      "cell_type": "markdown",
      "metadata": {
        "id": "Wu3QHvV_5SbS"
      },
      "source": [
        "Ejercicios data.table:\n",
        "\n",
        "1. Vuelos que llegaron con más de 2 horas de retraso pero no salieron tarde"
      ]
    },
    {
      "cell_type": "code",
      "execution_count": null,
      "metadata": {
        "id": "mCnvUAWl5RxM"
      },
      "outputs": [],
      "source": []
    },
    {
      "cell_type": "markdown",
      "source": [
        "2. Vuelos que partieron entre medianoche y las 6:00 a.m. (inclusive)"
      ],
      "metadata": {
        "id": "keohD4MnO9cj"
      }
    },
    {
      "cell_type": "code",
      "source": [],
      "metadata": {
        "id": "EP7UqkJmO9LB"
      },
      "execution_count": null,
      "outputs": []
    },
    {
      "cell_type": "markdown",
      "source": [
        "3. Vuelos ordenados por mayor retraso en salida"
      ],
      "metadata": {
        "id": "nhfoVT-2PBC9"
      }
    },
    {
      "cell_type": "code",
      "source": [],
      "metadata": {
        "id": "eD5paQBmO9IS"
      },
      "execution_count": null,
      "outputs": []
    },
    {
      "cell_type": "markdown",
      "source": [
        "4. Vuelos más rápidos (velocidad = distancia / tiempo)"
      ],
      "metadata": {
        "id": "wg1HAa8HPERo"
      }
    },
    {
      "cell_type": "code",
      "source": [],
      "metadata": {
        "id": "1jGLSVSYPH1D"
      },
      "execution_count": null,
      "outputs": []
    },
    {
      "cell_type": "markdown",
      "source": [
        "5. Seleccionar columnas desde dep_time hasta arr_time"
      ],
      "metadata": {
        "id": "Y172SZYOPINQ"
      }
    },
    {
      "cell_type": "code",
      "source": [],
      "metadata": {
        "id": "7samlpFPPKKW"
      },
      "execution_count": null,
      "outputs": []
    },
    {
      "cell_type": "markdown",
      "source": [
        "6. Seleccionar columnas que comienzan con \"dep\" o terminan con \"time\""
      ],
      "metadata": {
        "id": "ri5pqKkNPMH7"
      }
    },
    {
      "cell_type": "code",
      "source": [],
      "metadata": {
        "id": "9lWg-x0EPNNg"
      },
      "execution_count": null,
      "outputs": []
    },
    {
      "cell_type": "markdown",
      "source": [
        "7. Convertir dep_time y sched_dep_time en minutos desde medianoche"
      ],
      "metadata": {
        "id": "RB9X5Cr1PNmZ"
      }
    },
    {
      "cell_type": "code",
      "source": [],
      "metadata": {
        "id": "P9zfz151PQOX"
      },
      "execution_count": null,
      "outputs": []
    },
    {
      "cell_type": "markdown",
      "source": [
        "8. Simulación de vuelo que se adelanta o retrasa 15 min (50% cada uno)"
      ],
      "metadata": {
        "id": "bvjil_3sPQjn"
      }
    },
    {
      "cell_type": "code",
      "source": [],
      "metadata": {
        "id": "CvkRmBsjPTCQ"
      },
      "execution_count": null,
      "outputs": []
    },
    {
      "cell_type": "markdown",
      "source": [
        "9. Avión (tailnum) con peor puntualidad promedio"
      ],
      "metadata": {
        "id": "jlE0IiVEPTW5"
      }
    },
    {
      "cell_type": "code",
      "source": [],
      "metadata": {
        "id": "UNhuMYsvPYpJ"
      },
      "execution_count": null,
      "outputs": []
    },
    {
      "cell_type": "markdown",
      "source": [
        "10. Número de vuelos sin información de avión"
      ],
      "metadata": {
        "id": "p2LBExO0PY_I"
      }
    },
    {
      "cell_type": "code",
      "source": [],
      "metadata": {
        "id": "W1DdYbbaPe7N"
      },
      "execution_count": null,
      "outputs": []
    },
    {
      "cell_type": "markdown",
      "source": [
        "11. Aerolíneas que aparecen en flights pero no están en airlines"
      ],
      "metadata": {
        "id": "GRy3NB5xPfSh"
      }
    },
    {
      "cell_type": "code",
      "source": [],
      "metadata": {
        "id": "OfYCXWo3PkvY"
      },
      "execution_count": null,
      "outputs": []
    },
    {
      "cell_type": "markdown",
      "source": [
        "12. Aeropuertos que aparecen como origen pero nunca como destino"
      ],
      "metadata": {
        "id": "Y3GO44PlPlJR"
      }
    }
  ],
  "metadata": {
    "colab": {
      "provenance": [],
      "include_colab_link": true
    },
    "kernelspec": {
      "display_name": "R",
      "name": "ir"
    },
    "language_info": {
      "name": "R"
    }
  },
  "nbformat": 4,
  "nbformat_minor": 0
}