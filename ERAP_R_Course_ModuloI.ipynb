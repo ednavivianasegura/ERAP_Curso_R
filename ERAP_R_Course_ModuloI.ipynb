{
  "cells": [
    {
      "cell_type": "markdown",
      "metadata": {
        "id": "view-in-github",
        "colab_type": "text"
      },
      "source": [
        "<a href=\"https://colab.research.google.com/github/ednavivianasegura/ERAP_Curso_R/blob/main/ERAP_R_Course_ModuloI.ipynb\" target=\"_parent\"><img src=\"https://colab.research.google.com/assets/colab-badge.svg\" alt=\"Open In Colab\"/></a>"
      ]
    },
    {
      "cell_type": "markdown",
      "metadata": {
        "id": "4Cl1dG5guaUP"
      },
      "source": [
        "**Título**:  Manipulación de datos con R                                 \n",
        "                                          \n",
        "**Autor(es)**:  Edna Viviana Segura Alvarado - Hans Mauricio Carrillo Hernández\n",
        "\n",
        "**Fecha**: 2025-05\n",
        "\n",
        "**Institución**: Universidad de La Rioja    "
      ]
    },
    {
      "cell_type": "markdown",
      "metadata": {
        "id": "R-3UJKkSoXrm"
      },
      "source": [
        "**Contenido del curso:**\n",
        "\n",
        "**Módulo 1**: Manipulación de Datos con dplyr y data.table  \n",
        "\n",
        "Objetivo: Aprender a manipular y transformar datos usando las herramientas más comunes de R.\n",
        "\n",
        "**Módulo 2**: Manejo de Datos Desordenados y Falta de Información\n",
        "\n",
        "Objetivo: Aprender a limpiar datos desordenados, manejar datos faltantes y formatear conjuntos de datos.\n",
        "\n",
        "**Módulo 3**: Visualización de Datos con ggplot2\n",
        "\n",
        "Objetivo: Crear gráficos avanzados para analizar visualmente los datos utilizando ggplot2.\n",
        "\n",
        "**Módulo 4**: Exploración de Datos y Estadística Descriptiva\n",
        "\n",
        "Objetivo: Aplicar métodos estadísticos para explorar y describir conjuntos de datos.\n",
        "\n",
        "# Modulo I: Manipulación de Datos con dplyr y data.table: introducción\n",
        "\n",
        "En esta sección se presentan dos de las librerías más potentes para manipulación de datos en R: **`dplyr`** y **`data.table`**.\n",
        "\n",
        "Por su sencillez, desde el punto de vista académico, iniciaremos con Dplyr, luego repetiremos los ejercicios con data.table, mostrando sus diferencias y bondades.\n",
        "-------------------------------------------------------------------\n",
        "\n"
      ]
    },
    {
      "cell_type": "code",
      "execution_count": null,
      "metadata": {
        "collapsed": true,
        "id": "CzG3mDIin_q1"
      },
      "outputs": [],
      "source": [
        "# @title Librerías: (Instalación e importación)\n",
        "\n",
        "# Función para instalar si no está instalado\n",
        "instalar_si_no <- function(paquete) {\n",
        "    if (!requireNamespace(paquete, quietly = TRUE)) {\n",
        "    install.packages(paquete, repos = \"https://cloud.r-project.org\")\n",
        "  }\n",
        "  library(paquete, character.only = TRUE)\n",
        "}\n",
        "\n",
        "# Lista de paquetes a verificar\n",
        "paquetes <- c(\"tidyverse\", \"data.table\", \"psych\", \"moments\", \"nycflights13\", \"dplyr\")\n",
        "\n",
        "# Instalar y cargar todos\n",
        "invisible(lapply(paquetes, instalar_si_no))"
      ]
    },
    {
      "cell_type": "markdown",
      "metadata": {
        "id": "-lI0BIz2yHRA"
      },
      "source": [
        "## dplyr\n",
        "\n",
        "`dplyr` forma parte del ecosistema **tidyverse**, diseñado para trabajar con datos de forma ordenada, clara y legible. Utiliza funciones denominadas *verbos* para transformar data frames:\n",
        "\n",
        "-   `filter()`: selecciona filas según condiciones lógicas.\n",
        "-   `select()`: selecciona columnas específicas también teniendo en cuenta condiciones.\n",
        "-   `mutate()`: crea nuevas variables o transforma existentes.\n",
        "-   `arrange()`: ordena filas.\n",
        "-   `group_by()` + `summarise()`: agrupa y resume datos.\n",
        "\n",
        "------------------------------------------------------------------------\n",
        "\n",
        "**¿Qué es tidyverse?**\n",
        "\n",
        "El **tidyverse** es una colección de paquetes R con una filosofía de diseño común: trabajar con datos ordenados (*tidy data*).\n",
        "\n",
        "**Principales paquetes del tidyverse:**\n",
        "\n",
        "| Paquete         | Función principal                              |\n",
        "|-----------------|------------------------------------------------|\n",
        "| ***`dplyr`***   | Manipulación de datos                          |\n",
        "| ***`ggplot2`*** | Visualización de datos                         |\n",
        "| `tidyr`         | Transformación y ordenación de datos           |\n",
        "| `readr`         | Lectura eficiente de archivos CSV y planos     |\n",
        "| ***`tibble`***  | Versión moderna de `data.frame`                |\n",
        "| `stringr`       | Manipulación de cadenas de texto               |\n",
        "| `forcats`       | Manejo de factores (variables categóricas)     |\n",
        "| `purrr`         | Programación funcional sobre listas y vectores |\n",
        "\n",
        "------------------------------------------------------------------------\n"
      ]
    },
    {
      "cell_type": "code",
      "execution_count": null,
      "metadata": {
        "id": "o5w4jAkKn5yT"
      },
      "outputs": [],
      "source": []
    },
    {
      "cell_type": "markdown",
      "metadata": {
        "id": "n13UmL9dp1Sl"
      },
      "source": [
        "\n",
        "**Bibliografía recomendada**\n",
        "\n",
        "- [Web oficial de tidyverse](https://www.tidyverse.org)\n",
        "\n",
        "\n",
        "-   Wickham, H., & Grolemund, G. (2023). *R para ciencia de datos*.\\\n",
        "    Disponible en línea:\\\n",
        "    <https://r4ds.had.co.nz>\n",
        "    \n",
        "-   Dowle, M., & Srinivasan, A. (2024). *data.table: Extension of `data.frame`*. Paquete R. Disponible en: <https://cran.r-project.org/package=data.table>\n",
        "\n",
        "- Información sobre los data sets a usar: [nycflights13](https://cran.r-project.org/web/packages/nycflights13/nycflights13.pdf)"
      ]
    },
    {
      "cell_type": "markdown",
      "metadata": {
        "id": "yp-ohPztqELR"
      },
      "source": [
        "**Introducción al paquete de los datos a usar `nycflights13`**\n",
        "\n",
        "El paquete `nycflights13` contiene datos reales sobre todos los vuelos que salieron desde los aeropuertos de Nueva York durante el año 2013.\n",
        "\n",
        "**¿Qué datos contiene el paquete?**\n",
        "\n",
        "El paquete incluye 5 tablas principales:\n",
        "\n",
        "-   `flights`: datos de vuelos\n",
        "-   `airlines`: aerolíneas\n",
        "-   `airports`: aeropuertos\n",
        "-   `planes`: aviones\n",
        "-   `weather`: clima\n",
        "\n",
        "Podemos acceder a cada una directamente por su nombre:"
      ]
    },
    {
      "cell_type": "code",
      "execution_count": null,
      "metadata": {
        "id": "n27peqfjqPRA"
      },
      "outputs": [],
      "source": []
    },
    {
      "cell_type": "code",
      "execution_count": null,
      "metadata": {
        "id": "5OevChNCqSfE"
      },
      "outputs": [],
      "source": []
    },
    {
      "cell_type": "code",
      "execution_count": null,
      "metadata": {
        "id": "01se4qpeqiCs"
      },
      "outputs": [],
      "source": []
    },
    {
      "cell_type": "code",
      "execution_count": null,
      "metadata": {
        "id": "6vbIbgRRqj9j"
      },
      "outputs": [],
      "source": []
    },
    {
      "cell_type": "code",
      "execution_count": null,
      "metadata": {
        "id": "1WDB1K3uqlgU"
      },
      "outputs": [],
      "source": []
    },
    {
      "cell_type": "markdown",
      "metadata": {
        "id": "EQhqDuHarIFV"
      },
      "source": [
        "\n",
        "------------------------------------------------------------------------\n",
        "\n",
        "**Descripción general de las tablas**\n",
        "\n",
        "Utilizamos las funciones:\n",
        "\n",
        "dim(): para ver la dimensión de los datos.\n",
        "\n",
        "str(): para mostrar la estructura del objetos de manera compacta y legible.\n",
        "\n",
        "glimpse() : para mostrar un resumen estructural horizontal de los datos:\n",
        "\n",
        "-   `int` enteros.\n",
        "\n",
        "-   `dbl` dobles, o números reales.\n",
        "\n",
        "-   `chr` caracteres o cadenas.\n",
        "\n",
        "-   `dttm` fechas y horas (una fecha + una hora).\n",
        "\n",
        "Otros tres tipos comunes de variables:\n",
        "\n",
        "-   `lgl` significa lógico, `TRUE` (verdadero) o `FALSE` (falso).\n",
        "\n",
        "-   `fctr` significa factores (categóricos).\n",
        "\n",
        "-   `date` fechas.\n",
        "\n"
      ]
    },
    {
      "cell_type": "markdown",
      "metadata": {
        "id": "ffiQTVOxupcu"
      },
      "source": [
        "1. `flights` — Datos de vuelos\n"
      ]
    },
    {
      "cell_type": "code",
      "execution_count": null,
      "metadata": {
        "id": "NdNfEfEsrWjp"
      },
      "outputs": [],
      "source": []
    },
    {
      "cell_type": "markdown",
      "metadata": {
        "id": "Zkssygk-u4LS"
      },
      "source": [
        "2. `airlines` — Información de aerolíneas"
      ]
    },
    {
      "cell_type": "code",
      "execution_count": null,
      "metadata": {
        "id": "MdaKhgx2u5Ze"
      },
      "outputs": [],
      "source": []
    },
    {
      "cell_type": "markdown",
      "metadata": {
        "id": "W4oUDhA5vKKB"
      },
      "source": [
        "3. `airports` — Información de aeropuertos"
      ]
    },
    {
      "cell_type": "code",
      "execution_count": null,
      "metadata": {
        "id": "9nnWt2bIvBDG"
      },
      "outputs": [],
      "source": []
    },
    {
      "cell_type": "markdown",
      "metadata": {
        "id": "8x5gbuovvUZM"
      },
      "source": [
        "4. `planes` — Información de los aviones"
      ]
    },
    {
      "cell_type": "code",
      "execution_count": null,
      "metadata": {
        "id": "U5MUQ3EivVh0"
      },
      "outputs": [],
      "source": []
    },
    {
      "cell_type": "markdown",
      "metadata": {
        "id": "dO4hCa0av15_"
      },
      "source": [
        "5. `weather` — Condiciones climáticas por hora"
      ]
    },
    {
      "cell_type": "code",
      "execution_count": null,
      "metadata": {
        "id": "akurOpFjv2v8"
      },
      "outputs": [],
      "source": []
    },
    {
      "cell_type": "markdown",
      "metadata": {
        "id": "OXKUi4UjwPpv"
      },
      "source": [
        "------------------------------------------------------------------------\n",
        "\n",
        "**Relaciones clave**\n",
        "\n",
        "Lo veremos en detalle más adelante:\n",
        "\n",
        "-   `flights$carrier` → `airlines$carrier`\n",
        "-   `flights$tailnum` → `planes$tailnum`\n",
        "-   `flights$origin`, `flights$dest` → `airports$faa`\n",
        "-   `flights$origin` + `flights$time_hour` → `weather`\n",
        "\n",
        "## Verbos en Dplyr:\n",
        "\n",
        "Los verbos de `dplyr` permiten transformar datos de forma clara y estructurada.\n",
        "\n",
        "Su sintaxis es intuitiva y permite encadenar operaciones paso a paso usando el operador `%>%`.\n",
        "\n",
        "Los verbos de `dplyr` siguen una estructura muy regular:\n",
        "\n",
        "``` r\n",
        "datos %>% verbo(argumentos)\n",
        "```\n",
        "-   `datos`: es el conjunto de datos original (por ejemplo, `flights`)\n",
        "-   `%>%`: se lee como \"entonces\", conecta pasos secuenciales\n",
        "-   `verbo()`: es la función como `filter()`, `select()`, etc.\n",
        "-   `argumentos`: lo que queremos hacer (condiciones, columnas, cálculos)\n",
        "\n",
        "**El operador `%>%` – Pipe (tubo en español) del tidyverse (importancia de que sea gramático)**\n",
        "\n",
        "El operador `%>%` (pipe) proviene del paquete `magrittr`, que forma parte del `tidyverse`.  \n",
        "Se usa para **encadenar funciones**, permitiendo escribir código más limpio y legible.\n",
        "\n",
        "| Plataforma  | Atajo de teclado       |\n",
        "| ----------- | ---------------------- |\n",
        "| **Windows** | `Ctrl` + `Shift` + `M` |\n",
        "| **macOS**   | `Cmd` + `Shift` + `M`  |\n",
        "| **Linux**   | `Ctrl` + `Shift` + `M` |\n",
        "\n",
        "\n",
        "**¿Cómo se lee?**\n",
        "\n",
        "> **“y luego”**.  \n",
        "> Por ejemplo: *Toma los datos y luego filtra y luego resume*.\n",
        "\n",
        "---\n",
        "\n",
        "### Comparación:\n",
        "\n",
        "Si por ejemplo, queremos agrupar los vuelos por aeropuerto de origen (origin) y calcula el retraso promedio en la salida (dep_delay) para cada uno de ellos (aeropuertos), asegurándonos de ignorar los valores perdidos (NA) en el cálculo de la media:\n",
        "\n"
      ]
    },
    {
      "cell_type": "markdown",
      "metadata": {
        "id": "9tjjJcXTwuEn"
      },
      "source": [
        "**Sin pipe (forma tradicional):**"
      ]
    },
    {
      "cell_type": "code",
      "execution_count": null,
      "metadata": {
        "id": "rN3Sa5sUvX9N"
      },
      "outputs": [],
      "source": []
    },
    {
      "cell_type": "markdown",
      "metadata": {
        "id": "h6bj7PYGw0Lw"
      },
      "source": [
        "**Con pipe (%>%):**"
      ]
    },
    {
      "cell_type": "code",
      "execution_count": null,
      "metadata": {
        "id": "-jFjigkQw0yG"
      },
      "outputs": [],
      "source": []
    },
    {
      "cell_type": "markdown",
      "metadata": {
        "id": "4ziGbCXmxCqT"
      },
      "source": [
        "---\n",
        "\n",
        "**Estructura del pipe:**\n",
        "\n",
        "```r\n",
        "objeto %>%\n",
        "  funcion(argumentos)\n",
        "```\n",
        "\n",
        "Equivale a:\n",
        "\n",
        "```r\n",
        "funcion(objeto, argumentos)\n",
        "```\n",
        "\n",
        "Se puede seguir encadenando:\n",
        "\n",
        "```r\n",
        "datos %>%\n",
        "  paso_1() %>%\n",
        "  paso_2() %>%\n",
        "  paso_3()\n",
        "```\n",
        "\n",
        "---\n",
        "\n",
        "**Es importante:**\n",
        "\n",
        "- Colocar `%>%` al final de la línea.\n",
        "- Mejora la lectura especialmente en cadenas largas de transformación.\n",
        "- No es necesario crear variables intermedias, lo que se traduce en ahorro en RAM\n",
        "\n",
        "**Los argumentos del los verbos:**\n",
        "\n",
        "-   Se separan por **comas**, no por `=`\n",
        "-   En `mutate()` y `summarise()` se crean nuevas variables con `nombre = cálculo`\n",
        "\n",
        "------------------------------------------------------------------------\n"
      ]
    },
    {
      "cell_type": "markdown",
      "metadata": {
        "id": "4w4K2reJxOnM"
      },
      "source": [
        "### 1. `filter()` – Filtrar filas\n",
        "\n",
        "`filter()` selecciona **filas que cumplen condiciones** lógicas.\n",
        "\n",
        "- Supongamos que queremos ver todos los vuelos del 1 de enero"
      ]
    },
    {
      "cell_type": "code",
      "execution_count": null,
      "metadata": {
        "collapsed": true,
        "id": "gQ-LZrweyjiG"
      },
      "outputs": [],
      "source": []
    },
    {
      "cell_type": "markdown",
      "metadata": {
        "id": "2n49DNU9yxUM"
      },
      "source": [
        "- Y si queremos ver todos los vuelos del 25 de diciembre"
      ]
    },
    {
      "cell_type": "code",
      "execution_count": null,
      "metadata": {
        "collapsed": true,
        "id": "Uy3IHZGTyzWS"
      },
      "outputs": [],
      "source": []
    },
    {
      "cell_type": "markdown",
      "metadata": {
        "id": "NdAj25USzAMX"
      },
      "source": [
        "Esto crea un nuevo conjunto de datos, pero **no se guarda**, además, **NO** se modifica el conjunto de datos original.\n",
        "\n",
        "Para guardarlo, por ejemplo los vuelos en navidad:"
      ]
    },
    {
      "cell_type": "code",
      "execution_count": null,
      "metadata": {
        "id": "Dvsh8jS9zFWZ"
      },
      "outputs": [],
      "source": []
    },
    {
      "cell_type": "markdown",
      "metadata": {
        "id": "5mevq3WwzaVe"
      },
      "source": [
        "¿Qué pasa si encerramos toda la línea anterior en paréntesis?"
      ]
    },
    {
      "cell_type": "code",
      "execution_count": null,
      "metadata": {
        "collapsed": true,
        "id": "rxV-R7V0zbVB"
      },
      "outputs": [],
      "source": []
    },
    {
      "cell_type": "markdown",
      "metadata": {
        "id": "2XgJc1dozjJ0"
      },
      "source": [
        "La condición que acabamos de utilizar era un *Y*, si quisiéramos un *ó*, es decir, si queremos saber los vuelos del 1 de enero *ó* del 25 de diciembre"
      ]
    },
    {
      "cell_type": "code",
      "execution_count": null,
      "metadata": {
        "collapsed": true,
        "id": "IDbvlcXvzsP3"
      },
      "outputs": [],
      "source": []
    },
    {
      "cell_type": "markdown",
      "metadata": {
        "id": "lQyfwAHB0Jdl"
      },
      "source": [
        "Si queremos, por ejemplo, ver el registro de vuelos con más de 100 minutos de retraso en la llegada"
      ]
    },
    {
      "cell_type": "code",
      "execution_count": null,
      "metadata": {
        "collapsed": true,
        "id": "yOAwmpKW0QVd"
      },
      "outputs": [],
      "source": []
    },
    {
      "cell_type": "markdown",
      "metadata": {
        "id": "6BOPb6Er0gVQ"
      },
      "source": [
        "Vuelos que llegaron temprano o sin retraso (con 0 o menos minutos)"
      ]
    },
    {
      "cell_type": "code",
      "execution_count": null,
      "metadata": {
        "collapsed": true,
        "id": "6cwlmMhA0hNn"
      },
      "outputs": [],
      "source": []
    },
    {
      "cell_type": "markdown",
      "metadata": {
        "id": "xDTF-1381402"
      },
      "source": [
        "Si nos preguntamos cuáles son los valores únicos de aeropuertos de salida y de llegada?"
      ]
    },
    {
      "cell_type": "code",
      "execution_count": null,
      "metadata": {
        "collapsed": true,
        "id": "GQenhTO414jF"
      },
      "outputs": [],
      "source": []
    },
    {
      "cell_type": "code",
      "execution_count": null,
      "metadata": {
        "id": "uwYrj-mt8lBk"
      },
      "outputs": [],
      "source": []
    },
    {
      "cell_type": "markdown",
      "metadata": {
        "id": "Bgqpgds19acO"
      },
      "source": [
        "Vuelos que salieron desde JFK o LGA"
      ]
    },
    {
      "cell_type": "code",
      "execution_count": null,
      "metadata": {
        "collapsed": true,
        "id": "jMDtXyma9bQJ"
      },
      "outputs": [],
      "source": []
    },
    {
      "cell_type": "markdown",
      "metadata": {
        "id": "wjBwWkcl92Zs"
      },
      "source": [
        "Otra manera de hacerlo, utilizando %in%"
      ]
    },
    {
      "cell_type": "code",
      "execution_count": null,
      "metadata": {
        "collapsed": true,
        "id": "_ibsFu5O9uus"
      },
      "outputs": [],
      "source": []
    },
    {
      "cell_type": "markdown",
      "metadata": {
        "id": "O5P0JTy5-NHa"
      },
      "source": [
        "Cuando usamos filter() o cualquier otro filtro, podemos combinar condiciones con operadores como & (y), | (o), <, >, ==, !=, <=, >= y %in%.\n",
        "\n",
        "Esto permite construir filtros muy potentes y específicos para quedarse solo con los datos que necesitamos."
      ]
    },
    {
      "cell_type": "markdown",
      "metadata": {
        "id": "SvWeddOH-Ocy"
      },
      "source": [
        "## Ejercicios (Filter)"
      ]
    },
    {
      "cell_type": "markdown",
      "metadata": {
        "id": "7C9qhAGD-XPh"
      },
      "source": [
        "1. Vuelos con retraso de llegada de 2 horas o más"
      ]
    },
    {
      "cell_type": "code",
      "execution_count": null,
      "metadata": {
        "collapsed": true,
        "id": "bRPp5paL-Zv1"
      },
      "outputs": [],
      "source": []
    },
    {
      "cell_type": "markdown",
      "metadata": {
        "id": "6tNnuE3Q_VNn"
      },
      "source": [
        "2. Vuelos con destino a Houston (IAH o HOU)"
      ]
    },
    {
      "cell_type": "code",
      "execution_count": null,
      "metadata": {
        "collapsed": true,
        "id": "CENQO6b0_Wt7"
      },
      "outputs": [],
      "source": []
    },
    {
      "cell_type": "markdown",
      "metadata": {
        "id": "QYDkqtmh_s3m"
      },
      "source": [
        "3. Vuelos operados por United, American o Delta"
      ]
    },
    {
      "cell_type": "code",
      "execution_count": null,
      "metadata": {
        "collapsed": true,
        "id": "YYeqeQCS_wBf"
      },
      "outputs": [],
      "source": []
    },
    {
      "cell_type": "markdown",
      "metadata": {
        "id": "j0MES5we__9M"
      },
      "source": [
        "4. Vuelos que partieron en invierno del hemisferio sur (julio, agosto y septiembre)"
      ]
    },
    {
      "cell_type": "code",
      "execution_count": null,
      "metadata": {
        "collapsed": true,
        "id": "_FAJ-0D3_76i"
      },
      "outputs": [],
      "source": []
    },
    {
      "cell_type": "markdown",
      "metadata": {
        "id": "HI4L7qDXAU1i"
      },
      "source": [
        "5. Vuelos que llegaron más de 2 horas tarde pero no salieron tarde"
      ]
    },
    {
      "cell_type": "code",
      "execution_count": null,
      "metadata": {
        "collapsed": true,
        "id": "YsQO69y5AWT5"
      },
      "outputs": [],
      "source": []
    },
    {
      "cell_type": "markdown",
      "metadata": {
        "id": "4aLw4LmbAdX-"
      },
      "source": [
        "6. Vuelos que se retrasaron al menos una hora, pero recuperaron más de 30 minutos mientras volaban (diferencia entre partida y llegada)\n"
      ]
    },
    {
      "cell_type": "code",
      "execution_count": null,
      "metadata": {
        "collapsed": true,
        "id": "ysn0jpSlAqPD"
      },
      "outputs": [],
      "source": []
    },
    {
      "cell_type": "markdown",
      "metadata": {
        "id": "VMtfGr8XB7JQ"
      },
      "source": [
        "7. Crear una variable llamada vuelos_madrugada con los vuelos que partieron entre medianoche y las 6:00 a.m. (incluyente)"
      ]
    },
    {
      "cell_type": "code",
      "execution_count": null,
      "metadata": {
        "collapsed": true,
        "id": "9CLWVrWKA40j"
      },
      "outputs": [],
      "source": []
    },
    {
      "cell_type": "markdown",
      "metadata": {
        "id": "iwfMLeCgCKyi"
      },
      "source": [
        "Cada uno de estos filtros permite construir subconjuntos del dataset original para hacer análisis más específicos y enfocados. También podemos almacenar los resultados en un objeto para reutilizarlos más adelante (como en el caso de la creación de vuelos_madrugada).\n",
        "\n",
        "8. Uso de `between()` para simplificar filtros:\n",
        "\n",
        "La función `between(x, a, b)` comprueba si los valores de `x` están entre `a` y `b` (ambos inclusive). Reemplaza expresiones como `x >= a & x <= b`, haciéndolas más legibles. Así, si repetimos el ejercicio de los vuelos de julio, agosto y septiembre, tendríamos:"
      ]
    },
    {
      "cell_type": "code",
      "execution_count": null,
      "metadata": {
        "collapsed": true,
        "id": "e0nszamyAx32"
      },
      "outputs": [],
      "source": []
    },
    {
      "cell_type": "markdown",
      "metadata": {
        "id": "YeAPFJpKCwpk"
      },
      "source": [
        "9. Valores faltantes en los datos\n",
        "\n",
        "¿Cuántos vuelos tienen `dep_time` faltante?\n"
      ]
    },
    {
      "cell_type": "code",
      "execution_count": null,
      "metadata": {
        "id": "EJJC3yZcCs3g"
      },
      "outputs": [],
      "source": []
    },
    {
      "cell_type": "markdown",
      "metadata": {
        "id": "llRyO4x6DA2S"
      },
      "source": [
        "¿Qué variables tienen valores faltantes?"
      ]
    },
    {
      "cell_type": "code",
      "execution_count": null,
      "metadata": {
        "id": "ufJXXsj5C9c7"
      },
      "outputs": [],
      "source": []
    },
    {
      "cell_type": "code",
      "execution_count": null,
      "metadata": {
        "id": "yLH4CtEUvBZW"
      },
      "outputs": [],
      "source": []
    },
    {
      "cell_type": "markdown",
      "metadata": {
        "id": "WeaTuUofDKcs"
      },
      "source": [
        "Las filas con datos faltantes generalmente corresponden a **vuelos cancelados**.\n",
        "\n",
        "¿Por qué ciertas operaciones con `NA` no devuelven `NA`?\n",
        "\n",
        "\n",
        "\n"
      ]
    },
    {
      "cell_type": "code",
      "execution_count": null,
      "metadata": {
        "id": "mpo0cafYIS_w"
      },
      "outputs": [],
      "source": []
    },
    {
      "cell_type": "markdown",
      "metadata": {
        "id": "4AJN_8PRJCVl"
      },
      "source": [
        "Sea x la edad de María. No sabemos qué edad tiene.\n",
        "\n",
        "Sea y la edad de Juan. No sabemos qué edad tiene.\n",
        "\n",
        "¿Tienen Juan y María la misma edad?"
      ]
    },
    {
      "cell_type": "code",
      "execution_count": null,
      "metadata": {
        "id": "6gO8gmYWJCmp"
      },
      "outputs": [],
      "source": []
    },
    {
      "cell_type": "markdown",
      "metadata": {
        "id": "4cjlDsF0Is6L"
      },
      "source": [
        "Explicación:\n",
        "\n",
        "| Expresión       | Resultado | Justificación                                                                 |\n",
        "|----------------|-----------|--------------------------------------------------------------------------------|\n",
        "| `NA ^ 0`        | `1`       | Cualquier número (incluso desconocido) elevado a 0 es 1                        |\n",
        "| `NA | TRUE`     | `TRUE`    | `OR` lógico: si una parte es `TRUE`, el resultado es `TRUE`                   |\n",
        "| `FALSE & NA`    | `FALSE`   | `AND` lógico: si una parte es `FALSE`, ya no importa la otra                  |\n",
        "| `NA * 0`        | `NA`      | Multiplicación: si uno es `NA`, el resultado es desconocido                   |\n",
        "\n",
        "**En general:**\n",
        "\n",
        "- Si el resultado puede determinarse sin conocer el valor faltante, **no devuelve `NA`**.\n",
        "- Si depende del valor faltante, **sí devuelve `NA`**.\n",
        "\n",
        "\n",
        "\n",
        "### 2. `arrange()` – Ordenar filas\n",
        "\n",
        "`arrange()` **ordena** las filas por una o más variables.\n",
        "\n",
        "Ahora, si queremos ordenar los vuelos por retraso en llegada de menor a mayor:"
      ]
    },
    {
      "cell_type": "code",
      "execution_count": null,
      "metadata": {
        "collapsed": true,
        "id": "daOYcTKMDuSg"
      },
      "outputs": [],
      "source": []
    },
    {
      "cell_type": "markdown",
      "metadata": {
        "id": "e1tfA_spD4en"
      },
      "source": [
        "\n",
        "Y si lo necesitamos de mayor a menor:"
      ]
    },
    {
      "cell_type": "code",
      "execution_count": null,
      "metadata": {
        "collapsed": true,
        "id": "2RdHcZSBDz7f"
      },
      "outputs": [],
      "source": []
    },
    {
      "cell_type": "markdown",
      "metadata": {
        "id": "t_DQR-0WEAhz"
      },
      "source": [
        "También podemos ordenar teniendo en cuenta varias columnas a la vez:"
      ]
    },
    {
      "cell_type": "code",
      "execution_count": null,
      "metadata": {
        "collapsed": true,
        "id": "GjzjMekuD7JQ"
      },
      "outputs": [],
      "source": []
    },
    {
      "cell_type": "markdown",
      "metadata": {
        "id": "vqNCY87lELCl"
      },
      "source": [
        "## Ejercicios 2 con la función `arrange()`\n",
        "\n",
        "1. Ordenar vuelos colocando primero los valores faltantes"
      ]
    },
    {
      "cell_type": "code",
      "execution_count": null,
      "metadata": {
        "collapsed": true,
        "id": "Z1z6epqWAs2N"
      },
      "outputs": [],
      "source": []
    },
    {
      "cell_type": "markdown",
      "metadata": {
        "id": "8mN2SjrnEyJQ"
      },
      "source": [
        "2. Vuelos más retrasados en salida (mayor `dep_delay`)."
      ]
    },
    {
      "cell_type": "code",
      "execution_count": null,
      "metadata": {
        "collapsed": true,
        "id": "mADsgnZmEjtZ"
      },
      "outputs": [],
      "source": []
    },
    {
      "cell_type": "markdown",
      "metadata": {
        "id": "kix22xgNFCh2"
      },
      "source": [
        "3. Vuelos que salieron más temprano (menor `dep_time`), sin incluir datos faltantes."
      ]
    },
    {
      "cell_type": "code",
      "execution_count": null,
      "metadata": {
        "collapsed": true,
        "id": "TggJuSY4Ae_q"
      },
      "outputs": [],
      "source": []
    },
    {
      "cell_type": "markdown",
      "metadata": {
        "id": "SjGLRoPrFUnk"
      },
      "source": [
        "4. Vuelos más rápidos (que viajaron a mayor velocidad (kilómetros / hora)"
      ]
    },
    {
      "cell_type": "code",
      "execution_count": null,
      "metadata": {
        "collapsed": true,
        "id": "oXB-_kLHAaZo"
      },
      "outputs": [],
      "source": []
    },
    {
      "cell_type": "markdown",
      "metadata": {
        "id": "5xal1rcsNSUO"
      },
      "source": [
        "5. ¿Cuáles vuelos viajaron más lejos? ¿Cuál viajó más cerca?:\n",
        "\n",
        "\n"
      ]
    },
    {
      "cell_type": "code",
      "execution_count": null,
      "metadata": {
        "collapsed": true,
        "id": "yKhxlab4Ktzd"
      },
      "outputs": [],
      "source": []
    },
    {
      "cell_type": "code",
      "execution_count": null,
      "metadata": {
        "collapsed": true,
        "id": "cj11gb6JP_KG"
      },
      "outputs": [],
      "source": []
    },
    {
      "cell_type": "markdown",
      "metadata": {
        "id": "TkNxka9YQBvn"
      },
      "source": [
        "Es importante interpreta cada resultado y buscar patrones, por ejemplo, si ciertos destinos suelen ser los más lejanos o si algunas aerolíneas tienen más retrasos sistemáticos.\n"
      ]
    },
    {
      "cell_type": "markdown",
      "metadata": {
        "id": "esSncbegQ1Ii"
      },
      "source": [
        "\n",
        "------------------------------------------------------------------------\n",
        "\n",
        "### 3. `select()` – Seleccionar columnas\n",
        "\n",
        "`select()` permite **elegir columnas específicas** de un conjunto de datos\n",
        "\n",
        "Supongamos que queremos ver solo las columnas `year`, `month`, `day`, `dep_time`, `arr_time`:"
      ]
    },
    {
      "cell_type": "code",
      "execution_count": null,
      "metadata": {
        "collapsed": true,
        "id": "Culwt8CKAI4I"
      },
      "outputs": [],
      "source": []
    },
    {
      "cell_type": "markdown",
      "metadata": {
        "id": "D_t8XY2uRF1P"
      },
      "source": [
        "Supongamos que queremos seleccionar varias columnas seguidas (en un rango), digamos entre dep_time y arr_time"
      ]
    },
    {
      "cell_type": "code",
      "execution_count": null,
      "metadata": {
        "collapsed": true,
        "id": "J2YTOIKp_lYK"
      },
      "outputs": [],
      "source": []
    },
    {
      "cell_type": "markdown",
      "metadata": {
        "id": "KgVaCoMCRN14"
      },
      "source": [
        "Si quremos ver lo mismo pero utilizando %>%:"
      ]
    },
    {
      "cell_type": "code",
      "execution_count": null,
      "metadata": {
        "collapsed": true,
        "id": "yWtHl8jA_M45"
      },
      "outputs": [],
      "source": []
    },
    {
      "cell_type": "markdown",
      "metadata": {
        "id": "XUQ0bwIpRg0v"
      },
      "source": [
        "Si queremos seleccionar todas las columnas excepto las que están en un rango, digamos todas las que no están entre dep_time y arr_time\n"
      ]
    },
    {
      "cell_type": "code",
      "execution_count": null,
      "metadata": {
        "collapsed": true,
        "id": "BPy6yTfd-R7E"
      },
      "outputs": [],
      "source": []
    },
    {
      "cell_type": "markdown",
      "metadata": {
        "id": "WTWIICQRRxqT"
      },
      "source": [
        "**Funciones auxiliares de `select()`**\n",
        "\n",
        "Cuando tenemos muchas columnas, `dplyr` permite seleccionar variables por su nombre usando funciones auxiliares:\n",
        "\n",
        "1. `starts_with(\"texto\")`\n",
        "\n",
        "Selecciona columnas que **comienzan** con una cadena:\n",
        "\n",
        "Por ejemplo, si queremos seleccionar las columnas relacionadas con el despegue \"Departure\""
      ]
    },
    {
      "cell_type": "code",
      "execution_count": null,
      "metadata": {
        "collapsed": true,
        "id": "h0qUCVjc9Q70"
      },
      "outputs": [],
      "source": []
    },
    {
      "cell_type": "markdown",
      "metadata": {
        "id": "G9DxwIVDSEut"
      },
      "source": [
        "2. `ends_with(\"texto\")`\n",
        "\n",
        "Selecciona columnas que **terminan** en una cadena:\n",
        "\n",
        "Por ejemplo, si necesitamos información sobre las columnas relacionadas con el tiempo (time)"
      ]
    },
    {
      "cell_type": "code",
      "execution_count": null,
      "metadata": {
        "collapsed": true,
        "id": "tkJXs-cw9L60"
      },
      "outputs": [],
      "source": []
    },
    {
      "cell_type": "markdown",
      "metadata": {
        "id": "J-BAUERuSRB2"
      },
      "source": [
        "3. `contains(\"texto\")`\n",
        "\n",
        "Selecciona columnas que **contienen** una cadena en cualquier parte:\n",
        "\n",
        "Por ejemplo, si necesitamos recolectar información sobre la demora, en general de los vuelos (delay):"
      ]
    },
    {
      "cell_type": "code",
      "execution_count": null,
      "metadata": {
        "collapsed": true,
        "id": "74Xu67UG9FB8"
      },
      "outputs": [],
      "source": []
    },
    {
      "cell_type": "markdown",
      "metadata": {
        "id": "7Ppx_LgTSc8_"
      },
      "source": [
        "4. `num_range(\"prefijo\", rango)`\n",
        "\n",
        "Selecciona columnas con nombres secuenciales como `x1`, `x2`, ..., `x5`:\n"
      ]
    },
    {
      "cell_type": "code",
      "execution_count": null,
      "metadata": {
        "id": "dlWKdpDc1v6C"
      },
      "outputs": [],
      "source": []
    },
    {
      "cell_type": "markdown",
      "metadata": {
        "id": "DReVPSGCSoaQ"
      },
      "source": [
        "**Buenas prácticas**\n",
        "\n",
        "Si se nombran (renombran) las columnas de manera coherente (por ejemplo, `dep_time`, `dep_delay`), se pueden aprovechar estas funciones para seleccionar subconjuntos de columnas fácilmente.\n",
        "\n",
        "## Ejercicios 3 con `select()`\n",
        "\n",
        "1. Seleccionar múltiples formas:\n",
        "\n",
        "Selecciona las variables `dep_time`, `dep_delay`, `arr_time`, `arr_delay` usando distintos métodos:\n"
      ]
    },
    {
      "cell_type": "code",
      "execution_count": null,
      "metadata": {
        "collapsed": true,
        "id": "LgB2_Odk0JIF"
      },
      "outputs": [],
      "source": []
    },
    {
      "cell_type": "code",
      "execution_count": null,
      "metadata": {
        "collapsed": true,
        "id": "c9a39GjFw8y_"
      },
      "outputs": [],
      "source": []
    },
    {
      "cell_type": "code",
      "execution_count": null,
      "metadata": {
        "collapsed": true,
        "id": "uzYbEHxHw-oZ"
      },
      "outputs": [],
      "source": []
    },
    {
      "cell_type": "code",
      "execution_count": null,
      "metadata": {
        "collapsed": true,
        "id": "TprkE3yexAAB"
      },
      "outputs": [],
      "source": []
    },
    {
      "cell_type": "markdown",
      "metadata": {
        "id": "kJAGE6TyUJ2T"
      },
      "source": [
        "La función matches() en R pertenece al paquete dplyr, que forma parte del ecosistema tidyverse. Es una de las funciones auxiliares que se utiliza en conjunto con select() para seleccionar columnas cuyos nombres coincidan con una expresión regular (regex).\n",
        "\n",
        "¿Qué hace matches()?\n",
        "matches() busca coincidencias en los nombres de las variables usando expresiones regulares. Es muy útil cuando tienes columnas con patrones en sus nombres y quieres seleccionarlas sin tener que escribirlas todas de forma manual.\n",
        "\n",
        "2. Variable repetida\n",
        "\n"
      ]
    },
    {
      "cell_type": "code",
      "execution_count": null,
      "metadata": {
        "collapsed": true,
        "id": "RoQat4b-0DMv"
      },
      "outputs": [],
      "source": []
    },
    {
      "cell_type": "markdown",
      "metadata": {
        "id": "A4KzvWMLU_9E"
      },
      "source": [
        "El resultado solo incluye una vez la columna `dep_time`, no genera error pero ignora repeticiones.\n",
        "3. Uso de `any_of()`\n",
        "\n",
        "La función any() en R no pertenece específicamente a dplyr, sino que es parte del núcleo base de R (base package). Es una función lógica muy útil que se utiliza para evaluar si al menos uno de los elementos de un vector lógico es TRUE.\n",
        "¿Qué hace any()?\n",
        "any() devuelve TRUE si al menos uno de los elementos evaluados es TRUE; de lo contrario, devuelve FALSE."
      ]
    },
    {
      "cell_type": "code",
      "execution_count": null,
      "metadata": {
        "collapsed": true,
        "id": "lxIadxOgzdvI"
      },
      "outputs": [],
      "source": []
    },
    {
      "cell_type": "markdown",
      "metadata": {
        "id": "iYXqIeCOVc9m"
      },
      "source": [
        "`any_of()` selecciona solo las variables que existen e **ignora silenciosamente** las que no existen.\n",
        "\n",
        "4.  `contains()` y sensibilidad a mayúsculas"
      ]
    },
    {
      "cell_type": "code",
      "execution_count": null,
      "metadata": {
        "collapsed": true,
        "id": "vRXhwpD0zIGX"
      },
      "outputs": [],
      "source": []
    },
    {
      "cell_type": "code",
      "execution_count": null,
      "metadata": {
        "id": "09UvVjh5zBP4"
      },
      "outputs": [],
      "source": []
    },
    {
      "cell_type": "code",
      "execution_count": null,
      "metadata": {
        "id": "ryWXejMYy8nd"
      },
      "outputs": [],
      "source": []
    },
    {
      "cell_type": "markdown",
      "metadata": {
        "id": "rJfCpiJ9g4OB"
      },
      "source": [
        "### `mutate()` – Crear nuevas variables\n",
        "\n",
        "`mutate()` agrega **nuevas columnas** calculadas a partir de otras.\n",
        "\n",
        "Si queremos calcular la velocidad de cada vuelo (utilizando la misma información que en el ejercicio de ordenamiento de antes::"
      ]
    },
    {
      "cell_type": "code",
      "execution_count": null,
      "metadata": {
        "collapsed": true,
        "id": "IgZEqYM9ymnJ"
      },
      "outputs": [],
      "source": []
    },
    {
      "cell_type": "markdown",
      "metadata": {
        "id": "x_vLN5MqhaZc"
      },
      "source": [
        "Si queremos calcular la ganancia en tiempo de cada vuelo, es decir, si hay diferencias entre el retraso de despegue y de aterrizaje, a la vez que calculamos la ganancia por hora en vez de minutos:\n",
        "\n",
        "Podemos ir anidando varias sentencias a la vez:"
      ]
    },
    {
      "cell_type": "code",
      "execution_count": null,
      "metadata": {
        "collapsed": true,
        "id": "SZtHvoLfhiJP"
      },
      "outputs": [],
      "source": []
    },
    {
      "cell_type": "markdown",
      "metadata": {
        "id": "xbox5gEFhudA"
      },
      "source": [
        "**Otras funciones útiles en `dplyr` relacionadas con Mutate:**\n",
        "\n",
        "Aparte de `mutate()`, existen funciones que permiten realizar transformaciones más específicas sobre los datos. Veamos algunas de las más útiles:\n",
        "\n",
        "1. `transmute()`\n",
        "\n",
        "Es como `mutate()`, pero **solo conserva las variables nuevas** que se crean, descartando todas las demás.\n",
        "\n",
        "Por ejemplo, si sólo necesitamos calcular velocidad, debido a que no necesitamos el resto de información, (descartamos el resto):\n"
      ]
    },
    {
      "cell_type": "code",
      "execution_count": null,
      "metadata": {
        "collapsed": true,
        "id": "7beuCi8Ih3CL"
      },
      "outputs": [],
      "source": []
    },
    {
      "cell_type": "markdown",
      "metadata": {
        "id": "UlaeoYVdhuV8"
      },
      "source": [
        "\n",
        "2. `lag()` y `lead()`\n",
        "\n",
        "Permiten acceder al **valor anterior (`lag`) o posterior (`lead`)** de una variable. Útiles para comparar observaciones secuenciales (normalmente útiles en análisis de series temporales).\n",
        "\n",
        "\n"
      ]
    },
    {
      "cell_type": "code",
      "execution_count": null,
      "metadata": {
        "id": "-9wq1QsW-Yv0"
      },
      "outputs": [],
      "source": []
    },
    {
      "cell_type": "markdown",
      "metadata": {
        "id": "SOIpWklB-ZQp"
      },
      "source": [
        "Por ejemplo, si queremos analizar el retraso en la llegada respecto al vuelo anterior/siguiente:"
      ]
    },
    {
      "cell_type": "code",
      "execution_count": null,
      "metadata": {
        "collapsed": true,
        "id": "TRntuOEWmuRA"
      },
      "outputs": [],
      "source": []
    },
    {
      "cell_type": "markdown",
      "metadata": {
        "id": "SizMY6CEnFdo"
      },
      "source": [
        "3. Funciones de acumulación: `cumsum()` y `cummean()`\n",
        "\n",
        "- `cumsum()`: suma acumulada\n",
        "- `cummean()`: media acumulada\n",
        "\n",
        "\n",
        "\n",
        "Tener en cuenta que tenemos que manejar los **na**, ya que muchas funciones estadísticas como mean(), sum(), min(), max() y similares, generan errores con los valores perdidos.\n",
        "Esto se puede manejar de muchas formas (lo veremos en detalle en el módulo II).\n",
        "Por ahora, con la función replace_na(), que proviene del paquete tidyr (parte del tidyverse), que sirve para reemplazar los valores faltantes (NA) en una columna o dataframe con un valor eligido, o también, puede usarse na.rm = TRUE, cuando queramos calcular una estadística ignorando los NA, sin modificar los datos originales:\n"
      ]
    },
    {
      "cell_type": "code",
      "execution_count": null,
      "metadata": {
        "id": "6GpA2Evt-ldB"
      },
      "outputs": [],
      "source": []
    },
    {
      "cell_type": "markdown",
      "metadata": {
        "id": "NYFkXXCC-q8J"
      },
      "source": [
        "Por ejemplo, si queremos calcular el tiempo total  y el tiempo promedio acumulado del retraso en la llegada de los vuelos:"
      ]
    },
    {
      "cell_type": "code",
      "execution_count": null,
      "metadata": {
        "collapsed": true,
        "id": "AA78VJd_okhs"
      },
      "outputs": [],
      "source": []
    },
    {
      "cell_type": "markdown",
      "metadata": {
        "id": "1NOLHV9goj-L"
      },
      "source": [
        "ifelse(is.na(arr_delay), 0, arr_delay)\n",
        "Reemplaza los NA por 0, similar a replace_na(), pero sin usar tidyr.\n",
        "No se pueden simplemente ignorar los NA en funciones como cumsum() o cummean() porque estas funciones no aceptan el argumento na.rm = TRUE, y por defecto propagan los NA.\n",
        "Es decir, en cuanto aparece un NA, todo lo que viene después también se convierte en NA.\n",
        "Esto es porque cumsum() asume que no sabe cuánto sumar si uno de los valores falta."
      ]
    },
    {
      "cell_type": "code",
      "execution_count": null,
      "metadata": {
        "collapsed": true,
        "id": "z7A2sz35o_8s"
      },
      "outputs": [],
      "source": []
    },
    {
      "cell_type": "markdown",
      "metadata": {
        "id": "Ayi45OW1pfPN"
      },
      "source": [
        "\n",
        "Si eliminamos los NAs antes del cálculo:"
      ]
    },
    {
      "cell_type": "code",
      "execution_count": null,
      "metadata": {
        "collapsed": true,
        "id": "ggrXHJt5pgNu"
      },
      "outputs": [],
      "source": []
    },
    {
      "cell_type": "markdown",
      "metadata": {
        "id": "-ETfwPM7pusW"
      },
      "source": [
        "## Ejercicios 4 con `mutate()`\n",
        "\n",
        "1. Convertir dep_time y sched_dep_time en minutos desde medianoche"
      ]
    },
    {
      "cell_type": "code",
      "execution_count": null,
      "metadata": {
        "collapsed": true,
        "id": "uKcMkLD_qBdG"
      },
      "outputs": [],
      "source": []
    },
    {
      "cell_type": "markdown",
      "metadata": {
        "id": "qAZAyy1OriPO"
      },
      "source": [
        "2. Comparar tiempo de vuelo (air_time) con horario de llegada - horario de salida (arr_time - dep_time)"
      ]
    },
    {
      "cell_type": "code",
      "execution_count": null,
      "metadata": {
        "collapsed": true,
        "id": "fWlWQTVvrqI9"
      },
      "outputs": [],
      "source": []
    },
    {
      "cell_type": "markdown",
      "metadata": {
        "id": "Duq5ET1W7sQe"
      },
      "source": [
        "3. Vuelos más retrasados según min_rank()"
      ]
    },
    {
      "cell_type": "code",
      "execution_count": null,
      "metadata": {
        "collapsed": true,
        "id": "0GOBFnAd7tvE"
      },
      "outputs": [],
      "source": []
    },
    {
      "cell_type": "markdown",
      "metadata": {
        "id": "o_ebCxti_mrH"
      },
      "source": [
        "4. Funciones trigonométricas de R"
      ]
    },
    {
      "cell_type": "code",
      "execution_count": null,
      "metadata": {
        "collapsed": true,
        "id": "UES45EV46Ox6"
      },
      "outputs": [],
      "source": []
    },
    {
      "cell_type": "markdown",
      "metadata": {
        "id": "3F3HeIED_t7P"
      },
      "source": [
        "También incluye `asin()`, `acos()`, `atan()`, `sinh()`, `cosh()`, `tanh()`, etc.\n",
        "\n",
        "Los ángulos de las funciones tienen que estar en radiantes. R no tiene una función directa para esto."
      ]
    },
    {
      "cell_type": "code",
      "execution_count": null,
      "metadata": {
        "id": "gc0-zQ-IAGt6"
      },
      "outputs": [],
      "source": []
    },
    {
      "cell_type": "markdown",
      "metadata": {
        "id": "vMjYcJH0A-gA"
      },
      "source": [
        "## `min_rank()` y `row_number()`\n",
        "\n",
        "Permiten asignar **rangos** según el valor de una variable.\n",
        "\n",
        "- `min_rank()`: asigna el mismo rango a empates\n",
        "- `row_number()`: asigna rangos sin empates (rompe empates arbitrariamente)\n",
        "\n",
        "Por ejemplo, si queremos crear un ranking de vuelos según retraso en llegada"
      ]
    },
    {
      "cell_type": "code",
      "execution_count": null,
      "metadata": {
        "collapsed": true,
        "id": "D9BEF1746ic2"
      },
      "outputs": [],
      "source": []
    },
    {
      "cell_type": "markdown",
      "metadata": {
        "id": "XlbTcDxgCrxZ"
      },
      "source": [
        "**A tener en cuenta:**\n",
        "\n",
        "- Estas funciones deben usarse **dentro de `mutate()` o `transmute()`**.\n",
        "- `lag()` y `lead()` son ideales para detectar tendencias o diferencias entre registros.\n",
        "- Las funciones acumuladas (`cumsum`, `cummean`) requieren orden si se desea análisis temporal.\n",
        "- `min_rank` es más justo cuando hay empates que `row_number`.\n",
        "\n",
        "------------------------------------\n",
        "## FILTROS Y MUTATES AGRUPADOS\n",
        "\n",
        "Para verlo mejor en el dataset de fligths, utilizamos una data ficticia:\n",
        "\n",
        "Estamos formando dos grupos, A y B, cada uno tiene un valor en una métrica. Si yo quisiera aplicar un filtro, el filtro se aplicaría sobre toda la columna de métrica, la idea del **group_by** es que las operaciones que se hagan en el **mutate** o en el **filtro**, se van a aplicar dentro de los grupos, por ejemplo:\n",
        "\n",
        "Si yo quiero una nueva columna que sea la suma total dentro de los grupos, como se observa a continuación o si lo que quiero es seleccionar la métrica más baja por grupo ¿qué hacemos? (reinicio de rango):\n",
        "\n",
        "| Grupo | Métrica | La Suma | Orden |\n",
        "|-------|---------|---------|-------|\n",
        "| A     | 1       | ?       | ?     |\n",
        "| A     | 3       | ?       | ?     |\n",
        "| A     | 5       | ?       | ?     |\n",
        "| B     | 2       | ?       | ?     |\n",
        "| B     | 4       | ?       | ?     |\n",
        "| B     | 6       | ?       | ?     |\n",
        "\n",
        "\n",
        "creando un nuevo data set con la nueva agrupación\n"
      ]
    },
    {
      "cell_type": "markdown",
      "metadata": {
        "id": "KJmFc0yOEHxC"
      },
      "source": [
        "| Grupo | Métrica | La Suma | Orden |\n",
        "|-------|---------|---------|-------|\n",
        "| A     | 1       | 9       | 1     |\n",
        "| A     | 3       | 9       | 2     |\n",
        "| A     | 5       | 9       | 3     |\n",
        "| B     | 2       | 12      | 1     |\n",
        "| B     | 4       | 12      | 2     |\n",
        "| B     | 6       | 12      | 3     |\n"
      ]
    },
    {
      "cell_type": "markdown",
      "metadata": {
        "id": "0JDcs2fZE1kr"
      },
      "source": [
        "---\n",
        "\n",
        "En nuestros datos:\n",
        "\n",
        "`summarise()` + `group_by()` – Resumir datos agrupados\n",
        "\n",
        "- `group_by()` agrupa datos por variable(s).\n",
        "- `summarise()` resume cada grupo con funciones como `mean()`, `n()`, etc.\n",
        "\n",
        "**Calculemos el promedio de retraso por aeropuerto de origen:**\n"
      ]
    },
    {
      "cell_type": "code",
      "execution_count": null,
      "metadata": {
        "id": "eBB2d8u7EYJt"
      },
      "outputs": [],
      "source": []
    },
    {
      "cell_type": "markdown",
      "metadata": {
        "id": "vYZ2_yyjFHs0"
      },
      "source": [
        "¿cómo calculo la media de retraso por día (by_day)?, ¿y por mes?"
      ]
    },
    {
      "cell_type": "code",
      "execution_count": null,
      "metadata": {
        "collapsed": true,
        "id": "5VNpGM_66ipl"
      },
      "outputs": [],
      "source": []
    },
    {
      "cell_type": "markdown",
      "metadata": {
        "id": "nHWPNcp4Fni6"
      },
      "source": [
        "Ahora, si quisiéramos encontrar los mejores miembros (mejores tiempos) es decir los que llegaron más temprano o llegaron a tiempo"
      ]
    },
    {
      "cell_type": "code",
      "execution_count": null,
      "metadata": {
        "collapsed": true,
        "id": "5rU_O1i9FhD1"
      },
      "outputs": [],
      "source": []
    },
    {
      "cell_type": "markdown",
      "metadata": {
        "id": "dTzsNbB6GDzV"
      },
      "source": [
        "Por ejemplo, si queremos identificar todos los aeropuertos de destino (dest) a los que se voló menos de 20 veces en todo el año, la idea sería mostrar los destinos y el número total de vuelos que recibieron."
      ]
    },
    {
      "cell_type": "code",
      "execution_count": null,
      "metadata": {
        "collapsed": true,
        "id": "knTTjOin6itA"
      },
      "outputs": [],
      "source": []
    },
    {
      "cell_type": "markdown",
      "metadata": {
        "id": "yHKSYMzfGP98"
      },
      "source": [
        "¿Cuántos destinos diferentes recibieron menos de 20 vuelos en total durante 2013?\n",
        "¿Alguno de estos destinos parece ser un error o un dato atípico?"
      ]
    },
    {
      "cell_type": "code",
      "execution_count": null,
      "metadata": {
        "collapsed": true,
        "id": "4A25JmRS6iwY"
      },
      "outputs": [],
      "source": []
    },
    {
      "cell_type": "markdown",
      "metadata": {
        "id": "sY7IZPXWGkE2"
      },
      "source": [
        "## Ejercicios con `summarise()` y exploración de datos agrupados\n",
        "\n",
        "1. Formas de evaluar retraso típico\n",
        "\n",
        "- `mean(arr_delay, na.rm = TRUE)` — promedio de retraso\n",
        "- `median(arr_delay, na.rm = TRUE)` — mediana\n",
        "- `sd(arr_delay, na.rm = TRUE)` — desviación estándar\n",
        "- `IQR(arr_delay, na.rm = TRUE)` — rango intercuartílico\n",
        "- `quantile(arr_delay, probs = 0.9, na.rm = TRUE)` — percentil 90\n"
      ]
    },
    {
      "cell_type": "code",
      "execution_count": null,
      "metadata": {
        "collapsed": true,
        "id": "IM38KQo8InwC"
      },
      "outputs": [],
      "source": []
    },
    {
      "cell_type": "markdown",
      "metadata": {
        "id": "KMKjgoHpKXLl"
      },
      "source": [
        "Un vuelo que se adelanta 15 minutos el 50% de las veces, y se retrasa 15 minutos el 50% de las veces."
      ]
    },
    {
      "cell_type": "code",
      "execution_count": null,
      "metadata": {
        "id": "dqB5y6PhKafV"
      },
      "outputs": [],
      "source": []
    },
    {
      "cell_type": "markdown",
      "metadata": {
        "id": "UGpEX0KPKqYx"
      },
      "source": [
        "Un vuelo que siempre llega con 10 minutos de retraso."
      ]
    },
    {
      "cell_type": "code",
      "execution_count": null,
      "metadata": {
        "collapsed": true,
        "id": "e_XaPFv5Kwej"
      },
      "outputs": [],
      "source": []
    },
    {
      "cell_type": "markdown",
      "metadata": {
        "id": "M4JmZLzvIoOs"
      },
      "source": [
        "\n",
        "2. ¿Qué es más importante?\n",
        "\n",
        "Depende del objetivo: la llegada afecta al pasajero, la salida al aeropuerto.\n",
        "\n",
        "3. Consulta la tabla de funciones útiles de mutación y filtrado. Describe cómo cambia cada operación al combinarla con la agrupación.\n",
        "\n",
        "\n"
      ]
    },
    {
      "cell_type": "code",
      "execution_count": null,
      "metadata": {
        "id": "iosfo4-Osep-"
      },
      "outputs": [],
      "source": []
    },
    {
      "cell_type": "markdown",
      "metadata": {
        "id": "hWkFCT_pt4mc"
      },
      "source": [
        "Cuando aplicamos funciones de mutación (mutate()) o filtrado (filter()) a un dataframe sin agrupar, las operaciones se hacen sobre todo el conjunto de datos.\n",
        "\n",
        "Sin embargo, al agrupar (group_by()), el comportamiento de estas funciones cambia:\n",
        "cada grupo se trata de forma independiente, como si tuvieras varios subconjuntos separados, y luego se combinan los resultados.\n",
        "Ejemplo con mutate() sin agrupar"
      ]
    },
    {
      "cell_type": "code",
      "execution_count": null,
      "metadata": {
        "collapsed": true,
        "id": "Sfvkzmzft81j"
      },
      "outputs": [],
      "source": []
    },
    {
      "cell_type": "markdown",
      "metadata": {
        "id": "S7ZX7aF5uKd8"
      },
      "source": [
        "Ejemplo con mutate() agrupado"
      ]
    },
    {
      "cell_type": "code",
      "execution_count": null,
      "metadata": {
        "collapsed": true,
        "id": "dipWuUY8uLXP"
      },
      "outputs": [],
      "source": []
    },
    {
      "cell_type": "markdown",
      "metadata": {
        "id": "6p-lB3cLtyRT"
      },
      "source": [
        "4. ¿Qué avión (tailnum) tiene el peor registro de puntualidad?"
      ]
    },
    {
      "cell_type": "code",
      "execution_count": null,
      "metadata": {
        "collapsed": true,
        "id": "2N065r-JLs6A"
      },
      "outputs": [],
      "source": []
    },
    {
      "cell_type": "markdown",
      "metadata": {
        "id": "vdQqW6k_Hi3b"
      },
      "source": [
        "4. ¿A qué hora del día deberías volar para evitar retrasos al máximo?"
      ]
    },
    {
      "cell_type": "code",
      "execution_count": null,
      "metadata": {
        "collapsed": true,
        "id": "UsH596LJ6izI"
      },
      "outputs": [],
      "source": []
    },
    {
      "cell_type": "markdown",
      "metadata": {
        "id": "6vdXef91vSmO"
      },
      "source": [
        "5. Para cada destino, calcule el total de minutos de retraso."
      ]
    },
    {
      "cell_type": "code",
      "execution_count": null,
      "metadata": {
        "collapsed": true,
        "id": "9H5vHpo_6i2Q"
      },
      "outputs": [],
      "source": []
    },
    {
      "cell_type": "markdown",
      "metadata": {
        "id": "X0j5O1V1v7HI"
      },
      "source": [
        "6. Para cada vuelo, calcule la proporción del retraso total en su destino."
      ]
    },
    {
      "cell_type": "code",
      "execution_count": null,
      "metadata": {
        "collapsed": true,
        "id": "OVppflSI6i5K"
      },
      "outputs": [],
      "source": []
    },
    {
      "cell_type": "code",
      "execution_count": null,
      "metadata": {
        "collapsed": true,
        "id": "0Vr5_75g6i7h"
      },
      "outputs": [],
      "source": []
    },
    {
      "cell_type": "markdown",
      "metadata": {
        "id": "Z2TkOgbuyOpX"
      },
      "source": [
        "6. Mira cada destino. ¿Puede encontrar vuelos que sean sospechosamente rápidos? (es decir, vuelos que representen un posible error de introducción de datos). Calcule el tiempo de vuelo de un vuelo en relación con el vuelo más corto a ese destino. ¿Qué vuelos sufrieron más retrasos en el aire?"
      ]
    },
    {
      "cell_type": "code",
      "execution_count": null,
      "metadata": {
        "collapsed": true,
        "id": "cbBveaPA6i-H"
      },
      "outputs": [],
      "source": []
    },
    {
      "cell_type": "markdown",
      "metadata": {
        "id": "hWS-WQmZz6Ys"
      },
      "source": [
        "------------------------\n",
        "------------------------\n",
        "## Relación entre tablas: ¿para qué sirven los joins?\n",
        "\n",
        "En la mayoría de los análisis de datos no trabajamos con una única tabla. Lo habitual es que tengamos varias tablas que contienen información relacionada entre sí y necesitemos combinarlas para responder a nuestras preguntas. A este conjunto se le conoce como **datos relacionales** porque lo que realmente importa no es cada tabla por separado, sino cómo se relacionan entre sí.\n",
        "\n",
        "Estas relaciones se establecen siempre entre pares de tablas. Incluso si el análisis involucra más de dos tablas, todo se reduce a cómo se conectan de forma individual cada par. A veces, estas relaciones pueden darse incluso dentro de la misma tabla, por ejemplo, cuando una tabla de empleados incluye referencias a sus jefes, quienes también están en esa misma tabla.\n",
        "\n",
        "Para manejar este tipo de estructuras relacionales, necesitamos funciones que permitan operar entre dos (o más) tablas a la vez. En `dplyr`, estas funciones se agrupan en tres familias principales:\n",
        "\n",
        "Tipos de operaciones con datos relacionales\n",
        "\n",
        "- **Uniones con mutación (`mutating joins`)**: combinan columnas de dos tablas según observaciones coincidentes. Permiten enriquecer una tabla con información de otra.\n",
        "- **Uniones de filtrado (`filtering joins`)**: seleccionan o eliminan filas de una tabla dependiendo de si tienen coincidencias en otra tabla.\n",
        "- **Operaciones de conjuntos (`set operations`)**: tratan las filas como elementos de conjuntos y permiten aplicar intersecciones, uniones y diferencias.\n",
        "\n",
        "Estas herramientas son fundamentales cuando trabajamos con datos almacenados en sistemas de bases de datos relacionales, que es donde suelen encontrarse este tipo de estructuras. Aunque muchas de estas tareas también pueden hacerse con SQL, `dplyr` facilita el análisis de datos al ofrecer una sintaxis más amigable y centrada en las tareas más comunes del análisis.\n",
        "\n",
        "Por ejemplo, en `flights` encontramos códigos de aerolíneas (`carrier`), pero sus nombres están en `airlines`. Para analizarlos juntos, debemos unirlos.\n",
        "\n",
        "## Tipos de joins en `dplyr`\n",
        "\n",
        "| Función         | ¿Qué hace?                                                      |\n",
        "|----------------|------------------------------------------------------------------|\n",
        "| `inner_join()` | Solo las coincidencias en ambas tablas  (Intersección)                        |\n",
        "| `left_join()`  | Todos los registros de la tabla izquierda                     |\n",
        "| `right_join()` | Todos los registros de la tabla derecha                        |\n",
        "| `full_join()`  | Todos los registros de ambas tablas(AUB)                            |\n",
        "| `semi_join()`  | Registros de la izquierda con coincidencia (sin agregar columnas) |\n",
        "| `anti_join()`  | Registros de la izquierda sin coincidencia                     |\n",
        "\n",
        "Se puede explorar más con vignette. Pero, ¿Qué es una vignette?:\n",
        "\n",
        "Es un documento en HTML o PDF incluido en un paquete.\n",
        "Tiene código R explicativo, gráficos y teoría.\n",
        "Se utiliza para aprender a usar el paquete con contexto. (No funciona en google colab, veremos sus funciones en RStudio), sin emabrgo, es como si abrieramos:\n",
        "\n",
        "[vignette(\"two-table\", package = \"dplyr\") ](https://dplyr.tidyverse.org/articles/two-table.html)\n",
        "\n",
        "\n"
      ]
    },
    {
      "cell_type": "code",
      "execution_count": null,
      "metadata": {
        "id": "Snm6qoSU6jA4"
      },
      "outputs": [],
      "source": []
    },
    {
      "cell_type": "markdown",
      "metadata": {
        "id": "9vqWZWyi0TZv"
      },
      "source": [
        "**¿Este tipo de relaciones modifican el dataframe original?**\n",
        "\n",
        "No. Los joins **devuelven una nueva tabla**. Para conservarla, debemos  asignarla a un objeto.\n",
        "\n",
        "### Llaves primarias y secundarias\n",
        "\n",
        "En los datos relacionales, cada tabla suele tener una **clave primaria**, que es una columna (o conjunto de columnas) que identifica de manera única cada fila.\n",
        "\n",
        "También puede tener una o varias **claves foráneas**, que son columnas que contienen identificadores de otra tabla, permitiendo así establecer relaciones entre ellas.\n",
        "\n",
        "Por ejemplo:\n",
        "- En `flights`, la columna `carrier` se refiere a una clave en la tabla `airlines`.\n",
        "- Las columnas `origin` y `dest` hacen referencia a códigos de aeropuerto presentes en `airports`.\n",
        "\n",
        "\n",
        "### Tipos de uniones (`joins`) con `dplyr`\n",
        "\n",
        "`left_join(x, y)`\n",
        "\n",
        "Devuelve todas las filas de `x` y añade las columnas de `y` que coincidan. Si no hay coincidencia, se completan con `NA`.\n",
        "\n",
        "`right_join(x, y)`\n",
        "\n",
        "Como el `left_join()`, pero conserva todas las filas de `y`.\n",
        "\n",
        "`inner_join(x, y)`\n",
        "\n",
        "Devuelve solo las filas que tienen coincidencias en ambas tablas.\n",
        "\n",
        "`full_join(x, y)`\n",
        "\n",
        "Conserva todas las filas de ambas tablas. Si no hay coincidencia en alguna clave, se completan con `NA`.\n",
        "\n",
        "Estas funciones se utilizan comúnmente cuando deseamos enriquecer una tabla con información de otra.\n",
        "\n",
        "### Operaciones de conjuntos\n",
        "\n",
        "Estas funciones comparan dos conjuntos de observaciones (filas), asumiendo que ambas tablas tienen las mismas columnas:\n",
        "\n",
        "- `intersect(x, y)`: Filas comunes a ambas tablas.\n",
        "- `union(x, y)`: Todas las filas que aparecen en al menos una tabla.\n",
        "- `setdiff(x, y)`: Filas que están en `x` pero no en `y`.\n",
        "\n",
        "Estas funciones permiten analizar las diferencias y similitudes entre datasets.\n"
      ]
    },
    {
      "cell_type": "markdown",
      "metadata": {
        "id": "ywGbi7xYLxp1"
      },
      "source": [
        "---\n",
        "\n",
        "Ejemplos con datos ficticios"
      ]
    },
    {
      "cell_type": "code",
      "execution_count": null,
      "metadata": {
        "id": "iakN0qBW0bRO"
      },
      "outputs": [],
      "source": []
    },
    {
      "cell_type": "markdown",
      "metadata": {
        "id": "e3M32GRg3Hks"
      },
      "source": [
        "Inerjoin:"
      ]
    },
    {
      "cell_type": "code",
      "execution_count": null,
      "metadata": {
        "id": "CDSdJuRc3JRH"
      },
      "outputs": [],
      "source": []
    },
    {
      "cell_type": "markdown",
      "metadata": {
        "id": "DEK0dQlK3MFF"
      },
      "source": [
        "Todos los de x:"
      ]
    },
    {
      "cell_type": "code",
      "execution_count": null,
      "metadata": {
        "id": "XFDFukjt_Sqb"
      },
      "outputs": [],
      "source": []
    },
    {
      "cell_type": "markdown",
      "metadata": {
        "id": "vzGnAq9q_VRb"
      },
      "source": [
        "\n",
        "Todos los de y:"
      ]
    },
    {
      "cell_type": "code",
      "execution_count": null,
      "metadata": {
        "id": "qxl0l9i4_V6-"
      },
      "outputs": [],
      "source": []
    },
    {
      "cell_type": "markdown",
      "metadata": {
        "id": "nNuNb2rT_bE4"
      },
      "source": [
        "\n",
        "Todos:"
      ]
    },
    {
      "cell_type": "code",
      "execution_count": null,
      "metadata": {
        "id": "wpfsocTb_bey"
      },
      "outputs": [],
      "source": []
    },
    {
      "cell_type": "markdown",
      "metadata": {
        "id": "Uxrbjmqh_jVc"
      },
      "source": [
        "Coincidencias en x:"
      ]
    },
    {
      "cell_type": "code",
      "execution_count": null,
      "metadata": {
        "id": "RZH6I0IG_kQc"
      },
      "outputs": [],
      "source": []
    },
    {
      "cell_type": "markdown",
      "metadata": {
        "id": "fQ7_YLPe_mX_"
      },
      "source": [
        "Sin coincidencias:"
      ]
    },
    {
      "cell_type": "code",
      "execution_count": null,
      "metadata": {
        "id": "rACAipDe_o6O"
      },
      "outputs": [],
      "source": []
    },
    {
      "cell_type": "markdown",
      "metadata": {
        "id": "73XfDmb-_tgD"
      },
      "source": [
        "Qué pasa si las columnas de ambas tablas no tienen el mismo nombre"
      ]
    },
    {
      "cell_type": "code",
      "execution_count": null,
      "metadata": {
        "id": "NqvhxQ0A_7q2"
      },
      "outputs": [],
      "source": []
    },
    {
      "cell_type": "markdown",
      "metadata": {
        "id": "Stwan29d_7DE"
      },
      "source": [
        "**Producto cartesiano:**\n",
        "\n",
        "Dado dos conjuntos de datos A y B, el producto cartesiano (A × B) es el conjunto de todas las combinaciones posibles entre las filas de A y las filas de B.\n",
        "\n",
        "Si A tiene n filas y B tiene m filas, entonces A × B tendrá n × m filas.\n",
        "En términos de JOIN, el producto cartesiano es lo que ocurre cuando se hace un join sin especificar una clave de unión (by = NULL).\n",
        "En SQL se llama CROSS JOIN.\n",
        "En dplyr, se obtiene con inner_join() sin by.\n",
        "\n"
      ]
    },
    {
      "cell_type": "code",
      "execution_count": null,
      "metadata": {
        "id": "bFvPggaQAYtU"
      },
      "outputs": [],
      "source": []
    },
    {
      "cell_type": "markdown",
      "metadata": {
        "id": "G5jA-Q8OAd6U"
      },
      "source": [
        "### Aplicación real con `nycflights13`\n",
        "\n",
        "**Relaciones existentes entre las tablas de nycflights13**\n",
        "\n",
        "![Relación entre tablas de nycflights13](https://github.com/ednavivianasegura/AccesoImages/blob/main/nycflights.png?raw=true)\n",
        "\n",
        "Nota: Es importante saber que la ubicación de la imagen tiene que ser en un directorio público, de lo contrario no se puede visualizar\n",
        "\n",
        "| Tabla base  | Relación                      | Tabla secundaria |\n",
        "|-------------|-------------------------------|------------------|\n",
        "| `flights`   | `carrier`                     | `airlines`       |\n",
        "| `flights`   | `tailnum`                     | `planes`         |\n",
        "| `flights`   | `origin`                      | `airports`       |\n",
        "| `flights`   | `origin` + `time_hour`        | `weather`        |\n",
        "\n",
        "Información sobre los data sets a usar: [nycflights13](https://cran.r-project.org/web/packages/nycflights13/nycflights13.pdf)\n",
        "\n",
        "Ejemplo práctico: unir `flights` con `airlines`"
      ]
    },
    {
      "cell_type": "code",
      "execution_count": null,
      "metadata": {
        "collapsed": true,
        "id": "eqMz_wKiBM4U"
      },
      "outputs": [],
      "source": []
    },
    {
      "cell_type": "markdown",
      "metadata": {
        "id": "IfvMCw65B2yl"
      },
      "source": [
        "## Ejercicios:\n",
        "\n",
        "1. Dibujar rutas de vuelo, **pregunta:** ¿Qué variables necesitamos para dibujar la ruta de cada avión desde su origen hasta su destino? ¿Qué tablas deberíamos combinar?\n",
        "\n",
        "Necesitamos:\n",
        "- Código del aeropuerto de origen y destino (en `flights`: `origin` y `dest`)\n",
        "- Coordenadas de los aeropuertos (`airports`: `lat`, `lon`)\n",
        "\n",
        "Combinaciones necesarias:"
      ]
    },
    {
      "cell_type": "code",
      "execution_count": null,
      "metadata": {
        "collapsed": true,
        "id": "Oo93U-jkCKj3"
      },
      "outputs": [],
      "source": []
    },
    {
      "cell_type": "markdown",
      "metadata": {
        "id": "bscL6WOmQfMn"
      },
      "source": [
        "2. Relación entre clima y aeropuertos, **pregunta:** ¿Cuál es la relación entre `weather` y `airports`?\n",
        "\n",
        "- `weather` contiene datos climáticos **solo de los aeropuertos de origen** de Nueva York: `JFK`, `LGA`, `EWR`\n",
        "- Se relaciona con `airports` mediante `origin` → `faa`\n",
        "\n",
        "Relación esperada:\n",
        "Cada fila en `weather` corresponde a un aeropuerto (por `origin`), una fecha y una hora (`time_hour`). Se puede vincular con `flights` usando:"
      ]
    },
    {
      "cell_type": "code",
      "execution_count": null,
      "metadata": {
        "collapsed": true,
        "id": "Btp0_H3pQqUy"
      },
      "outputs": [],
      "source": []
    },
    {
      "cell_type": "markdown",
      "metadata": {
        "id": "_EU3_UeNQ23k"
      },
      "source": [
        " 3. ¿Y si `weather` tuviera datos de todo el país?\n",
        "\n",
        "Si la tabla `weather` incluyera todos los aeropuertos de EE.UU., la clave sería:\n",
        "- `origin` + `time_hour`\n",
        "\n",
        "Se podría unir con `flights` igual que antes, pero los datos incluirían más aeropuertos:\n"
      ]
    },
    {
      "cell_type": "code",
      "execution_count": null,
      "metadata": {
        "collapsed": true,
        "id": "yPk2wd0HQ6Fz"
      },
      "outputs": [],
      "source": []
    },
    {
      "cell_type": "markdown",
      "metadata": {
        "id": "9H9zqE2yRDTA"
      },
      "source": [
        "4. Días especiales, **pregunta:** ¿Cómo representarías en un data frame los días especiales del año?\n",
        "\n",
        "Tabla ficticia `dias_especiales`:"
      ]
    },
    {
      "cell_type": "code",
      "execution_count": null,
      "metadata": {
        "id": "rzFVsk6kROGY"
      },
      "outputs": [],
      "source": []
    },
    {
      "cell_type": "markdown",
      "metadata": {
        "id": "gxkCYIlWRkrs"
      },
      "source": [
        "Clave primaria: `year`, `month`, `day`\n",
        "\n",
        "Tenemos que unirla con `flights`:\n",
        "\n",
        "Esto permite identificar los vuelos realizados en días especiales.\n",
        "\n",
        "---"
      ]
    },
    {
      "cell_type": "code",
      "execution_count": null,
      "metadata": {
        "collapsed": true,
        "id": "aFVrJhXxRs6e"
      },
      "outputs": [],
      "source": []
    },
    {
      "cell_type": "markdown",
      "metadata": {
        "id": "bAc9_728U0ZN"
      },
      "source": [
        "\n",
        "5. Agregar una clave sustituta (surrogate key) a `flights`\n",
        "\n"
      ]
    },
    {
      "cell_type": "code",
      "execution_count": null,
      "metadata": {
        "collapsed": true,
        "id": "6QmbGcg0VPR5"
      },
      "outputs": [],
      "source": []
    },
    {
      "cell_type": "markdown",
      "metadata": {
        "id": "OWm3EugXabQR"
      },
      "source": [
        "<h3>Joins en <code>dplyr</code> y su equivalencia en SQL</h3>\n",
        "\n",
        "<p>\n",
        "Las funciones de unión de <code>dplyr</code> como <code>inner_join()</code>, <code>left_join()</code>, <code>right_join()</code> o <code>full_join()</code> permiten realizar combinaciones entre tablas de forma clara y eficiente. Estas funciones preservan el orden de las filas y son más fáciles de leer que <code>merge()</code> de base R.\n",
        "</p>\n",
        "\n",
        "<p>\n",
        "El diseño de estas funciones está inspirado en SQL, por lo que la traducción es directa:\n",
        "</p>\n",
        "\n",
        "<table border=\"1\" style=\"border-collapse: collapse; text-align: left; width: 100%;\">\n",
        "  <thead style=\"background-color: #f2f2f2;\">\n",
        "    <tr>\n",
        "      <th>dplyr</th>\n",
        "      <th>SQL equivalente</th>\n",
        "    </tr>\n",
        "  </thead>\n",
        "  <tbody>\n",
        "    <tr>\n",
        "      <td><code>inner_join(x, y, by = \"z\")</code></td>\n",
        "      <td><code>SELECT * FROM x INNER JOIN y USING (z)</code></td>\n",
        "    </tr>\n",
        "    <tr>\n",
        "      <td><code>left_join(x, y, by = \"z\")</code></td>\n",
        "      <td><code>SELECT * FROM x LEFT OUTER JOIN y USING (z)</code></td>\n",
        "    </tr>\n",
        "    <tr>\n",
        "      <td><code>right_join(x, y, by = \"z\")</code></td>\n",
        "      <td><code>SELECT * FROM x RIGHT OUTER JOIN y USING (z)</code></td>\n",
        "    </tr>\n",
        "    <tr>\n",
        "      <td><code>full_join(x, y, by = \"z\")</code></td>\n",
        "      <td><code>SELECT * FROM x FULL OUTER JOIN y USING (z)</code></td>\n",
        "    </tr>\n",
        "  </tbody>\n",
        "</table>\n",
        "\n",
        "<p><strong>Nota:</strong> En SQL, los términos <code>INNER</code> y <code>OUTER</code> son opcionales y frecuentemente se omiten.</p>\n",
        "\n",
        "<h4>Uniendo columnas con nombres diferentes</h4>\n",
        "\n",
        "<p>Cuando las columnas clave no tienen el mismo nombre en ambas tablas, en <code>dplyr</code> puedes usar:</p>\n",
        "\n",
        "<pre><code>inner_join(x, y, by = c(\"a\" = \"b\"))</code></pre>\n",
        "\n",
        "<p>Esto se traduce en SQL como:</p>\n",
        "\n",
        "<pre><code>SELECT * FROM x INNER JOIN y ON x.a = y.b</code></pre>\n",
        "\n",
        "<p>\n",
        "Esto demuestra que SQL admite más tipos de combinaciones (incluyendo aquellas no basadas en igualdad), mientras que <code>dplyr</code> se enfoca en las más comunes y legibles.\n",
        "</p>\n"
      ]
    },
    {
      "cell_type": "markdown",
      "metadata": {
        "id": "o6pWGOspdBLg"
      },
      "source": [
        "### Ejercicios finales:\n",
        "\n",
        "Ejercicio 1: ¿Cuántos vuelos no tienen información de avión?\n",
        "\n",
        "\n",
        "\n",
        "\n"
      ]
    },
    {
      "cell_type": "code",
      "execution_count": null,
      "metadata": {
        "id": "SHUseEDjffin"
      },
      "outputs": [],
      "source": []
    },
    {
      "cell_type": "markdown",
      "metadata": {
        "id": "QVkbQvICgCXR"
      },
      "source": [
        "\n",
        "2.  ¿Todos los aviones tienen al menos un vuelo?\n",
        "\n"
      ]
    },
    {
      "cell_type": "code",
      "execution_count": null,
      "metadata": {
        "id": "2u53JHPKgKpk"
      },
      "outputs": [],
      "source": []
    },
    {
      "cell_type": "markdown",
      "metadata": {
        "id": "LSVlYnk8kall"
      },
      "source": [
        "\n",
        "---\n",
        "\n",
        "3. ¿Cuáles aerolíneas aparecen en `flights` pero no están en `airlines`?\n",
        "\n"
      ]
    },
    {
      "cell_type": "code",
      "execution_count": null,
      "metadata": {
        "id": "iWVp-vBOkpfs"
      },
      "outputs": [],
      "source": []
    },
    {
      "cell_type": "markdown",
      "metadata": {
        "id": "I9ynoa-wkob7"
      },
      "source": [
        "\n",
        "---\n",
        "4. ¿Qué aeropuertos aparecen como destinos pero no como origen?\n",
        "\n"
      ]
    },
    {
      "cell_type": "code",
      "execution_count": null,
      "metadata": {
        "collapsed": true,
        "id": "K0gAjIluk7Sa"
      },
      "outputs": [],
      "source": []
    },
    {
      "cell_type": "markdown",
      "metadata": {
        "id": "f5UElxZslIUJ"
      },
      "source": [
        "\n",
        "---\n",
        "5. ¿Qué aeropuertos aparecen como origen pero nunca como destino?\n",
        "\n"
      ]
    },
    {
      "cell_type": "code",
      "execution_count": null,
      "metadata": {
        "id": "4t8wmP-OlNqD"
      },
      "outputs": [],
      "source": []
    },
    {
      "cell_type": "markdown",
      "metadata": {
        "id": "N9FuPY5Si4HM"
      },
      "source": [
        "6. ¿Qué significa que un vuelo tenga `tailnum` faltante? ¿Qué variable lo explica?\n",
        "\n",
        "\n",
        "\n",
        "\n"
      ]
    },
    {
      "cell_type": "code",
      "execution_count": null,
      "metadata": {
        "id": "qkocUQRHnzb2"
      },
      "outputs": [],
      "source": []
    },
    {
      "cell_type": "markdown",
      "metadata": {
        "id": "vdpwNZlipZTL"
      },
      "source": [
        "---\n",
        "\n",
        "7. Filtrar vuelos que tienen aviones con al menos 100 vuelos\n",
        "\n",
        "\n",
        "\n",
        "\n",
        "\n",
        "\n"
      ]
    },
    {
      "cell_type": "code",
      "execution_count": null,
      "metadata": {
        "id": "1nfWYQ7kpfDc"
      },
      "outputs": [],
      "source": []
    },
    {
      "cell_type": "code",
      "execution_count": null,
      "metadata": {
        "id": "0Lr6uKDIs9J9"
      },
      "outputs": [],
      "source": []
    },
    {
      "cell_type": "markdown",
      "metadata": {
        "id": "Dbdtewm7tNgN"
      },
      "source": [
        "9. Encontrar las 48 horas con más retrasos y cruzarlas con datos climáticos\n"
      ]
    },
    {
      "cell_type": "code",
      "execution_count": null,
      "metadata": {
        "id": "qaOSoRy_tTN0"
      },
      "outputs": [],
      "source": []
    },
    {
      "cell_type": "markdown",
      "metadata": {
        "id": "czbopW7HtwLg"
      },
      "source": [
        "10. Interpretar anti_join con aeropuertos\n",
        "\n",
        "\n"
      ]
    },
    {
      "cell_type": "code",
      "execution_count": null,
      "metadata": {
        "id": "hx8xpT-Rt0fE"
      },
      "outputs": [],
      "source": []
    },
    {
      "cell_type": "markdown",
      "metadata": {
        "id": "ZhVNTENat7TH"
      },
      "source": [
        "11. Verificar si un avión es operado por una sola aerolínea\n",
        "\n"
      ]
    },
    {
      "cell_type": "code",
      "execution_count": null,
      "metadata": {
        "id": "zw2j7Le3t-is"
      },
      "outputs": [],
      "source": []
    },
    {
      "cell_type": "markdown",
      "metadata": {
        "id": "HHmck1XHxkxI"
      },
      "source": [
        "## data.table\n",
        "\n",
        "`data.table` es una alternativa de alto rendimiento a `data.frame`, optimizada para manejar grandes volúmenes de datos de forma eficiente. Su sintaxis concisa permite combinar filtrado, selección y agrupación en una sola línea:\n",
        "\n",
        "``` r\n",
        "DT[i, j, by]\n",
        "```\n",
        "\n",
        "-   `i`: condiciones para filtrar filas.\n",
        "-   `j`: operaciones sobre columnas.\n",
        "-   `by`: agrupamiento por variables.\n",
        "\n",
        "Ventajas: - Muy eficiente en términos de velocidad y uso de memoria. - Permite modificar datos sin copiar (in-place). - Ideal para trabajar con millones de filas.\n",
        "\n",
        "En esta sección vamos a replicar parte de los ejercicios realizados en la sección anterior, pero esta vez con data.table.\n",
        "\n",
        "------------------------------------------------------------------------\n"
      ]
    },
    {
      "cell_type": "code",
      "execution_count": null,
      "metadata": {
        "id": "2tYq3xM0xbhC"
      },
      "outputs": [],
      "source": []
    },
    {
      "cell_type": "markdown",
      "metadata": {
        "id": "958FxfTBwysr"
      },
      "source": [
        "### Filtrar:"
      ]
    },
    {
      "cell_type": "code",
      "execution_count": null,
      "metadata": {
        "collapsed": true,
        "id": "Jjx9FaDz6g3l"
      },
      "outputs": [],
      "source": []
    },
    {
      "cell_type": "code",
      "execution_count": null,
      "metadata": {
        "collapsed": true,
        "id": "Y1v67UqRw6go"
      },
      "outputs": [],
      "source": []
    },
    {
      "cell_type": "markdown",
      "metadata": {
        "id": "1HyT9ZvtyebS"
      },
      "source": [
        "### Ordenar:"
      ]
    },
    {
      "cell_type": "code",
      "execution_count": null,
      "metadata": {
        "collapsed": true,
        "id": "D4_mDFJLyhJn"
      },
      "outputs": [],
      "source": []
    },
    {
      "cell_type": "code",
      "execution_count": null,
      "metadata": {
        "collapsed": true,
        "id": "8z9qXQiYxSZQ"
      },
      "outputs": [],
      "source": []
    },
    {
      "cell_type": "code",
      "execution_count": null,
      "metadata": {
        "collapsed": true,
        "id": "GkycayafvUHK"
      },
      "outputs": [],
      "source": []
    },
    {
      "cell_type": "code",
      "execution_count": null,
      "metadata": {
        "collapsed": true,
        "id": "vFh7iHY5rZLq"
      },
      "outputs": [],
      "source": []
    },
    {
      "cell_type": "markdown",
      "metadata": {
        "id": "gTuOpXtOzbc3"
      },
      "source": [
        "### Seleccionar"
      ]
    },
    {
      "cell_type": "code",
      "execution_count": null,
      "metadata": {
        "collapsed": true,
        "id": "kAhrJKf9zdOm"
      },
      "outputs": [],
      "source": []
    },
    {
      "cell_type": "markdown",
      "metadata": {
        "id": "n_GWSEtRzwlf"
      },
      "source": [
        "### Crear nuevas columnas (mutate)"
      ]
    },
    {
      "cell_type": "code",
      "execution_count": null,
      "metadata": {
        "collapsed": true,
        "id": "ymC43q3Wz0as"
      },
      "outputs": [],
      "source": []
    },
    {
      "cell_type": "markdown",
      "metadata": {
        "id": "UKcJE9Mj0QsK"
      },
      "source": []
    },
    {
      "cell_type": "markdown",
      "metadata": {
        "id": "DDdq6gfo00Si"
      },
      "source": [
        "### Ranking:"
      ]
    },
    {
      "cell_type": "code",
      "execution_count": null,
      "metadata": {
        "id": "6RDHTlzx031B"
      },
      "outputs": [],
      "source": []
    },
    {
      "cell_type": "code",
      "execution_count": null,
      "metadata": {
        "id": "fTFjRydh1QeK"
      },
      "outputs": [],
      "source": []
    },
    {
      "cell_type": "markdown",
      "metadata": {
        "id": "0SBBHGR61xxy"
      },
      "source": [
        "### Agrupación y resumen:"
      ]
    },
    {
      "cell_type": "code",
      "execution_count": null,
      "metadata": {
        "id": "8gaIbpgI10n6"
      },
      "outputs": [],
      "source": []
    },
    {
      "cell_type": "code",
      "execution_count": null,
      "metadata": {
        "id": "A6PPVMTx2Cfd"
      },
      "outputs": [],
      "source": []
    },
    {
      "cell_type": "markdown",
      "metadata": {
        "id": "eliDdGcu3Z3F"
      },
      "source": [
        "### Tablas relacionadas:\n",
        "Supongamos que tenemos dos tablas: flights_dt y airports_dt."
      ]
    },
    {
      "cell_type": "code",
      "execution_count": null,
      "metadata": {
        "id": "W_l7NsLR3cQw"
      },
      "outputs": [],
      "source": []
    },
    {
      "cell_type": "code",
      "execution_count": null,
      "metadata": {
        "id": "N2smFaxd3kXV"
      },
      "outputs": [],
      "source": []
    },
    {
      "cell_type": "code",
      "execution_count": null,
      "metadata": {
        "id": "pgz2_Zzn30RU"
      },
      "outputs": [],
      "source": []
    },
    {
      "cell_type": "markdown",
      "metadata": {
        "id": "Y_PXFGsL4-KM"
      },
      "source": [
        "Más relaciones:\n",
        "\n",
        "`base::merge()` puede realizar los cuatro tipos de uniones que crean variables (\"traen vairalbes de otras bases\"):\n",
        "\n",
        "| `dplyr`             | `merge` en base R                                      |\n",
        "|---------------------|--------------------------------------------------------|\n",
        "| `inner_join(x, y)`  | `merge(x, y)`                                          |\n",
        "| `left_join(x, y)`   | `merge(x, y, all.x = TRUE)`                            |\n",
        "| `right_join(x, y)`  | `merge(x, y, all.y = TRUE)`                            |\n",
        "| `full_join(x, y)`   | `merge(x, y, all.x = TRUE, all.y = TRUE)`              |\n",
        "\n",
        "**Ventajas de los verbos específicos de `dplyr`:**\n",
        "\n",
        "- Expresan más claramente la intención del código.\n",
        "- Las diferencias entre los tipos de unión son más evidentes que en los argumentos de `merge()`.\n",
        "- Las uniones con `dplyr` son mucho más rápidas y no alteran el orden de las filas.\n",
        "\n",
        "`dplyr` se inspira en SQL, por lo que su sintaxis resulta más intuitiva si ya conoces bases de datos.\n"
      ]
    },
    {
      "cell_type": "markdown",
      "metadata": {
        "id": "Wu3QHvV_5SbS"
      },
      "source": [
        "Ejercicios data.table:\n",
        "\n",
        "1. Vuelos que llegaron con más de 2 horas de retraso pero no salieron tarde"
      ]
    },
    {
      "cell_type": "code",
      "execution_count": null,
      "metadata": {
        "id": "mCnvUAWl5RxM"
      },
      "outputs": [],
      "source": []
    },
    {
      "cell_type": "markdown",
      "source": [
        "2. Vuelos que partieron entre medianoche y las 6:00 a.m. (inclusive)"
      ],
      "metadata": {
        "id": "keohD4MnO9cj"
      }
    },
    {
      "cell_type": "code",
      "source": [],
      "metadata": {
        "id": "EP7UqkJmO9LB"
      },
      "execution_count": null,
      "outputs": []
    },
    {
      "cell_type": "markdown",
      "source": [
        "3. Vuelos ordenados por mayor retraso en salida"
      ],
      "metadata": {
        "id": "nhfoVT-2PBC9"
      }
    },
    {
      "cell_type": "code",
      "source": [],
      "metadata": {
        "id": "eD5paQBmO9IS"
      },
      "execution_count": null,
      "outputs": []
    },
    {
      "cell_type": "markdown",
      "source": [
        "4. Vuelos más rápidos (velocidad = distancia / tiempo)"
      ],
      "metadata": {
        "id": "wg1HAa8HPERo"
      }
    },
    {
      "cell_type": "code",
      "source": [],
      "metadata": {
        "id": "1jGLSVSYPH1D"
      },
      "execution_count": null,
      "outputs": []
    },
    {
      "cell_type": "markdown",
      "source": [
        "5. Seleccionar columnas desde dep_time hasta arr_time"
      ],
      "metadata": {
        "id": "Y172SZYOPINQ"
      }
    },
    {
      "cell_type": "code",
      "source": [],
      "metadata": {
        "id": "7samlpFPPKKW"
      },
      "execution_count": null,
      "outputs": []
    },
    {
      "cell_type": "markdown",
      "source": [
        "6. Seleccionar columnas que comienzan con \"dep\" o terminan con \"time\""
      ],
      "metadata": {
        "id": "ri5pqKkNPMH7"
      }
    },
    {
      "cell_type": "code",
      "source": [],
      "metadata": {
        "id": "9lWg-x0EPNNg"
      },
      "execution_count": null,
      "outputs": []
    },
    {
      "cell_type": "markdown",
      "source": [
        "7. Convertir dep_time y sched_dep_time en minutos desde medianoche"
      ],
      "metadata": {
        "id": "RB9X5Cr1PNmZ"
      }
    },
    {
      "cell_type": "code",
      "source": [],
      "metadata": {
        "id": "P9zfz151PQOX"
      },
      "execution_count": null,
      "outputs": []
    },
    {
      "cell_type": "markdown",
      "source": [
        "8. Simulación de vuelo que se adelanta o retrasa 15 min (50% cada uno)"
      ],
      "metadata": {
        "id": "bvjil_3sPQjn"
      }
    },
    {
      "cell_type": "code",
      "source": [],
      "metadata": {
        "id": "CvkRmBsjPTCQ"
      },
      "execution_count": null,
      "outputs": []
    },
    {
      "cell_type": "markdown",
      "source": [
        "9. Avión (tailnum) con peor puntualidad promedio"
      ],
      "metadata": {
        "id": "jlE0IiVEPTW5"
      }
    },
    {
      "cell_type": "code",
      "source": [],
      "metadata": {
        "id": "UNhuMYsvPYpJ"
      },
      "execution_count": null,
      "outputs": []
    },
    {
      "cell_type": "markdown",
      "source": [
        "10. Número de vuelos sin información de avión"
      ],
      "metadata": {
        "id": "p2LBExO0PY_I"
      }
    },
    {
      "cell_type": "code",
      "source": [],
      "metadata": {
        "id": "W1DdYbbaPe7N"
      },
      "execution_count": null,
      "outputs": []
    },
    {
      "cell_type": "markdown",
      "source": [
        "11. Aerolíneas que aparecen en flights pero no están en airlines"
      ],
      "metadata": {
        "id": "GRy3NB5xPfSh"
      }
    },
    {
      "cell_type": "code",
      "source": [],
      "metadata": {
        "id": "OfYCXWo3PkvY"
      },
      "execution_count": null,
      "outputs": []
    },
    {
      "cell_type": "markdown",
      "source": [
        "12. Aeropuertos que aparecen como origen pero nunca como destino"
      ],
      "metadata": {
        "id": "Y3GO44PlPlJR"
      }
    }
  ],
  "metadata": {
    "colab": {
      "provenance": [],
      "include_colab_link": true
    },
    "kernelspec": {
      "display_name": "R",
      "name": "ir"
    },
    "language_info": {
      "name": "R"
    }
  },
  "nbformat": 4,
  "nbformat_minor": 0
}