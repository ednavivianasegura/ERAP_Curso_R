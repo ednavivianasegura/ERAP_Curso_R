{
  "cells": [
    {
      "cell_type": "markdown",
      "metadata": {
        "id": "view-in-github",
        "colab_type": "text"
      },
      "source": [
        "<a href=\"https://colab.research.google.com/github/ednavivianasegura/ERAP_Curso_R/blob/main/ERAP_R_Course_Modulo_IV.ipynb\" target=\"_parent\"><img src=\"https://colab.research.google.com/assets/colab-badge.svg\" alt=\"Open In Colab\"/></a>"
      ]
    },
    {
      "cell_type": "markdown",
      "metadata": {
        "id": "Xw_P5Z7q8v5W"
      },
      "source": [
        "Título: Manipulación de datos con R - Módulo IV (Exploración de datos y Estadística descriptiva)\n",
        "\n",
        "Autor(es): Edna Viviana Segura Alvarado - Hans Mauricio Carrillo Hernández\n",
        "\n",
        "Fecha: 2025-06\n",
        "\n",
        "Institución: Universidad de La Rioja"
      ],
      "id": "Xw_P5Z7q8v5W"
    },
    {
      "cell_type": "markdown",
      "id": "ca0626f3",
      "metadata": {
        "id": "ca0626f3"
      },
      "source": [
        "# Estadística Descriptiva\n",
        "\n",
        "La estadística descriptiva se encarga de recolectar, organizar, representar y resumir la información contenida en un conjunto de datos. Su objetivo es **describir las características fundamentales** de una o más variables, sin llegar a realizar inferencias o generalizaciones.\n",
        "\n",
        "---\n",
        "\n",
        "## Clasificación de las variables\n",
        "\n",
        "| Tipo de variable     | Subtipo              | Ejemplo                            |\n",
        "|----------------------|----------------------|------------------------------------|\n",
        "| **Cualitativa**      | Nominal              | Sexo (masculino/femenino)         |\n",
        "|                      | Ordinal              | Nivel educativo (bajo/medio/alto) |\n",
        "| **Cuantitativa**     | Discreta             | Número de hijos (0, 1, 2…)         |\n",
        "|                      | Continua             | Edad, ingreso mensual, peso       |\n",
        "\n",
        "---\n",
        "\n",
        "### Enfoque de análisis:\n",
        "\n",
        "| Enfoque           | Descripción |\n",
        "|-------------------|-------------|\n",
        "| **Univariado**    | Análisis de una sola variable. Se explora su distribución, tendencia central, dispersión y forma. |\n",
        "| **Bivariado**     | Análisis conjunto de dos variables para identificar relaciones o asociaciones. |\n",
        "| *(Multivariado)*  | Análisis simultáneo de tres o más variables (fuera del alcance de esta sección). |\n",
        "\n",
        "---\n",
        "\n",
        "## Estadística Descriptiva Univariada\n",
        "\n",
        "1. Para Variables **Cualitativas**:\n",
        "\n",
        "Se resumen usando tablas de frecuencia:\n",
        "\n",
        "- **Frecuencia absoluta**: número de observaciones por categoría.\n",
        "- **Frecuencia relativa**: proporción (o porcentaje) respecto al total.\n",
        "- **Representaciones gráficas**: gráfico de barras, gráfico de torta.\n",
        "\n",
        "2. Para Variables **Cuantitativas**:\n",
        "\n",
        "Se utilizan:\n",
        "\n",
        "- **Medidas de tendencia central**: media, mediana, moda.\n",
        "- **Medidas de dispersión**: rango, varianza, desviación estándar, coeficiente de variación.\n",
        "- **Medidas de forma**: asimetría (skewness), curtosis (kurtosis).\n",
        "- **Visualizaciones**: histogramas, diagramas de caja (boxplots), Q-Q plots.\n",
        "\n",
        "---\n",
        "\n",
        "## Estadística Descriptiva Bivariada\n",
        "\n",
        "1. Dos Variables cualitativas:\n",
        "- Tablas de contingencia\n",
        "- Gráficos de mosaico o de barras agrupadas\n",
        "- Medidas de asociación (por ejemplo, prueba Chi²)\n",
        "\n",
        "2. Una Variable Cualitativa y una Cuantitativa:\n",
        "- Promedios o medianas por grupo\n",
        "- Boxplots por categoría\n",
        "- ANOVA exploratoria\n",
        "\n",
        "3. Dos Variables Cuantitativas:\n",
        "- Nube de puntos (scatterplot)\n",
        "- Coeficiente de correlación (Pearson, Spearman)\n",
        "- Covarianza\n",
        "- Recta de regresión simple\n",
        "\n",
        "---\n",
        "\n"
      ]
    },
    {
      "cell_type": "code",
      "source": [
        "# @title Librerías\n",
        "# Paquetes necesarios\n",
        "\n",
        "# Función para instalar si no está instalado\n",
        "instalar_si_no <- function(paquete) {\n",
        "    if (!requireNamespace(paquete, quietly = TRUE)) {\n",
        "    install.packages(paquete, repos = \"https://cloud.r-project.org\")\n",
        "  }\n",
        "  library(paquete, character.only = TRUE)\n",
        "}\n",
        "\n",
        "# Lista de paquetes a verificar\n",
        "paquetes <- c(\"forcats\",\"VIM\",\"knitr\",\"e1071\",\"tidyr\",\"dplyr\",\"ggplot2\",\"e1071\", \"visdat\",\"reshape2\", \"janitor\")\n",
        "\n",
        "\n",
        "# Instalar y cargar todos\n",
        "invisible(lapply(paquetes, instalar_si_no))\n",
        "\n",
        "# Instalar librería empire\n",
        "remotes::install_github(\"davidbiol/empire\")\n",
        "\n"
      ],
      "metadata": {
        "id": "kOrzjTjIrLjQ"
      },
      "id": "kOrzjTjIrLjQ",
      "execution_count": null,
      "outputs": []
    },
    {
      "cell_type": "markdown",
      "source": [
        "# Datos\n",
        "\n",
        "Utilizaremos nuevamente el conjunto Sleep de la librería VIM trabajado durante el módulo II.\n",
        "\n"
      ],
      "metadata": {
        "id": "tFBkmKVCrPyI"
      },
      "id": "tFBkmKVCrPyI"
    },
    {
      "cell_type": "code",
      "source": [
        "# Cargar dataset 'sleep'\n",
        "data(\"sleep\")\n",
        "sleep"
      ],
      "metadata": {
        "id": "hXqd3SSjrX01"
      },
      "id": "hXqd3SSjrX01",
      "execution_count": null,
      "outputs": []
    },
    {
      "cell_type": "markdown",
      "id": "3f4a0d8a",
      "metadata": {
        "id": "3f4a0d8a"
      },
      "source": [
        "## Análisis univariado:\n",
        "\n",
        "\n",
        "### Medidas de Tendencia Central, posición y coeficiente de variación:\n",
        "\n",
        "Utilizaremos la función summarise de dplyr para encontrar las medidas de tendencia central y de posición de la variable **BodyWgt**, que no tiene datos faltantes:\n",
        "\n"
      ]
    },
    {
      "cell_type": "code",
      "execution_count": null,
      "id": "6dd67204",
      "metadata": {
        "id": "6dd67204"
      },
      "outputs": [],
      "source": [
        "# Solo seleccionamos variables numéricas y eliminamos NAs (aunque de antemanos sabemos que no tiene NAs)\n",
        "sleep_limpio_BodyWgt <- sleep %>%\n",
        "  select_if(is.numeric) %>%\n",
        "  filter(!is.na(BodyWgt))\n"
      ]
    },
    {
      "cell_type": "code",
      "source": [
        "# Calcular resumen estadístico de la variable BodyWgt\n",
        "(tabla_resultados1<-sleep_limpio_BodyWgt %>%\n",
        "  summarise(\n",
        "    # Medidas de tendencia central\n",
        "    media = mean(BodyWgt),          # Promedio\n",
        "    mediana = median(BodyWgt),      # Mediana\n",
        "\n",
        "    # Medidas de dispersión\n",
        "    varianza = var(BodyWgt),        # Varianza\n",
        "    desviacion = sd(BodyWgt),       # Desviación estándar\n",
        "    minimo = min(BodyWgt),          # Valor mínimo\n",
        "    maximo = max(BodyWgt),          # Valor máximo\n",
        "    rango = max(BodyWgt) - min(BodyWgt),  # Rango total\n",
        "\n",
        "    # Medidas de posición\n",
        "    iqr = IQR(BodyWgt),             # Rango intercuartílico\n",
        "    q1 = quantile(BodyWgt, 0.25),   # Primer cuartil (25%)\n",
        "    q3 = quantile(BodyWgt, 0.75),   # Tercer cuartil (75%)\n",
        "    p10 = quantile(BodyWgt, 0.10),  # Percentil 10\n",
        "    p90 = quantile(BodyWgt, 0.90),  # Percentil 90\n",
        "    p95 = quantile(BodyWgt, 0.95),  # Percentil 95\n",
        "\n",
        "    # Cálculo de los límites para detección de outliers según regla de 1.5*IQR\n",
        "    IQR = q3 - q1,                       # Vuelvo a calcular el IQR por claridad\n",
        "    LI = q1 - 1.5 * IQR,                # Límite inferior para outliers\n",
        "    LS = q3 + 1.5 * IQR,                # Límite superior para outliers\n",
        "\n",
        "    # Conteo total y de valores atípicos\n",
        "    total = n(),                        # Número total de observaciones\n",
        "    outliers = sum(BodyWgt < LI | BodyWgt > LS),  # Total de valores atípicos\n",
        "    proporcion_outliers = outliers / total,       # Proporción de outliers\n",
        "\n",
        "    # Forma de la distribución\n",
        "    asimetria = skewness(BodyWgt),     # Asimetría (skewness)\n",
        "    curtosis = kurtosis(BodyWgt),       # Curtosis\n",
        "\n",
        "    # Coeficiente de variación\n",
        "    coef_variacion = (desviacion / media) * 100\n",
        "  ) %>%\n",
        "\n",
        "  # Transforma la tabla: convierte las columnas en filas\n",
        "  pivot_longer(cols = everything(),\n",
        "               names_to = \"estadistico\",   # Nombre del estadístico\n",
        "               values_to = \"valor\") %>%    # Valor correspondiente\n",
        "\n",
        "  # Redondea los valores a 2 decimales y elimina notación científica\n",
        "  mutate(\n",
        "    valor = format(round(valor, 2), scientific = FALSE)\n",
        "  ))\n"
      ],
      "metadata": {
        "id": "sBwO4xGwxJCU"
      },
      "id": "sBwO4xGwxJCU",
      "execution_count": null,
      "outputs": []
    },
    {
      "cell_type": "code",
      "source": [
        "# Calcular moda con count y slice_max\n",
        "sleep_limpio_BodyWgt %>%\n",
        "  count(BodyWgt) %>% #cuenta los valores diferentes con respecto a BodyWgt\n",
        "  arrange(desc(n)) %>%\n",
        "  slice(1)  # Muestra la moda\n"
      ],
      "metadata": {
        "id": "UuOoIWQixT4F"
      },
      "id": "UuOoIWQixT4F",
      "execution_count": null,
      "outputs": []
    },
    {
      "cell_type": "markdown",
      "source": [
        "¿Qué nos dicen estos valores?:\n",
        "\n",
        "| Estadístico                     | Valor      | Interpretación                                                                                                                          |\n",
        "| ------------------------------- | ---------- | --------------------------------------------------------------------------------------------------------------------------------------- |\n",
        "| **media**                       | 198.79     | El peso promedio es muy alto, pero está distorsionado por valores extremos (como elefantes o ballenas).                                 |\n",
        "| **mediana**                     | 3.34       | El valor central realista: la mitad de los animales pesa menos de 3.34 kg. Mucho menor que la media → **asimetría positiva**.           |\n",
        "| **varianza**                    | 808485.13  | Muestra una altísima dispersión de los pesos. Valores grandes como 6654 lo elevan fuertemente.                                          |\n",
        "| **desviación típica**           | 899.16     | Indica gran dispersión respecto a la media. Al igual que la varianza, está **muy afectada por los valores extremos**.                   |\n",
        "| **mínimo**                      | 0.00       | Existen animales extremadamente ligeros (posiblemente error de redondeo o especie muy pequeña).                                         |\n",
        "| **máximo**                      | 6654.00    | Hay especies con más de 6 toneladas de peso. Confirma la existencia de outliers muy altos.                                              |\n",
        "| **rango**                       | 6654.00    | Es la diferencia entre el máximo y el mínimo. Muy alto → **alta variabilidad global**.                                                  |\n",
        "| **IQR (rango intercuartílico)** | 47.60      | El 50% central de los datos está entre 0.6 y 48.2 kg. Mucho más representativo que el rango total.                                      |\n",
        "| **Q1**                          | 0.60       | El 25% de los animales pesa menos de 0.6 kg.                                                                                            |\n",
        "| **Q3**                          | 48.20      | El 75% pesa menos de 48.2 kg.                                                                                                           |\n",
        "| **P10**                         | 0.08       | El 10% de los animales pesa menos de 80 gramos.                                                                                         |\n",
        "| **P90**                         | 205.50     | El 90% pesa menos de 205.5 kg.                                                                                                          |\n",
        "| **P95**                         | 518.20     | El 95% pesa menos de 518.2 kg.                                                                                                          |\n",
        "| **LI (límite inferior)**        | -70.80     | No se usa aquí porque ningún peso puede ser negativo.                                                                                   |\n",
        "| **LS (límite superior)**        | 119.61     | Todo valor mayor que este es considerado outlier según el criterio de 1.5 \\* IQR.                                                       |\n",
        "| **total**                       | 62.00      | Se analizaron 62 observaciones con datos completos para `BodyWgt`.                                                                      |\n",
        "| **outliers**                    | 10.00      | Hay 10 valores considerados **atípicos**.                                                                                               |\n",
        "| **proporción de outliers**      | 0.16 (16%) | Es **una proporción elevada**: casi 1 de cada 6 observaciones es un outlier.                                                            |\n",
        "| **asimetría**                   | 6.25       | Muy por encima de 0 → **fuerte asimetría positiva**. Hay una larga cola hacia la derecha.                                               |\n",
        "| **curtosis**                    | 40.60      | Muy superior a 3 → distribución **leptocúrtica**: concentrada alrededor de la mediana, con colas muy pesadas (muchos valores extremos). |\n",
        "| **Coeficiente de variación**| 452.32%|La desviación típica es más de 4 veces la media.|\n",
        ""
      ],
      "metadata": {
        "id": "K939_8DZ0McV"
      },
      "id": "K939_8DZ0McV"
    },
    {
      "cell_type": "markdown",
      "source": [
        "Validación gráfica:"
      ],
      "metadata": {
        "id": "m9bsLK9N43XE"
      },
      "id": "m9bsLK9N43XE"
    },
    {
      "cell_type": "code",
      "source": [
        "#Diagrama de barras de la variable BodyWht\n",
        "ggplot(sleep_limpio_BodyWgt, aes(x = BodyWgt)) +\n",
        "  geom_histogram(bins = 30, fill = \"skyblue\", color = \"black\") + #histograma con 30 bins\n",
        "  labs(title = \"Distribución del peso corporal del mamífero\", x = \"Peso (kg)\", y = \"Frecuencia\")\n"
      ],
      "metadata": {
        "id": "v4nRHu1CxhOe"
      },
      "id": "v4nRHu1CxhOe",
      "execution_count": null,
      "outputs": []
    },
    {
      "cell_type": "code",
      "source": [
        "#Boxplot de la bariable BodyWgt\n",
        "ggplot(sleep_limpio, aes(y = BodyWgt)) +\n",
        "  geom_boxplot(fill = \"lightgreen\") +\n",
        "  labs(title = \"Boxplot del peso corporal\", y = \"Peso (kg)\")"
      ],
      "metadata": {
        "id": "nJqSjoP8x0RK"
      },
      "id": "nJqSjoP8x0RK",
      "execution_count": null,
      "outputs": []
    },
    {
      "cell_type": "code",
      "source": [
        "#Boxplot sin valores extremos y modificando los límites del eje\n",
        "ggplot(sleep_limpio, aes(y = BodyWgt)) +\n",
        "  geom_boxplot(fill = \"lightgreen\", outlier.shape = NA) +\n",
        "  labs(title = \"Boxplot del peso corporal\", y = \"Peso (kg)\")+\n",
        "  ylim(0,7.5)"
      ],
      "metadata": {
        "id": "XeeRghAP-bh3"
      },
      "id": "XeeRghAP-bh3",
      "execution_count": null,
      "outputs": []
    },
    {
      "cell_type": "markdown",
      "source": [
        "La variable **BodyWgt** tiene una distribución altamente asimétrica y con colas pesadas.\n",
        "\n",
        "Las medidas robustas (mediana, IQR) son mucho más representativas que la media o la desviación típica.\n",
        "\n",
        "Un 16% de los datos son outliers, todos por encima del límite superior.\n",
        "\n",
        "Se recomienda para el análisis:\n",
        "- Trabajar con logaritmos o escalas logarítmicas.\n",
        "- Reportar mediana en lugar de media."
      ],
      "metadata": {
        "id": "tkiCQUdg-91_"
      },
      "id": "tkiCQUdg-91_"
    },
    {
      "cell_type": "code",
      "source": [
        "# Filtrar valores mayores que 0 antes de aplicar el log\n",
        "# Crear una nueva columna con logaritmo base 10\n",
        "sleep_limpio_BodyWgt <- sleep_limpio %>%\n",
        "  filter(BodyWgt > 0) %>%\n",
        "  mutate(log_BodyWgt = log10(BodyWgt))\n"
      ],
      "metadata": {
        "id": "ZhUlA4FU7bfi"
      },
      "id": "ZhUlA4FU7bfi",
      "execution_count": null,
      "outputs": []
    },
    {
      "cell_type": "code",
      "source": [
        "# Calcular resumen estadístico de la variable BodyWgt\n",
        "(tabla_resultados2 <- sleep_limpio_BodyWgt %>%\n",
        "  summarise(\n",
        "    # Medidas de tendencia central\n",
        "    media = mean(log_BodyWgt),          # Promedio\n",
        "    mediana = median(log_BodyWgt),      # Mediana\n",
        "\n",
        "    # Medidas de dispersión\n",
        "    varianza = var(log_BodyWgt),        # Varianza\n",
        "    desviacion = sd(log_BodyWgt),       # Desviación estándar\n",
        "    minimo = min(log_BodyWgt),          # Valor mínimo\n",
        "    maximo = max(log_BodyWgt),          # Valor máximo\n",
        "    rango = max(log_BodyWgt) - min(log_BodyWgt),  # Rango total\n",
        "\n",
        "    # Medidas de posición\n",
        "    iqr = IQR(log_BodyWgt),             # Rango intercuartílico\n",
        "    q1 = quantile(log_BodyWgt, 0.25),   # Primer cuartil (25%)\n",
        "    q3 = quantile(log_BodyWgt, 0.75),   # Tercer cuartil (75%)\n",
        "    p10 = quantile(log_BodyWgt, 0.10),  # Percentil 10\n",
        "    p90 = quantile(log_BodyWgt, 0.90),  # Percentil 90\n",
        "    p95 = quantile(log_BodyWgt, 0.95),  # Percentil 95\n",
        "\n",
        "    # Cálculo de los límites para detección de outliers según regla de 1.5*IQR\n",
        "    IQR = q3 - q1,                       # Vuelvo a calcular el IQR por claridad\n",
        "    LI = q1 - 1.5 * IQR,                # Límite inferior para outliers\n",
        "    LS = q3 + 1.5 * IQR,                # Límite superior para outliers\n",
        "\n",
        "    # Conteo total y de valores atípicos\n",
        "    total = n(),                        # Número total de observaciones\n",
        "    outliers = sum(log_BodyWgt < LI | log_BodyWgt > LS),  # Total de valores atípicos\n",
        "    proporcion_outliers = outliers / total,       # Proporción de outliers\n",
        "\n",
        "    # Forma de la distribución\n",
        "    asimetria = skewness(log_BodyWgt),     # Asimetría (skewness)\n",
        "    curtosis = kurtosis(log_BodyWgt),       # Curtosis\n",
        "\n",
        "    # Coeficiente de variación\n",
        "    coef_variacion = (desviacion / media) * 100\n",
        "  ) %>%\n",
        "\n",
        "  # Transforma la tabla: convierte las columnas en filas\n",
        "  pivot_longer(cols = everything(),\n",
        "               names_to = \"estadistico\",   # Nombre del estadístico\n",
        "               values_to = \"valor\") %>%    # Valor correspondiente\n",
        "\n",
        "  # Redondea los valores a 2 decimales y elimina notación científica\n",
        "  mutate(\n",
        "    valor = format(round(valor, 2), scientific = FALSE)\n",
        "  ))\n"
      ],
      "metadata": {
        "id": "92QFiHpH77kJ"
      },
      "id": "92QFiHpH77kJ",
      "execution_count": null,
      "outputs": []
    },
    {
      "cell_type": "markdown",
      "source": [
        "### Tablas para informes\n",
        "\n",
        "Usamos de la librería knitr de R, la función kable que permite crear tablas en documentos R Markdown."
      ],
      "metadata": {
        "id": "mK9PMhf09_AH"
      },
      "id": "mK9PMhf09_AH"
    },
    {
      "cell_type": "code",
      "source": [
        "# Mostrar tabla\n",
        "kable(tabla_resultados1, caption = \"\\nResumen de Estadísticas Descriptivas,\\nPosición y\\nForma de la distribución:\\nVariable original\")\n",
        "kable(tabla_resultados2, caption = \"\\nResumen de Estadísticas Descriptivas,\\nPosición y\\nForma de la distribución:\\nVariable transformada\")"
      ],
      "metadata": {
        "id": "4DNmC8IM-CsA"
      },
      "id": "4DNmC8IM-CsA",
      "execution_count": null,
      "outputs": []
    },
    {
      "cell_type": "code",
      "source": [
        "#histograma\n",
        "ggplot(sleep_limpio_BodyWgt, aes(x = log_BodyWgt)) +\n",
        "  geom_histogram(bins = 30, fill = \"lightblue\") +\n",
        "  labs(title = \"Distribución logarítmica del peso\", x = \"log10(BodyWgt)\")\n",
        "#boxplot\n",
        "ggplot(sleep_limpio_BodyWgt, aes(y = log_BodyWgt)) +\n",
        "  geom_boxplot(fill = \"lightgreen\") +\n",
        "  labs(title = \"Boxplot logarítmico del peso\", y = \"log10(BodyWgt)\")\n"
      ],
      "metadata": {
        "id": "0nBymPch7lMp"
      },
      "id": "0nBymPch7lMp",
      "execution_count": null,
      "outputs": []
    },
    {
      "cell_type": "markdown",
      "source": [
        "¿La variable **BodyWgt** sigue una distribución normal?"
      ],
      "metadata": {
        "id": "DWhfMKHmAKza"
      },
      "id": "DWhfMKHmAKza"
    },
    {
      "cell_type": "code",
      "source": [
        "# Crear gráfico: Histograma de la variable BodyWgt con curva normal superpuesta\n",
        "ggplot(sleep_limpio_BodyWgt, aes(x = BodyWgt)) +  # Se define la base del gráfico con los datos y la variable BodyWgt en el eje x\n",
        "  geom_histogram(\n",
        "    aes(y = ..density..),     # Se cambia el eje y para que el histograma represente densidades y no frecuencias absolutas\n",
        "    bins = 30,                # Número de barras del histograma\n",
        "    fill = \"lightblue\",       # Color de relleno de las barras\n",
        "    color = \"black\"           # Borde negro para las barras\n",
        "  ) +\n",
        "  stat_function(\n",
        "    fun = dnorm,              # Se superpone una curva de densidad de distribución normal\n",
        "    args = list(              # Parámetros de la curva normal\n",
        "      mean = mean(sleep_limpio_BodyWgt$BodyWgt),  # Media muestral de BodyWgt\n",
        "      sd = sd(sleep_limpio_BodyWgt$BodyWgt)       # Desviación estándar muestral de BodyWgt\n",
        "    ),\n",
        "    color = \"red\"             # Color rojo para la curva normal\n",
        "  ) +\n",
        "  labs(\n",
        "    title = \"¿Es normal la distribución de BodyWgt?\"  # Título del gráfico\n",
        "  )\n",
        "\n"
      ],
      "metadata": {
        "id": "MDDb1jWW9VKK"
      },
      "id": "MDDb1jWW9VKK",
      "execution_count": null,
      "outputs": []
    },
    {
      "cell_type": "code",
      "source": [
        "#Diagramas q-q plot:\n",
        "\n",
        "qqnorm(sleep_limpio_BodyWgt$BodyWgt)\n",
        "qqline(sleep_limpio_BodyWgt$BodyWgt, col = \"red\")\n"
      ],
      "metadata": {
        "id": "GxNEly8Z9R46"
      },
      "id": "GxNEly8Z9R46",
      "execution_count": null,
      "outputs": []
    },
    {
      "cell_type": "code",
      "source": [
        "#Test de normalidad\n",
        "shapiro.test(sleep_limpio_BodyWgt$BodyWgt)"
      ],
      "metadata": {
        "id": "Bd1zPO4H9PQU"
      },
      "id": "Bd1zPO4H9PQU",
      "execution_count": null,
      "outputs": []
    },
    {
      "cell_type": "markdown",
      "source": [
        "¿y la variable **log_BodyWgt**?"
      ],
      "metadata": {
        "id": "j3dZfxR4AeHG"
      },
      "id": "j3dZfxR4AeHG"
    },
    {
      "cell_type": "code",
      "source": [
        "# Crear gráfico: Histograma del logaritmo de BodyWgt con una curva normal superpuesta\n",
        "ggplot(sleep_limpio_BodyWgt, aes(x = log_BodyWgt)) +  # Se establece la base del gráfico con la variable transformada log_BodyWgt en el eje x\n",
        "  geom_histogram(\n",
        "    aes(y = ..density..),     # Se ajusta el eje y para que muestre densidades (frecuencia relativa), necesario para comparar con la curva normal\n",
        "    bins = 30,                # Número de intervalos del histograma\n",
        "    fill = \"lightblue\",       # Color de las barras del histograma\n",
        "    color = \"black\"           # Borde negro para distinguir las barras\n",
        "  ) +\n",
        "  stat_function(\n",
        "    fun = dnorm,              # Función que dibuja una curva de densidad normal teórica\n",
        "    args = list(\n",
        "      mean = mean(sleep_limpio_BodyWgt$log_BodyWgt),  # Se especifica la media de los datos transformados\n",
        "      sd = sd(sleep_limpio_BodyWgt$log_BodyWgt)       # Se especifica la desviación estándar de los datos transformados\n",
        "    ),\n",
        "    color = \"red\"             # Color rojo para la curva normal\n",
        "  ) +\n",
        "  labs(\n",
        "    title = \"¿Es normal la distribución de log_BodyWgt?\"  # Título del gráfico, que plantea la hipótesis de normalidad\n",
        "  )\n"
      ],
      "metadata": {
        "id": "IBtJDnwvAd00"
      },
      "id": "IBtJDnwvAd00",
      "execution_count": null,
      "outputs": []
    },
    {
      "cell_type": "code",
      "source": [
        "#qqplot varaible log\n",
        "qqnorm(sleep_limpio_BodyWgt$log_BodyWgt)\n",
        "qqline(sleep_limpio_BodyWgt$log_BodyWgt, col = \"red\")"
      ],
      "metadata": {
        "id": "822wDNcRAvJw"
      },
      "id": "822wDNcRAvJw",
      "execution_count": null,
      "outputs": []
    },
    {
      "cell_type": "code",
      "source": [
        "#test de normalidad\n",
        "shapiro.test(sleep_limpio_BodyWgt$log_BodyWgt)"
      ],
      "metadata": {
        "id": "2jsnEKPzA0GE"
      },
      "id": "2jsnEKPzA0GE",
      "execution_count": null,
      "outputs": []
    },
    {
      "cell_type": "markdown",
      "source": [
        "Podemos así ver la importancia del análisis inicial y de la conveniencia de usar transformaciones de las variables."
      ],
      "metadata": {
        "id": "BvMNDRvPBKCM"
      },
      "id": "BvMNDRvPBKCM"
    },
    {
      "cell_type": "markdown",
      "source": [
        "## Análisis de Correlación y Covarianza\n",
        "\n",
        "Explorar relaciones entre variables cuantitativas, identificar patrones lineales y cuantificar la fuerza y dirección de esas relaciones mediante medidas como correlación y covarianza.\n",
        "\n",
        "- **Correlación de Pearson (cor())**\n",
        "\n",
        "Variante normalizada de la covarianza.\n",
        "\n",
        "Valores que oscilan entre -1 y 1:\n",
        "\n",
        "* +1: correlación perfecta positiva\n",
        "* 0: sin relación lineal\n",
        "* -1: correlación perfecta negativa\n",
        "\n",
        "Supone linealidad y normalidad de las variables.\n",
        "\n",
        "- **Correlación de Spearman**\n",
        "\n",
        "Se basa en rangos → no asume normalidad ni linealidad.\n",
        "Útil para datos ordinales o relaciones no lineales monótonas.\n",
        "\n",
        "- **Covarianza (cov())**\n",
        "\n",
        "Mide la tendencia conjunta de dos variables a aumentar o disminuir.\n",
        "\n",
        "* Valor positivo: las variables tienden a crecer juntas.\n",
        "* Valor negativo: una aumenta y la otra disminuye.\n",
        "\n",
        "Muy sensible a la escala de las variables\n",
        "\n"
      ],
      "metadata": {
        "id": "UsUYNtHdBTtz"
      },
      "id": "UsUYNtHdBTtz"
    },
    {
      "cell_type": "markdown",
      "source": [
        "\n",
        "### Correlación:\n",
        "\n",
        "Comenzamos con el análisis de correlación"
      ],
      "metadata": {
        "id": "Nf3IvYrdP96P"
      },
      "id": "Nf3IvYrdP96P"
    },
    {
      "cell_type": "code",
      "source": [
        "# Comenzamos seleccionando solo variables numéricas completas\n",
        "# recordemos que tenemos que convertir las trews variables pred, exp y danger en factores:\n",
        "\n",
        "# Conversión de variables numéricas a factores (categorías)\n",
        "sleep_limpio <- sleep %>%\n",
        "  mutate(\n",
        "    Pred = as.factor(Pred),\n",
        "    Exp = as.factor(Exp),\n",
        "    Danger = as.factor(Danger)\n",
        "  )\n",
        "\n",
        "(sleep_numerico <- sleep_limpio %>%\n",
        "  select_if(is.numeric))\n",
        "\n",
        "#Para no perder los datos, vamos a imputar con ridge, como hicimos en el módulo II:\n",
        "\n",
        "# Aplicar imputación por regresión lineal penalizada (ridge)\n",
        "(new_sleep_ridge <- empire::estimate_ridge(data = sleep_numerico, diff = 10, ridge_alpha = 0)$new_dat)\n",
        "\n"
      ],
      "metadata": {
        "id": "kEgjeiaoDeqS"
      },
      "id": "kEgjeiaoDeqS",
      "execution_count": null,
      "outputs": []
    },
    {
      "cell_type": "code",
      "source": [
        "# Correlación de Pearson\n",
        "visdat::vis_cor(new_sleep_ridge, na_action = \"complete.obs\")"
      ],
      "metadata": {
        "id": "9jCwjxbhFjRC"
      },
      "id": "9jCwjxbhFjRC",
      "execution_count": null,
      "outputs": []
    },
    {
      "cell_type": "code",
      "source": [
        "# Correlación de Spearman\n",
        "vis_cor(new_sleep_ridge, cor_method = \"spearman\", na_action = \"complete.obs\")"
      ],
      "metadata": {
        "id": "xxOZIf-eG_Af"
      },
      "id": "xxOZIf-eG_Af",
      "execution_count": null,
      "outputs": []
    },
    {
      "cell_type": "markdown",
      "source": [
        "| Característica      | **Correlación de Pearson**            | **Correlación de Spearman**                                  |\n",
        "| ------------------- | ------------------------------------- | ------------------------------------------------------------ |\n",
        "| Tipo de relación    | Lineal                                | Monótona (creciente o decreciente, no necesariamente lineal) |\n",
        "| Datos esperados     | Cuantitativos, normales, sin outliers | Cuantitativos u ordinales, **no requiere normalidad**        |\n",
        "| Sensible a outliers |  Sí, mucho                           |  No, al trabajar con rangos                                 |\n",
        "| Escala utilizada    | Escala original                       | Rangos (datos convertidos a posiciones)                      |\n",
        "\n",
        "\n",
        "**Comparación visual entre ambas matrices**\n",
        "\n",
        "* Matriz de Pearson:\n",
        "\n",
        "Se observan correlaciones muy altas (casi 1) entre algunas variables como BodyWgt y BrainWgt.\n",
        "\n",
        "También aparecen correlaciones negativas marcadas entre variables como Gest y Sleep.\n",
        "\n",
        "Sin embargo, la intensidad puede estar amplificada por outliers o por relaciones no perfectamente lineales.\n",
        "\n",
        "* Matriz de Spearman:\n",
        "\n",
        "Las correlaciones siguen una tendencia similar, pero son más moderadas (es decir, no tan extremas).\n",
        "\n",
        "Las relaciones como BrainWgt ~ BodyWgt siguen siendo fuertes, pero no perfectas.\n",
        "\n",
        "Algunas correlaciones negativas están más suavizadas, lo cual puede reflejar que las relaciones no son lineales, pero sí monótonas.\n",
        "\n",
        "                                                                                             \n",
        "- **Lineal**:\n",
        "\n",
        "Cuando los datos siguen aproximadamente una **línea recta**. Es decir, por cada incremento en X, Y cambia siempre en proporción constante.                                          \n",
        "\n",
        "- **Monótona**:\n",
        "\n",
        "Cuando una variable **siempre aumenta o disminuye con la otra**, pero no necesariamente en línea recta. Puede crecer más rápido, más lento.\n"
      ],
      "metadata": {
        "id": "PDBOj4SKJ438"
      },
      "id": "PDBOj4SKJ438"
    },
    {
      "cell_type": "markdown",
      "source": [
        "**Podemos responder entonces:**\n",
        "\n",
        "- ¿Hay colinealidad?\n",
        "- ¿Qué variables parecen tener una relación no lineal?\n",
        "- ¿Conviene usar Spearman si hay outliers?"
      ],
      "metadata": {
        "id": "CGeIK17bMgoI"
      },
      "id": "CGeIK17bMgoI"
    },
    {
      "cell_type": "markdown",
      "source": [
        "----------------\n",
        "- ¿Hay colinealidad?\n",
        "\n",
        "Sí, se observa una posible colinealidad entre algunas variables, especialmente entre BodyWgt y BrainWgt, ya que su correlación de Pearson es muy alta (cercana a 1).\n",
        "Esto indica que una variable puede predecir casi perfectamente a la otra en escala lineal, lo cual podría ser problemático en modelos de regresión múltiple, ya que colinealidad alta distorsiona los coeficientes y su interpretación.\n",
        "\n",
        "Es recomendable en esos casos revisar el VIF (Variance Inflation Factor) si se va a usar en un modelo, o considerar eliminar o transformar una de las dos variables. **Se sale de los límites de este módulo**.\n",
        "\n",
        "- ¿Qué variables parecen tener una relación no lineal?\n",
        "\n",
        "Visualizando las relaciones con gráficos de dispersión, y comparando Pearson vs Spearman, se puede inferir que algunas relaciones —como BodyWgt con Sleep, o Gest con Span— pueden no seguir una relación estrictamente lineal.\n",
        "Por ejemplo, Sleep parece reducirse con BodyWgt, pero no de manera constante, sino con mayor cambio en los pesos bajos.\n",
        "Esto sugiere una relación monótona no lineal (por ejemplo, logarítmica o exponencial inversa), en la cual Pearson subestima o distorsiona la fuerza de la asociación.\n",
        "\n",
        "- ¿Conviene usar Spearman si hay outliers?\n",
        "\n",
        "Sí. La correlación de Spearman es más robusta frente a valores atípicos, ya que se basa en rangos y no en las diferencias absolutas entre los valores.\n",
        "En el dataset sleep, se ha observado que la variable BodyWgt tiene alta asimetría y valores extremos, por lo que usar Spearman es más apropiado.\n",
        "Además, si hay sospecha de relaciones no lineales pero monótonas, Spearman proporciona una estimación más fiel de la fuerza de asociación.\n",
        "\n",
        "En resumen, Spearman es preferible cuando hay outliers o relaciones no lineales (lo dijimos arriba)."
      ],
      "metadata": {
        "id": "C_3VbCIkORHS"
      },
      "id": "C_3VbCIkORHS"
    },
    {
      "cell_type": "markdown",
      "source": [
        "### Covarianza:"
      ],
      "metadata": {
        "id": "VdIyymrdPOuT"
      },
      "id": "VdIyymrdPOuT"
    },
    {
      "cell_type": "code",
      "source": [
        "# Paso 1: Convertimos la matriz de covarianza en data frame y la reestructuramos en formato largo\n",
        "\n",
        "melted_cov <- as.data.frame(matriz_cov) %>%\n",
        "  mutate(var1 = rownames(.)) %>%  # Creamos una columna con los nombres de fila\n",
        "  pivot_longer(-var1,             # Convertimos las columnas restantes en pares clave-valor\n",
        "               names_to = \"var2\",  # Nombre de la variable que representa las columnas originales\n",
        "               values_to = \"value\")  # Valor de la covarianza entre var1 y var2\n"
      ],
      "metadata": {
        "id": "h31Aokv5Ngwv"
      },
      "id": "h31Aokv5Ngwv",
      "execution_count": null,
      "outputs": []
    },
    {
      "cell_type": "code",
      "source": [
        "# Paso 2: Visualizamos la matriz de covarianza como un mapa de calor con valores incluidos\n",
        "\n",
        "ggplot(melted_cov, aes(x = var1, y = var2, fill = value)) +\n",
        "  geom_tile(color = \"white\") +  # Crea las celdas del mapa de calor con borde blanco\n",
        "  geom_text(aes(label = round(value, 2)), size = 3.5, color = \"black\") +  # Agrega los valores de covarianza redondeados sobre cada celda\n",
        "  scale_fill_gradient2(low = \"blue\", mid = \"white\", high = \"red\", midpoint = 0) +  # Paleta de color para distinguir signo e intensidad\n",
        "  labs(title = \"Matriz de Covarianza\",    # Título del gráfico\n",
        "       x = \"\", y = \"\", fill = \"Covarianza\") +  # Etiquetas\n",
        "  theme_minimal() +  # Tema limpio\n",
        "  theme(\n",
        "        legend.title = element_text(size = 12), #Modifica el tamaño del texto de la escala de la\n",
        "        # covarianza, es decir, de la leyenda.\n",
        "        axis.text.x = element_text(angle = 45, hjust = 1, size = 12),# Gira etiquetas del eje X para mejorar legibilidad\n",
        "        axis.text.y = element_text(hjust = 1, size = 12) # modifica el tamaño del texto del eje y\n",
        ")\n"
      ],
      "metadata": {
        "id": "wtew8Y1kIdpX"
      },
      "id": "wtew8Y1kIdpX",
      "execution_count": null,
      "outputs": []
    },
    {
      "cell_type": "markdown",
      "source": [
        "¿Qué vemos?:\n",
        "\n",
        "El valor numérico de la covarianza entre dos variables (p. ej. entre BodyWgt y BrainWgt) está asociado con un color rojo más intenso, indicando mayor covarianza positiva.\n",
        "\n",
        "Los valores más cercanos a 0 (blanco o rosa muy claro) indican poca o nula relación lineal conjunta.\n",
        "\n",
        "\n",
        "1. Covarianzas altas y positivas:\n",
        "\n",
        "* BodyWgt con BrainWgt\n",
        "\n",
        "* BodyWgt con Gest\n",
        "\n",
        "* BrainWgt con Gest\n",
        "\n",
        "\n",
        "Estas variables tienden a variar conjuntamente: cuando una aumenta, las otras también. Esto tiene sentido biológico, ya que animales más grandes (mayor BodyWgt) tienden a tener cerebros más grandes (BrainWgt) y gestaciones más largas (Gest).\n",
        "\n",
        "2. Covarianzas negativas\n",
        "\n",
        "* BodyWgt con Sleep\n",
        "* BodyWgt con NonD\n",
        "* Gest con Sleep\n",
        "\n",
        "\n",
        "Estas relaciones indican que cuando una variable aumenta, la otra tiende a disminuir.\n",
        "\n",
        "Por ejemplo:\n",
        "\n",
        "Los animales más grandes tienden a dormir menos.\n",
        "Los animales con mayor gestación también duermen menos (posiblemente especies más longevas, activas o expuestas).\n",
        "\n",
        "3. Covarianzas cercanas a cero\n",
        "\n",
        "* Dream con casi todas las demás variables.\n",
        "* NonD con Dream, Gest, etc.\n",
        "\n",
        "\n",
        "No hay una relación clara ni fuerte entre estas variables en términos de variación conjunta.\n",
        "\n",
        "Es **importante* tener en cuenta que la covarianza depende de las unidades de las variables, por eso hay números muy grandes (como BrainWgt en gramos, por ejemplo).\n",
        "\n",
        "Para comparar más fácilmente entre pares de variables, es mejor usar la correlación, que está normalizada entre -1 y 1.\n",
        "\n",
        "Esta matriz sí es muy útil para detectar agrupaciones de variables altamente relacionadas, como BodyWgt, BrainWgt, Gest."
      ],
      "metadata": {
        "id": "wt9NRS2mSuRP"
      },
      "id": "wt9NRS2mSuRP"
    },
    {
      "cell_type": "markdown",
      "source": [
        "## Tablas de frecuencias y análisis de variables categóricas\n",
        "\n",
        "\n",
        "En esta parte del módulo, nos enfocaremos en reconocer y analizar variables categóricas nominales y ordinales.\n",
        "\n",
        "Para ello, elaboraremos tablas de frecuencias (absolutas y relativas).\n",
        "\n",
        "Vamos a representar visualmente la distribución de variables categóricas.\n",
        "\n",
        "Y exploraremos asociaciones entre variables categóricas (introducción a tablas de contingencia)."
      ],
      "metadata": {
        "id": "G-PTjRpeTkKe"
      },
      "id": "G-PTjRpeTkKe"
    },
    {
      "cell_type": "code",
      "source": [
        "sleep_limpio"
      ],
      "metadata": {
        "collapsed": true,
        "id": "vx2nFwgDVUd7"
      },
      "id": "vx2nFwgDVUd7",
      "execution_count": null,
      "outputs": []
    },
    {
      "cell_type": "code",
      "source": [
        "# Cargar el paquete janitor, que incluye funciones útiles para el manejo de tablas categóricas\n",
        "\n",
        "# Tabla de frecuencias absolutas y relativas para la variable 'Danger'\n",
        "sleep_limpio %>%                 # Objeto base: base de datos limpia\n",
        "  tabyl(Danger) %>%              # `tabyl()` crea una tabla de frecuencias absolutas de la variable (función del paquete janitor)\n",
        "  arrange(desc(n)) %>%         # Ordenar las filas por frecuencia absoluta (n) de mayor a menor\n",
        "  adorn_pct_formatting()        # `adorn_pct_formatting()` convierte las proporciones en formato porcentaje y redondea (también de janitor)\n",
        "\n",
        "# Tabla de frecuencias para la variable 'Pred'\n",
        "sleep_limpio %>%\n",
        "  tabyl(Pred) %>%                # Cuenta cuántas veces aparece cada categoría en 'Pred'\n",
        "  arrange(desc(n)) %>%         # Ordenar las filas por frecuencia absoluta (n) de mayor a menor\n",
        "  adorn_pct_formatting()        # Muestra también el porcentaje correspondiente a cada categoría\n",
        "\n",
        "# Tabla de frecuencias para la variable 'Exp'\n",
        "sleep_limpio %>%\n",
        "  tabyl(Exp) %>%                 # Lo mismo, pero para la variable 'Exp'\n",
        "  arrange(desc(n)) %>%         # Ordenar las filas por frecuencia absoluta (n) de mayor a menor\n",
        "  adorn_pct_formatting()        # Devuelve una tabla con: categoría, frecuencia absoluta, porcentaje relativo\n",
        "\n"
      ],
      "metadata": {
        "id": "ETdD0ueBUpTa"
      },
      "id": "ETdD0ueBUpTa",
      "execution_count": null,
      "outputs": []
    },
    {
      "cell_type": "code",
      "source": [
        "# Gráfico de barras de la variable Danger\n",
        "ggplot(sleep_limpio, aes(x = Danger)) +\n",
        "  geom_bar(fill = \"lightblue\", color=\"pink\") +\n",
        "  labs(title = \"Frecuencia de la variable Danger\")\n"
      ],
      "metadata": {
        "id": "SKbtmegZVe8O"
      },
      "id": "SKbtmegZVe8O",
      "execution_count": null,
      "outputs": []
    },
    {
      "cell_type": "code",
      "source": [
        "# Gráfico de barras de la variable Danger ordenado descendentemente\n",
        "ggplot(sleep_limpio, aes(x = fct_infreq(Danger))) +\n",
        "  geom_bar(fill = \"coral\") +\n",
        "  labs(title = \"Variable Danger ordenada por frecuencia\")\n"
      ],
      "metadata": {
        "id": "CoMw0ATwVkhh"
      },
      "id": "CoMw0ATwVkhh",
      "execution_count": null,
      "outputs": []
    },
    {
      "cell_type": "code",
      "source": [
        "# Para graficar un pie-chart\n",
        "# ggplo2 no ofrece directamente un pie-chart, por lo que se deben hacer algunos cálculos\n",
        "# Paso 1: Calcular la tabla de frecuencias\n",
        "tabla_pie <- sleep_limpio %>%\n",
        "  count(Danger) %>%\n",
        "  mutate(\n",
        "    porcentaje = n / sum(n),\n",
        "    etiqueta = paste0(round(porcentaje * 100, 1), \"%\")\n",
        "  )\n",
        "\n",
        "# Paso 2: Crear el gráfico de pastel\n",
        "ggplot(tabla_pie, aes(x = \"\", y = porcentaje, fill = Danger)) +\n",
        "  geom_bar(stat = \"identity\", width = 1) +  # Dibujar barra circular con valores reales\n",
        "  coord_polar(\"y\", start = 0) +             # Transformar las barras en gráfico circular (pie chart)\n",
        "\n",
        "  # Agregar etiquetas de porcentaje centradas en cada porción\n",
        "  geom_text(aes(label = etiqueta),\n",
        "            position = position_stack(vjust = 0.5),  # Centrar la etiqueta en la porción\n",
        "            size = 5) +                              # Tamaño del texto de la etiqueta\n",
        "\n",
        "  # Agregar títulos y leyenda\n",
        "  labs(title = \"Distribución de Danger\", x = NULL, y = NULL, fill = \"Danger\") +\n",
        "\n",
        "  theme_void() +  # Eliminar ejes y fondos para estilo limpio (propio de gráficos circulares)\n",
        "\n",
        "  # Modificar el tamaño del título y leyenda\n",
        "  theme(\n",
        "    plot.title = element_text(size = 16, face = \"bold\"),  # Título grande y en negrita\n",
        "    legend.title = element_text(size = 12),               # Título de la leyenda\n",
        "    legend.text = element_text(size = 11)                 # Texto de las categorías en la leyenda\n",
        "  )\n"
      ],
      "metadata": {
        "id": "BeRCaAUTb-YA"
      },
      "id": "BeRCaAUTb-YA",
      "execution_count": null,
      "outputs": []
    },
    {
      "cell_type": "code",
      "source": [
        "#Diagarama de barras de la bariable Exp ordenado por frecuencia descendente\n",
        "ggplot(sleep_limpio, aes(x = fct_infreq(Exp))) +\n",
        "  geom_bar(fill = \"purple\") +\n",
        "  labs(title = \"Variable Exp ordenada por frecuencia\")"
      ],
      "metadata": {
        "id": "vpNqEZdiWAHI"
      },
      "id": "vpNqEZdiWAHI",
      "execution_count": null,
      "outputs": []
    },
    {
      "cell_type": "code",
      "source": [
        "#Diagrama de frecuencias variable Pred\n",
        "ggplot(sleep_limpio, aes(x = fct_infreq(Pred))) +\n",
        "  geom_bar(fill = \"yellow\") +\n",
        "  labs(title = \"Variable Pred ordenada por frecuencia\")"
      ],
      "metadata": {
        "id": "nYSs5OW4WIYX"
      },
      "id": "nYSs5OW4WIYX",
      "execution_count": null,
      "outputs": []
    },
    {
      "cell_type": "code",
      "source": [
        "#Para poder agregar la etiqueta de los porcentajes:\n",
        "\n",
        "# Paso 1: Calcular las frecuencias relativas\n",
        "tabla_pred <- sleep_limpio %>%\n",
        "  count(Pred) %>%\n",
        "  mutate(\n",
        "    porcentaje = n / sum(n),\n",
        "    etiqueta = paste0(round(porcentaje * 100, 1), \"%\")\n",
        "  )\n",
        "\n",
        "\n",
        "\n",
        "# Paso 2: Gráfico con etiquetas\n",
        "ggplot(tabla_pred, aes(x = Pred, y = porcentaje)) +\n",
        "  geom_col(fill = \"yellow\") +\n",
        "  geom_text(aes(label = etiqueta), vjust = -0.5) +\n",
        "  scale_y_continuous(labels = scales::percent_format(accuracy = 1)) +\n",
        "  labs(title = \"Frecuencia relativa de la variable Pred\",\n",
        "       x = \"Pred\", y = \"Porcentaje\") +\n",
        "  theme_minimal()"
      ],
      "metadata": {
        "id": "iGtt-3GYW3Nu"
      },
      "id": "iGtt-3GYW3Nu",
      "execution_count": null,
      "outputs": []
    },
    {
      "cell_type": "markdown",
      "source": [
        "### Tablas cruzadas"
      ],
      "metadata": {
        "id": "XcB5bBfd87Qu"
      },
      "id": "XcB5bBfd87Qu"
    },
    {
      "cell_type": "code",
      "source": [
        "# Tabla cruzada entre dos variables categóricas\n",
        "# Tabla cruzada con porcentajes por fila y renombrado\n",
        "sleep_limpio %>%\n",
        "  tabyl(Pred, Danger) %>%\n",
        "  adorn_percentages(\"row\")\n",
        "\n"
      ],
      "metadata": {
        "id": "55p4_f4RWa9H"
      },
      "id": "55p4_f4RWa9H",
      "execution_count": null,
      "outputs": []
    },
    {
      "cell_type": "code",
      "source": [
        "#Diagrama de barras con dos variables categóricas e inclusión de la frecuencia\n",
        "\n",
        "# Paso 1: Calcular proporciones por grupo\n",
        "tabla_prop <- sleep_limpio %>%\n",
        "  count(Pred, Danger) %>%\n",
        "  group_by(Pred) %>%\n",
        "  mutate(\n",
        "    prop = n / sum(n),\n",
        "    etiqueta = paste0(round(prop * 100, 1), \"%\")\n",
        "  )\n",
        "\n",
        "# Paso 2: Gráfico de barras apiladas con etiquetas\n",
        "ggplot(tabla_prop, aes(x = Pred, y = prop, fill = Danger)) +\n",
        "  geom_col(position = \"fill\") +\n",
        "  geom_text(aes(label = etiqueta),\n",
        "            position = position_fill(vjust = 0.5), size = 3) +\n",
        "  scale_y_continuous(labels = scales::percent_format(accuracy = 1)) +\n",
        "  labs(title = \"Relación entre Pred y Danger\",\n",
        "       x = \"Tipo de depredador\", y = \"Proporción\") +\n",
        "  theme_minimal()\n"
      ],
      "metadata": {
        "id": "VD0Llg4ZWjPp"
      },
      "id": "VD0Llg4ZWjPp",
      "execution_count": null,
      "outputs": []
    },
    {
      "cell_type": "code",
      "source": [
        "# Análisis de asociación o relación entre dos variables categóricas\n",
        "chisq.test(table(sleep_limpio$Pred, sleep_limpio$Danger))"
      ],
      "metadata": {
        "id": "lj4gvhVpWrzx"
      },
      "id": "lj4gvhVpWrzx",
      "execution_count": null,
      "outputs": []
    },
    {
      "cell_type": "markdown",
      "source": [
        "El test de Chi-cuadrado asume que:\n",
        "\n",
        "Al menos el 80% de las celdas deben tener frecuencias esperadas ≥ 5.\n",
        "\n",
        "Ninguna celda debería tener una frecuencia esperada menor que 1.\n",
        "\n",
        "Si esto no se cumple, la aproximación al valor-p usando la distribución Chi² puede no ser confiable, y por eso R nos advierte.\n",
        "\n"
      ],
      "metadata": {
        "id": "d50LNTGN916p"
      },
      "id": "d50LNTGN916p"
    },
    {
      "cell_type": "markdown",
      "source": [
        "## Distribuciones de probabilidad\n",
        "\n",
        "\n",
        "¿Qué es una distribución de probabilidad?\n",
        "\n",
        "Una distribución de probabilidad describe cómo se distribuyen los valores posibles de una variable aleatoria. Es un modelo matemático que asigna una probabilidad a cada valor (discreto) o rango de valores (continuo).\n",
        "\n",
        "Para variables discretas, usamos funciones de masa de probabilidad (como binomial o Poisson).\n",
        "Para variables continuas, usamos funciones de densidad (como la normal o exponencial).\n",
        "\n",
        "\n",
        "\n",
        "\n"
      ],
      "metadata": {
        "id": "PurkXu7Fn8ap"
      },
      "id": "PurkXu7Fn8ap"
    },
    {
      "cell_type": "markdown",
      "source": [
        "### Distribución normal:\n",
        "\n",
        "Es una de las más comunes y útiles en estadística:\n",
        "\n",
        "Tiene forma de campana simétrica.\n",
        "\n",
        "Se define por dos parámetros:\n",
        "\n",
        "* Media (μ)\n",
        "* Desviación estándar (σ)\n",
        "\n",
        "**Ejemplo:**\n",
        "\n",
        "Comparar la distribución empírica de una variable cuantitativa con la teórica normal, usando ggplot2.\n",
        "\n",
        "Usaremos la variable log_BodyWgt (peso logarítmico), ya que anteriormente mostramos que la transformación mejora la simetría y reduce outliers."
      ],
      "metadata": {
        "id": "zlFaEC_Zpc3M"
      },
      "id": "zlFaEC_Zpc3M"
    },
    {
      "cell_type": "code",
      "source": [
        "# Crear gráfico con histograma y curva de densidad normal teórica\n",
        "ggplot(sleep_limpio_BodyWgt, aes(x = log_BodyWgt)) +\n",
        "  # Histograma con densidad (no frecuencia)\n",
        "  geom_histogram(aes(y = ..density..), fill = \"lightblue\", bins = 30) +\n",
        "\n",
        "  # Curva de densidad normal teórica ajustada a los datos\n",
        "  stat_function(fun = dnorm,\n",
        "                args = list(\n",
        "                  mean = mean(sleep_limpio_BodyWgt$log_BodyWgt, na.rm = TRUE),\n",
        "                  sd = sd(sleep_limpio_BodyWgt$log_BodyWgt, na.rm = TRUE)\n",
        "                ),\n",
        "                color = \"red\", size = 1) +\n",
        "\n",
        "  # Etiquetas y estilo\n",
        "  labs(title = \"Comparación con distribución normal\",\n",
        "       x = \"log(BodyWgt)\", y = \"Densidad\") +\n",
        "  theme_minimal()\n"
      ],
      "metadata": {
        "id": "isKnWMVUo0zI"
      },
      "id": "isKnWMVUo0zI",
      "execution_count": null,
      "outputs": []
    },
    {
      "cell_type": "markdown",
      "source": [
        "--------------\n",
        "| Función   | ¿Qué hace?                       | Ejemplo práctico                |\n",
        "| --------- | -------------------------------- | ------------------------------- |\n",
        "| `rnorm()` | Genera datos aleatorios          | Simulación de muestras          |\n",
        "| `dnorm()` | Densidad (altura de la curva)    | Dibujar curva normal            |\n",
        "| `pnorm()` | Probabilidad acumulada           | Calcular $P(X < x)$             |\n",
        "| `qnorm()` | Cuantil inverso (valor de corte) | Buscar z tal que $P(X < z) = p$ |\n",
        "\n",
        "-------------"
      ],
      "metadata": {
        "id": "PH47zSRTAmf0"
      },
      "id": "PH47zSRTAmf0"
    },
    {
      "cell_type": "markdown",
      "source": [
        "**Ejercicio**:\n",
        "\n",
        "Se sabe que el tiempo promedio que duerme un mamífero adulto es de 10 horas al día, con una desviación estándar de 2 horas.\n",
        "Se asume que los tiempos de sueño siguen una distribución normal.\n",
        "\n",
        "\n",
        "Grafica la distribución normal con μ=10 y σ=2.\n",
        "\n",
        "Calcula las siguientes probabilidades:\n",
        "* Que un mamífero duerma más de 12 horas al día.\n",
        "* Que un mamífero duerma entre 8 y 12 horas.\n",
        "* Que un mamífero duerma menos de 6 horas.\n",
        "\n",
        "Visualiza las áreas bajo la curva correspondientes a cada probabilidad.\n",
        "\n",
        "Interpreta los resultados."
      ],
      "metadata": {
        "id": "lndCe_ndytE7"
      },
      "id": "lndCe_ndytE7"
    },
    {
      "cell_type": "code",
      "source": [
        "# Parámetros de la distribución\n",
        "mu <- 10      # media\n",
        "sigma <- 2    # desviación estándar\n",
        "\n",
        "# Secuencia de valores x para graficar la curva\n",
        "x_vals <- seq(0, 20, by = 0.1)\n",
        "\n",
        "# Crear curva de densidad\n",
        "\n",
        "\n",
        "ggplot(data.frame(x = x_vals), aes(x)) +\n",
        "  stat_function(fun = dnorm, args = list(mean = mu, sd = sigma),\n",
        "                color = \"blue\", size = 1) +\n",
        "  labs(title = \"Distribución Normal (μ = 10, σ = 2)\",\n",
        "       x = \"Horas de sueño\", y = \"Densidad\") +\n",
        "  theme_minimal()\n",
        "\n",
        "# Cálculo de las probabilidades:\n",
        "# a) P(X > 12)\n",
        "p_mayor_12 <- pnorm(12, mean = mu, sd = sigma, lower.tail = FALSE)\n",
        "\n",
        "# b) P(8 < X < 12)\n",
        "p_entre_8_12 <- pnorm(12, mean = mu, sd = sigma) - pnorm(8, mean = mu, sd = sigma)\n",
        "\n",
        "# c) P(X < 6)\n",
        "p_menor_6 <- pnorm(6, mean = mu, sd = sigma)\n",
        "\n",
        "# Resultados\n",
        "cat(\"P(X > 12):\", round(p_mayor_12, 4), \"\\n\")\n",
        "cat(\"P(8 < X < 12):\", round(p_entre_8_12, 4), \"\\n\")\n",
        "cat(\"P(X < 6):\", round(p_menor_6, 4), \"\\n\")\n"
      ],
      "metadata": {
        "id": "nWc5K5Zq0KtN"
      },
      "id": "nWc5K5Zq0KtN",
      "execution_count": null,
      "outputs": []
    },
    {
      "cell_type": "markdown",
      "source": [
        "### Distribución Binomial\n",
        "\n",
        "Modela el número de éxitos en un número fijo de ensayos independientes con dos posibles resultados: éxito o fracaso.\n",
        "\n",
        "**Ejemplo típico:**\n",
        "\n",
        "Lanzar una moneda 10 veces.\n",
        "Probabilidad de obtener 6 caras.\n",
        "\n",
        "Parámetros de esta distribución:\n",
        "* n = número de ensayos\n",
        "* p = probabilidad de éxito"
      ],
      "metadata": {
        "id": "mdHBLQh5qu-h"
      },
      "id": "mdHBLQh5qu-h"
    },
    {
      "cell_type": "code",
      "source": [
        "# Distribución binomial: 20 ensayos, probabilidad de éxito 0.3\n",
        "binom_df <- data.frame(\n",
        "  x = 0:20, #valores de 0-20\n",
        "  prob = dbinom(0:20, size = 20, prob = 0.3)  # Probabilidad para cada valor\n",
        ")\n",
        "\n",
        "# Gráfico de barras de la distribución\n",
        "ggplot(binom_df, aes(x = factor(x), y = prob)) +\n",
        "  geom_bar(stat = \"identity\", fill = \"skyblue\") +\n",
        "  labs(title = \"Distribución Binomial (n=20, p=0.3)\",\n",
        "       x = \"Número de éxitos\", y = \"Probabilidad\") +\n",
        "  theme_minimal()\n"
      ],
      "metadata": {
        "id": "bftgJROtq833"
      },
      "id": "bftgJROtq833",
      "execution_count": null,
      "outputs": []
    },
    {
      "cell_type": "markdown",
      "source": [
        "-------------------\n",
        "| Función                 | Qué hace                                              | Ejemplo                              |\n",
        "| ----------------------- | ----------------------------------------------------- | ------------------------------------ |\n",
        "| `rbinom(n, size, prob)` | Simula datos binomiales (n muestras de tamaño `size`) | `rbinom(10, size = 20, prob = 0.5)`  |\n",
        "| `dbinom(x, size, prob)` | Probabilidad exacta $P(X = x)$                        | `dbinom(5, size = 10, prob = 0.5)`   |\n",
        "| `pbinom(q, size, prob)` | Probabilidad acumulada $P(X \\leq q)$                  | `pbinom(6, 10, 0.5)` → $P(X \\leq 6)$ |\n",
        "| `qbinom(p, size, prob)` | Cuantil: valor $x$ tal que $P(X \\leq x) = p$          | `qbinom(0.95, 10, 0.5)`              |\n",
        "\n",
        "-------------\n"
      ],
      "metadata": {
        "id": "fOq775H6A--z"
      },
      "id": "fOq775H6A--z"
    },
    {
      "cell_type": "markdown",
      "source": [
        "**Ejercicio**\n",
        "\n",
        "Un grupo de biólogos está evaluando la peligrosidad de ciertas especies animales. De acuerdo con registros previos, aproximadamente el 40% de los animales evaluados son considerados peligrosos. Se eligen 20 animales al azar.\n",
        "\n",
        "Queremos modelar este proceso como un experimento binomial con: n=20 ensayos (animales seleccionados)\n",
        "y p=0.40 la probabilidad de éxito (que un animal sea peligroso)\n",
        "\n",
        "Para ello, simula la distribución binomial correspondiente al número de animales peligrosos esperados en una muestra de 20.\n",
        "\n",
        "Visualiza la distribución usando un gráfico de barras.\n",
        "\n",
        "Calcula la probabilidad de que:\n",
        "* Exactamente 8 animales sean peligrosos.\n",
        "* Menos de 5 animales sean peligrosos.\n",
        "* Al menos 10 animales sean peligrosos.\n",
        "Interpreta los resultados."
      ],
      "metadata": {
        "id": "xXZ85dh1xkLz"
      },
      "id": "xXZ85dh1xkLz"
    },
    {
      "cell_type": "code",
      "source": [
        "# Parámetros\n",
        "n <- 20      # número de ensayos\n",
        "p <- 0.40    # probabilidad de éxito\n",
        "\n",
        "# Crear distribución binomial\n",
        "binom_df <- data.frame(\n",
        "  x = 0:n,\n",
        "  prob = dbinom(0:n, size = n, prob = p)\n",
        ")\n",
        "\n",
        "# Visualización\n",
        "ggplot(binom_df, aes(x = x, y = prob)) +\n",
        "  geom_col(fill = \"skyblue\", color = \"black\") +\n",
        "  labs(title = \"Distribución Binomial: n = 20, p = 0.40\",\n",
        "       x = \"Número de animales peligrosos\",\n",
        "       y = \"Probabilidad\") +\n",
        "  theme_minimal()\n",
        "\n",
        "# Cálculos de probabilidades específicas\n",
        "prob_8 <- dbinom(8, size = n, prob = p)\n",
        "prob_menor5 <- pbinom(4, size = n, prob = p)\n",
        "prob_al_menos10 <- 1 - pbinom(9, size = n, prob = p)\n",
        "\n",
        "# Mostrar resultados\n",
        "cat(\"P(X = 8):\", round(prob_8, 4), \"\\n\")\n",
        "cat(\"P(X < 5):\", round(prob_menor5, 4), \"\\n\")\n",
        "cat(\"P(X ≥ 10):\", round(prob_al_menos10, 4), \"\\n\")\n"
      ],
      "metadata": {
        "id": "g7J4ZE2Mx7b6"
      },
      "id": "g7J4ZE2Mx7b6",
      "execution_count": null,
      "outputs": []
    },
    {
      "cell_type": "markdown",
      "source": [
        "### Distribución de Poisson\n",
        "\n",
        "Modela el número de eventos que ocurren en un intervalo de tiempo o espacio cuando son raros y aleatorios.\n",
        "\n",
        "**Ejemplo típico:**\n",
        "\n",
        "* Número de llamadas por minuto a un centro de atención.\n",
        "* Número de accidentes en una carretera por día.\n",
        "\n",
        "Parámetro:\n",
        "\n",
        "* λ = número medio de eventos en el intervalo.\n",
        "* Si, X∼Poisson(λ), entonces la esperanza y varianza son iguales a λ."
      ],
      "metadata": {
        "id": "420BnyrxrLa7"
      },
      "id": "420BnyrxrLa7"
    },
    {
      "cell_type": "code",
      "source": [
        "# Distribución de Poisson con media 5\n",
        "poisson_df <- data.frame(\n",
        "  x = 0:15, # valores entre 0 y 15\n",
        "  prob = dpois(0:15, lambda = 5)\n",
        ")\n",
        "\n",
        "ggplot(poisson_df, aes(x = factor(x), y = prob)) +\n",
        "  geom_bar(stat = \"identity\", fill = \"lightgreen\") +\n",
        "  labs(title = \"Distribución de Poisson (λ = 5)\",\n",
        "       x = \"Número de eventos\", y = \"Probabilidad\") +\n",
        "  theme_minimal()\n"
      ],
      "metadata": {
        "id": "_BZ1TBRQri2g"
      },
      "id": "_BZ1TBRQri2g",
      "execution_count": null,
      "outputs": []
    },
    {
      "cell_type": "markdown",
      "source": [
        "--------------------\n",
        "\n",
        "| Función            | Qué hace                                               | Ejemplo                  |\n",
        "| ------------------ | ------------------------------------------------------ | ------------------------ |\n",
        "| `rpois(n, lambda)` | Simula conteos con media $\\lambda$                     | `rpois(10, lambda = 4)`  |\n",
        "| `dpois(x, lambda)` | Probabilidad exacta $P(X = x)$                         | `dpois(2, lambda = 3)`   |\n",
        "| `ppois(q, lambda)` | Probabilidad acumulada $P(X \\leq q)$                   | `ppois(4, lambda = 2.5)` |\n",
        "| `qpois(p, lambda)` | Cuantil: valor mínimo $x$ tal que $P(X \\leq x) \\geq p$ | `qpois(0.9, lambda = 3)` |\n",
        "\n",
        "\n",
        "--------------------\n"
      ],
      "metadata": {
        "id": "rWKM-zkoBKmv"
      },
      "id": "rWKM-zkoBKmv"
    },
    {
      "cell_type": "markdown",
      "source": [
        "**Ejercicio**:\n",
        "\n",
        "Un investigador estudia el número de despertares breves que tienen ciertos animales durante el sueño. Se ha observado que, en promedio, ocurren 3 despertares por noche.\n",
        "\n",
        "Queremos modelar este proceso como una distribución de Poisson, con: λ=3 número medio de eventos por unidad de tiempo (noche)\n",
        "\n",
        "\n",
        "Crea la distribución de Poisson con λ=3 para los valores posibles de 0 a 10 despertares.\n",
        "\n",
        "Visualiza la distribución mediante un gráfico de barras.\n",
        "\n",
        "Calcula las siguientes probabilidades:\n",
        "\n",
        "* Que haya exactamente 2 despertares.\n",
        "* Que haya 4 o más despertares.\n",
        "* Que haya entre 1 y 3 despertares (inclusive).\n",
        "\n",
        "Interpreta los resultados."
      ],
      "metadata": {
        "id": "sGD0HXoK0iLU"
      },
      "id": "sGD0HXoK0iLU"
    },
    {
      "cell_type": "code",
      "source": [
        "# Parámetro de la distribución\n",
        "lambda <- 3\n",
        "\n",
        "# Valores posibles de X (número de despertares)\n",
        "x_vals <- 0:10\n",
        "\n",
        "# Crear tabla de probabilidades\n",
        "poisson_df <- data.frame(\n",
        "  x = x_vals,\n",
        "  prob = dpois(x_vals, lambda = lambda)\n",
        ")\n",
        "\n",
        "ggplot(poisson_df, aes(x = factor(x), y = prob)) +\n",
        "  geom_col(fill = \"lightblue\", color = \"black\") +\n",
        "  labs(title = \"Distribución de Poisson (λ = 3)\",\n",
        "       x = \"Número de despertares por noche\",\n",
        "       y = \"Probabilidad\") +\n",
        "  theme_minimal()\n",
        "\n",
        "# Cálculo de las probabilidades:\n",
        "\n",
        "# a) P(X = 2)\n",
        "p_2 <- dpois(2, lambda = lambda)\n",
        "\n",
        "# b) P(X ≥ 4)\n",
        "p_mayor_igual_4 <- ppois(3, lambda = lambda, lower.tail = FALSE)\n",
        "\n",
        "# c) P(1 ≤ X ≤ 3)\n",
        "p_entre_1_3 <- ppois(3, lambda = lambda) - ppois(0, lambda = lambda)\n",
        "\n",
        "# Mostrar resultados\n",
        "cat(\"P(X = 2):\", round(p_2, 4), \"\\n\")\n",
        "cat(\"P(X ≥ 4):\", round(p_mayor_igual_4, 4), \"\\n\")\n",
        "cat(\"P(1 ≤ X ≤ 3):\", round(p_entre_1_3, 4), \"\\n\")\n"
      ],
      "metadata": {
        "id": "wrcYNJ7u02Ec"
      },
      "id": "wrcYNJ7u02Ec",
      "execution_count": null,
      "outputs": []
    },
    {
      "cell_type": "markdown",
      "source": [
        "### Distribución exponencial:\n",
        "\n",
        "La distribución exponencial es usada para modelar el tiempo entre eventos en un proceso que ocurre de manera aleatoria y continua a una tasa constante.\n",
        "\n",
        "Tiene un solo parámetro: λ (lambda) = tasa de ocurrencia de eventos por unidad de tiempo\n",
        "\n",
        "- **Media**: 1/λ\n",
        "\n",
        "- **Varianza**: 1/λ^2\n"
      ],
      "metadata": {
        "id": "rOKqyGHEtkLK"
      },
      "id": "rOKqyGHEtkLK"
    },
    {
      "cell_type": "code",
      "source": [
        "set.seed(123)  # reproducibilidad\n",
        "\n",
        "# Simular 200 tiempos entre eventos con tasa lambda = 0.5\n",
        "# (es decir, en promedio un evento cada 2 unidades de tiempo)\n",
        "exp_data <- rexp(n = 200, rate = 0.5)\n",
        "\n",
        "# Crear dataframe\n",
        "exp_df <- data.frame(tiempo = exp_data)\n",
        "\n",
        "ggplot(exp_df, aes(x = tiempo)) +\n",
        "  geom_histogram(aes(y = ..density..), bins = 30, fill = \"lightgreen\", color = \"black\") +\n",
        "  stat_function(fun = dexp, args = list(rate = 0.5), color = \"red\", size = 1) +\n",
        "  labs(\n",
        "    title = \"Simulación de tiempos ~ Distribución Exponencial (λ = 0.5)\",\n",
        "    x = \"Tiempo entre eventos\", y = \"Densidad\"\n",
        "  ) +\n",
        "  theme_minimal()\n"
      ],
      "metadata": {
        "id": "ACel9x89t5RB"
      },
      "id": "ACel9x89t5RB",
      "execution_count": null,
      "outputs": []
    },
    {
      "cell_type": "markdown",
      "source": [
        "--------------------\n",
        "| Función         | Qué hace                                     | Ejemplo                 |\n",
        "| --------------- | -------------------------------------------- | ----------------------- |\n",
        "| `rexp(n, rate)` | Simula datos de tiempos de espera            | `rexp(10, rate = 0.2)`  |\n",
        "| `dexp(x, rate)` | Densidad: valor de $f(x)$                    | `dexp(3, rate = 0.5)`   |\n",
        "| `pexp(q, rate)` | Probabilidad acumulada $P(X \\leq q)$         | `pexp(4, rate = 0.2)`   |\n",
        "| `qexp(p, rate)` | Cuantil: valor $x$ tal que $P(X \\leq x) = p$ | `qexp(0.9, rate = 0.2)` |\n",
        "\n",
        "--------------------"
      ],
      "metadata": {
        "id": "nLxFkWWjBj1V"
      },
      "id": "nLxFkWWjBj1V"
    },
    {
      "cell_type": "markdown",
      "source": [
        "Ejercicio:\n",
        "\n",
        "Simula una variable que represente los tiempos entre visitas a una estación de observación de animales. Supón que los eventos ocurren a una tasa constante de 0.25 visitas por hora.\n",
        "\n",
        "Simula 300 observaciones usando una distribución exponencial con rate = 0.25.\n",
        "\n",
        "Grafica el histograma junto con la curva teórica de densidad.\n",
        "\n",
        "Calcula la media y la varianza observadas.\n",
        "\n",
        "Compara tus resultados con los valores teóricos.\n",
        "\n",
        "Ajusta un nuevo valor de lambda y repite los pasos anteriores. ¿Cómo cambia la distribución?"
      ],
      "metadata": {
        "id": "bimKEtRUvKWa"
      },
      "id": "bimKEtRUvKWa"
    },
    {
      "cell_type": "code",
      "source": [
        "# Paso 1: Simular\n",
        "set.seed(456)\n",
        "tiempos <- rexp(n = 300, rate = 0.25)\n",
        "df_tiempos <- data.frame(tiempo = tiempos)\n",
        "\n",
        "# Paso 2: Visualizar\n",
        "ggplot(df_tiempos, aes(x = tiempo)) +\n",
        "  geom_histogram(aes(y = ..density..), bins = 30, fill = \"lightblue\", color = \"black\") +\n",
        "  stat_function(fun = dexp, args = list(rate = 0.25), color = \"red\") +\n",
        "  labs(title = \"Tiempos entre visitas (λ = 0.25)\",\n",
        "       x = \"Tiempo (horas)\", y = \"Densidad\") +\n",
        "  theme_minimal()\n",
        "\n",
        "# Paso 3: Estadísticos\n",
        "mean(df_tiempos$tiempo)\n",
        "var(df_tiempos$tiempo)\n"
      ],
      "metadata": {
        "id": "hDJSzl4OvViu"
      },
      "id": "hDJSzl4OvViu",
      "execution_count": null,
      "outputs": []
    },
    {
      "cell_type": "code",
      "source": [
        "# valor distinto de la tasa:\n",
        "\n",
        "# Paso 1: Simular\n",
        "set.seed(456)\n",
        "tiempos <- rexp(n = 300, rate = 0.75)\n",
        "df_tiempos <- data.frame(tiempo = tiempos)\n",
        "\n",
        "# Paso 2: Visualizar\n",
        "ggplot(df_tiempos, aes(x = tiempo)) +\n",
        "  geom_histogram(aes(y = ..density..), bins = 30, fill = \"lightblue\", color = \"black\") +\n",
        "  stat_function(fun = dexp, args = list(rate = 0.25), color = \"red\") +\n",
        "  labs(title = \"Tiempos entre visitas (λ = 0.25)\",\n",
        "       x = \"Tiempo (horas)\", y = \"Densidad\") +\n",
        "  theme_minimal()\n",
        "\n",
        "# Paso 3: Estadísticos\n",
        "mean(df_tiempos$tiempo)\n",
        "var(df_tiempos$tiempo)\n"
      ],
      "metadata": {
        "id": "YnulPdoxAGzY"
      },
      "id": "YnulPdoxAGzY",
      "execution_count": null,
      "outputs": []
    },
    {
      "cell_type": "markdown",
      "source": [
        "# Evaluación final\n",
        "\n"
      ],
      "metadata": {
        "id": "gbOMFFXb1esC"
      },
      "id": "gbOMFFXb1esC"
    }
  ],
  "metadata": {
    "colab": {
      "provenance": [],
      "toc_visible": true,
      "include_colab_link": true
    },
    "kernelspec": {
      "name": "ir",
      "display_name": "R"
    },
    "language_info": {
      "name": "R"
    }
  },
  "nbformat": 4,
  "nbformat_minor": 5
}