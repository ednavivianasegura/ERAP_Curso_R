{
  "cells": [
    {
      "cell_type": "markdown",
      "metadata": {
        "id": "view-in-github",
        "colab_type": "text"
      },
      "source": [
        "<a href=\"https://colab.research.google.com/github/ednavivianasegura/ERAP_Curso_R/blob/main/ERAP_R_Course_Modulo_IV.ipynb\" target=\"_parent\"><img src=\"https://colab.research.google.com/assets/colab-badge.svg\" alt=\"Open In Colab\"/></a>"
      ]
    },
    {
      "cell_type": "markdown",
      "metadata": {
        "id": "Xw_P5Z7q8v5W"
      },
      "source": [
        "Título: Manipulación de datos con R - Módulo IV (Exploración de datos y Estadística descriptiva)\n",
        "\n",
        "Autor(es): Edna Viviana Segura Alvarado - Hans Mauricio Carrillo Hernández\n",
        "\n",
        "Fecha: 2025-06\n",
        "\n",
        "Institución: Universidad de La Rioja"
      ],
      "id": "Xw_P5Z7q8v5W"
    },
    {
      "cell_type": "markdown",
      "id": "ca0626f3",
      "metadata": {
        "id": "ca0626f3"
      },
      "source": [
        "# Estadística Descriptiva\n",
        "\n",
        "La estadística descriptiva se encarga de recolectar, organizar, representar y resumir la información contenida en un conjunto de datos. Su objetivo es **describir las características fundamentales** de una o más variables, sin llegar a realizar inferencias o generalizaciones.\n",
        "\n",
        "---\n",
        "\n",
        "## Clasificación de las variables\n",
        "\n",
        "| Tipo de variable     | Subtipo              | Ejemplo                            |\n",
        "|----------------------|----------------------|------------------------------------|\n",
        "| **Cualitativa**      | Nominal              | Sexo (masculino/femenino)         |\n",
        "|                      | Ordinal              | Nivel educativo (bajo/medio/alto) |\n",
        "| **Cuantitativa**     | Discreta             | Número de hijos (0, 1, 2…)         |\n",
        "|                      | Continua             | Edad, ingreso mensual, peso       |\n",
        "\n",
        "---\n",
        "\n",
        "### Enfoque de análisis:\n",
        "\n",
        "| Enfoque           | Descripción |\n",
        "|-------------------|-------------|\n",
        "| **Univariado**    | Análisis de una sola variable. Se explora su distribución, tendencia central, dispersión y forma. |\n",
        "| **Bivariado**     | Análisis conjunto de dos variables para identificar relaciones o asociaciones. |\n",
        "| *(Multivariado)*  | Análisis simultáneo de tres o más variables (fuera del alcance de esta sección). |\n",
        "\n",
        "---\n",
        "\n",
        "## Estadística Descriptiva Univariada\n",
        "\n",
        "1. Para Variables **Cualitativas**:\n",
        "\n",
        "Se resumen usando tablas de frecuencia:\n",
        "\n",
        "- **Frecuencia absoluta**: número de observaciones por categoría.\n",
        "- **Frecuencia relativa**: proporción (o porcentaje) respecto al total.\n",
        "- **Representaciones gráficas**: gráfico de barras, gráfico de torta.\n",
        "\n",
        "2. Para Variables **Cuantitativas**:\n",
        "\n",
        "Se utilizan:\n",
        "\n",
        "- **Medidas de tendencia central**: media, mediana, moda.\n",
        "- **Medidas de dispersión**: rango, varianza, desviación estándar, coeficiente de variación.\n",
        "- **Medidas de forma**: asimetría (skewness), curtosis (kurtosis).\n",
        "- **Visualizaciones**: histogramas, diagramas de caja (boxplots), Q-Q plots.\n",
        "\n",
        "---\n",
        "\n",
        "## Estadística Descriptiva Bivariada\n",
        "\n",
        "1. Dos Variables cualitativas:\n",
        "- Tablas de contingencia\n",
        "- Gráficos de mosaico o de barras agrupadas\n",
        "- Medidas de asociación (por ejemplo, prueba Chi²)\n",
        "\n",
        "2. Una Variable Cualitativa y una Cuantitativa:\n",
        "- Promedios o medianas por grupo\n",
        "- Boxplots por categoría\n",
        "- ANOVA exploratoria\n",
        "\n",
        "3. Dos Variables Cuantitativas:\n",
        "- Nube de puntos (scatterplot)\n",
        "- Coeficiente de correlación (Pearson, Spearman)\n",
        "- Covarianza\n",
        "- Recta de regresión simple\n",
        "\n",
        "---\n",
        "\n"
      ]
    },
    {
      "cell_type": "code",
      "source": [
        "# @title Librerías\n",
        "# Paquetes necesarios\n",
        "\n",
        "# Función para instalar si no está instalado\n",
        "instalar_si_no <- function(paquete) {\n",
        "    if (!requireNamespace(paquete, quietly = TRUE)) {\n",
        "    install.packages(paquete, repos = \"https://cloud.r-project.org\")\n",
        "  }\n",
        "  library(paquete, character.only = TRUE)\n",
        "}\n",
        "\n",
        "# Lista de paquetes a verificar\n",
        "paquetes <- c(\"mlbench\",\"forcats\",\"VIM\",\"knitr\",\"e1071\",\"tidyr\",\"dplyr\",\"ggplot2\",\"e1071\", \"visdat\",\"reshape2\", \"janitor\")\n",
        "\n",
        "\n",
        "# Instalar y cargar todos\n",
        "invisible(lapply(paquetes, instalar_si_no))\n",
        "\n",
        "# Instalar librería empire\n",
        "remotes::install_github(\"davidbiol/empire\")\n",
        "\n"
      ],
      "metadata": {
        "id": "kOrzjTjIrLjQ",
        "colab": {
          "base_uri": "https://localhost:8080/"
        },
        "outputId": "dd13de3d-ea60-460b-c058-80b045067e54"
      },
      "id": "kOrzjTjIrLjQ",
      "execution_count": 1,
      "outputs": [
        {
          "metadata": {
            "tags": null
          },
          "name": "stderr",
          "output_type": "stream",
          "text": [
            "Installing package into ‘/usr/local/lib/R/site-library’\n",
            "(as ‘lib’ is unspecified)\n",
            "\n",
            "also installing the dependencies ‘rbibutils’, ‘cowplot’, ‘Deriv’, ‘microbenchmark’, ‘Rdpack’, ‘numDeriv’, ‘doBy’, ‘SparseM’, ‘MatrixModels’, ‘minqa’, ‘nloptr’, ‘reformulas’, ‘zoo’, ‘carData’, ‘abind’, ‘Formula’, ‘pbkrtest’, ‘quantreg’, ‘lme4’, ‘DEoptimR’, ‘lmtest’, ‘proxy’, ‘RcppEigen’, ‘colorspace’, ‘car’, ‘robustbase’, ‘sp’, ‘vcd’, ‘e1071’, ‘laeken’, ‘ranger’\n",
            "\n",
            "\n",
            "Loading required package: colorspace\n",
            "\n",
            "Loading required package: grid\n",
            "\n",
            "VIM is ready to use.\n",
            "\n",
            "\n",
            "Suggestions and bug-reports can be submitted at: https://github.com/statistikat/VIM/issues\n",
            "\n",
            "\n",
            "Attaching package: ‘VIM’\n",
            "\n",
            "\n",
            "The following object is masked from ‘package:datasets’:\n",
            "\n",
            "    sleep\n",
            "\n",
            "\n",
            "\n",
            "Attaching package: ‘dplyr’\n",
            "\n",
            "\n",
            "The following objects are masked from ‘package:stats’:\n",
            "\n",
            "    filter, lag\n",
            "\n",
            "\n",
            "The following objects are masked from ‘package:base’:\n",
            "\n",
            "    intersect, setdiff, setequal, union\n",
            "\n",
            "\n",
            "Installing package into ‘/usr/local/lib/R/site-library’\n",
            "(as ‘lib’ is unspecified)\n",
            "\n",
            "Installing package into ‘/usr/local/lib/R/site-library’\n",
            "(as ‘lib’ is unspecified)\n",
            "\n",
            "also installing the dependency ‘plyr’\n",
            "\n",
            "\n",
            "\n",
            "Attaching package: ‘reshape2’\n",
            "\n",
            "\n",
            "The following object is masked from ‘package:tidyr’:\n",
            "\n",
            "    smiths\n",
            "\n",
            "\n",
            "Installing package into ‘/usr/local/lib/R/site-library’\n",
            "(as ‘lib’ is unspecified)\n",
            "\n",
            "also installing the dependency ‘snakecase’\n",
            "\n",
            "\n",
            "\n",
            "Attaching package: ‘janitor’\n",
            "\n",
            "\n",
            "The following objects are masked from ‘package:stats’:\n",
            "\n",
            "    chisq.test, fisher.test\n",
            "\n",
            "\n",
            "Downloading GitHub repo davidbiol/empire@HEAD\n",
            "\n"
          ]
        },
        {
          "metadata": {
            "tags": null
          },
          "name": "stdout",
          "output_type": "stream",
          "text": [
            "iterators (NA -> 1.0.14 ) [CRAN]\n",
            "shape     (NA -> 1.4.6.1) [CRAN]\n",
            "foreach   (NA -> 1.5.2  ) [CRAN]\n",
            "glmnet    (NA -> 4.1-9  ) [CRAN]\n"
          ]
        },
        {
          "metadata": {
            "tags": null
          },
          "name": "stderr",
          "output_type": "stream",
          "text": [
            "Installing 4 packages: iterators, shape, foreach, glmnet\n",
            "\n",
            "Installing packages into ‘/usr/local/lib/R/site-library’\n",
            "(as ‘lib’ is unspecified)\n",
            "\n"
          ]
        },
        {
          "metadata": {
            "tags": null
          },
          "name": "stdout",
          "output_type": "stream",
          "text": [
            "\u001b[36m──\u001b[39m \u001b[36mR CMD build\u001b[39m \u001b[36m─────────────────────────────────────────────────────────────────\u001b[39m\n",
            "* checking for file ‘/tmp/RtmpYRULK8/remotes2ab35c20d27/davidbiol-empire-af6dc96/DESCRIPTION’ ... OK\n",
            "* preparing ‘empire’:\n",
            "* checking DESCRIPTION meta-information ... OK\n",
            "* checking for LF line-endings in source and make files and shell scripts\n",
            "* checking for empty or unneeded directories\n",
            "Omitted ‘LazyData’ from DESCRIPTION\n",
            "* building ‘empire_0.1.0.tar.gz’\n",
            "\n"
          ]
        },
        {
          "metadata": {
            "tags": null
          },
          "name": "stderr",
          "output_type": "stream",
          "text": [
            "Installing package into ‘/usr/local/lib/R/site-library’\n",
            "(as ‘lib’ is unspecified)\n",
            "\n"
          ]
        }
      ]
    },
    {
      "cell_type": "markdown",
      "source": [
        "# Datos\n",
        "\n",
        "Utilizaremos nuevamente el conjunto Sleep de la librería VIM trabajado durante el módulo II.\n",
        "\n"
      ],
      "metadata": {
        "id": "tFBkmKVCrPyI"
      },
      "id": "tFBkmKVCrPyI"
    },
    {
      "cell_type": "code",
      "source": [
        "# Cargar dataset 'sleep'\n",
        "data(\"sleep\")\n",
        "sleep"
      ],
      "metadata": {
        "id": "hXqd3SSjrX01",
        "colab": {
          "base_uri": "https://localhost:8080/",
          "height": 1000
        },
        "outputId": "ba1d3f80-6fcc-4cd4-8a90-2fdcdcf3ac75"
      },
      "id": "hXqd3SSjrX01",
      "execution_count": 2,
      "outputs": [
        {
          "data": {
            "text/html": [
              "<table class=\"dataframe\">\n",
              "<caption>A data.frame: 62 × 10</caption>\n",
              "<thead>\n",
              "\t<tr><th scope=col>BodyWgt</th><th scope=col>BrainWgt</th><th scope=col>NonD</th><th scope=col>Dream</th><th scope=col>Sleep</th><th scope=col>Span</th><th scope=col>Gest</th><th scope=col>Pred</th><th scope=col>Exp</th><th scope=col>Danger</th></tr>\n",
              "\t<tr><th scope=col>&lt;dbl&gt;</th><th scope=col>&lt;dbl&gt;</th><th scope=col>&lt;dbl&gt;</th><th scope=col>&lt;dbl&gt;</th><th scope=col>&lt;dbl&gt;</th><th scope=col>&lt;dbl&gt;</th><th scope=col>&lt;dbl&gt;</th><th scope=col>&lt;int&gt;</th><th scope=col>&lt;int&gt;</th><th scope=col>&lt;int&gt;</th></tr>\n",
              "</thead>\n",
              "<tbody>\n",
              "\t<tr><td>6654.000</td><td>5712.0</td><td>  NA</td><td> NA</td><td> 3.3</td><td>38.6</td><td>645</td><td>3</td><td>5</td><td>3</td></tr>\n",
              "\t<tr><td>   1.000</td><td>   6.6</td><td> 6.3</td><td>2.0</td><td> 8.3</td><td> 4.5</td><td> 42</td><td>3</td><td>1</td><td>3</td></tr>\n",
              "\t<tr><td>   3.385</td><td>  44.5</td><td>  NA</td><td> NA</td><td>12.5</td><td>14.0</td><td> 60</td><td>1</td><td>1</td><td>1</td></tr>\n",
              "\t<tr><td>   0.920</td><td>   5.7</td><td>  NA</td><td> NA</td><td>16.5</td><td>  NA</td><td> 25</td><td>5</td><td>2</td><td>3</td></tr>\n",
              "\t<tr><td>2547.000</td><td>4603.0</td><td> 2.1</td><td>1.8</td><td> 3.9</td><td>69.0</td><td>624</td><td>3</td><td>5</td><td>4</td></tr>\n",
              "\t<tr><td>  10.550</td><td> 179.5</td><td> 9.1</td><td>0.7</td><td> 9.8</td><td>27.0</td><td>180</td><td>4</td><td>4</td><td>4</td></tr>\n",
              "\t<tr><td>   0.023</td><td>   0.3</td><td>15.8</td><td>3.9</td><td>19.7</td><td>19.0</td><td> 35</td><td>1</td><td>1</td><td>1</td></tr>\n",
              "\t<tr><td> 160.000</td><td> 169.0</td><td> 5.2</td><td>1.0</td><td> 6.2</td><td>30.4</td><td>392</td><td>4</td><td>5</td><td>4</td></tr>\n",
              "\t<tr><td>   3.300</td><td>  25.6</td><td>10.9</td><td>3.6</td><td>14.5</td><td>28.0</td><td> 63</td><td>1</td><td>2</td><td>1</td></tr>\n",
              "\t<tr><td>  52.160</td><td> 440.0</td><td> 8.3</td><td>1.4</td><td> 9.7</td><td>50.0</td><td>230</td><td>1</td><td>1</td><td>1</td></tr>\n",
              "\t<tr><td>   0.425</td><td>   6.4</td><td>11.0</td><td>1.5</td><td>12.5</td><td> 7.0</td><td>112</td><td>5</td><td>4</td><td>4</td></tr>\n",
              "\t<tr><td> 465.000</td><td> 423.0</td><td> 3.2</td><td>0.7</td><td> 3.9</td><td>30.0</td><td>281</td><td>5</td><td>5</td><td>5</td></tr>\n",
              "\t<tr><td>   0.550</td><td>   2.4</td><td> 7.6</td><td>2.7</td><td>10.3</td><td>  NA</td><td> NA</td><td>2</td><td>1</td><td>2</td></tr>\n",
              "\t<tr><td> 187.100</td><td> 419.0</td><td>  NA</td><td> NA</td><td> 3.1</td><td>40.0</td><td>365</td><td>5</td><td>5</td><td>5</td></tr>\n",
              "\t<tr><td>   0.075</td><td>   1.2</td><td> 6.3</td><td>2.1</td><td> 8.4</td><td> 3.5</td><td> 42</td><td>1</td><td>1</td><td>1</td></tr>\n",
              "\t<tr><td>   3.000</td><td>  25.0</td><td> 8.6</td><td>0.0</td><td> 8.6</td><td>50.0</td><td> 28</td><td>2</td><td>2</td><td>2</td></tr>\n",
              "\t<tr><td>   0.785</td><td>   3.5</td><td> 6.6</td><td>4.1</td><td>10.7</td><td> 6.0</td><td> 42</td><td>2</td><td>2</td><td>2</td></tr>\n",
              "\t<tr><td>   0.200</td><td>   5.0</td><td> 9.5</td><td>1.2</td><td>10.7</td><td>10.4</td><td>120</td><td>2</td><td>2</td><td>2</td></tr>\n",
              "\t<tr><td>   1.410</td><td>  17.5</td><td> 4.8</td><td>1.3</td><td> 6.1</td><td>34.0</td><td> NA</td><td>1</td><td>2</td><td>1</td></tr>\n",
              "\t<tr><td>  60.000</td><td>  81.0</td><td>12.0</td><td>6.1</td><td>18.1</td><td> 7.0</td><td> NA</td><td>1</td><td>1</td><td>1</td></tr>\n",
              "\t<tr><td> 529.000</td><td> 680.0</td><td>  NA</td><td>0.3</td><td>  NA</td><td>28.0</td><td>400</td><td>5</td><td>5</td><td>5</td></tr>\n",
              "\t<tr><td>  27.660</td><td> 115.0</td><td> 3.3</td><td>0.5</td><td> 3.8</td><td>20.0</td><td>148</td><td>5</td><td>5</td><td>5</td></tr>\n",
              "\t<tr><td>   0.120</td><td>   1.0</td><td>11.0</td><td>3.4</td><td>14.4</td><td> 3.9</td><td> 16</td><td>3</td><td>1</td><td>2</td></tr>\n",
              "\t<tr><td> 207.000</td><td> 406.0</td><td>  NA</td><td> NA</td><td>12.0</td><td>39.3</td><td>252</td><td>1</td><td>4</td><td>1</td></tr>\n",
              "\t<tr><td>  85.000</td><td> 325.0</td><td> 4.7</td><td>1.5</td><td> 6.2</td><td>41.0</td><td>310</td><td>1</td><td>3</td><td>1</td></tr>\n",
              "\t<tr><td>  36.330</td><td> 119.5</td><td>  NA</td><td> NA</td><td>13.0</td><td>16.2</td><td> 63</td><td>1</td><td>1</td><td>1</td></tr>\n",
              "\t<tr><td>   0.101</td><td>   4.0</td><td>10.4</td><td>3.4</td><td>13.8</td><td> 9.0</td><td> 28</td><td>5</td><td>1</td><td>3</td></tr>\n",
              "\t<tr><td>   1.040</td><td>   5.5</td><td> 7.4</td><td>0.8</td><td> 8.2</td><td> 7.6</td><td> 68</td><td>5</td><td>3</td><td>4</td></tr>\n",
              "\t<tr><td> 521.000</td><td> 655.0</td><td> 2.1</td><td>0.8</td><td> 2.9</td><td>46.0</td><td>336</td><td>5</td><td>5</td><td>5</td></tr>\n",
              "\t<tr><td> 100.000</td><td> 157.0</td><td>  NA</td><td> NA</td><td>10.8</td><td>22.4</td><td>100</td><td>1</td><td>1</td><td>1</td></tr>\n",
              "\t<tr><td>⋮</td><td>⋮</td><td>⋮</td><td>⋮</td><td>⋮</td><td>⋮</td><td>⋮</td><td>⋮</td><td>⋮</td><td>⋮</td></tr>\n",
              "\t<tr><td>  0.010</td><td>   0.25</td><td>17.9</td><td>2.0</td><td>19.9</td><td> 24.0</td><td> 50</td><td>1</td><td>1</td><td>1</td></tr>\n",
              "\t<tr><td> 62.000</td><td>1320.00</td><td> 6.1</td><td>1.9</td><td> 8.0</td><td>100.0</td><td>267</td><td>1</td><td>1</td><td>1</td></tr>\n",
              "\t<tr><td>  0.122</td><td>   3.00</td><td> 8.2</td><td>2.4</td><td>10.6</td><td>   NA</td><td> 30</td><td>2</td><td>1</td><td>1</td></tr>\n",
              "\t<tr><td>  1.350</td><td>   8.10</td><td> 8.4</td><td>2.8</td><td>11.2</td><td>   NA</td><td> 45</td><td>3</td><td>1</td><td>3</td></tr>\n",
              "\t<tr><td>  0.023</td><td>   0.40</td><td>11.9</td><td>1.3</td><td>13.2</td><td>  3.2</td><td> 19</td><td>4</td><td>1</td><td>3</td></tr>\n",
              "\t<tr><td>  0.048</td><td>   0.33</td><td>10.8</td><td>2.0</td><td>12.8</td><td>  2.0</td><td> 30</td><td>4</td><td>1</td><td>3</td></tr>\n",
              "\t<tr><td>  1.700</td><td>   6.30</td><td>13.8</td><td>5.6</td><td>19.4</td><td>  5.0</td><td> 12</td><td>2</td><td>1</td><td>1</td></tr>\n",
              "\t<tr><td>  3.500</td><td>  10.80</td><td>14.3</td><td>3.1</td><td>17.4</td><td>  6.5</td><td>120</td><td>2</td><td>1</td><td>1</td></tr>\n",
              "\t<tr><td>250.000</td><td> 490.00</td><td>  NA</td><td>1.0</td><td>  NA</td><td> 23.6</td><td>440</td><td>5</td><td>5</td><td>5</td></tr>\n",
              "\t<tr><td>  0.480</td><td>  15.50</td><td>15.2</td><td>1.8</td><td>17.0</td><td> 12.0</td><td>140</td><td>2</td><td>2</td><td>2</td></tr>\n",
              "\t<tr><td> 10.000</td><td> 115.00</td><td>10.0</td><td>0.9</td><td>10.9</td><td> 20.2</td><td>170</td><td>4</td><td>4</td><td>4</td></tr>\n",
              "\t<tr><td>  1.620</td><td>  11.40</td><td>11.9</td><td>1.8</td><td>13.7</td><td> 13.0</td><td> 17</td><td>2</td><td>1</td><td>2</td></tr>\n",
              "\t<tr><td>192.000</td><td> 180.00</td><td> 6.5</td><td>1.9</td><td> 8.4</td><td> 27.0</td><td>115</td><td>4</td><td>4</td><td>4</td></tr>\n",
              "\t<tr><td>  2.500</td><td>  12.10</td><td> 7.5</td><td>0.9</td><td> 8.4</td><td> 18.0</td><td> 31</td><td>5</td><td>5</td><td>5</td></tr>\n",
              "\t<tr><td>  4.288</td><td>  39.20</td><td>  NA</td><td> NA</td><td>12.5</td><td> 13.7</td><td> 63</td><td>2</td><td>2</td><td>2</td></tr>\n",
              "\t<tr><td>  0.280</td><td>   1.90</td><td>10.6</td><td>2.6</td><td>13.2</td><td>  4.7</td><td> 21</td><td>3</td><td>1</td><td>3</td></tr>\n",
              "\t<tr><td>  4.235</td><td>  50.40</td><td> 7.4</td><td>2.4</td><td> 9.8</td><td>  9.8</td><td> 52</td><td>1</td><td>1</td><td>1</td></tr>\n",
              "\t<tr><td>  6.800</td><td> 179.00</td><td> 8.4</td><td>1.2</td><td> 9.6</td><td> 29.0</td><td>164</td><td>2</td><td>3</td><td>2</td></tr>\n",
              "\t<tr><td>  0.750</td><td>  12.30</td><td> 5.7</td><td>0.9</td><td> 6.6</td><td>  7.0</td><td>225</td><td>2</td><td>2</td><td>2</td></tr>\n",
              "\t<tr><td>  3.600</td><td>  21.00</td><td> 4.9</td><td>0.5</td><td> 5.4</td><td>  6.0</td><td>225</td><td>3</td><td>2</td><td>3</td></tr>\n",
              "\t<tr><td> 14.830</td><td>  98.20</td><td>  NA</td><td> NA</td><td> 2.6</td><td> 17.0</td><td>150</td><td>5</td><td>5</td><td>5</td></tr>\n",
              "\t<tr><td> 55.500</td><td> 175.00</td><td> 3.2</td><td>0.6</td><td> 3.8</td><td> 20.0</td><td>151</td><td>5</td><td>5</td><td>5</td></tr>\n",
              "\t<tr><td>  1.400</td><td>  12.50</td><td>  NA</td><td> NA</td><td>11.0</td><td> 12.7</td><td> 90</td><td>2</td><td>2</td><td>2</td></tr>\n",
              "\t<tr><td>  0.060</td><td>   1.00</td><td> 8.1</td><td>2.2</td><td>10.3</td><td>  3.5</td><td> NA</td><td>3</td><td>1</td><td>2</td></tr>\n",
              "\t<tr><td>  0.900</td><td>   2.60</td><td>11.0</td><td>2.3</td><td>13.3</td><td>  4.5</td><td> 60</td><td>2</td><td>1</td><td>2</td></tr>\n",
              "\t<tr><td>  2.000</td><td>  12.30</td><td> 4.9</td><td>0.5</td><td> 5.4</td><td>  7.5</td><td>200</td><td>3</td><td>1</td><td>3</td></tr>\n",
              "\t<tr><td>  0.104</td><td>   2.50</td><td>13.2</td><td>2.6</td><td>15.8</td><td>  2.3</td><td> 46</td><td>3</td><td>2</td><td>2</td></tr>\n",
              "\t<tr><td>  4.190</td><td>  58.00</td><td> 9.7</td><td>0.6</td><td>10.3</td><td> 24.0</td><td>210</td><td>4</td><td>3</td><td>4</td></tr>\n",
              "\t<tr><td>  3.500</td><td>   3.90</td><td>12.8</td><td>6.6</td><td>19.4</td><td>  3.0</td><td> 14</td><td>2</td><td>1</td><td>1</td></tr>\n",
              "\t<tr><td>  4.050</td><td>  17.00</td><td>  NA</td><td> NA</td><td>  NA</td><td> 13.0</td><td> 38</td><td>3</td><td>1</td><td>1</td></tr>\n",
              "</tbody>\n",
              "</table>\n"
            ],
            "text/latex": "A data.frame: 62 × 10\n\\begin{tabular}{llllllllll}\n BodyWgt & BrainWgt & NonD & Dream & Sleep & Span & Gest & Pred & Exp & Danger\\\\\n <dbl> & <dbl> & <dbl> & <dbl> & <dbl> & <dbl> & <dbl> & <int> & <int> & <int>\\\\\n\\hline\n\t 6654.000 & 5712.0 &   NA &  NA &  3.3 & 38.6 & 645 & 3 & 5 & 3\\\\\n\t    1.000 &    6.6 &  6.3 & 2.0 &  8.3 &  4.5 &  42 & 3 & 1 & 3\\\\\n\t    3.385 &   44.5 &   NA &  NA & 12.5 & 14.0 &  60 & 1 & 1 & 1\\\\\n\t    0.920 &    5.7 &   NA &  NA & 16.5 &   NA &  25 & 5 & 2 & 3\\\\\n\t 2547.000 & 4603.0 &  2.1 & 1.8 &  3.9 & 69.0 & 624 & 3 & 5 & 4\\\\\n\t   10.550 &  179.5 &  9.1 & 0.7 &  9.8 & 27.0 & 180 & 4 & 4 & 4\\\\\n\t    0.023 &    0.3 & 15.8 & 3.9 & 19.7 & 19.0 &  35 & 1 & 1 & 1\\\\\n\t  160.000 &  169.0 &  5.2 & 1.0 &  6.2 & 30.4 & 392 & 4 & 5 & 4\\\\\n\t    3.300 &   25.6 & 10.9 & 3.6 & 14.5 & 28.0 &  63 & 1 & 2 & 1\\\\\n\t   52.160 &  440.0 &  8.3 & 1.4 &  9.7 & 50.0 & 230 & 1 & 1 & 1\\\\\n\t    0.425 &    6.4 & 11.0 & 1.5 & 12.5 &  7.0 & 112 & 5 & 4 & 4\\\\\n\t  465.000 &  423.0 &  3.2 & 0.7 &  3.9 & 30.0 & 281 & 5 & 5 & 5\\\\\n\t    0.550 &    2.4 &  7.6 & 2.7 & 10.3 &   NA &  NA & 2 & 1 & 2\\\\\n\t  187.100 &  419.0 &   NA &  NA &  3.1 & 40.0 & 365 & 5 & 5 & 5\\\\\n\t    0.075 &    1.2 &  6.3 & 2.1 &  8.4 &  3.5 &  42 & 1 & 1 & 1\\\\\n\t    3.000 &   25.0 &  8.6 & 0.0 &  8.6 & 50.0 &  28 & 2 & 2 & 2\\\\\n\t    0.785 &    3.5 &  6.6 & 4.1 & 10.7 &  6.0 &  42 & 2 & 2 & 2\\\\\n\t    0.200 &    5.0 &  9.5 & 1.2 & 10.7 & 10.4 & 120 & 2 & 2 & 2\\\\\n\t    1.410 &   17.5 &  4.8 & 1.3 &  6.1 & 34.0 &  NA & 1 & 2 & 1\\\\\n\t   60.000 &   81.0 & 12.0 & 6.1 & 18.1 &  7.0 &  NA & 1 & 1 & 1\\\\\n\t  529.000 &  680.0 &   NA & 0.3 &   NA & 28.0 & 400 & 5 & 5 & 5\\\\\n\t   27.660 &  115.0 &  3.3 & 0.5 &  3.8 & 20.0 & 148 & 5 & 5 & 5\\\\\n\t    0.120 &    1.0 & 11.0 & 3.4 & 14.4 &  3.9 &  16 & 3 & 1 & 2\\\\\n\t  207.000 &  406.0 &   NA &  NA & 12.0 & 39.3 & 252 & 1 & 4 & 1\\\\\n\t   85.000 &  325.0 &  4.7 & 1.5 &  6.2 & 41.0 & 310 & 1 & 3 & 1\\\\\n\t   36.330 &  119.5 &   NA &  NA & 13.0 & 16.2 &  63 & 1 & 1 & 1\\\\\n\t    0.101 &    4.0 & 10.4 & 3.4 & 13.8 &  9.0 &  28 & 5 & 1 & 3\\\\\n\t    1.040 &    5.5 &  7.4 & 0.8 &  8.2 &  7.6 &  68 & 5 & 3 & 4\\\\\n\t  521.000 &  655.0 &  2.1 & 0.8 &  2.9 & 46.0 & 336 & 5 & 5 & 5\\\\\n\t  100.000 &  157.0 &   NA &  NA & 10.8 & 22.4 & 100 & 1 & 1 & 1\\\\\n\t ⋮ & ⋮ & ⋮ & ⋮ & ⋮ & ⋮ & ⋮ & ⋮ & ⋮ & ⋮\\\\\n\t   0.010 &    0.25 & 17.9 & 2.0 & 19.9 &  24.0 &  50 & 1 & 1 & 1\\\\\n\t  62.000 & 1320.00 &  6.1 & 1.9 &  8.0 & 100.0 & 267 & 1 & 1 & 1\\\\\n\t   0.122 &    3.00 &  8.2 & 2.4 & 10.6 &    NA &  30 & 2 & 1 & 1\\\\\n\t   1.350 &    8.10 &  8.4 & 2.8 & 11.2 &    NA &  45 & 3 & 1 & 3\\\\\n\t   0.023 &    0.40 & 11.9 & 1.3 & 13.2 &   3.2 &  19 & 4 & 1 & 3\\\\\n\t   0.048 &    0.33 & 10.8 & 2.0 & 12.8 &   2.0 &  30 & 4 & 1 & 3\\\\\n\t   1.700 &    6.30 & 13.8 & 5.6 & 19.4 &   5.0 &  12 & 2 & 1 & 1\\\\\n\t   3.500 &   10.80 & 14.3 & 3.1 & 17.4 &   6.5 & 120 & 2 & 1 & 1\\\\\n\t 250.000 &  490.00 &   NA & 1.0 &   NA &  23.6 & 440 & 5 & 5 & 5\\\\\n\t   0.480 &   15.50 & 15.2 & 1.8 & 17.0 &  12.0 & 140 & 2 & 2 & 2\\\\\n\t  10.000 &  115.00 & 10.0 & 0.9 & 10.9 &  20.2 & 170 & 4 & 4 & 4\\\\\n\t   1.620 &   11.40 & 11.9 & 1.8 & 13.7 &  13.0 &  17 & 2 & 1 & 2\\\\\n\t 192.000 &  180.00 &  6.5 & 1.9 &  8.4 &  27.0 & 115 & 4 & 4 & 4\\\\\n\t   2.500 &   12.10 &  7.5 & 0.9 &  8.4 &  18.0 &  31 & 5 & 5 & 5\\\\\n\t   4.288 &   39.20 &   NA &  NA & 12.5 &  13.7 &  63 & 2 & 2 & 2\\\\\n\t   0.280 &    1.90 & 10.6 & 2.6 & 13.2 &   4.7 &  21 & 3 & 1 & 3\\\\\n\t   4.235 &   50.40 &  7.4 & 2.4 &  9.8 &   9.8 &  52 & 1 & 1 & 1\\\\\n\t   6.800 &  179.00 &  8.4 & 1.2 &  9.6 &  29.0 & 164 & 2 & 3 & 2\\\\\n\t   0.750 &   12.30 &  5.7 & 0.9 &  6.6 &   7.0 & 225 & 2 & 2 & 2\\\\\n\t   3.600 &   21.00 &  4.9 & 0.5 &  5.4 &   6.0 & 225 & 3 & 2 & 3\\\\\n\t  14.830 &   98.20 &   NA &  NA &  2.6 &  17.0 & 150 & 5 & 5 & 5\\\\\n\t  55.500 &  175.00 &  3.2 & 0.6 &  3.8 &  20.0 & 151 & 5 & 5 & 5\\\\\n\t   1.400 &   12.50 &   NA &  NA & 11.0 &  12.7 &  90 & 2 & 2 & 2\\\\\n\t   0.060 &    1.00 &  8.1 & 2.2 & 10.3 &   3.5 &  NA & 3 & 1 & 2\\\\\n\t   0.900 &    2.60 & 11.0 & 2.3 & 13.3 &   4.5 &  60 & 2 & 1 & 2\\\\\n\t   2.000 &   12.30 &  4.9 & 0.5 &  5.4 &   7.5 & 200 & 3 & 1 & 3\\\\\n\t   0.104 &    2.50 & 13.2 & 2.6 & 15.8 &   2.3 &  46 & 3 & 2 & 2\\\\\n\t   4.190 &   58.00 &  9.7 & 0.6 & 10.3 &  24.0 & 210 & 4 & 3 & 4\\\\\n\t   3.500 &    3.90 & 12.8 & 6.6 & 19.4 &   3.0 &  14 & 2 & 1 & 1\\\\\n\t   4.050 &   17.00 &   NA &  NA &   NA &  13.0 &  38 & 3 & 1 & 1\\\\\n\\end{tabular}\n",
            "text/markdown": "\nA data.frame: 62 × 10\n\n| BodyWgt &lt;dbl&gt; | BrainWgt &lt;dbl&gt; | NonD &lt;dbl&gt; | Dream &lt;dbl&gt; | Sleep &lt;dbl&gt; | Span &lt;dbl&gt; | Gest &lt;dbl&gt; | Pred &lt;int&gt; | Exp &lt;int&gt; | Danger &lt;int&gt; |\n|---|---|---|---|---|---|---|---|---|---|\n| 6654.000 | 5712.0 |   NA |  NA |  3.3 | 38.6 | 645 | 3 | 5 | 3 |\n|    1.000 |    6.6 |  6.3 | 2.0 |  8.3 |  4.5 |  42 | 3 | 1 | 3 |\n|    3.385 |   44.5 |   NA |  NA | 12.5 | 14.0 |  60 | 1 | 1 | 1 |\n|    0.920 |    5.7 |   NA |  NA | 16.5 |   NA |  25 | 5 | 2 | 3 |\n| 2547.000 | 4603.0 |  2.1 | 1.8 |  3.9 | 69.0 | 624 | 3 | 5 | 4 |\n|   10.550 |  179.5 |  9.1 | 0.7 |  9.8 | 27.0 | 180 | 4 | 4 | 4 |\n|    0.023 |    0.3 | 15.8 | 3.9 | 19.7 | 19.0 |  35 | 1 | 1 | 1 |\n|  160.000 |  169.0 |  5.2 | 1.0 |  6.2 | 30.4 | 392 | 4 | 5 | 4 |\n|    3.300 |   25.6 | 10.9 | 3.6 | 14.5 | 28.0 |  63 | 1 | 2 | 1 |\n|   52.160 |  440.0 |  8.3 | 1.4 |  9.7 | 50.0 | 230 | 1 | 1 | 1 |\n|    0.425 |    6.4 | 11.0 | 1.5 | 12.5 |  7.0 | 112 | 5 | 4 | 4 |\n|  465.000 |  423.0 |  3.2 | 0.7 |  3.9 | 30.0 | 281 | 5 | 5 | 5 |\n|    0.550 |    2.4 |  7.6 | 2.7 | 10.3 |   NA |  NA | 2 | 1 | 2 |\n|  187.100 |  419.0 |   NA |  NA |  3.1 | 40.0 | 365 | 5 | 5 | 5 |\n|    0.075 |    1.2 |  6.3 | 2.1 |  8.4 |  3.5 |  42 | 1 | 1 | 1 |\n|    3.000 |   25.0 |  8.6 | 0.0 |  8.6 | 50.0 |  28 | 2 | 2 | 2 |\n|    0.785 |    3.5 |  6.6 | 4.1 | 10.7 |  6.0 |  42 | 2 | 2 | 2 |\n|    0.200 |    5.0 |  9.5 | 1.2 | 10.7 | 10.4 | 120 | 2 | 2 | 2 |\n|    1.410 |   17.5 |  4.8 | 1.3 |  6.1 | 34.0 |  NA | 1 | 2 | 1 |\n|   60.000 |   81.0 | 12.0 | 6.1 | 18.1 |  7.0 |  NA | 1 | 1 | 1 |\n|  529.000 |  680.0 |   NA | 0.3 |   NA | 28.0 | 400 | 5 | 5 | 5 |\n|   27.660 |  115.0 |  3.3 | 0.5 |  3.8 | 20.0 | 148 | 5 | 5 | 5 |\n|    0.120 |    1.0 | 11.0 | 3.4 | 14.4 |  3.9 |  16 | 3 | 1 | 2 |\n|  207.000 |  406.0 |   NA |  NA | 12.0 | 39.3 | 252 | 1 | 4 | 1 |\n|   85.000 |  325.0 |  4.7 | 1.5 |  6.2 | 41.0 | 310 | 1 | 3 | 1 |\n|   36.330 |  119.5 |   NA |  NA | 13.0 | 16.2 |  63 | 1 | 1 | 1 |\n|    0.101 |    4.0 | 10.4 | 3.4 | 13.8 |  9.0 |  28 | 5 | 1 | 3 |\n|    1.040 |    5.5 |  7.4 | 0.8 |  8.2 |  7.6 |  68 | 5 | 3 | 4 |\n|  521.000 |  655.0 |  2.1 | 0.8 |  2.9 | 46.0 | 336 | 5 | 5 | 5 |\n|  100.000 |  157.0 |   NA |  NA | 10.8 | 22.4 | 100 | 1 | 1 | 1 |\n| ⋮ | ⋮ | ⋮ | ⋮ | ⋮ | ⋮ | ⋮ | ⋮ | ⋮ | ⋮ |\n|   0.010 |    0.25 | 17.9 | 2.0 | 19.9 |  24.0 |  50 | 1 | 1 | 1 |\n|  62.000 | 1320.00 |  6.1 | 1.9 |  8.0 | 100.0 | 267 | 1 | 1 | 1 |\n|   0.122 |    3.00 |  8.2 | 2.4 | 10.6 |    NA |  30 | 2 | 1 | 1 |\n|   1.350 |    8.10 |  8.4 | 2.8 | 11.2 |    NA |  45 | 3 | 1 | 3 |\n|   0.023 |    0.40 | 11.9 | 1.3 | 13.2 |   3.2 |  19 | 4 | 1 | 3 |\n|   0.048 |    0.33 | 10.8 | 2.0 | 12.8 |   2.0 |  30 | 4 | 1 | 3 |\n|   1.700 |    6.30 | 13.8 | 5.6 | 19.4 |   5.0 |  12 | 2 | 1 | 1 |\n|   3.500 |   10.80 | 14.3 | 3.1 | 17.4 |   6.5 | 120 | 2 | 1 | 1 |\n| 250.000 |  490.00 |   NA | 1.0 |   NA |  23.6 | 440 | 5 | 5 | 5 |\n|   0.480 |   15.50 | 15.2 | 1.8 | 17.0 |  12.0 | 140 | 2 | 2 | 2 |\n|  10.000 |  115.00 | 10.0 | 0.9 | 10.9 |  20.2 | 170 | 4 | 4 | 4 |\n|   1.620 |   11.40 | 11.9 | 1.8 | 13.7 |  13.0 |  17 | 2 | 1 | 2 |\n| 192.000 |  180.00 |  6.5 | 1.9 |  8.4 |  27.0 | 115 | 4 | 4 | 4 |\n|   2.500 |   12.10 |  7.5 | 0.9 |  8.4 |  18.0 |  31 | 5 | 5 | 5 |\n|   4.288 |   39.20 |   NA |  NA | 12.5 |  13.7 |  63 | 2 | 2 | 2 |\n|   0.280 |    1.90 | 10.6 | 2.6 | 13.2 |   4.7 |  21 | 3 | 1 | 3 |\n|   4.235 |   50.40 |  7.4 | 2.4 |  9.8 |   9.8 |  52 | 1 | 1 | 1 |\n|   6.800 |  179.00 |  8.4 | 1.2 |  9.6 |  29.0 | 164 | 2 | 3 | 2 |\n|   0.750 |   12.30 |  5.7 | 0.9 |  6.6 |   7.0 | 225 | 2 | 2 | 2 |\n|   3.600 |   21.00 |  4.9 | 0.5 |  5.4 |   6.0 | 225 | 3 | 2 | 3 |\n|  14.830 |   98.20 |   NA |  NA |  2.6 |  17.0 | 150 | 5 | 5 | 5 |\n|  55.500 |  175.00 |  3.2 | 0.6 |  3.8 |  20.0 | 151 | 5 | 5 | 5 |\n|   1.400 |   12.50 |   NA |  NA | 11.0 |  12.7 |  90 | 2 | 2 | 2 |\n|   0.060 |    1.00 |  8.1 | 2.2 | 10.3 |   3.5 |  NA | 3 | 1 | 2 |\n|   0.900 |    2.60 | 11.0 | 2.3 | 13.3 |   4.5 |  60 | 2 | 1 | 2 |\n|   2.000 |   12.30 |  4.9 | 0.5 |  5.4 |   7.5 | 200 | 3 | 1 | 3 |\n|   0.104 |    2.50 | 13.2 | 2.6 | 15.8 |   2.3 |  46 | 3 | 2 | 2 |\n|   4.190 |   58.00 |  9.7 | 0.6 | 10.3 |  24.0 | 210 | 4 | 3 | 4 |\n|   3.500 |    3.90 | 12.8 | 6.6 | 19.4 |   3.0 |  14 | 2 | 1 | 1 |\n|   4.050 |   17.00 |   NA |  NA |   NA |  13.0 |  38 | 3 | 1 | 1 |\n\n",
            "text/plain": [
              "   BodyWgt  BrainWgt NonD Dream Sleep Span  Gest Pred Exp Danger\n",
              "1  6654.000 5712.0     NA  NA    3.3  38.6  645  3    5   3     \n",
              "2     1.000    6.6    6.3 2.0    8.3   4.5   42  3    1   3     \n",
              "3     3.385   44.5     NA  NA   12.5  14.0   60  1    1   1     \n",
              "4     0.920    5.7     NA  NA   16.5    NA   25  5    2   3     \n",
              "5  2547.000 4603.0    2.1 1.8    3.9  69.0  624  3    5   4     \n",
              "6    10.550  179.5    9.1 0.7    9.8  27.0  180  4    4   4     \n",
              "7     0.023    0.3   15.8 3.9   19.7  19.0   35  1    1   1     \n",
              "8   160.000  169.0    5.2 1.0    6.2  30.4  392  4    5   4     \n",
              "9     3.300   25.6   10.9 3.6   14.5  28.0   63  1    2   1     \n",
              "10   52.160  440.0    8.3 1.4    9.7  50.0  230  1    1   1     \n",
              "11    0.425    6.4   11.0 1.5   12.5   7.0  112  5    4   4     \n",
              "12  465.000  423.0    3.2 0.7    3.9  30.0  281  5    5   5     \n",
              "13    0.550    2.4    7.6 2.7   10.3    NA   NA  2    1   2     \n",
              "14  187.100  419.0     NA  NA    3.1  40.0  365  5    5   5     \n",
              "15    0.075    1.2    6.3 2.1    8.4   3.5   42  1    1   1     \n",
              "16    3.000   25.0    8.6 0.0    8.6  50.0   28  2    2   2     \n",
              "17    0.785    3.5    6.6 4.1   10.7   6.0   42  2    2   2     \n",
              "18    0.200    5.0    9.5 1.2   10.7  10.4  120  2    2   2     \n",
              "19    1.410   17.5    4.8 1.3    6.1  34.0   NA  1    2   1     \n",
              "20   60.000   81.0   12.0 6.1   18.1   7.0   NA  1    1   1     \n",
              "21  529.000  680.0     NA 0.3     NA  28.0  400  5    5   5     \n",
              "22   27.660  115.0    3.3 0.5    3.8  20.0  148  5    5   5     \n",
              "23    0.120    1.0   11.0 3.4   14.4   3.9   16  3    1   2     \n",
              "24  207.000  406.0     NA  NA   12.0  39.3  252  1    4   1     \n",
              "25   85.000  325.0    4.7 1.5    6.2  41.0  310  1    3   1     \n",
              "26   36.330  119.5     NA  NA   13.0  16.2   63  1    1   1     \n",
              "27    0.101    4.0   10.4 3.4   13.8   9.0   28  5    1   3     \n",
              "28    1.040    5.5    7.4 0.8    8.2   7.6   68  5    3   4     \n",
              "29  521.000  655.0    2.1 0.8    2.9  46.0  336  5    5   5     \n",
              "30  100.000  157.0     NA  NA   10.8  22.4  100  1    1   1     \n",
              "⋮  ⋮        ⋮        ⋮    ⋮     ⋮     ⋮     ⋮    ⋮    ⋮   ⋮     \n",
              "33   0.010     0.25  17.9 2.0   19.9   24.0  50  1    1   1     \n",
              "34  62.000  1320.00   6.1 1.9    8.0  100.0 267  1    1   1     \n",
              "35   0.122     3.00   8.2 2.4   10.6     NA  30  2    1   1     \n",
              "36   1.350     8.10   8.4 2.8   11.2     NA  45  3    1   3     \n",
              "37   0.023     0.40  11.9 1.3   13.2    3.2  19  4    1   3     \n",
              "38   0.048     0.33  10.8 2.0   12.8    2.0  30  4    1   3     \n",
              "39   1.700     6.30  13.8 5.6   19.4    5.0  12  2    1   1     \n",
              "40   3.500    10.80  14.3 3.1   17.4    6.5 120  2    1   1     \n",
              "41 250.000   490.00    NA 1.0     NA   23.6 440  5    5   5     \n",
              "42   0.480    15.50  15.2 1.8   17.0   12.0 140  2    2   2     \n",
              "43  10.000   115.00  10.0 0.9   10.9   20.2 170  4    4   4     \n",
              "44   1.620    11.40  11.9 1.8   13.7   13.0  17  2    1   2     \n",
              "45 192.000   180.00   6.5 1.9    8.4   27.0 115  4    4   4     \n",
              "46   2.500    12.10   7.5 0.9    8.4   18.0  31  5    5   5     \n",
              "47   4.288    39.20    NA  NA   12.5   13.7  63  2    2   2     \n",
              "48   0.280     1.90  10.6 2.6   13.2    4.7  21  3    1   3     \n",
              "49   4.235    50.40   7.4 2.4    9.8    9.8  52  1    1   1     \n",
              "50   6.800   179.00   8.4 1.2    9.6   29.0 164  2    3   2     \n",
              "51   0.750    12.30   5.7 0.9    6.6    7.0 225  2    2   2     \n",
              "52   3.600    21.00   4.9 0.5    5.4    6.0 225  3    2   3     \n",
              "53  14.830    98.20    NA  NA    2.6   17.0 150  5    5   5     \n",
              "54  55.500   175.00   3.2 0.6    3.8   20.0 151  5    5   5     \n",
              "55   1.400    12.50    NA  NA   11.0   12.7  90  2    2   2     \n",
              "56   0.060     1.00   8.1 2.2   10.3    3.5  NA  3    1   2     \n",
              "57   0.900     2.60  11.0 2.3   13.3    4.5  60  2    1   2     \n",
              "58   2.000    12.30   4.9 0.5    5.4    7.5 200  3    1   3     \n",
              "59   0.104     2.50  13.2 2.6   15.8    2.3  46  3    2   2     \n",
              "60   4.190    58.00   9.7 0.6   10.3   24.0 210  4    3   4     \n",
              "61   3.500     3.90  12.8 6.6   19.4    3.0  14  2    1   1     \n",
              "62   4.050    17.00    NA  NA     NA   13.0  38  3    1   1     "
            ]
          },
          "metadata": {},
          "output_type": "display_data"
        }
      ]
    },
    {
      "cell_type": "markdown",
      "id": "3f4a0d8a",
      "metadata": {
        "id": "3f4a0d8a"
      },
      "source": [
        "## Análisis univariado:\n",
        "\n",
        "\n",
        "### Medidas de Tendencia Central, posición y coeficiente de variación:\n",
        "\n",
        "Utilizaremos la función summarise de dplyr para encontrar las medidas de tendencia central y de posición de la variable **BodyWgt**, que no tiene datos faltantes:\n",
        "\n"
      ]
    },
    {
      "cell_type": "code",
      "execution_count": 3,
      "id": "6dd67204",
      "metadata": {
        "id": "6dd67204"
      },
      "outputs": [],
      "source": [
        "# Solo seleccionamos variables numéricas y eliminamos NAs (aunque de antemanos sabemos que no tiene NAs)\n",
        "\n"
      ]
    },
    {
      "cell_type": "code",
      "source": [
        "# Calcular resumen estadístico de la variable BodyWgt\n",
        "\n"
      ],
      "metadata": {
        "id": "sBwO4xGwxJCU"
      },
      "id": "sBwO4xGwxJCU",
      "execution_count": 4,
      "outputs": []
    },
    {
      "cell_type": "code",
      "source": [
        "# Calcular moda con count y slice_max\n",
        "\n"
      ],
      "metadata": {
        "id": "UuOoIWQixT4F"
      },
      "id": "UuOoIWQixT4F",
      "execution_count": 5,
      "outputs": []
    },
    {
      "cell_type": "markdown",
      "source": [
        "¿Qué nos dicen estos valores?:\n",
        "\n",
        "| Estadístico                     | Valor      | Interpretación                                                                                                                          |\n",
        "| ------------------------------- | ---------- | --------------------------------------------------------------------------------------------------------------------------------------- |\n",
        "| **media**                       | 198.79     | El peso promedio es muy alto, pero está distorsionado por valores extremos (como elefantes o ballenas).                                 |\n",
        "| **mediana**                     | 3.34       | El valor central realista: la mitad de los animales pesa menos de 3.34 kg. Mucho menor que la media → **asimetría positiva**.           |\n",
        "| **varianza**                    | 808485.13  | Muestra una altísima dispersión de los pesos. Valores grandes como 6654 lo elevan fuertemente.                                          |\n",
        "| **desviación típica**           | 899.16     | Indica gran dispersión respecto a la media. Al igual que la varianza, está **muy afectada por los valores extremos**.                   |\n",
        "| **mínimo**                      | 0.00       | Existen animales extremadamente ligeros (posiblemente error de redondeo o especie muy pequeña).                                         |\n",
        "| **máximo**                      | 6654.00    | Hay especies con más de 6 toneladas de peso. Confirma la existencia de outliers muy altos.                                              |\n",
        "| **rango**                       | 6654.00    | Es la diferencia entre el máximo y el mínimo. Muy alto → **alta variabilidad global**.                                                  |\n",
        "| **IQR (rango intercuartílico)** | 47.60      | El 50% central de los datos está entre 0.6 y 48.2 kg. Mucho más representativo que el rango total.                                      |\n",
        "| **Q1**                          | 0.60       | El 25% de los animales pesa menos de 0.6 kg.                                                                                            |\n",
        "| **Q3**                          | 48.20      | El 75% pesa menos de 48.2 kg.                                                                                                           |\n",
        "| **P10**                         | 0.08       | El 10% de los animales pesa menos de 80 gramos.                                                                                         |\n",
        "| **P90**                         | 205.50     | El 90% pesa menos de 205.5 kg.                                                                                                          |\n",
        "| **P95**                         | 518.20     | El 95% pesa menos de 518.2 kg.                                                                                                          |\n",
        "| **LI (límite inferior)**        | -70.80     | No se usa aquí porque ningún peso puede ser negativo.                                                                                   |\n",
        "| **LS (límite superior)**        | 119.61     | Todo valor mayor que este es considerado outlier según el criterio de 1.5 \\* IQR.                                                       |\n",
        "| **total**                       | 62.00      | Se analizaron 62 observaciones con datos completos para `BodyWgt`.                                                                      |\n",
        "| **outliers**                    | 10.00      | Hay 10 valores considerados **atípicos**.                                                                                               |\n",
        "| **proporción de outliers**      | 0.16 (16%) | Es **una proporción elevada**: casi 1 de cada 6 observaciones es un outlier.                                                            |\n",
        "| **asimetría**                   | 6.25       | Muy por encima de 0 → **fuerte asimetría positiva**. Hay una larga cola hacia la derecha.                                               |\n",
        "| **curtosis**                    | 40.60      | Muy superior a 3 → distribución **leptocúrtica**: concentrada alrededor de la mediana, con colas muy pesadas (muchos valores extremos). |\n",
        "| **Coeficiente de variación**| 452.32%|La desviación típica es más de 4 veces la media.|\n"
      ],
      "metadata": {
        "id": "K939_8DZ0McV"
      },
      "id": "K939_8DZ0McV"
    },
    {
      "cell_type": "markdown",
      "source": [
        "Validación gráfica:"
      ],
      "metadata": {
        "id": "m9bsLK9N43XE"
      },
      "id": "m9bsLK9N43XE"
    },
    {
      "cell_type": "code",
      "source": [
        "#Diagrama de barras de la variable BodyWht\n",
        "\n"
      ],
      "metadata": {
        "id": "v4nRHu1CxhOe"
      },
      "id": "v4nRHu1CxhOe",
      "execution_count": 6,
      "outputs": []
    },
    {
      "cell_type": "code",
      "source": [
        "#Boxplot de la bariable BodyWgt\n"
      ],
      "metadata": {
        "id": "nJqSjoP8x0RK"
      },
      "id": "nJqSjoP8x0RK",
      "execution_count": 7,
      "outputs": []
    },
    {
      "cell_type": "code",
      "source": [
        "#Boxplot sin valores extremos y modificando los límites del eje\n"
      ],
      "metadata": {
        "id": "XeeRghAP-bh3"
      },
      "id": "XeeRghAP-bh3",
      "execution_count": 8,
      "outputs": []
    },
    {
      "cell_type": "markdown",
      "source": [
        "La variable **BodyWgt** tiene una distribución altamente asimétrica y con colas pesadas.\n",
        "\n",
        "Las medidas robustas (mediana, IQR) son mucho más representativas que la media o la desviación típica.\n",
        "\n",
        "Un 16% de los datos son outliers, todos por encima del límite superior.\n",
        "\n",
        "Se recomienda para el análisis:\n",
        "- Trabajar con logaritmos o escalas logarítmicas.\n",
        "- Reportar mediana en lugar de media."
      ],
      "metadata": {
        "id": "tkiCQUdg-91_"
      },
      "id": "tkiCQUdg-91_"
    },
    {
      "cell_type": "code",
      "source": [
        "# Filtrar valores mayores que 0 antes de aplicar el log\n",
        "# Crear una nueva columna con logaritmo base 10\n",
        "\n"
      ],
      "metadata": {
        "id": "ZhUlA4FU7bfi"
      },
      "id": "ZhUlA4FU7bfi",
      "execution_count": 9,
      "outputs": []
    },
    {
      "cell_type": "code",
      "source": [
        "# Calcular resumen estadístico de la variable BodyWgt\n",
        "\n"
      ],
      "metadata": {
        "id": "92QFiHpH77kJ"
      },
      "id": "92QFiHpH77kJ",
      "execution_count": 10,
      "outputs": []
    },
    {
      "cell_type": "markdown",
      "source": [
        "### Tablas para informes\n",
        "\n",
        "Usamos de la librería knitr de R, la función kable que permite crear tablas en documentos R Markdown."
      ],
      "metadata": {
        "id": "mK9PMhf09_AH"
      },
      "id": "mK9PMhf09_AH"
    },
    {
      "cell_type": "code",
      "source": [
        "# Mostrar tabla\n"
      ],
      "metadata": {
        "id": "4DNmC8IM-CsA"
      },
      "id": "4DNmC8IM-CsA",
      "execution_count": 11,
      "outputs": []
    },
    {
      "cell_type": "code",
      "source": [
        "#histograma\n",
        "\n",
        "\n",
        "\n",
        "#boxplot\n",
        "\n",
        "\n",
        "\n"
      ],
      "metadata": {
        "id": "0nBymPch7lMp"
      },
      "id": "0nBymPch7lMp",
      "execution_count": 12,
      "outputs": []
    },
    {
      "cell_type": "markdown",
      "source": [
        "¿La variable **BodyWgt** sigue una distribución normal?"
      ],
      "metadata": {
        "id": "DWhfMKHmAKza"
      },
      "id": "DWhfMKHmAKza"
    },
    {
      "cell_type": "code",
      "source": [
        "# Crear gráfico: Histograma de la variable BodyWgt con curva normal superpuesta\n",
        "\n",
        "\n",
        "\n",
        "\n",
        "\n"
      ],
      "metadata": {
        "id": "MDDb1jWW9VKK"
      },
      "id": "MDDb1jWW9VKK",
      "execution_count": 13,
      "outputs": []
    },
    {
      "cell_type": "code",
      "source": [
        "#Diagramas q-q plot:\n",
        "\n",
        "\n",
        "\n"
      ],
      "metadata": {
        "id": "GxNEly8Z9R46"
      },
      "id": "GxNEly8Z9R46",
      "execution_count": 14,
      "outputs": []
    },
    {
      "cell_type": "code",
      "source": [
        "#Test de normalidad\n",
        "\n",
        "\n"
      ],
      "metadata": {
        "id": "Bd1zPO4H9PQU"
      },
      "id": "Bd1zPO4H9PQU",
      "execution_count": 15,
      "outputs": []
    },
    {
      "cell_type": "markdown",
      "source": [
        "¿y la variable **log_BodyWgt**?"
      ],
      "metadata": {
        "id": "j3dZfxR4AeHG"
      },
      "id": "j3dZfxR4AeHG"
    },
    {
      "cell_type": "code",
      "source": [
        "# Crear gráfico: Histograma del logaritmo de BodyWgt con una curva normal superpuesta\n",
        "\n",
        "\n",
        "\n"
      ],
      "metadata": {
        "id": "IBtJDnwvAd00"
      },
      "id": "IBtJDnwvAd00",
      "execution_count": 16,
      "outputs": []
    },
    {
      "cell_type": "code",
      "source": [
        "#qqplot varaible log\n",
        "\n"
      ],
      "metadata": {
        "id": "822wDNcRAvJw"
      },
      "id": "822wDNcRAvJw",
      "execution_count": 17,
      "outputs": []
    },
    {
      "cell_type": "code",
      "source": [
        "#test de normalidad\n",
        "\n",
        "\n",
        "\n",
        "\n"
      ],
      "metadata": {
        "id": "2jsnEKPzA0GE"
      },
      "id": "2jsnEKPzA0GE",
      "execution_count": 18,
      "outputs": []
    },
    {
      "cell_type": "markdown",
      "source": [
        "Podemos así ver la importancia del análisis inicial y de la conveniencia de usar transformaciones de las variables."
      ],
      "metadata": {
        "id": "BvMNDRvPBKCM"
      },
      "id": "BvMNDRvPBKCM"
    },
    {
      "cell_type": "markdown",
      "source": [
        "## Análisis de Correlación y Covarianza\n",
        "\n",
        "Explorar relaciones entre variables cuantitativas, identificar patrones lineales y cuantificar la fuerza y dirección de esas relaciones mediante medidas como correlación y covarianza.\n",
        "\n",
        "- **Correlación de Pearson (cor())**\n",
        "\n",
        "Variante normalizada de la covarianza.\n",
        "\n",
        "Valores que oscilan entre -1 y 1:\n",
        "\n",
        "* +1: correlación perfecta positiva\n",
        "* 0: sin relación lineal\n",
        "* -1: correlación perfecta negativa\n",
        "\n",
        "Supone linealidad y normalidad de las variables.\n",
        "\n",
        "- **Correlación de Spearman**\n",
        "\n",
        "Se basa en rangos → no asume normalidad ni linealidad.\n",
        "Útil para datos ordinales o relaciones no lineales monótonas.\n",
        "\n",
        "- **Covarianza (cov())**\n",
        "\n",
        "Mide la tendencia conjunta de dos variables a aumentar o disminuir.\n",
        "\n",
        "* Valor positivo: las variables tienden a crecer juntas.\n",
        "* Valor negativo: una aumenta y la otra disminuye.\n",
        "\n",
        "Muy sensible a la escala de las variables\n",
        "\n"
      ],
      "metadata": {
        "id": "UsUYNtHdBTtz"
      },
      "id": "UsUYNtHdBTtz"
    },
    {
      "cell_type": "markdown",
      "source": [
        "\n",
        "### Correlación:\n",
        "\n",
        "Comenzamos con el análisis de correlación"
      ],
      "metadata": {
        "id": "Nf3IvYrdP96P"
      },
      "id": "Nf3IvYrdP96P"
    },
    {
      "cell_type": "code",
      "source": [
        "# Comenzamos seleccionando solo variables numéricas completas\n",
        "# recordemos que tenemos que convertir las trews variables pred, exp y danger en factores:\n",
        "\n",
        "# Conversión de variables numéricas a factores (categorías)\n",
        "\n",
        "\n",
        "\n",
        "\n",
        "#Para no perder los datos, vamos a imputar con ridge, como hicimos en el módulo II:\n",
        "\n",
        "\n",
        "\n",
        "# Aplicar imputación por regresión lineal penalizada (ridge)\n",
        "\n",
        "\n"
      ],
      "metadata": {
        "id": "kEgjeiaoDeqS"
      },
      "id": "kEgjeiaoDeqS",
      "execution_count": 19,
      "outputs": []
    },
    {
      "cell_type": "code",
      "source": [
        "# Correlación de Pearson\n",
        "\n",
        "\n"
      ],
      "metadata": {
        "id": "9jCwjxbhFjRC"
      },
      "id": "9jCwjxbhFjRC",
      "execution_count": 20,
      "outputs": []
    },
    {
      "cell_type": "code",
      "source": [
        "# Correlación de Spearman\n",
        "\n",
        "\n"
      ],
      "metadata": {
        "id": "xxOZIf-eG_Af"
      },
      "id": "xxOZIf-eG_Af",
      "execution_count": 21,
      "outputs": []
    },
    {
      "cell_type": "markdown",
      "source": [
        "| Característica      | **Correlación de Pearson**            | **Correlación de Spearman**                                  |\n",
        "| ------------------- | ------------------------------------- | ------------------------------------------------------------ |\n",
        "| Tipo de relación    | Lineal                                | Monótona (creciente o decreciente, no necesariamente lineal) |\n",
        "| Datos esperados     | Cuantitativos, normales, sin outliers | Cuantitativos u ordinales, **no requiere normalidad**        |\n",
        "| Sensible a outliers |  Sí, mucho                           |  No, al trabajar con rangos                                 |\n",
        "| Escala utilizada    | Escala original                       | Rangos (datos convertidos a posiciones)                      |\n",
        "\n",
        "\n",
        "**Comparación visual entre ambas matrices**\n",
        "\n",
        "* Matriz de Pearson:\n",
        "\n",
        "Se observan correlaciones muy altas (casi 1) entre algunas variables como BodyWgt y BrainWgt.\n",
        "\n",
        "También aparecen correlaciones negativas marcadas entre variables como Gest y Sleep.\n",
        "\n",
        "Sin embargo, la intensidad puede estar amplificada por outliers o por relaciones no perfectamente lineales.\n",
        "\n",
        "* Matriz de Spearman:\n",
        "\n",
        "Las correlaciones siguen una tendencia similar, pero son más moderadas (es decir, no tan extremas).\n",
        "\n",
        "Las relaciones como BrainWgt ~ BodyWgt siguen siendo fuertes, pero no perfectas.\n",
        "\n",
        "Algunas correlaciones negativas están más suavizadas, lo cual puede reflejar que las relaciones no son lineales, pero sí monótonas.\n",
        "\n",
        "                                                                                             \n",
        "- **Lineal**:\n",
        "\n",
        "Cuando los datos siguen aproximadamente una **línea recta**. Es decir, por cada incremento en X, Y cambia siempre en proporción constante.                                          \n",
        "\n",
        "- **Monótona**:\n",
        "\n",
        "Cuando una variable **siempre aumenta o disminuye con la otra**, pero no necesariamente en línea recta. Puede crecer más rápido, más lento.\n"
      ],
      "metadata": {
        "id": "PDBOj4SKJ438"
      },
      "id": "PDBOj4SKJ438"
    },
    {
      "cell_type": "markdown",
      "source": [
        "**Podemos responder entonces:**\n",
        "\n",
        "- ¿Hay colinealidad?\n",
        "- ¿Qué variables parecen tener una relación no lineal?\n",
        "- ¿Conviene usar Spearman si hay outliers?"
      ],
      "metadata": {
        "id": "CGeIK17bMgoI"
      },
      "id": "CGeIK17bMgoI"
    },
    {
      "cell_type": "markdown",
      "source": [
        "### Covarianza:"
      ],
      "metadata": {
        "id": "VdIyymrdPOuT"
      },
      "id": "VdIyymrdPOuT"
    },
    {
      "cell_type": "code",
      "source": [
        "# Paso 1: Convertimos la matriz de covarianza en data frame y la reestructuramos en formato largo\n",
        "\n",
        "\n",
        "\n"
      ],
      "metadata": {
        "id": "h31Aokv5Ngwv"
      },
      "id": "h31Aokv5Ngwv",
      "execution_count": 22,
      "outputs": []
    },
    {
      "cell_type": "code",
      "source": [
        "# Paso 2: Visualizamos la matriz de covarianza como un mapa de calor con valores incluidos\n",
        "\n",
        "\n",
        "\n",
        "\n"
      ],
      "metadata": {
        "id": "wtew8Y1kIdpX"
      },
      "id": "wtew8Y1kIdpX",
      "execution_count": 23,
      "outputs": []
    },
    {
      "cell_type": "markdown",
      "source": [
        "¿Qué vemos?:\n",
        "\n",
        "El valor numérico de la covarianza entre dos variables (p. ej. entre BodyWgt y BrainWgt) está asociado con un color rojo más intenso, indicando mayor covarianza positiva.\n",
        "\n",
        "Los valores más cercanos a 0 (blanco o rosa muy claro) indican poca o nula relación lineal conjunta.\n",
        "\n",
        "\n",
        "1. Covarianzas altas y positivas:\n",
        "\n",
        "* BodyWgt con BrainWgt\n",
        "\n",
        "* BodyWgt con Gest\n",
        "\n",
        "* BrainWgt con Gest\n",
        "\n",
        "\n",
        "Estas variables tienden a variar conjuntamente: cuando una aumenta, las otras también. Esto tiene sentido biológico, ya que animales más grandes (mayor BodyWgt) tienden a tener cerebros más grandes (BrainWgt) y gestaciones más largas (Gest).\n",
        "\n",
        "2. Covarianzas negativas\n",
        "\n",
        "* BodyWgt con Sleep\n",
        "* BodyWgt con NonD\n",
        "* Gest con Sleep\n",
        "\n",
        "\n",
        "Estas relaciones indican que cuando una variable aumenta, la otra tiende a disminuir.\n",
        "\n",
        "Por ejemplo:\n",
        "\n",
        "Los animales más grandes tienden a dormir menos.\n",
        "Los animales con mayor gestación también duermen menos (posiblemente especies más longevas, activas o expuestas).\n",
        "\n",
        "3. Covarianzas cercanas a cero\n",
        "\n",
        "* Dream con casi todas las demás variables.\n",
        "* NonD con Dream, Gest, etc.\n",
        "\n",
        "\n",
        "No hay una relación clara ni fuerte entre estas variables en términos de variación conjunta.\n",
        "\n",
        "Es **importante* tener en cuenta que la covarianza depende de las unidades de las variables, por eso hay números muy grandes (como BrainWgt en gramos, por ejemplo).\n",
        "\n",
        "Para comparar más fácilmente entre pares de variables, es mejor usar la correlación, que está normalizada entre -1 y 1.\n",
        "\n",
        "Esta matriz sí es muy útil para detectar agrupaciones de variables altamente relacionadas, como BodyWgt, BrainWgt, Gest."
      ],
      "metadata": {
        "id": "wt9NRS2mSuRP"
      },
      "id": "wt9NRS2mSuRP"
    },
    {
      "cell_type": "markdown",
      "source": [
        "## Tablas de frecuencias y análisis de variables categóricas\n",
        "\n",
        "\n",
        "En esta parte del módulo, nos enfocaremos en reconocer y analizar variables categóricas nominales y ordinales.\n",
        "\n",
        "Para ello, elaboraremos tablas de frecuencias (absolutas y relativas).\n",
        "\n",
        "Vamos a representar visualmente la distribución de variables categóricas.\n",
        "\n",
        "Y exploraremos asociaciones entre variables categóricas (introducción a tablas de contingencia)."
      ],
      "metadata": {
        "id": "G-PTjRpeTkKe"
      },
      "id": "G-PTjRpeTkKe"
    },
    {
      "cell_type": "code",
      "source": [],
      "metadata": {
        "collapsed": true,
        "id": "vx2nFwgDVUd7"
      },
      "id": "vx2nFwgDVUd7",
      "execution_count": 2,
      "outputs": []
    },
    {
      "cell_type": "code",
      "source": [
        "# Cargar el paquete janitor, que incluye funciones útiles para el manejo de tablas categóricas\n",
        "\n",
        "# Tabla de frecuencias absolutas y relativas para la variable 'Danger'\n",
        "\n",
        "\n",
        "\n",
        "\n",
        "\n",
        "# Tabla de frecuencias para la variable 'Pred'\n",
        "\n",
        "\n",
        "\n",
        "\n",
        "\n",
        "\n",
        "# Tabla de frecuencias para la variable 'Exp'\n",
        "\n",
        "\n",
        "\n",
        "\n",
        "\n"
      ],
      "metadata": {
        "id": "ETdD0ueBUpTa"
      },
      "id": "ETdD0ueBUpTa",
      "execution_count": 3,
      "outputs": []
    },
    {
      "cell_type": "code",
      "source": [
        "# Gráfico de barras de la variable Danger\n",
        "\n",
        "\n"
      ],
      "metadata": {
        "id": "SKbtmegZVe8O"
      },
      "id": "SKbtmegZVe8O",
      "execution_count": null,
      "outputs": []
    },
    {
      "cell_type": "code",
      "source": [
        "# Gráfico de barras de la variable Danger ordenado descendentemente\n",
        "\n",
        "\n",
        "\n"
      ],
      "metadata": {
        "id": "CoMw0ATwVkhh"
      },
      "id": "CoMw0ATwVkhh",
      "execution_count": null,
      "outputs": []
    },
    {
      "cell_type": "code",
      "source": [
        "# Para graficar un pie-chart\n",
        "# ggplo2 no ofrece directamente un pie-chart, por lo que se deben hacer algunos cálculos\n",
        "# Paso 1: Calcular la tabla de frecuencias\n",
        "\n",
        "\n",
        "\n",
        "\n",
        "\n",
        "\n",
        "# Paso 2: Crear el gráfico de pastel\n",
        "\n",
        "\n",
        "\n",
        "\n",
        "  # Agregar etiquetas de porcentaje centradas en cada porción\n",
        "\n",
        "\n",
        "\n",
        "\n",
        "  # Agregar títulos y leyenda\n",
        "\n",
        "\n",
        "\n",
        "\n",
        "  # Modificar el tamaño del título y leyenda\n",
        "\n",
        "\n",
        "\n"
      ],
      "metadata": {
        "id": "BeRCaAUTb-YA"
      },
      "id": "BeRCaAUTb-YA",
      "execution_count": null,
      "outputs": []
    },
    {
      "cell_type": "code",
      "source": [
        "#Diagarama de barras de la bariable Exp ordenado por frecuencia descendente\n",
        "\n",
        "\n"
      ],
      "metadata": {
        "id": "vpNqEZdiWAHI"
      },
      "id": "vpNqEZdiWAHI",
      "execution_count": null,
      "outputs": []
    },
    {
      "cell_type": "code",
      "source": [
        "#Diagrama de frecuencias variable Pred\n",
        "\n",
        "\n",
        "\n"
      ],
      "metadata": {
        "id": "nYSs5OW4WIYX"
      },
      "id": "nYSs5OW4WIYX",
      "execution_count": null,
      "outputs": []
    },
    {
      "cell_type": "code",
      "source": [
        "#Para poder agregar la etiqueta de los porcentajes:\n",
        "\n",
        "# Paso 1: Calcular las frecuencias relativas\n",
        "\n",
        "\n",
        "\n",
        "\n",
        "\n",
        "# Paso 2: Gráfico con etiquetas\n",
        "\n",
        "\n",
        "\n",
        "\n"
      ],
      "metadata": {
        "id": "iGtt-3GYW3Nu"
      },
      "id": "iGtt-3GYW3Nu",
      "execution_count": null,
      "outputs": []
    },
    {
      "cell_type": "markdown",
      "source": [
        "### Tablas cruzadas"
      ],
      "metadata": {
        "id": "XcB5bBfd87Qu"
      },
      "id": "XcB5bBfd87Qu"
    },
    {
      "cell_type": "code",
      "source": [
        "# Tabla cruzada entre dos variables categóricas\n",
        "# Tabla cruzada con porcentajes por fila y renombrado\n",
        "\n",
        "\n",
        "\n",
        "\n",
        "\n",
        "\n"
      ],
      "metadata": {
        "id": "55p4_f4RWa9H"
      },
      "id": "55p4_f4RWa9H",
      "execution_count": null,
      "outputs": []
    },
    {
      "cell_type": "code",
      "source": [
        "#Diagrama de barras con dos variables categóricas e inclusión de la frecuencia\n",
        "\n",
        "# Paso 1: Calcular proporciones por grupo\n",
        "\n",
        "\n",
        "\n",
        "\n",
        "\n",
        "# Paso 2: Gráfico de barras apiladas con etiquetas\n",
        "\n",
        "\n",
        "\n",
        "\n",
        "\n",
        "\n",
        "\n"
      ],
      "metadata": {
        "id": "VD0Llg4ZWjPp"
      },
      "id": "VD0Llg4ZWjPp",
      "execution_count": null,
      "outputs": []
    },
    {
      "cell_type": "code",
      "source": [
        "# Análisis de asociación o relación entre dos variables categóricas\n",
        "\n",
        "\n",
        "\n",
        "\n"
      ],
      "metadata": {
        "id": "lj4gvhVpWrzx"
      },
      "id": "lj4gvhVpWrzx",
      "execution_count": null,
      "outputs": []
    },
    {
      "cell_type": "markdown",
      "source": [
        "* Si el valor-p es bajo (generalmente < 0.05):\n",
        "\n",
        "Hay evidencia para rechazar la hipótesis nula, por lo que las variables sí están asociadas.\n",
        "\n",
        "* Si el valor-p es alto:\n",
        "\n",
        "No rechazamos la hipótesis nula, por lo que no hay suficiente evidencia para concluir que hay una relación, por lo que las variables parecen independientes.\n",
        "\n",
        "\n",
        "\n",
        "El test de Chi-cuadrado asume que:\n",
        "\n",
        "Al menos el 80% de las celdas deben tener frecuencias esperadas ≥ 5.\n",
        "\n",
        "Ninguna celda debería tener una frecuencia esperada menor que 1.\n",
        "\n",
        "Si esto no se cumple, la aproximación al valor-p usando la distribución Chi² puede no ser confiable, y por eso R nos advierte.\n",
        "\n"
      ],
      "metadata": {
        "id": "d50LNTGN916p"
      },
      "id": "d50LNTGN916p"
    },
    {
      "cell_type": "markdown",
      "source": [
        "## Distribuciones de probabilidad\n",
        "\n",
        "\n",
        "¿Qué es una distribución de probabilidad?\n",
        "\n",
        "Una distribución de probabilidad describe cómo se distribuyen los valores posibles de una variable aleatoria. Es un modelo matemático que asigna una probabilidad a cada valor (discreto) o rango de valores (continuo).\n",
        "\n",
        "Para variables discretas, usamos funciones de masa de probabilidad (como binomial o Poisson).\n",
        "Para variables continuas, usamos funciones de densidad (como la normal o exponencial).\n",
        "\n",
        "\n",
        "\n",
        "\n"
      ],
      "metadata": {
        "id": "PurkXu7Fn8ap"
      },
      "id": "PurkXu7Fn8ap"
    },
    {
      "cell_type": "markdown",
      "source": [
        "### Distribución normal:\n",
        "\n",
        "Es una de las más comunes y útiles en estadística:\n",
        "\n",
        "Tiene forma de campana simétrica.\n",
        "\n",
        "Se define por dos parámetros:\n",
        "\n",
        "* Media (μ)\n",
        "* Desviación estándar (σ)\n",
        "\n",
        "**Ejemplo:**\n",
        "\n",
        "Comparar la distribución empírica de una variable cuantitativa con la teórica normal, usando ggplot2.\n",
        "\n",
        "Usaremos la variable log_BodyWgt (peso logarítmico), ya que anteriormente mostramos que la transformación mejora la simetría y reduce outliers."
      ],
      "metadata": {
        "id": "zlFaEC_Zpc3M"
      },
      "id": "zlFaEC_Zpc3M"
    },
    {
      "cell_type": "code",
      "source": [
        "# Crear gráfico con histograma y curva de densidad normal teórica\n",
        "\n",
        "\n",
        "\n",
        "  # Histograma con densidad (no frecuencia)\n",
        "\n",
        "\n",
        "\n",
        "\n",
        "  # Curva de densidad normal teórica ajustada a los datos\n",
        "\n",
        "\n",
        "\n",
        "\n",
        "\n",
        "  # Etiquetas y estilo\n",
        "\n",
        "\n",
        "\n",
        "\n"
      ],
      "metadata": {
        "id": "isKnWMVUo0zI"
      },
      "id": "isKnWMVUo0zI",
      "execution_count": null,
      "outputs": []
    },
    {
      "cell_type": "markdown",
      "source": [
        "--------------\n",
        "| Función   | ¿Qué hace?                       | Ejemplo práctico                |\n",
        "| --------- | -------------------------------- | ------------------------------- |\n",
        "| `rnorm()` | Genera datos aleatorios          | Simulación de muestras          |\n",
        "| `dnorm()` | Densidad (altura de la curva)    | Dibujar curva normal            |\n",
        "| `pnorm()` | Probabilidad acumulada           | Calcular $P(X < x)$             |\n",
        "| `qnorm()` | Cuantil inverso (valor de corte) | Buscar z tal que $P(X < z) = p$ |\n",
        "\n",
        "-------------"
      ],
      "metadata": {
        "id": "PH47zSRTAmf0"
      },
      "id": "PH47zSRTAmf0"
    },
    {
      "cell_type": "markdown",
      "source": [
        "**Ejercicio**:\n",
        "\n",
        "Se sabe que el tiempo promedio que duerme un mamífero adulto es de 10 horas al día, con una desviación estándar de 2 horas.\n",
        "Se asume que los tiempos de sueño siguen una distribución normal.\n",
        "\n",
        "\n",
        "Grafica la distribución normal con μ=10 y σ=2.\n",
        "\n",
        "Calcula las siguientes probabilidades:\n",
        "* Que un mamífero duerma más de 12 horas al día.\n",
        "* Que un mamífero duerma entre 8 y 12 horas.\n",
        "* Que un mamífero duerma menos de 6 horas.\n",
        "\n",
        "Visualiza las áreas bajo la curva correspondientes a cada probabilidad.\n",
        "\n",
        "Interpreta los resultados."
      ],
      "metadata": {
        "id": "lndCe_ndytE7"
      },
      "id": "lndCe_ndytE7"
    },
    {
      "cell_type": "code",
      "source": [
        "# Parámetros de la distribución\n",
        "mu <- 10      # media\n",
        "sigma <- 2    # desviación estándar\n",
        "\n",
        "# Secuencia de valores x para graficar la curva\n",
        "x_vals <- seq(0, 20, by = 0.1)\n",
        "\n",
        "# Crear curva de densidad\n",
        "\n",
        "\n",
        "\n",
        "\n",
        "# Cálculo de las probabilidades:\n",
        "# a) P(X > 12)\n",
        "\n",
        "\n",
        "\n",
        "\n",
        "# b) P(8 < X < 12)\n",
        "\n",
        "\n",
        "\n",
        "\n",
        "# c) P(X < 6)\n",
        "\n",
        "\n",
        "\n",
        "\n",
        "# Resultados\n",
        "\n",
        "\n"
      ],
      "metadata": {
        "id": "nWc5K5Zq0KtN"
      },
      "id": "nWc5K5Zq0KtN",
      "execution_count": 4,
      "outputs": []
    },
    {
      "cell_type": "markdown",
      "source": [
        "### Distribución Binomial\n",
        "\n",
        "Modela el número de éxitos en un número fijo de ensayos independientes con dos posibles resultados: éxito o fracaso.\n",
        "\n",
        "**Ejemplo típico:**\n",
        "\n",
        "Lanzar una moneda 10 veces.\n",
        "Probabilidad de obtener 6 caras.\n",
        "\n",
        "Parámetros de esta distribución:\n",
        "* n = número de ensayos\n",
        "* p = probabilidad de éxito"
      ],
      "metadata": {
        "id": "mdHBLQh5qu-h"
      },
      "id": "mdHBLQh5qu-h"
    },
    {
      "cell_type": "code",
      "source": [
        "# Distribución binomial: 20 ensayos, probabilidad de éxito 0.3\n",
        "\n",
        "\n",
        "\n",
        "\n",
        "\n",
        "# Gráfico de barras de la distribución\n",
        "\n",
        "\n",
        "\n",
        "\n",
        "\n"
      ],
      "metadata": {
        "id": "bftgJROtq833"
      },
      "id": "bftgJROtq833",
      "execution_count": null,
      "outputs": []
    },
    {
      "cell_type": "markdown",
      "source": [
        "-------------------\n",
        "| Función                 | Qué hace                                              | Ejemplo                              |\n",
        "| ----------------------- | ----------------------------------------------------- | ------------------------------------ |\n",
        "| `rbinom(n, size, prob)` | Simula datos binomiales (n muestras de tamaño `size`) | `rbinom(10, size = 20, prob = 0.5)`  |\n",
        "| `dbinom(x, size, prob)` | Probabilidad exacta $P(X = x)$                        | `dbinom(5, size = 10, prob = 0.5)`   |\n",
        "| `pbinom(q, size, prob)` | Probabilidad acumulada $P(X \\leq q)$                  | `pbinom(6, 10, 0.5)` → $P(X \\leq 6)$ |\n",
        "| `qbinom(p, size, prob)` | Cuantil: valor $x$ tal que $P(X \\leq x) = p$          | `qbinom(0.95, 10, 0.5)`              |\n",
        "\n",
        "-------------\n"
      ],
      "metadata": {
        "id": "fOq775H6A--z"
      },
      "id": "fOq775H6A--z"
    },
    {
      "cell_type": "markdown",
      "source": [
        "**Ejercicio**\n",
        "\n",
        "Un grupo de biólogos está evaluando la peligrosidad de ciertas especies animales. De acuerdo con registros previos, aproximadamente el 40% de los animales evaluados son considerados peligrosos. Se eligen 20 animales al azar.\n",
        "\n",
        "Queremos modelar este proceso como un experimento binomial con: n=20 ensayos (animales seleccionados)\n",
        "y p=0.40 la probabilidad de éxito (que un animal sea peligroso)\n",
        "\n",
        "Para ello, simula la distribución binomial correspondiente al número de animales peligrosos esperados en una muestra de 20.\n",
        "\n",
        "Visualiza la distribución usando un gráfico de barras.\n",
        "\n",
        "Calcula la probabilidad de que:\n",
        "* Exactamente 8 animales sean peligrosos.\n",
        "* Menos de 5 animales sean peligrosos.\n",
        "* Al menos 10 animales sean peligrosos.\n",
        "Interpreta los resultados."
      ],
      "metadata": {
        "id": "xXZ85dh1xkLz"
      },
      "id": "xXZ85dh1xkLz"
    },
    {
      "cell_type": "code",
      "source": [
        "# Parámetros\n",
        "n <- 20      # número de ensayos\n",
        "p <- 0.40    # probabilidad de éxito\n",
        "\n",
        "# Crear distribución binomial\n",
        "binom_df <- data.frame(\n",
        "  x = 0:n,\n",
        "  prob = dbinom(0:n, size = n, prob = p)\n",
        ")\n",
        "\n",
        "# Visualización\n",
        "\n",
        "\n",
        "\n",
        "\n",
        "\n",
        "# Cálculos de probabilidades específicas\n",
        "\n",
        "\n",
        "\n",
        "\n",
        "\n",
        "# Mostrar resultados\n",
        "\n",
        "\n",
        "\n",
        "\n"
      ],
      "metadata": {
        "id": "g7J4ZE2Mx7b6"
      },
      "id": "g7J4ZE2Mx7b6",
      "execution_count": 5,
      "outputs": []
    },
    {
      "cell_type": "markdown",
      "source": [
        "### Distribución de Poisson\n",
        "\n",
        "Modela el número de eventos que ocurren en un intervalo de tiempo o espacio cuando son raros y aleatorios.\n",
        "\n",
        "**Ejemplo típico:**\n",
        "\n",
        "* Número de llamadas por minuto a un centro de atención.\n",
        "* Número de accidentes en una carretera por día.\n",
        "\n",
        "Parámetro:\n",
        "\n",
        "* λ = número medio de eventos en el intervalo.\n",
        "* Si, X∼Poisson(λ), entonces la esperanza y varianza son iguales a λ."
      ],
      "metadata": {
        "id": "420BnyrxrLa7"
      },
      "id": "420BnyrxrLa7"
    },
    {
      "cell_type": "code",
      "source": [
        "# Distribución de Poisson con media 5\n",
        "\n",
        "\n",
        "\n",
        "\n",
        "\n"
      ],
      "metadata": {
        "id": "_BZ1TBRQri2g"
      },
      "id": "_BZ1TBRQri2g",
      "execution_count": null,
      "outputs": []
    },
    {
      "cell_type": "markdown",
      "source": [
        "--------------------\n",
        "\n",
        "| Función            | Qué hace                                               | Ejemplo                  |\n",
        "| ------------------ | ------------------------------------------------------ | ------------------------ |\n",
        "| `rpois(n, lambda)` | Simula conteos con media $\\lambda$                     | `rpois(10, lambda = 4)`  |\n",
        "| `dpois(x, lambda)` | Probabilidad exacta $P(X = x)$                         | `dpois(2, lambda = 3)`   |\n",
        "| `ppois(q, lambda)` | Probabilidad acumulada $P(X \\leq q)$                   | `ppois(4, lambda = 2.5)` |\n",
        "| `qpois(p, lambda)` | Cuantil: valor mínimo $x$ tal que $P(X \\leq x) \\geq p$ | `qpois(0.9, lambda = 3)` |\n",
        "\n",
        "\n",
        "--------------------\n"
      ],
      "metadata": {
        "id": "rWKM-zkoBKmv"
      },
      "id": "rWKM-zkoBKmv"
    },
    {
      "cell_type": "markdown",
      "source": [
        "**Ejercicio**:\n",
        "\n",
        "Un investigador estudia el número de despertares breves que tienen ciertos animales durante el sueño. Se ha observado que, en promedio, ocurren 3 despertares por noche.\n",
        "\n",
        "Queremos modelar este proceso como una distribución de Poisson, con: λ=3 número medio de eventos por unidad de tiempo (noche)\n",
        "\n",
        "\n",
        "Crea la distribución de Poisson con λ=3 para los valores posibles de 0 a 10 despertares.\n",
        "\n",
        "Visualiza la distribución mediante un gráfico de barras.\n",
        "\n",
        "Calcula las siguientes probabilidades:\n",
        "\n",
        "* Que haya exactamente 2 despertares.\n",
        "* Que haya 4 o más despertares.\n",
        "* Que haya entre 1 y 3 despertares (inclusive).\n",
        "\n",
        "Interpreta los resultados."
      ],
      "metadata": {
        "id": "sGD0HXoK0iLU"
      },
      "id": "sGD0HXoK0iLU"
    },
    {
      "cell_type": "code",
      "source": [
        "# Parámetro de la distribución\n",
        "lambda <- 3\n",
        "\n",
        "# Valores posibles de X (número de despertares)\n",
        "x_vals <- 0:10\n",
        "\n",
        "# Crear tabla de probabilidades\n",
        "poisson_df <- data.frame(\n",
        "  x = x_vals,\n",
        "  prob = dpois(x_vals, lambda = lambda)\n",
        ")\n",
        "\n",
        "\n",
        "\n",
        "# Cálculo de las probabilidades:\n",
        "\n",
        "# a) P(X = 2)\n",
        "\n",
        "\n",
        "\n",
        "\n",
        "\n",
        "# b) P(X ≥ 4)\n",
        "\n",
        "\n",
        "\n",
        "\n",
        "\n",
        "# c) P(1 ≤ X ≤ 3)\n",
        "\n",
        "\n",
        "\n",
        "\n",
        "\n",
        "# Mostrar resultados\n",
        "\n",
        "\n",
        "\n",
        "\n"
      ],
      "metadata": {
        "id": "wrcYNJ7u02Ec"
      },
      "id": "wrcYNJ7u02Ec",
      "execution_count": 6,
      "outputs": []
    },
    {
      "cell_type": "markdown",
      "source": [
        "### Distribución exponencial:\n",
        "\n",
        "La distribución exponencial es usada para modelar el tiempo entre eventos en un proceso que ocurre de manera aleatoria y continua a una tasa constante.\n",
        "\n",
        "Tiene un solo parámetro: λ (lambda) = tasa de ocurrencia de eventos por unidad de tiempo\n",
        "\n",
        "- **Media**: 1/λ\n",
        "\n",
        "- **Varianza**: 1/λ^2\n"
      ],
      "metadata": {
        "id": "rOKqyGHEtkLK"
      },
      "id": "rOKqyGHEtkLK"
    },
    {
      "cell_type": "code",
      "source": [
        "set.seed(123)  # reproducibilidad\n",
        "\n",
        "# Simular 200 tiempos entre eventos con tasa lambda = 0.5\n",
        "# (es decir, en promedio un evento cada 2 unidades de tiempo)\n",
        "exp_data <- rexp(n = 200, rate = 0.5)\n",
        "\n",
        "# Crear dataframe\n",
        "exp_df <- data.frame(tiempo = exp_data)\n",
        "\n",
        "\n",
        "#Crea el histograma para el tiempo\n",
        "\n",
        "\n",
        "\n"
      ],
      "metadata": {
        "id": "ACel9x89t5RB"
      },
      "id": "ACel9x89t5RB",
      "execution_count": 7,
      "outputs": []
    },
    {
      "cell_type": "markdown",
      "source": [
        "--------------------\n",
        "| Función         | Qué hace                                     | Ejemplo                 |\n",
        "| --------------- | -------------------------------------------- | ----------------------- |\n",
        "| `rexp(n, rate)` | Simula datos de tiempos de espera            | `rexp(10, rate = 0.2)`  |\n",
        "| `dexp(x, rate)` | Densidad: valor de $f(x)$                    | `dexp(3, rate = 0.5)`   |\n",
        "| `pexp(q, rate)` | Probabilidad acumulada $P(X \\leq q)$         | `pexp(4, rate = 0.2)`   |\n",
        "| `qexp(p, rate)` | Cuantil: valor $x$ tal que $P(X \\leq x) = p$ | `qexp(0.9, rate = 0.2)` |\n",
        "\n",
        "--------------------"
      ],
      "metadata": {
        "id": "nLxFkWWjBj1V"
      },
      "id": "nLxFkWWjBj1V"
    },
    {
      "cell_type": "markdown",
      "source": [
        "Ejercicio:\n",
        "\n",
        "Simula una variable que represente los tiempos entre visitas a una estación de observación de animales. Supón que los eventos ocurren a una tasa constante de 0.25 visitas por hora.\n",
        "\n",
        "Simula 300 observaciones usando una distribución exponencial con rate = 0.25.\n",
        "\n",
        "Grafica el histograma junto con la curva teórica de densidad.\n",
        "\n",
        "Calcula la media y la varianza observadas.\n",
        "\n",
        "Compara tus resultados con los valores teóricos.\n",
        "\n",
        "Ajusta un nuevo valor de lambda y repite los pasos anteriores. ¿Cómo cambia la distribución?"
      ],
      "metadata": {
        "id": "bimKEtRUvKWa"
      },
      "id": "bimKEtRUvKWa"
    },
    {
      "cell_type": "code",
      "source": [
        "# Paso 1: Simular\n",
        "set.seed(456)\n",
        "tiempos <- rexp(n = 300, rate = 0.25)\n",
        "df_tiempos <- data.frame(tiempo = tiempos)\n",
        "\n",
        "# Paso 2: Visualizar\n",
        "\n",
        "\n",
        "\n",
        "# Paso 3: Estadísticos\n",
        "\n",
        "\n",
        "\n"
      ],
      "metadata": {
        "id": "hDJSzl4OvViu"
      },
      "id": "hDJSzl4OvViu",
      "execution_count": 8,
      "outputs": []
    },
    {
      "cell_type": "code",
      "source": [
        "# valor distinto de la tasa:\n",
        "\n",
        "# Paso 1: Simular\n",
        "set.seed(456)\n",
        "tiempos <- rexp(n = 300, rate = 0.75)\n",
        "df_tiempos <- data.frame(tiempo = tiempos)\n",
        "\n",
        "# Paso 2: Visualizar\n",
        "\n",
        "\n",
        "\n",
        "\n",
        "# Paso 3: Estadísticos\n",
        "\n",
        "\n",
        "\n"
      ],
      "metadata": {
        "id": "YnulPdoxAGzY"
      },
      "id": "YnulPdoxAGzY",
      "execution_count": 9,
      "outputs": []
    },
    {
      "cell_type": "markdown",
      "source": [
        "# Evaluación final\n",
        "\n"
      ],
      "metadata": {
        "id": "gbOMFFXb1esC"
      },
      "id": "gbOMFFXb1esC"
    },
    {
      "cell_type": "code",
      "source": [
        "# ================================\n",
        "# EJERCICIOS CON EL CONJUNTO DE DATOS DE DIABETES\n",
        "# ================================\n",
        "\n",
        "# Cargar librerías necesarias\n",
        "# (Ya deberían estar instaladas si vienes de la sección anterior)\n",
        "library(VIM)\n",
        "library(dplyr)\n",
        "library(ggplot2)\n",
        "library(tidyr)\n",
        "library(tibble)\n",
        "library(mlbench)\n",
        "library(forcats)\n",
        "library(janitor)\n",
        "\n",
        "# ===================================\n",
        "# EJERCICIO 1: Cargar y explorar el dataset\n",
        "# ===================================\n",
        "# Carga el dataset `PimaIndiansDiabetes` y explóralo con `glimpse()`\n",
        "\n",
        "# Código base:\n",
        "data(PimaIndiansDiabetes)\n",
        "df <- as.data.frame(PimaIndiansDiabetes)\n",
        "\n",
        "# TU CÓDIGO:\n",
        "# glimpse( ... )\n",
        "\n",
        "\n",
        "# ===================================\n",
        "# EJERCICIO 2: Limpieza de datos\n",
        "# ===================================\n",
        "# Reemplaza los valores 0 por NA en las variables: glucose, pressure y mass\n",
        "\n",
        "# TU CÓDIGO:\n",
        "# df <- df %>%\n",
        "#   mutate(\n",
        "#     glucose = ...,\n",
        "#     pressure = ...,\n",
        "#     mass = ...\n",
        "#   )\n",
        "\n",
        "\n",
        "# ===================================\n",
        "# EJERCICIO 3: Imputación de datos con ridge\n",
        "# ===================================\n",
        "# Imputa los valores faltantes de las variables numéricas usando ridge regression\n",
        "# Usa la función `empire::estimate_ridge`\n",
        "\n",
        "# Selección previa:\n",
        "df_numerico <- df %>% select_if(is.numeric)\n",
        "\n",
        "# TU CÓDIGO:\n",
        "# df_imputado <- empire::estimate_ridge(...)\n",
        "\n",
        "\n",
        "# ===================================\n",
        "# EJERCICIO 4: Filtrado de mujeres embarazadas\n",
        "# ===================================\n",
        "# Filtra el dataset para quedarte solo con mujeres con al menos 1 embarazo\n",
        "\n",
        "# TU CÓDIGO:\n",
        "# df_embarazadas <- df %>%\n",
        "#   filter(...)\n",
        "\n",
        "\n",
        "# ===================================\n",
        "# EJERCICIO 5: Crear variable estandarizada de BMI\n",
        "# ===================================\n",
        "# Crea una nueva variable `mass_z` que estandarice la variable `mass` (z-score)\n",
        "\n",
        "# TU CÓDIGO:\n",
        "# df_embarazadas <- df_embarazadas %>%\n",
        "#   mutate(mass_z = ...)\n",
        "\n",
        "\n",
        "# ===================================\n",
        "# EJERCICIO 6: Estadística descriptiva de glucosa\n",
        "# ===================================\n",
        "# Calcula la media, mediana, desviación típica, mínimo y máximo de `glucose`\n",
        "\n",
        "# TU CÓDIGO:\n",
        "# df_embarazadas %>%\n",
        "#   summarise(\n",
        "#     media = ...,\n",
        "#     mediana = ...,\n",
        "#     sd = ...,\n",
        "#     min = ...,\n",
        "#     max = ...\n",
        "#   )\n",
        "\n",
        "\n",
        "# ===================================\n",
        "# EJERCICIO 7: Histograma con curva normal\n",
        "# ===================================\n",
        "# Dibuja el histograma de glucosa con densidad y superpone la curva normal teórica\n",
        "\n",
        "# TU CÓDIGO:\n",
        "# ggplot(...) +\n",
        "#   geom_histogram(...) +\n",
        "#   stat_function(...) +\n",
        "#   labs(...)\n",
        "\n",
        "\n",
        "# ===================================\n",
        "# EJERCICIO 8: Correlación entre glucosa y masa\n",
        "# ===================================\n",
        "# Calcula la correlación entre `glucose` y `mass`, ignorando los NA\n",
        "\n",
        "# TU CÓDIGO:\n",
        "# cor(..., use = \"complete.obs\")\n",
        "\n",
        "\n",
        "# ===================================\n",
        "# EJERCICIO 9: Crear grupos de edad\n",
        "# ===================================\n",
        "# Crea una variable `grupo_edad` con cortes: [20,30), [30,40), [40,50), [50,60)\n",
        "\n",
        "# TU CÓDIGO:\n",
        "# df_embarazadas <- df_embarazadas %>%\n",
        "#   mutate(grupo_edad = cut(...))\n",
        "\n",
        "\n",
        "# ===================================\n",
        "# EJERCICIO 10: Tabla cruzada\n",
        "# ===================================\n",
        "# Crea una tabla cruzada entre `diabetes` y `grupo_edad`\n",
        "\n",
        "# TU CÓDIGO:\n",
        "# table(..., ...)\n",
        "\n",
        "\n",
        "# ===================================\n",
        "# EJERCICIO 11: Unión con tabla externa\n",
        "# ===================================\n",
        "# Usa la tabla `recomendaciones` para añadir una columna con la recomendación\n",
        "# de salud según grupo de edad y diabetes. Usa `left_join`.\n",
        "\n",
        "recomendaciones <- tibble(\n",
        "  grupo_edad = c(\"[20,30)\", \"[30,40)\", \"[40,50)\", \"[50,60)\", \"[60,90)\"),\n",
        "  diabetes = c(\"pos\", \"neg\", \"pos\", \"neg\", \"pos\"),\n",
        "  recomendacion = c(\n",
        "    \"Revisión semestral\",\n",
        "    \"Promover actividad física\",\n",
        "    \"Controles nutricionales\",\n",
        "    \"Revisión anual\",\n",
        "    \"Seguimiento médico mensual\"\n",
        "  )\n",
        ")\n",
        "\n",
        "# TU CÓDIGO:\n",
        "# df_embarazadas <- df_embarazadas %>%\n",
        "#   left_join(...)\n",
        "\n",
        "# Visualizar resultado:\n",
        "# View(df_embarazadas)\n",
        "\n"
      ],
      "metadata": {
        "id": "47JYccbtF21L"
      },
      "id": "47JYccbtF21L",
      "execution_count": null,
      "outputs": []
    }
  ],
  "metadata": {
    "colab": {
      "provenance": [],
      "toc_visible": true,
      "include_colab_link": true
    },
    "kernelspec": {
      "name": "ir",
      "display_name": "R"
    },
    "language_info": {
      "name": "R"
    }
  },
  "nbformat": 4,
  "nbformat_minor": 5
}